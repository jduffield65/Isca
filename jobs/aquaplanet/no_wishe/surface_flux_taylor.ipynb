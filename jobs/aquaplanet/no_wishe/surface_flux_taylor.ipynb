{
 "cells": [
  {
   "cell_type": "markdown",
   "source": [
    "# Surface Flux Taylor Series\n",
    "This notebook uses output from Isca to perform taylor series decompostion on both latent and sensible heat fluxes."
   ],
   "metadata": {
    "collapsed": false
   }
  },
  {
   "cell_type": "code",
   "execution_count": 147,
   "metadata": {
    "collapsed": true,
    "ExecuteTime": {
     "end_time": "2023-10-19T13:54:03.632766Z",
     "start_time": "2023-10-19T13:54:03.459080Z"
    }
   },
   "outputs": [],
   "source": [
    "import sys\n",
    "import os\n",
    "# REMOTE - So can access functions in isca_tools which is in home/Isca directory\n",
    "# sys.path.append(os.path.join(os.environ['HOME'], 'Isca'))\n",
    "# LOCAL - So can access functions in isca_tools which is in StAndrews/Isca\n",
    "sys.path.append(os.environ['PWD'])\n",
    "import isca_tools\n",
    "from isca_tools.utils.moist_physics import lcl_temp, rh_from_sphum, saturation_vapor_pressure, mixing_ratio_from_sphum, dry_profile, moist_profile, mixing_ratio_from_partial_pressure, moist_static_energy, convection_neutral_profile, sphum_sat, clausius_clapeyron_factor\n",
    "from isca_tools.utils.radiation import frierson_net_toa_sw_dwn, get_heat_capacity\n",
    "from isca_tools.utils.constants import kappa, epsilon\n",
    "from isca_tools.utils import area_weight_mean_lat, annual_mean\n",
    "from isca_tools.utils.constants import c_p, R, R_v, kappa, L_v, c_p_water, rho_water\n",
    "import numpy as np\n",
    "import matplotlib.pyplot as plt\n",
    "import xarray as xr\n",
    "from scipy import optimize\n",
    "import copy\n",
    "from scipy.interpolate import CubicSpline\n",
    "from scipy import integrate"
   ]
  },
  {
   "cell_type": "markdown",
   "source": [
    "## Load in data"
   ],
   "metadata": {
    "collapsed": false
   }
  },
  {
   "cell_type": "code",
   "execution_count": 149,
   "outputs": [],
   "source": [
    "# Load dataset\n",
    "var_keep = ['flux_t', 'flux_lhe', 'temp', 'ps', 'sphum', 't_surf', 'w_atm', 'drag_q', 'drag_t', 'rho', 'q_atm', 'q_surf', 't_atm', 'p_atm', \n",
    "            'lwdn_sfc', 'lwup_sfc', 'swdn_sfc']\n",
    "exp_names = ['aquaplanet/no_wishe/k=1', 'aquaplanet/no_wishe/normal_wind']\n",
    "# exp_names = ['aquaplanet/no_wishe/k=1', 'aquaplanet/no_wishe/k=1_normal_drag']\n",
    "n_exp = len(exp_names)\n",
    "use_time_start = 360*2\n",
    "# only load in atmos level closest to surface, for times after spin up\n",
    "ds_base = [isca_tools.load_dataset(exp_names[i]).sel(pfull=np.inf, method='nearest')[var_keep] for i in range(n_exp)] \n",
    "for i in range(n_exp):\n",
    "    ds_base[i] = ds_base[i].sel(time=slice(use_time_start, np.inf))\n",
    "# namelist = isca_tools.load_namelist(exp_names[0])  # Need this for albedo_value\n",
    "w_atm_const = [isca_tools.load_namelist(exp_names[i])['surface_flux_nml']['w_atm_const'] for i in range(n_exp)]\n",
    "mixed_layer_depth = [isca_tools.load_namelist(exp_names[i])['mixed_layer_nml']['depth'] for i in range(n_exp)]"
   ],
   "metadata": {
    "collapsed": false,
    "ExecuteTime": {
     "end_time": "2023-10-19T13:55:29.206164Z",
     "start_time": "2023-10-19T13:55:23.300460Z"
    }
   }
  },
  {
   "cell_type": "code",
   "execution_count": null,
   "outputs": [],
   "source": [
    "# Consider a single latitude\n",
    "loc = {'lat': 90}\n",
    "ds_sl = [ds_base[i].sel(lat=loc['lat'], method='nearest').load() for i in range(n_exp)]\n",
    "ds_sl_av = [annual_mean(ds_base[i].sel(lat=loc['lat'], method='nearest')).mean(dim='lon').load() for i in range(n_exp)]\n",
    "n_year_days = 360\n",
    "time_array = np.arange(n_year_days)"
   ],
   "metadata": {
    "collapsed": false,
    "is_executing": true,
    "ExecuteTime": {
     "start_time": "2023-10-19T17:56:59.560442Z"
    }
   }
  },
  {
   "cell_type": "markdown",
   "source": [
    "## Reconstructing zonal-annual mean Surface Fluxes\n",
    "Here I compare the fluxes output by Isca, `flux_lhe` and `flux_t`, with the reconstructed fluxes found using the individual variables output from Isca.\n",
    "\n",
    "If I do all the averaging after I have multiplied the variables together (top figure), then the two fluxes match almost exactly.\n",
    "If I average the variables first and then compute the fluxes from them, then the two match less well (bottom figure).\n",
    "\n",
    "If you say do the zonal mean of the variables, compute the fluxes, and then do the time annual average on these fluxes, it is the same as if you averaged all the variables first."
   ],
   "metadata": {
    "collapsed": false
   }
  },
  {
   "cell_type": "code",
   "execution_count": null,
   "outputs": [],
   "source": [
    "default_colors = plt.rcParams['axes.prop_cycle'].by_key()['color']\n",
    "month_ticks = (np.arange(15,12*30+15,30), ['J','F','M','A','M','J','J','A','S','O','N','D'])\n",
    "exp_labels = ['no-WISHE', '']\n",
    "if 'normal_drag' in exp_names[1]:\n",
    "    exp_labels[1] = 'no-WISHE (normal drag)'\n",
    "    exp_labels[0] = 'no-WISHE (constant wind drag)'\n",
    "elif 'normal_wind' in exp_names[1]:\n",
    "    exp_labels[1] = 'WISHE'\n",
    "else:\n",
    "    raise ValueError('unsure what experiment second index refers to')\n",
    "# for ds_all in [ds_sl, ds_sl_av, [annual_mean(ds_sl[j]) for j in range(n_exp)], [ds_sl[j].mean(dim='lon') for j in range(n_exp)]]:\n",
    "for ds_all in [ds_sl, ds_sl_av]:\n",
    "    w_atm_use = [w_atm_const[i] if w_atm_const[i]>0 else ds_all[i].w_atm for i in range(n_exp)]\n",
    "    flux_lh_manual = [ds_use.drag_q * w_atm_use[i] * ds_use.rho * (ds_use.q_surf - ds_use.q_atm) * L_v for i, ds_use in enumerate(ds_all)]\n",
    "    flux_sh_manual = [ds_use.drag_t * w_atm_use[i] * ds_use.rho * (ds_use.t_surf - ds_use.t_atm * (ds_use.ps/ds_use.p_atm)**kappa) * c_p for \n",
    "                      i, ds_use in enumerate(ds_all)]\n",
    "       \n",
    "    fig, ax = plt.subplots(n_exp,2, figsize=(13, 5), sharex=True, sharey='col')\n",
    "    take_annual_mean = ds_all[0].time[-1]>n_year_days\n",
    "    take_zonal_mean = 'lon' in ds_all[0]\n",
    "    if take_zonal_mean and take_annual_mean:\n",
    "        av_func = lambda x: annual_mean(x).mean(dim='lon')\n",
    "        av_title = 'averaging done after manual computation'\n",
    "    elif take_annual_mean:\n",
    "        av_func = lambda x: annual_mean(x)\n",
    "        av_title = 'zonal averaging done on dataset variables prior to manual computation' \n",
    "    elif take_zonal_mean:\n",
    "        av_func = lambda x: x.mean(dim='lon')\n",
    "        av_title = 'temporal averaging done on dataset variables prior to manual computation' \n",
    "    else:\n",
    "        av_func = lambda x: x\n",
    "        av_title = 'averaging done on dataset variables prior to manual computation' \n",
    "    for i, ds_use in enumerate(ds_all):\n",
    "        ax[i, 0].spines[['top', 'right']].set_visible(False)\n",
    "        ax[i, 1].spines[['top', 'right']].set_visible(False)\n",
    "        ax[i, 0].plot(time_array, av_func(ds_use.flux_lhe), color='k', linestyle=':', label='Isca Output')\n",
    "        ax[i, 0].plot(time_array, av_func(flux_lh_manual[i]), alpha=0.5, color=default_colors[i], label='Manual Computation')\n",
    "        \n",
    "        ax[i, 1].plot(time_array, av_func(ds_use.flux_t), color='k', linestyle=':')\n",
    "        ax[i, 1].plot(time_array, av_func(flux_sh_manual[i]), alpha=0.5, color=default_colors[i])\n",
    "        # ax[i, 1].plot(time_array, flux_sh_manual2[i], alpha=0.5)\n",
    "        \n",
    "        # ax[1].plot(ds.time, ds.flux_t, color='k', linestyle=':')\n",
    "        # ax[1].plot(ds.time, flux_sh_manual, alpha=0.5)\n",
    "        # ax[1].plot(ds.time, flux_sh_manual2, alpha=0.5)\n",
    "    ax[0, 0].legend(frameon=False)\n",
    "    ax[0, 0].set_title('Latent Heat')\n",
    "    ax[0, 1].set_title('Sensible Heat')\n",
    "    ax[0, 0].set_xticks(*month_ticks)\n",
    "    ax[0, 0].set_xlim(0, n_year_days)\n",
    "    plt.figtext(0.48,0.93, exp_labels[0], ha=\"center\", va=\"top\", fontsize=14, color=default_colors[0], fontweight='bold')\n",
    "    plt.figtext(0.48,0.46, exp_labels[1], ha=\"center\", va=\"top\", fontsize=14, color=default_colors[1], fontweight='bold')\n",
    "    fig.supylabel('Flux [Wm$^{-2}$]')\n",
    "    fig.suptitle(f\"Annual and Zonal mean at $\\phi={round(float(ds_sl_av[0].lat), 1)}\\degree$ ({av_title})\")\n",
    "    # ax[0].set_ylabel('Flux [W/m$^2$]')\n",
    "    # fig.supxlabel('Time [days]')\n",
    "    # fig.suptitle(f\"Lat = {loc_use['lat']}$\\degree$; Lon = {loc_use['lon']}$\\degree$\")\n",
    "    plt.tight_layout()"
   ],
   "metadata": {
    "collapsed": false,
    "is_executing": true
   }
  },
  {
   "cell_type": "markdown",
   "source": [
    "## Temperature Dependence of Fluxes\n",
    "Look whether removing WISHE affects the temperature dependence of the fluxes."
   ],
   "metadata": {
    "collapsed": false
   }
  },
  {
   "cell_type": "code",
   "execution_count": null,
   "outputs": [],
   "source": [
    "fig, ax = plt.subplots(1,3, figsize=(13, 5), sharex=True)\n",
    "ax[0].spines[['top', 'right']].set_visible(False)\n",
    "ax[1].spines[['top', 'right']].set_visible(False)\n",
    "ax[2].spines[['top', 'right']].set_visible(False)\n",
    "for i in range(n_exp):\n",
    "    ax[0].scatter(ds_sl_av[i].t_surf, ds_sl_av[i].flux_lhe, color=default_colors[i], label=exp_labels[i])\n",
    "    ax[1].scatter(ds_sl_av[i].t_surf, ds_sl_av[i].flux_t, color=default_colors[i])\n",
    "    ax[2].scatter(ds_sl_av[i].t_surf, ds_sl_av[i].lwup_sfc - ds_sl_av[i].lwdn_sfc, color=default_colors[i])\n",
    "ax[0].legend(frameon=False)\n",
    "ax[0].set_ylabel('Latent Heat [Wm$^{-2}$]')\n",
    "ax[1].set_ylabel('Sensible Heat [Wm$^{-2}$]')\n",
    "ax[2].set_ylabel('Net upward Longwave [Wm$^{-2}$]')\n",
    "fig.supxlabel('Surface Temperature [K]')\n",
    "fig.suptitle(f'Annual and Zonal mean at $\\phi={round(float(ds_sl_av[0].lat), 1)}\\degree$')\n",
    "plt.tight_layout();"
   ],
   "metadata": {
    "collapsed": false,
    "is_executing": true
   }
  },
  {
   "cell_type": "markdown",
   "source": [
    "## Latent Heat Taylor Series\n",
    "The equation for latent heat is $LH = L_v C_q\\rho_a |v|(q_s - q_a)$, where $\\rho_a = \\frac{p_a}{RT_{a_v}}$ and $T_{a_v} = (1+\\frac{1-\\epsilon}{\\epsilon}q_{a})T_{a}$ is the virtual temperature. $a$ indicates the lowest level of the atmosphere and $s$ indicates the surface. It is shown by the blue line below.\n",
    "\n",
    "Ignoring the virtual temperature correction, this becomes: $LH \\approx L_v C_q\\frac{p_{a}}{RT_{a}} |v|(q_{s} - q_{a})$, and is shown by the orange line below.\n",
    "\n",
    "If we substitute $q_{s} = q^*(T_{s}, p_s)$, we get the green line.\n",
    "\n",
    "If do a taylor series expansion of $q^*(T_a, p_a)$ about $T_s$ and $p_s$, we get $q_a = r_aq^*(T_a, p_a) \\approx r_aq^*(T_s, p_s)(1+\\alpha_sT_{a-s})$ where $T_{a-s} = T_a - T_s$ and $r_a$ is the relative humidity. \n",
    "From this, we then have $LH \\approx L_v C_q\\frac{p_{a}}{RT_{a}} |v|q^*_s(1 - r_a(1+\\alpha_sT_{a-s}))$ which is shown by the red line below.\n",
    "\n",
    "Clearly from the plot below, these approximations are all very good. It gives us an expression for latent heat which depends on 7 variables: $p_s$, $p_{a}$, $r_a$, $T_s$, $T_{a-s}$, $|v|$ and $C_q$.\n",
    "$$LH \\approx L_v C_q\\frac{p_{a}}{R(T_{s}+T_{a-s})} |v|q^*(T_s, p_s)\\big(1 - r_a(1+\\alpha(T_s, p_s)T_{a-s})\\big)$$"
   ],
   "metadata": {
    "collapsed": false
   }
  },
  {
   "cell_type": "code",
   "execution_count": null,
   "outputs": [],
   "source": [
    "exp_ind_use = 0\n",
    "ds_use = ds_sl_av[exp_ind_use]\n",
    "w_atm_use_taylor = w_atm_use[exp_ind_use]\n",
    "flux_lh_manual2 = ds_use.drag_q * w_atm_use_taylor * (ds_use.p_atm/(R*ds_use.t_atm)) * (ds_use.q_surf - ds_use.q_atm) * L_v\n",
    "flux_lh_manual3 = ds_use.drag_q * w_atm_use_taylor * (ds_use.p_atm/(R*ds_use.t_atm)) * (sphum_sat(ds_use.t_surf, ds_use.ps) - ds_use.q_atm) * L_v\n",
    "r_a = ds_use.q_atm / sphum_sat(ds_use.t_atm, ds_use.p_atm)\n",
    "alpha_s_full = clausius_clapeyron_factor(ds_use.t_surf, ds_use.ps)\n",
    "t_a_s = ds_use.t_atm - ds_use.t_surf\n",
    "flux_lh_manual4 = ds_use.drag_q * w_atm_use_taylor * (ds_use.p_atm/(R*ds_use.t_atm)) * sphum_sat(ds_use.t_surf, ds_use.ps) * \\\n",
    "                  (1 - r_a * (1+alpha_s_full*t_a_s)) * L_v\n",
    "\n",
    "fig, ax = plt.subplots(1,1, figsize=(13, 4))\n",
    "ax.spines[['top', 'right']].set_visible(False)\n",
    "ax.plot(time_array, ds_use.flux_lhe, color='k', linestyle=':', label='Isca Output')\n",
    "ax.plot(time_array, flux_lh_manual[exp_ind_use], color=default_colors[0], label='Manual Computation')\n",
    "ax.plot(time_array, flux_lh_manual2, color=default_colors[1], alpha=0.5, label='Ignore virtual temperature')\n",
    "ax.plot(time_array, flux_lh_manual3, color=default_colors[2], alpha=0.5, label='$q_{s} = q^*(T_s)$')\n",
    "ax.plot(time_array, flux_lh_manual4, color=default_colors[3], alpha=0.5, label='$q_{a}$ taylor expansion')\n",
    "ax.set_xticks(*month_ticks)\n",
    "ax.set_xlim(0, n_year_days)\n",
    "ax.set_ylabel('Latent Heat [Wm$^{-2}$]')\n",
    "ax.legend(frameon=False)\n",
    "ax.set_title(f\"{exp_labels[exp_ind_use]}: Annual and Zonal mean at $\\phi={round(float(ds_sl_av[0].lat), 1)}\\degree$\")\n",
    "plt.tight_layout()"
   ],
   "metadata": {
    "collapsed": false,
    "is_executing": true
   }
  },
  {
   "cell_type": "markdown",
   "source": [
    "### Final Approximation\n",
    "The plots below show that $q^*(T_s, p_s) \\approx q^*(T_s, \\overline{p_s})$ and $\\alpha(T_s, p_s) \\approx \\alpha(T_s, \\overline{p_s})$, where $\\overline{p_s}$ is the average of surface pressure over all time. This helps simplify further by eliminating the $p_s$ dependence so there are now only 6 variables:\n",
    "$$LH \\approx L_v C_q\\frac{p_{a}}{R(T_{s}+T_{a-s})} |v|q^*(T_s)\\big(1 - r_a(1+\\alpha(T_s)T_{a-s})\\big)$$\n",
    "This final approximation is shown below in orange."
   ],
   "metadata": {
    "collapsed": false
   }
  },
  {
   "cell_type": "code",
   "execution_count": null,
   "outputs": [],
   "source": [
    "fig, ax = plt.subplots(1,2, figsize=(13, 4), sharex=True)\n",
    "ax[0].spines[['top', 'right']].set_visible(False)\n",
    "ax[1].spines[['top', 'right']].set_visible(False)\n",
    "ax[0].plot(time_array, 100*(sphum_sat(ds_use.t_surf, ds_use.ps)-sphum_sat(ds_use.t_surf, ds_use.ps.mean()))/sphum_sat(ds_use.t_surf, ds_use.ps))\n",
    "ax[1].plot(time_array, 100*(clausius_clapeyron_factor(ds_use.t_surf, ds_use.ps)-clausius_clapeyron_factor(ds_use.t_surf, ds_use.ps.mean()))\n",
    "           /clausius_clapeyron_factor(ds_use.t_surf, ds_use.ps))\n",
    "ax[0].set_xticks(*month_ticks)\n",
    "ax[0].set_xlim(0, n_year_days)\n",
    "ax[0].set_ylabel('$q^*(T_s, p_s) - q^*(T_s, \\overline{p_s}) [\\%]$')\n",
    "ax[1].set_ylabel('$\\\\alpha(T_s, p_s) - \\\\alpha(T_s, \\overline{p_s}) [\\%]$')\n",
    "fig.suptitle(f\"{exp_labels[exp_ind_use]}: Annual and Zonal mean at $\\phi={round(float(ds_sl_av[0].lat), 1)}\\degree$\")\n",
    "plt.tight_layout()"
   ],
   "metadata": {
    "collapsed": false,
    "is_executing": true
   }
  },
  {
   "cell_type": "code",
   "execution_count": null,
   "outputs": [],
   "source": [
    "def lh_approx(ds_use, ps, w_a):\n",
    "    # ds_use - dataset at a single latitude and longitude, with n_year_days values for each variable\n",
    "    # ps - [float] surface pressure in Pa\n",
    "    # w_a - [float or DataArray of size n_year_days] lowest level atmospheric wind speed to use. Either constant or one value for each time.\n",
    "    alpha_s = clausius_clapeyron_factor(ds_use.t_surf, ps)\n",
    "    r_a = ds_use.q_atm / sphum_sat(ds_use.t_atm, ds_use.p_atm)\n",
    "    t_a_s = ds_use.t_atm - ds_use.t_surf\n",
    "    return L_v * ds_use.drag_q * w_a * (ds_use.p_atm/(R*ds_use.t_atm)) * sphum_sat(ds_use.t_surf, ps) * (1 - r_a * (1+alpha_s*t_a_s))\n",
    "\n",
    "def lh_approx_mean(ds_mean, ps, w_a_mean, r_a_mean, t_a_s_mean):\n",
    "    alpha_s_mean = clausius_clapeyron_factor(ds_mean.t_surf, ps)\n",
    "    return L_v * ds_mean.drag_q * w_a_mean * (ds_mean.p_atm/(R*(ds_mean.t_surf+t_a_s_mean))) * sphum_sat(ds_mean.t_surf, ps) * (\n",
    "            1 - r_a_mean * (1+alpha_s_mean*t_a_s_mean))\n",
    "\n",
    "fig_lh_approx, ax = plt.subplots(1,1, figsize=(13, 4))\n",
    "ax.spines[['top', 'right']].set_visible(False)\n",
    "ax.plot(time_array, ds_use.flux_lhe, color='k', linestyle=':', label='Isca Output')\n",
    "ax.plot(time_array, flux_lh_manual[exp_ind_use], color=default_colors[0], label='Manual Computation')\n",
    "ax.plot(time_array, lh_approx(ds_use, ds_use.ps.mean(), w_atm_use_taylor), color=default_colors[1], alpha=0.8, label='Final Approximation')\n",
    "ax.legend(frameon=False)\n",
    "ax.set_xticks(*month_ticks)\n",
    "ax.set_xlim(0, n_year_days)\n",
    "ax.set_ylabel('Latent Heat [Wm$^{-2}$]')\n",
    "ax.set_title(f\"{exp_labels[exp_ind_use]}: Annual and Zonal mean at $\\phi={round(float(ds_sl_av[0].lat), 1)}\\degree$\")\n",
    "plt.tight_layout()"
   ],
   "metadata": {
    "collapsed": false,
    "is_executing": true
   }
  },
  {
   "cell_type": "markdown",
   "source": [
    "### Latent Heat Decomposition\n",
    "Diagnose the variables which give the major contributions to the variation in latent heat, through a taylor series analysis."
   ],
   "metadata": {
    "collapsed": false
   }
  },
  {
   "cell_type": "code",
   "execution_count": null,
   "outputs": [],
   "source": [
    "def lh_taylor_decomp(ds_use, ps, w_a, mean_axis=None, include_three_var_terms=False):\n",
    "    if isinstance(w_a, float):\n",
    "        w_a_mean = w_a\n",
    "    else:\n",
    "        w_a_mean = w_a.mean(axis=mean_axis)\n",
    "    \n",
    "    var = {'t_s': ds_use.t_surf, 't_a_s': ds_use.t_atm - ds_use.t_surf, 'r_a': ds_use.q_atm / sphum_sat(ds_use.t_atm, ds_use.p_atm), \n",
    "           'p_a': ds_use.p_atm, 'drag_q': ds_use.drag_q, 'w_a': w_a}\n",
    "    var_mean = {key: var[key] if isinstance(var[key], float) else float(var[key].mean(axis=mean_axis)) for key in var}\n",
    "    var_delta = {key: var[key] - var_mean[key] for key in var}\n",
    "    alpha_s_mean = clausius_clapeyron_factor(var_mean['t_s'], ps)\n",
    "    lh_mean = float(lh_approx_mean(ds_use.mean(), ps, w_a_mean, var_mean['r_a'], var_mean['t_a_s']))\n",
    "    \n",
    "    lh_taylor_coefs = {}\n",
    "    lh_taylor_terms = {}\n",
    "    q_s_mean = sphum_sat(var_mean['t_s'], ps)\n",
    "    pre_factor_mean = L_v * var_mean['drag_q'] * var_mean['w_a'] * var_mean['p_a']/(R*(var_mean['t_s']+var_mean['t_a_s']))\n",
    "    \n",
    "    # Full form\n",
    "    # lh_taylor_coefs['t_s'] = lh_mean * (alpha_s_mean - 1/(var_mean['t_s']+var_mean['t_a_s'])\n",
    "    #                                     ) + 2*alpha_s_mean * var_mean['r_a'] * var_mean['t_a_s'] / var_mean['t_s'] * pre_factor_mean * q_s_mean\n",
    "    # Simple form\n",
    "    lh_taylor_coefs['t_s'] = lh_mean * (alpha_s_mean - 1/(var_mean['t_s']+var_mean['t_a_s']))\n",
    "    # From simpler t_s form\n",
    "    lh_taylor_coefs['t_s_squared'] = lh_mean * ((alpha_s_mean - 1/(var_mean['t_s']+var_mean['t_a_s']))**2 + \n",
    "                                                (1/(var_mean['t_s']+var_mean['t_a_s'])**2 - 2*alpha_s_mean/var_mean['t_s']))\n",
    "    \n",
    "    lh_taylor_coefs['r_a'] = -pre_factor_mean * q_s_mean * (1+alpha_s_mean*var_mean['t_a_s'])\n",
    "    lh_taylor_coefs['t_a_s'] = -lh_mean/(var_mean['t_s']+var_mean['t_a_s'])-var_mean['r_a']*alpha_s_mean*pre_factor_mean*q_s_mean\n",
    "    for key in ['drag_q', 'p_a', 'w_a']:\n",
    "        lh_taylor_coefs[key] = lh_mean/var_mean[key]\n",
    "        \n",
    "    lh_taylor_coefs['t_s_r_a'] = lh_taylor_coefs['t_s']/lh_mean * lh_taylor_coefs['r_a']\n",
    "    lh_taylor_coefs['t_s_squared_r_a'] = lh_taylor_coefs['t_s_squared']/lh_mean * lh_taylor_coefs['r_a']\n",
    "    lh_taylor_coefs['t_s_t_a_s'] = lh_mean/(var_mean['t_s']+var_mean['t_a_s'])**2 + (\n",
    "            alpha_s_mean - 1/(var_mean['t_s']+var_mean['t_a_s'])) * lh_taylor_coefs['t_a_s']\n",
    "    lh_taylor_coefs['t_s_squared_t_a_s'] = lh_mean * (2/(var_mean['t_s']+var_mean['t_a_s'])**2 * (alpha_s_mean - 1/(var_mean['t_s']+var_mean['t_a_s'])) - \n",
    "                                                      2/(var_mean['t_s']+var_mean['t_a_s'])**3) + \\\n",
    "                                           lh_taylor_coefs['t_a_s']/lh_mean * lh_taylor_coefs['t_s_squared']\n",
    "    lh_taylor_coefs['r_a_t_a_s'] = -lh_taylor_coefs['r_a']/(var_mean['t_s']+var_mean['t_a_s']) - alpha_s_mean * pre_factor_mean * q_s_mean\n",
    "    \n",
    "    lh_taylor_coefs['t_s_drag_q'] = lh_taylor_coefs['t_s'] / var_mean['drag_q']\n",
    "    lh_taylor_coefs['t_a_s_drag_q'] = lh_taylor_coefs['t_a_s'] / var_mean['drag_q']\n",
    "    lh_taylor_coefs['r_a_drag_q'] = lh_taylor_coefs['r_a'] / var_mean['drag_q']\n",
    "    lh_taylor_coefs['t_s_squared_drag_q'] = lh_taylor_coefs['t_s_squared'] / var_mean['drag_q']\n",
    "    \n",
    "    lh_taylor_coefs['t_s_w_a'] = lh_taylor_coefs['t_s']/var_mean['w_a']\n",
    "    lh_taylor_coefs['t_s_squared_w_a'] = lh_taylor_coefs['t_s_squared']/var_mean['w_a']\n",
    "    lh_taylor_coefs['r_a_w_a'] = lh_taylor_coefs['r_a']/var_mean['w_a']\n",
    "    lh_taylor_coefs['t_a_s_w_a'] = lh_taylor_coefs['t_a_s']/var_mean['w_a']\n",
    "    \n",
    "    lh_taylor_coefs['t_s_cubed'] = lh_mean * (6*alpha_s_mean/var_mean['t_s']**2 - 2/(var_mean['t_s']+var_mean['t_a_s'])**3 + \n",
    "                                              2*(alpha_s_mean - 1/(var_mean['t_s']+var_mean['t_a_s']))*\n",
    "                                              (1/(var_mean['t_s']+var_mean['t_a_s'])**2-2*alpha_s_mean/var_mean['t_s'])) + \\\n",
    "                                   lh_taylor_coefs['t_s_squared']/lh_mean * lh_taylor_coefs['t_s']\n",
    "    lh_taylor_coefs['t_s_cubed_r_a'] = lh_taylor_coefs['t_s_cubed']/lh_mean * lh_taylor_coefs['r_a']\n",
    "    lh_taylor_coefs['t_s_cubed_t_a_s'] = lh_taylor_coefs['t_a_s'] * (6*alpha_s_mean/var_mean['t_s']**2 - 2/(var_mean['t_s']+var_mean['t_a_s'])**3 + \n",
    "                                              2*(alpha_s_mean - 1/(var_mean['t_s']+var_mean['t_a_s']))*\n",
    "                                              (1/(var_mean['t_s']+var_mean['t_a_s'])**2-2*alpha_s_mean/var_mean['t_s'])) + lh_mean * (\n",
    "        6/(var_mean['t_s']+var_mean['t_a_s'])**4 + 2/(var_mean['t_s']+var_mean['t_a_s'])**2 * (1/(var_mean['t_s']+var_mean['t_a_s'])**2 -\n",
    "                                                                                               2*alpha_s_mean/var_mean['t_s']) \n",
    "        - 4/(var_mean['t_s']+var_mean['t_a_s'])**3 * (alpha_s_mean - 1/(var_mean['t_s']+var_mean['t_a_s']))\n",
    "    ) + 1/lh_mean * (-1/lh_mean * lh_taylor_coefs['t_s_squared'] * lh_taylor_coefs['t_s'] * lh_taylor_coefs['t_a_s'] + \n",
    "                    lh_taylor_coefs['t_s_squared_t_a_s']*lh_taylor_coefs['t_s'] + lh_taylor_coefs['t_s_squared'] * lh_taylor_coefs['t_s_t_a_s'])\n",
    "    lh_taylor_coefs['t_s_cubed_w_a'] = lh_taylor_coefs['t_s_cubed'] / var_mean['w_a']\n",
    "    lh_taylor_coefs['t_s_cubed_drag_q'] = lh_taylor_coefs['t_s_cubed'] / var_mean['drag_q']\n",
    "    \n",
    "    lh_taylor_coefs['drag_q_w_a'] = lh_taylor_coefs['drag_q'] / var_mean['w_a']\n",
    "    \n",
    "    if include_three_var_terms:\n",
    "        lh_taylor_coefs['t_s_r_a_drag_q'] = lh_taylor_coefs['t_s_r_a'] / var_mean['drag_q']\n",
    "        lh_taylor_coefs['t_s_t_a_s_drag_q'] = lh_taylor_coefs['t_s_t_a_s'] / var_mean['drag_q']\n",
    "        lh_taylor_coefs['t_s_squared_r_a_drag_q'] = lh_taylor_coefs['t_s_squared_r_a'] / var_mean['drag_q']\n",
    "        lh_taylor_coefs['t_s_squared_t_a_s_drag_q'] = lh_taylor_coefs['t_s_squared_t_a_s'] / var_mean['drag_q']\n",
    "        lh_taylor_coefs['t_s_cubed_r_a_drag_q'] = lh_taylor_coefs['t_s_cubed_r_a'] / var_mean['drag_q']\n",
    "    \n",
    "    \n",
    "    var_delta['t_s_squared'] = 0.5 * var_delta['t_s']**2\n",
    "    var_delta['t_s_r_a'] = var_delta['t_s'] * var_delta['r_a']\n",
    "    var_delta['t_s_squared_r_a'] = 0.5 * var_delta['t_s']**2 * var_delta['r_a']\n",
    "    var_delta['t_s_t_a_s'] = var_delta['t_s'] * var_delta['t_a_s']\n",
    "    var_delta['t_s_squared_t_a_s'] = 0.5 * var_delta['t_s']**2 * var_delta['t_a_s']\n",
    "    var_delta['r_a_t_a_s'] = var_delta['r_a'] * var_delta['t_a_s']\n",
    "    var_delta['t_s_drag_q'] = var_delta['t_s'] * var_delta['drag_q']\n",
    "    var_delta['t_a_s_drag_q'] = var_delta['t_a_s'] * var_delta['drag_q']\n",
    "    var_delta['r_a_drag_q'] = var_delta['r_a'] * var_delta['drag_q']\n",
    "    var_delta['t_s_squared_drag_q'] = 0.5 * var_delta['t_s']**2 * var_delta['drag_q']\n",
    "    var_delta['t_s_w_a'] = var_delta['t_s'] * var_delta['w_a']\n",
    "    var_delta['t_s_squared_w_a'] = 0.5 * var_delta['t_s']**2 * var_delta['w_a']\n",
    "    var_delta['r_a_w_a'] = var_delta['r_a'] * var_delta['w_a']\n",
    "    var_delta['t_a_s_w_a'] = var_delta['t_a_s'] * var_delta['w_a']\n",
    "    var_delta['t_s_cubed'] = 1/6 * var_delta['t_s']**3\n",
    "    var_delta['t_s_cubed_r_a'] = 1/6 * var_delta['t_s']**3 * var_delta['r_a']\n",
    "    var_delta['t_s_cubed_t_a_s'] = 1/6 * var_delta['t_s']**3 * var_delta['t_a_s']\n",
    "    var_delta['t_s_cubed_w_a'] = 1/6 * var_delta['t_s']**3 * var_delta['w_a']\n",
    "    var_delta['t_s_cubed_drag_q'] = 1/6 * var_delta['t_s']**3 * var_delta['drag_q']\n",
    "    var_delta['drag_q_w_a'] = var_delta['drag_q'] * var_delta['w_a']\n",
    "    var_delta['t_s_r_a_drag_q'] = var_delta['t_s'] * var_delta['r_a'] * var_delta['drag_q']\n",
    "    var_delta['t_s_t_a_s_drag_q'] = var_delta['t_s'] * var_delta['t_a_s'] * var_delta['drag_q']\n",
    "    var_delta['t_s_squared_r_a_drag_q'] = 0.5 * var_delta['t_s']**2 * var_delta['r_a'] * var_delta['drag_q']\n",
    "    var_delta['t_s_squared_t_a_s_drag_q'] = 0.5 * var_delta['t_s']**2 * var_delta['t_a_s'] * var_delta['drag_q']\n",
    "    var_delta['t_s_cubed_r_a_drag_q'] = 1/6 * var_delta['t_s']**3 * var_delta['r_a'] * var_delta['drag_q']\n",
    "    for key in lh_taylor_coefs:\n",
    "        lh_taylor_terms[key] = var_delta[key] * lh_taylor_coefs[key]\n",
    "    return lh_mean, lh_taylor_terms\n",
    "    \n",
    "include_three_var = False\n",
    "lh_sv_mean, lh_sv_taylor_terms = lh_taylor_decomp(ds_use, ds_use.ps.mean(), w_atm_use_taylor, include_three_var_terms=include_three_var) "
   ],
   "metadata": {
    "collapsed": false,
    "is_executing": true
   }
  },
  {
   "cell_type": "code",
   "execution_count": null,
   "outputs": [],
   "source": [
    "fig, ax = plt.subplots(4+int(include_three_var) if exp_labels[exp_ind_use] == 'WISHE' else 3+int(include_three_var), 1, figsize=(13, 8), \n",
    "                       sharex=True, sharey=True)\n",
    "first_plot_names = ['drag_q', 'p_a', 'r_a', 't_a_s', 't_s', 't_s_squared', 'w_a']\n",
    "three_var_names = ['t_s_r_a_drag_q', 't_s_t_a_s_drag_q', 't_s_squared_r_a_drag_q', 't_s_squared_t_a_s_drag_q', 't_s_cubed_r_a_drag_q']\n",
    "min_plot_val = 3                # only show terms where max contribution is more than 5 W/m^2\n",
    "color_ind = [-1] * len(ax)      # so color of given term is always the same (as sometimes term will be ignored)\n",
    "for key in lh_sv_taylor_terms:\n",
    "    if 'w_a' in key:\n",
    "        ax_ind = -1\n",
    "    elif key in first_plot_names:\n",
    "        ax_ind = 0\n",
    "    elif key in three_var_names:\n",
    "        ax_ind = 3\n",
    "    elif 'cubed' in key:\n",
    "        ax_ind = 2\n",
    "    else:\n",
    "        ax_ind = 1\n",
    "    if 'w_a' in key and exp_labels[exp_ind_use] != 'WISHE':\n",
    "        continue\n",
    "    color_ind[ax_ind] += 1\n",
    "    if np.abs(lh_sv_taylor_terms[key]).max() > min_plot_val:\n",
    "        ax[ax_ind].plot(time_array, lh_sv_taylor_terms[key], label=key, color=default_colors[color_ind[ax_ind]])\n",
    "for i in range(len(ax)):\n",
    "    ax[i].spines[['top', 'right']].set_visible(False)\n",
    "    ax[i].legend(fontsize=7, loc='upper right', edgecolor='white', framealpha=1)\n",
    "    ax[i].hlines(0, 0, 360, color='k', lw=0.1)\n",
    "ax[-1].set_xticks(*month_ticks)\n",
    "ax[-1].set_xlim(0, n_year_days)\n",
    "fig.supylabel('LH Anomalous Contribution [Wm$^{-2}$]')\n",
    "ax[0].set_title(f\"{exp_labels[exp_ind_use]}: Annual and Zonal mean at $\\phi={round(float(ds_sl_av[0].lat), 1)}\\degree$\")\n",
    "plt.tight_layout()"
   ],
   "metadata": {
    "collapsed": false,
    "is_executing": true
   }
  },
  {
   "cell_type": "code",
   "execution_count": null,
   "outputs": [],
   "source": [
    "fig = copy.deepcopy(fig_lh_approx)\n",
    "ax = fig.gca()\n",
    "ax.plot(lh_sv_mean+sum(lh_sv_taylor_terms.values()), label='Sum of Taylor Terms', color=default_colors[2], alpha=0.5)\n",
    "ax.legend(frameon=False)\n",
    "fig\n",
    "# plt.plot(flux_lh_manual4)\n",
    "# plt.plot(a[0]+sum(a[1].values()))\n",
    "# plt.plot(2*(ds_use.t_surf - ds_use.t_surf.mean()))"
   ],
   "metadata": {
    "collapsed": false,
    "is_executing": true
   }
  },
  {
   "cell_type": "markdown",
   "source": [
    "### Correlation of relative humidity with surface temperature"
   ],
   "metadata": {
    "collapsed": false
   }
  },
  {
   "cell_type": "code",
   "execution_count": null,
   "outputs": [],
   "source": [
    "fig, ax = plt.subplots(1,1, figsize=(13, 4))\n",
    "ax.plot(time_array, 100*ds_use.q_atm/sphum_sat(ds_use.t_atm, ds_use.p_atm))\n",
    "ax2 = ax.twinx()\n",
    "ax2.plot(time_array, ds_use.t_surf, color=default_colors[1])\n",
    "ax.set_xticks(*month_ticks)\n",
    "ax.set_xlim(0, n_year_days)\n",
    "ax.set_ylabel('RH [%]', color=default_colors[0])\n",
    "ax2.set_ylabel('Surface temperature [K]', color=default_colors[1])\n",
    "plt.tight_layout()"
   ],
   "metadata": {
    "collapsed": false,
    "is_executing": true
   }
  },
  {
   "cell_type": "markdown",
   "source": [
    "### Correlation of relative humidity with specific humidity\n",
    "Relative humidity seems to get very high, even exceeding 100%, when specific humidity is very small in winter."
   ],
   "metadata": {
    "collapsed": false
   }
  },
  {
   "cell_type": "code",
   "execution_count": null,
   "outputs": [],
   "source": [
    "fig, ax = plt.subplots(1,1, figsize=(13, 4))\n",
    "ax.plot(time_array, 100*ds_use.q_atm/sphum_sat(ds_use.t_atm, ds_use.p_atm))\n",
    "ax2 = ax.twinx()\n",
    "ax2.plot(time_array, ds_use.q_atm, color=default_colors[1])\n",
    "ax.set_xticks(*month_ticks)\n",
    "ax.set_xlim(0, n_year_days)\n",
    "ax.set_ylabel('RH [%]', color=default_colors[0])\n",
    "ax2.set_ylabel('Specific Humidity [kg/kg]', color=default_colors[1])\n",
    "plt.tight_layout()"
   ],
   "metadata": {
    "collapsed": false,
    "is_executing": true
   }
  },
  {
   "cell_type": "markdown",
   "source": [
    "### Correlation of relative humidity with $T_{a-s}$\n"
   ],
   "metadata": {
    "collapsed": false
   }
  },
  {
   "cell_type": "code",
   "execution_count": null,
   "outputs": [],
   "source": [
    "# Plot to see whether relative humidity and T_{a-s} are correlated\n",
    "plt.scatter(ds_use.t_atm-ds_use.t_surf, 100*ds_use.q_atm/sphum_sat(ds_use.t_atm, ds_use.p_atm))\n",
    "plt.ylabel('RH [%]')\n",
    "plt.xlabel('$T_{a-s}$ [K]')\n",
    "plt.tight_layout()"
   ],
   "metadata": {
    "collapsed": false,
    "is_executing": true
   }
  },
  {
   "cell_type": "markdown",
   "source": [
    "## Effect of wind in WISHE\n",
    "The first plot below, shows that when the wind is low, the sum of all the taylor series terms differs from the full approximation. This indicates that some taylor series terms (probably some three variable terms) are missing from the expansion.\n",
    "\n",
    "The second plot is looking at how the drag coefficient influences surface temperature."
   ],
   "metadata": {
    "collapsed": false
   }
  },
  {
   "cell_type": "code",
   "execution_count": null,
   "outputs": [],
   "source": [
    "# Plot that shows taylor expansion deviates from full approximation when wind is low.\n",
    "# Only important for WISHE experiments.\n",
    "if exp_labels[exp_ind_use] == 'WISHE':\n",
    "    fig, ax = plt.subplots(1,1, figsize=(13, 4))\n",
    "    ax.plot(time_array, lh_sv_mean+sum(lh_sv_taylor_terms.values())-lh_approx(ds_use, ds_use.ps.mean(), w_atm_use_taylor))\n",
    "    ax2 = ax.twinx()\n",
    "    ax2.plot(time_array, w_atm_use_taylor, color=default_colors[1])\n",
    "    ax.set_xticks(*month_ticks)\n",
    "    ax.set_xlim(0, n_year_days)\n",
    "    ax.set_ylabel('Sum of Taylor Terms - Final Approximation [Wm$^{-2}$]', color=default_colors[0])\n",
    "    ax2.set_ylabel('$w_a$ [m/s]', color=default_colors[1])\n",
    "    ax.set_title(f\"{exp_labels[exp_ind_use]}: Annual and Zonal mean at $\\phi={round(float(ds_sl_av[0].lat), 1)}\\degree$\")\n",
    "    plt.tight_layout()"
   ],
   "metadata": {
    "collapsed": false,
    "is_executing": true
   }
  },
  {
   "cell_type": "code",
   "execution_count": null,
   "outputs": [],
   "source": [
    "fig, ax = plt.subplots(1,1, figsize=(13, 4))\n",
    "ax.plot(time_array, 100*ds_use.drag_q)\n",
    "ax2 = ax.twinx()\n",
    "ax2.plot(time_array, ds_use.t_surf, color=default_colors[1])\n",
    "ax.set_xticks(*month_ticks)\n",
    "ax.set_xlim(0, n_year_days)\n",
    "ax.set_ylabel('$C_q$', color=default_colors[0])\n",
    "ax2.set_ylabel('Surface temperature [K]', color=default_colors[1])\n",
    "plt.tight_layout()"
   ],
   "metadata": {
    "collapsed": false,
    "is_executing": true
   }
  },
  {
   "cell_type": "markdown",
   "source": [
    "## Empirical Fitting\n",
    "To get solution for hottest day of the year, we need to represent $\\Gamma^{\\uparrow} = LW^{\\uparrow} - LW^{\\downarrow} + SH^{\\uparrow} + LH^{\\uparrow}$ as a function of temperature."
   ],
   "metadata": {
    "collapsed": false
   }
  },
  {
   "cell_type": "code",
   "execution_count": null,
   "outputs": [],
   "source": [
    "def linear_func(x_var, a, b):\n",
    "    return a + b*x_var\n",
    "\n",
    "def square_func(x_var, a, b, c):\n",
    "    return a + b*x_var + c*x_var**2\n",
    "\n",
    "t_surf_anom = np.asarray(ds_use.t_surf-ds_use.t_surf.mean())\n",
    "gamma_up = np.asarray(ds_use.lwup_sfc - ds_use.lwdn_sfc + ds_use.flux_lhe + ds_use.flux_t)\n",
    "fit_args_linear = optimize.curve_fit(linear_func, t_surf_anom, gamma_up, [80, 3])[0]\n",
    "fit_args_square = optimize.curve_fit(square_func, t_surf_anom, gamma_up, [80, 3, 0])[0]\n",
    "fit_flux = {'lh': {}, 'sh': {}, 'lw': {}}\n",
    "for i, flux in enumerate([np.asarray(ds_use.flux_lhe), np.asarray(ds_use.flux_t), np.asarray(ds_use.lwup_sfc - ds_use.lwdn_sfc)]):\n",
    "    fit_flux[list(fit_flux.keys())[i]]['linear'] = optimize.curve_fit(linear_func, t_surf_anom, flux, [80, 3])[0]\n",
    "    fit_flux[list(fit_flux.keys())[i]]['square'] = optimize.curve_fit(square_func, t_surf_anom, flux, [80, 3, 0])[0]\n",
    "\n",
    "fit_args_lh_square = fit_flux['lh']['square'] + np.pad(fit_flux['sh']['linear'], (0, 1), 'constant', constant_values=0) + \\\n",
    "                     np.pad(fit_flux['lw']['linear'], (0, 1), 'constant', constant_values=0)\n",
    "\n",
    "fig, ax = plt.subplots(1,1, figsize=(13, 4))\n",
    "ax.spines[['top', 'right']].set_visible(False)\n",
    "ax.set_xticks(*month_ticks)\n",
    "ax.set_xlim(0, n_year_days)\n",
    "ax.plot(time_array, gamma_up, color='k', lw=0.5, label='Simulated')\n",
    "ax.plot(time_array, linear_func(np.asarray(ds_use.t_surf-ds_use.t_surf.mean()), *fit_args_linear), alpha=0.7, \n",
    "        label=f'All Linear ($\\lambda_0$ = {round(fit_args_linear[0])}, $\\lambda_1$ = {round(fit_args_linear[1], 2)})')\n",
    "ax.plot(time_array, square_func(np.asarray(ds_use.t_surf-ds_use.t_surf.mean()), *fit_args_square), alpha=0.7, \n",
    "        label=f'All Square ($\\lambda_0$ = {round(fit_args_square[0])}, $\\lambda_1$ = {round(fit_args_square[1], 2)}, '\n",
    "              f'$\\lambda_2$ = {round(fit_args_square[2], 2)})')\n",
    "ax.plot(time_array, square_func(np.asarray(ds_use.t_surf-ds_use.t_surf.mean()), *fit_args_lh_square), alpha=0.7, \n",
    "        label=f'LH Square, SH and LW linear\\n($\\lambda_0$ = {round(fit_args_lh_square[0])}, $\\lambda_1$ = {round(fit_args_lh_square[1], 2)}, '\n",
    "              f'$\\lambda_2$ = {round(fit_args_lh_square[2], 2)})')\n",
    "ax.legend(frameon=False)\n",
    "ax.set_ylabel('$\\Gamma^{\\\\uparrow}$ [Wm$^{-2}$]')\n",
    "ax.set_title(f\"{exp_labels[exp_ind_use]}: Annual and Zonal mean at $\\phi={round(float(ds_sl_av[0].lat), 1)}\\degree$\")\n",
    "plt.tight_layout()"
   ],
   "metadata": {
    "collapsed": false,
    "is_executing": true
   }
  },
  {
   "cell_type": "markdown",
   "source": [
    "The similarity between the orange and green lines above suggest that the $T^2$ correction is only required for the latent heat flux term. This is confirmed below, by the fit to the individual fluxes."
   ],
   "metadata": {
    "collapsed": false
   }
  },
  {
   "cell_type": "code",
   "execution_count": null,
   "outputs": [],
   "source": [
    "fig, ax = plt.subplots(3,1, figsize=(13, 7), sharex=True)\n",
    "ax[0].set_xticks(*month_ticks)\n",
    "ax[0].set_xlim(0, n_year_days)\n",
    "ax[0].spines[['top', 'right']].set_visible(False)\n",
    "ax[1].spines[['top', 'right']].set_visible(False)\n",
    "ax[2].spines[['top', 'right']].set_visible(False)\n",
    "\n",
    "ax[0].plot(time_array, ds_use.flux_lhe, color='k', lw=0.5, label='Simulated')\n",
    "ax[0].plot(time_array, linear_func(t_surf_anom, *fit_flux['lh']['linear']), label='$\\lambda_0 + \\lambda_1 T$', alpha=0.7)\n",
    "ax[0].plot(time_array, square_func(t_surf_anom, *fit_flux['lh']['square']), label='$\\lambda_0 + \\lambda_1 T + \\lambda_2 T^2$', alpha=0.7)\n",
    "\n",
    "ax[1].plot(time_array, ds_use.flux_t, color='k', lw=0.5)\n",
    "ax[1].plot(time_array, linear_func(t_surf_anom, *fit_flux['sh']['linear']), label='$\\lambda_0 + \\lambda_1 T$', alpha=0.7)\n",
    "ax[1].plot(time_array, square_func(t_surf_anom, *fit_flux['sh']['square']), label='$\\lambda_0 + \\lambda_1 T + \\lambda_2 T^2$', alpha=0.7)\n",
    "\n",
    "ax[2].plot(time_array, ds_use.lwup_sfc - ds_use.lwdn_sfc, color='k', lw=0.5)\n",
    "ax[2].plot(time_array, linear_func(t_surf_anom, *fit_flux['lw']['linear']), label='$\\lambda_0 + \\lambda_1 T$', alpha=0.7)\n",
    "ax[2].plot(time_array, square_func(t_surf_anom, *fit_flux['lw']['square']), label='$\\lambda_0 + \\lambda_1 T + \\lambda_2 T^2$', alpha=0.7)\n",
    "\n",
    "\n",
    "ax[0].legend(frameon=False)\n",
    "ax[0].set_ylabel('Latent Heat [Wm$^{-2}$]')\n",
    "ax[1].set_ylabel('Sensible Heat [Wm$^{-2}$]')\n",
    "ax[2].set_ylabel('Net upward\\nLongwave [Wm$^{-2}$]')\n",
    "fig.suptitle(f'Annual and Zonal mean at $\\phi={round(float(ds_sl_av[0].lat), 1)}\\degree$')\n",
    "plt.tight_layout();"
   ],
   "metadata": {
    "collapsed": false,
    "is_executing": true
   }
  },
  {
   "cell_type": "markdown",
   "source": [
    "## Solving Equation with $T^2$ term\n",
    "The equation including the $T^2$ is: \n",
    "\n",
    "$C\\frac{\\partial T}{\\partial t} \\approx F_s(t) - \\lambda_0 - \\lambda_1 T - \\lambda_2 T^2$ where $F_s(t) \\approx F_0 + F_1\\cos(2\\pi ft) + \\frac{F_2}{F_1}F_1\\cos(4\\pi ft)$\n",
    "\n",
    "Let us seek a fourier series solution for $T(t)$ with two harmonics, so it is the same form as $F_s(t)$:\n",
    "$$T(t) \\approx T_0 + T_1\\cos(2\\pi ft - \\phi_1) + T_2\\cos(4\\pi ft - \\phi_2)$$\n",
    "\n",
    "This is the exact solution to the equation if $\\lambda_2=0$ but is not exact if $\\lambda_2 \\neq 0$ as shown below.\n",
    "\n",
    "The black dotted line shows $F_s(t)$ approximated using the fourier series with two harmonics.\n",
    "\n",
    "The coloured lines show $C\\frac{\\partial T}{\\partial t} + \\lambda_0 + \\lambda_1 T + \\lambda_2 T^2$ with the $\\lambda_2$ value indicated, and with $T(t)$ found using least squares regression given the above form as a fourier series solution with two harmonics.\n",
    "\n",
    "For $\\lambda_2=0$, the coloured line exactly matches the black line, indicating that the form of $T$ used is the exact solution. For larger values of $\\lambda_2$, the coloured line differs from the black dotted line, indicating that the assumed form of $T(t)$ is wrong.\n",
    "\n",
    "If the number of harmonics for temperature is increased to 3, the $T(t)$ solution becomes approximately exact for a larger range of $\\lambda_2$."
   ],
   "metadata": {
    "collapsed": false
   }
  },
  {
   "cell_type": "code",
   "execution_count": null,
   "outputs": [],
   "source": [
    "def fourier_series(time, coefs_amp, coefs_phase):\n",
    "    n_harmonics = len(coefs_amp)\n",
    "    ans = 0.5 * coefs_amp[0]\n",
    "    for n in range(1, n_harmonics):\n",
    "        ans += coefs_amp[n] * np.cos(2*n*np.pi*time/n_year_days - coefs_phase[n-1])\n",
    "    return ans\n",
    "\n",
    "def fourier_series_deriv(time, coefs_amp, coefs_phase):\n",
    "    n_harmonics = len(coefs_amp)\n",
    "    ans = 0\n",
    "    for n in range(1, n_harmonics):\n",
    "        ans -= coefs_amp[n] * np.sin(2*n*np.pi*time/n_year_days - coefs_phase[n-1]) * (2*n*np.pi/n_year_days)\n",
    "    return ans / (24*60**2)     # convert units from per day to per second\n",
    "\n",
    "def get_fourier_coef(var, time, n, T=n_year_days, integ_method='spline'):\n",
    "    # Computes the analytical fourier coefficients for the n harmonic of a given function\n",
    "    # With integrate method = spline works very well i.e. fit spline then use spline.integrate functionality\n",
    "    # Otherwise, there are problems with the integration especially at the limits e.g. t=0 and t=T.\n",
    "    if integ_method == 'spline':\n",
    "        var = np.append(var, var[0])\n",
    "        time = np.append(time, time[-1]+1)\n",
    "    if n == 0:\n",
    "        if integ_method == 'spline':\n",
    "            spline = CubicSpline(time,var, bc_type='periodic')\n",
    "            return 2/T * spline.integrate(0, T)\n",
    "        else:\n",
    "            return 2/T * integrate.simpson(var, time)\n",
    "    else:\n",
    "        # constants for acos(t) + bsin(t) form\n",
    "        if integ_method == 'spline':\n",
    "            spline = CubicSpline(time,var * np.cos(2*n*np.pi*time/T), bc_type='periodic')\n",
    "            cos_coef = 2/T * spline.integrate(0, T)\n",
    "            sin_curve = var * np.sin(2*n*np.pi*time/T)\n",
    "            sin_curve[-1] = 0       # Need first and last value to be the same to be periodic spline\n",
    "                                    # usually have last value equal 1e-10 so not equal\n",
    "            spline = CubicSpline(time,sin_curve, bc_type='periodic')\n",
    "            sin_coef = 2/T * spline.integrate(0, T)\n",
    "        else:\n",
    "            cos_coef = 2/T * integrate.simpson(var * np.cos(2*n*np.pi*time/T), time)\n",
    "            sin_coef = 2/T * integrate.simpson(var * np.sin(2*n*np.pi*time/T), time)\n",
    "        # constants for Acos(t-phi) form \n",
    "        phase_coef = np.arctan(sin_coef/cos_coef)\n",
    "        amp_coef = cos_coef / np.cos(phase_coef)\n",
    "        return amp_coef, phase_coef\n",
    "\n",
    "def get_fourier_fit(time, var, n_harmonics, T=n_year_days, integ_method='spline'):\n",
    "    # Returns the fourier fit of a function using a given number of harmonics\n",
    "    amp_coefs = np.zeros(n_harmonics+1)\n",
    "    phase_coefs = np.zeros(n_harmonics)\n",
    "    amp_coefs[0] = get_fourier_coef(var, time, 0, T, integ_method)\n",
    "    for i in range(1, n_harmonics+1):\n",
    "        amp_coefs[i], phase_coefs[i-1] = get_fourier_coef(var, time, i, T, integ_method)\n",
    "    return fourier_series(time, amp_coefs, phase_coefs), amp_coefs, phase_coefs"
   ],
   "metadata": {
    "collapsed": false,
    "is_executing": true
   }
  },
  {
   "cell_type": "code",
   "execution_count": null,
   "outputs": [],
   "source": [
    "def get_sw_fourier_approx(time, sw_fourier_amp, sw_fourier_phase, lambda_const, heat_capacity, n_harmonics=2):\n",
    "    sw_fourier = fourier_series(time, sw_fourier_amp, sw_fourier_phase)\n",
    "    \n",
    "    def surface_energy_lhs(time, *args):\n",
    "        amp_args = [args[i] for i in range(n_harmonics+1)]\n",
    "        phase_args = [args[i] for i in range(n_harmonics+1,len(args))]\n",
    "        temp_fourier = fourier_series(time, amp_args, phase_args)\n",
    "        return heat_capacity * fourier_series_deriv(time, amp_args, phase_args) + lambda_const[0] + \\\n",
    "            lambda_const[1] * temp_fourier + lambda_const[2] * temp_fourier**2\n",
    "    \n",
    "    args_found = optimize.curve_fit(surface_energy_lhs, time, sw_fourier, np.ones(2*n_harmonics+1))[0]\n",
    "    return surface_energy_lhs(time, *args_found), args_found\n",
    "\n",
    "heat_capacity = get_heat_capacity(c_p_water, rho_water, mixed_layer_depth[exp_ind_use])\n",
    "n_temp_harmonics = 2\n",
    "sw_amp0 = 200\n",
    "sw_amp1 = -150\n",
    "sw_phase = [0, 0]\n",
    "lambda_0 = 100\n",
    "lambda_1 = 3\n",
    "lambda_2 = 0.03\n",
    "lambda_2_array = np.linspace(0, 0.3, 7)\n",
    "\n",
    "fig, ax = plt.subplots(1,1, figsize=(9, 4), sharex=True, sharey='row')\n",
    "ax.set_xlim(-1,360)\n",
    "ax.set_xticks(*month_ticks)\n",
    "ax.spines[['top', 'right']].set_visible(False)\n",
    "color_seq = plt.cm.jet(np.linspace(0,1,len(lambda_2_array)))\n",
    "for i in range(len(lambda_2_array)):\n",
    "    sw_plot = get_sw_fourier_approx(time_array, [sw_amp0, sw_amp1, 0], sw_phase, \n",
    "                                    [lambda_0, lambda_1, lambda_2_array[i]], heat_capacity, n_temp_harmonics)[0]\n",
    "    ax.plot(time_array, sw_plot, color=color_seq[i], alpha=0.5, label=round(lambda_2_array[i], 2))\n",
    "ax.plot(time_array, fourier_series(time_array, [sw_amp0, sw_amp1, 0], sw_phase), color='k', linestyle=':', label='')\n",
    "ax.set_ylabel('Downward shortwave radiation [Wm$^{-2}$]')\n",
    "ax.legend(frameon=False, title='$\\lambda_2$')\n",
    "plt.tight_layout()"
   ],
   "metadata": {
    "collapsed": false,
    "is_executing": true
   }
  },
  {
   "cell_type": "markdown",
   "source": [
    "### Effect of $\\lambda_2$ on the seasonal cycle of temperature\n",
    "Below, I investigate the effect of the $\\lambda_2$ parameter on the seasonal cycle of temperature. I only consider $\\lambda_2<0.05$, as from the above plot, the assumed two harmonic fourier solution for $T(t)$ is still pretty good for $\\lambda_2$ in this range, and the $\\lambda_2$ values I encounter also tend to be in this range.\n",
    "\n",
    "It seems that increasing $\\lambda_2$ pushes the coldest day of the year later, while leaving the date of the hottest day of the year unchanged. It also seems to increase the amplitude of the seasonal cycle.\n",
    "\n",
    "This is different to $\\lambda_1$, which pulls both the hottest and coldest day earlier by the same amount."
   ],
   "metadata": {
    "collapsed": false
   }
  },
  {
   "cell_type": "code",
   "execution_count": null,
   "outputs": [],
   "source": [
    "def get_temp_fourier_coefs(time, sw_fourier_amp, sw_fourier_phase, lambda_const, heat_capacity, n_harmonics=2):\n",
    "    sw_fourier = fourier_series(time, sw_fourier_amp, sw_fourier_phase)\n",
    "    \n",
    "    def surface_energy_lhs(time, *args):\n",
    "        amp_args = [args[i] for i in range(n_harmonics+1)]\n",
    "        phase_args = [args[i] for i in range(n_harmonics+1,len(args))]\n",
    "        temp_fourier = fourier_series(time, amp_args, phase_args)\n",
    "        return heat_capacity * fourier_series_deriv(time, amp_args, phase_args) + lambda_const[0] + \\\n",
    "            lambda_const[1] * temp_fourier + lambda_const[2] * temp_fourier**2\n",
    "    \n",
    "    args_found = optimize.curve_fit(surface_energy_lhs, time, sw_fourier, np.ones(2*n_harmonics+1))[0]\n",
    "    return args_found[:n_harmonics+1], args_found[n_harmonics+1:]\n",
    "\n",
    "heat_capacity = get_heat_capacity(c_p_water, rho_water, mixed_layer_depth[exp_ind_use])\n",
    "n_temp_harmonics = 2\n",
    "sw_amp0 = 200\n",
    "sw_amp1 = -150\n",
    "sw_phase = [0, 0]\n",
    "lambda_0 = 100\n",
    "lambda_1 = 3\n",
    "lambda_2 = 0.03\n",
    "sw_ratio = np.linspace(-1, 1, 7)\n",
    "lambda_1_array = np.linspace(0, 5, 7)\n",
    "lambda_2_array = np.linspace(0, 0.05, 7)\n",
    "\n",
    "fig, ax = plt.subplots(2,3, figsize=(12, 5), sharex=True, sharey='row')\n",
    "color_seq = plt.cm.jet(np.linspace(0,1,len(sw_ratio)))\n",
    "for i in range(len(sw_ratio)):\n",
    "    ax[0, 0].plot(time_array, fourier_series(time_array, [sw_amp0, sw_amp1, sw_amp1 * sw_ratio[i]], sw_phase), color=color_seq[i])\n",
    "    temp_amp_coefs, temp_phase_coefs = get_temp_fourier_coefs(time_array, [sw_amp0, sw_amp1, sw_amp1 * sw_ratio[i]], sw_phase, \n",
    "                                                              [lambda_0, lambda_1, lambda_2], heat_capacity, n_harmonics=n_temp_harmonics)\n",
    "    temp_plot = fourier_series(time_array, temp_amp_coefs, temp_phase_coefs)\n",
    "    ax[1, 0].plot(time_array, temp_plot-np.mean(temp_plot), color=color_seq[i])\n",
    "\n",
    "ax[0, 1].plot(time_array, fourier_series(time_array, [sw_amp0, sw_amp1, 0], np.zeros(2)), color='k')\n",
    "for i in range(len(lambda_1_array)):\n",
    "    temp_amp_coefs, temp_phase_coefs = get_temp_fourier_coefs(time_array, [sw_amp0, sw_amp1, 0], sw_phase, \n",
    "                                                              [lambda_0, lambda_1_array[i], lambda_2], heat_capacity, n_harmonics=n_temp_harmonics)\n",
    "    temp_plot = fourier_series(time_array, temp_amp_coefs, temp_phase_coefs)\n",
    "    ax[1, 1].plot(time_array, temp_plot-np.mean(temp_plot), color=color_seq[i])\n",
    "    \n",
    "ax[0, 2].plot(time_array, fourier_series(time_array, [sw_amp0, sw_amp1, 0], np.zeros(2)), color='k')\n",
    "for i in range(len(lambda_2_array)):\n",
    "    temp_amp_coefs, temp_phase_coefs = get_temp_fourier_coefs(time_array, [sw_amp0, sw_amp1, 0], sw_phase, \n",
    "                                                              [lambda_0, lambda_1, lambda_2_array[i]], heat_capacity, n_harmonics=n_temp_harmonics)\n",
    "    temp_plot = fourier_series(time_array, temp_amp_coefs, temp_phase_coefs)\n",
    "    ax[1, 2].plot(time_array, temp_plot-np.mean(temp_plot), color=color_seq[i])\n",
    "\n",
    "ax[0, 0].set_xlim(-1,360)\n",
    "ax[0, 0].set_xticks(*month_ticks)\n",
    "ax[0, 0].set_title('Increasing $F_2/F_1$ from -1 to 1')\n",
    "ax[0, 1].set_title('Increasing $\\lambda_1$ from 0 to 5')\n",
    "ax[0, 0].set_ylabel('$F(t)$ [Wm$^{-2}$]')\n",
    "ax[1, 0].set_ylabel('$T(t) - \\overline{T}$ [K]')\n",
    "ax[0, 2].set_title('Increasing $\\lambda_2$ from 0 to 0.05')\n",
    "plt.tight_layout()"
   ],
   "metadata": {
    "collapsed": false,
    "is_executing": true
   }
  },
  {
   "cell_type": "code",
   "execution_count": null,
   "outputs": [],
   "source": [
    "fig, ax = plt.subplots(1,1, figsize=(9, 5), sharex=True, sharey='row')\n",
    "for i in range(len(lambda_2_array)):\n",
    "    temp_amp_coefs, temp_phase_coefs = get_temp_fourier_coefs(time_array, [sw_amp0, sw_amp1, 0], sw_phase, \n",
    "                                                              [lambda_0, lambda_1, lambda_2_array[i]], heat_capacity)\n",
    "    temp_plot = fourier_series(time_array, temp_amp_coefs, temp_phase_coefs)\n",
    "    ax.plot(time_array, temp_plot-np.mean(temp_plot), color=color_seq[i])"
   ],
   "metadata": {
    "collapsed": false,
    "is_executing": true
   }
  },
  {
   "cell_type": "code",
   "execution_count": null,
   "outputs": [],
   "source": [],
   "metadata": {
    "collapsed": false,
    "is_executing": true
   }
  },
  {
   "cell_type": "code",
   "execution_count": null,
   "outputs": [],
   "source": [],
   "metadata": {
    "collapsed": false,
    "is_executing": true
   }
  },
  {
   "cell_type": "code",
   "execution_count": null,
   "outputs": [],
   "source": [],
   "metadata": {
    "collapsed": false,
    "is_executing": true
   }
  }
 ],
 "metadata": {
  "kernelspec": {
   "display_name": "Python 3",
   "language": "python",
   "name": "python3"
  },
  "language_info": {
   "codemirror_mode": {
    "name": "ipython",
    "version": 2
   },
   "file_extension": ".py",
   "mimetype": "text/x-python",
   "name": "python",
   "nbconvert_exporter": "python",
   "pygments_lexer": "ipython2",
   "version": "2.7.6"
  }
 },
 "nbformat": 4,
 "nbformat_minor": 0
}
