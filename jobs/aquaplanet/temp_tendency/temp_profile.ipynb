{
 "cells": [
  {
   "cell_type": "markdown",
   "source": [
    "# Temperature Profile\n",
    "This looks at the temperature profile, to see how it differs from the expected dry adiabat up to the LCL, followed by the moist adiabat."
   ],
   "metadata": {
    "collapsed": false
   }
  },
  {
   "cell_type": "code",
   "source": [
    "import copy\n",
    "import sys\n",
    "import os\n",
    "# REMOTE - So can access functions in isca_tools which is in home/Isca directory\n",
    "# sys.path.append(os.path.join(os.environ['HOME'], 'Isca'))\n",
    "# LOCAL - So can access functions in isca_tools which is in StAndrews/Isca\n",
    "sys.path.append(os.environ['PWD'])\n",
    "import isca_tools\n",
    "from isca_tools.utils.moist_physics import moist_static_energy, clausius_clapeyron_factor, sphum_sat\n",
    "from isca_tools.utils.constants import kappa, L_v, c_p\n",
    "from isca_tools.utils import area_weighting, annual_mean\n",
    "from isca_tools.papers.byrne_2021 import get_quant_ind\n",
    "from isca_tools.thesis.aquaplanet_theory import get_delta_temp_quant_theory, get_gamma\n",
    "from isca_tools.convection.simple_betts_miller import lcl_temp, ref_temp_above_lcl, get_temp_ref\n",
    "from isca_tools.convection import dry_profile_pressure, moist_profile\n",
    "from isca_tools.plot import label_subplots\n",
    "import numpy as np\n",
    "import matplotlib.pyplot as plt\n",
    "import xarray as xr\n",
    "import scipy.optimize\n",
    "from tqdm import tqdm\n",
    "from scipy import interpolate\n",
    "import matplotlib.animation\n",
    "from matplotlib.animation import FuncAnimation\n",
    "from IPython.display import HTML\n",
    "import numpy_indexed\n",
    "from scipy.stats import percentileofscore\n",
    "import copy\n",
    "# Use custom matplotlib style for publishing\n",
    "plt.style.use('/Users/joshduffield/Documents/StAndrews/Isca/jobs/tau_sweep/aquaplanet/publish_figures/publish.mplstyle')"
   ],
   "metadata": {
    "collapsed": false,
    "ExecuteTime": {
     "end_time": "2025-06-16T15:31:49.850194Z",
     "start_time": "2025-06-16T15:31:48.255403Z"
    }
   },
   "outputs": [],
   "execution_count": 1
  },
  {
   "cell_type": "code",
   "source": [
    "# Load dataset - one at surface and one in free troposphere\n",
    "var_keep = ['temp', 'sphum', 'height', 't_surf', 'precipitation', 'omega', 't_ref', 'dt_tg_diffusion', \n",
    "            'dt_tg_convection', 'dt_tg_condensation', 'tdt_rad', 'klzbs', 'ucomp', 'vcomp', 'flux_lhe']  \n",
    "# var_keep = ['temp', 'sphum', 'height', 't_surf', 'precipitation', 'omega']\n",
    "# Load dataset\n",
    "tau_lw_ref = 1\n",
    "exp_dir = 'aquaplanet/temp_tendency/'\n",
    "# exp_dir = 'tau_sweep/aquaplanet/'\n",
    "exp_names = [f\"k={str(tau_lw_ref).replace('.','_')}\", \"k=1_5\"]\n",
    "n_exp = len(exp_names)\n",
    "ds_base = []\n",
    "albedo = []\n",
    "tau_sw = []\n",
    "tau_lw = []\n",
    "\n",
    "use_time_start = 360*2\n",
    "for i in range(n_exp):\n",
    "    ds_use = isca_tools.load_dataset(exp_dir + exp_names[i])\n",
    "    try:\n",
    "        ds_use = ds_use[var_keep]\n",
    "    except KeyError:\n",
    "        remove_keys = []\n",
    "        for key in var_keep:\n",
    "            if key not in ds_use:\n",
    "                print(f'Removing {key} from var_keep')\n",
    "                remove_keys += [key]\n",
    "        for key in remove_keys:\n",
    "            var_keep.remove(key)\n",
    "        ds_use = ds_use[var_keep]\n",
    "    ds_base += [ds_use.sel(time=slice(use_time_start, np.inf))]      # only keep after spin up\n",
    "    namelist = isca_tools.load_namelist(exp_dir + exp_names[i])  # Need this for albedo_value\n",
    "    albedo += [namelist['mixed_layer_nml']['albedo_value']]\n",
    "    tau_sw += [namelist['two_stream_gray_rad_nml']['atm_abs']]\n",
    "    tau_lw += [namelist['two_stream_gray_rad_nml']['odp']]"
   ],
   "metadata": {
    "collapsed": false,
    "ExecuteTime": {
     "end_time": "2025-06-16T15:31:50.171938Z",
     "start_time": "2025-06-16T15:31:49.894535Z"
    }
   },
   "outputs": [
    {
     "ename": "FileNotFoundError",
     "evalue": "[Errno 2] No such file or directory: '/Users/joshduffield/Documents/StAndrews/Isca/isca_output/aquaplanet/temp_tendency/k=1'",
     "output_type": "error",
     "traceback": [
      "\u001B[0;31m---------------------------------------------------------------------------\u001B[0m",
      "\u001B[0;31mFileNotFoundError\u001B[0m                         Traceback (most recent call last)",
      "Cell \u001B[0;32mIn [2], line 18\u001B[0m\n\u001B[1;32m     16\u001B[0m use_time_start \u001B[38;5;241m=\u001B[39m \u001B[38;5;241m360\u001B[39m\u001B[38;5;241m*\u001B[39m\u001B[38;5;241m2\u001B[39m\n\u001B[1;32m     17\u001B[0m \u001B[38;5;28;01mfor\u001B[39;00m i \u001B[38;5;129;01min\u001B[39;00m \u001B[38;5;28mrange\u001B[39m(n_exp):\n\u001B[0;32m---> 18\u001B[0m     ds_use \u001B[38;5;241m=\u001B[39m \u001B[43misca_tools\u001B[49m\u001B[38;5;241;43m.\u001B[39;49m\u001B[43mload_dataset\u001B[49m\u001B[43m(\u001B[49m\u001B[43mexp_dir\u001B[49m\u001B[43m \u001B[49m\u001B[38;5;241;43m+\u001B[39;49m\u001B[43m \u001B[49m\u001B[43mexp_names\u001B[49m\u001B[43m[\u001B[49m\u001B[43mi\u001B[49m\u001B[43m]\u001B[49m\u001B[43m)\u001B[49m\n\u001B[1;32m     19\u001B[0m     \u001B[38;5;28;01mtry\u001B[39;00m:\n\u001B[1;32m     20\u001B[0m         ds_use \u001B[38;5;241m=\u001B[39m ds_use[var_keep]\n",
      "File \u001B[0;32m~/Documents/StAndrews/Isca/isca_tools/utils/load.py:53\u001B[0m, in \u001B[0;36mload_dataset\u001B[0;34m(exp_name, run_no, data_dir, decode_times, use_cftime)\u001B[0m\n\u001B[1;32m     50\u001B[0m exp_dir \u001B[38;5;241m=\u001B[39m os\u001B[38;5;241m.\u001B[39mpath\u001B[38;5;241m.\u001B[39mjoin(data_dir, exp_name)\n\u001B[1;32m     52\u001B[0m \u001B[38;5;66;03m# Get index of first run file i.e. which month saved first\u001B[39;00m\n\u001B[0;32m---> 53\u001B[0m files_run \u001B[38;5;241m=\u001B[39m [filename \u001B[38;5;28;01mfor\u001B[39;00m filename \u001B[38;5;129;01min\u001B[39;00m \u001B[43mos\u001B[49m\u001B[38;5;241;43m.\u001B[39;49m\u001B[43mlistdir\u001B[49m\u001B[43m(\u001B[49m\u001B[43mexp_dir\u001B[49m\u001B[43m)\u001B[49m \u001B[38;5;28;01mif\u001B[39;00m filename\u001B[38;5;241m.\u001B[39mstartswith(\u001B[38;5;124m'\u001B[39m\u001B[38;5;124mrun\u001B[39m\u001B[38;5;124m'\u001B[39m)]\n\u001B[1;32m     54\u001B[0m files_run\u001B[38;5;241m.\u001B[39msort()\n\u001B[1;32m     55\u001B[0m first_month \u001B[38;5;241m=\u001B[39m \u001B[38;5;28mint\u001B[39m(files_run[\u001B[38;5;241m0\u001B[39m][\u001B[38;5;241m-\u001B[39m\u001B[38;5;241m4\u001B[39m:])\n",
      "\u001B[0;31mFileNotFoundError\u001B[0m: [Errno 2] No such file or directory: '/Users/joshduffield/Documents/StAndrews/Isca/isca_output/aquaplanet/temp_tendency/k=1'"
     ]
    }
   ],
   "execution_count": 2
  },
  {
   "cell_type": "markdown",
   "source": [
    "## Get datasets\n",
    "Get one surface dataset for summer for each $\\kappa$, combining all latitudes: `ds_all`. This combines the summer months in each hemisphere, e.g. negative latitudes will only correspond to times in December, January or February.\n",
    "\n",
    "Also get an equivalent dataset consisting of free troposphere rather than surface values: `ds_all_ft`."
   ],
   "metadata": {
    "collapsed": false
   }
  },
  {
   "cell_type": "code",
   "execution_count": 115,
   "outputs": [],
   "source": [
    "# If true, will save all figures to desktop - option to save specific figures later on.\n",
    "save_fig = False\n",
    "# if publishing figure, use high dpi\n",
    "publish_fig = True\n",
    "\n",
    "ar = 4/3        # aspect ratio (width/height)\n",
    "# Details required for Journal of Climate Figures\n",
    "low_dpi = 100\n",
    "dpi = {'monochrome': 1100, 'combination': 800, 'halftone': 300}\n",
    "width = {'one_col': 3.2, 'two_col': 5.5}        # width in inches \n",
    "save_pad_inches = 0.05\n",
    "\n",
    "# Default parameters\n",
    "default_colors = plt.rcParams['axes.prop_cycle'].by_key()['color']\n",
    "ax_linewidth = plt.rcParams['axes.linewidth']"
   ],
   "metadata": {
    "collapsed": false,
    "ExecuteTime": {
     "end_time": "2025-06-16T15:31:50.180076Z",
     "start_time": "2024-03-15T15:14:54.759864Z"
    }
   }
  },
  {
   "cell_type": "code",
   "execution_count": 116,
   "outputs": [
    {
     "name": "stderr",
     "output_type": "stream",
     "text": [
      "100%|██████████| 2/2 [00:00<00:00, 17.16it/s]\n"
     ]
    }
   ],
   "source": [
    "# Load in dataset with surface and free troposphere across all latitudes, for given season\n",
    "# use_time_start = 0      # because little data\n",
    "\n",
    "# Chose whether to only consider summer days for mean or all days\n",
    "summer_months = {'nh': [6, 7, 8], 'sh': [12, 1, 2]}   # JJA for NH and DJF for SH \n",
    "use_summer = False      # if true, will set ds will only contain summer months. Do this outside tropics\n",
    "\n",
    "ds = []  # need both all and summer day dataset\n",
    "with tqdm(total=n_exp, position=0, leave=True) as pbar:\n",
    "    for i in range(n_exp):\n",
    "        ds_use = ds_base[i]\n",
    "        if use_summer:\n",
    "            ds_nh_summer = isca_tools.utils.annual_time_slice(ds_use, summer_months['nh']).sel(lat=slice(0, 90))  \n",
    "            ds_sh_summer = isca_tools.utils.annual_time_slice(ds_use, summer_months['sh']).sel(lat=slice(-90, 0)) \n",
    "            # Combine hemispheres and average over longitude, time and latitude.\n",
    "            ds_use = xr.concat([ds_sh_summer, ds_nh_summer], dim='lat')\n",
    "        ds += [ds_use.stack(lon_time=(\"lon\",\"time\"), create_index=False).chunk(dict(lon_time=-1))]\n",
    "        pbar.update(1)\n",
    "p_surface = float(ds[0].pfull[-1]) * 100"
   ],
   "metadata": {
    "collapsed": false,
    "ExecuteTime": {
     "end_time": "2025-06-16T15:31:50.192184Z",
     "start_time": "2024-03-15T15:14:54.763220Z"
    }
   }
  },
  {
   "cell_type": "code",
   "execution_count": 117,
   "outputs": [],
   "source": [
    "# Select region to combine latitudes over for all but one of the plots below\n",
    "# Tropics\n",
    "# region = 'tropics'\n",
    "# lat_min = 0\n",
    "# lat_max = 20\n",
    "# Extratropics\n",
    "region = 'extratropics'\n",
    "lat_min = 40  # should be 40, but saving memory\n",
    "lat_max = 65\n",
    "# Poles\n",
    "# region = 'High Latitudes'\n",
    "# lat_min = 70\n",
    "# lat_max = 90\n",
    "# Global\n",
    "# region = 'Global'\n",
    "# lat_min = 0\n",
    "# lat_max = 90\n",
    "\n",
    "# lat_use_ind = np.where((np.abs(ds[0].lat) <= lat_max) & (np.abs(ds[0].lat) >= lat_min))[0]\n",
    "lat_use_ind = np.where((ds[0].lat <= lat_max) & (ds[0].lat >= lat_min))[0]      # just NH to save memory\n",
    "ds = [ds[i].isel(lat=lat_use_ind).load() for i in range(n_exp)]\n",
    "n_lat = ds[0].lat.shape[0]\n",
    "n_pressure = ds[0].pfull.shape[0]\n",
    "lat_weights = np.cos(np.deg2rad(ds[0].lat))     # latitude area weighting is just the cosine"
   ],
   "metadata": {
    "collapsed": false,
    "ExecuteTime": {
     "end_time": "2025-06-16T15:31:50.195593Z",
     "start_time": "2024-03-15T15:14:54.928707Z"
    }
   }
  },
  {
   "cell_type": "markdown",
   "source": [
    "## Hottest Day in Tropics\n",
    "\n",
    "Here I take a single day, which is the hottest day in the tropics, and look at it in detail, to see why it deviates from the temperature profile we expect if it was convectively neutral."
   ],
   "metadata": {
    "collapsed": false
   }
  },
  {
   "cell_type": "code",
   "execution_count": 118,
   "outputs": [],
   "source": [
    "max_surf_temp_ind = ds[0].temp[-1].argmax(dim=['lat', 'lon_time'])\n",
    "# max_surf_temp_ind['lat'] = 0\n",
    "# max_surf_temp_ind['lon_time'] = 9421\n",
    "ds_hot_day = ds[0].isel(lat=int(max_surf_temp_ind['lat']), lon_time=int(max_surf_temp_ind['lon_time']))\n",
    "ds_hot_day_next = ds[0].isel(lat=int(max_surf_temp_ind['lat']), lon_time=int(max_surf_temp_ind['lon_time'])+1)"
   ],
   "metadata": {
    "collapsed": false,
    "ExecuteTime": {
     "end_time": "2025-06-16T15:31:50.218311Z",
     "start_time": "2024-03-15T15:15:29.474247Z"
    }
   }
  },
  {
   "cell_type": "code",
   "execution_count": 119,
   "outputs": [
    {
     "name": "stderr",
     "output_type": "stream",
     "text": [
      "/Users/joshduffield/Documents/StAndrews/Isca/isca_tools/convection/simple_betts_miller.py:152: UserWarning: Changing temp_start to a float\n",
      "  warnings.warn('Changing temp_start to a float')\n",
      "/Users/joshduffield/Documents/StAndrews/Isca/isca_tools/convection/simple_betts_miller.py:155: UserWarning: Changing p_start to a float\n",
      "  warnings.warn('Changing p_start to a float')\n",
      "/Users/joshduffield/Documents/StAndrews/Isca/isca_tools/convection/simple_betts_miller.py:158: UserWarning: Changing sphum_start to a float\n",
      "  warnings.warn('Changing sphum_start to a float')\n",
      "/Users/joshduffield/Documents/StAndrews/Isca/isca_tools/convection/simple_betts_miller.py:164: UserWarning: Changing p_full to a numpy array\n",
      "  warnings.warn('Changing p_full to a numpy array')\n"
     ]
    }
   ],
   "source": [
    "p_all = ds_hot_day.pfull * 100\n",
    "temp_ref_manual, temp_lcl, p_lcl = get_temp_ref(ds_hot_day.temp[-1], p_all[-1], ds_hot_day.sphum[-1], p_all)\n",
    "temp_moist = moist_profile(float(temp_lcl), float(p_lcl), p_all[p_all<p_lcl])"
   ],
   "metadata": {
    "collapsed": false,
    "ExecuteTime": {
     "end_time": "2025-06-16T15:31:50.240709Z",
     "start_time": "2024-03-15T15:15:29.553762Z"
    }
   }
  },
  {
   "cell_type": "code",
   "execution_count": 120,
   "outputs": [],
   "source": [
    "pressure_from_level_func = scipy.interpolate.interp1d(np.arange(len(p_all)), p_all)\n",
    "def lzb(k, interp_func=pressure_from_level_func):\n",
    "    # Offset by -1 because fortran starts with 1, but python starts with 0\n",
    "    # ds.t_ref will match exactly ds.temp if -2 used as offset, but this is not the LNB.\n",
    "    if np.size(k) == 1:\n",
    "        return float(interp_func(k-1))\n",
    "    else:\n",
    "        return interp_func(k-1)"
   ],
   "metadata": {
    "collapsed": false,
    "ExecuteTime": {
     "end_time": "2025-06-16T15:31:50.241540Z",
     "start_time": "2024-03-15T15:15:29.567320Z"
    }
   }
  },
  {
   "cell_type": "markdown",
   "source": [
    "### Temperature Profile\n",
    "\n",
    "Here we show that in the free troposphere, the simulated temperature (blue line) is lower than the reference temperature profile that convection acts to relax it to (orange solid line).\n",
    "\n",
    "The dotted orange line is my attempt at computing the reference temperature profile offline, but it is slightly different. One reason is that the starting temperature of ascent is larger.\n",
    "\n",
    "The green line shows the moist adiabat, and is only shown above the LCL. Again it differs from the temperature profile, that convection is relaxing it towards."
   ],
   "metadata": {
    "collapsed": false
   }
  },
  {
   "cell_type": "code",
   "execution_count": 121,
   "outputs": [
    {
     "data": {
      "text/plain": "<Figure size 1200x600 with 3 Axes>",
      "image/png": "[encoded data removed]"
     },
     "metadata": {},
     "output_type": "display_data"
    }
   ],
   "source": [
    "fig, ax = plt.subplots(1, 3, figsize=(12,6), gridspec_kw={'width_ratios': [3, 3, 1]}, sharey=True)\n",
    "ax[0].plot(ds_hot_day.temp, p_all/100, color=default_colors[0], label='Simulated')\n",
    "try:\n",
    "    ax[0].plot(ds_hot_day.t_ref, p_all/100, color=default_colors[1], alpha=0.6, label='Isca Reference')\n",
    "    ax[1].plot(ds_hot_day.t_ref - ds_hot_day.temp, p_all/100, color=default_colors[1], alpha=0.6, label='Isca Reference')\n",
    "    ax[2].plot(moist_static_energy(ds_hot_day.t_ref, sphum_sat(ds_hot_day.t_ref, p_all) - \n",
    "                                   moist_static_energy(ds_hot_day.temp[-1], ds_hot_day.sphum[-1], ds_hot_day.height[-1]), ds_hot_day.height), \n",
    "               p_all/100, color=default_colors[1])\n",
    "except AttributeError:\n",
    "    pass\n",
    "ax[0].plot(temp_ref_manual, p_all/100, color=default_colors[1], alpha=0.6, label='Manual Reference', linestyle=':')\n",
    "ax[0].plot(temp_moist, p_all[p_all<p_lcl]/100, color=default_colors[2], alpha=0.6, label='Moist Adiabat')\n",
    "ax[0].scatter(temp_lcl, p_lcl/100, color='k', marker='x', s=50, label='LCL')\n",
    "try:    \n",
    "    ax[0].hlines(lzb(ds_hot_day.klzbs)/100, 210, 310, color='k', lw=ax_linewidth)\n",
    "    ax[1].hlines([p_lcl/100, lzb(ds_hot_day.klzbs)/100], -4, 4, color='k', lw=ax_linewidth)\n",
    "    ax[2].hlines([p_lcl/100, lzb(ds_hot_day.klzbs)/100], 300, 400, color='k', lw=ax_linewidth)\n",
    "except AttributeError:\n",
    "    pass\n",
    "ax[0].set_xlim(260, 326)\n",
    "ax[0].legend()\n",
    "ax[0].set_xlabel('Temperature [K]')\n",
    "\n",
    "ax[1].plot(temp_ref_manual - ds_hot_day.temp, p_all/100, color=default_colors[1], alpha=0.6, label='Manual Reference', linestyle=':')\n",
    "ax[1].plot(temp_moist - ds_hot_day.temp[p_all<p_lcl], p_all[p_all<p_lcl]/100, color=default_colors[2], alpha=0.6, label='Moist Adiabat')\n",
    "ax[1].vlines(0, 1000, 0, color='k', lw=ax_linewidth)\n",
    "ax[1].set_xlim(-2,15)\n",
    "ax[1].set_xlabel('Temperature Difference (reference - simulated) [K]')\n",
    "\n",
    "\n",
    "ax[2].plot(moist_static_energy(ds_hot_day.temp, sphum_sat(ds_hot_day.temp, p_all), ds_hot_day.height) - \n",
    "           moist_static_energy(ds_hot_day.temp[-1], ds_hot_day.sphum[-1], ds_hot_day.height[-1]), p_all/100, color=default_colors[0],\n",
    "           label='Saturated')\n",
    "ax[2].plot(moist_static_energy(temp_moist, sphum_sat(temp_moist, p_all[p_all<p_lcl]), ds_hot_day.height[p_all<p_lcl]) - \n",
    "                               moist_static_energy(ds_hot_day.temp[-1], ds_hot_day.sphum[-1], ds_hot_day.height[-1]), p_all[p_all<p_lcl]/100,\n",
    "           color=default_colors[2])\n",
    "ax[2].vlines(0, 1000, 0, color='k', linestyle=':')\n",
    "# ax[2].set_xlim(330, 350)\n",
    "ax[2].set_xlim(-70, 10)\n",
    "ax[2].set_xlabel('MSE (relative to surface) [kJ/kg]')\n",
    "ax[2].legend()\n",
    "\n",
    "ax[0].invert_yaxis()\n",
    "ax[0].set_ylim(1000, 0)\n",
    "ax[0].set_ylabel('Pressure [hPa]')\n",
    "fig.suptitle(f'Hottest Day for $\\kappa={tau_lw[0]}$ simulation', fontsize=10)\n",
    "plt.tight_layout()"
   ],
   "metadata": {
    "collapsed": false,
    "ExecuteTime": {
     "end_time": "2025-06-16T15:31:50.241842Z",
     "start_time": "2024-03-15T15:15:29.571263Z"
    }
   }
  },
  {
   "cell_type": "markdown",
   "source": [
    "### Temperature Tendency\n",
    "\n",
    "The left plot shows that the reference temperature is higher (lower) than the simulated above (below) the LCL.\n",
    "\n",
    "The middle plot shows the temperature tendencies on the hottest day. In particular, there is a strong cooling due to vertical diffusion at around 750hPa.\n",
    "\n",
    "The right plot is just there to show that there is strong ascent throughout the troposphere on this day."
   ],
   "metadata": {
    "collapsed": false
   }
  },
  {
   "cell_type": "code",
   "execution_count": 122,
   "outputs": [
    {
     "ename": "AttributeError",
     "evalue": "'Dataset' object has no attribute 't_ref'",
     "output_type": "error",
     "traceback": [
      "\u001B[0;31m---------------------------------------------------------------------------\u001B[0m",
      "\u001B[0;31mAttributeError\u001B[0m                            Traceback (most recent call last)",
      "Cell \u001B[0;32mIn [122], line 3\u001B[0m\n\u001B[1;32m      1\u001B[0m n_day_seconds \u001B[38;5;241m=\u001B[39m  \u001B[38;5;241m24\u001B[39m \u001B[38;5;241m*\u001B[39m \u001B[38;5;241m60\u001B[39m\u001B[38;5;241m*\u001B[39m\u001B[38;5;241m*\u001B[39m\u001B[38;5;241m2\u001B[39m\n\u001B[1;32m      2\u001B[0m fig, ax \u001B[38;5;241m=\u001B[39m plt\u001B[38;5;241m.\u001B[39msubplots(\u001B[38;5;241m1\u001B[39m,\u001B[38;5;241m3\u001B[39m, figsize\u001B[38;5;241m=\u001B[39m(\u001B[38;5;241m10\u001B[39m, \u001B[38;5;241m5\u001B[39m), sharey\u001B[38;5;241m=\u001B[39m\u001B[38;5;28;01mTrue\u001B[39;00m)\n\u001B[0;32m----> 3\u001B[0m ax[\u001B[38;5;241m0\u001B[39m]\u001B[38;5;241m.\u001B[39mplot(\u001B[43mds_hot_day\u001B[49m\u001B[38;5;241;43m.\u001B[39;49m\u001B[43mt_ref\u001B[49m \u001B[38;5;241m-\u001B[39m ds_hot_day\u001B[38;5;241m.\u001B[39mtemp, p_all\u001B[38;5;241m/\u001B[39m\u001B[38;5;241m100\u001B[39m, color\u001B[38;5;241m=\u001B[39mdefault_colors[\u001B[38;5;241m1\u001B[39m], alpha\u001B[38;5;241m=\u001B[39m\u001B[38;5;241m0.6\u001B[39m)\n\u001B[1;32m      4\u001B[0m ax[\u001B[38;5;241m0\u001B[39m]\u001B[38;5;241m.\u001B[39mvlines(\u001B[38;5;241m0\u001B[39m, \u001B[38;5;241m1000\u001B[39m, \u001B[38;5;241m0\u001B[39m, color\u001B[38;5;241m=\u001B[39m\u001B[38;5;124m'\u001B[39m\u001B[38;5;124mk\u001B[39m\u001B[38;5;124m'\u001B[39m, lw\u001B[38;5;241m=\u001B[39max_linewidth, alpha\u001B[38;5;241m=\u001B[39m\u001B[38;5;241m0.5\u001B[39m)\n\u001B[1;32m      5\u001B[0m ax[\u001B[38;5;241m0\u001B[39m]\u001B[38;5;241m.\u001B[39mhlines([p_lcl\u001B[38;5;241m/\u001B[39m\u001B[38;5;241m100\u001B[39m, lzb(ds_hot_day\u001B[38;5;241m.\u001B[39mklzbs)\u001B[38;5;241m/\u001B[39m\u001B[38;5;241m100\u001B[39m], \u001B[38;5;241m-\u001B[39m\u001B[38;5;241m4\u001B[39m, \u001B[38;5;241m4\u001B[39m, color\u001B[38;5;241m=\u001B[39m\u001B[38;5;124m'\u001B[39m\u001B[38;5;124mk\u001B[39m\u001B[38;5;124m'\u001B[39m, lw\u001B[38;5;241m=\u001B[39max_linewidth, alpha\u001B[38;5;241m=\u001B[39m\u001B[38;5;241m0.5\u001B[39m)\n",
      "File \u001B[0;32m~/miniforge3/envs/Isca/lib/python3.9/site-packages/xarray/core/common.py:278\u001B[0m, in \u001B[0;36mAttrAccessMixin.__getattr__\u001B[0;34m(self, name)\u001B[0m\n\u001B[1;32m    276\u001B[0m         \u001B[38;5;28;01mwith\u001B[39;00m suppress(\u001B[38;5;167;01mKeyError\u001B[39;00m):\n\u001B[1;32m    277\u001B[0m             \u001B[38;5;28;01mreturn\u001B[39;00m source[name]\n\u001B[0;32m--> 278\u001B[0m \u001B[38;5;28;01mraise\u001B[39;00m \u001B[38;5;167;01mAttributeError\u001B[39;00m(\n\u001B[1;32m    279\u001B[0m     \u001B[38;5;124mf\u001B[39m\u001B[38;5;124m\"\u001B[39m\u001B[38;5;132;01m{\u001B[39;00m\u001B[38;5;28mtype\u001B[39m(\u001B[38;5;28mself\u001B[39m)\u001B[38;5;241m.\u001B[39m\u001B[38;5;18m__name__\u001B[39m\u001B[38;5;132;01m!r}\u001B[39;00m\u001B[38;5;124m object has no attribute \u001B[39m\u001B[38;5;132;01m{\u001B[39;00mname\u001B[38;5;132;01m!r}\u001B[39;00m\u001B[38;5;124m\"\u001B[39m\n\u001B[1;32m    280\u001B[0m )\n",
      "\u001B[0;31mAttributeError\u001B[0m: 'Dataset' object has no attribute 't_ref'"
     ]
    },
    {
     "data": {
      "text/plain": "<Figure size 1000x500 with 3 Axes>",
      "image/png": "[encoded data removed]"
     },
     "metadata": {},
     "output_type": "display_data"
    }
   ],
   "source": [
    "n_day_seconds =  24 * 60**2\n",
    "fig, ax = plt.subplots(1,3, figsize=(10, 5), sharey=True)\n",
    "ax[0].plot(ds_hot_day.t_ref - ds_hot_day.temp, p_all/100, color=default_colors[1], alpha=0.6)\n",
    "ax[0].vlines(0, 1000, 0, color='k', lw=ax_linewidth, alpha=0.5)\n",
    "ax[0].hlines([p_lcl/100, lzb(ds_hot_day.klzbs)/100], -4, 4, color='k', lw=ax_linewidth, alpha=0.5)\n",
    "ax[0].scatter(temp_lcl, p_lcl/100, color='k', marker='x', s=50)\n",
    "ax[0].set_xlim(-4, 4)\n",
    "ax[0].set_xlabel('Temperature Difference (reference - simulated) [K]')\n",
    "\n",
    "ax[1].plot(ds_hot_day.dt_tg_diffusion * n_day_seconds, p_all/100, label='Vertical diffusion')\n",
    "ax[1].plot(ds_hot_day.dt_tg_condensation * n_day_seconds, p_all/100, label='Condensation')\n",
    "ax[1].plot(ds_hot_day.dt_tg_convection * n_day_seconds, p_all/100, label='Convection')\n",
    "try:\n",
    "    ax[1].plot(ds_hot_day.tdt_rad * n_day_seconds, p_all/100, label='Radiation')\n",
    "    ax[1].plot((ds_hot_day.dt_tg_convection + ds_hot_day.dt_tg_condensation + ds_hot_day.dt_tg_diffusion + ds_hot_day.tdt_rad) * n_day_seconds, \n",
    "               p_all/100, label='Net', color='k', linestyle=':')\n",
    "except AttributeError:\n",
    "    ax[1].plot((ds_hot_day.dt_tg_convection + ds_hot_day.dt_tg_condensation + ds_hot_day.dt_tg_diffusion) * n_day_seconds, \n",
    "               p_all/100, label='Net', color='k', linestyle=':')\n",
    "ax[1].hlines([p_lcl/100, lzb(ds_hot_day.klzbs)/100], -30, 30, color='k', lw=ax_linewidth, alpha=0.5, label='LCL')\n",
    "ax[1].vlines(0, 1000, 0, color='k', lw=ax_linewidth, alpha=0.5)\n",
    "ax[1].set_xlim(-30, 30)\n",
    "ax[1].set_xlabel('Temperature tendency [K/day]')\n",
    "ax[1].legend()\n",
    "\n",
    "# ax[0].set_xlim(270, 290)\n",
    "ax[2].plot(ds_hot_day.omega, p_all/100)\n",
    "ax[2].hlines([p_lcl/100, lzb(ds_hot_day.klzbs)/100], -0.35, 0.05, color='k', lw=ax_linewidth, alpha=0.5, label='LCL')\n",
    "ax[2].vlines(0, 1000, 0, color='k', lw=ax_linewidth, alpha=0.5)\n",
    "ax[2].set_xlim(-0.35, 0.05)\n",
    "ax[2].set_xlabel('$\\omega$ [Pa/s]')\n",
    "\n",
    "ax[0].invert_yaxis()\n",
    "ax[0].set_ylim(1000, 0)\n",
    "ax[0].set_ylabel('Pressure [hPa]')\n",
    "fig.suptitle(f'Hottest Day for $\\kappa={tau_lw[0]}$ simulation ($|\\phi|<20\\degree$)', fontsize=10)\n",
    "plt.tight_layout()"
   ],
   "metadata": {
    "collapsed": false,
    "ExecuteTime": {
     "end_time": "2025-06-16T15:31:50.246790Z",
     "start_time": "2024-03-15T15:15:29.797433Z"
    }
   }
  },
  {
   "cell_type": "markdown",
   "source": [
    "### Days preceeding and after the hottest day\n",
    "#### Surface\n",
    "In these plots, the thick lines at $p=1000hPa$ show the surface temperatures.\n",
    "\n",
    "Here, we see that prior to the hottest day, the surface temperature starts to decrease, but there is a lag in the atmosphere, so it is still increasing.\n",
    "\n",
    "After the hottest day, both surface and near-surface temperatures decrease."
   ],
   "metadata": {
    "collapsed": false
   }
  },
  {
   "cell_type": "code",
   "execution_count": null,
   "outputs": [],
   "source": [
    "n_days_prior = 4\n",
    "color_seq = plt.cm.jet(np.linspace(0,1,n_days_prior+1))\n",
    "fig, ax = plt.subplots(1,2, figsize=(10, 5), sharey=True, sharex=True)\n",
    "for i in range(n_days_prior+1):\n",
    "    ds_use = ds[0].isel(lat=int(max_surf_temp_ind['lat']), lon_time=int(max_surf_temp_ind['lon_time'])-(n_days_prior-i))\n",
    "    # ax[0].plot(ds_use.t_ref, p_all/100, color=color_seq[i])\n",
    "    ax[0].plot(ds_use.temp, p_all/100, color=color_seq[i], label=f'{-(n_days_prior-i)}')\n",
    "    ax[0].scatter(ds_use.t_surf, 1000, color=color_seq[i], marker='|', s=300, lw=3)\n",
    "    # ax[0].plot(ds_use.t_ref, p_all/100, color=color_seq[i], linestyle=':')\n",
    "    # temp_ref_manual_use, temp_lcl_use, p_lcl_use = get_temp_ref(ds_use.temp[-1], p_all[-1], ds_use.sphum[-1], p_all)\n",
    "    # ax[0].plot(temp_ref_manual_use, p_all/100, color=color_seq[i])\n",
    "for i in range(n_days_prior+1):\n",
    "    ds_use = ds[0].isel(lat=int(max_surf_temp_ind['lat']), lon_time=int(max_surf_temp_ind['lon_time'])+n_days_prior-i)\n",
    "    # ax[1].plot(ds_use.t_ref - ds_hot_day.t_ref, p_all/100, color=color_seq[i])\n",
    "    ax[1].plot(ds_use.temp, p_all/100, color=color_seq[i], label=f'{n_days_prior-i}')\n",
    "    ax[1].scatter(ds_use.t_surf, 1000, color=color_seq[i], marker='|', s=300, lw=3)\n",
    "    # ax[1].plot(temp_ref_manual_use, p_all/100, color=color_seq[i])\n",
    "ax[0].legend(title='Time relative to\\nhottest day [days]')\n",
    "ax[1].legend(title='Time relative to\\nhottest day [days]')\n",
    "ax[0].invert_yaxis()\n",
    "ax[0].set_xlim(285, 306)\n",
    "ax[0].set_ylim(1000, 770)\n",
    "fig.supxlabel('Temperature [K]', fontsize=8)\n",
    "ax[0].set_ylabel('Pressure [hPa]')\n",
    "plt.tight_layout()"
   ],
   "metadata": {
    "collapsed": false
   }
  },
  {
   "cell_type": "markdown",
   "source": [
    "#### Temperature profile relative to convective reference profile\n",
    "Here I plot the temperature profiles relative to that of the hottest day. The dotted lines show the reference profiles. The thick lines at $p=1000hPa$ show the surface temperatures relative to the lowest atmospheric level temperature of the hottest day.\n",
    "\n",
    "Here, we see that 4 days prior to the hottest day, the temperature profile is almost exactly the convectively neutral one, but soon starts to deviate."
   ],
   "metadata": {
    "collapsed": false
   }
  },
  {
   "cell_type": "code",
   "execution_count": null,
   "outputs": [],
   "source": [
    "fig, ax = plt.subplots(1,2, figsize=(10, 5), sharey=True, sharex=True)\n",
    "for i in range(n_days_prior+1):\n",
    "    ds_use = ds[0].isel(lat=int(max_surf_temp_ind['lat']), lon_time=int(max_surf_temp_ind['lon_time'])-(n_days_prior-i))\n",
    "    ax[0].plot(ds_use.temp - ds_hot_day.temp, p_all/100, color=color_seq[i], label=f'{-(n_days_prior-i)}')\n",
    "    ax[0].plot(ds_use.t_ref - ds_hot_day.temp, p_all/100, color=color_seq[i], linestyle=':', alpha=0.6)\n",
    "    ax[0].scatter(ds_use.t_surf - ds_hot_day.temp[-1], 1000, color=color_seq[i], marker='|', s=300, lw=3)\n",
    "    # temp_ref_manual_use, temp_lcl_use, p_lcl_use = get_temp_ref(ds_use.temp[-1], p_all[-1], ds_use.sphum[-1], p_all)\n",
    "    # ax[0].plot(temp_ref_manual_use, p_all/100, color=color_seq[i])\n",
    "for i in range(n_days_prior+1):\n",
    "    ds_use = ds[0].isel(lat=int(max_surf_temp_ind['lat']), lon_time=int(max_surf_temp_ind['lon_time'])+n_days_prior-i)\n",
    "    ax[1].plot(ds_use.temp - ds_hot_day.temp, p_all/100, color=color_seq[i], label=f'{n_days_prior-i}')\n",
    "    ax[1].plot(ds_use.t_ref - ds_hot_day.temp, p_all/100, color=color_seq[i], linestyle=':', alpha=0.6)\n",
    "    ax[1].scatter(ds_use.t_surf - ds_hot_day.temp[-1], 1000, color=color_seq[i], marker='|', s=300, lw=3)\n",
    "    # ax[1].scatter(ds_use.t_surf - ds_hot_day.t_surf, 1000, color=color_seq[i], marker='x', s=50)\n",
    "    # ax[1].plot(temp_ref_manual_use, p_all/100, color=color_seq[i])\n",
    "ax[0].invert_yaxis()\n",
    "ax[0].set_ylim(1000, 200)\n",
    "ax[0].legend(title='Time relative to\\nhottest day [days]')\n",
    "ax[1].legend(title='Time relative to\\nhottest day [days]')\n",
    "fig.supxlabel('Temperature relative to hottest day [K]', fontsize=8)\n",
    "ax[0].set_ylabel('Pressure [hPa]')\n",
    "plt.tight_layout()\n",
    "# fig.savefig(f\"/Users/joshduffield/Desktop/temp_rel.jpeg\",\n",
    "#                     dpi=dpi['combination'] if publish_fig else low_dpi, bbox_inches='tight', pad_inches=save_pad_inches)"
   ],
   "metadata": {
    "collapsed": false
   }
  },
  {
   "cell_type": "markdown",
   "source": [
    "#### Vertical wind speed, $\\omega$\n",
    "Here, we see than there is a transition from descent to ascent in the days proceeding the hottest day, and that the hottest day has the largest ascent."
   ],
   "metadata": {
    "collapsed": false
   }
  },
  {
   "cell_type": "code",
   "execution_count": null,
   "outputs": [],
   "source": [
    "fig, ax = plt.subplots(1,2, figsize=(10, 5), sharey=True, sharex=True)\n",
    "for i in range(n_days_prior+1):\n",
    "    ds_use = ds[0].isel(lat=int(max_surf_temp_ind['lat']), lon_time=int(max_surf_temp_ind['lon_time'])-(n_days_prior-i))\n",
    "    ax[0].plot(ds_use.omega, p_all/100, color=color_seq[i], label=f'{-(n_days_prior-i)}')\n",
    "    ds_use = ds[0].isel(lat=int(max_surf_temp_ind['lat']), lon_time=int(max_surf_temp_ind['lon_time'])+n_days_prior-i)\n",
    "    ax[1].plot(ds_use.omega, p_all/100, color=color_seq[i], label=f'{n_days_prior-i}')\n",
    "    # temp_ref_manual_use, temp_lcl_use, p_lcl_use = get_temp_ref(ds_use.temp[-1], p_all[-1], ds_use.sphum[-1], p_all)\n",
    "    # ax[0].plot(temp_ref_manual_use, p_all/100, color=color_seq[i])\n",
    "ax[0].vlines(0, 1000, 0, color='k', lw=ax_linewidth)\n",
    "ax[1].vlines(0, 1000, 0, color='k', lw=ax_linewidth)\n",
    "ax[0].invert_yaxis()\n",
    "ax[0].legend(title='Time relative to\\nhottest day [days]')\n",
    "ax[1].legend(title='Time relative to\\nhottest day [days]')\n",
    "ax[0].set_ylim(1000, 200)\n",
    "fig.supxlabel('$\\omega$ [Pa/s]', fontsize=8)\n",
    "ax[0].set_ylabel('Pressure [hPa]')\n",
    "plt.tight_layout()"
   ],
   "metadata": {
    "collapsed": false
   }
  },
  {
   "cell_type": "markdown",
   "source": [
    "#### Temperature Tendency\n",
    "This shows how the net (solid lines) and vertical diffusion (dotted) vary before and after the hottest day."
   ],
   "metadata": {
    "collapsed": false
   }
  },
  {
   "cell_type": "code",
   "execution_count": null,
   "outputs": [],
   "source": [
    "fig, ax = plt.subplots(1,2, figsize=(10, 5), sharey=True, sharex=True)\n",
    "for i in range(n_days_prior+1):\n",
    "    ds_use = ds[0].isel(lat=int(max_surf_temp_ind['lat']), lon_time=int(max_surf_temp_ind['lon_time'])-(n_days_prior-i))\n",
    "    ax[0].plot((ds_use.dt_tg_diffusion+ds_use.dt_tg_convection+ds_use.dt_tg_condensation + ds_hot_day.tdt_rad) * n_day_seconds, p_all/100, \n",
    "           color=color_seq[i], label=f'{-(n_days_prior-i)}')\n",
    "    ax[0].plot(ds_use.dt_tg_diffusion * n_day_seconds, p_all/100, color=color_seq[i], linestyle=':', alpha=0.6)\n",
    "for i in range(n_days_prior+1):\n",
    "    ds_use = ds[0].isel(lat=int(max_surf_temp_ind['lat']), lon_time=int(max_surf_temp_ind['lon_time'])+n_days_prior-i)\n",
    "    ax[1].plot((ds_use.dt_tg_diffusion+ds_use.dt_tg_convection+ds_use.dt_tg_condensation + ds_hot_day.tdt_rad) * n_day_seconds, p_all/100, \n",
    "           color=color_seq[i], label=f'{n_days_prior-i}')\n",
    "    ax[1].plot(ds_use.dt_tg_diffusion * n_day_seconds, p_all/100, color=color_seq[i], linestyle=':', alpha=0.6)\n",
    "ax[0].invert_yaxis()\n",
    "ax[0].vlines(0, 1000, 0, color='k', lw=ax_linewidth)\n",
    "ax[1].vlines(0, 1000, 0, color='k', lw=ax_linewidth)\n",
    "ax[0].legend(title='Time relative to\\nhottest day [days]')\n",
    "ax[1].legend(title='Time relative to\\nhottest day [days]')\n",
    "ax[0].set_ylim(1000, 200)\n",
    "ax[0].set_ylabel('Pressure [hPa]')\n",
    "fig.supxlabel('Temperature tendency [K/day]', fontsize=8)\n",
    "plt.tight_layout()\n",
    "# fig.savefig(f\"/Users/joshduffield/Desktop/temp_tend.jpeg\",\n",
    "#                     dpi=dpi['combination'] if publish_fig else low_dpi, bbox_inches='tight', pad_inches=save_pad_inches)"
   ],
   "metadata": {
    "collapsed": false
   }
  },
  {
   "cell_type": "markdown",
   "source": [
    "### Scatter Plot of specific humidity vs temperature"
   ],
   "metadata": {
    "collapsed": false
   }
  },
  {
   "cell_type": "code",
   "execution_count": null,
   "outputs": [],
   "source": [
    "fig, ax = plt.subplots(1, 2, figsize=(13, 5))\n",
    "\n",
    "# #color by latitude\n",
    "# ax[0].scatter(ds[0].temp[-1], ds[0].sphum[-1], alpha=0.01, \n",
    "#               c=np.abs(ds[0].lat).where(ds[0].temp[-1]<np.inf), vmin=0, vmax=20)\n",
    "# ax[1].scatter(ds[1].temp[-1]-ds[0].temp[-1], ds[1].sphum[-1]-ds[0].sphum[-1], alpha=0.01, \n",
    "#               c=np.abs(ds[0].lat).where(ds[0].temp[-1]<np.inf), vmin=0, vmax=20)\n",
    "# im = ax[1].scatter(0, 0, c=5, s=0, vmin=0, vmax=20)       # add a marker you can't see, for the colorbar\n",
    "# plt.colorbar(im, label='Absolute latitude [deg]')\n",
    "\n",
    "# #color by k=1 temperature\n",
    "ax[0].scatter(ds[0].temp[-1], ds[0].sphum[-1], alpha=0.01)\n",
    "ax[1].scatter(ds[1].temp[-1]-ds[0].temp[-1], ds[1].sphum[-1]-ds[0].sphum[-1], alpha=0.01, \n",
    "              c=ds[0].temp[-1], vmin=280, vmax=300)\n",
    "im = ax[1].scatter(0, 0, c=5, s=0, vmin=280, vmax=300)       # add a marker you can't see, for the colorbar\n",
    "plt.colorbar(im, label=f'$\\kappa={tau_lw[0]}$ temperature [K]')\n",
    "\n",
    "fig.supxlabel('Near-surface Temperature [K]', fontsize=8)\n",
    "ax[0].set_ylabel('Near-surface Specific Humidity [kg/kg]')\n",
    "ax[0].set_title(f'Reference: $\\kappa={tau_lw[0]}$')\n",
    "ax[1].set_title(f'Difference: $(\\kappa={tau_lw[1]}) - (\\kappa={tau_lw[0]})$')\n",
    "plt.tight_layout()"
   ],
   "metadata": {
    "collapsed": false
   }
  },
  {
   "cell_type": "markdown",
   "source": [
    "## Influence of $\\omega$\n",
    "From the above plots, it was noticeable that the hottest day had a very negative $\\omega$. \n",
    "\n",
    "Below, I show that there is a strong correlation for how negative $\\omega$ is, and by how much the simulated temperature profile differs from the convective reference profile.\n",
    "\n",
    "I.e. the more ascent there is, the less influence convection has on the temperature profile."
   ],
   "metadata": {
    "collapsed": false
   }
  },
  {
   "cell_type": "code",
   "execution_count": null,
   "outputs": [],
   "source": [
    "# See if deviation from reference profile is related to fast ascent\n",
    "pressure_lzb = [lzb(ds[i].klzbs.where(ds[i].klzbs>=1))/100 for i in range(n_exp)]           # pressure of LZB\n",
    "# highest altitude reached by convection is where temperature tendency is first non zero due to convection\n",
    "pressure_min_conv_dt_tg_thresh = 0.01/n_day_seconds     # have temp tendency larger than 0.01K/day\n",
    "pressure_min_conv = [ds[i].pfull.where(np.abs(ds[i].dt_tg_convection)>pressure_min_conv_dt_tg_thresh).min(dim='pfull') for i in range(n_exp)] \n",
    "# p_use = np.logical_and(p_all > 200 * 100, p_all < 900 * 100)  # Avoid surface and far above LNB\n",
    "\n",
    "# If LZB at lower altitude, replace conv pressure with this\n",
    "omega_max = []\n",
    "thresh_p_use_upper = 900        # ignore close to surface\n",
    "for i in range(n_exp):\n",
    "    pressure_min_conv[i].values = np.asarray([pressure_lzb[i], pressure_min_conv[i]]).max(axis=0)  \n",
    "    p_use = np.logical_and(ds[i].pfull>=pressure_min_conv[i], ds[i].pfull<thresh_p_use_upper)\n",
    "    omega_max += [ds[i].omega.where(p_use).min(dim=['pfull']) for i in range(n_exp)]\n",
    "    # Calculate max variables only at reference simulation\n",
    "    if i == 0:\n",
    "        ref_temp_dev_max = (ds[0].t_ref - ds[0].temp).where(p_use).max(dim=['pfull'])\n",
    "        diffusion_tendancy_max = ds[0].dt_tg_diffusion.where(p_use).min(dim=['pfull'])\n",
    "        mse_dev_max = (moist_static_energy(ds[0].temp[-1], ds[0].sphum[-1], ds[0].height[-1]) - \n",
    "               moist_static_energy(ds[0].temp, sphum_sat(ds[0].temp, p_all), ds[0].height)).where(p_use)\n",
    "        mse_dev_max = mse_dev_max.max(dim=['pfull'])*1000/c_p       # convert into Kelvin\n",
    "\n",
    "        mse_dev_max_ref = (moist_static_energy(ds[0].temp[-1], ds[0].sphum[-1], ds[0].height[-1]) - \n",
    "                   moist_static_energy(ds[0].t_ref, sphum_sat(ds[0].t_ref, p_all), ds[0].height)).where(p_use)\n",
    "        mse_dev_max_ref = mse_dev_max_ref.max(dim=['pfull'])*1000/c_p"
   ],
   "metadata": {
    "collapsed": false
   }
  },
  {
   "cell_type": "code",
   "execution_count": null,
   "outputs": [],
   "source": [
    "mse_dev_thresh = 9\n",
    "fig, ax = plt.subplots(1, 3, figsize=(13, 5))\n",
    "p_conv_use_thresh = 900             # only show days with min convective pressure less than this\n",
    "p_conv_use = pressure_min_conv[0] < p_conv_use_thresh\n",
    "lat_ind_scatter = None            # combine all latitudes\n",
    "# lat_ind_scatter = -1\n",
    "if lat_ind_scatter is not None:\n",
    "    p_conv_use = np.logical_and(p_conv_use, np.abs(ref_temp_dev_max.lat)==np.unique(np.abs(ref_temp_dev_max.lat))[lat_ind_scatter])\n",
    "\n",
    "# Color by convective pressure\n",
    "# ax[0].scatter(ref_temp_dev_max.where(p_conv_use), mse_dev_max.where(p_conv_use), alpha=0.1, \n",
    "#               c=pressure_min_conv.where(p_conv_use), vmin=200, vmax=p_conv_use_thresh)\n",
    "# ax[1].scatter(omega_max.where(p_conv_use), mse_dev_max.where(p_conv_use), alpha=0.1, \n",
    "#               c=pressure_min_conv.where(p_conv_use), vmin=200, vmax=p_conv_use_thresh)\n",
    "# ax[2].scatter(omega_max.where(p_conv_use), ref_temp_dev_max.where(p_conv_use), alpha=0.1, \n",
    "#               c=pressure_min_conv.where(p_conv_use), vmin=200, vmax=p_conv_use_thresh)\n",
    "# im = ax[2].scatter(0, 0, c=500, s=0, vmin=200, vmax=p_conv_use_thresh)       # add a marker you can't see, for the colorbar\n",
    "# plt.colorbar(im, label='Min Convective Pressure [hPa]')\n",
    "\n",
    "# Color by latitude\n",
    "# ax[0].scatter(ref_temp_dev_max.where(p_conv_use), mse_dev_max.where(p_conv_use), alpha=0.1, \n",
    "#               c=np.abs(ref_temp_dev_max.lat).where(p_conv_use), vmin=0, vmax=20)\n",
    "# ax[1].scatter(omega_max.where(p_conv_use), mse_dev_max.where(p_conv_use), alpha=0.1, \n",
    "#               c=np.abs(ref_temp_dev_max.lat).where(p_conv_use), vmin=0, vmax=20)\n",
    "# ax[2].scatter(omega_max.where(p_conv_use), ref_temp_dev_max.where(p_conv_use), alpha=0.1, \n",
    "#               c=np.abs(ref_temp_dev_max.lat).where(p_conv_use), vmin=0, vmax=20)\n",
    "# im = ax[2].scatter(0, 0, c=5, s=0, vmin=0, vmax=20)       # add a marker you can't see, for the colorbar\n",
    "# plt.colorbar(im, label='Absolute latitude [deg]')\n",
    "\n",
    "# Color by difference between profile and convective profile\n",
    "ax[0].scatter(ref_temp_dev_max.where(p_conv_use), mse_dev_max.where(p_conv_use), alpha=0.1, \n",
    "              c=(mse_dev_max-mse_dev_max_ref).where(p_conv_use), vmin=0, vmax=8)\n",
    "ax[1].scatter(omega_max[0].where(p_conv_use), mse_dev_max.where(p_conv_use), alpha=0.1, \n",
    "              c=(mse_dev_max-mse_dev_max_ref).where(p_conv_use), vmin=0, vmax=8)\n",
    "ax[2].scatter(omega_max[0].where(p_conv_use), ref_temp_dev_max.where(p_conv_use), alpha=0.1, \n",
    "              c=(mse_dev_max-mse_dev_max_ref).where(p_conv_use), vmin=0, vmax=8)\n",
    "im = ax[2].scatter(0, 0, c=3, s=0, vmin=0, vmax=8)       # add a marker you can't see, for the colorbar\n",
    "plt.colorbar(im, label='Max MSE Difference -\\nMax ref MSE Difference [K]')\n",
    "\n",
    "ax[0].hlines(mse_dev_thresh, -0.1, 3.4, color='k', lw=ax_linewidth)\n",
    "ax[1].hlines(mse_dev_thresh, -0.9, 0.1, color='k', lw=ax_linewidth)\n",
    "ax[0].set_xlabel('Max Temperature Difference \\n(reference - simulated) [K]')\n",
    "ax[0].set_ylabel('Max MSE Difference (surface - saturated) [K]')\n",
    "ax[1].set_xlabel('Min $\\omega$')\n",
    "ax[1].set_ylabel('Max MSE Difference (surface - saturated) [K]')\n",
    "ax[2].set_xlabel('Min $\\omega$')\n",
    "ax[2].set_ylabel('Max Temperature Difference \\n(reference - simulated) [K]')\n",
    "ax[0].set_ylim(-10, 15)\n",
    "ax[1].set_ylim(-10, 15)\n",
    "ax[0].set_xlim(-0.2, 3.4)\n",
    "ax[2].set_ylim(-0.2, 3.4)\n",
    "ax[1].set_xlim(-0.9, 0.2)\n",
    "ax[2].set_xlim(-0.9, 0.2)\n",
    "# fig.suptitle(f'$\\kappa={tau_lw[0]}$ simulation ($|\\phi|<20\\degree$; 200hPa-900hPa)', fontsize=10)\n",
    "if lat_ind_scatter is None:\n",
    "    fig.suptitle(f'$\\kappa={tau_lw[0]}$ simulation ($|\\phi|<20\\degree$; Min Convection Pressure-900hPa)', fontsize=10)\n",
    "else:\n",
    "    fig.suptitle(f'$\\kappa={tau_lw[0]}$ simulation ($|\\phi|={round(np.unique(np.abs(ref_temp_dev_max.lat))[lat_ind_scatter], 1)}\\degree$; '\n",
    "                 f'Min Convection Pressure-900hPa)', fontsize=10)\n",
    "plt.tight_layout()"
   ],
   "metadata": {
    "collapsed": false
   }
  },
  {
   "cell_type": "code",
   "execution_count": null,
   "outputs": [],
   "source": [
    "# # Plot only days with large MSE deviation\n",
    "# fig, ax = plt.subplots(1, 1, figsize=(6, 5))\n",
    "# ax.scatter(omega_max[0].where(mse_dev_max>mse_dev_thresh), ref_temp_dev_max.where(mse_dev_max>mse_dev_thresh), \n",
    "#            c=pressure_min_conv[0].where(mse_dev_max>mse_dev_thresh), alpha=0.1, vmin=200, vmax=900)\n",
    "# im = ax.scatter(0, 0, c=500, s=0, vmin=200, vmax=900)\n",
    "# plt.colorbar(im, label='Min Convective Pressure [hPa]')\n",
    "# ax.set_xlabel('Min $\\omega$')\n",
    "# ax.set_ylabel('Max Temperature Difference \\n(reference - simulated) [K]')\n",
    "# fig.suptitle(f'$\\kappa={tau_lw[0]}$ simulation ($|\\phi|<20\\degree$; 200-900hPa)\\nMax MSE Difference > {mse_dev_thresh}K', fontsize=10)\n",
    "# plt.tight_layout()"
   ],
   "metadata": {
    "collapsed": false
   }
  },
  {
   "cell_type": "markdown",
   "source": [
    "### Vertical Diffusion Tendency\n",
    "Below, I do a scatter plot of vertical diffusion tendency vs temperature difference to convective profile. The idea is that maybe a large vertical diffusion term is responsible for a deviation from the convective profile. But the correlation is much less strong than with $\\omega$, so this doesn't appear to be the case."
   ],
   "metadata": {
    "collapsed": false
   }
  },
  {
   "cell_type": "code",
   "execution_count": null,
   "outputs": [],
   "source": [
    "fig, ax = plt.subplots(1, 2, figsize=(10, 5))\n",
    "ax[0].scatter(omega_max[0], ref_temp_dev_max, alpha=0.01)\n",
    "ax[1].scatter(diffusion_tendancy_max * 24 * 60 ** 2, ref_temp_dev_max, alpha=0.01)\n",
    "ax[0].set_ylabel('Max Temperature Difference between 200hPa - 900hPa\\n(reference - simulated) [K]')\n",
    "ax[0].set_xlabel('Min $\\omega$ between 200hPa - 900hPa [Pa/s]')\n",
    "ax[1].set_xlabel('Min vertical diffusion tendency between 200hPa - 900hPa [K/day]')\n",
    "fig.suptitle(f'$\\kappa={tau_lw[0]}$ simulation ($|\\phi|<20\\degree$)', fontsize=10)\n",
    "plt.tight_layout()"
   ],
   "metadata": {
    "collapsed": false
   }
  },
  {
   "cell_type": "markdown",
   "source": [
    "### Convective altitude reached\n",
    "Below I show that the altitude that convection reaches increases (min pressure decreases) with near-surface temperature and latitude."
   ],
   "metadata": {
    "collapsed": false
   }
  },
  {
   "cell_type": "code",
   "execution_count": null,
   "outputs": [],
   "source": [
    "# Show hottest days have convection that reaches a higher altitude (lower pressure)\n",
    "fig, ax = plt.subplots(1, 1, figsize=(6, 5))\n",
    "ax.scatter(pressure_min_conv[0], ds[0].temp[-1], c=np.abs(ds[0].lat.where(ds[0].temp[-1]>0)), alpha=0.01, vmin=lat_min, vmax=lat_max)\n",
    "im = ax.scatter(250, 300, c=5, s=0, vmin=lat_min, vmax=lat_max)       # add a marker you can't see, for the colorbar\n",
    "plt.colorbar(im, label='Absolute latitude [deg]')\n",
    "ax.set_xlabel('Min Convective Pressure [hPa]')\n",
    "ax.set_ylabel('Near-surface Temperature [K]')\n",
    "plt.tight_layout()"
   ],
   "metadata": {
    "collapsed": false
   }
  },
  {
   "cell_type": "markdown",
   "source": [
    "### Influence of $\\omega$ on MSE deviation from convective neutral profile\n",
    "\n",
    "Below, I show that for the MSE difference to be greater than the ref profile MSE difference (i.e. for the actual profile to not be the one that convection is relaxing it towards), a large ascent is required."
   ],
   "metadata": {
    "collapsed": false
   }
  },
  {
   "cell_type": "code",
   "execution_count": null,
   "outputs": [],
   "source": [
    "# Show that it is not really possible to differ from convectively neutral profile without large ascent\n",
    "fig, ax = plt.subplots(1, 1, figsize=(6, 5))\n",
    "ax.scatter(omega_max[0], mse_dev_max-mse_dev_max_ref, alpha=0.01)\n",
    "# ax.scatter(ds[0].ucomp[-1], mse_dev_max-mse_dev_max_ref, alpha=0.01)\n",
    "ax.set_xlabel('Min $\\omega$')\n",
    "ax.set_ylabel('Max MSE Difference -\\nMax ref MSE Difference [K]')\n",
    "fig.suptitle(f'$\\kappa={tau_lw[0]}$ simulation ($|\\phi|<20\\degree$; Min Convection Pressure-900hPa)', fontsize=10)\n",
    "plt.tight_layout()"
   ],
   "metadata": {
    "collapsed": false
   }
  },
  {
   "cell_type": "markdown",
   "source": [
    "### LZB vs Min Convective Pressure\n",
    "This just shows that with my new definition of min convective pressure, the LZB pressure is always lower (at higher altitude)."
   ],
   "metadata": {
    "collapsed": false
   }
  },
  {
   "cell_type": "code",
   "execution_count": null,
   "outputs": [],
   "source": [
    "# Show that level of neutral buoyancy (LZB) is always at higher altitude (lower pressure) than level than convection reaches.\n",
    "fig, ax = plt.subplots(1, 1, figsize=(6, 5))\n",
    "ax.scatter(pressure_lzb[0], pressure_min_conv[0])\n",
    "ax.set_xlabel('LZB Pressure [hPa]')\n",
    "ax.set_ylabel('Min Convective Pressure [hPa]')\n",
    "plt.tight_layout()"
   ],
   "metadata": {
    "collapsed": false
   }
  },
  {
   "cell_type": "markdown",
   "source": [
    "### Saturation MSE Deviation at 600hPa\n",
    "This repeats the initial wind scatter plot, but only considers the MSE deviation from the surface at 600hPa, as to better understand what is causing $\\lambda_1 \\neq 1$ in the temperature extreme theory.\n",
    "\n",
    "Only days for which convection reaches a level of 500hPa are considered (i.e. free troposphere level must be between LCL and LNB, so try to ensure this."
   ],
   "metadata": {
    "collapsed": false
   }
  },
  {
   "cell_type": "code",
   "execution_count": null,
   "outputs": [],
   "source": [
    "p_ft = 600\n",
    "\n",
    "ref_temp_dev_ft = [(ds[i].t_ref - ds[i].temp).sel(pfull=p_ft, method='nearest') for i in range(n_exp)]\n",
    "mse_dev_ft = [(moist_static_energy(ds[i].temp[-1], ds[i].sphum[-1], ds[i].height[-1]) - \n",
    "               moist_static_energy(ds[i].temp, sphum_sat(ds[i].temp, p_all), ds[i].height)).sel(pfull=p_ft, method='nearest')*1000/c_p \n",
    "              for i in range(n_exp)]        # convert into Kelvin \n",
    "\n",
    "mse_dev_ft_ref = [(moist_static_energy(ds[i].temp[-1], ds[i].sphum[-1], ds[i].height[-1]) - \n",
    "                   moist_static_energy(ds[i].t_ref, sphum_sat(ds[i].t_ref, p_all), ds[i].height)).sel(pfull=p_ft, method='nearest')*1000/c_p \n",
    "                  for i in range(n_exp)]\n",
    "p_ft_actual = round(float(mse_dev_ft_ref[0].pfull), 1)"
   ],
   "metadata": {
    "collapsed": false
   }
  },
  {
   "cell_type": "code",
   "outputs": [],
   "source": [
    "# plt.scatter(ds[0].klzbs, mse_dev_ft[0], alpha=0.01)"
   ],
   "metadata": {
    "collapsed": false
   },
   "execution_count": null
  },
  {
   "cell_type": "code",
   "execution_count": null,
   "outputs": [],
   "source": [
    "ind_plot = 0        # which experiment to plot\n",
    "fig, ax = plt.subplots(1, 3, figsize=(13, 5))\n",
    "p_conv_use_thresh_ft = 600             # only show days with min convective pressure less than this\n",
    "p_conv_use_ft = [pressure_min_conv[i] < p_conv_use_thresh_ft for i in range(n_exp)]\n",
    "# p_conv_use_ft = pressure_min_conv[ind_plot] > p_conv_use_thresh_ft\n",
    "\n",
    "# Color by convective pressure\n",
    "# ax[0].scatter(ref_temp_dev_max.where(p_conv_use), mse_dev_max.where(p_conv_use), alpha=0.1, \n",
    "#               c=pressure_min_conv.where(p_conv_use), vmin=200, vmax=p_conv_use_thresh)\n",
    "# ax[1].scatter(omega_max.where(p_conv_use), mse_dev_max.where(p_conv_use), alpha=0.1, \n",
    "#               c=pressure_min_conv.where(p_conv_use), vmin=200, vmax=p_conv_use_thresh)\n",
    "# ax[2].scatter(omega_max.where(p_conv_use), ref_temp_dev_max.where(p_conv_use), alpha=0.1, \n",
    "#               c=pressure_min_conv.where(p_conv_use), vmin=200, vmax=p_conv_use_thresh)\n",
    "# im = ax[2].scatter(0, 0, c=500, s=0, vmin=200, vmax=p_conv_use_thresh)       # add a marker you can't see, for the colorbar\n",
    "# plt.colorbar(im, label='Min Convective Pressure [hPa]')\n",
    "\n",
    "# Color by latitude\n",
    "# ax[0].scatter(ref_temp_dev_max.where(p_conv_use), mse_dev_max.where(p_conv_use), alpha=0.1, \n",
    "#               c=np.abs(ref_temp_dev_max.lat).where(p_conv_use), vmin=0, vmax=20)\n",
    "# ax[1].scatter(omega_max.where(p_conv_use), mse_dev_max.where(p_conv_use), alpha=0.1, \n",
    "#               c=np.abs(ref_temp_dev_max.lat).where(p_conv_use), vmin=0, vmax=20)\n",
    "# ax[2].scatter(omega_max.where(p_conv_use), ref_temp_dev_max.where(p_conv_use), alpha=0.1, \n",
    "#               c=np.abs(ref_temp_dev_max.lat).where(p_conv_use), vmin=0, vmax=20)\n",
    "# im = ax[2].scatter(0, 0, c=5, s=0, vmin=0, vmax=20)       # add a marker you can't see, for the colorbar\n",
    "# plt.colorbar(im, label='Absolute latitude [deg]')\n",
    "\n",
    "# Color by difference between profile and convective profile\n",
    "ax[0].scatter(ref_temp_dev_ft[ind_plot].where(p_conv_use_ft[ind_plot]), mse_dev_ft[ind_plot].where(p_conv_use_ft[ind_plot]), alpha=0.1, \n",
    "              c=(mse_dev_ft[ind_plot]-mse_dev_ft_ref[ind_plot]).where(p_conv_use_ft[ind_plot]), vmin=0, vmax=6.5)\n",
    "ax[1].scatter(omega_max[ind_plot].where(p_conv_use_ft[ind_plot]), mse_dev_ft[ind_plot].where(p_conv_use_ft[ind_plot]), alpha=0.1, \n",
    "              c=(mse_dev_ft[ind_plot]-mse_dev_ft_ref[ind_plot]).where(p_conv_use_ft[ind_plot]), vmin=0, vmax=6.5)\n",
    "ax[2].scatter(omega_max[ind_plot].where(p_conv_use_ft[ind_plot]), ref_temp_dev_ft[ind_plot].where(p_conv_use_ft[ind_plot]), alpha=0.1, \n",
    "              c=(mse_dev_ft[ind_plot]-mse_dev_ft_ref[ind_plot]).where(p_conv_use_ft[ind_plot]), vmin=0, vmax=6.5)\n",
    "im = ax[2].scatter(0, 0, c=3, s=0, vmin=0, vmax=6.5)       # add a marker you can't see, for the colorbar\n",
    "plt.colorbar(im, label='MSE Difference -\\nref MSE Difference [K]')\n",
    "\n",
    "# Color by near-surface temperature\n",
    "# ax[0].scatter(ref_temp_dev_ft[ind_plot].where(p_conv_use_ft[ind_plot]), mse_dev_ft[ind_plot].where(p_conv_use_ft[ind_plot]), alpha=0.1, \n",
    "#               c=ds[ind_plot].temp[-1].where(p_conv_use_ft[ind_plot]), vmin=290 if ind_plot==0 else 295, vmax=300 if ind_plot==0 else 304)\n",
    "# ax[1].scatter(omega_max[ind_plot].where(p_conv_use_ft[ind_plot]), mse_dev_ft[ind_plot].where(p_conv_use_ft[ind_plot]), alpha=0.1, \n",
    "#               c=ds[ind_plot].temp[-1].where(p_conv_use_ft[ind_plot]), vmin=290 if ind_plot==0 else 295, vmax=300 if ind_plot==0 else 304)\n",
    "# ax[2].scatter(omega_max[ind_plot].where(p_conv_use_ft[ind_plot]), ref_temp_dev_ft[ind_plot].where(p_conv_use_ft[ind_plot]), alpha=0.1, \n",
    "#               c=ds[ind_plot].temp[-1].where(p_conv_use_ft[ind_plot]), vmin=290 if ind_plot==0 else 295, vmax=300 if ind_plot==0 else 304)\n",
    "# # add a marker you can't see, for the colorbar\n",
    "# im = ax[2].scatter(0, 0, c=3, s=0, vmin=290 if ind_plot==0 else 295, vmax=300 if ind_plot==0 else 304)       \n",
    "# plt.colorbar(im, label='Near-surface Temperature [K]')\n",
    "\n",
    "# Color by u wind\n",
    "# ax[0].scatter(ref_temp_dev_ft[ind_plot].where(p_conv_use_ft[ind_plot]), mse_dev_ft[ind_plot].where(p_conv_use_ft[ind_plot]), alpha=0.1, \n",
    "#               c=ds[ind_plot].ucomp[-1].where(p_conv_use_ft[ind_plot]), vmin=-20, vmax=20, cmap='bwr')\n",
    "# ax[1].scatter(omega_max[ind_plot].where(p_conv_use_ft[ind_plot]), mse_dev_ft[ind_plot].where(p_conv_use_ft[ind_plot]), alpha=0.1, \n",
    "#               c=ds[ind_plot].ucomp[-1].where(p_conv_use_ft[ind_plot]), vmin=-20, vmax=20, cmap='bwr')\n",
    "# ax[2].scatter(omega_max[ind_plot].where(p_conv_use_ft[ind_plot]), ref_temp_dev_ft[ind_plot].where(p_conv_use_ft[ind_plot]), alpha=0.1, \n",
    "#               c=ds[ind_plot].ucomp[-1].where(p_conv_use_ft[ind_plot]), vmin=-20, vmax=20, cmap='bwr')\n",
    "# # add a marker you can't see, for the colorbar\n",
    "# im = ax[2].scatter(0, 0, c=3, s=0, vmin=-20, vmax=20, cmap='bwr')       \n",
    "# plt.colorbar(im, label='Near-surface zonal wind velocity [m/s]')\n",
    "\n",
    "ax[0].hlines(mse_dev_thresh, -0.1, 3.4, color='k', lw=ax_linewidth)\n",
    "ax[1].hlines(mse_dev_thresh, -0.9, 0.1, color='k', lw=ax_linewidth)\n",
    "ax[0].set_xlabel('Temperature Difference \\n(reference - simulated) [K]')\n",
    "ax[0].set_ylabel('MSE Difference (surface - saturated) [K]')\n",
    "ax[1].set_xlabel('Min $\\omega$ (900hPa-Min Convective Pressure)')\n",
    "ax[1].set_ylabel('MSE Difference (surface - saturated) [K]')\n",
    "ax[2].set_xlabel('Min $\\omega$ (900hPa-Min Convective Pressure)')\n",
    "ax[2].set_ylabel('Temperature Difference \\n(reference - simulated) [K]')\n",
    "ax[0].set_ylim(-10, 15)\n",
    "ax[1].set_ylim(-10, 15)\n",
    "ax[0].set_xlim(-0.2, 3.4)\n",
    "ax[2].set_ylim(-0.2, 3.4)\n",
    "ax[1].set_xlim(-0.9, 0.2)\n",
    "ax[2].set_xlim(-0.9, 0.2)\n",
    "# fig.suptitle(f'$\\kappa={tau_lw[0]}$ simulation ($|\\phi|<20\\degree$; 200hPa-900hPa)', fontsize=10)\n",
    "if lat_ind_scatter is None:\n",
    "    fig.suptitle(f'$\\kappa={tau_lw[ind_plot]}$ simulation ($|\\phi|<20\\degree$; p={p_ft_actual}hPa)', fontsize=10)\n",
    "else:\n",
    "    fig.suptitle(f'$\\kappa={tau_lw[ind_plot]}$ simulation '\n",
    "                 f'($|\\phi|={round(np.unique(np.abs(ref_temp_dev_ft[0].lat))[lat_ind_scatter], 1)}\\degree$; '\n",
    "                 f'p={p_ft_actual}hPa)', fontsize=10)\n",
    "plt.tight_layout()"
   ],
   "metadata": {
    "collapsed": false
   }
  },
  {
   "cell_type": "markdown",
   "source": [
    "## $\\kappa=1$ vs $\\kappa=1.5$\n",
    "In the plot below, we see that the relationship between MSE difference and $\\omega$ changes slightly as we move to a warmer climate."
   ],
   "metadata": {
    "collapsed": false
   }
  },
  {
   "cell_type": "code",
   "execution_count": null,
   "outputs": [],
   "source": [
    "def get_linear_fit(x, y):\n",
    "    # linear fitting for a 2D xarray with nan values\n",
    "    x = x.to_numpy().flatten()\n",
    "    y = y.to_numpy().flatten()\n",
    "    # Needs to be not nan for both\n",
    "    use = np.logical_and(np.isfinite(x), np.isfinite(y))\n",
    "    return np.polyfit(x[use], y[use], 1)"
   ],
   "metadata": {
    "collapsed": false
   }
  },
  {
   "cell_type": "code",
   "execution_count": null,
   "outputs": [],
   "source": [
    "fig, ax = plt.subplots(1, 3, figsize=(13, 5))\n",
    "# Color by difference between profile and convective profile\n",
    "for i in range(n_exp):\n",
    "    ax[0].scatter(ref_temp_dev_ft[i].where(p_conv_use_ft[i]), mse_dev_ft[i].where(p_conv_use_ft[i]), alpha=0.01, \n",
    "                  c=default_colors[i])\n",
    "    ax[1].scatter(omega_max[i].where(p_conv_use_ft[i]), mse_dev_ft[i].where(p_conv_use_ft[i]), alpha=0.01, \n",
    "                  c=default_colors[i])    \n",
    "    ax[2].scatter(omega_max[i].where(p_conv_use_ft[i]), ref_temp_dev_ft[i].where(p_conv_use_ft[i]), alpha=0.01, \n",
    "                  c=default_colors[i])\n",
    "    ax[0].scatter(-1000, -1000, c=default_colors[i], label=tau_lw[i])      # for legend, use opaque spot off screen\n",
    "    # grad_use, intercept_use = get_linear_fit(ref_temp_dev_ft[i].where(p_conv_use_ft_diff[i]), mse_dev_ft[i].where(p_conv_use_ft_diff[i]))\n",
    "    # ax[0].plot(np.arange(-1, 4), grad_use * np.arange(-1, 4)+intercept_use, color=default_colors[i])\n",
    "    # grad_use, intercept_use = get_linear_fit(omega_max[i].where(p_conv_use_ft_diff[i]), mse_dev_ft[i].where(p_conv_use_ft_diff[i]))\n",
    "    # ax[1].plot(np.arange(-1, 4), grad_use * np.arange(-1, 4)+intercept_use, color=default_colors[i])\n",
    "    # grad_use, intercept_use = get_linear_fit(omega_max[i].where(p_conv_use_ft_diff[i]), ref_temp_dev_ft[i].where(p_conv_use_ft_diff[i]))\n",
    "    # ax[2].plot(np.arange(-1, 4), grad_use * np.arange(-1, 4)+intercept_use, color=default_colors[i])\n",
    "\n",
    "ax[0].set_xlabel('Temperature Difference \\n(reference - simulated) [K]')\n",
    "ax[0].set_ylabel('MSE Difference (surface - saturated) [K]')\n",
    "ax[1].set_xlabel('Min $\\omega$ (900hPa-Min Convective Pressure)')\n",
    "ax[1].set_ylabel('MSE Difference (surface - saturated) [K]')\n",
    "ax[2].set_xlabel('Min $\\omega$ (900hPa-Min Convective Pressure)')\n",
    "ax[2].set_ylabel('Temperature Difference \\n(reference - simulated) [K]')\n",
    "ax[0].legend(title='$\\kappa$')\n",
    "ax[0].set_ylim(-10, 15)\n",
    "ax[1].set_ylim(-10, 15)\n",
    "ax[0].set_xlim(-0.2, 3.4)\n",
    "ax[2].set_ylim(-0.2, 3.4)\n",
    "ax[1].set_xlim(-0.9, 0.2)\n",
    "ax[2].set_xlim(-0.9, 0.2)\n",
    "# fig.suptitle(f'$\\kappa={tau_lw[0]}$ simulation ($|\\phi|<20\\degree$; 200hPa-900hPa)', fontsize=10)\n",
    "if lat_ind_scatter is None:\n",
    "    fig.suptitle(f'$|\\phi|<20\\degree$; p={p_ft_actual}hPa', fontsize=10)\n",
    "else:\n",
    "    fig.suptitle(f'$|\\phi|={round(np.unique(np.abs(ref_temp_dev_ft[0].lat))[lat_ind_scatter], 1)}\\degree$; p={p_ft_actual}hPa', fontsize=10)\n",
    "plt.tight_layout()"
   ],
   "metadata": {
    "collapsed": false
   }
  },
  {
   "cell_type": "markdown",
   "source": [
    "### How much of MSE difference can be explained by difference to reference profile\n",
    "It seems for days with large $|u|$, a large fraction of the MSE difference can be explained by the profile differing from the reference profile (trend almost follows the red line).\n",
    "\n",
    "For days with small $|u|$, a very small amount can be explained by the profile differing from the reference profile - for these days, the reference profile must differ from a moist adiabat."
   ],
   "metadata": {
    "collapsed": false
   }
  },
  {
   "cell_type": "code",
   "execution_count": null,
   "outputs": [],
   "source": [
    "# plot_var_use = 'diff'\n",
    "plot_var_use = 'ref'\n",
    "fig, ax = plt.subplots(1, 2, figsize=(12, 5), sharex=True, sharey=True)\n",
    "for i in range(n_exp):\n",
    "    # use = mse_dev_ft[i]>0\n",
    "    use = pressure_min_conv[i]<500\n",
    "    # ax[i].scatter(mse_dev_ft[i].where(use), \n",
    "    #               (mse_dev_ft[i]-mse_dev_ft_ref[i]).where(use) if plot_var_use == 'diff' else mse_dev_ft_ref[i].where(use),\n",
    "    #               c=ds[i].ucomp[-1].where(use), vmin=-20, vmax=20, alpha=0.01, cmap='bwr')\n",
    "    # im = ax[i].scatter(-10000, -10000, c=0, vmin=-20, vmax=20, cmap='bwr')\n",
    "    # ax[i].scatter(mse_dev_ft[i].where(use), \n",
    "    #               (mse_dev_ft[i]-mse_dev_ft_ref[i]).where(use) if plot_var_use == 'diff' else mse_dev_ft_ref[i].where(use),\n",
    "    #               c=omega_max[i].where(use), alpha=0.01, vmin=-0.6, vmax=0)\n",
    "    # im = ax[i].scatter(-10000, -10000, c=0, vmin=-0.6, vmax=0)\n",
    "    ax[i].scatter(mse_dev_ft[i].where(use), \n",
    "              (mse_dev_ft[i]-mse_dev_ft_ref[i]).where(use) if plot_var_use == 'diff' else mse_dev_ft_ref[i].where(use),\n",
    "              c=pressure_min_conv[i].where(use), vmin=250, vmax=500, alpha=0.01)\n",
    "    im = ax[i].scatter(-10000, -10000, c=0, vmin=250, vmax=500)\n",
    "    \n",
    "    ax[i].plot(np.arange(-20, 20), np.arange(-20, 20), color='k', lw=ax_linewidth)\n",
    "    ax[i].set_title(f'$\\kappa = {tau_lw[i]}$')\n",
    "ax[0].set_xlim(-1, 17)\n",
    "ax[0].set_ylim(-1, 17)\n",
    "fig.supxlabel(f'MSE Difference (surface - saturated)) [K]', fontsize=8)\n",
    "if plot_var_use == 'diff':\n",
    "    ax[0].set_ylabel('MSE Difference - ref MSE Difference [K]')\n",
    "else:\n",
    "    ax[0].set_ylabel('ref MSE Difference [K]')\n",
    "cbar_ax = fig.add_axes([0.49, 0.15, 0.01, 0.7])     # add axes for colorbar\n",
    "# fig.colorbar(im, cax=cbar_ax, label='$u$ [m/s]', aspect=100, pad=0.01, fraction=0.01)\n",
    "# fig.colorbar(im, cax=cbar_ax, label='Min $\\omega$ (900hPa-Min Convective Pressure) [Pa/s]', aspect=100, pad=0.01, fraction=0.01)\n",
    "fig.colorbar(im, cax=cbar_ax, label='Min Convective Pressure [hPa]', aspect=100, pad=0.01, fraction=0.01)\n",
    "fig.suptitle(f'${lat_min}\\degree<\\phi<{lat_max}\\degree$; p={p_ft_actual}hPa', fontsize=10);"
   ],
   "metadata": {
    "collapsed": false
   }
  },
  {
   "cell_type": "markdown",
   "source": [
    "Look at how many days are in each cluster - seems most are in the ref MSE Difference $\\approx$ 0 one."
   ],
   "metadata": {
    "collapsed": false
   }
  },
  {
   "cell_type": "code",
   "execution_count": null,
   "outputs": [],
   "source": [
    "def get_hist_2d(x, y, n_bins=10, bin_lower=None, bin_upper=None):\n",
    "    # Returns hist counts and center of each bin\n",
    "    x = x.to_numpy().flatten()\n",
    "    y = y.to_numpy().flatten()\n",
    "    use = np.logical_and(np.isfinite(x), np.isfinite(y))\n",
    "    if bin_lower is None:\n",
    "        bin_lower = [x[use].min(), y[use].min()]\n",
    "    if bin_upper is None:\n",
    "        bin_upper = [x[use].max(), y[use].max()]\n",
    "    hist_counts, hist_bins_x, hist_bins_y = np.histogram2d(x[use], y[use], bins=n_bins, \n",
    "                                                           range=[[bin_lower[i], bin_upper[i]] for i in range(2)])\n",
    "    return hist_counts, np.convolve(hist_bins_x, np.ones(2)/2, mode='valid'), np.convolve(hist_bins_y, np.ones(2)/2, mode='valid')"
   ],
   "metadata": {
    "collapsed": false
   }
  },
  {
   "cell_type": "code",
   "execution_count": null,
   "outputs": [],
   "source": [
    "# plot_var_use = 'diff'\n",
    "plot_var_use = 'ref'\n",
    "fig, ax = plt.subplots(1, 2, figsize=(12, 5), sharex=True, sharey=True)\n",
    "hist_bins_use = [0, 0]\n",
    "for i in range(n_exp):\n",
    "    # use = p_conv_use_ft[i]\n",
    "    use = mse_dev_ft[i]>0\n",
    "    hist_counts_use, hist_bins_use[0], hist_bins_use[1] = get_hist_2d(\n",
    "        mse_dev_ft[i].where(use), \n",
    "        (mse_dev_ft[i]-mse_dev_ft_ref[i]).where(use) if plot_var_use == 'diff' else mse_dev_ft_ref[i].where(use), \n",
    "    n_bins=50, bin_lower=[-0.5, -0.5], bin_upper=[10, 10])\n",
    "    im = ax[i].pcolormesh(hist_bins_use[0], hist_bins_use[1], 100*hist_counts_use.transpose()/np.sum(hist_counts_use), \n",
    "                          shading='nearest', vmin=0, vmax=2.3)\n",
    "    ax[i].plot(np.arange(-20, 20), np.arange(-20, 20), color='r', lw=ax_linewidth)\n",
    "    ax[i].set_title(f'$\\kappa = {tau_lw[i]}$')\n",
    "ax[0].set_xlim(-0.5, 10)\n",
    "ax[0].set_ylim(-0.5, 10)\n",
    "cbar_ax = fig.add_axes([0.49, 0.15, 0.01, 0.7])     # add axes for colorbar\n",
    "fig.colorbar(im, cax=cbar_ax, label='% of Days', aspect=100, pad=0.01, fraction=0.01)\n",
    "if plot_var_use == 'diff':\n",
    "    ax[0].set_ylabel('MSE Difference - ref MSE Difference [K]')\n",
    "else:\n",
    "    ax[0].set_ylabel('ref MSE Difference [K]')\n",
    "fig.supxlabel(f'MSE Difference (surface - saturated)) [K]', fontsize=8)\n",
    "fig.suptitle(f'${lat_min}\\degree<\\phi<{lat_max}\\degree$; p={p_ft_actual}hPa', fontsize=10);"
   ],
   "metadata": {
    "collapsed": false
   }
  },
  {
   "cell_type": "markdown",
   "source": [
    "### $\\omega$ and MSE difference histograms\n",
    "Below, we see that $\\omega$ is lower but MSE difference is larger for the $\\kappa=1.5$ simulation."
   ],
   "metadata": {
    "collapsed": false
   }
  },
  {
   "cell_type": "code",
   "execution_count": null,
   "outputs": [],
   "source": [
    "def get_hist(x, n_bins=10, bin_lower=None, bin_upper=None):\n",
    "    # Returns hist counts and center of each bin\n",
    "    x = x.to_numpy().flatten()\n",
    "    x = x[np.isfinite(x)]\n",
    "    if bin_lower is None:\n",
    "        bin_lower = x.min()\n",
    "    if bin_upper is None:\n",
    "        bin_upper = x.max()\n",
    "    hist_counts, hist_bins = np.histogram(x, n_bins, range=(bin_lower, bin_upper))\n",
    "    return hist_counts, np.convolve(hist_bins, np.ones(2)/2, mode='valid')\n",
    "\n",
    "fig, ax = plt.subplots(1, 2, figsize=(12, 5), sharey=True)\n",
    "n_hist_bins = 30\n",
    "bin_omega_range = [-0.55, 0.1]\n",
    "bin_mse_dev_range = [-0.5, 8]\n",
    "\n",
    "for i in range(n_exp):\n",
    "    hist_counts_use, hist_bins_use = get_hist(omega_max[i].where(p_conv_use_ft[i]), n_bins=n_hist_bins, \n",
    "                                              bin_lower=bin_omega_range[0], bin_upper=bin_omega_range[1])\n",
    "    ax[0].plot(hist_bins_use, hist_counts_use/np.sum(hist_counts_use), '-o', label=tau_lw[i])\n",
    "    ax[0].legend(title='$\\kappa$')\n",
    "    ax[0].set_xlabel('Min $\\omega$ (900hPa-Min Convective Pressure)')\n",
    "    ax[0].set_ylabel('Density')\n",
    "    hist_counts_use, hist_bins_use = get_hist(mse_dev_ft[i].where(p_conv_use_ft[i]), n_bins=n_hist_bins, \n",
    "                                              bin_lower=bin_mse_dev_range[0], bin_upper=bin_mse_dev_range[1])\n",
    "    ax[1].plot(hist_bins_use, hist_counts_use/np.sum(hist_counts_use), '-o')\n",
    "    ax[1].set_xlabel(f'MSE Difference (surface - {p_ft_actual}hPa saturated)) [K]')\n",
    "ax[0].set_ylim(0, ax[0].get_ylim()[1])\n",
    "fig.suptitle(f'Days for which MSE Difference - Min Convective Pressure < {p_ft_actual}hPa',\n",
    "             fontsize=9)\n",
    "plt.tight_layout()"
   ],
   "metadata": {
    "collapsed": false
   }
  },
  {
   "cell_type": "markdown",
   "source": [
    "### Consider as function of temperature percentile\n",
    "\n",
    "Below we see that both ascent and MSE difference increase with temperature. $\\kappa=1$ also has larger ascent and smaller MSE difference for any given quantile though.\n",
    "\n",
    "If we plot as function of near-surface temperature though, we see that for any given temperature, $\\kappa=1$ has larger ascent and larger MSE difference."
   ],
   "metadata": {
    "collapsed": false
   }
  },
  {
   "cell_type": "code",
   "execution_count": null,
   "outputs": [],
   "source": [
    "# Get all data needed to compute theoretical temp change and to plot actual temp change for each quantile of temperature\n",
    "quant_plot = np.arange(1, 100)     # avoid 0 quantile as it gives weird results\n",
    "n_quant = len(quant_plot)\n",
    "\n",
    "# mse as function of mse quantile not temp quantile\n",
    "mse_dev_ft_quant3 = np.zeros((n_exp, n_lat, n_quant))\n",
    "mse_dev_ft_ref_quant3 = np.zeros((n_exp, n_lat, n_quant))\n",
    "omega_max_quant3 = np.zeros((n_exp, n_lat, n_quant))\n",
    "quant3_use_count = np.zeros((n_exp, n_lat, n_quant), dtype=int)\n",
    "\n",
    "with tqdm(total=n_exp*n_quant*n_lat, position=0, leave=True) as pbar:\n",
    "    for i in range(n_exp):\n",
    "        # use = p_conv_use_ft[i]\n",
    "        use = mse_dev_ft[i] > 0\n",
    "        use = np.logical_and(use, omega_max[i]<-0.05)\n",
    "        omega_max_use = omega_max[i].where(use)\n",
    "        mse_dev_use = mse_dev_ft[i].where(use)\n",
    "        mse_dev_ref_use = mse_dev_ft_ref[i].where(use)\n",
    "        for k in range(n_lat):\n",
    "            for j, quant in enumerate(quant_plot):\n",
    "                use_ind = get_quant_ind(ds[i].temp[-1, k], quant, 0.5, 0.5)\n",
    "                omega_max_quant3[i, k, j] = omega_max_use[k, use_ind].mean()\n",
    "                mse_dev_ft_quant3[i, k, j] = mse_dev_use[k, use_ind].mean()\n",
    "                mse_dev_ft_ref_quant3[i, k, j] = mse_dev_ref_use[k, use_ind].mean()\n",
    "                quant3_use_count[i, k, j] = np.isfinite(omega_max_use[k, use_ind]).sum()\n",
    "                pbar.update(1)"
   ],
   "metadata": {
    "collapsed": false
   }
  },
  {
   "cell_type": "code",
   "execution_count": null,
   "outputs": [],
   "source": [
    "xaxis_temp_quant = 'quant'\n",
    "# xaxis_temp_quant = 'temp'\n",
    "fig, ax = plt.subplots(1, 2, figsize=(12, 5), sharex=True)\n",
    "for i in range(n_exp):\n",
    "    if xaxis_temp_quant == 'quant':\n",
    "        ax[0].plot(quant_plot, np.average(omega_max_quant3[i], axis=0, weights=lat_weights), label=tau_lw[i])\n",
    "        ax[1].plot(quant_plot, np.average(mse_dev_ft_quant3[i], axis=0, weights=lat_weights), \n",
    "                   color=default_colors[i], label='Simulated' if i==0 else None)\n",
    "        ax[1].plot(quant_plot, np.average(mse_dev_ft_ref_quant3[i], axis=0, weights=lat_weights), linestyle=':',\n",
    "                   color=default_colors[i], label='Reference' if i==0 else None)\n",
    "    else:\n",
    "        ax[0].plot(np.average(ds[i].temp[-1].quantile(quant_plot/100, dim='lon_time'), axis=1, weights=lat_weights), \n",
    "                   np.average(omega_max_quant3[i], axis=0, weights=lat_weights), label=tau_lw[i])\n",
    "        ax[1].plot(np.average(ds[i].temp[-1].quantile(quant_plot/100, dim='lon_time'), axis=1, weights=lat_weights), \n",
    "                   np.average(mse_dev_ft_quant3[i], axis=0, weights=lat_weights), label=tau_lw[i])\n",
    "if xaxis_temp_quant == 'quant':\n",
    "    ax[0].set_xlim(0, 100)\n",
    "    fig.supxlabel('Temperature percentile, $x$', fontsize=9)\n",
    "else:\n",
    "    fig.supxlabel('Near-surface temperature [K]', fontsize=9)\n",
    "ax[0].set_ylabel('Min $\\omega$ (900hPa-Min Convective Pressure)')\n",
    "ax[1].set_ylabel(f'MSE Difference (surface - {p_ft_actual}hPa saturated) [K]')\n",
    "ax[0].legend(title='$\\kappa$')\n",
    "ax[1].legend()\n",
    "plt.tight_layout()"
   ],
   "metadata": {
    "collapsed": false
   }
  },
  {
   "cell_type": "markdown",
   "source": [
    "### 2D Histograms\n",
    "Here I see what is the most common value of $\\omega$ and MSE difference. Most days have almost zero ascent and slightly positive MSE difference.\n",
    "Then there is a trend that as $\\omega$ decreases (more ascent), MSE difference increases.\n",
    "\n",
    "For $\\kappa=1.5$, there is also a cluster of days with larger MSE difference but zero ascent."
   ],
   "metadata": {
    "collapsed": false
   }
  },
  {
   "cell_type": "code",
   "execution_count": null,
   "outputs": [],
   "source": [
    "fig, ax = plt.subplots(1, 2, figsize=(12, 5), sharex=True, sharey=True)\n",
    "hist_bins_use = [0, 0]\n",
    "plot_log = False\n",
    "for i in range(n_exp):\n",
    "    # use = np.logical_and(p_conv_use_ft[i], np.abs(omega_max[i].lat)==np.abs(omega_max[i].lat[7]))\n",
    "    use = p_conv_use_ft[i]\n",
    "    # use = mse_dev_ft[i]>0\n",
    "    # mse_surf = moist_static_energy(ds[i].temp[-1], ds[i].sphum[-1], ds[i].height[-1])     # for % difference\n",
    "    hist_counts_use, hist_bins_use[0], hist_bins_use[1] = get_hist_2d(omega_max[i].where(use), \n",
    "                                                                      mse_dev_ft[i].where(use), \n",
    "                                                                      n_bins=50, bin_lower=[-0.6, -6], bin_upper=[0.2, 12])\n",
    "    # Need to transpose hist_counts so for plotting with pcolormesh it is the correct orientation\n",
    "    if plot_log:\n",
    "        im = ax[i].pcolormesh(hist_bins_use[0], hist_bins_use[1], np.log10(hist_counts_use.transpose()/np.sum(hist_counts_use)+1e-20), \n",
    "                              vmin=-6, vmax=-1.65, shading='nearest')\n",
    "    else:\n",
    "        im = ax[i].pcolormesh(hist_bins_use[0], hist_bins_use[1], 100*hist_counts_use.transpose()/np.sum(hist_counts_use), \n",
    "                              vmin=0, vmax=2.2, shading='nearest')\n",
    "    ax[i].set_title(f'$\\kappa = {tau_lw[i]}$')\n",
    "    ax[i].vlines(0, -6, 12, colors='r', lw=ax_linewidth)\n",
    "    ax[i].hlines(0, -0.6, 0.2, colors='r', lw=ax_linewidth)\n",
    "cbar_ax = fig.add_axes([0.49, 0.15, 0.01, 0.7])     # add axes for colorbar\n",
    "fig.colorbar(im, cax=cbar_ax, label='log(Density)' if plot_log else '% of Days', aspect=100, pad=0.01, fraction=0.01)\n",
    "ax[0].set_ylabel(f'MSE Difference (surface - {p_ft_actual}hPa saturated) [K]')\n",
    "fig.supxlabel('Min $\\omega$ (900hPa-Min Convective Pressure)', fontsize=8);"
   ],
   "metadata": {
    "collapsed": false
   }
  },
  {
   "cell_type": "markdown",
   "source": [
    "### GIF as function of latitude or temperature percentile\n",
    "Here, I show the above histogram but conditioned on a given latitude or temperature percentile.\n",
    "\n",
    "As we move to higher temperatures, or latitudes, the tail of the MSE vs $\\omega$ relationship becomes more apparent. For colder days, we just see a large cluster around $\\omega=0$Pa/s and MSE difference $\\approx 1K$."
   ],
   "metadata": {
    "collapsed": false
   }
  },
  {
   "cell_type": "code",
   "execution_count": null,
   "outputs": [],
   "source": [
    "fig, ax = plt.subplots(1, 2, figsize=(12, 5), sharex=True, sharey=True)\n",
    "cbar_ax = fig.add_axes([0.49, 0.15, 0.01, 0.7])     # add axes for colorbar\n",
    "hist_bins_use = [0, 0]\n",
    "plot_log = False\n",
    "lat_abs = np.unique(np.abs(ds[0].lat))\n",
    "\n",
    "def animate(n, fig, plot_log, iter_var='temp_quant', lat_plot_ind=None):\n",
    "    ax = fig.axes\n",
    "    ax[2].clear()   # colorbar axes\n",
    "    im_exists = False\n",
    "    for i in range(n_exp):\n",
    "        ax[i].clear()\n",
    "        if iter_var == 'lat':\n",
    "            use = omega_max[i].lat == lat_abs[n]\n",
    "        elif iter_var == 'temp_quant':\n",
    "            # Have a different quantile for each latitude, as how is done in the theory - consider each latitude separately.\n",
    "            use = np.logical_and(ds[i].temp[-1]>ds[i].temp[-1].quantile((quant_plot[n]-0.5)/100, dim='lon_time'), \n",
    "                                 ds[i].temp[-1]<ds[i].temp[-1].quantile((quant_plot[n]+0.5)/100, dim='lon_time'))\n",
    "            if lat_plot_ind is not None:\n",
    "                use = np.logical_and(use, omega_max[i].lat == lat_abs[lat_plot_ind])\n",
    "        # use = np.logical_and(p_conv_use_ft[i], use)\n",
    "        use = np.logical_and(p_conv_use_ft[i], use)\n",
    "        # use = np.logical_and(mse_dev_ft[i] > 0, use)\n",
    "        n_use = int(np.sum(use))\n",
    "        if n_use > 0:\n",
    "            hist_counts_use, hist_bins_use[0], hist_bins_use[1] = get_hist_2d(omega_max[i].where(use), \n",
    "                                                                              mse_dev_ft[i].where(use), \n",
    "                                                                              n_bins=50, bin_lower=[-0.6, -6], bin_upper=[0.2, 12])\n",
    "            # mse_surf = moist_static_energy(ds[i].temp[-1], ds[i].sphum[-1], ds[i].height[-1]) \n",
    "            # hist_counts_use, hist_bins_use[0], hist_bins_use[1] = get_hist_2d(omega_max[i].where(use),\n",
    "            #                                                                   (100*mse_dev_ft[i]/mse_surf).where(use), \n",
    "            #                                                                   n_bins=50, bin_lower=[-0.6, -2], bin_upper=[0.2, 4])\n",
    "            # Need to transpose hist_counts so for plotting with pcolormesh it is the correct orientation\n",
    "            if plot_log:\n",
    "                im = ax[i].pcolormesh(hist_bins_use[0], hist_bins_use[1], np.log10(hist_counts_use.transpose()/np.sum(hist_counts_use)+1e-20), \n",
    "                                      vmin=-6, vmax=-1.65, shading='nearest')\n",
    "            else:\n",
    "                im = ax[i].pcolormesh(hist_bins_use[0], hist_bins_use[1], 100*hist_counts_use.transpose()/np.sum(hist_counts_use), \n",
    "                                      vmin=0, vmax=2.2, shading='nearest')\n",
    "            im_exists = True\n",
    "        ax[i].set_title(f'$\\kappa = {tau_lw[i]}$ ({n_use} Days)')\n",
    "        ax[i].vlines(0, -6, 12, colors='r', lw=ax_linewidth)\n",
    "        ax[i].hlines(0, -0.6, 0.2, colors='r', lw=ax_linewidth)\n",
    "    if im_exists:\n",
    "        fig.colorbar(im, cax=ax[2], label='log(Density)' if plot_log else '% of Days', aspect=100, pad=0.01, fraction=0.01)\n",
    "    ax[0].set_ylabel(f'MSE Difference (surface - {p_ft_actual}hPa saturated) [K]')\n",
    "    fig.supxlabel('Min $\\omega$ (900hPa-Min Convective Pressure)', fontsize=8)\n",
    "    if iter_var == 'lat':\n",
    "        title = f'Latitude, ${round(lat_abs[n], 1)}\\degree$'\n",
    "    elif iter_var == 'temp_quant' and lat_plot_ind is None:\n",
    "        title = f'Temperature percentile, $x={quant_plot[n]}$'\n",
    "    elif iter_var == 'temp_quant' and lat_plot_ind is not None:\n",
    "        title = f'Latitude = ${round(lat_abs[lat_plot_ind], 1)}\\degree$; Temperature percentile, $x={quant_plot[n]}$'\n",
    "    fig.suptitle(title, fontsize=9)\n",
    "\n",
    "anim_iter_var = 'temp_quant'\n",
    "# anim_iter_var = 'lat'\n",
    "anim = FuncAnimation(fig, animate, frames=n_quant if anim_iter_var == 'temp_quant' else int(n_lat/2), interval=100,\n",
    "                     blit=False, repeat_delay=200, fargs=(fig, plot_log, anim_iter_var, None))\n",
    "plt.close()\n",
    "HTML(anim.to_jshtml())"
   ],
   "metadata": {
    "collapsed": false
   }
  },
  {
   "cell_type": "code",
   "execution_count": null,
   "outputs": [],
   "source": [
    "# Save animation\n",
    "# writervideo = matplotlib.animation.PillowWriter(fps=6) \n",
    "# anim.save(f'/Users/joshduffield/Desktop/{anim_iter_var}_hist.gif' , writer=writervideo)"
   ],
   "metadata": {
    "collapsed": false
   }
  },
  {
   "cell_type": "markdown",
   "source": [
    "### Transition between two clusters\n",
    "Here, I plot the modal grid point in the above histograms as a function of temperature percentile for each latitude.\n",
    "The first (second) row corresponds to $\\kappa=1$ (1.5).\n",
    "\n",
    "For $\\omega$, there is more of an abrupt change to larger ascent at around $x>60$. For MSE difference, we see a more gradual increase with $x$."
   ],
   "metadata": {
    "collapsed": false
   }
  },
  {
   "cell_type": "code",
   "execution_count": null,
   "outputs": [],
   "source": [
    "mode_omega_max = np.zeros((n_exp, len(lat_abs), n_quant))\n",
    "mode_mse_diff = np.zeros((n_exp, len(lat_abs), n_quant))\n",
    "mode_min_days = 400\n",
    "with tqdm(total=n_exp*len(lat_abs)*n_quant, position=0, leave=True) as pbar:\n",
    "    for i in range(n_exp):\n",
    "        for j in range(len(lat_abs)):\n",
    "            use_base = np.logical_and(p_conv_use_ft[i], omega_max[i].lat == lat_abs[j])\n",
    "            for k in range(n_quant):\n",
    "                use = np.logical_and(ds[i].temp[-1]>ds[i].temp[-1].quantile((quant_plot[k]-0.5)/100, dim='lon_time'), \n",
    "                                     ds[i].temp[-1]<ds[i].temp[-1].quantile((quant_plot[k]+0.5)/100, dim='lon_time'))\n",
    "                use = np.logical_and(use, use_base)\n",
    "                if int(np.sum(use))>mode_min_days:\n",
    "                    hist_counts_use, hist_bins_use[0], hist_bins_use[1] = get_hist_2d(omega_max[i].where(use), \n",
    "                                                                                      mse_dev_ft[i].where(use), \n",
    "                                                                                      n_bins=50, bin_lower=[-0.6, -6], bin_upper=[0.2, 12])\n",
    "                    mode_omega_max[i, j, k], mode_mse_diff[i, j, k] = np.unravel_index(hist_counts_use.argmax(), hist_counts_use.shape)\n",
    "                pbar.update(1)\n",
    "mode_omega_max[np.where(mode_omega_max>0)] = hist_bins_use[0][mode_omega_max.astype(int)][np.where(mode_omega_max>0)]\n",
    "mode_mse_diff[np.where(mode_mse_diff>0)] = hist_bins_use[1][mode_mse_diff.astype(int)][np.where(mode_mse_diff>0)]"
   ],
   "metadata": {
    "collapsed": false
   }
  },
  {
   "cell_type": "code",
   "execution_count": null,
   "outputs": [],
   "source": [
    "color_seq_lat = plt.cm.jet(np.linspace(0,1,len(lat_abs)))\n",
    "\n",
    "fig, ax = plt.subplots(2, 2, figsize=(12, 7), sharex=True, sharey='col')\n",
    "for j in range(n_exp):\n",
    "    for i in range(mode_omega_max.shape[1]):\n",
    "        # plt.plot(quant_plot, hist_bins_use[0][mode_mse_diff[0, i]], color=default_colors[i])\n",
    "        ax[j, 0].plot(quant_plot, mode_omega_max[j, i], color=color_seq_lat[i], label=round(lat_abs[i], 1))\n",
    "        ax[j, 1].plot(quant_plot, mode_mse_diff[j, i], color=color_seq_lat[i])\n",
    "ax[0, 0].legend(title='Latitude [deg]')\n",
    "ax[0, 0].set_ylabel('Min $\\omega$ (900hPa-Min Convective Pressure)', fontsize=8)\n",
    "ax[0, 1].set_ylabel(f'MSE Difference (surface - {p_ft_actual}hPa saturated) [K]')\n",
    "fig.supxlabel('Temperature percentile, $x$', fontsize=8)\n",
    "fig.suptitle(f'Modal Values as function of temperature percentile', fontsize=9)\n",
    "plt.tight_layout()"
   ],
   "metadata": {
    "collapsed": false
   }
  },
  {
   "cell_type": "markdown",
   "source": [
    "### Compare Days of large $\\omega$ to small $\\omega$\n",
    "\n",
    "Here I show explicitly that convection has more influence on the temperature profile for days with small ascent or descent, to those with large ascent."
   ],
   "metadata": {
    "collapsed": false
   }
  },
  {
   "cell_type": "code",
   "execution_count": null,
   "outputs": [],
   "source": [
    "# ds_low_wind = ds[0].where(omega_max[0] > -0.05)\n",
    "# mse_surf_low_wind = moist_static_energy(ds_low_wind.temp[-1], ds_low_wind.sphum[-1], ds_low_wind.height[-1])\n",
    "# mse_sat_low_wind = moist_static_energy(ds_low_wind.temp, sphum_sat(ds_low_wind.temp, p_all), ds_low_wind.height)\n",
    "# \n",
    "# ds_high_wind = ds[0].where(omega_max[0] <= -0.05)\n",
    "# mse_surf_high_wind = moist_static_energy(ds_high_wind.temp[-1], ds_high_wind.sphum[-1], ds_high_wind.height[-1])\n",
    "# mse_sat_high_wind = moist_static_energy(ds_high_wind.temp, sphum_sat(ds_high_wind.temp, p_all), ds_high_wind.height)"
   ],
   "metadata": {
    "collapsed": false
   }
  },
  {
   "cell_type": "code",
   "execution_count": null,
   "outputs": [],
   "source": [
    "# fig, ax = plt.subplots(1,2, figsize=(14, 5), sharex=True, sharey=True)\n",
    "# (-mse_sat_low_wind+mse_surf_low_wind).mean(dim='lon_time').plot.pcolormesh(ax=ax[0], yincrease=False, \n",
    "#                                                                            vmin=-10, vmax=10, cmap='bwr', x='lat', add_colorbar=False)\n",
    "# (-mse_sat_high_wind+mse_surf_high_wind).mean(dim='lon_time').plot.pcolormesh(ax=ax[1], yincrease=False, \n",
    "#                                                                            vmin=-10, vmax=10, cmap='bwr', x='lat', \n",
    "#                                                                              cbar_kwargs={'label': 'surface - saturation MSE [kJ/kg]'})\n",
    "# ax[0].set_title('Min $\\omega > -0.05$Pa/s')\n",
    "# ax[1].set_title('Min $\\omega \\leq -0.05$Pa/s')\n",
    "# plt.tight_layout()"
   ],
   "metadata": {
    "collapsed": false
   }
  },
  {
   "cell_type": "code",
   "execution_count": null,
   "outputs": [],
   "source": [
    "# color_seq_lat = plt.cm.jet(np.linspace(0,1,int(n_lat/2)))\n",
    "# color_seq_lat = np.concatenate([color_seq_lat, color_seq_lat[::-1]], axis=0)\n",
    "# fig, ax = plt.subplots(1,2, figsize=(10, 5), sharex=True, sharey=True)\n",
    "# for i in range(n_lat):\n",
    "#     for j, ds_use in enumerate([ds_low_wind.isel(lat=i), ds_high_wind.isel(lat=i)]):\n",
    "#         ds_use = ds_use.isel(lon_time=int(ds_use.temp[-1].argmax(dim='lon_time')))\n",
    "#         ax[j].plot(ds_use.temp - ds_use.t_ref, p_all/100, color=color_seq_lat[i], \n",
    "#                 linestyle=':' if ds_use.lat<0 else '-', alpha=0.5 if ds_use.lat<0 else 0.8, \n",
    "#                 label=round(float(ds_use.lat), 1) if ds_use.lat>0 else None)\n",
    "#         ax[j].scatter(ds_use.t_surf - ds_hot_day.t_ref[-1], 1000, color=color_seq_lat[i], marker='x' if ds_use.lat<0 else '|', s=100, lw=3, alpha=0.3)\n",
    "# ax[0].invert_yaxis()\n",
    "# ax[0].set_ylim(1000, 0)\n",
    "# ax[0].legend(title='Latitude')\n",
    "# ax[0].vlines(0, 1000, 0, color='k', lw=ax_linewidth, alpha=0.5)\n",
    "# ax[1].vlines(0, 1000, 0, color='k', lw=ax_linewidth, alpha=0.5)\n",
    "# ax[0].set_title('Min $\\omega > -0.05$Pa/s')\n",
    "# ax[1].set_title('Min $\\omega \\leq -0.05$Pa/s')\n",
    "# fig.supxlabel('Simulated - Reference Temperature [K]', fontsize=8)\n",
    "# ax[0].set_ylabel('Pressure [hPa]')\n",
    "# plt.tight_layout()\n",
    "# # fig.savefig(f\"/Users/joshduffield/Desktop/wind_comp.pdf\",\n",
    "# #                     dpi=dpi['combination'] if publish_fig else low_dpi, bbox_inches='tight', pad_inches=save_pad_inches)"
   ],
   "metadata": {
    "collapsed": false
   }
  },
  {
   "cell_type": "markdown",
   "source": [
    "## Level of Neutral Buoyancy\n",
    "On the left, I plot the mean LNB vs latitude for the tropics. On the right, I average across the whole of the tropics, to plot LNB as a function of temperature percentile.\n",
    "\n",
    "Clearly, on the coldest days, the LNB is very low, suggesting that convection is not really happening on these days."
   ],
   "metadata": {
    "collapsed": false
   }
  },
  {
   "cell_type": "code",
   "execution_count": null,
   "outputs": [],
   "source": [
    "lzbs_mean_lat = lzb(ds[0].klzbs.mean(dim='lon_time'))\n",
    "lzbs_std_lat = lzb(ds[0].klzbs.std(dim='lon_time'))\n",
    "\n",
    "quant_plot = np.arange(1, 100)     # avoid 0 quantile as it gives weird results\n",
    "n_quant = len(quant_plot)\n",
    "klzb_quant3 = np.zeros((n_exp, n_lat, n_quant))      # klzb as function of temp quantile\n",
    "klzb_quant3_std = np.zeros((n_exp, n_lat, n_quant))      # klzb as function of temp quantile\n",
    "with tqdm(total=n_exp*n_quant*n_lat, position=0, leave=True) as pbar:\n",
    "    for i in range(n_exp):\n",
    "        for k in range(n_lat):\n",
    "            for j, quant in enumerate(quant_plot):\n",
    "                use_ind = get_quant_ind(ds[i].temp[-1, k], quant, 0.5, 0.5)\n",
    "                klzb_quant3[i, k, j] = ds[i].klzbs[k, use_ind].mean(dim='lon_time')\n",
    "                klzb_quant3_std[i, k, j] = ds[i].klzbs[k, use_ind].std(dim='lon_time')\n",
    "                pbar.update(1)"
   ],
   "metadata": {
    "collapsed": false
   }
  },
  {
   "cell_type": "code",
   "execution_count": null,
   "outputs": [],
   "source": [
    "fig, ax = plt.subplots(1,2, figsize=(10, 5), sharey=True)\n",
    "ax[0].plot(ds[0].lat, lzbs_mean_lat/100)\n",
    "ax[0].fill_between(ds[0].lat, (lzbs_mean_lat-lzbs_std_lat)/100, (lzbs_mean_lat+lzbs_std_lat)/100 ,alpha=0.1, facecolor=default_colors[0])\n",
    "ax[0].invert_yaxis()\n",
    "ax[0].set_xlabel('Latitude [deg]')\n",
    "ax[0].set_ylabel('Pressure of LNB [hPa]')\n",
    "ax[0].set_xlim(ds[0].lat[0], ds[0].lat[-1])\n",
    "\n",
    "ax[1].plot(quant_plot, lzb(np.average(klzb_quant3[0], axis=0, weights=lat_weights))/100)\n",
    "ax[1].fill_between(quant_plot, lzb(np.clip(np.average(klzb_quant3[0]-klzb_quant3_std[0], axis=0, weights=lat_weights), 1, np.inf))/100, \n",
    "                   lzb(np.average(klzb_quant3[0]+klzb_quant3_std[0], axis=0, weights=lat_weights))/100 ,alpha=0.1, facecolor=default_colors[0])\n",
    "ax[1].set_xlim(0, 100)\n",
    "ax[1].set_xlabel('Temperature percentile')\n",
    "plt.tight_layout()"
   ],
   "metadata": {
    "collapsed": false
   }
  },
  {
   "cell_type": "markdown",
   "source": [
    "## Temperature profile on a specific day\n",
    "Here, I specify a cluster of days I am interested in, usually in the $\\omega$, MSE Difference space. Then I look at some individual days."
   ],
   "metadata": {
    "collapsed": false
   }
  },
  {
   "cell_type": "code",
   "execution_count": null,
   "outputs": [],
   "source": [
    "# Consider days with small temp deviation from reference but large saturated MSE deviation from surface\n",
    "lat_ind_subset, lontime_ind_subset = np.where(np.logical_and(mse_dev_ft[0]>3, omega_max[0]>-0.05))\n",
    "# lat_ind_subset, lontime_ind_subset = np.where(np.logical_and(mse_dev_max>7, omega_max>-0.05))\n",
    "# lat_ind_subset, lontime_ind_subset = np.where(np.logical_and(pressure_min_conv>600, np.logical_and(mse_dev_max>7, omega_max>-0.05)))\n",
    "# lat_ind_subset, lontime_ind_subset = np.where(np.logical_and(pressure_min_conv<400, ds[0].klzbs==10))\n",
    "# lat_ind_subset, lontime_ind_subset = np.where(np.logical_and(mse_dev_max>10, np.logical_and(ref_temp_dev_max>0.4,ref_temp_dev_max<0.5)))\n",
    "ind_subset_use = 1\n",
    "ds_subset = ds[0].isel(lat=lat_ind_subset[ind_subset_use], lon_time=lontime_ind_subset[ind_subset_use])\n",
    "\n",
    "temp_ref_manual_subset, temp_lcl_subset, p_lcl_subset = get_temp_ref(ds_subset.temp[-1], p_all[-1], ds_subset.sphum[-1], p_all)\n",
    "temp_moist_subset = moist_profile(float(temp_lcl_subset), float(p_lcl_subset), p_all[p_all<p_lcl_subset])"
   ],
   "metadata": {
    "collapsed": false
   }
  },
  {
   "cell_type": "code",
   "execution_count": null,
   "outputs": [],
   "source": [
    "fig, ax = plt.subplots(1, 5, figsize=(14,6), gridspec_kw={'width_ratios': [2, 1, 1, 1, 1]}, sharey=True)\n",
    "ax[0].plot(ds_subset.temp, p_all/100, color=default_colors[0], label='Simulated')\n",
    "ax[0].plot(ds_subset.t_ref, p_all/100, color=default_colors[1], alpha=0.6, label='Isca Reference')\n",
    "ax[0].plot(temp_ref_manual_subset, p_all/100, color=default_colors[1], alpha=0.6, label='Manual Reference', linestyle=':')\n",
    "ax[0].plot(temp_moist_subset, p_all[p_all<p_lcl_subset]/100, color=default_colors[2], alpha=0.6, label='Moist Adiabat')\n",
    "ax[0].scatter(temp_lcl_subset, p_lcl_subset/100, color='k', marker='x', s=50, label='LCL')\n",
    "ax[0].hlines(lzb(ds_subset.klzbs)/100, 210, 310, color='k', lw=ax_linewidth)\n",
    "ax[0].set_xlim(210, 310)\n",
    "ax[0].legend()\n",
    "ax[0].set_xlabel('Temperature [K]')\n",
    "\n",
    "ax[1].plot(ds_subset.t_ref - ds_subset.temp, p_all/100, color=default_colors[1], alpha=0.6, label='Isca Reference')\n",
    "ax[1].plot(temp_ref_manual_subset - ds_subset.temp, p_all/100, color=default_colors[1], alpha=0.6, label='Manual Reference', linestyle=':')\n",
    "ax[1].plot(temp_moist_subset - ds_subset.temp[p_all<p_lcl_subset], p_all[p_all<p_lcl_subset]/100, color=default_colors[2], alpha=0.6, label='Moist Adiabat')\n",
    "ax[1].vlines(0, 1000, 0, color='k', lw=ax_linewidth)\n",
    "ax[1].hlines([p_lcl_subset/100, lzb(ds_subset.klzbs)/100], -4, 4, color='k', lw=ax_linewidth)\n",
    "ax[1].set_xlim(-4,7)\n",
    "ax[1].set_xlabel('Temperature Difference\\n(reference - simulated) [K]')\n",
    "\n",
    "\n",
    "ax[2].plot(moist_static_energy(ds_subset.temp, sphum_sat(ds_subset.temp, p_all), ds_subset.height), p_all/100, color=default_colors[0],\n",
    "           label='Saturated')\n",
    "ax[2].plot(moist_static_energy(ds_subset.t_ref, sphum_sat(ds_subset.t_ref, p_all), ds_subset.height), p_all/100, color=default_colors[1])\n",
    "ax[2].plot(moist_static_energy(temp_moist_subset, sphum_sat(temp_moist_subset, p_all[p_all<p_lcl_subset]), ds_subset.height[p_all<p_lcl_subset]), p_all[p_all<p_lcl_subset]/100,\n",
    "           color=default_colors[2])\n",
    "ax[2].vlines(moist_static_energy(ds_subset.temp[-1], ds_subset.sphum[-1], ds_subset.height[-1]), 1000, 0, color='k', linestyle=':',\n",
    "             label='Surface')\n",
    "ax[2].hlines([p_lcl_subset/100, lzb(ds_subset.klzbs)/100], 300, 400, color='k', lw=ax_linewidth)\n",
    "ax[2].set_xlim(300, 350)\n",
    "ax[2].set_xlabel('MSE [kJ/kg]')\n",
    "ax[2].legend()\n",
    "\n",
    "ax[3].plot(ds_subset.dt_tg_diffusion * n_day_seconds, p_all/100, label='Vertical diffusion')\n",
    "ax[3].plot(ds_subset.dt_tg_condensation * n_day_seconds, p_all/100, label='Condensation')\n",
    "ax[3].plot(ds_subset.dt_tg_convection * n_day_seconds, p_all/100, label='Convection')\n",
    "ax[3].plot(ds_subset.tdt_rad * n_day_seconds, p_all/100, label='Radiation')\n",
    "# ax[3].plot((ds_subset.dt_tg_convection + ds_subset.dt_tg_condensation + ds_subset.dt_tg_diffusion + ds_subset.tdt_rad) * n_day_seconds, \n",
    "#            p_all/100, label='Net', color='k', linestyle=':')\n",
    "ax[3].vlines(0, 1000, 0, color='k', linestyle=':')\n",
    "ax[3].set_xlabel('Temperature\\ntendency [K/day]')\n",
    "ax[3].legend(loc='upper left')\n",
    "\n",
    "ax[4].plot(ds_subset.ucomp, p_all/100, label='$u$ [m/s]')\n",
    "ax[4].plot(ds_subset.vcomp, p_all/100, label='$v$ [m/s]')\n",
    "ax[4].plot(ds_subset.omega*100, p_all/100, label='$\\omega$ [Pa/100s]')\n",
    "ax[4].vlines(0, 1000, 0, color='k', linestyle=':')\n",
    "ax[4].set_xlabel('Wind velocity')\n",
    "ax[4].legend()\n",
    "\n",
    "ax[0].invert_yaxis()\n",
    "ax[0].set_ylim(1000, 0)\n",
    "ax[0].set_ylabel('Pressure [hPa]')\n",
    "fig.suptitle(f'$\\kappa={tau_lw[0]}$, lat={round(float(ds_subset.lat),1)}$\\degree$, lon={round(float(ds_subset.lon),1)}$\\degree$, '\n",
    "             f't={float(ds_subset.time)} days', fontsize=10)\n",
    "plt.tight_layout()"
   ],
   "metadata": {
    "collapsed": false
   }
  },
  {
   "cell_type": "markdown",
   "source": [
    "## Single location as function of time"
   ],
   "metadata": {
    "collapsed": false
   }
  },
  {
   "cell_type": "code",
   "execution_count": null,
   "outputs": [],
   "source": [
    "lat_sl = 9.8\n",
    "lon_sl = 0\n",
    "ds_sl = []\n",
    "for i in tqdm(range(n_exp)):\n",
    "    # ds_sl += [annual_mean(ds_base[i].sel(lat=lat_sl, lon=lon_sl, method='nearest').load())]\n",
    "    ds_sl += [ds_base[i].sel(lat=lat_sl, lon=lon_sl, method='nearest').load()]"
   ],
   "metadata": {
    "collapsed": false
   }
  },
  {
   "cell_type": "code",
   "execution_count": null,
   "outputs": [],
   "source": [
    "pressure_lzb_sl = np.asarray([lzb(np.clip(ds_sl[i].klzbs, 1, np.inf))/100 for i in range(n_exp)])\n",
    "pressure_min_conv_sl = [ds_sl[i].pfull.where(np.abs(ds_sl[i].dt_tg_convection)>pressure_min_conv_dt_tg_thresh).min(dim='pfull') \n",
    "                        for i in range(n_exp)] \n",
    "\n",
    "n_year_days = ds_sl[0].time.size\n",
    "omega_max_sl = np.zeros((n_exp, n_year_days))\n",
    "mse_surf_sl = np.zeros((n_exp, n_year_days))\n",
    "mse_ft_sl = np.zeros((n_exp, n_year_days))\n",
    "mse_ft_ref_sl = np.zeros((n_exp, n_year_days))\n",
    "tendancy_conv_sl = np.zeros((n_exp, n_year_days))\n",
    "tendancy_diffusion_sl = np.zeros((n_exp, n_year_days))\n",
    "\n",
    "for i in range(n_exp):\n",
    "    # If LZB at lower altitude, replace conv pressure with this\n",
    "    pressure_min_conv_sl[i].values = np.asarray([pressure_lzb_sl[i], pressure_min_conv_sl[i]]).max(axis=0)  \n",
    "\n",
    "    p_use = np.logical_and(ds_sl[i].pfull>=pressure_min_conv_sl[i], ds_sl[i].pfull<thresh_p_use_upper)\n",
    "    omega_max_sl[i] = ds_sl[i].omega.where(p_use).min(dim='pfull')\n",
    "    tendancy_conv_sl[i] = ds_sl[i].dt_tg_convection.where(p_use).max(dim='pfull') * n_day_seconds\n",
    "    tendancy_diffusion_sl[i] = ds_sl[i].dt_tg_diffusion.where(p_use).min(dim='pfull') * n_day_seconds\n",
    "    mse_surf_sl[i] = moist_static_energy(ds_sl[i].temp.isel(pfull=-1), ds_sl[i].sphum.isel(pfull=-1), ds_sl[i].height.isel(pfull=-1))\n",
    "    mse_ft_sl[i] = moist_static_energy(ds_sl[i].temp.sel(pfull=p_ft, method='nearest'),  \n",
    "                                       sphum_sat(ds_sl[i].temp.sel(pfull=p_ft, method='nearest'), p_ft_actual*100),\n",
    "                                       ds_sl[i].height.sel(pfull=p_ft, method='nearest'))\n",
    "    mse_ft_ref_sl[i] = moist_static_energy(ds_sl[i].t_ref.sel(pfull=p_ft, method='nearest'), \n",
    "                                           sphum_sat(ds_sl[i].t_ref.sel(pfull=p_ft, method='nearest'), p_ft_actual*100),\n",
    "                                           ds_sl[i].height.sel(pfull=p_ft, method='nearest'))"
   ],
   "metadata": {
    "collapsed": false
   }
  },
  {
   "cell_type": "code",
   "execution_count": null,
   "outputs": [],
   "source": [
    "month_ticks = (np.arange(15,12*30+15,30), ['J','F','M','A','M','J','J','A','S','O','N','D'])\n",
    "time_array = ds_sl[0].time-0.5\n",
    "ind_plot_sl = 0\n",
    "\n",
    "fig, ax = plt.subplots(4,1, figsize=(13, 10), sharex=True)\n",
    "ax[0].plot(time_array, ds_sl[ind_plot_sl].temp[:, -1])\n",
    "ax[0].plot(time_array, ds_sl[ind_plot_sl].t_surf, color=default_colors[0], linestyle=':')\n",
    "# ax[0].set_xlim(-1,n_year_days)\n",
    "# ax[0].set_xticks(*month_ticks)\n",
    "ax[-1].set_xlabel('Time [days]')\n",
    "ax2 = ax[0].twinx()\n",
    "ax2.spines[['top', 'left', 'bottom']].set_visible(False)\n",
    "ax2.spines['right'].set_visible(True)\n",
    "ax2.plot(time_array, pressure_min_conv_sl[ind_plot_sl], color=default_colors[1])\n",
    "ax2.invert_yaxis()\n",
    "ax2.set_ylabel('Min Convective Pressure [hPa]', color=default_colors[1])\n",
    "ax2.hlines(p_ft_actual, time_array[0]-1, time_array[-1]+1, color=default_colors[1], lw=ax_linewidth, linestyle=':')\n",
    "ax[0].set_ylabel('Near surface temperature [K]', color=default_colors[0])\n",
    "ax[1].plot(time_array, mse_surf_sl[ind_plot_sl], label='Surface')\n",
    "ax[1].plot(time_array, mse_ft_sl[ind_plot_sl], label='Free Troposphere')\n",
    "ax[1].plot(time_array, mse_ft_ref_sl[ind_plot_sl], label='Free Troposphere (reference)')\n",
    "ax[1].set_ylabel('Moist Static Energy [hPa]')\n",
    "ax[1].legend()\n",
    "ax[2].plot(time_array, ds_sl[ind_plot_sl].ucomp[:, -1], label='Near-surface $u$ [m/s]')\n",
    "ax[2].plot(time_array, ds_sl[ind_plot_sl].vcomp[:, -1], label='Near-surface $v$ [m/s]')\n",
    "ax[2].plot(time_array, omega_max_sl[ind_plot_sl]*100, label='Min $\\omega$ [Pa/100s]')\n",
    "ax[2].hlines(0, time_array[0]-1, time_array[-1]+1, color='k', lw=ax_linewidth)\n",
    "ax[2].set_ylabel('Wind velocity')\n",
    "ax[2].legend()\n",
    "ax[3].plot(time_array, tendancy_conv_sl[ind_plot_sl], label='Convection (max)')\n",
    "ax[3].plot(time_array, tendancy_diffusion_sl[ind_plot_sl], label='Diffusion (min)')\n",
    "ax[3].set_ylabel('Temperature tendency [K/day]')\n",
    "ax[3].legend()\n",
    "fig.suptitle(f'$\\kappa={tau_lw[ind_plot_sl]}$, lat={round(float(ds_sl[0].lat),1)}$\\degree$, lon={round(float(ds_sl[0].lon),1)}$\\degree$')\n",
    "plt.tight_layout()\n",
    "ax[0].set_xlim(2000, 2500)\n",
    "ax[1].set_ylim(313, 336)\n",
    "\n",
    "\n",
    "# for i in range(len(ax)):\n",
    "#     ylim_use = ax[i].get_ylim()\n",
    "#     ax[i].vlines(294, ylim_use[0], ylim_use[1], color='k')\n",
    "#     ax[i].vlines(178, ylim_use[0], ylim_use[1], color='r')\n",
    "#     ax[i].set_ylim(ylim_use)\n",
    "# ax[1].fill_between(time_array, np.full(n_year_days, 320), np.full(n_year_days, 390), where=pressure_min_conv_sl[0]>p_ft_actual+10, color='k', alpha=0.05)"
   ],
   "metadata": {
    "collapsed": false
   }
  },
  {
   "cell_type": "markdown",
   "source": [
    "Below I show that the relationship between $\\omega$ and MSE difference changes for large $\\omega$ and for the hottest days."
   ],
   "metadata": {
    "collapsed": false
   }
  },
  {
   "cell_type": "code",
   "execution_count": null,
   "outputs": [],
   "source": [
    "fig, ax = plt.subplots(1,1, figsize=(13, 3), sharex=True)\n",
    "ax.plot(np.convolve(-omega_max_sl[0]/15, np.ones(5)/5, mode='same'))\n",
    "ax.plot(np.convolve((mse_surf_sl[ind_plot_sl] - mse_ft_sl[ind_plot_sl])/330, np.ones(5)/5, mode='same'))\n",
    "ax.plot(np.convolve((mse_surf_sl[ind_plot_sl] - mse_ft_ref_sl[ind_plot_sl])/330, np.ones(5)/5, mode='same'))\n",
    "ax.plot(np.convolve((ds_sl[0].temp[:, -1]-np.mean(ds_sl[0].temp[:, -1]))/200, np.ones(5)/5, mode='same'))\n",
    "ax.set_ylim(0, 0.025)\n",
    "ax.set_xlim(700, 1800)"
   ],
   "metadata": {
    "collapsed": false
   }
  },
  {
   "cell_type": "code",
   "execution_count": null,
   "outputs": [],
   "source": [],
   "metadata": {
    "collapsed": false
   }
  },
  {
   "cell_type": "code",
   "execution_count": null,
   "outputs": [],
   "source": [],
   "metadata": {
    "collapsed": false
   }
  }
 ],
 "metadata": {
  "kernelspec": {
   "display_name": "Python 3",
   "language": "python",
   "name": "python3"
  },
  "language_info": {
   "codemirror_mode": {
    "name": "ipython",
    "version": 2
   },
   "file_extension": ".py",
   "mimetype": "text/x-python",
   "name": "python",
   "nbconvert_exporter": "python",
   "pygments_lexer": "ipython2",
   "version": "2.7.6"
  }
 },
 "nbformat": 4,
 "nbformat_minor": 0
}
