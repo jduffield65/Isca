{
 "cells": [
  {
   "cell_type": "markdown",
   "source": [
    "# Annual Mean Temperature Distribution\n",
    "This looks at how surface temperature develops with time throughout the year"
   ],
   "metadata": {
    "collapsed": false
   }
  },
  {
   "cell_type": "code",
   "source": [
    "import copy\n",
    "import sys\n",
    "import os\n",
    "# REMOTE - So can access functions in isca_tools which is in home/Isca directory\n",
    "# sys.path.append(os.path.join(os.environ['HOME'], 'Isca'))\n",
    "# LOCAL - So can access functions in isca_tools which is in StAndrews/Isca\n",
    "sys.path.append(os.environ['PWD'])\n",
    "import isca_tools\n",
    "from isca_tools.utils.moist_physics import moist_static_energy, clausius_clapeyron_factor, sphum_sat, get_density, virtual_temp, saturation_vapor_pressure\n",
    "from isca_tools.utils.constants import kappa, L_v, c_p, c_p_water, rho_water, Stefan_Boltzmann, R, R_v\n",
    "from isca_tools.utils import area_weighting, annual_mean, annual_time_slice, anom_from_annual_mean, print_ds_var_list\n",
    "from isca_tools.papers.byrne_2021 import get_quant_ind\n",
    "from isca_tools.thesis.adiabat_theory import get_temp_adiabat, get_temp_adiabat_surf\n",
    "from isca_tools.convection.simple_betts_miller import lcl_temp, ref_temp_above_lcl, get_temp_ref\n",
    "from isca_tools.convection import dry_profile_pressure, moist_profile, potential_temp\n",
    "import isca_tools.utils.fourier as fourier\n",
    "from isca_tools.utils.radiation import get_heat_capacity\n",
    "from isca_tools.plot import colored_line\n",
    "from isca_tools.thesis.surface_energy_budget import get_temp_fourier, gamma_linear_approx, swdn_from_temp_fourier\n",
    "from isca_tools.thesis.hottest_date import get_var_extrema_date\n",
    "from isca_tools.plot import label_subplots\n",
    "from isca_tools.utils.calculus import grad_y\n",
    "import numpy as np\n",
    "import matplotlib.pyplot as plt\n",
    "import xarray as xr\n",
    "import scipy.optimize\n",
    "from tqdm import tqdm\n",
    "from scipy import optimize, ndimage\n",
    "import warnings\n",
    "# Use custom matplotlib style for publishing\n",
    "plt.style.use('/Users/joshduffield/Documents/StAndrews/Isca/jobs/tau_sweep/aquaplanet/publish_figures/publish.mplstyle')\n",
    "plt.rcParams['lines.linewidth'] = 0.8"
   ],
   "metadata": {
    "collapsed": false,
    "ExecuteTime": {
     "end_time": "2024-11-08T09:24:52.337276Z",
     "start_time": "2024-11-08T09:24:51.232600Z"
    }
   },
   "outputs": [],
   "execution_count": 1
  },
  {
   "cell_type": "code",
   "source": [
    "# Load dataset - one at surface and one in free troposphere\n",
    "var_keep = ['temp', 'sphum', 'height', 't_surf', 'swdn_sfc', 'lwup_sfc', 'lwdn_sfc', \n",
    "            'flux_lhe', 'flux_t', 'drag_q', 'q_surf', 'rho', 'p_atm', 'ps', 'q_surf']  \n",
    "# Load dataset\n",
    "tau_lw = [1]\n",
    "n_exp = len(tau_lw)\n",
    "exp_dir = 'tau_sweep/aquaplanet/'\n",
    "exp_name = [f\"k={str(tau_lw[i]).replace('.','_')}\" for i in range(n_exp)]\n",
    "# exp_dir = 'aquaplanet/no_wishe/'\n",
    "# exp_dir = 'tau_sweep/land/meridional_band/depth=1/bucket_evap/'\n",
    "# exp_name = [f\"k={str(tau_lw[i]).replace('.','_')}_no_conv\" for i in range(n_exp)]\n",
    "# exp_name = [f\"k={str(tau_lw[i]).replace('.','_')}_const_rh\" for i in range(n_exp)]\n",
    "\n",
    "# exp_dir = 'rossbypalooza/variable_evap_flux/evap=0/'\n",
    "# exp_name=''\n",
    "\n",
    "lat_range = slice(20, 90)               # only consider NH and outside deep tropics\n",
    "use_time_start = 360*2\n",
    "ds_base = []\n",
    "for i in tqdm(range(n_exp)):\n",
    "    ds_use = isca_tools.load_dataset(exp_dir + exp_name[i])\n",
    "    try:\n",
    "        ds_use = ds_use[var_keep]\n",
    "    except KeyError:\n",
    "        remove_keys = []\n",
    "        for key in var_keep:\n",
    "            if key not in ds_use:\n",
    "                print(f'Removing {key} from var_keep')\n",
    "                remove_keys += [key]\n",
    "        for key in remove_keys:\n",
    "            var_keep.remove(key)\n",
    "        ds_use = ds_use[var_keep]\n",
    "    ds_base += [ds_use.sel(time=slice(use_time_start, np.inf)).sel(lat=lat_range)]      # only keep after spin up\n",
    "mixed_layer_depth = [isca_tools.load_namelist(exp_dir+exp_name[i])['mixed_layer_nml']['depth'] for i in range(n_exp)]\n",
    "try:\n",
    "    w_atm_const = isca_tools.load_namelist(exp_dir+exp_name[0])['surface_flux_nml']['w_atm_const']\n",
    "except KeyError:\n",
    "    w_atm_const = 0\n",
    "try: \n",
    "    rh_flux_q = isca_tools.load_namelist(exp_dir+exp_name[0])['surface_flux_nml']['rh_flux_q']\n",
    "except KeyError:\n",
    "    rh_flux_q = 0\n",
    "p_surface_approx = isca_tools.load_namelist(exp_dir+exp_name[0])['spectral_dynamics_nml']['reference_sea_level_press']/100"
   ],
   "metadata": {
    "collapsed": false,
    "ExecuteTime": {
     "end_time": "2024-11-08T09:25:28.286549Z",
     "start_time": "2024-11-08T09:25:26.779439Z"
    }
   },
   "outputs": [
    {
     "name": "stderr",
     "output_type": "stream",
     "text": [
      "100%|██████████| 1/1 [00:01<00:00,  1.48s/it]"
     ]
    },
    {
     "name": "stdout",
     "output_type": "stream",
     "text": [
      "Removing drag_q from var_keep\n",
      "Removing q_surf from var_keep\n",
      "Removing rho from var_keep\n",
      "Removing p_atm from var_keep\n",
      "Removing q_surf from var_keep\n"
     ]
    },
    {
     "name": "stderr",
     "output_type": "stream",
     "text": [
      "\n"
     ]
    }
   ],
   "execution_count": 3
  },
  {
   "metadata": {
    "ExecuteTime": {
     "end_time": "2024-11-08T09:25:28.290190Z",
     "start_time": "2024-11-08T09:25:28.287660Z"
    }
   },
   "cell_type": "code",
   "source": [
    "# If true, will save all figures to desktop - option to save specific figures later on.\n",
    "save_fig = False\n",
    "# if publishing figure, use high dpi\n",
    "publish_fig = True\n",
    "\n",
    "ar = 4/3        # aspect ratio (width/height)\n",
    "# Details required for Journal of Climate Figures\n",
    "low_dpi = 100\n",
    "dpi = {'monochrome': 1100, 'combination': 800, 'halftone': 300}\n",
    "width = {'one_col': 3.2, 'two_col': 5.5}        # width in inches \n",
    "save_pad_inches = 0.05\n",
    "\n",
    "# Default parameters\n",
    "default_colors = plt.rcParams['axes.prop_cycle'].by_key()['color']\n",
    "ax_linewidth = plt.rcParams['axes.linewidth']"
   ],
   "outputs": [],
   "execution_count": 4
  },
  {
   "metadata": {
    "ExecuteTime": {
     "end_time": "2024-11-08T09:25:40.989124Z",
     "start_time": "2024-11-08T09:25:28.290866Z"
    }
   },
   "cell_type": "code",
   "source": [
    "ds = ds_base[0].sel(pfull=p_surface_approx, method='nearest')\n",
    "p_surface = float(ds.pfull)*100\n",
    "sigma_near_surf = float(ds.pfull/p_surface_approx)\n",
    "ds['rh'] = ds.sphum / sphum_sat(ds.temp, p_surface)\n",
    "ds = annual_mean(ds).mean(dim='lon')\n",
    "ds = ds.assign_coords(time=(ds.time - ds.time.min()).astype(int)).load()"
   ],
   "outputs": [],
   "execution_count": 5
  },
  {
   "metadata": {
    "ExecuteTime": {
     "end_time": "2024-11-08T09:25:41.002945Z",
     "start_time": "2024-11-08T09:25:40.990861Z"
    }
   },
   "cell_type": "code",
   "source": [
    "# Make every thing dependent on surface temperature (NOT NEAR-SURFACE) as equation easier to solve\n",
    "# Link to near-surface with T_{s-a} term in latent flux etc\n",
    "n_lat = ds.lat.size\n",
    "t_surf = ds.t_surf.to_numpy().transpose()\n",
    "t_surf_spline_fit = [scipy.interpolate.CubicSpline(np.append(ds.time.to_numpy(), ds.time[-1]+1), \n",
    "                                                       np.append(t_surf[i], t_surf[i, 0]), bc_type='periodic') for i in range(n_lat)]\n",
    "# t_surf_anom_spline_fit = scipy.interpolate.CubicSpline(np.append(ds.time.to_numpy(), ds.time[-1]+1), \n",
    "#                                                        np.append(t_surf_anom, t_surf_anom[0]), bc_type='periodic')\n",
    "\n",
    "def linear_func(x_var, a, b):\n",
    "    return a + b*x_var\n",
    "\n",
    "def square_func(x_var, a, b, c):\n",
    "    # Subtract mean of squared anomaly so c does not influence value of a and b.\n",
    "    x_anom_squared = (x_var-np.mean(x_var))**2\n",
    "    return a + b*x_var + c*(x_anom_squared - np.mean(x_anom_squared))\n",
    "\n",
    "def quartic_func(x_var, a, b, c, d, e):\n",
    "    # Subtract mean of squared anomaly so c does not influence value of a and b.\n",
    "    x_anom_cubed = (x_var-np.mean(x_var))**3\n",
    "    x_anom_fourth_power = (x_var-np.mean(x_var))**4\n",
    "    return square_func(x_var, a, b, c) + d*(x_anom_cubed - np.mean(x_anom_cubed)) + \\\n",
    "        e*(x_anom_fourth_power-np.mean(x_anom_fourth_power))\n",
    "\n",
    "def linear_func_shift(time, a, b, c, spline):\n",
    "    x_var_shift = spline(time-c)\n",
    "    return a + b*x_var_shift"
   ],
   "outputs": [],
   "execution_count": 6
  },
  {
   "metadata": {},
   "cell_type": "markdown",
   "source": [
    "## Latent Heat\n",
    "###  RH Fitting\n",
    "To get solution for temperature time-series, we need to represent relative humidity as a function of surface temperature. \n",
    "We investigate a linear fit, $r_s \\propto T_s(t)$ and a linear phase fit, $r_s \\propto T_s(t - \\Lambda_r)$."
   ]
  },
  {
   "metadata": {
    "ExecuteTime": {
     "end_time": "2024-11-08T09:25:41.008023Z",
     "start_time": "2024-11-08T09:25:41.003624Z"
    }
   },
   "cell_type": "code",
   "source": [
    "# Define error func to use\n",
    "error_func_dict = {'Max': lambda x, x_approx: np.abs(x - x_approx).max(dim='time'), \n",
    "                   'Median': lambda x, x_approx: np.abs(x - x_approx).median(dim='time'), \n",
    "                   'Mean': lambda x, x_approx: np.abs(x - x_approx).mean(dim='time')}\n",
    "error_func_use = 'Median'\n",
    "error_func = error_func_dict[error_func_use.capitalize()]\n",
    "\n",
    "month_ticks = (np.arange(15,12*30+15,30), ['J','F','M','A','M','J','J','A','S','O','N','D'])\n",
    "plot_lat_spacing = 6\n",
    "color_lat = plt.cm.jet(np.linspace(0,1,int(np.ceil(n_lat/plot_lat_spacing))))[::-1]\n",
    "linestyles_approx = {'linear': ':', 'linear_shift': ':', 'square': '--', 'square_shift': '--', 'quartic': '-', 'final': '--'}\n",
    "colors_approx = {'linear': 'k', 'linear_shift': 'purple', 'square': 'k', 'square_shift': 'purple', 'quartic': default_colors[3]}"
   ],
   "outputs": [],
   "execution_count": 7
  },
  {
   "metadata": {},
   "cell_type": "markdown",
   "source": [
    "### Form of `approx_params` arrays\n",
    "The most general form of approximation for each surface flux is $\\lambda_0 + \\lambda T(t) + \\lambda_{\\Lambda}T(t-\\Lambda) + \\lambda_{sq}(T(t)^2 - \\overline{T(t)^2})$.\n",
    "\n",
    "In `approx_params`:\n",
    "* `approx_params[:, 0]` $= \\lambda_0$\n",
    "* `approx_params[:, 1]` $= \\lambda$\n",
    "* `approx_params[:, 2]` $= \\lambda_{\\Lambda}$\n",
    "* `approx_params[:, 3]` $= \\Lambda$\n",
    "* `approx_params[:, 4]` $= \\lambda_{sq}$"
   ]
  },
  {
   "metadata": {
    "ExecuteTime": {
     "end_time": "2024-11-08T09:25:41.461062Z",
     "start_time": "2024-11-08T09:25:41.008799Z"
    }
   },
   "cell_type": "code",
   "source": [
    "# In params, 0 is lambda_0, 1 is lambda, 2 is Lambda and 3 is lambda_sq\n",
    "n_approx_params = 5\n",
    "rh_approx_params = {'linear': np.zeros((n_lat, n_approx_params)), 'linear_shift': np.zeros((n_lat, n_approx_params))}\n",
    "rh_approx = {'linear': np.zeros((n_lat, ds.time.size)), 'linear_shift': np.zeros((n_lat, ds.time.size))}\n",
    "for i in range(n_lat):\n",
    "    rh_approx_params['linear'][i, :2] = optimize.curve_fit(linear_func, t_surf[i], \n",
    "                                                           ds.rh[:, i]-ds.rh[:, i].mean(), p0=[0, 0])[0]\n",
    "    rh_approx['linear'][i] = linear_func(t_surf[i], *rh_approx_params['linear'][i, :2]) + float(ds.rh[:, i].mean())\n",
    "    fit_func_use = lambda x, a, b, c: linear_func_shift(x, a, b, c, spline=t_surf_spline_fit[i])\n",
    "    rh_approx_params['linear_shift'][i, [0, 2, 3]] = optimize.curve_fit(fit_func_use, ds.time, \n",
    "                                              ds.rh[:, i]-ds.rh[:, i].mean(), p0=[0, 0, 0])[0]\n",
    "    rh_approx['linear_shift'][i] = fit_func_use(ds.time, *rh_approx_params['linear_shift'][i, [0, 2, 3]]) + float(ds.rh[:, i].mean())\n",
    "    \n",
    "fig, ax = plt.subplots(1, 2, figsize=(1.5*2*width['one_col'], 1.5*width['one_col']/ar))\n",
    "for j, i in enumerate(range(0, n_lat, plot_lat_spacing)):\n",
    "    ax[0].plot(ds.time, 100*ds.rh[:, i], label='Simulated' if i==0 else None, color=color_lat[j])\n",
    "    for key in rh_approx:\n",
    "        ax[0].plot(ds.time, 100*rh_approx[key][i], color=color_lat[j], linestyle='-.' if 'shift' in key else linestyles_approx[key], \n",
    "                   label=key if j==0 else None)\n",
    "    # ax[0].plot(ds.time, 100*rh_approx['linear_shift'][i], color=color_lat[j], linestyle=':', label='Approx: Linear + Phase' if j==0 else None)\n",
    "ax[1].plot(ds.lat, error_func(ds.rh, ds.rh.mean(dim='time'))*100, color='k', label='$\\overline{r}$')\n",
    "for key in rh_approx:\n",
    "    ax[1].plot(ds.lat, error_func(ds.rh.transpose(), rh_approx[key])*100, linestyle=linestyles_approx[key], color=colors_approx[key], label=key)\n",
    "ax[0].legend()\n",
    "ax[1].legend(title='$r_{approx}$')\n",
    "ax[0].set_xticks(*month_ticks)\n",
    "ax[0].set_xlim(-1, 360)\n",
    "ax[0].set_ylabel('Relative Humidity [%]')\n",
    "ax[1].set_ylabel(f'Error: {error_func_use} '+'$|r - r_{approx}|$ [%]')\n",
    "ax[1].set_xlim(ds.lat[0], ds.lat[-1])\n",
    "ax[1].set_xlabel('Latitude [deg]')\n",
    "ax[1].set_ylim(0, ax[1].get_ylim()[1])\n",
    "# cbar = fig.colorbar(im, ax=ax.ravel().tolist(), aspect=100, pad=0.03, fraction=0.01)\n",
    "# cbar.ax.invert_yaxis()\n",
    "# cbar.ax.set_yticks(*month_ticks)\n",
    "# fig.suptitle(f'Lat = ${int(ds.lat)}\\degree$', fontsize=9, y=0.92);"
   ],
   "outputs": [
    {
     "data": {
      "text/plain": [
       "(0.0, 7.895960022809288)"
      ]
     },
     "execution_count": 8,
     "metadata": {},
     "output_type": "execute_result"
    },
    {
     "data": {
      "text/plain": [
       "<Figure size 960x360 with 2 Axes>"
      ],
      "image/png": "[encoded data removed]"
     },
     "metadata": {},
     "output_type": "display_data"
    }
   ],
   "execution_count": 8
  },
  {
   "metadata": {},
   "cell_type": "markdown",
   "source": [
    "### Latent Heat Decomposition: RH and Temperature components\n",
    "\n",
    "This clearly shows importance of phasing of RH at lower latitudes, and inclusion of $\\lambda_{sq}$ at high latitudes."
   ]
  },
  {
   "metadata": {
    "ExecuteTime": {
     "end_time": "2024-11-08T09:25:41.576587Z",
     "start_time": "2024-11-08T09:25:41.479173Z"
    }
   },
   "cell_type": "code",
   "source": [
    "if rh_flux_q == 0:\n",
    "    lh_rh_prefactor = -L_v * w_atm_const * ds.drag_q.mean(dim='time') * get_density(ds.temp.mean(dim='time'), ds.pfull*100) * \\\n",
    "                      sphum_sat(ds.temp.mean(dim='time'), ds.pfull*100)\n",
    "else:\n",
    "    lh_rh_prefactor = sphum_sat(ds.temp.mean(dim='time'), ds.pfull*100) * 0\n",
    "lh_rh_cont = lh_rh_prefactor * (ds.rh - ds.rh.mean(dim='time'))\n",
    "lh_rh_cont_approx_params = {key: np.zeros((n_lat, n_approx_params)) for key in rh_approx}\n",
    "for key in lh_rh_cont_approx_params:\n",
    "    lh_rh_cont_approx_params[key][:, 0] = lh_rh_prefactor * rh_approx_params[key][:, 0]\n",
    "    lh_rh_cont_approx_params[key][:, 1] = lh_rh_prefactor * rh_approx_params[key][:, 1]\n",
    "    lh_rh_cont_approx_params[key][:, 2] = lh_rh_prefactor * rh_approx_params[key][:, 2]\n",
    "    lh_rh_cont_approx_params[key][:, 3] = rh_approx_params[key][:, 3]\n",
    "lh_rh_cont_approx = {key: np.zeros((n_lat, ds.time.size)) for key in rh_approx}\n",
    "for i in range(n_lat):\n",
    "    lh_rh_cont_approx['linear'][i] = linear_func(t_surf[i], *lh_rh_cont_approx_params['linear'][i, :2])\n",
    "    lh_rh_cont_approx['linear_shift'][i] = linear_func_shift(ds.time, *lh_rh_cont_approx_params['linear_shift'][i, [0, 2, 3]],\n",
    "                                                             spline=t_surf_spline_fit[i])"
   ],
   "outputs": [
    {
     "ename": "AttributeError",
     "evalue": "'Dataset' object has no attribute 'drag_q'",
     "output_type": "error",
     "traceback": [
      "\u001B[0;31m---------------------------------------------------------------------------\u001B[0m",
      "\u001B[0;31mAttributeError\u001B[0m                            Traceback (most recent call last)",
      "Cell \u001B[0;32mIn [9], line 2\u001B[0m\n\u001B[1;32m      1\u001B[0m \u001B[38;5;28;01mif\u001B[39;00m rh_flux_q \u001B[38;5;241m==\u001B[39m \u001B[38;5;241m0\u001B[39m:\n\u001B[0;32m----> 2\u001B[0m     lh_rh_prefactor \u001B[38;5;241m=\u001B[39m \u001B[38;5;241m-\u001B[39mL_v \u001B[38;5;241m*\u001B[39m w_atm_const \u001B[38;5;241m*\u001B[39m \u001B[43mds\u001B[49m\u001B[38;5;241;43m.\u001B[39;49m\u001B[43mdrag_q\u001B[49m\u001B[38;5;241m.\u001B[39mmean(dim\u001B[38;5;241m=\u001B[39m\u001B[38;5;124m'\u001B[39m\u001B[38;5;124mtime\u001B[39m\u001B[38;5;124m'\u001B[39m) \u001B[38;5;241m*\u001B[39m get_density(ds\u001B[38;5;241m.\u001B[39mtemp\u001B[38;5;241m.\u001B[39mmean(dim\u001B[38;5;241m=\u001B[39m\u001B[38;5;124m'\u001B[39m\u001B[38;5;124mtime\u001B[39m\u001B[38;5;124m'\u001B[39m), ds\u001B[38;5;241m.\u001B[39mpfull\u001B[38;5;241m*\u001B[39m\u001B[38;5;241m100\u001B[39m) \u001B[38;5;241m*\u001B[39m \\\n\u001B[1;32m      3\u001B[0m                       sphum_sat(ds\u001B[38;5;241m.\u001B[39mtemp\u001B[38;5;241m.\u001B[39mmean(dim\u001B[38;5;241m=\u001B[39m\u001B[38;5;124m'\u001B[39m\u001B[38;5;124mtime\u001B[39m\u001B[38;5;124m'\u001B[39m), ds\u001B[38;5;241m.\u001B[39mpfull\u001B[38;5;241m*\u001B[39m\u001B[38;5;241m100\u001B[39m)\n\u001B[1;32m      4\u001B[0m \u001B[38;5;28;01melse\u001B[39;00m:\n\u001B[1;32m      5\u001B[0m     lh_rh_prefactor \u001B[38;5;241m=\u001B[39m sphum_sat(ds\u001B[38;5;241m.\u001B[39mtemp\u001B[38;5;241m.\u001B[39mmean(dim\u001B[38;5;241m=\u001B[39m\u001B[38;5;124m'\u001B[39m\u001B[38;5;124mtime\u001B[39m\u001B[38;5;124m'\u001B[39m), ds\u001B[38;5;241m.\u001B[39mpfull\u001B[38;5;241m*\u001B[39m\u001B[38;5;241m100\u001B[39m) \u001B[38;5;241m*\u001B[39m \u001B[38;5;241m0\u001B[39m\n",
      "File \u001B[0;32m~/miniforge3/envs/Isca/lib/python3.9/site-packages/xarray/core/common.py:286\u001B[0m, in \u001B[0;36mAttrAccessMixin.__getattr__\u001B[0;34m(self, name)\u001B[0m\n\u001B[1;32m    284\u001B[0m         \u001B[38;5;28;01mwith\u001B[39;00m suppress(\u001B[38;5;167;01mKeyError\u001B[39;00m):\n\u001B[1;32m    285\u001B[0m             \u001B[38;5;28;01mreturn\u001B[39;00m source[name]\n\u001B[0;32m--> 286\u001B[0m \u001B[38;5;28;01mraise\u001B[39;00m \u001B[38;5;167;01mAttributeError\u001B[39;00m(\n\u001B[1;32m    287\u001B[0m     \u001B[38;5;124mf\u001B[39m\u001B[38;5;124m\"\u001B[39m\u001B[38;5;132;01m{\u001B[39;00m\u001B[38;5;28mtype\u001B[39m(\u001B[38;5;28mself\u001B[39m)\u001B[38;5;241m.\u001B[39m\u001B[38;5;18m__name__\u001B[39m\u001B[38;5;132;01m!r}\u001B[39;00m\u001B[38;5;124m object has no attribute \u001B[39m\u001B[38;5;132;01m{\u001B[39;00mname\u001B[38;5;132;01m!r}\u001B[39;00m\u001B[38;5;124m\"\u001B[39m\n\u001B[1;32m    288\u001B[0m )\n",
      "\u001B[0;31mAttributeError\u001B[0m: 'Dataset' object has no attribute 'drag_q'"
     ]
    }
   ],
   "execution_count": 9
  },
  {
   "metadata": {},
   "cell_type": "code",
   "source": [
    "param_guess = [-1000, 3, 0]         # last value is for squared fitting\n",
    "lh_temp_cont = ds.flux_lhe.transpose() - lh_rh_cont\n",
    "lh_temp_cont_approx_params = {key: np.zeros((n_lat, n_approx_params)) for key in ['linear', 'square']}\n",
    "for i in range(n_lat):\n",
    "    lh_temp_cont_approx_params['linear'][i, :2] = optimize.curve_fit(linear_func, t_surf[i], lh_temp_cont[i], p0=param_guess[:-1])[0]\n",
    "    lh_temp_cont_approx_params['square'][i, [0, 1, 4]] = optimize.curve_fit(square_func, t_surf[i], lh_temp_cont[i], p0=param_guess)[0]\n",
    "    \n",
    "lh_temp_cont_approx = {key: np.zeros((n_lat, ds.time.size)) for key in lh_temp_cont_approx_params}\n",
    "for i in range(n_lat):\n",
    "    lh_temp_cont_approx['linear'][i] = linear_func(t_surf[i], *lh_temp_cont_approx_params['linear'][i, :2])\n",
    "    lh_temp_cont_approx['square'][i] = square_func(t_surf[i], *lh_temp_cont_approx_params['square'][i, [0, 1, 4]])"
   ],
   "outputs": [],
   "execution_count": null
  },
  {
   "metadata": {},
   "cell_type": "code",
   "source": [
    "lh_approx_params = {'linear': lh_rh_cont_approx_params['linear'] + lh_temp_cont_approx_params['linear'], \n",
    "                    'linear_shift': lh_rh_cont_approx_params['linear_shift'] + lh_temp_cont_approx_params['linear'], \n",
    "                    'square': lh_rh_cont_approx_params['linear'] + lh_temp_cont_approx_params['square'], \n",
    "                    'square_shift': lh_rh_cont_approx_params['linear_shift'] + lh_temp_cont_approx_params['square']}\n",
    "lh_approx ={'linear': lh_rh_cont_approx['linear'] + lh_temp_cont_approx['linear'], \n",
    "            'linear_shift': lh_rh_cont_approx['linear_shift'] + lh_temp_cont_approx['linear'], \n",
    "            'square': lh_rh_cont_approx['linear'] + lh_temp_cont_approx['square'], \n",
    "            'square_shift': lh_rh_cont_approx['linear_shift'] + lh_temp_cont_approx['square']}"
   ],
   "outputs": [],
   "execution_count": null
  },
  {
   "metadata": {},
   "cell_type": "code",
   "source": [
    "show_shift = False      # in bottom right show linear and square approximations. Will include shift in these two if show_shift=True\n",
    "fig, ax = plt.subplots(3, 2, figsize=(1.5*2*width['one_col'], 3*1.5*width['one_col']/ar), sharex='col')\n",
    "for j, i in enumerate(range(0, n_lat, plot_lat_spacing)):\n",
    "    ax[0, 0].plot(ds.time, lh_rh_cont[i], label='Simulated' if i==0 else None, color=color_lat[j])\n",
    "    for key in rh_approx:\n",
    "        ax[0, 0].plot(ds.time, lh_rh_cont_approx[key][i], color=color_lat[j], linestyle='-.' if 'shift' in key else linestyles_approx[key], \n",
    "                      label=key if j==0 else None)\n",
    "    ax[1, 0].plot(ds.time, lh_temp_cont[i], color=color_lat[j], label=int(ds.lat[i]))\n",
    "    for key in lh_temp_cont_approx:\n",
    "        ax[1, 0].plot(ds.time, lh_temp_cont_approx[key][i], color=color_lat[j], linestyle=linestyles_approx[key])\n",
    "    ax[2, 0].plot(ds.time, ds.flux_lhe[:, i], color=color_lat[j])\n",
    "    for key in [f\"linear{'_shift' if show_shift else ''}\", f\"square{'_shift' if show_shift else ''}\"]:\n",
    "        ax[2, 0].plot(ds.time, lh_approx[key][i], color=color_lat[j], linestyle=linestyles_approx[key], label=key if j==0 else None)\n",
    "l1, = ax[0, 1].plot(ds.lat, error_func(lh_rh_cont, lh_rh_cont.mean(dim='time')), color='k', label='$\\overline{LH^{\\\\uparrow}}$', lw=ax_linewidth)\n",
    "for key in rh_approx:\n",
    "    ax[0, 1].plot(ds.lat, error_func(lh_rh_cont, lh_rh_cont_approx[key]), color=colors_approx[key], linestyle=linestyles_approx[key])\n",
    "for key in lh_temp_cont_approx:\n",
    "    ax[1, 1].plot(ds.lat, error_func(lh_temp_cont, lh_temp_cont_approx[key]), color=colors_approx[key], linestyle=linestyles_approx[key])\n",
    "for key in lh_approx:\n",
    "    ax[2, 1].plot(ds.lat, error_func(ds.flux_lhe.transpose(), lh_approx[key]), color=colors_approx[key], linestyle=linestyles_approx[key], \n",
    "                  label=key)\n",
    "ax[0, 0].legend()\n",
    "ax[1, 0].legend(title='Latitude')\n",
    "ax[2, 0].legend()\n",
    "ax[0, 1].legend(ax[0, 1].get_legend_handles_labels()[0]+ax[2, 1].get_legend_handles_labels()[0], \n",
    "                ax[0, 1].get_legend_handles_labels()[1] + ax[2, 1].get_legend_handles_labels()[1], title='$LH^{\\\\uparrow}_{approx}$')\n",
    "\n",
    "ax[0, 0].set_xticks(*month_ticks)\n",
    "ax[0, 0].set_xlim(-1, 360)\n",
    "ax[0, 0].set_ylabel('$LH^{\\\\uparrow}_r$ (relative humidity term) [Wm$^{-2}$]')\n",
    "ax[1, 0].set_ylabel('$LH^{\\\\uparrow}_T$ (temperature term) [Wm$^{-2}$]')\n",
    "ax[2, 0].set_ylabel('$LH^{\\\\uparrow} = LH^{\\\\uparrow}_r + LH^{\\\\uparrow}_T$ [Wm$^{-2}$]')\n",
    "ax[1, 1].set_ylabel(f'Error: {error_func_use} '+'$|LH^{\\\\uparrow} - LH^{\\\\uparrow}_{approx}|$ [Wm$^{-2}$]')\n",
    "for i in range(3):\n",
    "    ax[i, 0].axhline(0, color='k', lw=ax_linewidth)\n",
    "    ax[i, 1].set_ylim(0, ax[i, 1].get_ylim()[1])"
   ],
   "outputs": [],
   "execution_count": null
  },
  {
   "metadata": {},
   "cell_type": "markdown",
   "source": [
    "## Sensible Heat\n",
    "\n",
    "The linear approximation is always pretty good for sensible heat. Certainly, the phasing does not help at all."
   ]
  },
  {
   "metadata": {},
   "cell_type": "code",
   "source": [
    "sh_approx_params = {'linear': np.zeros((n_lat, n_approx_params)), \n",
    "                    'linear_shift': np.zeros((n_lat, n_approx_params)),\n",
    "                    'square': np.zeros((n_lat, n_approx_params))}\n",
    "sh_approx = {key: np.zeros((n_lat, ds.time.size)) for key in sh_approx_params}\n",
    "for i in range(n_lat):\n",
    "    sh_approx_params['linear'][i, :2] = optimize.curve_fit(linear_func, t_surf[i], ds.flux_t.to_numpy()[:, i], p0=param_guess[:-1])[0]\n",
    "    fit_func_use = lambda x, a, b, c: linear_func_shift(x, a, b, c, spline=t_surf_spline_fit[i])\n",
    "    sh_approx_params['linear_shift'][i, [0, 2, 3]] = optimize.curve_fit(fit_func_use, ds.time, ds.flux_t.to_numpy()[:, i], p0=param_guess)[0]\n",
    "    sh_approx_params['square'][i, [0, 1, 4]] = optimize.curve_fit(square_func, t_surf[i], ds.flux_t.to_numpy()[:, i], p0=param_guess)[0]\n",
    "    sh_approx['linear'][i] = linear_func(t_surf[i], *sh_approx_params['linear'][i, :2])\n",
    "    sh_approx['linear_shift'][i] = fit_func_use(ds.time, *sh_approx_params['linear_shift'][i, [0, 2, 3]])\n",
    "    sh_approx['square'][i] = square_func(t_surf[i], *sh_approx_params['square'][i, [0, 1, 4]])"
   ],
   "outputs": [],
   "execution_count": null
  },
  {
   "metadata": {},
   "cell_type": "code",
   "source": [
    "# show_shift = False\n",
    "fig, ax = plt.subplots(1, 2, figsize=(1.5*2*width['one_col'], 1.5*width['one_col']/ar))\n",
    "for j, i in enumerate(range(0, n_lat, plot_lat_spacing)):\n",
    "    ax[0].plot(ds.time, ds.flux_t[:, i], label='Simulated' if i==0 else None, color=color_lat[j])\n",
    "    for key in [f\"linear{'_shift' if show_shift else ''}\", 'square']:\n",
    "        ax[0].plot(ds.time, sh_approx[key][i], color=color_lat[j], linestyle='-.' if 'shift' in key else linestyles_approx[key], \n",
    "                   label=key if j==0 else None)\n",
    "    # ax[0].plot(ds.time, 100*rh_approx['linear_shift'][i], color=color_lat[j], linestyle=':', label='Approx: Linear + Phase' if j==0 else None)\n",
    "ax[1].plot(ds.lat, error_func(ds.flux_t, ds.flux_t.mean(dim='time')), color='k', label='$\\overline{SH^{\\\\uparrow}}$')\n",
    "for key in sh_approx:\n",
    "    ax[1].plot(ds.lat, error_func(ds.flux_t.transpose(), sh_approx[key]), linestyle=linestyles_approx[key], color=colors_approx[key], label=key)\n",
    "ax[0].legend()\n",
    "ax[1].legend(title='$SH^{\\\\uparrow}$', loc='upper left', frameon=True, framealpha=0.9, edgecolor='white')\n",
    "ax[0].set_xticks(*month_ticks)\n",
    "ax[0].set_xlim(-1, 360)\n",
    "ax[0].set_ylabel('$SH^{\\\\uparrow}$ [Wm$^{-2}$]')\n",
    "ax[1].set_ylabel(f'Error: {error_func_use} '+'$|SH^{\\\\uparrow} - SH^{\\\\uparrow}_{approx}|$ [Wm$^{-2}$]')\n",
    "ax[1].set_xlim(ds.lat[0], ds.lat[-1])\n",
    "ax[1].set_xlabel('Latitude [deg]')\n",
    "ax[1].set_ylim(0, ax[1].get_ylim()[1]);"
   ],
   "outputs": [],
   "execution_count": null
  },
  {
   "metadata": {},
   "cell_type": "markdown",
   "source": [
    "## Longwave\n",
    "When it comes to the net longwave, the squared term is fairly important at the highest latitudes, and there is a small latitude range around $50\\degree$ where a phase delay is useful."
   ]
  },
  {
   "metadata": {},
   "cell_type": "code",
   "source": [
    "lw_up_approx_params = {'linear': np.zeros((n_lat, n_approx_params)), \n",
    "                       'square': np.zeros((n_lat, n_approx_params)),\n",
    "                       'quartic': np.zeros((n_lat, 5))}\n",
    "lw_up_approx = {key: np.zeros((n_lat, ds.time.size)) for key in lw_up_approx_params}\n",
    "for i in range(n_lat):\n",
    "    lw_up_approx_params['linear'][i, :2] = optimize.curve_fit(linear_func, t_surf[i], ds.lwup_sfc.to_numpy()[:, i], p0=param_guess[:-1])[0]\n",
    "    lw_up_approx_params['square'][i, [0, 1, 4]] = optimize.curve_fit(square_func, t_surf[i], ds.lwup_sfc.to_numpy()[:, i], p0=param_guess)[0]\n",
    "    lw_up_approx_params['quartic'][i] = optimize.curve_fit(quartic_func, t_surf[i], ds.lwup_sfc.to_numpy()[:, i], p0=param_guess+[0, 0])[0]\n",
    "    lw_up_approx['linear'][i] = linear_func(t_surf[i], *lw_up_approx_params['linear'][i, :2])\n",
    "    lw_up_approx['square'][i] = square_func(t_surf[i], *lw_up_approx_params['square'][i, [0, 1, 4]])\n",
    "    lw_up_approx['quartic'][i] = quartic_func(t_surf[i], *lw_up_approx_params['quartic'][i])"
   ],
   "outputs": [],
   "execution_count": null
  },
  {
   "metadata": {},
   "cell_type": "code",
   "source": [
    "lw_dn_approx_params = {'linear': np.zeros((n_lat, n_approx_params)),\n",
    "                       'linear_shift': np.zeros((n_lat, n_approx_params)),\n",
    "                       'square': np.zeros((n_lat, n_approx_params)),\n",
    "                       'quartic': np.zeros((n_lat, 5))}\n",
    "lw_dn_approx = {key: np.zeros((n_lat, ds.time.size)) for key in lw_dn_approx_params}\n",
    "for i in range(n_lat):\n",
    "    lw_dn_approx_params['linear'][i, :2] = optimize.curve_fit(linear_func, t_surf[i], ds.lwdn_sfc.to_numpy()[:, i], p0=param_guess[:-1])[0]\n",
    "    fit_func_use = lambda x, a, b, c: linear_func_shift(x, a, b, c, spline=t_surf_spline_fit[i])\n",
    "    lw_dn_approx_params['linear_shift'][i, [0, 2, 3]] = optimize.curve_fit(fit_func_use, ds.time, ds.lwdn_sfc.to_numpy()[:, i], p0=param_guess)[0]\n",
    "    lw_dn_approx_params['square'][i, [0, 1, 4]] = optimize.curve_fit(square_func, t_surf[i], ds.lwdn_sfc.to_numpy()[:, i], p0=param_guess)[0]\n",
    "    lw_dn_approx_params['quartic'][i] = optimize.curve_fit(quartic_func, t_surf[i], ds.lwdn_sfc.to_numpy()[:, i], p0=param_guess+[0, 0])[0]\n",
    "    lw_dn_approx['linear'][i] = linear_func(t_surf[i], *lw_dn_approx_params['linear'][i, :2])\n",
    "    lw_dn_approx['linear_shift'][i] = fit_func_use(ds.time, *lw_dn_approx_params['linear_shift'][i, [0, 2, 3]])\n",
    "    lw_dn_approx['square'][i] = square_func(t_surf[i], *lw_dn_approx_params['square'][i, [0, 1, 4]])\n",
    "    lw_dn_approx['quartic'][i] = quartic_func(t_surf[i], *lw_dn_approx_params['quartic'][i])"
   ],
   "outputs": [],
   "execution_count": null
  },
  {
   "metadata": {},
   "cell_type": "code",
   "source": [
    "lw_net_approx_params = {'linear': lw_up_approx_params['linear'] - lw_dn_approx_params['linear'],\n",
    "                        'linear_shift': lw_up_approx_params['linear'] - lw_dn_approx_params['linear_shift'],\n",
    "                        'square': lw_up_approx_params['square'] - lw_dn_approx_params['square']}\n",
    "lw_net_approx = {'linear': lw_up_approx['linear'] - lw_dn_approx['linear'],\n",
    "                 'linear_shift': lw_up_approx['linear'] - lw_dn_approx['linear_shift'],\n",
    "                 'square': lw_up_approx['square'] - lw_dn_approx['square'], \n",
    "                 'quartic': lw_up_approx['quartic'] - lw_dn_approx['quartic']}"
   ],
   "outputs": [],
   "execution_count": null
  },
  {
   "metadata": {},
   "cell_type": "code",
   "source": [
    "# show_shift = False\n",
    "fig, ax = plt.subplots(3, 2, figsize=(1.5*2*width['one_col'], 3*1.5*width['one_col']/ar), sharex='col')\n",
    "for j, i in enumerate(range(0, n_lat, plot_lat_spacing)):\n",
    "    ax[0, 0].plot(ds.time, ds.lwup_sfc[:, i], label='Simulated' if i==0 else None, color=color_lat[j])\n",
    "    for key in lw_up_approx:\n",
    "        if key == 'quartic':\n",
    "            continue\n",
    "        ax[0, 0].plot(ds.time, lw_up_approx[key][i], color=color_lat[j], linestyle='-.' if 'shift' in key else linestyles_approx[key], \n",
    "                      label=key if j==0 else None)\n",
    "    ax[1, 0].plot(ds.time, ds.lwdn_sfc[:, i], color=color_lat[j], label=int(ds.lat[i]))\n",
    "    for key in lw_dn_approx:\n",
    "        if key == 'quartic':\n",
    "            continue\n",
    "        ax[1, 0].plot(ds.time, lw_dn_approx[key][i], color=color_lat[j], linestyle='-.' if 'shift' in key else linestyles_approx[key])\n",
    "    ax[2, 0].plot(ds.time, ds.lwup_sfc[:, i] - ds.lwdn_sfc[:, i], color=color_lat[j])\n",
    "    for key in [f\"linear{'_shift' if show_shift else ''}\", 'square']:\n",
    "        ax[2, 0].plot(ds.time, lw_net_approx[key][i], color=color_lat[j], linestyle=linestyles_approx[key], label=key if j==0 else None)\n",
    "for key in lw_up_approx:\n",
    "    ax[0, 1].plot(ds.lat, error_func(ds.lwup_sfc.transpose(), lw_up_approx[key]), color=colors_approx[key], linestyle=linestyles_approx[key])\n",
    "for key in lw_dn_approx:\n",
    "    ax[1, 1].plot(ds.lat, error_func(ds.lwdn_sfc.transpose(), lw_dn_approx[key]), color=colors_approx[key], linestyle=linestyles_approx[key])\n",
    "for key in lw_net_approx:\n",
    "    ax[2, 1].plot(ds.lat, error_func((ds.lwup_sfc - ds.lwdn_sfc).transpose(), lw_net_approx[key]), \n",
    "                  color=colors_approx[key], linestyle=linestyles_approx[key], label=key)\n",
    "ax[0, 0].legend()\n",
    "ax[1, 0].legend(title='Latitude')\n",
    "ax[2, 0].legend()\n",
    "ax[0, 1].legend(ax[0, 1].get_legend_handles_labels()[0]+ax[2, 1].get_legend_handles_labels()[0], \n",
    "                ax[0, 1].get_legend_handles_labels()[1] + ax[2, 1].get_legend_handles_labels()[1], title='$LW_{approx}$')\n",
    "\n",
    "ax[0, 0].set_xticks(*month_ticks)\n",
    "ax[0, 0].set_xlim(-1, 360)\n",
    "ax[0, 0].set_ylabel('$LW^{\\\\uparrow}$ [Wm$^{-2}$]')\n",
    "ax[1, 0].set_ylabel('$LW^{\\\\downarrow}$ [Wm$^{-2}$]')\n",
    "ax[2, 0].set_ylabel('$LW^{\\\\uparrow} - LW^{\\\\downarrow}$ [Wm$^{-2}$]')\n",
    "ax[1, 1].set_ylabel(f'Error: {error_func_use} '+'$|LW - LW_{approx}|$ [Wm$^{-2}$]')\n",
    "for i in range(3):\n",
    "    ax[i, 1].set_ylim(0, ax[i, 1].get_ylim()[1])\n",
    "#     ax[i, 0].axhline(0, color='k', lw=ax_linewidth)\n",
    "     "
   ],
   "outputs": [],
   "execution_count": null
  },
  {
   "metadata": {},
   "cell_type": "markdown",
   "source": [
    "## $\\Gamma^{\\uparrow}$ Approximation\n",
    "\n",
    "Below we see that the phase relation for the relative humidity contribution of latent heat is important at low latitudes, and the squared component of latent heat is important at high latitudes."
   ]
  },
  {
   "metadata": {},
   "cell_type": "code",
   "source": [
    "gamma = (ds.lwup_sfc - ds.lwdn_sfc + ds.flux_lhe + ds.flux_t).transpose()\n",
    "gamma_approx_params = {key: lw_net_approx_params['linear' if 'lw1' in key else 'square'] + \n",
    "                            lh_approx_params[('linear' if 'lh1' in key else 'square') + ('_shift' if 'shift' in key else '')] + \n",
    "                            sh_approx_params['square' if 'sh2' in key else 'linear']\n",
    "                       for key in ['lw1_lh1', 'lw1_lh2', 'lw2_lh1', 'lw2_lh2', 'lw1_lh1_shift', 'lw1_lh2_shift', 'lw2_lh2_shift', \n",
    "                                   'lw2_lh2_shift_sh2']}\n",
    "gamma_approx = {key: lw_net_approx['linear' if 'lw1' in key else 'square'] + \n",
    "                     lh_approx[('linear' if 'lh1' in key else 'square') + ('_shift' if 'shift' in key else '')] + \n",
    "                     sh_approx['square' if 'sh2' in key else 'linear'] \n",
    "                for key in gamma_approx_params}\n",
    "gamma_approx['lw4_lh2_shift_sh2'] = lw_net_approx['quartic'] + lh_approx['square_shift'] + sh_approx['square']\n",
    "\n",
    "gamma_approx_params['quartic'] = np.zeros((n_lat, 5))\n",
    "gamma_approx['quartic'] = np.zeros((n_lat, ds.time.size))\n",
    "for i in range(n_lat):\n",
    "    gamma_approx_params['quartic'][i] = optimize.curve_fit(quartic_func, t_surf[i], gamma[i].to_numpy(), p0=param_guess+[0, 0])[0]\n",
    "    gamma_approx['quartic'][i] = quartic_func(t_surf[i], *gamma_approx_params['quartic'][i])"
   ],
   "outputs": [],
   "execution_count": null
  },
  {
   "metadata": {},
   "cell_type": "code",
   "source": [
    "save_gamma_approx_fig = False\n",
    "keys_plot = ['lw1_lh1', 'lw1_lh2', 'lw2_lh2', 'lw2_lh2_shift', 'lw2_lh2_shift_sh2']\n",
    "colors_gamma = {'lw1_lh1': colors_approx['linear'], 'lw2_lh2': colors_approx['square'], \n",
    "                'lw1_lh1_shift': colors_approx['linear_shift'], 'lw2_lh2_shift': colors_approx['square_shift'], \n",
    "                'lw1_lh2': colors_approx['linear'], 'lw1_lh2_shift': colors_approx['linear_shift'], 'lw2_lh1': default_colors[1], \n",
    "                'lw2_lh2_shift_sh2': default_colors[2], 'lw4_lh2_shift_sh2': colors_approx['quartic']}\n",
    "linestyles_gamma = {'lw1_lh1': linestyles_approx['linear'], 'lw2_lh2': linestyles_approx['square'], \n",
    "                    'lw1_lh1_shift': linestyles_approx['linear_shift'], 'lw2_lh2_shift': linestyles_approx['square_shift'], \n",
    "                    'lw1_lh2': '-.', 'lw1_lh2_shift': '-.', 'lw2_lh1': '-.', \n",
    "                    'lw2_lh2_shift_sh2': linestyles_approx['quartic'], 'lw4_lh2_shift_sh2': linestyles_approx['quartic']}\n",
    "fig, ax = plt.subplots(1, 2, figsize=(1.5*2*width['one_col'], 1.5*width['one_col']/ar))\n",
    "for j, i in enumerate(range(0, n_lat, plot_lat_spacing)):\n",
    "    ax[0].plot(ds.time, gamma[i], label='Simulated' if j==0 else None, color=color_lat[j])\n",
    "    for key in ['lw1_lh1', 'lw2_lh2_shift_sh2']:\n",
    "        ax[0].plot(ds.time, gamma_approx[key][i], color=color_lat[j], linestyle=':' if key=='lw1_lh1' else '--', \n",
    "                   label=key if j==0 else None)\n",
    "#     # ax[0].plot(ds.time, 100*rh_approx['linear_shift'][i], color=color_lat[j], linestyle=':', label='Approx: Linear + Phase' if j==0 else None)\n",
    "# ax[1].plot(ds.lat, error_func(ds.flux_t, ds.flux_t.mean(dim='time')), color='k', label='$\\overline{SH^{\\\\uparrow}}$')\n",
    "for key in keys_plot:\n",
    "    ax[1].plot(ds.lat, error_func(gamma, gamma_approx[key]), linestyle=linestyles_gamma[key], color=colors_gamma[key], label=key)\n",
    "ax[0].set_xticks(*month_ticks)\n",
    "ax[0].set_xlim(-1, 360)\n",
    "ax[0].legend()\n",
    "ax[1].legend(fontsize=6)\n",
    "ax[0].set_ylabel('$\\Gamma^{\\\\uparrow} = LW^{\\\\uparrow} - LW^{\\\\downarrow} + SH^{\\\\uparrow} + LH^{\\\\uparrow}$ [Wm$^{-2}$]')\n",
    "ax[1].set_ylabel(f'Error: {error_func_use} '+'$|\\Gamma^{\\\\uparrow} - \\Gamma^{\\\\uparrow}_{approx}|$ [Wm$^{-2}$]')\n",
    "ax[1].set_xlim(ds.lat[0], ds.lat[-1])\n",
    "ax[1].set_xlabel('Latitude [deg]')\n",
    "ax[1].set_ylim(0, ax[1].get_ylim()[1])\n",
    "ax[0].set_ylim(0, ax[0].get_ylim()[1])\n",
    "if save_gamma_approx_fig:\n",
    "    fig.savefig(f\"/Users/joshduffield/Desktop/gamma_approx_{error_func_use.lower()}.pdf\",\n",
    "                dpi=dpi['combination'] if publish_fig else low_dpi, bbox_inches='tight', pad_inches=save_pad_inches)"
   ],
   "outputs": [],
   "execution_count": null
  },
  {
   "metadata": {},
   "cell_type": "markdown",
   "source": [
    "### Final $\\Gamma^{\\uparrow}$ Approximation\n",
    "\n",
    "As the final approximation, we start with the linear approximation, and add non-zero $\\Lambda_r$ to account for the phasing of relative humidity in latent heat whenever it gives an improvement of $1Wm^{-2}$ in the *Max* and *Median* error metrics.\n",
    "\n",
    "We then do the same with $\\lambda_{sq}$, we include a non-zero value to account for squared term in temperature component of latent heat whenever it gives the $1Wm^{-2}$ improvement.\n",
    "\n",
    "The markers are included to indicate the latitudes where each approximation is used.\n",
    "\n",
    "I include a quartic approximation, as a guide to how good we are doing (i.e. this is best we could possibly do with no phase delay). It is interesting that accounting for the phase delay at some latitudes actually does better than the quartic term."
   ]
  },
  {
   "metadata": {},
   "cell_type": "code",
   "source": [
    "def true_cluster_ind(bool_array):\n",
    "    # Returns indices of clusters of neighbouring True values, and size of each cluster\n",
    "    true_ranges = np.argwhere(np.diff(bool_array,prepend=False,append=False))\n",
    "    true_ranges = true_ranges.reshape(len(true_ranges)//2,2)\n",
    "    true_ranges = [np.arange(r[0], r[1]) for r in true_ranges]\n",
    "    cluster_size = np.asarray([len(true_ranges[i]) for i in range(len(true_ranges))])\n",
    "    return true_ranges, cluster_size\n",
    "\n",
    "error_thresh = 1            # Need non-linear effect to be better than linear fit by more than 1W/m^2 in both median and max error\n",
    "min_cluster_size = 4        # Need non-linear effect to be beneficial over lat range of 4 or more values to keep\n",
    "ind_gamma_shift = np.logical_or(*[error_func_dict[key](gamma, gamma_approx['lw1_lh1']) - \n",
    "                                  error_func_dict[key](gamma, gamma_approx['lw1_lh1_shift']) > error_thresh for key in ['Median', 'Max']])\n",
    "ind_gamma_shift, cluster_size = true_cluster_ind(ind_gamma_shift)\n",
    "if len(ind_gamma_shift) > 0:\n",
    "    ind_gamma_shift = np.concatenate([ind_gamma_shift[i] for i in np.argwhere(cluster_size>=min_cluster_size).flatten()])\n",
    "\n",
    "ind_gamma_square = np.logical_or(*[error_func_dict[key](gamma, gamma_approx['lw1_lh1']) - \n",
    "                                   error_func_dict[key](gamma, gamma_approx['lw1_lh2']) > error_thresh for key in ['Median', 'Max']])\n",
    "ind_gamma_square, cluster_size = true_cluster_ind(ind_gamma_square)\n",
    "ind_gamma_square = np.concatenate([ind_gamma_square[i] for i in np.argwhere(cluster_size>=min_cluster_size).flatten()])\n",
    "\n",
    "# Get final gamma approx\n",
    "gamma_approx_params['final'] = copy.deepcopy(gamma_approx_params['lw1_lh1'])\n",
    "gamma_approx_params['final'][ind_gamma_shift] = gamma_approx_params['lw1_lh1_shift'][ind_gamma_shift]\n",
    "gamma_approx_params['final'][ind_gamma_square] = gamma_approx_params['lw1_lh2'][ind_gamma_square]\n",
    "\n",
    "gamma_approx['final'] = copy.deepcopy(gamma_approx['lw1_lh1'])\n",
    "gamma_approx['final'][ind_gamma_shift] = gamma_approx['lw1_lh1_shift'][ind_gamma_shift]\n",
    "gamma_approx['final'][ind_gamma_square] = gamma_approx['lw1_lh2'][ind_gamma_square]"
   ],
   "outputs": [],
   "execution_count": null
  },
  {
   "metadata": {},
   "cell_type": "code",
   "source": [
    "# error_func_use = 'Median'\n",
    "# # error_func_use = 'Max'\n",
    "# error_func = error_func_dict[error_func_use]"
   ],
   "outputs": [],
   "execution_count": null
  },
  {
   "metadata": {},
   "cell_type": "code",
   "source": [
    "save_gamma_approx_final_fig = False\n",
    "fig, ax = plt.subplots(1, 2, figsize=(1.5*2*width['one_col'], 1.5*width['one_col']/ar))\n",
    "for j, i in enumerate(range(0, n_lat, plot_lat_spacing)):\n",
    "    ax[0].plot(ds.time, gamma[i], label=int(ds.lat[i]), color=color_lat[j])\n",
    "    ax[0].plot(ds.time, gamma_approx['final'][i], color=color_lat[j], linestyle=':')\n",
    "#     # ax[0].plot(ds.time, 100*rh_approx['linear_shift'][i], color=color_lat[j], linestyle=':', label='Approx: Linear + Phase' if j==0 else None)\n",
    "# ax[1].plot(ds.lat, error_func(ds.flux_t, ds.flux_t.mean(dim='time')), color='k', label='$\\overline{SH^{\\\\uparrow}}$')\n",
    "ax[1].plot(ds.lat, error_func(gamma, gamma_approx['final']), color='k', label='Final')\n",
    "ax[1].plot(ds.lat, error_func(gamma, gamma_approx['quartic']), color=colors_approx['quartic'], label='Quartic')\n",
    "ax[1].scatter(ds.lat, error_func(gamma, gamma_approx['lw1_lh1']), color=colors_approx['linear'], marker='x', label='Linear')\n",
    "ax[1].scatter(ds.lat, error_func(gamma, gamma_approx['lw1_lh1_shift']), color=colors_approx['linear_shift'], label='$\\Lambda_r \\\\neq 0$')\n",
    "ax[1].scatter(ds.lat, error_func(gamma, gamma_approx['lw1_lh2']), color=colors_approx['square'], marker='+', label='$\\lambda_{sq} \\\\neq 0$')\n",
    "\n",
    "ax[0].set_xticks(*month_ticks)\n",
    "ax[0].set_xlim(-1, 360)\n",
    "ax[0].legend(title='Latitude', fontsize=6, title_fontsize=6)\n",
    "ax[1].legend(fontsize=6)\n",
    "ax[0].set_ylabel('$\\Gamma^{\\\\uparrow} = LW^{\\\\uparrow} - LW^{\\\\downarrow} + SH^{\\\\uparrow} + LH^{\\\\uparrow}$ [Wm$^{-2}$]')\n",
    "ax[1].set_ylabel(f'Error: {error_func_use} '+'$|\\Gamma^{\\\\uparrow} - \\Gamma^{\\\\uparrow}_{approx}|$ [Wm$^{-2}$]')\n",
    "ax[1].set_xlim(ds.lat[0]-1, 90)\n",
    "ax[1].set_xlabel('Latitude [deg]')\n",
    "ax[1].set_ylim(0, ax[1].get_ylim()[1])\n",
    "ax[0].set_ylim(0, ax[0].get_ylim()[1])\n",
    "if save_gamma_approx_final_fig:\n",
    "    fig.savefig(f\"/Users/joshduffield/Desktop/gamma_approx_final_{error_func_use.lower()}.pdf\",\n",
    "                dpi=dpi['combination'] if publish_fig else low_dpi, bbox_inches='tight', pad_inches=save_pad_inches)"
   ],
   "outputs": [],
   "execution_count": null
  },
  {
   "metadata": {},
   "cell_type": "markdown",
   "source": "### Variation of parameters with latitude"
  },
  {
   "metadata": {},
   "cell_type": "code",
   "source": [
    "fig, ax = plt.subplots(1, 1, figsize=(1.5*width['one_col'], 1.5*width['one_col']/ar))\n",
    "ax = [ax, ax.twinx(), ax.twinx()]\n",
    "ax[2].spines.right.set_position((\"axes\", 1.2))\n",
    "\n",
    "ax[0].plot(ds.lat, gamma_approx_params['final'][:, 1]+gamma_approx_params['final'][:, 2], color='k', label='$\\lambda + \\lambda_r$')\n",
    "ax[0].plot(ds.lat[ind_gamma_shift], -gamma_approx_params['final'][ind_gamma_shift, 2], color='k', linestyle=':', label='$-\\lambda_r$')\n",
    "ax[1].plot(ds.lat[ind_gamma_shift], gamma_approx_params['final'][ind_gamma_shift, 3], color=default_colors[0])\n",
    "ax[2].plot(ds.lat[ind_gamma_square], gamma_approx_params['final'][ind_gamma_square, 4], color=default_colors[1])\n",
    "\n",
    "for i in range(len(ax)):\n",
    "    ax[i].set_ylim(0, ax[i].get_ylim()[1])\n",
    "    if i==0: continue\n",
    "    ax[i].spines[['bottom', 'left']].set_visible(False)\n",
    "    ax[i].spines[['right']].set_visible(True)\n",
    "    ax[i].spines.right.set_color(default_colors[i-1])\n",
    "    ax[i].tick_params(axis='y', colors=default_colors[i-1])\n",
    "    \n",
    "ax[0].legend(loc='lower left')\n",
    "ax[0].set_xlim(ds.lat[0]-1, 90)\n",
    "ax[0].set_xlabel('Latitude [deg]')\n",
    "ax[0].set_ylabel('Feedback Parameter (linear), $\\lambda$ [Wm$^{-2}K^{-1}$]')\n",
    "ax[1].set_ylabel('RH Phasing, $\\Lambda_r$ [days]', color=default_colors[0])\n",
    "ax[2].set_ylabel('Feedback Parameter (squared), $\\lambda_{sq}$ [Wm$^{-2}K^{-2}$]', color=default_colors[1]);"
   ],
   "outputs": [],
   "execution_count": null
  },
  {
   "metadata": {},
   "cell_type": "markdown",
   "source": [
    "## Analytic Solution for Temperature\n",
    "Now we investigate the error in the analytic solution for temperature, given this $\\Gamma$. We look at the error averaged across all times, as well as the error in the phase/amplitude of the hottest and coldest days."
   ]
  },
  {
   "metadata": {},
   "cell_type": "code",
   "source": [
    "heat_capacity = get_heat_capacity(c_p_water, rho_water, mixed_layer_depth[0])\n",
    "quartic_n_harmonics = 5         # how many harmonics to fit for quartic approximation (ground truth, indicating best possible)\n",
    "temp_approx = {key: np.zeros((n_lat, ds.time.size)) for key in ['final', 'linear', 'lw1_lh1_shift', 'lw1_lh2', 'quartic']}\n",
    "temp_approx_fourier_amp = {key: np.zeros((n_lat, 3)) for key in temp_approx}\n",
    "temp_approx_fourier_phase = {key: np.zeros((n_lat, 2)) for key in temp_approx}\n",
    "sw_approx_fourier_amp = np.zeros((n_lat, 3))\n",
    "for i in tqdm(range(n_lat)):\n",
    "    for key in temp_approx:\n",
    "        if key == 'linear':\n",
    "            key_param = 'lw1_lh1'\n",
    "        else:\n",
    "            key_param = key\n",
    "        if key_param == 'quartic':\n",
    "            temp_approx[key][i] = \\\n",
    "                get_temp_fourier(ds.time, fourier.fourier_series(ds.time, sw_approx_fourier_amp[i], [0, 0]), \n",
    "                                 heat_capacity, gamma_approx_params[key_param][i, :2], \n",
    "                                 lambda_nl=gamma_approx_params[key_param][i, 2:], numerical=True, n_harmonics=quartic_n_harmonics)[0]\n",
    "        else:\n",
    "            temp_approx[key][i], temp_approx_fourier_amp[key][i], temp_approx_fourier_phase[key][i], sw_approx_fourier_amp[i], _ = \\\n",
    "                get_temp_fourier(ds.time, ds.swdn_sfc[:, i], heat_capacity, gamma_approx_params[key_param][i, :3], \n",
    "                                 np.asarray([0, gamma_approx_params[key_param][i, 3]]), \n",
    "                                 gamma_approx_params[key_param][i, 4], single_harmonic_nl=True)"
   ],
   "outputs": [],
   "execution_count": null
  },
  {
   "metadata": {},
   "cell_type": "code",
   "source": [
    "save_temp_approx_final_fig = False\n",
    "fig, ax = plt.subplots(1, 2, figsize=(1.5*2*width['one_col'], 1.5*width['one_col']/ar))\n",
    "for j, i in enumerate(range(0, n_lat, plot_lat_spacing)):\n",
    "    ax[0].plot(ds.time, ds.t_surf[:, i], label=int(ds.lat[i]), color=color_lat[j])\n",
    "    ax[0].plot(ds.time, temp_approx['final'][i], color=color_lat[j], linestyle=':')\n",
    "#     # ax[0].plot(ds.time, 100*rh_approx['linear_shift'][i], color=color_lat[j], linestyle=':', label='Approx: Linear + Phase' if j==0 else None)\n",
    "# ax[1].plot(ds.lat, error_func(ds.flux_t, ds.flux_t.mean(dim='time')), color='k', label='$\\overline{SH^{\\\\uparrow}}$')\n",
    "ax[1].plot(ds.lat, error_func(ds.t_surf.transpose(), temp_approx['final']), color='k', label='Final')\n",
    "ax[1].plot(ds.lat, error_func(ds.t_surf.transpose(), temp_approx['quartic']), color=colors_approx['quartic'], label='Quartic')\n",
    "ax[1].scatter(ds.lat, error_func(ds.t_surf.transpose(), temp_approx['linear']), color=colors_approx['linear'], marker='x', label='Linear')\n",
    "ax[1].scatter(ds.lat, error_func(ds.t_surf.transpose(), temp_approx['lw1_lh1_shift']), color=colors_approx['linear_shift'], \n",
    "              label='$\\Lambda_r \\\\neq 0$')\n",
    "ax[1].scatter(ds.lat, error_func(ds.t_surf.transpose(), temp_approx['lw1_lh2']), color=colors_approx['square'], marker='+', \n",
    "              label='$\\lambda_{sq} \\\\neq 0$')\n",
    "\n",
    "ax[0].set_xticks(*month_ticks)\n",
    "ax[0].set_xlim(-1, 360)\n",
    "ax[0].legend(title='Latitude', fontsize=6, title_fontsize=6)\n",
    "ax[1].legend(fontsize=6)\n",
    "ax[0].set_ylabel('Surface Temperature, $T$ [K]')\n",
    "ax[1].set_ylabel(f'Error: {error_func_use} '+'$|T - T_{approx}|$ [K]')\n",
    "ax[1].set_xlim(ds.lat[0]-1, 90)\n",
    "ax[1].set_xlabel('Latitude [deg]')\n",
    "ax[1].set_ylim(0, ax[1].get_ylim()[1])\n",
    "# ax[0].set_ylim(0, ax[0].get_ylim()[1])\n",
    "if save_temp_approx_final_fig:\n",
    "    fig.savefig(f\"/Users/joshduffield/Desktop/temp_approx_final_{error_func_use.lower()}.pdf\",\n",
    "                dpi=dpi['combination'] if publish_fig else low_dpi, bbox_inches='tight', pad_inches=save_pad_inches)"
   ],
   "outputs": [],
   "execution_count": null
  },
  {
   "metadata": {},
   "cell_type": "code",
   "source": [
    "spline_spacing_date = 20        # how much smoothing to do when determining extrema dates\n",
    "extrema_date = {'max': np.zeros(n_lat), 'min': np.zeros(n_lat)}\n",
    "extrema_date_approx = {key: {'max': np.zeros(n_lat), 'min': np.zeros(n_lat)} for key in temp_approx}\n",
    "for i in range(n_lat):\n",
    "    for key in extrema_date:\n",
    "        # Find only 1 extrema - will be problematic in tropics, but this is not valid there\n",
    "        extrema_date[key][i] = get_var_extrema_date(ds.time, ds.t_surf[:, i], spline_spacing_date, type=key, max_extrema=1, \n",
    "                                                    thresh_extrema=float(ds.t_surf[:, i].mean()))[0][0]\n",
    "        for key2 in temp_approx:\n",
    "            extrema_date_approx[key2][key][i] = get_var_extrema_date(ds.time, temp_approx[key2][i], 1, type=key, max_extrema=1, \n",
    "                                                                     thresh_extrema=float(temp_approx[key2][i].mean()))[0][0]"
   ],
   "outputs": [],
   "execution_count": null
  },
  {
   "metadata": {},
   "cell_type": "code",
   "source": [
    "colors_extrema = {'max': default_colors[3], 'min': default_colors[0]}\n",
    "fig, ax = plt.subplots(3, 1, figsize=(1*width['one_col'], 1*3*width['one_col']/ar), sharex=True)\n",
    "for i, key in enumerate(extrema_date):\n",
    "    ax[i].plot(ds.lat, extrema_date[key], color='k', label='Simulated')\n",
    "    ax[i].set_ylabel(f'Date of {key.capitalize()} Temp [day]')\n",
    "    for key2 in ['linear', 'final']:\n",
    "        ax[i].plot(ds.lat, extrema_date_approx[key2][key], color='k', label=f'Approx - {key2.capitalize()}', linestyle=linestyles_approx[key2])\n",
    "        ax[2].plot(ds.lat, extrema_date[key] - extrema_date_approx[key2][key], color=colors_extrema[key], \n",
    "                   label=key.capitalize() if key2=='final' else None, linestyle=linestyles_approx[key2])        \n",
    "ax[2].axhline(0, color='k', lw=ax_linewidth)\n",
    "ax[0].legend()\n",
    "ax[2].legend()\n",
    "ax[0].set_xlim(ds.lat[0]-1, 90)\n",
    "ax[2].set_xlabel('Latitude [deg]')\n",
    "ax[2].set_ylabel('Simulated - Approx [days]')"
   ],
   "outputs": [],
   "execution_count": null
  },
  {
   "metadata": {},
   "cell_type": "code",
   "source": [
    "func_use = {'max': lambda x: np.max(x, axis=0), 'min': lambda x: np.min(x, axis=0)}\n",
    "fig, ax = plt.subplots(2, 1, figsize=(1*width['one_col'], 1*2*width['one_col']/ar), sharex=True)\n",
    "ax[0].plot(ds.lat, ds.t_surf.mean(dim='time'), color='k', lw=ax_linewidth, label='Mean')\n",
    "for key in func_use:\n",
    "    ax[0].plot(ds.lat, func_use[key](ds.t_surf), color='k', label='Simulated' if key=='max' else None)\n",
    "    for key2 in ['linear', 'final']:\n",
    "        ax[0].plot(ds.lat, func_use[key](temp_approx[key2].transpose()), color='k', linestyle=linestyles_approx[key2], \n",
    "                   label=f'Approx - {key2.capitalize()}' if key=='max' else None)\n",
    "        ax[1].plot(ds.lat, func_use[key](ds.t_surf) - func_use[key](temp_approx[key2].transpose()), \n",
    "                color=colors_extrema[key], linestyle=linestyles_approx[key2], \n",
    "                label=key.capitalize() if key2=='final' else None)\n",
    "ax[1].axhline(0, color='k', lw=ax_linewidth)\n",
    "ax[0].legend()\n",
    "ax[1].legend()\n",
    "ax[0].set_xlim(ds.lat[0]-1, 90)\n",
    "ax[1].set_xlabel('Latitude [deg]')\n",
    "ax[0].set_ylabel('Extrema Temperature [K]')\n",
    "ax[1].set_ylabel('Simulated - Approx [K]')"
   ],
   "outputs": [],
   "execution_count": null
  },
  {
   "metadata": {},
   "cell_type": "code",
   "source": "",
   "outputs": [],
   "execution_count": null
  }
 ],
 "metadata": {
  "kernelspec": {
   "display_name": "Python 3",
   "language": "python",
   "name": "python3"
  },
  "language_info": {
   "codemirror_mode": {
    "name": "ipython",
    "version": 2
   },
   "file_extension": ".py",
   "mimetype": "text/x-python",
   "name": "python",
   "nbconvert_exporter": "python",
   "pygments_lexer": "ipython2",
   "version": "2.7.6"
  }
 },
 "nbformat": 4,
 "nbformat_minor": 0
}
