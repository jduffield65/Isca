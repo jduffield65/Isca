{
 "cells": [
  {
   "cell_type": "markdown",
   "source": [
    "# Temperature Profile\n",
    "This looks at the temperature profile, to see how it differs from the expected dry adiabat up to the LCL, followed by the moist adiabat."
   ],
   "metadata": {
    "collapsed": false
   }
  },
  {
   "cell_type": "code",
   "execution_count": 1,
   "source": [
    "import copy\n",
    "import sys\n",
    "import os\n",
    "# REMOTE - So can access functions in isca_tools which is in home/Isca directory\n",
    "# sys.path.append(os.path.join(os.environ['HOME'], 'Isca'))\n",
    "# LOCAL - So can access functions in isca_tools which is in StAndrews/Isca\n",
    "sys.path.append(os.environ['PWD'])\n",
    "import isca_tools\n",
    "from isca_tools.utils.moist_physics import moist_static_energy, clausius_clapeyron_factor, sphum_sat\n",
    "from isca_tools.utils.constants import kappa, L_v, c_p\n",
    "from isca_tools.utils import area_weighting, annual_mean\n",
    "from isca_tools.papers.byrne_2021 import get_quant_ind\n",
    "from isca_tools.thesis.aquaplanet_theory import get_delta_temp_quant_theory, get_gamma\n",
    "from isca_tools.convection.simple_betts_miller import lcl_temp, ref_temp_above_lcl, get_temp_ref\n",
    "from isca_tools.convection import dry_profile_pressure, moist_profile, equivalent_potential_temp, potential_temp\n",
    "from isca_tools.plot import label_subplots\n",
    "import numpy as np\n",
    "import matplotlib.pyplot as plt\n",
    "import xarray as xr\n",
    "import scipy.optimize\n",
    "from tqdm import tqdm\n",
    "from scipy import interpolate\n",
    "import matplotlib.animation\n",
    "from matplotlib.animation import FuncAnimation\n",
    "from IPython.display import HTML\n",
    "import numpy_indexed\n",
    "from scipy.stats import percentileofscore\n",
    "import copy\n",
    "# Use custom matplotlib style for publishing\n",
    "plt.style.use('/Users/joshduffield/Documents/StAndrews/Isca/jobs/tau_sweep/aquaplanet/publish_figures/publish.mplstyle')"
   ],
   "metadata": {
    "collapsed": false,
    "ExecuteTime": {
     "end_time": "2023-12-13T16:19:59.615176Z",
     "start_time": "2023-12-13T16:19:57.575174Z"
    }
   },
   "outputs": []
  },
  {
   "cell_type": "code",
   "execution_count": 41,
   "source": [
    "# Load dataset - one at surface and one in free troposphere\n",
    "var_keep = ['temp', 'sphum', 'height', 't_surf', 't_ref', 'ps', 'pk']  \n",
    "# Load dataset\n",
    "tau_lw_ref = 1\n",
    "exp_dir = 'aquaplanet/temp_tendency/'\n",
    "exp_names = [f\"k={str(tau_lw_ref).replace('.','_')}\", \"k=1_5\"]\n",
    "n_exp = len(exp_names)\n",
    "ds_base = []\n",
    "albedo = []\n",
    "tau_sw = []\n",
    "tau_lw = []\n",
    "\n",
    "use_time_start = 360*2\n",
    "for i in range(n_exp):\n",
    "    ds_use = isca_tools.load_dataset(exp_dir + exp_names[i])\n",
    "    try:\n",
    "        ds_use = ds_use[var_keep]\n",
    "    except KeyError:\n",
    "        remove_keys = []\n",
    "        for key in var_keep:\n",
    "            if key not in ds_use:\n",
    "                print(f'Removing {key} from var_keep')\n",
    "                remove_keys += [key]\n",
    "        for key in remove_keys:\n",
    "            var_keep.remove(key)\n",
    "        ds_use = ds_use[var_keep]\n",
    "    ds_base += [ds_use.sel(time=slice(use_time_start, np.inf))]      # only keep after spin up\n",
    "    namelist = isca_tools.load_namelist(exp_dir + exp_names[i])  # Need this for albedo_value\n",
    "    albedo += [namelist['mixed_layer_nml']['albedo_value']]\n",
    "    tau_sw += [namelist['two_stream_gray_rad_nml']['atm_abs']]\n",
    "    tau_lw += [namelist['two_stream_gray_rad_nml']['odp']]\n",
    "sigma_levels = np.asarray(namelist['vert_coordinate_nml']['bk']) "
   ],
   "metadata": {
    "collapsed": false,
    "ExecuteTime": {
     "end_time": "2023-12-13T16:55:55.239992Z",
     "start_time": "2023-12-13T16:55:48.424986Z"
    }
   },
   "outputs": []
  },
  {
   "cell_type": "markdown",
   "source": [
    "## Get datasets\n",
    "Get one surface dataset for summer for each $\\kappa$, combining all latitudes: `ds_all`. This combines the summer months in each hemisphere, e.g. negative latitudes will only correspond to times in December, January or February.\n",
    "\n",
    "Also get an equivalent dataset consisting of free troposphere rather than surface values: `ds_all_ft`."
   ],
   "metadata": {
    "collapsed": false
   }
  },
  {
   "cell_type": "code",
   "execution_count": 42,
   "source": [
    "# If true, will save all figures to desktop - option to save specific figures later on.\n",
    "save_fig = False\n",
    "# if publishing figure, use high dpi\n",
    "publish_fig = True\n",
    "\n",
    "ar = 4/3        # aspect ratio (width/height)\n",
    "# Details required for Journal of Climate Figures\n",
    "low_dpi = 100\n",
    "dpi = {'monochrome': 1100, 'combination': 800, 'halftone': 300}\n",
    "width = {'one_col': 3.2, 'two_col': 5.5}        # width in inches \n",
    "save_pad_inches = 0.05\n",
    "\n",
    "# Default parameters\n",
    "default_colors = plt.rcParams['axes.prop_cycle'].by_key()['color']\n",
    "ax_linewidth = plt.rcParams['axes.linewidth']"
   ],
   "metadata": {
    "collapsed": false,
    "ExecuteTime": {
     "end_time": "2023-12-13T16:55:55.241151Z",
     "start_time": "2023-12-13T16:55:55.228020Z"
    }
   },
   "outputs": []
  },
  {
   "cell_type": "code",
   "execution_count": 43,
   "source": [
    "# Load in dataset with surface and free troposphere across all latitudes, for given season\n",
    "# use_time_start = 0      # because little data\n",
    "\n",
    "# Chose whether to only consider summer days for mean or all days\n",
    "summer_months = {'nh': [6, 7, 8], 'sh': [12, 1, 2]}   # JJA for NH and DJF for SH \n",
    "use_summer = False      # if true, will set ds will only contain summer months. Do this outside tropics\n",
    "\n",
    "ds = []  # need both all and summer day dataset\n",
    "with tqdm(total=n_exp, position=0, leave=True) as pbar:\n",
    "    for i in range(n_exp):\n",
    "        ds_use = ds_base[i]\n",
    "        if use_summer:\n",
    "            ds_nh_summer = isca_tools.utils.annual_time_slice(ds_use, summer_months['nh']).sel(lat=slice(0, 90))  \n",
    "            ds_sh_summer = isca_tools.utils.annual_time_slice(ds_use, summer_months['sh']).sel(lat=slice(-90, 0)) \n",
    "            # Combine hemispheres and average over longitude, time and latitude.\n",
    "            ds_use = xr.concat([ds_sh_summer, ds_nh_summer], dim='lat')\n",
    "        ds += [ds_use.stack(lon_time=(\"lon\",\"time\"), create_index=False).chunk(dict(lon_time=-1))]\n",
    "        pbar.update(1)\n",
    "p_surface = float(ds[0].pfull[-1]) * 100"
   ],
   "metadata": {
    "collapsed": false,
    "ExecuteTime": {
     "end_time": "2023-12-13T16:55:55.431593Z",
     "start_time": "2023-12-13T16:55:55.231720Z"
    }
   },
   "outputs": []
  },
  {
   "cell_type": "code",
   "execution_count": 44,
   "source": [
    "# Select region to combine latitudes over for all but one of the plots below\n",
    "# Tropics\n",
    "region = 'tropics'\n",
    "lat_min = 0\n",
    "lat_max = 20\n",
    "# Extratropics\n",
    "# region = 'extratropics'\n",
    "# lat_min = 45        # should be 40, but saving memory\n",
    "# lat_max = 65\n",
    "# Poles\n",
    "# region = 'High Latitudes'\n",
    "# lat_min = 70\n",
    "# lat_max = 90\n",
    "# Global\n",
    "# region = 'Global'\n",
    "# lat_min = 0\n",
    "# lat_max = 90\n",
    "\n",
    "lat_use_ind = np.where((np.abs(ds[0].lat) <= lat_max) & (np.abs(ds[0].lat) >= lat_min))[0]\n",
    "ds = [ds[i].isel(lat=lat_use_ind).load() for i in range(n_exp)]\n",
    "n_lat = ds[0].lat.shape[0]\n",
    "n_pressure = ds[0].pfull.shape[0]\n",
    "lat_weights = np.cos(np.deg2rad(ds[0].lat))     # latitude area weighting is just the cosine"
   ],
   "metadata": {
    "collapsed": false,
    "ExecuteTime": {
     "end_time": "2023-12-13T16:56:32.861395Z",
     "start_time": "2023-12-13T16:55:55.430677Z"
    }
   },
   "outputs": []
  },
  {
   "cell_type": "markdown",
   "source": [
    "## Hottest Day in Tropics\n",
    "\n",
    "Here I take a single day, which is the hottest day in the tropics, and look at it in detail, to see why it deviates from the temperature profile we expect if it was convectively neutral."
   ],
   "metadata": {
    "collapsed": false
   }
  },
  {
   "cell_type": "code",
   "execution_count": 83,
   "source": [
    "single_day_kappa_ind_use = 0\n",
    "max_surf_temp_ind = ds[single_day_kappa_ind_use].temp[-1].argmax(dim=['lat', 'lon_time'])\n",
    "# max_surf_temp_ind = ds[single_day_kappa_ind_use].ps.argmax(dim=['lat', 'lon_time'])\n",
    "# max_surf_temp_ind = ds[single_day_kappa_ind_use].temp[-1].argmin(dim=['lat', 'lon_time'])\n",
    "# max_surf_temp_ind['lat'] = 0\n",
    "# max_surf_temp_ind['lon_time'] = 9421\n",
    "ds_hot_day = ds[single_day_kappa_ind_use].isel(lat=int(max_surf_temp_ind['lat']), lon_time=int(max_surf_temp_ind['lon_time']))\n",
    "# ds_hot_day = ds[0].isel(lat=2, lon_time=38134)"
   ],
   "metadata": {
    "collapsed": false,
    "ExecuteTime": {
     "end_time": "2023-12-14T09:03:05.661745Z",
     "start_time": "2023-12-14T09:03:05.625193Z"
    }
   },
   "outputs": []
  },
  {
   "cell_type": "code",
   "execution_count": 84,
   "source": [
    "p_all = ds_hot_day.pfull * 100\n",
    "#p_all = p_hot_day\n",
    "temp_ref_manual, temp_lcl, p_lcl = get_temp_ref(ds_hot_day.temp[-1], p_all[-1], ds_hot_day.sphum[-1], p_all)\n",
    "temp_moist = moist_profile(float(temp_lcl), float(p_lcl), p_all[p_all<p_lcl])\n",
    "\n",
    "# Compute using actual pressure values\n",
    "# Sigma levels are at half pressure levels, so need to convolve to get pressure at full pressure levels.\n",
    "p_hot_day = np.convolve(float(ds_hot_day.ps)*sigma_levels, np.ones(2)/2, 'valid')\n",
    "temp_ref_manual2, temp_lcl2, p_lcl2 = get_temp_ref(ds_hot_day.temp[-1], p_hot_day[-1], ds_hot_day.sphum[-1], p_hot_day)\n",
    "temp_moist2 = moist_profile(float(temp_lcl2), float(p_lcl2), p_hot_day[p_hot_day<p_lcl2])"
   ],
   "metadata": {
    "collapsed": false,
    "ExecuteTime": {
     "end_time": "2023-12-14T09:03:06.235203Z",
     "start_time": "2023-12-14T09:03:06.230991Z"
    }
   },
   "outputs": []
  },
  {
   "cell_type": "markdown",
   "source": [
    "### Temperature Profile of a single day\n",
    "\n",
    "Here we show that in the free troposphere, the simulated temperature (blue line) is lower than the reference temperature profile that convection acts to relax it to (orange solid line).\n",
    "\n",
    "The dotted orange line is my attempt at computing the reference temperature profile offline, but it is slightly different. One reason is that the starting temperature of ascent is larger.\n",
    "\n",
    "The green line shows the moist adiabat, and is only shown above the LCL. Again it differs from the temperature profile, that convection is relaxing it towards."
   ],
   "metadata": {
    "collapsed": false
   }
  },
  {
   "cell_type": "code",
   "execution_count": 85,
   "source": [
    "fig, ax = plt.subplots(1, 4, figsize=(12,6), gridspec_kw={'width_ratios': [3, 1, 1, 1]}, sharey=True)\n",
    "ax[0].plot(ds_hot_day.temp, p_all/100, color=default_colors[0], label='Simulated')\n",
    "ax[0].plot(ds_hot_day.t_ref, p_all/100, color=default_colors[1], alpha=0.6, label='Isca Reference')\n",
    "ax[0].plot(temp_moist, p_all[p_all<p_lcl]/100, color=default_colors[2], alpha=0.6, label='Moist Adiabat')\n",
    "ax[0].scatter(temp_lcl, p_lcl/100, color='k', marker='x', s=50, label='LCL')\n",
    "ax[0].set_xlim(210, 310)\n",
    "ax[0].legend()\n",
    "ax[0].set_xlabel('Temperature [K]')\n",
    "\n",
    "ax[1].plot(ds_hot_day.t_ref - ds_hot_day.temp, p_all/100, color=default_colors[1], alpha=0.6, label='Isca Reference')\n",
    "ax[1].plot(temp_moist - ds_hot_day.temp[p_all<p_lcl], p_all[p_all<p_lcl]/100, color=default_colors[2], alpha=0.6, label='Moist Adiabat')\n",
    "ax[1].vlines(0, 1000, 0, color='k', lw=ax_linewidth)\n",
    "ax[1].set_xlim(-4,4)\n",
    "ax[1].set_xlabel('Temperature Difference\\n(reference - simulated) [K]')\n",
    "\n",
    "\n",
    "xlims = [1000, 0]\n",
    "xlims_p_ind_use = np.logical_and(p_all/100>300, p_all/100<900)\n",
    "var = moist_static_energy(ds_hot_day.temp, sphum_sat(ds_hot_day.temp, p_all), ds_hot_day.height)\n",
    "ax[2].plot(var, p_all/100, color=default_colors[0], label='Saturated')\n",
    "xlims[0] = np.min([xlims[0], var[xlims_p_ind_use].min()])\n",
    "xlims[1] = np.max([xlims[1], var[xlims_p_ind_use].max()])\n",
    "var = moist_static_energy(ds_hot_day.t_ref, sphum_sat(ds_hot_day.t_ref, p_all), ds_hot_day.height)\n",
    "ax[2].plot(var, p_all/100, color=default_colors[1])\n",
    "xlims[0] = np.min([xlims[0], var[xlims_p_ind_use].min()])\n",
    "xlims[1] = np.max([xlims[1], var[xlims_p_ind_use].max()])\n",
    "var = moist_static_energy(temp_moist, sphum_sat(temp_moist, p_all[p_all<p_lcl]), ds_hot_day.height[p_all<p_lcl])\n",
    "ax[2].plot(var, p_all[p_all<p_lcl]/100, color=default_colors[2])\n",
    "xlims[0] = np.min([xlims[0], var[xlims_p_ind_use[p_all<p_lcl]].min()])\n",
    "xlims[1] = np.max([xlims[1], var[xlims_p_ind_use[p_all<p_lcl]].max()])\n",
    "var = moist_static_energy(ds_hot_day.temp[-1], ds_hot_day.sphum[-1], ds_hot_day.height[-1])\n",
    "ax[2].vlines(var, 1000, 0, color='k', label='Surface', linestyle=':')\n",
    "xlims[0] = np.min([xlims[0], var])\n",
    "xlims[1] = np.max([xlims[1], var])\n",
    "ax[2].set_xlim(xlims[0]-0.5, xlims[1]+0.5)\n",
    "ax[2].set_xlabel('MSE [kJ/kg]')\n",
    "ax[2].legend()\n",
    "\n",
    "xlims = [1000, 0]\n",
    "var = equivalent_potential_temp(ds_hot_day.temp, p_all)\n",
    "ax[3].plot(var, p_all/100, color=default_colors[0])\n",
    "xlims[0] = np.min([xlims[0], var[xlims_p_ind_use].min()])\n",
    "xlims[1] = np.max([xlims[1], var[xlims_p_ind_use].max()])\n",
    "var = equivalent_potential_temp(ds_hot_day.t_ref, p_all)\n",
    "ax[3].plot(var, p_all/100, color=default_colors[1])\n",
    "xlims[0] = np.min([xlims[0], var[xlims_p_ind_use].min()])\n",
    "xlims[1] = np.max([xlims[1], var[xlims_p_ind_use].max()])\n",
    "var = equivalent_potential_temp(temp_moist, p_all[p_all<p_lcl])\n",
    "ax[3].plot(var, p_all[p_all<p_lcl]/100, color=default_colors[2])\n",
    "xlims[0] = np.min([xlims[0], var[xlims_p_ind_use[p_all<p_lcl]].min()])\n",
    "xlims[1] = np.max([xlims[1], var[xlims_p_ind_use[p_all<p_lcl]].max()])\n",
    "# ax[3].plot(potential_temp(temp_moist, p_all[p_all<p_lcl]), p_all[p_all<p_lcl]/100, color=default_colors[2], linestyle=':')\n",
    "var = equivalent_potential_temp(ds_hot_day.temp[-1], p_all[-1], ds_hot_day.sphum[-1])\n",
    "ax[3].vlines(var, 1000, 0, color='k', linestyle=':')\n",
    "xlims[0] = np.min([xlims[0], var])\n",
    "xlims[1] = np.max([xlims[1], var])\n",
    "ax[3].set_xlim(xlims[0]-1, xlims[1]+1)\n",
    "ax[3].set_xlabel('Equivalent potential temperature [K]')\n",
    "\n",
    "var = moist_static_energy(temp_moist2, sphum_sat(temp_moist2, p_hot_day[p_hot_day<p_lcl2]), ds_hot_day.height[p_hot_day<p_lcl2])\n",
    "ax[2].plot(var, p_hot_day[p_hot_day<p_lcl2]/100, color=default_colors[2], linestyle=':')\n",
    "var = equivalent_potential_temp(temp_moist2, p_hot_day[p_hot_day<p_lcl2])\n",
    "ax[3].plot(var, p_hot_day[p_hot_day<p_lcl2]/100, color=default_colors[2], linestyle=':')\n",
    "# var = equivalent_potential_temp(ds_hot_day.temp[-1], p_hot_day[-1], ds_hot_day.sphum[-1])\n",
    "# ax[3].vlines(var, 1000, 0, color='k', linestyle=':')\n",
    "\n",
    "\n",
    "ax[0].invert_yaxis()\n",
    "ax[0].set_ylim(1000, 0)\n",
    "ax[0].set_ylabel('Pressure [hPa]')\n",
    "fig.suptitle(f'$\\kappa={tau_lw[single_day_kappa_ind_use]}$, lat={round(float(ds_hot_day.lat), 1)}$\\degree$, '\n",
    "             f'lon={round(float(ds_hot_day.lon), 1)}$\\degree$, time={int(ds_hot_day.time+0.5)} days', fontsize=10)\n",
    "plt.tight_layout()"
   ],
   "metadata": {
    "collapsed": false,
    "ExecuteTime": {
     "end_time": "2023-12-14T09:03:07.319935Z",
     "start_time": "2023-12-14T09:03:07.073726Z"
    }
   },
   "outputs": []
  },
  {
   "cell_type": "markdown",
   "source": [
    "## Changes with warming relative to mean\n",
    "\n",
    "Below I show that changes in MSE and equivalent potential temperature are very similar."
   ],
   "metadata": {
    "collapsed": false
   }
  },
  {
   "cell_type": "code",
   "execution_count": 44,
   "source": [
    "# Need to choose quantile method, use 'temp' for comparison with land.\n",
    "# quant_method = 'byrne'      # var_quant2 will be the x percentile of var (as in Byrne 2021)\n",
    "quant_method = 'temp'       # var_quant2 will be the average of var conditioned on the days with x percentile of temperature\n",
    "\n",
    "if quant_method == 'byrne':\n",
    "    label_quant = 'Percentile, $x$'\n",
    "elif quant_method == 'temp':\n",
    "    label_quant = 'Temperature percentile, $x$'\n",
    "else:\n",
    "    raise ValueError('quant_method is not valid')\n",
    "\n",
    "# Get all data needed to compute theoretical temp change and to plot actual temp change for each quantile of temperature\n",
    "quant_plot = np.arange(1, 100)     # avoid 0 quantile as it gives weird results\n",
    "n_quant = len(quant_plot)\n",
    "\n",
    "temp_mean = np.zeros((n_exp, n_lat))\n",
    "sphum_mean = np.zeros((n_exp, n_lat))\n",
    "mse_mean = np.zeros((n_exp, n_lat))\n",
    "equiv_pot_temp_mean = np.zeros((n_exp, n_lat))\n",
    "\n",
    "# quant2 is the actual quantile value rather than the average above a given quantile\n",
    "temp_quant2 = np.zeros((n_exp, n_lat, n_quant))\n",
    "# specific humidity as function of specific humidity quantile (quant_method=byrne) or temp quantile (quant_method=temp)\n",
    "sphum_quant2 = np.zeros((n_exp, n_lat, n_quant))\n",
    "# mse as function of mse quantile (quant_method=byrne) or temp quantile (quant_method=temp)\n",
    "mse_quant2 = np.zeros((n_exp, n_lat, n_quant))\n",
    "# equivalent potential temperature as function of mse quantile (quant_method=byrne) or temp quantile (quant_method=temp)\n",
    "equiv_pot_temp_quant2 = np.zeros((n_exp, n_lat, n_quant))\n",
    "\n",
    "with tqdm(total=n_exp*n_quant*n_lat, position=0, leave=True) as pbar:\n",
    "    for i in range(n_exp):\n",
    "        ds_use = ds[i].sel(pfull=np.inf, method='nearest')      # only consider surface\n",
    "        temp_mean[i] = ds_use.temp.mean(dim='lon_time')\n",
    "        sphum_mean[i] = ds_use.sphum.mean(dim='lon_time')\n",
    "        mse_mean[i] = moist_static_energy(ds_use.temp, ds_use.sphum, ds_use.height).mean(dim='lon_time')\n",
    "        equiv_pot_temp_mean[i] = equivalent_potential_temp(ds_use.temp, p_surface, ds_use.sphum).mean(dim='lon_time')\n",
    "    \n",
    "        temp_quant2[i] = ds_use.temp.quantile(quant_plot/100, dim='lon_time', keep_attrs=True).transpose()\n",
    "        mse_use = moist_static_energy(ds_use.temp, ds_use.sphum, ds_use.height)\n",
    "        equiv_pot_temp_use = equivalent_potential_temp(ds_use.temp, p_surface, ds_use.sphum)\n",
    "        if quant_method == 'byrne':\n",
    "            sphum_quant2[i] = ds_use.sphum.quantile(quant_plot/100, dim='lon_time', keep_attrs=True).transpose()\n",
    "            mse_quant2[i] = mse_use.quantile(quant_plot/100, dim='lon_time', keep_attrs=True).transpose()\n",
    "            equiv_pot_temp_quant2[i] =  equiv_pot_temp_use.quantile(quant_plot/100, dim='lon_time', keep_attrs=True).transpose()\n",
    "            pbar.update(n_quant*n_lat)\n",
    "        elif quant_method == 'temp':\n",
    "            for k in range(n_lat):\n",
    "                for j, quant in enumerate(quant_plot):\n",
    "                    use_ind = get_quant_ind(ds_use.temp[k], quant, 0.5, 0.5)\n",
    "                    sphum_quant2[i, k, j] = ds_use.sphum[k, use_ind].mean()\n",
    "                    mse_quant2[i, k, j] = mse_use[k, use_ind].mean()\n",
    "                    equiv_pot_temp_quant2[i, k, j] = equiv_pot_temp_use[k, use_ind].mean()\n",
    "                    pbar.update(1)"
   ],
   "metadata": {
    "collapsed": false,
    "ExecuteTime": {
     "end_time": "2023-12-11T15:15:15.436117Z",
     "start_time": "2023-12-11T15:14:52.708525Z"
    }
   },
   "outputs": []
  },
  {
   "cell_type": "code",
   "execution_count": 45,
   "source": [
    "save_lambda_fig = False\n",
    "fig, ax = plt.subplots(1,1, figsize=(width['one_col'], width['one_col']/ar))\n",
    "labels = ['Temperature','Specific humidity', 'Moist static energy', 'Equivalent potential temperature']\n",
    "# Divide by the difference in the mean not by the difference in the median because from the above plot, the percentile p_x=50 for\n",
    "# MSE does not have a corresponding temperature percentile, x.\n",
    "delta_var_mean = [np.expand_dims(var[1] - var[0], axis=-1) for var in [temp_mean, sphum_mean, mse_mean, equiv_pot_temp_mean]]\n",
    "colors_use = ['r', 'b', 'k', 'k']\n",
    "for i, var in enumerate([temp_quant2, sphum_quant2, mse_quant2, equiv_pot_temp_quant2]):\n",
    "    var_ratio = ((var[1]-var[0])/delta_var_mean[i])\n",
    "    ax.plot(quant_plot, np.average(var_ratio, axis=0, weights=lat_weights), label=labels[i], color=colors_use[i], \n",
    "            linestyle='--' if i==3 else '-')\n",
    "ax.hlines(1,0,100, color='k', linewidth=ax_linewidth)\n",
    "ax.legend(loc='upper right')\n",
    "ax.set_xlabel(label_quant)\n",
    "ax.set_ylabel('$\\delta \\chi(x)/\\delta \\overline{\\chi}$')\n",
    "# ax.set_ylim(0.85,1.15)\n",
    "ax.set_xlim(0, 100)\n",
    "if save_fig or save_lambda_fig:\n",
    "    fig.savefig(f\"/Users/joshduffield/Desktop/lambda_equiv_pot_temp_{region.lower()}.pdf\",\n",
    "                dpi=dpi['monochrome'] if publish_fig else low_dpi, bbox_inches='tight', pad_inches=save_pad_inches)"
   ],
   "metadata": {
    "collapsed": false,
    "ExecuteTime": {
     "end_time": "2023-12-11T15:15:15.538784Z",
     "start_time": "2023-12-11T15:15:15.460840Z"
    }
   },
   "outputs": []
  },
  {
   "cell_type": "code",
   "execution_count": 45,
   "source": [],
   "metadata": {
    "collapsed": false,
    "ExecuteTime": {
     "end_time": "2023-12-11T15:15:15.539371Z",
     "start_time": "2023-12-11T15:15:15.537103Z"
    }
   },
   "outputs": []
  },
  {
   "cell_type": "code",
   "execution_count": 45,
   "source": [],
   "metadata": {
    "collapsed": false,
    "ExecuteTime": {
     "end_time": "2023-12-11T15:15:15.542395Z",
     "start_time": "2023-12-11T15:15:15.539972Z"
    }
   },
   "outputs": []
  }
 ],
 "metadata": {
  "kernelspec": {
   "display_name": "Python 3",
   "language": "python",
   "name": "python3"
  },
  "language_info": {
   "codemirror_mode": {
    "name": "ipython",
    "version": 2
   },
   "file_extension": ".py",
   "mimetype": "text/x-python",
   "name": "python",
   "nbconvert_exporter": "python",
   "pygments_lexer": "ipython2",
   "version": "2.7.6"
  }
 },
 "nbformat": 4,
 "nbformat_minor": 0
}
