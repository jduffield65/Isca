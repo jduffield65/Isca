{
 "cells": [
  {
   "cell_type": "markdown",
   "source": [
    "# Two Harmonic\n",
    "This looks at how much information can be extracted about the seasonal cycle, restricting ourselves to a two harmonics."
   ],
   "metadata": {
    "collapsed": false
   }
  },
  {
   "cell_type": "code",
   "source": [
    "import copy\n",
    "import sys\n",
    "import os\n",
    "\n",
    "# REMOTE - So can access functions in isca_tools which is in home/Isca directory\n",
    "# sys.path.append(os.path.join(os.environ['HOME'], 'Isca'))\n",
    "# LOCAL - So can access functions in isca_tools which is in StAndrews/Isca\n",
    "sys.path.append(os.environ['PWD'])\n",
    "import isca_tools\n",
    "from isca_tools.utils.moist_physics import moist_static_energy, clausius_clapeyron_factor, sphum_sat, get_density, virtual_temp, saturation_vapor_pressure\n",
    "from isca_tools.utils.constants import kappa, L_v, c_p, c_p_water, rho_water, Stefan_Boltzmann, R, R_v\n",
    "from isca_tools.utils import area_weighting, annual_mean, annual_time_slice, anom_from_annual_mean, print_ds_var_list, numerical\n",
    "from isca_tools.papers.byrne_2021 import get_quant_ind\n",
    "from isca_tools.thesis.adiabat_theory import get_temp_adiabat, get_temp_adiabat_surf\n",
    "from isca_tools.convection.simple_betts_miller import lcl_temp, ref_temp_above_lcl, get_temp_ref\n",
    "from isca_tools.convection import dry_profile_pressure, moist_profile, potential_temp\n",
    "import isca_tools.utils.fourier as fourier\n",
    "from isca_tools.utils.radiation import get_heat_capacity\n",
    "from isca_tools.plot import colored_line\n",
    "from isca_tools.thesis.surface_energy_budget import get_temp_fourier_analytic, get_temp_fourier_numerical, get_temp_extrema_analytic,\\\n",
    "    get_temp_extrema_numerical\n",
    "from isca_tools.plot import label_subplots\n",
    "from isca_tools.utils.calculus import grad_y\n",
    "import numpy as np\n",
    "import matplotlib.pyplot as plt\n",
    "import xarray as xr\n",
    "import scipy.optimize\n",
    "from tqdm.notebook import tqdm\n",
    "from scipy import optimize, ndimage\n",
    "import warnings\n",
    "# Use custom matplotlib style for publishing\n",
    "plt.style.use('/Users/joshduffield/Documents/StAndrews/Isca/jobs/tau_sweep/aquaplanet/publish_figures/publish.mplstyle')\n",
    "plt.rcParams['lines.linewidth'] = 0.8"
   ],
   "metadata": {
    "collapsed": false,
    "ExecuteTime": {
     "end_time": "2025-01-10T14:57:40.120992Z",
     "start_time": "2025-01-10T14:57:38.920323Z"
    }
   },
   "outputs": [],
   "execution_count": 1
  },
  {
   "cell_type": "code",
   "source": [
    "# Load dataset - one at surface and one in free troposphere\n",
    "var_keep = ['temp', 'sphum', 'height', 't_surf', 'swdn_sfc', 'lwup_sfc', 'lwdn_sfc', \n",
    "            'flux_lhe', 'flux_t', 'drag_q', 'q_surf', 'rho', 'p_atm', 'ps', 'q_surf', 'ucomp', 'vcomp', 'w_atm']\n",
    "# Load dataset\n",
    "\n",
    "# # DEFAULT experiment\n",
    "# exp_dir = 'tau_sweep/aquaplanet/'\n",
    "# exp_name = [f\"k={str(tau_lw[i]).replace('.','_')}\" for i in range(n_exp)]\n",
    "\n",
    "# # Experiment with no-WISHE and no convection\n",
    "# exp_dir = 'aquaplanet/no_wishe/'\n",
    "# exp_name = [f\"k={str(tau_lw[i]).replace('.','_')}_no_conv\" for i in range(n_exp)]\n",
    "\n",
    "# exp_dir = 'aquaplanet/no_wishe/'\n",
    "# exp_name = [\"k=1\"]\n",
    "\n",
    "exp_dir = 'aquaplanet/latent_heat_temp_only/'\n",
    "exp_name = ['evap=0_1']\n",
    "# exp_dir = 'aquaplanet/latent_heat_temp_only/depth=20/'\n",
    "# exp_name = ['base']\n",
    "\n",
    "\n",
    "# Get low level sigma level\n",
    "namelist = isca_tools.load_namelist(exp_dir+exp_name[0])\n",
    "p_surface_approx = namelist['spectral_dynamics_nml']['reference_sea_level_press']/100\n",
    "sigma_levels_half = np.asarray(namelist['vert_coordinate_nml']['bk'])\n",
    "sigma_levels_full = np.convolve(sigma_levels_half, np.ones(2)/2, 'valid')\n",
    "sigma_near_surf = sigma_levels_full[-1]\n",
    "\n",
    "n_exp = len(exp_name)\n",
    "lat_range = slice(30, 90)               # only consider NH and outside deep tropics, and ignore high latitudes as need 2nd harmonic there\n",
    "use_time_start = 360*2\n",
    "ds_base = []\n",
    "for i in tqdm(range(n_exp)):\n",
    "    ds_use = isca_tools.load_dataset(exp_dir + exp_name[i])\n",
    "    try:\n",
    "        ds_use = ds_use[var_keep]\n",
    "    except KeyError:\n",
    "        remove_keys = []\n",
    "        for key in var_keep:\n",
    "            if key not in ds_use:\n",
    "                print(f'Removing {key} from var_keep')\n",
    "                remove_keys += [key]\n",
    "        for key in remove_keys:\n",
    "            var_keep.remove(key)\n",
    "        ds_use = ds_use[var_keep]\n",
    "    ds_use = ds_use.sel(time=slice(use_time_start, np.inf)).sel(lat=lat_range)\n",
    "    ds_use = ds_use.sel(pfull=np.inf, method='nearest')      # only keep lowest level\n",
    "    # Compute variables required for flux breakdown\n",
    "    ds_use['emission_factor'] = ds_use.lwdn_sfc/(Stefan_Boltzmann*ds_use.temp**4)\n",
    "    ds_use['temp_diseqb'] = ds_use.t_surf - ds_use.temp\n",
    "    ds_use['rh'] = ds_use.sphum / sphum_sat(ds_use.temp, ds_use.ps*sigma_near_surf)\n",
    "    ds_use['lw_net'] = ds_use.lwup_sfc - ds_use.lwdn_sfc\n",
    "    ds_base += [ds_use.load()]      # only keep after spin up\n",
    "mixed_layer_depth = [isca_tools.load_namelist(exp_dir+exp_name[i])['mixed_layer_nml']['depth'] for i in range(n_exp)]\n",
    "\n",
    "is_wishe=True\n",
    "try:\n",
    "    w_atm_const = isca_tools.load_namelist(exp_dir+exp_name[0])['surface_flux_nml']['w_atm_const']\n",
    "    if w_atm_const > 0:\n",
    "        is_wishe=False\n",
    "        for i in range(n_exp):\n",
    "            # Set wind to the constant value if it is set in namelist\n",
    "            ds_base[i]['w_atm'] = ds_base[i]['w_atm']*0+w_atm_const\n",
    "except KeyError:\n",
    "    w_atm_const = np.nan\n",
    "\n",
    "try: \n",
    "    rh_flux_q = isca_tools.load_namelist(exp_dir+exp_name[0])['surface_flux_nml']['rh_flux_q']\n",
    "except KeyError:\n",
    "    rh_flux_q = 0\n",
    "try:\n",
    "    evap_prefactor = isca_tools.load_namelist(exp_dir+exp_name[0])['surface_flux_nml']['land_evap_prefactor']\n",
    "except KeyError:\n",
    "    evap_prefactor = 1"
   ],
   "metadata": {
    "collapsed": false,
    "ExecuteTime": {
     "end_time": "2025-01-10T14:57:47.482296Z",
     "start_time": "2025-01-10T14:57:40.592787Z"
    }
   },
   "outputs": [
    {
     "data": {
      "text/plain": [
       "  0%|          | 0/1 [00:00<?, ?it/s]"
      ],
      "application/vnd.jupyter.widget-view+json": {
       "version_major": 2,
       "version_minor": 0,
       "model_id": "209d38b2aa474b468107dedfa75d8051"
      }
     },
     "metadata": {},
     "output_type": "display_data"
    },
    {
     "name": "stdout",
     "output_type": "stream",
     "text": [
      "Removing height from var_keep\n"
     ]
    }
   ],
   "execution_count": 2
  },
  {
   "metadata": {
    "ExecuteTime": {
     "end_time": "2025-01-10T14:57:48.925305Z",
     "start_time": "2025-01-10T14:57:48.922077Z"
    }
   },
   "cell_type": "code",
   "source": [
    "# If true, will save all figures to desktop - option to save specific figures later on.\n",
    "save_fig = False\n",
    "# if publishing figure, use high dpi\n",
    "publish_fig = True\n",
    "\n",
    "ar = 4/3        # aspect ratio (width/height)\n",
    "im_sz = 1.4     # larger makes images larger, keeping ar the same\n",
    "# Details required for Journal of Climate Figures\n",
    "low_dpi = 100\n",
    "dpi = {'monochrome': 1100, 'combination': 800, 'halftone': 300}\n",
    "width = {'one_col': 3.2, 'two_col': 5.5}        # width in inches \n",
    "save_pad_inches = 0.05\n",
    "\n",
    "# Default parameters\n",
    "default_colors = plt.rcParams['axes.prop_cycle'].by_key()['color']\n",
    "ax_linewidth = plt.rcParams['axes.linewidth']"
   ],
   "outputs": [],
   "execution_count": 3
  },
  {
   "metadata": {
    "ExecuteTime": {
     "end_time": "2025-01-10T14:57:49.494460Z",
     "start_time": "2025-01-10T14:57:49.491857Z"
    }
   },
   "cell_type": "code",
   "source": [
    "def get_annual_zonal_mean(ds):\n",
    "    ds_av = annual_mean(ds).mean(dim='lon')\n",
    "    ds_av = ds_av.assign_coords(time=(ds_av.time - ds_av.time.min()).astype(int))\n",
    "    return ds_av"
   ],
   "outputs": [],
   "execution_count": 4
  },
  {
   "metadata": {
    "ExecuteTime": {
     "end_time": "2025-01-10T14:57:50.972660Z",
     "start_time": "2025-01-10T14:57:49.637855Z"
    }
   },
   "cell_type": "code",
   "source": [
    "ds = get_annual_zonal_mean(ds_base[0])\n",
    "p_surface = float(ds.pfull)*100\n",
    "if isinstance(w_atm_const, (int, float)):\n",
    "    if w_atm_const == 0 or w_atm_const == np.nan:\n",
    "        w_atm_const = ds.w_atm.mean(dim='time')"
   ],
   "outputs": [],
   "execution_count": 5
  },
  {
   "metadata": {
    "ExecuteTime": {
     "end_time": "2025-01-10T14:57:52.124355Z",
     "start_time": "2025-01-10T14:57:52.120995Z"
    }
   },
   "cell_type": "code",
   "source": [
    "# Make every thing dependent on surface temperature (NOT NEAR-SURFACE) as equation easier to solve\n",
    "# Link to near-surface with T_{s-a} term in latent flux etc\n",
    "n_lat = ds.lat.size\n",
    "n_time = ds.time.size\n",
    "t_surf = ds.t_surf.to_numpy().transpose()\n",
    "t_surf_anom = t_surf - np.mean(t_surf, axis=1)[:, np.newaxis]"
   ],
   "outputs": [],
   "execution_count": 6
  },
  {
   "metadata": {},
   "cell_type": "markdown",
   "source": [
    "## How many harmonics required?\n",
    "Here we look fit a fourier expansion of a given number of harmonics directly to the temperature and shortwave radiation. It seems that there is a large reduction in error as we go from 1 to 2 harmonics, but not much more is gained by including more than 2 harmonics.\n",
    "\n",
    "The surface energy budget is \n",
    "$$\n",
    "C\\frac{\\partial T}{\\partial t} = SW^{\\downarrow} - (LW^{\\uparrow} - LW^{\\downarrow}) - LH^{\\uparrow} - SH^{\\uparrow}\n",
    "= SW^{\\downarrow} - \\Gamma^{\\downarrow}\n",
    "$$\n",
    "\n",
    "If we can approximate $\\Gamma^{\\downarrow} \\approx \\lambda_0 + \\lambda T'(t)$ then an analytic solution for temperature anomaly $T'(t)$ is possible. Given this linear approximation, we look at the effect of increasing the number of harmonics. \n",
    "\n",
    "It seems that at all latitudes, there is not much difference between the 2 and 5 harmonic direct fit, so it makes sense to only go up to 2 harmonics.\n",
    "\n",
    "For all latitudes, there seems to be a big difference between the linear fit and the direct fit; thus it makes sense to see if we can go beyond the linear fit to $\\Gamma$."
   ]
  },
  {
   "metadata": {
    "ExecuteTime": {
     "end_time": "2025-01-10T14:58:12.775943Z",
     "start_time": "2025-01-10T14:58:12.250668Z"
    }
   },
   "cell_type": "code",
   "source": [
    "sw_amp_coefs = {key: np.zeros((n_lat, 1+int(key.replace('_harmonic', '')))) for key in ['1_harmonic', '2_harmonic', '5_harmonic']}\n",
    "sw_fourier_fit = {key: np.zeros((n_lat, n_time)) for key in ['1_harmonic', '2_harmonic', '5_harmonic']}\n",
    "temp_anom_fourier_fit = {key: np.zeros((n_lat, n_time)) for key in ['1_harmonic', '2_harmonic', '5_harmonic']}\n",
    "for key in sw_amp_coefs:\n",
    "    for i in range(n_lat):\n",
    "        sw_amp_coefs[key][i] = fourier.get_fourier_fit(ds.time, ds.swdn_sfc[:, i], int(key.replace('_harmonic', '')))[1]\n",
    "        # Fit SW fourier with no phase\n",
    "        sw_fourier_fit[key][i] = fourier.fourier_series(ds.time, sw_amp_coefs[key][i], np.zeros(int(key.replace('_harmonic', ''))))\n",
    "        temp_anom_fourier_fit[key][i] = fourier.get_fourier_fit(ds.time, t_surf_anom[i], int(key.replace('_harmonic', '')))[0]\n",
    "    temp_anom_fourier_fit[key] = temp_anom_fourier_fit[key] - np.mean(temp_anom_fourier_fit[key], axis=1)[:, np.newaxis]\n",
    "# Record phase of maxima / minima relative to extrema times of 1st harmonic of SW radiation \n",
    "time_extrema_sw = {'min': int(ds.time[0]), 'max': int(ds.time[int(ds.time.size/2)])}\n",
    "smooth_ndays_temp_extrema = 20            # smoothing to temp annual mean to find date of hottest day\n",
    "\n",
    "time_extrema_temp = {key: {'simulated': np.zeros(n_lat)} for key in ['min', 'max']}\n",
    "amp_extrema_temp = {key: {'simulated': np.zeros(n_lat)} for key in ['min', 'max']}\n",
    "for key in time_extrema_temp['min']:\n",
    "    for i in range(n_lat):\n",
    "        # No smoothing for '1_harmonic' as already fit smooth fourier solution\n",
    "        time_extrema_temp['min'][key][i], time_extrema_temp['max'][key][i], amp_extrema_temp['min'][key][i], amp_extrema_temp['max'][key][i] = \\\n",
    "            get_temp_extrema_numerical(ds.time, t_surf_anom[i], smooth_ndays_temp_extrema)"
   ],
   "outputs": [],
   "execution_count": 7
  },
  {
   "metadata": {
    "ExecuteTime": {
     "end_time": "2025-01-10T15:15:22.654026Z",
     "start_time": "2025-01-10T15:15:22.607061Z"
    }
   },
   "cell_type": "code",
   "source": [
    "# General plotting info\n",
    "heat_capacity = get_heat_capacity(c_p_water, rho_water, mixed_layer_depth[0])\n",
    "plot_lat_approx = 85\n",
    "plot_lat_ind = np.argmin(np.abs(ds.lat-plot_lat_approx).to_numpy())\n",
    "month_ticks = (np.arange(15,12*30+15,30), ['J','F','M','A','M','J','J','A','S','O','N','D'])\n",
    "ax_lims_time = [ds.time[0]-1, ds.time[-1]+1]\n",
    "ax_lims_lat = [np.floor(ds.lat[0]), np.ceil(ds.lat[-1])]\n",
    "color_approx = {'simulated': 'k', 'direct fit': 'k', 'linear': default_colors[0], 'square': default_colors[1], '1_harmonic': 'k',\n",
    "                'lw': default_colors[3], 'lh': default_colors[1], 'sh': default_colors[2], 'linear_phase': default_colors[0], \n",
    "                'square_phase': default_colors[1], '6_order_phase': default_colors[3], 'square_phase_fourier': default_colors[1],\n",
    "                '6_order_phase_fourier': default_colors[3]}\n",
    "color_extrema = {'max': default_colors[3], 'min': default_colors[0]}\n",
    "linestyle_approx = {'simulated': '-', 'direct fit': ':', 'linear': ':', '1_harmonic': ':', 'linear_phase': '--', 'linear_phase_0': '-', \n",
    "                    'square': ':', 'square_phase': '--', '6_order_phase': '--', 'square_phase_fourier': '-', '6_order_phase_fourier': '-'}\n",
    "color_harmonic = {'1_harmonic': 'k', '2_harmonic': default_colors[1], '5_harmonic': default_colors[3]}\n",
    "color_var = {'sum': 'k', 'w_atm': default_colors[2], 'drag_q': default_colors[1], 'rh': default_colors[0], 'temp_diseqb': default_colors[4], \n",
    "             'ps': default_colors[5], 'emission_factor': default_colors[0], 't_surf': default_colors[3]}\n",
    "var_unit_labels = {'w_atm': '[ms$^{-1}$]', 'drag_q': None, 'rh': None, 'temp_diseqb': '[K]', 'ps': '[Pa]', 'emission_factor': None}\n",
    "\n",
    "# Define error func to use\n",
    "error_func_dict = {'max': lambda x, x_approx, norm=False, axis=1: np.max(np.abs(x - x_approx), axis=axis) / \n",
    "                                                                 (0.01*x.max(axis=axis)-0.01*x.min(axis=axis) if norm else 1), \n",
    "                   'median': lambda x, x_approx, norm=False, axis=1: np.median(np.abs(x - x_approx), axis=axis) / \n",
    "                                                                 (0.01*x.max(axis=axis)-0.01*x.min(axis=axis) if norm else 1), \n",
    "                   'mean': lambda x, x_approx, norm=False, axis=1: np.mean(np.abs(x - x_approx), axis=axis) / \n",
    "                                                                  (0.01*x.max(axis=axis)-0.01*x.min(axis=axis) if norm else 1)}\n",
    "error_func_use = 'mean'\n",
    "error_func = error_func_dict[error_func_use.lower()]\n",
    "\n",
    "# Whether to show plots with smoothing of simulated values done or not. Theoretical curves always shown without smoothing\n",
    "# Will also smooth simulated var but not approximated var before calculating error\n",
    "# Fitting is always done with no smoothing performed first.\n",
    "plot_smooth = True\n",
    "if plot_smooth:\n",
    "    smooth_func = lambda x, ax=-1: scipy.ndimage.convolve1d(x, np.ones(smooth_ndays_temp_extrema)/smooth_ndays_temp_extrema, mode='wrap', axis=ax)\n",
    "else:\n",
    "    smooth_func = lambda x, ax=0: x\n",
    "\n",
    "resample = False        # whether to resample data so evenly spaced in x before finding polynomial coefficents."
   ],
   "outputs": [],
   "execution_count": 15
  },
  {
   "metadata": {},
   "cell_type": "markdown",
   "source": [
    "## Gamma Fitting Parameters\n",
    "The surface energy budget is of the form $C\\frac{d T}{dt} = F(t) - \\Gamma(t)$ where:\n",
    "$\\Gamma(t) \\approx \\lambda_0 + \\frac{1}{2}\\lambda_{phase}(T'(t-\\mathcal{T}/4) - T'(t+\\mathcal{T}/4)) + \\lambda T'(t) + \\lambda_{sq}T'(t)^2 + \\sum_{n=2}^N (\\Lambda_{n, cos}\\cos(2n\\pi t/\\mathcal{T}) + \\Lambda_{n, sin}\\sin(2n\\pi t/\\mathcal{T}))$\n",
    "\n",
    "Below we find the parameters required to estimate $\\Gamma$ by empirically fitting to each component of the surface flux separately."
   ]
  },
  {
   "metadata": {
    "ExecuteTime": {
     "end_time": "2025-01-10T15:10:33.442419Z",
     "start_time": "2025-01-10T15:10:33.348713Z"
    }
   },
   "cell_type": "code",
   "source": [
    "key = 'simulated'\n",
    "gamma_comp_params = {key: {} for key in ['lw', 'lh', 'sh']}\n",
    "gamma_comp = {key: {} for key in ['lw', 'lh', 'sh']}\n",
    "gamma_comp['lw'][key] = (ds.lwup_sfc-ds.lwdn_sfc).transpose().to_numpy()\n",
    "gamma_comp['lh'][key] = (ds.flux_lhe).transpose().to_numpy()\n",
    "gamma_comp['sh'][key] = (ds.flux_t).transpose().to_numpy()\n",
    "n_approx_params = {'linear': 2, 'square': 3, '6_order': 7, 'square_phase_fourier': 6}\n",
    "for key in ['linear', 'square', '6_order']:\n",
    "    n_approx_params[key+'_phase'] = n_approx_params[key]+1\n",
    "\n",
    "gamma = {'simulated': np.asarray(ds.lwup_sfc - ds.lwdn_sfc + ds.flux_lhe + ds.flux_t).transpose()}\n",
    "gamma_params = {}\n",
    "\n",
    "# arg indices are: cos_param, sin_param, phase_param, square_param, linear_param, lambda_0\n",
    "arg_ind = {'linear': [4, 5], 'linear_phase': [2, 4, 5], 'square': [3, 4, 5], 'square_phase': [2, 3, 4, 5], 'square_phase_fourier': np.arange(6)}\n",
    "\n",
    "for key in ['linear', 'linear_phase', 'square', 'square_phase', 'square_phase_fourier']:\n",
    "    for key2 in gamma_comp:\n",
    "        gamma_comp_params[key2][key] = np.zeros((n_lat, n_approx_params['square_phase_fourier']))\n",
    "        gamma_comp[key2][key] = np.zeros((n_lat, n_time))\n",
    "        for i in range(n_lat):\n",
    "            if 'fourier' in key:\n",
    "                # Last 4 parameters are the normal polyfit_phase parameters\n",
    "                gamma_comp_params[key2][key][i, 2:], param_fourier_amp_use, param_fourier_phase_use = \\\n",
    "                    numerical.polyfit_phase(t_surf_anom[i], gamma_comp[key2]['simulated'][i],\n",
    "                                            n_approx_params[key.replace('_phase_fourier', '')] - 1, resample=resample,\n",
    "                                            fourier_harmonics=np.asarray([2]))\n",
    "                # first 2 parameters are fourier coefficients - convert to cos and sin coefficients so can add together\n",
    "                gamma_comp_params[key2][key][i, :2] = fourier.coef_conversion(param_fourier_amp_use[2], param_fourier_phase_use[1])\n",
    "                gamma_comp[key2][key][i] = numerical.polyval_phase(gamma_comp_params[key2][key][i, 2:], t_surf_anom[i],\n",
    "                                                                   coefs_fourier_amp=param_fourier_amp_use, coefs_fourier_phase=param_fourier_phase_use)\n",
    "            elif 'phase' in key:\n",
    "                gamma_comp_params[key2][key][i, arg_ind[key]] = numerical.polyfit_phase(t_surf_anom[i], gamma_comp[key2]['simulated'][i],\n",
    "                                                                          n_approx_params[key.replace('_phase', '')] - 1, resample=resample)\n",
    "                gamma_comp[key2][key][i] = numerical.polyval_phase(gamma_comp_params[key2][key][i, arg_ind[key]], t_surf_anom[i])\n",
    "            else:\n",
    "                gamma_comp_params[key2][key][i, arg_ind[key]] = numerical.polyfit_phase(t_surf_anom[i], gamma_comp[key2]['simulated'][i],\n",
    "                                                                          n_approx_params[key]-1, include_phase=False, resample=resample)[1:]\n",
    "                gamma_comp[key2][key][i] = np.polyval(gamma_comp_params[key2][key][i, arg_ind[key]], t_surf_anom[i])\n",
    "\n",
    "    gamma_params[key] = np.zeros((n_lat, n_approx_params['square_phase_fourier']))\n",
    "    gamma[key] = np.zeros((n_lat, n_time))\n",
    "    gamma_params[key] = gamma_comp_params['lw'][key]+gamma_comp_params['lh'][key]+gamma_comp_params['sh'][key]\n",
    "    for i in range(n_lat):\n",
    "        param_fourier_amp_use, param_fourier_phase_use = fourier.coef_conversion(cos_coef=gamma_params[key][i, 0], sin_coef=gamma_params[key][i, 1])\n",
    "        param_fourier_amp_use = np.asarray([0, 0, param_fourier_amp_use])\n",
    "        param_fourier_phase_use = np.asarray([0, param_fourier_phase_use])\n",
    "        gamma[key][i] = numerical.polyval_phase(gamma_params[key][i, 2:], t_surf_anom[i],\n",
    "                                                coefs_fourier_amp=param_fourier_amp_use, coefs_fourier_phase=param_fourier_phase_use)"
   ],
   "outputs": [],
   "execution_count": 11
  },
  {
   "metadata": {},
   "cell_type": "markdown",
   "source": [
    "## Interpretation of Parameters in $\\Gamma$ approximation\n",
    "The different parameters in the approximation for $\\Gamma$ can be interpreted in terms of an effective heat capacity and feedback parameter experienced by each harmonic\n",
    "i.e. $\\frac{C_eff}{C} \\neq 1$ and $\\frac{\\lambda_{eff}}{\\lambda} \\neq 1$.\n",
    "\n",
    "Below, we do a sanity check that this interpretation matches the analytic solution. Note the effective heat capacity and $\\lambda$ seen by each harmonic is different."
   ]
  },
  {
   "metadata": {
    "ExecuteTime": {
     "end_time": "2025-01-10T15:18:49.594529Z",
     "start_time": "2025-01-10T15:18:49.583034Z"
    }
   },
   "cell_type": "code",
   "source": [
    "def get_effective_heat_capacity_lambda_scale(heat_capacity, lambda_const, lambda_phase=0, lambda_sq=0, lambda_cos=0,\n",
    "                                             lambda_sin=0, sw_amp1=None, sw_amp2=None, approx=False, n_days_year = 360, day_seconds=86400):\n",
    "    # Get factors such that lambda_mod = lambda_scale * lambda and heat_capacity_mod = heat_capacity_scale * heat_capacity\n",
    "    # Then with these modified factors, can use normal simple surface energy budget: C_mod * dT(t)/dt = F(t) - lambda_mod * T(t)\n",
    "    f = 1/(n_days_year * day_seconds)\n",
    "    if sw_amp1 is None:\n",
    "        # If don't give insolation information, then return modification for parameters as seen by the 1st harmonic\n",
    "        lambda_scale = 1\n",
    "        heat_capacity_scale = 1 - lambda_phase / (2*np.pi*f*heat_capacity)\n",
    "    else:\n",
    "        # If have insolation information, return modification for parameters as seen by the 2nd harmonic\n",
    "        x0 = 2*np.pi*f*heat_capacity / lambda_const\n",
    "        sw_amp_eff = [sw_amp1, sw_amp2 - lambda_cos]\n",
    "\n",
    "        sq_param = 0.5 * lambda_sq * sw_amp_eff[0]**2 / (lambda_const**2 * sw_amp_eff[1])/(1+x0**2)**2\n",
    "        fourier_param = lambda_sin / sw_amp_eff[1]\n",
    "        if approx:\n",
    "            # Return linear taylor series solution\n",
    "            lambda_scale = 1 + (3*x0**2+1)*sq_param + 2*x0*fourier_param\n",
    "            heat_capacity_scale = 1 - x0**2 * sq_param - 0.5/x0 * fourier_param\n",
    "        else:\n",
    "            f_beta = 1 - (sq_param*(1+4*x0**2) + fourier_param*(2*x0+0.5/x0))/(1 + sq_param*(5*x0**2-1) + fourier_param*2*x0)\n",
    "            lambda_scale = (1 + f_beta*4*x0**2) / (1 + sq_param*(x0**2-1)) / (1 + f_beta**2*4*x0**2)\n",
    "            heat_capacity_scale = f_beta * lambda_scale\n",
    "    return lambda_scale, heat_capacity_scale\n",
    "\n",
    "\n",
    "def get_effective_lambda_interpretation(time, sw_amp1, sw_amp2, heat_capacity, lambda_const, lambda_phase=0, lambda_sq=0, lambda_cos=0, lambda_sin=0,\n",
    "                                        approx=False, day_seconds=86400):\n",
    "    f = 1/(time.size * day_seconds)\n",
    "    sw_amp_eff = np.asarray([sw_amp1, sw_amp2 - lambda_cos])\n",
    "\n",
    "    # Get effective parameters - allow different for each harmonic\n",
    "    n_harmonics = 2\n",
    "    lambda_mod = lambda_const * np.ones(n_harmonics)\n",
    "    heat_capacity_mod = heat_capacity * np.ones(n_harmonics)\n",
    "\n",
    "    # Phase - changes 1st harmonic only\n",
    "    lambda_scale, heat_cap_scale = \\\n",
    "        get_effective_heat_capacity_lambda_scale(heat_capacity, lambda_const, lambda_phase, lambda_sq, lambda_cos, lambda_sin)\n",
    "    lambda_mod[0] = lambda_mod[0] * lambda_scale\n",
    "    heat_capacity_mod[0] = heat_capacity_mod[0] * heat_cap_scale\n",
    "    # heat_capacity_mod[0] -= lambda_phase / (2*np.pi*f)\n",
    "\n",
    "    lambda_scale, heat_cap_scale = \\\n",
    "        get_effective_heat_capacity_lambda_scale(heat_capacity, lambda_const, lambda_phase, lambda_sq, lambda_cos, lambda_sin,\n",
    "                                                 sw_amp1, sw_amp2, approx)\n",
    "    lambda_mod[1] = lambda_mod[1] * lambda_scale\n",
    "    heat_capacity_mod[1] = heat_capacity_mod[1] * heat_cap_scale\n",
    "    # x0 = 2*np.pi*f*heat_capacity / lambda_const\n",
    "    # sq_param = 0.5 * lambda_sq * sw_amp_eff[0]**2 / (lambda_const**2 * sw_amp_eff[1])/(1+x0**2)**2\n",
    "    # # sq_param = 0.5 * lambda_sq * sw_amp1**2 / (lambda_const**2 * sw_amp2)/(1+x0**2)**2\n",
    "    # fourier_param = lambda_sin / sw_amp_eff[1]\n",
    "    # # f_beta = (1 - fourier_param/(2*x0) - sq_param) / (1 + 2*x0*fourier_param + 4*x0**2*sq_param)\n",
    "    # f_beta = 1 - (sq_param*(1+4*x0**2) + fourier_param*(2*x0-0.5/x0))/(1 + sq_param*(5*x0**2-1) + fourier_param*2*x0)\n",
    "    # lambda_mod[1] = lambda_const * (1 + f_beta*4*x0**2) / (1 + sq_param*(x0**2-1)) / (1 + f_beta**2*4*x0**2)\n",
    "    # heat_capacity_mod[1] = heat_capacity * f_beta * (1 + f_beta*4*x0**2) / (1 + sq_param*(x0**2-1)) / (1 + f_beta**2*4*x0**2)\n",
    "\n",
    "    x = 2*np.pi*f*heat_capacity_mod * np.arange(1, n_harmonics+1)/lambda_mod\n",
    "    phase_coef = np.arctan(x)\n",
    "    amp_coef = sw_amp_eff / lambda_mod / np.sqrt(1 + x ** 2)\n",
    "    harmonic1 = fourier.fourier_series(time, [0, amp_coef[0], 0], [phase_coef[0], 0])\n",
    "    harmonic2 = fourier.fourier_series(time, [0, 0, amp_coef[1]], [0, phase_coef[1]])\n",
    "    return harmonic1, harmonic2, harmonic1 + harmonic2"
   ],
   "outputs": [],
   "execution_count": 22
  },
  {
   "metadata": {
    "ExecuteTime": {
     "end_time": "2025-01-10T15:16:06.854544Z",
     "start_time": "2025-01-10T15:16:06.703297Z"
    }
   },
   "cell_type": "code",
   "source": [
    "# Get approximate temperature for each level in hierarchy of gamma approximation\n",
    "temp_anom_analytic = {key: np.zeros((n_lat, n_time)) for key in ['linear', 'linear_phase', 'square', 'square_phase',\n",
    "                                                                 'square_phase_fourier', 'linear_fourier', 'linear_phase_fourier',\n",
    "                                                                 'square_fourier']}\n",
    "gamma_params['linear_fourier'] = gamma_params['square_phase_fourier'] * [1, 1, 0, 0, 1, 1]\n",
    "gamma_params['linear_phase_fourier'] = gamma_params['square_phase_fourier'] * [1, 1, 1, 0, 1, 1]\n",
    "gamma_params['square_fourier'] = gamma_params['square_phase_fourier'] * [1, 1, 0, 1, 1, 1]\n",
    "for key in temp_anom_analytic:\n",
    "    for i in range(n_lat):\n",
    "        temp_anom_analytic[key][i] = get_temp_fourier_analytic(ds.time.to_numpy(), ds.swdn_sfc.isel(lat=i).to_numpy(), heat_capacity,\n",
    "                                                               gamma_params[key][i, 4], gamma_params[key][i, 2], gamma_params[key][i, 3],\n",
    "                                                               gamma_params[key][i, 0], gamma_params[key][i, 1], n_harmonics_sw=2)[0]"
   ],
   "outputs": [],
   "execution_count": 17
  },
  {
   "metadata": {
    "ExecuteTime": {
     "end_time": "2025-01-10T15:26:57.437598Z",
     "start_time": "2025-01-10T15:26:57.431057Z"
    }
   },
   "cell_type": "code",
   "source": [
    "# Sanity check\n",
    "key = 'square_fourier'        # expect combination of square and phase to give slight error due to neglecting combined phase-square effects\n",
    "                                    # all else should be 0\n",
    "show_approx = False                 # Check linear taylor series version\n",
    "var = []\n",
    "var2 = []\n",
    "for i in range(n_lat):\n",
    "    var_use = get_effective_lambda_interpretation(ds.time.to_numpy(), sw_amp_coefs['2_harmonic'][i, 1],\n",
    "                                                  sw_amp_coefs['2_harmonic'][i, 2], heat_capacity,\n",
    "                                                  gamma_params[key][i, 4], lambda_phase=gamma_params[key][i, 2],\n",
    "                                                  lambda_sq=gamma_params[key][i, 3],\n",
    "                                                  lambda_cos=gamma_params[key][i, 0],\n",
    "                                                  lambda_sin=gamma_params[key][i, 1], approx=show_approx)\n",
    "    # Should be zero\n",
    "    var += [np.round(np.abs(temp_anom_analytic[key][i]-var_use[-1]).max(), 6)]\n",
    "print(var)"
   ],
   "outputs": [
    {
     "name": "stdout",
     "output_type": "stream",
     "text": [
      "[0.0, 0.0, 0.0, 0.0, 0.0, 0.0, 0.0, 0.0, 0.0, 0.0, 0.0, 0.0, 0.0, 0.0, 0.0, 0.0, 0.0, 0.0, 0.0, 0.0, 0.0]\n"
     ]
    }
   ],
   "execution_count": 24
  },
  {
   "metadata": {},
   "cell_type": "markdown",
   "source": [
    "## Expansion about maxima of 1st Harmonic\n",
    "We want a simple equation which indicates how the 2nd harmonic shifts the extrema from that of the first harmonic. To do this, we expand about the time of th 1st maxima i.e. $t=t_{max1} + \\Delta$, where $t_{max1} = \\frac{\\arctan(\\frac{2\\pi fC}{\\lambda})}{2\\pi f}$ is the maxima of the 1st harmonic for the simple linear surface energy budget of the form $C\\frac{dT}{dt} = F(t) - \\lambda T(t)$.\n",
    "\n",
    "In shifting the time coordinate, we can write the 2 harmonic solution of temperature in the form:\n",
    "$T(\\Delta) = a_1 \\cos(2\\pi ft) + b_1 \\sin(2\\pi ft) + a_2 \\cos(4\\pi ft) + b_2 \\sin(4\\pi ft)$\n",
    "\n",
    "where the $a_i$ and $b_i$ parameters include the $\\lambda_{eff}$ and $C_{eff}$ modifications for the $i^{th}$ harmonic.\n",
    "\n",
    "Below we do a sanity check that this coordinate shift is correct."
   ]
  },
  {
   "metadata": {
    "ExecuteTime": {
     "end_time": "2025-01-10T15:27:15.536017Z",
     "start_time": "2025-01-10T15:27:15.525883Z"
    }
   },
   "cell_type": "code",
   "source": [
    "def get_shift_t_analytic_temp(time, sw_amp1, sw_amp2, heat_capacity, lambda_const, lambda_phase=0, lambda_sq=0, lambda_cos=0, lambda_sin=0,\n",
    "                              day_seconds=86400):\n",
    "    # Returns solution of form a_1cos(2 pi f t') + b_1sin(2 pi f t') + a_2cos(4 pi f t') + b_2sin(4 pi f t')\n",
    "    # where t' = t - t_{max1} where t_{max1} is time of 1st harmonic extrema in case where lambda_phase=0, lambda_sq=0, lambda_cos=0, lambda_sin=0.\n",
    "    f = 1/(time.size * day_seconds)\n",
    "    sw_amp_eff = np.asarray([sw_amp1, sw_amp2 - lambda_cos])\n",
    "\n",
    "    # Get effective parameters - allow different for each harmonic\n",
    "    n_harmonics = 2\n",
    "    eta = np.ones(n_harmonics)      # lambda_mod = eta * lambda\n",
    "    heat_cap_scale = np.ones(n_harmonics)   # heat_capacity_mod = heat_cap_scale * heat_capacity\n",
    "\n",
    "    # 1st harmonic\n",
    "    eta[0], heat_cap_scale[0] = \\\n",
    "        get_effective_heat_capacity_lambda_scale(heat_capacity, lambda_const, lambda_phase, lambda_sq, lambda_cos, lambda_sin)\n",
    "\n",
    "    # 2nd harmonic\n",
    "    eta[1], heat_cap_scale[1] = \\\n",
    "        get_effective_heat_capacity_lambda_scale(heat_capacity, lambda_const, lambda_phase, lambda_sq, lambda_cos, lambda_sin,\n",
    "                                                 sw_amp1, sw_amp2)\n",
    "    mu = heat_cap_scale / eta       # mu = (heat_capacity_mod / lambda_mod) / (heat_capacity/lambda) = heat_cap_scale / eta\n",
    "\n",
    "    x = 2*np.pi*f*heat_capacity/lambda_const\n",
    "    a_1 = sw_amp_eff[0]/lambda_const/eta[0] * (1 + mu[0]*x**2)/np.sqrt((1+x**2)*(1+mu[0]**2*x**2)**2)\n",
    "    b_1 = -sw_amp_eff[0]/lambda_const/eta[0] * x * (1-mu[0])/np.sqrt((1+x**2)*(1+mu[0]**2*x**2)**2)\n",
    "    a_2 = sw_amp_eff[0]/lambda_const/eta[1] * (sw_amp_eff[1]/sw_amp_eff[0]) * (1-x**2+4*mu[1]*x**2)/((1+x**2)*(1+4*mu[1]**2*x**2))\n",
    "    b_2 = sw_amp_eff[0]/lambda_const/eta[1] * (sw_amp_eff[1]/sw_amp_eff[0]) * (2*mu[1]*x*(1-x**2) - 2*x)/((1+x**2)*(1+4*mu[1]**2*x**2))\n",
    "    time_shift = time * day_seconds - np.arctan(x)/(2*np.pi*f)      # in seconds\n",
    "    temp_analytic = a_1 * np.cos(2*np.pi*f*time_shift) + b_1 * np.sin(2*np.pi*f * time_shift) + a_2 * np.cos(4*np.pi*f * time_shift) + b_2 * np.sin(4*np.pi*f * time_shift)\n",
    "    return temp_analytic, a_1, b_1, a_2, b_2"
   ],
   "outputs": [],
   "execution_count": 25
  },
  {
   "metadata": {
    "ExecuteTime": {
     "end_time": "2025-01-10T15:28:01.187061Z",
     "start_time": "2025-01-10T15:28:01.180280Z"
    }
   },
   "cell_type": "code",
   "source": [
    "# Sanity check\n",
    "key = 'square_phase_fourier'        # expect combination of square and phase to give slight error due to neglecting combined phase-square effects\n",
    "                                    # all else should be 0\n",
    "show_approx = False                 # Check linear taylor series version\n",
    "var = []\n",
    "for i in range(n_lat):\n",
    "    var_use = get_effective_lambda_interpretation(ds.time.to_numpy(), sw_amp_coefs['2_harmonic'][i, 1],\n",
    "                                                  sw_amp_coefs['2_harmonic'][i, 2], heat_capacity,\n",
    "                                                  gamma_params[key][i, 4], lambda_phase=gamma_params[key][i, 2],\n",
    "                                                  lambda_sq=gamma_params[key][i, 3],\n",
    "                                                  lambda_cos=gamma_params[key][i, 0],\n",
    "                                                  lambda_sin=gamma_params[key][i, 1], approx=show_approx)\n",
    "    # Check that shifting around maxima of 1st harmonic correct\n",
    "    var_use2 = get_shift_t_analytic_temp(ds.time.to_numpy(), sw_amp_coefs['2_harmonic'][i, 1],\n",
    "                                         sw_amp_coefs['2_harmonic'][i, 2], heat_capacity,\n",
    "                                         gamma_params[key][i, 4], lambda_phase=gamma_params[key][i, 2],\n",
    "                                         lambda_sq=gamma_params[key][i, 3],\n",
    "                                         lambda_cos=gamma_params[key][i, 0],\n",
    "                                         lambda_sin=gamma_params[key][i, 1])\n",
    "    # Should be zero\n",
    "    var += [np.round(np.abs(var_use2[0]-var_use[-1]).max(), 6)]\n",
    "print(var)"
   ],
   "outputs": [
    {
     "name": "stdout",
     "output_type": "stream",
     "text": [
      "[0.0, 0.0, 0.0, 0.0, 0.0, 0.0, 0.0, 0.0, 0.0, 0.0, 0.0, 0.0, 0.0, 0.0, 0.0, 0.0, 0.0, 0.0, 0.0, 0.0, 0.0]\n"
     ]
    }
   ],
   "execution_count": 29
  },
  {
   "metadata": {},
   "cell_type": "markdown",
   "source": [
    "### Extrema Time\n",
    "Extrema occur where $\\frac{\\partial T}{\\partial \\Delta} = 0$, writing $y=\\cos(2\\pi f\\Delta)$, this is where:\n",
    "\n",
    "$f(y) = -a_1y + b\\sqrt{1-y^2} - 4a_2 y \\sqrt{1-y^2} + 2b_2 (1-2y^2)=0$\n",
    "\n",
    "If we assume $y$ is small (i.e. extrema occur near where expect for 1st harmonic), then we can expand about $y=0$ to give:\n",
    "\n",
    "$f(y) \\approx b_1 + 2b_2 - (a_1 + 4a_2)y - \\frac{1}{2}(b_1 + 8b_2) y^2$\n",
    "\n",
    "Solving $f(y)=0$ in this simplified form gives:\n",
    "\n",
    "$y = \\frac{-1 + \\sqrt{1+2\\gamma y_0^2}}{\\gamma y_0}$\n",
    "\n",
    "where $y_0 = \\frac{b_1+2b_2}{a_1+4a_2}$ and $\\gamma = 1 + \\frac{6b_2}{b_1 + 2b_2}$, and $y_0$ is the solution if we neglect the $y^2$ term in $f(y)$ taylor expansion.\n",
    "\n",
    "Below we look at how good an approximation this is for the extrema of $y$."
   ]
  },
  {
   "metadata": {
    "ExecuteTime": {
     "end_time": "2025-01-10T16:53:02.315720Z",
     "start_time": "2025-01-10T16:53:02.302755Z"
    }
   },
   "cell_type": "code",
   "source": [
    "def get_extrema_time(time, sw_amp1, sw_amp2, heat_capacity, lambda_const, lambda_phase=0, lambda_sq=0, lambda_cos=0, lambda_sin=0,\n",
    "                     day_seconds=86400, approx=False):\n",
    "    # Returns function T(y) and dT_dt such that dT_dt(y)=0 gives values of extrema of y where y=sin(2pif\\Delta) and time=t_extrema_1 + \\Delta,\n",
    "    # where t_extrema_1 is the time of the first harmonic extrema\n",
    "    # T(y) is temperature evaluated at y=sin(2pif\\Delta)\n",
    "    # Also returns y corresponding to extrema and T evaluated at this y.\n",
    "    a_1, b_1, a_2, b_2 = get_shift_t_analytic_temp(time, sw_amp1, sw_amp2, heat_capacity, lambda_const,\n",
    "                                                   lambda_phase, lambda_sq, lambda_cos, lambda_sin, day_seconds)[1:]\n",
    "    y_0 = (b_1 + 2*b_2) / (a_1 + 4*a_2)\n",
    "    freq = 1/(time.size)       # frequency in day^{-1} units\n",
    "    if not approx:\n",
    "        T_func = lambda y: a_1*np.sqrt(1-y**2) + b_1*y + a_2*(1-2*y**2) + 2*b_2*y*np.sqrt(1-y**2)\n",
    "        dT_dt_func = lambda y: (-a_1*y + b_1*np.sqrt(1-y**2) - 4*a_2*y*np.sqrt(1-y**2) + 2*b_2*(1-2*y**2)) * 2 * np.pi * freq\n",
    "        y_extrema = scipy.optimize.least_squares(dT_dt_func, 0, bounds=(-1, 1))['x'][0]\n",
    "    elif approx == 'linear':\n",
    "        T_func = lambda y: a_1 + a_2 + (b_1 + 2*b_2)*y\n",
    "        dT_dt_func = lambda y: (b_1 + 2*b_2 - (a_1+4*a_2)*y) * 2 * np.pi * freq\n",
    "        y_extrema = y_0\n",
    "    elif approx == 'square':\n",
    "        T_func = lambda y: a_1 + a_2 + (b_1 + 2*b_2)*y - 0.5*(a_1 + 4*a_2)*y**2\n",
    "        dT_dt_func = lambda y: (b_1 + 2*b_2 - (a_1+4*a_2)*y - 0.5*(b_1+8*b_2)*y**2) * 2 * np.pi * freq\n",
    "        mod_factor = 1 + 6*b_2/(b_1 + 2*b_2)\n",
    "        y_extrema = (-1 + np.sqrt(1+2*mod_factor*y_0**2)) / (mod_factor*y_0)\n",
    "    else:\n",
    "        raise ValueError('approx must be either linear or square or False')\n",
    "    return T_func, dT_dt_func, y_extrema, T_func(y_extrema)"
   ],
   "outputs": [],
   "execution_count": 160
  },
  {
   "metadata": {
    "ExecuteTime": {
     "end_time": "2025-01-10T16:53:02.853443Z",
     "start_time": "2025-01-10T16:53:02.715626Z"
    }
   },
   "cell_type": "code",
   "source": [
    "y_extrema = {key: {key2: np.zeros(n_lat) for key2 in ['simulated', 'linear', 'square']} for key in gamma_params}\n",
    "temp_extrema = {key: {key2: np.zeros(n_lat) for key2 in ['simulated', 'linear', 'square']} for key in gamma_params}\n",
    "for key in y_extrema:\n",
    "    for key2 in y_extrema['linear']:\n",
    "        for i in range(n_lat):\n",
    "            y_extrema[key][key2][i], temp_extrema[key][key2][i] = get_extrema_time(ds.time.to_numpy(), sw_amp_coefs['2_harmonic'][i, 1],\n",
    "                                             sw_amp_coefs['2_harmonic'][i, 2], heat_capacity,\n",
    "                                             gamma_params[key][i, 4], lambda_phase=gamma_params[key][i, 2],\n",
    "                                             lambda_sq=gamma_params[key][i, 3],\n",
    "                                             lambda_cos=gamma_params[key][i, 0],\n",
    "                                             lambda_sin=gamma_params[key][i, 1], approx=False if key2=='simulated' else key2)[2:]"
   ],
   "outputs": [],
   "execution_count": 161
  },
  {
   "metadata": {
    "ExecuteTime": {
     "end_time": "2025-01-10T16:57:02.588725Z",
     "start_time": "2025-01-10T16:57:02.276220Z"
    }
   },
   "cell_type": "code",
   "source": [
    "y_plot = np.linspace(-1, 1, 100)\n",
    "key = 'square_phase_fourier'\n",
    "color_use = {False: 'k', 'linear': default_colors[0], 'square': default_colors[1]}\n",
    "label_use = {False: 'k', 'linear': default_colors[0], 'square': default_colors[1]}\n",
    "fig, ax = plt.subplots(2, 2, figsize=(im_sz*2*width['one_col'], 2*im_sz*width['one_col']/ar), sharex='col')\n",
    "for key2 in [False, 'linear', 'square']:\n",
    "    func_use = get_extrema_time(ds.time.to_numpy(), sw_amp_coefs['2_harmonic'][plot_lat_ind, 1],\n",
    "                                             sw_amp_coefs['2_harmonic'][plot_lat_ind, 2], heat_capacity,\n",
    "                                             gamma_params[key][plot_lat_ind, 4], lambda_phase=gamma_params[key][plot_lat_ind, 2],\n",
    "                                             lambda_sq=gamma_params[key][plot_lat_ind, 3],\n",
    "                                             lambda_cos=gamma_params[key][plot_lat_ind, 0],\n",
    "                                             lambda_sin=gamma_params[key][plot_lat_ind, 1], approx=key2)[:2]\n",
    "    ax[0, 0].plot(y_plot, func_use[1](y_plot), color=color_use[key2], label='Simulated' if key2==False else key2)\n",
    "    ax[0, 0].scatter(y_extrema[key]['simulated' if key2 is False else key2][plot_lat_ind], 0, color=color_use[key2], marker='|', s=50)\n",
    "    ax[0, 1].plot(ds.lat, y_extrema[key]['simulated' if key2 is False else key2], color=color_use[key2],\n",
    "               label='Simulated' if key2==False else key2)\n",
    "    ax[1, 0].plot(y_plot, func_use[0](y_plot), color=color_use[key2])\n",
    "    ax[1, 0].scatter(y_extrema[key]['simulated' if key2 is False else key2][plot_lat_ind],\n",
    "                     temp_extrema[key]['simulated' if key2 is False else key2][plot_lat_ind], color=color_use[key2], marker='|', s=50)\n",
    "    ax[1, 1].plot(ds.lat, temp_extrema[key]['simulated' if key2 is False else key2], color=color_use[key2],\n",
    "               label='Simulated' if key2==False else key2)\n",
    "ax[0, 0].axhline(0, color='k', lw=ax_linewidth)\n",
    "ax[0, 1].axhline(0, color='k', lw=ax_linewidth)\n",
    "ax[0, 0].axvline(0, color='k', lw=ax_linewidth)\n",
    "ax[0, 0].legend()\n",
    "ax[0, 0].set_ylabel('$\\partial T/\\partial \\Delta$ [Kday$^{-1}$]')\n",
    "ax[1, 0].set_ylabel('$T$ [K]')\n",
    "ax[1, 1].set_ylabel('$T_{extrema}$ [K]')\n",
    "ax[1, 0].set_xlabel('$\\sin(2\\pi f \\Delta)$')\n",
    "ax[1, 1].set_xlim(ax_lims_lat)\n",
    "ax[1, 1].set_xlabel('Latitude [deg]')\n",
    "ax[0, 1].set_ylabel('$\\sin(2\\pi f \\Delta_{extrema})$')\n",
    "fig.suptitle(f'{key} approximation of $\\Gamma$', fontsize=9, y=0.98)\n",
    "ax[0, 0].set_title(f\"Lat = ${ds.lat[plot_lat_ind]:.0f}\\degree$\")\n",
    "ax[1, 0].set_title(f\"Lat = ${ds.lat[plot_lat_ind]:.0f}\\degree$\")\n",
    "plt.show()"
   ],
   "outputs": [
    {
     "data": {
      "text/plain": [
       "<Figure size 896x672 with 4 Axes>"
      ],
      "image/png": "[encoded data removed]"
     },
     "metadata": {},
     "output_type": "display_data"
    }
   ],
   "execution_count": 171
  },
  {
   "metadata": {},
   "cell_type": "code",
   "outputs": [],
   "execution_count": null,
   "source": ""
  }
 ],
 "metadata": {
  "kernelspec": {
   "display_name": "Python 3",
   "language": "python",
   "name": "python3"
  },
  "language_info": {
   "codemirror_mode": {
    "name": "ipython",
    "version": 2
   },
   "file_extension": ".py",
   "mimetype": "text/x-python",
   "name": "python",
   "nbconvert_exporter": "python",
   "pygments_lexer": "ipython2",
   "version": "2.7.6"
  }
 },
 "nbformat": 4,
 "nbformat_minor": 0
}
