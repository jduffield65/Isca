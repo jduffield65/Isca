{
 "cells": [
  {
   "cell_type": "markdown",
   "source": [
    "# Publishing Figures - Multi Kappa\n",
    "This notebook is for generating extratropic specific plots, combining all $\\kappa$ simulations."
   ],
   "metadata": {
    "collapsed": false
   }
  },
  {
   "cell_type": "code",
   "execution_count": 1,
   "outputs": [
    {
     "name": "stderr",
     "output_type": "stream",
     "text": [
      "2024-03-15 13:40:28,139 - isca - WARNING - Environment variable GFDL_SOC not set, but this is only required if using SocratesCodebase. Setting to None\n"
     ]
    }
   ],
   "source": [
    "import sys\n",
    "import os\n",
    "# REMOTE - So can access functions in isca_tools which is in home/Isca directory\n",
    "# sys.path.append(os.path.join(os.environ['HOME'], 'Isca'))\n",
    "# LOCAL - So can access functions in isca_tools which is in StAndrews/Isca\n",
    "sys.path.append(os.environ['PWD'])\n",
    "import isca_tools\n",
    "from isca_tools.utils.moist_physics import clausius_clapeyron_factor, sphum_sat, moist_static_energy\n",
    "from isca_tools.utils.constants import L_v, c_p, g\n",
    "from isca_tools.utils.stats import z_score_from_confidence_interval\n",
    "from isca_tools.utils import area_weight_mean_lat, area_weighting\n",
    "from isca_tools.thesis.aquaplanet_theory import get_delta_temp_quant_theory, get_lambda_2_theory\n",
    "from isca_tools.papers.byrne_2021 import get_quant_ind\n",
    "from isca_tools.plot import label_subplots\n",
    "import numpy as np\n",
    "import matplotlib.pyplot as plt\n",
    "import xarray as xr\n",
    "import scipy.optimize\n",
    "from tqdm import tqdm\n",
    "import os\n",
    "import numpy_indexed\n",
    "from scipy.stats import median_abs_deviation\n",
    "import uncertainties\n",
    "import matplotlib.transforms as mtransforms\n",
    "from isca_tools.papers.miyawaki_2022 import get_dmse_dt, get_dvmse_dy, get_r1\n",
    "from isca_tools.utils.radiation import frierson_atmospheric_heating\n",
    "plt.style.use('/Users/joshduffield/Documents/StAndrews/Isca/jobs/tau_sweep/aquaplanet/publish_figures/publish.mplstyle')"
   ],
   "metadata": {
    "collapsed": false,
    "ExecuteTime": {
     "end_time": "2024-03-15T13:40:30.466237Z",
     "start_time": "2024-03-15T13:40:28.129449Z"
    }
   }
  },
  {
   "cell_type": "code",
   "execution_count": 17,
   "outputs": [
    {
     "name": "stderr",
     "output_type": "stream",
     "text": [
      "100%|██████████| 6/6 [00:10<00:00,  1.71s/it]\n"
     ]
    }
   ],
   "source": [
    "# Load dataset\n",
    "var_keep = ['temp', 'sphum', 'height']\n",
    "# exp_dir = 'tau_sweep/aquaplanet/'\n",
    "exp_dir = ['tau_sweep/aquaplanet/', 'aquaplanet/vary_depth/depth=1/']\n",
    "exp_names = ['k=1_5', 'k=2', 'k=3_5']\n",
    "exp_names.sort()\n",
    "# exp_names = exp_names[2:-1]     # get rid of coldest 2 and warmest simulation as don't work well\n",
    "n_exp = len(exp_dir)\n",
    "n_kappa = len(exp_names)\n",
    "ds = [[], []]\n",
    "albedo = [[], []]\n",
    "tau_sw = [[], []]\n",
    "tau_lw = [[], []]\n",
    "depth = []\n",
    "with tqdm(total=n_exp*n_kappa, position=0, leave=True) as pbar:\n",
    "    for i in range(n_exp):\n",
    "        for j in range(n_kappa):\n",
    "            ds_use = isca_tools.load_dataset(exp_dir[i] + exp_names[j])\n",
    "            ds[i] += [ds_use]\n",
    "            namelist = isca_tools.load_namelist(exp_dir[i] + exp_names[j])  # Need this for albedo_value\n",
    "            albedo[i] += [namelist['mixed_layer_nml']['albedo_value']]\n",
    "            tau_sw[i] += [namelist['two_stream_gray_rad_nml']['atm_abs']]\n",
    "            tau_lw[i] += [namelist['two_stream_gray_rad_nml']['odp']]\n",
    "            if j==0:\n",
    "                depth += [namelist['mixed_layer_nml']['depth']]\n",
    "            pbar.update(1)\n",
    "tau_lw = np.asarray(tau_lw)"
   ],
   "metadata": {
    "collapsed": false,
    "ExecuteTime": {
     "end_time": "2024-03-15T13:57:14.703552Z",
     "start_time": "2024-03-15T13:57:04.313493Z"
    }
   }
  },
  {
   "cell_type": "markdown",
   "source": [
    "## Get datasets\n",
    "Get one dataset for each $\\kappa$, combining the desired latitudes: `ds_all`. This combines all or just the summer months in each hemisphere, e.g. negative latitudes will only correspond to times in December, January or February."
   ],
   "metadata": {
    "collapsed": false
   }
  },
  {
   "cell_type": "code",
   "execution_count": 19,
   "outputs": [],
   "source": [
    "# If true, will save all figures to desktop - option to save specific figures later on.\n",
    "save_fig = False\n",
    "# if publishing figure, use high dpi\n",
    "publish_fig = True\n",
    "\n",
    "ar = 4/3        # aspect ratio (width/height)\n",
    "# Details required for Journal of Climate Figures\n",
    "low_dpi = 100\n",
    "dpi = {'monochrome': 1100, 'combination': 800, 'halftone': 300}\n",
    "width = {'one_col': 3.2, 'two_col': 5.5}        # width in inches \n",
    "save_pad_inches = 0.05\n",
    "\n",
    "# Default parameters\n",
    "default_colors = plt.rcParams['axes.prop_cycle'].by_key()['color']\n",
    "ax_linewidth = plt.rcParams['axes.linewidth']\n",
    "\n",
    "def moving_average(x, w):\n",
    "    return np.convolve(x, np.ones(w), 'valid') / w"
   ],
   "metadata": {
    "collapsed": false,
    "ExecuteTime": {
     "end_time": "2024-03-15T13:57:21.105353Z",
     "start_time": "2024-03-15T13:57:21.102222Z"
    }
   }
  },
  {
   "cell_type": "code",
   "execution_count": 21,
   "outputs": [
    {
     "name": "stderr",
     "output_type": "stream",
     "text": [
      "100%|██████████| 6/6 [00:30<00:00,  5.12s/it]\n"
     ]
    }
   ],
   "source": [
    "# Compute Global Average Surface Temperature and get near surface temperature data\n",
    "# Use all data after 2 years, as clearly converged from the above spin up plot\n",
    "use_time_start = 360*2\n",
    "pressure_ft = 500           # Desired approximate pressure of free troposphere (hPa)\n",
    "\n",
    "# Chose whether to only consider summer days or consider all days\n",
    "# season = 'all'\n",
    "season = 'summer'\n",
    "# season = 'winter'\n",
    "if season == 'summer':\n",
    "    season_months = {'nh': [6, 7, 8], 'sh': [12, 1, 2]}   # JJA for NH and DJF for SH\n",
    "elif season == 'winter':\n",
    "    season_months = {'nh': [12, 1, 2], 'sh': [6, 7, 8]}   # JJA for NH and DJF for SH\n",
    "\n",
    "# Tropics\n",
    "# region = 'tropics'\n",
    "# lat_min = 0\n",
    "# lat_max = 20\n",
    "# Extratropics\n",
    "region = 'extratropics'\n",
    "lat_min = 40\n",
    "lat_max = 65\n",
    "# Poles\n",
    "# region = 'High Latitudes'\n",
    "# lat_min = 70\n",
    "# lat_max = 90\n",
    "# region = 'Global'\n",
    "# lat_min = 0\n",
    "# lat_max = 90\n",
    "\n",
    "ds_all = [[], []]\n",
    "with tqdm(total=n_exp*n_kappa, position=0, leave=True) as pbar:\n",
    "    for i in range(n_exp):\n",
    "        for j in range(n_kappa):\n",
    "            ds_use = ds[i][j].sel(time=slice(use_time_start, np.inf))[var_keep]\n",
    "            ds_use = ds_use.sel(pfull=[np.inf, pressure_ft], method='nearest')      # only keep the surface values - get rid of pfull coordinate\n",
    "            ds_use = ds_use.where((np.abs(ds_use.lat) <= lat_max) & (np.abs(ds_use.lat) >= lat_min), drop=True)\n",
    "    \n",
    "            if season == 'summer' or season == 'winter':\n",
    "                # Only consider summer as has expected circulation\n",
    "                ds_nh_summer = isca_tools.utils.annual_time_slice(ds_use, season_months['nh']).sel(lat=slice(lat_min, lat_max)) \n",
    "                ds_sh_summer = isca_tools.utils.annual_time_slice(ds_use, season_months['sh']).sel(lat=slice(-lat_max, -lat_min))  \n",
    "                # Combine hemispheres and average over longitude, time and latitude.\n",
    "                # Note that April, May, June, October, November and December will not be included in this dataset\n",
    "                ds_use = xr.concat([ds_sh_summer, ds_nh_summer], dim='lat')\n",
    "            ds_use = ds_use.stack(lon_time=(\"lon\",\"time\"), create_index=False).chunk(dict(lon_time=-1))\n",
    "            ds_all[i] += [ds_use.load()]\n",
    "            pbar.update(1)\n",
    "\n",
    "ind_surf = 0\n",
    "ind_ft = 1\n",
    "p_surface = float(ds_all[0][0].pfull[ind_surf]) * 100\n",
    "pressure_ft_actual = float(ds_all[0][0].pfull[ind_ft]) * 100       # Actual pressure of free troposphere (Pa)"
   ],
   "metadata": {
    "collapsed": false,
    "ExecuteTime": {
     "end_time": "2024-03-15T13:58:02.460222Z",
     "start_time": "2024-03-15T13:57:31.723936Z"
    }
   }
  },
  {
   "cell_type": "markdown",
   "source": [
    "## Near Surface Temperature Quantile\n",
    "Get variables as a function of near-surface temperature quantile"
   ],
   "metadata": {
    "collapsed": false
   }
  },
  {
   "cell_type": "code",
   "execution_count": 22,
   "outputs": [
    {
     "name": "stderr",
     "output_type": "stream",
     "text": [
      "100%|██████████| 10692/10692 [00:43<00:00, 245.11it/s]\n"
     ]
    }
   ],
   "source": [
    "quantiles_all = np.arange(1, 100)\n",
    "percentile_label = 'Temperature percentile, $x$'\n",
    "n_quant_all = len(quantiles_all)\n",
    "n_lat = len(ds_all[0][0].lat)\n",
    "n_pressure = ds_all[0][0].pfull.shape[0]\n",
    "lat_weights = np.cos(np.deg2rad(ds_all[0][0].lat))     # latitude area weighting is just the cosine\n",
    "\n",
    "temp_mean = np.zeros((n_exp, n_kappa, n_pressure, n_lat))         # second index: 0 is surface, 1 is free trop\n",
    "mse_mean = np.zeros((n_exp, n_kappa, n_pressure, n_lat))\n",
    "sphum_mean = np.zeros((n_exp, n_kappa, n_lat))\n",
    "z_mean = np.zeros((n_exp, n_kappa, n_lat))\n",
    "\n",
    "# as function of temperature quantile\n",
    "temp_quant3 = np.zeros((n_exp, n_kappa, n_pressure, n_lat, n_quant_all))\n",
    "mse_quant3 = np.zeros((n_exp, n_kappa, n_pressure, n_lat, n_quant_all))\n",
    "sphum_quant3 = np.zeros((n_exp, n_kappa, n_lat, n_quant_all))\n",
    "z_quant3 = np.zeros((n_exp, n_kappa, n_lat, n_quant_all))\n",
    "with tqdm(total=n_exp*n_kappa*n_lat*n_quant_all, position=0, leave=True) as pbar:\n",
    "    for i in range(n_exp):\n",
    "        for j in range(n_kappa):\n",
    "            ds_use = ds_all[i][j]\n",
    "            temp_mean[i, j] = ds_use.temp.mean(dim='lon_time')\n",
    "            sphum_mean[i, j] = ds_use.sphum.isel(pfull=ind_surf).mean(dim='lon_time')\n",
    "            z_mean[i, j] = ds_use.height.isel(pfull=ind_ft).mean(dim='lon_time')\n",
    "            mse = moist_static_energy(ds_use.temp, ds_use.sphum, ds_use.height)\n",
    "            mse_mean[i, j] = mse.mean(dim='lon_time')\n",
    "            for k in range(n_lat):\n",
    "                for q, quant in enumerate(quantiles_all):\n",
    "                    use_ind = get_quant_ind(ds_use.temp.isel(pfull=ind_surf)[k], quant, 0.5, 0.5)\n",
    "                    sphum_quant3[i, j, k, q] = ds_use.sphum.isel(pfull=ind_surf)[k, use_ind].mean()\n",
    "                    z_quant3[i, j, k, q] = ds_use.height.isel(pfull=ind_ft)[k, use_ind].mean()\n",
    "                    mse_quant3[i, j, :, k, q] = mse[:, k, use_ind].mean(dim='lon_time')\n",
    "                    temp_quant3[i, j, :, k, q] = ds_use.temp[:, k, use_ind].mean(dim='lon_time')\n",
    "                    pbar.update(1)"
   ],
   "metadata": {
    "collapsed": false,
    "ExecuteTime": {
     "end_time": "2024-03-15T13:59:20.045777Z",
     "start_time": "2024-03-15T13:58:36.406907Z"
    }
   }
  },
  {
   "cell_type": "markdown",
   "source": [
    "### CAPE and $\\epsilon=h(x)-h^*_{FT}(x)$\n",
    "From above, we see that $\\lambda_1 \\neq 1$ implying that CAPE changes with warming. Below, I show that the CAPE has an almost 1:1 relationship with near-surface temperature. \n",
    "This increase in CAPE is not consistent with the assumption of CQE."
   ],
   "metadata": {
    "collapsed": false
   }
  },
  {
   "cell_type": "code",
   "outputs": [
    {
     "data": {
      "text/plain": "<Figure size 320x240 with 1 Axes>",
      "image/png": "[encoded data removed]"
     },
     "metadata": {},
     "output_type": "display_data"
    }
   ],
   "source": [
    "epsilon_quant3 = mse_quant3[:, :, 0] - mse_quant3[:, :, 1]\n",
    "\n",
    "save_epsilon_fig = False\n",
    "# colors_exp = plt.cm.jet(np.linspace(0, 1, n_kappa))\n",
    "colors_exp = [plt.cm.Blues(np.linspace(0, 1, n_kappa+1))[1:], plt.cm.Reds(np.linspace(0, 1, n_kappa+1))[1:]]\n",
    "fig, ax = plt.subplots(1,1, figsize=(width['one_col'], width['one_col']/ar))\n",
    "for i in range(n_exp):\n",
    "    for j in range(n_kappa):\n",
    "        ax.plot(np.average(temp_quant3[i, j, ind_surf], axis=0, weights=lat_weights), \n",
    "                np.average(epsilon_quant3[i, j], axis=0, weights=lat_weights), color=colors_exp[i][j], label=f'{tau_lw[i][j]}' if i==0 else None, \n",
    "        alpha=0.5, lw=1.5)\n",
    "ax.axhline(0, color='k', lw=ax_linewidth)\n",
    "ax.legend(title='$\\kappa$')\n",
    "ax.set_ylabel('$\\epsilon=h-h^*_{FT}$ [kJ/kg]')\n",
    "ax.set_xlabel('Near-surface Temperature [K]')\n",
    "fig.text(0.37, 0.9, f\"Depth={depth[0]}m\", ha=\"center\", va=\"bottom\", size=7,color=\"blue\")\n",
    "fig.text(0.5, 0.9, \"vs\", ha=\"center\", va=\"bottom\", size=7)\n",
    "fig.text(0.63,0.9,f\"Depth={depth[1]}m\", ha=\"center\", va=\"bottom\", size=7,color=\"red\")\n",
    "if save_epsilon_fig:\n",
    "    fig.savefig(f\"/Users/joshduffield/Desktop/epsilon_{region}_{season}_kappa.pdf\",\n",
    "                            dpi=dpi['combination'] if publish_fig else low_dpi, bbox_inches='tight', pad_inches=save_pad_inches)"
   ],
   "metadata": {
    "collapsed": false,
    "ExecuteTime": {
     "end_time": "2024-03-15T14:29:59.697026Z",
     "start_time": "2024-03-15T14:29:59.613403Z"
    }
   },
   "execution_count": 60
  },
  {
   "cell_type": "markdown",
   "source": [
    "### MSE as function of temperature\n",
    "To delve more into the CAPE trend above, below I plot $h(x)$ (solid) and $h^*_{FT}(x)$ as a function of near-surface temperature. Both appear to show a 1:1 relationship and there doesn't seem to be anything stopping $h$ exceeding $h^*_{FT}$ as we may expect if convection was happening.\n",
    "\n",
    "For each simulation, the line joins up all moist static energies evaluated at all 99 quantiles of near-surface temperature.\n",
    "\n",
    "The black solid line on the left figure is $h$ with relative humidity of 0.7.\n",
    "\n",
    "The black dotted line on the left figure is $h^*_{FT}$ evaluated at $T-30$ with $z_{500}=5500m$ i.e. with a constant lapse rate."
   ],
   "metadata": {
    "collapsed": false
   }
  },
  {
   "cell_type": "code",
   "outputs": [
    {
     "data": {
      "text/plain": "<Figure size 320x240 with 1 Axes>",
      "image/png": "[encoded data removed]"
     },
     "metadata": {},
     "output_type": "display_data"
    }
   ],
   "source": [
    "save_h_fig = False\n",
    "fig, ax = plt.subplots(1,1, figsize=(width['one_col'], width['one_col']/ar))\n",
    "for i in range(n_exp):\n",
    "    for j in range(n_kappa):\n",
    "        ax.plot(np.average(temp_quant3[i, j, ind_surf], axis=0, weights=lat_weights), \n",
    "                 np.average(mse_quant3[i, j, ind_surf], axis=0, weights=lat_weights), color=colors_exp[i][j], \n",
    "                   label=f'{tau_lw[i, j]}' if i==0 else None, alpha=0.5, lw=1.5)\n",
    "        ax.plot(np.average(temp_quant3[i, j, ind_surf], axis=0, weights=lat_weights), \n",
    "                 np.average(mse_quant3[i, j, ind_ft], axis=0, weights=lat_weights), color=colors_exp[i][j], \n",
    "                   linestyle=':', alpha=0.5, lw=1.5)\n",
    "temp_manual_plot = np.arange(250, 320)\n",
    "ax.plot(temp_manual_plot, (c_p * temp_manual_plot + L_v * 0.7*sphum_sat(temp_manual_plot, p_surface))/1000, color='k', \n",
    "        lw=ax_linewidth, alpha=0.5)\n",
    "ax.legend(title='$\\kappa$')\n",
    "ax.set_ylabel('$h$ [kJ/kg]')\n",
    "ax.set_xlabel('Near-surface Temperature [K]')\n",
    "ax.set_xlim(285, 315)\n",
    "ax.set_ylim(300, 402)\n",
    "fig.text(0.37, 0.9, f\"Depth={depth[0]}m\", ha=\"center\", va=\"bottom\", size=7,color=\"blue\")\n",
    "fig.text(0.5, 0.9, \"vs\", ha=\"center\", va=\"bottom\", size=7)\n",
    "fig.text(0.63,0.9,f\"Depth={depth[1]}m\", ha=\"center\", va=\"bottom\", size=7,color=\"red\")\n",
    "if save_h_fig:\n",
    "    fig.savefig(f\"/Users/joshduffield/Desktop/h_{region}_{season}_kappa.pdf\",\n",
    "                            dpi=dpi['combination'] if publish_fig else low_dpi, bbox_inches='tight', pad_inches=save_pad_inches)"
   ],
   "metadata": {
    "collapsed": false,
    "ExecuteTime": {
     "end_time": "2024-03-15T14:29:55.223942Z",
     "start_time": "2024-03-15T14:29:55.096428Z"
    }
   },
   "execution_count": 59
  },
  {
   "cell_type": "code",
   "outputs": [],
   "source": [],
   "metadata": {
    "collapsed": false,
    "ExecuteTime": {
     "end_time": "2024-03-15T14:14:04.202281Z",
     "start_time": "2024-03-15T14:14:04.198199Z"
    }
   },
   "execution_count": 58
  },
  {
   "cell_type": "code",
   "outputs": [],
   "source": [],
   "metadata": {
    "collapsed": false
   }
  }
 ],
 "metadata": {
  "kernelspec": {
   "display_name": "Python 3",
   "language": "python",
   "name": "python3"
  },
  "language_info": {
   "codemirror_mode": {
    "name": "ipython",
    "version": 2
   },
   "file_extension": ".py",
   "mimetype": "text/x-python",
   "name": "python",
   "nbconvert_exporter": "python",
   "pygments_lexer": "ipython2",
   "version": "2.7.6"
  }
 },
 "nbformat": 4,
 "nbformat_minor": 0
}
