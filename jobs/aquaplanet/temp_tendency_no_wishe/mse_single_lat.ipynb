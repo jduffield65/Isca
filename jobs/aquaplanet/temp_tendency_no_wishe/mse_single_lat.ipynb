{
 "cells": [
  {
   "cell_type": "markdown",
   "source": [
    "# MSE Tracking\n",
    "This looks at tracking the moist static energy throughout the year, to see when and why the surface value exceeds the free troposphere saturated."
   ],
   "metadata": {
    "collapsed": false
   }
  },
  {
   "cell_type": "code",
   "execution_count": 1,
   "source": [
    "import copy\n",
    "import sys\n",
    "import os\n",
    "# REMOTE - So can access functions in isca_tools which is in home/Isca directory\n",
    "# sys.path.append(os.path.join(os.environ['HOME'], 'Isca'))\n",
    "# LOCAL - So can access functions in isca_tools which is in StAndrews/Isca\n",
    "sys.path.append(os.environ['PWD'])\n",
    "import isca_tools\n",
    "from isca_tools.convection import lapse_moist, equivalent_potential_temp, moist_profile\n",
    "from isca_tools.convection.simple_betts_miller import get_temp_ref\n",
    "from isca_tools.utils.moist_physics import moist_static_energy, clausius_clapeyron_factor, sphum_sat\n",
    "from isca_tools.utils.constants import kappa, L_v, c_p, R, radius_earth, rot_earth\n",
    "from isca_tools.utils import area_weighting, annual_mean\n",
    "from isca_tools.papers.byrne_2021 import get_quant_ind\n",
    "from isca_tools.thesis.aquaplanet_theory import get_delta_temp_quant_theory, get_gamma\n",
    "import numpy as np\n",
    "import matplotlib.pyplot as plt\n",
    "import xarray as xr\n",
    "import scipy.optimize\n",
    "from tqdm import tqdm\n",
    "from scipy import integrate\n",
    "import numpy_indexed\n",
    "from scipy.stats import percentileofscore\n",
    "import copy\n",
    "# Use custom matplotlib style for publishing\n",
    "plt.style.use('/Users/joshduffield/Documents/StAndrews/Isca/jobs/tau_sweep/aquaplanet/publish_figures/publish.mplstyle')"
   ],
   "metadata": {
    "collapsed": false,
    "ExecuteTime": {
     "end_time": "2024-01-16T16:57:56.701592Z",
     "start_time": "2024-01-16T16:57:54.675843Z"
    }
   },
   "outputs": []
  },
  {
   "cell_type": "code",
   "execution_count": 2,
   "source": [
    "# Load dataset - one at surface and one in free troposphere\n",
    "var_keep = ['temp', 'sphum', 'height', 'ucomp', 'klzbs', 't_ref', 'dt_tg_diffusion', 'omega', 'cape', 'tdt_rad', 'vcomp', \n",
    "            'flux_lhe', 'flux_t', 't_surf', 'convflag', 'dt_tg_convection', 'dt_tg_condensation'] \n",
    "# Load dataset\n",
    "tau_lw_ref = 1\n",
    "tau_lw_warm = 1.5\n",
    "exp_dir = ['aquaplanet/temp_tendency/', 'aquaplanet/temp_tendency_no_wishe/']\n",
    "exp_dir = ['aquaplanet/temp_tendency/']\n",
    "exp_names = ['WISHE', 'no-WISHE']\n",
    "kappa_names = [f\"k={str(tau_lw_ref).replace('.','_')}\", f\"k={str(tau_lw_warm).replace('.','_')}\"]\n",
    "n_exp = len(exp_dir)\n",
    "n_kappa = len(kappa_names)\n",
    "ds = [[] for i in range(n_exp)]\n",
    "albedo = []\n",
    "tau_sw = []\n",
    "tau_lw = []\n",
    "for i in range(n_exp):\n",
    "    for j in range(n_kappa):\n",
    "        ds_use = isca_tools.load_dataset(exp_dir[i] + kappa_names[j])[var_keep]\n",
    "        ds[i] += [ds_use]\n",
    "        namelist = isca_tools.load_namelist(exp_dir[i] + kappa_names[j])  # Need this for albedo_value\n",
    "        if i == 0:\n",
    "            albedo += [namelist['mixed_layer_nml']['albedo_value']]\n",
    "            tau_sw += [namelist['two_stream_gray_rad_nml']['atm_abs']]\n",
    "            tau_lw += [namelist['two_stream_gray_rad_nml']['odp']]\n",
    "sigma_levels = np.asarray(namelist['vert_coordinate_nml']['bk'][::-1])         # make first value the surface\n",
    "# Sigma levels are at half pressure levels, so need to convolve to get pressure at full pressure levels.\n",
    "sigma_levels = np.convolve(sigma_levels, np.ones(2)/2, 'valid')"
   ],
   "metadata": {
    "collapsed": false,
    "ExecuteTime": {
     "end_time": "2024-01-16T16:58:42.129491Z",
     "start_time": "2024-01-16T16:58:37.925545Z"
    }
   },
   "outputs": []
  },
  {
   "cell_type": "markdown",
   "source": [
    "## Get datasets\n",
    "Get one surface dataset for summer for each $\\kappa$"
   ],
   "metadata": {
    "collapsed": false
   }
  },
  {
   "cell_type": "code",
   "execution_count": 3,
   "source": [
    "# If true, will save all figures to desktop - option to save specific figures later on.\n",
    "save_fig = False\n",
    "# if publishing figure, use high dpi\n",
    "publish_fig = True\n",
    "\n",
    "ar = 4/3        # aspect ratio (width/height)\n",
    "# Details required for Journal of Climate Figures\n",
    "low_dpi = 100\n",
    "dpi = {'monochrome': 1100, 'combination': 800, 'halftone': 300}\n",
    "width = {'one_col': 3.2, 'two_col': 5.5}        # width in inches \n",
    "save_pad_inches = 0.05\n",
    "\n",
    "# Default parameters\n",
    "default_colors = plt.rcParams['axes.prop_cycle'].by_key()['color']\n",
    "ax_linewidth = plt.rcParams['axes.linewidth']"
   ],
   "metadata": {
    "collapsed": false,
    "ExecuteTime": {
     "end_time": "2024-01-16T16:58:44.201239Z",
     "start_time": "2024-01-16T16:58:44.197673Z"
    }
   },
   "outputs": []
  },
  {
   "cell_type": "code",
   "execution_count": 43,
   "source": [
    "# Load in dataset with surface and free troposphere across all latitudes, for given season\n",
    "use_time_start = 360*2      \n",
    "\n",
    "lat_use = 18\n",
    "ds_all = [[] for i in range(n_exp)]\n",
    "with tqdm(total=n_exp*n_kappa, position=0, leave=True) as pbar:\n",
    "    for i in range(n_exp):\n",
    "        for j in range(n_kappa):\n",
    "            # Consider a single latitude, and take the zonal mean\n",
    "            ds_use = ds[i][j].sel(time=slice(use_time_start, np.inf)).sel(lat=lat_use, method='nearest').mean(dim='lon')\n",
    "            ds_use = annual_mean(ds_use.load())        # take annual mean so only have 360 time indices\n",
    "            ds_all[i] += [ds_use]\n",
    "            pbar.update(1)\n",
    "p_surface = float(ds_all[0][0].pfull[0]) * 100\n",
    "lat_use_actual = float(ds_all[0][0].lat)"
   ],
   "metadata": {
    "collapsed": false,
    "ExecuteTime": {
     "end_time": "2024-01-17T08:53:55.497577Z",
     "start_time": "2024-01-17T08:53:08.148515Z"
    }
   },
   "outputs": []
  },
  {
   "cell_type": "code",
   "source": [
    "n_pressure = len(ds_all[0][0].pfull)\n",
    "pressure_from_level_func = scipy.interpolate.interp1d(np.arange(n_pressure), ds_all[0][0].pfull)\n",
    "def lzb(k, interp_func=pressure_from_level_func):\n",
    "    # Offset by -1 because fortran starts with 1, but python starts with 0\n",
    "    # ds.t_ref will match exactly ds.temp if -2 used as offset, but this is not the LNB.\n",
    "    k = np.clip(k, 1, np.inf)\n",
    "    if np.size(k) == 1:\n",
    "        return float(interp_func(k-1))\n",
    "    else:\n",
    "        return interp_func(k-1)"
   ],
   "metadata": {
    "collapsed": false,
    "ExecuteTime": {
     "end_time": "2024-01-17T08:53:55.502031Z",
     "start_time": "2024-01-17T08:53:55.500663Z"
    }
   },
   "execution_count": 44,
   "outputs": []
  },
  {
   "cell_type": "code",
   "source": [
    "time_array = ds_all[0][0].time-0.5\n",
    "n_time = len(time_array)\n",
    "\n",
    "mse_surf = np.zeros((n_exp, n_kappa, n_time))\n",
    "mse_ft_sat = np.zeros((n_exp, n_kappa, n_time, n_pressure))\n",
    "mse_ft_sat_ref = np.zeros((n_exp, n_kappa, n_time, n_pressure))\n",
    "for i in range(n_exp):\n",
    "    for j in range(n_kappa):\n",
    "        ds_use = ds_all[i][j].sel(pfull=np.inf, method='nearest')\n",
    "        mse_surf[i, j] = moist_static_energy(ds_use.temp, ds_use.sphum, ds_use.height)\n",
    "        mse_ft_sat[i, j] = moist_static_energy(ds_all[i][j].temp, sphum_sat(ds_all[i][j].temp, ds_all[i][j].pfull*100), ds_all[i][j].height)\n",
    "        mse_ft_sat_ref[i, j] = moist_static_energy(ds_all[i][j].t_ref, sphum_sat(ds_all[i][j].t_ref, ds_all[i][j].pfull*100), \n",
    "                                                   ds_all[i][j].height)\n",
    "\n",
    "mse_diff = np.expand_dims(mse_surf, axis=-1) - mse_ft_sat  \n",
    "mse_diff_ref = np.expand_dims(mse_surf, axis=-1) - mse_ft_sat_ref "
   ],
   "metadata": {
    "collapsed": false,
    "ExecuteTime": {
     "end_time": "2024-01-17T08:53:55.520793Z",
     "start_time": "2024-01-17T08:53:55.504525Z"
    }
   },
   "execution_count": 45,
   "outputs": []
  },
  {
   "cell_type": "code",
   "source": [
    "# Get LZB, need to ignore times when klzbs=0 as it skews results\n",
    "lzb_array = np.zeros((n_exp, n_kappa, n_time))\n",
    "for i in range(n_exp):\n",
    "    for j in range(n_kappa):\n",
    "        ds_use = ds[i][j].klzbs.sel(lat=lat_use_actual).load()\n",
    "        ds_use.values[np.where(ds_use.to_numpy()==0)] = n_pressure      # when index is zero, it means no convection so set LNB to surface value\n",
    "        lzb_array[i, j] = lzb(annual_mean(ds_use.where(ds_use>0).mean(dim='lon')))"
   ],
   "metadata": {
    "collapsed": false,
    "ExecuteTime": {
     "end_time": "2024-01-17T08:53:56.217941Z",
     "start_time": "2024-01-17T08:53:55.525974Z"
    }
   },
   "execution_count": 46,
   "outputs": []
  },
  {
   "cell_type": "markdown",
   "source": [
    "### CAPE throughout the year\n",
    "This plot tracks how CAPE varies throughout the year. CAPE is large whenever the surface MSE exceeds the saturated MSE below the LNB (solid black line)."
   ],
   "metadata": {
    "collapsed": false
   }
  },
  {
   "cell_type": "code",
   "source": [
    "p_ind = 12\n",
    "plt.plot((ds_all[0][0].temp[:, p_ind]-np.mean(ds_all[0][0].temp[:, p_ind]))/np.mean(ds_all[0][0].temp[:, p_ind]))\n",
    "plt.plot((ds_all[0][1].temp[:, p_ind]-np.mean(ds_all[0][1].temp[:, p_ind]))/np.mean(ds_all[0][1].temp[:, p_ind]))"
   ],
   "metadata": {
    "collapsed": false,
    "ExecuteTime": {
     "end_time": "2024-01-17T09:29:47.749327Z",
     "start_time": "2024-01-17T09:29:47.680132Z"
    }
   },
   "execution_count": 64,
   "outputs": []
  },
  {
   "cell_type": "code",
   "source": [
    "plt.plot((mse_ft_sat[0, 0, :, 12]-np.mean(mse_ft_sat[0, 0, :, 12]))/np.mean(mse_ft_sat[0, 0, :, 12]))\n",
    "plt.plot((mse_ft_sat[0, 1, :, 12]-np.mean(mse_ft_sat[0, 1, :, 12]))/np.mean(mse_ft_sat[0, 1, :, 12]))"
   ],
   "metadata": {
    "collapsed": false,
    "ExecuteTime": {
     "end_time": "2024-01-17T08:53:56.339419Z",
     "start_time": "2024-01-17T08:53:56.281515Z"
    }
   },
   "execution_count": 48,
   "outputs": []
  },
  {
   "cell_type": "code",
   "source": [
    "month_ticks = (np.arange(15,12*30+15,30), ['J','F','M','A','M','J','J','A','S','O','N','D'])\n",
    "clim = mse_diff.max() * 2\n",
    "\n",
    "fig, ax = plt.subplots(n_kappa, n_exp, figsize=(6*n_exp, 6), sharex=True, sharey=True)\n",
    "ax = ax.reshape((n_kappa, n_exp))\n",
    "for i in range(n_exp):\n",
    "    for j in range(n_kappa):\n",
    "        im = ax[j, i].pcolormesh(time_array, ds_all[0][0].pfull, mse_diff[i, j].transpose(), vmin=-clim, vmax=clim, cmap='bwr')\n",
    "        ax[j, i].set_title(exp_names[i] + ' ' + kappa_names[j] if j==0 else kappa_names[j])\n",
    "        ax[j, i].plot(time_array, lzb_array[i, j], color='k')\n",
    "        ax2 = ax[j, i].twinx()\n",
    "        ax2.plot(time_array, ds_all[i][j].cape, color='green', alpha=0.5)\n",
    "        ax2.set_ylim(0, ds_all[0][-1].cape.max())\n",
    "        ax2.tick_params(colors='green', which='both')\n",
    "        ax2.set_ylabel('CAPE [J/kg]', color='green')\n",
    "fig.supylabel('Pressure [hPa]', fontsize=8)\n",
    "fig.suptitle(f\"Lat = {round(lat_use_actual, 2)}$\\degree$\", fontsize=10)\n",
    "ax[0, 0].invert_yaxis()\n",
    "ax[0, 0].set_xticks(*month_ticks)\n",
    "ax[0, 0].set_xlim(0, n_time)\n",
    "plt.tight_layout()\n",
    "cbar_ax = fig.add_axes([0.99, 0.12, 0.01, 0.7])     # add axes for colorbar\n",
    "fig.colorbar(im, cax=cbar_ax, label='Surface MSE - Saturated MSE [kJ/kg]', aspect=100, pad=0.01, fraction=0.01);"
   ],
   "metadata": {
    "collapsed": false,
    "ExecuteTime": {
     "end_time": "2024-01-16T17:08:48.075621Z",
     "start_time": "2024-01-16T17:08:47.750672Z"
    }
   },
   "execution_count": 36,
   "outputs": []
  },
  {
   "cell_type": "markdown",
   "source": [
    "### CAPE changes\n",
    "This looks at how CAPE changes throughout the year i.e. at what times does it increase the most."
   ],
   "metadata": {
    "collapsed": false
   }
  },
  {
   "cell_type": "code",
   "source": [
    "fig, ax = plt.subplots(1, n_exp, figsize=(6*n_exp, 4), sharex=True, sharey=True)\n",
    "if n_exp == 1:\n",
    "    ax = [ax]\n",
    "for i in range(n_exp):\n",
    "    im = ax[i].pcolormesh(time_array, ds_all[0][0].pfull, (mse_diff[i, 1]-mse_diff[i, 0]).transpose(), vmin=-clim, vmax=clim, cmap='bwr')\n",
    "    ax[i].set_title(exp_names[i])\n",
    "    ax[i].plot(time_array, lzb_array[i, 0], color='k')\n",
    "    ax[i].plot(time_array, lzb_array[i, 1], color='k', linestyle=':')\n",
    "    ax2 = ax[i].twinx()\n",
    "    ax2.plot(time_array, ds_all[i][1].cape-ds_all[i][0].cape, color='green', alpha=0.5)\n",
    "    ax2.tick_params(colors='green', which='both')\n",
    "    ax2.set_ylabel('$\\delta$ CAPE [J/kg]', color='green')\n",
    "    ax2.set_ylim(0, ds_all[0][-1].cape.max())\n",
    "ax[0].set_ylabel('Pressure [hPa]')\n",
    "fig.suptitle(f\"Lat = {round(lat_use_actual, 2)}$\\degree$ ({kappa_names[1]}) - ({kappa_names[0]})\", fontsize=10)\n",
    "ax[0].invert_yaxis()\n",
    "ax[0].set_xticks(*month_ticks)\n",
    "ax[0].set_xlim(0, n_time)\n",
    "plt.tight_layout()\n",
    "cbar_ax = fig.add_axes([0.99, 0.12, 0.01, 0.7])     # add axes for colorbar\n",
    "fig.colorbar(im, cax=cbar_ax, label='$\\delta$ (Surface MSE - Saturated MSE) [kJ/kg]', aspect=100, pad=0.01, fraction=0.01);"
   ],
   "metadata": {
    "collapsed": false,
    "ExecuteTime": {
     "end_time": "2024-01-15T15:10:55.331934Z",
     "start_time": "2024-01-15T15:10:55.152987Z"
    }
   },
   "execution_count": 250,
   "outputs": []
  },
  {
   "cell_type": "markdown",
   "source": [
    "### Convective reference Temperature\n",
    "This plot looks at how the actual temperature profile differs from the reference profile that convection in Isca relaxes towards."
   ],
   "metadata": {
    "collapsed": false
   }
  },
  {
   "cell_type": "code",
   "source": [
    "fig, ax = plt.subplots(n_kappa, n_exp, figsize=(6*n_exp, 6), sharex=True, sharey=True)\n",
    "ax = ax.reshape((n_kappa, n_exp))\n",
    "for i in range(n_exp):\n",
    "    for j in range(n_kappa):\n",
    "        im = ax[j, i].pcolormesh(time_array, ds_all[0][0].pfull, (ds_all[i][j].temp - ds_all[i][j].t_ref).transpose(), \n",
    "                                 vmin=-1, vmax=1, cmap='bwr')\n",
    "        ax[j, i].set_title(exp_names[i] + ' ' + kappa_names[j] if j==0 else kappa_names[j])\n",
    "        ax[j, i].plot(time_array, lzb_array[i, j], color='k')\n",
    "fig.supylabel('Pressure [hPa]', fontsize=8)\n",
    "fig.suptitle(f\"Lat = {round(lat_use_actual, 2)}$\\degree$\", fontsize=10)\n",
    "ax[0, 0].invert_yaxis()\n",
    "ax[0, 0].set_xticks(*month_ticks)\n",
    "ax[0, 0].set_xlim(0, n_time)\n",
    "plt.tight_layout()\n",
    "cbar_ax = fig.add_axes([0.99, 0.12, 0.01, 0.7])     # add axes for colorbar\n",
    "fig.colorbar(im, cax=cbar_ax, label='Temp - ref Temp [K]', aspect=100, pad=0.01, fraction=0.01);"
   ],
   "metadata": {
    "collapsed": false,
    "ExecuteTime": {
     "end_time": "2024-01-15T15:10:55.524987Z",
     "start_time": "2024-01-15T15:10:55.347045Z"
    }
   },
   "execution_count": 251,
   "outputs": []
  },
  {
   "cell_type": "markdown",
   "source": [
    "### Convective reference CAPE\n",
    "This plot looks at the CAPE which would be present if the temperature followed the convective reference profile. This reference CAPE is large wherever this figure is red beneath the LNB.\n",
    "\n",
    "A large reference CAPE means the convective reference profile is a lower temperature than the moist adiabat. If it followed the moist adiabat, the reference CAPE would be zero."
   ],
   "metadata": {
    "collapsed": false
   }
  },
  {
   "cell_type": "code",
   "source": [
    "fig, ax = plt.subplots(n_kappa, n_exp, figsize=(6*n_exp, 6), sharex=True, sharey=True)\n",
    "ax = ax.reshape((n_kappa, n_exp))\n",
    "for i in range(n_exp):\n",
    "    for j in range(n_kappa):\n",
    "        im = ax[j, i].pcolormesh(time_array, ds_all[0][0].pfull, mse_diff_ref[i, j].transpose(), vmin=-clim, vmax=clim, cmap='bwr')\n",
    "        ax[j, i].set_title(exp_names[i] + ' ' + kappa_names[j] if j==0 else kappa_names[j])\n",
    "        ax[j, i].plot(time_array, lzb_array[i, j], color='k')\n",
    "        ax2 = ax[j, i].twinx()\n",
    "        ax2.plot(time_array, ds_all[i][j].convflag, color='brown', alpha=1)\n",
    "        ax2.set_ylim(0.5, 2)\n",
    "        ax2.tick_params(colors='brown', which='both')\n",
    "        ax2.set_ylabel('Conv Flag', color='brown')\n",
    "fig.supylabel('Pressure [hPa]', fontsize=8)\n",
    "fig.suptitle(f\"Lat = {round(lat_use_actual, 2)}$\\degree$\", fontsize=10)\n",
    "ax[0, 0].invert_yaxis()\n",
    "ax[0, 0].set_xticks(*month_ticks)\n",
    "ax[0, 0].set_xlim(0, n_time)\n",
    "plt.tight_layout()\n",
    "cbar_ax = fig.add_axes([0.99, 0.12, 0.01, 0.7])     # add axes for colorbar\n",
    "fig.colorbar(im, cax=cbar_ax, label='Surface MSE - ref Saturated MSE [kJ/kg]', aspect=100, pad=0.01, fraction=0.01);"
   ],
   "metadata": {
    "collapsed": false,
    "ExecuteTime": {
     "end_time": "2024-01-15T15:10:55.811645Z",
     "start_time": "2024-01-15T15:10:55.534473Z"
    }
   },
   "execution_count": 252,
   "outputs": []
  },
  {
   "cell_type": "markdown",
   "source": [
    "### Change in convective reference CAPE\n",
    "This plot looks at the changes in this convective reference CAPE with warming. Red here indicates that the reference profile is becoming even more different to the moist adiabat with warming."
   ],
   "metadata": {
    "collapsed": false
   }
  },
  {
   "cell_type": "code",
   "source": [
    "fig, ax = plt.subplots(1, n_exp, figsize=(6 * n_exp, 4), sharex=True, sharey=True)\n",
    "if n_exp == 1:\n",
    "    ax = [ax]\n",
    "for i in range(n_exp):\n",
    "    im = ax[i].pcolormesh(time_array, ds_all[0][0].pfull, (mse_diff_ref[i, 1]-mse_diff_ref[i, 0]).transpose(), \n",
    "                          vmin=-clim, vmax=clim, cmap='bwr')\n",
    "    ax[i].set_title(exp_names[i])\n",
    "    ax[i].plot(time_array, lzb_array[i, 0], color='k')\n",
    "    ax[i].plot(time_array, lzb_array[i, 1], color='k', linestyle=':')\n",
    "    ax2 = ax[i].twinx()\n",
    "    ax2.plot(time_array, ds_all[i][1].convflag - ds_all[i][0].convflag, color='brown', alpha=1)\n",
    "    ax2.set_ylim(-np.abs(ds_all[i][1].convflag - ds_all[i][0].convflag).max(), np.abs(ds_all[i][1].convflag - ds_all[i][0].convflag).max())\n",
    "    ax2.tick_params(colors='brown', which='both')\n",
    "    ax2.set_ylabel('$\\delta$ Conv Flag', color='brown')\n",
    "    ax2.hlines(0, -1, n_time, color='brown', lw=ax_linewidth)\n",
    "ax[0].set_ylabel('Pressure [hPa]')\n",
    "fig.suptitle(f\"Lat = {round(lat_use_actual, 2)}$\\degree$\", fontsize=10)\n",
    "ax[0].invert_yaxis()\n",
    "ax[0].set_xticks(*month_ticks)\n",
    "ax[0].set_xlim(0, n_time)\n",
    "plt.tight_layout()\n",
    "cbar_ax = fig.add_axes([0.99, 0.12, 0.01, 0.7])     # add axes for colorbar\n",
    "fig.colorbar(im, cax=cbar_ax, label='$\\delta$ (Surface MSE - ref Saturated MSE) [kJ/kg]', aspect=100, pad=0.01, fraction=0.01);"
   ],
   "metadata": {
    "collapsed": false,
    "ExecuteTime": {
     "end_time": "2024-01-15T15:10:55.995556Z",
     "start_time": "2024-01-15T15:10:55.821515Z"
    }
   },
   "execution_count": 253,
   "outputs": []
  },
  {
   "cell_type": "markdown",
   "source": [
    "### Vertical wind, $\\omega$\n",
    "This plot is to try and relate changes in CAPE with warming to times when ascent occurs."
   ],
   "metadata": {
    "collapsed": false
   }
  },
  {
   "cell_type": "code",
   "source": [
    "fig, ax = plt.subplots(n_kappa, n_exp, figsize=(6*n_exp, 6), sharex=True, sharey=True)\n",
    "ax = ax.reshape((n_kappa, n_exp))\n",
    "for i in range(n_exp):\n",
    "    for j in range(n_kappa):\n",
    "        im = ax[j, i].pcolormesh(time_array, ds_all[0][0].pfull, (ds_all[i][j].omega).transpose(), \n",
    "                                 vmin=-0.2, vmax=0.2, cmap='bwr_r')\n",
    "        ax[j, i].set_title(exp_names[i] + ' ' + kappa_names[j] if j==0 else kappa_names[j])\n",
    "        ax[j, i].plot(time_array, lzb_array[i, j], color='k')\n",
    "        ax2 = ax[j, i].twinx()\n",
    "        ax2.plot(time_array, ds_all[i][j].convflag, color='brown', alpha=1)\n",
    "        ax2.set_ylim(0.5, 2)\n",
    "        ax2.tick_params(colors='brown', which='both')\n",
    "        ax2.set_ylabel('Conv Flag', color='brown')\n",
    "        # ax2 = ax[j, i].twinx()\n",
    "        # ax2.plot(time_array, ds_all[i][j].cape, color='green', alpha=0.5)\n",
    "        # ax2.set_ylim(0, ds_all[0][-1].cape.max())\n",
    "        # ax2.tick_params(colors='green', which='both')\n",
    "        # ax2.set_ylabel('CAPE [J/kg]', color='green')\n",
    "fig.supylabel('Pressure [hPa]', fontsize=8)\n",
    "fig.suptitle(f\"Lat = {round(lat_use_actual, 2)}$\\degree$\", fontsize=10)\n",
    "ax[0, 0].invert_yaxis()\n",
    "ax[0, 0].set_xticks(*month_ticks)\n",
    "ax[0, 0].set_xlim(0, n_time)\n",
    "plt.tight_layout()\n",
    "cbar_ax = fig.add_axes([0.99, 0.12, 0.01, 0.7])     # add axes for colorbar\n",
    "fig.colorbar(im, cax=cbar_ax, label='$\\omega$ [Pa/s]', aspect=100, pad=0.01, fraction=0.01);"
   ],
   "metadata": {
    "collapsed": false,
    "ExecuteTime": {
     "end_time": "2024-01-15T15:10:56.292358Z",
     "start_time": "2024-01-15T15:10:56.002854Z"
    }
   },
   "execution_count": 254,
   "outputs": []
  },
  {
   "cell_type": "markdown",
   "source": [
    "### Meridional wind, $v$\n",
    "This plot is to try and relate changes in CAPE with warming to times when the direction of $v$ changes."
   ],
   "metadata": {
    "collapsed": false
   }
  },
  {
   "cell_type": "code",
   "source": [
    "fig, ax = plt.subplots(n_kappa, n_exp, figsize=(6*n_exp, 6), sharex=True, sharey=True)\n",
    "ax = ax.reshape((n_kappa, n_exp))\n",
    "for i in range(n_exp):\n",
    "    for j in range(n_kappa):\n",
    "        im = ax[j, i].pcolormesh(time_array, ds_all[0][0].pfull, ds_all[i][j].vcomp.transpose(), \n",
    "                                 vmin=-10, vmax=10, cmap='bwr')\n",
    "        ax[j, i].set_title(exp_names[i] + ' ' + kappa_names[j] if j==0 else kappa_names[j])\n",
    "        ax[j, i].plot(time_array, lzb_array[i, j], color='k')\n",
    "fig.supylabel('Pressure [hPa]', fontsize=8)\n",
    "fig.suptitle(f\"Lat = {round(lat_use_actual, 2)}$\\degree$\", fontsize=10)\n",
    "ax[0, 0].invert_yaxis()\n",
    "ax[0, 0].set_xticks(*month_ticks)\n",
    "ax[0, 0].set_xlim(0, n_time)\n",
    "plt.tight_layout()\n",
    "cbar_ax = fig.add_axes([0.99, 0.12, 0.01, 0.7])     # add axes for colorbar\n",
    "fig.colorbar(im, cax=cbar_ax, label='$v$ [m/s]', aspect=100, pad=0.01, fraction=0.01);"
   ],
   "metadata": {
    "collapsed": false,
    "ExecuteTime": {
     "end_time": "2024-01-15T15:10:56.497580Z",
     "start_time": "2024-01-15T15:10:56.306446Z"
    }
   },
   "execution_count": 255,
   "outputs": []
  },
  {
   "cell_type": "markdown",
   "source": [
    "### Zonal wind, $u$\n",
    "This plot is to try and relate changes in CAPE with warming to times when the direction of $u$ changes."
   ],
   "metadata": {
    "collapsed": false
   }
  },
  {
   "cell_type": "code",
   "source": [
    "fig, ax = plt.subplots(n_kappa, n_exp, figsize=(6*n_exp, 6), sharex=True, sharey=True)\n",
    "ax = ax.reshape((n_kappa, n_exp))\n",
    "for i in range(n_exp):\n",
    "    for j in range(n_kappa):\n",
    "        im = ax[j, i].pcolormesh(time_array, ds_all[0][0].pfull, ds_all[i][j].ucomp.transpose(), \n",
    "                                 vmin=-np.abs(ds_all[0][1].ucomp).max(), vmax=np.abs(ds_all[0][1].ucomp).max(), cmap='bwr')\n",
    "        ax[j, i].set_title(exp_names[i] + ' ' + kappa_names[j] if j==0 else kappa_names[j])\n",
    "        ax[j, i].plot(time_array, lzb_array[i, j], color='k')\n",
    "        ax2 = ax[j, i].twinx()\n",
    "        ax2.plot(time_array, ds_all[i][j].flux_lhe, color='green', alpha=0.5)\n",
    "        ax2.set_ylim(0, ds_all[0][-1].flux_lhe.max())\n",
    "        ax2.tick_params(colors='green', which='both')\n",
    "        ax2.set_ylabel('LH [W/m$^2$]', color='green')\n",
    "        # rh = ds_all[i][j].t_surf - ds_all[i][j].temp[:, -1]\n",
    "        # ax2.plot(time_array, rh, color='green', alpha=0.5)\n",
    "        # ax2.set_ylim(0, 10)\n",
    "        # ax2.tick_params(colors='green', which='both')\n",
    "        # ax2.set_ylabel('LH [W/m$^2$]', color='green')\n",
    "fig.supylabel('Pressure [hPa]', fontsize=8)\n",
    "fig.suptitle(f\"Lat = {round(lat_use_actual, 2)}$\\degree$\", fontsize=10)\n",
    "ax[0, 0].invert_yaxis()\n",
    "ax[0, 0].set_xticks(*month_ticks)\n",
    "ax[0, 0].set_xlim(0, n_time)\n",
    "plt.tight_layout()\n",
    "cbar_ax = fig.add_axes([0.99, 0.12, 0.01, 0.7])     # add axes for colorbar\n",
    "fig.colorbar(im, cax=cbar_ax, label='$u$ [m/s]', aspect=100, pad=0.01, fraction=0.01);"
   ],
   "metadata": {
    "collapsed": false,
    "ExecuteTime": {
     "end_time": "2024-01-15T15:10:56.783170Z",
     "start_time": "2024-01-15T15:10:56.506160Z"
    }
   },
   "execution_count": 256,
   "outputs": []
  },
  {
   "cell_type": "markdown",
   "source": [
    "## Temperature Profile of individual days\n",
    "This is so we can compare the temperature profile on days experiencing shallow and deep convection. With shallow convection, the difference between the moist adiabat and the reference temperature is much larger."
   ],
   "metadata": {
    "collapsed": false
   }
  },
  {
   "cell_type": "code",
   "source": [
    "time_ind_use = 160\n",
    "# time_ind_use = 210\n",
    "lw_ind_use = 0\n",
    "include_manual_ref = False\n",
    "ds_use = ds_all[0][lw_ind_use].isel(time=time_ind_use)\n",
    "temp_ref_manual_use, temp_lcl_use, p_lcl_use = get_temp_ref(ds_use.temp[-1], ds_use.pfull[-1]*100, ds_use.sphum[-1], ds_use.pfull*100)\n",
    "temp_moist_use = moist_profile(float(temp_lcl_use), float(p_lcl_use), ds_use.pfull[ds_use.pfull*100<p_lcl_use]*100)\n",
    "fig, ax = plt.subplots(1, 3, figsize=(12,6), gridspec_kw={'width_ratios': [3, 3, 1]}, sharey=True)\n",
    "ax[0].plot(ds_use.temp, ds_use.pfull, color=default_colors[0], label='Simulated')\n",
    "ax[0].plot(ds_use.t_ref, ds_use.pfull, color=default_colors[1], alpha=0.6, label='Isca Reference')\n",
    "if include_manual_ref:\n",
    "    ax[0].plot(temp_ref_manual_use, ds_use.pfull, color=default_colors[1], alpha=0.6, label='Manual Reference', linestyle=':')\n",
    "ax[0].plot(temp_moist_use, ds_use.pfull[ds_use.pfull*100<p_lcl_use], color=default_colors[2], alpha=0.6, label='Moist Adiabat')\n",
    "# ax[0].scatter(temp_lcl, p_lcl/100, color='k', marker='x', s=50, label='LCL')\n",
    "ax[0].hlines([p_lcl_use/100, lzb(ds_use.klzbs)], 210, 310, color='k', lw=ax_linewidth)\n",
    "ax[0].set_xlim(240, 310)\n",
    "ax[0].legend()\n",
    "ax[0].set_xlabel('Temperature [K]')\n",
    "\n",
    "ax[1].plot(ds_use.t_ref - ds_use.temp, ds_use.pfull, color=default_colors[1], alpha=0.6, label='Isca Reference')\n",
    "if include_manual_ref:\n",
    "    ax[1].plot(temp_ref_manual_use - ds_use.temp, ds_use.pfull, color=default_colors[1], alpha=0.6, label='Manual Reference', linestyle=':')\n",
    "ax[1].plot(temp_moist_use - ds_use.temp[ds_use.pfull*100<p_lcl_use], ds_use.pfull[ds_use.pfull*100<p_lcl_use], \n",
    "           color=default_colors[2], alpha=0.6, label='Moist Adiabat')\n",
    "ax[1].vlines(0, 1000, 0, color='k', lw=ax_linewidth)\n",
    "ax[1].hlines([p_lcl_use/100, lzb(ds_use.klzbs)], -4, 4, color='k', lw=ax_linewidth)\n",
    "ax[1].set_xlim(-2,2)\n",
    "ax[1].set_xlabel('Temperature Difference (reference - simulated) [K]')\n",
    "\n",
    "\n",
    "ax[2].plot(moist_static_energy(ds_use.temp, sphum_sat(ds_use.temp, ds_use.pfull*100), ds_use.height), ds_use.pfull, color=default_colors[0],\n",
    "           label='Saturated')\n",
    "ax[2].plot(moist_static_energy(ds_use.t_ref, sphum_sat(ds_use.t_ref, ds_use.pfull*100), ds_use.height), ds_use.pfull, color=default_colors[1])\n",
    "if include_manual_ref:\n",
    "    ax[2].plot(moist_static_energy(temp_ref_manual_use, sphum_sat(temp_ref_manual_use, ds_use.pfull*100), ds_use.height),\n",
    "               ds_use.pfull, color=default_colors[1], linestyle=':')\n",
    "ax[2].plot(moist_static_energy(temp_moist_use, sphum_sat(temp_moist_use, ds_use.pfull[ds_use.pfull*100<p_lcl_use]*100), \n",
    "                               ds_use.height[ds_use.pfull*100<p_lcl_use]), ds_use.pfull[ds_use.pfull*100<p_lcl_use], color=default_colors[2])\n",
    "ax[2].vlines(moist_static_energy(ds_use.temp[-1], ds_use.sphum[-1], ds_use.height[-1]), 1000, 0, color='k', linestyle=':',\n",
    "             label='Surface')\n",
    "ax[2].hlines([p_lcl_use/100, lzb(ds_use.klzbs)], 300, 400, color='k', lw=ax_linewidth)\n",
    "ax[2].set_xlim(moist_static_energy(ds_use.temp[-1], ds_use.sphum[-1], ds_use.height[-1])-10, \n",
    "               moist_static_energy(ds_use.temp[-1], ds_use.sphum[-1], ds_use.height[-1])+10)\n",
    "ax[2].set_xlabel('MSE [kJ/kg]')\n",
    "ax[2].legend()\n",
    "\n",
    "\n",
    "ax[0].invert_yaxis()\n",
    "ax[0].set_ylim(1000, 0)\n",
    "ax[0].set_ylabel('Pressure [hPa]')\n",
    "fig.suptitle(f'Day {time_ind_use} Annual Mean; Lat={round(lat_use_actual, 2)}$\\degree$; $\\kappa={tau_lw[lw_ind_use]}$; convflag = {round(float(ds_use.convflag), 2)}', fontsize=10)\n",
    "plt.tight_layout()"
   ],
   "metadata": {
    "collapsed": false,
    "ExecuteTime": {
     "end_time": "2024-01-15T15:16:44.226249Z",
     "start_time": "2024-01-15T15:16:43.955952Z"
    }
   },
   "execution_count": 262,
   "outputs": []
  },
  {
   "cell_type": "code",
   "source": [
    "ds_all[0][0].isel(time=1).dt_tg_convection.plot()\n",
    "ds_all[0][0].isel(time=1).dt_tg_diffusion.plot()\n",
    "ds_all[0][0].isel(time=1).dt_tg_condensation.plot()\n",
    "ds_all[0][0].isel(time=1).tdt_rad.plot()"
   ],
   "metadata": {
    "collapsed": false,
    "ExecuteTime": {
     "end_time": "2024-01-16T16:09:28.047167Z",
     "start_time": "2024-01-16T16:09:27.869006Z"
    }
   },
   "execution_count": 383,
   "outputs": []
  },
  {
   "cell_type": "code",
   "source": [
    "ds_all[0][0].isel(time=210).dt_tg_convection.plot()\n",
    "ds_all[0][0].isel(time=210).dt_tg_diffusion.plot()\n",
    "ds_all[0][0].isel(time=210).dt_tg_condensation.plot()\n",
    "ds_all[0][0].isel(time=210).tdt_rad.plot()"
   ],
   "metadata": {
    "collapsed": false,
    "ExecuteTime": {
     "end_time": "2024-01-15T15:10:57.217761Z",
     "start_time": "2024-01-15T15:10:57.127405Z"
    }
   },
   "execution_count": 259,
   "outputs": []
  },
  {
   "cell_type": "code",
   "source": [
    "ds[0][0].sel(time=slice(use_time_start, np.inf)).dims['time'] * ds[0][0].sel(time=slice(use_time_start, np.inf)).dims['lon']"
   ],
   "metadata": {
    "collapsed": false,
    "ExecuteTime": {
     "end_time": "2024-01-15T15:44:18.950723Z",
     "start_time": "2024-01-15T15:44:18.862337Z"
    }
   },
   "execution_count": 327,
   "outputs": []
  },
  {
   "cell_type": "code",
   "source": [
    "n_time_lon = ds[0][0].sel(time=slice(use_time_start, np.inf)).dims['time'] * ds[0][0].sel(time=slice(use_time_start, np.inf)).dims['lon']\n",
    "lzb_thresh = 12     # Need klzb to be lower than this so LZB is less than 560hPa (14) or 413hPa (12)\n",
    "convflag_thresh = 1.8       # Need more than this to be considered deep convection\n",
    "fig, ax = plt.subplots(1, n_exp, figsize=(6*n_exp, 4), sharex=True, sharey=True)\n",
    "if n_exp == 1:\n",
    "    ax = [ax]\n",
    "for i in range(n_exp):\n",
    "    for j in range(n_kappa):\n",
    "        ds_use = ds[i][j].sel(time=slice(use_time_start, np.inf))\n",
    "        ax[i].plot(ds_use.lat, 100*(ds_use.where(ds_use.klzbs<lzb_thresh).convflag>convflag_thresh).sum(dim=['lon', 'time'])/n_time_lon, \n",
    "                   label=f\"$\\kappa = {tau_lw[j]}$\")\n",
    "    ax[i].legend()\n",
    "    ax[i].set_xlabel('Latitude [deg]')\n",
    "    ax[i].set_ylabel('Percentage of days with deep convection [%]')\n",
    "    ax[i].set_xlim(-90, 90)\n",
    "    ax[i].set_ylim(0, ax[i].get_ylim()[1])\n",
    "    ax[i].set_title(f\"conv_flag>{convflag_thresh} and LZB<{int(lzb(lzb_thresh))}hPa\")"
   ],
   "metadata": {
    "collapsed": false,
    "ExecuteTime": {
     "end_time": "2024-01-15T15:58:07.353039Z",
     "start_time": "2024-01-15T15:58:07.030279Z"
    }
   },
   "execution_count": 365,
   "outputs": []
  },
  {
   "cell_type": "code",
   "source": [
    "ds_use = isca_tools.load_dataset('aquaplanet/high_res/')"
   ],
   "metadata": {
    "collapsed": false,
    "ExecuteTime": {
     "end_time": "2024-01-19T10:36:05.178280Z",
     "start_time": "2024-01-19T10:36:05.053419Z"
    }
   },
   "execution_count": 66,
   "outputs": []
  },
  {
   "cell_type": "code",
   "source": [
    "ds_use.time"
   ],
   "metadata": {
    "collapsed": false,
    "ExecuteTime": {
     "end_time": "2024-01-19T10:36:09.927207Z",
     "start_time": "2024-01-19T10:36:09.883165Z"
    }
   },
   "execution_count": 67,
   "outputs": []
  },
  {
   "cell_type": "code",
   "source": [],
   "metadata": {
    "collapsed": false
   },
   "execution_count": null,
   "outputs": []
  }
 ],
 "metadata": {
  "kernelspec": {
   "display_name": "Python 3",
   "language": "python",
   "name": "python3"
  },
  "language_info": {
   "codemirror_mode": {
    "name": "ipython",
    "version": 2
   },
   "file_extension": ".py",
   "mimetype": "text/x-python",
   "name": "python",
   "nbconvert_exporter": "python",
   "pygments_lexer": "ipython2",
   "version": "2.7.6"
  }
 },
 "nbformat": 4,
 "nbformat_minor": 0
}
