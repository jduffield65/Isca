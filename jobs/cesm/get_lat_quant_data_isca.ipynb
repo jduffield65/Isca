{
 "cells": [
  {
   "metadata": {
    "ExecuteTime": {
     "end_time": "2024-11-22T11:16:16.337641Z",
     "start_time": "2024-11-22T11:16:16.333600Z"
    }
   },
   "cell_type": "code",
   "source": [
    "import xarray as xr\n",
    "import numpy as np\n",
    "from isca_tools import cesm\n",
    "import os\n",
    "from isca_tools.utils import area_weighting, lat_lon_rolling, print_ds_var_list\n",
    "from isca_tools.papers.byrne_2021 import get_quant_ind\n",
    "from isca_tools.utils.moist_physics import moist_static_energy, sphum_sat\n",
    "import isca_tools\n",
    "import cftime\n",
    "import matplotlib.pyplot as plt\n",
    "import cartopy.crs as ccrs\n",
    "from cartopy.mpl.ticker import LatitudeFormatter, LongitudeFormatter\n",
    "import matplotlib.patches as patches\n",
    "from tqdm import tqdm"
   ],
   "id": "7a4a8225f4aa6c",
   "outputs": [],
   "execution_count": 43
  },
  {
   "metadata": {},
   "cell_type": "markdown",
   "source": [
    "### Load in Datasets\n",
    "This will load in every year of daily data saved for the output directory."
   ],
   "id": "921e9ecb510417c2"
  },
  {
   "metadata": {
    "ExecuteTime": {
     "end_time": "2024-11-22T11:24:48.290219Z",
     "start_time": "2024-11-22T11:24:46.728775Z"
    }
   },
   "cell_type": "code",
   "source": [
    "# exp_name = 'e.e20.E1850TEST.f09_g17.test'\n",
    "# exp_name = 'e.e20.ETEST.f19_g17.test_daily_output'\n",
    "# exp_name = 'e.e20.E1850TEST.f09_g17.daily_output'\n",
    "exp_name = 'tau_sweep/land/meridional_band/depth=1/bucket_evap/k=2'\n",
    "try: \n",
    "    ds = cesm.load_dataset(exp_name, archive_dir=cesm.local_archive_dir, hist_file=1)\n",
    "    ds_lnd = cesm.load_dataset(exp_name, archive_dir=cesm.local_archive_dir, hist_file=1, comp='lnd', year_first=-1, year_last=-1)\n",
    "    data_type='cesm'\n",
    "except OSError:\n",
    "    time_start = 360*2      # allow for spin up\n",
    "    time_final = np.inf\n",
    "    ds = isca_tools.load_dataset(exp_name).sel(time=slice(time_start, time_final))\n",
    "    data_type = 'isca'\n",
    "    # rename all variables so same as CESM\n",
    "    ds = ds.rename({'pfull': 'lev', 'temp': 'T', 'sphum': 'Q', 'height': 'Z3', 'ps': 'PS'})\n",
    "    namelist = isca_tools.load_namelist(exp_name)\n",
    "    sigma_levels_half = np.asarray(namelist['vert_coordinate_nml']['bk']) \n",
    "    sigma_levels_full = np.convolve(sigma_levels_half, np.ones(2)/2, 'valid')\n",
    "    sigma_levels_full = sigma_levels_full * ds.T.isel(lat=0, lon=0, drop=True)**0 # multiply by 1 to convert to xarray with dimensions of time and lev\n",
    "    ds['hybm'] = sigma_levels_full\n",
    "    ds['hyam'] = sigma_levels_full*0            # set a coef to 0 in isca\n",
    "    ds['P0'] = 0 * sigma_levels_full.isel(lev=0)    # only has time dimension"
   ],
   "id": "c812c6a68054e67",
   "outputs": [],
   "execution_count": 66
  },
  {
   "metadata": {
    "ExecuteTime": {
     "end_time": "2024-11-22T11:24:48.349554Z",
     "start_time": "2024-11-22T11:24:48.291428Z"
    }
   },
   "cell_type": "code",
   "source": [
    "p_ft_approx_guess = 500\n",
    "p_surf_approx_guess = 1000\n",
    "ind_ft = int(np.argmin(np.abs(ds.T.lev-p_ft_approx_guess).to_numpy()))\n",
    "ind_surf = int(np.argmin(np.abs(ds.T.lev-p_surf_approx_guess).to_numpy()))\n",
    "p_ft_approx = float(ds.T.lev[ind_ft])*100\n",
    "p_surf_approx = float(ds.T.lev[ind_surf])*100\n",
    "p_ref = float(ds.P0[0])\n",
    "hybrid_a_coef_ft = float(ds.hyam.isel(time=0, lev=ind_ft))\n",
    "hybrid_b_coef_ft = float(ds.hybm.isel(time=0, lev=ind_ft))"
   ],
   "id": "34c2e48ea879432f",
   "outputs": [],
   "execution_count": 67
  },
  {
   "metadata": {},
   "cell_type": "markdown",
   "source": [
    "## Each Latitude Separately \n",
    "Here, I consider each latitude individually, and create a quantile dataset for all ocean points and all land points at that latitude.\n",
    "\n",
    "### Find land coordinates\n",
    "Say land is where land fraction > 0.5"
   ],
   "id": "b8496ccb33062bee"
  },
  {
   "metadata": {
    "ExecuteTime": {
     "end_time": "2024-11-22T11:24:48.507259Z",
     "start_time": "2024-11-22T11:24:48.350287Z"
    }
   },
   "cell_type": "code",
   "source": [
    "landfrac_thresh = 0.5\n",
    "if data_type == 'cesm':\n",
    "    is_land = ds_lnd.landfrac.isel(time=0, drop=True)>landfrac_thresh\n",
    "    is_land.plot()\n",
    "else:\n",
    "    job_dir = os.path.join(os.path.dirname(os.environ['GFDL_DATA']), 'jobs')\n",
    "    land_file_name = os.path.join(job_dir, exp_name, 'land.nc')\n",
    "    lat_land = isca_tools.utils.land.get_land_coords(land_file=land_file_name)[0]       # get the longitude coordinates of land\n",
    "    is_land = xr.load_dataset(land_file_name).land_mask > 0\n",
    "    is_land.plot()"
   ],
   "id": "64cd89446f063a25",
   "outputs": [
    {
     "data": {
      "text/plain": [
       "<Figure size 640x480 with 2 Axes>"
      ],
      "image/png": "[encoded data removed]"
     },
     "metadata": {},
     "output_type": "display_data"
    }
   ],
   "execution_count": 68
  },
  {
   "metadata": {},
   "cell_type": "markdown",
   "source": [
    "### Load in dataset for all latitudes\n",
    "Next I load in the dataset for all latitudes. It is a lot quicker to load all latitudes at once than each latitude individually. But in the future, for memory purposes it may be more beneficial to load in each latitude separately."
   ],
   "id": "ba9fa24d5d697fd9"
  },
  {
   "metadata": {
    "ExecuteTime": {
     "end_time": "2024-11-22T11:24:58.914411Z",
     "start_time": "2024-11-22T11:24:48.526127Z"
    }
   },
   "cell_type": "code",
   "source": [
    "%%time\n",
    "# Load in datasets - next cell is a lot quicker if load in all latitudes at the same time\n",
    "var_atm = ['T', 'Q', 'Z3', 'PS']\n",
    "ds_base = ds.isel(lev=[ind_surf, ind_ft])[var_atm].load()\n",
    "if data_type == 'cesm':\n",
    "    soil_liq_base = ds_lnd.SOILLIQ.sum(dim='levsoi').load()\n",
    "else:\n",
    "    soil_liq_base = ds_base['PS']*0     # no soil moisture data for isca"
   ],
   "id": "c4d0eda163d8a799",
   "outputs": [
    {
     "name": "stdout",
     "output_type": "stream",
     "text": [
      "CPU times: user 4.98 s, sys: 3 s, total: 7.98 s\n",
      "Wall time: 10.4 s\n"
     ]
    }
   ],
   "execution_count": 69
  },
  {
   "metadata": {},
   "cell_type": "markdown",
   "source": [
    "### Get data for convective theory\n",
    "Below I record the quantile of various variables required for my analysis of the convective limit to near-surface temperature."
   ],
   "id": "522c43f13d45b54f"
  },
  {
   "metadata": {
    "ExecuteTime": {
     "end_time": "2024-11-22T11:25:35.514756Z",
     "start_time": "2024-11-22T11:24:58.917624Z"
    }
   },
   "cell_type": "code",
   "source": [
    "n_lat = ds.lat.size\n",
    "quant_use = [90, 95, 99]\n",
    "quant_range = 0.5       # find quantile by looking for all values in quantile range between quant_use-quant_range to quant_use+quant_range\n",
    "n_quant = len(quant_use)\n",
    "output_info = {var: np.zeros((2, n_lat, n_quant)) for var in  ['temp', 'temp_ft', 'sphum', 'z', 'z_ft', 'mse', 'mse_sat_ft', 'mse_lapse',\n",
    "                                                               'mse_sat_ft_p_approx', 'mse_lapse_p_approx', 'pressure_ft', 'soil_liq']}\n",
    "var_keys = [key for key in output_info.keys()]\n",
    "for var in var_keys:\n",
    "    output_info[var+'_std'] = np.zeros((2, n_lat, n_quant))\n",
    "output_info['lon_most_common'] = np.zeros((2, n_lat, n_quant))\n",
    "output_info['lon_most_common_freq'] = np.zeros((2, n_lat, n_quant), dtype=int)\n",
    "output_info['n_grid_points'] = np.zeros((2, n_lat), dtype=int)         # number of grid points used at each location\n",
    "output_info['surface'] = ['land', 'ocean']\n",
    "\n",
    "# Record approx number of days used in quantile calculation. If quant_range=0.5 and 1 year used, this is just 0.01*365=3.65\n",
    "output_info['n_days_quant'] = get_quant_ind(np.arange(ds_base.time.size*n_lat), quant_use[0], quant_range, quant_range).size/n_lat\n",
    "with tqdm(total=2*n_quant*n_lat, position=0, leave=True) as pbar:\n",
    "    for k, surf in enumerate(output_info['surface']):\n",
    "        if surf == 'land':\n",
    "            is_surf = is_land\n",
    "        else:\n",
    "            is_surf = ~is_land\n",
    "        for i in range(n_lat):\n",
    "            if is_surf.isel(lat=i).sum() == 0:\n",
    "                # If surface not at this latitude, record no data\n",
    "                pbar.update(n_quant)\n",
    "                continue\n",
    "            ds_use = ds_base.isel(lat=i).sel(lon=is_surf.isel(lat=i))[var_atm]\n",
    "            ds_use = ds_use.stack(lon_time=(\"lon\", \"time\"), create_index=False).chunk(dict(lon_time=-1))\n",
    "            if surf == 'land':\n",
    "                soil_liq_use = soil_liq_base.isel(lat=i).sel(lon=is_surf.isel(lat=i))\n",
    "                soil_liq_use = soil_liq_use.stack(lon_time=(\"lon\", \"time\"), \n",
    "                                                  create_index=False).chunk(dict(lon_time=-1))\n",
    "            output_info['n_grid_points'][k, i] = ds_use.lon.size\n",
    "            for j in range(n_quant):\n",
    "                # get indices corresponding to given near-surface temp quantile\n",
    "                use_ind = get_quant_ind(ds_use.T.isel(lev=0), quant_use[j], quant_range, quant_range)    \n",
    "                n_days_use = len(use_ind)\n",
    "                var_use = {}\n",
    "                var_use['temp'] = ds_use.T.isel(lev=0, lon_time=use_ind)\n",
    "                var_use['temp_ft'] = ds_use.T.isel(lev=1, lon_time=use_ind)\n",
    "                var_use['sphum'] = ds_use.Q.isel(lev=0, lon_time=use_ind)\n",
    "                var_use['z'] = ds_use.Z3.isel(lev=0, lon_time=use_ind)\n",
    "                var_use['z_ft'] = ds_use.Z3.isel(lev=1, lon_time=use_ind)\n",
    "                var_use['mse'] = moist_static_energy(ds_use.T.isel(lev=0), ds_use.Q.isel(lev=0), \n",
    "                                                     ds_use.Z3.isel(lev=0)).isel(lon_time=use_ind)\n",
    "                var_use['mse_sat_ft_p_approx'] = moist_static_energy(ds_use.T.isel(lev=1), sphum_sat(ds_use.T.isel(lev=1), p_ft_approx), \n",
    "                                                                     ds_use.Z3.isel(lev=1)).isel(lon_time=use_ind)\n",
    "                var_use['mse_lapse_p_approx'] = var_use['mse'] - var_use['mse_sat_ft_p_approx']\n",
    "                var_use['pressure_ft'] = cesm.get_pressure(ds_use.PS, p_ref, hybrid_a_coef_ft, hybrid_b_coef_ft)\n",
    "                var_use['mse_sat_ft'] = moist_static_energy(ds_use.T.isel(lev=1), sphum_sat(ds_use.T.isel(lev=1), var_use['pressure_ft']), \n",
    "                                                            ds_use.Z3.isel(lev=1)).isel(lon_time=use_ind)\n",
    "                var_use['mse_lapse'] = var_use['mse'] - var_use['mse_sat_ft']\n",
    "                if surf == 'land':\n",
    "                    var_use['soil_liq'] = soil_liq_use.isel(lon_time=use_ind)\n",
    "                for key in var_use:\n",
    "                    output_info[key][k, i, j] = var_use[key].mean()\n",
    "                    output_info[key+'_std'][k, i, j] = var_use[key].std()\n",
    "                lon_use = np.unique(ds_use.lon[use_ind], return_counts=True)\n",
    "                \n",
    "                # Record most common specific coordinate within grid to see if most of days are at a given location\n",
    "                output_info['lon_most_common'][k, i, j] = lon_use[0][lon_use[1].argmax()]\n",
    "                output_info['lon_most_common_freq'][k, i, j] = lon_use[1][lon_use[1].argmax()]\n",
    "                pbar.update(1)"
   ],
   "id": "84e6ae30854e8cd5",
   "outputs": [
    {
     "name": "stderr",
     "output_type": "stream",
     "text": [
      "100%|██████████| 384/384 [00:36<00:00, 10.50it/s]\n"
     ]
    }
   ],
   "execution_count": 70
  },
  {
   "metadata": {},
   "cell_type": "markdown",
   "source": [
    "### Add basic details to output\n",
    "Below I add some basic information of the simulation and details of the quantile analysis to the output dictionary."
   ],
   "id": "77ed24c6ccefd8e9"
  },
  {
   "metadata": {
    "ExecuteTime": {
     "end_time": "2024-11-22T11:25:39.678994Z",
     "start_time": "2024-11-22T11:25:39.674072Z"
    }
   },
   "cell_type": "code",
   "source": [
    "# Add basic info of the dataset and averaging details used\n",
    "output_info['exp_name'] = exp_name\n",
    "if data_type == 'cesm':\n",
    "    output_info['date_start'] = ds.time.to_numpy()[0].strftime()\n",
    "    output_info['date_end'] = ds.time.to_numpy()[-1].strftime()\n",
    "else:\n",
    "    output_info['date_start'] = float(ds.time[0])\n",
    "    output_info['date_end'] = float(ds.time[-1])\n",
    "output_info['lat'] = ds.lat.to_numpy()\n",
    "output_info['lon'] = ds.lon.to_numpy()\n",
    "output_info['pressure_surf_approx'] = p_surf_approx\n",
    "output_info['pressure_ft_approx'] = p_ft_approx\n",
    "output_info['quant'] = quant_use\n",
    "output_info['quant_range'] = quant_range\n",
    "output_info['landfrac_thresh'] = landfrac_thresh"
   ],
   "id": "f458e32e446aa358",
   "outputs": [],
   "execution_count": 73
  },
  {
   "metadata": {},
   "cell_type": "markdown",
   "source": "### Save output data as npz file",
   "id": "3e992e2a2cf8b26b"
  },
  {
   "metadata": {
    "ExecuteTime": {
     "end_time": "2024-11-22T11:25:41.280806Z",
     "start_time": "2024-11-22T11:25:41.271715Z"
    }
   },
   "cell_type": "code",
   "source": [
    "# Save file\n",
    "np.savez_compressed(f'/Users/joshduffield/Desktop/{exp_name.replace(\"/\", \".\")}.lat_quant_info.npz', **output_info)\n",
    "# a = np.load('/Users/joshduffield/Desktop/hi_compress.npz')"
   ],
   "id": "10c18c5160b55891",
   "outputs": [],
   "execution_count": 74
  },
  {
   "metadata": {
    "ExecuteTime": {
     "end_time": "2024-11-22T11:25:35.531414Z",
     "start_time": "2024-11-22T11:25:35.530017Z"
    }
   },
   "cell_type": "code",
   "source": "",
   "id": "e411fe032d42ab16",
   "outputs": [],
   "execution_count": 72
  }
 ],
 "metadata": {
  "kernelspec": {
   "display_name": "Python 3",
   "language": "python",
   "name": "python3"
  },
  "language_info": {
   "codemirror_mode": {
    "name": "ipython",
    "version": 2
   },
   "file_extension": ".py",
   "mimetype": "text/x-python",
   "name": "python",
   "nbconvert_exporter": "python",
   "pygments_lexer": "ipython2",
   "version": "2.7.6"
  }
 },
 "nbformat": 4,
 "nbformat_minor": 5
}
