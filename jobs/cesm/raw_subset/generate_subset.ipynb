{
 "cells": [
  {
   "metadata": {},
   "cell_type": "markdown",
   "source": [
    "## Generate subset of CESM daily output\n",
    "\n",
    "This notebook creates a small, location-bounded subset of CESM daily output for two experiments and writes them to NetCDF:\n",
    "\n",
    "- Defines variables to keep: PS, TREFHT, QREFHT, T, Z3, Q.\n",
    "- Selects four regions using latitude/longitude bounds (russia, spain, australia, canada).\n",
    "- Uses a preprocess step (lat_lon_coord_slice) with isca_tools.cesm.load_dataset to subset on load.\n",
    "- Loads full data for each experiment:\n",
    "  - Pre-industrial: e.e20.E1850TEST.f09_g17.daily_output → saved as pre_industrial.nd2\n",
    "  - 2×CO₂: e.e20.E1850TEST.f09_g17.co2_2x_daily_output → saved as co2_2x.nd2\n"
   ],
   "id": "117a9e18fb767287"
  },
  {
   "cell_type": "code",
   "id": "initial_id",
   "metadata": {
    "collapsed": true,
    "ExecuteTime": {
     "end_time": "2025-09-01T07:51:01.460466Z",
     "start_time": "2025-09-01T07:50:52.702117Z"
    }
   },
   "source": [
    "import pandas as pd\n",
    "import xarray as xr\n",
    "import numpy as np\n",
    "import sys\n",
    "\n",
    "sys.path.append('/home/users/jamd1/Isca/')\n",
    "from isca_tools import cesm\n",
    "from isca_tools.utils import area_weighting, lat_lon_rolling, print_ds_var_list, set_attrs\n",
    "from isca_tools.papers.byrne_2021 import get_quant_ind\n",
    "from isca_tools.utils.moist_physics import moist_static_energy, sphum_sat\n",
    "from isca_tools.utils.constants import g, c_p, lapse_dry\n",
    "from isca_tools.convection.base import lcl_metpy\n",
    "from isca_tools.utils.ds_slicing import lat_lon_coord_slice\n",
    "import isca_tools\n",
    "import cftime\n",
    "import matplotlib.pyplot as plt\n",
    "import cartopy.crs as ccrs\n",
    "from cartopy.mpl.ticker import LatitudeFormatter, LongitudeFormatter\n",
    "import matplotlib.patches as patches\n",
    "from tqdm.notebook import tqdm\n",
    "import matplotlib\n",
    "from matplotlib.dates import ConciseDateConverter\n",
    "matplotlib.units.registry[cftime.DatetimeNoLeap] = ConciseDateConverter()  # to allow plotting time as x axis\n",
    "# plt.style.use('/home/users/jamd1/Isca/jobs/publish.mplstyle')\n",
    "import os\n",
    "from numba import jit\n",
    "import metpy\n",
    "from geocat.comp.interpolation import interp_hybrid_to_pressure\n",
    "print(os.getcwd())"
   ],
   "outputs": [
    {
     "name": "stdout",
     "output_type": "stream",
     "text": [
      "/home/users/jamd1/Isca/jobs/cesm/raw_subset\n"
     ]
    }
   ],
   "execution_count": 1
  },
  {
   "metadata": {
    "ExecuteTime": {
     "end_time": "2025-09-01T07:51:03.210899Z",
     "start_time": "2025-09-01T07:51:03.207730Z"
    }
   },
   "cell_type": "code",
   "source": [
    "comp = 'lnd'\n",
    "var_keep = {'atm': ['PS', 'TREFHT', 'QREFHT', 'T', 'Z3', 'Q'], 'lnd': ['SOILLIQ']}\n",
    "lat_use = [59.84,  40.05, -24.03, 55]\n",
    "lon_use = [50, 355, 133.75, 290]\n",
    "loc_names = ['russia', 'spain', 'australia', 'canada']"
   ],
   "id": "8b52e27291297b3a",
   "outputs": [],
   "execution_count": 2
  },
  {
   "metadata": {
    "ExecuteTime": {
     "end_time": "2025-09-01T07:51:05.999192Z",
     "start_time": "2025-09-01T07:51:05.996818Z"
    }
   },
   "cell_type": "code",
   "source": [
    "def preprocess(ds, lat_list=lat_use, lon_list=lon_use):\n",
    "    ds = lat_lon_coord_slice(ds, lat_list, lon_list)\n",
    "    return ds"
   ],
   "id": "c257b6f75e67ef2",
   "outputs": [],
   "execution_count": 3
  },
  {
   "metadata": {
    "ExecuteTime": {
     "end_time": "2025-09-01T07:52:55.280026Z",
     "start_time": "2025-09-01T07:51:08.256615Z"
    }
   },
   "cell_type": "code",
   "source": [
    "exp_pi = 'e.e20.E1850TEST.f09_g17.daily_output'\n",
    "ds_pi = cesm.load_dataset(exp_pi, hist_file=1, preprocess=preprocess, comp=comp)[var_keep[comp]]\n",
    "ds_pi = ds_pi.rename({'location': 'loc'})\n",
    "ds_pi = ds_pi.assign_coords(loc=loc_names)"
   ],
   "id": "788c13b9e27e7b7c",
   "outputs": [],
   "execution_count": 4
  },
  {
   "metadata": {
    "ExecuteTime": {
     "end_time": "2025-09-01T07:55:15.490472Z",
     "start_time": "2025-09-01T07:53:30.161299Z"
    }
   },
   "cell_type": "code",
   "source": "ds_pi = ds_pi.load()     # takes about 3 hours 30 minutes, I think it is probably just as quick to load in all lat, lon then save subset after loading",
   "id": "22a5e9977ecc202",
   "outputs": [],
   "execution_count": 7
  },
  {
   "metadata": {
    "ExecuteTime": {
     "end_time": "2025-09-01T07:55:15.897623Z",
     "start_time": "2025-09-01T07:55:15.666157Z"
    }
   },
   "cell_type": "code",
   "source": "ds_pi.to_netcdf(f'/home/users/jamd1/Isca/jobs/cesm/raw_subset/pre_industrial_{comp}.nd2')",
   "id": "3d2a5d064544497e",
   "outputs": [],
   "execution_count": 8
  },
  {
   "metadata": {
    "ExecuteTime": {
     "end_time": "2025-09-01T07:58:48.633454Z",
     "start_time": "2025-09-01T07:55:15.970368Z"
    }
   },
   "cell_type": "code",
   "source": [
    "exp_warm = 'e.e20.E1850TEST.f09_g17.co2_2x_daily_output'\n",
    "ds_warm = cesm.load_dataset(exp_warm, hist_file=1, preprocess=preprocess, comp=comp)[var_keep[comp]]\n",
    "ds_warm = ds_warm.rename({'location': 'loc'})\n",
    "ds_warm = ds_warm.assign_coords(loc=loc_names)"
   ],
   "id": "dd971a50a2b6e1c0",
   "outputs": [],
   "execution_count": 9
  },
  {
   "metadata": {
    "ExecuteTime": {
     "end_time": "2025-09-01T08:00:13.864480Z",
     "start_time": "2025-09-01T07:58:49.118087Z"
    }
   },
   "cell_type": "code",
   "source": "ds_warm = ds_warm.load()     # takes about 3 hours 30 minutes, I think it is probably just as quick to load in all lat, lon then save subset after loading",
   "id": "20134f8bfe2b17a7",
   "outputs": [],
   "execution_count": 10
  },
  {
   "metadata": {
    "ExecuteTime": {
     "end_time": "2025-09-01T08:00:14.210223Z",
     "start_time": "2025-09-01T08:00:14.017230Z"
    }
   },
   "cell_type": "code",
   "source": "ds_warm.to_netcdf(f'/home/users/jamd1/Isca/jobs/cesm/raw_subset/co2_2x_{comp}.nd2')",
   "id": "38c446916c5811c4",
   "outputs": [],
   "execution_count": 11
  },
  {
   "metadata": {},
   "cell_type": "code",
   "outputs": [],
   "execution_count": null,
   "source": "",
   "id": "83c994feb8357"
  }
 ],
 "metadata": {
  "kernelspec": {
   "display_name": "Python 3",
   "language": "python",
   "name": "python3"
  },
  "language_info": {
   "codemirror_mode": {
    "name": "ipython",
    "version": 2
   },
   "file_extension": ".py",
   "mimetype": "text/x-python",
   "name": "python",
   "nbconvert_exporter": "python",
   "pygments_lexer": "ipython2",
   "version": "2.7.6"
  }
 },
 "nbformat": 4,
 "nbformat_minor": 5
}
