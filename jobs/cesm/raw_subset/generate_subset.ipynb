{
 "cells": [
  {
   "metadata": {},
   "cell_type": "markdown",
   "source": [
    "## Generate subset of CESM daily output\n",
    "\n",
    "This notebook creates a small, location-bounded subset of CESM daily output for two experiments and writes them to NetCDF:\n",
    "\n",
    "- Defines variables to keep: PS, TREFHT, QREFHT, T, Z3, Q.\n",
    "- Selects four regions using latitude/longitude bounds (russia, spain, australia, canada).\n",
    "- Uses a preprocess step (lat_lon_coord_slice) with isca_tools.cesm.load_dataset to subset on load.\n",
    "- Loads full data for each experiment:\n",
    "  - Pre-industrial: e.e20.E1850TEST.f09_g17.daily_output → saved as pre_industrial.nd2\n",
    "  - 2×CO₂: e.e20.E1850TEST.f09_g17.co2_2x_daily_output → saved as co2_2x.nd2\n"
   ],
   "id": "117a9e18fb767287"
  },
  {
   "cell_type": "code",
   "execution_count": null,
   "id": "initial_id",
   "metadata": {
    "collapsed": true
   },
   "outputs": [],
   "source": [
    "import pandas as pd\n",
    "import xarray as xr\n",
    "import numpy as np\n",
    "import sys\n",
    "\n",
    "sys.path.append('/home/users/jamd1/Isca/')\n",
    "from isca_tools import cesm\n",
    "from isca_tools.utils import area_weighting, lat_lon_rolling, print_ds_var_list, set_attrs\n",
    "from isca_tools.papers.byrne_2021 import get_quant_ind\n",
    "from isca_tools.utils.moist_physics import moist_static_energy, sphum_sat\n",
    "from isca_tools.utils.constants import g, c_p, lapse_dry\n",
    "from isca_tools.convection.base import lcl_metpy\n",
    "from isca_tools.utils.ds_slicing import lat_lon_coord_slice\n",
    "import isca_tools\n",
    "import cftime\n",
    "import matplotlib.pyplot as plt\n",
    "import cartopy.crs as ccrs\n",
    "from cartopy.mpl.ticker import LatitudeFormatter, LongitudeFormatter\n",
    "import matplotlib.patches as patches\n",
    "from tqdm.notebook import tqdm\n",
    "import matplotlib\n",
    "from matplotlib.dates import ConciseDateConverter\n",
    "matplotlib.units.registry[cftime.DatetimeNoLeap] = ConciseDateConverter()  # to allow plotting time as x axis\n",
    "# plt.style.use('/home/users/jamd1/Isca/jobs/publish.mplstyle')\n",
    "import os\n",
    "from numba import jit\n",
    "import metpy\n",
    "from geocat.comp.interpolation import interp_hybrid_to_pressure\n",
    "print(os.getcwd())"
   ]
  },
  {
   "metadata": {
    "ExecuteTime": {
     "end_time": "2025-08-28T06:20:52.391578Z",
     "start_time": "2025-08-28T06:20:52.382596Z"
    }
   },
   "cell_type": "code",
   "source": [
    "var_keep = ['PS', 'TREFHT', 'QREFHT', 'T', 'Z3', 'Q']\n",
    "lat_use = [59.84,  40.05, -24.03, 55]\n",
    "lon_use = [50, 355, 133.75, 290]\n",
    "loc_names = ['russia', 'spain', 'australia', 'canada']"
   ],
   "id": "8b52e27291297b3a",
   "outputs": [],
   "execution_count": 1
  },
  {
   "metadata": {},
   "cell_type": "code",
   "outputs": [],
   "execution_count": null,
   "source": [
    "def preprocess(ds, lat_list=lat_use, lon_list=lon_use):\n",
    "    ds = lat_lon_coord_slice(ds, lat_list, lon_list)\n",
    "    return ds"
   ],
   "id": "c257b6f75e67ef2"
  },
  {
   "metadata": {},
   "cell_type": "code",
   "outputs": [],
   "execution_count": null,
   "source": [
    "exp_pi = 'e.e20.E1850TEST.f09_g17.daily_output'\n",
    "ds_pi = cesm.load_dataset(exp_pi, hist_file=1, preprocess=preprocess)[var_keep]\n",
    "ds_pi = ds_pi.rename({'location': 'loc'})\n",
    "ds_pi = ds_pi.assign_coords(loc=loc_names)"
   ],
   "id": "788c13b9e27e7b7c"
  },
  {
   "metadata": {},
   "cell_type": "code",
   "outputs": [],
   "execution_count": null,
   "source": "ds_pi = ds_pi.load()     # takes about 3 hours 30 minutes, I think it is probably just as quick to load in all lat, lon then save subset after loading",
   "id": "22a5e9977ecc202"
  },
  {
   "metadata": {},
   "cell_type": "code",
   "outputs": [],
   "execution_count": null,
   "source": "ds_pi.to_netcdf('/home/users/jamd1/Isca/jobs/cesm/raw_subset/pre_industrial.nd2')",
   "id": "3d2a5d064544497e"
  },
  {
   "metadata": {},
   "cell_type": "code",
   "outputs": [],
   "execution_count": null,
   "source": [
    "exp_warm = 'e.e20.E1850TEST.f09_g17.co2_2x_daily_output'\n",
    "ds_warm = cesm.load_dataset(exp_warm, hist_file=1, preprocess=preprocess)[var_keep]\n",
    "ds_warm = ds_warm.rename({'location': 'loc'})\n",
    "ds_warm = ds_warm.assign_coords(loc=loc_names)"
   ],
   "id": "dd971a50a2b6e1c0"
  },
  {
   "metadata": {},
   "cell_type": "code",
   "outputs": [],
   "execution_count": null,
   "source": "ds_warm = ds_warm.load()     # takes about 3 hours 30 minutes, I think it is probably just as quick to load in all lat, lon then save subset after loading",
   "id": "20134f8bfe2b17a7"
  },
  {
   "metadata": {},
   "cell_type": "code",
   "outputs": [],
   "execution_count": null,
   "source": "ds_warm.to_netcdf('/home/users/jamd1/Isca/jobs/cesm/raw_subset/co2_2x.nd2')",
   "id": "38c446916c5811c4"
  },
  {
   "metadata": {},
   "cell_type": "code",
   "outputs": [],
   "execution_count": null,
   "source": "",
   "id": "83c994feb8357"
  }
 ],
 "metadata": {
  "kernelspec": {
   "display_name": "Python 3",
   "language": "python",
   "name": "python3"
  },
  "language_info": {
   "codemirror_mode": {
    "name": "ipython",
    "version": 2
   },
   "file_extension": ".py",
   "mimetype": "text/x-python",
   "name": "python",
   "nbconvert_exporter": "python",
   "pygments_lexer": "ipython2",
   "version": "2.7.6"
  }
 },
 "nbformat": 4,
 "nbformat_minor": 5
}
