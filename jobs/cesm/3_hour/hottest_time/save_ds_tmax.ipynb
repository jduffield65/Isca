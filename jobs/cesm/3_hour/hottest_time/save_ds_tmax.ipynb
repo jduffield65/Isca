{
 "cells": [
  {
   "metadata": {},
   "cell_type": "markdown",
   "source": "## Save Dataset conditioned at time of maximum TREFHT at each coordinate",
   "id": "22f9fb6bd25643e7"
  },
  {
   "cell_type": "code",
   "id": "initial_id",
   "metadata": {
    "collapsed": true,
    "ExecuteTime": {
     "end_time": "2025-10-06T09:29:24.956647Z",
     "start_time": "2025-10-06T09:29:24.948444Z"
    }
   },
   "source": [
    "import scipy.optimize\n",
    "import xarray as xr\n",
    "import pandas as pd\n",
    "import matplotlib\n",
    "import numpy as np\n",
    "import cartopy.mpl.ticker as cticker\n",
    "from matplotlib.ticker import FuncFormatter\n",
    "import matplotlib.pyplot as plt\n",
    "import metpy\n",
    "import scipy.stats as sts\n",
    "from glob import glob\n",
    "import sys\n",
    "import cftime\n",
    "import datetime\n",
    "sys.path.append('/home/users/jamd1/Isca/')\n",
    "import warnings\n",
    "import isca_tools\n",
    "from isca_tools import cesm\n",
    "from isca_tools.plot import fig_resize, update_fontsize, update_linewidth, savefig\n",
    "from isca_tools.utils import area_weighting, print_ds_var_list\n",
    "from isca_tools.utils.base import round_any\n",
    "from isca_tools.utils.constants import L_v, c_p, g, R, kappa, lapse_dry\n",
    "from isca_tools.convection.base import lcl_metpy, dry_profile_temp, moist_profile\n",
    "from isca_tools.thesis.lapse_theory import get_bulk_lapse_rate, reconstruct_temp, interp_var_at_pressure\n",
    "from isca_tools.utils.base import top_n_peaks_ind\n",
    "from isca_tools.utils.moist_physics import sphum_sat\n",
    "import cartopy.crs as ccrs\n",
    "from cartopy.util import add_cyclic_point\n",
    "from statsmodels.stats.multitest import fdrcorrection\n",
    "from tqdm.notebook import tqdm\n",
    "import scipy\n",
    "from geocat.comp.interpolation import interp_hybrid_to_pressure\n",
    "from isca_tools.cesm.load import jasmin_archive_dir, jasmin_surf_geopotential_file\n",
    "import copy\n",
    "import os\n",
    "\n",
    "print(os.getcwd())\n",
    "warnings.filterwarnings('ignore')\n",
    "%matplotlib inline\n",
    "%config InlineBackend.figure_format = 'retina'"
   ],
   "outputs": [
    {
     "name": "stdout",
     "output_type": "stream",
     "text": [
      "/home/users/jamd1/Isca/jobs/cesm/3_hour/hottest_time\n"
     ]
    }
   ],
   "execution_count": 2
  },
  {
   "metadata": {},
   "cell_type": "markdown",
   "source": [
    "### Play with getting n hottest times\n",
    "Must be separated by more than 15 hours, so 1 value per day. Cannot use groupby because time varies with location.\n",
    "\n",
    "This is playing around before used in hottest_quant/save_info"
   ],
   "id": "25fb30cf59389922"
  },
  {
   "metadata": {
    "ExecuteTime": {
     "end_time": "2025-10-06T09:30:38.294151Z",
     "start_time": "2025-10-06T09:30:38.291486Z"
    }
   },
   "cell_type": "code",
   "source": [
    "exp_name = ['e.e20.E1850TEST.f09_g17.3hour_output', 'e.e20.E1850TEST.f09_g17.co2_2x_3hour_output']\n",
    "n_exp = len(exp_name)\n",
    "var_keep = ['CAPE', 'PRECC', 'PRECL', 'PS', 'Q', 'QREFHT', 'T', 'TREFHT', 'TS', 'Z3']"
   ],
   "id": "6c32b235a69413e9",
   "outputs": [],
   "execution_count": 5
  },
  {
   "metadata": {
    "ExecuteTime": {
     "end_time": "2025-10-06T11:23:00.552067Z",
     "start_time": "2025-10-06T11:22:54.458892Z"
    }
   },
   "cell_type": "code",
   "source": [
    "i = 0\n",
    "ds = cesm.load_dataset(exp_name[i], hist_file=1, year_files=61, month_files=1)[var_keep]"
   ],
   "id": "df55f2af4c940769",
   "outputs": [],
   "execution_count": 61
  },
  {
   "metadata": {
    "ExecuteTime": {
     "end_time": "2025-10-06T11:24:34.500292Z",
     "start_time": "2025-10-06T11:23:01.566271Z"
    }
   },
   "cell_type": "code",
   "source": "ds = ds.load()",
   "id": "81ed51ce22a8b9b8",
   "outputs": [],
   "execution_count": 62
  },
  {
   "metadata": {
    "ExecuteTime": {
     "end_time": "2025-10-06T11:24:37.847470Z",
     "start_time": "2025-10-06T11:24:36.837756Z"
    }
   },
   "cell_type": "code",
   "source": [
    "hour_spacing = 13\n",
    "time_dt = (ds.time[1]-ds.time[0]) / np.timedelta64(1, 'h')\n",
    "ind_spacing = int(np.ceil(hour_spacing/time_dt))\n",
    "\n",
    "n_sample = 5\n",
    "peak_values = xr.apply_ufunc(\n",
    "    top_n_peaks_ind,\n",
    "    ds.TREFHT,\n",
    "    input_core_dims=[[\"time\"]],\n",
    "    output_core_dims=[[\"sample\"]],\n",
    "    vectorize=True,\n",
    "    kwargs={\"n\": n_sample, \"min_ind_spacing\": ind_spacing},\n",
    "    dask=\"parallelized\",\n",
    "    output_dtypes=[int],\n",
    ")\n",
    "peak_values = peak_values.assign_coords(sample=np.arange(1, n_sample+1))"
   ],
   "id": "10c48a5dc8c563de",
   "outputs": [],
   "execution_count": 63
  },
  {
   "metadata": {},
   "cell_type": "markdown",
   "source": "### Script to save data",
   "id": "24d6cbca97b1879f"
  },
  {
   "metadata": {
    "ExecuteTime": {
     "end_time": "2025-09-19T14:04:03.616859Z",
     "start_time": "2025-09-19T12:26:50.396959Z"
    }
   },
   "cell_type": "code",
   "source": [
    "exp_name = ['e.e20.E1850TEST.f09_g17.3hour_output', 'e.e20.E1850TEST.f09_g17.co2_2x_3hour_output']\n",
    "n_exp = len(exp_name)\n",
    "var_keep = ['CAPE', 'PRECC', 'PRECL', 'PS', 'Q', 'QREFHT', 'T', 'TREFHT', 'TS', 'Z3']\n",
    "\n",
    "for i in range(n_exp):\n",
    "    ds = cesm.load_dataset(exp_name[i], hist_file=1)\n",
    "    print('Lazy loaded dataset')\n",
    "    gw = ds.gw.isel(time=0).load()\n",
    "    hyam = ds.hyam.isel(time=0).load()\n",
    "    hybm = ds.hybm.isel(time=0).load()\n",
    "    p0 = float(ds.P0.isel(time=0))\n",
    "    ds = ds[var_keep].load()\n",
    "    print('Fully loaded dataset')\n",
    "    t500_zonal_daily_av = interp_var_at_pressure(ds.T.resample(time=\"1D\").mean(dim=\"time\").mean(dim='lon'), np.atleast_1d(500*100),\n",
    "                                                 ds.PS.resample(time=\"1D\").mean(dim=\"time\").mean(dim='lon'), hyam, hybm, p0).T\n",
    "    print('Computed daily zonal average T500')\n",
    "    t500_zonal_daily_av = t500_zonal_daily_av.load()\n",
    "    print('Loaded daily zonal average T500')\n",
    "    idx_max = ds['TREFHT'].argmax(dim='time')\n",
    "    ds_out = ds.isel(time=idx_max)\n",
    "    ds_out['time_max'] = ds.time.isel(time=idx_max)\n",
    "    ds_out['T500_zonal_daily_av'] = t500_zonal_daily_av\n",
    "    ds_out['gw'] = gw\n",
    "    ds_out['hyam'] = hyam\n",
    "    ds_out['hybm'] = hybm\n",
    "    ds_out['P0'] = p0\n",
    "    print('Created ds_out')\n",
    "    ds_out.to_netcdf(f'/gws/nopw/j04/global_ex/jamd1/cesm/CESM2.1.3/archive/{exp_name[i]}/processed/ds_hot.nc')\n",
    "    print('Saved ds_out')"
   ],
   "id": "76ea209a8a6cbdf7",
   "outputs": [
    {
     "name": "stdout",
     "output_type": "stream",
     "text": [
      "Lazy loaded dataset\n",
      "Fully loaded dataset\n",
      "Computed daily zonal average T500\n",
      "Loaded daily zonal average T500\n",
      "Created ds_out\n",
      "Saved ds_out\n",
      "Lazy loaded dataset\n"
     ]
    }
   ],
   "execution_count": null
  },
  {
   "metadata": {},
   "cell_type": "code",
   "outputs": [],
   "execution_count": null,
   "source": "",
   "id": "d3116b59da48dbf"
  }
 ],
 "metadata": {
  "kernelspec": {
   "display_name": "Python 3",
   "language": "python",
   "name": "python3"
  },
  "language_info": {
   "codemirror_mode": {
    "name": "ipython",
    "version": 2
   },
   "file_extension": ".py",
   "mimetype": "text/x-python",
   "name": "python",
   "nbconvert_exporter": "python",
   "pygments_lexer": "ipython2",
   "version": "2.7.6"
  }
 },
 "nbformat": 4,
 "nbformat_minor": 5
}
