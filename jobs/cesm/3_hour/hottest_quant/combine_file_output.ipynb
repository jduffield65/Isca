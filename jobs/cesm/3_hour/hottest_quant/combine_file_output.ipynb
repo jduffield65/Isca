{
 "cells": [
  {
   "metadata": {},
   "cell_type": "markdown",
   "source": [
    "## Combine Files\n",
    "The save_info script outputs 1 file per each input file. Here, we concatenate across those files to give just one output file."
   ],
   "id": "8144149d39af3d41"
  },
  {
   "metadata": {
    "ExecuteTime": {
     "end_time": "2025-10-09T14:44:02.787516Z",
     "start_time": "2025-10-09T14:44:02.742920Z"
    }
   },
   "cell_type": "code",
   "source": [
    "import xarray as xr\n",
    "import os\n",
    "import fnmatch\n",
    "import re\n",
    "from tqdm.notebook import tqdm\n",
    "print(os.getcwd())"
   ],
   "id": "b3eeac9059ace5e8",
   "outputs": [
    {
     "name": "stdout",
     "output_type": "stream",
     "text": [
      "/Users/joshduffield/Documents/StAndrews/Isca/jobs/cesm/3_hour/hottest_quant\n"
     ]
    }
   ],
   "execution_count": 37
  },
  {
   "cell_type": "code",
   "id": "initial_id",
   "metadata": {
    "collapsed": true,
    "ExecuteTime": {
     "end_time": "2025-10-09T14:46:58.379087Z",
     "start_time": "2025-10-09T14:44:03.190552Z"
    }
   },
   "source": [
    "output_dir = '/Users/joshduffield/Desktop/output/'\n",
    "out_files_all = os.listdir(output_dir)\n",
    "# only keep files of correct format\n",
    "out_files_all = [file for file in out_files_all if\n",
    "                  re.fullmatch(r\"output\\d+\\.nc\", file)]     # must match output{any_number}.nc\n",
    "n_out_files = len(out_files_all)\n",
    "print(n_out_files)\n",
    "ds = []\n",
    "for i in tqdm(range(n_out_files)):\n",
    "    ds.append(xr.load_dataset(os.path.join(output_dir, out_files_all[i])))\n",
    "ds = xr.concat(ds, dim=\"file\")        # concat all files over new dimension\n",
    "ds = ds.drop_dims(\"time\")             # change time to a variable, and remove dimension\n",
    "ds = ds.reset_coords(\"time\")\n",
    "ds = ds.max(dim='file')    # each value has only one non nan value across all files, so take max to only keep non nan values"
   ],
   "outputs": [
    {
     "name": "stdout",
     "output_type": "stream",
     "text": [
      "40\n"
     ]
    },
    {
     "data": {
      "text/plain": [
       "  0%|          | 0/40 [00:00<?, ?it/s]"
      ],
      "application/vnd.jupyter.widget-view+json": {
       "version_major": 2,
       "version_minor": 0,
       "model_id": "8860a08a84204f93a508278bd14e4bf3"
      }
     },
     "metadata": {},
     "output_type": "display_data",
     "jetTransient": {
      "display_id": null
     }
    }
   ],
   "execution_count": 38
  },
  {
   "metadata": {
    "ExecuteTime": {
     "end_time": "2025-10-09T14:49:44.418002Z",
     "start_time": "2025-10-09T14:49:24.702496Z"
    }
   },
   "cell_type": "code",
   "source": [
    "out_file = os.path.join(output_dir, 'output.nc')\n",
    "if os.path.exists(out_file):\n",
    "    raise ValueError('Output file already exists at {}'.format(out_file))\n",
    "complevel = 4\n",
    "ds.to_netcdf(out_file, format=\"NETCDF4\",\n",
    "             encoding={var: {\"zlib\": True, \"complevel\": complevel} for var in ds.data_vars})"
   ],
   "id": "e44e9667847741b2",
   "outputs": [],
   "execution_count": 50
  },
  {
   "metadata": {},
   "cell_type": "code",
   "outputs": [],
   "execution_count": null,
   "source": "",
   "id": "4f0f01bc22c43f8b"
  }
 ],
 "metadata": {
  "kernelspec": {
   "display_name": "Python 3",
   "language": "python",
   "name": "python3"
  },
  "language_info": {
   "codemirror_mode": {
    "name": "ipython",
    "version": 2
   },
   "file_extension": ".py",
   "mimetype": "text/x-python",
   "name": "python",
   "nbconvert_exporter": "python",
   "pygments_lexer": "ipython2",
   "version": "2.7.6"
  }
 },
 "nbformat": 4,
 "nbformat_minor": 5
}
