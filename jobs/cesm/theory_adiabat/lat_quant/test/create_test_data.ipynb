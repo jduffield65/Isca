{
 "cells": [
  {
   "metadata": {},
   "cell_type": "markdown",
   "source": [
    "## Create Test Data\n",
    "Just a quick script to load in a data file, reduce memory by selecting 1 time value, less lat and lon and save as output."
   ],
   "id": "85320217947fd43a"
  },
  {
   "metadata": {
    "ExecuteTime": {
     "end_time": "2025-04-11T06:40:04.144236Z",
     "start_time": "2025-04-11T06:40:03.765833Z"
    }
   },
   "cell_type": "code",
   "source": [
    "import os\n",
    "import xarray as xr\n",
    "import time\n",
    "import numpy as np"
   ],
   "id": "1ab15a898e62aaba",
   "outputs": [],
   "execution_count": 1
  },
  {
   "metadata": {
    "ExecuteTime": {
     "end_time": "2025-04-11T06:58:27.117748Z",
     "start_time": "2025-04-11T06:58:27.114723Z"
    }
   },
   "cell_type": "code",
   "source": [
    "lat_ind_keep = np.linspace(0, 192-1, 5, dtype=int)\n",
    "lon_ind_keep = np.linspace(0, 288-1, 10, dtype=int)\n",
    "time_ind_keep = [4, 5]\n",
    "\n",
    "def preprocess(ds):\n",
    "    return ds.isel(lat=lat_ind_keep, lon=lon_ind_keep, time=time_ind_keep)\n",
    "#\n",
    "# def preprocess(ds):\n",
    "#     return ds['SOILLIQ']\n",
    "#\n",
    "# def preprocess(ds):\n",
    "#     return ds['T']"
   ],
   "id": "f8bbc3923aa70c2c",
   "outputs": [],
   "execution_count": 53
  },
  {
   "cell_type": "code",
   "id": "initial_id",
   "metadata": {
    "collapsed": true,
    "ExecuteTime": {
     "end_time": "2025-04-11T06:58:27.453139Z",
     "start_time": "2025-04-11T06:58:27.450258Z"
    }
   },
   "source": [
    "dir_desktop = os.environ['HOME'] + '/Desktop/'\n",
    "exp_name_land = 'e.e20.E1850TEST.f09_g17.daily_output.clm2.h1.0031-01-02-00000.nc'\n",
    "exp_name_atm = 'e.e20.E1850TEST.f09_g17.daily_output.cam.h1.0031-01-02-00000.nc'"
   ],
   "outputs": [],
   "execution_count": 54
  },
  {
   "metadata": {
    "ExecuteTime": {
     "end_time": "2025-04-11T06:58:27.774219Z",
     "start_time": "2025-04-11T06:58:27.769146Z"
    }
   },
   "cell_type": "code",
   "source": [
    "def load_with_profile(file_path, preprocess=preprocess, process_first=True, chunks=None, chunk_first=True):\n",
    "    time_info = []\n",
    "    time_info += [time.time()]\n",
    "    ds = xr.open_mfdataset(file_path, preprocess=preprocess if process_first else None, chunks=chunks if chunk_first else None)\n",
    "    time_info += [time.time()]\n",
    "    print(\"Lazy loading: {:.3f}s\".format(time_info[-1] - time_info[-2]))\n",
    "    if not chunk_first and chunks is not None:\n",
    "        ds = ds.chunk(chunks)\n",
    "        time_info += [time.time()]\n",
    "        print(\"Chunking: {:.3f}s\".format(time_info[-1] - time_info[-2]))\n",
    "    if not process_first:\n",
    "        ds = preprocess(ds)\n",
    "        time_info += [time.time()]\n",
    "        print(\"Processing: {:.3f}s\".format(time_info[-1] - time_info[-2]))\n",
    "    ds.load()\n",
    "    time_info += [time.time()]\n",
    "    print(\"Load in full: {:.3f}s\".format(time_info[-1] - time_info[-2]))\n",
    "    print(\"Total time: {:.3f}s\".format(time_info[-1] - time_info[0]))\n",
    "    return ds"
   ],
   "id": "bfa3fd66118661f2",
   "outputs": [],
   "execution_count": 55
  },
  {
   "metadata": {
    "ExecuteTime": {
     "end_time": "2025-04-11T06:58:31.583129Z",
     "start_time": "2025-04-11T06:58:28.083096Z"
    }
   },
   "cell_type": "code",
   "source": "ds_land = load_with_profile(dir_desktop + exp_name_land)",
   "id": "74d648cc7f253c58",
   "outputs": [
    {
     "name": "stdout",
     "output_type": "stream",
     "text": [
      "Lazy loading: 0.053s\n",
      "Load in full: 3.442s\n",
      "Total time: 3.495s\n"
     ]
    }
   ],
   "execution_count": 56
  },
  {
   "metadata": {
    "ExecuteTime": {
     "end_time": "2025-04-11T06:58:59.157938Z",
     "start_time": "2025-04-11T06:58:31.604947Z"
    }
   },
   "cell_type": "code",
   "source": "ds_atm = load_with_profile(dir_desktop + exp_name_atm)",
   "id": "2f80ddeeeed7969c",
   "outputs": [
    {
     "name": "stdout",
     "output_type": "stream",
     "text": [
      "Lazy loading: 0.059s\n",
      "Load in full: 27.488s\n",
      "Total time: 27.547s\n"
     ]
    }
   ],
   "execution_count": 57
  },
  {
   "metadata": {
    "ExecuteTime": {
     "end_time": "2025-04-11T06:58:59.236606Z",
     "start_time": "2025-04-11T06:58:59.177408Z"
    }
   },
   "cell_type": "code",
   "source": [
    "ds_atm.to_netcdf(dir_desktop + f'atm_time={time_ind_keep}.nc')\n",
    "ds_land.to_netcdf(dir_desktop + f'land_time={time_ind_keep}.nc')"
   ],
   "id": "7745cde406f9809e",
   "outputs": [],
   "execution_count": 58
  },
  {
   "metadata": {},
   "cell_type": "code",
   "outputs": [],
   "execution_count": null,
   "source": "",
   "id": "adb2a4d247089a15"
  }
 ],
 "metadata": {
  "kernelspec": {
   "display_name": "Python 3",
   "language": "python",
   "name": "python3"
  },
  "language_info": {
   "codemirror_mode": {
    "name": "ipython",
    "version": 2
   },
   "file_extension": ".py",
   "mimetype": "text/x-python",
   "name": "python",
   "nbconvert_exporter": "python",
   "pygments_lexer": "ipython2",
   "version": "2.7.6"
  }
 },
 "nbformat": 4,
 "nbformat_minor": 5
}
