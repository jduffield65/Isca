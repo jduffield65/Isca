{
 "cells": [
  {
   "cell_type": "code",
   "execution_count": 1,
   "id": "0c2da671",
   "metadata": {},
   "outputs": [],
   "source": [
    "import sys\n",
    "import os\n",
    "import xarray as xr\n",
    "import matplotlib.pyplot as plt\n",
    "sys.path.append(os.path.join(os.environ['HOME'], 'Isca'))    # So can access functions in isca_tools which is in home/Isca directory\n",
    "import isca_tools\n",
    "import numpy as np"
   ]
  },
  {
   "cell_type": "code",
   "execution_count": 62,
   "id": "c497a519",
   "metadata": {},
   "outputs": [],
   "source": [
    "# Plot evolution of net flux and temperature to see how long it takes to spin up\n",
    "def plot_spinup(ds_full, ds_ocean, ds_land, ax, albedo, tau):\n",
    "    olr_sum = ds_full.olr.sum(dim = ['lon', 'lat'])\n",
    "    short_wave_sum = ds_full.swdn_toa.sum(dim = ['lon', 'lat'])\n",
    "    # Include surface albedo which reflects all SW radiation reaching it\n",
    "    # SW radiation reaching it has been reduced by that absorbed in the atmosphere - non zero short wave optical depth.\n",
    "    # There is no absorption on return trip from surface to space though hence just the one factor.\n",
    "    net_flux = olr_sum - short_wave_sum*(1-albedo*np.exp(-tau))\n",
    "    net_flux.plot.line(ax=ax, color='b')\n",
    "    ax.set_ylabel('TOA Net Outgoing FLux / $Wm^{-2}$\\nOLR - (1-$\\\\alpha e^{-\\\\tau})SW$', color='b')\n",
    "    t_ocean = ds_ocean.t_surf.mean(dim = ['location']) - 273.15  # In Celsius\n",
    "    t_land = ds_land.t_surf.mean(dim = ['location']) - 273.15  # In Celsius\n",
    "    ax2 = ax.twinx()\n",
    "    t_ocean.plot.line(ax=ax2, color='r', label='Ocean')\n",
    "    t_land.plot.line(ax=ax2, color='r', linestyle=':', label='Land')\n",
    "    ax2.set_ylabel('Surface Temperature / $°C$', color='r')\n",
    "    ax2.legend()\n"
   ]
  },
  {
   "cell_type": "code",
   "execution_count": 2,
   "id": "f56125d8",
   "metadata": {},
   "outputs": [],
   "source": [
    "# Load dataset across all months for each depth value\n",
    "exp_name = 'play/min_max_output'\n",
    "ds_max = isca_tools.load_dataset(exp_name+'/max')\n",
    "ds_min = isca_tools.load_dataset(exp_name+'/min')\n",
    "namelist = isca_tools.load_namelist(exp_name+'/max')  # Need this for albedo_value"
   ]
  },
  {
   "cell_type": "code",
   "execution_count": 5,
   "id": "ef73913f",
   "metadata": {},
   "outputs": [
    {
     "data": {
      "text/plain": "array([281.7167 , 282.02655, 282.33777, 282.64917, 282.9316 ],\n      dtype=float32)"
     },
     "execution_count": 5,
     "metadata": {},
     "output_type": "execute_result"
    }
   ],
   "source": [
    "ds_min.sel(lon=[240.125], lat=[40.3], method=\"nearest\").t_surf.mean(dim=['lon','lat']).to_numpy()"
   ]
  },
  {
   "cell_type": "code",
   "execution_count": 6,
   "outputs": [
    {
     "data": {
      "text/plain": "array([281.58734, 281.87137, 282.1835 , 282.49597, 282.79446],\n      dtype=float32)"
     },
     "execution_count": 6,
     "metadata": {},
     "output_type": "execute_result"
    }
   ],
   "source": [
    "ds_max.sel(lon=[240.125], lat=[40.3], method=\"nearest\").t_surf.mean(dim=['lon','lat']).to_numpy()"
   ],
   "metadata": {
    "collapsed": false
   }
  },
  {
   "cell_type": "code",
   "execution_count": 3,
   "outputs": [
    {
     "data": {
      "text/plain": "array([281.28094, 281.18628, 281.1229 , 281.06073, 280.98593],\n      dtype=float32)"
     },
     "execution_count": 3,
     "metadata": {},
     "output_type": "execute_result"
    }
   ],
   "source": [
    "ds_min.sel(lon=[240.125], lat=[40.3], method=\"nearest\").t_surf.mean(dim=['lon','lat']).to_numpy()"
   ],
   "metadata": {
    "collapsed": false
   }
  },
  {
   "cell_type": "code",
   "execution_count": 3,
   "outputs": [],
   "source": [],
   "metadata": {
    "collapsed": false
   }
  },
  {
   "cell_type": "code",
   "execution_count": null,
   "outputs": [],
   "source": [],
   "metadata": {
    "collapsed": false
   }
  }
 ],
 "metadata": {
  "kernelspec": {
   "name": "python3",
   "language": "python",
   "display_name": "Python 3 (ipykernel)"
  },
  "language_info": {
   "codemirror_mode": {
    "name": "ipython",
    "version": 3
   },
   "file_extension": ".py",
   "mimetype": "text/x-python",
   "name": "python",
   "nbconvert_exporter": "python",
   "pygments_lexer": "ipython3",
   "version": "3.9.13"
  }
 },
 "nbformat": 4,
 "nbformat_minor": 5
}
