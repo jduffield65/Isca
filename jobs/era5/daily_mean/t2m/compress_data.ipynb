{
 "cells": [
  {
   "cell_type": "code",
   "id": "initial_id",
   "metadata": {
    "collapsed": true,
    "ExecuteTime": {
     "end_time": "2025-05-31T07:33:06.091973Z",
     "start_time": "2025-05-31T07:33:06.085098Z"
    }
   },
   "source": [
    "import xarray as xr\n",
    "import numpy as np\n",
    "import sys\n",
    "sys.path.append('/home/users/jamd1/Isca/')\n",
    "from isca_tools import cesm\n",
    "from isca_tools.utils import area_weighting, lat_lon_rolling\n",
    "from isca_tools.utils import print_ds_var_list\n",
    "from isca_tools.papers.byrne_2021 import get_quant_ind\n",
    "from isca_tools.utils.moist_physics import moist_static_energy, sphum_sat\n",
    "import cftime\n",
    "import matplotlib.pyplot as plt\n",
    "import cartopy.crs as ccrs\n",
    "from cartopy.mpl.ticker import LatitudeFormatter, LongitudeFormatter\n",
    "import matplotlib.patches as patches\n",
    "from tqdm.notebook import tqdm\n",
    "import matplotlib\n",
    "from matplotlib.dates import ConciseDateConverter\n",
    "matplotlib.units.registry[cftime.DatetimeNoLeap] = ConciseDateConverter()  # to allow plotting time as x axis\n",
    "# plt.style.use('/home/users/jamd1/Isca/jobs/publish.mplstyle')\n",
    "import os\n",
    "from datetime import datetime\n",
    "from tqdm.notebook import tqdm\n",
    "print(os.getcwd())"
   ],
   "outputs": [
    {
     "name": "stdout",
     "output_type": "stream",
     "text": [
      "/home/users/jamd1/Isca\n"
     ]
    }
   ],
   "execution_count": 23
  },
  {
   "metadata": {},
   "cell_type": "markdown",
   "source": "## Compress files which are float64 and not compressed",
   "id": "a708835354a50e41"
  },
  {
   "metadata": {
    "ExecuteTime": {
     "end_time": "2025-05-31T07:27:38.464997Z",
     "start_time": "2025-05-31T07:27:38.460902Z"
    }
   },
   "cell_type": "code",
   "source": [
    "def get_file_size_in_gb(file_path):\n",
    "    size_bytes = os.path.getsize(file_path)\n",
    "    size_gb = size_bytes / (1024 ** 3)  # Convert bytes to gigabytes\n",
    "    return size_gb"
   ],
   "id": "1231eaebc0dfebbd",
   "outputs": [],
   "execution_count": 2
  },
  {
   "metadata": {
    "ExecuteTime": {
     "end_time": "2025-05-31T07:34:01.996994Z",
     "start_time": "2025-05-31T07:34:01.994427Z"
    }
   },
   "cell_type": "code",
   "source": [
    "# Sanity check that output works\n",
    "dir = '/gws/nopw/j04/global_ex/jamd1/era5/zhang2023_data/raw/daily_mean/t2m'\n",
    "high_mem_lower_bound = 2        # compress all files heavier than 2GB\n",
    "complevel = 4\n",
    "# ds = xr.load_dataset(f\"{dir}/1984.nc\")\n",
    "# ds = ds.astype('float32')"
   ],
   "id": "eb3f92af3ac07b1e",
   "outputs": [],
   "execution_count": 25
  },
  {
   "metadata": {
    "ExecuteTime": {
     "end_time": "2025-05-31T07:54:19.638517Z",
     "start_time": "2025-05-31T07:36:13.025242Z"
    }
   },
   "cell_type": "code",
   "source": [
    "for year in range(1979, 2022):\n",
    "    file_path = f\"{dir}/{year}.nc\"\n",
    "    file_mem = get_file_size_in_gb(file_path)\n",
    "    if file_mem < high_mem_lower_bound:\n",
    "        print(f\"{datetime.now().replace(microsecond=0)} | Year {year} | {file_mem:.2f} GB | Skipping\")\n",
    "        continue\n",
    "    else:\n",
    "        print(f\"{datetime.now().replace(microsecond=0)} | Year {year} | {file_mem:.2f} GB | Compressing\")\n",
    "        ds = xr.load_dataset(file_path)\n",
    "        ds = ds.astype('float32')\n",
    "        encoding = {var: {'zlib': True, 'complevel': complevel} for var in ds.data_vars}\n",
    "        ds.to_netcdf(file_path, encoding=encoding)\n",
    "        file_mem_new = get_file_size_in_gb(file_path)\n",
    "        print(f\"{datetime.now().replace(microsecond=0)} | Year {year} | File saved | New memory: {file_mem_new:.2f} GB\")"
   ],
   "id": "62ebd586d6d9a74a",
   "outputs": [
    {
     "name": "stdout",
     "output_type": "stream",
     "text": [
      "2025-05-31 08:36:13 | Year 1979 | 2.82 GB | Compressing\n",
      "2025-05-31 08:36:50 | Year 1979 | File saved | New memory: 0.72 GB\n",
      "2025-05-31 08:36:50 | Year 1980 | 2.83 GB | Compressing\n",
      "2025-05-31 08:37:25 | Year 1980 | File saved | New memory: 0.72 GB\n",
      "2025-05-31 08:37:25 | Year 1981 | 2.82 GB | Compressing\n",
      "2025-05-31 08:38:01 | Year 1981 | File saved | New memory: 0.72 GB\n",
      "2025-05-31 08:38:01 | Year 1982 | 2.82 GB | Compressing\n",
      "2025-05-31 08:38:35 | Year 1982 | File saved | New memory: 0.72 GB\n",
      "2025-05-31 08:38:35 | Year 1983 | 0.82 GB | Skipping\n",
      "2025-05-31 08:38:35 | Year 1984 | 2.83 GB | Compressing\n",
      "2025-05-31 08:39:12 | Year 1984 | File saved | New memory: 0.72 GB\n",
      "2025-05-31 08:39:12 | Year 1985 | 2.82 GB | Compressing\n",
      "2025-05-31 08:39:52 | Year 1985 | File saved | New memory: 0.72 GB\n",
      "2025-05-31 08:39:52 | Year 1986 | 2.82 GB | Compressing\n",
      "2025-05-31 08:40:30 | Year 1986 | File saved | New memory: 0.72 GB\n",
      "2025-05-31 08:40:30 | Year 1987 | 0.83 GB | Skipping\n",
      "2025-05-31 08:40:30 | Year 1988 | 0.83 GB | Skipping\n",
      "2025-05-31 08:40:30 | Year 1989 | 2.82 GB | Compressing\n",
      "2025-05-31 08:41:07 | Year 1989 | File saved | New memory: 0.72 GB\n",
      "2025-05-31 08:41:07 | Year 1990 | 2.82 GB | Compressing\n",
      "2025-05-31 08:41:43 | Year 1990 | File saved | New memory: 0.72 GB\n",
      "2025-05-31 08:41:43 | Year 1991 | 2.82 GB | Compressing\n",
      "2025-05-31 08:42:20 | Year 1991 | File saved | New memory: 0.72 GB\n",
      "2025-05-31 08:42:20 | Year 1992 | 0.83 GB | Skipping\n",
      "2025-05-31 08:42:20 | Year 1993 | 0.83 GB | Skipping\n",
      "2025-05-31 08:42:20 | Year 1994 | 2.82 GB | Compressing\n",
      "2025-05-31 08:43:15 | Year 1994 | File saved | New memory: 0.72 GB\n",
      "2025-05-31 08:43:15 | Year 1995 | 2.82 GB | Compressing\n",
      "2025-05-31 08:43:49 | Year 1995 | File saved | New memory: 0.72 GB\n",
      "2025-05-31 08:43:49 | Year 1996 | 2.83 GB | Compressing\n",
      "2025-05-31 08:44:23 | Year 1996 | File saved | New memory: 0.72 GB\n",
      "2025-05-31 08:44:23 | Year 1997 | 2.82 GB | Compressing\n",
      "2025-05-31 08:45:10 | Year 1997 | File saved | New memory: 0.72 GB\n",
      "2025-05-31 08:45:10 | Year 1998 | 0.82 GB | Skipping\n",
      "2025-05-31 08:45:10 | Year 1999 | 2.82 GB | Compressing\n",
      "2025-05-31 08:45:43 | Year 1999 | File saved | New memory: 0.72 GB\n",
      "2025-05-31 08:45:43 | Year 2000 | 2.83 GB | Compressing\n",
      "2025-05-31 08:46:22 | Year 2000 | File saved | New memory: 0.72 GB\n",
      "2025-05-31 08:46:22 | Year 2001 | 2.82 GB | Compressing\n",
      "2025-05-31 08:47:01 | Year 2001 | File saved | New memory: 0.72 GB\n",
      "2025-05-31 08:47:01 | Year 2002 | 2.82 GB | Compressing\n",
      "2025-05-31 08:47:40 | Year 2002 | File saved | New memory: 0.72 GB\n",
      "2025-05-31 08:47:40 | Year 2003 | 0.83 GB | Skipping\n",
      "2025-05-31 08:47:40 | Year 2004 | 2.83 GB | Compressing\n",
      "2025-05-31 08:48:18 | Year 2004 | File saved | New memory: 0.72 GB\n",
      "2025-05-31 08:48:18 | Year 2005 | 2.82 GB | Compressing\n",
      "2025-05-31 08:48:54 | Year 2005 | File saved | New memory: 0.72 GB\n",
      "2025-05-31 08:48:54 | Year 2006 | 0.84 GB | Skipping\n",
      "2025-05-31 08:48:54 | Year 2007 | 0.85 GB | Skipping\n",
      "2025-05-31 08:48:54 | Year 2008 | 0.86 GB | Skipping\n",
      "2025-05-31 08:48:54 | Year 2009 | 2.82 GB | Compressing\n",
      "2025-05-31 08:49:31 | Year 2009 | File saved | New memory: 0.72 GB\n",
      "2025-05-31 08:49:31 | Year 2010 | 2.82 GB | Compressing\n",
      "2025-05-31 08:50:06 | Year 2010 | File saved | New memory: 0.72 GB\n",
      "2025-05-31 08:50:06 | Year 2011 | 0.83 GB | Skipping\n",
      "2025-05-31 08:50:06 | Year 2012 | 0.85 GB | Skipping\n",
      "2025-05-31 08:50:06 | Year 2013 | 0.85 GB | Skipping\n",
      "2025-05-31 08:50:06 | Year 2014 | 2.82 GB | Compressing\n",
      "2025-05-31 08:50:47 | Year 2014 | File saved | New memory: 0.72 GB\n",
      "2025-05-31 08:50:47 | Year 2015 | 2.82 GB | Compressing\n",
      "2025-05-31 08:51:23 | Year 2015 | File saved | New memory: 0.72 GB\n",
      "2025-05-31 08:51:23 | Year 2016 | 2.83 GB | Compressing\n",
      "2025-05-31 08:52:00 | Year 2016 | File saved | New memory: 0.72 GB\n",
      "2025-05-31 08:52:00 | Year 2017 | 2.82 GB | Compressing\n",
      "2025-05-31 08:52:37 | Year 2017 | File saved | New memory: 0.72 GB\n",
      "2025-05-31 08:52:37 | Year 2018 | 0.85 GB | Skipping\n",
      "2025-05-31 08:52:37 | Year 2019 | 2.82 GB | Compressing\n",
      "2025-05-31 08:53:12 | Year 2019 | File saved | New memory: 0.72 GB\n",
      "2025-05-31 08:53:12 | Year 2020 | 2.83 GB | Compressing\n",
      "2025-05-31 08:53:46 | Year 2020 | File saved | New memory: 0.73 GB\n",
      "2025-05-31 08:53:46 | Year 2021 | 2.82 GB | Compressing\n",
      "2025-05-31 08:54:19 | Year 2021 | File saved | New memory: 0.72 GB\n"
     ]
    }
   ],
   "execution_count": 26
  },
  {
   "metadata": {},
   "cell_type": "code",
   "outputs": [],
   "execution_count": null,
   "source": "",
   "id": "588ce6ce73d197c2"
  }
 ],
 "metadata": {
  "kernelspec": {
   "display_name": "Python (myenv)",
   "language": "python",
   "name": "myenv"
  },
  "language_info": {
   "codemirror_mode": {
    "name": "ipython",
    "version": 2
   },
   "file_extension": ".py",
   "mimetype": "text/x-python",
   "name": "python",
   "nbconvert_exporter": "python",
   "pygments_lexer": "ipython2",
   "version": "2.7.6"
  }
 },
 "nbformat": 4,
 "nbformat_minor": 5
}
