{
 "cells": [
  {
   "metadata": {},
   "cell_type": "markdown",
   "source": [
    "## Get Max Variables\n",
    "This notebook takes raw daily data and output variables conditioned on maximum t2m across each year.\n",
    "\n",
    "Have option to condition on daily mean or daily maximum `t2m` through the `t2m_av_use` variable. Zhang 2023 used daily maximum"
   ],
   "id": "8d40f1ff8cb3c4f2"
  },
  {
   "metadata": {
    "ExecuteTime": {
     "end_time": "2025-06-02T13:49:41.898064Z",
     "start_time": "2025-06-02T13:49:39.426688Z"
    }
   },
   "cell_type": "code",
   "source": [
    "import os\n",
    "import xarray as xr\n",
    "import numpy as np\n",
    "from numba import jit\n",
    "from tqdm.notebook import tqdm\n",
    "print(os.getcwd())"
   ],
   "id": "def2da466b67974a",
   "outputs": [
    {
     "name": "stdout",
     "output_type": "stream",
     "text": [
      "/home/users/jamd1/Isca\n"
     ]
    }
   ],
   "execution_count": 1
  },
  {
   "cell_type": "code",
   "id": "initial_id",
   "metadata": {
    "collapsed": true,
    "ExecuteTime": {
     "end_time": "2025-06-02T13:49:41.978564Z",
     "start_time": "2025-06-02T13:49:41.974431Z"
    }
   },
   "source": [
    "dir_base = '/gws/nopw/j04/global_ex/jamd1/era5/'\n",
    "dir_t500 = os.path.join(dir_base, 'daily_mean', 't500')\n",
    "dir_z500 = os.path.join(dir_base, 'daily_mean', 'z500')\n",
    "dir_sp = os.path.join(dir_base, 'daily_mean', 'sp')\n",
    "dir_t2m = {key: os.path.join(dir_base, f'daily_{key}', 't2m') for key in ['mean', 'max']}"
   ],
   "outputs": [],
   "execution_count": 2
  },
  {
   "metadata": {
    "ExecuteTime": {
     "end_time": "2025-06-02T13:49:42.183969Z",
     "start_time": "2025-06-02T13:49:42.182063Z"
    }
   },
   "cell_type": "code",
   "source": "t2m_av_use = 'mean'     # get variables conditioned on annual maximum of daily max or mean temperature",
   "id": "ce26912e595fd90d",
   "outputs": [],
   "execution_count": 3
  },
  {
   "metadata": {
    "ExecuteTime": {
     "end_time": "2025-06-02T13:49:42.250703Z",
     "start_time": "2025-06-02T13:49:42.245647Z"
    }
   },
   "cell_type": "code",
   "source": [
    "@jit\n",
    "def _at_t2m_max_ufunc(t2m,y):\n",
    "    return y[np.argmax(t2m)]\n",
    "\n",
    "def xr_at_t2m_max(t2m,y): # Find the level of a variable on the annual hottest day for each location\n",
    "    return xr.apply_ufunc(_at_t2m_max_ufunc, t2m, y,\n",
    "                          input_core_dims=[['time'],['time']], dask ='parallelized', vectorize=True, output_dtypes=[y.dtype])"
   ],
   "id": "48296f83ce6faf87",
   "outputs": [],
   "execution_count": 4
  },
  {
   "metadata": {
    "ExecuteTime": {
     "end_time": "2025-06-02T13:49:42.312380Z",
     "start_time": "2025-06-02T13:49:42.310266Z"
    }
   },
   "cell_type": "code",
   "source": [
    "def load_ds(path, rename_valid_time=True):\n",
    "    # The t500 dataset has time as `valid_time` rather than `time`. Deal with this\n",
    "    ds = xr.open_mfdataset(path)\n",
    "    if rename_valid_time and 'valid_time' in ds.dims:\n",
    "        ds = ds.rename({'valid_time': 'time'})\n",
    "    return ds"
   ],
   "id": "58d6b7dd995762fd",
   "outputs": [],
   "execution_count": 5
  },
  {
   "metadata": {
    "ExecuteTime": {
     "end_time": "2025-06-02T14:26:07.541248Z",
     "start_time": "2025-06-02T13:50:43.141093Z"
    }
   },
   "cell_type": "code",
   "source": [
    "# For each year, load in data, compute day with max t2m, and output t500 on this day as well as the index of this day\n",
    "var_input_dir = {'t2m': dir_t2m[t2m_av_use], 't500': dir_t500}\n",
    "var_id = {'t2m': 't2m', 't500': 't'}    # name of var within input directory\n",
    "\n",
    "var_out = {key: [] for key in ['t2m', 't500', 'day_ind']}\n",
    "for year in tqdm(range(1979, 2022)):\n",
    "    var_in_use = {key: load_ds(f\"{var_input_dir[key]}/{year}.nc\").chunk(dict(time=-1))[var_id[key]] for key in var_input_dir}\n",
    "    var_in_use['day_ind'] = np.arange(var_in_use['t2m'].time.size)\n",
    "    for key in var_out:\n",
    "        var_out_use = xr_at_t2m_max(var_in_use['t2m'], var_in_use[key]).compute()\n",
    "        var_out_use = var_out_use.expand_dims(year=[year])\n",
    "        var_out[key].append(var_out_use)"
   ],
   "id": "9eb35061ba6bba45",
   "outputs": [
    {
     "data": {
      "text/plain": [
       "  0%|          | 0/43 [00:00<?, ?it/s]"
      ],
      "application/vnd.jupyter.widget-view+json": {
       "version_major": 2,
       "version_minor": 0,
       "model_id": "1253f28cafa34f0a8c0a1257e275383b"
      }
     },
     "metadata": {},
     "output_type": "display_data"
    }
   ],
   "execution_count": 7
  },
  {
   "metadata": {
    "ExecuteTime": {
     "end_time": "2025-06-02T14:26:07.628451Z",
     "start_time": "2025-06-02T14:26:07.626218Z"
    }
   },
   "cell_type": "code",
   "source": [
    "def set_attrs(var, long_name, units, description):\n",
    "    # Function to set main attributes of given variable\n",
    "    var.attrs['long_name'] = long_name\n",
    "    var.attrs['units'] = units\n",
    "    var.attrs['description'] = description\n",
    "    return var"
   ],
   "id": "8752adc130cf488b",
   "outputs": [],
   "execution_count": 8
  },
  {
   "metadata": {
    "ExecuteTime": {
     "end_time": "2025-06-02T14:26:14.865349Z",
     "start_time": "2025-06-02T14:26:07.702911Z"
    }
   },
   "cell_type": "code",
   "source": [
    "# Save data for all years in a single file for each variable\n",
    "complevel = 4           # how much to compress by\n",
    "var_out_file_name = {'t2m': 't2m_max', 't500': 't500_of_t2m_max', 'day_ind': 'day_ind_of_t2m_max'}\n",
    "var_out_path = {key: f'/home/users/jamd1/Isca/jobs/era5/zhang_2023/processed/daily_{t2m_av_use}/{var_out_file_name[key]}.nc' for key in var_in_use}\n",
    "var_out_attrs = {'t2m': {'long_name': var_in_use['t2m'].long_name, 'units': var_in_use['t2m'].units,\n",
    "                         'description': f'Max of daily {t2m_av_use} 2m temperature in a given year.'},\n",
    "                 't500': {'long_name': '500hPa temperature', 'units': 'K',\n",
    "                          'description': f'500 hPa temperature on day with maximum daily {t2m_av_use} 2m temperature in a given year.'},\n",
    "                 'day_ind': {'long_name': 'Day index', 'units': 'Day',\n",
    "                              'description': f'Day (0 is Jan 1st) with maximum daily {t2m_av_use} 2m temperature in a given year.'}\n",
    "                 }\n",
    "for key in var_out_path:\n",
    "    var_use = xr.concat(var_out[key], dim='year')\n",
    "    if key == 'day_ind':\n",
    "        # time ind has max value of 365 so can use int16\n",
    "        var_use = var_use.astype('int16')\n",
    "    var_use = set_attrs(var_use, var_out_attrs[key]['long_name'], var_out_attrs[key]['units'], var_out_attrs[key]['description'])\n",
    "    var_use = xr.Dataset({key: var_use})    # make sure save as dataset rather than data array\n",
    "    encoding = {var: {'zlib': True, 'complevel': complevel} for var in var_use.data_vars}\n",
    "    var_use.to_netcdf(var_out_path[key], encoding=encoding)"
   ],
   "id": "823b5512577a7ca8",
   "outputs": [],
   "execution_count": 9
  }
 ],
 "metadata": {
  "kernelspec": {
   "display_name": "Python 3",
   "language": "python",
   "name": "python3"
  },
  "language_info": {
   "codemirror_mode": {
    "name": "ipython",
    "version": 2
   },
   "file_extension": ".py",
   "mimetype": "text/x-python",
   "name": "python",
   "nbconvert_exporter": "python",
   "pygments_lexer": "ipython2",
   "version": "2.7.6"
  }
 },
 "nbformat": 4,
 "nbformat_minor": 5
}
