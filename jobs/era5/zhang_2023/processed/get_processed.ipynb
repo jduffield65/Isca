{
 "cells": [
  {
   "metadata": {},
   "cell_type": "markdown",
   "source": [
    "## Get Max Variables\n",
    "This notebook takes raw daily data and output variables conditioned on maximum t2m across each year.\n",
    "\n",
    "Have option to condition on daily mean or daily maximum `t2m` through the `t2m_av_use` variable. Zhang 2023 used daily maximum"
   ],
   "id": "8d40f1ff8cb3c4f2"
  },
  {
   "metadata": {
    "ExecuteTime": {
     "end_time": "2025-06-03T11:26:45.158623Z",
     "start_time": "2025-06-03T11:26:41.606869Z"
    }
   },
   "cell_type": "code",
   "source": [
    "import os\n",
    "import xarray as xr\n",
    "import numpy as np\n",
    "from numba import jit\n",
    "from tqdm.notebook import tqdm\n",
    "from isca_tools.utils.moist_physics import sphum_from_dew\n",
    "print(os.getcwd())"
   ],
   "id": "def2da466b67974a",
   "outputs": [
    {
     "name": "stdout",
     "output_type": "stream",
     "text": [
      "/home/users/jamd1/Isca\n"
     ]
    }
   ],
   "execution_count": 1
  },
  {
   "cell_type": "code",
   "id": "initial_id",
   "metadata": {
    "collapsed": true,
    "ExecuteTime": {
     "end_time": "2025-06-03T11:26:45.205791Z",
     "start_time": "2025-06-03T11:26:45.201162Z"
    }
   },
   "source": [
    "dir_base = '/gws/nopw/j04/global_ex/jamd1/era5/'\n",
    "dir_t500 = os.path.join(dir_base, 'daily_mean', 't500')\n",
    "dir_z500 = os.path.join(dir_base, 'daily_mean', 'z500')\n",
    "dir_sp = os.path.join(dir_base, 'daily_mean', 'sp')\n",
    "dir_d2m = os.path.join(dir_base, 'daily_mean', 'd2m')\n",
    "dir_t2m = {key: os.path.join(dir_base, f'daily_{key}', 't2m') for key in ['mean', 'max']}"
   ],
   "outputs": [],
   "execution_count": 2
  },
  {
   "metadata": {
    "ExecuteTime": {
     "end_time": "2025-06-03T11:26:45.501751Z",
     "start_time": "2025-06-03T11:26:45.499330Z"
    }
   },
   "cell_type": "code",
   "source": "t2m_av_use = 'mean'     # get variables conditioned on annual maximum of daily max or mean temperature",
   "id": "ce26912e595fd90d",
   "outputs": [],
   "execution_count": 3
  },
  {
   "metadata": {
    "ExecuteTime": {
     "end_time": "2025-06-03T11:26:45.579699Z",
     "start_time": "2025-06-03T11:26:45.572804Z"
    }
   },
   "cell_type": "code",
   "source": [
    "@jit\n",
    "def _at_t2m_max_ufunc(t2m,y):\n",
    "    return y[np.argmax(t2m)]\n",
    "\n",
    "def xr_at_t2m_max(t2m,y): # Find the level of a variable on the annual hottest day for each location\n",
    "    return xr.apply_ufunc(_at_t2m_max_ufunc, t2m, y,\n",
    "                          input_core_dims=[['time'],['time']], dask ='parallelized', vectorize=True, output_dtypes=[y.dtype])"
   ],
   "id": "48296f83ce6faf87",
   "outputs": [],
   "execution_count": 4
  },
  {
   "metadata": {
    "ExecuteTime": {
     "end_time": "2025-06-03T11:26:45.658952Z",
     "start_time": "2025-06-03T11:26:45.655812Z"
    }
   },
   "cell_type": "code",
   "source": [
    "def load_ds(path, rename_valid_time=True):\n",
    "    # The t500 dataset has time as `valid_time` rather than `time`. Deal with this\n",
    "    ds = xr.open_mfdataset(path)\n",
    "    if rename_valid_time and 'valid_time' in ds.dims:\n",
    "        ds = ds.rename({'valid_time': 'time'})\n",
    "    return ds"
   ],
   "id": "58d6b7dd995762fd",
   "outputs": [],
   "execution_count": 5
  },
  {
   "metadata": {
    "jupyter": {
     "is_executing": true
    },
    "ExecuteTime": {
     "start_time": "2025-06-03T11:26:45.720710Z"
    }
   },
   "cell_type": "code",
   "source": [
    "# For each year, load in data, compute day with max t2m, and output t500 on this day as well as the index of this day\n",
    "var_input_dir = {'t2m': dir_t2m[t2m_av_use], 't500': dir_t500, 'sp': dir_sp, 'd2m': dir_d2m, 'day_ind': None}\n",
    "var_id = {'t2m': 't2m', 't500': 't', 'sp': 'sp', 'd2m': 'd2m'}    # name of var within input directory\n",
    "\n",
    "var_out_file_name = {var: f\"{var}_{'max' if var=='t2m' else 'of_t2m_max'}\" for var in var_input_dir}\n",
    "var_out_path = {key: f'/home/users/jamd1/Isca/jobs/era5/zhang_2023/processed/daily_{t2m_av_use}/{var_out_file_name[key]}.nc' for key in var_out_file_name}\n",
    "var_out = {key: [] for key in var_out_path}\n",
    "var_save = {var: True for var in var_out_path}\n",
    "for var in var_save:\n",
    "    if os.path.exists(var_out_path[var]):\n",
    "        print(f'Data for {var} already exists, will skip')\n",
    "        var_save[var] = False\n",
    "    else:\n",
    "        print(f\"Data for {var} does not exist, will create it\")\n",
    "if all(not v for v in var_save.values()):\n",
    "    raise ValueError('Data exists for all variables')\n",
    "\n",
    "for year in tqdm(range(2011, 2012)):\n",
    "    # Only load in t2m data, or data that needs to be saved, and that we have raw data for\n",
    "    var_in_use = {key: load_ds(f\"{var_input_dir[key]}/{year}.nc\").chunk(dict(time=-1))[var_id[key]]\n",
    "                  for key in var_input_dir if (key=='t2m' or var_save[key]) and (var_input_dir[key] is not None)}\n",
    "    var_in_use['day_ind'] = np.arange(var_in_use['t2m'].time.size)   # varies as some years are leap years\n",
    "    for key in var_out:\n",
    "        if not var_save[key]:\n",
    "            continue\n",
    "        var_out_use = xr_at_t2m_max(var_in_use['t2m'], var_in_use[key]).compute()\n",
    "        var_out_use = var_out_use.expand_dims(year=[year])\n",
    "        var_out[key].append(var_out_use)"
   ],
   "id": "9eb35061ba6bba45",
   "outputs": [
    {
     "name": "stdout",
     "output_type": "stream",
     "text": [
      "Data for t2m already exists, will skip\n",
      "Data for t500 already exists, will skip\n",
      "Data for sp does not exist, will create it\n",
      "Data for d2m does not exist, will create it\n",
      "Data for day_ind already exists, will skip\n"
     ]
    },
    {
     "data": {
      "text/plain": [
       "  0%|          | 0/1 [00:00<?, ?it/s]"
      ],
      "application/vnd.jupyter.widget-view+json": {
       "version_major": 2,
       "version_minor": 0,
       "model_id": "bf875ab3e5674504965a19c14d88e986"
      }
     },
     "metadata": {},
     "output_type": "display_data"
    }
   ],
   "execution_count": null
  },
  {
   "metadata": {
    "ExecuteTime": {
     "end_time": "2025-06-03T11:22:41.733858Z",
     "start_time": "2025-06-03T11:22:41.731679Z"
    }
   },
   "cell_type": "code",
   "source": [
    "for key in ['sp', 'd2m']:\n",
    "    var_out[key] = var_out_prior2011[key] + var_out_2011[key] + var_out_post2011[key]"
   ],
   "id": "a5d7debb70b79934",
   "outputs": [],
   "execution_count": 26
  },
  {
   "metadata": {
    "ExecuteTime": {
     "end_time": "2025-06-03T11:23:06.052309Z",
     "start_time": "2025-06-03T11:23:06.048045Z"
    }
   },
   "cell_type": "code",
   "source": [
    "def set_attrs(var, long_name, units, description):\n",
    "    # Function to set main attributes of given variable\n",
    "    var.attrs['long_name'] = long_name\n",
    "    var.attrs['units'] = units\n",
    "    var.attrs['description'] = description\n",
    "    return var"
   ],
   "id": "8752adc130cf488b",
   "outputs": [],
   "execution_count": 31
  },
  {
   "metadata": {
    "ExecuteTime": {
     "end_time": "2025-06-03T11:23:58.312073Z",
     "start_time": "2025-06-03T11:23:58.280513Z"
    }
   },
   "cell_type": "code",
   "source": [
    "# Save data for all years in a single file for each variable\n",
    "complevel = 4           # how much to compress by\n",
    "var_out_attrs = {'t2m': {'long_name': var_in_use['t2m'].long_name, 'units': var_in_use['t2m'].units,\n",
    "                         'description': f'Max of daily {t2m_av_use} 2m temperature in a given year.'},\n",
    "                 't500': {'long_name': '500hPa temperature', 'units': 'K',\n",
    "                          'description': f'500 hPa temperature on day with maximum daily {t2m_av_use} 2m temperature in a given year.'},\n",
    "                 'day_ind': {'long_name': 'Day index', 'units': 'Day',\n",
    "                              'description': f'Day (0 is Jan 1st) with maximum daily {t2m_av_use} 2m temperature in a given year.'},\n",
    "                 'sp': {'long_name': var_in_use['sp'].long_name, 'units': var_in_use['sp'].long_name,\n",
    "                        'description': f'Surface pressure on day with maximum daily {t2m_av_use} 2m temperature in a given year.'},\n",
    "                 'd2m': {'long_name': var_in_use['d2m'].long_name, 'units': var_in_use['d2m'].long_name,\n",
    "                        'description': f'2m dew temperature on day with maximum daily {t2m_av_use} 2m temperature in a given year.'},\n",
    "                 }\n",
    "for key in var_out_path:\n",
    "    if not var_save[key]:\n",
    "        continue\n",
    "    if os.path.exists(var_out_path[key]):\n",
    "        raise ValueError(f'Data exists for var={key} at\\n{var_out_path[key]}')\n",
    "    var_use = xr.concat(var_out[key], dim='year')\n",
    "    if key == 'day_ind':\n",
    "        # time ind has max value of 365 so can use int16\n",
    "        var_use = var_use.astype('int16')\n",
    "    var_use = set_attrs(var_use, var_out_attrs[key]['long_name'], var_out_attrs[key]['units'], var_out_attrs[key]['description'])\n",
    "    var_use = xr.Dataset({key: var_use})    # make sure save as dataset rather than data array\n",
    "    encoding = {var: {'zlib': True, 'complevel': complevel} for var in var_use.data_vars}\n",
    "    var_use.to_netcdf(var_out_path[key], encoding=encoding)\n",
    "    print(f'{key} data has been saved at:\\n{var_out_path[key]}')"
   ],
   "id": "823b5512577a7ca8",
   "outputs": [
    {
     "ename": "ValueError",
     "evalue": "Data exists for var=sp at\n/home/users/jamd1/Isca/jobs/era5/zhang_2023/processed/daily_max/sp_of_t2m_max.nc",
     "output_type": "error",
     "traceback": [
      "\u001B[31m---------------------------------------------------------------------------\u001B[39m",
      "\u001B[31mValueError\u001B[39m                                Traceback (most recent call last)",
      "\u001B[36mCell\u001B[39m\u001B[36m \u001B[39m\u001B[32mIn[33]\u001B[39m\u001B[32m, line 18\u001B[39m\n\u001B[32m     16\u001B[39m     \u001B[38;5;28;01mcontinue\u001B[39;00m\n\u001B[32m     17\u001B[39m \u001B[38;5;28;01mif\u001B[39;00m os.path.exists(var_out_path[key]):\n\u001B[32m---> \u001B[39m\u001B[32m18\u001B[39m     \u001B[38;5;28;01mraise\u001B[39;00m \u001B[38;5;167;01mValueError\u001B[39;00m(\u001B[33mf\u001B[39m\u001B[33m'\u001B[39m\u001B[33mData exists for var=\u001B[39m\u001B[38;5;132;01m{\u001B[39;00mkey\u001B[38;5;132;01m}\u001B[39;00m\u001B[33m at\u001B[39m\u001B[38;5;130;01m\\n\u001B[39;00m\u001B[38;5;132;01m{\u001B[39;00mvar_out_path[key]\u001B[38;5;132;01m}\u001B[39;00m\u001B[33m'\u001B[39m)\n\u001B[32m     19\u001B[39m var_use = xr.concat(var_out[key], dim=\u001B[33m'\u001B[39m\u001B[33myear\u001B[39m\u001B[33m'\u001B[39m)\n\u001B[32m     20\u001B[39m \u001B[38;5;28;01mif\u001B[39;00m key == \u001B[33m'\u001B[39m\u001B[33mday_ind\u001B[39m\u001B[33m'\u001B[39m:\n\u001B[32m     21\u001B[39m     \u001B[38;5;66;03m# time ind has max value of 365 so can use int16\u001B[39;00m\n",
      "\u001B[31mValueError\u001B[39m: Data exists for var=sp at\n/home/users/jamd1/Isca/jobs/era5/zhang_2023/processed/daily_max/sp_of_t2m_max.nc"
     ]
    }
   ],
   "execution_count": 33
  },
  {
   "metadata": {},
   "cell_type": "code",
   "outputs": [],
   "execution_count": null,
   "source": "",
   "id": "ac1246a48f7d790d"
  }
 ],
 "metadata": {
  "kernelspec": {
   "display_name": "Python 3",
   "language": "python",
   "name": "python3"
  },
  "language_info": {
   "codemirror_mode": {
    "name": "ipython",
    "version": 2
   },
   "file_extension": ".py",
   "mimetype": "text/x-python",
   "name": "python",
   "nbconvert_exporter": "python",
   "pygments_lexer": "ipython2",
   "version": "2.7.6"
  }
 },
 "nbformat": 4,
 "nbformat_minor": 5
}
