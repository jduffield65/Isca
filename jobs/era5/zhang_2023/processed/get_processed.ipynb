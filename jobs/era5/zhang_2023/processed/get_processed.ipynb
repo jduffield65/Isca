{
 "cells": [
  {
   "metadata": {},
   "cell_type": "markdown",
   "source": [
    "## Get Max Variables\n",
    "This notebook takes raw daily data and output variables conditioned on maximum t2m across each year.\n",
    "\n",
    "Have option to condition on daily mean or daily maximum `t2m` through the `t2m_av_use` variable. Zhang 2023 used daily maximum"
   ],
   "id": "8d40f1ff8cb3c4f2"
  },
  {
   "metadata": {
    "ExecuteTime": {
     "end_time": "2025-06-03T16:15:39.514130Z",
     "start_time": "2025-06-03T16:15:22.598813Z"
    }
   },
   "cell_type": "code",
   "source": [
    "import os\n",
    "import xarray as xr\n",
    "import numpy as np\n",
    "from numba import jit\n",
    "from tqdm.notebook import tqdm\n",
    "from isca_tools.utils.moist_physics import sphum_from_dew\n",
    "print(os.getcwd())"
   ],
   "id": "def2da466b67974a",
   "outputs": [
    {
     "name": "stdout",
     "output_type": "stream",
     "text": [
      "/home/users/jamd1/Isca\n"
     ]
    }
   ],
   "execution_count": 1
  },
  {
   "cell_type": "code",
   "id": "initial_id",
   "metadata": {
    "collapsed": true,
    "ExecuteTime": {
     "end_time": "2025-06-03T16:15:40.011514Z",
     "start_time": "2025-06-03T16:15:40.009036Z"
    }
   },
   "source": [
    "dir_base = '/gws/nopw/j04/global_ex/jamd1/era5/'\n",
    "dir_t500 = os.path.join(dir_base, 'daily_mean', 't500')\n",
    "dir_z500 = os.path.join(dir_base, 'daily_mean', 'z500')\n",
    "dir_sp = os.path.join(dir_base, 'daily_mean', 'sp')\n",
    "dir_d2m = os.path.join(dir_base, 'daily_mean', 'd2m')\n",
    "dir_t2m = {key: os.path.join(dir_base, f'daily_{key}', 't2m') for key in ['mean', 'max']}\n",
    "\n",
    "complevel = 4           # how much to compress by when saving"
   ],
   "outputs": [],
   "execution_count": 2
  },
  {
   "metadata": {
    "ExecuteTime": {
     "end_time": "2025-06-03T16:15:49.994157Z",
     "start_time": "2025-06-03T16:15:49.992194Z"
    }
   },
   "cell_type": "code",
   "source": "t2m_av_use = 'max'     # get variables conditioned on annual maximum of daily max or mean temperature",
   "id": "ce26912e595fd90d",
   "outputs": [],
   "execution_count": 6
  },
  {
   "metadata": {
    "ExecuteTime": {
     "end_time": "2025-06-03T16:15:48.417566Z",
     "start_time": "2025-06-03T16:15:48.412255Z"
    }
   },
   "cell_type": "code",
   "source": [
    "@jit\n",
    "def _at_t2m_max_ufunc(t2m,y):\n",
    "    return y[np.argmax(t2m)]\n",
    "\n",
    "def xr_at_t2m_max(t2m,y): # Find the level of a variable on the annual hottest day for each location\n",
    "    return xr.apply_ufunc(_at_t2m_max_ufunc, t2m, y,\n",
    "                          input_core_dims=[['time'],['time']], dask ='parallelized', vectorize=True, output_dtypes=[y.dtype])"
   ],
   "id": "48296f83ce6faf87",
   "outputs": [],
   "execution_count": 5
  },
  {
   "metadata": {
    "ExecuteTime": {
     "end_time": "2025-06-03T16:15:47.436861Z",
     "start_time": "2025-06-03T16:15:47.434422Z"
    }
   },
   "cell_type": "code",
   "source": [
    "def load_ds(path, rename_valid_time=True):\n",
    "    # The t500 dataset has time as `valid_time` rather than `time`. Deal with this\n",
    "    ds = xr.open_mfdataset(path)\n",
    "    if rename_valid_time and 'valid_time' in ds.dims:\n",
    "        ds = ds.rename({'valid_time': 'time'})\n",
    "    return ds"
   ],
   "id": "58d6b7dd995762fd",
   "outputs": [],
   "execution_count": 4
  },
  {
   "metadata": {
    "ExecuteTime": {
     "end_time": "2025-06-03T15:52:07.646452Z",
     "start_time": "2025-06-03T15:52:07.548576Z"
    }
   },
   "cell_type": "code",
   "source": [
    "# For each year, load in data, compute day with max t2m, and output t500 on this day as well as the index of this day\n",
    "var_input_dir = {'t2m': dir_t2m[t2m_av_use], 't500': dir_t500, 'sp': dir_sp, 'd2m': dir_d2m, 'day_ind': None}\n",
    "var_id = {'t2m': 't2m', 't500': 't', 'sp': 'sp', 'd2m': 'd2m'}    # name of var within input directory\n",
    "\n",
    "var_out_file_name = {var: f\"{var}_{'max' if var=='t2m' else 'of_t2m_max'}\" for var in var_input_dir}\n",
    "var_out_path = {key: f'/home/users/jamd1/Isca/jobs/era5/zhang_2023/processed/daily_{t2m_av_use}/{var_out_file_name[key]}.nc' for key in var_out_file_name}\n",
    "var_out = {key: [] for key in var_out_path}\n",
    "var_save = {var: True for var in var_out_path}\n",
    "for var in var_save:\n",
    "    if os.path.exists(var_out_path[var]):\n",
    "        print(f'Data for {var} already exists, will skip')\n",
    "        var_save[var] = False\n",
    "    else:\n",
    "        print(f\"Data for {var} does not exist, will create it\")\n",
    "if all(not v for v in var_save.values()):\n",
    "    raise ValueError('Data exists for all variables')\n",
    "\n",
    "for year in tqdm(range(1979, 2022)):\n",
    "    # Only load in t2m data, or data that needs to be saved, and that we have raw data for\n",
    "    var_in_use = {key: load_ds(f\"{var_input_dir[key]}/{year}.nc\").chunk(dict(time=-1))[var_id[key]]\n",
    "                  for key in var_input_dir if (key=='t2m' or var_save[key]) and (var_input_dir[key] is not None)}\n",
    "    var_in_use['day_ind'] = np.arange(var_in_use['t2m'].time.size)   # varies as some years are leap years\n",
    "    for key in var_out:\n",
    "        if not var_save[key]:\n",
    "            continue\n",
    "        var_out_use = xr_at_t2m_max(var_in_use['t2m'], var_in_use[key]).compute()\n",
    "        var_out_use = var_out_use.expand_dims(year=[year])\n",
    "        var_out[key].append(var_out_use)"
   ],
   "id": "9eb35061ba6bba45",
   "outputs": [
    {
     "name": "stdout",
     "output_type": "stream",
     "text": [
      "Data for t2m already exists, will skip\n",
      "Data for t500 already exists, will skip\n",
      "Data for sp already exists, will skip\n",
      "Data for d2m already exists, will skip\n",
      "Data for day_ind already exists, will skip\n"
     ]
    },
    {
     "ename": "ValueError",
     "evalue": "Data exists for all variables",
     "output_type": "error",
     "traceback": [
      "\u001B[31m---------------------------------------------------------------------------\u001B[39m",
      "\u001B[31mValueError\u001B[39m                                Traceback (most recent call last)",
      "\u001B[36mCell\u001B[39m\u001B[36m \u001B[39m\u001B[32mIn[7]\u001B[39m\u001B[32m, line 16\u001B[39m\n\u001B[32m     14\u001B[39m         \u001B[38;5;28mprint\u001B[39m(\u001B[33mf\u001B[39m\u001B[33m\"\u001B[39m\u001B[33mData for \u001B[39m\u001B[38;5;132;01m{\u001B[39;00mvar\u001B[38;5;132;01m}\u001B[39;00m\u001B[33m does not exist, will create it\u001B[39m\u001B[33m\"\u001B[39m)\n\u001B[32m     15\u001B[39m \u001B[38;5;28;01mif\u001B[39;00m \u001B[38;5;28mall\u001B[39m(\u001B[38;5;129;01mnot\u001B[39;00m v \u001B[38;5;28;01mfor\u001B[39;00m v \u001B[38;5;129;01min\u001B[39;00m var_save.values()):\n\u001B[32m---> \u001B[39m\u001B[32m16\u001B[39m     \u001B[38;5;28;01mraise\u001B[39;00m \u001B[38;5;167;01mValueError\u001B[39;00m(\u001B[33m'\u001B[39m\u001B[33mData exists for all variables\u001B[39m\u001B[33m'\u001B[39m)\n\u001B[32m     18\u001B[39m \u001B[38;5;28;01mfor\u001B[39;00m year \u001B[38;5;129;01min\u001B[39;00m tqdm(\u001B[38;5;28mrange\u001B[39m(\u001B[32m1979\u001B[39m, \u001B[32m2022\u001B[39m)):\n\u001B[32m     19\u001B[39m     \u001B[38;5;66;03m# Only load in t2m data, or data that needs to be saved, and that we have raw data for\u001B[39;00m\n\u001B[32m     20\u001B[39m     var_in_use = {key: load_ds(\u001B[33mf\u001B[39m\u001B[33m\"\u001B[39m\u001B[38;5;132;01m{\u001B[39;00mvar_input_dir[key]\u001B[38;5;132;01m}\u001B[39;00m\u001B[33m/\u001B[39m\u001B[38;5;132;01m{\u001B[39;00myear\u001B[38;5;132;01m}\u001B[39;00m\u001B[33m.nc\u001B[39m\u001B[33m\"\u001B[39m).chunk(\u001B[38;5;28mdict\u001B[39m(time=-\u001B[32m1\u001B[39m))[var_id[key]]\n\u001B[32m     21\u001B[39m                   \u001B[38;5;28;01mfor\u001B[39;00m key \u001B[38;5;129;01min\u001B[39;00m var_input_dir \u001B[38;5;28;01mif\u001B[39;00m (key==\u001B[33m'\u001B[39m\u001B[33mt2m\u001B[39m\u001B[33m'\u001B[39m \u001B[38;5;129;01mor\u001B[39;00m var_save[key]) \u001B[38;5;129;01mand\u001B[39;00m (var_input_dir[key] \u001B[38;5;129;01mis\u001B[39;00m \u001B[38;5;129;01mnot\u001B[39;00m \u001B[38;5;28;01mNone\u001B[39;00m)}\n",
      "\u001B[31mValueError\u001B[39m: Data exists for all variables"
     ]
    }
   ],
   "execution_count": 7
  },
  {
   "metadata": {
    "ExecuteTime": {
     "end_time": "2025-06-03T15:52:10.141171Z",
     "start_time": "2025-06-03T15:52:10.138592Z"
    }
   },
   "cell_type": "code",
   "source": [
    "def set_attrs(var, long_name, units, description):\n",
    "    # Function to set main attributes of given variable\n",
    "    var.attrs['long_name'] = long_name\n",
    "    var.attrs['units'] = units\n",
    "    var.attrs['description'] = description\n",
    "    return var"
   ],
   "id": "8752adc130cf488b",
   "outputs": [],
   "execution_count": 8
  },
  {
   "metadata": {
    "ExecuteTime": {
     "end_time": "2025-06-03T13:18:15.771930Z",
     "start_time": "2025-06-03T13:18:10.067144Z"
    }
   },
   "cell_type": "code",
   "source": [
    "# Save data for all years in a single file for each variable\n",
    "var_out_attrs = {'t2m': {'long_name': var_in_use['t2m'].long_name, 'units': var_in_use['t2m'].units,\n",
    "                         'description': f'Max of daily {t2m_av_use} 2m temperature in a given year.'},\n",
    "                 't500': {'long_name': '500hPa temperature', 'units': 'K',\n",
    "                          'description': f'500 hPa temperature on day with maximum daily {t2m_av_use} 2m temperature in a given year.'},\n",
    "                 'day_ind': {'long_name': 'Day index', 'units': 'Day',\n",
    "                              'description': f'Day (0 is Jan 1st) with maximum daily {t2m_av_use} 2m temperature in a given year.'},\n",
    "                 'sp': {'long_name': var_in_use['sp'].long_name, 'units': var_in_use['sp'].long_name,\n",
    "                        'description': f'Surface pressure on day with maximum daily {t2m_av_use} 2m temperature in a given year.'},\n",
    "                 'd2m': {'long_name': var_in_use['d2m'].long_name, 'units': var_in_use['d2m'].long_name,\n",
    "                        'description': f'2m dew temperature on day with maximum daily {t2m_av_use} 2m temperature in a given year.'},\n",
    "                 }\n",
    "for key in var_out_path:\n",
    "    if not var_save[key]:\n",
    "        continue\n",
    "    if os.path.exists(var_out_path[key]):\n",
    "        raise ValueError(f'Data exists for var={key} at\\n{var_out_path[key]}')\n",
    "    var_use = xr.concat(var_out[key], dim='year')\n",
    "    if key == 'day_ind':\n",
    "        # time ind has max value of 365 so can use int16\n",
    "        var_use = var_use.astype('int16')\n",
    "    var_use = set_attrs(var_use, var_out_attrs[key]['long_name'], var_out_attrs[key]['units'], var_out_attrs[key]['description'])\n",
    "    var_use = xr.Dataset({key: var_use})    # make sure save as dataset rather than data array\n",
    "    encoding = {var: {'zlib': True, 'complevel': complevel} for var in var_use.data_vars}\n",
    "    var_use.to_netcdf(var_out_path[key], encoding=encoding)\n",
    "    print(f'{key} data has been saved at:\\n{var_out_path[key]}')"
   ],
   "id": "823b5512577a7ca8",
   "outputs": [
    {
     "name": "stdout",
     "output_type": "stream",
     "text": [
      "sp data has been saved at:\n",
      "/home/users/jamd1/Isca/jobs/era5/zhang_2023/processed/daily_mean/sp_of_t2m_max.nc\n",
      "d2m data has been saved at:\n",
      "/home/users/jamd1/Isca/jobs/era5/zhang_2023/processed/daily_mean/d2m_of_t2m_max.nc\n"
     ]
    }
   ],
   "execution_count": 10
  },
  {
   "metadata": {},
   "cell_type": "markdown",
   "source": [
    "### Annual Mean 2m Specific Humidity\n",
    "Below I compute the annual mean specific humidity at each grid point from the daily average values."
   ],
   "id": "65cd09c23476f1da"
  },
  {
   "metadata": {
    "jupyter": {
     "is_executing": true
    },
    "ExecuteTime": {
     "start_time": "2025-06-03T16:15:52.742906Z"
    }
   },
   "cell_type": "code",
   "source": [
    "q2m_out = []\n",
    "for year in tqdm(range(1979, 2022)):\n",
    "    d2m_use = load_ds(f\"{dir_d2m}/{year}.nc\").d2m\n",
    "    sp_use = load_ds(f\"{dir_sp}/{year}.nc\").sp\n",
    "    q2m_use = sphum_from_dew(d2m_use, sp_use)\n",
    "    q2m_use = q2m_use.mean(dim='time').compute()\n",
    "    q2m_use = q2m_use.expand_dims(year=[year])\n",
    "    q2m_out.append(q2m_use)"
   ],
   "id": "ac1246a48f7d790d",
   "outputs": [
    {
     "data": {
      "text/plain": [
       "  0%|          | 0/43 [00:00<?, ?it/s]"
      ],
      "application/vnd.jupyter.widget-view+json": {
       "version_major": 2,
       "version_minor": 0,
       "model_id": "f4c688ac0fe64e41b1c69eaf76a7fdad"
      }
     },
     "metadata": {},
     "output_type": "display_data"
    }
   ],
   "execution_count": null
  },
  {
   "metadata": {
    "ExecuteTime": {
     "end_time": "2025-06-03T16:14:36.102567Z",
     "start_time": "2025-06-03T16:04:51.919505Z"
    }
   },
   "cell_type": "code",
   "source": [
    "var_use = xr.concat(q2m_out, dim='year')\n",
    "var_use = set_attrs(var_use, '2m specific humidity', 'kg/kg', 'Annual mean 2m specific humidity')\n",
    "var_use = xr.Dataset({'q2m': var_use})    # make sure save as dataset rather than data array\n",
    "encoding = {var: {'zlib': True, 'complevel': complevel} for var in var_use.data_vars}\n",
    "q2m_out_path = \"/home/users/jamd1/Isca/jobs/era5/zhang_2023/processed/q2m_annual_mean.nc\"\n",
    "if os.path.exists(q2m_out_path):\n",
    "    raise ValueError(f'Annual mean q2m data already exists at \\n{q2m_out_path}')\n",
    "else:\n",
    "    var_use.to_netcdf(q2m_out_path, encoding=encoding)\n",
    "    print(f'Annual mean q2m data has been saved at:\\n{q2m_out_path}')"
   ],
   "id": "5c2be6c03b84303c",
   "outputs": [
    {
     "name": "stderr",
     "output_type": "stream",
     "text": [
      "Exception ignored in: <bound method IPythonKernel._clean_thread_parent_frames of <ipykernel.ipkernel.IPythonKernel object at 0x7f735aa50fd0>>\n",
      "Traceback (most recent call last):\n",
      "  File \"/home/users/jamd1/miniforge3/envs/myenv/lib/python3.11/site-packages/ipykernel/ipkernel.py\", line 775, in _clean_thread_parent_frames\n",
      "    def _clean_thread_parent_frames(\n",
      "\n",
      "KeyboardInterrupt: \n",
      "\n",
      "KeyboardInterrupt\n",
      "\n"
     ]
    }
   ],
   "execution_count": 31
  },
  {
   "metadata": {},
   "cell_type": "code",
   "outputs": [],
   "execution_count": null,
   "source": "",
   "id": "a923e663308a5926"
  }
 ],
 "metadata": {
  "kernelspec": {
   "display_name": "Python 3",
   "language": "python",
   "name": "python3"
  },
  "language_info": {
   "codemirror_mode": {
    "name": "ipython",
    "version": 2
   },
   "file_extension": ".py",
   "mimetype": "text/x-python",
   "name": "python",
   "nbconvert_exporter": "python",
   "pygments_lexer": "ipython2",
   "version": "2.7.6"
  }
 },
 "nbformat": 4,
 "nbformat_minor": 5
}
