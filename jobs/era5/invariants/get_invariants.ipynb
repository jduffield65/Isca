{
 "cells": [
  {
   "metadata": {},
   "cell_type": "markdown",
   "source": [
    "## Get Invariant Variables\n",
    "This notebook gets the invariant variables. No point saving to group workspace on JASMIN, as already available through `Find_era5()`. Purpose is to get file to download and save locally."
   ],
   "id": "8d40f1ff8cb3c4f2"
  },
  {
   "metadata": {
    "ExecuteTime": {
     "end_time": "2025-06-02T14:23:46.887829Z",
     "start_time": "2025-06-02T14:23:42.911322Z"
    }
   },
   "cell_type": "code",
   "source": [
    "import os\n",
    "import xarray as xr\n",
    "import numpy as np\n",
    "from isca_tools.era5.get_jasmin_era5 import Find_era5\n",
    "from tqdm.notebook import tqdm\n",
    "print(os.getcwd())"
   ],
   "id": "def2da466b67974a",
   "outputs": [
    {
     "name": "stdout",
     "output_type": "stream",
     "text": [
      "/home/users/jamd1/Isca\n"
     ]
    }
   ],
   "execution_count": 1
  },
  {
   "metadata": {
    "ExecuteTime": {
     "end_time": "2025-06-02T14:30:57.284994Z",
     "start_time": "2025-06-02T14:30:57.282444Z"
    }
   },
   "cell_type": "code",
   "source": [
    "dir_out = '/home/users/jamd1/Isca/jobs/era5/invariants'\n",
    "complevel = 4\n",
    "era5 = Find_era5()"
   ],
   "id": "346caefb84815ee8",
   "outputs": [],
   "execution_count": 25
  },
  {
   "metadata": {},
   "cell_type": "markdown",
   "source": [
    "# From Year 2000\n",
    "This is the default in `badc/ecmwf-era5` on JASMIN"
   ],
   "id": "b26b414d1a6e6223"
  },
  {
   "metadata": {},
   "cell_type": "markdown",
   "source": "## Geopotential",
   "id": "b8192d6c53e656ef"
  },
  {
   "metadata": {
    "ExecuteTime": {
     "end_time": "2025-06-02T15:33:29.500121Z",
     "start_time": "2025-06-02T15:33:29.496766Z"
    }
   },
   "cell_type": "code",
   "source": "print(era5._INVARIANT_DATE)  # This saves data for the year 2000",
   "id": "f49f3406febfbc8c",
   "outputs": [
    {
     "name": "stdout",
     "output_type": "stream",
     "text": [
      "2000-01-01 00:00:00\n"
     ]
    }
   ],
   "execution_count": 28
  },
  {
   "metadata": {
    "ExecuteTime": {
     "end_time": "2025-06-02T15:37:28.598666Z",
     "start_time": "2025-06-02T15:37:28.595814Z"
    }
   },
   "cell_type": "code",
   "source": "str(era5._INVARIANT_DATE.year)",
   "id": "4fa92495782b36b4",
   "outputs": [
    {
     "data": {
      "text/plain": [
       "'2000'"
      ]
     },
     "execution_count": 46,
     "metadata": {},
     "output_type": "execute_result"
    }
   ],
   "execution_count": 46
  },
  {
   "metadata": {
    "ExecuteTime": {
     "end_time": "2025-06-02T15:38:34.763103Z",
     "start_time": "2025-06-02T15:38:34.628329Z"
    }
   },
   "cell_type": "code",
   "source": [
    "z = era5['z', '', None, None].astype('float32')\n",
    "z = z.assign_coords(time=era5._INVARIANT_DATE)\n",
    "encoding = {var: {'zlib': True, 'complevel': complevel} for var in z.data_vars}\n",
    "z.to_netcdf(f'{dir_out}/z{str(era5._INVARIANT_DATE.year)}.nc', encoding=encoding)"
   ],
   "id": "39548789c0c11e64",
   "outputs": [],
   "execution_count": 50
  },
  {
   "metadata": {},
   "cell_type": "markdown",
   "source": "## Land Sea Mask",
   "id": "ed5516ab9f9791ee"
  },
  {
   "metadata": {
    "ExecuteTime": {
     "end_time": "2025-06-02T15:37:55.152395Z",
     "start_time": "2025-06-02T15:37:55.103420Z"
    }
   },
   "cell_type": "code",
   "source": [
    "lsm = era5['lsm', '', None, None].astype('float32')\n",
    "lsm = lsm.assign_coords(time=era5._INVARIANT_DATE)\n",
    "encoding = {var: {'zlib': True, 'complevel': complevel} for var in lsm.data_vars}\n",
    "lsm.to_netcdf(f'{dir_out}/lsm{str(era5._INVARIANT_DATE.year)}.nc', encoding=encoding)"
   ],
   "id": "71b55f914835a463",
   "outputs": [],
   "execution_count": 48
  },
  {
   "metadata": {},
   "cell_type": "markdown",
   "source": [
    "# From Year 1979\n",
    "This is what is used by Zhang 2023 paper."
   ],
   "id": "68aa4121932d1fa2"
  },
  {
   "metadata": {},
   "cell_type": "code",
   "outputs": [],
   "execution_count": null,
   "source": "ds = xr.open_dataset(f'{dir_out}/lsm_and_z_1979.nc')   # downloaded from COPERNICUS single level data",
   "id": "ac49599fd7f9f047"
  },
  {
   "metadata": {
    "ExecuteTime": {
     "end_time": "2025-06-02T15:48:58.104028Z",
     "start_time": "2025-06-02T15:48:57.964074Z"
    }
   },
   "cell_type": "code",
   "source": [
    "z = ds.z.drop_vars(['number', 'expver'])\n",
    "z = z.rename({'valid_time': 'time'}).squeeze()\n",
    "z = xr.Dataset({'z': z})\n",
    "encoding = {var: {'zlib': True, 'complevel': complevel} for var in z.data_vars}\n",
    "z.to_netcdf(f'{dir_out}/z1979.nc', encoding=encoding)"
   ],
   "id": "10ad0a9c6b3893f3",
   "outputs": [],
   "execution_count": 61
  },
  {
   "metadata": {
    "ExecuteTime": {
     "end_time": "2025-06-02T15:48:08.351168Z",
     "start_time": "2025-06-02T15:48:08.274665Z"
    }
   },
   "cell_type": "code",
   "source": [
    "lsm = ds.lsm.drop_vars(['number', 'expver'])\n",
    "lsm = lsm.rename({'valid_time': 'time'}).squeeze()\n",
    "lsm = xr.Dataset({'lsm': lsm})\n",
    "encoding = {var: {'zlib': True, 'complevel': complevel} for var in lsm.data_vars}\n",
    "lsm.to_netcdf(f'{dir_out}/lsm1979.nc', encoding=encoding)"
   ],
   "id": "d911aa21cb0873ed",
   "outputs": [],
   "execution_count": 58
  },
  {
   "metadata": {},
   "cell_type": "code",
   "outputs": [],
   "execution_count": null,
   "source": "",
   "id": "101c6f0c9d0fcfcc"
  }
 ],
 "metadata": {
  "kernelspec": {
   "display_name": "Python 3",
   "language": "python",
   "name": "python3"
  },
  "language_info": {
   "codemirror_mode": {
    "name": "ipython",
    "version": 2
   },
   "file_extension": ".py",
   "mimetype": "text/x-python",
   "name": "python",
   "nbconvert_exporter": "python",
   "pygments_lexer": "ipython2",
   "version": "2.7.6"
  }
 },
 "nbformat": 4,
 "nbformat_minor": 5
}
