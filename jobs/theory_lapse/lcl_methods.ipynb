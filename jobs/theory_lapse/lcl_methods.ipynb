{
 "cells": [
  {
   "cell_type": "code",
   "id": "initial_id",
   "metadata": {
    "collapsed": true,
    "ExecuteTime": {
     "end_time": "2025-10-20T07:13:15.684177Z",
     "start_time": "2025-10-20T07:13:15.666318Z"
    }
   },
   "source": [
    "import scipy.optimize\n",
    "import xarray as xr\n",
    "import pandas as pd\n",
    "import numpy as np\n",
    "import matplotlib.pyplot as plt\n",
    "import matplotlib.colors as mcolors\n",
    "import metpy\n",
    "import scipy.stats as sts\n",
    "import re\n",
    "from glob import glob\n",
    "import warnings\n",
    "import isca_tools\n",
    "from isca_tools import cesm\n",
    "from isca_tools.convection import dry_profile_temp, potential_temp\n",
    "from isca_tools.plot import fig_resize, update_fontsize, update_linewidth, savefig\n",
    "from isca_tools.utils.base import weighted_RMS\n",
    "from isca_tools.utils import area_weighting, print_ds_var_list\n",
    "from isca_tools.utils.constants import L_v, c_p, g, R, kappa, lapse_dry\n",
    "from isca_tools.convection.base import lcl_metpy, lapse_moist, moist_profile\n",
    "from isca_tools.thesis.lapse_theory import get_bulk_lapse_rate, reconstruct_temp, interp_var_at_pressure, \\\n",
    "    get_var_at_plev\n",
    "from isca_tools.utils.moist_physics import sphum_sat, moist_static_energy\n",
    "from isca_tools.thesis.adiabat_theory2 import get_scale_factor_theory_numerical, get_temp_adiabat_surf\n",
    "from isca_tools.thesis.profile_fitting import get_mse_env, get_lnb_lev_ind\n",
    "import cartopy.crs as ccrs\n",
    "from cartopy.util import add_cyclic_point\n",
    "from statsmodels.stats.multitest import fdrcorrection\n",
    "from tqdm.notebook import tqdm\n",
    "import scipy\n",
    "from geocat.comp.interpolation import interp_hybrid_to_pressure\n",
    "import copy\n",
    "from typing import Tuple, Optional\n",
    "import os\n",
    "from sklearn.decomposition import PCA\n",
    "\n",
    "warnings.filterwarnings('ignore')\n",
    "%matplotlib inline\n",
    "%config InlineBackend.figure_format = 'retina'"
   ],
   "outputs": [],
   "execution_count": 7
  },
  {
   "metadata": {
    "ExecuteTime": {
     "end_time": "2025-10-20T07:11:30.483264Z",
     "start_time": "2025-10-20T07:11:30.475898Z"
    }
   },
   "cell_type": "code",
   "source": [
    "# Figure formatting\n",
    "SMALL_SIZE = 5\n",
    "MEDIUM_SIZE = 6\n",
    "BIGGER_SIZE = 7\n",
    "\n",
    "plt.rc('axes', linewidth=0.5)\n",
    "plt.rc('font', size=SMALL_SIZE)  # controls default text sizes\n",
    "plt.rc('axes', titlesize=BIGGER_SIZE)  # fontsize of the axes title\n",
    "plt.rc('axes', labelsize=MEDIUM_SIZE)  # fontsize of the x and y labels\n",
    "plt.rc('xtick', labelsize=SMALL_SIZE)  # fontsize of the tick labels\n",
    "plt.rc('ytick', labelsize=SMALL_SIZE)  # fontsize of the tick labels\n",
    "plt.rc('legend', fontsize=MEDIUM_SIZE)  # legend fontsize\n",
    "plt.rc('figure', titlesize=BIGGER_SIZE)  # fontsize of the figure title\n",
    "\n",
    "width = {'one_col': 3.2, 'two_col': 5.5}  # width in inches\n",
    "im_sz = 1.5\n",
    "plt.style.use('/Users/joshduffield/Documents/StAndrews/Isca/jobs/tau_sweep/aquaplanet/publish_figures/publish.mplstyle')\n",
    "ax_linewidth = plt.rcParams['axes.linewidth']"
   ],
   "id": "c4c433e4bd4e56de",
   "outputs": [],
   "execution_count": 2
  },
  {
   "metadata": {
    "ExecuteTime": {
     "end_time": "2025-10-20T07:11:42.903140Z",
     "start_time": "2025-10-20T07:11:31.024906Z"
    }
   },
   "cell_type": "code",
   "source": "from jobs.theory_lapse.scripts.lcl import ds",
   "id": "4d5a3ea368958cea",
   "outputs": [
    {
     "name": "stdout",
     "output_type": "stream",
     "text": [
      "2025-10-20 08:11:31 - Start\n",
      "2025-10-20 08:11:36 - Loaded in Data\n",
      "2025-10-20 08:11:41 - Computed pressure difference\n",
      "2025-10-20 08:11:42 - Computed physical LCL\n"
     ]
    }
   ],
   "execution_count": 3
  },
  {
   "metadata": {
    "ExecuteTime": {
     "end_time": "2025-10-20T07:11:51.918196Z",
     "start_time": "2025-10-20T07:11:45.715773Z"
    }
   },
   "cell_type": "code",
   "source": [
    "ds['Z_at_lcl'] = get_var_at_plev(ds.Z3, ds.P, ds.p_lcl)\n",
    "ds['T_at_lcl'] = get_var_at_plev(ds.T, ds.P, ds.p_lcl)"
   ],
   "id": "57b82c47b8a56513",
   "outputs": [],
   "execution_count": 4
  },
  {
   "metadata": {
    "ExecuteTime": {
     "end_time": "2025-10-20T07:54:30.803168Z",
     "start_time": "2025-10-20T07:54:30.774248Z"
    }
   },
   "cell_type": "code",
   "source": [
    "ds_use = ds.sel(lat=3, lon=15, method='nearest')        # Congo\n",
    "# ds_use = ds.sel(lat=35, lon=100, method='nearest')       # Tibet\n",
    "ds_use = ds.sel(lat=55, lon=290, method='nearest')      # Large inversion\n",
    "ds_use = ds.sel(lat=-85, lon=100, method='nearest')     # Antarctica\n",
    "ds_use = ds.sel(lat=25, lon=50,method='nearest')        # Pursian gulf\n",
    "# ds_use = ds.sel(lat=28, lon=50, method='nearest')       # Pursian gulf coastline\n",
    "ds_use = ds.sel(lat=18, lon=0,method='nearest')         # Sahara\n",
    "ds_use = ds.sel(lat=30, lon=180, method='nearest')      # Ocean\n",
    "ds_use = ds_use.isel(sample=0)\n",
    "small = 1\n",
    "ds_use = ds_use.where(ds_use.P >= ds_use.P.isel(lev=ds_use.lnb_ind) - small)"
   ],
   "id": "6374d01f142cb16a",
   "outputs": [],
   "execution_count": 124
  },
  {
   "metadata": {
    "ExecuteTime": {
     "end_time": "2025-10-20T07:54:31.339262Z",
     "start_time": "2025-10-20T07:54:31.166133Z"
    }
   },
   "cell_type": "code",
   "source": [
    "norm = []\n",
    "norm_lcl = []\n",
    "for i in range(ds.lev.size):\n",
    "    if np.isnan(ds_use.P.values[i]):\n",
    "        continue\n",
    "    var = get_mse_env(ds_use.T, ds_use.P, ds_use.Z3, ds_use.T.isel(lev=i), ds_use.P.isel(lev=i), 'full')\n",
    "    var = var - moist_static_energy(ds_use.T.isel(lev=i), sphum_sat(ds_use.T.isel(lev=i), ds_use.P.isel(lev=i)), ds_use.Z3.isel(lev=i))\n",
    "    norm.append(weighted_RMS(var, ds_use.P_diff/g, dim='lev'))\n",
    "    norm_lcl.append(ds_use.P.isel(lev=i))\n",
    "norm = xr.concat(norm, dim=xr.DataArray(norm_lcl, name='p_lcl', dims='p_lcl'))"
   ],
   "id": "31c12d085d391d08",
   "outputs": [],
   "execution_count": 125
  },
  {
   "metadata": {
    "ExecuteTime": {
     "end_time": "2025-10-20T07:54:31.493772Z",
     "start_time": "2025-10-20T07:54:31.476413Z"
    }
   },
   "cell_type": "code",
   "source": "norm.p_lcl.isel(p_lcl=norm.argmin())",
   "id": "e48aa1c3313fd2b0",
   "outputs": [
    {
     "data": {
      "text/plain": [
       "<xarray.DataArray 'p_lcl' ()> Size: 8B\n",
       "array(90364.46240918)\n",
       "Coordinates:\n",
       "    lat      float64 8B 29.69\n",
       "    lon      float64 8B 180.0\n",
       "    sample   int64 8B 1\n",
       "    p_lcl    float64 8B 9.036e+04"
      ],
      "text/html": [
       "<div><svg style=\"position: absolute; width: 0; height: 0; overflow: hidden\">\n",
       "<defs>\n",
       "<symbol id=\"icon-database\" viewBox=\"0 0 32 32\">\n",
       "<path d=\"M16 0c-8.837 0-16 2.239-16 5v4c0 2.761 7.163 5 16 5s16-2.239 16-5v-4c0-2.761-7.163-5-16-5z\"></path>\n",
       "<path d=\"M16 17c-8.837 0-16-2.239-16-5v6c0 2.761 7.163 5 16 5s16-2.239 16-5v-6c0 2.761-7.163 5-16 5z\"></path>\n",
       "<path d=\"M16 26c-8.837 0-16-2.239-16-5v6c0 2.761 7.163 5 16 5s16-2.239 16-5v-6c0 2.761-7.163 5-16 5z\"></path>\n",
       "</symbol>\n",
       "<symbol id=\"icon-file-text2\" viewBox=\"0 0 32 32\">\n",
       "<path d=\"M28.681 7.159c-0.694-0.947-1.662-2.053-2.724-3.116s-2.169-2.030-3.116-2.724c-1.612-1.182-2.393-1.319-2.841-1.319h-15.5c-1.378 0-2.5 1.121-2.5 2.5v27c0 1.378 1.122 2.5 2.5 2.5h23c1.378 0 2.5-1.122 2.5-2.5v-19.5c0-0.448-0.137-1.23-1.319-2.841zM24.543 5.457c0.959 0.959 1.712 1.825 2.268 2.543h-4.811v-4.811c0.718 0.556 1.584 1.309 2.543 2.268zM28 29.5c0 0.271-0.229 0.5-0.5 0.5h-23c-0.271 0-0.5-0.229-0.5-0.5v-27c0-0.271 0.229-0.5 0.5-0.5 0 0 15.499-0 15.5 0v7c0 0.552 0.448 1 1 1h7v19.5z\"></path>\n",
       "<path d=\"M23 26h-14c-0.552 0-1-0.448-1-1s0.448-1 1-1h14c0.552 0 1 0.448 1 1s-0.448 1-1 1z\"></path>\n",
       "<path d=\"M23 22h-14c-0.552 0-1-0.448-1-1s0.448-1 1-1h14c0.552 0 1 0.448 1 1s-0.448 1-1 1z\"></path>\n",
       "<path d=\"M23 18h-14c-0.552 0-1-0.448-1-1s0.448-1 1-1h14c0.552 0 1 0.448 1 1s-0.448 1-1 1z\"></path>\n",
       "</symbol>\n",
       "</defs>\n",
       "</svg>\n",
       "<style>/* CSS stylesheet for displaying xarray objects in jupyterlab.\n",
       " *\n",
       " */\n",
       "\n",
       ":root {\n",
       "  --xr-font-color0: var(--jp-content-font-color0, rgba(0, 0, 0, 1));\n",
       "  --xr-font-color2: var(--jp-content-font-color2, rgba(0, 0, 0, 0.54));\n",
       "  --xr-font-color3: var(--jp-content-font-color3, rgba(0, 0, 0, 0.38));\n",
       "  --xr-border-color: var(--jp-border-color2, #e0e0e0);\n",
       "  --xr-disabled-color: var(--jp-layout-color3, #bdbdbd);\n",
       "  --xr-background-color: var(--jp-layout-color0, white);\n",
       "  --xr-background-color-row-even: var(--jp-layout-color1, white);\n",
       "  --xr-background-color-row-odd: var(--jp-layout-color2, #eeeeee);\n",
       "}\n",
       "\n",
       "html[theme=dark],\n",
       "body[data-theme=dark],\n",
       "body.vscode-dark {\n",
       "  --xr-font-color0: rgba(255, 255, 255, 1);\n",
       "  --xr-font-color2: rgba(255, 255, 255, 0.54);\n",
       "  --xr-font-color3: rgba(255, 255, 255, 0.38);\n",
       "  --xr-border-color: #1F1F1F;\n",
       "  --xr-disabled-color: #515151;\n",
       "  --xr-background-color: #111111;\n",
       "  --xr-background-color-row-even: #111111;\n",
       "  --xr-background-color-row-odd: #313131;\n",
       "}\n",
       "\n",
       ".xr-wrap {\n",
       "  display: block !important;\n",
       "  min-width: 300px;\n",
       "  max-width: 700px;\n",
       "}\n",
       "\n",
       ".xr-text-repr-fallback {\n",
       "  /* fallback to plain text repr when CSS is not injected (untrusted notebook) */\n",
       "  display: none;\n",
       "}\n",
       "\n",
       ".xr-header {\n",
       "  padding-top: 6px;\n",
       "  padding-bottom: 6px;\n",
       "  margin-bottom: 4px;\n",
       "  border-bottom: solid 1px var(--xr-border-color);\n",
       "}\n",
       "\n",
       ".xr-header > div,\n",
       ".xr-header > ul {\n",
       "  display: inline;\n",
       "  margin-top: 0;\n",
       "  margin-bottom: 0;\n",
       "}\n",
       "\n",
       ".xr-obj-type,\n",
       ".xr-array-name {\n",
       "  margin-left: 2px;\n",
       "  margin-right: 10px;\n",
       "}\n",
       "\n",
       ".xr-obj-type {\n",
       "  color: var(--xr-font-color2);\n",
       "}\n",
       "\n",
       ".xr-sections {\n",
       "  padding-left: 0 !important;\n",
       "  display: grid;\n",
       "  grid-template-columns: 150px auto auto 1fr 20px 20px;\n",
       "}\n",
       "\n",
       ".xr-section-item {\n",
       "  display: contents;\n",
       "}\n",
       "\n",
       ".xr-section-item input {\n",
       "  display: none;\n",
       "}\n",
       "\n",
       ".xr-section-item input + label {\n",
       "  color: var(--xr-disabled-color);\n",
       "}\n",
       "\n",
       ".xr-section-item input:enabled + label {\n",
       "  cursor: pointer;\n",
       "  color: var(--xr-font-color2);\n",
       "}\n",
       "\n",
       ".xr-section-item input:enabled + label:hover {\n",
       "  color: var(--xr-font-color0);\n",
       "}\n",
       "\n",
       ".xr-section-summary {\n",
       "  grid-column: 1;\n",
       "  color: var(--xr-font-color2);\n",
       "  font-weight: 500;\n",
       "}\n",
       "\n",
       ".xr-section-summary > span {\n",
       "  display: inline-block;\n",
       "  padding-left: 0.5em;\n",
       "}\n",
       "\n",
       ".xr-section-summary-in:disabled + label {\n",
       "  color: var(--xr-font-color2);\n",
       "}\n",
       "\n",
       ".xr-section-summary-in + label:before {\n",
       "  display: inline-block;\n",
       "  content: '►';\n",
       "  font-size: 11px;\n",
       "  width: 15px;\n",
       "  text-align: center;\n",
       "}\n",
       "\n",
       ".xr-section-summary-in:disabled + label:before {\n",
       "  color: var(--xr-disabled-color);\n",
       "}\n",
       "\n",
       ".xr-section-summary-in:checked + label:before {\n",
       "  content: '▼';\n",
       "}\n",
       "\n",
       ".xr-section-summary-in:checked + label > span {\n",
       "  display: none;\n",
       "}\n",
       "\n",
       ".xr-section-summary,\n",
       ".xr-section-inline-details {\n",
       "  padding-top: 4px;\n",
       "  padding-bottom: 4px;\n",
       "}\n",
       "\n",
       ".xr-section-inline-details {\n",
       "  grid-column: 2 / -1;\n",
       "}\n",
       "\n",
       ".xr-section-details {\n",
       "  display: none;\n",
       "  grid-column: 1 / -1;\n",
       "  margin-bottom: 5px;\n",
       "}\n",
       "\n",
       ".xr-section-summary-in:checked ~ .xr-section-details {\n",
       "  display: contents;\n",
       "}\n",
       "\n",
       ".xr-array-wrap {\n",
       "  grid-column: 1 / -1;\n",
       "  display: grid;\n",
       "  grid-template-columns: 20px auto;\n",
       "}\n",
       "\n",
       ".xr-array-wrap > label {\n",
       "  grid-column: 1;\n",
       "  vertical-align: top;\n",
       "}\n",
       "\n",
       ".xr-preview {\n",
       "  color: var(--xr-font-color3);\n",
       "}\n",
       "\n",
       ".xr-array-preview,\n",
       ".xr-array-data {\n",
       "  padding: 0 5px !important;\n",
       "  grid-column: 2;\n",
       "}\n",
       "\n",
       ".xr-array-data,\n",
       ".xr-array-in:checked ~ .xr-array-preview {\n",
       "  display: none;\n",
       "}\n",
       "\n",
       ".xr-array-in:checked ~ .xr-array-data,\n",
       ".xr-array-preview {\n",
       "  display: inline-block;\n",
       "}\n",
       "\n",
       ".xr-dim-list {\n",
       "  display: inline-block !important;\n",
       "  list-style: none;\n",
       "  padding: 0 !important;\n",
       "  margin: 0;\n",
       "}\n",
       "\n",
       ".xr-dim-list li {\n",
       "  display: inline-block;\n",
       "  padding: 0;\n",
       "  margin: 0;\n",
       "}\n",
       "\n",
       ".xr-dim-list:before {\n",
       "  content: '(';\n",
       "}\n",
       "\n",
       ".xr-dim-list:after {\n",
       "  content: ')';\n",
       "}\n",
       "\n",
       ".xr-dim-list li:not(:last-child):after {\n",
       "  content: ',';\n",
       "  padding-right: 5px;\n",
       "}\n",
       "\n",
       ".xr-has-index {\n",
       "  font-weight: bold;\n",
       "}\n",
       "\n",
       ".xr-var-list,\n",
       ".xr-var-item {\n",
       "  display: contents;\n",
       "}\n",
       "\n",
       ".xr-var-item > div,\n",
       ".xr-var-item label,\n",
       ".xr-var-item > .xr-var-name span {\n",
       "  background-color: var(--xr-background-color-row-even);\n",
       "  margin-bottom: 0;\n",
       "}\n",
       "\n",
       ".xr-var-item > .xr-var-name:hover span {\n",
       "  padding-right: 5px;\n",
       "}\n",
       "\n",
       ".xr-var-list > li:nth-child(odd) > div,\n",
       ".xr-var-list > li:nth-child(odd) > label,\n",
       ".xr-var-list > li:nth-child(odd) > .xr-var-name span {\n",
       "  background-color: var(--xr-background-color-row-odd);\n",
       "}\n",
       "\n",
       ".xr-var-name {\n",
       "  grid-column: 1;\n",
       "}\n",
       "\n",
       ".xr-var-dims {\n",
       "  grid-column: 2;\n",
       "}\n",
       "\n",
       ".xr-var-dtype {\n",
       "  grid-column: 3;\n",
       "  text-align: right;\n",
       "  color: var(--xr-font-color2);\n",
       "}\n",
       "\n",
       ".xr-var-preview {\n",
       "  grid-column: 4;\n",
       "}\n",
       "\n",
       ".xr-index-preview {\n",
       "  grid-column: 2 / 5;\n",
       "  color: var(--xr-font-color2);\n",
       "}\n",
       "\n",
       ".xr-var-name,\n",
       ".xr-var-dims,\n",
       ".xr-var-dtype,\n",
       ".xr-preview,\n",
       ".xr-attrs dt {\n",
       "  white-space: nowrap;\n",
       "  overflow: hidden;\n",
       "  text-overflow: ellipsis;\n",
       "  padding-right: 10px;\n",
       "}\n",
       "\n",
       ".xr-var-name:hover,\n",
       ".xr-var-dims:hover,\n",
       ".xr-var-dtype:hover,\n",
       ".xr-attrs dt:hover {\n",
       "  overflow: visible;\n",
       "  width: auto;\n",
       "  z-index: 1;\n",
       "}\n",
       "\n",
       ".xr-var-attrs,\n",
       ".xr-var-data,\n",
       ".xr-index-data {\n",
       "  display: none;\n",
       "  background-color: var(--xr-background-color) !important;\n",
       "  padding-bottom: 5px !important;\n",
       "}\n",
       "\n",
       ".xr-var-attrs-in:checked ~ .xr-var-attrs,\n",
       ".xr-var-data-in:checked ~ .xr-var-data,\n",
       ".xr-index-data-in:checked ~ .xr-index-data {\n",
       "  display: block;\n",
       "}\n",
       "\n",
       ".xr-var-data > table {\n",
       "  float: right;\n",
       "}\n",
       "\n",
       ".xr-var-name span,\n",
       ".xr-var-data,\n",
       ".xr-index-name div,\n",
       ".xr-index-data,\n",
       ".xr-attrs {\n",
       "  padding-left: 25px !important;\n",
       "}\n",
       "\n",
       ".xr-attrs,\n",
       ".xr-var-attrs,\n",
       ".xr-var-data,\n",
       ".xr-index-data {\n",
       "  grid-column: 1 / -1;\n",
       "}\n",
       "\n",
       "dl.xr-attrs {\n",
       "  padding: 0;\n",
       "  margin: 0;\n",
       "  display: grid;\n",
       "  grid-template-columns: 125px auto;\n",
       "}\n",
       "\n",
       ".xr-attrs dt,\n",
       ".xr-attrs dd {\n",
       "  padding: 0;\n",
       "  margin: 0;\n",
       "  float: left;\n",
       "  padding-right: 10px;\n",
       "  width: auto;\n",
       "}\n",
       "\n",
       ".xr-attrs dt {\n",
       "  font-weight: normal;\n",
       "  grid-column: 1;\n",
       "}\n",
       "\n",
       ".xr-attrs dt:hover span {\n",
       "  display: inline-block;\n",
       "  background: var(--xr-background-color);\n",
       "  padding-right: 10px;\n",
       "}\n",
       "\n",
       ".xr-attrs dd {\n",
       "  grid-column: 2;\n",
       "  white-space: pre-wrap;\n",
       "  word-break: break-all;\n",
       "}\n",
       "\n",
       ".xr-icon-database,\n",
       ".xr-icon-file-text2,\n",
       ".xr-no-icon {\n",
       "  display: inline-block;\n",
       "  vertical-align: middle;\n",
       "  width: 1em;\n",
       "  height: 1.5em !important;\n",
       "  stroke-width: 0;\n",
       "  stroke: currentColor;\n",
       "  fill: currentColor;\n",
       "}\n",
       "</style><pre class='xr-text-repr-fallback'>&lt;xarray.DataArray &#x27;p_lcl&#x27; ()&gt; Size: 8B\n",
       "array(90364.46240918)\n",
       "Coordinates:\n",
       "    lat      float64 8B 29.69\n",
       "    lon      float64 8B 180.0\n",
       "    sample   int64 8B 1\n",
       "    p_lcl    float64 8B 9.036e+04</pre><div class='xr-wrap' style='display:none'><div class='xr-header'><div class='xr-obj-type'>xarray.DataArray</div><div class='xr-array-name'>'p_lcl'</div></div><ul class='xr-sections'><li class='xr-section-item'><div class='xr-array-wrap'><input id='section-bfd60f1f-ef4a-4642-a630-b3915f68c8a8' class='xr-array-in' type='checkbox' checked><label for='section-bfd60f1f-ef4a-4642-a630-b3915f68c8a8' title='Show/hide data repr'><svg class='icon xr-icon-database'><use xlink:href='#icon-database'></use></svg></label><div class='xr-array-preview xr-preview'><span>9.036e+04</span></div><div class='xr-array-data'><pre>array(90364.46240918)</pre></div></div></li><li class='xr-section-item'><input id='section-d598c054-97ee-402e-be90-5f01ba178cfd' class='xr-section-summary-in' type='checkbox'  checked><label for='section-d598c054-97ee-402e-be90-5f01ba178cfd' class='xr-section-summary' >Coordinates: <span>(4)</span></label><div class='xr-section-inline-details'></div><div class='xr-section-details'><ul class='xr-var-list'><li class='xr-var-item'><div class='xr-var-name'><span>lat</span></div><div class='xr-var-dims'>()</div><div class='xr-var-dtype'>float64</div><div class='xr-var-preview xr-preview'>29.69</div><input id='attrs-ef04b359-cee1-4675-bf30-0c122e4a02af' class='xr-var-attrs-in' type='checkbox' disabled><label for='attrs-ef04b359-cee1-4675-bf30-0c122e4a02af' title='Show/Hide attributes'><svg class='icon xr-icon-file-text2'><use xlink:href='#icon-file-text2'></use></svg></label><input id='data-b733acb6-068c-4068-b91d-1cd53fc69045' class='xr-var-data-in' type='checkbox'><label for='data-b733acb6-068c-4068-b91d-1cd53fc69045' title='Show/Hide data repr'><svg class='icon xr-icon-database'><use xlink:href='#icon-database'></use></svg></label><div class='xr-var-attrs'><dl class='xr-attrs'></dl></div><div class='xr-var-data'><pre>array(29.68586387)</pre></div></li><li class='xr-var-item'><div class='xr-var-name'><span>lon</span></div><div class='xr-var-dims'>()</div><div class='xr-var-dtype'>float64</div><div class='xr-var-preview xr-preview'>180.0</div><input id='attrs-7d97d2d0-19b1-4be2-855f-f0c05ca3d397' class='xr-var-attrs-in' type='checkbox' disabled><label for='attrs-7d97d2d0-19b1-4be2-855f-f0c05ca3d397' title='Show/Hide attributes'><svg class='icon xr-icon-file-text2'><use xlink:href='#icon-file-text2'></use></svg></label><input id='data-e7a9277e-1aae-4596-81ea-7b3649aabdca' class='xr-var-data-in' type='checkbox'><label for='data-e7a9277e-1aae-4596-81ea-7b3649aabdca' title='Show/Hide data repr'><svg class='icon xr-icon-database'><use xlink:href='#icon-database'></use></svg></label><div class='xr-var-attrs'><dl class='xr-attrs'></dl></div><div class='xr-var-data'><pre>array(180.)</pre></div></li><li class='xr-var-item'><div class='xr-var-name'><span>sample</span></div><div class='xr-var-dims'>()</div><div class='xr-var-dtype'>int64</div><div class='xr-var-preview xr-preview'>1</div><input id='attrs-96ada425-0108-4b97-a823-817c4be9676f' class='xr-var-attrs-in' type='checkbox' disabled><label for='attrs-96ada425-0108-4b97-a823-817c4be9676f' title='Show/Hide attributes'><svg class='icon xr-icon-file-text2'><use xlink:href='#icon-file-text2'></use></svg></label><input id='data-5fdee7e4-f621-429d-8e51-f4f1691c6e8e' class='xr-var-data-in' type='checkbox'><label for='data-5fdee7e4-f621-429d-8e51-f4f1691c6e8e' title='Show/Hide data repr'><svg class='icon xr-icon-database'><use xlink:href='#icon-database'></use></svg></label><div class='xr-var-attrs'><dl class='xr-attrs'></dl></div><div class='xr-var-data'><pre>array(1)</pre></div></li><li class='xr-var-item'><div class='xr-var-name'><span>p_lcl</span></div><div class='xr-var-dims'>()</div><div class='xr-var-dtype'>float64</div><div class='xr-var-preview xr-preview'>9.036e+04</div><input id='attrs-4946422b-4330-4b45-8655-79fafa38434b' class='xr-var-attrs-in' type='checkbox' disabled><label for='attrs-4946422b-4330-4b45-8655-79fafa38434b' title='Show/Hide attributes'><svg class='icon xr-icon-file-text2'><use xlink:href='#icon-file-text2'></use></svg></label><input id='data-a73fa032-8f5b-4527-aec1-ca923f6b1cf3' class='xr-var-data-in' type='checkbox'><label for='data-a73fa032-8f5b-4527-aec1-ca923f6b1cf3' title='Show/Hide data repr'><svg class='icon xr-icon-database'><use xlink:href='#icon-database'></use></svg></label><div class='xr-var-attrs'><dl class='xr-attrs'></dl></div><div class='xr-var-data'><pre>array(90364.46240918)</pre></div></li></ul></div></li><li class='xr-section-item'><input id='section-8748f341-d396-4cf9-941a-b61f21781bed' class='xr-section-summary-in' type='checkbox' disabled ><label for='section-8748f341-d396-4cf9-941a-b61f21781bed' class='xr-section-summary'  title='Expand/collapse section'>Indexes: <span>(0)</span></label><div class='xr-section-inline-details'></div><div class='xr-section-details'><ul class='xr-var-list'></ul></div></li><li class='xr-section-item'><input id='section-a1d06c50-c5fb-4711-acdb-f1de3d529c92' class='xr-section-summary-in' type='checkbox' disabled ><label for='section-a1d06c50-c5fb-4711-acdb-f1de3d529c92' class='xr-section-summary'  title='Expand/collapse section'>Attributes: <span>(0)</span></label><div class='xr-section-inline-details'></div><div class='xr-section-details'><dl class='xr-attrs'></dl></div></li></ul></div></div>"
      ]
     },
     "execution_count": 126,
     "metadata": {},
     "output_type": "execute_result"
    }
   ],
   "execution_count": 126
  },
  {
   "metadata": {
    "ExecuteTime": {
     "end_time": "2025-10-20T07:55:14.073577Z",
     "start_time": "2025-10-20T07:55:13.999994Z"
    }
   },
   "cell_type": "code",
   "source": [
    "lcl_fine_spacing = 10*100\n",
    "lcl_fine_search = np.arange(float(norm.p_lcl.isel(p_lcl=norm.argmin()-1)), float(norm.p_lcl.isel(p_lcl=norm.argmin())), lcl_fine_spacing)\n",
    "lcl_fine_search = np.append(lcl_fine_search,\n",
    "                            np.arange(float(norm.p_lcl.isel(p_lcl=norm.argmin())),\n",
    "                                      float(norm.p_lcl.isel(p_lcl=norm.argmin()+1))+lcl_fine_spacing, lcl_fine_spacing))\n",
    "# lcl_best = float(norm.p_lcl.isel(p_lcl=norm.argmin()))\n",
    "T_at_lcl_use = interp_hybrid_to_pressure(ds_use.T, ds_use.PS, ds_use.hyam, ds_use.hybm, ds_use.P0,\n",
    "                                         lcl_fine_search, lev_dim='lev').load()\n",
    "Z_at_lcl_use = interp_hybrid_to_pressure(ds_use.Z3, ds_use.PS, ds_use.hyam, ds_use.hybm, ds_use.P0,\n",
    "                                         lcl_fine_search, lev_dim='lev').load()\n",
    "norm_fine_spacing = []\n",
    "norm_fine_spacing_lcl = []\n",
    "for i in range(T_at_lcl_use.plev.size):\n",
    "    if np.isnan(T_at_lcl_use.values[i]):\n",
    "        continue\n",
    "    var = get_mse_env(ds_use.T, ds_use.P, ds_use.Z3, T_at_lcl_use.isel(plev=i), T_at_lcl_use.plev[i], 'full')\n",
    "    var = var - moist_static_energy(T_at_lcl_use.isel(plev=i), sphum_sat(T_at_lcl_use.isel(plev=i), T_at_lcl_use.plev[i]),\n",
    "                                    Z_at_lcl_use.isel(plev=i))\n",
    "    norm_fine_spacing.append(weighted_RMS(var, ds_use.P_diff/g, dim='lev'))\n",
    "    norm_fine_spacing_lcl.append(float(T_at_lcl_use.plev[i]))\n",
    "norm_fine_spacing = xr.concat(norm_fine_spacing, dim=xr.DataArray(norm_fine_spacing_lcl, name='p_lcl', dims='p_lcl'))\n",
    "# norm2 = []\n",
    "# norm2_lcl = []\n"
   ],
   "id": "d95581197f7482ac",
   "outputs": [],
   "execution_count": 131
  },
  {
   "metadata": {
    "ExecuteTime": {
     "end_time": "2025-10-20T07:55:14.479860Z",
     "start_time": "2025-10-20T07:55:14.379882Z"
    }
   },
   "cell_type": "code",
   "source": [
    "norm.plot(marker='o')\n",
    "norm_fine_spacing.plot(color='k', marker='|')\n",
    "plt.gca().axvline(ds_use.p_lcl.isel(lev=-1))\n",
    "# plt.gca().set_ylim(0, 10)"
   ],
   "id": "11bfbd20aafc0ccd",
   "outputs": [
    {
     "data": {
      "text/plain": [
       "<matplotlib.lines.Line2D at 0x163095d30>"
      ]
     },
     "execution_count": 132,
     "metadata": {},
     "output_type": "execute_result"
    },
    {
     "data": {
      "text/plain": [
       "<Figure size 640x480 with 1 Axes>"
      ],
      "image/png": "[encoded data removed]"
     },
     "metadata": {
      "image/png": {
       "width": 538,
       "height": 443
      }
     },
     "output_type": "display_data",
     "jetTransient": {
      "display_id": null
     }
    }
   ],
   "execution_count": 132
  },
  {
   "metadata": {
    "ExecuteTime": {
     "end_time": "2025-10-20T07:18:12.821431Z",
     "start_time": "2025-10-20T07:18:12.720368Z"
    }
   },
   "cell_type": "code",
   "source": [
    "(get_mse_env(ds_use.T, ds_use.P, ds_use.Z3, ds_use.T_lcl, ds_use.p_lcl, 'full') -\n",
    " moist_static_energy(ds_use.T_at_lcl, sphum_sat(ds_use.T_at_lcl, ds_use.p_lcl), ds_use.Z_at_lcl)).plot()"
   ],
   "id": "effb663bb9692440",
   "outputs": [
    {
     "data": {
      "text/plain": [
       "[<matplotlib.lines.Line2D at 0x31610c4c0>]"
      ]
     },
     "execution_count": 26,
     "metadata": {},
     "output_type": "execute_result"
    },
    {
     "data": {
      "text/plain": [
       "<Figure size 640x480 with 1 Axes>"
      ],
      "image/png": "[encoded data removed]"
     },
     "metadata": {
      "image/png": {
       "width": 538,
       "height": 443
      }
     },
     "output_type": "display_data",
     "jetTransient": {
      "display_id": null
     }
    }
   ],
   "execution_count": 26
  },
  {
   "metadata": {},
   "cell_type": "code",
   "outputs": [],
   "execution_count": null,
   "source": "",
   "id": "d8bc2a36c3e36885"
  }
 ],
 "metadata": {
  "kernelspec": {
   "display_name": "Python 3",
   "language": "python",
   "name": "python3"
  },
  "language_info": {
   "codemirror_mode": {
    "name": "ipython",
    "version": 2
   },
   "file_extension": ".py",
   "mimetype": "text/x-python",
   "name": "python",
   "nbconvert_exporter": "python",
   "pygments_lexer": "ipython2",
   "version": "2.7.6"
  }
 },
 "nbformat": 4,
 "nbformat_minor": 5
}
