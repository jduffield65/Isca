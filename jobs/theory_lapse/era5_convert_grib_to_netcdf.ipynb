{
 "cells": [
  {
   "metadata": {},
   "cell_type": "markdown",
   "source": [
    "# Convert ERA5 data from GRIB to netCDF\n",
    "Here we take some GRIB format data sets and convert to netCDF"
   ],
   "id": "4d7e320d601d91ba"
  },
  {
   "cell_type": "code",
   "id": "initial_id",
   "metadata": {
    "collapsed": true,
    "ExecuteTime": {
     "end_time": "2025-09-11T16:14:11.221047Z",
     "start_time": "2025-09-11T16:14:09.334760Z"
    }
   },
   "source": [
    "import warnings\n",
    "import xarray as xr\n",
    "import numpy as np\n",
    "import sys\n",
    "sys.path.append('/home/users/jamd1/Isca/')\n",
    "from isca_tools import cesm\n",
    "from isca_tools.utils import area_weighting, lat_lon_rolling, print_ds_var_list\n",
    "from isca_tools.papers.byrne_2021 import get_quant_ind\n",
    "from isca_tools.utils.moist_physics import moist_static_energy, sphum_sat\n",
    "import cftime\n",
    "import matplotlib.pyplot as plt\n",
    "import cartopy.crs as ccrs\n",
    "from cartopy.mpl.ticker import LatitudeFormatter, LongitudeFormatter\n",
    "import matplotlib.patches as patches\n",
    "from tqdm.notebook import tqdm\n",
    "import f90nml\n",
    "import pandas as pd\n",
    "import isca_tools\n",
    "import matplotlib\n",
    "from matplotlib.dates import ConciseDateConverter\n",
    "from metpy.calc import specific_humidity_from_dewpoint, relative_humidity_from_dewpoint\n",
    "import metpy.units\n",
    "from isca_tools.era5.get_jasmin_era5 import Find_era5\n",
    "from isca_tools.utils.constants import g\n",
    "matplotlib.units.registry[cftime.DatetimeNoLeap] = ConciseDateConverter()  # to allow plotting time as x axis\n",
    "# plt.style.use('/home/users/jamd1/Isca/jobs/publish.mplstyle')\n",
    "plt.style.use('/Users/joshduffield/Documents/StAndrews/Isca/jobs/tau_sweep/aquaplanet/publish_figures/publish.mplstyle')\n",
    "from isca_tools.utils.base import split_list_max_n\n",
    "import os\n",
    "print(os.getcwd())"
   ],
   "outputs": [
    {
     "name": "stderr",
     "output_type": "stream",
     "text": [
      "/Users/joshduffield/miniforge3/envs/Isca/lib/python3.9/site-packages/scipy/__init__.py:155: UserWarning: A NumPy version >=1.18.5 and <1.25.0 is required for this version of SciPy (detected version 1.26.4\n",
      "  warnings.warn(f\"A NumPy version >={np_minversion} and <{np_maxversion}\"\n"
     ]
    },
    {
     "name": "stdout",
     "output_type": "stream",
     "text": [
      "/Users/joshduffield/Documents/StAndrews/Isca/jobs/theory_lapse\n"
     ]
    }
   ],
   "execution_count": 1
  },
  {
   "metadata": {
    "ExecuteTime": {
     "end_time": "2025-09-11T16:14:11.872212Z",
     "start_time": "2025-09-11T16:14:11.867401Z"
    }
   },
   "cell_type": "code",
   "source": [
    "# Attempt to load data from JASMIN but very slow - better to download from climate data store\n",
    "load_from_jasmin = False\n",
    "if load_from_jasmin:\n",
    "    lat_loc = [60, 40, -24, 55]\n",
    "    lon_loc = [50., 355., 133.75, 290.]\n",
    "    loc_names = ['russia', 'spain', 'australia', 'canada']\n",
    "    year_use = 1995\n",
    "\n",
    "    era5 = Find_era5(archive=None)\n",
    "    var_keep = ['t', 'z', 'q']\n",
    "    var = era5[var_keep, f\"{year_use}-06-01\":f\"{year_use}-09-01\":'3h', None, lat_loc[0]-0.4:lat_loc[0]+0.4, lon_loc[0]-0.4:lon_loc[0]+0.4]     # 2m temperature\n",
    "# var2 = era5[['t'], \"2005-02-01\":\"2005-02-04\", None, 0:3, 0:6]   # log of surface pressure"
   ],
   "id": "82d43b26396df45a",
   "outputs": [],
   "execution_count": 2
  },
  {
   "metadata": {},
   "cell_type": "markdown",
   "source": [
    "## Load surface data\n",
    "Here we load the single level data from the GRIB format"
   ],
   "id": "3c24117860bf08ab"
  },
  {
   "metadata": {
    "ExecuteTime": {
     "end_time": "2025-09-11T16:14:13.644740Z",
     "start_time": "2025-09-11T16:14:13.638797Z"
    }
   },
   "cell_type": "code",
   "source": [
    "# map of GRIB_shortName\n",
    "era5_var_map = {\n",
    "    \"10m_u_component_of_wind\": \"10u\",\n",
    "    \"10m_v_component_of_wind\": \"10v\",\n",
    "    \"10m v-component of neutral wind\": \"v10n\",\n",
    "    \"boundary_layer_height\": \"blh\",\n",
    "    \"convective_inhibition\": \"cin\",\n",
    "    \"convective_available_potential_energy\": \"cape\",\n",
    "    \"2m_dewpoint_temperature\": \"2d\",\n",
    "    \"2m_temperature\": \"2t\",\n",
    "    \"volumetric_soil_water_layer_1\": \"swvl1\",\n",
    "    \"convective_precipitation\": \"cp\",\n",
    "    \"total_precipitation\": \"tp\",\n",
    "    \"evaporation\": \"e\",\n",
    "    \"total_cloud_cover\": \"tcc\",\n",
    "    \"cloud_base_height\": \"cbh\",\n",
    "    \"high_cloud_cover\": \"hcc\",\n",
    "    \"low_cloud_cover\": \"lcc\",\n",
    "    \"medium_cloud_cover\": \"mcc\",\n",
    "    \"surface_latent_heat_flux\": \"slhf\",\n",
    "    \"surface_sensible_heat_flux\": \"sshf\",\n",
    "    \"surface_thermal_radiation_downward_clear_sky\": \"strd\",\n",
    "    \"surface_thermal_radiation_downwards\": \"strd\",\n",
    "    \"surface_solar_radiation_downwards\": \"ssrd\",\n",
    "    \"surface_solar_radiation_downward_clear_sky\": \"ssrdc\",\n",
    "    \"surface_net_solar_radiation\": \"ssr\",\n",
    "    \"surface_net_solar_radiation_clear_sky\": \"ssrc\",\n",
    "    \"surface_net_thermal_radiation\": \"str\",\n",
    "    \"surface_net_thermal_radiation_clear_sky\": \"strc\",\n",
    "    \"surface_pressure\": \"sp\",\n",
    "    \"boundary_layer_dissipation\": \"bld\",\n",
    "    \"instantaneous_moisture_flux\": \"ie\"\n",
    "}"
   ],
   "id": "5de934ec04ea7e48",
   "outputs": [],
   "execution_count": 3
  },
  {
   "metadata": {},
   "cell_type": "markdown",
   "source": [
    "### Convert variables with `step` dimension\n",
    "Some variables e.g. `cin` have step variable such that `valid_time` to compare to `time_t2m` of 2m temperature say is equal\n",
    "to `time_cin` + `step`.\n",
    "Here we make the `time` dimension of all variables match up i.e. change `time` to `valid_time` for variables with `step`.\n",
    "\n",
    "I think `step` arises because variables are computed over a period of time."
   ],
   "id": "3b1c2bb1db333373"
  },
  {
   "metadata": {
    "ExecuteTime": {
     "end_time": "2025-09-11T16:14:30.906580Z",
     "start_time": "2025-09-11T16:14:17.761533Z"
    }
   },
   "cell_type": "code",
   "source": [
    "dir_base = '/Users/joshduffield/Documents/StAndrews/Isca/jobs/era5/diurnal_play'\n",
    "loc = 'canada'\n",
    "nml_path = f'{dir_base}/{loc}/input_single_lev_local.nml'\n",
    "grib_vars = f90nml.read(nml_path)['request']['variable']\n",
    "grib_path_single_lev = f'{dir_base}/{loc}/output_single_level_grib.nc'\n",
    "times_all = xr.load_dataset(grib_path_single_lev, engine=\"cfgrib\",\n",
    "                            filter_by_keys={'shortName': '2t'}).time.values  # select times from 2m temperature"
   ],
   "id": "6dd45f5b5aa8d0ef",
   "outputs": [],
   "execution_count": 4
  },
  {
   "metadata": {
    "ExecuteTime": {
     "end_time": "2025-09-11T16:14:32.563627Z",
     "start_time": "2025-09-11T16:14:32.556837Z"
    }
   },
   "cell_type": "code",
   "source": [
    "def align_var_with_step(var, time_target):\n",
    "    \"\"\"\n",
    "    Align a DataArray 'var' (time_var, step, ...) to a new time_target axis,\n",
    "    so return 'var_align' (time_target, step, ...).\n",
    "    Keeps all steps and extra dimensions, fills NaN where valid_time does not exist.\n",
    "\n",
    "    Parameters\n",
    "    ----------\n",
    "    var : xarray.DataArray\n",
    "        Dims: ('time', 'step', ...) with shape (len(time_var), n_step, ...)\n",
    "            Contains 2D coordinate 'valid_time' (len(time_var) x n_step)\n",
    "    time_target : array-like\n",
    "        Target 1D times to align to.\n",
    "\n",
    "    Returns\n",
    "    -------\n",
    "    out : xarray.DataArray\n",
    "        Dims: ('time', 'step', ...) with shape (len(time_target), n_step, ...)\n",
    "        NaNs where no match.\n",
    "    \"\"\"\n",
    "    # Flatten time x step for indexing\n",
    "    var_flat = var.stack(ts=(\"time\", \"step\"))\n",
    "    var_flat = var_flat.transpose('ts', ...)        # make ts first dimension\n",
    "    valid_time_flat = var_flat.valid_time.values.flatten()  # shape (time*step)\n",
    "\n",
    "    # Create output coordinates\n",
    "    coords = {\"valid_time\": time_target, \"step\": var.step}\n",
    "    extra_dims = [d for d in ds.dims if isinstance(d, str) and d not in (\"time\", \"step\")]\n",
    "    for d in extra_dims:\n",
    "        coords[d] = var.coords[d]\n",
    "\n",
    "    # Create empty output filled with NaNs\n",
    "    out_shape = (len(time_target), len(var.step)) + tuple(var.sizes[d] for d in extra_dims)\n",
    "    out_data = np.full(out_shape, np.nan, dtype=var.dtype)\n",
    "    out = xr.DataArray(out_data, coords=coords, dims=(\"valid_time\", \"step\") + tuple(extra_dims))\n",
    "\n",
    "    # Build mapping from valid_time_flat → time_target index\n",
    "    time_idx_map = {t: i for i, t in enumerate(time_target)}\n",
    "\n",
    "    # Map values\n",
    "    for k, vt in enumerate(valid_time_flat):\n",
    "        if vt in time_idx_map:\n",
    "            i = time_idx_map[vt]\n",
    "            j = k % len(var.step)  # step index\n",
    "            out[i, j] = var_flat.values[k]  # broadcast over extra dims automatically\n",
    "\n",
    "    out = out.rename({'valid_time': 'time'})        # rename valid_time as time\n",
    "    return out"
   ],
   "id": "e4a0937fe15e9128",
   "outputs": [],
   "execution_count": 5
  },
  {
   "metadata": {},
   "cell_type": "markdown",
   "source": [
    "#### Sanity Check\n",
    "Below we do a sanity check just to make sure the conversion done is correct."
   ],
   "id": "32e70965c3eb5afa"
  },
  {
   "metadata": {
    "ExecuteTime": {
     "end_time": "2025-09-11T16:14:34.062583Z",
     "start_time": "2025-09-11T16:14:33.565948Z"
    }
   },
   "cell_type": "code",
   "source": [
    "do_sanity_check = True\n",
    "if do_sanity_check:\n",
    "    # Sanity check with cin, re indexing variables\n",
    "    ds = xr.open_dataset(grib_path_single_lev, engine=\"cfgrib\",\n",
    "                         filter_by_keys={'shortName': 'cin'})\n",
    "    ds = ds.load()\n",
    "    ds_new = align_var_with_step(ds.cin, times_all)\n",
    "\n",
    "    print('Number of non nan values at lat/lon. Should be the same')\n",
    "    print('Original\\n', (~np.isnan(ds.cin)).sum(dim=['time', 'step']).values)\n",
    "    print('New\\n', (~np.isnan(ds_new)).sum(dim=['time', 'step']).values)\n",
    "\n",
    "    # Make sure new time matches valid time in original raw data\n",
    "    plt.scatter(ds_new.time, ds_new.isel(latitude=0, longitude=0, step=0), marker='.', s=100)\n",
    "    plt.scatter(ds.valid_time.isel(step=0), ds.cin.isel(latitude=0, longitude=0, step=0), marker='x', s=30, lw=1.5)"
   ],
   "id": "ea5f7fccd62f56a6",
   "outputs": [
    {
     "name": "stdout",
     "output_type": "stream",
     "text": [
      "Number of non nan values at lat/lon. Should be the same\n",
      "Original\n",
      " [[32 26 28 24]\n",
      " [32 36 28 31]\n",
      " [33 36 22 31]\n",
      " [33 39 22 23]]\n",
      "New\n",
      " [[32 26 28 24]\n",
      " [32 36 28 31]\n",
      " [33 36 22 31]\n",
      " [33 39 22 23]]\n"
     ]
    },
    {
     "data": {
      "text/plain": [
       "<Figure size 640x480 with 1 Axes>"
      ],
      "image/png": "[encoded data removed]"
     },
     "metadata": {},
     "output_type": "display_data",
     "jetTransient": {
      "display_id": null
     }
    }
   ],
   "execution_count": 6
  },
  {
   "metadata": {},
   "cell_type": "markdown",
   "source": [
    "### Combine all variables\n",
    "For single level data, we have to load each variable individually as can't combine step and non step variables."
   ],
   "id": "a43cbf9167b92d8b"
  },
  {
   "metadata": {
    "ExecuteTime": {
     "end_time": "2025-09-11T16:14:41.388204Z",
     "start_time": "2025-09-11T16:14:35.460024Z"
    }
   },
   "cell_type": "code",
   "source": [
    "ds_all = {}\n",
    "for var in grib_vars:\n",
    "    ds = xr.open_dataset(grib_path_single_lev, engine=\"cfgrib\",\n",
    "                         filter_by_keys={'shortName': era5_var_map[var]})\n",
    "    if len(ds)==0:\n",
    "        warnings.warn(f\"{var} does not exist\")\n",
    "        # print(ds)\n",
    "        continue\n",
    "    name = list(ds.data_vars)[0]\n",
    "    ds = ds[name]      # convert to dataarray\n",
    "    if 'step' in ds.dims:\n",
    "        ds = align_var_with_step(ds, times_all)\n",
    "    else:\n",
    "        ds = ds.drop_vars(['step'])\n",
    "    ds_all[name] = ds\n",
    "\n",
    "ds_all = xr.Dataset(ds_all)\n",
    "ds_all = ds_all.drop_vars('valid_time')"
   ],
   "id": "63d9542680eae0b9",
   "outputs": [],
   "execution_count": 7
  },
  {
   "metadata": {},
   "cell_type": "markdown",
   "source": "## Load in pressure level data",
   "id": "653f82db3a94944e"
  },
  {
   "metadata": {
    "ExecuteTime": {
     "end_time": "2025-09-11T16:15:04.240963Z",
     "start_time": "2025-09-11T16:14:45.554897Z"
    }
   },
   "cell_type": "code",
   "source": [
    "grib_path_pressure = f'{dir_base}/{loc}/output_pressure_grib.nc'\n",
    "ds_plev = xr.load_dataset(grib_path_pressure, engine=\"cfgrib\")\n",
    "\n",
    "# rename pressure variable and get rid of step and valid_time\n",
    "ds_plev = ds_plev.rename_dims({'isobaricInhPa': 'plev'})\n",
    "ds_plev = ds_plev.rename_vars({'isobaricInhPa': 'plev'})\n",
    "ds_plev = ds_plev.drop_vars(['step', 'valid_time'])"
   ],
   "id": "b7bcf739c90f13a3",
   "outputs": [],
   "execution_count": 8
  },
  {
   "metadata": {},
   "cell_type": "markdown",
   "source": [
    "## Combine and save data as single netCDF\n",
    "Lastly, we combine the pressure and single level data to output as a single netCDF file.\n",
    "The lat and lon coordinates are slightly different so we reindex here."
   ],
   "id": "56dca56bec6cffb7"
  },
  {
   "metadata": {
    "ExecuteTime": {
     "end_time": "2025-09-11T16:15:07.622200Z",
     "start_time": "2025-09-11T16:15:05.687462Z"
    }
   },
   "cell_type": "code",
   "source": [
    "netcdf_path = f'{dir_base}/{loc}/output.nc'\n",
    "if (loc == 'russia') and (ds_all.latitude.size != ds_plev.latitude.size):\n",
    "    # Saved one too many latitudes for single level data for russia\n",
    "    ds_all = ds_all.sel(latitude=ds_plev.latitude, method='nearest')\n",
    "    print('Got rid of a latitude value for single level data')\n",
    "# align lat and lon, then combine two datasets\n",
    "ds_out = xr.merge([ds_all, ds_plev.reindex(latitude=ds_all.latitude, longitude=ds_all.longitude, method=\"nearest\") ])\n",
    "\n",
    "# Add surface geopotential from invariant (i.e. gz_surf). Use year 2000 as closest I have but should be constant in time\n",
    "z_surf_path = '/Users/joshduffield/Documents/StAndrews/Isca/jobs/era5/invariants/z2000.nc'\n",
    "geopotential_surf = xr.load_dataset(z_surf_path).reindex(latitude=ds_all.latitude, longitude=ds_all.longitude, method=\"nearest\")\n",
    "ds_out['geopotential_surf'] = geopotential_surf.z\n",
    "ds_out['geopotential_surf'] = isca_tools.utils.set_attrs(ds_out['geopotential_surf'], True,\n",
    "                                                         long_name='Geopotential (surface)', standard_name='geopotential_surface')\n",
    "\n",
    "# Save all data together\n",
    "ds_out.to_netcdf(netcdf_path)"
   ],
   "id": "ccbf67aa6bc3ab9e",
   "outputs": [],
   "execution_count": 9
  },
  {
   "metadata": {},
   "cell_type": "code",
   "outputs": [],
   "execution_count": null,
   "source": "",
   "id": "3832230454d04f5e"
  }
 ],
 "metadata": {
  "kernelspec": {
   "display_name": "Python 3",
   "language": "python",
   "name": "python3"
  },
  "language_info": {
   "codemirror_mode": {
    "name": "ipython",
    "version": 2
   },
   "file_extension": ".py",
   "mimetype": "text/x-python",
   "name": "python",
   "nbconvert_exporter": "python",
   "pygments_lexer": "ipython2",
   "version": "2.7.6"
  }
 },
 "nbformat": 4,
 "nbformat_minor": 5
}
