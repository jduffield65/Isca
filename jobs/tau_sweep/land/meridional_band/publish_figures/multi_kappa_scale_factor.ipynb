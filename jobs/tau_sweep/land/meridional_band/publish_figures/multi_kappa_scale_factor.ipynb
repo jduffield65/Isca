{
 "cells": [
  {
   "cell_type": "markdown",
   "source": [
    "# Multi $\\kappa$ Scale Factor\n",
    "This applies the scale factor theory to all simulations, through regression."
   ],
   "metadata": {
    "collapsed": false
   }
  },
  {
   "cell_type": "code",
   "source": [
    "import copy\n",
    "import sys\n",
    "import os\n",
    "# REMOTE - So can access functions in isca_tools which is in home/Isca directory\n",
    "# sys.path.append(os.path.join(os.environ['HOME'], 'Isca'))\n",
    "# LOCAL - So can access functions in isca_tools which is in StAndrews/Isca\n",
    "sys.path.append(os.environ['PWD'])\n",
    "import isca_tools\n",
    "from isca_tools.utils.moist_physics import moist_static_energy, clausius_clapeyron_factor, sphum_sat\n",
    "from isca_tools.utils.constants import kappa, L_v, c_p, g, R\n",
    "from isca_tools.utils import area_weighting\n",
    "from isca_tools.papers.byrne_2021 import get_quant_ind\n",
    "from isca_tools.thesis.adiabat_theory import get_theory_prefactor_terms, get_temp_adiabat\n",
    "from isca_tools.thesis.adiabat_theory2 import get_approx_terms, get_scale_factor_theory\n",
    "from isca_tools.utils.stats import z_score_from_confidence_interval\n",
    "from isca_tools.plot import label_subplots\n",
    "import numpy as np\n",
    "import matplotlib.pyplot as plt\n",
    "import xarray as xr\n",
    "import scipy.optimize\n",
    "from tqdm.notebook import tqdm\n",
    "from scipy import integrate\n",
    "import numpy_indexed\n",
    "from scipy.stats import percentileofscore\n",
    "import copy\n",
    "# Use custom matplotlib style for publishing\n",
    "plt.style.use('/Users/joshduffield/Documents/StAndrews/Isca/jobs/tau_sweep/aquaplanet/publish_figures/publish.mplstyle')"
   ],
   "metadata": {
    "collapsed": false,
    "ExecuteTime": {
     "end_time": "2025-03-12T13:03:51.289493Z",
     "start_time": "2025-03-12T13:03:51.268070Z"
    }
   },
   "outputs": [],
   "execution_count": 74
  },
  {
   "cell_type": "code",
   "source": [
    "# Load dataset - one at surface and one in free troposphere\n",
    "var_keep = ['temp', 'sphum', 'height']        # only keep variables required to compute relative humidity and MSE\n",
    "\n",
    "\n",
    "use_time_start = 360*2\n",
    "pressure_ft = 500               # Desired approximate pressure of free troposphere (hPa)\n",
    "\n",
    "# Load dataset\n",
    "tau_lw_ref = 1\n",
    "tau_lw_warm = 1.5\n",
    "# refer to bucket model with vegetation as bucket\n",
    "# Don't include actual bucket, as looks very similar to bucket with vegetation param\n",
    "# exp_names = ['Aquaplanet', 'Constant conductivity', 'Bucket']\n",
    "# exp_dir = ['tau_sweep/aquaplanet/', 'tau_sweep/land/meridional_band/evap/',\n",
    "#            'tau_sweep/land/meridional_band/bucket_evap/evap=0_1/']\n",
    "# exp_dir = 'tau_sweep/land/meridional_band/depth=1/bucket_evap/'\n",
    "exp_dir = 'tau_sweep/aquaplanet/depth=1/'\n",
    "\n",
    "# exp_names = ['Aquaplanet', 'Constant conductivity', 'Bucket', 'Bucket - $C_V$']\n",
    "# exp_dir = ['tau_sweep/aquaplanet/', 'tau_sweep/land/meridional_band/evap/', 'tau_sweep/land/meridional_band/bucket/',\n",
    "#            'tau_sweep/land/meridional_band/bucket_evap/evap=0_1/']\n",
    "# color_seq_exp = ['b', 'g', 'orange', 'r']\n",
    "\n",
    "kappa_names = [dir for dir in os.listdir(os.path.join(os.environ['GFDL_DATA'],exp_dir)) if dir[0]=='k']\n",
    "kappa_names.sort()\n",
    "n_kappa = len(kappa_names)\n",
    "\n",
    "ds = []\n",
    "albedo = []\n",
    "tau_sw = []\n",
    "tau_lw = []\n",
    "with tqdm(total=n_kappa, position=0, leave=True) as pbar:\n",
    "    for j in range(n_kappa):\n",
    "        ds_use = isca_tools.load_dataset(exp_dir + kappa_names[j]).sel(time=slice(use_time_start, np.inf))[var_keep]\n",
    "        \n",
    "        ds += [ds_use.sel(pfull=[np.inf, pressure_ft], method='nearest')]      # only keep the surface and free troposphere values\n",
    "        namelist = isca_tools.load_namelist(exp_dir + kappa_names[j])  # Need this for albedo_value\n",
    "        albedo += [namelist['mixed_layer_nml']['albedo_value']]\n",
    "        tau_sw += [namelist['two_stream_gray_rad_nml']['atm_abs']]\n",
    "        tau_lw += [namelist['two_stream_gray_rad_nml']['odp']]\n",
    "        pbar.update(1)\n",
    "tau_lw = np.asarray(tau_lw)\n",
    "pfull = ds_use.pfull\n",
    "ind_surf = 0\n",
    "ind_ft = 1\n",
    "p_surface = float(ds[0].pfull[ind_surf]) * 100\n",
    "pressure_ft_actual = float(ds[0].pfull[ind_ft]) * 100       # Actual pressure of free troposphere (Pa)\n",
    "n_pressure = ds[0].pfull.size\n",
    "lnp_const = R * np.log(p_surface/pressure_ft_actual)/2      # for modified MSE calculation"
   ],
   "metadata": {
    "collapsed": false,
    "ExecuteTime": {
     "end_time": "2025-03-12T14:35:31.367864Z",
     "start_time": "2025-03-12T14:35:20.869444Z"
    }
   },
   "outputs": [
    {
     "data": {
      "text/plain": [
       "  0%|          | 0/8 [00:00<?, ?it/s]"
      ],
      "application/vnd.jupyter.widget-view+json": {
       "version_major": 2,
       "version_minor": 0,
       "model_id": "518b3b90db8f4a679b7494503c2b32c6"
      }
     },
     "metadata": {},
     "output_type": "display_data"
    }
   ],
   "execution_count": 191
  },
  {
   "cell_type": "markdown",
   "source": [
    "## Get datasets\n",
    "Get one dataset for summer for each $\\kappa$, combining all latitudes: `ds_all`. This combines the all or just tbe summer months in each hemisphere, e.g. negative latitudes will only correspond to times in December, January or February."
   ],
   "metadata": {
    "collapsed": false
   }
  },
  {
   "metadata": {
    "ExecuteTime": {
     "end_time": "2025-03-13T07:46:07.441642Z",
     "start_time": "2025-03-13T07:46:07.427369Z"
    }
   },
   "cell_type": "code",
   "source": [
    "# If true, will save all figures to desktop - option to save specific figures later on.\n",
    "save_fig = False\n",
    "# if publishing figure, use high dpi\n",
    "publish_fig = True\n",
    "\n",
    "ar = 4/3        # aspect ratio (width/height)\n",
    "# Details required for Journal of Climate Figures\n",
    "low_dpi = 100\n",
    "dpi = {'monochrome': 1100, 'combination': 800, 'halftone': 300}\n",
    "width = {'one_col': 3.2, 'two_col': 5.5}        # width in inches \n",
    "save_pad_inches = 0.05\n",
    "im_sz = 1.5\n",
    "\n",
    "\n",
    "# Default parameters\n",
    "default_colors = plt.rcParams['axes.prop_cycle'].by_key()['color']\n",
    "color_exp = plt.cm.jet(np.linspace(0, 1, n_kappa))\n",
    "ax_linewidth = plt.rcParams['axes.linewidth']\n",
    "lw_publish = 1\n",
    "\n",
    "labels_exp = ['$\\kappa={:.1f}$'.format(tau_lw[i]) for i in range(n_kappa)]"
   ],
   "outputs": [],
   "execution_count": 246
  },
  {
   "cell_type": "code",
   "source": [
    "# Show where the land is\n",
    "save_land_fig = False\n",
    "\n",
    "job_dir = os.path.join(os.path.dirname(os.environ['GFDL_DATA']), 'jobs')\n",
    "land_file_name = os.path.join(job_dir, exp_dir, kappa_names[0], 'land.nc')\n",
    "is_land_data = os.path.exists(land_file_name)\n",
    "if is_land_data:\n",
    "    fig, ax = plt.subplots(1,1, figsize=(width['one_col'], width['one_col']/ar))\n",
    "    isca_tools.plot.show_land(land_file_name, fig=fig, ax=ax)\n",
    "    lon_land = isca_tools.utils.land.get_land_coords(land_file=land_file_name)[1]       # get the longitude coordinates of land\n",
    "    \n",
    "    if save_fig or save_land_fig:\n",
    "        fig.savefig(f\"/Users/joshduffield/Desktop/land_coords.pdf\",\n",
    "                    dpi=dpi['combination'] if publish_fig else low_dpi, bbox_inches='tight', pad_inches=save_pad_inches)"
   ],
   "metadata": {
    "collapsed": false,
    "ExecuteTime": {
     "end_time": "2025-03-12T14:35:31.478341Z",
     "start_time": "2025-03-12T14:35:31.474002Z"
    }
   },
   "outputs": [],
   "execution_count": 193
  },
  {
   "cell_type": "code",
   "source": [
    "# Load in across all latitudes, for given season\n",
    "\n",
    "# Select region to combine latitudes over for all but one of the plots below\n",
    "# Tropics\n",
    "region = 'tropics'\n",
    "lat_min = 0\n",
    "lat_max = 20\n",
    "# Extratropics\n",
    "# region = 'extratropics'\n",
    "# lat_min = 40\n",
    "# lat_max = 65\n",
    "# lat_min = 70\n",
    "# lat_max = 90\n",
    "\n",
    "# Chose whether to only consider summer days or consider all days\n",
    "# season = 'all'\n",
    "season = 'summer'\n",
    "# season = 'winter'\n",
    "if season == 'summer':\n",
    "    if region == 'tropics':\n",
    "        season_months = {'nh': [5, 6, 7, 8, 9, 10], 'sh': [11, 12, 1, 2, 3, 4]}   \n",
    "    else:\n",
    "        season_months = {'nh': [6, 7, 8], 'sh': [12, 1, 2]}   # JJA for NH and DJF for SH\n",
    "elif season == 'winter':\n",
    "    if region == 'tropics':\n",
    "        season_months = {'sh': [5, 6, 7, 8, 9, 10], 'nh': [11, 12, 1, 2, 3, 4]}\n",
    "    else:\n",
    "        season_months = {'sh': [6, 7, 8], 'nh': [12, 1, 2]} \n",
    "\n",
    "lat_use_ind = np.where((np.abs(ds[0].lat) <= lat_max) & (np.abs(ds[0].lat) >= lat_min))[0]\n",
    "n_lat = len(lat_use_ind)\n",
    "lat_weights = np.cos(np.deg2rad(ds[0].lat))[lat_use_ind]\n",
    "lat = ds[0].lat[lat_use_ind].to_numpy()\n",
    "\n",
    "# Whether to do taylor expansion about mean over just land or mean over whole planet\n",
    "mean_method = 'land'\n",
    "# mean_method = 'all'\n",
    "\n",
    "temp_av = {key: np.zeros((n_kappa, n_pressure, n_lat)) for key in ['mean', 'median']}\n",
    "z_av = {key: np.zeros((n_kappa, n_pressure, n_lat)) for key in ['mean', 'median']}\n",
    "r_av = {key: np.zeros((n_kappa, n_lat)) for key in ['mean', 'median']}\n",
    "epsilon_av = {key: np.zeros((n_kappa, n_lat)) for key in ['mean', 'median']}\n",
    "z_approx_error_av = {key: np.zeros((n_kappa, n_lat)) for key in ['mean', 'median']}        # error in z used in mse_mod approx\n",
    "# Decide how to compute humidities - do q first and then r from this ('sphum'), or vice versa ('r')?\n",
    "\n",
    "R_mod = get_theory_prefactor_terms(0, p_surface, pressure_ft_actual)[0]   # need to compute mse_mod\n",
    "\n",
    "ds_all = []\n",
    "with tqdm(total=n_kappa, position=0, leave=True) as pbar:\n",
    "    for j in range(n_kappa):\n",
    "        ds_use = ds[j].isel(lat=lat_use_ind)   # only keep latitudes being used to save memory\n",
    "        \n",
    "        if is_land_data:\n",
    "            # if not aquaplanet, then is land and only consider land longitudes\n",
    "            ds_use = ds_use.isel(lon=np.where(np.isin(ds_use.lon, np.unique(lon_land)))[0])\n",
    "        \n",
    "        if season in ['summer', 'winter']:\n",
    "            ds_nh_season = isca_tools.utils.annual_time_slice(ds_use, season_months['nh']).sel(lat=slice(0, 90))\n",
    "            ds_sh_season = isca_tools.utils.annual_time_slice(ds_use, season_months['sh']).sel(lat=slice(-90, 0))\n",
    "            # Combine hemispheres and average over longitude, time and latitude.\n",
    "            ds_use = xr.concat([ds_sh_season, ds_nh_season], dim='lat')\n",
    "        ds_use = ds_use.stack(lon_time=(\"lon\",\"time\"), create_index=False).chunk(dict(lon_time=-1))\n",
    "        ds_all += [ds_use.load()]\n",
    "        \n",
    "        if mean_method == 'all':\n",
    "            ds_use = ds[j].sel(time=slice(use_time_start, np.inf)).isel(lat=lat_use_ind)\n",
    "            ds_use = ds_use.stack(lon_time=(\"lon\",\"time\"), create_index=False).chunk(dict(lon_time=-1))\n",
    "        elif mean_method != 'land':\n",
    "            raise ValueError(f'Mean method is {mean_method} which is not valid.')\n",
    "        temp_av['mean'][j] = ds_use.temp.mean(dim='lon_time')\n",
    "        temp_av['median'][j] = ds_use.temp.median(dim='lon_time')\n",
    "        z_av['mean'][j] = ds_use.height.mean(dim='lon_time')\n",
    "        z_av['median'][j] = ds_use.height.mean(dim='lon_time')\n",
    "        rh_use = ds_use.sphum.isel(pfull=ind_surf)/sphum_sat(ds_use.temp.isel(pfull=ind_surf), p_surface)\n",
    "        r_av['mean'][j] = rh_use.mean(dim='lon_time')\n",
    "        r_av['median'][j] = rh_use.median(dim='lon_time')\n",
    "        mse_use_surf = moist_static_energy(ds_use.temp.isel(pfull=ind_surf), ds_use.sphum.isel(pfull=ind_surf), height=ds_use.height.isel(pfull=ind_surf))\n",
    "        mse_use_ft = moist_static_energy(ds_use.temp.isel(pfull=ind_ft), sphum_sat(ds_use.temp.isel(pfull=ind_ft), pressure_ft_actual),\n",
    "                                         height=ds_use.height.isel(pfull=ind_ft))\n",
    "        epsilon_use = mse_use_surf-mse_use_ft\n",
    "        epsilon_av['mean'][j] = epsilon_use.mean(dim='lon_time')\n",
    "        epsilon_av['median'][j] = epsilon_use.median(dim='lon_time')\n",
    "        mse_mod_use = moist_static_energy(ds_use.temp.isel(pfull=ind_surf), ds_use.sphum.isel(pfull=ind_surf), height=0, c_p_const=c_p-R_mod\n",
    "                                          ) - epsilon_use\n",
    "        mse_mod_use_ft_approx = moist_static_energy(ds_use.temp.isel(pfull=ind_ft), sphum_sat(ds_use.temp.isel(pfull=ind_ft), pressure_ft_actual),\n",
    "                                                    height=0, c_p_const=c_p+R_mod)\n",
    "        z_error_use = mse_mod_use - mse_mod_use_ft_approx\n",
    "        z_approx_error_av['mean'][j] = z_error_use.mean(dim='lon_time')\n",
    "        z_approx_error_av['median'][j] = z_error_use.median(dim='lon_time')\n",
    "        pbar.update(1)"
   ],
   "metadata": {
    "collapsed": false,
    "ExecuteTime": {
     "end_time": "2025-03-12T14:36:52.342823Z",
     "start_time": "2025-03-12T14:35:31.527709Z"
    }
   },
   "outputs": [
    {
     "data": {
      "text/plain": [
       "  0%|          | 0/8 [00:00<?, ?it/s]"
      ],
      "application/vnd.jupyter.widget-view+json": {
       "version_major": 2,
       "version_minor": 0,
       "model_id": "1b1d0351b21f4ac5a5287e089853e048"
      }
     },
     "metadata": {},
     "output_type": "display_data"
    }
   ],
   "execution_count": 194
  },
  {
   "cell_type": "code",
   "source": [
    "# Get all data needed to compute theoretical temp change and to plot actual temp change for each quantile of temperature\n",
    "quant_plot = np.arange(1, 100)     # avoid 0 quantile as it gives weird results\n",
    "n_quant = len(quant_plot)\n",
    "percentile_label = 'Temperature percentile, $x$'\n",
    "\n",
    "# quant2 is the actual quantile value rather than the average above a given quantile\n",
    "temp_quant3 = np.zeros((n_kappa, n_pressure, n_lat, n_quant))\n",
    "sphum_quant3 = np.zeros((n_kappa, n_lat, n_quant))\n",
    "z_quant3 = np.zeros((n_kappa, n_pressure, n_lat, n_quant))\n",
    "convflag_quant3 = np.zeros((n_kappa, n_lat, n_quant))\n",
    "klzbs_quant3 = np.zeros((n_kappa, n_lat, n_quant))\n",
    "convfract_quant3 = np.zeros((n_kappa, n_lat, n_quant))            # record fraction of days convecting\n",
    "\n",
    "with tqdm(total=n_kappa*n_quant*n_lat, position=0, leave=True) as pbar:\n",
    "    for j in range(n_kappa):\n",
    "        ds_use = ds_all[j]\n",
    "        for k in range(n_lat):\n",
    "            for q, quant in enumerate(quant_plot):\n",
    "                use_ind = get_quant_ind(ds_use.temp[ind_surf, k], quant, 0.5, 0.5)\n",
    "                # Make sure to compute temp_quant at FT level using near-surface quantiles\n",
    "                temp_quant3[j, :, k, q] = ds_use.temp[:, k, use_ind].mean(dim='lon_time')\n",
    "                z_quant3[j, :, k, q] = ds_use.height[:, k, use_ind].mean(dim='lon_time')\n",
    "                sphum_quant3[j, k, q] = ds_use.sphum[ind_surf, k, use_ind].mean(dim='lon_time')\n",
    "                pbar.update(1)\n",
    "\n",
    "# computed as in get_scaling_factor_theory function in adiabat_theory.py, computing sphum quant first\n",
    "# Really doesn't matter though but I think this method is simpler\n",
    "# When computing average, I think it does make more sense to compute sphum_av from r_av because theory built around RH\n",
    "r_quant3 = sphum_quant3 / sphum_sat(temp_quant3[:, ind_surf], p_surface)"
   ],
   "metadata": {
    "collapsed": false,
    "ExecuteTime": {
     "end_time": "2025-03-12T14:38:02.604555Z",
     "start_time": "2025-03-12T14:36:52.509407Z"
    }
   },
   "outputs": [
    {
     "data": {
      "text/plain": [
       "  0%|          | 0/11088 [00:00<?, ?it/s]"
      ],
      "application/vnd.jupyter.widget-view+json": {
       "version_major": 2,
       "version_minor": 0,
       "model_id": "aec51d6f558b4a2ba07dcb90fb4d45ce"
      }
     },
     "metadata": {},
     "output_type": "display_data"
    }
   ],
   "execution_count": 195
  },
  {
   "metadata": {
    "ExecuteTime": {
     "end_time": "2025-03-12T14:38:02.664671Z",
     "start_time": "2025-03-12T14:38:02.661511Z"
    }
   },
   "cell_type": "code",
   "source": [
    "# Copy epsilon calculation from get_scaling_factor_theory function in adiabat_theory.py\n",
    "# In units of kJ/kg\n",
    "epsilon_quant3 = (moist_static_energy(temp_quant3[:, ind_surf], sphum_quant3, height=z_quant3[:, ind_surf]) -\n",
    "                 moist_static_energy(temp_quant3[:, ind_ft], sphum_sat(temp_quant3[:, ind_ft], pressure_ft_actual), z_quant3[:, ind_ft]))\n",
    "# epsilon_av = {}\n",
    "# for key in ['mean', 'median']:\n",
    "#     epsilon_av[key] = (moist_static_energy(temp_av[key][:, ind_surf], r_av[key] * sphum_sat(temp_av[key][:, ind_surf], p_surface), height=0) -\n",
    "#                        moist_static_energy(temp_av[key][:, ind_ft], sphum_sat(temp_av[key][:, ind_ft], pressure_ft_actual), z_av[key][:, ind_ft]))"
   ],
   "outputs": [],
   "execution_count": 196
  },
  {
   "metadata": {},
   "cell_type": "markdown",
   "source": [
    "## Reference Climate\n",
    "In the theory, we are free to choose the reference day, and the change with warming of this day, that the theory is built around. We must specify the reference surface temperature, $\\tilde{T}_s$, relative humidity, $\\tilde{r}_s$, CAPE proxy, $\\tilde{\\epsilon}$ and error due to approximation of geopotential height, $\\tilde{A}_z$.\n",
    "\n",
    "Given these three values, we can compute the reference free tropospheric temperature, $\\tilde{T}_{FT}$, by equating two equations for reference modified MSE, $\\tilde{h}^{\\dagger}$:\n",
    "\n",
    "$\\tilde{h}^{\\dagger} = (c_p - R^{\\dagger})\\tilde{T}_s + L_v \\tilde{q}_s - \\epsilon = (c_p + R^{\\dagger})\\tilde{T}_{FT} + L_vq^*(\\tilde{T}_{FT}, p_{FT})\n",
    " + \\tilde{A}_z$\n",
    "\n",
    "Where we use the computed average error due to z approximation, $\\tilde{A}_z$ in this computation of $\\tilde{T}_{FT}$.\n",
    "\n",
    "For ease of interpretation later, I propose:\n",
    "* $\\tilde{T}_s = \\overline{T_s}; \\delta \\tilde{T}_s = \\delta \\overline{T_s}$\n",
    "* $\\tilde{r}_s = \\overline{r_s}; \\delta \\tilde{r}_s = 0$\n",
    "* $\\tilde{\\epsilon} = 0; \\delta \\tilde{\\epsilon} = 0$\n",
    "* $\\tilde{A}_z = \\overline{A}_z; \\delta \\tilde{A}_z = 0$\n",
    "\n",
    "where the overline refers to the time-zonal mean value of that quantity."
   ]
  },
  {
   "metadata": {
    "ExecuteTime": {
     "end_time": "2025-03-12T14:38:02.706853Z",
     "start_time": "2025-03-12T14:38:02.688631Z"
    }
   },
   "cell_type": "code",
   "source": [
    "av_use = 'mean'\n",
    "# Recommended reference day\n",
    "r_ref = np.zeros((n_kappa, n_lat))\n",
    "r_ref[:] = r_av[av_use][0]        # no change in rh with warming, assumed for ref                    # use\n",
    "epsilon_ref = np.zeros((n_kappa, n_lat))        # Normalise relative to day with zero CAPE in each simulation         # use actual average epsilon\n",
    "temp_ref = np.zeros((n_kappa, n_pressure, n_lat))\n",
    "temp_ref[:, ind_surf] = temp_av[av_use][:, ind_surf]  # Have actual average surface temperature change with warming\n",
    "z_approx_error_ref = np.zeros((n_kappa, n_lat))\n",
    "\n",
    "# Amendment if want to use actual average day as reference in both climates\n",
    "use_av_as_ref = False\n",
    "if use_av_as_ref:\n",
    "    r_ref[:] = r_av[av_use]\n",
    "    epsilon_ref[:] = epsilon_av[av_use]\n",
    "    z_approx_error_ref[:] = z_approx_error_av[av_use]\n",
    "\n",
    "sphum_ref = r_ref * sphum_sat(temp_ref[:, ind_surf], p_surface)\n",
    "\n",
    "# Given reference T_s, RH and epsilon, as well as error due to z approximation, T_FT directly from the modified MSE equation.\n",
    "# This means that there is no approximation associated with geopotential height for the reference day\n",
    "for i in range(n_kappa):\n",
    "    for j in range(n_lat):\n",
    "        # Include error due to z as modification of epsilon\n",
    "        temp_ref[i, ind_ft, j] = get_temp_adiabat(temp_ref[i, ind_surf, j], sphum_ref[i, j],\n",
    "                                                    p_surface, pressure_ft_actual, epsilon=epsilon_ref[i, j] + z_approx_error_ref[i, j])"
   ],
   "outputs": [],
   "execution_count": 197
  },
  {
   "metadata": {
    "ExecuteTime": {
     "end_time": "2025-03-12T14:38:02.795546Z",
     "start_time": "2025-03-12T14:38:02.745245Z"
    }
   },
   "cell_type": "code",
   "source": [
    "# Plot showing how reference values differs from average\n",
    "# If averaged used as ref for all simulations above, then av and ref below should match up exactly\n",
    "show_plot = False\n",
    "av_plot = av_use\n",
    "fig, ax = plt.subplots(1,4, figsize=(4*im_sz*width['one_col'], im_sz*width['one_col']/ar), sharex=True)\n",
    "for i in range(n_kappa):\n",
    "    ax[0].plot(lat, temp_av[av_plot][i, ind_surf], color=color_exp[i], label=labels_exp[i])\n",
    "    ax[0].plot(lat, temp_ref[i, ind_surf], color=color_exp[i], linestyle=':')\n",
    "    ax[1].plot(lat, temp_av[av_plot][i, ind_ft], color=color_exp[i], label=av_plot.capitalize() if i==0 else None)\n",
    "    ax[1].plot(lat, temp_ref[i, ind_ft], color=color_exp[i], linestyle=':', label='Reference' if i==0 else None)\n",
    "    ax[2].plot(lat, r_av[av_plot][i]*100, color=color_exp[i])\n",
    "    ax[2].plot(lat, r_ref[i]*100, color=color_exp[i], linestyle=':')\n",
    "    ax[3].plot(lat, epsilon_av[av_plot][i], color=color_exp[i])\n",
    "    ax[3].plot(lat, epsilon_ref[i], color=color_exp[i], linestyle=':')\n",
    "ax[0].legend()\n",
    "ax[1].legend()\n",
    "ax[0].set_xlim(lat[0], lat[-1])\n",
    "ax[0].set_ylabel('$T_s$')\n",
    "ax[1].set_ylabel('$T_{FT}$')\n",
    "ax[2].set_ylabel('$r_s$')\n",
    "ax[3].set_ylabel('$\\epsilon$')\n",
    "if show_plot:\n",
    "    plt.show()\n",
    "else:\n",
    "    plt.close()"
   ],
   "outputs": [],
   "execution_count": 198
  },
  {
   "metadata": {
    "ExecuteTime": {
     "end_time": "2025-03-12T14:38:02.912062Z",
     "start_time": "2025-03-12T14:38:02.833343Z"
    }
   },
   "cell_type": "code",
   "source": [
    "# delta_temp_quant_theory[0] will be all zeros and never used, but helpful to keep this shape\n",
    "delta_temp_quant_theory = {method: np.zeros((n_kappa, n_lat, n_quant)) for method in\n",
    "                           ['linear', 'non-linear']}\n",
    "delta_temp_quant_theory_cont = {key: np.zeros((n_kappa, n_lat, n_quant)) for key in ['temp_ft_change', 'r_change', 'epsilon_change',\n",
    "                                                                            'temp_anom', 'r_anom', 'epsilon_anom']}\n",
    "for method in delta_temp_quant_theory:\n",
    "    for i in range(n_lat):\n",
    "        for j in range(n_kappa-1):\n",
    "            delta_temp_quant_theory[method][j+1, i], _, _, var = \\\n",
    "                    get_scale_factor_theory(temp_ref[j:j+2, ind_surf, i], temp_quant3[j:j+2, ind_surf, i], r_ref[j:j+2, i], r_quant3[j:j+2, i],\n",
    "                                                                   temp_quant3[j:j+2, ind_ft, i], epsilon_quant3[j:j+2, i], p_surface,\n",
    "                                                                   pressure_ft_actual, epsilon_ref[j:j+2, i], z_approx_error_ref[j:j+2, i])\n",
    "            delta_temp_quant_theory[method][j+1, i] *= np.diff(temp_ref[j:j+2, ind_surf, i], axis=0)\n",
    "            for key in delta_temp_quant_theory_cont:\n",
    "                delta_temp_quant_theory_cont[key][j+1, i] = var[key] * np.diff(temp_ref[j:j+2, ind_surf, i], axis=0)\n",
    "temp_surf_quant3_theory = {method: temp_quant3[0, ind_surf] + np.cumsum(delta_temp_quant_theory[method], axis=0) for method in delta_temp_quant_theory}\n",
    "temp_surf_quant3_theory_cont = {key: np.cumsum(delta_temp_quant_theory_cont[key], axis=0) for key in delta_temp_quant_theory_cont}"
   ],
   "outputs": [],
   "execution_count": 199
  },
  {
   "metadata": {
    "ExecuteTime": {
     "end_time": "2025-03-12T14:38:02.962595Z",
     "start_time": "2025-03-12T14:38:02.950979Z"
    }
   },
   "cell_type": "code",
   "source": [
    "# Sanity check that theory is working\n",
    "show_plot = False\n",
    "plot_lat_ind = -5\n",
    "plot_quant_ind = -93\n",
    "\n",
    "fig, ax = plt.subplots(1,1, figsize=(im_sz*width['one_col'], im_sz*width['one_col']/ar))\n",
    "ax.plot(temp_ref[:, ind_surf, plot_lat_ind], temp_quant3[:, ind_surf, plot_lat_ind, plot_quant_ind], color='k', marker='o', label='Simulated')\n",
    "ax.plot(temp_ref[:, ind_surf, plot_lat_ind], temp_surf_quant3_theory['linear'][:, plot_lat_ind, plot_quant_ind], color='k', linestyle=':', label='Theory')\n",
    "ax.set_xlabel('$\\overline{T}_s$ [K]')\n",
    "ax.set_ylabel(f'$T_s(x={quant_plot[plot_quant_ind]})$ [K]')\n",
    "ax.legend()\n",
    "ax.set_title('Lat={:.2f}$\\degree$'.format(ds_all[0].lat[plot_lat_ind]))\n",
    "if show_plot:\n",
    "    plt.show()\n",
    "else:\n",
    "    plt.close()"
   ],
   "outputs": [],
   "execution_count": 200
  },
  {
   "metadata": {
    "ExecuteTime": {
     "end_time": "2025-03-12T14:38:03.002784Z",
     "start_time": "2025-03-12T14:38:02.999077Z"
    }
   },
   "cell_type": "code",
   "source": [
    "def get_gradient(temp_quant, temp_ref, ref_ind, confidence=0.9):\n",
    "    \"\"\"\n",
    "    Gets gradient of temperature of given quantile vs average temperature\n",
    "\n",
    "    Args:\n",
    "        temp_quant: [n_exp]\n",
    "            Temperature of given quantile for each experiment\n",
    "        temp_ref: [n_exp]\n",
    "            Reference temperature for each experiment\n",
    "        ref_ind: int\n",
    "            Regression line will go through (temp_ref[ref_ind], temp_quant[ref_ind])\n",
    "            I.e. it sets the intercept\n",
    "        confidence: float\n",
    "            Desired confidence in temperature\n",
    "\n",
    "    Returns:\n",
    "        float\n",
    "            Gradient K/K\n",
    "        [n_exp]\n",
    "            Predicted temperature for each experiment\n",
    "        float\n",
    "            Confidence value for the gradient, such that there is the desired confidence\n",
    "            in ± this value about returned gradient.\n",
    "    \"\"\"\n",
    "    fit_func = lambda x, m: temp_quant[ref_ind] + m*(x - temp_ref[ref_ind])     # Straight line through the ref point\n",
    "    param, pcov = scipy.optimize.curve_fit(fit_func, temp_ref, temp_quant)[:2]\n",
    "    # param_with_error = uncertainties.correlated_values(param, pcov)[0]\n",
    "    # param_std = param_with_error.std_dev\n",
    "    param_std = np.sqrt(pcov)\n",
    "    z_score = z_score_from_confidence_interval(confidence)\n",
    "    return param, fit_func(temp_ref, param), z_score * param_std"
   ],
   "outputs": [],
   "execution_count": 201
  },
  {
   "metadata": {
    "ExecuteTime": {
     "end_time": "2025-03-13T07:49:01.558444Z",
     "start_time": "2025-03-13T07:48:54.655672Z"
    }
   },
   "cell_type": "code",
   "source": [
    "# Consider 3 different groups of simulations: all; all below kappa=1. all above kappa=1\n",
    "sf_tau_use = [np.where(tau_lw<=np.inf)[0], np.where(tau_lw<=1.5)[0], np.where(tau_lw>=1.5)[0]]\n",
    "sf_tau_ref = [1.5, 1.5, 1.5]\n",
    "n_sf = len(sf_tau_use)\n",
    "sf_tau_ref_ind = [int(np.where(tau_lw[sf_tau_use[i]]==sf_tau_ref[i])[0]) for i in range(n_sf)]\n",
    "sf_labels = [f'${tau_lw[sf_tau_use[0]].min()} \\leq \\kappa \\leq {tau_lw[sf_tau_use[0]].max()}$',\n",
    "             f'$\\kappa \\leq {tau_lw[sf_tau_use[1]].max()}$',\n",
    "             f'$\\kappa \\geq {tau_lw[sf_tau_use[2]].min()}$']\n",
    "confidence = 0.9        # confidence bound for error bar\n",
    "\n",
    "scaling_factor = np.zeros((n_sf, n_lat, n_quant))\n",
    "scaling_factor_error = np.zeros((n_sf, n_lat, n_quant))\n",
    "scaling_factor_theory = {method: np.zeros((n_sf, n_lat, n_quant)) for method in delta_temp_quant_theory}\n",
    "scaling_factor_theory_cont = {key: np.zeros((n_sf, n_lat, n_quant)) for key in delta_temp_quant_theory_cont}\n",
    "\n",
    "with tqdm(total=n_sf*n_lat*n_quant, position=0, leave=True) as pbar:\n",
    "    for i in range(n_sf):\n",
    "        for j in range(n_quant):\n",
    "            # The theory predicts median change but not mean hence I use median rather than mean.\n",
    "            # This means can get theoretical scale factor rather than using simulated mean.\n",
    "            # This means x=50 will correspond to y=1 in all plots below.\n",
    "            # Straight line through the ref point\n",
    "            for k in range(n_lat):\n",
    "                scaling_factor[i, k, j], _, scaling_factor_error[i, k, j] = get_gradient(temp_quant3[sf_tau_use[i], ind_surf, k, j],\n",
    "                                                                                         temp_ref[sf_tau_use[i], ind_surf, k], sf_tau_ref_ind[i],\n",
    "                                                                                         confidence)\n",
    "                for method in scaling_factor_theory:\n",
    "                    scaling_factor_theory[method][i, k, j] = get_gradient(temp_surf_quant3_theory[method][sf_tau_use[i], k, j],\n",
    "                                                                          temp_ref[sf_tau_use[i], ind_surf, k],\n",
    "                                                                          sf_tau_ref_ind[i], confidence)[0]\n",
    "                for key in scaling_factor_theory_cont:\n",
    "                    scaling_factor_theory_cont[key][i, k, j] = get_gradient(temp_surf_quant3_theory_cont[key][sf_tau_use[i], k, j],\n",
    "                                                                          temp_ref[sf_tau_use[i], ind_surf, k],\n",
    "                                                                          sf_tau_ref_ind[i], confidence)[0]\n",
    "                pbar.update(1)"
   ],
   "outputs": [
    {
     "data": {
      "text/plain": [
       "  0%|          | 0/4158 [00:00<?, ?it/s]"
      ],
      "application/vnd.jupyter.widget-view+json": {
       "version_major": 2,
       "version_minor": 0,
       "model_id": "c31484af79d74754aed09c9f0629d2eb"
      }
     },
     "metadata": {},
     "output_type": "display_data"
    }
   ],
   "execution_count": 248
  },
  {
   "metadata": {
    "ExecuteTime": {
     "end_time": "2025-03-13T08:25:58.161116Z",
     "start_time": "2025-03-13T08:25:57.964202Z"
    }
   },
   "cell_type": "code",
   "source": [
    "save_sf_theory_fig = True\n",
    "# if publishing figure, use high dpi\n",
    "fig, ax = plt.subplots(1,1, figsize=(im_sz*width['one_col'], im_sz*width['one_col']/ar))\n",
    "for i in range(1, 3):\n",
    "    ax.plot(quant_plot, np.average(scaling_factor[i], axis=0, weights=lat_weights), color=default_colors[0+3*(i-1)],\n",
    "            label='Simulated' if is_land_data else sf_labels[i], lw=lw_publish)\n",
    "    ax.plot(quant_plot, np.average(scaling_factor_theory['linear'][i], axis=0, weights=lat_weights), color=default_colors[0+3*(i-1)],\n",
    "        linestyle='--', lw=lw_publish, label='Theory' if (is_land_data and i==1) else None)\n",
    "    ax.fill_between(quant_plot, np.average(scaling_factor[i]-scaling_factor_error[i], axis=0, weights=lat_weights),\n",
    "                    np.average(scaling_factor[i]+scaling_factor_error[i], axis=0, weights=lat_weights),\n",
    "                    fc=default_colors[0+3*(i-1)], alpha=0.1)\n",
    "\n",
    "ax.hlines(1, 0, 100, linewidth=ax_linewidth, color='k')\n",
    "ax.set_xlim(0,100)\n",
    "ax.set_ylim(0.8,1.2)\n",
    "ax.set_xlabel('Temperature percentile, $x$')\n",
    "ax.legend()\n",
    "if is_land_data:\n",
    "    label_subplots(fig, ax, ['b)'])\n",
    "else:\n",
    "    ax.set_ylabel('Scaling factor, $\\delta T(x)/\\delta \\overline{T}$')\n",
    "    label_subplots(fig, ax)\n",
    "plt.show()\n",
    "if save_sf_theory_fig:\n",
    "    isca_tools.savefig(fig, 'sf_theory', dpi=dpi['combination'] if publish_fig else low_dpi, bbox_inches='tight', pad_inches=save_pad_inches)"
   ],
   "outputs": [
    {
     "data": {
      "text/plain": [
       "<Figure size 480x360 with 1 Axes>"
      ],
      "image/png": "[encoded data removed]"
     },
     "metadata": {},
     "output_type": "display_data"
    }
   ],
   "execution_count": 279
  },
  {
   "metadata": {
    "ExecuteTime": {
     "end_time": "2025-03-13T08:21:56.513383Z",
     "start_time": "2025-03-13T08:21:56.458747Z"
    }
   },
   "cell_type": "code",
   "source": [
    "plot_sf_ind_use = 0\n",
    "show_plot = False\n",
    "fig, ax = plt.subplots(1,1, figsize=(im_sz*width['one_col'], im_sz*width['one_col']/ar))\n",
    "ax.plot(quant_plot, np.average(scaling_factor[plot_sf_ind_use], axis=0, weights=lat_weights), color='b', label='Simulated')\n",
    "ax.plot(quant_plot, np.average(scaling_factor_theory['linear'][plot_sf_ind_use], axis=0, weights=lat_weights), color='k',\n",
    "        linestyle='--', label=f'Theory')\n",
    "# Add error\n",
    "ax.fill_between(quant_plot, np.average(scaling_factor[plot_sf_ind_use]-scaling_factor_error[plot_sf_ind_use], axis=0, weights=lat_weights),\n",
    "                np.average(scaling_factor[plot_sf_ind_use]+scaling_factor_error[plot_sf_ind_use], axis=0, weights=lat_weights), fc='b', alpha=0.1)\n",
    "ax.hlines(1, 0, 100, linewidth=ax_linewidth, color='k')\n",
    "ax.legend()\n",
    "ax.set_xlim(0,100)\n",
    "ax.set_xlabel('Temperature percentile, $x$')\n",
    "ax.set_ylabel('Scaling factor, $\\delta T(x)/\\delta \\overline{T}$')\n",
    "if show_plot:\n",
    "    plt.show()\n",
    "else:\n",
    "    plt.close()"
   ],
   "outputs": [],
   "execution_count": 275
  },
  {
   "metadata": {
    "ExecuteTime": {
     "end_time": "2025-03-13T08:18:10.909630Z",
     "start_time": "2025-03-13T08:18:10.615641Z"
    }
   },
   "cell_type": "code",
   "source": [
    "colors_cont = {'temp_ft_change': default_colors[2],\n",
    "               'temp_anom': default_colors[3], 'r_anom': default_colors[4],\n",
    "               'r_change': default_colors[0],\n",
    "               'epsilon_anom': default_colors[5],\n",
    "               'epsilon_change': default_colors[1]}\n",
    "labels_cont = {'temp_ft_change': '$T_{FT}$ change', 'r_change': '$r_s$ change', 'epsilon_change': '$\\epsilon$ change',\n",
    "               'temp_anom': '$T_s$ climatological', 'r_anom': '$r_s$ climatological', 'epsilon_anom': '$\\epsilon$ climatological'}\n",
    "\n",
    "save_sf_breakdown_fig = True\n",
    "fig, ax = plt.subplots(1,2, figsize=(2*im_sz*width['one_col'], im_sz*width['one_col']/ar), sharey=True, sharex=True)\n",
    "for i in range(1, 3):\n",
    "    ax[i-1].plot(quant_plot, np.average(scaling_factor_theory['linear'][i], axis=0, weights=lat_weights),\n",
    "                 color='k', lw=1, linestyle='--', label='Theory')\n",
    "    for key in scaling_factor_theory_cont:\n",
    "        ax[i-1].plot(quant_plot, (0 if 'ft' in key else 1)+np.average(scaling_factor_theory_cont[key][i], axis=0, weights=lat_weights),\n",
    "                color=colors_cont[key], lw=lw_publish, label=labels_cont[key])\n",
    "    ax[i-1].axhline(1, color='k', lw=ax_linewidth)\n",
    "ax[0].set_xlim(0,100)\n",
    "if is_land_data:\n",
    "    label_subplots(fig, ax, ['c)', 'd)'])\n",
    "    ax[0].set_xlabel('Temperature percentile, $x$')\n",
    "    ax[1].set_xlabel('Temperature percentile, $x$')\n",
    "else:\n",
    "    label_subplots(fig, ax)\n",
    "    ax[0].set_xticklabels([])\n",
    "    ax[0].legend(ncol=2)\n",
    "    ax[0].set_title(sf_labels[1])\n",
    "    ax[1].set_title(sf_labels[2])\n",
    "ax[0].set_ylabel('Scaling factor, $\\delta T(x)/\\delta \\overline{T}$ Contribution')\n",
    "ax[0].set_ylim(0.5, 1.3)\n",
    "plt.show()\n",
    "if save_sf_breakdown_fig:\n",
    "    isca_tools.savefig(fig, 'sf_breakdown', dpi=dpi['combination'] if publish_fig else low_dpi, bbox_inches='tight', pad_inches=save_pad_inches)"
   ],
   "outputs": [
    {
     "data": {
      "text/plain": [
       "<Figure size 960x360 with 2 Axes>"
      ],
      "image/png": "[encoded data removed]"
     },
     "metadata": {},
     "output_type": "display_data"
    }
   ],
   "execution_count": 269
  },
  {
   "metadata": {
    "ExecuteTime": {
     "end_time": "2025-03-13T08:23:10.366654Z",
     "start_time": "2025-03-13T08:23:10.338414Z"
    }
   },
   "cell_type": "code",
   "source": [
    "show_plot = False\n",
    "fig, ax = plt.subplots(1,1, figsize=(im_sz*width['one_col'], im_sz*width['one_col']/ar))\n",
    "for key in scaling_factor_theory_cont:\n",
    "    ax.plot(quant_plot, np.average(scaling_factor_theory_cont[key][2]-scaling_factor_theory_cont[key][1], axis=0, weights=lat_weights),\n",
    "               label=key, color=colors_cont[key])\n",
    "ax.set_xlim(0,100)\n",
    "ax.hlines(0, 0, 100, linewidth=ax_linewidth, color='k')\n",
    "ax.legend(ncol=2)\n",
    "ax.set_xlabel('Temperature percentile, $x$')\n",
    "if show_plot:\n",
    "    plt.show()\n",
    "else:\n",
    "    plt.close()"
   ],
   "outputs": [],
   "execution_count": 276
  },
  {
   "metadata": {},
   "cell_type": "code",
   "outputs": [],
   "execution_count": null,
   "source": ""
  }
 ],
 "metadata": {
  "kernelspec": {
   "display_name": "Python 3",
   "language": "python",
   "name": "python3"
  },
  "language_info": {
   "codemirror_mode": {
    "name": "ipython",
    "version": 2
   },
   "file_extension": ".py",
   "mimetype": "text/x-python",
   "name": "python",
   "nbconvert_exporter": "python",
   "pygments_lexer": "ipython2",
   "version": "2.7.6"
  }
 },
 "nbformat": 4,
 "nbformat_minor": 0
}
