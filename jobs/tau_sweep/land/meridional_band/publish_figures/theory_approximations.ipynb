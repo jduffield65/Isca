{
 "cells": [
  {
   "cell_type": "markdown",
   "source": [
    "# Theory Approximations\n",
    "This runs through derivation of theory, one approximation at a time."
   ],
   "metadata": {
    "collapsed": false
   }
  },
  {
   "cell_type": "code",
   "source": [
    "import copy\n",
    "import sys\n",
    "import os\n",
    "# REMOTE - So can access functions in isca_tools which is in home/Isca directory\n",
    "# sys.path.append(os.path.join(os.environ['HOME'], 'Isca'))\n",
    "# LOCAL - So can access functions in isca_tools which is in StAndrews/Isca\n",
    "sys.path.append(os.environ['PWD'])\n",
    "import isca_tools\n",
    "from isca_tools.utils.moist_physics import moist_static_energy, clausius_clapeyron_factor, sphum_sat\n",
    "from isca_tools.utils.constants import kappa, L_v, c_p, g, R\n",
    "from isca_tools.utils import area_weighting\n",
    "from isca_tools.papers.byrne_2021 import get_quant_ind\n",
    "from isca_tools.thesis.adiabat_theory import get_theory_prefactor_terms,mse_mod_anom_change_ft_expansion, mse_mod_change_surf_expansion, \\\n",
    "    get_scaling_factor_theory\n",
    "from isca_tools.plot import label_subplots\n",
    "import numpy as np\n",
    "import matplotlib.pyplot as plt\n",
    "import xarray as xr\n",
    "import scipy.optimize\n",
    "from tqdm import tqdm\n",
    "from scipy import integrate\n",
    "import numpy_indexed\n",
    "from scipy.stats import percentileofscore\n",
    "import copy\n",
    "# Use custom matplotlib style for publishing\n",
    "plt.style.use('/Users/joshduffield/Documents/StAndrews/Isca/jobs/tau_sweep/aquaplanet/publish_figures/publish.mplstyle')"
   ],
   "metadata": {
    "collapsed": false,
    "ExecuteTime": {
     "end_time": "2024-06-12T09:11:49.270434Z",
     "start_time": "2024-06-12T09:11:47.653789Z"
    }
   },
   "outputs": [
    {
     "name": "stderr",
     "output_type": "stream",
     "text": [
      "2024-06-12 10:11:47,661 - isca - WARNING - Environment variable GFDL_SOC not set, but this is only required if using SocratesCodebase. Setting to None\n"
     ]
    }
   ],
   "execution_count": 1
  },
  {
   "cell_type": "code",
   "source": [
    "# Load dataset - one at surface and one in free troposphere\n",
    "var_keep = ['temp', 'sphum', 'height', 'klzbs', 'convflag']        # only keep variables required to compute relative humidity and MSE\n",
    "\n",
    "\n",
    "use_time_start = 360*2\n",
    "pressure_ft = 500               # Desired approximate pressure of free troposphere (hPa)\n",
    "\n",
    "# Load dataset\n",
    "tau_lw_ref = 1\n",
    "tau_lw_warm = 1.5\n",
    "# refer to bucket model with vegetation as bucket\n",
    "# Don't include actual bucket, as looks very similar to bucket with vegetation param\n",
    "# exp_names = ['Aquaplanet', 'Constant conductivity', 'Bucket']\n",
    "# exp_dir = ['tau_sweep/aquaplanet/', 'tau_sweep/land/meridional_band/evap/',\n",
    "#            'tau_sweep/land/meridional_band/bucket_evap/evap=0_1/']\n",
    "exp_dir = 'tau_sweep/land/meridional_band/depth=1/bucket_evap/'\n",
    "# exp_dir = 'tau_sweep/aquaplanet/depth=1/'\n",
    "\n",
    "# exp_names = ['Aquaplanet', 'Constant conductivity', 'Bucket', 'Bucket - $C_V$']\n",
    "# exp_dir = ['tau_sweep/aquaplanet/', 'tau_sweep/land/meridional_band/evap/', 'tau_sweep/land/meridional_band/bucket/',\n",
    "#            'tau_sweep/land/meridional_band/bucket_evap/evap=0_1/']\n",
    "# color_seq_exp = ['b', 'g', 'orange', 'r']\n",
    "\n",
    "kappa_names = [f\"k={str(tau_lw_ref).replace('.','_')}\", f\"k={str(tau_lw_warm).replace('.','_')}\"]\n",
    "n_kappa = len(kappa_names)\n",
    "ds = []\n",
    "albedo = []\n",
    "tau_sw = []\n",
    "tau_lw = []\n",
    "with tqdm(total=n_kappa, position=0, leave=True) as pbar:\n",
    "    for j in range(n_kappa):\n",
    "        ds_use = isca_tools.load_dataset(exp_dir + kappa_names[j]).sel(time=slice(use_time_start, np.inf))[var_keep]\n",
    "        \n",
    "        ds += [ds_use.sel(pfull=[np.inf, pressure_ft], method='nearest')]      # only keep the surface and free troposphere values\n",
    "        namelist = isca_tools.load_namelist(exp_dir + kappa_names[j])  # Need this for albedo_value\n",
    "        albedo += [namelist['mixed_layer_nml']['albedo_value']]\n",
    "        tau_sw += [namelist['two_stream_gray_rad_nml']['atm_abs']]\n",
    "        tau_lw += [namelist['two_stream_gray_rad_nml']['odp']]\n",
    "        pbar.update(1)\n",
    "        \n",
    "pfull = ds_use.pfull\n",
    "ind_surf = 0\n",
    "ind_ft = 1\n",
    "p_surface = float(ds[0].pfull[ind_surf]) * 100\n",
    "pressure_ft_actual = float(ds[0].pfull[ind_ft]) * 100       # Actual pressure of free troposphere (Pa)\n",
    "n_pressure = ds[0].pfull.size\n",
    "lnp_const = R * np.log(p_surface/pressure_ft_actual)/2      # for modified MSE calculation"
   ],
   "metadata": {
    "collapsed": false,
    "ExecuteTime": {
     "end_time": "2024-06-12T09:11:52.557438Z",
     "start_time": "2024-06-12T09:11:49.271592Z"
    }
   },
   "outputs": [
    {
     "name": "stderr",
     "output_type": "stream",
     "text": [
      "100%|██████████| 2/2 [00:03<00:00,  1.64s/it]\n"
     ]
    }
   ],
   "execution_count": 2
  },
  {
   "cell_type": "markdown",
   "source": [
    "## Get datasets\n",
    "Get one dataset for summer for each $\\kappa$, combining all latitudes: `ds_all`. This combines the all or just tbe summer months in each hemisphere, e.g. negative latitudes will only correspond to times in December, January or February."
   ],
   "metadata": {
    "collapsed": false
   }
  },
  {
   "metadata": {
    "ExecuteTime": {
     "end_time": "2024-06-12T09:11:52.561038Z",
     "start_time": "2024-06-12T09:11:52.558164Z"
    }
   },
   "cell_type": "code",
   "source": [
    "# If true, will save all figures to desktop - option to save specific figures later on.\n",
    "save_fig = False\n",
    "# if publishing figure, use high dpi\n",
    "publish_fig = True\n",
    "\n",
    "ar = 4/3        # aspect ratio (width/height)\n",
    "# Details required for Journal of Climate Figures\n",
    "low_dpi = 100\n",
    "dpi = {'monochrome': 1100, 'combination': 800, 'halftone': 300}\n",
    "width = {'one_col': 3.2, 'two_col': 5.5}        # width in inches \n",
    "save_pad_inches = 0.05\n",
    "\n",
    "# Default parameters\n",
    "default_colors = plt.rcParams['axes.prop_cycle'].by_key()['color']\n",
    "ax_linewidth = plt.rcParams['axes.linewidth']\n",
    "\n",
    "def moving_average(x, w):\n",
    "    return np.convolve(x, np.ones(w), 'valid') / w"
   ],
   "outputs": [],
   "execution_count": 3
  },
  {
   "cell_type": "code",
   "source": [
    "# Show where the land is\n",
    "save_land_fig = False\n",
    "\n",
    "job_dir = os.path.join(os.path.dirname(os.environ['GFDL_DATA']), 'jobs')\n",
    "land_file_name = os.path.join(job_dir, exp_dir, kappa_names[0], 'land.nc')\n",
    "is_land_data = os.path.exists(land_file_name)\n",
    "if is_land_data:\n",
    "    fig, ax = plt.subplots(1,1, figsize=(width['one_col'], width['one_col']/ar))\n",
    "    isca_tools.plot.show_land(land_file_name, fig=fig, ax=ax)\n",
    "    lon_land = isca_tools.utils.land.get_land_coords(land_file=land_file_name)[1]       # get the longitude coordinates of land\n",
    "    \n",
    "    if save_fig or save_land_fig:\n",
    "        fig.savefig(f\"/Users/joshduffield/Desktop/land_coords.pdf\",\n",
    "                    dpi=dpi['combination'] if publish_fig else low_dpi, bbox_inches='tight', pad_inches=save_pad_inches)"
   ],
   "metadata": {
    "collapsed": false,
    "ExecuteTime": {
     "end_time": "2024-06-12T09:11:52.720976Z",
     "start_time": "2024-06-12T09:11:52.561722Z"
    }
   },
   "outputs": [
    {
     "data": {
      "text/plain": [
       "<Figure size 320x240 with 1 Axes>"
      ],
      "image/png": "[encoded data removed]"
     },
     "metadata": {},
     "output_type": "display_data"
    }
   ],
   "execution_count": 4
  },
  {
   "cell_type": "code",
   "source": [
    "# Load in across all latitudes, for given season\n",
    "\n",
    "# Select region to combine latitudes over for all but one of the plots below\n",
    "# Tropics\n",
    "region = 'tropics'\n",
    "lat_min = 0\n",
    "lat_max = 20\n",
    "# Extratropics\n",
    "# region = 'extratropics'\n",
    "# lat_min = 40\n",
    "# lat_max = 65\n",
    "# lat_max = 90\n",
    "\n",
    "# Chose whether to only consider summer days or consider all days\n",
    "# season = 'all'\n",
    "season = 'summer'\n",
    "# season = 'winter'\n",
    "if season == 'summer':\n",
    "    if region == 'tropics':\n",
    "        season_months = {'nh': [5, 6, 7, 8, 9, 10], 'sh': [11, 12, 1, 2, 3, 4]}   \n",
    "    else:\n",
    "        season_months = {'nh': [6, 7, 8], 'sh': [12, 1, 2]}   # JJA for NH and DJF for SH\n",
    "elif season == 'winter':\n",
    "    if region == 'tropics':\n",
    "        season_months = {'sh': [5, 6, 7, 8, 9, 10], 'nh': [11, 12, 1, 2, 3, 4]}\n",
    "    else:\n",
    "        season_months = {'sh': [6, 7, 8], 'nh': [12, 1, 2]} \n",
    "\n",
    "lat_use_ind = np.where((np.abs(ds[0].lat) <= lat_max) & (np.abs(ds[0].lat) >= lat_min))[0]\n",
    "n_lat = len(lat_use_ind)\n",
    "lat_weights = np.cos(np.deg2rad(ds[0].lat))[lat_use_ind]\n",
    "\n",
    "# Whether to do taylor expansion about mean over just land or mean over whole planet\n",
    "mean_method = 'land'\n",
    "# mean_method = 'all'\n",
    "\n",
    "temp_mean = np.zeros((n_kappa, n_pressure, n_lat))\n",
    "z_mean = np.zeros((n_kappa, n_pressure, n_lat))\n",
    "\n",
    "# Decide how to compute humidities - do q first and then r from this ('sphum'), or vice versa ('r')?\n",
    "humidity_calc_method = 'sphum'\n",
    "if humidity_calc_method == 'sphum':\n",
    "    sphum_mean = np.zeros((n_kappa, n_lat))\n",
    "elif humidity_calc_method == 'r':\n",
    "    r_mean = np.zeros((n_kappa, n_lat))\n",
    "else:\n",
    "    raise ValueError(f'humidity_calc_method of {humidity_calc_method} not valid')\n",
    "\n",
    "ds_all = []\n",
    "with tqdm(total=n_kappa, position=0, leave=True) as pbar:\n",
    "    for j in range(n_kappa):\n",
    "        ds_use = ds[j].isel(lat=lat_use_ind)   # only keep latitudes being used to save memory\n",
    "        \n",
    "        if is_land_data:\n",
    "            # if not aquaplanet, then is land and only consider land longitudes\n",
    "            ds_use = ds_use.isel(lon=np.where(np.isin(ds_use.lon, np.unique(lon_land)))[0])\n",
    "        \n",
    "        if season == 'summer':\n",
    "            ds_nh_summer = isca_tools.utils.annual_time_slice(ds_use, season_months['nh']).sel(lat=slice(0, 90))  \n",
    "            ds_sh_summer = isca_tools.utils.annual_time_slice(ds_use, season_months['sh']).sel(lat=slice(-90, 0)) \n",
    "            # Combine hemispheres and average over longitude, time and latitude.\n",
    "            ds_use = xr.concat([ds_sh_summer, ds_nh_summer], dim='lat')\n",
    "        ds_use = ds_use.stack(lon_time=(\"lon\",\"time\"), create_index=False).chunk(dict(lon_time=-1))\n",
    "        ds_all += [ds_use.load()]\n",
    "        \n",
    "        if mean_method == 'all':\n",
    "            ds_use = ds[j].sel(time=slice(use_time_start, np.inf)).isel(lat=lat_use_ind)\n",
    "            ds_use = ds_use.stack(lon_time=(\"lon\",\"time\"), create_index=False).chunk(dict(lon_time=-1))\n",
    "        elif mean_method != 'land':\n",
    "            raise ValueError(f'Mean method is {mean_method} which is not valid.')\n",
    "        temp_mean[j] = ds_use.temp.mean(dim='lon_time')\n",
    "        z_mean[j] = ds_use.height.mean(dim='lon_time')\n",
    "        if humidity_calc_method == 'r':\n",
    "            rh_use = ds_use.sphum.isel(pfull=ind_surf)/sphum_sat(ds_use.temp.isel(pfull=ind_surf), p_surface)\n",
    "            r_mean[j] = rh_use.mean(dim='lon_time')\n",
    "        else:\n",
    "            sphum_mean[j] = ds_use.sphum.isel(pfull=ind_surf).mean(dim='lon_time')\n",
    "        pbar.update(1)\n",
    "if humidity_calc_method == 'r':\n",
    "    sphum_mean = r_mean * sphum_sat(temp_mean[:, ind_surf], p_surface)       # compute sphum_mean from r_mean\n",
    "else:\n",
    "    r_mean = sphum_mean / sphum_sat(temp_mean[:, ind_surf], p_surface)"
   ],
   "metadata": {
    "collapsed": false,
    "ExecuteTime": {
     "end_time": "2024-06-12T09:11:52.967313Z",
     "start_time": "2024-06-12T09:11:52.722514Z"
    }
   },
   "outputs": [
    {
     "name": "stderr",
     "output_type": "stream",
     "text": [
      "  0%|          | 0/2 [00:00<?, ?it/s]\n",
      "\n",
      "KeyboardInterrupt\n",
      "\n"
     ]
    }
   ],
   "execution_count": 5
  },
  {
   "cell_type": "code",
   "source": [
    "# Get all data needed to compute theoretical temp change and to plot actual temp change for each quantile of temperature\n",
    "quant_plot = np.arange(1, 100)     # avoid 0 quantile as it gives weird results\n",
    "n_quant = len(quant_plot)\n",
    "percentile_label = 'Temperature percentile, $x$'\n",
    "\n",
    "# Days must have klzb < thresh and convflag > thresh to be considered convecting.\n",
    "klzb_thresh = 13\n",
    "convflag_thresh = 1\n",
    "\n",
    "# quant2 is the actual quantile value rather than the average above a given quantile\n",
    "temp_quant3 = np.zeros((n_kappa, n_pressure, n_lat, n_quant))\n",
    "# relative humidity as function of temp quantile not temp quantile\n",
    "if humidity_calc_method == 'r':\n",
    "    r_quant3 = np.zeros((n_kappa, n_lat, n_quant))\n",
    "elif humidity_calc_method == 'sphum':\n",
    "    sphum_quant3 = np.zeros((n_kappa, n_lat, n_quant))\n",
    "z_quant3 = np.zeros((n_kappa, n_pressure, n_lat, n_quant))\n",
    "convflag_quant3 = np.zeros((n_kappa, n_lat, n_quant))\n",
    "klzbs_quant3 = np.zeros((n_kappa, n_lat, n_quant))\n",
    "convfract_quant3 = np.zeros((n_kappa, n_lat, n_quant))            # record fraction of days convecting\n",
    "\n",
    "with tqdm(total=n_kappa*n_quant*n_lat, position=0, leave=True) as pbar:\n",
    "    for j in range(n_kappa):\n",
    "        ds_use = ds_all[j]\n",
    "        if humidity_calc_method == 'r':\n",
    "            rh_use = ds_use.sphum.isel(pfull=ind_surf)/sphum_sat(ds_use.temp.isel(pfull=ind_surf), p_surface)\n",
    "        is_convecting = np.logical_and(ds_use.klzbs<klzb_thresh, ds_use.convflag > convflag_thresh)\n",
    "        for k in range(n_lat):\n",
    "            for q, quant in enumerate(quant_plot):\n",
    "                use_ind = get_quant_ind(ds_use.temp[ind_surf, k], quant, 0.5, 0.5)\n",
    "                # Make sure to compute temp_quant at FT level using near-surface quantiles\n",
    "                temp_quant3[j, :, k, q] = ds_use.temp[:, k, use_ind].mean(dim='lon_time')\n",
    "                z_quant3[j, :, k, q] = ds_use.height[:, k, use_ind].mean(dim='lon_time')\n",
    "                if humidity_calc_method == 'r':\n",
    "                    r_quant3[j, k, q] = rh_use[k, use_ind].mean(dim='lon_time')\n",
    "                elif humidity_calc_method == 'sphum':\n",
    "                    sphum_quant3[j, k, q] = ds_use.sphum[ind_surf, k, use_ind].mean(dim='lon_time')\n",
    "                convflag_quant3[j, k, q] = ds_use.convflag[k, use_ind].mean(dim='lon_time')\n",
    "                klzbs_quant3[j, k, q] = ds_use.klzbs[k, use_ind].mean(dim='lon_time')\n",
    "                convfract_quant3[j, k, q] = np.sum(is_convecting[k, use_ind])/is_convecting[k, use_ind].size\n",
    "                pbar.update(1)\n",
    "if humidity_calc_method == 'r':\n",
    "    sphum_quant3 = sphum_sat(temp_quant3[:, ind_surf], p_surface) * r_quant3 \n",
    "elif humidity_calc_method == 'sphum':\n",
    "    r_quant3 = sphum_quant3 / sphum_sat(temp_quant3[:, ind_surf], p_surface)\n",
    "r_anom = r_quant3 - r_mean[:, :, np.newaxis]\n",
    "temp_anom = temp_quant3 - temp_mean[:, :, :, np.newaxis]"
   ],
   "metadata": {
    "collapsed": false
   },
   "outputs": [],
   "execution_count": null
  },
  {
   "metadata": {},
   "cell_type": "code",
   "source": [
    "# temp_adiabat_anom = np.zeros((n_kappa, n_lat, n_quant))\n",
    "# temp_ce_mean = np.zeros((n_kappa, n_lat))\n",
    "# temp_ce_quant = np.zeros((n_kappa, n_lat, n_quant))\n",
    "# temp_ft_anom = np.zeros((n_kappa, n_lat, n_quant))\n",
    "# temp_adiabat_mean = np.zeros((n_kappa, n_lat))\n",
    "# for j in range(n_lat):\n",
    "#     temp_adiabat_anom[:, j], temp_ce_mean[:, j], temp_ce_quant[:, j], temp_ft_anom[:, j] = \\\n",
    "#         decompose_temp_adiabat_anomaly(temp_mean[:, ind_surf, j], temp_quant3[:, ind_surf, j], sphum_mean[:, j], \n",
    "#                                        sphum_quant3[:, j], temp_mean[:, ind_ft, j], temp_quant3[:, ind_ft, j], \n",
    "#                                        p_surface, pressure_ft_actual)\n",
    "#     for i in range(n_kappa):\n",
    "#         temp_adiabat_mean[i, j] = get_temp_adiabat(temp_mean[i, ind_surf, j], sphum_mean[i, j], p_surface, pressure_ft_actual)\n",
    "# temp_ce_mean_change = temp_ce_mean[1] - temp_ce_mean[0]\n",
    "# temp_ce_quant_change = temp_ce_quant[1] - temp_ce_quant[0]\n",
    "# temp_ft_anom_change = temp_ft_anom[1] - temp_ft_anom[0]\n",
    "# z_ft_mod_anom = (z_quant3[:, ind_ft] - z_mean[:, ind_ft][:, :, np.newaxis]) * g / lnp_const \n",
    "# temp_adiabat_anom_quant3_z_form = z_ft_mod_anom + np.expand_dims(temp_ce_mean, axis=-1) - temp_ce_quant"
   ],
   "outputs": [],
   "execution_count": null
  },
  {
   "metadata": {},
   "cell_type": "code",
   "source": [
    "# Surface MSE\n",
    "mse_quant3 = moist_static_energy(temp_quant3[:, ind_surf], sphum_quant3, z_quant3[:, ind_surf])\n",
    "mse_mean = moist_static_energy(temp_mean[:, ind_surf], sphum_mean, z_mean[:, ind_surf])\n",
    "# mse_mod_quant3 = moist_static_energy(temp_quant3[:, ind_surf], sphum_quant3, height=0, \n",
    "#                                         c_p_const=c_p - lnp_const)\n",
    "# mse_mod_mean = moist_static_energy(temp_mean[:, ind_surf], sphum_mean, height=0, c_p_const=c_p - lnp_const)\n",
    "\n",
    "# Free troposphere MSE\n",
    "mse_ft_sat_quant3 = moist_static_energy(temp_quant3[:, ind_ft], sphum_sat(temp_quant3[:, ind_ft], pressure_ft_actual), z_quant3[:, ind_ft])\n",
    "mse_ft_sat_mean = moist_static_energy(temp_mean[:, ind_ft], sphum_sat(temp_mean[:, ind_ft], pressure_ft_actual), \n",
    "                                      z_mean[:, ind_ft])\n",
    "mse_mod_quant3 = mse_ft_sat_quant3 - (lnp_const * temp_quant3[:, ind_surf] + g * z_quant3[:, ind_surf])/1000\n",
    "mse_mod_mean = mse_ft_sat_mean - (lnp_const * temp_mean[:, ind_surf] + g * z_mean[:, ind_surf])/1000\n",
    "\n",
    "# CQE indicator\n",
    "epsilon_quant3 = mse_quant3 - mse_ft_sat_quant3\n",
    "epsilon_mean = mse_mean - mse_ft_sat_mean\n",
    "epsilon_anom = epsilon_quant3 - epsilon_mean[:, :, np.newaxis]"
   ],
   "outputs": [],
   "execution_count": null
  },
  {
   "metadata": {},
   "cell_type": "markdown",
   "source": [
    "## Approximation 0 - $z$ Relation\n",
    "A crucial aspect to this theory is relating the geopotential height $z_{FT}$ to near-surface temperature $T$ and free troposphere temperature $T_{FT}$.\n",
    "\n",
    "We start with two equations, from Zhang 2023. The first combines hydrostatic balance and the ideal gas law. The second assumes a constant lapse rate, $\\Gamma$, for integration processes.\n",
    "\n",
    "$d\\ln p = -\\frac{g}{RT(p)}dz$;      $z(p) - z_s = \\frac{T_s - T(p)}{\\Gamma}$\n",
    "\n",
    "Combining the two, we get $d\\ln p = \\frac{g}{R\\Gamma}d\\ln T$.\n",
    "\n",
    "Integrating between the free troposphere at 500hPa and surface at 1000hPa, we get:\n",
    "$\\ln(\\frac{1000}{500}) = \\ln 2 = \\frac{g}{R\\Gamma}\\ln(\\frac{T_s}{T_{500}})$ or $\\frac{1}{\\Gamma} = \\frac{R\\ln 2}{g\\ln(\\frac{T_s}{T_{500}})}$\n",
    "\n",
    "We also have the $z$ equation applied at 500hPa: $z_{500} - z_s = \\frac{T_s - T_{500}}{\\Gamma}$. Combining the two, we get:\n",
    "$z_{500} - z_s \\approx \\frac{R\\ln 2(T_s - T_{500})}{g\\ln(\\frac{T_s}{T_{500}})}$\n",
    "\n",
    "We can re-write the denominator in $\\ln(1+x)$ form as $\\ln(1+\\frac{T_s-T_{500}}{T_{500}})$. Here $x=\\frac{T_s-T_{500}}{T_{500}}$ and is small. Max value in tropics is about 0.15. \n",
    "\n",
    "The taylor series is $\\frac{1}{\\ln(1+x)} \\approx \\frac{1}{x} + \\frac{1}{2} - \\frac{x}{12} + ...$. Because $x$ is small, I propose keeping just the first two terms. In which case, we get:\n",
    "\n",
    "$z_{500} - z_s \\approx \\frac{R\\ln 2(T_s - T_{500})}{g}(\\frac{T_{500}}{T_s-T_{500}} + \\frac{1}{2}) = \\frac{R\\ln 2}{2g}(T_s + T_{500})$\n",
    "\n",
    "The plots below shows that the taylor approximation is pretty accurate, but they are both bad approximations for the actual geopotential height."
   ]
  },
  {
   "metadata": {},
   "cell_type": "code",
   "source": [
    "def get_z_theory(temp_surf, temp_ft, taylor=True, pressure_surf=p_surface, pressure_ft=pressure_ft_actual):\n",
    "    lnp_prefactor = R * np.log(pressure_surf/pressure_ft) / g\n",
    "    if taylor:\n",
    "        return lnp_prefactor/2 * (temp_surf + temp_ft)\n",
    "    else:\n",
    "        return lnp_prefactor * (temp_surf - temp_ft) / np.log(temp_surf/temp_ft)\n",
    "\n",
    "\n",
    "z_anom = z_quant3 - z_mean[:, :, :, np.newaxis]\n",
    "z_theory_quant3 = {key: np.zeros((n_kappa, n_lat, n_quant)) for key in ['full', 'taylor']}\n",
    "z_theory_mean = {key: np.zeros((n_kappa, n_lat)) for key in ['full', 'taylor']}\n",
    "for i in range(n_kappa):\n",
    "    for key in z_theory_quant3:\n",
    "        z_theory_quant3[key][i] = get_z_theory(temp_quant3[i, ind_surf], temp_quant3[i, ind_ft], True if key=='taylor' else False)\n",
    "        z_theory_mean[key][i] = get_z_theory(temp_mean[i, ind_surf], temp_mean[i, ind_ft], True if key=='taylor' else False)"
   ],
   "outputs": [],
   "execution_count": null
  },
  {
   "metadata": {
    "ExecuteTime": {
     "end_time": "2024-06-12T09:11:52.975899Z",
     "start_time": "2024-06-12T09:11:52.975817Z"
    }
   },
   "cell_type": "code",
   "source": [
    "save_z_ft_fig = False\n",
    "fig, ax = plt.subplots(2,2, figsize=(2*width['one_col'], 2*width['one_col']/ar), sharex=True)\n",
    "linestyles_use = {'full': '--', 'taylor': ':'}\n",
    "for i in range(n_kappa):\n",
    "    ax[0, 0].plot(quant_plot, \n",
    "               np.average(z_quant3[i, ind_ft] - z_quant3[i, ind_surf], axis=0, weights=lat_weights), color=default_colors[i],\n",
    "               label=f'$\\\\kappa={tau_lw[i]}$')\n",
    "    ax[0, 0].axhline(np.average(z_mean[i, ind_ft]-z_mean[i, ind_surf], axis=0, weights=lat_weights), color=default_colors[i], lw=2, alpha=0.2)\n",
    "    for key in z_theory_quant3:\n",
    "        ax[0, 0].plot(quant_plot, \n",
    "                   np.average(z_theory_quant3[key][i], axis=0, weights=lat_weights), color=default_colors[i], \n",
    "                   linestyle=linestyles_use[key])\n",
    "        ax[0, 0].axhline(np.average(z_theory_mean[key][i], axis=0, weights=lat_weights), color=default_colors[i], \n",
    "                      linestyle=linestyles_use[key], lw=2, alpha=0.2)\n",
    "ax[1, 0].plot(quant_plot, \n",
    "           np.average(np.diff(z_quant3[:, ind_ft] - z_quant3[:, ind_surf], axis=0)[0], axis=0, weights=lat_weights), color='k',\n",
    "           label='Simulated')\n",
    "ax[1, 0].axhline(np.average(np.diff(z_mean[:, ind_ft]-z_mean[:, ind_surf], axis=0)[0], axis=0, weights=lat_weights), \n",
    "              color='k', lw=2, alpha=0.2)\n",
    "for key in z_theory_quant3:\n",
    "    ax[1, 0].plot(quant_plot, \n",
    "                   np.average(z_theory_quant3[key][1]-z_theory_quant3[key][0], axis=0, weights=lat_weights), \n",
    "               color='k', linestyle=linestyles_use[key], label=f'Theory - {key}')\n",
    "    ax[1, 0].axhline(np.average(z_theory_mean[key][1]-z_theory_mean[key][0], axis=0, weights=lat_weights), color='k', \n",
    "                  linestyle=linestyles_use[key], lw=2, alpha=0.2)\n",
    "\n",
    "for i in range(n_kappa):\n",
    "    ax[0, 1].plot(quant_plot, \n",
    "               np.average(z_anom[i, ind_ft] - z_anom[i, ind_surf], \n",
    "                          axis=0, weights=lat_weights), color=default_colors[i], label=f'$\\\\kappa={tau_lw[i]}$')\n",
    "    for key in z_theory_quant3:\n",
    "        ax[0, 1].plot(quant_plot, np.average(z_theory_quant3[key][i] - z_theory_mean[key][i][:, np.newaxis], axis=0, weights=lat_weights),\n",
    "                      color=default_colors[i], linestyle=linestyles_use[key])\n",
    "ax[1, 1].plot(quant_plot, \n",
    "           np.average(np.diff(z_anom[:, ind_ft] - z_anom[:, ind_surf], axis=0)[0], \n",
    "                      axis=0, weights=lat_weights), color='k')\n",
    "for key in z_theory_quant3:\n",
    "    ax[1, 1].plot(quant_plot, \n",
    "                   np.average(z_theory_quant3[key][1]-z_theory_quant3[key][0] - (z_theory_mean[key][1]-z_theory_mean[key][0])[:, np.newaxis], \n",
    "                              axis=0, weights=lat_weights), color='k', linestyle=linestyles_use[key], label=f'Theory - {key}') \n",
    "\n",
    "ax[0, 0].legend()\n",
    "ax[1, 0].legend()\n",
    "ax[0, 0].set_ylabel('$z-z_s$ [m]')\n",
    "ax[0, 1].set_ylabel('$\\Delta (z-z_s)$ [m]')\n",
    "ax[1, 0].set_ylabel('$\\delta (z-z_s)$ [m]')\n",
    "ax[1, 1].set_ylabel('$\\delta \\Delta (z-z_s)$ [m]')\n",
    "ax[1, 0].set_xlabel(percentile_label)\n",
    "ax[0, 0].set_xlim(0, 100)\n",
    "ax[0, 1].axhline(0, color='k', lw=ax_linewidth)\n",
    "ax[1, 1].axhline(0, color='k', lw=ax_linewidth)\n",
    "plt.tight_layout()\n",
    "if save_fig or save_z_ft_fig:\n",
    "    fig.savefig(f\"/Users/joshduffield/Desktop/land_z_ft_approx_{region}_{season}.pdf\",\n",
    "                                dpi=dpi['combination'] if publish_fig else low_dpi, bbox_inches='tight', pad_inches=save_pad_inches)"
   ],
   "outputs": [],
   "execution_count": null
  },
  {
   "metadata": {
    "ExecuteTime": {
     "end_time": "2024-06-12T09:11:52.976506Z",
     "start_time": "2024-06-12T09:11:52.976420Z"
    }
   },
   "cell_type": "code",
   "source": [
    "def scale_factor_theory_no_taylor_fit_func(scale_factor, temp_surf_mean, temp_surf_quant0, r_surf_mean, r_surf_quant, temp_ft_mean, temp_ft_quant, \n",
    "                                 z_surf_mean = None, z_surf_quant = None, z_ft_quant = None, z_ft_mean = None, epsilon_mean = None, \n",
    "                                 epsilon_quant = None, pressure_surf: float = p_surface, pressure_ft: float = pressure_ft_actual) -> float:\n",
    "    # Finds scaling factor such that mse_s_quant - mse_s_mean = mse_ft_quant - mse_ft_mean + epsilon_quant - epsilon_mean\n",
    "    # If z is not given, will assume z relation to temperature\n",
    "    # If epsilon_mean not given, will assume CQE i.e. no change in epsilon anomaly with warming\n",
    "    # Epsilon is in kJ/kg\n",
    "    n_exp = len(r_surf_mean)\n",
    "    temp_mean_change = temp_surf_mean[1] - temp_surf_mean[0]\n",
    "    temp_quant_hot = temp_surf_quant0 + scale_factor * temp_mean_change\n",
    "    \n",
    "    if z_surf_mean is None:\n",
    "        # Assume relation between z and temp\n",
    "        z_surf_mean = np.zeros(n_exp)\n",
    "        z_surf_quant = np.zeros(n_exp)\n",
    "        z_ft_mean = np.zeros(n_exp)\n",
    "        z_ft_quant = np.zeros(n_exp)\n",
    "        c_p_const_surf = c_p - lnp_const\n",
    "        c_p_const_ft = c_p + lnp_const\n",
    "    else:\n",
    "        c_p_const_surf = c_p\n",
    "        c_p_const_ft = c_p\n",
    "    \n",
    "    mse_surf_quant_cold = moist_static_energy(temp_surf_quant0, r_surf_quant[0] * sphum_sat(temp_surf_quant0, pressure_surf), z_surf_quant[0],\n",
    "                                              c_p_const=c_p_const_surf)\n",
    "    mse_surf_quant_hot = moist_static_energy(temp_quant_hot, r_surf_quant[1] * sphum_sat(temp_quant_hot, pressure_surf), z_surf_quant[1], \n",
    "                                             c_p_const=c_p_const_surf)\n",
    "    mse_surf_mean = [moist_static_energy(temp_surf_mean[i], r_surf_mean[i] * sphum_sat(temp_surf_mean[i], pressure_surf), z_surf_mean[i], \n",
    "                                         c_p_const=c_p_const_surf) \n",
    "                     for i in range(n_exp)]\n",
    "    mse_ft_quant = [moist_static_energy(temp_ft_quant[i], sphum_sat(temp_ft_quant[i], pressure_ft), z_ft_quant[i], c_p_const=c_p_const_ft) \n",
    "                     for i in range(n_exp)]\n",
    "    mse_ft_mean = [moist_static_energy(temp_ft_mean[i], sphum_sat(temp_ft_mean[i], pressure_ft), z_ft_mean[i], c_p_const=c_p_const_ft) \n",
    "                     for i in range(n_exp)]\n",
    "    mse_surf_quant_change = mse_surf_quant_hot - mse_surf_quant_cold\n",
    "    mse_surf_mean_change = mse_surf_mean[1] - mse_surf_mean[0]\n",
    "    mse_ft_quant_change = mse_ft_quant[1] - mse_ft_quant[0]\n",
    "    mse_ft_mean_change = mse_ft_mean[1] - mse_ft_mean[0]\n",
    "    if epsilon_mean is not None:\n",
    "        epsilon_quant_change = epsilon_quant[1] - epsilon_quant[0]\n",
    "        epsilon_mean_change = epsilon_mean[1] - epsilon_mean[0]\n",
    "    else:\n",
    "        epsilon_quant_change = 0\n",
    "        epsilon_mean_change = 0\n",
    "    return mse_surf_quant_change - mse_surf_mean_change - (mse_ft_quant_change - mse_ft_mean_change) - (epsilon_quant_change - \n",
    "                                                                                                        epsilon_mean_change)\n",
    "\n",
    "def scale_factor_theory_from_mse_anom_change_fit_func(scale_factor, temp_surf_mean, temp_surf_quant, r_surf_mean, r_surf_quant,\n",
    "                                                      epsilon_mean, epsilon_quant, mse_mod_anom_change, pressure_surf: float = p_surface):\n",
    "    # mse_mod_anom_change is in kJ/kg\n",
    "    n_exp = len(r_surf_mean)\n",
    "    temp_mean_change = temp_surf_mean[1] - temp_surf_mean[0]\n",
    "    temp_quant_hot = temp_surf_quant[0] + scale_factor * temp_mean_change\n",
    "    mse_mod_surf_quant_cold = moist_static_energy(temp_surf_quant[0], r_surf_quant[0] * sphum_sat(temp_surf_quant[0], pressure_surf), 0,\n",
    "                                              c_p_const=c_p - lnp_const) - epsilon_quant[0]\n",
    "    mse_mod_surf_quant_hot = moist_static_energy(temp_quant_hot, r_surf_quant[1] * sphum_sat(temp_quant_hot, pressure_surf), 0, \n",
    "                                             c_p_const=c_p - lnp_const) - epsilon_quant[1]\n",
    "    mse_mod_surf_mean = [moist_static_energy(temp_surf_mean[i], r_surf_mean[i] * sphum_sat(temp_surf_mean[i], pressure_surf), 0, \n",
    "                                         c_p_const=c_p - lnp_const) - epsilon_mean[i]\n",
    "                     for i in range(n_exp)]\n",
    "    mse_mod_anom_change_from_sf = mse_mod_surf_quant_hot - mse_mod_surf_quant_cold - (mse_mod_surf_mean[1] - mse_mod_surf_mean[0])\n",
    "    return mse_mod_anom_change_from_sf - mse_mod_anom_change\n",
    "\n",
    "def scale_factor_theory_taylor_fit_func(scale_factor, temp_surf_mean, temp_surf_quant, r_surf_mean, r_surf_quant, epsilon_mean, epsilon_quant,\n",
    "                                        mse_mod_anom_change_from_temp_ft, taylor_terms='linear', pressure_surf = p_surface, \n",
    "                                        pressure_ft=pressure_ft_actual, q_sat_s_linear_term_use=None, beta_s1_quant_use=None, \n",
    "                                        beta_s1_mean_use=None):\n",
    "    # Makes same taylor series approximation for both ways of getting mse_anom_change\n",
    "    # mse_mod_anom_change_from_temp_ft needs to be in kJ/kg\n",
    "    temp_mean_change = temp_surf_mean[1] - temp_surf_mean[0]\n",
    "    temp_surf_quant_use = np.asarray([temp_surf_quant[0], temp_surf_quant[0] + scale_factor * temp_mean_change], dtype=np.float64)\n",
    "    \n",
    "    sphum_mean = r_surf_mean * sphum_sat(temp_surf_mean, pressure_surf)\n",
    "    sphum_quant = r_surf_quant * sphum_sat(temp_surf_quant_use, pressure_surf)\n",
    "    \n",
    "    mse_quant_change_from_temp_s = mse_mod_change_surf_expansion(temp_surf_quant_use[:, np.newaxis], sphum_quant[:, np.newaxis],\n",
    "                                                                 epsilon_quant[:, np.newaxis], pressure_surf, pressure_ft, \n",
    "                                                                 taylor_terms=taylor_terms, q_sat_s_linear_term_use=q_sat_s_linear_term_use, \n",
    "                                                                 beta_s1_use=beta_s1_quant_use)[0]\n",
    "    mse_mean_change_from_temp_s = mse_mod_change_surf_expansion(temp_surf_mean, sphum_mean, epsilon_mean,\n",
    "                                                                pressure_surf, pressure_ft, taylor_terms=taylor_terms, \n",
    "                                                                beta_s1_use=beta_s1_mean_use)[0]\n",
    "    mse_anom_change_from_temp_s = mse_quant_change_from_temp_s - mse_mean_change_from_temp_s\n",
    "    return mse_mod_anom_change_from_temp_ft - mse_anom_change_from_temp_s"
   ],
   "outputs": [],
   "execution_count": null
  },
  {
   "metadata": {},
   "cell_type": "code",
   "source": [
    "sf_denom = (temp_mean[1, ind_surf] - temp_mean[0, ind_surf])[:, np.newaxis]\n",
    "sf_simulated = (temp_quant3[1, ind_surf] - temp_quant3[0, ind_surf]) / sf_denom\n",
    "sf_theory = {'just_z': np.zeros((n_lat, n_quant))}\n",
    "for i in range(n_lat):\n",
    "    for j in range(n_quant):\n",
    "        sf_theory['just_z'][i, j] = \\\n",
    "            scipy.optimize.fsolve(scale_factor_theory_no_taylor_fit_func, 1, \n",
    "                                  args=(temp_mean[:, ind_surf, i], temp_quant3[0, ind_surf, i, j], r_mean[:, i], \n",
    "                                        r_quant3[:, i, j], temp_mean[:, ind_ft, i], temp_quant3[:, ind_ft, i, j], \n",
    "                                        None, None, None, None, epsilon_mean[:, i], epsilon_quant3[:, i, j]))\n",
    "\n",
    "mse_mod_anom = mse_mod_quant3 - mse_mod_mean[:, :, np.newaxis]\n",
    "mse_mod_anom_change_simulated = mse_mod_anom[1] - mse_mod_anom[0]\n",
    "q_sat_ft_anom_change = sphum_sat(temp_quant3[:, ind_ft], pressure_ft_actual) - sphum_sat(temp_mean[:, ind_ft], pressure_ft_actual)[:, :, np.newaxis]\n",
    "q_sat_ft_anom_change = q_sat_ft_anom_change[1]-q_sat_ft_anom_change[0]\n",
    "mse_mod_anom_change_theory = {'just_z': ((c_p+lnp_const) * (temp_anom[1]-temp_anom[0])[ind_ft] + L_v * q_sat_ft_anom_change)/1000}"
   ],
   "outputs": [],
   "execution_count": null
  },
  {
   "metadata": {},
   "cell_type": "code",
   "source": [
    "fig_approx0, ax = plt.subplots(2,1, figsize=(width['one_col'], 2*width['one_col']/ar), sharex=True)\n",
    "ax[0].plot(quant_plot, np.average(sf_simulated, weights=lat_weights, axis=0), color='k',\n",
    "           label='Simulated')\n",
    "ax[0].plot(quant_plot, np.average(sf_theory['just_z'], weights=lat_weights, axis=0), color='k',\n",
    "           label='$z$', linestyle='--')\n",
    "ax[1].plot(quant_plot, np.average(mse_mod_anom_change_simulated, axis=0, weights=lat_weights), color='k')\n",
    "ax[1].plot(quant_plot, np.average(mse_mod_anom_change_theory['just_z'], axis=0, weights=lat_weights), color='k', linestyle='--')\n",
    "ax[0].legend()\n",
    "ax[0].set_ylabel('Scaling factor, $\\delta T(x)/\\delta \\overline{T}$')\n",
    "ax[1].set_ylabel('$\\delta \\Delta h^{\\dagger}$ [kJ/kg]')\n",
    "ax[0].axhline(1, color='k', lw=ax_linewidth)\n",
    "ax[1].axhline(0, color='k', lw=ax_linewidth)\n",
    "ax[1].set_xlabel(percentile_label)\n",
    "ax[0].set_xlim(0, 100)"
   ],
   "outputs": [],
   "execution_count": null
  },
  {
   "metadata": {},
   "cell_type": "markdown",
   "source": [
    "# Free troposphere Expansion of $\\delta \\Delta h^{\\dagger}$\n",
    "## Approx FT1 - $\\Delta h^{\\dagger}$"
   ]
  },
  {
   "metadata": {},
   "cell_type": "code",
   "source": [
    "_, _, _, beta_ft1, beta_ft2, beta_ft3 = get_theory_prefactor_terms(temp_mean[0, ind_ft], p_surface, pressure_ft_actual)\n",
    "_, _, _, beta_ft1_hot, beta_ft2_hot, _ = get_theory_prefactor_terms(temp_mean[1, ind_ft], p_surface, pressure_ft_actual)\n",
    "_, q_sat_s, alpha_s, beta_s1, beta_s2, _ = get_theory_prefactor_terms(temp_mean[0, ind_surf], p_surface, pressure_ft_actual, sphum_mean[0])\n",
    "\n",
    "mse_mod_anom_theory = [beta_ft1[:, np.newaxis] * temp_anom[0, ind_ft], \n",
    "                       beta_ft1_hot[:, np.newaxis] * temp_anom[1, ind_ft]]\n",
    "for i in range(n_kappa):\n",
    "    mse_mod_anom_theory[i] = mse_mod_anom_theory[i]/1000\n",
    "mse_mod_anom_change_theory['ft1'] =  mse_mod_anom_theory[1]-mse_mod_anom_theory[0]\n",
    "sf_theory['ft1'] = np.zeros((n_lat, n_quant))\n",
    "for i in range(n_lat):\n",
    "    for j in range(n_quant):\n",
    "        sf_theory['ft1'][i, j] = scipy.optimize.fsolve(scale_factor_theory_from_mse_anom_change_fit_func, 1, \n",
    "                                  args=(temp_mean[:, ind_surf, i], temp_quant3[:, ind_surf, i, j], r_mean[:, i], \n",
    "                                        r_quant3[:, i, j], epsilon_mean[:, i], epsilon_quant3[:, i, j], mse_mod_anom_change_theory['ft1'][i, j]))"
   ],
   "outputs": [],
   "execution_count": null
  },
  {
   "metadata": {},
   "cell_type": "code",
   "source": [
    "fig, ax = plt.subplots(1,1, figsize=(width['one_col'], width['one_col']/ar))\n",
    "for i in range(n_kappa):\n",
    "    ax.plot(quant_plot, np.average(mse_mod_anom[i], weights=lat_weights, axis=0), color=default_colors[i], label=f'$\\kappa={tau_lw[i]}$')\n",
    "    ax.plot(quant_plot, np.average(mse_mod_anom_theory[i], weights=lat_weights, axis=0), color=default_colors[i], linestyle='--')\n",
    "ax.legend()\n",
    "ax.set_ylabel('$\\Delta h^{\\dagger}$')\n",
    "ax.axhline(0, color='k', lw=ax_linewidth)\n",
    "ax.set_xlabel(percentile_label)\n",
    "ax.set_xlim(0, 100)"
   ],
   "outputs": [],
   "execution_count": null
  },
  {
   "metadata": {},
   "cell_type": "code",
   "source": [
    "fig_approx1 = copy.deepcopy(fig_approx0)\n",
    "ax = fig_approx1.axes\n",
    "ax[0].plot(quant_plot, np.average(sf_theory['ft1'], weights=lat_weights, axis=0), color=default_colors[0],\n",
    "           label='$\\Delta h^{\\dagger}$')\n",
    "ax[1].plot(quant_plot, np.average(mse_mod_anom_change_theory['ft1'], weights=lat_weights, axis=0), color=default_colors[0])\n",
    "ax[0].legend()\n",
    "fig_approx1"
   ],
   "outputs": [],
   "execution_count": null
  },
  {
   "metadata": {},
   "cell_type": "markdown",
   "source": [
    "## Approx FT2 - $\\delta \\Delta h^{\\dagger}$\n",
    "We take a linear change with warming of previous equation. This is quite a significant approximation - would be better for two simulations closer together in optical depth."
   ]
  },
  {
   "metadata": {},
   "cell_type": "code",
   "source": [
    "temp_ft_mean_change = temp_mean[1, ind_ft] - temp_mean[0, ind_ft]\n",
    "mse_mod_anom_change_theory['ft2'] = beta_ft1[:, np.newaxis] * (temp_anom[1]-temp_anom[0])[ind_ft] + \\\n",
    "                                    (beta_ft2/temp_mean[0, ind_ft])[:, np.newaxis] * temp_anom[0, ind_ft] * temp_ft_mean_change[:, np.newaxis]\n",
    "# mse_mod_anom_change_theory['ft2'] = mse_mod_anom_change_theory['ft2'] + (beta_ft2/temp_mean[0, ind_ft])[:, np.newaxis] * temp_ft_anom_change * temp_ft_mean_change[:, np.newaxis]\n",
    "mse_mod_anom_change_theory['ft2'] = mse_mod_anom_change_theory['ft2']/1000\n",
    "sf_theory['ft2'] = np.zeros((n_lat, n_quant))\n",
    "for i in range(n_lat):\n",
    "    for j in range(n_quant):\n",
    "        sf_theory['ft2'][i, j] = scipy.optimize.fsolve(scale_factor_theory_from_mse_anom_change_fit_func, 1, \n",
    "                                  args=(temp_mean[:, ind_surf, i], temp_quant3[:, ind_surf, i, j], r_mean[:, i], \n",
    "                                        r_quant3[:, i, j], epsilon_mean[:, i], epsilon_quant3[:, i, j], mse_mod_anom_change_theory['ft2'][i, j]))"
   ],
   "outputs": [],
   "execution_count": null
  },
  {
   "metadata": {},
   "cell_type": "code",
   "source": [
    "fig_approx2 = copy.deepcopy(fig_approx1)\n",
    "ax = fig_approx2.axes\n",
    "ax[0].plot(quant_plot, np.average(sf_theory['ft2'], weights=lat_weights, axis=0), color=default_colors[0], linestyle='--',\n",
    "           label='$\\delta \\Delta h^{\\dagger}$')\n",
    "ax[1].plot(quant_plot, np.average(mse_mod_anom_change_theory['ft2'], weights=lat_weights, axis=0), color=default_colors[0], linestyle='--')\n",
    "ax[0].legend()\n",
    "fig_approx2"
   ],
   "outputs": [],
   "execution_count": null
  },
  {
   "metadata": {},
   "cell_type": "markdown",
   "source": [
    "## Approx FT3 - $\\delta \\overline{T_{FT}}$\n",
    "Use $\\delta \\overline{T_{FT}} \\approx \\frac{\\delta \\overline{h^{\\dagger}}}{\\beta_{FT1}}$ to link free tropospheric change to surface."
   ]
  },
  {
   "metadata": {},
   "cell_type": "code",
   "source": [
    "mse_mod_anom_change_theory['ft3'] = np.zeros((n_lat, n_quant))\n",
    "sf_theory['ft3'] = np.zeros((n_lat, n_quant))\n",
    "for i in range(n_lat):\n",
    "    mse_mod_anom_change_theory['ft3'][i] = mse_mod_anom_change_ft_expansion(temp_mean[:, ind_ft, i], temp_quant3[:, ind_ft, i], p_surface,\n",
    "                                                                     pressure_ft_actual, taylor_terms='linear')[0]\n",
    "    for j in range(n_quant):\n",
    "        sf_theory['ft3'][i, j] = scipy.optimize.fsolve(scale_factor_theory_from_mse_anom_change_fit_func, 1, \n",
    "                                  args=(temp_mean[:, ind_surf, i], temp_quant3[:, ind_surf, i, j], r_mean[:, i], \n",
    "                                        r_quant3[:, i, j], epsilon_mean[:, i], epsilon_quant3[:, i, j], mse_mod_anom_change_theory['ft3'][i, j]))"
   ],
   "outputs": [],
   "execution_count": null
  },
  {
   "metadata": {},
   "cell_type": "code",
   "source": [
    "lat = ds[0].lat[lat_use_ind].to_numpy()\n",
    "fig, ax = plt.subplots(1,1, figsize=(width['one_col'], width['one_col']/ar))\n",
    "ax.plot(lat[lat>0], temp_ft_mean_change[lat>0], '-o', color='k', label='Simulated')\n",
    "ax.plot(lat[lat>0], ((mse_mod_mean[1]-mse_mod_mean[0])*1000/beta_ft1)[lat>0], '-o', color=default_colors[0], label='Theory')\n",
    "ax.plot(-lat[lat<0], temp_ft_mean_change[lat<0], '-o', color='k', alpha=0.2)\n",
    "ax.plot(-lat[lat<0], ((mse_mod_mean[1]-mse_mod_mean[0])*1000/beta_ft1)[lat<0], '-o', color=default_colors[0], alpha=0.2)\n",
    "ax.legend()\n",
    "ax.set_ylabel('$\\delta \\overline{T_{FT}}$ [K]')\n",
    "ax.set_xlabel('Latitude [deg]')\n",
    "ax.set_xlim(lat_min, lat_max)"
   ],
   "outputs": [],
   "execution_count": null
  },
  {
   "metadata": {},
   "cell_type": "code",
   "source": [
    "fig_approx3 = copy.deepcopy(fig_approx2)\n",
    "ax = fig_approx3.axes\n",
    "ax[0].plot(quant_plot, np.average(sf_theory['ft3'], weights=lat_weights, axis=0), color=default_colors[1],\n",
    "           label='$\\delta \\overline{T_{FT}}$')\n",
    "ax[1].plot(quant_plot, np.average(mse_mod_anom_change_theory['ft3'], weights=lat_weights, axis=0), color=default_colors[1])\n",
    "ax[0].legend()\n",
    "fig_approx3"
   ],
   "outputs": [],
   "execution_count": null
  },
  {
   "metadata": {},
   "cell_type": "markdown",
   "source": [
    "## Approx FT4 - $\\delta \\overline{h^{\\dagger}}$\n",
    "Now, we expand $\\delta \\overline{h^{\\dagger}}$ in terms of surface variables. We keep non-linear but not squared terms i.e.\n",
    "$\\delta \\overline{h^{\\dagger}} \\approx \\overline{\\beta_{s1}}\\delta \\overline{T_s} + L_v \\overline{q_s^*}\\delta \\overline{r_s} + \n",
    "L_v \\overline{\\alpha_s}\\overline{q_s^*}\\delta \\overline{T_s}\\delta \\overline{r_s} - \\delta \\overline{\\epsilon}$\n",
    "This can be written as:\n",
    "$\\delta \\overline{h^{\\dagger}} \\approx \\overline{\\beta_{s1}}(1+\\overline{\\mu}\\frac{\\delta\\overline{r_s}}{\\overline{r_s}})\\delta \\overline{T_s} + \n",
    "L_v \\overline{q_s^*}\\delta \\overline{r_s} - \\delta \\overline{\\epsilon}$\n",
    "\n",
    "where $\\mu = \\frac{L_v \\alpha_s q_s}{\\beta_{s1}}$"
   ]
  },
  {
   "metadata": {},
   "cell_type": "code",
   "source": [
    "mse_mod_mean_change_t_s_approx = {'ft4': np.zeros(n_lat)}\n",
    "mse_mod_anom_change_theory['ft4'] = np.zeros((n_lat, n_quant))\n",
    "sf_theory['ft4'] = np.zeros((n_lat, n_quant))\n",
    "for i in range(n_lat):\n",
    "    mse_mod_mean_change_t_s_approx['ft4'][i] = mse_mod_change_surf_expansion(temp_mean[:, ind_surf, i], sphum_mean[:, i], epsilon_mean[:, i],\n",
    "                                                                  p_surface, pressure_ft_actual, taylor_terms='non_linear')[0]\n",
    "    mse_mod_anom_change_theory['ft4'][i] = mse_mod_anom_change_ft_expansion(temp_mean[:, ind_ft, i], temp_quant3[:, ind_ft, i], p_surface,\n",
    "                                                                            pressure_ft_actual, taylor_terms='linear', \n",
    "                                                                            mse_mod_mean_change=mse_mod_mean_change_t_s_approx['ft4'][i]*1000)[0]\n",
    "    for j in range(n_quant):\n",
    "        sf_theory['ft4'][i, j] = scipy.optimize.fsolve(scale_factor_theory_from_mse_anom_change_fit_func, 1, \n",
    "                                  args=(temp_mean[:, ind_surf, i], temp_quant3[:, ind_surf, i, j], r_mean[:, i], \n",
    "                                        r_quant3[:, i, j], epsilon_mean[:, i], epsilon_quant3[:, i, j], mse_mod_anom_change_theory['ft4'][i, j]))"
   ],
   "outputs": [],
   "execution_count": null
  },
  {
   "metadata": {},
   "cell_type": "code",
   "source": [
    "fig, ax = plt.subplots(1,1, figsize=(width['one_col'], width['one_col']/ar))\n",
    "ax.plot(lat[lat>0], (mse_mod_mean[1]-mse_mod_mean[0])[lat>0], '-o', color='k', label='Simulated')\n",
    "ax.plot(lat[lat>0], mse_mod_mean_change_t_s_approx['ft4'][lat>0], '-o', color=default_colors[0], label='Theory')\n",
    "ax.plot(-lat[lat<0], (mse_mod_mean[1]-mse_mod_mean[0])[lat<0], '-o', color='k', alpha=0.2)\n",
    "ax.plot(-lat[lat<0], mse_mod_mean_change_t_s_approx['ft4'][lat<0], '-o', color=default_colors[0], alpha=0.2)\n",
    "ax.legend()\n",
    "ax.set_ylabel('$\\delta \\overline{h^{\\dagger}}$ [kJ/kg]')\n",
    "ax.set_xlabel('Latitude [deg]')\n",
    "ax.set_xlim(lat_min, lat_max)"
   ],
   "outputs": [],
   "execution_count": null
  },
  {
   "metadata": {},
   "cell_type": "code",
   "source": [
    "fig_approx4 = copy.deepcopy(fig_approx3)\n",
    "ax = fig_approx4.axes\n",
    "ax[0].plot(quant_plot, np.average(sf_theory['ft4'], weights=lat_weights, axis=0), color=default_colors[1], linestyle='--',\n",
    "           label='$\\delta \\overline{h^{\\dagger}}$')\n",
    "ax[1].plot(quant_plot, np.average(mse_mod_anom_change_theory['ft4'], weights=lat_weights, axis=0), color=default_colors[1], linestyle='--')\n",
    "ax[0].legend()\n",
    "fig_approx4"
   ],
   "outputs": [],
   "execution_count": null
  },
  {
   "metadata": {},
   "cell_type": "markdown",
   "source": [
    "## Approx FT5 - $\\Delta T_{FT}$\n",
    "We want to expand the climatological free tropospheric temperature anomaly in terms of surface quantities. Inverting Approx FT1 and neglecting small $\\Delta h^{\\dagger}(x)^2$ term, we have:\n",
    "\n",
    "$\\Delta T_{FT}(x) \\approx \\frac{\\Delta h^{\\dagger}(x)}{\\beta_{FT1}}$"
   ]
  },
  {
   "metadata": {},
   "cell_type": "code",
   "source": [
    "# temp_ft_anom0_theory = mse_mod_anom[0]*1000/beta_ft1[:, np.newaxis] - \\\n",
    "#                        (beta_ft2/(2*beta_ft1**3*temp_mean[0, ind_ft]))[:, np.newaxis] * (mse_mod_anom[0]*1000)**2\n",
    "# temp_ft_anom0_squared_theory = (mse_mod_anom[0]*1000/beta_ft1[:, np.newaxis])**2\n",
    "temp_ft_anom0_theory = {'ft5': mse_mod_anom[0]*1000/beta_ft1[:, np.newaxis]}\n",
    "mse_mod_anom_change_theory['ft5'] = np.zeros((n_lat, n_quant))\n",
    "sf_theory['ft5'] = np.zeros((n_lat, n_quant))\n",
    "for i in range(n_lat):\n",
    "    mse_mod_anom_change_theory['ft5'][i] = mse_mod_anom_change_ft_expansion(temp_mean[:, ind_ft, i], temp_quant3[:, ind_ft, i], p_surface,\n",
    "                                                                            pressure_ft_actual, taylor_terms='linear', \n",
    "                                                                            mse_mod_mean_change=mse_mod_mean_change_t_s_approx['ft4'][i]*1000, \n",
    "                                                                            temp_ft_anom0=temp_ft_anom0_theory['ft5'][i])[0]\n",
    "    for j in range(n_quant):\n",
    "        sf_theory['ft5'][i, j] = scipy.optimize.fsolve(scale_factor_theory_from_mse_anom_change_fit_func, 1, \n",
    "                                  args=(temp_mean[:, ind_surf, i], temp_quant3[:, ind_surf, i, j], r_mean[:, i], \n",
    "                                        r_quant3[:, i, j], epsilon_mean[:, i], epsilon_quant3[:, i, j], mse_mod_anom_change_theory['ft5'][i, j]))"
   ],
   "outputs": [],
   "execution_count": null
  },
  {
   "metadata": {},
   "cell_type": "code",
   "source": [
    "fig_temp_ft_anom, ax = plt.subplots(1,1, figsize=(width['one_col'], width['one_col']/ar))\n",
    "ax = [ax]\n",
    "ax[0].plot(quant_plot, np.average(temp_anom[0, ind_ft], weights=lat_weights, axis=0), color='k', label='Simulated')\n",
    "ax[0].plot(quant_plot, np.average(temp_ft_anom0_theory['ft5'], weights=lat_weights, axis=0), color=default_colors[0], label='Theory')\n",
    "ax[0].legend()\n",
    "ax[0].set_ylabel('$\\Delta T_{FT}$ [K]')\n",
    "ax[0].axhline(0, color='k', lw=ax_linewidth)\n",
    "ax[0].set_xlabel(percentile_label)\n",
    "ax[0].set_xlim(0, 100)"
   ],
   "outputs": [],
   "execution_count": null
  },
  {
   "metadata": {},
   "cell_type": "code",
   "source": [
    "fig_approx5 = copy.deepcopy(fig_approx4)\n",
    "ax = fig_approx5.axes\n",
    "ax[0].plot(quant_plot, np.average(sf_theory['ft5'], weights=lat_weights, axis=0), color=default_colors[2],\n",
    "           label='$\\Delta T_{FT}$')\n",
    "ax[1].plot(quant_plot, np.average(mse_mod_anom_change_theory['ft5'], weights=lat_weights, axis=0), color=default_colors[2])\n",
    "ax[0].legend()\n",
    "fig_approx5"
   ],
   "outputs": [],
   "execution_count": null
  },
  {
   "metadata": {},
   "cell_type": "markdown",
   "source": [
    "## Approx FT6 - $\\Delta h^{\\dagger}$\n",
    "Keeping non-linear terms, we have:\n",
    "\n",
    "$\\Delta h^{\\dagger} \\approx \\overline{\\beta_{s1}}(1+\\overline{\\mu}\\frac{\\Delta r_s}{\\overline{r_s}})\\Delta \\overline{T_s} + \n",
    "L_v \\overline{q_s^*}\\Delta r_s - \\Delta \\epsilon$\n",
    "\n",
    "The dashed green line in the scaling factor plot shows the final approximation for $\\delta \\Delta h^{\\dagger}$ from a free tropospheric perspective:\n",
    "\n",
    "$$\\delta \\Delta h^{\\dagger} \\approx \\beta_{FT1} \\delta \\Delta T_{FT}(x) + \n",
    "\\frac{\\beta_{FT2}}{\\beta_{FT1}^2\\overline{T_{FT}}}\\left(\\overline{\\beta_{s1}}(1+\\overline{\\mu}\\frac{\\Delta r_s}{\\overline{r_s}})\n",
    "\\Delta \\overline{T_s} + L_v \\overline{q_s^*}\\Delta r_s - \\Delta \\epsilon\\right)\n",
    "\\left(\\overline{\\beta_{s1}}(1+\\overline{\\mu}\\frac{\\delta\\overline{r_s}}{\\overline{r_s}})\\delta \\overline{T_s} + \n",
    "L_v \\overline{q_s^*}\\delta \\overline{r_s} - \\delta \\overline{\\epsilon}\\right)$$"
   ]
  },
  {
   "metadata": {},
   "cell_type": "code",
   "source": [
    "mse_mod_anom0_theory = (beta_s1[:, np.newaxis] * temp_anom[0, ind_surf] + L_v * q_sat_s[:, np.newaxis] * r_anom[0])/1000 + \\\n",
    "                       L_v * (q_sat_s * alpha_s)[:, np.newaxis] * temp_anom[0, ind_surf]* r_anom[0]/1000  - epsilon_anom[0]\n",
    "temp_ft_anom0_theory['ft6'] = mse_mod_anom0_theory*1000/beta_ft1[:, np.newaxis]\n",
    "mse_mod_anom_change_theory['ft6'] = np.zeros((n_lat, n_quant))\n",
    "sf_theory['ft6'] = np.zeros((n_lat, n_quant))\n",
    "for i in range(n_lat):\n",
    "    mse_mod_anom_change_theory['ft6'][i] = mse_mod_anom_change_ft_expansion(temp_mean[:, ind_ft, i], temp_quant3[:, ind_ft, i], p_surface,\n",
    "                                                                            pressure_ft_actual, taylor_terms='linear', \n",
    "                                                                            mse_mod_mean_change=mse_mod_mean_change_t_s_approx['ft4'][i]*1000, \n",
    "                                                                            temp_ft_anom0=temp_ft_anom0_theory['ft6'][i])[0]\n",
    "    for j in range(n_quant):\n",
    "        sf_theory['ft6'][i, j] = scipy.optimize.fsolve(scale_factor_theory_from_mse_anom_change_fit_func, 1, \n",
    "                                  args=(temp_mean[:, ind_surf, i], temp_quant3[:, ind_surf, i, j], r_mean[:, i], \n",
    "                                        r_quant3[:, i, j], epsilon_mean[:, i], epsilon_quant3[:, i, j], mse_mod_anom_change_theory['ft6'][i, j]))"
   ],
   "outputs": [],
   "execution_count": null
  },
  {
   "metadata": {},
   "cell_type": "code",
   "source": [
    "fig, ax = plt.subplots(1,1, figsize=(width['one_col'], width['one_col']/ar))\n",
    "ax = [ax]\n",
    "ax[0].plot(quant_plot, np.average(mse_mod_anom[0], weights=lat_weights, axis=0), color='k', label='Simulated')\n",
    "ax[0].plot(quant_plot, np.average(mse_mod_anom0_theory, weights=lat_weights, axis=0), color=default_colors[0], label='Theory')\n",
    "ax[0].legend()\n",
    "ax[0].set_ylabel('$\\Delta h^{\\dagger}$ [kJ/kg]')\n",
    "ax[0].axhline(0, color='k', lw=ax_linewidth)\n",
    "ax[0].set_xlabel(percentile_label)\n",
    "ax[0].set_xlim(0, 100)"
   ],
   "outputs": [],
   "execution_count": null
  },
  {
   "metadata": {},
   "cell_type": "code",
   "source": [
    "# Look how this new approximation affects the free troposphere temperature anomaly value\n",
    "fig = copy.deepcopy(fig_temp_ft_anom)\n",
    "ax = fig.axes\n",
    "ax[0].plot(quant_plot, np.average(temp_ft_anom0_theory['ft6'], weights=lat_weights, axis=0), color=default_colors[0], linestyle='--', \n",
    "           label='Theory: $\\Delta h^{\\dagger}$')\n",
    "ax[0].legend()\n",
    "fig"
   ],
   "outputs": [],
   "execution_count": null
  },
  {
   "metadata": {},
   "cell_type": "code",
   "source": [
    "fig_approx6 = copy.deepcopy(fig_approx5)\n",
    "ax = fig_approx6.axes\n",
    "ax[0].plot(quant_plot, np.average(sf_theory['ft6'], weights=lat_weights, axis=0), color=default_colors[2], linestyle='--',\n",
    "           label='$\\Delta h^{\\dagger}$')\n",
    "ax[1].plot(quant_plot, np.average(mse_mod_anom_change_theory['ft6'], weights=lat_weights, axis=0), linestyle='--', color=default_colors[2])\n",
    "ax[0].legend()\n",
    "# fig_approx6.savefig(f\"/Users/joshduffield/Desktop/ft_approx6.pdf\",\n",
    "#                             dpi=dpi['combination'] if publish_fig else low_dpi, bbox_inches='tight', pad_inches=save_pad_inches)\n",
    "fig_approx6"
   ],
   "outputs": [],
   "execution_count": null
  },
  {
   "metadata": {},
   "cell_type": "markdown",
   "source": [
    "# Surface Expansion of $\\delta \\Delta h^{\\dagger}$\n",
    "## Approx s1 - $\\delta \\Delta h^{\\dagger}$\n",
    "Here we do a non-linear expansion of $\\delta h^{\\dagger}(x)$ and $\\delta \\overline{h^{\\dagger}}$ to obtain an expression for $\\delta \\Delta h^{\\dagger}(x)$.\n",
    "\n",
    "From Approx FT4, we have: \n",
    "$\\delta \\overline{h^{\\dagger}} \\approx \\overline{\\beta_{s1}}(1+\\overline{\\mu}\\frac{\\delta\\overline{r_s}}{\\overline{r_s}})\\delta \\overline{T_s} + \n",
    "L_v \\overline{q_s^*}\\delta \\overline{r_s} - \\delta \\overline{\\epsilon}$\n",
    "\n",
    "Similarly, we have: $\\delta h^{\\dagger}(x) \\approx \\beta_{s1}(x)(1+\\mu(x)\\frac{\\delta r_s(x)}{r_s(x)})\\delta T_s(x) + \n",
    "L_v q_s^*(x)\\delta r_s(x) - \\delta \\epsilon(x)$"
   ]
  },
  {
   "metadata": {},
   "cell_type": "code",
   "source": [
    "mse_mod_quant_change_t_s_approx = {'s1': np.zeros((n_lat, n_quant))}\n",
    "for i in range(n_lat):\n",
    "    mse_mod_quant_change_t_s_approx['s1'][i] = mse_mod_change_surf_expansion(temp_quant3[:, ind_surf, i], sphum_quant3[:, i], \n",
    "                                                                             epsilon_quant3[:, i], p_surface, pressure_ft_actual,\n",
    "                                                                             taylor_terms='non_linear')[0]\n",
    "mse_mod_anom_change_theory['s1'] = mse_mod_quant_change_t_s_approx['s1'] - mse_mod_mean_change_t_s_approx['ft4'][:, np.newaxis]\n",
    "\n",
    "sf_theory['s1'] = np.zeros((n_lat, n_quant))\n",
    "for i in range(n_lat):\n",
    "    for j in range(n_quant):\n",
    "        sf_theory['s1'][i, j] = scipy.optimize.fsolve(scale_factor_theory_from_mse_anom_change_fit_func, 1, \n",
    "                                  args=(temp_mean[:, ind_surf, i], temp_quant3[:, ind_surf, i, j], r_mean[:, i], \n",
    "                                        r_quant3[:, i, j], epsilon_mean[:, i], epsilon_quant3[:, i, j], mse_mod_anom_change_theory['s1'][i, j]))"
   ],
   "outputs": [],
   "execution_count": null
  },
  {
   "metadata": {},
   "cell_type": "code",
   "source": [
    "fig, ax = plt.subplots(1,1, figsize=(width['one_col'], width['one_col']/ar))\n",
    "ax.plot(quant_plot, np.average(mse_mod_quant3[1]-mse_mod_quant3[0], axis=0, weights=lat_weights), color='k', label='Simulated')\n",
    "ax.axhline(np.average(mse_mod_mean[1]-mse_mod_mean[0], axis=0, weights=lat_weights), color='k')\n",
    "ax.plot(quant_plot, np.average(mse_mod_quant_change_t_s_approx['s1'], axis=0, weights=lat_weights), color=default_colors[0], label='Theory')\n",
    "ax.axhline(np.average(mse_mod_mean_change_t_s_approx['ft4'], axis=0, weights=lat_weights), color=default_colors[0])\n",
    "ax.set_ylabel('$\\delta h^{\\dagger}$ [kJ/kg]')\n",
    "ax.set_xlabel(percentile_label)\n",
    "ax.set_xlim(0, 100)\n",
    "ax.legend()"
   ],
   "outputs": [],
   "execution_count": null
  },
  {
   "metadata": {},
   "cell_type": "code",
   "source": [
    "fig_approx_s1, ax = plt.subplots(2,1, figsize=(width['one_col'], 2*width['one_col']/ar), sharex=True)\n",
    "ax[0].plot(quant_plot, np.average(sf_simulated, weights=lat_weights, axis=0), color='k',\n",
    "           label='Simulated')\n",
    "ax[0].plot(quant_plot, np.average(sf_theory['s1'], weights=lat_weights, axis=0), color=default_colors[0], label='$\\delta \\Delta h^{\\dagger}$')\n",
    "ax[1].plot(quant_plot, np.average(mse_mod_anom_change_simulated, axis=0, weights=lat_weights), color='k')\n",
    "ax[1].plot(quant_plot, np.average(mse_mod_anom_change_theory['s1'], axis=0, weights=lat_weights), color=default_colors[0])\n",
    "ax[0].legend()\n",
    "ax[0].set_ylabel('Scaling factor, $\\delta T(x)/\\delta \\overline{T}$')\n",
    "ax[1].set_ylabel('$\\delta \\Delta h^{\\dagger}$ [kJ/kg]')\n",
    "ax[0].axhline(1, color='k', lw=ax_linewidth)\n",
    "ax[1].axhline(0, color='k', lw=ax_linewidth)\n",
    "ax[1].set_xlabel(percentile_label)\n",
    "ax[0].set_xlim(0, 100)"
   ],
   "outputs": [],
   "execution_count": null
  },
  {
   "metadata": {},
   "cell_type": "markdown",
   "source": [
    "## Approx s2 - $q^*_s(x)$\n",
    "We can approximate $q^*_s(x) \\approx \\overline{q^*_s}(1+\\overline{\\alpha_s}\\Delta T_s(x))$ re-write $\\delta r_s(x)$ such that:\n",
    "\n",
    "$q^*_s(x)\\delta r_s(x) - \\overline{q^*_s}\\delta \\overline{r_s} \\approx \\overline{q^*_s}\\overline{\\alpha_s}\\Delta T_s(x)\\delta \\overline{r_s} + \n",
    "\\overline{q^*_s}(1+\\overline{\\alpha_s}\\Delta T_s(x))\\delta \\Delta \\overline{r_s}$"
   ]
  },
  {
   "metadata": {},
   "cell_type": "code",
   "source": [
    "humidity_mse_anom_change_term = (L_v * sphum_quant3[0]/r_quant3[0] * (r_quant3[1]-r_quant3[0]) - \n",
    "                                 (L_v * q_sat_s * (r_mean[1] - r_mean[0]))[:, np.newaxis])/1000\n",
    "humidity_mse_anom_change_term_theory_breakdown = {'r_anom': L_v * q_sat_s[:, np.newaxis] * (r_anom[1]-r_anom[0])/1000, \n",
    "                                                  'r_mean': L_v * q_sat_s[:, np.newaxis] * \n",
    "                                                            (alpha_s * (r_mean[1] - r_mean[0]))[:, np.newaxis]*temp_anom[0, ind_surf]/1000,\n",
    "                                                  'r_anom_temp_anom': L_v * q_sat_s[:, np.newaxis] * alpha_s[:, np.newaxis]*temp_anom[0, ind_surf] * \n",
    "                                                             (r_anom[1]-r_anom[0])/1000}\n",
    "humidity_mse_anom_change_term_theory = humidity_mse_anom_change_term_theory_breakdown['r_anom']+\\\n",
    "                                       humidity_mse_anom_change_term_theory_breakdown['r_anom_temp_anom']+\\\n",
    "                                       humidity_mse_anom_change_term_theory_breakdown['r_mean']\n",
    "q_sat_s_x_theory = q_sat_s[:, np.newaxis]*(1+alpha_s[:, np.newaxis] * temp_anom[0, ind_surf])\n",
    "mse_mod_quant_change_t_s_approx['s2'] =  np.zeros((n_lat, n_quant))\n",
    "for i in range(n_lat):\n",
    "    mse_mod_quant_change_t_s_approx['s2'][i] = mse_mod_change_surf_expansion(temp_quant3[:, ind_surf, i], sphum_quant3[:, i], \n",
    "                                                                             epsilon_quant3[:, i], p_surface, pressure_ft_actual,\n",
    "                                                                             taylor_terms='non_linear', \n",
    "                                                                             q_sat_s_linear_term_use=q_sat_s_x_theory[i])[0]\n",
    "mse_mod_anom_change_theory['s2'] = mse_mod_quant_change_t_s_approx['s2'] - mse_mod_mean_change_t_s_approx['ft4'][:, np.newaxis]\n",
    "\n",
    "sf_theory['s2'] = np.zeros((n_lat, n_quant))\n",
    "for i in range(n_lat):\n",
    "    for j in range(n_quant):\n",
    "        sf_theory['s2'][i, j] = scipy.optimize.fsolve(scale_factor_theory_from_mse_anom_change_fit_func, 1, \n",
    "                                  args=(temp_mean[:, ind_surf, i], temp_quant3[:, ind_surf, i, j], r_mean[:, i], \n",
    "                                        r_quant3[:, i, j], epsilon_mean[:, i], epsilon_quant3[:, i, j], mse_mod_anom_change_theory['s2'][i, j]))"
   ],
   "outputs": [],
   "execution_count": null
  },
  {
   "metadata": {},
   "cell_type": "code",
   "source": [
    "fig, ax = plt.subplots(1,1, figsize=(width['one_col'], width['one_col']/ar))\n",
    "ax.plot(quant_plot, np.average(humidity_mse_anom_change_term, axis=0, weights=lat_weights), color='k', label='Simulated')\n",
    "ax.plot(quant_plot, np.average(humidity_mse_anom_change_term_theory, axis=0, weights=lat_weights), color=default_colors[0], label='Theory')\n",
    "linestyles_breakdown = ['-', '--', ':']\n",
    "for i, key in enumerate(humidity_mse_anom_change_term_theory_breakdown):\n",
    "    ax.plot(quant_plot, np.average(humidity_mse_anom_change_term_theory_breakdown[key], axis=0, weights=lat_weights), \n",
    "            color=default_colors[1], label=key, linestyle=linestyles_breakdown[i], alpha=0.7)\n",
    "ax.axhline(0, color='k', lw=ax_linewidth)\n",
    "ax.set_ylabel('$L_v q_s^*(x)\\delta r_s(x) - L_v\\overline{q_s^*}\\delta \\overline{r_s}$ [kJ/kg]')\n",
    "ax.set_xlabel(percentile_label)\n",
    "ax.set_xlim(0, 100)\n",
    "ax.legend()"
   ],
   "outputs": [],
   "execution_count": null
  },
  {
   "metadata": {},
   "cell_type": "code",
   "source": [
    "fig_approx_s2 = copy.deepcopy(fig_approx_s1)\n",
    "ax = fig_approx_s2.axes\n",
    "ax[0].plot(quant_plot, np.average(sf_theory['s2'], weights=lat_weights, axis=0), color=default_colors[0], linestyle='--',\n",
    "           label='$q_s^*(x)$')\n",
    "ax[1].plot(quant_plot, np.average(mse_mod_anom_change_theory['s2'], weights=lat_weights, axis=0), linestyle='--', color=default_colors[0])\n",
    "ax[0].legend()\n",
    "fig_approx_s2"
   ],
   "outputs": [],
   "execution_count": null
  },
  {
   "metadata": {},
   "cell_type": "markdown",
   "source": [
    "## Approx s3 - $\\beta_{s1}(x)$\n",
    "To get an equation for $\\delta T_s(x)$, we must divide through by $\\beta_{s1}(x)$, hence we need an approximation for $\\beta_{s1}(x)^{-1}$:\n",
    "\n",
    "$$\n",
    "\\begin{align}\n",
    "\\begin{split}\n",
    "\\frac{\\overline{\\beta_{s1}}}{\\beta_{s1}(x)} = \\left(1 + \\frac{\\Delta \\beta_{s1}(x)}{\\overline{\\beta_{s1}}}\\right)^{-1} \n",
    "&\\approx 1 - \\frac{\\Delta \\beta_{s1}(x)}{\\overline{\\beta_{s1}}}\\\\\n",
    "&\\approx 1 - \n",
    "\\frac{\\overline{\\beta_{s2}}}{\\overline{\\beta_{s1}}}\\left(1 + \\frac{\\Delta r_s(x)}{\\overline{r_s}}\\right)\\frac{\\Delta T_s(x)}{\\overline{T_s}} - \n",
    "\\frac{L_v \\overline{\\alpha_s}\\overline{q_s}}{\\overline{\\beta_{s1}}}\\frac{\\Delta r_s(x)}{\\overline{r_s}}\n",
    "\\end{split}\n",
    "\\end{align}\n",
    "$$"
   ]
  },
  {
   "metadata": {},
   "cell_type": "code",
   "source": [
    "_, _, _, beta_s1_x, _, _ = get_theory_prefactor_terms(temp_quant3[0, ind_surf], p_surface, pressure_ft_actual, sphum_quant3[0])\n",
    "beta_s1_ratio_theory_breakdown = {'temp': -(beta_s2/beta_s1/temp_mean[0, ind_surf])[:, np.newaxis] * temp_anom[0, ind_surf], \n",
    "                                  'humidity': -(L_v*alpha_s*q_sat_s/beta_s1)[:, np.newaxis]*r_anom[0]}\n",
    "beta_s1_ratio_theory_breakdown['temp_humidity'] = beta_s1_ratio_theory_breakdown['temp'] * r_anom[0]/r_mean[0, :, np.newaxis]\n",
    "beta_s1_ratio_theory = 1+beta_s1_ratio_theory_breakdown['temp'] + beta_s1_ratio_theory_breakdown['humidity'] + \\\n",
    "                       beta_s1_ratio_theory_breakdown['temp_humidity']\n",
    "beta_s1_x_theory = beta_s1[:, np.newaxis]/beta_s1_ratio_theory\n",
    "\n",
    "mse_mod_quant_change_t_s_approx['s3'] =  np.zeros((n_lat, n_quant))\n",
    "for i in range(n_lat):\n",
    "    mse_mod_quant_change_t_s_approx['s3'][i] = mse_mod_change_surf_expansion(temp_quant3[:, ind_surf, i], sphum_quant3[:, i], \n",
    "                                                                             epsilon_quant3[:, i], p_surface, pressure_ft_actual,\n",
    "                                                                             taylor_terms='non_linear', \n",
    "                                                                             q_sat_s_linear_term_use=q_sat_s_x_theory[i], \n",
    "                                                                             beta_s1_use=beta_s1_x_theory[i])[0]\n",
    "mse_mod_anom_change_theory['s3'] = mse_mod_quant_change_t_s_approx['s3'] - mse_mod_mean_change_t_s_approx['ft4'][:, np.newaxis]\n",
    "\n",
    "sf_theory['s3'] = np.zeros((n_lat, n_quant))\n",
    "for i in range(n_lat):\n",
    "    for j in range(n_quant):\n",
    "        sf_theory['s3'][i, j] = scipy.optimize.fsolve(scale_factor_theory_from_mse_anom_change_fit_func, 1, \n",
    "                                  args=(temp_mean[:, ind_surf, i], temp_quant3[:, ind_surf, i, j], r_mean[:, i], \n",
    "                                        r_quant3[:, i, j], epsilon_mean[:, i], epsilon_quant3[:, i, j], mse_mod_anom_change_theory['s3'][i, j]))"
   ],
   "outputs": [],
   "execution_count": null
  },
  {
   "metadata": {},
   "cell_type": "code",
   "source": [
    "fig, ax = plt.subplots(1,1, figsize=(width['one_col'], width['one_col']/ar))\n",
    "ax.plot(quant_plot, np.average(beta_s1[:, np.newaxis]/beta_s1_x, axis=0, weights=lat_weights), color='k', label='Simulated')\n",
    "ax.plot(quant_plot, np.average(beta_s1_ratio_theory, axis=0, weights=lat_weights), color=default_colors[0], label='Theory')\n",
    "for i, key in enumerate(beta_s1_ratio_theory_breakdown):\n",
    "    ax.plot(quant_plot, 1+np.average(beta_s1_ratio_theory_breakdown[key], axis=0, weights=lat_weights), \n",
    "            color=default_colors[1], label=key, linestyle=linestyles_breakdown[i], alpha=0.7)\n",
    "ax.axhline(1, color='k', lw=ax_linewidth)\n",
    "ax.set_ylabel('$\\overline{\\\\beta_{s1}}/\\\\beta_{s1}(x)$')\n",
    "ax.set_xlabel(percentile_label)\n",
    "ax.set_xlim(0, 100)\n",
    "ax.legend()"
   ],
   "outputs": [],
   "execution_count": null
  },
  {
   "metadata": {},
   "cell_type": "code",
   "source": [
    "fig_approx_s3 = copy.deepcopy(fig_approx_s2)\n",
    "ax = fig_approx_s3.axes\n",
    "ax[0].plot(quant_plot, np.average(sf_theory['s3'], weights=lat_weights, axis=0), color=default_colors[1],\n",
    "           label='$\\\\beta_{s1}(x)$')\n",
    "ax[1].plot(quant_plot, np.average(mse_mod_anom_change_theory['s3'], weights=lat_weights, axis=0), color=default_colors[1])\n",
    "ax[0].legend()\n",
    "fig_approx_s3"
   ],
   "outputs": [],
   "execution_count": null
  },
  {
   "metadata": {},
   "cell_type": "markdown",
   "source": [
    "## Approx s4 - $\\overline{\\beta_{s1}}$\n",
    "When divide through by $\\beta_{s1}(x)$ to get equation for $\\delta T_s(x)$, replace with $\\overline{\\beta_{s1}}$, except where it appears with the leading $\\left(1+\\overline{\\mu}\\frac{\\delta \\overline{r_s}}{\\overline{r_s}}\\right)\\delta \\overline{T_s}$ term.\n"
   ]
  },
  {
   "metadata": {},
   "cell_type": "code",
   "source": [
    "mse_mod_quant_change_t_s_approx['s4'] =  np.zeros((n_lat, n_quant))\n",
    "for i in range(n_lat):\n",
    "    mse_mod_quant_change_t_s_approx['s4'][i] = mse_mod_change_surf_expansion(temp_quant3[:, ind_surf, i], sphum_quant3[:, i], \n",
    "                                                                             epsilon_quant3[:, i], p_surface, pressure_ft_actual,\n",
    "                                                                             taylor_terms='non_linear', \n",
    "                                                                             q_sat_s_linear_term_use=q_sat_s_x_theory[i], \n",
    "                                                                             beta_s1_use=beta_s1[i])[0]\n",
    "mse_mod_mean_change_t_s_approx['s4'] = np.zeros((n_lat, n_quant))\n",
    "for i in range(n_lat):\n",
    "    for j in range(n_quant):\n",
    "        mse_mod_mean_change_t_s_approx['s4'][i, j] = \\\n",
    "            mse_mod_change_surf_expansion(temp_mean[:, ind_surf, i], sphum_mean[:, i], epsilon_mean[:, i], p_surface, pressure_ft_actual, \n",
    "                                          taylor_terms='non_linear', beta_s1_use=beta_s1[i] * beta_s1_ratio_theory[i, j])[0]\n",
    "mse_mod_anom_change_theory['s4'] = mse_mod_quant_change_t_s_approx['s4'] - mse_mod_mean_change_t_s_approx['s4']\n",
    "\n",
    "sf_theory['s4'] = np.zeros((n_lat, n_quant))\n",
    "for i in range(n_lat):\n",
    "    for j in range(n_quant):\n",
    "        sf_theory['s4'][i, j] = scipy.optimize.fsolve(scale_factor_theory_from_mse_anom_change_fit_func, 1, \n",
    "                                  args=(temp_mean[:, ind_surf, i], temp_quant3[:, ind_surf, i, j], r_mean[:, i], \n",
    "                                        r_quant3[:, i, j], epsilon_mean[:, i], epsilon_quant3[:, i, j], mse_mod_anom_change_theory['s4'][i, j]))"
   ],
   "outputs": [],
   "execution_count": null
  },
  {
   "metadata": {},
   "cell_type": "code",
   "source": [
    "fig_approx_s4 = copy.deepcopy(fig_approx_s3)\n",
    "ax = fig_approx_s4.axes\n",
    "ax[0].plot(quant_plot, np.average(sf_theory['s4'], weights=lat_weights, axis=0), color=default_colors[1], linestyle='--',\n",
    "           label='$\\overline{\\\\beta_{s1}}$')\n",
    "ax[1].plot(quant_plot, np.average(mse_mod_anom_change_theory['s4'], weights=lat_weights, axis=0), color=default_colors[1], linestyle='--')\n",
    "ax[0].legend()\n",
    "# fig_approx_s4.savefig(f\"/Users/joshduffield/Desktop/s_approx4.pdf\",\n",
    "#                             dpi=dpi['combination'] if publish_fig else low_dpi, bbox_inches='tight', pad_inches=save_pad_inches)\n",
    "fig_approx_s4"
   ],
   "outputs": [],
   "execution_count": null
  },
  {
   "metadata": {},
   "cell_type": "markdown",
   "source": "# Combining $\\delta \\Delta h^{\\dagger}(x)$ approximations to give $\\delta T_s(x)$"
  },
  {
   "metadata": {},
   "cell_type": "code",
   "source": [
    "sf_theory['final'] = np.zeros((n_lat, n_quant))\n",
    "for i in range(n_lat):\n",
    "    for j in range(n_quant):\n",
    "        sf_theory['final'][i, j] = scipy.optimize.fsolve(scale_factor_theory_taylor_fit_func, 1, \n",
    "                                                     args=(temp_mean[:, ind_surf, i], temp_quant3[:, ind_surf, i, j], r_mean[:, i], \n",
    "                                                           r_quant3[:, i, j], epsilon_mean[:, i], epsilon_quant3[:, i, j], \n",
    "                                                           mse_mod_anom_change_theory['ft6'][i, j],'non_linear', p_surface, pressure_ft_actual, \n",
    "                                                           q_sat_s_x_theory[i, j], beta_s1[i], beta_s1[i] * beta_s1_ratio_theory[i, j]))"
   ],
   "outputs": [],
   "execution_count": null
  },
  {
   "metadata": {},
   "cell_type": "code",
   "source": [
    "fig_final1, ax = plt.subplots(2,1, figsize=(width['one_col'], 2*width['one_col']/ar), sharex=True)\n",
    "ax[0].plot(quant_plot, np.average(sf_simulated, weights=lat_weights, axis=0), color='k',\n",
    "           label='Simulated')\n",
    "ax[0].plot(quant_plot, np.average(sf_theory['s4'], weights=lat_weights, axis=0), color=default_colors[3], label='Surface')\n",
    "ax[0].plot(quant_plot, np.average(sf_theory['ft6'], weights=lat_weights, axis=0), color=default_colors[0], label='Free Troposphere')\n",
    "ax[0].plot(quant_plot, np.average(sf_theory['final'], weights=lat_weights, axis=0), color=default_colors[1], \n",
    "           label='Final - equate $\\delta \\Delta h^{\\dagger}$')\n",
    "ax[1].plot(quant_plot, np.average(mse_mod_anom_change_simulated, axis=0, weights=lat_weights), color='k')\n",
    "ax[1].plot(quant_plot, np.average(mse_mod_anom_change_theory['s4'], axis=0, weights=lat_weights), color=default_colors[3])\n",
    "ax[1].plot(quant_plot, np.average(mse_mod_anom_change_theory['ft6'], axis=0, weights=lat_weights), color=default_colors[0])\n",
    "ax[0].legend()\n",
    "ax[0].set_ylabel('Scaling factor, $\\delta T(x)/\\delta \\overline{T}$')\n",
    "ax[1].set_ylabel('$\\delta \\Delta h^{\\dagger}$ [kJ/kg]')\n",
    "ax[0].axhline(1, color='k', lw=ax_linewidth)\n",
    "ax[1].axhline(0, color='k', lw=ax_linewidth)\n",
    "ax[1].set_xlabel(percentile_label)\n",
    "ax[0].set_xlim(0, 100)"
   ],
   "outputs": [],
   "execution_count": null
  },
  {
   "metadata": {},
   "cell_type": "code",
   "source": [
    "sf_theory_from_eqn = {'t_ft': np.zeros((n_lat, n_quant))}\n",
    "for j in range(n_lat):\n",
    "    sf_theory_from_eqn['t_ft'][j] = get_scaling_factor_theory(temp_mean[:, ind_surf, j], temp_quant3[:, ind_surf, j], sphum_mean[:, j], \n",
    "                                                               sphum_quant3[:, j], p_surface, pressure_ft_actual, \n",
    "                                                               temp_mean[:, ind_ft, j], temp_quant3[:, ind_ft, j], z_mean[:, ind_ft, j], \n",
    "                                                               z_quant3[:, ind_ft, j], non_linear=True)[0]"
   ],
   "outputs": [],
   "execution_count": null
  },
  {
   "metadata": {},
   "cell_type": "code",
   "source": [
    "fig_final2 = copy.deepcopy(fig_final1)\n",
    "ax = fig_final2.axes\n",
    "ax[0].plot(quant_plot, np.average(sf_theory_from_eqn['t_ft'], weights=lat_weights, axis=0), color=default_colors[2],\n",
    "           label='Final - from equation')\n",
    "ax[0].legend()\n",
    "fig_final2"
   ],
   "outputs": [],
   "execution_count": null
  },
  {
   "metadata": {},
   "cell_type": "markdown",
   "source": [
    "## $z$ Form of Theory\n",
    "Here, we replace the $\\delta \\Delta T_{FT}(x)$ term with $\\delta \\Delta z_{FT}(x)$."
   ]
  },
  {
   "metadata": {},
   "cell_type": "code",
   "source": [
    "def scale_factor_theory_from_mse_anom_change_z_theory_fit_func(scale_factor, temp_surf_mean, temp_surf_quant, r_surf_mean, r_surf_quant,\n",
    "                                                               epsilon_mean, epsilon_quant, temp_ft_mean, z_surf_anom, z_ft_anom, \n",
    "                                                               mse_mod_mean_change, temp_ft_anom0,\n",
    "                                                               pressure_surf: float = p_surface, pressure_ft = pressure_ft_actual):\n",
    "    # mse_mod_anom_change is in kJ/kg\n",
    "    n_exp = len(r_surf_mean)\n",
    "    temp_mean_change = temp_surf_mean[1] - temp_surf_mean[0]\n",
    "    temp_quant_hot = temp_surf_quant[0] + scale_factor * temp_mean_change\n",
    "    mse_mod_surf_quant_cold = moist_static_energy(temp_surf_quant[0], r_surf_quant[0] * sphum_sat(temp_surf_quant[0], pressure_surf), 0,\n",
    "                                              c_p_const=c_p - lnp_const) - epsilon_quant[0]\n",
    "    mse_mod_surf_quant_hot = moist_static_energy(temp_quant_hot, r_surf_quant[1] * sphum_sat(temp_quant_hot, pressure_surf), 0, \n",
    "                                             c_p_const=c_p - lnp_const) - epsilon_quant[1]\n",
    "    mse_mod_surf_mean = [moist_static_energy(temp_surf_mean[i], r_surf_mean[i] * sphum_sat(temp_surf_mean[i], pressure_surf), 0, \n",
    "                                         c_p_const=c_p - lnp_const) - epsilon_mean[i]\n",
    "                     for i in range(n_exp)]\n",
    "    mse_mod_anom_change_from_sf = mse_mod_surf_quant_hot - mse_mod_surf_quant_cold - (mse_mod_surf_mean[1] - mse_mod_surf_mean[0])\n",
    "    \n",
    "    temp_ft_anom_from_z_cold = g/lnp_const * (z_ft_anom[0] - z_surf_anom[0]) - (temp_surf_quant[0]-temp_surf_mean[0])\n",
    "    temp_ft_anom_from_z_hot = g/lnp_const * (z_ft_anom[1] - z_surf_anom[1]) - (temp_quant_hot-temp_surf_mean[1])\n",
    "    temp_quant_ft_from_z = np.asarray([temp_ft_mean[0]+temp_ft_anom_from_z_cold, temp_ft_mean[1]+temp_ft_anom_from_z_hot], dtype=np.float64)\n",
    "    mse_mod_anom_change_from_ft = mse_mod_anom_change_ft_expansion(temp_ft_mean, temp_quant_ft_from_z[:, np.newaxis], p_surface, \n",
    "                                                                   pressure_ft, taylor_terms='linear', \n",
    "                                                                   mse_mod_mean_change=mse_mod_mean_change, \n",
    "                                                                   temp_ft_anom0=temp_ft_anom0)[0]\n",
    "    \n",
    "    return mse_mod_anom_change_from_sf - mse_mod_anom_change_from_ft\n",
    "\n",
    "def scale_factor_theory_taylor_fit_z_theory_func(scale_factor, temp_surf_mean, temp_surf_quant, r_surf_mean, r_surf_quant, \n",
    "                                                 epsilon_mean, epsilon_quant, temp_ft_mean, z_surf_anom, z_ft_anom, \n",
    "                                                 mse_mod_mean_change_for_ft_expansion, temp_ft_anom0, taylor_terms='linear', \n",
    "                                                 pressure_surf = p_surface, pressure_ft=pressure_ft_actual, q_sat_s_linear_term_use=None,\n",
    "                                                 beta_s1_quant_use=None, beta_s1_mean_use=None):\n",
    "    # Makes same taylor series approximation for both ways of getting mse_anom_change\n",
    "    # mse_mod_anom_change_from_temp_ft needs to be in kJ/kg\n",
    "    temp_mean_change = temp_surf_mean[1] - temp_surf_mean[0]\n",
    "    temp_surf_quant_use = np.asarray([temp_surf_quant[0], temp_surf_quant[0] + scale_factor * temp_mean_change], dtype=np.float64)\n",
    "    \n",
    "    sphum_mean = r_surf_mean * sphum_sat(temp_surf_mean, pressure_surf)\n",
    "    sphum_quant = r_surf_quant * sphum_sat(temp_surf_quant_use, pressure_surf)\n",
    "    \n",
    "    mse_quant_change_from_temp_s = mse_mod_change_surf_expansion(temp_surf_quant_use[:, np.newaxis], sphum_quant[:, np.newaxis],\n",
    "                                                                 epsilon_quant[:, np.newaxis], pressure_surf, pressure_ft, \n",
    "                                                                 taylor_terms=taylor_terms, q_sat_s_linear_term_use=q_sat_s_linear_term_use, \n",
    "                                                                 beta_s1_use=beta_s1_quant_use)[0]\n",
    "    mse_mean_change_from_temp_s = mse_mod_change_surf_expansion(temp_surf_mean, sphum_mean, epsilon_mean,\n",
    "                                                                pressure_surf, pressure_ft, taylor_terms=taylor_terms, \n",
    "                                                                beta_s1_use=beta_s1_mean_use)[0]\n",
    "    mse_anom_change_from_temp_s = mse_quant_change_from_temp_s - mse_mean_change_from_temp_s\n",
    "    \n",
    "    temp_ft_anom_from_z = g/lnp_const * (z_ft_anom - z_surf_anom) - (temp_surf_quant_use-temp_surf_mean)\n",
    "    temp_quant_ft_from_z = temp_ft_mean + temp_ft_anom_from_z\n",
    "    mse_mod_anom_change_from_ft = mse_mod_anom_change_ft_expansion(temp_ft_mean, temp_quant_ft_from_z[:, np.newaxis], p_surface, \n",
    "                                                               pressure_ft, taylor_terms='linear', \n",
    "                                                               mse_mod_mean_change=mse_mod_mean_change_for_ft_expansion, \n",
    "                                                               temp_ft_anom0=temp_ft_anom0)[0]\n",
    "    \n",
    "    return mse_mod_anom_change_from_ft - mse_anom_change_from_temp_s"
   ],
   "outputs": [],
   "execution_count": null
  },
  {
   "metadata": {},
   "cell_type": "code",
   "source": [
    "# mse_mod_anom_change_theory['ft6_z'] = np.zeros((n_lat, n_quant))\n",
    "sf_theory['ft6_z'] = np.zeros((n_lat, n_quant))\n",
    "sf_theory['final_z'] = np.zeros((n_lat, n_quant))\n",
    "sf_theory_from_eqn['z_ft'] = np.zeros((n_lat, n_quant))\n",
    "for i in range(n_lat):\n",
    "    sf_theory_from_eqn['z_ft'][i] = get_scaling_factor_theory(temp_mean[:, ind_surf, i], temp_quant3[:, ind_surf, i], sphum_mean[:, i],  \n",
    "                                                                       sphum_quant3[:, i], p_surface, pressure_ft_actual, temp_mean[:, ind_ft, i], \n",
    "                                                                       temp_quant3[:, ind_ft, i], z_mean[:, ind_ft, i], z_quant3[:, ind_ft, i],\n",
    "                                                              non_linear=True, z_form=True)[0]\n",
    "    for j in range(n_quant):\n",
    "        sf_theory['ft6_z'][i, j] = scipy.optimize.fsolve(scale_factor_theory_from_mse_anom_change_z_theory_fit_func, 1, \n",
    "                                  args=(temp_mean[:, ind_surf, i], temp_quant3[:, ind_surf, i, j], r_mean[:, i], \n",
    "                                        r_quant3[:, i, j], epsilon_mean[:, i], epsilon_quant3[:, i, j], temp_mean[:, ind_ft, i], \n",
    "                                        z_anom[:, ind_surf, i, j], z_anom[:, ind_ft, i, j], mse_mod_mean_change_t_s_approx['ft4'][i]*1000, \n",
    "                                        temp_ft_anom0_theory['ft6'][i, j]))\n",
    "        \n",
    "        sf_theory['final_z'][i, j] = scipy.optimize.fsolve(scale_factor_theory_taylor_fit_z_theory_func, 1, \n",
    "                                                     args=(temp_mean[:, ind_surf, i], temp_quant3[:, ind_surf, i, j], r_mean[:, i], \n",
    "                                                           r_quant3[:, i, j], epsilon_mean[:, i], epsilon_quant3[:, i, j], \n",
    "                                                           temp_mean[:, ind_ft, i], z_anom[:, ind_surf, i, j], z_anom[:, ind_ft, i, j],\n",
    "                                                           mse_mod_mean_change_t_s_approx['ft4'][i]*1000, temp_ft_anom0_theory['ft6'][i, j],\n",
    "                                                           'non_linear', p_surface, pressure_ft_actual, \n",
    "                                                           q_sat_s_x_theory[i, j], beta_s1[i], beta_s1[i] * beta_s1_ratio_theory[i, j]))"
   ],
   "outputs": [],
   "execution_count": null
  },
  {
   "metadata": {},
   "cell_type": "code",
   "source": [
    "temp_ft_anom_from_z = g/lnp_const * (z_anom[:, ind_ft] - z_anom[:, ind_surf]) - temp_anom[:, ind_surf]\n",
    "\n",
    "fig, ax = plt.subplots(1,1, figsize=(width['one_col'], width['one_col']/ar))\n",
    "ax.plot(quant_plot, np.average(temp_anom[1, ind_ft]-temp_anom[0, ind_ft], axis=0, weights=lat_weights), color='k', label='Simulated')\n",
    "ax.plot(quant_plot, np.average(temp_ft_anom_from_z[1] - temp_ft_anom_from_z[0], axis=0, weights=lat_weights),\n",
    "        color=default_colors[0], label='Theory - $\\delta \\Delta z_{FT}$')\n",
    "ax.axhline(0, color='k', lw=ax_linewidth)\n",
    "ax.set_ylabel('$\\delta \\Delta T_{FT}$ [K]')\n",
    "ax.set_xlabel(percentile_label)\n",
    "ax.set_xlim(0, 100)\n",
    "ax.legend()"
   ],
   "outputs": [],
   "execution_count": null
  },
  {
   "metadata": {},
   "cell_type": "code",
   "source": [
    "fig_final3 = copy.deepcopy(fig_final2)\n",
    "ax = fig_final3.axes\n",
    "ax[0].plot(quant_plot, np.average(sf_theory['ft6_z'], weights=lat_weights, axis=0), color=default_colors[0], linestyle='--')\n",
    "ax[0].plot(quant_plot, np.average(sf_theory['final_z'], weights=lat_weights, axis=0), color=default_colors[1], linestyle='--')\n",
    "ax[0].plot(quant_plot, np.average(sf_theory_from_eqn['z_ft'], weights=lat_weights, axis=0), color=default_colors[2], linestyle='--')\n",
    "ax[0].legend()\n",
    "\n",
    "fig_final3"
   ],
   "outputs": [],
   "execution_count": null
  },
  {
   "metadata": {},
   "cell_type": "markdown",
   "source": [
    "## Use Adiabatic Temperature to compute $\\gamma$ factors\n",
    "It is preferable to use $\\overline{T_A}$ rather than $\\overline{T_{FT}}$ to compute the $\\gamma$ factors, as then it only depends on two surface variables: $\\overline{T_s}$ and $\\overline{r_s}$. Here, we see how this approximation affects our final theory.\n",
    "\n",
    "These are shown by the think transparent green lines. Clearly, it is not a big approximation."
   ]
  },
  {
   "metadata": {},
   "cell_type": "code",
   "source": [
    "for key in ['t', 'z']:\n",
    "    sf_theory_from_eqn[key+'_A'] = np.zeros((n_lat, n_quant))\n",
    "    for i in range(n_lat):\n",
    "        sf_theory_from_eqn[key+'_A'][i] = get_scaling_factor_theory(temp_mean[:, ind_surf, i], temp_quant3[:, ind_surf, i], \n",
    "                                                                             sphum_mean[:, i], sphum_quant3[:, i], p_surface, pressure_ft_actual, \n",
    "                                                                             temp_mean[:, ind_ft, i], temp_quant3[:, ind_ft, i], \n",
    "                                                                             z_mean[:, ind_ft, i], z_quant3[:, ind_ft, i],\n",
    "                                                                    non_linear=True, z_form='z' in key, use_temp_adiabat=True)[0]"
   ],
   "outputs": [],
   "execution_count": null
  },
  {
   "metadata": {},
   "cell_type": "code",
   "source": [
    "fig_final4 = copy.deepcopy(fig_final3)\n",
    "ax = fig_final4.axes\n",
    "ax[0].plot(quant_plot, np.average(sf_theory_from_eqn['t_A'], weights=lat_weights, axis=0), color=default_colors[2], alpha=0.3, lw=2)\n",
    "ax[0].plot(quant_plot, np.average(sf_theory_from_eqn['z_A'], weights=lat_weights, axis=0), color=default_colors[2], linestyle='--', alpha=0.3, lw=2)\n",
    "ax[0].legend()\n",
    "# fig_final4.savefig(f\"/Users/joshduffield/Desktop/final_approx4.pdf\",\n",
    "#                             dpi=dpi['combination'] if publish_fig else low_dpi, bbox_inches='tight', pad_inches=save_pad_inches)\n",
    "fig_final4"
   ],
   "outputs": [],
   "execution_count": null
  },
  {
   "metadata": {},
   "cell_type": "code",
   "source": "",
   "outputs": [],
   "execution_count": null
  },
  {
   "metadata": {
    "ExecuteTime": {
     "end_time": "2024-06-12T09:11:53.012886Z",
     "start_time": "2024-06-12T09:11:53.012768Z"
    }
   },
   "cell_type": "code",
   "source": "",
   "outputs": [],
   "execution_count": null
  }
 ],
 "metadata": {
  "kernelspec": {
   "display_name": "Python 3",
   "language": "python",
   "name": "python3"
  },
  "language_info": {
   "codemirror_mode": {
    "name": "ipython",
    "version": 2
   },
   "file_extension": ".py",
   "mimetype": "text/x-python",
   "name": "python",
   "nbconvert_exporter": "python",
   "pygments_lexer": "ipython2",
   "version": "2.7.6"
  }
 },
 "nbformat": 4,
 "nbformat_minor": 0
}
