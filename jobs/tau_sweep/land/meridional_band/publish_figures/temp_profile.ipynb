{
 "cells": [
  {
   "cell_type": "markdown",
   "source": [
    "# Temperature Profile\n",
    "This compares the temperature profile conditioned on a given quantile to the strict convective equilibrium profile."
   ],
   "metadata": {
    "collapsed": false
   }
  },
  {
   "cell_type": "code",
   "source": [
    "import copy\n",
    "import sys\n",
    "import os\n",
    "# REMOTE - So can access functions in isca_tools which is in home/Isca directory\n",
    "# sys.path.append(os.path.join(os.environ['HOME'], 'Isca'))\n",
    "# LOCAL - So can access functions in isca_tools which is in StAndrews/Isca\n",
    "sys.path.append(os.environ['PWD'])\n",
    "import isca_tools\n",
    "from isca_tools.utils.moist_physics import moist_static_energy, clausius_clapeyron_factor, sphum_sat\n",
    "from isca_tools.convection.base import convection_neutral_profile, lcl_temp_bolton, dry_profile_pressure\n",
    "from isca_tools.utils.constants import kappa, L_v, c_p, g, R\n",
    "from isca_tools.utils import area_weighting\n",
    "from isca_tools.papers.byrne_2021 import get_quant_ind\n",
    "from isca_tools.thesis.adiabat_theory import get_theory_prefactor_terms,mse_mod_anom_change_ft_expansion, mse_mod_change_surf_expansion, \\\n",
    "    get_scaling_factor_theory, get_temp_adiabat\n",
    "import matplotlib.patheffects as mpe\n",
    "from isca_tools.plot import label_subplots\n",
    "import numpy as np\n",
    "import matplotlib.pyplot as plt\n",
    "import xarray as xr\n",
    "import scipy.optimize\n",
    "from tqdm import tqdm\n",
    "from scipy import integrate\n",
    "import numpy_indexed\n",
    "from scipy.stats import percentileofscore\n",
    "import copy\n",
    "# Use custom matplotlib style for publishing\n",
    "plt.style.use('/Users/joshduffield/Documents/StAndrews/Isca/jobs/tau_sweep/aquaplanet/publish_figures/publish.mplstyle')"
   ],
   "metadata": {
    "collapsed": false,
    "ExecuteTime": {
     "end_time": "2024-07-11T10:56:45.211163Z",
     "start_time": "2024-07-11T10:56:43.811899Z"
    }
   },
   "outputs": [
    {
     "name": "stderr",
     "output_type": "stream",
     "text": [
      "2024-07-11 11:56:43,820 - isca - WARNING - Environment variable GFDL_SOC not set, but this is only required if using SocratesCodebase. Setting to None\n"
     ]
    }
   ],
   "execution_count": 1
  },
  {
   "cell_type": "code",
   "source": [
    "# Load dataset\n",
    "use_time_start = 360*2\n",
    "pressure_ft = 500               # Desired approximate pressure of free troposphere (hPa)\n",
    "\n",
    "# Load dataset\n",
    "tau_lw_ref = 1\n",
    "tau_lw_warm = 1.5\n",
    "# refer to bucket model with vegetation as bucket\n",
    "# Don't include actual bucket, as looks very similar to bucket with vegetation param\n",
    "# exp_names = ['Aquaplanet', 'Constant conductivity', 'Bucket']\n",
    "# exp_dir = ['tau_sweep/aquaplanet/', 'tau_sweep/land/meridional_band/evap/',\n",
    "#            'tau_sweep/land/meridional_band/bucket_evap/evap=0_1/']\n",
    "# exp_dir = 'tau_sweep/land/meridional_band/depth=1/bucket_evap/'\n",
    "# exp_dir = 'tau_sweep/land/meridional_band/depth=1/bucket_evap/ras_conv/'\n",
    "exp_dir = 'tau_sweep/aquaplanet/depth=1/'\n",
    "# exp_dir = 'tau_sweep/aquaplanet/depth=1/ras_conv/'\n",
    "\n",
    "# only keep variables required to compute relative humidity and MSE\n",
    "if 'ras_conv' in exp_dir:\n",
    "    var_keep = ['temp', 'sphum', 'height']\n",
    "else:\n",
    "    var_keep = ['temp', 'sphum', 'height', 'klzbs', 'convflag']\n",
    "\n",
    "# exp_names = ['Aquaplanet', 'Constant conductivity', 'Bucket', 'Bucket - $C_V$']\n",
    "# exp_dir = ['tau_sweep/aquaplanet/', 'tau_sweep/land/meridional_band/evap/', 'tau_sweep/land/meridional_band/bucket/',\n",
    "#            'tau_sweep/land/meridional_band/bucket_evap/evap=0_1/']\n",
    "# color_seq_exp = ['b', 'g', 'orange', 'r']\n",
    "\n",
    "kappa_names = [f\"k={str(tau_lw_ref).replace('.','_')}\", f\"k={str(tau_lw_warm).replace('.','_')}\"]\n",
    "n_kappa = len(kappa_names)\n",
    "ds = []\n",
    "albedo = []\n",
    "tau_sw = []\n",
    "tau_lw = []\n",
    "with tqdm(total=n_kappa, position=0, leave=True) as pbar:\n",
    "    for j in range(n_kappa):\n",
    "        ds_use = isca_tools.load_dataset(exp_dir + kappa_names[j]).sel(time=slice(use_time_start, np.inf))[var_keep]\n",
    "        ds += [ds_use]      # only keep the surface and free troposphere values\n",
    "        namelist = isca_tools.load_namelist(exp_dir + kappa_names[j])  # Need this for albedo_value\n",
    "        albedo += [namelist['mixed_layer_nml']['albedo_value']]\n",
    "        tau_sw += [namelist['two_stream_gray_rad_nml']['atm_abs']]\n",
    "        tau_lw += [namelist['two_stream_gray_rad_nml']['odp']]\n",
    "        pbar.update(1)\n",
    "        \n",
    "pfull = ds[0].pfull         # pfull must be ascending i.e. pfull[0] is space\n",
    "ind_surf = int(np.abs(pfull-1000000).argmin())\n",
    "ind_ft = int(np.abs(pfull-pressure_ft).argmin())\n",
    "p_surface = float(ds[0].pfull[ind_surf]) * 100\n",
    "pressure_ft_actual = float(ds[0].pfull[ind_ft]) * 100       # Actual pressure of free troposphere (Pa)\n",
    "n_pressure = pfull.size\n",
    "lnp_const = R * np.log(p_surface/pressure_ft_actual)/2      # for modified MSE calculation"
   ],
   "metadata": {
    "collapsed": false,
    "ExecuteTime": {
     "end_time": "2024-07-11T10:56:48.548307Z",
     "start_time": "2024-07-11T10:56:45.212250Z"
    }
   },
   "outputs": [
    {
     "name": "stderr",
     "output_type": "stream",
     "text": [
      "100%|██████████| 2/2 [00:03<00:00,  1.66s/it]\n"
     ]
    }
   ],
   "execution_count": 2
  },
  {
   "cell_type": "markdown",
   "source": [
    "## Get datasets\n",
    "Get one dataset for summer for each $\\kappa$, combining all latitudes: `ds_all`. This combines the all or just tbe summer months in each hemisphere, e.g. negative latitudes will only correspond to times in December, January or February."
   ],
   "metadata": {
    "collapsed": false
   }
  },
  {
   "metadata": {
    "ExecuteTime": {
     "end_time": "2024-07-11T10:56:48.551948Z",
     "start_time": "2024-07-11T10:56:48.549218Z"
    }
   },
   "cell_type": "code",
   "source": [
    "# If true, will save all figures to desktop - option to save specific figures later on.\n",
    "save_fig = False\n",
    "# if publishing figure, use high dpi\n",
    "publish_fig = True\n",
    "\n",
    "ar = 4/3        # aspect ratio (width/height)\n",
    "# Details required for Journal of Climate Figures\n",
    "low_dpi = 100\n",
    "dpi = {'monochrome': 1100, 'combination': 800, 'halftone': 300}\n",
    "width = {'one_col': 3.2, 'two_col': 5.5}        # width in inches \n",
    "save_pad_inches = 0.05\n",
    "\n",
    "# Default parameters\n",
    "default_colors = plt.rcParams['axes.prop_cycle'].by_key()['color']\n",
    "ax_linewidth = plt.rcParams['axes.linewidth']\n",
    "\n",
    "def moving_average(x, w):\n",
    "    return np.convolve(x, np.ones(w), 'valid') / w"
   ],
   "outputs": [],
   "execution_count": 3
  },
  {
   "cell_type": "code",
   "source": [
    "# Show where the land is\n",
    "save_land_fig = False\n",
    "\n",
    "job_dir = os.path.join(os.path.dirname(os.environ['GFDL_DATA']), 'jobs')\n",
    "land_file_name = os.path.join(job_dir, exp_dir, kappa_names[0], 'land.nc')\n",
    "is_land_data = os.path.exists(land_file_name)\n",
    "if is_land_data:\n",
    "    fig, ax = plt.subplots(1,1, figsize=(width['one_col'], width['one_col']/ar))\n",
    "    isca_tools.plot.show_land(land_file_name, fig=fig, ax=ax)\n",
    "    lon_land = isca_tools.utils.land.get_land_coords(land_file=land_file_name)[1]       # get the longitude coordinates of land\n",
    "    \n",
    "    if save_fig or save_land_fig:\n",
    "        fig.savefig(f\"/Users/joshduffield/Desktop/land_coords.pdf\",\n",
    "                    dpi=dpi['combination'] if publish_fig else low_dpi, bbox_inches='tight', pad_inches=save_pad_inches)"
   ],
   "metadata": {
    "collapsed": false,
    "ExecuteTime": {
     "end_time": "2024-07-11T10:56:48.556497Z",
     "start_time": "2024-07-11T10:56:48.553327Z"
    }
   },
   "outputs": [],
   "execution_count": 4
  },
  {
   "cell_type": "code",
   "source": [
    "# Load in across all latitudes, for given season\n",
    "\n",
    "# Select region to combine latitudes over for all but one of the plots below\n",
    "# Tropics\n",
    "region = 'tropics'\n",
    "lat_min = 0\n",
    "lat_max = 20\n",
    "# Extratropics\n",
    "# region = 'extratropics'\n",
    "# lat_min = 40\n",
    "# lat_max = 65\n",
    "# lat_max = 90\n",
    "\n",
    "# Chose whether to only consider summer days or consider all days\n",
    "season = 'all'\n",
    "# season = 'summer'\n",
    "# season = 'winter'\n",
    "if season == 'summer':\n",
    "    if region == 'tropics':\n",
    "        season_months = {'nh': [5, 6, 7, 8, 9, 10], 'sh': [11, 12, 1, 2, 3, 4]}   \n",
    "    else:\n",
    "        season_months = {'nh': [6, 7, 8], 'sh': [12, 1, 2]}   # JJA for NH and DJF for SH\n",
    "elif season == 'winter':\n",
    "    if region == 'tropics':\n",
    "        season_months = {'sh': [5, 6, 7, 8, 9, 10], 'nh': [11, 12, 1, 2, 3, 4]}\n",
    "    else:\n",
    "        season_months = {'sh': [6, 7, 8], 'nh': [12, 1, 2]} \n",
    "\n",
    "lat_use_ind = np.where((np.abs(ds[0].lat) <= lat_max) & (np.abs(ds[0].lat) >= lat_min))[0]\n",
    "n_lat = len(lat_use_ind)\n",
    "lat_weights = np.cos(np.deg2rad(ds[0].lat))[lat_use_ind]\n",
    "\n",
    "# Whether to do taylor expansion about mean over just land or mean over whole planet\n",
    "mean_method = 'land'\n",
    "# mean_method = 'all'\n",
    "\n",
    "temp_surf_mean = np.zeros((n_kappa, n_lat))\n",
    "temp_ft_mean = np.zeros((n_kappa, n_lat))\n",
    "z_surf_mean = np.zeros((n_kappa, n_lat))\n",
    "z_ft_mean = np.zeros((n_kappa, n_lat))\n",
    "\n",
    "# Decide how to compute humidities - do q first and then r from this ('sphum'), or vice versa ('r')?\n",
    "humidity_calc_method = 'sphum'\n",
    "if humidity_calc_method == 'sphum':\n",
    "    sphum_mean = np.zeros((n_kappa, n_lat))\n",
    "elif humidity_calc_method == 'r':\n",
    "    r_mean = np.zeros((n_kappa, n_lat))\n",
    "else:\n",
    "    raise ValueError(f'humidity_calc_method of {humidity_calc_method} not valid')\n",
    "\n",
    "ds_all = []\n",
    "with tqdm(total=n_kappa, position=0, leave=True) as pbar:\n",
    "    for j in range(n_kappa):\n",
    "        ds_use = ds[j].isel(lat=lat_use_ind)   # only keep latitudes being used to save memory\n",
    "        if is_land_data:\n",
    "            # if not aquaplanet, then is land and only consider land longitudes\n",
    "            ds_use = ds_use.isel(lon=np.where(np.isin(ds_use.lon, np.unique(lon_land)))[0])\n",
    "        \n",
    "        if season == 'summer':\n",
    "            ds_nh_summer = isca_tools.utils.annual_time_slice(ds_use, season_months['nh']).sel(lat=slice(0, 90))  \n",
    "            ds_sh_summer = isca_tools.utils.annual_time_slice(ds_use, season_months['sh']).sel(lat=slice(-90, 0)) \n",
    "            # Combine hemispheres and average over longitude, time and latitude.\n",
    "            ds_use = xr.concat([ds_sh_summer, ds_nh_summer], dim='lat')\n",
    "        ds_use = ds_use.stack(lon_time=(\"lon\",\"time\"), create_index=False).chunk(dict(lon_time=-1))\n",
    "        ds_all += [ds_use.load()]\n",
    "        \n",
    "        if mean_method == 'all':\n",
    "            ds_use = ds[j].sel(time=slice(use_time_start, np.inf)).isel(lat=lat_use_ind)\n",
    "            ds_use = ds_use.stack(lon_time=(\"lon\",\"time\"), create_index=False).chunk(dict(lon_time=-1))\n",
    "        elif mean_method != 'land':\n",
    "            raise ValueError(f'Mean method is {mean_method} which is not valid.')\n",
    "        ds_use = ds_use.isel(pfull=[ind_surf, ind_ft])       # find mean at surface and ft\n",
    "        temp_surf_mean[j] = ds_use.temp.isel(pfull=0).mean(dim='lon_time')\n",
    "        temp_ft_mean[j] = ds_use.temp.isel(pfull=-1).mean(dim='lon_time')\n",
    "        z_surf_mean[j] = ds_use.height.isel(pfull=0).mean(dim='lon_time')\n",
    "        z_ft_mean[j] = ds_use.height.isel(pfull=-1).mean(dim='lon_time')\n",
    "        if humidity_calc_method == 'r':\n",
    "            rh_use = ds_use.sphum.isel(pfull=0)/sphum_sat(ds_use.temp.isel(pfull=0), p_surface)\n",
    "            r_mean[j] = rh_use.mean(dim='lon_time')\n",
    "        else:\n",
    "            sphum_mean[j] = ds_use.sphum.isel(pfull=0).mean(dim='lon_time')\n",
    "        pbar.update(1)\n",
    "if humidity_calc_method == 'r':\n",
    "    sphum_mean = r_mean * sphum_sat(temp_surf_mean, p_surface)       # compute sphum_mean from r_mean\n",
    "else:\n",
    "    r_mean = sphum_mean / sphum_sat(temp_surf_mean, p_surface)"
   ],
   "metadata": {
    "collapsed": false,
    "ExecuteTime": {
     "end_time": "2024-07-11T10:57:12.355877Z",
     "start_time": "2024-07-11T10:56:48.557264Z"
    }
   },
   "outputs": [
    {
     "name": "stderr",
     "output_type": "stream",
     "text": [
      "100%|██████████| 2/2 [00:23<00:00, 11.89s/it]\n"
     ]
    }
   ],
   "execution_count": 5
  },
  {
   "cell_type": "code",
   "source": [
    "# Get all data needed to compute theoretical temp change and to plot actual temp change for each quantile of temperature\n",
    "quant_plot = np.arange(1, 100)     # avoid 0 quantile as it gives weird results\n",
    "n_quant = len(quant_plot)\n",
    "percentile_label = 'Temperature percentile, $x$'\n",
    "\n",
    "# Days must have klzb < thresh and convflag > thresh to be considered convecting.\n",
    "klzb_thresh = 13\n",
    "convflag_thresh = 1\n",
    "\n",
    "temp_surf_quant3 = np.zeros((n_kappa, n_lat, n_quant))\n",
    "temp_ft_quant3 = np.zeros((n_kappa, n_lat, n_quant))\n",
    "if humidity_calc_method == 'r':\n",
    "    # relative humidity as function of temp quantile not temp quantile\n",
    "    r_quant3 = np.zeros((n_kappa, n_lat, n_quant))\n",
    "elif humidity_calc_method == 'sphum':\n",
    "    sphum_quant3 = np.zeros((n_kappa, n_lat, n_quant))\n",
    "z_surf_quant3 = np.zeros((n_kappa, n_lat, n_quant))\n",
    "z_ft_quant3 = np.zeros((n_kappa, n_lat, n_quant))\n",
    "convflag_quant3 = np.zeros((n_kappa, n_lat, n_quant))\n",
    "klzbs_quant3 = np.zeros((n_kappa, n_lat, n_quant))\n",
    "convfract_quant3 = np.zeros((n_kappa, n_lat, n_quant))            # record fraction of days convecting\n",
    "\n",
    "with tqdm(total=n_kappa*n_quant*n_lat, position=0, leave=True) as pbar:\n",
    "    for j in range(n_kappa):\n",
    "        ds_use = ds_all[j].isel(pfull=[ind_surf, ind_ft])\n",
    "        rh_use = ds_use.sphum.isel(pfull=0)/sphum_sat(ds_use.temp.isel(pfull=0), p_surface)\n",
    "        if 'klzbs' in var_keep:\n",
    "            is_convecting = np.logical_and(ds_use.klzbs<klzb_thresh, ds_use.convflag > convflag_thresh)\n",
    "        for k in range(n_lat):\n",
    "            for q, quant in enumerate(quant_plot):\n",
    "                use_ind = get_quant_ind(ds_use.temp[0, k], quant, 0.5, 0.5)\n",
    "                temp_surf_quant3[j, k, q] = ds_use.temp[0, k, use_ind].mean(dim='lon_time')\n",
    "                temp_ft_quant3[j, k, q] = ds_use.temp[-1, k, use_ind].mean(dim='lon_time')\n",
    "                z_surf_quant3[j, k, q] = ds_use.height[0, k, use_ind].mean(dim='lon_time')\n",
    "                z_ft_quant3[j, k, q] = ds_use.height[-1, k, use_ind].mean(dim='lon_time')\n",
    "                \n",
    "                if humidity_calc_method == 'r':\n",
    "                    r_quant3[j, k, q] = rh_use[k, use_ind].mean(dim='lon_time')\n",
    "                elif humidity_calc_method == 'sphum':\n",
    "                    sphum_quant3[j, k, q] = ds_use.sphum.isel(pfull=0)[k, use_ind].mean(dim='lon_time')\n",
    "                \n",
    "                if 'klzbs' in var_keep:\n",
    "                    convflag_quant3[j, k, q] = ds_use.convflag[k, use_ind].mean(dim='lon_time')\n",
    "                    klzbs_quant3[j, k, q] = ds_use.klzbs[k, use_ind].mean(dim='lon_time')\n",
    "                    convfract_quant3[j, k, q] = np.sum(is_convecting[k, use_ind])/is_convecting[k, use_ind].size\n",
    "                pbar.update(1)\n",
    "\n",
    "if humidity_calc_method == 'r':\n",
    "    sphum_quant3 = sphum_sat(temp_surf_quant3, p_surface) * r_quant3 \n",
    "elif humidity_calc_method == 'sphum':\n",
    "    r_quant3 = sphum_quant3 / sphum_sat(temp_surf_quant3, p_surface)\n",
    "r_anom = r_quant3 - r_mean[:, :, np.newaxis]\n",
    "temp_surf_anom = temp_surf_quant3 - temp_surf_mean[:, :, np.newaxis]\n",
    "temp_ft_anom = temp_ft_quant3 - temp_ft_mean[:, :, np.newaxis]"
   ],
   "metadata": {
    "collapsed": false,
    "jupyter": {
     "is_executing": true
    },
    "ExecuteTime": {
     "start_time": "2024-07-11T10:57:12.357376Z"
    }
   },
   "outputs": [
    {
     "name": "stderr",
     "output_type": "stream",
     "text": [
      " 24%|██▎       | 657/2772 [00:07<00:21, 100.42it/s]"
     ]
    }
   ],
   "execution_count": null
  },
  {
   "metadata": {},
   "cell_type": "markdown",
   "source": [
    "## Temperature profile conditioned on $x$\n",
    "Here I get the mean temperature profile for a given quantile, and see how it changes with warming."
   ]
  },
  {
   "metadata": {
    "jupyter": {
     "is_executing": true
    }
   },
   "cell_type": "code",
   "source": [
    "# quant_use_profile = [10, 99]\n",
    "quant_use_profile = [1, 99]\n",
    "# quant_use_profile = [1, 50, 99]\n",
    "# quant_use_profile = [1, 30]\n",
    "# quant_use_profile = [20, 80]\n",
    "quant_use_profile_ind = numpy_indexed.indices(quant_plot, quant_use_profile)\n",
    "n_profiles = len(quant_use_profile)\n",
    "temp_profile = np.zeros((n_kappa, n_lat, n_profiles, n_pressure))\n",
    "z_profile = np.zeros((n_kappa, n_lat, n_profiles, n_pressure))\n",
    "lapse_rate = np.zeros((n_kappa, n_lat, n_profiles, n_pressure))         # in K/km\n",
    "for i in range(n_kappa):\n",
    "    for j in range(n_lat):\n",
    "        for k in range(n_profiles):\n",
    "            use_ind = get_quant_ind(ds_all[i].temp[ind_surf, j], quant_use_profile[k], 0.5, 0.5)\n",
    "            temp_profile[i, j, k] = ds_all[i].temp[:, j, use_ind].mean(dim='lon_time')\n",
    "            z_profile[i, j, k] = ds_all[i].height[:, j, use_ind].mean(dim='lon_time')\n",
    "            lapse_rate[i, j, k] = -np.gradient(temp_profile[i, j, k], z_profile[i, j, k]) * 1000"
   ],
   "outputs": [],
   "execution_count": null
  },
  {
   "metadata": {
    "jupyter": {
     "is_executing": true
    }
   },
   "cell_type": "code",
   "source": [
    "pressure_from_level_func = scipy.interpolate.interp1d(np.arange(len(ds[0].pfull)), ds[0].pfull)\n",
    "def lzb(k, interp_func=pressure_from_level_func):\n",
    "    # Offset by -1 because fortran starts with 1, but python starts with 0\n",
    "    # ds.t_ref will match exactly ds.temp if -2 used as offset, but this is not the LNB.\n",
    "    if np.size(k) == 1:\n",
    "        return float(interp_func(k-1))\n",
    "    else:\n",
    "        return interp_func(k-1)"
   ],
   "outputs": [],
   "execution_count": null
  },
  {
   "metadata": {
    "jupyter": {
     "is_executing": true
    }
   },
   "cell_type": "code",
   "source": [
    "temp_lcl = np.zeros((n_kappa, n_lat, n_profiles))\n",
    "pressure_lcl = np.zeros((n_kappa, n_lat, n_profiles))\n",
    "pressure_lzb = np.zeros((n_kappa, n_lat, n_profiles))\n",
    "temp_profile_conv = np.zeros((n_kappa, n_lat, n_profiles, n_pressure))\n",
    "lapse_rate_conv = np.zeros((n_kappa, n_lat, n_profiles, n_pressure))         # in K/km\n",
    "for i in range(n_kappa):\n",
    "    for j in range(n_lat):\n",
    "        for k in range(n_profiles):\n",
    "            temp_lcl[i, j, k] = lcl_temp_bolton(temp_surf_quant3[i, j, quant_use_profile_ind[k]], r_quant3[i, j, quant_use_profile_ind[k]]*100)\n",
    "            pressure_lcl[i, j, k] = dry_profile_pressure(temp_surf_quant3[i, j, quant_use_profile_ind[k]], p_surface, temp_lcl[i, j, k])/100\n",
    "            if 'klzbs' in var_keep:\n",
    "                pressure_lzb[i, j, k] = lzb(klzbs_quant3[i, j, quant_use_profile_ind[k]])\n",
    "            temp_profile_conv[i, j, k] = convection_neutral_profile(temp_surf_quant3[i, j, quant_use_profile_ind[k]], p_surface, \n",
    "                                                                 temp_lcl[i, j, k], pfull*100)\n",
    "            lapse_rate_conv[i, j, k] = -np.gradient(temp_profile_conv[i, j, k], z_profile[i, j, k]) * 1000"
   ],
   "outputs": [],
   "execution_count": null
  },
  {
   "metadata": {
    "jupyter": {
     "is_executing": true
    }
   },
   "cell_type": "code",
   "source": [
    "colors_profile = [default_colors[0], default_colors[3]]\n",
    "colors_conv = ['k', default_colors[1]]\n",
    "\n",
    "save_temp_profile_fig = False\n",
    "fig, ax = plt.subplots(1,3, figsize=(3*width['one_col'], width['one_col']/ar), sharey=True)\n",
    "# pe1 = [[mpe.Stroke(linewidth=0.8, foreground='black'),\n",
    "#        mpe.Stroke(foreground='white',alpha=1),\n",
    "#        mpe.Normal()], None]\n",
    "opacity_kappa = [1, 0.3]\n",
    "# pe1_lcl = [[mpe.Stroke(linewidth=0.8, foreground='black', alpha=0.3),\n",
    "#        mpe.Stroke(foreground='white',alpha=1),\n",
    "#        mpe.Normal()], None]\n",
    "plcl_xlims = [[0, 260], [0, 4.5], [-10, -0.8]]\n",
    "# plcl_xlims = [[[0, 295], [4.8, 60], [-10, 10]], \n",
    "#               [[295, 330], [3.8, 4.8], [-10, 10]]]\n",
    "x_var_shift = [0, 10]\n",
    "for k in range(n_profiles):\n",
    "    for i in range(n_kappa):\n",
    "        ax[0].plot(np.average(temp_profile[i, :, k], axis=0, weights=lat_weights)+x_var_shift[k], pfull, color=colors_profile[k], \n",
    "                   alpha=opacity_kappa[i], label=f'$\\kappa={tau_lw[i]}$' if k==0 else None)\n",
    "        ax[0].plot(np.average(temp_profile_conv[i, :, k], axis=0, weights=lat_weights)+x_var_shift[k], pfull, color=colors_profile[k], linestyle='--',\n",
    "           alpha=opacity_kappa[i])\n",
    "        for j in range(len(ax)):\n",
    "            ax[j].hlines(np.average(pressure_lcl[i, :, k], axis=0, weights=lat_weights), plcl_xlims[j][0], plcl_xlims[j][1], \n",
    "                         color=colors_profile[k], alpha=opacity_kappa[i], lw=ax_linewidth)\n",
    "            ax[j].hlines(np.average(pressure_lzb[i, :, k], axis=0, weights=lat_weights), plcl_xlims[j][0], plcl_xlims[j][1], \n",
    "                         color=colors_profile[k], linestyle='--', alpha=opacity_kappa[i], lw=ax_linewidth)\n",
    "    ax[1].plot(np.average(temp_profile[1, :, k]-temp_profile[0, :, k], axis=0, weights=lat_weights), pfull, \n",
    "               color=colors_profile[k], label='Simulated' if k==0 else None)\n",
    "    ax[1].plot(np.average(temp_profile_conv[1, :, k]-temp_profile_conv[0, :, k], axis=0, weights=lat_weights), pfull, \n",
    "               color=colors_profile[k], linestyle='--', label='Moist adiabatic' if k==0 else None)\n",
    "    ax[2].plot(np.average(lapse_rate[1, :, k]-lapse_rate[0, :, k], axis=0, weights=lat_weights), pfull, \n",
    "               color=colors_profile[k], label=f'$x={quant_use_profile[k]}$')\n",
    "    ax[2].plot(np.average(lapse_rate_conv[1, :, k]-lapse_rate_conv[0, :, k], axis=0, weights=lat_weights), pfull, \n",
    "               color=colors_profile[k], linestyle='--')\n",
    "ax[0].invert_yaxis()\n",
    "ax[0].legend(loc='upper right', frameon=True, framealpha=1, edgecolor='w')\n",
    "ax[1].legend(frameon=True, framealpha=1, edgecolor='w')\n",
    "ax[2].legend(loc='upper right', frameon=True, framealpha=1, edgecolor='w')\n",
    "ax[0].set_ylim(p_surface/100, 400)\n",
    "ax[0].set_xlim(250, 315)\n",
    "ax[0].set_ylabel('Pressure [hPa]')\n",
    "ax[0].set_xlabel('Temperature [K]')\n",
    "ax[1].set_xlabel('Temperature Change [K]')\n",
    "ax[2].set_xlabel('Lapse Rate Change [K/km]')\n",
    "ax[1].set_xlim(3.8, 9)\n",
    "ax[2].set_xlim(-1, 0.2)\n",
    "for j in range(3):\n",
    "    ax[j].axhline(pressure_ft_actual/100, color='k', lw=ax_linewidth)\n",
    "label_subplots(fig, ax, box_alpha=0.5)\n",
    "if save_temp_profile_fig:\n",
    "    fig.savefig(f\"/Users/joshduffield/Desktop/temp_profile_{region}_{season}.pdf\",\n",
    "                    dpi=dpi['combination'] if publish_fig else low_dpi, bbox_inches='tight', pad_inches=save_pad_inches)"
   ],
   "outputs": [],
   "execution_count": null
  },
  {
   "metadata": {
    "jupyter": {
     "is_executing": true
    }
   },
   "cell_type": "code",
   "source": [
    "temp_a_quant3 = np.zeros((n_kappa, n_lat, n_quant))\n",
    "for i in range(n_kappa):\n",
    "    for j in range(n_lat):\n",
    "        for k in range(n_quant):\n",
    "            temp_a_quant3[i, j, k] = get_temp_adiabat(temp_surf_quant3[i, j, k], sphum_quant3[i, j, k], p_surface, pressure_ft_actual)\n",
    "epsilon_quant3 = moist_static_energy(temp_surf_quant3, sphum_quant3, z_surf_quant3) - \\\n",
    "                 moist_static_energy(temp_ft_quant3, sphum_sat(temp_ft_quant3, pressure_ft_actual), z_ft_quant3)"
   ],
   "outputs": [],
   "execution_count": null
  },
  {
   "metadata": {},
   "cell_type": "markdown",
   "source": [
    "## WTG vs Convection Influence\n",
    "Below I plot the FT and Adiabatic temperature vs near-surface percentile. It is clear, when I use all days not just summer that WTG keeps gradient small for low $x$, but convection sets the profile for large $x$.\n",
    "\n",
    "I also plot the temperature profiles, showing that the $x=1$ profile transitions to the $x=50$ profile above the LCL."
   ]
  },
  {
   "metadata": {
    "jupyter": {
     "is_executing": true
    }
   },
   "cell_type": "code",
   "source": [
    "# temp_surf_summer = np.average(temp_surf_quant3, axis=1, weights=lat_weights)\n",
    "# temp_ft_summer = np.average(temp_ft_quant3, axis=1, weights=lat_weights)\n",
    "# temp_a_summer = np.average(temp_a_quant3, axis=1, weights=lat_weights)\n",
    "# epsilon_diff_summer = np.average(epsilon_quant3[1] - epsilon_quant3[0], axis=0, weights=lat_weights)"
   ],
   "outputs": [],
   "execution_count": null
  },
  {
   "metadata": {
    "jupyter": {
     "is_executing": true
    }
   },
   "cell_type": "code",
   "source": [
    "fig, ax = plt.subplots(1,1, figsize=(width['one_col'], width['one_col']/ar))\n",
    "for i in range(n_kappa):\n",
    "    ax.plot(quant_plot, np.average(temp_ft_quant3[i], axis=0, weights=lat_weights), color=default_colors[i], label=f'$\\kappa={tau_lw[i]}$')\n",
    "    ax.plot(quant_plot, np.average(temp_a_quant3[i], axis=0, weights=lat_weights), color=default_colors[i], linestyle='--')\n",
    "# for i in range(n_kappa):\n",
    "#     ax.plot(quant_plot, temp_ft_summer[i]+10, color=default_colors[i], alpha=0.3)\n",
    "#     ax.plot(quant_plot, temp_a_summer[i]+10, color=default_colors[i], linestyle='--', alpha=0.3)\n",
    "ax.set_xlim(0, 100)\n",
    "ax.set_xlabel(percentile_label)\n",
    "ax.set_ylim(241, 284)\n",
    "ax.set_ylabel('Temperature [K]')\n",
    "ax.legend(loc='lower right')\n",
    "label_subplots(fig, ax, box_alpha=0)\n",
    "# fig.savefig(f\"/Users/joshduffield/Desktop/temp_ft.pdf\",\n",
    "#                 dpi=dpi['combination'] if publish_fig else low_dpi, bbox_inches='tight', pad_inches=save_pad_inches)"
   ],
   "outputs": [],
   "execution_count": null
  },
  {
   "metadata": {
    "jupyter": {
     "is_executing": true
    }
   },
   "cell_type": "code",
   "source": [
    "fig, ax = plt.subplots(1,1, figsize=(width['one_col'], width['one_col']/ar))\n",
    "ax.plot(quant_plot, np.average(epsilon_quant3[1] - epsilon_quant3[0], axis=0, weights=lat_weights), color='k', label='All')\n",
    "# ax.plot(quant_plot, epsilon_diff_summer, color='k', alpha=0.3, label='Summer')\n",
    "ax.legend()\n",
    "ax.axhline(0, color='k', lw=ax_linewidth)\n",
    "ax.set_xlim(0, 100)\n",
    "ax.set_xlabel(percentile_label)\n",
    "ax.set_ylabel('$\\delta \\epsilon$ [kJ/kg]')\n",
    "ax.legend(frameon=True, framealpha=1, edgecolor='white')\n",
    "ax.set_ylim(-0.8, 5)\n",
    "label_subplots(fig, [ax], ['b)'])\n",
    "# fig.savefig(f\"/Users/joshduffield/Desktop/e_change.pdf\",\n",
    "#                 dpi=dpi['combination'] if publish_fig else low_dpi, bbox_inches='tight', pad_inches=save_pad_inches)"
   ],
   "outputs": [],
   "execution_count": null
  },
  {
   "metadata": {
    "jupyter": {
     "is_executing": true
    }
   },
   "cell_type": "code",
   "source": [
    "colors_use = [default_colors[0], 'k', default_colors[3]]\n",
    "fig, ax = plt.subplots(1,1, figsize=(width['one_col'], width['one_col']/ar), sharex=True)\n",
    "for k in range(n_profiles):\n",
    "    ax.plot(np.average(temp_profile[0, :, k], axis=0, weights=lat_weights), pfull, color=colors_use[k], label=f'$x={quant_use_profile[k]}$')\n",
    "    ax.plot(np.average(temp_profile_conv[0, :, k], axis=0, weights=lat_weights), pfull, color=colors_use[k], linestyle='--')\n",
    "    ax.axhline(np.average(pressure_lcl[0, :, k], axis=0, weights=lat_weights), \n",
    "                         color=colors_use[k])\n",
    "ax.invert_yaxis()\n",
    "ax.set_ylim(p_surface/100, 400)\n",
    "ax.set_xlim(240, 310)\n",
    "ax.axhline(pressure_ft_actual/100, color='k', lw=ax_linewidth)\n",
    "ax.set_xlabel('Temperature [K]')\n",
    "ax.set_ylabel('Pressure [hPa]')\n",
    "ax.legend(frameon=True, framealpha=1, edgecolor='w')\n",
    "label_subplots(fig, [ax], ['b)'] if is_land_data else None, box_alpha=0)\n",
    "# fig.savefig(f\"/Users/joshduffield/Desktop/temp_profile_{season}.pdf\",\n",
    "#                 dpi=dpi['combination'] if publish_fig else low_dpi, bbox_inches='tight', pad_inches=save_pad_inches)"
   ],
   "outputs": [],
   "execution_count": null
  },
  {
   "metadata": {
    "jupyter": {
     "is_executing": true
    }
   },
   "cell_type": "code",
   "source": [
    "temp_lcl_quant = lcl_temp_bolton(temp_surf_quant3, r_quant3*100)\n",
    "plt.plot(quant_plot, np.average(temp_ft_quant3[1]-temp_ft_quant3[0], axis=0, weights=lat_weights))\n",
    "plt.plot(quant_plot, np.average(temp_surf_quant3[1]-temp_surf_quant3[0], axis=0, weights=lat_weights))\n",
    "plt.plot(quant_plot, np.average(temp_lcl_quant[1]-temp_lcl_quant[0], axis=0, weights=lat_weights))"
   ],
   "outputs": [],
   "execution_count": null
  },
  {
   "metadata": {
    "jupyter": {
     "is_executing": true
    }
   },
   "cell_type": "code",
   "source": [
    "save_lapse_fig = False\n",
    "fig, ax = plt.subplots(1,2, figsize=(2*width['one_col'], width['one_col']/ar), sharey=True)\n",
    "pe1 = [[mpe.Stroke(linewidth=0.8, foreground='black'),\n",
    "       mpe.Stroke(foreground='white',alpha=1),\n",
    "       mpe.Normal()], None]\n",
    "plcl_xlims = [[[0, 295], [4.8, 60]], \n",
    "              [[295, 330], [3.8, 4.8]]]\n",
    "x_var_shift = [0, 4]\n",
    "for k in range(n_profiles):\n",
    "    for i in range(n_kappa):\n",
    "        ax[0].plot(np.average(lapse_rate[i, :, k], axis=0, weights=lat_weights)+x_var_shift[k], pfull, color=colors_profile[k], \n",
    "                   path_effects=pe1[i], label='Simulated' if i==1 and k==0 else None)\n",
    "        ax[0].plot(np.average(lapse_rate_conv[i, :, k], axis=0, weights=lat_weights)+x_var_shift[k], pfull, color=colors_profile[k], linestyle='--',\n",
    "           path_effects=pe1[i], label='SCE' if i==1 and k==0 else None)\n",
    "        # for j in range(len(ax)):\n",
    "        #     ax[j].hlines(np.average(pressure_lcl[i, :, k], axis=0, weights=lat_weights), plcl_xlims[k][j][0], plcl_xlims[k][j][1], \n",
    "        #                  path_effects=pe1[i], color=colors_profile[k])\n",
    "        #     ax[j].hlines(np.average(pressure_lzb[i, :, k], axis=0, weights=lat_weights), plcl_xlims[k][j][0], plcl_xlims[k][j][1], \n",
    "        #                  path_effects=pe1[i], color=colors_profile[k], linestyle='--')\n",
    "    ax[1].plot(np.average(lapse_rate[1, :, k]-lapse_rate[0, :, k], axis=0, weights=lat_weights), pfull, \n",
    "               color=colors_profile[k], label=f'$x={quant_use_profile[k]}$')\n",
    "    ax[1].plot(np.average(lapse_rate_conv[1, :, k]-lapse_rate_conv[0, :, k], axis=0, weights=lat_weights), pfull, \n",
    "               color=colors_profile[k], linestyle='--')\n",
    "ax[0].invert_yaxis()\n",
    "ax[0].legend(loc='upper right')\n",
    "ax[1].legend(loc='upper left')\n",
    "ax[0].set_ylim(p_surface/100, 400)\n",
    "ax[0].set_xlim(4, 15)\n",
    "ax[1].set_xlim(-1, 0.2)\n",
    "ax[0].set_ylabel('Pressure [hPa]')\n",
    "ax[0].set_xlabel('Lapse Rate, $\\Gamma=-dT/dz$ [K/km]')\n",
    "ax[1].set_xlabel('Lapse Rate Change [K/km]')\n",
    "# ax[1].set_xlim(3.8, 9)\n",
    "if save_lapse_fig:\n",
    "    fig.savefig(f\"/Users/joshduffield/Desktop/lapse_rate_{region}_{season}.pdf\",\n",
    "                    dpi=dpi['combination'] if publish_fig else low_dpi, bbox_inches='tight', pad_inches=save_pad_inches)"
   ],
   "outputs": [],
   "execution_count": null
  },
  {
   "metadata": {
    "jupyter": {
     "is_executing": true
    }
   },
   "cell_type": "code",
   "source": [
    "sf_simulated = (temp_surf_quant3[1] - temp_surf_quant3[0]) / (temp_surf_mean[1] - temp_surf_mean[0])[:, np.newaxis]\n",
    "sf_theory = np.zeros((n_lat, n_quant))\n",
    "for i in range(n_lat):\n",
    "    sf_theory[i] = get_scaling_factor_theory(temp_surf_mean[:, i], temp_surf_quant3[:, i], sphum_mean[:, i], sphum_quant3[:, i], \n",
    "                                             p_surface, pressure_ft_actual, temp_ft_mean[:, i], temp_ft_quant3[:, i], z_ft_mean[:, i], \n",
    "                                             z_ft_quant3[:, i], non_linear=True, use_temp_adiabat=True)[0]"
   ],
   "outputs": [],
   "execution_count": null
  },
  {
   "metadata": {
    "jupyter": {
     "is_executing": true
    }
   },
   "cell_type": "code",
   "source": [
    "save_sf_theory_fig = False\n",
    "fig, ax = plt.subplots(1,1, figsize=(width['one_col'], width['one_col']/ar))\n",
    "ax.plot(quant_plot, np.average(sf_simulated, weights=lat_weights, axis=0), color='k',\n",
    "           label='Simulated')\n",
    "ax.plot(quant_plot, np.average(sf_theory, weights=lat_weights, axis=0), color='k', linestyle='--', label='Theory')\n",
    "ax.legend()\n",
    "ax.set_ylabel('Scaling factor, $\\delta T(x)/\\delta \\overline{T}$')\n",
    "ax.axhline(1, color='k', lw=ax_linewidth)\n",
    "ax.set_xlabel(percentile_label)\n",
    "ax.set_xlim(0, 100)\n",
    "if save_sf_theory_fig:\n",
    "    fig.savefig(f\"/Users/joshduffield/Desktop/sf_theory_{region}_{season}.pdf\",\n",
    "                    dpi=dpi['combination'] if publish_fig else low_dpi, bbox_inches='tight', pad_inches=save_pad_inches)"
   ],
   "outputs": [],
   "execution_count": null
  },
  {
   "metadata": {
    "jupyter": {
     "is_executing": true
    }
   },
   "cell_type": "code",
   "source": "",
   "outputs": [],
   "execution_count": null
  },
  {
   "metadata": {
    "jupyter": {
     "is_executing": true
    }
   },
   "cell_type": "code",
   "source": "",
   "outputs": [],
   "execution_count": null
  }
 ],
 "metadata": {
  "kernelspec": {
   "display_name": "Python 3",
   "language": "python",
   "name": "python3"
  },
  "language_info": {
   "codemirror_mode": {
    "name": "ipython",
    "version": 2
   },
   "file_extension": ".py",
   "mimetype": "text/x-python",
   "name": "python",
   "nbconvert_exporter": "python",
   "pygments_lexer": "ipython2",
   "version": "2.7.6"
  }
 },
 "nbformat": 4,
 "nbformat_minor": 0
}
