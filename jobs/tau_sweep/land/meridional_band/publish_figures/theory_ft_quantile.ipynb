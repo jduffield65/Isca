{
 "cells": [
  {
   "cell_type": "markdown",
   "source": [
    "# Theory Beakdown\n",
    "This breaks down each contribution to the theoretical scaling factor."
   ],
   "metadata": {
    "collapsed": false
   }
  },
  {
   "cell_type": "code",
   "source": [
    "import copy\n",
    "import sys\n",
    "import os\n",
    "# REMOTE - So can access functions in isca_tools which is in home/Isca directory\n",
    "# sys.path.append(os.path.join(os.environ['HOME'], 'Isca'))\n",
    "# LOCAL - So can access functions in isca_tools which is in StAndrews/Isca\n",
    "sys.path.append(os.environ['PWD'])\n",
    "import isca_tools\n",
    "from isca_tools.utils.moist_physics import moist_static_energy, clausius_clapeyron_factor, sphum_sat\n",
    "from isca_tools.utils.constants import kappa, L_v, c_p, g, R\n",
    "from isca_tools.utils import area_weighting\n",
    "from isca_tools.papers.byrne_2021 import get_quant_ind\n",
    "from isca_tools.thesis.adiabat_theory import get_theory_prefactor_terms,mse_mod_anom_change_ft_expansion, mse_mod_change_surf_expansion, \\\n",
    "    get_scaling_factor_theory, get_temp_adiabat\n",
    "from isca_tools.plot import label_subplots\n",
    "import numpy as np\n",
    "import matplotlib.pyplot as plt\n",
    "import xarray as xr\n",
    "import scipy.optimize\n",
    "from tqdm import tqdm\n",
    "from scipy import integrate\n",
    "import numpy_indexed\n",
    "from scipy.stats import percentileofscore\n",
    "import copy\n",
    "# Use custom matplotlib style for publishing\n",
    "plt.style.use('/Users/joshduffield/Documents/StAndrews/Isca/jobs/tau_sweep/aquaplanet/publish_figures/publish.mplstyle')\n",
    "import matplotlib\n",
    "# matplotlib.rcParams['lines.linewidth'] = 1.2          # make lines bigger for presentation"
   ],
   "metadata": {
    "collapsed": false,
    "ExecuteTime": {
     "end_time": "2024-08-13T09:20:50.346680Z",
     "start_time": "2024-08-13T09:20:46.478871Z"
    }
   },
   "outputs": [
    {
     "name": "stderr",
     "output_type": "stream",
     "text": [
      "2024-08-13 10:20:46,488 - isca - WARNING - Environment variable GFDL_SOC not set, but this is only required if using SocratesCodebase. Setting to None\n"
     ]
    }
   ],
   "execution_count": 1
  },
  {
   "cell_type": "code",
   "source": [
    "# Load dataset - at surface and in free troposphere\n",
    "use_time_start = 360*2\n",
    "pressure_ft = 500               # Desired approximate pressure of free troposphere (hPa)\n",
    "\n",
    "# Load dataset\n",
    "tau_lw_ref = 1\n",
    "tau_lw_warm = 1.5\n",
    "# refer to bucket model with vegetation as bucket\n",
    "# Don't include actual bucket, as looks very similar to bucket with vegetation param\n",
    "# exp_names = ['Aquaplanet', 'Constant conductivity', 'Bucket']\n",
    "# exp_dir = ['tau_sweep/aquaplanet/', 'tau_sweep/land/meridional_band/evap/',\n",
    "#            'tau_sweep/land/meridional_band/bucket_evap/evap=0_1/']\n",
    "# exp_dir = 'tau_sweep/land/meridional_band/depth=1/bucket_evap/'\n",
    "# exp_dir = 'tau_sweep/land/meridional_band/depth=1/bucket_evap/ras_conv/'\n",
    "exp_dir = 'tau_sweep/aquaplanet/depth=1/'\n",
    "# exp_dir = 'tau_sweep/aquaplanet/depth=1/ras_conv/'\n",
    "\n",
    "# only keep variables required to compute relative humidity and MSE\n",
    "if 'ras_conv' in exp_dir:\n",
    "    var_keep = ['temp', 'sphum', 'height']\n",
    "else:\n",
    "    var_keep = ['temp', 'sphum', 'height', 'klzbs', 'convflag']\n",
    "\n",
    "# exp_names = ['Aquaplanet', 'Constant conductivity', 'Bucket', 'Bucket - $C_V$']\n",
    "# exp_dir = ['tau_sweep/aquaplanet/', 'tau_sweep/land/meridional_band/evap/', 'tau_sweep/land/meridional_band/bucket/',\n",
    "#            'tau_sweep/land/meridional_band/bucket_evap/evap=0_1/']\n",
    "# color_seq_exp = ['b', 'g', 'orange', 'r']\n",
    "\n",
    "kappa_names = [f\"k={str(tau_lw_ref).replace('.','_')}\", f\"k={str(tau_lw_warm).replace('.','_')}\"]\n",
    "n_kappa = len(kappa_names)\n",
    "ds = []\n",
    "albedo = []\n",
    "tau_sw = []\n",
    "tau_lw = []\n",
    "with tqdm(total=n_kappa, position=0, leave=True) as pbar:\n",
    "    for j in range(n_kappa):\n",
    "        ds_use = isca_tools.load_dataset(exp_dir + kappa_names[j]).sel(time=slice(use_time_start, np.inf))[var_keep]\n",
    "        \n",
    "        ds += [ds_use.sel(pfull=[np.inf, pressure_ft], method='nearest')]      # only keep the surface and free troposphere values\n",
    "        namelist = isca_tools.load_namelist(exp_dir + kappa_names[j])  # Need this for albedo_value\n",
    "        albedo += [namelist['mixed_layer_nml']['albedo_value']]\n",
    "        tau_sw += [namelist['two_stream_gray_rad_nml']['atm_abs']]\n",
    "        tau_lw += [namelist['two_stream_gray_rad_nml']['odp']]\n",
    "        pbar.update(1)\n",
    "        \n",
    "pfull = ds_use.pfull\n",
    "ind_surf = 0\n",
    "ind_ft = 1\n",
    "p_surface = float(ds[0].pfull[ind_surf]) * 100\n",
    "pressure_ft_actual = float(ds[0].pfull[ind_ft]) * 100       # Actual pressure of free troposphere (Pa)\n",
    "n_pressure = ds[0].pfull.size\n",
    "lnp_const = R * np.log(p_surface/pressure_ft_actual)/2      # for modified MSE calculation"
   ],
   "metadata": {
    "collapsed": false,
    "ExecuteTime": {
     "end_time": "2024-08-13T09:20:56.890338Z",
     "start_time": "2024-08-13T09:20:52.837087Z"
    }
   },
   "outputs": [
    {
     "name": "stderr",
     "output_type": "stream",
     "text": [
      "100%|██████████| 2/2 [00:04<00:00,  2.01s/it]\n"
     ]
    }
   ],
   "execution_count": 2
  },
  {
   "cell_type": "markdown",
   "source": [
    "## Get datasets\n",
    "Get one dataset for summer for each $\\kappa$, combining all latitudes: `ds_all`. This combines the all or just tbe summer months in each hemisphere, e.g. negative latitudes will only correspond to times in December, January or February."
   ],
   "metadata": {
    "collapsed": false
   }
  },
  {
   "metadata": {
    "ExecuteTime": {
     "end_time": "2024-08-13T09:21:48.322644Z",
     "start_time": "2024-08-13T09:21:48.315241Z"
    }
   },
   "cell_type": "code",
   "source": [
    "# If true, will save all figures to desktop - option to save specific figures later on.\n",
    "save_fig = False\n",
    "# if publishing figure, use high dpi\n",
    "publish_fig = True\n",
    "\n",
    "ar = 4/3        # aspect ratio (width/height)\n",
    "# Details required for Journal of Climate Figures\n",
    "low_dpi = 100\n",
    "dpi = {'monochrome': 1100, 'combination': 800, 'halftone': 300}\n",
    "width = {'one_col': 3.2, 'two_col': 5.5}        # width in inches \n",
    "save_pad_inches = 0.05\n",
    "\n",
    "# Default parameters\n",
    "default_colors = plt.rcParams['axes.prop_cycle'].by_key()['color']\n",
    "ax_linewidth = plt.rcParams['axes.linewidth']\n",
    "\n",
    "def moving_average(x, w):\n",
    "    return np.convolve(x, np.ones(w), 'valid') / w"
   ],
   "outputs": [],
   "execution_count": 3
  },
  {
   "cell_type": "code",
   "source": [
    "# Show where the land is\n",
    "save_land_fig = False\n",
    "\n",
    "job_dir = os.path.join(os.path.dirname(os.environ['GFDL_DATA']), 'jobs')\n",
    "land_file_name = os.path.join(job_dir, exp_dir, kappa_names[0], 'land.nc')\n",
    "is_land_data = os.path.exists(land_file_name)\n",
    "if is_land_data:\n",
    "    fig, ax = plt.subplots(1,1, figsize=(width['one_col'], width['one_col']/ar))\n",
    "    isca_tools.plot.show_land(land_file_name, fig=fig, ax=ax)\n",
    "    lon_land = isca_tools.utils.land.get_land_coords(land_file=land_file_name)[1]       # get the longitude coordinates of land\n",
    "    \n",
    "    if save_fig or save_land_fig:\n",
    "        fig.savefig(f\"/Users/joshduffield/Desktop/land_coords.pdf\",\n",
    "                    dpi=dpi['combination'] if publish_fig else low_dpi, bbox_inches='tight', pad_inches=save_pad_inches)"
   ],
   "metadata": {
    "collapsed": false,
    "ExecuteTime": {
     "end_time": "2024-08-13T09:21:49.736979Z",
     "start_time": "2024-08-13T09:21:49.732534Z"
    }
   },
   "outputs": [],
   "execution_count": 4
  },
  {
   "cell_type": "code",
   "source": [
    "# Load in across all latitudes, for given season\n",
    "\n",
    "# Select region to combine latitudes over for all but one of the plots below\n",
    "# Tropics\n",
    "region = 'tropics'\n",
    "lat_min = 0\n",
    "lat_max = 20\n",
    "# Extratropics\n",
    "# region = 'extratropics'\n",
    "# lat_min = 40\n",
    "# lat_max = 65\n",
    "# lat_max = 90\n",
    "\n",
    "# Chose whether to only consider summer days or consider all days\n",
    "# season = 'all'\n",
    "season = 'summer'\n",
    "# season = 'winter'\n",
    "if season == 'summer':\n",
    "    if region == 'tropics':\n",
    "        season_months = {'nh': [5, 6, 7, 8, 9, 10], 'sh': [11, 12, 1, 2, 3, 4]}   \n",
    "    else:\n",
    "        season_months = {'nh': [6, 7, 8], 'sh': [12, 1, 2]}   # JJA for NH and DJF for SH\n",
    "elif season == 'winter':\n",
    "    if region == 'tropics':\n",
    "        season_months = {'sh': [5, 6, 7, 8, 9, 10], 'nh': [11, 12, 1, 2, 3, 4]}\n",
    "    else:\n",
    "        season_months = {'sh': [6, 7, 8], 'nh': [12, 1, 2]} \n",
    "\n",
    "lat_use_ind = np.where((np.abs(ds[0].lat) <= lat_max) & (np.abs(ds[0].lat) >= lat_min))[0]\n",
    "n_lat = len(lat_use_ind)\n",
    "lat_weights = np.cos(np.deg2rad(ds[0].lat))[lat_use_ind]\n",
    "\n",
    "# Whether to do taylor expansion about mean over just land or mean over whole planet\n",
    "mean_method = 'land'\n",
    "# mean_method = 'all'\n",
    "\n",
    "temp_av = {key: np.zeros((n_kappa, n_pressure, n_lat)) for key in ['mean', 'median']}\n",
    "sphum_av = {key: np.zeros((n_kappa, n_lat)) for key in ['mean', 'median', 'mean_from_sphum', 'mean_from_r', 'median_from_sphum', 'median_from_r']}\n",
    "r_av = {key: np.zeros((n_kappa, n_lat)) for key in ['mean', 'median', 'mean_from_sphum', 'mean_from_r', 'median_from_sphum', 'median_from_r']}\n",
    "z_av = {key: np.zeros((n_kappa, n_pressure, n_lat)) for key in ['mean', 'median']}\n",
    "mse_av = {key: np.zeros((n_kappa, n_lat)) for key in ['mean', 'median']}\n",
    "mse_ft_sat_av = {key: np.zeros((n_kappa, n_lat)) for key in ['mean', 'median']}\n",
    "epsilon_av = {key: np.zeros((n_kappa, n_lat)) for key in ['mean', 'median']}\n",
    "\n",
    "ds_all = []\n",
    "with tqdm(total=n_kappa, position=0, leave=True) as pbar:\n",
    "    for j in range(n_kappa):\n",
    "        ds_use = ds[j].isel(lat=lat_use_ind)   # only keep latitudes being used to save memory\n",
    "        \n",
    "        if is_land_data:\n",
    "            # if not aquaplanet, then is land and only consider land longitudes\n",
    "            ds_use = ds_use.isel(lon=np.where(np.isin(ds_use.lon, np.unique(lon_land)))[0])\n",
    "        \n",
    "        if season == 'summer':\n",
    "            ds_nh_summer = isca_tools.utils.annual_time_slice(ds_use, season_months['nh']).sel(lat=slice(0, 90))  \n",
    "            ds_sh_summer = isca_tools.utils.annual_time_slice(ds_use, season_months['sh']).sel(lat=slice(-90, 0)) \n",
    "            # Combine hemispheres and average over longitude, time and latitude.\n",
    "            ds_use = xr.concat([ds_sh_summer, ds_nh_summer], dim='lat')\n",
    "        ds_use = ds_use.stack(lon_time=(\"lon\",\"time\"), create_index=False).chunk(dict(lon_time=-1))\n",
    "        ds_all += [ds_use.load()]\n",
    "        \n",
    "        if mean_method == 'all':\n",
    "            ds_use = ds[j].sel(time=slice(use_time_start, np.inf)).isel(lat=lat_use_ind)\n",
    "            ds_use = ds_use.stack(lon_time=(\"lon\",\"time\"), create_index=False).chunk(dict(lon_time=-1))\n",
    "        elif mean_method != 'land':\n",
    "            raise ValueError(f'Mean method is {mean_method} which is not valid.')\n",
    "        temp_av['mean'][j] = ds_use.temp.mean(dim='lon_time')\n",
    "        sphum_av['mean_from_sphum'][j] = ds_use.sphum[0].mean(dim='lon_time')\n",
    "        z_av['mean'][j] = ds_use.height.mean(dim='lon_time')\n",
    "        rh_use = ds_use.sphum.isel(pfull=ind_surf)/sphum_sat(ds_use.temp.isel(pfull=ind_surf), p_surface)\n",
    "        r_av['mean_from_r'][j] = rh_use.mean(dim='lon_time')\n",
    "        mse_use = [moist_static_energy(ds_use.temp[ind_surf], ds_use.sphum[ind_surf], ds_use.height[ind_surf]), \n",
    "                   moist_static_energy(ds_use.temp[ind_ft], sphum_sat(ds_use.temp[ind_ft], pressure_ft_actual), ds_use.height[ind_ft])]\n",
    "        mse_av['mean'][j] = mse_use[0].mean(dim='lon_time')\n",
    "        mse_ft_sat_av['mean'][j] = mse_use[1].mean(dim='lon_time')\n",
    "        epsilon_use = mse_use[0] - mse_use[1]\n",
    "        epsilon_av['mean'][j] = epsilon_use.mean(dim='lon_time')\n",
    "        pbar.update(1)\n",
    "sphum_av['mean_from_r'] = r_av['mean_from_r'] * sphum_sat(temp_av['mean'][:, ind_surf], p_surface) \n",
    "r_av['mean_from_sphum'] = sphum_av['mean_from_sphum'] / sphum_sat(temp_av['mean'][:, ind_surf], p_surface) "
   ],
   "metadata": {
    "collapsed": false,
    "ExecuteTime": {
     "end_time": "2024-08-13T14:29:16.479857Z",
     "start_time": "2024-08-13T14:28:55.852654Z"
    }
   },
   "outputs": [
    {
     "name": "stderr",
     "output_type": "stream",
     "text": [
      "100%|██████████| 2/2 [00:20<00:00, 10.30s/it]\n"
     ]
    }
   ],
   "execution_count": 205
  },
  {
   "cell_type": "code",
   "source": [
    "# Get all data needed to compute theoretical temp change and to plot actual temp change for each quantile of temperature\n",
    "quant_plot = np.arange(1, 100)     # avoid 0 quantile as it gives weird results\n",
    "n_quant = len(quant_plot)\n",
    "percentile_label = 'Temperature percentile, $x$'\n",
    "\n",
    "# Days must have klzb < thresh and convflag > thresh to be considered convecting.\n",
    "klzb_thresh = 13\n",
    "convflag_thresh = 1\n",
    "\n",
    "# quant2 is the actual quantile value rather than the average above a given quantile\n",
    "temp_quant3 = np.zeros((n_kappa, n_pressure, n_lat, n_quant))\n",
    "# relative humidity as function of temp quantile not temp quantile\n",
    "sphum_quant3_from_sphum = np.zeros((n_kappa, n_lat, n_quant))\n",
    "sphum_quant3_from_r = np.zeros((n_kappa, n_lat, n_quant))\n",
    "r_quant3_from_sphum = np.zeros((n_kappa, n_lat, n_quant))\n",
    "r_quant3_from_r = np.zeros((n_kappa, n_lat, n_quant))\n",
    "z_quant3 = np.zeros((n_kappa, n_pressure, n_lat, n_quant))\n",
    "convflag_quant3 = np.zeros((n_kappa, n_lat, n_quant))\n",
    "klzbs_quant3 = np.zeros((n_kappa, n_lat, n_quant))\n",
    "convfract_quant3 = np.zeros((n_kappa, n_lat, n_quant))            # record fraction of days convecting\n",
    "mse_quant3 = np.zeros((n_kappa, n_lat, n_quant))\n",
    "mse_ft_sat_quant3 = np.zeros((n_kappa, n_lat, n_quant))\n",
    "epsilon_quant3 = np.zeros((n_kappa, n_lat, n_quant))\n",
    "temp_surf_mean_std = np.zeros((n_kappa, n_lat))\n",
    "temp_surf_quant_std = np.zeros((n_kappa, n_lat, n_quant))\n",
    "\n",
    "temp_ft_quant = np.zeros((n_kappa, n_lat, n_quant))             # quantile as function of ft temp not surf temp\n",
    "\n",
    "with tqdm(total=n_kappa*n_quant*n_lat, position=0, leave=True) as pbar:\n",
    "    for j in range(n_kappa):\n",
    "        ds_use = ds_all[j]\n",
    "        rh_use = ds_use.sphum.isel(pfull=ind_surf)/sphum_sat(ds_use.temp.isel(pfull=ind_surf), p_surface)\n",
    "        mse_use = [moist_static_energy(ds_use.temp[ind_surf], ds_use.sphum[ind_surf], ds_use.height[ind_surf]), \n",
    "                   moist_static_energy(ds_use.temp[ind_ft], sphum_sat(ds_use.temp[ind_ft], pressure_ft_actual), ds_use.height[ind_ft])]\n",
    "        epsilon_use = mse_use[0] - mse_use[1]\n",
    "        if 'klzbs' in var_keep:\n",
    "            is_convecting = np.logical_and(ds_use.klzbs<klzb_thresh, ds_use.convflag > convflag_thresh)\n",
    "        temp_surf_mean_std[j] = ds_use.temp[ind_surf].std(dim='lon_time')\n",
    "        for q, quant in enumerate(quant_plot):\n",
    "            temp_ft_quant[j, :, q] = ds_use.temp.isel(pfull=ind_ft).quantile(quant/100, dim='lon_time')\n",
    "            for k in range(n_lat):\n",
    "                use_ind = get_quant_ind(ds_use.temp[ind_surf, k], quant, 0.5, 0.5)\n",
    "                # Make sure to compute temp_quant at FT level using near-surface quantiles\n",
    "                temp_quant3[j, :, k, q] = ds_use.temp[:, k, use_ind].mean(dim='lon_time')\n",
    "                temp_surf_quant_std[j, k, q] = ds_use.temp[ind_surf, k, use_ind].std(dim='lon_time')\n",
    "                z_quant3[j, :, k, q] = ds_use.height[:, k, use_ind].mean(dim='lon_time')\n",
    "                sphum_quant3_from_sphum[j, k, q] = ds_use.sphum[ind_surf, k, use_ind].mean(dim='lon_time')\n",
    "                r_quant3_from_r[j, k, q] = rh_use[k, use_ind].mean(dim='lon_time')\n",
    "                mse_quant3[j, k, q] = mse_use[0][k, use_ind].mean(dim='lon_time')\n",
    "                mse_ft_sat_quant3[j, k, q] = mse_use[1][k, use_ind].mean(dim='lon_time')\n",
    "                epsilon_quant3[j, k, q] = epsilon_use[k, use_ind].mean(dim='lon_time')\n",
    "                if 'klzbs' in var_keep:\n",
    "                    convflag_quant3[j, k, q] = ds_use.convflag[k, use_ind].mean(dim='lon_time')\n",
    "                    klzbs_quant3[j, k, q] = ds_use.klzbs[k, use_ind].mean(dim='lon_time')\n",
    "                    convfract_quant3[j, k, q] = np.sum(is_convecting[k, use_ind])/is_convecting[k, use_ind].size\n",
    "                pbar.update(1)\n",
    "sphum_quant3_from_r = sphum_sat(temp_quant3[:, ind_surf], p_surface) * r_quant3_from_r # compute specific humidity from relative humidity\n",
    "r_quant3_from_sphum = sphum_quant3_from_sphum / sphum_sat(temp_quant3[:, ind_surf], p_surface)\n",
    "# temp_anom = temp_quant3 - temp_mean[:, :, :, np.newaxis]\n",
    "# epsilon_anom = epsilon_quant3 - epsilon_mean[:, :, np.newaxis]"
   ],
   "metadata": {
    "collapsed": false,
    "ExecuteTime": {
     "end_time": "2024-08-13T14:29:42.958262Z",
     "start_time": "2024-08-13T14:29:16.481352Z"
    }
   },
   "outputs": [
    {
     "name": "stderr",
     "output_type": "stream",
     "text": [
      "100%|██████████| 2772/2772 [00:26<00:00, 104.75it/s]\n"
     ]
    }
   ],
   "execution_count": 206
  },
  {
   "metadata": {},
   "cell_type": "markdown",
   "source": [
    "### Median Climate\n",
    "Compute median climate from `_quant3` with $x=50$"
   ]
  },
  {
   "metadata": {
    "ExecuteTime": {
     "end_time": "2024-08-13T14:29:42.964116Z",
     "start_time": "2024-08-13T14:29:42.959879Z"
    }
   },
   "cell_type": "code",
   "source": [
    "quant_median = 50\n",
    "quant_median_ind = int(np.where(quant_plot==quant_median)[0])\n",
    "temp_av['median'] = temp_quant3[:, :, :, quant_median_ind]\n",
    "sphum_av['median_from_sphum'] = sphum_quant3_from_sphum[:, :, quant_median_ind]\n",
    "sphum_av['median_from_r'] = sphum_quant3_from_r[:, :, quant_median_ind]\n",
    "r_av['median_from_sphum'] = r_quant3_from_sphum[:, :, quant_median_ind]\n",
    "r_av['median_from_r'] = r_quant3_from_r[:, :, quant_median_ind]\n",
    "z_av['median'] = z_quant3[:, :, :, quant_median_ind]\n",
    "mse_av['median'] = mse_quant3[:, :, quant_median_ind]\n",
    "mse_ft_sat_av['median'] = mse_quant3[:, :, quant_median_ind]\n",
    "epsilon_av['median'] = epsilon_quant3[:, :, quant_median_ind]\n",
    "\n",
    "# As a function of ft quantile not surface quantile\n",
    "temp_ft_median = temp_ft_quant[:, :, quant_median_ind]"
   ],
   "outputs": [],
   "execution_count": 207
  },
  {
   "metadata": {},
   "cell_type": "markdown",
   "source": [
    "## Humidity Calculation\n",
    "Specific and relative humidity are related through $q_s = r_s q^*(T_s, p_s)$. When taking the mean, due to non-linear $q_s$ function, there is a difference between the value of $q_s$ when it is computed from the average of $r_s$ over all days ($r$ method) to when it is taken as the average of specific humidity on each day ($q$ method).\n",
    "\n",
    "Below I investigate the effect of this. The difference is only apparent in the mean value, not as a function of quantile."
   ]
  },
  {
   "metadata": {},
   "cell_type": "markdown",
   "source": [
    "### Effect on MSE and $\\epsilon$\n",
    "At the surface, MSE is defined as $h_s = c_p T_s + L_v q_s + gz_s$. Thus it is senstive to the $q_s$ used:\n",
    "* $q$ method: This is equivalent to taking $\\overline{q_s}$ to be the average specific humidity for all days.\n",
    "* $r$ method: Here, I compute $\\overline{q_s} = \\overline{r_s} q^*(\\overline{T_s}, p_s)$. Where $\\overline{r_s}$ is the relative humidity averaged over all days.\n",
    "\n",
    "The $q$ method matches the simulated mean value exactly. However, we see that the $r$ method over-estimates $\\overline{h}$, but it has the advantage that $\\overline{r_s}$ must be less than 1 in this case (see above).\n",
    "\n",
    "For our simulations, I think it makes sense to use the $q$ method as we always have $r<1$ anyway from tropical summer, but the $\\epsilon$ effect is apparent."
   ]
  },
  {
   "metadata": {
    "ExecuteTime": {
     "end_time": "2024-08-13T14:29:42.969591Z",
     "start_time": "2024-08-13T14:29:42.966067Z"
    }
   },
   "cell_type": "code",
   "source": [
    "mse_av['mean_from_sphum'] = moist_static_energy(temp_av['mean'][:, ind_surf], sphum_av['mean_from_sphum'], z_av['mean'][:, ind_surf])\n",
    "mse_quant3_from_sphum = moist_static_energy(temp_quant3[:, ind_surf], sphum_quant3_from_r, z_quant3[:, ind_surf])\n",
    "mse_av['mean_from_r'] = moist_static_energy(temp_av['mean'][:, ind_surf], sphum_av['mean_from_r'], z_av['mean'][:, ind_surf])\n",
    "mse_quant3_from_r = moist_static_energy(temp_quant3[:, ind_surf], sphum_quant3_from_r, z_quant3[:, ind_surf])\n",
    "\n",
    "epsilon_av['mean_from_sphum'] = mse_av['mean_from_sphum'] - mse_ft_sat_av['mean']\n",
    "epsilon_quant3_from_sphum = mse_quant3_from_sphum - mse_ft_sat_quant3\n",
    "epsilon_av['mean_from_r'] = mse_av['mean_from_r'] - mse_ft_sat_av['mean']\n",
    "epsilon_quant3_from_r = mse_quant3_from_r - mse_ft_sat_quant3"
   ],
   "outputs": [],
   "execution_count": 208
  },
  {
   "metadata": {},
   "cell_type": "markdown",
   "source": [
    "## Average Climate\n",
    "Here, give option to choose whether average climate is the mean or median through `av_use`. I recommend `'median'` i.e. conditioned on 50th percentile of near-surface temperature, as then we don't encounter the issues outlined above."
   ]
  },
  {
   "metadata": {
    "ExecuteTime": {
     "end_time": "2024-08-13T14:29:42.972990Z",
     "start_time": "2024-08-13T14:29:42.970349Z"
    }
   },
   "cell_type": "code",
   "source": [
    "# Choose a humidity method - only really affects mean value\n",
    "# Think probably makes sense to use 'sphum' when considering tropical summer\n",
    "humidity_calc_method = 'sphum'\n",
    "if humidity_calc_method == 'sphum':\n",
    "    sphum_av['mean'] = sphum_av['mean_from_sphum']\n",
    "    sphum_av['median'] = sphum_av['median_from_sphum']\n",
    "    sphum_quant3 = sphum_quant3_from_sphum\n",
    "    r_av['mean'] = r_av['mean_from_sphum']\n",
    "    r_av['median'] = r_av['median_from_sphum']\n",
    "    r_quant3 = r_quant3_from_sphum\n",
    "elif humidity_calc_method == 'r':\n",
    "    sphum_av['mean'] = sphum_av['mean_from_r']\n",
    "    sphum_av['median'] = sphum_av['median_from_r']\n",
    "    sphum_quant3 = sphum_quant3_from_r\n",
    "    r_av['mean'] = r_av['mean_from_r']\n",
    "    r_av['median'] = r_av['median_from_r']      # does not make a difference for median if from_r or from_sphum\n",
    "    r_quant3 = r_quant3_from_r\n",
    "    \n",
    "av_use = 'median'           # recommend\n",
    "# av_use = 'mean'"
   ],
   "outputs": [],
   "execution_count": 209
  },
  {
   "metadata": {},
   "cell_type": "markdown",
   "source": [
    "## Equivalence of near-surface percentile $x$ and free troposphere percentile $p$\n",
    "Below, I plot $T_{FT}$ as a function of near-surface percentile, $x$, and free troposphere percentile $p$.\n",
    "\n",
    "They clearly differ slightly with the latter being more smooth. The latter is more physically relavent as well, so it is worth obtaining a conversion between the two."
   ]
  },
  {
   "metadata": {
    "ExecuteTime": {
     "end_time": "2024-08-13T14:49:34.817886Z",
     "start_time": "2024-08-13T14:49:34.622949Z"
    }
   },
   "cell_type": "code",
   "source": [
    "fig, ax = plt.subplots(2,2, figsize=(2*width['one_col'], 2*width['one_col']/ar), sharex=True, sharey='row')\n",
    "for i in range(n_kappa):\n",
    "    ax[0, 0].plot(quant_plot, np.average(temp_quant3[i, ind_ft]-temp_av['median'][i, ind_ft, :, np.newaxis], weights=lat_weights, axis=0),\n",
    "                  color=default_colors[i], label=f'$\\kappa={tau_lw[i]}$')\n",
    "    ax[0, 1].plot(quant_plot, np.average(temp_ft_quant[i]-temp_ft_median[i, :, np.newaxis], weights=lat_weights, axis=0),\n",
    "                  color=default_colors[i], label=f'$\\kappa={tau_lw[i]}$')\n",
    "ax[1, 0].plot(quant_plot, np.average(temp_quant3[1, ind_ft]-temp_av['median'][1, ind_ft, :, np.newaxis] - \n",
    "                                     (temp_quant3[0, ind_ft]-temp_av['median'][0, ind_ft, :, np.newaxis]), weights=lat_weights, axis=0),\n",
    "              color='k')\n",
    "ax[1, 1].plot(quant_plot, np.average(temp_ft_quant[1]-temp_ft_median[1, :, np.newaxis] - \n",
    "                                     (temp_ft_quant[0]-temp_ft_median[0, :, np.newaxis]), weights=lat_weights, axis=0), color='k')\n",
    "ax[0, 0].legend()\n",
    "ax[0, 0].set_xlim(0, 100)\n",
    "for ax_use in ax.flatten():\n",
    "    ax_use.axhline(0, color='k', lw=ax_linewidth)\n",
    "ax[1, 0].set_xlabel('Near surface temperature percentile, $x$')\n",
    "ax[1, 1].set_xlabel('Free troposphere temperature percentile, $p$')\n",
    "ax[0, 0].set_ylabel('$\\Delta T_{FT}$ [K]')\n",
    "ax[1, 0].set_ylabel('$\\delta \\Delta T_{FT}$ [K]')"
   ],
   "outputs": [
    {
     "data": {
      "text/plain": [
       "Text(0, 0.5, '$\\\\delta \\\\Delta T_{FT}$ [K]')"
      ]
     },
     "execution_count": 244,
     "metadata": {},
     "output_type": "execute_result"
    },
    {
     "data": {
      "text/plain": [
       "<Figure size 640x480 with 4 Axes>"
      ],
      "image/png": "[encoded data removed]"
     },
     "metadata": {},
     "output_type": "display_data"
    }
   ],
   "execution_count": 244
  },
  {
   "metadata": {},
   "cell_type": "markdown",
   "source": [
    "### Free troposphere percentile, $p_x$, corresponding to $x$\n",
    "Below I plot compute the free troposphere, $T_{FT}(x)$ averaged over all days with near-surface temperature percentile $x$.\n",
    "\n",
    "I then, compute the free troposphere temperature percentile $p_x$ such that the $p_x^{th}$ percentile of $T_{FT}$ (I use square bracket notation $T_{FT}[p_x]$ for this) equals $T_{FT}(x)$. I.e. $p_x$ is defined such that $T_{FT}[p_x] = T_{FT}(x)$.\n",
    "\n",
    "I plot $p_x$ vs $x$ below. Note, $x$ runs from 1 to 99 but $p_x$ does not have to fill all these values."
   ]
  },
  {
   "metadata": {
    "ExecuteTime": {
     "end_time": "2024-08-13T14:49:36.951440Z",
     "start_time": "2024-08-13T14:49:36.905248Z"
    }
   },
   "cell_type": "code",
   "source": [
    "p_x = np.zeros((n_kappa, n_lat, n_quant))\n",
    "for i in range(n_kappa):\n",
    "    for j in range(n_lat):\n",
    "        interp_func = scipy.interpolate.interp1d(temp_ft_quant[i, j], quant_plot, fill_value='extrapolate')\n",
    "        for k in range(n_quant):\n",
    "            p_x[i, j, k] = interp_func(temp_quant3[i, ind_ft, j, k])"
   ],
   "outputs": [],
   "execution_count": 245
  },
  {
   "metadata": {
    "ExecuteTime": {
     "end_time": "2024-08-13T14:49:38.061780Z",
     "start_time": "2024-08-13T14:49:37.685976Z"
    }
   },
   "cell_type": "code",
   "source": [
    "fig, ax = plt.subplots(2,1, figsize=(width['one_col'], 2*width['one_col']/ar), sharex=True)\n",
    "for i in range(n_kappa):\n",
    "    ax[0].plot(quant_plot, np.average(p_x[i], axis=0, weights=lat_weights), label=f'$\\kappa={tau_lw[i]}$')\n",
    "ax[1].axhline(0, color='k', lw=ax_linewidth)\n",
    "ax[1].plot(quant_plot, np.average(p_x[1] - p_x[0], axis=0, weights=lat_weights), color='k')\n",
    "ax[0].legend()\n",
    "ax[0].set_xlim(0, 100)\n",
    "ax[1].set_xlabel('Near surface temperature percentile, $x$')\n",
    "ax[0].set_ylabel('$p_x$')\n",
    "ax[1].set_ylabel('$\\delta p_x$')"
   ],
   "outputs": [
    {
     "data": {
      "text/plain": [
       "Text(0, 0.5, '$\\\\delta p_x$')"
      ]
     },
     "execution_count": 246,
     "metadata": {},
     "output_type": "execute_result"
    },
    {
     "data": {
      "text/plain": [
       "<Figure size 320x480 with 2 Axes>"
      ],
      "image/png": "[encoded data removed]"
     },
     "metadata": {},
     "output_type": "display_data"
    }
   ],
   "execution_count": 246
  },
  {
   "metadata": {},
   "cell_type": "markdown",
   "source": [
    "## Conversion between $\\delta T_{FT}(x)$ and $\\delta T_{FT}[p_x]$\n",
    "\n",
    "As shown above, $p_x$ changes with warming, and we must take account of this when converting between $T_{FT}(x)$ and $T_{FT}[p_x]$. We do this as below:\n",
    "\n",
    "\n",
    "\n",
    "$\\begin{align}\n",
    "\\delta T_{FT}(x) &= T_{FT}^{hot}[p_x^{hot}] - T_{FT}^{cold}[p_x^{cold}]\\\\\n",
    "&= T_{FT}^{hot}[p_x^{cold} + \\delta p_x] - T_{FT}^{cold}[p_x^{cold}]\\\\\n",
    "&\\approx \\delta T_{FT}^{cold}[p_x^{cold}] + \\delta p_x \\eta^{hot}(x)\n",
    "\\end{align}$\n",
    "\n",
    "where cold (hot) refers to the colder (hotter) $\\kappa$ simulation, and $\\eta^{hot}(x) = \\frac{\\partial T^{hot}_{FT}}{\\partial p}\\bigg|_{p_x^{cold}}$\n",
    "\n",
    "We further assume $\\eta^{hot}(x) \\approx \\eta^{cold}(x) = \\frac{\\partial T^{cold}_{FT}}{\\partial p}\\bigg|_{p_x^{cold}}$ giving:\n",
    " \n",
    "$\\delta T_{FT}(x) \\approx \\delta T_{FT}^{cold}[p_x^{cold}] + \\delta p_x \\eta^{cold}(x)$\n",
    "\n",
    "If we assume $\\eta^{cold}(x)$ is the same for all $x$, this simplifies to:\n",
    "\n",
    "$\\delta T_{FT}(x) \\approx \\delta T_{FT}^{cold}[p_x^{cold}] + \\delta p_x \\overline{\\eta^{cold}}$\n",
    "\n",
    "where $\\overline{\\eta^{cold}} = \\frac{\\partial T^{cold}_{FT}}{\\partial p}\\bigg|_{p_{x=50}^{cold}}$ i.e. average means conditioned on median near-surface day.\n",
    "\n",
    "Each of these three approximations works well, except for the last one for coldest percentiles."
   ]
  },
  {
   "metadata": {
    "ExecuteTime": {
     "end_time": "2024-08-13T14:49:39.947563Z",
     "start_time": "2024-08-13T14:49:39.900021Z"
    }
   },
   "cell_type": "code",
   "source": [
    "temp_ft_p_x = np.zeros((n_kappa, n_lat, n_quant))\n",
    "eta_x = np.zeros((n_kappa, n_lat, n_quant))\n",
    "eta_mean = np.zeros(n_lat)\n",
    "p_x_ind = np.round(p_x).astype(int)-1      # use kappa=1 (colder) for p_x for both simmulations in this\n",
    "for j in range(n_lat):\n",
    "    eta_mean[j] = np.gradient(temp_ft_quant[0, j], quant_plot)[p_x_ind[0, j, quant_median_ind]]\n",
    "    # eta_mean[j] = np.polyfit(quant_plot[20:80], temp_ft_quant[0, j, 20:80], 1)[0]\n",
    "    for i in range(n_kappa):\n",
    "            for q in range(n_quant):\n",
    "                temp_ft_p_x[i, j, q] = temp_ft_quant[i, j, p_x_ind[0, j, q]] # -1 because it is an index\n",
    "                eta_x[i, j, q] = np.gradient(temp_ft_quant[i, j], quant_plot)[p_x_ind[0, j, q]]"
   ],
   "outputs": [],
   "execution_count": 247
  },
  {
   "metadata": {
    "ExecuteTime": {
     "end_time": "2024-08-13T14:49:51.989933Z",
     "start_time": "2024-08-13T14:49:51.878588Z"
    }
   },
   "cell_type": "code",
   "source": [
    "fig, ax = plt.subplots(1,1, figsize=(width['one_col'], width['one_col']/ar))\n",
    "ax.plot(quant_plot, np.average(eta_x[1], axis=0, weights=lat_weights), color=default_colors[0], label='hot')\n",
    "ax.plot(quant_plot, np.average(eta_x[0], axis=0, weights=lat_weights), color=default_colors[1], label='cold')\n",
    "ax.axhline(np.average(eta_mean, axis=0, weights=lat_weights), color=default_colors[2], label='cold average')\n",
    "ax.legend()\n",
    "ax.set_xlim(0, 100)\n",
    "ax.set_ylabel('$\\eta$ [K]')\n",
    "ax.set_xlabel('Near-surface temperature percentile, $x$');"
   ],
   "outputs": [
    {
     "data": {
      "text/plain": [
       "<Figure size 320x240 with 1 Axes>"
      ],
      "image/png": "[encoded data removed]"
     },
     "metadata": {},
     "output_type": "display_data"
    }
   ],
   "execution_count": 249
  },
  {
   "metadata": {
    "ExecuteTime": {
     "end_time": "2024-08-13T14:48:54.261606Z",
     "start_time": "2024-08-13T14:48:54.255267Z"
    }
   },
   "cell_type": "code",
   "source": [
    "temp_ft_x_change_theory1 = temp_ft_p_x[1]-temp_ft_p_x[0] + eta_x[1] * (p_x[1]-p_x[0])\n",
    "temp_ft_x_change_theory2 = temp_ft_p_x[1]-temp_ft_p_x[0] + eta_x[0] * (p_x[1]-p_x[0])\n",
    "temp_ft_x_change_theory3 = temp_ft_p_x[1]-temp_ft_p_x[0] + eta_mean[:, np.newaxis] * (p_x[1]-p_x[0])"
   ],
   "outputs": [],
   "execution_count": 242
  },
  {
   "metadata": {
    "ExecuteTime": {
     "end_time": "2024-08-13T14:54:27.266643Z",
     "start_time": "2024-08-13T14:54:26.997373Z"
    }
   },
   "cell_type": "code",
   "source": [
    "save_theory_fig1 = True\n",
    "fig, ax = plt.subplots(1,1, figsize=(width['one_col'], width['one_col']/ar))\n",
    "ax.plot(quant_plot, np.average(temp_quant3[1, ind_ft] - temp_quant3[0, ind_ft], axis=0, weights=lat_weights), color='k', lw=2, alpha=0.2)\n",
    "ax.plot(quant_plot, np.average(temp_ft_p_x[1]-temp_ft_p_x[0], axis=0, weights=lat_weights), color='k', linestyle=':', label='$\\delta p_x=0$')\n",
    "ax.plot(quant_plot, np.average(temp_ft_x_change_theory1, axis=0, weights=lat_weights), color=default_colors[0], label='$\\eta^{hot}(x)$')\n",
    "ax.plot(quant_plot, np.average(temp_ft_x_change_theory2, axis=0, weights=lat_weights), color=default_colors[1], label='$\\eta^{cold}(x)$')\n",
    "ax.plot(quant_plot, np.average(temp_ft_x_change_theory3, axis=0, weights=lat_weights), color=default_colors[2], label='$\\overline{\\eta^{cold}}$')\n",
    "ax.legend(title='Theory')\n",
    "ax.set_xlim(0, 100)\n",
    "ax.set_ylabel('$\\delta T_{FT}(x)$ [K]')\n",
    "ax.set_xlabel('Near-surface temperature percentile, $x$')\n",
    "\n",
    "if save_fig or save_theory_fig1:\n",
    "    fig.savefig(f\"/Users/joshduffield/Desktop/temp_ft_theory1_{region}_{season}.pdf\",\n",
    "                dpi=dpi['combination'] if publish_fig else low_dpi, bbox_inches='tight', pad_inches=save_pad_inches)"
   ],
   "outputs": [
    {
     "data": {
      "text/plain": [
       "<Figure size 320x240 with 1 Axes>"
      ],
      "image/png": "[encoded data removed]"
     },
     "metadata": {},
     "output_type": "display_data"
    }
   ],
   "execution_count": 255
  },
  {
   "metadata": {},
   "cell_type": "markdown",
   "source": [
    "### Theory for $\\delta p_x$\n",
    "Above we see that given the exact value of $\\delta p_x$, we can obtain a good approximation for $\\delta T_{FT}(x)$. Here, we see if we can improve the theory through a theory for $\\delta p_x$."
   ]
  },
  {
   "metadata": {
    "ExecuteTime": {
     "end_time": "2024-08-13T14:29:43.716410Z",
     "start_time": "2024-08-13T14:29:43.497866Z"
    }
   },
   "cell_type": "code",
   "source": [
    "alpha_s = clausius_clapeyron_factor(temp_quant3[0, ind_surf], p_surface)\n",
    "alpha_ft = clausius_clapeyron_factor(temp_ft_p_x[0], pressure_ft_actual)\n",
    "q_sat_ft = sphum_sat(temp_ft_p_x[0], pressure_ft_actual)\n",
    "q_sat_s_av = sphum_sat(temp_av[av_use][0, ind_surf], p_surface)\n",
    "q_sat_s = sphum_sat(temp_quant3[0, ind_surf], p_surface)\n",
    "r_s_av_change = r_av[av_use][1] - r_av[av_use][0]\n",
    "epsilon_av_change = (epsilon_av[av_use][1] - epsilon_av[av_use][0]) * 1000\n",
    "epsilon_x_change = (epsilon_quant3[1] - epsilon_quant3[0]) * 1000\n",
    "\n",
    "lhs = (c_p - lnp_const + L_v * alpha_s * sphum_quant3[0]) * (temp_quant3[1, ind_surf] - temp_quant3[0, ind_surf]) + (L_v * q_sat_s_av * r_s_av_change - \n",
    "                                                                                                                     epsilon_av_change)[:, np.newaxis]\n",
    "rhs = (c_p + lnp_const + L_v * alpha_ft * q_sat_ft) * (temp_ft_p_x[1] - temp_ft_p_x[0])\n",
    "\n",
    "fig, ax = plt.subplots(1,1, figsize=(width['one_col'], width['one_col']/ar))\n",
    "ax.plot(quant_plot, np.average(lhs, axis=0, weights=lat_weights)/1000)\n",
    "ax.plot(quant_plot, np.average(rhs, axis=0, weights=lat_weights)/1000)"
   ],
   "outputs": [
    {
     "data": {
      "text/plain": [
       "[<matplotlib.lines.Line2D at 0x1595c1dc0>]"
      ]
     },
     "execution_count": 219,
     "metadata": {},
     "output_type": "execute_result"
    },
    {
     "data": {
      "text/plain": [
       "<Figure size 320x240 with 1 Axes>"
      ],
      "image/png": "[encoded data removed]"
     },
     "metadata": {},
     "output_type": "display_data"
    }
   ],
   "execution_count": 219
  },
  {
   "metadata": {
    "ExecuteTime": {
     "end_time": "2024-08-13T14:29:43.767227Z",
     "start_time": "2024-08-13T14:29:43.717241Z"
    }
   },
   "cell_type": "code",
   "source": [
    "alpha_ft_av = clausius_clapeyron_factor(temp_av[av_use][0, ind_ft], pressure_ft_actual)\n",
    "q_sat_ft_av = sphum_sat(temp_av[av_use][0, ind_ft], pressure_ft_actual)\n",
    "r_s_x_change = r_quant3[1] - r_quant3[0]\n",
    "beta_ft1 = c_p + lnp_const + L_v * alpha_ft_av * q_sat_ft_av\n",
    "temp_ft_x_change_theory = temp_ft_p_x[1]-temp_ft_p_x[0] + 1/beta_ft1[:, np.newaxis] * (L_v * (r_s_x_change * q_sat_s - \n",
    "                                                                               (r_s_av_change * q_sat_s_av)[:, np.newaxis]) - \n",
    "                                                                        0*epsilon_x_change + 0*epsilon_av_change[:, np.newaxis])\n",
    "fig, ax = plt.subplots(1,1, figsize=(width['one_col'], width['one_col']/ar))\n",
    "ax.plot(quant_plot, np.average(temp_quant3[1, ind_ft] - temp_quant3[0, ind_ft], axis=0, weights=lat_weights))\n",
    "ax.plot(quant_plot, np.average(temp_ft_p_x[1]-temp_ft_p_x[0], axis=0, weights=lat_weights), color=default_colors[1], linestyle=':')\n",
    "ax.plot(quant_plot, np.average(temp_ft_x_change_theory, axis=0, weights=lat_weights), color=default_colors[1])\n",
    "ax.set_ylim(5.9, 7)"
   ],
   "outputs": [
    {
     "data": {
      "text/plain": [
       "(5.9, 7.0)"
      ]
     },
     "execution_count": 220,
     "metadata": {},
     "output_type": "execute_result"
    },
    {
     "data": {
      "text/plain": [
       "<Figure size 320x240 with 1 Axes>"
      ],
      "image/png": "[encoded data removed]"
     },
     "metadata": {},
     "output_type": "display_data"
    }
   ],
   "execution_count": 220
  },
  {
   "metadata": {
    "ExecuteTime": {
     "end_time": "2024-08-13T14:29:43.818060Z",
     "start_time": "2024-08-13T14:29:43.768030Z"
    }
   },
   "cell_type": "code",
   "source": [
    "p_x_change_theory = 1/(beta_ft1[:, np.newaxis]*beta1) * (L_v * (r_s_x_change * q_sat_s - (r_s_av_change * q_sat_s_av)[:, np.newaxis])\n",
    "                                                         - 0*epsilon_x_change + 0*epsilon_av_change[:, np.newaxis])\n",
    "fig, ax = plt.subplots(1,1, figsize=(width['one_col'], width['one_col']/ar))\n",
    "ax.plot(quant_plot, np.average(q_x[1]-q_x[0], axis=0, weights=lat_weights))\n",
    "ax.plot(quant_plot, np.average(p_x_change_theory, axis=0, weights=lat_weights))"
   ],
   "outputs": [
    {
     "data": {
      "text/plain": [
       "[<matplotlib.lines.Line2D at 0x1599662e0>]"
      ]
     },
     "execution_count": 221,
     "metadata": {},
     "output_type": "execute_result"
    },
    {
     "data": {
      "text/plain": [
       "<Figure size 320x240 with 1 Axes>"
      ],
      "image/png": "[encoded data removed]"
     },
     "metadata": {},
     "output_type": "display_data"
    }
   ],
   "execution_count": 221
  },
  {
   "metadata": {
    "ExecuteTime": {
     "end_time": "2024-08-13T14:29:43.822602Z",
     "start_time": "2024-08-13T14:29:43.819113Z"
    }
   },
   "cell_type": "code",
   "source": "np.average(L_v/(beta_ft1[:, np.newaxis]*beta1) * (r_s_x_change * q_sat_s - (r_s_av_change * q_sat_s_av)[:, np.newaxis]), axis=0, weights=lat_weights)",
   "outputs": [
    {
     "data": {
      "text/plain": [
       "array([-2.32287490e+00, -5.24797916e-01,  4.53629464e-01,  8.64564250e-01,\n",
       "        9.74077261e-01,  9.46971793e-01,  1.02562432e+00,  1.01024320e+00,\n",
       "        8.93452115e-01,  7.55472074e-01,  6.19195717e-01,  7.14223913e-01,\n",
       "        4.85661593e-01,  5.22430483e-01,  3.26845143e-01,  2.41752662e-01,\n",
       "        2.97928868e-01, -1.59952504e-02, -2.53189257e-02, -2.89006490e-02,\n",
       "        8.69733542e-02, -9.37587290e-02,  8.43567082e-02, -5.20571116e-02,\n",
       "        9.96390573e-02, -6.93104922e-04, -2.14898660e-02,  3.56437192e-03,\n",
       "        6.82880112e-02, -8.46470666e-02,  2.74879374e-02, -2.57312594e-02,\n",
       "        1.64555075e-01,  2.31197687e-01,  2.39777974e-01,  2.82490931e-01,\n",
       "        1.91627604e-01,  3.34143445e-01,  3.79649794e-01,  3.92836950e-01,\n",
       "        2.24355863e-01,  2.77817799e-01,  3.94544525e-02,  1.48860890e-01,\n",
       "       -3.52495312e-02,  9.03200076e-02, -3.67585653e-02, -1.10111248e-01,\n",
       "       -9.12442987e-02,  0.00000000e+00, -1.17367046e-02, -6.06439782e-04,\n",
       "        4.00858365e-02,  1.41806107e-01,  6.06150342e-02,  8.46330209e-02,\n",
       "        6.86824124e-03, -1.66963049e-02,  3.20222310e-01,  4.25306379e-01,\n",
       "        3.86144605e-01,  7.09815911e-01,  7.96466529e-01,  7.58545726e-01,\n",
       "        7.29510320e-01,  8.18472097e-01,  7.57629113e-01,  9.83433628e-01,\n",
       "        9.66669780e-01,  7.36377078e-01,  6.76465211e-01,  6.27994181e-01,\n",
       "        6.11907343e-01,  2.85298414e-01,  1.64667138e-01,  1.46858750e-01,\n",
       "       -5.27842693e-01, -6.87479380e-01, -8.42983047e-01, -1.24283089e+00,\n",
       "       -1.43529069e+00, -1.58473232e+00, -1.91573788e+00, -1.98259986e+00,\n",
       "       -1.46926638e+00, -2.02592600e+00, -1.68746339e+00, -1.85269521e+00,\n",
       "       -2.01937449e+00, -2.16429418e+00, -2.42095647e+00, -2.48835029e+00,\n",
       "       -2.38335717e+00, -2.53331665e+00, -2.59567935e+00, -2.31937242e+00,\n",
       "       -2.30860963e+00, -2.34666779e+00, -2.83069285e+00])"
      ]
     },
     "execution_count": 222,
     "metadata": {},
     "output_type": "execute_result"
    }
   ],
   "execution_count": 222
  },
  {
   "metadata": {
    "ExecuteTime": {
     "end_time": "2024-08-13T14:29:43.824533Z",
     "start_time": "2024-08-13T14:29:43.823303Z"
    }
   },
   "cell_type": "code",
   "source": "",
   "outputs": [],
   "execution_count": 222
  }
 ],
 "metadata": {
  "kernelspec": {
   "display_name": "Python 3",
   "language": "python",
   "name": "python3"
  },
  "language_info": {
   "codemirror_mode": {
    "name": "ipython",
    "version": 2
   },
   "file_extension": ".py",
   "mimetype": "text/x-python",
   "name": "python",
   "nbconvert_exporter": "python",
   "pygments_lexer": "ipython2",
   "version": "2.7.6"
  }
 },
 "nbformat": 4,
 "nbformat_minor": 0
}
