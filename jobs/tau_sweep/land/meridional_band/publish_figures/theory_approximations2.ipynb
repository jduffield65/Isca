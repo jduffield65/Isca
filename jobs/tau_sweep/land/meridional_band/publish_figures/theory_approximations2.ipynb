{
 "cells": [
  {
   "cell_type": "markdown",
   "source": [
    "# Theory Approximations\n",
    "This runs through derivation of theory, to gain two exact equations for $\\delta \\Delta h^{\\dagger}$, one from free troposphere and surface. In the derivation, I quantify approximations I make using different $A$ values.\n",
    "\n",
    "It also allows you to specify the reference day that the theory is built around, indicated by the tilde."
   ],
   "metadata": {
    "collapsed": false
   }
  },
  {
   "cell_type": "code",
   "source": [
    "import copy\n",
    "import sys\n",
    "import os\n",
    "# REMOTE - So can access functions in isca_tools which is in home/Isca directory\n",
    "# sys.path.append(os.path.join(os.environ['HOME'], 'Isca'))\n",
    "# LOCAL - So can access functions in isca_tools which is in StAndrews/Isca\n",
    "sys.path.append(os.environ['PWD'])\n",
    "import isca_tools\n",
    "from isca_tools.utils.moist_physics import moist_static_energy, clausius_clapeyron_factor, sphum_sat\n",
    "from isca_tools.utils.constants import kappa, L_v, c_p, g, R\n",
    "from isca_tools.utils import area_weighting\n",
    "from isca_tools.papers.byrne_2021 import get_quant_ind\n",
    "from isca_tools.thesis.adiabat_theory import get_theory_prefactor_terms,mse_mod_anom_change_ft_expansion, mse_mod_change_surf_expansion, \\\n",
    "    get_scaling_factor_theory, get_temp_adiabat\n",
    "from isca_tools.plot import label_subplots\n",
    "import numpy as np\n",
    "import matplotlib.pyplot as plt\n",
    "import xarray as xr\n",
    "import scipy.optimize\n",
    "from tqdm.notebook import tqdm\n",
    "from scipy import integrate\n",
    "import numpy_indexed\n",
    "from scipy.stats import percentileofscore\n",
    "import copy\n",
    "# Use custom matplotlib style for publishing\n",
    "plt.style.use('/Users/joshduffield/Documents/StAndrews/Isca/jobs/tau_sweep/aquaplanet/publish_figures/publish.mplstyle')"
   ],
   "metadata": {
    "collapsed": false,
    "ExecuteTime": {
     "end_time": "2025-02-19T19:20:13.305656Z",
     "start_time": "2025-02-19T19:20:11.846644Z"
    }
   },
   "outputs": [],
   "execution_count": 2
  },
  {
   "cell_type": "code",
   "source": [
    "# Load dataset - one at surface and one in free troposphere\n",
    "var_keep = ['temp', 'sphum', 'height', 'klzbs', 'convflag']        # only keep variables required to compute relative humidity and MSE\n",
    "\n",
    "\n",
    "use_time_start = 360*2\n",
    "pressure_ft = 500               # Desired approximate pressure of free troposphere (hPa)\n",
    "\n",
    "# Load dataset\n",
    "tau_lw_ref = 1\n",
    "tau_lw_warm = 1.5\n",
    "# refer to bucket model with vegetation as bucket\n",
    "# Don't include actual bucket, as looks very similar to bucket with vegetation param\n",
    "# exp_names = ['Aquaplanet', 'Constant conductivity', 'Bucket']\n",
    "# exp_dir = ['tau_sweep/aquaplanet/', 'tau_sweep/land/meridional_band/evap/',\n",
    "#            'tau_sweep/land/meridional_band/bucket_evap/evap=0_1/']\n",
    "exp_dir = 'tau_sweep/land/meridional_band/depth=1/bucket_evap/'\n",
    "# exp_dir = 'tau_sweep/aquaplanet/depth=1/'\n",
    "\n",
    "# exp_names = ['Aquaplanet', 'Constant conductivity', 'Bucket', 'Bucket - $C_V$']\n",
    "# exp_dir = ['tau_sweep/aquaplanet/', 'tau_sweep/land/meridional_band/evap/', 'tau_sweep/land/meridional_band/bucket/',\n",
    "#            'tau_sweep/land/meridional_band/bucket_evap/evap=0_1/']\n",
    "# color_seq_exp = ['b', 'g', 'orange', 'r']\n",
    "\n",
    "kappa_names = [f\"k={str(tau_lw_ref).replace('.','_')}\", f\"k={str(tau_lw_warm).replace('.','_')}\"]\n",
    "n_kappa = len(kappa_names)\n",
    "ds = []\n",
    "albedo = []\n",
    "tau_sw = []\n",
    "tau_lw = []\n",
    "with tqdm(total=n_kappa, position=0, leave=True) as pbar:\n",
    "    for j in range(n_kappa):\n",
    "        ds_use = isca_tools.load_dataset(exp_dir + kappa_names[j]).sel(time=slice(use_time_start, np.inf))[var_keep]\n",
    "        \n",
    "        ds += [ds_use.sel(pfull=[np.inf, pressure_ft], method='nearest')]      # only keep the surface and free troposphere values\n",
    "        namelist = isca_tools.load_namelist(exp_dir + kappa_names[j])  # Need this for albedo_value\n",
    "        albedo += [namelist['mixed_layer_nml']['albedo_value']]\n",
    "        tau_sw += [namelist['two_stream_gray_rad_nml']['atm_abs']]\n",
    "        tau_lw += [namelist['two_stream_gray_rad_nml']['odp']]\n",
    "        pbar.update(1)\n",
    "        \n",
    "pfull = ds_use.pfull\n",
    "ind_surf = 0\n",
    "ind_ft = 1\n",
    "p_surface = float(ds[0].pfull[ind_surf]) * 100\n",
    "pressure_ft_actual = float(ds[0].pfull[ind_ft]) * 100       # Actual pressure of free troposphere (Pa)\n",
    "n_pressure = ds[0].pfull.size\n",
    "lnp_const = R * np.log(p_surface/pressure_ft_actual)/2      # for modified MSE calculation"
   ],
   "metadata": {
    "collapsed": false,
    "ExecuteTime": {
     "end_time": "2025-02-19T19:20:16.743416Z",
     "start_time": "2025-02-19T19:20:13.323421Z"
    }
   },
   "outputs": [
    {
     "data": {
      "text/plain": [
       "  0%|          | 0/2 [00:00<?, ?it/s]"
      ],
      "application/vnd.jupyter.widget-view+json": {
       "version_major": 2,
       "version_minor": 0,
       "model_id": "57829a8b30f644a99562ec852f31bbd1"
      }
     },
     "metadata": {},
     "output_type": "display_data"
    }
   ],
   "execution_count": 3
  },
  {
   "cell_type": "markdown",
   "source": [
    "## Get datasets\n",
    "Get one dataset for summer for each $\\kappa$, combining all latitudes: `ds_all`. This combines the all or just tbe summer months in each hemisphere, e.g. negative latitudes will only correspond to times in December, January or February."
   ],
   "metadata": {
    "collapsed": false
   }
  },
  {
   "metadata": {
    "ExecuteTime": {
     "end_time": "2025-02-19T19:20:16.753770Z",
     "start_time": "2025-02-19T19:20:16.750562Z"
    }
   },
   "cell_type": "code",
   "source": [
    "# If true, will save all figures to desktop - option to save specific figures later on.\n",
    "save_fig = False\n",
    "# if publishing figure, use high dpi\n",
    "publish_fig = True\n",
    "\n",
    "ar = 4/3        # aspect ratio (width/height)\n",
    "# Details required for Journal of Climate Figures\n",
    "low_dpi = 100\n",
    "dpi = {'monochrome': 1100, 'combination': 800, 'halftone': 300}\n",
    "width = {'one_col': 3.2, 'two_col': 5.5}        # width in inches \n",
    "save_pad_inches = 0.05\n",
    "im_sz = 1.5\n",
    "\n",
    "\n",
    "# Default parameters\n",
    "default_colors = plt.rcParams['axes.prop_cycle'].by_key()['color']\n",
    "color_exp = [default_colors[0], default_colors[1]]\n",
    "ax_linewidth = plt.rcParams['axes.linewidth']\n",
    "\n",
    "\n",
    "labels_exp = ['$\\kappa={:.1f}$'.format(tau_lw[i]) for i in range(n_kappa)]\n",
    "\n",
    "def moving_average(x, w):\n",
    "    return np.convolve(x, np.ones(w), 'valid') / w"
   ],
   "outputs": [],
   "execution_count": 4
  },
  {
   "cell_type": "code",
   "source": [
    "# Show where the land is\n",
    "save_land_fig = False\n",
    "\n",
    "job_dir = os.path.join(os.path.dirname(os.environ['GFDL_DATA']), 'jobs')\n",
    "land_file_name = os.path.join(job_dir, exp_dir, kappa_names[0], 'land.nc')\n",
    "is_land_data = os.path.exists(land_file_name)\n",
    "if is_land_data:\n",
    "    fig, ax = plt.subplots(1,1, figsize=(width['one_col'], width['one_col']/ar))\n",
    "    isca_tools.plot.show_land(land_file_name, fig=fig, ax=ax)\n",
    "    lon_land = isca_tools.utils.land.get_land_coords(land_file=land_file_name)[1]       # get the longitude coordinates of land\n",
    "    \n",
    "    if save_fig or save_land_fig:\n",
    "        fig.savefig(f\"/Users/joshduffield/Desktop/land_coords.pdf\",\n",
    "                    dpi=dpi['combination'] if publish_fig else low_dpi, bbox_inches='tight', pad_inches=save_pad_inches)"
   ],
   "metadata": {
    "collapsed": false,
    "ExecuteTime": {
     "end_time": "2025-02-19T19:20:16.861926Z",
     "start_time": "2025-02-19T19:20:16.765213Z"
    }
   },
   "outputs": [
    {
     "data": {
      "text/plain": [
       "<Figure size 320x240 with 1 Axes>"
      ],
      "image/png": "[encoded data removed]"
     },
     "metadata": {},
     "output_type": "display_data"
    }
   ],
   "execution_count": 5
  },
  {
   "cell_type": "code",
   "source": [
    "# Load in across all latitudes, for given season\n",
    "\n",
    "# Select region to combine latitudes over for all but one of the plots below\n",
    "# Tropics\n",
    "region = 'tropics'\n",
    "lat_min = 0\n",
    "lat_max = 20\n",
    "# Extratropics\n",
    "# region = 'extratropics'\n",
    "# lat_min = 40\n",
    "# lat_max = 65\n",
    "# lat_max = 90\n",
    "\n",
    "# Chose whether to only consider summer days or consider all days\n",
    "# season = 'all'\n",
    "season = 'summer'\n",
    "# season = 'winter'\n",
    "if season == 'summer':\n",
    "    if region == 'tropics':\n",
    "        season_months = {'nh': [5, 6, 7, 8, 9, 10], 'sh': [11, 12, 1, 2, 3, 4]}   \n",
    "    else:\n",
    "        season_months = {'nh': [6, 7, 8], 'sh': [12, 1, 2]}   # JJA for NH and DJF for SH\n",
    "elif season == 'winter':\n",
    "    if region == 'tropics':\n",
    "        season_months = {'sh': [5, 6, 7, 8, 9, 10], 'nh': [11, 12, 1, 2, 3, 4]}\n",
    "    else:\n",
    "        season_months = {'sh': [6, 7, 8], 'nh': [12, 1, 2]} \n",
    "\n",
    "lat_use_ind = np.where((np.abs(ds[0].lat) <= lat_max) & (np.abs(ds[0].lat) >= lat_min))[0]\n",
    "n_lat = len(lat_use_ind)\n",
    "lat_weights = np.cos(np.deg2rad(ds[0].lat))[lat_use_ind]\n",
    "lat = ds[0].lat[lat_use_ind].to_numpy()\n",
    "\n",
    "# Whether to do taylor expansion about mean over just land or mean over whole planet\n",
    "mean_method = 'land'\n",
    "# mean_method = 'all'\n",
    "\n",
    "temp_av = {key: np.zeros((n_kappa, n_pressure, n_lat)) for key in ['mean', 'median']}\n",
    "z_av = {key: np.zeros((n_kappa, n_pressure, n_lat)) for key in ['mean', 'median']}\n",
    "r_av = {key: np.zeros((n_kappa, n_lat)) for key in ['mean', 'median']}\n",
    "# Decide how to compute humidities - do q first and then r from this ('sphum'), or vice versa ('r')?\n",
    "\n",
    "ds_all = []\n",
    "with tqdm(total=n_kappa, position=0, leave=True) as pbar:\n",
    "    for j in range(n_kappa):\n",
    "        ds_use = ds[j].isel(lat=lat_use_ind)   # only keep latitudes being used to save memory\n",
    "        \n",
    "        if is_land_data:\n",
    "            # if not aquaplanet, then is land and only consider land longitudes\n",
    "            ds_use = ds_use.isel(lon=np.where(np.isin(ds_use.lon, np.unique(lon_land)))[0])\n",
    "        \n",
    "        if season == 'summer':\n",
    "            ds_nh_summer = isca_tools.utils.annual_time_slice(ds_use, season_months['nh']).sel(lat=slice(0, 90))  \n",
    "            ds_sh_summer = isca_tools.utils.annual_time_slice(ds_use, season_months['sh']).sel(lat=slice(-90, 0)) \n",
    "            # Combine hemispheres and average over longitude, time and latitude.\n",
    "            ds_use = xr.concat([ds_sh_summer, ds_nh_summer], dim='lat')\n",
    "        ds_use = ds_use.stack(lon_time=(\"lon\",\"time\"), create_index=False).chunk(dict(lon_time=-1))\n",
    "        ds_all += [ds_use.load()]\n",
    "        \n",
    "        if mean_method == 'all':\n",
    "            ds_use = ds[j].sel(time=slice(use_time_start, np.inf)).isel(lat=lat_use_ind)\n",
    "            ds_use = ds_use.stack(lon_time=(\"lon\",\"time\"), create_index=False).chunk(dict(lon_time=-1))\n",
    "        elif mean_method != 'land':\n",
    "            raise ValueError(f'Mean method is {mean_method} which is not valid.')\n",
    "        temp_av['mean'][j] = ds_use.temp.mean(dim='lon_time')\n",
    "        temp_av['median'][j] = ds_use.temp.median(dim='lon_time')\n",
    "        z_av['mean'][j] = ds_use.height.mean(dim='lon_time')\n",
    "        z_av['median'][j] = ds_use.height.mean(dim='lon_time')\n",
    "        rh_use = ds_use.sphum.isel(pfull=ind_surf)/sphum_sat(ds_use.temp.isel(pfull=ind_surf), p_surface)\n",
    "        r_av['mean'][j] = rh_use.mean(dim='lon_time')\n",
    "        r_av['median'][j] = rh_use.median(dim='lon_time')\n",
    "        pbar.update(1)"
   ],
   "metadata": {
    "collapsed": false,
    "ExecuteTime": {
     "end_time": "2025-02-19T19:20:37.557454Z",
     "start_time": "2025-02-19T19:20:16.885881Z"
    }
   },
   "outputs": [
    {
     "data": {
      "text/plain": [
       "  0%|          | 0/2 [00:00<?, ?it/s]"
      ],
      "application/vnd.jupyter.widget-view+json": {
       "version_major": 2,
       "version_minor": 0,
       "model_id": "8882d2a8395348999aa57561113972a3"
      }
     },
     "metadata": {},
     "output_type": "display_data"
    }
   ],
   "execution_count": 6
  },
  {
   "cell_type": "code",
   "source": [
    "# Get all data needed to compute theoretical temp change and to plot actual temp change for each quantile of temperature\n",
    "quant_plot = np.arange(1, 100)     # avoid 0 quantile as it gives weird results\n",
    "n_quant = len(quant_plot)\n",
    "percentile_label = 'Temperature percentile, $x$'\n",
    "\n",
    "# quant2 is the actual quantile value rather than the average above a given quantile\n",
    "temp_quant3 = np.zeros((n_kappa, n_pressure, n_lat, n_quant))\n",
    "sphum_quant3 = np.zeros((n_kappa, n_lat, n_quant))\n",
    "z_quant3 = np.zeros((n_kappa, n_pressure, n_lat, n_quant))\n",
    "convflag_quant3 = np.zeros((n_kappa, n_lat, n_quant))\n",
    "klzbs_quant3 = np.zeros((n_kappa, n_lat, n_quant))\n",
    "convfract_quant3 = np.zeros((n_kappa, n_lat, n_quant))            # record fraction of days convecting\n",
    "\n",
    "with tqdm(total=n_kappa*n_quant*n_lat, position=0, leave=True) as pbar:\n",
    "    for j in range(n_kappa):\n",
    "        ds_use = ds_all[j]\n",
    "        for k in range(n_lat):\n",
    "            for q, quant in enumerate(quant_plot):\n",
    "                use_ind = get_quant_ind(ds_use.temp[ind_surf, k], quant, 0.5, 0.5)\n",
    "                # Make sure to compute temp_quant at FT level using near-surface quantiles\n",
    "                temp_quant3[j, :, k, q] = ds_use.temp[:, k, use_ind].mean(dim='lon_time')\n",
    "                z_quant3[j, :, k, q] = ds_use.height[:, k, use_ind].mean(dim='lon_time')\n",
    "                sphum_quant3[j, k, q] = ds_use.sphum[ind_surf, k, use_ind].mean(dim='lon_time')\n",
    "                pbar.update(1)\n",
    "\n",
    "# computed as in get_scaling_factor_theory function in adiabat_theory.py, computing sphum quant first\n",
    "r_quant3 = sphum_quant3 / sphum_sat(temp_quant3[:, ind_surf], p_surface)"
   ],
   "metadata": {
    "collapsed": false,
    "ExecuteTime": {
     "end_time": "2025-02-19T19:20:44.665175Z",
     "start_time": "2025-02-19T19:20:37.606125Z"
    }
   },
   "outputs": [
    {
     "data": {
      "text/plain": [
       "  0%|          | 0/2772 [00:00<?, ?it/s]"
      ],
      "application/vnd.jupyter.widget-view+json": {
       "version_major": 2,
       "version_minor": 0,
       "model_id": "ce20a175e63444628d8490c6b11f6f5f"
      }
     },
     "metadata": {},
     "output_type": "display_data"
    }
   ],
   "execution_count": 7
  },
  {
   "metadata": {
    "ExecuteTime": {
     "end_time": "2025-02-19T19:20:44.673642Z",
     "start_time": "2025-02-19T19:20:44.669988Z"
    }
   },
   "cell_type": "code",
   "source": [
    "# Copy epsilon calculation from get_scaling_factor_theory function in adiabat_theory.py\n",
    "# In units of kJ/kg\n",
    "epsilon_quant3 = (moist_static_energy(temp_quant3[:, ind_surf], sphum_quant3, height=0) -\n",
    "                 moist_static_energy(temp_quant3[:, ind_ft], sphum_sat(temp_quant3[:, ind_ft], pressure_ft_actual), z_quant3[:, ind_ft]))\n",
    "epsilon_av = {}\n",
    "for key in ['mean', 'median']:\n",
    "    epsilon_av[key] = (moist_static_energy(temp_av[key][:, ind_surf], r_av[key] * sphum_sat(temp_av[key][:, ind_surf], p_surface), height=0) -\n",
    "                       moist_static_energy(temp_av[key][:, ind_ft], sphum_sat(temp_av[key][:, ind_ft], pressure_ft_actual), z_av[key][:, ind_ft]))"
   ],
   "outputs": [],
   "execution_count": 8
  },
  {
   "metadata": {},
   "cell_type": "markdown",
   "source": [
    "## Reference Climate\n",
    "In the theory, we are free to choose the reference day, and the change with warming of this day, that the theory is built around. We must specify the reference surface temperature, $\\tilde{T}_s$, relative humidity, $\\tilde{r}_s$ and CAPE proxy, $\\tilde{\\epsilon}$.\n",
    "\n",
    "Given these three values, we can compute the reference free tropospheric temperature, $\\tilde{T}_{FT}$, by equating two equations for reference modified MSE, $\\tilde{h}^{\\dagger}$:\n",
    "\n",
    "$h^{\\dagger} = (c_p - R^{\\dagger})T_s + L_v q_s - \\epsilon \\approx (c_p + R^{\\dagger})T_{FT} + L_vq^*(T_{FT}, p_{FT})$\n",
    "\n",
    "For ease of interpretation later, I propose:\n",
    "* $\\tilde{T}_s = \\overline{T_s}; \\delta \\tilde{T}_s = \\delta \\overline{T_s}$\n",
    "* $\\tilde{r}_s = \\overline{r_s}; \\delta \\tilde{r}_s = 0$\n",
    "* $\\tilde{\\epsilon} = 0; \\delta \\tilde{\\epsilon} = 0$\n",
    "\n",
    "where the overline refers to the time-zonal mean value of that quantity."
   ]
  },
  {
   "metadata": {
    "ExecuteTime": {
     "end_time": "2025-02-20T11:51:50.930232Z",
     "start_time": "2025-02-20T11:51:50.911549Z"
    }
   },
   "cell_type": "code",
   "source": [
    "av_use = 'mean'\n",
    "r_ref = np.zeros((n_kappa, n_lat))\n",
    "r_ref[:] = r_av[av_use][0]        # no change in rh with warming, assumed for ref\n",
    "r_ref[:] = r_av[av_use]\n",
    "epsilon_ref = np.zeros((n_kappa, n_lat))        # Normalise relative to day with zero CAPE in each simulation\n",
    "epsilon_ref[:] = epsilon_av[av_use]\n",
    "temp_ref = np.zeros((n_kappa, n_pressure, n_lat))\n",
    "temp_ref[:, ind_surf] = temp_av[av_use][:, ind_surf]  # Have actual average surface temperature change with warming\n",
    "sphum_ref = r_ref * sphum_sat(temp_ref[:, ind_surf], p_surface)\n",
    "\n",
    "# Given reference T_s, RH and epsilon, T_FT directly from the modified MSE equation.\n",
    "# This means that there is no approximation associated with geopotential height for the reference day\n",
    "for i in range(n_kappa):\n",
    "    for j in range(n_lat):\n",
    "        temp_ref[i, ind_ft, j] = get_temp_adiabat(temp_ref[i, ind_surf, j], sphum_ref[i, j],\n",
    "                                                    p_surface, pressure_ft_actual, epsilon=epsilon_ref[i, j])"
   ],
   "outputs": [],
   "execution_count": 203
  },
  {
   "metadata": {
    "ExecuteTime": {
     "end_time": "2025-02-20T11:51:51.006164Z",
     "start_time": "2025-02-20T11:51:50.971788Z"
    }
   },
   "cell_type": "code",
   "source": [
    "# Plot showing how reference values differs from average\n",
    "show_plot = False\n",
    "av_plot = av_use\n",
    "fig, ax = plt.subplots(1,4, figsize=(4*im_sz*width['one_col'], im_sz*width['one_col']/ar), sharex=True)\n",
    "for i in range(n_kappa):\n",
    "    ax[0].plot(lat, temp_av[av_plot][i, ind_surf], color=color_exp[i], label=labels_exp[i])\n",
    "    ax[0].plot(lat, temp_ref[i, ind_surf], color=color_exp[i], linestyle=':')\n",
    "    ax[1].plot(lat, temp_av[av_plot][i, ind_ft], color=color_exp[i], label=av_plot.capitalize() if i==0 else None)\n",
    "    ax[1].plot(lat, temp_ref[i, ind_ft], color=color_exp[i], linestyle=':', label='Reference' if i==0 else None)\n",
    "    ax[2].plot(lat, r_av[av_plot][i]*100, color=color_exp[i])\n",
    "    ax[2].plot(lat, r_ref[i]*100, color=color_exp[i], linestyle=':')\n",
    "    ax[3].plot(lat, epsilon_av[av_plot][i], color=color_exp[i])\n",
    "    ax[3].plot(lat, epsilon_ref[i], color=color_exp[i], linestyle=':')\n",
    "ax[0].legend()\n",
    "ax[1].legend()\n",
    "ax[0].set_xlim(lat[0], lat[-1])\n",
    "ax[0].set_ylabel('$T_s$')\n",
    "ax[1].set_ylabel('$T_{FT}$')\n",
    "ax[2].set_ylabel('$r_s$')\n",
    "ax[3].set_ylabel('$\\epsilon$')\n",
    "if show_plot:\n",
    "    plt.show()\n",
    "else:\n",
    "    plt.close()"
   ],
   "outputs": [],
   "execution_count": 204
  },
  {
   "metadata": {},
   "cell_type": "markdown",
   "source": [
    "## Approximations associated with Free Tropospheric Derivation of $\\delta \\Delta h^{\\dagger}$\n",
    "### Approx Z1 - Geopotential Height, $A_z$\n",
    "To make the equation $h^{\\dagger} = (c_p - R^{\\dagger})T_s + L_v q_s - \\epsilon \\approx (c_p + R^{\\dagger})T_A + L_vq^*(T_{FT}, p_{FT})$ exact, we add a term $A_z$ such that:\n",
    "\n",
    "$$h^{\\dagger} = (c_p - R^{\\dagger})T_s + L_v q_s - \\epsilon = (c_p + R^{\\dagger})T_{FT} + L_vq^*(T_{FT}, p_{FT}) + A_z \\tag{Z1}$$\n",
    "\n",
    "Where $A_z$ quantifies the error associated with approximating the geopotential height."
   ]
  },
  {
   "metadata": {
    "ExecuteTime": {
     "end_time": "2025-02-20T11:51:51.013887Z",
     "start_time": "2025-02-20T11:51:51.009638Z"
    }
   },
   "cell_type": "code",
   "source": [
    "R_mod, _, _, beta_ft1, beta_ft2, _, _ = get_theory_prefactor_terms(temp_ref[:, ind_ft], p_surface, pressure_ft_actual)\n",
    "_, _, _, beta_s1, beta_s2, _, mu = get_theory_prefactor_terms(temp_ref[:, ind_surf], p_surface, pressure_ft_actual, sphum_ref)\n",
    "# From now on, plot all in terms of J/kg\n",
    "mse_mod_quant3 = (moist_static_energy(temp_quant3[:, ind_surf], sphum_quant3, height=0, c_p_const=c_p-R_mod) - epsilon_quant3) * 1000\n",
    "mse_mod_ref = (moist_static_energy(temp_ref[:, ind_surf], sphum_ref, height=0, c_p_const=c_p-R_mod) - epsilon_ref) * 1000\n",
    "mse_mod_anom = mse_mod_quant3 - mse_mod_ref[:, :, np.newaxis]\n",
    "\n",
    "temp_anom = temp_quant3 - temp_ref[:, :, :, np.newaxis]\n",
    "r_anom = r_quant3 - r_ref[:, :, np.newaxis]\n",
    "epsilon_anom = (epsilon_quant3 - epsilon_ref[:, :, np.newaxis]) * 1000\n",
    "epsilon_ref = epsilon_ref * 1000\n",
    "\n",
    "\n",
    "# FOR DEBUGGING - NEED TO CHANGE\n",
    "# temp_anom[1] = temp_anom[0]\n",
    "# r_anom[1] = r_anom[0] * (r_ref[1]/r_ref[0])[:, np.newaxis]"
   ],
   "outputs": [],
   "execution_count": 205
  },
  {
   "metadata": {
    "ExecuteTime": {
     "end_time": "2025-02-20T11:51:51.052087Z",
     "start_time": "2025-02-20T11:51:51.047181Z"
    }
   },
   "cell_type": "code",
   "source": [
    "approx = {}\n",
    "approx['z_quant'] = mse_mod_quant3 - moist_static_energy(temp_quant3[:, ind_ft], sphum_sat(temp_quant3[:, ind_ft], pressure_ft_actual),\n",
    "                                                         height=0, c_p_const=c_p+R_mod)*1000\n",
    "approx['z_ref'] = mse_mod_ref - \\\n",
    "    moist_static_energy(temp_ref[:, ind_ft], sphum_sat(temp_ref[:, ind_ft], pressure_ft_actual), height=0, c_p_const=c_p+R_mod)*1000\n",
    "approx['z_anom'] = approx['z_quant'] - approx['z_ref'][:, :, np.newaxis]\n",
    "print(np.max(np.abs(approx['z_ref'])))  # santity check that z_ref approx is 0"
   ],
   "outputs": [
    {
     "name": "stdout",
     "output_type": "stream",
     "text": [
      "4.377216100692749e-08\n"
     ]
    }
   ],
   "execution_count": 206
  },
  {
   "metadata": {
    "ExecuteTime": {
     "end_time": "2025-02-20T11:51:51.107093Z",
     "start_time": "2025-02-20T11:51:51.082131Z"
    }
   },
   "cell_type": "code",
   "source": [
    "show_plot = False\n",
    "fig, ax = plt.subplots(2,1, figsize=(im_sz*width['one_col'], 2*im_sz*width['one_col']/ar), sharex=True)\n",
    "for i in range(n_kappa):\n",
    "    ax[0].plot(quant_plot, np.average(approx['z_anom'], axis=1, weights=lat_weights)[i]/1000, color=color_exp[i], label=labels_exp[i])\n",
    "ax[0].legend()\n",
    "ax[1].plot(quant_plot, np.average(np.diff(approx['z_anom'], axis=0).squeeze()/1000, axis=0, weights=lat_weights), color='k')\n",
    "ax[1].axhline(0, color='k', lw=ax_linewidth)\n",
    "ax[0].set_ylabel('$\\Delta A_z$ [kJ/kg]')\n",
    "ax[1].set_ylabel('$\\delta \\Delta A_z$ [kJ/kg]')\n",
    "ax[0].set_xlim(0, 100)\n",
    "if show_plot:\n",
    "    plt.show()\n",
    "else:\n",
    "    plt.close()"
   ],
   "outputs": [],
   "execution_count": 207
  },
  {
   "metadata": {},
   "cell_type": "markdown",
   "source": [
    "### Approx FT1 - Anomaly, $A_{FT\\Delta}$\n",
    "Using the RHS of $(Z1)$ in a given climate, we can write the anomaly of modified MSE at a given percentile $x$ of near-surface temperature as:\n",
    "\n",
    "$\\Delta h^{\\dagger}[x] = h^{\\dagger}(T_{FT}[x], A_z[x]) - h^{\\dagger}(\\tilde{T}_{FT}, \\tilde{A}_z) = h^{\\dagger}(T_{FT}[x], 0) -\n",
    "h^{\\dagger}(\\tilde{T}_{FT}, 0) + \\Delta A_z[x]$\n",
    "\n",
    "Now let us do a linear taylor expansion:\n",
    "\n",
    "$h^{\\dagger}(T_{FT}[x], 0) - h^{\\dagger}(\\tilde{T}_{FT}, 0) = \\tilde{\\beta}_{FT1}\\Delta T_{FT}[x] + A_{FT\\Delta}[x]$\n",
    "\n",
    "where $\\beta_{FT1} = \\frac{\\partial h^{\\dagger}}{\\partial T_{FT}} = c_p + R^{\\dagger} + L_v \\alpha_{FT} q^*_{FT}$ and $A_{FT\\Delta}[x]$ quantifies how accurate this linear approximation is. It arises due to the non-linear temperature dependence of $q^*$. It has units of kJ/kg. Putting this together:\n",
    "\n",
    "$$\\Delta h^{\\dagger}[x] = \\tilde{\\beta}_{FT1}\\Delta T_{FT}[x] + A_{FT\\Delta}[x] + \\Delta A_z[x] \\tag{FT1}$$"
   ]
  },
  {
   "metadata": {
    "ExecuteTime": {
     "end_time": "2025-02-20T11:51:51.174625Z",
     "start_time": "2025-02-20T11:51:51.169075Z"
    }
   },
   "cell_type": "code",
   "source": "approx['ft_anom'] = mse_mod_anom - approx['z_anom'] - beta_ft1[:, :, np.newaxis] * temp_anom[:, ind_ft]",
   "outputs": [],
   "execution_count": 208
  },
  {
   "metadata": {
    "ExecuteTime": {
     "end_time": "2025-02-20T11:51:51.227294Z",
     "start_time": "2025-02-20T11:51:51.207843Z"
    }
   },
   "cell_type": "code",
   "source": [
    "show_plot = False\n",
    "fig, ax = plt.subplots(2,1, figsize=(im_sz*width['one_col'], 2*im_sz*width['one_col']/ar), sharex=True)\n",
    "for i in range(n_kappa):\n",
    "    ax[0].plot(quant_plot, np.average(approx['ft_anom'], axis=1, weights=lat_weights)[i]/1000, color=color_exp[i], label=labels_exp[i])\n",
    "ax[0].legend()\n",
    "ax[1].plot(quant_plot, np.average(np.diff(approx['ft_anom'], axis=0).squeeze()/1000, axis=0, weights=lat_weights), color='k')\n",
    "ax[1].axhline(0, color='k', lw=ax_linewidth)\n",
    "ax[0].set_ylabel('$\\Delta A_{FT\\Delta}$ [kJ/kg]')\n",
    "ax[1].set_ylabel('$\\delta \\Delta A_{FT\\Delta}$ [kJ/kg]')\n",
    "ax[0].set_xlim(0, 100)\n",
    "if show_plot:\n",
    "    plt.show()\n",
    "else:\n",
    "    plt.close()"
   ],
   "outputs": [],
   "execution_count": 209
  },
  {
   "metadata": {},
   "cell_type": "markdown",
   "source": [
    "### Approx FT2 - Due to change in $\\tilde{\\beta}_{FT1}$, $\\tilde{A}_{FT\\beta}$\n",
    "Taking the change with warming of $(FT1)$, we get:\n",
    "\n",
    "$\\delta \\Delta h^{\\dagger}[x] = \\tilde{\\beta}_{FT1}\\delta \\Delta T_{FT}[x] + \\delta \\tilde{\\beta}_{FT1} \\left(\\Delta T_{FT}[x] + \\delta \\Delta T_{FT}[x]\\right) + \\delta A_{FT\\Delta}[x] + \\delta \\Delta A_z[x]$\n",
    "\n",
    "We can do a linear taylor expansion of $\\delta \\tilde{\\beta}_{FT1}$:\n",
    "\n",
    "$$\\delta \\tilde{\\beta}_{FT1} = \\tilde{\\beta}_{FT2}(1 + \\tilde{A}_{FT\\beta})\\frac{\\delta \\tilde{T}_{FT}}{\\tilde{T}_{FT}} \\tag{FT2}$$\n",
    "\n",
    "where $\\beta_{FT2} = T_{FT} \\frac{\\partial^2h^{\\dagger}}{\\partial T_{FT}^2} =  T_{FT}\\frac{d\\beta_{FT1}}{dT_{FT}} = L_v \\alpha_{FT} q^*_{FT}(\\alpha_{FT} T_{FT} - 2)$. Again, $\\tilde{A}_{FT\\beta}$ quantifies how accurate this linear approximation is, and it arises due to the non-linear temperature dependence of $q^*$. It is dimensionless. Putting this together, we get:\n",
    "\n",
    "$$\\delta \\Delta h^{\\dagger}[x] = \\tilde{\\beta}_{FT1}\\delta \\Delta T_{FT}[x] + \\tilde{\\beta}_{FT2}(1 + \\tilde{A}_{FT\\beta}) \\left(\\Delta T_{FT}[x] + \\delta \\Delta T_{FT}[x]\\right) \\frac{\\delta \\tilde{T}_{FT}}{\\tilde{T}_{FT}} + \\delta A_{FT\\Delta}[x] + \\delta \\Delta A_z[x] \\tag{1}$$"
   ]
  },
  {
   "metadata": {
    "ExecuteTime": {
     "end_time": "2025-02-20T11:51:51.234839Z",
     "start_time": "2025-02-20T11:51:51.232140Z"
    }
   },
   "cell_type": "code",
   "source": [
    "approx['ft_beta'] = np.diff(beta_ft1,axis=0).squeeze() * temp_ref[0, ind_ft] / np.diff(temp_ref[:, ind_ft],axis=0).squeeze() / beta_ft2[0] - 1\n",
    "print('A_FT_beta = {:.3g}'.format(np.average(approx['ft_beta'], axis=0, weights=lat_weights)))"
   ],
   "outputs": [
    {
     "name": "stdout",
     "output_type": "stream",
     "text": [
      "A_FT_beta = 0.191\n"
     ]
    }
   ],
   "execution_count": 210
  },
  {
   "metadata": {},
   "cell_type": "markdown",
   "source": [
    "### Approx FT3 - Due to change in $\\tilde{h}^{\\dagger}$, $\\tilde{A}_{FT\\delta}$\n",
    "We want to replace $\\delta \\tilde{T}_{FT}$ in $(1)$ with $\\tilde{h}^{\\dagger}$ because we can then link $\\tilde{h}^{\\dagger}$ to change in reference surface temperature. To do this, we need an alagous equation to $(FT1)$ but for change in reference with warming:\n",
    "\n",
    "$$\\delta \\tilde{h}^{\\dagger} = \\tilde{\\beta}_{FT1}\\delta \\tilde{T}_{FT} + \\tilde{A}_{FT\\delta} + \\delta \\tilde{A}_z \\tag{FT3}$$\n",
    "\n",
    "Substituting this into $(1)$, we get:\n",
    "\n",
    "$$\\begin{align}\n",
    "\\delta \\Delta h^{\\dagger}[x] &= \\tilde{\\beta}_{FT1}\\delta T_{FT}[x] - \\delta \\tilde{h}^{\\dagger}\n",
    "+ \\frac{\\tilde{\\beta}_{FT2}}{\\tilde{\\beta}_{FT1}}(1 + \\tilde{A}_{FT\\beta})\n",
    "\\frac{\\tilde{\\beta}_{FT1}(\\Delta T_{FT}[x] + \\delta T_{FT}[x]) - \\delta \\tilde{h}^{\\dagger} + \\tilde{A}_{FT\\delta} + \\delta \\tilde{A}_z}{\\tilde{\\beta}_{FT1}\\tilde{T}_{FT}}\n",
    "(\\delta \\tilde{h}^{\\dagger} - \\tilde{A}_{FT\\delta} - \\delta \\tilde{A}_z) \\\\\n",
    "&+ \\tilde{A}_{FT\\delta} + \\delta \\tilde{A}_z  + \\delta A_{FT\\Delta}[x] + \\delta \\Delta A_z[x]\n",
    "\\end{align} \\tag{2}$$\n",
    "\n",
    "where we have used:\n",
    "\n",
    "$\\tilde{\\beta}_{FT1} \\delta \\Delta T_{FT}[x] = \\tilde{\\beta}_{FT1} (\\delta T_{FT}[x] - \\delta \\tilde{T}_{FT})\n",
    "= \\tilde{\\beta}_{FT1} \\delta T_{FT}[x] - \\delta \\tilde{h}^{\\dagger} + \\tilde{A}_{FT\\delta} + \\delta \\tilde{A}_z$"
   ]
  },
  {
   "metadata": {
    "ExecuteTime": {
     "end_time": "2025-02-20T11:51:51.269990Z",
     "start_time": "2025-02-20T11:51:51.266679Z"
    }
   },
   "cell_type": "code",
   "source": [
    "approx['ft_change'] = np.diff(mse_mod_ref,axis=0).squeeze() - beta_ft1[0] * np.diff(temp_ref[:, ind_ft],axis=0).squeeze() - \\\n",
    "                      np.diff(approx['z_ref'], axis=0).squeeze()\n",
    "print('A_FT_change = {:.3g}kJ/kg'.format(np.average(approx['ft_change'], axis=0, weights=lat_weights)/1000))"
   ],
   "outputs": [
    {
     "name": "stdout",
     "output_type": "stream",
     "text": [
      "A_FT_change = 0.747kJ/kg\n"
     ]
    }
   ],
   "execution_count": 211
  },
  {
   "metadata": {},
   "cell_type": "markdown",
   "source": [
    "### Replacing $\\Delta T_{FT}[x]$\n",
    "Our next step in getting an equation for $\\delta \\Delta h^{\\dagger}[x]$ from the free troposphere, is to replace $\\Delta T_{FT}[x]$ in the current climate, using $(FT1)$: $\\tilde{\\beta}_{FT1} \\Delta T_{FT}[x] = \\Delta h^{\\dagger}[x] - A_{FT\\Delta}[x] - \\Delta A_z[x]$. This is done below:\n",
    "\n",
    "$$\\begin{align}\n",
    "\\delta \\Delta h^{\\dagger}[x] &= \\tilde{\\beta}_{FT1}\\delta T_{FT}[x] - \\delta \\tilde{h}^{\\dagger}\n",
    "+ \\tilde{A}_{FT\\delta} + \\delta \\tilde{A}_z  + \\delta A_{FT\\Delta}[x] + \\delta \\Delta A_z[x] \\\\\n",
    "&+ \\frac{\\tilde{\\beta}_{FT2}}{\\tilde{\\beta}_{FT1}}(1 + \\tilde{A}_{FT\\beta})\n",
    "\\frac{\\Delta h^{\\dagger}[x] + \\tilde{\\beta}_{FT1}\\delta T_{FT}[x] - \\delta \\tilde{h}^{\\dagger} - A_{FT\\Delta}[x] - \\Delta A_z[x] + \\tilde{A}_{FT\\delta} + \\delta \\tilde{A}_z}{\\tilde{\\beta}_{FT1}\\tilde{T}_{FT}}\n",
    "(\\delta \\tilde{h}^{\\dagger} - \\tilde{A}_{FT\\delta} - \\delta \\tilde{A}_z)\n",
    "\\end{align} \\tag{3}$$"
   ]
  },
  {
   "metadata": {},
   "cell_type": "markdown",
   "source": [
    "### Approximation S1 - Anomaly, $A_{s\\Delta}$\n",
    "We replaced $\\Delta T_{FT}[x]$ with $\\Delta h^{\\dagger}[x]$ in $(3)$, because now we can link $\\Delta h^{\\dagger}[x]$ to surface variables, thus highlighting physical mechanisms associated with the surface variables in the current climate.\n",
    "\n",
    "To link $\\Delta h^{\\dagger}[x]$ to surface variable anomalies, we use the LHS of $(Z1)$, and do a similar taylor expansion to what we did in $(1)$, but now we have to deal with the non-linear variation due to anomalous surface temperature and relative humidity, i.e. there is a $\\Delta T_s[x] \\Delta r_s[x]$ term:\n",
    "\n",
    "$$\\Delta h^{\\dagger}[x] = \\tilde{\\beta}_{s1}\\left(1 + \\tilde{\\mu}\\frac{\\Delta r_s[x]}{\\tilde{r}_s}\\right)\\Delta T_s[x] + L_v \\tilde{q}_s\\frac{\\Delta r_s[x]}{\\tilde{r}_s} - \\Delta \\epsilon[x] + A_{s\\Delta}[x] = \\Delta h^{\\dagger}_0[x] + A_{s\\Delta}[x] \\tag{S1}$$\n",
    "\n",
    "where $\\beta_{s1} = \\frac{\\partial h^{\\dagger}}{\\partial T_s} = c_p - R^{\\dagger} + L_v \\alpha_sq_s$ and $\\mu = 1 - \\frac{c_p - R^{\\dagger}}{c_p - R^{\\dagger} + L_v \\alpha_s q_s} = \\frac{L_v \\alpha_s q_s}{\\beta_{s1}}$; such that $\\frac{\\partial^2 h^{\\dagger}}{\\partial T_s \\partial r_s} = \\frac{\\beta_{s1}\\mu}{r_s}$.\n",
    "\n",
    "Substituting $(S1)$ into $(3)$ gives:\n",
    "\n",
    "$$\\begin{align}\n",
    "\\delta \\Delta h^{\\dagger}[x] &= \\tilde{\\beta}_{FT1}\\delta T_{FT}[x] - \\delta \\tilde{h}^{\\dagger}\n",
    "+ \\tilde{A}_{FT\\delta} + \\delta \\tilde{A}_z  + \\delta A_{FT\\Delta}[x] + \\delta \\Delta A_z[x] \\\\\n",
    "&+ \\frac{\\tilde{\\beta}_{FT2}}{\\tilde{\\beta}_{FT1}}(1 + \\tilde{A}_{FT\\beta})\n",
    "\\frac{\\Delta h^{\\dagger}_0[x] + \\tilde{\\beta}_{FT1}\\delta T_{FT}[x] - \\delta \\tilde{h}^{\\dagger}\n",
    "+ A_{s\\Delta}[x] - A_{FT\\Delta}[x] - \\Delta A_z[x] + \\tilde{A}_{FT\\delta} + \\delta \\tilde{A}_z}{\\tilde{\\beta}_{FT1}\\tilde{T}_{FT}}\n",
    "(\\delta \\tilde{h}^{\\dagger} - \\tilde{A}_{FT\\delta} - \\delta \\tilde{A}_z)\n",
    "\\end{align} \\tag{4}$$"
   ]
  },
  {
   "metadata": {
    "ExecuteTime": {
     "end_time": "2025-02-20T11:51:51.302666Z",
     "start_time": "2025-02-20T11:51:51.299755Z"
    }
   },
   "cell_type": "code",
   "source": [
    "approx['s_anom'] = mse_mod_anom - beta_s1[:, :, np.newaxis] * (1 + mu[:, :, np.newaxis] * (r_anom/r_ref[:, :, np.newaxis])) * temp_anom[:, ind_surf] - \\\n",
    "                   L_v * sphum_ref[:, :, np.newaxis] * (r_anom/r_ref[:, :, np.newaxis]) + epsilon_anom"
   ],
   "outputs": [],
   "execution_count": 212
  },
  {
   "metadata": {
    "ExecuteTime": {
     "end_time": "2025-02-20T11:51:51.376932Z",
     "start_time": "2025-02-20T11:51:51.356469Z"
    }
   },
   "cell_type": "code",
   "source": [
    "show_plot = False\n",
    "fig, ax = plt.subplots(2,1, figsize=(im_sz*width['one_col'], 2*im_sz*width['one_col']/ar), sharex=True)\n",
    "for i in range(n_kappa):\n",
    "    ax[0].plot(quant_plot, np.average(approx['s_anom'], axis=1, weights=lat_weights)[i]/1000, color=color_exp[i], label=labels_exp[i])\n",
    "ax[0].legend()\n",
    "ax[1].plot(quant_plot, np.average(np.diff(approx['s_anom'], axis=0).squeeze()/1000, axis=0, weights=lat_weights), color='k')\n",
    "ax[1].axhline(0, color='k', lw=ax_linewidth)\n",
    "ax[0].set_ylabel('$\\Delta A_{s\\Delta}$ [kJ/kg]')\n",
    "ax[1].set_ylabel('$\\delta \\Delta A_{s\\Delta}$ [kJ/kg]')\n",
    "ax[0].set_xlim(0, 100)\n",
    "if show_plot:\n",
    "    plt.show()\n",
    "else:\n",
    "    plt.close()"
   ],
   "outputs": [],
   "execution_count": 213
  },
  {
   "metadata": {},
   "cell_type": "markdown",
   "source": [
    "### Approximation S2 - Due to change in $\\tilde{h}^{\\dagger}$, $\\tilde{A}_{s\\delta}$\n",
    "To get our final equation for $\\delta \\Delta h^{\\dagger}[x]$, derived from the RHS of $(Z1)$, we need to replace $\\delta \\tilde{h}^{\\dagger}$ with changes in the surface physical variables. To do this, we get an equation analagous to $(S1)$ but for change in warming of the reference modified MSE:\n",
    "\n",
    "$$\\delta \\tilde{h}^{\\dagger} = \\tilde{\\beta}_{s1}\\left(1 + \\tilde{\\mu}\\frac{\\delta \\tilde{r}_s}{\\tilde{r}_s}\\right)\\delta \\tilde{T}_s\n",
    "+ L_v \\tilde{q}_s\\frac{\\delta \\tilde{r}_s}{\\tilde{r}_s} - \\delta \\tilde{\\epsilon} + \\tilde{A}_{s\\delta}\n",
    "= \\delta \\tilde{h}^{\\dagger}_0 + \\tilde{A}_{s\\delta} \\tag{S2}$$\n",
    "\n",
    "Substituting $(S2)$ into $(4)$, we get get our final equation for $\\delta \\Delta h^{\\dagger}[x]$:\n",
    "\n",
    "$$\\begin{align}\n",
    "\\delta \\Delta h^{\\dagger}[x] &= \\tilde{\\beta}_{FT1}\\delta T_{FT}[x] - \\delta \\tilde{h}^{\\dagger}_0\n",
    "- \\tilde{A}_{s\\delta} + \\tilde{A}_{FT\\delta} + \\delta \\tilde{A}_z  + \\delta A_{FT\\Delta}[x] + \\delta \\Delta A_z[x] \\\\\n",
    "&+ \\frac{\\tilde{\\beta}_{FT2}}{\\tilde{\\beta}_{FT1}}(1 + \\tilde{A}_{FT\\beta})\n",
    "\\frac{\\Delta h^{\\dagger}_0[x] + \\tilde{\\beta}_{FT1}\\delta T_{FT}[x] - \\delta \\tilde{h}^{\\dagger}_0\n",
    "- \\tilde{A}_{s\\delta} + A_{s\\Delta}[x] - A_{FT\\Delta}[x] - \\Delta A_z[x] + \\tilde{A}_{FT\\delta} + \\delta \\tilde{A}_z}{\\tilde{\\beta}_{FT1}\\tilde{T}_{FT}}\n",
    "(\\delta \\tilde{h}^{\\dagger}_0 + \\tilde{A}_{s\\delta} - \\tilde{A}_{FT\\delta} - \\delta \\tilde{A}_z)\n",
    "\\end{align} \\tag{5}$$"
   ]
  },
  {
   "metadata": {},
   "cell_type": "markdown",
   "source": [
    "Re-writing so approximations are additive, we get:\n",
    "\n",
    "$$\n",
    "\\begin{align}\n",
    "\\delta \\Delta h^{\\dagger}[x] &= \\frac{\\tilde{\\beta}_{FT2}}{\\tilde{\\beta}_{FT1}} \\frac{\\delta \\tilde{h}^{\\dagger}_0}{\\tilde{\\beta}_{FT1}\\tilde{T}_{FT}}\n",
    "\\Delta h^{\\dagger}_0[x] + \\left(1 + \\frac{\\tilde{\\beta}_{FT2}}{\\tilde{\\beta}_{FT1}}\n",
    "\\frac{\\delta \\tilde{h}^{\\dagger}_0}{\\tilde{\\beta}_{FT1}\\tilde{T}_{FT}}\\right) \\tilde{\\beta}_{FT1}\\delta \\Delta T_{FT}'[x] \\\\\n",
    "&+ \\delta A_{FT\\Delta}[x] + A_{\\Delta 1}[x] + \\tilde{A}_{\\delta 1}[x] + A'_z[x] + A_{NL1}[x]\n",
    " \\end{align}$$\n",
    "\n",
    "where $\\tilde{\\beta}_{FT1}\\delta \\Delta T_{FT}'[x] = \\tilde{\\beta}_{FT1} \\delta T_{FT}[x] - \\delta \\tilde{h}^{\\dagger}_0$."
   ]
  },
  {
   "metadata": {},
   "cell_type": "markdown",
   "source": [
    "The new error terms are:\n",
    "\n",
    "$$\\begin{align}\n",
    "A_{\\Delta 1}[x] &= \\frac{\\tilde{\\beta}_{FT2}}{\\tilde{\\beta}_{FT1}} \\frac{\\delta \\tilde{h}^{\\dagger}_0}{\\tilde{\\beta}_{FT1}\\tilde{T}_{FT}}\n",
    "(A_{s\\Delta}[x] - A_{FT\\Delta}[x]) \\\\\n",
    "\\tilde{A}_{\\delta 1}[x] &= -\\tilde{A}_{s\\delta} + \\tilde{A}_{FT\\delta} \\\\\n",
    "&+ \\frac{\\tilde{\\beta}_{FT2}}{\\tilde{\\beta}_{FT1}} \\frac{1}{\\tilde{\\beta}_{FT1}\\tilde{T}_{FT}}\n",
    "\\left[\\left(\\Delta h^{\\dagger}_0[x] + \\tilde{\\beta}_{FT1} \\delta \\Delta T_{FT}'[x] -\\tilde{A}_{s\\delta} + \\tilde{A}_{FT\\delta}\\right)\n",
    "\\left(\\delta \\tilde{h}^{\\dagger}_0 \\tilde{A}_{FT\\beta} + (1 + \\tilde{A}_{FT\\beta})(\\tilde{A}_{s\\delta} - \\tilde{A}_{FT\\delta})\\right)\n",
    "+ \\delta \\tilde{h}^{\\dagger}_0 (-\\tilde{A}_{s\\delta} + \\tilde{A}_{FT\\delta})\\right]\\\\\n",
    "\\Delta A_z'[x] &= -\\frac{\\tilde{\\beta}_{FT2}}{\\tilde{\\beta}_{FT1}} \\frac{\\delta \\tilde{h}^{\\dagger}_0 - \\delta \\tilde{A}_z}{\\tilde{\\beta}_{FT1}\\tilde{T}_{FT}}\n",
    "\\Delta A_z[x] \\\\\n",
    "\\delta \\tilde{A}_z'[x] &= -\\frac{\\tilde{\\beta}_{FT2}}{\\tilde{\\beta}_{FT1}} \\frac{1}{\\tilde{\\beta}_{FT1}\\tilde{T}_{FT}}\n",
    "\\left(\\Delta h^{\\dagger}_0[x] + \\tilde{\\beta}_{FT1} \\delta \\Delta T_{FT}'[x] + \\delta \\tilde{A}_z\\right) \\delta \\tilde{A}_z \\\\\n",
    "A_z'[x] &= \\delta \\Delta A_z[x] + \\Delta A_z'[x] + \\delta \\tilde{A}_z' \\\\\n",
    "A_{NL1}[x] &= \\frac{\\tilde{\\beta}_{FT2}}{\\tilde{\\beta}_{FT1}} \\frac{1}{\\tilde{\\beta}_{FT1}\\tilde{T}_{FT}}\n",
    "\\bigg[\\delta \\tilde{h}^{\\dagger}_0 \\tilde{A}_{FT\\beta}(A_{s\\Delta}[x] - A_{FT\\Delta}[x] + \\delta \\tilde{A}_z - \\Delta A_z[x])\n",
    "-\\left(\\Delta h^{\\dagger}_0[x] + \\tilde{\\beta}_{FT1} \\delta \\Delta T_{FT}'[x] - \\tilde{A}_{s\\delta} + \\tilde{A}_{FT\\delta}\\right)\n",
    "\\tilde{A}_{FT\\beta}\\delta \\tilde{A}_{z}\\\\\n",
    "&+\\left(\\tilde{A}_{s\\delta} - \\tilde{A}_{FT\\delta}\\right) \\delta \\tilde{A}_{z}\n",
    "+ (1 + \\tilde{A}_{FT\\beta})(\\tilde{A}_{s\\delta} - \\tilde{A}_{FT\\delta} - \\delta \\tilde{A}_{z})\n",
    "(A_{s\\Delta}[x] - A_{FT\\Delta}[x] + \\delta \\tilde{A}_{z} - \\Delta A_z[x])\n",
    "+(\\delta \\tilde{A}_{z} - \\Delta A_z[x])\\delta \\tilde{A}_{z} \\bigg]\n",
    "\\end{align}$$\n",
    "\n",
    "Now, $A_{s\\Delta}'[x]$ quantifies the error due to expansion about reference day in current climate (combining both surface and free troposphere).\n",
    "$\\tilde{A}_{\\delta}'[x]$ quantifies the error due to change with warming of this reference day - this combines changes at the free troposphere (including $\\tilde{A}_{FT\\beta}$ and $\\tilde{A}_{FT\\delta}$) as well as at the surface ($\\tilde{A}_{s\\delta}$). $A_{NL1}$ combines all terms with more than one approximation multiplied together (with exception of $\\tilde{A}_{FT\\beta}(\\tilde{A}_{s\\delta} - \\tilde{A}_{FT\\delta})$ which is included in $\\tilde{A}_{\\delta}'[x]$ and $\\delta \\tilde{A}_{z} \\Delta A_z[x]$ which is included in $\\Delta A_z'[x]$)."
   ]
  },
  {
   "metadata": {},
   "cell_type": "markdown",
   "source": [
    "The new error terms are:\n",
    "\n",
    "$$\\begin{align}\n",
    "A_{\\Delta 1}[x] &= \\frac{\\tilde{\\beta}_{FT2}}{\\tilde{\\beta}_{FT1}} \\frac{\\delta \\tilde{h}^{\\dagger}_0}{\\tilde{\\beta}_{FT1}\\tilde{T}_{FT}}\n",
    "(A_{s\\Delta}[x] - A_{FT\\Delta}[x]) \\\\\n",
    "\\tilde{A}_{\\delta 1}[x] &= \\frac{\\tilde{\\beta}_{FT2}}{\\tilde{\\beta}_{FT1}} \\frac{1}{\\tilde{\\beta}_{FT1}\\tilde{T}_{FT}}\n",
    "\\left(\\Delta h^{\\dagger}_0[x] + \\tilde{\\beta}_{FT1} \\delta \\Delta T_{FT}[x]\\right)\n",
    "\\left(\\delta \\tilde{h}^{\\dagger}_0 \\tilde{A}_{FT\\beta} + (1 + \\tilde{A}_{FT\\beta})(\\tilde{A}_{s\\delta} - \\tilde{A}_{FT\\delta})\\right)\\\\\n",
    "\\Delta A_z'[x] &= -\\frac{\\tilde{\\beta}_{FT2}}{\\tilde{\\beta}_{FT1}} \\frac{\\delta \\tilde{h}^{\\dagger}_0 - \\delta \\tilde{A}_z}{\\tilde{\\beta}_{FT1}\\tilde{T}_{FT}}\n",
    "\\Delta A_z[x] \\\\\n",
    "\\delta \\tilde{A}_z'[x] &= -\\frac{\\tilde{\\beta}_{FT2}}{\\tilde{\\beta}_{FT1}} \\frac{1}{\\tilde{\\beta}_{FT1}\\tilde{T}_{FT}}\n",
    "\\left(\\Delta h^{\\dagger}_0[x] + \\tilde{\\beta}_{FT1} \\delta \\Delta T_{FT}[x]\\right) \\delta \\tilde{A}_z \\\\\n",
    "A_z'[x] &= \\delta \\Delta A_z[x] + \\Delta A_z'[x] + \\delta \\tilde{A}_z' \\\\\n",
    "A_{NL1}[x] &= \\frac{\\tilde{\\beta}_{FT2}}{\\tilde{\\beta}_{FT1}} \\frac{1}{\\tilde{\\beta}_{FT1}\\tilde{T}_{FT}}\n",
    "\\bigg[\\delta \\tilde{h}^{\\dagger}_0 \\tilde{A}_{FT\\beta}(A_{s\\Delta}[x] - A_{FT\\Delta}[x] - \\Delta A_z[x])\n",
    "-\\left(\\Delta h^{\\dagger}_0[x] + \\tilde{\\beta}_{FT1} \\delta \\Delta T_{FT}[x]\\right)\\tilde{A}_{FT\\beta}\\delta \\tilde{A}_{z}\\\\\n",
    "&+ (1 + \\tilde{A}_{FT\\beta})(\\tilde{A}_{s\\delta} - \\tilde{A}_{FT\\delta} - \\delta \\tilde{A}_{z})(A_{s\\Delta}[x] - A_{FT\\Delta}[x] - \\Delta A_z[x])\n",
    "- \\delta \\tilde{A}_{z} \\Delta A_z[x]\\bigg]\n",
    "\\end{align}$$\n",
    "\n",
    "Now, $A_{s\\Delta}'[x]$ quantifies the error due to expansion about reference day in current climate (combining both surface and free troposphere).\n",
    "$\\tilde{A}_{\\delta}'[x]$ quantifies the error due to change with warming of this reference day - this combines changes at the free troposphere (including $\\tilde{A}_{FT\\beta}$ and $\\tilde{A}_{FT\\delta}$) as well as at the surface ($\\tilde{A}_{s\\delta}$). $A_{NL1}$ combines all terms with more than one approximation multiplied together (with exception of $\\tilde{A}_{FT\\beta}(\\tilde{A}_{s\\delta} - \\tilde{A}_{FT\\delta})$ which is included in $\\tilde{A}_{\\delta}'[x]$ and $\\delta \\tilde{A}_{z} \\Delta A_z[x]$ which is included in $\\Delta A_z'[x]$)."
   ]
  },
  {
   "metadata": {
    "ExecuteTime": {
     "end_time": "2025-02-20T11:51:51.384549Z",
     "start_time": "2025-02-20T11:51:51.381455Z"
    }
   },
   "cell_type": "code",
   "source": [
    "approx['s_change'] = np.diff(mse_mod_ref, axis=0).squeeze() - beta_s1[0] * (1 + mu[0] * (np.diff(r_ref, axis=0).squeeze()/r_ref[0])\n",
    "                                                 ) * np.diff(temp_ref[:, ind_surf], axis=0).squeeze() - \\\n",
    "                   L_v * sphum_ref[0] * (np.diff(r_ref, axis=0).squeeze()/r_ref[0]) + np.diff(epsilon_ref, axis=0).squeeze()\n",
    "print('A_s_change = {:.3g}kJ/kg'.format(np.average(approx['s_change'], axis=0, weights=lat_weights)/1000))"
   ],
   "outputs": [
    {
     "name": "stdout",
     "output_type": "stream",
     "text": [
      "A_s_change = 1.51kJ/kg\n"
     ]
    }
   ],
   "execution_count": 214
  },
  {
   "metadata": {
    "ExecuteTime": {
     "end_time": "2025-02-20T11:51:51.422538Z",
     "start_time": "2025-02-20T11:51:51.412439Z"
    }
   },
   "cell_type": "code",
   "source": [
    "prefactor_mse_ft = beta_ft2[0]/beta_ft1[0]**2/temp_ref[0, ind_ft]\n",
    "mse_mod_ref_change0 = np.diff(mse_mod_ref, axis=0).squeeze() - approx['s_change']\n",
    "mse_mod_anom0 = mse_mod_anom[0] - approx['s_anom'][0]\n",
    "temp_ft_anom_change_mod = np.diff(temp_quant3[:, ind_ft], axis=0).squeeze() - (mse_mod_ref_change0 / beta_ft1[0])[:, np.newaxis]\n",
    "\n",
    "# First just give linear taylor series terms\n",
    "mse_mod_anom_ft_change_cont = {'ft_change': beta_ft1[0][:, np.newaxis] * temp_ft_anom_change_mod,\n",
    "                      'ft_change_nl': (prefactor_mse_ft * mse_mod_ref_change0 * beta_ft1[0])[:, np.newaxis] *\n",
    "                                      temp_ft_anom_change_mod,\n",
    "                      't_anom': (prefactor_mse_ft * mse_mod_ref_change0 * beta_s1[0])[:, np.newaxis] * temp_anom[0, ind_surf],\n",
    "                      't_r_anom': (prefactor_mse_ft * mse_mod_ref_change0 * beta_s1[0])[:, np.newaxis] *\n",
    "                                  (mu[0, :, np.newaxis] * (r_anom[0]/r_ref[0, :, np.newaxis])) * temp_anom[0, ind_surf],\n",
    "                      'r_anom': (prefactor_mse_ft * mse_mod_ref_change0 * L_v * sphum_ref[0])[:, np.newaxis] *\n",
    "                                  (r_anom[0]/r_ref[0, :, np.newaxis]),\n",
    "                      'epsilon_anom': -(prefactor_mse_ft * mse_mod_ref_change0)[:, np.newaxis] * epsilon_anom[0]}\n",
    "\n",
    "mse_mod_anom_ft_change_cont['approx_anom_change'] = np.diff(approx['ft_anom'], axis=0).squeeze()\n",
    "\n",
    "mse_mod_anom_ft_change_cont['approx_anom'] = (prefactor_mse_ft * mse_mod_ref_change0)[:, np.newaxis] * (approx['s_anom'] - approx['ft_anom'])[0]\n",
    "\n",
    "var_ref_change = approx['s_change'] - approx['ft_change']\n",
    "# Due to beta approx and var_ref_change squared\n",
    "mse_mod_anom_ft_change_cont['approx_ref_change'] = (prefactor_mse_ft * (\n",
    "        mse_mod_ref_change0 * approx['ft_beta'] + (1 + approx['ft_beta']) * var_ref_change))[:, np.newaxis] * (\n",
    "        mse_mod_anom0 + beta_ft1[0, :, np.newaxis] * temp_ft_anom_change_mod - var_ref_change[:, np.newaxis])\n",
    "# Due to just var_ref_change\n",
    "mse_mod_anom_ft_change_cont['approx_ref_change'] -= var_ref_change[:, np.newaxis] + \\\n",
    "                                                    (prefactor_mse_ft * mse_mod_ref_change0 * var_ref_change)[:, np.newaxis]\n",
    "\n",
    "# mse_mod_anom_ft_change_cont['approx_z_anom_change'] = np.diff(approx['z_anom'], axis=0).squeeze()\n",
    "# mse_mod_anom_ft_change_cont['approx_z_anom'] = -(prefactor_mse_ft * (mse_mod_ref_change0 - np.diff(approx['z_ref'], axis=0).squeeze())\n",
    "#                                                  )[:, np.newaxis] * approx['z_anom'][0]\n",
    "# mse_mod_anom_ft_change_cont['approx_z_ref_change'] = -(prefactor_mse_ft * np.diff(approx['z_ref'], axis=0).squeeze())[:, np.newaxis] * (\n",
    "#         mse_mod_anom0 + beta_ft1[0, :, np.newaxis] * np.diff(temp_anom[:, ind_ft], axis=0).squeeze())\n",
    "\n",
    "# Combine all z errors into single value as z_ref error usually zero\n",
    "mse_mod_anom_ft_change_cont['approx_z'] = np.diff(approx['z_anom'], axis=0).squeeze() # change in z_anom\n",
    "mse_mod_anom_ft_change_cont['approx_z'] -= (prefactor_mse_ft * mse_mod_ref_change0)[:, np.newaxis] * approx['z_anom'][0]    # z_anom in current climate\n",
    "# non-linear: anomaly in current climate and change in ref climate\n",
    "mse_mod_anom_ft_change_cont['approx_z'] += (prefactor_mse_ft * np.diff(approx['z_ref'], axis=0).squeeze())[:, np.newaxis] * approx['z_anom'][0]\n",
    "# Change in ref climate\n",
    "mse_mod_anom_ft_change_cont['approx_z'] -= (prefactor_mse_ft * np.diff(approx['z_ref'], axis=0).squeeze())[:, np.newaxis] * (\n",
    "        mse_mod_anom0 + beta_ft1[0, :, np.newaxis] * temp_ft_anom_change_mod + np.diff(approx['z_ref'], axis=0).squeeze()[:, np.newaxis])\n",
    "\n",
    "# Due to beta and approx in second term\n",
    "mse_mod_anom_ft_change_cont['approx_nl'] = (prefactor_mse_ft * mse_mod_ref_change0 * approx['ft_beta'])[:, np.newaxis] * (\n",
    "        approx['s_anom'] - approx['ft_anom'] + np.diff(approx['z_ref'], axis=0).squeeze()[:, np.newaxis] - approx['z_anom'])[0]\n",
    "# Due to (beta, no approx in second term, z_ref in third term) + (beta, var_ref_change in second term, z_ref in third term)\n",
    "mse_mod_anom_ft_change_cont['approx_nl'] -= (prefactor_mse_ft * approx['ft_beta'] *\n",
    "                                             np.diff(approx['z_ref'], axis=0).squeeze())[:, np.newaxis] * (\n",
    "        mse_mod_anom0 + beta_ft1[0, :, np.newaxis] * temp_ft_anom_change_mod - var_ref_change[:, np.newaxis])\n",
    "# Due to var_ref_change in second term, z_ref in third term\n",
    "mse_mod_anom_ft_change_cont['approx_nl'] += (prefactor_mse_ft * np.diff(approx['z_ref'], axis=0).squeeze() * var_ref_change)[:, np.newaxis]\n",
    "# Due to (ref_change and anom) as well as (ref_change, anom and beta)\n",
    "mse_mod_anom_ft_change_cont['approx_nl'] += (prefactor_mse_ft * (1 + approx['ft_beta']) * (\n",
    "        approx['s_change'] - approx['ft_change'] - np.diff(approx['z_ref'], axis=0).squeeze()))[:, np.newaxis] * (\n",
    "        approx['s_anom'][0] - approx['ft_anom'][0] + np.diff(approx['z_ref'], axis=0).squeeze()[:, np.newaxis] - approx['z_anom'][0])\n",
    "# Account for fact that non-linear z term is included in ['approx_z']\n",
    "mse_mod_anom_ft_change_cont['approx_nl'] += (prefactor_mse_ft * np.diff(approx['z_ref'], axis=0).squeeze())[:, np.newaxis] * (\n",
    "        np.diff(approx['z_ref'], axis=0).squeeze()[:, np.newaxis] - approx['z_anom'][0])"
   ],
   "outputs": [],
   "execution_count": 215
  },
  {
   "metadata": {
    "ExecuteTime": {
     "end_time": "2025-02-20T11:51:51.452625Z",
     "start_time": "2025-02-20T11:51:51.450017Z"
    }
   },
   "cell_type": "code",
   "source": [
    "print('Max Diff: {:.2g}'.format(np.abs(np.sum(np.array(list(mse_mod_anom_ft_change_cont.values())), axis=0) -\n",
    "                                       np.diff(mse_mod_anom, axis=0).squeeze()).max()))"
   ],
   "outputs": [
    {
     "name": "stdout",
     "output_type": "stream",
     "text": [
      "Max Diff: 4.9e-08\n"
     ]
    }
   ],
   "execution_count": 216
  },
  {
   "metadata": {
    "ExecuteTime": {
     "end_time": "2025-02-20T11:51:51.483929Z",
     "start_time": "2025-02-20T11:51:51.481059Z"
    }
   },
   "cell_type": "code",
   "source": [
    "# # OLD COMPUTATION OF TERMS\n",
    "# prefactor_mse_ft = beta_ft2[0]/beta_ft1[0]**2/temp_ref[0, ind_ft]\n",
    "# mse_mod_ref_change0 = np.diff(mse_mod_ref, axis=0).squeeze() - approx['s_change']\n",
    "# mse_mod_anom0 = mse_mod_anom[0] - approx['s_anom'][0]\n",
    "#\n",
    "# # First just give linear taylor series terms\n",
    "# mse_mod_anom_ft_change_cont = {'ft_change': beta_ft1[0][:, np.newaxis] * np.diff(temp_anom[:, ind_ft], axis=0).squeeze(),\n",
    "#                       'ft_change_nl': (prefactor_mse_ft * mse_mod_ref_change0 * beta_ft1[0])[:, np.newaxis] *\n",
    "#                                       np.diff(temp_anom[:, ind_ft], axis=0).squeeze(),\n",
    "#                       't_anom': (prefactor_mse_ft * mse_mod_ref_change0 * beta_s1[0])[:, np.newaxis] * temp_anom[0, ind_surf],\n",
    "#                       't_r_anom': (prefactor_mse_ft * mse_mod_ref_change0 * beta_s1[0])[:, np.newaxis] *\n",
    "#                                   (mu[0, :, np.newaxis] * (r_anom[0]/r_ref[0, :, np.newaxis])) * temp_anom[0, ind_surf],\n",
    "#                       'r_anom': (prefactor_mse_ft * mse_mod_ref_change0 * L_v * sphum_ref[0])[:, np.newaxis] *\n",
    "#                                   (r_anom[0]/r_ref[0, :, np.newaxis]),\n",
    "#                       'epsilon_anom': -(prefactor_mse_ft * mse_mod_ref_change0)[:, np.newaxis] * epsilon_anom[0]}\n",
    "#\n",
    "# mse_mod_anom_ft_change_cont['approx_anom_change'] = np.diff(approx['ft_anom'], axis=0).squeeze()\n",
    "#\n",
    "# mse_mod_anom_ft_change_cont['approx_anom'] = (prefactor_mse_ft * mse_mod_ref_change0)[:, np.newaxis] * (approx['s_anom'] - approx['ft_anom'])[0]\n",
    "# mse_mod_anom_ft_change_cont['approx_ref_change'] = (prefactor_mse_ft * (\n",
    "#         mse_mod_ref_change0 * approx['ft_beta'] + (1 + approx['ft_beta']) * (approx['s_change'] - approx['ft_change'])))[:, np.newaxis] * (\n",
    "#         mse_mod_anom0 + beta_ft1[0, :, np.newaxis] * np.diff(temp_anom[:, ind_ft], axis=0).squeeze())\n",
    "#\n",
    "# # mse_mod_anom_ft_change_cont['approx_z_anom_change'] = np.diff(approx['z_anom'], axis=0).squeeze()\n",
    "# # mse_mod_anom_ft_change_cont['approx_z_anom'] = -(prefactor_mse_ft * (mse_mod_ref_change0 - np.diff(approx['z_ref'], axis=0).squeeze())\n",
    "# #                                                  )[:, np.newaxis] * approx['z_anom'][0]\n",
    "# # mse_mod_anom_ft_change_cont['approx_z_ref_change'] = -(prefactor_mse_ft * np.diff(approx['z_ref'], axis=0).squeeze())[:, np.newaxis] * (\n",
    "# #         mse_mod_anom0 + beta_ft1[0, :, np.newaxis] * np.diff(temp_anom[:, ind_ft], axis=0).squeeze())\n",
    "#\n",
    "# # Combine all z errors into single value as z_ref error usually zero\n",
    "# mse_mod_anom_ft_change_cont['approx_z'] = np.diff(approx['z_anom'], axis=0).squeeze() # change in z_anom\n",
    "# mse_mod_anom_ft_change_cont['approx_z'] -= (prefactor_mse_ft * mse_mod_ref_change0)[:, np.newaxis] * approx['z_anom'][0]    # z_anom in current climate\n",
    "# # non-linear: anomaly in current climate and change in ref climate\n",
    "# mse_mod_anom_ft_change_cont['approx_z'] += (prefactor_mse_ft * np.diff(approx['z_ref'], axis=0).squeeze())[:, np.newaxis] * approx['z_anom'][0]\n",
    "# # Change in ref climate\n",
    "# mse_mod_anom_ft_change_cont['approx_z'] -= (prefactor_mse_ft * np.diff(approx['z_ref'], axis=0).squeeze())[:, np.newaxis] * (\n",
    "#         mse_mod_anom0 + beta_ft1[0, :, np.newaxis] * np.diff(temp_anom[:, ind_ft], axis=0).squeeze())\n",
    "#\n",
    "# # Due to beta and anom\n",
    "# mse_mod_anom_ft_change_cont['approx_nl'] = (prefactor_mse_ft * mse_mod_ref_change0 * approx['ft_beta'])[:, np.newaxis] * (\n",
    "#         approx['s_anom'] - approx['ft_anom'] - approx['z_anom'])[0]\n",
    "# # Due to beta and z_ref\n",
    "# mse_mod_anom_ft_change_cont['approx_nl'] -= (prefactor_mse_ft * approx['ft_beta'] *\n",
    "#                                              np.diff(approx['z_ref'], axis=0).squeeze())[:, np.newaxis] * (\n",
    "#         mse_mod_anom0 + beta_ft1[0, :, np.newaxis] * np.diff(temp_anom[:, ind_ft], axis=0).squeeze())\n",
    "# # Due to (ref_change and anom) as well as (ref_change, anom and beta)\n",
    "# mse_mod_anom_ft_change_cont['approx_nl'] += (prefactor_mse_ft * (1 + approx['ft_beta']) * (\n",
    "#         approx['s_change'] - approx['ft_change'] - np.diff(approx['z_ref'], axis=0).squeeze()))[:, np.newaxis] * (\n",
    "#         approx['s_anom'][0] - approx['ft_anom'][0] - approx['z_anom'][0])\n",
    "# # Account for fact that non-linear z term is included in ['approx_z']\n",
    "# mse_mod_anom_ft_change_cont['approx_nl'] -= (prefactor_mse_ft * np.diff(approx['z_ref'], axis=0).squeeze())[:, np.newaxis] * approx['z_anom'][0]"
   ],
   "outputs": [],
   "execution_count": 217
  },
  {
   "metadata": {
    "ExecuteTime": {
     "end_time": "2025-02-20T11:51:51.710061Z",
     "start_time": "2025-02-20T11:51:51.513141Z"
    }
   },
   "cell_type": "code",
   "source": [
    "fig, ax = plt.subplots(1,3, figsize=(3*im_sz*width['one_col'], im_sz*width['one_col']/ar), sharex=True, sharey=True)\n",
    "ax[0].plot(quant_plot, np.average(np.diff(mse_mod_anom, axis=0).squeeze(), axis=0, weights=lat_weights)/1000, color='k', label='Simulated')\n",
    "# ax[0].plot(quant_plot, np.average(np.sum(np.array(list(mse_mod_anom_change_cont.values())), axis=0), axis=0, weights=lat_weights)/1000,\n",
    "#            color='k', linestyle=':')\n",
    "ax[0].plot(quant_plot, np.average(np.sum(np.array([mse_mod_anom_ft_change_cont[key] for key in mse_mod_anom_ft_change_cont if\n",
    "                                                   'approx' not in key]), axis=0),\n",
    "                                  axis=0, weights=lat_weights)/1000, color='k', linestyle=':', label='Approx')\n",
    "ax[0].plot(quant_plot, np.average(np.sum(np.array([mse_mod_anom_ft_change_cont[key] for key in mse_mod_anom_ft_change_cont if\n",
    "                                                   ('approx' not in key) and ('nl' not in key)]), axis=0),\n",
    "                                  axis=0, weights=lat_weights)/1000, color='k', linestyle='--', label='Approx - linear')\n",
    "for key in mse_mod_anom_ft_change_cont:\n",
    "    if 'approx' not in key:\n",
    "        ax[1].plot(quant_plot, np.average(mse_mod_anom_ft_change_cont[key], axis=0, weights=lat_weights) / 1000, label=key,\n",
    "                   linestyle=':' if 'nl' in key else None)\n",
    "    else:\n",
    "        ax[2].plot(quant_plot, np.average(mse_mod_anom_ft_change_cont[key], axis=0, weights=lat_weights) / 1000, label=key.replace('approx_', ''),\n",
    "                   linestyle=':' if 'nl' in key else None)\n",
    "for ax_use in ax:\n",
    "    ax_use.legend()\n",
    "    ax_use.axhline(0, color='k', lw=ax_linewidth)\n",
    "    ax_use.set_xlabel('Temperature Percentile, $x$')\n",
    "# ax[1].plot(quant_plot, np.average(np.diff(approx['s_anom'], axis=0).squeeze()/1000, axis=0, weights=lat_weights), color='k')\n",
    "# ax[1].axhline(0, color='k', lw=ax_linewidth)\n",
    "# ax[0].set_ylabel('$\\Delta A_{s\\Delta}$ [kJ/kg]')\n",
    "# ax[1].set_ylabel('$\\delta \\Delta A_{s\\Delta}$ [kJ/kg]')\n",
    "ax[0].set_xlim(0, 100)\n",
    "ax[0].set_ylabel('$\\delta \\Delta h^{\\dagger}$ Contribution [kJ/kg]')\n",
    "# if show_plot:\n",
    "#     plt.show()\n",
    "# else:\n",
    "#     plt.close()"
   ],
   "outputs": [
    {
     "data": {
      "text/plain": [
       "Text(0, 0.5, '$\\\\delta \\\\Delta h^{\\\\dagger}$ Contribution [kJ/kg]')"
      ]
     },
     "execution_count": 218,
     "metadata": {},
     "output_type": "execute_result"
    },
    {
     "data": {
      "text/plain": [
       "<Figure size 1440x360 with 3 Axes>"
      ],
      "image/png": "[encoded data removed]"
     },
     "metadata": {},
     "output_type": "display_data"
    }
   ],
   "execution_count": 218
  },
  {
   "metadata": {},
   "cell_type": "markdown",
   "source": [
    "## Approximations associated with Surface Derivation of $\\delta \\Delta h^{\\dagger}$\n",
    "Taking the change with warming of $(S1)$, we get (using $\\delta (\\tilde{\\mu}\\tilde{\\beta}_{s1}) = \\delta \\tilde{\\beta}_{s1}$):\n",
    "\n",
    "$$\\begin{align}\n",
    "\\delta \\Delta h^{\\dagger}[x] &= \\left[\\tilde{\\beta}_{s1} + \\tilde{\\mu}\\tilde{\\beta}_{s1} \\frac{\\Delta r_s[x]}{\\tilde{r}_s}\n",
    "+ \\left(1 + \\frac{\\Delta r_s[x]}{\\tilde{r}_s}\\right) \\delta \\tilde{\\beta}_{s1}\n",
    "+ (\\tilde{\\mu}\\tilde{\\beta}_{s1} + \\delta \\tilde{\\beta}_{s1})\\delta \\left(\\frac{\\Delta r_s[x]}{\\tilde{r}_s}\\right)\\right]\\delta \\Delta T_s[x] \\\\\n",
    "&+ \\left[L_v\\tilde{q}_s + \\delta(L_v \\tilde{q}_s) + (\\tilde{\\mu}\\tilde{\\beta}_{s1} + \\delta \\tilde{\\beta}_{s1})\\Delta T_s[x]\\right]\n",
    " \\delta \\left(\\frac{\\Delta r_s[x]}{\\tilde{r}_s}\\right)\\\\\n",
    " &+ \\left(1 + \\frac{\\Delta r_s[x]}{\\tilde{r}_s}\\right)\\Delta T_s[x] \\delta \\tilde{\\beta}_{s1} + \\frac{\\Delta r_s[x]}{\\tilde{r}_s} \\delta(L_v \\tilde{q}_s)\n",
    " - \\delta \\Delta \\epsilon[x] + \\delta A_{s\\Delta}[x]\n",
    " \\end{align}\\tag{6}$$\n",
    "\n",
    "We can replace $\\delta (L_v \\tilde{q}_s)$ using the definition for $\\tilde{h}^{\\dagger}$, and then using $(S2)$, as well as noting $\\tilde{\\mu}\\tilde{\\beta}_{s1} = L_v\\tilde{\\alpha}_s \\tilde{q}_s = \\tilde{\\beta}_{s1} - (c_p-R^{\\dagger})\\tilde{T}_s$:\n",
    "\n",
    "$$\\delta (L_v \\tilde{q}_s) = \\delta \\left(\\tilde{h}^{\\dagger} + \\tilde{\\epsilon} - (c_p-R^{\\dagger})\\tilde{T}_s\\right)\n",
    "= \\tilde{\\mu}\\tilde{\\beta}_{s1}\\left(1 + \\frac{\\delta \\tilde{r}_s}{\\tilde{r}_s} \\right)\\delta \\tilde{T}_s\n",
    "+ L_v\\tilde{q}_s \\frac{\\delta \\tilde{r}_s}{\\tilde{r}_s} + \\tilde{A}_{s\\delta}\\tag{7}$$"
   ]
  },
  {
   "metadata": {
    "ExecuteTime": {
     "end_time": "2025-02-20T11:51:51.742252Z",
     "start_time": "2025-02-20T11:51:51.739490Z"
    }
   },
   "cell_type": "code",
   "source": [
    "# Sanity check that equation 7 is correct\n",
    "# beta_s1[0] - (c_p-R_mod) - mu[0] * beta_s1[0]\n",
    "sphum_ref_change_eqn = mu[0] * beta_s1[0] * (1 + np.diff(r_ref, axis=0).squeeze()/r_ref[0]) * np.diff(temp_ref[:, ind_surf], axis=0).squeeze() + \\\n",
    "                       L_v * sphum_ref[0] * np.diff(r_ref, axis=0).squeeze()/r_ref[0] + approx['s_change']\n",
    "sphum_ref_change_eqn = sphum_ref_change_eqn / L_v\n",
    "print(sphum_ref_change_eqn - np.diff(sphum_ref, axis=0).squeeze())"
   ],
   "outputs": [
    {
     "name": "stdout",
     "output_type": "stream",
     "text": [
      "[-3.46944695e-18  2.60208521e-18 -2.94902991e-17  8.23993651e-18\n",
      " -7.80625564e-18  3.07913417e-17 -4.33680869e-19 -4.20670443e-17\n",
      " -3.90312782e-18  2.34187669e-17 -1.60461922e-17 -2.68882139e-17\n",
      " -4.33680869e-19  2.90566182e-17]\n"
     ]
    }
   ],
   "execution_count": 219
  },
  {
   "metadata": {},
   "cell_type": "markdown",
   "source": [
    "### Approx S3 - Due to non-linear changes with warming\n",
    "Now lets combine all terms with non-linear changes. We decide that a non-linear term is one with at least 4 combined $\\delta$ and $\\Delta$ symbols e.g.  $\\delta \\Delta \\chi_1\\delta \\tilde{\\chi}_2 \\delta \\tilde{\\chi}_3$ or $\\delta \\Delta \\chi_1\\delta \\Delta \\chi_2$. We do this as both $\\delta$ and $\\Delta$ should be small, so when this many multiplied together, should be very small indeed.\n",
    "\n",
    "$$A_{NL2}[x] = \\frac{\\Delta r_s[x]}{\\tilde{r}_s} \\delta \\tilde{\\beta}_{s1}\\delta \\Delta T_s[x]\n",
    "+ \\left[\\tilde{\\mu}\\tilde{\\beta}_{s1} \\frac{\\delta \\tilde{r}_s}{\\tilde{r}_s}\\delta\\tilde{T}_s + \\Delta T_s[x] \\delta \\tilde{\\beta}_{s1}\n",
    "\\right]\\delta \\left(\\frac{\\Delta r_s[x]}{\\tilde{r}_s}\\right)\n",
    "+ (\\tilde{\\mu}\\tilde{\\beta}_{s1} + \\delta \\tilde{\\beta}_{s1})\\delta \\left(\\frac{\\Delta r_s[x]}{\\tilde{r}_s}\\right) \\delta \\Delta T_s[x] \\tag{S3}$$\n",
    "\n",
    "Combining $(6)$, $(7)$ and $(S3)$, we get:\n",
    "\n",
    "$$\\begin{align}\n",
    "\\delta \\Delta h^{\\dagger}[x] &= \\left[\\tilde{\\beta}_{s1} + \\tilde{\\mu}\\tilde{\\beta}_{s1} \\frac{\\Delta r_s[x]}{\\tilde{r}_s}\n",
    "+ \\delta \\tilde{\\beta}_{s1}\\right]\\delta \\Delta T_s[x]\n",
    "+ \\left[L_v\\tilde{q}_s \\left(1 + \\frac{\\delta \\tilde{r}_s}{\\tilde{r}_s}\\right) + \\tilde{\\mu}\\tilde{\\beta}_{s1}(\\Delta T_s[x] + \\delta \\tilde{T}_s)\\right]\n",
    " \\delta \\left(\\frac{\\Delta r_s[x]}{\\tilde{r}_s}\\right)\\\\\n",
    "&+ \\left(1 + \\frac{\\Delta r_s[x]}{\\tilde{r}_s}\\right)\\Delta T_s[x] \\delta \\tilde{\\beta}_{s1}\n",
    "+ \\tilde{\\mu}\\tilde{\\beta}_{s1}\\left(1 + \\frac{\\delta \\tilde{r}_s}{\\tilde{r}_s} \\right) \\frac{\\Delta r_s[x]}{\\tilde{r}_s} \\delta \\tilde{T}_s\n",
    "+ L_v\\tilde{q}_s \\frac{\\Delta r_s[x]}{\\tilde{r}_s} \\frac{\\delta \\tilde{r}_s}{\\tilde{r}_s}\n",
    "- \\delta \\Delta \\epsilon[x] \\\\\n",
    "&+ \\left[\\frac{\\Delta r_s[x]}{\\tilde{r}_s}  + \\delta \\left(\\frac{\\Delta r_s[x]}{\\tilde{r}_s} \\right) \\right]\\tilde{A}_{s\\delta}\n",
    "+ A_{NL2}[x] + \\delta A_{s\\Delta}[x]\n",
    " \\end{align}\\tag{8}$$"
   ]
  },
  {
   "metadata": {
    "ExecuteTime": {
     "end_time": "2025-02-20T11:51:51.773407Z",
     "start_time": "2025-02-20T11:51:51.768549Z"
    }
   },
   "cell_type": "code",
   "source": [
    "# approx['s_temp_nl'] = ((1+r_anom[0]/r_ref[0, :, np.newaxis]) * np.diff(beta_s1, axis=0).squeeze()[:, np.newaxis] +\n",
    "#                        (mu[0]*beta_s1[0] + np.diff(beta_s1, axis=0).squeeze())[:, np.newaxis] * np.diff(r_anom/r_ref[:, :, np.newaxis], axis=0).squeeze())\n",
    "# approx['s_temp_nl'] *= np.diff(temp_anom[:, ind_surf], axis=0).squeeze()\n",
    "#\n",
    "# approx['s_r_nl'] = (L_v * sphum_ref[0] * np.diff(r_ref, axis=0).squeeze()/r_ref[0] +\n",
    "#                     mu[0]*beta_s1[0] * (1 + np.diff(r_ref, axis=0).squeeze()/r_ref[0]) *\n",
    "#                     np.diff(temp_ref[:, ind_surf], axis=0).squeeze())[:, np.newaxis] + \\\n",
    "#                    np.diff(beta_s1, axis=0).squeeze()[:, np.newaxis] * temp_anom[0, ind_surf]\n",
    "# approx['s_r_nl'] *= np.diff(r_anom/r_ref[:, :, np.newaxis], axis=0).squeeze()\n",
    "\n",
    "approx['s_nl_temp_cont'] = r_anom[0]/r_ref[0, :, np.newaxis] * np.diff(beta_s1, axis=0).squeeze()[:, np.newaxis] * \\\n",
    "                           np.diff(temp_anom[:, ind_surf], axis=0).squeeze()\n",
    "approx['s_nl_r_cont'] = (mu[0]*beta_s1[0] * np.diff(r_ref, axis=0).squeeze()/r_ref[0] * np.diff(temp_ref[:, ind_surf], axis=0).squeeze())[:, np.newaxis] \\\n",
    "                        * np.diff(r_anom/r_ref[:, :, np.newaxis], axis=0).squeeze()\n",
    "approx['s_nl_r_cont'] += np.diff(beta_s1, axis=0).squeeze()[:, np.newaxis] * temp_anom[0, ind_surf] * \\\n",
    "                         np.diff(r_anom/r_ref[:, :, np.newaxis], axis=0).squeeze()\n",
    "approx['s_nl_temp_r_cont'] = (mu[0]*beta_s1[0] + np.diff(beta_s1, axis=0).squeeze())[:, np.newaxis] * \\\n",
    "                             np.diff(r_anom/r_ref[:, :, np.newaxis], axis=0).squeeze() * np.diff(temp_anom[:, ind_surf], axis=0).squeeze()\n",
    "approx['s_nl'] = approx['s_nl_temp_cont'] + approx['s_nl_r_cont'] + approx['s_nl_temp_r_cont']"
   ],
   "outputs": [],
   "execution_count": 220
  },
  {
   "metadata": {
    "ExecuteTime": {
     "end_time": "2025-02-20T11:51:51.844079Z",
     "start_time": "2025-02-20T11:51:51.828413Z"
    }
   },
   "cell_type": "code",
   "source": [
    "show_plot = False\n",
    "fig, ax = plt.subplots(1,1, figsize=(im_sz*width['one_col'], im_sz*width['one_col']/ar), sharex=True)\n",
    "# ax.plot(quant_plot, np.average(approx['s_temp_nl'], axis=0, weights=lat_weights)/1000, label=labels_exp[i])\n",
    "# ax.plot(quant_plot, np.average(approx['s_r_nl'], axis=0, weights=lat_weights)/1000, label=labels_exp[i])\n",
    "ax.plot(quant_plot, np.average(approx['s_nl'], axis=0, weights=lat_weights)/1000, color='k', label='Sum')\n",
    "ax.plot(quant_plot, np.average(approx['s_nl_temp_cont'], axis=0, weights=lat_weights)/1000, color='k', linestyle='--', label='$\\delta \\Delta T_s$')\n",
    "ax.plot(quant_plot, np.average(approx['s_nl_r_cont'], axis=0, weights=lat_weights)/1000, color='k', linestyle=':', label='$\\delta \\Delta r_s$')\n",
    "ax.plot(quant_plot, np.average(approx['s_nl_temp_r_cont'], axis=0, weights=lat_weights)/1000, color='k', linestyle='-.',\n",
    "        label='$\\delta \\Delta T_s \\delta \\Delta r_s$')\n",
    "# ax.plot(quant_plot, np.average(approx['s_nl3'], axis=0, weights=lat_weights)/1000, label=labels_exp[i])\n",
    "ax.legend()\n",
    "ax.axhline(0, color='k', lw=ax_linewidth)\n",
    "ax.set_ylabel('$\\Delta A_{NL2}$ [kJ/kg]')\n",
    "ax.set_xlim(0, 100)\n",
    "ax.set_xlabel('Temperature Percentile, $x$')\n",
    "if show_plot:\n",
    "    plt.show()\n",
    "else:\n",
    "    plt.close()"
   ],
   "outputs": [],
   "execution_count": 221
  },
  {
   "metadata": {},
   "cell_type": "markdown",
   "source": [
    "### Approx S4 - Due to change in $\\tilde{\\beta}_{s1}$, $\\tilde{A}_{s\\beta}$\n",
    "In an analagous way to $(FT2)$, we can do a linear taylor expansion of $\\delta \\tilde{\\beta}_{s1}$:\n",
    "\n",
    "$$\\delta \\tilde{\\beta}_{s1} = \\tilde{\\beta}_{s2}(1 + \\tilde{A}_{s\\beta}) \\left(1 + \\frac{\\delta \\tilde{r}_s}{\\tilde{r}_s}\\right)\n",
    "\\frac{\\delta \\tilde{T}_s}{\\tilde{T}_s} + \\tilde{\\mu}\\tilde{\\beta}_{s1} \\frac{\\delta \\tilde{r}_s}{\\tilde{r}_s} \\tag{S4}$$\n",
    "\n",
    "where $\\beta_{s2} = T_s \\frac{\\partial^2h^{\\dagger}}{\\partial T_s^2} =  T_s\\frac{\\partial \\beta_{s1}}{\\partial T_s} =\n",
    "T_s\\frac{\\partial (\\mu \\beta_{s1})}{\\partial T_s} = L_v \\alpha_s q_s(\\alpha_s T_s - 2)$. Again, $\\tilde{A}_{s\\beta}$ quantifies how accurate this linear approximation is, and it arises due to the non-linear temperature dependence of $q^*$. It is dimensionless. Combining this with $(8)$, we get:\n",
    "\n",
    "$$\\begin{align}\n",
    "\\delta \\Delta h^{\\dagger}[x] &= \\left[\\tilde{\\beta}_{s1} + \\tilde{\\mu}\\tilde{\\beta}_{s1} \\left(\\frac{\\Delta r_s[x]}{\\tilde{r}_s}\n",
    "+ \\frac{\\delta \\tilde{r}_s}{\\tilde{r}_s}\\right) + \\tilde{\\beta}_{s2} \\left(1 + \\frac{\\delta \\tilde{r}_s}{\\tilde{r}_s}\\right)\n",
    "\\frac{\\delta \\tilde{T}_s}{\\tilde{T}_s}\\right]\\delta \\Delta T_s[x]\n",
    "+ \\left[L_v\\tilde{q}_s \\left(1 + \\frac{\\delta \\tilde{r}_s}{\\tilde{r}_s}\\right) + \\tilde{\\mu}\\tilde{\\beta}_{s1}(\\Delta T_s[x] + \\delta \\tilde{T}_s)\\right]\n",
    " \\delta \\left(\\frac{\\Delta r_s[x]}{\\tilde{r}_s}\\right)\\\\\n",
    "&+ \\left[\\tilde{\\beta}_{s2} \\Delta T_s[x] \\left(1 + \\frac{\\Delta r_s[x]}{\\tilde{r}_s}\\right)\n",
    "+ \\tilde{\\mu}\\tilde{\\beta}_{s1} \\tilde{T}_s \\frac{\\Delta r_s[x]}{\\tilde{r}_s} \\right] \\left(1 + \\frac{\\delta \\tilde{r}_s}{\\tilde{r}_s}\\right)\n",
    "\\frac{\\delta \\tilde{T}_s}{\\tilde{T}_s}\n",
    "+ \\left[\\tilde{\\mu}\\tilde{\\beta}_{s1} \\Delta T_s[x] \\left(1 + \\frac{\\Delta r_s[x]}{\\tilde{r}_s} \\right)\n",
    "+ L_v \\tilde{q}_s \\frac{\\Delta r_s[x]}{\\tilde{r}_s} \\right]\\frac{\\delta \\tilde{r}_s}{\\tilde{r}_s} - \\delta \\Delta \\epsilon[x] \\\\\n",
    "&+ \\left[\\frac{\\Delta r_s[x]}{\\tilde{r}_s}  + \\delta \\left(\\frac{\\Delta r_s[x]}{\\tilde{r}_s} \\right) \\right]\\tilde{A}_{s\\delta}\n",
    "+ A_{NL2}[x] + \\delta A_{s\\Delta}[x]\n",
    "+ \\left[ \\delta \\Delta T_s[x]\n",
    "+ \\Delta T_s[x] \\left(1 + \\frac{\\Delta r_s[x]}{\\tilde{r}_s}\\right) \\right]\\left(1 + \\frac{\\delta \\tilde{r}_s}{\\tilde{r}_s}\\right)\n",
    "\\frac{\\delta \\tilde{T}_s}{\\tilde{T}_s} \\tilde{\\beta}_{s2} \\tilde{A}_{s\\beta}\n",
    "\\end{align}\\tag{9}$$\n",
    "\n",
    "Or re-writing, grouping together $\\Delta T_s[x]$ and $\\Delta r_s[x]$ terms:\n",
    "\n",
    "$$\\begin{align}\n",
    "\\delta \\Delta h^{\\dagger}[x] &= \\left[\\tilde{\\beta}_{s1} + \\tilde{\\mu}\\tilde{\\beta}_{s1} \\left(\\frac{\\Delta r_s[x]}{\\tilde{r}_s}\n",
    "+ \\frac{\\delta \\tilde{r}_s}{\\tilde{r}_s}\\right) + \\tilde{\\beta}_{s2} \\left(1 + \\frac{\\delta \\tilde{r}_s}{\\tilde{r}_s}\\right)\n",
    "\\frac{\\delta \\tilde{T}_s}{\\tilde{T}_s}\\right]\\delta \\Delta T_s[x]\n",
    "+ \\left[L_v\\tilde{q}_s \\left(1 + \\frac{\\delta \\tilde{r}_s}{\\tilde{r}_s}\\right) + \\tilde{\\mu}\\tilde{\\beta}_{s1}(\\Delta T_s[x] + \\delta \\tilde{T}_s)\\right]\n",
    " \\delta \\left(\\frac{\\Delta r_s[x]}{\\tilde{r}_s}\\right)\\\\\n",
    "&+ \\left[\\tilde{\\beta}_{s2} \\left(1 + \\frac{\\delta \\tilde{r}_s}{\\tilde{r}_s}\\right) \\delta \\tilde{T}_s\n",
    "+ \\tilde{\\mu}\\tilde{\\beta}_{s1} \\tilde{T}_s \\frac{\\delta \\tilde{r}_s}{\\tilde{r}_s}  \\right]\n",
    "\\left(1 + \\frac{\\Delta r_s[x]}{\\tilde{r}_s} \\right)\\frac{\\Delta T_s[x]}{\\tilde{T_s}}\n",
    "+ \\left[\\tilde{\\mu} \\tilde{\\beta}_{s1} \\left(1 + \\frac{\\delta \\tilde{r}_s}{\\tilde{r}_s}\\right) \\delta \\tilde{T}_s\n",
    "+ L_v \\tilde{q}_s \\frac{\\delta \\tilde{r}_s}{\\tilde{r}_s}\\right]\\frac{\\Delta r_s[x]}{\\tilde{r}_s}\\\\\n",
    "&+ \\tilde{A}_{\\delta 2}[x] + \\delta A_{s\\Delta}[x] + A_{NL2}[x]\n",
    "\\end{align}\\tag{10}$$\n",
    "\n",
    "where we have combined approximations due to changes in the reference day:\n",
    "\n",
    "$$\n",
    "\\tilde{A}_{\\delta 2}[x] = \\left[\\frac{\\Delta r_s[x]}{\\tilde{r}_s}  + \\delta \\left(\\frac{\\Delta r_s[x]}{\\tilde{r}_s} \\right) \\right]\\tilde{A}_{s\\delta}\n",
    "+ \\left[ \\delta \\Delta T_s[x] + \\Delta T_s[x] \\left(1 + \\frac{\\Delta r_s[x]}{\\tilde{r}_s}\\right) \\right]\n",
    "\\left(1 + \\frac{\\delta \\tilde{r}_s}{\\tilde{r}_s}\\right) \\frac{\\delta \\tilde{T}_s}{\\tilde{T}_s} \\tilde{\\beta}_{s2} \\tilde{A}_{s\\beta}\n",
    "$$"
   ]
  },
  {
   "metadata": {
    "ExecuteTime": {
     "end_time": "2025-02-20T11:51:51.853468Z",
     "start_time": "2025-02-20T11:51:51.850450Z"
    }
   },
   "cell_type": "code",
   "source": [
    "approx['s_beta'] = (np.diff(beta_s1, axis=0).squeeze() - mu[0] * beta_s1[0] * np.diff(r_ref, axis=0).squeeze()/r_ref[0]) \\\n",
    "                   * temp_ref[0, ind_surf] / np.diff(temp_ref[:, ind_surf],axis=0).squeeze() / (1 + np.diff(r_ref, axis=0).squeeze()/r_ref[0]) \\\n",
    "                   /beta_s2[0] - 1\n",
    "print('A_s_beta = {:.3g}'.format(np.average(approx['s_beta'], axis=0, weights=lat_weights)))"
   ],
   "outputs": [
    {
     "name": "stdout",
     "output_type": "stream",
     "text": [
      "A_s_beta = 0.171\n"
     ]
    }
   ],
   "execution_count": 222
  },
  {
   "metadata": {
    "ExecuteTime": {
     "end_time": "2025-02-20T11:51:51.889970Z",
     "start_time": "2025-02-20T11:51:51.881619Z"
    }
   },
   "cell_type": "code",
   "source": [
    "mse_mod_anom_s_change_cont = {\n",
    "    't_change': beta_s1[0][:, np.newaxis] * np.diff(temp_anom[:, ind_surf], axis=0).squeeze(),\n",
    "    't_change_nl_anom': (mu[0] * beta_s1[0])[:, np.newaxis] * r_anom[0]/r_ref[0, :, np.newaxis] * np.diff(temp_anom[:, ind_surf], axis=0).squeeze(),\n",
    "    't_change_nl_change': (mu[0] * beta_s1[0] * (np.diff(r_ref, axis=0).squeeze()/r_ref[0])\n",
    "                          + beta_s2[0] * np.diff(temp_ref[:, ind_surf], axis=0).squeeze() / temp_ref[0, ind_surf] *\n",
    "                             (1 + (np.diff(r_ref, axis=0).squeeze()/r_ref[0])))[:, np.newaxis] * np.diff(temp_anom[:, ind_surf], axis=0).squeeze(),\n",
    "    'r_change': L_v * sphum_ref[0, :, np.newaxis] * np.diff(r_anom/r_ref[:, :, np.newaxis], axis=0).squeeze(),\n",
    "    'r_change_nl_anom': (mu[0] * beta_s1[0])[:, np.newaxis] * temp_anom[0, ind_surf] * np.diff(r_anom/r_ref[:, :, np.newaxis], axis=0).squeeze(),\n",
    "    'r_change_nl_change': (mu[0] * beta_s1[0] * np.diff(temp_ref[:, ind_surf], axis=0).squeeze() +\n",
    "                           L_v * sphum_ref[0] * np.diff(r_ref, axis=0).squeeze() / r_ref[0])[:, np.newaxis] *\n",
    "                          np.diff(r_anom/r_ref[:, :, np.newaxis], axis=0).squeeze(),\n",
    "    't_anom': (beta_s2[0] * (1 + np.diff(r_ref, axis=0).squeeze()/r_ref[0]) * np.diff(temp_ref[:, ind_surf], axis=0).squeeze()/temp_ref[0, ind_surf]\n",
    "              + mu[0] * beta_s1[0] * np.diff(r_ref, axis=0).squeeze() / r_ref[0])[:, np.newaxis] * temp_anom[0, ind_surf],\n",
    "    'r_anom': (mu[0] * beta_s1[0] * (1 + np.diff(r_ref, axis=0).squeeze()/r_ref[0]) * np.diff(temp_ref[:, ind_surf], axis=0).squeeze()\n",
    "              + L_v * sphum_ref[0] * np.diff(r_ref, axis=0).squeeze()/r_ref[0])[:, np.newaxis] * r_anom[0]/r_ref[0, :, np.newaxis],\n",
    "    'epsilon_change': -np.diff(epsilon_anom, axis=0).squeeze()\n",
    "}\n",
    "mse_mod_anom_s_change_cont['t_r_anom'] = mse_mod_anom_s_change_cont['t_anom'] * r_anom[0] / r_ref[0, :, np.newaxis]\n",
    "\n",
    "# Approx terms\n",
    "# Contribution to ref change error from change A_{s\\delta}\n",
    "mse_mod_anom_s_change_cont['approx_ref_change'] = approx['s_change'][:, np.newaxis] * (r_anom[0]/r_ref[0, :, np.newaxis] +\n",
    "                                                                                       np.diff(r_anom/r_ref[:, :, np.newaxis], axis=0).squeeze())\n",
    "# Contribution to ref change error from change in beta\n",
    "mse_mod_anom_s_change_cont['approx_ref_change'] += (beta_s2[0] * approx['s_beta'] * (1 + np.diff(r_ref, axis=0).squeeze()/r_ref[0]) *\n",
    "                                             np.diff(temp_ref[:, ind_surf], axis=0).squeeze()/temp_ref[0, ind_surf])[:, np.newaxis] *  \\\n",
    "                                            (np.diff(temp_anom[:, ind_surf], axis=0).squeeze() + temp_anom[0, ind_surf] *\n",
    "                                             (1 + r_anom[0]/r_ref[0, :, np.newaxis]))\n",
    "mse_mod_anom_s_change_cont['approx_nl'] = approx['s_nl']\n",
    "mse_mod_anom_s_change_cont['approx_anom_change'] = np.diff(approx['s_anom'], axis=0).squeeze()\n"
   ],
   "outputs": [],
   "execution_count": 223
  },
  {
   "metadata": {
    "ExecuteTime": {
     "end_time": "2025-02-20T11:51:51.919405Z",
     "start_time": "2025-02-20T11:51:51.916733Z"
    }
   },
   "cell_type": "code",
   "source": [
    "# Sanity check that sum of all terms is equal to actual MSE mod anom change\n",
    "print('Max Diff: {:.2g}'.format(np.abs(np.sum(np.array(list(mse_mod_anom_s_change_cont.values())), axis=0) -\n",
    "                                       np.diff(mse_mod_anom, axis=0).squeeze()).max()))"
   ],
   "outputs": [
    {
     "name": "stdout",
     "output_type": "stream",
     "text": [
      "Max Diff: 7.5e-11\n"
     ]
    }
   ],
   "execution_count": 224
  },
  {
   "metadata": {
    "ExecuteTime": {
     "end_time": "2025-02-20T11:51:52.159644Z",
     "start_time": "2025-02-20T11:51:51.945404Z"
    }
   },
   "cell_type": "code",
   "source": [
    "fig, ax = plt.subplots(1,3, figsize=(3*im_sz*width['one_col'], im_sz*width['one_col']/ar), sharex=True, sharey=True)\n",
    "ax[0].plot(quant_plot, np.average(np.diff(mse_mod_anom, axis=0).squeeze(), axis=0, weights=lat_weights)/1000, color='k', label='Simulated')\n",
    "ax[0].plot(quant_plot, np.average(np.sum(np.array([mse_mod_anom_s_change_cont[key] for key in mse_mod_anom_s_change_cont if\n",
    "                                                   'approx' not in key]), axis=0),\n",
    "                                  axis=0, weights=lat_weights)/1000, color='k', linestyle=':', label='Approx')\n",
    "ax[0].plot(quant_plot, np.average(np.sum(np.array([mse_mod_anom_s_change_cont[key] for key in mse_mod_anom_s_change_cont if\n",
    "                                                   ('approx' not in key) and ('nl' not in key)]), axis=0),\n",
    "                                  axis=0, weights=lat_weights)/1000, color='k', linestyle='--', label='Approx - linear')\n",
    "for key in mse_mod_anom_s_change_cont:\n",
    "    if 'approx' not in key:\n",
    "        ax[1].plot(quant_plot, np.average(mse_mod_anom_s_change_cont[key], axis=0, weights=lat_weights) / 1000, label=key,\n",
    "                   linestyle=':' if 'nl' in key else None)\n",
    "    else:\n",
    "        ax[2].plot(quant_plot, np.average(mse_mod_anom_s_change_cont[key], axis=0, weights=lat_weights) / 1000, label=key.replace('approx_', ''),\n",
    "                   linestyle=':' if 'nl' in key else None)\n",
    "# ax[2].plot(quant_plot, np.average(mse_mod_anom_s_change_cont['approx_beta'] + mse_mod_anom_s_change_cont['approx_ref_change'],\n",
    "#                                   axis=0, weights=lat_weights) / 1000)\n",
    "for ax_use in ax:\n",
    "    ax_use.legend()\n",
    "    ax_use.axhline(0, color='k', lw=ax_linewidth)\n",
    "    ax_use.set_xlabel('Temperature Percentile, $x$')\n",
    "# ax[1].plot(quant_plot, np.average(np.diff(approx['s_anom'], axis=0).squeeze()/1000, axis=0, weights=lat_weights), color='k')\n",
    "# ax[1].axhline(0, color='k', lw=ax_linewidth)\n",
    "# ax[0].set_ylabel('$\\Delta A_{s\\Delta}$ [kJ/kg]')\n",
    "# ax[1].set_ylabel('$\\delta \\Delta A_{s\\Delta}$ [kJ/kg]')\n",
    "ax[0].set_xlim(0, 100)\n",
    "ax[0].set_ylabel('$\\delta \\Delta h^{\\dagger}$ Contribution [kJ/kg]')\n",
    "# if show_plot:\n",
    "#     plt.show()\n",
    "# else:\n",
    "#     plt.close()"
   ],
   "outputs": [
    {
     "data": {
      "text/plain": [
       "Text(0, 0.5, '$\\\\delta \\\\Delta h^{\\\\dagger}$ Contribution [kJ/kg]')"
      ]
     },
     "execution_count": 225,
     "metadata": {},
     "output_type": "execute_result"
    },
    {
     "data": {
      "text/plain": [
       "<Figure size 1440x360 with 3 Axes>"
      ],
      "image/png": "[encoded data removed]"
     },
     "metadata": {},
     "output_type": "display_data"
    }
   ],
   "execution_count": 225
  },
  {
   "metadata": {},
   "cell_type": "markdown",
   "source": [
    "## Equation for $\\delta \\Delta T_s(x)$\n",
    "Equating our two equations for $\\delta \\Delta h^{\\dagger}[x]$, we can get an equation for $\\delta \\Delta T_s(x)$:\n",
    "\n",
    "$$\\begin{align}\n",
    "\\tilde{\\beta}_{s1}\\left(1 + \\tilde{\\mu} \\frac{\\Delta r_s[x]}{\\tilde{r}_s} \\right) \\delta \\Delta T_s(x) =\n",
    "&-\\left[\\tilde{\\mu} \\frac{\\delta \\tilde{r}_s}{\\tilde{r}_s} +\n",
    "\\frac{\\tilde{\\beta}_{s2}}{\\tilde{\\beta}_{s1}} \\left(1 + \\frac{\\delta \\tilde{r}_s}{\\tilde{r}_s}\\right) \\frac{\\delta \\tilde{T}_s}{\\tilde{T}_s}\\right]\n",
    "\\tilde{\\beta}_{s1} \\delta \\Delta T_s[x] + \\left(1 + \\frac{\\tilde{\\beta}_{FT2}}{\\tilde{\\beta}_{FT1}}\n",
    "\\frac{\\delta \\tilde{h}^{\\dagger}_0}{\\tilde{\\beta}_{FT1}\\tilde{T}_{FT}}\\right) \\tilde{\\beta}_{FT1} \\delta \\Delta T_{FT}[x] \\\\\n",
    "&-\\left[L_v\\tilde{q}_s \\left(1 + \\frac{\\delta \\tilde{r}_s}{\\tilde{r}_s}\\right) + \\tilde{\\mu}\\tilde{\\beta}_{s1}(\\Delta T_s[x] + \\delta \\tilde{T}_s)\\right]\n",
    "\\delta \\left(\\frac{\\Delta r_s[x]}{\\tilde{r}_s}\\right) + \\delta \\Delta \\epsilon[x] \\\\\n",
    "&+ \\left[\\frac{\\tilde{\\beta}_{FT2}}{\\tilde{\\beta}_{FT1}} \\frac{\\tilde{\\beta}_{s1} \\tilde{T}_s}{\\tilde{\\beta}_{FT1}\\tilde{T}_{FT}}\n",
    "\\delta \\tilde{h}^{\\dagger}_0\n",
    "- \\tilde{\\beta}_{s2} \\left(1 + \\frac{\\delta \\tilde{r}_s}{\\tilde{r}_s}\\right) \\delta \\tilde{T}_s\n",
    "-\\tilde{\\mu}\\tilde{\\beta}_{s1} \\tilde{T}_s \\frac{\\delta \\tilde{r}_s}{\\tilde{r}_s}\\right]\\frac{\\Delta T_s[x]}{\\tilde{T_s}} \\\\\n",
    "&+ \\left[\\tilde{\\mu}\\frac{\\tilde{\\beta}_{FT2}}{\\tilde{\\beta}_{FT1}} \\frac{\\tilde{\\beta}_{s1} \\tilde{T}_s}{\\tilde{\\beta}_{FT1}\\tilde{T}_{FT}}\n",
    "\\delta \\tilde{h}^{\\dagger}_0\n",
    "- \\tilde{\\beta}_{s2} \\left(1 + \\frac{\\delta \\tilde{r}_s}{\\tilde{r}_s}\\right) \\delta \\tilde{T}_s\n",
    "-\\tilde{\\mu}\\tilde{\\beta}_{s1} \\tilde{T}_s \\frac{\\delta \\tilde{r}_s}{\\tilde{r}_s}\\right]\n",
    "\\frac{\\Delta r_s[x]}{\\tilde{r_s}}\\frac{\\Delta T_s[x]}{\\tilde{T_s}} \\\\\n",
    "&+ \\left[\\frac{\\tilde{\\beta}_{FT2}}{\\tilde{\\beta}_{FT1}} \\frac{L_v \\tilde{q}_s}{\\tilde{\\beta}_{FT1}\\tilde{T}_{FT}} \\delta \\tilde{h}^{\\dagger}_0\n",
    "- \\tilde{\\mu} \\tilde{\\beta}_{s1} \\left(1 + \\frac{\\delta \\tilde{r}_s}{\\tilde{r}_s}\\right) \\delta \\tilde{T}_s\n",
    "- L_v \\tilde{q}_s \\frac{\\delta \\tilde{r}_s}{\\tilde{r}_s}\\right] \\frac{\\Delta r_s[x]}{\\tilde{r_s}} \\\\\n",
    "&+ \\delta A_{FT\\Delta}[x] + A_{\\Delta 1}[x] + \\tilde{A}_{\\delta 1}[x] + A'_z[x] + A_{NL1}[x]\n",
    "- \\tilde{A}_{\\delta 2}[x] - \\delta A_{s\\Delta}[x] - A_{NL2}[x]\n",
    "\\end{align}\\tag{11}$$"
   ]
  },
  {
   "metadata": {},
   "cell_type": "markdown",
   "source": [
    "### Approx NL3 - Assume $\\delta \\tilde{\\chi_1}\\delta \\Delta \\chi_2[x]$ terms small\n",
    "Combining these terms, we get:\n",
    "\n",
    "$$A_{NL3} = -\\left[\\tilde{\\mu} \\frac{\\delta \\tilde{r}_s}{\\tilde{r}_s} +\n",
    "\\frac{\\tilde{\\beta}_{s2}}{\\tilde{\\beta}_{s1}} \\left(1 + \\frac{\\delta \\tilde{r}_s}{\\tilde{r}_s}\\right) \\frac{\\delta \\tilde{T}_s}{\\tilde{T}_s}\\right]\n",
    "\\tilde{\\beta}_{s1} \\delta \\Delta T_s[x]\n",
    "+ \\frac{\\delta \\tilde{h}^{\\dagger}_0}{\\tilde{\\beta}_{FT1}\\tilde{T}_{FT}} \\tilde{\\beta}_{FT2} \\delta \\Delta T_{FT}[x]\n",
    "-\\left[L_v\\tilde{q}_s \\frac{\\delta \\tilde{r}_s}{\\tilde{r}_s} + \\tilde{\\mu}\\tilde{\\beta}_{s1}\\delta \\tilde{T}_s\\right]\n",
    "\\delta \\left(\\frac{\\Delta r_s[x]}{\\tilde{r}_s}\\right)$$\n",
    "\n",
    "Combining this with $(11)$ gives:\n",
    "\n",
    "$$\\begin{align}\n",
    "\\tilde{\\beta}_{s1}\\left(1 + \\tilde{\\mu} \\frac{\\Delta r_s[x]}{\\tilde{r}_s} \\right) \\delta \\Delta T_s(x) &=\n",
    "\\tilde{\\beta}_{FT1} \\delta \\Delta T_{FT}[x] - \\left[L_v\\tilde{q}_s + \\tilde{\\mu}\\tilde{\\beta}_{s1} \\Delta T_s[x] \\right]\n",
    "\\delta \\left(\\frac{\\Delta r_s[x]}{\\tilde{r}_s}\\right) + \\delta \\Delta \\epsilon[x] \\\\\n",
    "&+ \\left[\\frac{\\tilde{\\beta}_{FT2}}{\\tilde{\\beta}_{FT1}} \\frac{\\tilde{\\beta}_{s1} \\tilde{T}_s}{\\tilde{\\beta}_{FT1}\\tilde{T}_{FT}}\n",
    "\\delta \\tilde{h}^{\\dagger}_0\n",
    "- \\tilde{\\beta}_{s2} \\left(1 + \\frac{\\delta \\tilde{r}_s}{\\tilde{r}_s}\\right) \\delta \\tilde{T}_s\n",
    "-\\tilde{\\mu}\\tilde{\\beta}_{s1} \\tilde{T}_s \\frac{\\delta \\tilde{r}_s}{\\tilde{r}_s}\\right]\\frac{\\Delta T_s[x]}{\\tilde{T_s}} \\\\\n",
    "&+ \\left[\\tilde{\\mu}\\frac{\\tilde{\\beta}_{FT2}}{\\tilde{\\beta}_{FT1}} \\frac{\\tilde{\\beta}_{s1} \\tilde{T}_s}{\\tilde{\\beta}_{FT1}\\tilde{T}_{FT}}\n",
    "\\delta \\tilde{h}^{\\dagger}_0\n",
    "- \\tilde{\\beta}_{s2} \\left(1 + \\frac{\\delta \\tilde{r}_s}{\\tilde{r}_s}\\right) \\delta \\tilde{T}_s\n",
    "-\\tilde{\\mu}\\tilde{\\beta}_{s1} \\tilde{T}_s \\frac{\\delta \\tilde{r}_s}{\\tilde{r}_s}\\right]\n",
    "\\frac{\\Delta r_s[x]}{\\tilde{r_s}}\\frac{\\Delta T_s[x]}{\\tilde{T_s}} \\\\\n",
    "&+ \\left[\\frac{\\tilde{\\beta}_{FT2}}{\\tilde{\\beta}_{FT1}} \\frac{L_v \\tilde{q}_s}{\\tilde{\\beta}_{FT1}\\tilde{T}_{FT}} \\delta \\tilde{h}^{\\dagger}_0\n",
    "- \\tilde{\\mu} \\tilde{\\beta}_{s1} \\left(1 + \\frac{\\delta \\tilde{r}_s}{\\tilde{r}_s}\\right) \\delta \\tilde{T}_s\n",
    "- L_v \\tilde{q}_s \\frac{\\delta \\tilde{r}_s}{\\tilde{r}_s}\\right] \\frac{\\Delta r_s[x]}{\\tilde{r_s}} \\\\\n",
    "&+ \\delta A_{FT\\Delta}[x] + A_{\\Delta 1}[x] + \\tilde{A}_{\\delta 1}[x] + A'_z[x] + A_{NL1}[x]\n",
    "- \\tilde{A}_{\\delta 2}[x] - \\delta A_{s\\Delta}[x] - A_{NL2}[x] + A_{NL3}[x]\n",
    "\\end{align}\\tag{12}$$"
   ]
  },
  {
   "metadata": {
    "ExecuteTime": {
     "end_time": "2025-02-20T11:51:52.190038Z",
     "start_time": "2025-02-20T11:51:52.187962Z"
    }
   },
   "cell_type": "code",
   "source": [
    "approx['nl3'] = mse_mod_anom_ft_change_cont['ft_change_nl']-mse_mod_anom_s_change_cont['t_change_nl_change']- \\\n",
    "                mse_mod_anom_s_change_cont['r_change_nl_change']"
   ],
   "outputs": [],
   "execution_count": 226
  },
  {
   "metadata": {
    "ExecuteTime": {
     "end_time": "2025-02-20T11:51:52.229488Z",
     "start_time": "2025-02-20T11:51:52.216100Z"
    }
   },
   "cell_type": "code",
   "source": [
    "show_plot = False\n",
    "fig, ax = plt.subplots(1,1, figsize=(im_sz*width['one_col'], im_sz*width['one_col']/ar), sharex=True)\n",
    "# ax.plot(quant_plot, np.average(approx['s_temp_nl'], axis=0, weights=lat_weights)/1000, label=labels_exp[i])\n",
    "# ax.plot(quant_plot, np.average(approx['s_r_nl'], axis=0, weights=lat_weights)/1000, label=labels_exp[i])\n",
    "ax.plot(quant_plot, np.average(approx['nl3'], axis=0, weights=lat_weights)/1000, color='k', label='Sum')\n",
    "ax.plot(quant_plot, np.average(mse_mod_anom_ft_change_cont['ft_change_nl'], axis=0, weights=lat_weights)/1000,\n",
    "        color='k', linestyle='--', label='$\\delta \\Delta T_{FT}$')\n",
    "ax.plot(quant_plot, np.average(-mse_mod_anom_s_change_cont['t_change_nl_change'], axis=0, weights=lat_weights)/1000,\n",
    "        color='k', linestyle=':', label='$-\\delta \\Delta T_s$')\n",
    "ax.plot(quant_plot, np.average(-mse_mod_anom_s_change_cont['r_change_nl_change'], axis=0, weights=lat_weights)/1000,\n",
    "        color='k', linestyle='-.', label='$-\\delta \\Delta r_s$')\n",
    "# ax.plot(quant_plot, np.average(approx['s_nl3'], axis=0, weights=lat_weights)/1000, label=labels_exp[i])\n",
    "ax.legend()\n",
    "ax.axhline(0, color='k', lw=ax_linewidth)\n",
    "ax.set_ylabel('$\\Delta A_{NL3}$ [kJ/kg]')\n",
    "ax.set_xlim(0, 100)\n",
    "ax.set_xlabel('Temperature Percentile, $x$')\n",
    "if show_plot:\n",
    "    plt.show()\n",
    "else:\n",
    "    plt.close()"
   ],
   "outputs": [],
   "execution_count": 227
  },
  {
   "metadata": {
    "ExecuteTime": {
     "end_time": "2025-02-20T11:51:52.306236Z",
     "start_time": "2025-02-20T11:51:52.256652Z"
    }
   },
   "cell_type": "code",
   "source": [
    "plt.plot(np.average(mse_mod_anom_ft_change_cont['ft_change_nl']-mse_mod_anom_s_change_cont['t_change_nl_change']-\n",
    "                    mse_mod_anom_s_change_cont['r_change_nl_change'], axis=0, weights=lat_weights))\n",
    "# plt.plot(np.average(-mse_mod_anom_s_change_cont['r_change_nl_change'], axis=0, weights=lat_weights))\n",
    "a = np.diff(temp_quant3, axis=0).squeeze()\n",
    "a_anom = np.diff(temp_anom, axis=0).squeeze()\n",
    "a2 = a / a_anom\n",
    "# plt.plot(np.average(mse_mod_anom_ft_change_cont['ft_change_nl'] * a2[ind_ft] -\n",
    "#                     mse_mod_anom_s_change_cont['t_change_nl_change'] * a2[ind_surf] - mse_mod_anom_s_change_cont['r_change_nl_change'],\n",
    "#                     axis=0, weights=lat_weights))\n",
    "# plt.plot(np.average(mse_mod_anom_ft_change_cont['ft_change_nl'], axis=0, weights=lat_weights)+1000)"
   ],
   "outputs": [
    {
     "data": {
      "text/plain": [
       "<Figure size 640x480 with 1 Axes>"
      ],
      "image/png": "[encoded data removed]"
     },
     "metadata": {},
     "output_type": "display_data"
    }
   ],
   "execution_count": 228
  },
  {
   "metadata": {
    "ExecuteTime": {
     "end_time": "2025-02-20T11:51:52.335536Z",
     "start_time": "2025-02-20T11:51:52.332786Z"
    }
   },
   "cell_type": "code",
   "source": "np.diff(epsilon_ref, axis=0).squeeze()",
   "outputs": [
    {
     "data": {
      "text/plain": [
       "array([4286.70151594, 4169.06560989, 4031.08087557, 3695.21795011,\n",
       "       3626.67650012, 3656.89954658, 3654.06682775, 4431.6947591 ,\n",
       "       4168.67649437, 4115.72507612, 4210.47036898, 4364.21466191,\n",
       "       4551.02609269, 4601.76200553])"
      ]
     },
     "execution_count": 229,
     "metadata": {},
     "output_type": "execute_result"
    }
   ],
   "execution_count": 229
  },
  {
   "metadata": {
    "ExecuteTime": {
     "end_time": "2025-02-20T11:51:52.415445Z",
     "start_time": "2025-02-20T11:51:52.361937Z"
    }
   },
   "cell_type": "code",
   "source": "plt.plot(np.average(mse_mod_anom_s_change_cont['epsilon_change'], axis=0, weights=lat_weights))",
   "outputs": [
    {
     "data": {
      "text/plain": [
       "[<matplotlib.lines.Line2D at 0x159e32d30>]"
      ]
     },
     "execution_count": 230,
     "metadata": {},
     "output_type": "execute_result"
    },
    {
     "data": {
      "text/plain": [
       "<Figure size 640x480 with 1 Axes>"
      ],
      "image/png": "[encoded data removed]"
     },
     "metadata": {},
     "output_type": "display_data"
    }
   ],
   "execution_count": 230
  },
  {
   "metadata": {
    "ExecuteTime": {
     "end_time": "2025-02-20T11:51:52.446649Z",
     "start_time": "2025-02-20T11:51:52.443578Z"
    }
   },
   "cell_type": "code",
   "source": "mse_mod_anom_s_change_cont.keys()",
   "outputs": [
    {
     "data": {
      "text/plain": [
       "dict_keys(['t_change', 't_change_nl_anom', 't_change_nl_change', 'r_change', 'r_change_nl_anom', 'r_change_nl_change', 't_anom', 'r_anom', 'epsilon_change', 't_r_anom', 'approx_ref_change', 'approx_nl', 'approx_anom_change'])"
      ]
     },
     "execution_count": 231,
     "metadata": {},
     "output_type": "execute_result"
    }
   ],
   "execution_count": 231
  },
  {
   "metadata": {
    "ExecuteTime": {
     "end_time": "2025-02-20T11:51:52.477016Z",
     "start_time": "2025-02-20T11:51:52.475657Z"
    }
   },
   "cell_type": "code",
   "source": "",
   "outputs": [],
   "execution_count": null
  }
 ],
 "metadata": {
  "kernelspec": {
   "display_name": "Python 3",
   "language": "python",
   "name": "python3"
  },
  "language_info": {
   "codemirror_mode": {
    "name": "ipython",
    "version": 2
   },
   "file_extension": ".py",
   "mimetype": "text/x-python",
   "name": "python",
   "nbconvert_exporter": "python",
   "pygments_lexer": "ipython2",
   "version": "2.7.6"
  }
 },
 "nbformat": 4,
 "nbformat_minor": 0
}
