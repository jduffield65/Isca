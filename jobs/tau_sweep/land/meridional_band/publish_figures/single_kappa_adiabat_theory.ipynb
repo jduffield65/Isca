{
 "cells": [
  {
   "cell_type": "markdown",
   "source": [
    "# Publishing Figures - Single Kappa\n",
    "This obtains all figures for a comparison between two simulations of neighbouring optical depth that only require the surface variables."
   ],
   "metadata": {
    "collapsed": false
   }
  },
  {
   "cell_type": "code",
   "source": [
    "import copy\n",
    "import sys\n",
    "import os\n",
    "# REMOTE - So can access functions in isca_tools which is in home/Isca directory\n",
    "# sys.path.append(os.path.join(os.environ['HOME'], 'Isca'))\n",
    "# LOCAL - So can access functions in isca_tools which is in StAndrews/Isca\n",
    "sys.path.append(os.environ['PWD'])\n",
    "import isca_tools\n",
    "from isca_tools.utils.moist_physics import moist_static_energy, clausius_clapeyron_factor, sphum_sat\n",
    "from isca_tools.utils.constants import kappa, L_v, c_p, g, R\n",
    "from isca_tools.utils import area_weighting\n",
    "from isca_tools.papers.byrne_2021 import get_quant_ind\n",
    "from isca_tools.thesis.adiabat_theory import get_delta_temp_quant_theory_simple2, get_delta_temp_quant_theory, decompose_temp_adiabat_anomaly\n",
    "from isca_tools.plot import label_subplots\n",
    "import numpy as np\n",
    "import matplotlib.pyplot as plt\n",
    "import xarray as xr\n",
    "import scipy.optimize\n",
    "from tqdm import tqdm\n",
    "from scipy import integrate\n",
    "import numpy_indexed\n",
    "from scipy.stats import percentileofscore\n",
    "import copy\n",
    "# Use custom matplotlib style for publishing\n",
    "plt.style.use('/Users/joshduffield/Documents/StAndrews/Isca/jobs/tau_sweep/aquaplanet/publish_figures/publish.mplstyle')"
   ],
   "metadata": {
    "collapsed": false,
    "ExecuteTime": {
     "end_time": "2024-05-08T16:54:57.178598Z",
     "start_time": "2024-05-08T16:54:54.553892Z"
    }
   },
   "execution_count": 1,
   "outputs": []
  },
  {
   "cell_type": "code",
   "source": [
    "# Load dataset - one at surface and one in free troposphere\n",
    "var_keep = ['temp', 'sphum', 'height', 'klzbs', 'convflag']        # only keep variables required to compute relative humidity and MSE\n",
    "\n",
    "\n",
    "use_time_start = 360*2\n",
    "pressure_ft = 500               # Desired approximate pressure of free troposphere (hPa)\n",
    "\n",
    "# Load dataset\n",
    "tau_lw_ref = 1\n",
    "tau_lw_warm = 1.5\n",
    "# refer to bucket model with vegetation as bucket\n",
    "# Don't include actual bucket, as looks very similar to bucket with vegetation param\n",
    "# exp_names = ['Aquaplanet', 'Constant conductivity', 'Bucket']\n",
    "# exp_dir = ['tau_sweep/aquaplanet/', 'tau_sweep/land/meridional_band/evap/',\n",
    "#            'tau_sweep/land/meridional_band/bucket_evap/evap=0_1/']\n",
    "color_seq_exp = ['b', 'g', 'r']\n",
    "exp_names = ['Aquaplanet', 'Evap', 'Bucket']\n",
    "exp_dir = ['tau_sweep/aquaplanet/depth=1/', 'tau_sweep/land/meridional_band/depth=1/evap/',\n",
    "           'tau_sweep/land/meridional_band/depth=1/bucket_evap/']\n",
    "color_seq_exp = ['b', 'g', 'r']\n",
    "\n",
    "# exp_names = ['Aquaplanet', 'Constant conductivity', 'Bucket', 'Bucket - $C_V$']\n",
    "# exp_dir = ['tau_sweep/aquaplanet/', 'tau_sweep/land/meridional_band/evap/', 'tau_sweep/land/meridional_band/bucket/',\n",
    "#            'tau_sweep/land/meridional_band/bucket_evap/evap=0_1/']\n",
    "# color_seq_exp = ['b', 'g', 'orange', 'r']\n",
    "\n",
    "kappa_names = [f\"k={str(tau_lw_ref).replace('.','_')}\", f\"k={str(tau_lw_warm).replace('.','_')}\"]\n",
    "n_exp = len(exp_names)\n",
    "n_kappa = len(kappa_names)\n",
    "ds = [[] for i in range(n_exp)]\n",
    "albedo = []\n",
    "tau_sw = []\n",
    "tau_lw = []\n",
    "with tqdm(total=n_exp * n_kappa, position=0, leave=True) as pbar:\n",
    "    for i in range(n_exp):\n",
    "        for j in range(n_kappa):\n",
    "            ds_use = isca_tools.load_dataset(exp_dir[i] + kappa_names[j]).sel(time=slice(use_time_start, np.inf))[var_keep]\n",
    "            \n",
    "            ds[i] += [ds_use.sel(pfull=[np.inf, pressure_ft], method='nearest')]      # only keep the surface and free troposphere values\n",
    "            namelist = isca_tools.load_namelist(exp_dir[i] + kappa_names[j])  # Need this for albedo_value\n",
    "            if i == 0:\n",
    "                albedo += [namelist['mixed_layer_nml']['albedo_value']]\n",
    "                tau_sw += [namelist['two_stream_gray_rad_nml']['atm_abs']]\n",
    "                tau_lw += [namelist['two_stream_gray_rad_nml']['odp']]\n",
    "            pbar.update(1)\n",
    "pfull = ds_use.pfull\n",
    "ind_surf = 0\n",
    "ind_ft = 1\n",
    "p_surface = float(ds[0][0].pfull[ind_surf]) * 100\n",
    "pressure_ft_actual = float(ds[0][0].pfull[ind_ft]) * 100       # Actual pressure of free troposphere (Pa)\n",
    "n_pressure = ds[0][0].pfull.size\n",
    "lnp_const = R * np.log(p_surface/pressure_ft_actual)/2      # for modified MSE calculation"
   ],
   "metadata": {
    "collapsed": false,
    "ExecuteTime": {
     "end_time": "2024-05-08T16:55:13.826115Z",
     "start_time": "2024-05-08T16:54:57.179830Z"
    }
   },
   "execution_count": 2,
   "outputs": []
  },
  {
   "cell_type": "markdown",
   "source": [
    "## Get datasets\n",
    "Get one dataset for summer for each $\\kappa$, combining all latitudes: `ds_all`. This combines the all or just tbe summer months in each hemisphere, e.g. negative latitudes will only correspond to times in December, January or February."
   ],
   "metadata": {
    "collapsed": false
   }
  },
  {
   "metadata": {
    "ExecuteTime": {
     "end_time": "2024-05-08T16:55:13.832473Z",
     "start_time": "2024-05-08T16:55:13.828180Z"
    }
   },
   "cell_type": "code",
   "source": [
    "# If true, will save all figures to desktop - option to save specific figures later on.\n",
    "save_fig = False\n",
    "# if publishing figure, use high dpi\n",
    "publish_fig = True\n",
    "\n",
    "ar = 4/3        # aspect ratio (width/height)\n",
    "# Details required for Journal of Climate Figures\n",
    "low_dpi = 100\n",
    "dpi = {'monochrome': 1100, 'combination': 800, 'halftone': 300}\n",
    "width = {'one_col': 3.2, 'two_col': 5.5}        # width in inches \n",
    "save_pad_inches = 0.05\n",
    "\n",
    "# Default parameters\n",
    "default_colors = plt.rcParams['axes.prop_cycle'].by_key()['color']\n",
    "ax_linewidth = plt.rcParams['axes.linewidth']\n",
    "\n",
    "def moving_average(x, w):\n",
    "    return np.convolve(x, np.ones(w), 'valid') / w"
   ],
   "execution_count": 3,
   "outputs": []
  },
  {
   "cell_type": "code",
   "source": [
    "# Show where the land is\n",
    "save_land_fig = False\n",
    "\n",
    "job_dir = os.path.join(os.path.dirname(os.environ['GFDL_DATA']), 'jobs')\n",
    "land_file_name = os.path.join(job_dir, exp_dir[1], kappa_names[0], 'land.nc')\n",
    "# isca_tools.plot.show_land(land_file_name)\n",
    "fig, ax = plt.subplots(1,1, figsize=(width['one_col'], width['one_col']/ar))\n",
    "isca_tools.plot.show_land(land_file_name, fig=fig, ax=ax)\n",
    "lon_land = isca_tools.utils.land.get_land_coords(land_file=land_file_name)[1]       # get the longitude coordinates of land\n",
    "\n",
    "if save_fig or save_land_fig:\n",
    "    fig.savefig(f\"/Users/joshduffield/Desktop/land_coords.pdf\",\n",
    "                dpi=dpi['combination'] if publish_fig else low_dpi, bbox_inches='tight', pad_inches=save_pad_inches)"
   ],
   "metadata": {
    "collapsed": false,
    "ExecuteTime": {
     "end_time": "2024-05-08T16:55:14.361920Z",
     "start_time": "2024-05-08T16:55:13.834538Z"
    }
   },
   "execution_count": 4,
   "outputs": []
  },
  {
   "cell_type": "code",
   "source": [
    "# Load in across all latitudes, for given season\n",
    "\n",
    "# Select region to combine latitudes over for all but one of the plots below\n",
    "# Tropics\n",
    "region = 'tropics'\n",
    "lat_min = 0\n",
    "lat_max = 20\n",
    "# Extratropics\n",
    "# region = 'extratropics'\n",
    "# lat_min = 40\n",
    "# lat_max = 65\n",
    "# lat_max = 90\n",
    "\n",
    "# Chose whether to only consider summer days or consider all days\n",
    "# season = 'all'\n",
    "season = 'summer'\n",
    "# season = 'winter'\n",
    "if season == 'summer':\n",
    "    if region == 'tropics':\n",
    "        season_months = {'nh': [5, 6, 7, 8, 9, 10], 'sh': [11, 12, 1, 2, 3, 4]}   \n",
    "    else:\n",
    "        season_months = {'nh': [6, 7, 8], 'sh': [12, 1, 2]}   # JJA for NH and DJF for SH\n",
    "elif season == 'winter':\n",
    "    if region == 'tropics':\n",
    "        season_months = {'sh': [5, 6, 7, 8, 9, 10], 'nh': [11, 12, 1, 2, 3, 4]}\n",
    "    else:\n",
    "        season_months = {'sh': [6, 7, 8], 'nh': [12, 1, 2]} \n",
    "\n",
    "\n",
    "lat_use_ind = np.where((np.abs(ds[0][0].lat) <= lat_max) & (np.abs(ds[0][0].lat) >= lat_min))[0]\n",
    "n_lat = len(lat_use_ind)\n",
    "lat_weights = np.cos(np.deg2rad(ds[0][0].lat))[lat_use_ind]\n",
    "\n",
    "# Whether to do taylor expansion about mean over just land or mean over whole planet\n",
    "mean_method = 'land'\n",
    "# mean_method = 'all'\n",
    "\n",
    "temp_mean = np.zeros((n_exp, n_kappa, n_pressure, n_lat))\n",
    "r_mean = np.zeros((n_exp, n_kappa, n_lat))          # compute mean rh as mean over rh on each day\n",
    "z_mean = np.zeros((n_exp, n_kappa, n_pressure, n_lat))\n",
    "\n",
    "ds_all = [[] for i in range(n_exp)]\n",
    "with tqdm(total=n_exp * n_kappa, position=0, leave=True) as pbar:\n",
    "    for i in range(n_exp):\n",
    "        for j in range(n_kappa):\n",
    "            ds_use = ds[i][j].isel(lat=lat_use_ind)   # only keep latitudes being used to save memory\n",
    "            \n",
    "            if 'aqua' not in exp_names[i].lower():\n",
    "                # if not aquaplanet, then is land and only consider land longitudes\n",
    "                ds_use = ds_use.isel(lon=np.where(np.isin(ds_use.lon, np.unique(lon_land)))[0])\n",
    "            \n",
    "            if season == 'summer':\n",
    "                ds_nh_summer = isca_tools.utils.annual_time_slice(ds_use, season_months['nh']).sel(lat=slice(0, 90))  \n",
    "                ds_sh_summer = isca_tools.utils.annual_time_slice(ds_use, season_months['sh']).sel(lat=slice(-90, 0)) \n",
    "                # Combine hemispheres and average over longitude, time and latitude.\n",
    "                ds_use = xr.concat([ds_sh_summer, ds_nh_summer], dim='lat')\n",
    "            ds_use = ds_use.stack(lon_time=(\"lon\",\"time\"), create_index=False).chunk(dict(lon_time=-1))\n",
    "            ds_all[i] += [ds_use.load()]\n",
    "            \n",
    "            if mean_method == 'all':\n",
    "                ds_use = ds[i][j].sel(time=slice(use_time_start, np.inf)).isel(lat=lat_use_ind)\n",
    "                ds_use = ds_use.stack(lon_time=(\"lon\",\"time\"), create_index=False).chunk(dict(lon_time=-1))\n",
    "            elif mean_method != 'land':\n",
    "                raise ValueError(f'Mean method is {mean_method} which is not valid.')\n",
    "            temp_mean[i, j] = ds_use.temp.mean(dim='lon_time')\n",
    "            z_mean[i, j] = ds_use.height.mean(dim='lon_time')\n",
    "            rh_use = ds_use.sphum.isel(pfull=ind_surf)/sphum_sat(ds_use.temp.isel(pfull=ind_surf), p_surface)\n",
    "            r_mean[i, j] = rh_use.mean(dim='lon_time')\n",
    "            pbar.update(1)\n",
    "sphum_mean = r_mean * sphum_sat(temp_mean[:, :, ind_surf], p_surface)       # compute sphum_mean from r_mean"
   ],
   "metadata": {
    "collapsed": false,
    "ExecuteTime": {
     "end_time": "2024-05-08T16:56:19.904398Z",
     "start_time": "2024-05-08T16:55:14.364049Z"
    }
   },
   "execution_count": 5,
   "outputs": []
  },
  {
   "cell_type": "code",
   "source": [
    "# Get all data needed to compute theoretical temp change and to plot actual temp change for each quantile of temperature\n",
    "quant_plot = np.arange(1, 100)     # avoid 0 quantile as it gives weird results\n",
    "n_quant = len(quant_plot)\n",
    "percentile_label = 'Temperature percentile, $x$'\n",
    "\n",
    "# Days must have klzb < thresh and convflag > thresh to be considered convecting.\n",
    "klzb_thresh = 13\n",
    "convflag_thresh = 1\n",
    "\n",
    "# quant2 is the actual quantile value rather than the average above a given quantile\n",
    "temp_quant3 = np.zeros((n_exp, n_kappa, n_pressure, n_lat, n_quant))\n",
    "# relative humidity as function of temp quantile not temp quantile\n",
    "r_quant3 = np.zeros((n_exp, n_kappa, n_lat, n_quant))\n",
    "z_quant3 = np.zeros((n_exp, n_kappa, n_pressure, n_lat, n_quant))\n",
    "convflag_quant3 = np.zeros((n_exp, n_kappa, n_lat, n_quant))\n",
    "klzbs_quant3 = np.zeros((n_exp, n_kappa, n_lat, n_quant))\n",
    "convfract_quant3 = np.zeros((n_exp, n_kappa, n_lat, n_quant))            # record fraction of days convecting\n",
    "\n",
    "with tqdm(total=n_exp*n_kappa*n_quant*n_lat, position=0, leave=True) as pbar:\n",
    "    for i in range(n_exp):\n",
    "        for j in range(n_kappa):\n",
    "            ds_use = ds_all[i][j]\n",
    "            temp_quant3[i, j] = ds_use.temp.quantile(quant_plot/100, dim='lon_time', keep_attrs=True).transpose('pfull', 'lat', 'quantile')\n",
    "            rh_use = ds_use.sphum.isel(pfull=ind_surf)/sphum_sat(ds_use.temp.isel(pfull=ind_surf), p_surface)\n",
    "            is_convecting = np.logical_and(ds_use.klzbs<klzb_thresh, ds_use.convflag > convflag_thresh)\n",
    "            for k in range(n_lat):\n",
    "                for q, quant in enumerate(quant_plot):\n",
    "                    use_ind = get_quant_ind(ds_use.temp[ind_surf, k], quant, 0.5, 0.5)\n",
    "                    z_quant3[i, j, :, k, q] = ds_use.height[:, k, use_ind].mean(dim='lon_time')\n",
    "                    r_quant3[i, j, k, q] = rh_use[k, use_ind].mean(dim='lon_time')\n",
    "                    convflag_quant3[i, j, k, q] = ds_use.convflag[k, use_ind].mean(dim='lon_time')\n",
    "                    klzbs_quant3[i, j, k, q] = ds_use.klzbs[k, use_ind].mean(dim='lon_time')\n",
    "                    convfract_quant3[i, j, k, q] = np.sum(is_convecting[k, use_ind])/is_convecting[k, use_ind].size\n",
    "                    pbar.update(1)\n",
    "sphum_quant3 = sphum_sat(temp_quant3[:, :, ind_surf], p_surface) * r_quant3             # compute specific humidity from relative humidity"
   ],
   "metadata": {
    "collapsed": false,
    "ExecuteTime": {
     "end_time": "2024-05-08T16:56:52.049223Z",
     "start_time": "2024-05-08T16:56:19.906395Z"
    }
   },
   "execution_count": 6,
   "outputs": []
  },
  {
   "metadata": {
    "ExecuteTime": {
     "end_time": "2024-05-08T16:56:52.927465Z",
     "start_time": "2024-05-08T16:56:52.050388Z"
    }
   },
   "cell_type": "code",
   "source": [
    "temp_adiabat_anom = np.zeros((n_exp, n_kappa, n_lat, n_quant))\n",
    "temp_ce_mean = np.zeros((n_exp, n_kappa, n_lat))\n",
    "temp_ce_quant = np.zeros((n_exp, n_kappa, n_lat, n_quant))\n",
    "temp_ft_anom = np.zeros((n_exp, n_kappa, n_lat, n_quant))\n",
    "for i in range(n_exp):\n",
    "    for j in range(n_lat):\n",
    "        temp_adiabat_anom[i, :, j], temp_ce_mean[i, :, j], temp_ce_quant[i, :, j], temp_ft_anom[i, :, j] = \\\n",
    "            decompose_temp_adiabat_anomaly(temp_mean[i, :, ind_surf, j], temp_quant3[i, :, ind_surf, j], sphum_mean[i, :, j], \n",
    "                                           sphum_quant3[i, :, j], temp_mean[i, :, ind_ft, j], temp_quant3[i, :, ind_ft, j], \n",
    "                                           p_surface, pressure_ft_actual)\n",
    "z_ft_mod_anom = (z_quant3[:, :, ind_ft] - z_mean[:, :, ind_ft][:, :, :, np.newaxis]) * g / lnp_const \n",
    "temp_adiabat_anom_quant3_z_form = z_ft_mod_anom + np.expand_dims(temp_ce_mean, axis=-1) - temp_ce_quant"
   ],
   "execution_count": 7,
   "outputs": []
  },
  {
   "cell_type": "markdown",
   "source": [
    "## Theoretical Temperature Change\n",
    "Below, we plot whether the theory can correctly predict the temperature change between adjacent simulations."
   ],
   "metadata": {
    "collapsed": false
   }
  },
  {
   "metadata": {
    "ExecuteTime": {
     "end_time": "2024-05-08T16:56:59.147585Z",
     "start_time": "2024-05-08T16:56:52.928419Z"
    }
   },
   "cell_type": "code",
   "source": [
    "delta_temp_theory = {key: np.zeros((n_exp, n_lat, n_quant)) for key in ['best', 'wtg_r', 'z_r', 'wtg_q', 'z_q']}\n",
    "delta_temp_theory_prefactors = {key: np.zeros((n_exp, n_lat, n_quant)) for key in ['temp_s', 'humidity', 'r_change', 'temp_a_change']}\n",
    "delta_temp_theory_prefactors = {key: copy.deepcopy(delta_temp_theory_prefactors) for key in ['wtg_r', 'z_r', 'wtg_q', 'z_q']}\n",
    "delta_temp_theory_changes = copy.deepcopy(delta_temp_theory_prefactors)\n",
    "delta_temp_theory_cont = copy.deepcopy(delta_temp_theory_prefactors)\n",
    "\n",
    "with tqdm(total=n_exp*n_lat*len(delta_temp_theory), position=0, leave=True) as pbar:\n",
    "    for i in range(n_exp):\n",
    "        for j in range(n_lat):\n",
    "            delta_temp_theory['best'][i, j]= \\\n",
    "                    get_delta_temp_quant_theory(temp_mean[i, :, ind_surf, j], temp_quant3[i, :, ind_surf, j], sphum_mean[i, :, j],\n",
    "                                                sphum_quant3[i, :, j], p_surface, pressure_ft_actual, None, None, None, None, \n",
    "                                                'squared', 'squared', 'full')[0]\n",
    "            pbar.update(1)\n",
    "            for key in ['wtg_r', 'z_r', 'wtg_q', 'z_q']:\n",
    "                delta_temp_theory[key][i, j], info_coef, info_change = \\\n",
    "                    get_delta_temp_quant_theory_simple2(temp_mean[i, :, ind_surf, j], temp_quant3[i, :, ind_surf, j], sphum_mean[i, :, j],\n",
    "                                                        sphum_quant3[i, :, j], p_surface, pressure_ft_actual, \n",
    "                                                        temp_mean[i, :, ind_ft, j] if 'z' in key else None,\n",
    "                                                        temp_quant3[i, :, ind_ft, j] if 'z' in key else None, \n",
    "                                                        z_mean[i, :, ind_ft, j] if 'z' in key else None, \n",
    "                                                        z_quant3[i, :, ind_ft, j] if 'z' in key else None, use_sphum_anom0='q' in key)\n",
    "                for var in info_coef:\n",
    "                    delta_temp_theory_prefactors[key][var][i, j] = info_coef[var]\n",
    "                    delta_temp_theory_changes[key][var][i, j] = info_change[var]\n",
    "                    delta_temp_theory_cont[key][var][i, j] = info_coef[var] * info_change[var]\n",
    "                pbar.update(1)\n",
    "delta_temp_s_mean = delta_temp_theory_changes['wtg_r']['temp_s'][:, :, 0]"
   ],
   "execution_count": 8,
   "outputs": []
  },
  {
   "metadata": {
    "ExecuteTime": {
     "end_time": "2024-05-08T16:56:59.152337Z",
     "start_time": "2024-05-08T16:56:59.148677Z"
    }
   },
   "cell_type": "code",
   "source": [
    "delta_temp_ce_mean = temp_ce_mean[:, 1] - temp_ce_mean[:, 0]\n",
    "delta_temp_ce_quant = temp_ce_quant[:, 1] - temp_ce_quant[:, 0]\n",
    "delta_temp_ft_anom = temp_ft_anom[:, 1] - temp_ft_anom[:, 0]\n",
    "delta_z_ft_mod_anom = z_ft_mod_anom[:, 1] - z_ft_mod_anom[:, 0]       \n",
    "for key in delta_temp_theory_cont:\n",
    "    delta_temp_theory_cont[key]['temp_ce_change'] = delta_temp_theory_prefactors[key]['temp_a_change'] * \\\n",
    "                                                        (delta_temp_ce_mean[:, :, np.newaxis] - delta_temp_ce_quant)\n",
    "    if 'z' in key:\n",
    "        delta_temp_theory_cont[key]['temp_ft_change'] = delta_temp_theory_prefactors[key]['temp_a_change'] * delta_z_ft_mod_anom\n",
    "    else:\n",
    "        delta_temp_theory_cont[key]['temp_ft_change'] = delta_temp_theory_prefactors[key]['temp_a_change'] * delta_temp_ft_anom"
   ],
   "execution_count": 9,
   "outputs": []
  },
  {
   "metadata": {
    "ExecuteTime": {
     "end_time": "2024-05-08T16:56:59.428152Z",
     "start_time": "2024-05-08T16:56:59.154788Z"
    }
   },
   "cell_type": "code",
   "source": [
    "save_scale_factor_fig = False\n",
    "fig, ax = plt.subplots(n_exp,1, figsize=(width['one_col'], n_exp*width['one_col']/ar), sharex=True, sharey=True)\n",
    "colors_use = [default_colors[1], default_colors[2], default_colors[3], default_colors[2], default_colors[3]]\n",
    "for i in range(n_exp):\n",
    "    ax[i].plot(quant_plot, np.average((temp_quant3[i, 1, ind_surf]-temp_quant3[i, 0, ind_surf])/delta_temp_s_mean[i, :, np.newaxis], \n",
    "                                      axis=0, weights=lat_weights), label = 'Simulated', color='b')\n",
    "    for j, key in enumerate(delta_temp_theory):\n",
    "        ax[i].plot(quant_plot, np.average(delta_temp_theory[key][i]/delta_temp_s_mean[i, :, np.newaxis], weights=lat_weights, axis=0),\n",
    "                   color=colors_use[j], label=key if key[-1] != 'q' else None, linestyle='--' if key[-1]=='q' else '-')\n",
    "    ax[i].axhline(1, color='k', lw=ax_linewidth)\n",
    "    ax[i].set_title(exp_names[i])\n",
    "    ax[i].set_ylabel('Scaling factor, $\\delta T(x)/\\delta \\overline{T}$')\n",
    "ax[0].legend()\n",
    "ax[0].set_xlim([0, 100])\n",
    "ax[-1].set_xlabel(percentile_label)\n",
    "\n",
    "if save_fig or save_scale_factor_fig:\n",
    "    fig.savefig(f\"/Users/joshduffield/Desktop/scale_factor_land_{region}_{season}.pdf\",\n",
    "                dpi=dpi['combination'] if publish_fig else low_dpi, bbox_inches='tight', pad_inches=save_pad_inches)"
   ],
   "execution_count": 10,
   "outputs": []
  },
  {
   "metadata": {
    "ExecuteTime": {
     "end_time": "2024-05-08T16:56:59.791483Z",
     "start_time": "2024-05-08T16:56:59.428874Z"
    }
   },
   "cell_type": "code",
   "source": [
    "exp_plot = 'wtg_r'\n",
    "colors_breakdown = {'temp_s': default_colors[3], 'humidity': default_colors[0],  \n",
    "                    'r_change': default_colors[1], 'temp_a_change': default_colors[2], \n",
    "                    'temp_ce_change': default_colors[2], 'temp_ft_change': default_colors[2]}\n",
    "linestyles_breakdown = {key: '-' for key in colors_breakdown}\n",
    "linestyles_breakdown['temp_ce_change'] = ':'\n",
    "linestyles_breakdown['temp_ft_change'] = '--'\n",
    "labels_breakdown = {'temp_s': '$T_s$', 'humidity': f'${exp_plot[-1]}_s$', 'r_change': '$\\delta \\Delta r_s$',\n",
    "                    'temp_a_change': '$\\delta \\Delta T_A$',\n",
    "                    'temp_ce_change': None, 'temp_ft_change': None}\n",
    "\n",
    "save_sf_theory_breakdown_fig = False\n",
    "fig, ax = plt.subplots(n_exp,1, figsize=(width['one_col'], n_exp*width['one_col']/ar), sharex=True, sharey=True)\n",
    "for i in range(n_exp):\n",
    "    ax[i].plot(quant_plot, np.average(delta_temp_theory[exp_plot][i]/delta_temp_s_mean[i, :, np.newaxis], axis=0, weights=lat_weights), color='k')\n",
    "    for key in delta_temp_theory_cont[exp_plot]:\n",
    "        ax[i].plot(quant_plot, np.average(delta_temp_theory_cont[exp_plot][key][i]/delta_temp_s_mean[i, :, np.newaxis],\n",
    "                                          weights=lat_weights, axis=0)+1, color=colors_breakdown[key], \n",
    "                   linestyle=linestyles_breakdown[key], label=labels_breakdown[key])\n",
    "    ax[i].axhline(1, color='k', lw=ax_linewidth)\n",
    "    ax[i].set_ylabel('Scaling factor, $\\delta T(x)/\\delta \\overline{T}$')\n",
    "    ax[i].set_title(exp_names[i])\n",
    "ax[0].legend()\n",
    "ax[0].set_xlim(0,100)\n",
    "ax[-1].set_xlabel(percentile_label)\n",
    "\n",
    "if save_fig or save_sf_theory_breakdown_fig:\n",
    "    fig.savefig(f\"/Users/joshduffield/Desktop/scale_factor_land_breakdown_{exp_plot}_{region}_{season}.pdf\",\n",
    "                dpi=dpi['combination'] if publish_fig else low_dpi, bbox_inches='tight', pad_inches=save_pad_inches)"
   ],
   "execution_count": 11,
   "outputs": []
  },
  {
   "metadata": {},
   "cell_type": "markdown",
   "source": [
    "### $\\Delta T_A$ for each simulation\n",
    "To help understand the bottom plot above, I see how $T_{CE}(x)$ and $\\Delta T_{FT}(x)$ vary with warming below."
   ]
  },
  {
   "metadata": {
    "ExecuteTime": {
     "end_time": "2024-05-08T16:57:00.049337Z",
     "start_time": "2024-05-08T16:56:59.792496Z"
    }
   },
   "cell_type": "code",
   "source": [
    "save_temp_adiabat_fig = False\n",
    "use_temp_adiabat_z_form = False\n",
    "linestyles_kappa = ['-', '--']\n",
    "\n",
    "fig, ax = plt.subplots(4,1, figsize=(width['one_col'], 4*width['one_col']/ar), sharex=True)\n",
    "ax[0].sharey(ax[2])\n",
    "ax[2].sharey(ax[3])\n",
    "for i in range(n_exp):\n",
    "    for j in range(n_kappa):\n",
    "        if use_temp_adiabat_z_form:\n",
    "            ax[0].plot(quant_plot, np.average(temp_adiabat_anom_quant3_z_form[i], axis=0, weights=lat_weights), color=color_seq_exp[i],\n",
    "                       linestyle=linestyles_kappa[j], label=exp_names[i] if j==0 else None)\n",
    "            ax[3].plot(quant_plot, np.average(z_ft_mod_anom[i, j], axis=0, weights=lat_weights), color=color_seq_exp[i],\n",
    "                       linestyle=linestyles_kappa[j])\n",
    "        else:\n",
    "            ax[0].plot(quant_plot, np.average(temp_adiabat_anom[i, j], axis=0, weights=lat_weights), color=color_seq_exp[i], \n",
    "                       linestyle=linestyles_kappa[j], label=exp_names[i] if j==0 else None)\n",
    "            ax[3].plot(quant_plot, np.average(temp_ft_anom[i, j], axis=0, weights=lat_weights), color=color_seq_exp[i], linestyle=linestyles_kappa[j])\n",
    "        ax[1].plot(quant_plot, np.average(temp_ce_quant[i, j], axis=0, weights=lat_weights), color=color_seq_exp[i], linestyle=linestyles_kappa[j])\n",
    "        ax[1].scatter(-1, np.average(temp_ce_mean[i, j], axis=0, weights=lat_weights), marker='o' if j==0 else 'X', alpha=0.7, edgecolors=None,\n",
    "                      facecolors=color_seq_exp[i], lw=0)\n",
    "        ax[2].plot(quant_plot, np.average((temp_ce_quant[i, j]-temp_ce_mean[i, j, :, np.newaxis]), axis=0, weights=lat_weights), \n",
    "                   color=color_seq_exp[i], linestyle=linestyles_kappa[j])\n",
    "for i in range(len(ax)):\n",
    "    ax[i].axhline(0, color='k', lw=ax_linewidth)\n",
    "ax[0].set_xlim(-2, 100)\n",
    "ax[1].set_ylabel('$T_{CE}$ [K]')\n",
    "ax[2].set_ylabel('$\\Delta T_{CE}$ [K]')\n",
    "if use_temp_adiabat_z_form:\n",
    "    ax[0].set_ylabel(\"$\\Delta T_A'$ [K]\")\n",
    "    ax[3].set_ylabel('$\\\\frac{g}{R^{\\dagger}}\\Delta z_{FT}$ [K]')\n",
    "else:\n",
    "    ax[0].set_ylabel('$\\Delta T_A$ [K]')\n",
    "    ax[3].set_ylabel('$\\Delta T_{FT}$ [K]')\n",
    "ax[-1].set_xlabel(percentile_label)\n",
    "# label_subplots(fig, ax, ['a)', 'c)', 'e)', 'g)'] if season == 'summer' else ['b)', 'd)', 'f)', 'h)'], box_alpha=0)\n",
    "# ax[0].set_ylim(-13, 13)\n",
    "# ax[1].set_ylim(-2, 19)\n",
    "ax[0].legend()\n",
    "# ax[0].legend(title='$\\kappa$', fontsize=4.5, loc='lower right')\n",
    "if save_fig or save_temp_adiabat_fig:\n",
    "    fig.savefig(f\"/Users/joshduffield/Desktop/temp_adiabat_{region.lower()}_{season}.pdf\",\n",
    "                dpi=dpi['combination'] if publish_fig else low_dpi, bbox_inches='tight', pad_inches=save_pad_inches)"
   ],
   "execution_count": 12,
   "outputs": []
  },
  {
   "metadata": {},
   "cell_type": "markdown",
   "source": [
    "### Near-surface Anomalies\n",
    "The temperature and relative humidity anomalies influence the theory directly. Below, I look at these."
   ]
  },
  {
   "metadata": {
    "ExecuteTime": {
     "end_time": "2024-05-08T16:57:00.173525Z",
     "start_time": "2024-05-08T16:57:00.050208Z"
    }
   },
   "cell_type": "code",
   "source": [
    "save_near_surf_anom_fig = False\n",
    "fig, ax = plt.subplots(2,1, figsize=(width['one_col'], 2*width['one_col']/ar), sharex=True)\n",
    "for i in range(n_exp):\n",
    "    for j in range(n_kappa):\n",
    "        ax[0].plot(quant_plot, 100*np.average((temp_quant3[i, j, ind_surf]-temp_mean[i, j, ind_surf, :, np.newaxis]\n",
    "                                               )/temp_mean[i, j, ind_surf, :, np.newaxis], axis=0, weights=lat_weights),\n",
    "                   color=color_seq_exp[i], linestyle=linestyles_kappa[j], label=exp_names[i] if j==0 else None)\n",
    "        ax[1].plot(quant_plot, 100*np.average((r_quant3[i, j]-r_mean[i, j, :, np.newaxis]\n",
    "                                               )/r_mean[i, j, :, np.newaxis], axis=0, weights=lat_weights),\n",
    "                   color=color_seq_exp[i], linestyle=linestyles_kappa[j])\n",
    "for i in range(len(ax)):\n",
    "    ax[i].axhline(0, color='k', lw=ax_linewidth)\n",
    "ax[-1].set_xlabel(percentile_label)\n",
    "ax[0].set_ylabel(\"$\\Delta T_s/\\overline{T_s}$ [%]\")\n",
    "ax[1].set_ylabel(\"$\\Delta r_s/\\overline{r_s}$ [%]\")\n",
    "ax[0].legend(frameon=True, framealpha=1, edgecolor='white',title_fontsize=7, loc='lower right')\n",
    "ax[1].set_ylim([ax[1].get_ylim()[0], ax[1].get_ylim()[1]+0.5])\n",
    "ax[0].set_xlim(0, 100)\n",
    "# label_subplots(fig, ax, ['a)', 'c)'] if season == 'summer' else ['b)', 'd)'], box_alpha=0)\n",
    "\n",
    "if save_fig or save_near_surf_anom_fig:\n",
    "    fig.savefig(f\"/Users/joshduffield/Desktop/surface_anomalies_{region.lower()}_{season}.pdf\",\n",
    "                dpi=dpi['combination'] if publish_fig else low_dpi, bbox_inches='tight', pad_inches=save_pad_inches)"
   ],
   "execution_count": 13,
   "outputs": []
  },
  {
   "metadata": {},
   "cell_type": "markdown",
   "source": [
    "## Convective days as function of $x$ for each $\\kappa$\n",
    "We expect the amount of days convecting to increase with surface temperature. Below, we see that this assumption breaks down for the hottest simulations.\n",
    "\n",
    "A day is convecting if `convflag>1` (at least shallow convection) and $LNB<486hPa$. The percentage of days that satisfy this is shown in the second plot below."
   ]
  },
  {
   "metadata": {
    "ExecuteTime": {
     "end_time": "2024-05-08T16:57:00.178279Z",
     "start_time": "2024-05-08T16:57:00.174500Z"
    }
   },
   "cell_type": "code",
   "source": [
    "pressure_from_level_func = scipy.interpolate.interp1d(np.arange(len(pfull)), pfull)\n",
    "def lzb(k, interp_func=pressure_from_level_func):\n",
    "    # Offset by -1 because fortran starts with 1, but python starts with 0\n",
    "    # ds.t_ref will match exactly ds.temp if -2 used as offset, but this is not the LNB.\n",
    "    if np.size(k) == 1:\n",
    "        return float(interp_func(k-1))\n",
    "    else:\n",
    "        return interp_func(k-1)"
   ],
   "execution_count": 14,
   "outputs": []
  },
  {
   "metadata": {
    "ExecuteTime": {
     "end_time": "2024-05-08T16:57:00.353898Z",
     "start_time": "2024-05-08T16:57:00.179204Z"
    }
   },
   "cell_type": "code",
   "source": [
    "save_convflag_fig = False\n",
    "fig, ax = plt.subplots(2, 1, figsize=(width['one_col'], 2 * width['one_col'] / ar), sharex=True)\n",
    "for i in range(n_exp):\n",
    "    for j in range(n_kappa):\n",
    "        ax[0].plot(quant_plot, np.average(convflag_quant3[i, j], axis=0, weights=lat_weights), \n",
    "                   color=color_seq_exp[i], linestyle=linestyles_kappa[j], label=exp_names[i] if j==0 else None)\n",
    "        ax[1].plot(quant_plot, lzb(np.average(klzbs_quant3[i, j], axis=0, weights=lat_weights)), \n",
    "                   color=color_seq_exp[i], linestyle=linestyles_kappa[j])\n",
    "ax[1].axhline(pressure_ft_actual/100, color='k', lw=ax_linewidth)\n",
    "ax[0].legend()\n",
    "ax[0].set_ylabel('convflag')\n",
    "ax[-1].set_xlabel('Near-surface Temperature [K]')\n",
    "ax[1].invert_yaxis()\n",
    "ax[1].set_ylabel('LNB [hPa]')\n",
    "# ax.set_ylim(1, 2)\n",
    "if save_convflag_fig:\n",
    "    fig.savefig(f\"/Users/joshduffield/Desktop/convflag_{region}_{season}_kappa.pdf\",\n",
    "                dpi=dpi['combination'] if publish_fig else low_dpi, bbox_inches='tight', pad_inches=save_pad_inches)"
   ],
   "execution_count": 15,
   "outputs": []
  },
  {
   "metadata": {
    "ExecuteTime": {
     "end_time": "2024-05-08T16:57:00.443901Z",
     "start_time": "2024-05-08T16:57:00.355260Z"
    }
   },
   "cell_type": "code",
   "source": [
    "save_convfract_fig = False\n",
    "fig, ax = plt.subplots(1, 1, figsize=(width['one_col'], width['one_col'] / ar))\n",
    "for i in range(n_exp):\n",
    "    for j in range(n_kappa):\n",
    "        ax.plot(quant_plot, 100 * np.average(convfract_quant3[i, j], axis=0, weights=lat_weights),\n",
    "                color=color_seq_exp[i], linestyle=linestyles_kappa[j], label=exp_names[i] if j==0 else None)\n",
    "ax.set_xlabel(percentile_label)\n",
    "ax.set_xlim(0, 100)\n",
    "ax.set_ylim(0, 100)\n",
    "ax.set_ylabel('% of days convecting')\n",
    "ax.legend()\n",
    "# ax.legend(title='$\\kappa$')\n",
    "if save_convfract_fig:\n",
    "    fig.savefig(f\"/Users/joshduffield/Desktop/convfract_{region}_{season}_kappa.pdf\",\n",
    "                dpi=dpi['combination'] if publish_fig else low_dpi, bbox_inches='tight', pad_inches=save_pad_inches)"
   ],
   "execution_count": 16,
   "outputs": []
  },
  {
   "metadata": {
    "ExecuteTime": {
     "end_time": "2024-05-08T16:57:00.450153Z",
     "start_time": "2024-05-08T16:57:00.445538Z"
    }
   },
   "cell_type": "code",
   "source": "delta_temp_theory_cont['wtg_r'].keys()",
   "execution_count": 17,
   "outputs": []
  },
  {
   "metadata": {
    "ExecuteTime": {
     "end_time": "2024-05-08T16:57:03.155711Z",
     "start_time": "2024-05-08T16:57:00.451407Z"
    }
   },
   "cell_type": "code",
   "source": [
    "vars_with_squared = ['temp_s', 'humidity', 'r_change', 'temp_a_change', 'temp_s_squared', 'humidity_squared', 'temp_s_humidity', \n",
    "                     'temp_s_temp_a_change', 'humidity_temp_a_change', 'temp_a_change_squared', 'temp_s_r_mean_change', 'humidity_r_mean_change']\n",
    "for key in ['wtg_squared_r', 'z_squared_r']:\n",
    "    delta_temp_theory[key] = np.zeros((n_exp, n_lat, n_quant))\n",
    "    delta_temp_theory_prefactors[key] = {var: np.zeros((n_exp, n_lat, n_quant)) for var in vars_with_squared}\n",
    "    delta_temp_theory_changes[key] = {var: np.zeros((n_exp, n_lat, n_quant)) for var in vars_with_squared}\n",
    "    delta_temp_theory_cont[key] = {var: np.zeros((n_exp, n_lat, n_quant)) for var in vars_with_squared}\n",
    "\n",
    "with tqdm(total=n_exp*n_lat*2, position=0, leave=True) as pbar:\n",
    "    for i in range(n_exp):\n",
    "        for j in range(n_lat):\n",
    "            for key in ['wtg_squared_r', 'z_squared_r']:\n",
    "                delta_temp_theory[key][i, j], info_coef, info_change = \\\n",
    "                    get_delta_temp_quant_theory_simple2(temp_mean[i, :, ind_surf, j], temp_quant3[i, :, ind_surf, j], sphum_mean[i, :, j],\n",
    "                                                        sphum_quant3[i, :, j], p_surface, pressure_ft_actual, \n",
    "                                                        temp_mean[i, :, ind_ft, j] if 'z' in key else None,\n",
    "                                                        temp_quant3[i, :, ind_ft, j] if 'z' in key else None, \n",
    "                                                        z_mean[i, :, ind_ft, j] if 'z' in key else None, \n",
    "                                                        z_quant3[i, :, ind_ft, j] if 'z' in key else None, include_squared_terms=True)\n",
    "                for var in info_coef:\n",
    "                    delta_temp_theory_prefactors[key][var][i, j] = info_coef[var]\n",
    "                    delta_temp_theory_changes[key][var][i, j] = info_change[var]\n",
    "                    delta_temp_theory_cont[key][var][i, j] = info_coef[var] * info_change[var]\n",
    "                pbar.update(1)"
   ],
   "execution_count": 18,
   "outputs": []
  },
  {
   "metadata": {},
   "cell_type": "markdown",
   "source": "## Theory including squared terms\n"
  },
  {
   "metadata": {
    "ExecuteTime": {
     "end_time": "2024-05-08T16:57:03.595082Z",
     "start_time": "2024-05-08T16:57:03.156581Z"
    }
   },
   "cell_type": "code",
   "source": [
    "save_scale_factor_squared_fig = True\n",
    "fig, ax = plt.subplots(n_exp,1, figsize=(width['one_col'], n_exp*width['one_col']/ar), sharex=True, sharey=True)\n",
    "colors_use = [default_colors[2], default_colors[2], default_colors[3], default_colors[3]]\n",
    "for i in range(n_exp):\n",
    "    ax[i].plot(quant_plot, np.average((temp_quant3[i, 1, ind_surf]-temp_quant3[i, 0, ind_surf])/delta_temp_s_mean[i, :, np.newaxis], \n",
    "                                      axis=0, weights=lat_weights), label = 'Simulated', color='b')\n",
    "    for j, key in enumerate(['wtg_r', 'wtg_squared_r', 'z_r', 'z_squared_r']):\n",
    "        ax[i].plot(quant_plot, np.average(delta_temp_theory[key][i]/delta_temp_s_mean[i, :, np.newaxis], weights=lat_weights, axis=0),\n",
    "                   color=colors_use[j], label=key, linestyle='--' if 'squared' in key else '-')\n",
    "    ax[i].axhline(1, color='k', lw=ax_linewidth)\n",
    "    ax[i].set_title(exp_names[i])\n",
    "    ax[i].set_ylabel('Scaling factor, $\\delta T(x)/\\delta \\overline{T}$')\n",
    "ax[0].legend()\n",
    "ax[0].set_xlim([0, 100])\n",
    "ax[-1].set_xlabel(percentile_label)\n",
    "\n",
    "if save_fig or save_scale_factor_squared_fig:\n",
    "    fig.savefig(f\"/Users/joshduffield/Desktop/scale_factor_squared_land_{region}_{season}.pdf\",\n",
    "                dpi=dpi['combination'] if publish_fig else low_dpi, bbox_inches='tight', pad_inches=save_pad_inches)"
   ],
   "execution_count": 19,
   "outputs": []
  },
  {
   "metadata": {
    "ExecuteTime": {
     "end_time": "2024-05-08T16:57:03.975624Z",
     "start_time": "2024-05-08T16:57:03.596045Z"
    }
   },
   "cell_type": "code",
   "source": [
    "exp_plot = 'wtg_squared_r'\n",
    "colors_breakdown = {'temp_s': default_colors[3], 'humidity': default_colors[0],  \n",
    "                    'r_change': default_colors[1], 'temp_a_change': default_colors[2], \n",
    "                    'temp_s_squared': default_colors[3], 'humidity_squared': default_colors[0],\n",
    "                    'temp_s_humidity': default_colors[5],\n",
    "                    'temp_s_temp_a_change': default_colors[2], 'humidity_temp_a_change': default_colors[2], \n",
    "                    'temp_a_change_squared': default_colors[2], \n",
    "                    'temp_s_r_mean_change': default_colors[4], 'humidity_r_mean_change': default_colors[4]}\n",
    "linestyles_breakdown = {key: '-' for key in colors_breakdown}\n",
    "linestyles_breakdown['temp_s_squared'] = '--'\n",
    "linestyles_breakdown['humidity_squared'] = '--'\n",
    "linestyles_breakdown['temp_s_temp_a_change'] = ':'\n",
    "linestyles_breakdown['humidity_temp_a_change'] = '-.'\n",
    "linestyles_breakdown['temp_a_change_squared'] = '--'\n",
    "linestyles_breakdown['humidity_r_mean_change'] = '--'\n",
    "labels_breakdown = {'temp_s': '$T_s$', 'humidity': f'${exp_plot[-1]}_s$', 'r_change': '$\\delta \\Delta r_s$',\n",
    "                    'temp_a_change': '$\\delta \\Delta T_A$',\n",
    "                    'temp_s_squared': None, 'humidity_squared': None, 'temp_s_humidity': None,\n",
    "                    'temp_s_temp_a_change': None, 'humidity_temp_a_change': None, 'temp_a_change_squared': None, \n",
    "                    'temp_s_r_mean_change': '$\\delta \\overline{r_s}$', 'humidity_r_mean_change': None}\n",
    "\n",
    "save_sf_theory_squared_breakdown_fig = True\n",
    "fig, ax = plt.subplots(n_exp,1, figsize=(width['one_col'], n_exp*width['one_col']/ar), sharex=True, sharey=True)\n",
    "for i in range(n_exp):\n",
    "    ax[i].plot(quant_plot, np.average(delta_temp_theory[exp_plot][i]/delta_temp_s_mean[i, :, np.newaxis], axis=0, weights=lat_weights), color='k')\n",
    "    for key in delta_temp_theory_cont[exp_plot]:\n",
    "        ax[i].plot(quant_plot, np.average(delta_temp_theory_cont[exp_plot][key][i]/delta_temp_s_mean[i, :, np.newaxis],\n",
    "                                          weights=lat_weights, axis=0)+1, color=colors_breakdown[key], \n",
    "                   linestyle=linestyles_breakdown[key], label=labels_breakdown[key])\n",
    "    ax[i].axhline(1, color='k', lw=ax_linewidth)\n",
    "    ax[i].set_ylabel('Scaling factor, $\\delta T(x)/\\delta \\overline{T}$')\n",
    "    ax[i].set_title(exp_names[i])\n",
    "ax[0].legend()\n",
    "ax[0].set_xlim(0,100)\n",
    "ax[-1].set_xlabel(percentile_label)\n",
    "\n",
    "if save_fig or save_sf_theory_squared_breakdown_fig:\n",
    "    fig.savefig(f\"/Users/joshduffield/Desktop/scale_factor_land_breakdown_{exp_plot}_{region}_{season}.pdf\",\n",
    "                dpi=dpi['combination'] if publish_fig else low_dpi, bbox_inches='tight', pad_inches=save_pad_inches)"
   ],
   "execution_count": 20,
   "outputs": []
  },
  {
   "metadata": {
    "ExecuteTime": {
     "end_time": "2024-05-08T16:57:03.979220Z",
     "start_time": "2024-05-08T16:57:03.976445Z"
    }
   },
   "cell_type": "code",
   "source": "np.average((r_mean[:, 1] - r_mean[:, 0]) / r_mean[:, 0], weights=lat_weights, axis=1)",
   "execution_count": 21,
   "outputs": []
  },
  {
   "metadata": {
    "ExecuteTime": {
     "end_time": "2024-05-08T16:57:03.981099Z",
     "start_time": "2024-05-08T16:57:03.979889Z"
    }
   },
   "cell_type": "code",
   "source": "",
   "execution_count": 21,
   "outputs": []
  }
 ],
 "metadata": {
  "kernelspec": {
   "display_name": "Python 3",
   "language": "python",
   "name": "python3"
  },
  "language_info": {
   "codemirror_mode": {
    "name": "ipython",
    "version": 2
   },
   "file_extension": ".py",
   "mimetype": "text/x-python",
   "name": "python",
   "nbconvert_exporter": "python",
   "pygments_lexer": "ipython2",
   "version": "2.7.6"
  }
 },
 "nbformat": 4,
 "nbformat_minor": 0
}
