{
 "cells": [
  {
   "cell_type": "markdown",
   "source": [
    "# Publishing Figures - Land vs Aqua comparison\n",
    "This obtains all figures for a combining all simulations of differing optical depth that only require the surface variables."
   ],
   "metadata": {
    "collapsed": false
   }
  },
  {
   "cell_type": "code",
   "source": [
    "import sys\n",
    "import os\n",
    "# REMOTE - So can access functions in isca_tools which is in home/Isca directory\n",
    "# sys.path.append(os.path.join(os.environ['HOME'], 'Isca'))\n",
    "# LOCAL - So can access functions in isca_tools which is in StAndrews/Isca\n",
    "sys.path.append(os.environ['PWD'])\n",
    "import isca_tools\n",
    "from isca_tools.utils.moist_physics import clausius_clapeyron_factor, sphum_sat, moist_static_energy\n",
    "from isca_tools.utils.constants import L_v, c_p\n",
    "from isca_tools.utils import area_weight_mean_lat, area_weighting\n",
    "from isca_tools.utils.stats import z_score_from_confidence_interval\n",
    "from isca_tools.thesis.adiabat_theory import get_scaling_factor_theory, get_gamma_factors, get_temp_adiabat\n",
    "from isca_tools.papers.byrne_2021 import get_quant_ind\n",
    "from isca_tools.plot import label_subplots\n",
    "import numpy as np\n",
    "import matplotlib.pyplot as plt\n",
    "import xarray as xr\n",
    "import scipy.optimize\n",
    "from tqdm import tqdm\n",
    "import os\n",
    "import numpy_indexed\n",
    "from scipy.stats import median_abs_deviation\n",
    "import matplotlib.transforms as mtransforms\n",
    "from isca_tools.papers.miyawaki_2022 import get_dmse_dt, get_dvmse_dy, get_r1\n",
    "from isca_tools.utils.radiation import frierson_atmospheric_heating\n",
    "plt.style.use('/Users/joshduffield/Documents/StAndrews/Isca/jobs/tau_sweep/aquaplanet/publish_figures/publish.mplstyle')"
   ],
   "metadata": {
    "collapsed": false,
    "ExecuteTime": {
     "end_time": "2024-07-23T00:40:35.395790Z",
     "start_time": "2024-07-23T00:40:34.394867Z"
    }
   },
   "outputs": [
    {
     "name": "stderr",
     "output_type": "stream",
     "text": [
      "2024-07-22 19:40:34,401 - isca - WARNING - Environment variable GFDL_SOC not set, but this is only required if using SocratesCodebase. Setting to None\n"
     ]
    }
   ],
   "execution_count": 1
  },
  {
   "cell_type": "code",
   "source": [
    "# Load dataset\n",
    "var_keep = ['temp', 'sphum', 'height']\n",
    "\n",
    "# Don't include actual bucket, as looks very similar to bucket with vegetation param\n",
    "exp_names = ['Aquaplanet', 'Land']\n",
    "exp_dir = ['tau_sweep/aquaplanet/depth=1/',\n",
    "           'tau_sweep/land/meridional_band/depth=1/bucket_evap/']\n",
    "# exp_names = ['Aquaplanet', 'Bucket']\n",
    "# exp_dir = ['tau_sweep/aquaplanet/depth=1/',\n",
    "#            'tau_sweep/land/meridional_band/depth=1/bucket_evap/']\n",
    "color_seq_exp = ['b', 'r']\n",
    "pressure_ft = 500               # Desired approximate pressure of free troposphere (hPa)\n",
    "\n",
    "tau_lw_ref = 1\n",
    "tau_lw_warm = 1.5\n",
    "kappa_names = [f\"k={str(tau_lw_ref).replace('.','_')}\", f\"k={str(tau_lw_warm).replace('.','_')}\"]\n",
    "kappa_names.sort()\n",
    "# kappa_names = kappa_names[2:-1]     # get rid of coldest 2 and warmest simulation as don't work well\n",
    "n_exp = len(exp_names)\n",
    "n_kappa = len(kappa_names)\n",
    "ds = [[] for i in range(n_exp)]\n",
    "albedo = []\n",
    "tau_sw = []\n",
    "tau_lw = []\n",
    "with tqdm(total=n_exp * n_kappa, position=0, leave=True) as pbar:\n",
    "    for i in range(n_exp):\n",
    "        for j in range(n_kappa):\n",
    "            ds_use = isca_tools.load_dataset(exp_dir[i] + kappa_names[j])[var_keep]\n",
    "            ds[i] += [ds_use.sel(pfull=[np.inf, pressure_ft], method='nearest')]      # only keep the surface values\n",
    "            namelist = isca_tools.load_namelist(exp_dir[i] + kappa_names[j])  # Need this for albedo_value\n",
    "            if i == 0:\n",
    "                albedo += [namelist['mixed_layer_nml']['albedo_value']]\n",
    "                tau_sw += [namelist['two_stream_gray_rad_nml']['atm_abs']]\n",
    "                tau_lw += [namelist['two_stream_gray_rad_nml']['odp']]\n",
    "            pbar.update(1)\n",
    "tau_lw = np.asarray(tau_lw)\n",
    "ind_surf = 0\n",
    "ind_ft = 1\n",
    "p_surface = float(ds[0][0].pfull[ind_surf]) * 100\n",
    "pressure_ft_actual = float(ds[0][0].pfull[ind_ft]) * 100\n",
    "n_pressure = 2"
   ],
   "metadata": {
    "collapsed": false,
    "ExecuteTime": {
     "end_time": "2024-07-23T00:40:45.992296Z",
     "start_time": "2024-07-23T00:40:39.723062Z"
    }
   },
   "outputs": [
    {
     "name": "stderr",
     "output_type": "stream",
     "text": [
      "100%|██████████| 4/4 [00:06<00:00,  1.56s/it]\n"
     ]
    }
   ],
   "execution_count": 2
  },
  {
   "cell_type": "markdown",
   "source": [
    "## Get datasets\n",
    "Get one dataset for each $\\kappa$, combining the desired latitudes: `ds_all`. This combines all or just the summer months in each hemisphere, e.g. negative latitudes will only correspond to times in December, January or February."
   ],
   "metadata": {
    "collapsed": false
   }
  },
  {
   "cell_type": "code",
   "source": [
    "# If true, will save all figures to desktop - option to save specific figures later on.\n",
    "save_fig = False\n",
    "# if publishing figure, use high dpi\n",
    "publish_fig = True\n",
    "\n",
    "ar = 4/3        # aspect ratio (width/height)\n",
    "# Details required for Journal of Climate Figures\n",
    "low_dpi = 100\n",
    "dpi = {'monochrome': 1100, 'combination': 800, 'halftone': 300}\n",
    "width = {'one_col': 3.2, 'two_col': 5.5}        # width in inches \n",
    "save_pad_inches = 0.05\n",
    "\n",
    "# Default parameters\n",
    "default_colors = plt.rcParams['axes.prop_cycle'].by_key()['color']\n",
    "ax_linewidth = plt.rcParams['axes.linewidth']\n",
    "\n",
    "def moving_average(x, w):\n",
    "    return np.convolve(x, np.ones(w), 'valid') / w"
   ],
   "metadata": {
    "collapsed": false,
    "ExecuteTime": {
     "end_time": "2024-06-18T11:10:35.954173Z",
     "start_time": "2024-06-18T11:10:35.951434Z"
    }
   },
   "outputs": [],
   "execution_count": 3
  },
  {
   "cell_type": "code",
   "source": [
    "# Show where the land is\n",
    "save_land_fig = False\n",
    "\n",
    "job_dir = os.path.join(os.path.dirname(os.environ['GFDL_DATA']), 'jobs')\n",
    "land_file_name = os.path.join(job_dir, exp_dir[1], kappa_names[0], 'land.nc')\n",
    "# isca_tools.plot.show_land(land_file_name)\n",
    "fig, ax = plt.subplots(1,1, figsize=(width['one_col'], width['one_col']/ar))\n",
    "isca_tools.plot.show_land(land_file_name, fig=fig, ax=ax)\n",
    "lon_land = isca_tools.utils.land.get_land_coords(land_file=land_file_name)[1]       # get the longitude coordinates of land\n",
    "\n",
    "if save_fig or save_land_fig:\n",
    "    fig.savefig(f\"/Users/joshduffield/Desktop/land_coords.pdf\",\n",
    "                dpi=dpi['combination'] if publish_fig else low_dpi, bbox_inches='tight', pad_inches=save_pad_inches)"
   ],
   "metadata": {
    "collapsed": false,
    "ExecuteTime": {
     "end_time": "2024-06-18T11:10:36.091450Z",
     "start_time": "2024-06-18T11:10:35.955248Z"
    }
   },
   "outputs": [
    {
     "data": {
      "text/plain": [
       "<Figure size 320x240 with 1 Axes>"
      ],
      "image/png": "[encoded data removed]"
     },
     "metadata": {},
     "output_type": "display_data"
    }
   ],
   "execution_count": 4
  },
  {
   "cell_type": "code",
   "source": [
    "# Load in across all latitudes, for given season\n",
    "use_time_start = 360*2\n",
    "\n",
    "# Chose whether to only consider summer days or consider all days\n",
    "# season = 'all'\n",
    "season = 'summer'   # NOTE - if summer, does not give many days corresponding to high percentiles as only 5 years of data used\n",
    "\n",
    "# Select region to combine latitudes over for all but one of the plots below\n",
    "# Tropics\n",
    "region = 'tropics'\n",
    "lat_min = 0\n",
    "lat_max = 20\n",
    "\n",
    "if season == 'summer':\n",
    "    if region == 'tropics':\n",
    "        season_months = {'nh': [5, 6, 7, 8, 9, 10], 'sh': [11, 12, 1, 2, 3, 4]}\n",
    "    else:\n",
    "        season_months = {'nh': [6, 7, 8], 'sh': [12, 1, 2]}   # JJA for NH and DJF for SH\n",
    "elif season == 'winter':\n",
    "    if region == 'tropics':\n",
    "        season_months = {'sh': [5, 6, 7, 8, 9, 10], 'nh': [11, 12, 1, 2, 3, 4]}\n",
    "    else:\n",
    "        season_months = {'sh': [6, 7, 8], 'nh': [12, 1, 2]}\n",
    "\n",
    "av_region = 'land'\n",
    "# av_region = 'all'\n",
    "av_method = 'median'    # take averaged conditioned on all days with surf temp equal 50th percentile - avoids issues with sphum_mean vs r_mean\n",
    "# av_method = 'mean'\n",
    "quant_median = 50\n",
    "\n",
    "lat_use_ind = np.where((np.abs(ds[0][0].lat) <= lat_max) & (np.abs(ds[0][0].lat) >= lat_min))[0]\n",
    "n_lat = len(lat_use_ind)\n",
    "lat_weights = np.cos(np.deg2rad(ds[0][0].lat))[lat_use_ind]\n",
    "\n",
    "ds_all = [[] for i in range(n_exp)]                             # ds_all is n_exp x n_kappa\n",
    "ds_av = [[[] for j in range(n_kappa)] for i in range(n_exp)]    # ds_av is n_exp x n_kappa x n_lat\n",
    "with tqdm(total=n_exp * n_kappa, position=0, leave=True) as pbar:\n",
    "    for i in range(n_exp):\n",
    "        for j in range(n_kappa):\n",
    "            ds_use = ds[i][j].sel(time=slice(use_time_start, np.inf))\n",
    "            ds_use = ds_use.isel(lat=lat_use_ind)   # only keep latitudes being used to save memory\n",
    "            \n",
    "            if av_region == 'all':\n",
    "                if av_method == 'mean':\n",
    "                    ds_av_use = ds_use.mean(dim=['lon', 'time']).load()\n",
    "                    ds_av[i][j] = [ds_av_use.isel(lat=k) for k in range(n_lat)]\n",
    "                elif av_method == 'median':\n",
    "                    ds_av_use = ds_use.stack(lon_time=(\"lon\",\"time\"), create_index=False).chunk(dict(lon_time=-1)).load()\n",
    "                    for k in range(n_lat):\n",
    "                        use_ind = get_quant_ind(ds_av_use.temp.isel(pfull=ind_surf, lat=k), quant_median, 0.5, 0.5)\n",
    "                        ds_av[i][j] += [ds_av_use.isel(lat=k).isel(lon_time=use_ind).mean(dim='lon_time')]\n",
    "            \n",
    "            if 'aqua' not in exp_names[i].lower():\n",
    "                # if not aquaplanet, then is land and only consider land longitudes\n",
    "                ds_use = ds_use.isel(lon=np.where(np.isin(ds_use.lon, np.unique(lon_land)))[0])\n",
    "    \n",
    "            if season == 'summer':\n",
    "                ds_nh_summer = isca_tools.utils.annual_time_slice(ds_use, season_months['nh']).sel(lat=slice(0, 90))\n",
    "                ds_sh_summer = isca_tools.utils.annual_time_slice(ds_use, season_months['sh']).sel(lat=slice(-90, 0))\n",
    "                # Combine hemispheres and average over longitude, time and latitude.\n",
    "                ds_use = xr.concat([ds_sh_summer, ds_nh_summer], dim='lat')\n",
    "            ds_use = ds_use.stack(lon_time=(\"lon\",\"time\"), create_index=False).chunk(dict(lon_time=-1)).load()\n",
    "            ds_all[i] += [ds_use]\n",
    "            if av_region == 'land':\n",
    "                # Only take mean over land coordinates for land simulations\n",
    "                # For aquaplanet, av_region is irrelevant.\n",
    "                if av_method == 'mean':\n",
    "                    ds_av_use = ds_use.mean(dim='lon_time')\n",
    "                    ds_av[i][j] = [ds_av_use.isel(lat=k) for k in range(n_lat)]\n",
    "                elif av_method == 'median':\n",
    "                    for k in range(n_lat):\n",
    "                        use_ind = get_quant_ind(ds_use.temp.isel(pfull=ind_surf, lat=k), quant_median, 0.5, 0.5)\n",
    "                        ds_av[i][j] += [ds_use.isel(lat=k).isel(lon_time=use_ind).mean(dim='lon_time')]\n",
    "            elif av_region != 'all':\n",
    "                raise ValueError(f'Mean method is {av_region} which is not valid.')\n",
    "            pbar.update(1)"
   ],
   "metadata": {
    "collapsed": false,
    "ExecuteTime": {
     "end_time": "2024-06-18T11:11:19.321837Z",
     "start_time": "2024-06-18T11:10:36.093084Z"
    }
   },
   "outputs": [
    {
     "name": "stderr",
     "output_type": "stream",
     "text": [
      "100%|██████████| 4/4 [00:43<00:00, 10.80s/it]\n"
     ]
    }
   ],
   "execution_count": 5
  },
  {
   "cell_type": "markdown",
   "source": [
    "## Near Surface Temperature Quantile\n",
    "Plot quantile of near surface air temperature vs global average near surface air temperature for a given latitude band.\n",
    "\n",
    "Near surface air temperature is the temperature at the lowest pressure level.\n",
    "\n",
    "Here, we compute the quantile at each latitude coordinate across all longitudes and time and then average over these.\n",
    "\n",
    "We average over all times after 2 years because, from the spin up plot above, after 2 years, the simulation has converged into a regular pattern, with a net TOA flux centered on 0."
   ],
   "metadata": {
    "collapsed": false
   }
  },
  {
   "cell_type": "code",
   "source": [
    "# Need to choose quantile method, use 'temp' for comparison with land.\n",
    "percentile_label = 'Temperature percentile, $x$'\n",
    "\n",
    "# Get all data needed to compute theoretical temp change and to plot actual temp change for each quantile of temperature\n",
    "quantiles_all = np.arange(1, 100)   # avoid 0 quantile as it gives weird results\n",
    "n_quant_all = len(quantiles_all)     \n",
    "\n",
    "temp_av = np.zeros((n_exp, n_kappa, n_pressure, n_lat))\n",
    "z_av = np.zeros((n_exp, n_kappa, n_pressure, n_lat))\n",
    "sphum_av = np.zeros((n_exp, n_kappa, n_lat))\n",
    "temp_adiabat_av = np.zeros((n_exp, n_kappa, n_lat))\n",
    "\n",
    "# quant3 is the actual quantile value rather than the average above a given quantile\n",
    "temp_quant3 = np.zeros((n_exp, n_kappa, n_pressure, n_lat, n_quant_all))\n",
    "z_quant3 = np.zeros((n_exp, n_kappa, n_pressure, n_lat, n_quant_all))\n",
    "# specific humidity as function of specific humidity quantile not temp quantile\n",
    "sphum_quant3 = np.zeros((n_exp, n_kappa, n_lat, n_quant_all))\n",
    "# mse as function of mse quantile not temp quantile\n",
    "\n",
    "with tqdm(total=n_exp*n_kappa*n_quant_all*n_lat, position=0, leave=True) as pbar:\n",
    "    for i in range(n_exp):\n",
    "        for j in range(n_kappa):\n",
    "            ds_use = ds_all[i][j]\n",
    "            # temp_quant3[i, j] = ds_use.temp.quantile(quantiles_all/100, dim='lon_time', keep_attrs=True).transpose()\n",
    "            for k in range(n_lat):\n",
    "                temp_av[i, j, :, k] = ds_av[i][j][k].temp\n",
    "                z_av[i, j, :, k] = ds_av[i][j][k].height\n",
    "                sphum_av[i, j, k] = ds_av[i][j][k].sphum.isel(pfull=ind_surf)\n",
    "                temp_adiabat_av[i, j, k] = get_temp_adiabat(temp_av[i, j, ind_surf, k], sphum_av[i, j, k], p_surface, pressure_ft_actual)\n",
    "                for q, quant in enumerate(quantiles_all):\n",
    "                    use_ind = get_quant_ind(ds_use.temp[ind_surf, k], quant, 0.5, 0.5)\n",
    "                    temp_quant3[i, j, :, k, q] = ds_use.temp[:, k, use_ind].mean(dim='lon_time')\n",
    "                    z_quant3[i, j, :, k, q] = ds_use.height[:, k, use_ind].mean(dim='lon_time')\n",
    "                    sphum_quant3[i, j, k, q] = ds_use.sphum[ind_surf, k, use_ind].mean(dim='lon_time')\n",
    "                    pbar.update(1)\n",
    "r_av = sphum_av / sphum_sat(temp_av[:, :, ind_surf], p_surface)\n",
    "r_quant3 = sphum_quant3 / sphum_sat(temp_quant3[:, :, ind_surf], p_surface)\n",
    "r_anom = r_quant3 - r_av[:, :, :, np.newaxis]"
   ],
   "metadata": {
    "collapsed": false,
    "ExecuteTime": {
     "end_time": "2024-06-18T11:13:40.582671Z",
     "start_time": "2024-06-18T11:13:16.206849Z"
    }
   },
   "outputs": [
    {
     "name": "stderr",
     "output_type": "stream",
     "text": [
      "100%|██████████| 5544/5544 [00:24<00:00, 227.60it/s]\n"
     ]
    }
   ],
   "execution_count": 17
  },
  {
   "metadata": {},
   "cell_type": "markdown",
   "source": [
    "## Breakdown of difference in Dry get Hotter between aquaplanet and land\n",
    "The scaling factor contribution to the dry get hotter mechanism is $-\\frac{\\gamma_r}{\\overline{r_s}}\\Delta r_s(x)$. We can split the difference in this between aquaplanet and land into three terms:\n",
    "\n",
    "$\\left(-\\frac{\\gamma_r}{\\overline{r_s}}\\Delta r_s(x)\\right)\\bigg|_{land-aqua} = -\\Delta r_{s,aqua}(x)\\left(\\frac{\\gamma_r}{\\overline{r_s}}\\right)\\bigg|_{land-aqua} - \\frac{\\gamma_{r, aqua}}{\\overline{r_{s, aqua}}} \\Delta r_s(x) |_{land - aqua} - \\left(\\frac{\\gamma_r}{\\overline{r_s}}\\right)\\bigg|_{land-aqua} \\Delta r_s(x) |_{land - aqua}$\n",
    "\n",
    "The first is the sensitivity difference, the second is the anomaly difference and the third is the non-linear term."
   ]
  },
  {
   "metadata": {
    "ExecuteTime": {
     "end_time": "2024-06-18T11:23:30.764795Z",
     "start_time": "2024-06-18T11:23:30.715505Z"
    }
   },
   "cell_type": "code",
   "source": [
    "gamma_r = np.zeros((n_exp, n_kappa, n_lat))\n",
    "sf_r0_cont = np.zeros((n_exp, n_lat, n_quant_all))\n",
    "for i in range(n_exp):\n",
    "    for k in range(n_lat):\n",
    "        for j in range(n_kappa):\n",
    "            gamma_r[i, j, k] = get_gamma_factors(temp_av[i, j, ind_surf, k], sphum_av[i, j, k], temp_adiabat_av[i, j, k], \n",
    "                                                 p_surface, pressure_ft_actual)['t_mean_change']['r0']\n",
    "        sf_r0_cont[i, k] = get_scaling_factor_theory(temp_av[i, :, ind_surf, k], temp_quant3[i, :, ind_surf, k], \n",
    "                                                      sphum_av[i, :, k], sphum_quant3[i, :, k], p_surface, pressure_ft_actual,\n",
    "                                                      temp_av[i, :, ind_ft, k], temp_quant3[i, :, ind_ft, k], \n",
    "                                                      z_av[i, :, ind_ft, k], z_quant3[i, :, ind_ft, k],\n",
    "                                                      non_linear=False, use_temp_adiabat=True, \n",
    "                                                      strict_conv_eqb=True, \n",
    "                                                      simple=True)[3]['t_mean_change']['r0']"
   ],
   "outputs": [],
   "execution_count": 40
  },
  {
   "metadata": {
    "ExecuteTime": {
     "end_time": "2024-06-18T11:40:23.982708Z",
     "start_time": "2024-06-18T11:40:23.851240Z"
    }
   },
   "cell_type": "code",
   "source": [
    "gamma_cont = -(gamma_r[1, 0]/r_av[1,0] - gamma_r[0, 0]/r_av[0,0])[:, np.newaxis] * r_anom[0, 0]\n",
    "r_anom_cont = -(gamma_r[0, 0]/r_av[0,0])[:, np.newaxis] * (r_anom[1, 0] - r_anom[0, 0])\n",
    "non_linear_cont = -(gamma_r[1, 0]/r_av[1,0] - gamma_r[0, 0]/r_av[0,0])[:, np.newaxis] * (r_anom[1, 0] - r_anom[0, 0])\n",
    "\n",
    "save_dry_hotter_diff_fig = False\n",
    "fig, ax = plt.subplots(1,1, figsize=(width['one_col'], width['one_col']/ar))\n",
    "ax.plot(quantiles_all, 1+np.average(sf_r0_cont[1]-sf_r0_cont[0], axis=0, weights=lat_weights), color='k', label='Sum')\n",
    "ax.plot(quantiles_all, 1+np.average(gamma_cont, axis=0, weights=lat_weights), color='k', linestyle=':', label='$\\gamma_r/\\overline{r_s}$')\n",
    "ax.plot(quantiles_all, 1+np.average(r_anom_cont, axis=0, weights=lat_weights), color='k', linestyle='--', label='$\\Delta r_s$')\n",
    "ax.plot(quantiles_all, 1+np.average(non_linear_cont, axis=0, weights=lat_weights), color='k', linestyle='-.', label='Non linear')\n",
    "# plt.plot(quantiles_all, np.average(non_linear_cont+r_anom_cont+gamma_cont, axis=0, weights=lat_weights))   # sanity check\n",
    "\n",
    "ax.axhline(1, color='k', lw=ax_linewidth)\n",
    "ax.set_ylabel('Scaling factor, $\\delta T_s(x)/\\delta \\overline{T_s}$')\n",
    "ax.set_xlabel(percentile_label)\n",
    "ax.set_xlim(0, 100)\n",
    "ax.legend()\n",
    "\n",
    "if save_fig or save_dry_hotter_diff_fig:\n",
    "    fig.savefig(f\"/Users/joshduffield/Desktop/dry_hotter_diff.pdf\",\n",
    "                dpi=dpi['combination'] if publish_fig else low_dpi, bbox_inches='tight', pad_inches=save_pad_inches)"
   ],
   "outputs": [
    {
     "data": {
      "text/plain": [
       "<Figure size 320x240 with 1 Axes>"
      ],
      "image/png": "[encoded data removed]"
     },
     "metadata": {},
     "output_type": "display_data"
    }
   ],
   "execution_count": 65
  },
  {
   "metadata": {
    "ExecuteTime": {
     "end_time": "2024-06-18T11:31:50.039721Z",
     "start_time": "2024-06-18T11:31:50.029519Z"
    }
   },
   "cell_type": "code",
   "source": "",
   "outputs": [],
   "execution_count": 41
  },
  {
   "metadata": {},
   "cell_type": "code",
   "outputs": [],
   "execution_count": null,
   "source": ""
  }
 ],
 "metadata": {
  "kernelspec": {
   "display_name": "Python 3",
   "language": "python",
   "name": "python3"
  },
  "language_info": {
   "codemirror_mode": {
    "name": "ipython",
    "version": 2
   },
   "file_extension": ".py",
   "mimetype": "text/x-python",
   "name": "python",
   "nbconvert_exporter": "python",
   "pygments_lexer": "ipython2",
   "version": "2.7.6"
  }
 },
 "nbformat": 4,
 "nbformat_minor": 0
}
