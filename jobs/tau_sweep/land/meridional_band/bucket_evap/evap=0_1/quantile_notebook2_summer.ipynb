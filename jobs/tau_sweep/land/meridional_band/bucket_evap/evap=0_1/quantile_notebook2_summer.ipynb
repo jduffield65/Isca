{
 "cells": [
  {
   "cell_type": "markdown",
   "source": [
    "# Near Surface Air Temperature Quantile Notebook\n",
    "This notebook looks at how the high quantiles for near surface air temperature vary with longwave optical depth ($CO_2$ concentration proxy) on an aquaplanet.\n",
    "\n",
    "It is the same as `quantile_notebook.ipynb` except that it uses near surface air temperature (temperature at lowest pressure level recorded) rather than surface temperature.\n",
    "\n",
    "The conclusions remain the same as with that notebook."
   ],
   "metadata": {
    "collapsed": false
   }
  },
  {
   "cell_type": "code",
   "execution_count": 1,
   "outputs": [
    {
     "name": "stderr",
     "output_type": "stream",
     "text": [
      "2023-05-07 22:01:53,802 - isca - WARNING - Environment variable GFDL_SOC not set, but this is only required if using SocratesCodebase. Setting to None\n"
     ]
    }
   ],
   "source": [
    "import sys\n",
    "import os\n",
    "# REMOTE - So can access functions in isca_tools which is in home/Isca directory\n",
    "# sys.path.append(os.path.join(os.environ['HOME'], 'Isca'))\n",
    "# LOCAL - So can access functions in isca_tools which is in StAndrews/Isca\n",
    "sys.path.append(os.environ['PWD'])\n",
    "import isca_tools\n",
    "from isca_tools.utils.moist_physics import clausius_clapeyron_factor, sphum_sat, moist_static_energy\n",
    "from isca_tools.utils.constants import L_v, c_p\n",
    "from isca_tools.utils import area_weight_mean_lat, area_weighting\n",
    "import numpy as np\n",
    "import matplotlib.pyplot as plt\n",
    "import xarray as xr\n",
    "import scipy.optimize\n",
    "from tqdm import tqdm\n",
    "import os\n",
    "from scipy.stats import percentileofscore\n",
    "import numpy_indexed\n",
    "import warnings"
   ],
   "metadata": {
    "collapsed": false,
    "ExecuteTime": {
     "end_time": "2023-05-07T21:01:54.843890Z",
     "start_time": "2023-05-07T21:01:53.798980Z"
    }
   }
  },
  {
   "cell_type": "code",
   "execution_count": 2,
   "outputs": [
    {
     "name": "stderr",
     "output_type": "stream",
     "text": [
      "100%|██████████| 9/9 [00:12<00:00,  1.38s/it]\n"
     ]
    }
   ],
   "source": [
    "# Load dataset\n",
    "var_keep = ['temp', 'sphum', 'height']\n",
    "exp_dir = 'tau_sweep/land/meridional_band/bucket_evap/evap=0_1/'\n",
    "exp_names = [dir for dir in os.listdir(os.path.join(os.environ['GFDL_DATA'],exp_dir)) if dir[0]=='k']\n",
    "exp_names.sort()\n",
    "n_exp = len(exp_names)\n",
    "ds = []\n",
    "albedo = []\n",
    "tau_sw = []\n",
    "tau_lw = []\n",
    "for i in tqdm(range(n_exp)):\n",
    "    ds_use = isca_tools.load_dataset(exp_dir + exp_names[i])[var_keep]\n",
    "    ds += [ds_use.sel(pfull=[np.inf], method='nearest')]      # only keep the surface values\n",
    "    namelist = isca_tools.load_namelist(exp_dir + exp_names[i])  # Need this for albedo_value\n",
    "    albedo += [namelist['mixed_layer_nml']['albedo_value']]\n",
    "    tau_sw += [namelist['two_stream_gray_rad_nml']['atm_abs']]\n",
    "    tau_lw += [namelist['two_stream_gray_rad_nml']['odp']]\n",
    "tau_lw = np.asarray(tau_lw)\n",
    "p_surface = float(ds[0].pfull[-1]) * 100"
   ],
   "metadata": {
    "collapsed": false,
    "ExecuteTime": {
     "end_time": "2023-05-07T21:02:07.239978Z",
     "start_time": "2023-05-07T21:01:54.846420Z"
    }
   }
  },
  {
   "cell_type": "code",
   "execution_count": 3,
   "outputs": [
    {
     "data": {
      "text/plain": "<Figure size 640x480 with 1 Axes>",
      "image/png": "[encoded data removed]"
     },
     "metadata": {},
     "output_type": "display_data"
    }
   ],
   "source": [
    "# Show where the land is\n",
    "job_dir = os.path.join(os.path.dirname(os.environ['GFDL_DATA']), 'jobs')\n",
    "land_file_name = os.path.join(job_dir, exp_dir, exp_names[0], 'land.nc')\n",
    "isca_tools.plot.show_land(land_file_name)"
   ],
   "metadata": {
    "collapsed": false,
    "ExecuteTime": {
     "end_time": "2023-05-07T21:02:07.420858Z",
     "start_time": "2023-05-07T21:02:07.241174Z"
    }
   }
  },
  {
   "cell_type": "markdown",
   "source": [
    "## Near Surface Temperature Quantile\n",
    "Plot quantile of near surface air temperature vs global average near surface air temperature for a given latitude band.\n",
    "\n",
    "Near surface air temperature is the temperature at the lowest pressure level.\n",
    "\n",
    "Here, we compute the quantile at each latitude coordinate across all longitudes and time and then average over these.\n",
    "\n",
    "We average over all times after 2 years because, from the spin up plot above, after 2 years, the simulation has converged into a regular pattern, with a net TOA flux centered on 0."
   ],
   "metadata": {
    "collapsed": false
   }
  },
  {
   "cell_type": "code",
   "execution_count": 4,
   "outputs": [
    {
     "name": "stderr",
     "output_type": "stream",
     "text": [
      " 11%|█         | 2/18 [00:18<02:24,  9.03s/it]\n",
      "\n",
      "KeyboardInterrupt\n",
      "\n"
     ]
    }
   ],
   "source": [
    "# Compute Global Average Surface Temperature and get near surface temperature data\n",
    "# Use all data after 2 years, as clearly converged from the above spin up plot\n",
    "use_time_start = 360*2\n",
    "\n",
    "lon = {}\n",
    "lon['land'] = isca_tools.utils.land.get_land_coords(land_file=land_file_name)[1]\n",
    "lon['ocean'] = isca_tools.utils.land.get_ocean_coords(land_file=land_file_name)[1]\n",
    "\n",
    "# Chose whether to only consider summer days or consider all days\n",
    "# season = 'summer'\n",
    "season = 'all'\n",
    "\n",
    "# Tropics\n",
    "# region = 'tropics'\n",
    "# lat_min = 0\n",
    "# lat_max = 20\n",
    "# Extratropics\n",
    "# region = 'extratropics'\n",
    "# lat_min = 40\n",
    "# lat_max = 65\n",
    "# Poles\n",
    "# region = 'High Latitudes'\n",
    "# lat_min = 70\n",
    "# lat_max = 90\n",
    "region = 'Global'\n",
    "lat_min = 0\n",
    "lat_max = 90\n",
    "\n",
    "temp_av = {'ocean': np.zeros(n_exp), 'land': np.zeros(n_exp)}\n",
    "ds_all = {'ocean': [], 'land': []}    # near surface temperature for each optical depth value\n",
    "with tqdm(total=n_exp * 2, position=0, leave=True) as pbar:\n",
    "    for i in range(n_exp):\n",
    "        ds_use = ds[i].sel(pfull=p_surface/100, drop=True)      # get rid of pressure coordinate\n",
    "        ds_use = ds_use.sel(time=slice(use_time_start, np.inf))\n",
    "        ds_use = ds_use.where((np.abs(ds_use.lat) < lat_max) & (np.abs(ds_use.lat) >= lat_min), drop=True)\n",
    "        if season == 'summer':\n",
    "            # Only consider summer as has expected circulation\n",
    "            ds_nh_summer = isca_tools.utils.annual_time_slice(ds_use, [7, 8, 9]).sel(lat=slice(lat_min, lat_max))       # NH summer is JAS\n",
    "            ds_sh_summer = isca_tools.utils.annual_time_slice(ds_use, [1, 2, 3]).sel(lat=slice(-lat_max, -lat_min))     # SH summer is JFM\n",
    "            # Combine hemispheres and average over longitude, time and latitude.\n",
    "            # Note that April, May, June, October, November and December will not be included in this dataset\n",
    "            ds_use = xr.concat([ds_sh_summer, ds_nh_summer], dim='lat')\n",
    "        ds_use = ds_use.stack(lon_lat_time=(\"lat\",\"lon\",\"time\"), create_index=False).chunk(dict(lon_lat_time=-1))\n",
    "        if season == 'summer':\n",
    "            # Get rid of nan values corresponding to the winter hemisphere - half the values are nan\n",
    "            ds_use = ds_use.sel(lon_lat_time = ds_use.lon_lat_time[np.invert(np.isnan(ds_use.temp))].to_numpy())\n",
    "        ds_use = ds_use.load()\n",
    "        for surf in ['land', 'ocean']:\n",
    "            ds_all[surf] += [ds_use.isel(lon_lat_time=np.where(np.isin(ds_use.lon, np.unique(lon[surf])))[0])]\n",
    "            temp_av[surf][i] = area_weighting(ds_all[surf][i].temp).mean(dim=['lon_lat_time'])\n",
    "            pbar.update(1)"
   ],
   "metadata": {
    "collapsed": false,
    "ExecuteTime": {
     "end_time": "2023-05-07T21:02:25.725559Z",
     "start_time": "2023-05-07T21:02:07.424669Z"
    }
   }
  },
  {
   "cell_type": "code",
   "execution_count": null,
   "outputs": [],
   "source": [
    "# Compute quantile near surface temperature across longitude, latitude and time dimension\n",
    "# This takes about 3 minutes to run for tropics, 15 minutes for global\n",
    "def get_quant_ind(use_var, percentile, range_below=0, range_above=np.inf):\n",
    "    # Have quantile in range instead of above a given percentile\n",
    "    # The default is still above a given percentile though\n",
    "    quant_min = np.clip(percentile-range_below, 0, 100)\n",
    "    quant_max = np.clip(percentile+range_above, 0, 100)\n",
    "    # Function to find indices in dataset corresponding to surface temperature above a given quantile\n",
    "    quantile_thresh_min = use_var.quantile(quant_min/100, dim='lon_lat_time', keep_attrs=True)\n",
    "    quantile_thresh_max = use_var.quantile(quant_max/100, dim='lon_lat_time', keep_attrs=True)\n",
    "    quant_ind = np.where(np.logical_and(use_var > quantile_thresh_min, use_var <= quantile_thresh_max))[0]\n",
    "    return quant_ind\n",
    "\n",
    "quant_all = np.arange(100)\n",
    "n_quant_all = len(quant_all)\n",
    "temp_quant_p = {'ocean': np.zeros((n_exp, n_quant_all)), 'land': np.zeros((n_exp, n_quant_all))}\n",
    "temp_quant_x = {'ocean': np.zeros((n_exp, n_quant_all)), 'land': np.zeros((n_exp, n_quant_all))}\n",
    "sphum_quant_x = {'ocean': np.zeros((n_exp, n_quant_all)), 'land': np.zeros((n_exp, n_quant_all))}\n",
    "sphum_quant_p = {'ocean': np.zeros((n_exp, n_quant_all)), 'land': np.zeros((n_exp, n_quant_all))}\n",
    "mse_quant_x = {'ocean': np.zeros((n_exp, n_quant_all)), 'land': np.zeros((n_exp, n_quant_all))}\n",
    "with tqdm(total=n_exp * n_quant_all * 2, position=0, leave=True) as pbar:\n",
    "    for surf in ['ocean', 'land']:\n",
    "        for i in range(n_exp):\n",
    "            for j in range(n_quant_all):\n",
    "                if surf == 'ocean':\n",
    "                    # only compute p version of quantile for ocean, as needed for theory\n",
    "                    temp_quant_p[surf][i, j] = ds_all[surf][i].temp.quantile(quant_all[j]/100, dim='lon_lat_time')\n",
    "                    sphum_quant_p[surf][i, j] = ds_all[surf][i].sphum.quantile(quant_all[j]/100, dim='lon_lat_time')\n",
    "                use_ind = get_quant_ind(ds_all[surf][i].temp, quant_all[j])\n",
    "                temp_quant_x[surf][i, j] = ds_all[surf][i].temp[use_ind].mean()\n",
    "                sphum_quant_x[surf][i, j] = ds_all[surf][i].sphum[use_ind].mean()\n",
    "                mse_quant_x[surf][i, j] = np.mean(moist_static_energy(ds_all[surf][i].temp[use_ind],\n",
    "                                                                      ds_all[surf][i].sphum[use_ind],\n",
    "                                                                      ds_all[surf][i].height[use_ind]))\n",
    "                pbar.update(1)"
   ],
   "metadata": {
    "collapsed": false
   }
  },
  {
   "cell_type": "markdown",
   "source": [
    "## Figure 4 of O'Gorman & Schneider 2009\n",
    "### Tropics\n",
    "In the plot below, all the gradients are below 1, indicating that the hottest days warm less quickly than the average day. If we look at the largest $\\kappa$ values, it is also clear that the gradient here is a lot larger than the gradient at lower $\\kappa$ and thus causes the gradients to be larger than maybe they appear by eye."
   ],
   "metadata": {
    "collapsed": false
   }
  },
  {
   "cell_type": "code",
   "execution_count": null,
   "outputs": [],
   "source": [
    "quant_plot = [90, 95, 99]\n",
    "quant_plot = quant_plot\n",
    "quant_plot_ind = numpy_indexed.indices(quant_all, quant_plot)\n",
    "quant_mean_ind = np.where(quant_all==0)[0][0]\n",
    "n_quant_plot = len(quant_plot)\n",
    "\n",
    "# RECOMMEND TO use x version as this is what is used in the theory\n",
    "temp_quant_use = temp_quant_x\n",
    "\n",
    "# surf_plot = ['ocean', 'land']\n",
    "surf_plot = ['land']\n",
    "trend_line_on = False\n",
    "save_fig = False\n",
    "# if publishing figure, use high dpi\n",
    "publish_fig = True\n",
    "high_dpi = 350\n",
    "low_dpi = 100\n",
    "\n",
    "scaling_factor = {'ocean': np.zeros(n_quant_plot), 'land': np.zeros(n_quant_plot)}\n",
    "\n",
    "tau_lw_ref = 1\n",
    "tau_ref_ind = np.where(np.asarray(tau_lw)==tau_lw_ref)[0][0]\n",
    "\n",
    "fig, ax = plt.subplots(1,len(surf_plot), figsize=(14, 5), sharex=True, sharey=True)\n",
    "if len(surf_plot) == 1:\n",
    "    ax = [ax]\n",
    "for k, surf in enumerate(surf_plot):\n",
    "    ax[k].spines[['right', 'top']].set_visible(False)\n",
    "    for j, quant_ind in enumerate(quant_plot_ind):\n",
    "        fit_func = lambda x, m: temp_quant_use[surf][tau_ref_ind, quant_ind] + m*(x-temp_av[surf][tau_ref_ind])     # Straight line through the ref point\n",
    "        scaling_factor[surf][j] = scipy.optimize.curve_fit(fit_func, temp_av[surf],\n",
    "                                                           temp_quant_use[surf][:, quant_ind])[0]\n",
    "        ax[k].plot(temp_av[surf], temp_quant_use[surf][:, quant_ind], marker='o',\n",
    "                   label='{}$^{}$ ({:.2f} K/K)'.format(quant_plot[j], '{th}', scaling_factor[surf][j]), color='k', fillstyle='none')\n",
    "        if trend_line_on:\n",
    "            # Filled circle for reference simulation\n",
    "            ax[k].plot(temp_av[surf][tau_ref_ind], temp_quant_use[surf][tau_ref_ind, quant_ind], marker='o', color='k', fillstyle='full')\n",
    "            if j==n_quant_plot-1:\n",
    "                label = 'Linear Increase'\n",
    "            else:\n",
    "                label = None\n",
    "            ax[k].plot(temp_av[surf], fit_func(temp_av[surf], scaling_factor[surf][j]), linestyle=':', color='k', alpha=0.3, label=label)\n",
    "    xlim = ax[k].get_xlim()\n",
    "    ylim = ax[k].get_ylim()\n",
    "    ax[k].plot([ax[k].get_ylim()[0], ax[k].get_xlim()[1]],\n",
    "               [ax[k].get_ylim()[0], ax[k].get_xlim()[1]], 'r:', alpha=0.75, zorder=0,label='y=x')\n",
    "    if k == len(surf_plot)-1:\n",
    "        ax[k].set_xlim(xlim)\n",
    "        ax[k].set_ylim(ylim)\n",
    "    if trend_line_on:\n",
    "        ax[k].legend(title='Percentile (Gradient)', frameon=False)\n",
    "    if season == 'summer':\n",
    "        ax[k].set_xlabel(f'Mean {surf.capitalize()} Summer Temperature (${lat_max}>|\\phi| \\geq {lat_min}$) / K')\n",
    "        ax[k].set_ylabel(f'Percentile {surf.capitalize()} Summer Temperature (${lat_max}>|\\phi| \\geq {lat_min}$) / K')\n",
    "    else:\n",
    "        ax[k].set_xlabel(f'Mean {surf.capitalize()} Temperature (${lat_max}>|\\phi| \\geq {lat_min}$) / K')\n",
    "        ax[k].set_ylabel(f'Percentile {surf.capitalize()} Temperature (${lat_max}>|\\phi| \\geq {lat_min}$) / K')\n",
    "plt.tight_layout()\n",
    "if save_fig:\n",
    "    if trend_line_on:\n",
    "        file_name = f\"{region.lower()}_trend\"\n",
    "    else:\n",
    "        file_name = f\"{region.lower()}_no_trend\"\n",
    "    fig.savefig(f\"/Users/joshduffield/Desktop/{file_name}\",dpi=high_dpi if publish_fig else low_dpi)"
   ],
   "metadata": {
    "collapsed": false
   }
  },
  {
   "cell_type": "markdown",
   "source": [
    "## Theory for predicting next temperature based on the previous $\\kappa$\n",
    "This adds the theory prediction of temperature averaged above a percentile. The theory can predict the temperature at the next kappa value based on the previous optical depth value."
   ],
   "metadata": {
    "collapsed": false
   }
  },
  {
   "cell_type": "code",
   "execution_count": null,
   "outputs": [],
   "source": [
    "# Get MSE percentile, p_x, corresponding to MSE averaged over all days exceeding x percentile in temperature\n",
    "mse_quant_px = {'ocean': np.zeros((n_exp, n_quant_all)), 'land': np.zeros((n_exp, n_quant_all))}\n",
    "with tqdm(total=n_exp*n_quant_all*2, position=0, leave=True) as pbar:\n",
    "    for i in range(n_exp):\n",
    "        for surf in ['ocean', 'land']:\n",
    "            mse_all = moist_static_energy(ds_all[surf][i].temp, ds_all[surf][i].sphum, ds_all[surf][i].height)\n",
    "            for j, quant in enumerate(quant_all):\n",
    "                mse_quant_px[surf][i, j] = percentileofscore(mse_all, mse_quant_x[surf][i, j])\n",
    "                pbar.update(1)\n",
    "# p_x[i] is the percentile of MSE corresponding to average above the percentile quant_all[i] of temperature in reference climate.\n",
    "p_x = np.round(mse_quant_px['land']).astype(int)\n",
    "if p_x.max()>99:\n",
    "    warnings.warn(f'Changing {(p_x>99).sum()} values to 99 from over 100')\n",
    "    p_x = np.clip(p_x, -1, 99)"
   ],
   "metadata": {
    "collapsed": false
   }
  },
  {
   "cell_type": "code",
   "execution_count": null,
   "outputs": [],
   "source": [
    "def get_delta_temp_quant_theory(temp_mean, sphum_mean, temp_quant_land_x, temp_quant_ocean_p, sphum_quant_land_x, sphum_quant_ocean_p,\n",
    "                                quant_use, p_x, const_rh: bool = False):\n",
    "    \"\"\"\n",
    "    Gets theoretical prediction for temperature change between simulations.\n",
    "    Args:\n",
    "        temp_mean: float {'ocean': [n_tau], 'land': [n_tau]}\n",
    "        sphum_mean: float {'ocean': [n_tau]\n",
    "        temp_quant_land_x: float [n_tau x n_quant]\n",
    "            x means averaged over the temperature percentile x\n",
    "        temp_quant_ocean_p: float [n_tau x n_quant]\n",
    "            p means at percentile p of given quantity.\n",
    "        sphum_quant_land_x: float [n_tau x n_quant]\n",
    "        sphum_quant_ocean_p: float [n_tau x n_quant]\n",
    "        quant_use: int [n_quant]\n",
    "        p_x: int [n_tau x n_quant]\n",
    "            p_x[0, i] is the percentile of MSE corresponding to average above the percentile quant_use[i] of temperature in\n",
    "            the coldest climate.\n",
    "        const_rh: bool\n",
    "    \"\"\"\n",
    "    alpha_l = clausius_clapeyron_factor(temp_quant_land_x, p_surface)\n",
    "    sphum_quant_sat_l = sphum_sat(temp_quant_land_x, p_surface)\n",
    "    sphum_mean_sat_l = np.expand_dims(sphum_sat(temp_mean['land'], p_surface), axis=-1)\n",
    "    r_quant_l = sphum_quant_land_x / sphum_quant_sat_l\n",
    "    r_mean_l = np.expand_dims(sphum_mean['land'], axis=-1) / sphum_mean_sat_l\n",
    "    delta_r_mean_l = np.diff(r_mean_l, axis=0)\n",
    "    delta_r_quant_l = np.diff(r_quant_l, axis=0)\n",
    "\n",
    "    # Ocean constants required - these are for the percentile px which corresponds to the average above the x percentile in temperature\n",
    "    p_x_ind = np.asarray([numpy_indexed.indices(quant_use, p_x[i]) for i in range(n_exp)])\n",
    "    temp_quant_o = np.asarray([temp_quant_ocean_p[i, p_x_ind[i]] for i in range(n_exp)])\n",
    "    delta_temp_o = np.diff(temp_quant_o, axis=0)\n",
    "    sphum_quant_o = np.asarray([sphum_quant_ocean_p[i, p_x_ind[i]] for i in range(n_exp)])\n",
    "    sphum_quant_sat_o = sphum_sat(temp_quant_o, p_surface)\n",
    "    r_quant_o = sphum_quant_o / sphum_quant_sat_o\n",
    "    delta_r_quant_o = np.diff(r_quant_o, axis=0)\n",
    "    alpha_o = clausius_clapeyron_factor(temp_quant_o, p_surface)\n",
    "\n",
    "    e_const = L_v * alpha_l * sphum_quant_sat_l / (c_p + L_v * alpha_l * sphum_quant_land_x)\n",
    "    nabla = sphum_mean_sat_l / sphum_quant_sat_l * e_const / alpha_l\n",
    "    gamma_t = (c_p + L_v * alpha_o * sphum_quant_o) / (c_p + L_v * alpha_l * sphum_quant_land_x)\n",
    "    gamma_r_o = L_v * sphum_quant_sat_o / (c_p + L_v * alpha_l * sphum_quant_land_x)\n",
    "\n",
    "    if const_rh:\n",
    "        delta_temp_quant_theory = gamma_t[:-1] * delta_temp_o\n",
    "    else:\n",
    "        delta_temp_quant_theory = (gamma_t[:-1] * delta_temp_o + gamma_r_o[:-1] * delta_r_quant_o - nabla[:-1] * delta_r_mean_l\n",
    "                                   ) / (1 + e_const[:-1] * delta_r_quant_l)\n",
    "    return delta_temp_quant_theory\n",
    "\n",
    "# get all variables required for theory\n",
    "temp_mean = {surf: np.asarray([ds_all[surf][i].temp.mean() for i in range(n_exp)]) for surf in ['ocean', 'land']}\n",
    "sphum_mean = {surf: np.asarray([ds_all[surf][i].sphum.mean() for i in range(n_exp)]) for surf in ['ocean', 'land']}\n",
    "delta_temp_quant = {surf: np.diff(temp_quant_x[surf], axis=0) for surf in ['ocean', 'land']}\n",
    "\n",
    "delta_temp_quant_theory = get_delta_temp_quant_theory(temp_mean, sphum_mean, temp_quant_x['land'], temp_quant_p['ocean'],\n",
    "                                                      sphum_quant_x['land'], sphum_quant_p['ocean'], quant_all, p_x)\n",
    "delta_temp_quant_theory_const_rh = get_delta_temp_quant_theory(temp_mean, sphum_mean, temp_quant_x['land'], temp_quant_p['ocean'],\n",
    "                                                               sphum_quant_x['land'], sphum_quant_p['ocean'], quant_all, p_x, True)"
   ],
   "metadata": {
    "collapsed": false
   }
  },
  {
   "cell_type": "code",
   "execution_count": null,
   "outputs": [],
   "source": [
    "# theory uses simulated temperature at previous kappa as reference to add theory of temp change to.\n",
    "temp_quant_theory = np.zeros((n_exp, n_quant_all))\n",
    "temp_quant_theory[0] = temp_quant_x['land'][0]\n",
    "temp_quant_theory[1:] = temp_quant_x['land'][:-1,:] + delta_temp_quant_theory\n",
    "# # below is theory relative to mean change\n",
    "# delta_temp_quant_theory2 = (delta_temp_quant_theory/delta_temp_quant_theory[:, quant_mean_ind:quant_mean_ind+1]) * np.diff(\n",
    "#     temp_quant_x['land'], axis=0)[:, quant_mean_ind:quant_mean_ind+1]\n",
    "# temp_quant_theory = temp_quant_x['land'][:-1,:] + delta_temp_quant_theory2\n",
    "\n",
    "temp_quant_theory_const_rh = np.zeros((n_exp, n_quant_all))\n",
    "temp_quant_theory_const_rh[0] = temp_quant_x['land'][0]\n",
    "temp_quant_theory_const_rh[1:] = temp_quant_x['land'][:-1,:] + delta_temp_quant_theory_const_rh\n",
    "\n",
    "# theory 2 uses theory prediction at previous kappa as reference to add theory of temp change to.\n",
    "temp_quant_theory2 = np.zeros((n_exp, n_quant_all))\n",
    "temp_quant_theory2[0] = temp_quant_x['land'][0]\n",
    "temp_quant_theory_const_rh2 = np.zeros((n_exp, n_quant_all))\n",
    "temp_quant_theory_const_rh2[0] = temp_quant_x['land'][0]\n",
    "for i in range(n_exp-1):\n",
    "    temp_quant_theory2[1+i] = temp_quant_theory2[i] + delta_temp_quant_theory[i]\n",
    "    temp_quant_theory_const_rh2[1+i] = temp_quant_theory_const_rh2[i] + delta_temp_quant_theory_const_rh[i]"
   ],
   "metadata": {
    "collapsed": false
   }
  },
  {
   "cell_type": "code",
   "execution_count": null,
   "outputs": [],
   "source": [
    "save_fig=False\n",
    "theory_method = ''\n",
    "# theory_method = '_const_rh'\n",
    "fig, ax = plt.subplots(2,1, figsize=(14, 7), sharex=True, gridspec_kw={'height_ratios': [2.6, 1]})\n",
    "ax[0].spines[['right', 'top']].set_visible(False)\n",
    "ax[1].spines[['right', 'top']].set_visible(False)\n",
    "for j in range(n_quant_plot):\n",
    "    ax[0].plot(temp_mean['land'], temp_quant_x['land'][:, quant_plot_ind[j]], marker='o', color='k', fillstyle='none', alpha=0.2)\n",
    "    if theory_method == '_const_rh':\n",
    "        ax[0].scatter(temp_mean['land'][1:], temp_quant_theory_const_rh[1:, quant_plot_ind[j]], alpha=0.5)\n",
    "        ax[1].plot(temp_mean['land'][1:], temp_quant_x['land'][1:, quant_plot_ind[j]]-\n",
    "                   temp_quant_theory_const_rh[1:, quant_plot_ind[j]], label=quant_plot[j], alpha=0.8)\n",
    "    else:\n",
    "        ax[0].scatter(temp_mean['land'][1:], temp_quant_theory[1:, quant_plot_ind[j]], alpha=0.5)\n",
    "        ax[1].plot(temp_mean['land'][1:], temp_quant_x['land'][1:, quant_plot_ind[j]]-\n",
    "                   temp_quant_theory[1:, quant_plot_ind[j]], label=quant_plot[j], alpha=0.8)\n",
    "ax[0].legend(['Simulated', 'Theory'], loc='upper left', frameon=False)\n",
    "ax[1].legend(title='Percentile', loc='upper left', frameon=True, framealpha=1, edgecolor='white')\n",
    "xlim = ax[0].get_xlim()\n",
    "ylim = ax[0].get_ylim()\n",
    "ax[1].hlines(0, xlim[0], xlim[1], color='k', alpha=0.5, linewidth=0.5)\n",
    "ax[0].plot([ax[0].get_ylim()[0], ax[0].get_xlim()[1]], [ax[0].get_ylim()[0], ax[0].get_xlim()[1]], 'r:', alpha=0.75, zorder=0,label='y=x')\n",
    "ax[0].set_ylim(ylim)\n",
    "ax[0].set_xlim(xlim)\n",
    "if season == 'summer':\n",
    "    ax[-1].set_xlabel(f'Mean Summer Temperature (${lat_max}>|\\phi| \\geq {lat_min}$) / K')\n",
    "    ax[0].set_ylabel(f'Percentile Summer Temperature (${lat_max}>|\\phi| \\geq {lat_min}$) / K')\n",
    "else:\n",
    "    ax[-1].set_xlabel(f'Mean Temperature (${lat_max}>|\\phi| \\geq {lat_min}$) / K')\n",
    "    ax[0].set_ylabel(f'Percentile Temperature (${lat_max}>|\\phi| \\geq {lat_min}$) / K')\n",
    "ax[1].set_ylabel('Simulated - Theory / K')\n",
    "plt.tight_layout()\n",
    "if save_fig:\n",
    "    fig.savefig(f\"/Users/joshduffield/Desktop/{region.lower()}_theory{theory_method}\",dpi=high_dpi if publish_fig else low_dpi)"
   ],
   "metadata": {
    "collapsed": false
   }
  },
  {
   "cell_type": "code",
   "execution_count": null,
   "outputs": [],
   "source": [
    "def moving_average(x, w):\n",
    "    return np.convolve(x, np.ones(w), 'valid') / w\n",
    "default_colors = plt.rcParams['axes.prop_cycle'].by_key()['color']\n",
    "\n",
    "save_fig=False\n",
    "fig, ax = plt.subplots(1,1, figsize=(14, 6))\n",
    "ax.spines[['right', 'top']].set_visible(False)\n",
    "for j in range(n_quant_plot):\n",
    "    # for difference between simulations, make x-axis the average between the two mean temperatures\n",
    "    ax.plot(moving_average(temp_mean['land'], 2),\n",
    "            delta_temp_quant['land'][:, quant_plot_ind[j]]/delta_temp_quant['land'][:, quant_mean_ind], color=default_colors[j],\n",
    "            alpha=0.8, marker='o', fillstyle='none', label=quant_plot[j])\n",
    "    if theory_method == '_const_rh':\n",
    "        ax.plot(moving_average(temp_mean['land'], 2),\n",
    "                delta_temp_quant_theory_const_rh[:, quant_plot_ind[j]]/delta_temp_quant_theory_const_rh[:, quant_mean_ind],\n",
    "                color=default_colors[j], linestyle=':', alpha=0.5)\n",
    "    else:\n",
    "        ax.plot(moving_average(temp_mean['land'], 2),\n",
    "                delta_temp_quant_theory[:, quant_plot_ind[j]]/delta_temp_quant_theory[:, quant_mean_ind],\n",
    "                color=default_colors[j], linestyle=':', alpha=0.5)\n",
    "ax.legend(title='Temperature\\npercentile, $x$', frameon=False)\n",
    "xlim = ax.get_xlim()\n",
    "ax.hlines(1, xlim[0], xlim[1], color='k', alpha=0.5, linewidth=0.5)\n",
    "ax.set_xlim(xlim)\n",
    "if season == 'summer':\n",
    "    ax.set_xlabel(f'Mean Summer Land Temperature (${lat_max}>|\\phi| \\geq {lat_min}$) / K')\n",
    "else:\n",
    "    ax.set_xlabel(f'Mean Land Temperature (${lat_max}>|\\phi| \\geq {lat_min}$) / K')\n",
    "ax.set_ylabel('$\\delta T^x_L/\\delta \\overline{T_L}$')\n",
    "plt.tight_layout()\n",
    "if save_fig:\n",
    "    fig.savefig(f\"/Users/joshduffield/Desktop/{region.lower()}_amplification_factor{theory_method}\",\n",
    "                dpi=high_dpi if publish_fig else low_dpi)"
   ],
   "metadata": {
    "collapsed": false
   }
  },
  {
   "cell_type": "markdown",
   "source": [
    "## Figure 2 of Byrne 2021 - combining $\\kappa$\n",
    "The gradients in the above plot indicate the scaling factors shown in the bottom plot of Byrne 2021 figure 2, but combine all $\\kappa$ values indicated by `scaling_factor_kappa_use`. So I plot the gradients versus percentile, $x$, here to replicate the figure.\n",
    "\n",
    "I include the option for two different quantiles. In Byrne 2021, it is the temperatures averaged over a given percentile - I refer to this as `temp_quant_x`. The other option is using the actual percentile, given here as `temp_quant_p`.\n",
    "\n",
    "For the mean below, I don't use area weighting, whereas I do above, hence the difference. I don't use it below so that `temp_quant_x` plot always shows a scaling factor of $1$ for $x=0$.\n",
    "\n",
    "To see if the scaling factor is different for warmer vs colder climates, I compute the gradients using a subset of $\\kappa$ values. For colder climates, I use $\\kappa=0.6, 1, 1.2, 1.5$ and force the line through $\\kappa=1.5$. For warmer climates, I use $\\kappa=1.5, 2, 3.5, 6$ and force the line through $\\kappa=1.5$. It may make more sense to force the line through the same $\\kappa$ values for both though. The solid line includes all $\\kappa$ and is forced through $\\kappa = 1.5$."
   ],
   "metadata": {
    "collapsed": false
   }
  },
  {
   "cell_type": "code",
   "execution_count": null,
   "outputs": [],
   "source": [
    "quant_type_use = 'x'\n",
    "temp_quant_use = temp_quant_x if quant_type_use == 'x' else temp_quant_p\n",
    "sf_tau_use = [np.where(tau_lw<=np.inf)[0], np.where(tau_lw<=1)[0], np.where(tau_lw>=1)[0]]\n",
    "sf_tau_ref = [1, 1, 1]\n",
    "n_sf = len(sf_tau_use)\n",
    "# all temperatures averaged above x=0 - same as temp_av except for no area averaging\n",
    "sf_temp_mean = {surf: temp_quant_x[surf][:, 0] for surf in ['ocean', 'land']}\n",
    "scaling_factor = {'ocean': np.zeros((n_sf, n_quant_all)), 'land': np.zeros((n_sf, n_quant_all))}\n",
    "scaling_factor_theory = np.zeros(n_quant_all)\n",
    "scaling_factor_theory_const_rh = np.zeros(n_quant_all)\n",
    "scaling_factor_theory2 = np.zeros(n_quant_all)\n",
    "scaling_factor_theory_const_rh2 = np.zeros(n_quant_all)\n",
    "\n",
    "for i in range(n_sf):\n",
    "    sf_tau_ref_ind = np.where(tau_lw==sf_tau_ref[i])[0]\n",
    "    for k, surf in enumerate(['ocean', 'land']):\n",
    "        for j in range(n_quant_all):\n",
    "            # Straight line through the ref point\n",
    "            fit_func = lambda x, m: temp_quant_use[surf][sf_tau_ref_ind, j] + m*(x-sf_temp_mean[surf][sf_tau_ref_ind])\n",
    "            scaling_factor[surf][i, j] = scipy.optimize.curve_fit(fit_func, sf_temp_mean[surf][sf_tau_use[i]],\n",
    "                                                               temp_quant_use[surf][sf_tau_use[i], j])[0]\n",
    "            if i == 0 and surf == 'land':\n",
    "                fit_func = lambda x, m: temp_quant_theory[sf_tau_ref_ind, j] + \\\n",
    "                                        m*(x-temp_quant_theory[sf_tau_ref_ind, quant_mean_ind])\n",
    "                scaling_factor_theory[j] = scipy.optimize.curve_fit(fit_func, temp_quant_theory[sf_tau_use[i], quant_mean_ind],\n",
    "                                                                    temp_quant_theory[sf_tau_use[i], j])[0]\n",
    "                fit_func = lambda x, m: temp_quant_theory_const_rh[sf_tau_ref_ind, j] + \\\n",
    "                            m*(x-temp_quant_theory_const_rh[sf_tau_ref_ind, quant_mean_ind])\n",
    "                scaling_factor_theory_const_rh[j] = scipy.optimize.curve_fit(fit_func,\n",
    "                                                                             temp_quant_theory_const_rh[sf_tau_use[i], quant_mean_ind],\n",
    "                                                                             temp_quant_theory_const_rh[sf_tau_use[i], j])[0]\n",
    "\n",
    "                fit_func = lambda x, m: temp_quant_theory2[sf_tau_ref_ind, j] + \\\n",
    "                        m*(x-temp_quant_theory2[sf_tau_ref_ind, quant_mean_ind])\n",
    "                scaling_factor_theory2[j] = scipy.optimize.curve_fit(fit_func, temp_quant_theory2[sf_tau_use[i], quant_mean_ind],\n",
    "                                                                    temp_quant_theory2[sf_tau_use[i], j])[0]\n",
    "                fit_func = lambda x, m: temp_quant_theory_const_rh2[sf_tau_ref_ind, j] + \\\n",
    "                            m*(x-temp_quant_theory_const_rh2[sf_tau_ref_ind, quant_mean_ind])\n",
    "                scaling_factor_theory_const_rh2[j] = scipy.optimize.curve_fit(fit_func,\n",
    "                                                                             temp_quant_theory_const_rh2[sf_tau_use[i], quant_mean_ind],\n",
    "                                                                             temp_quant_theory_const_rh2[sf_tau_use[i], j])[0]"
   ],
   "metadata": {
    "collapsed": false
   }
  },
  {
   "cell_type": "code",
   "execution_count": null,
   "outputs": [],
   "source": [
    "save_fig = False\n",
    "# if publishing figure, use high dpi\n",
    "publish_fig = True\n",
    "surf_colors = {'ocean': 'b', 'land': 'r'}\n",
    "fig, ax = plt.subplots(1,1, figsize=(9, 5))\n",
    "ax.spines[['right', 'top']].set_visible(False)\n",
    "for surf in ['ocean', 'land']:\n",
    "    ax.plot(quant_all, scaling_factor[surf][0], color=surf_colors[surf])\n",
    "    ax.plot(quant_all, scaling_factor[surf][1], color=surf_colors[surf], linestyle=':')\n",
    "    ax.plot(quant_all, scaling_factor[surf][2], color=surf_colors[surf], linestyle='--')\n",
    "ax.hlines(1, 0, 100, linewidth=0.5, alpha=0.2, color='k')\n",
    "ax.legend(['Ocean', f'$\\kappa \\leq {tau_lw[sf_tau_use[1]].max()}$', f'$\\kappa \\geq {tau_lw[sf_tau_use[2]].min()}$', 'Land'],\n",
    "          frameon=False)\n",
    "ax.set_xlim(0,100)\n",
    "if quant_type_use == 'x':\n",
    "    ax.set_ylim(0.5,1.5)\n",
    "else:\n",
    "    ax.set_ylim(0.5,2.5)\n",
    "ax.set_xlabel('Temperature percentile, $x$')\n",
    "if quant_type_use == 'x':\n",
    "    ax.set_ylabel('Scaling Factor, $\\delta T^x/ \\delta \\\\overline{T}$')\n",
    "else:\n",
    "    ax.set_ylabel('Scaling Factor, $\\delta T(x)/ \\delta \\\\overline{T}$')\n",
    "ax.set_title(f'{region.capitalize()} (${lat_max}>|\\phi| \\geq {lat_min}$)')\n",
    "plt.tight_layout()\n",
    "if save_fig:\n",
    "    file_name = f\"scaling_factor_{region.lower()}_{quant_type_use}\"\n",
    "    fig.savefig(f\"/Users/joshduffield/Desktop/{file_name}\",dpi=high_dpi if publish_fig else low_dpi)"
   ],
   "metadata": {
    "collapsed": false
   }
  },
  {
   "cell_type": "markdown",
   "source": [
    "The solid red line below is the same as that above. The black lines show the theoretical prediction for the red line, combining all kappa values."
   ],
   "metadata": {
    "collapsed": false
   }
  },
  {
   "cell_type": "code",
   "execution_count": null,
   "outputs": [],
   "source": [
    "save_fig = False\n",
    "# if publishing figure, use high dpi\n",
    "publish_fig = True\n",
    "scale_method = 2\n",
    "fig, ax = plt.subplots(1,1, figsize=(9, 5))\n",
    "ax.spines[['right', 'top']].set_visible(False)\n",
    "ax.plot(quant_all, scaling_factor['land'][0], color='r', label='Simulated')\n",
    "if scale_method == 1:\n",
    "    ax.plot(quant_all, scaling_factor_theory, color='k', linestyle='--',\n",
    "            label=f'Theory')\n",
    "    ax.plot(quant_all, scaling_factor_theory_const_rh, color='k', linestyle=':',\n",
    "            label= f'Theory - Constant RH Change')\n",
    "else:\n",
    "    ax.plot(quant_all, scaling_factor_theory2, color='k', linestyle='--',\n",
    "            label=f'Theory')\n",
    "    ax.plot(quant_all, scaling_factor_theory_const_rh2, color='k', linestyle=':',\n",
    "            label= f'Theory - Constant RH Change')\n",
    "ax.hlines(1, 0, 100, linewidth=0.5, alpha=0.2, color='k')\n",
    "ax.legend(frameon=False)\n",
    "ax.set_xlim(0,100)\n",
    "# if quant_type_use == 'x':\n",
    "#     ax.set_ylim(0.5,1.5)\n",
    "# else:\n",
    "#     ax.set_ylim(0.5,2.5)\n",
    "ax.set_xlabel('Temperature percentile, $x$')\n",
    "ax.set_ylabel('Scaling factor, $\\delta T^x_L/\\delta \\overline{T_L}$')\n",
    "ax.set_title(f'{region.capitalize()} (${lat_max}>|\\phi| \\geq {lat_min}$)')\n",
    "plt.tight_layout()\n",
    "if save_fig:\n",
    "    file_name = f\"scaling_factor_theory_{region.lower()}\"\n",
    "    if scale_method != 1:\n",
    "        file_name += '_theory_prev_iter'\n",
    "    fig.savefig(f\"/Users/joshduffield/Desktop/{file_name}\",dpi=high_dpi if publish_fig else low_dpi)"
   ],
   "metadata": {
    "collapsed": false
   }
  },
  {
   "cell_type": "markdown",
   "source": [
    "## Figure 2 of Byrne 2021 - all $\\kappa$ separately\n",
    "Below I plot the temperature change between simulations of adjacent $\\kappa$ values as a function of temperature quantile.\n",
    "I then compare this to the change in the mean temperature, through the scaling factor.\n",
    "\n",
    "Note that this plot shows considers the average of temperatures above a given percentile, whereas the above plot considers the actual temperature corresponding to given percentiles.\n",
    "\n",
    "### Tropics\n",
    "For the colder simulations, $\\kappa \\leq 1.5$, there seems to be a trend for the hottest days to warm less than the mean, as indicated by the scale factor being less than 1.\n",
    "For the warmer simulations, we see that the hottest days warm the most.\n",
    "\n",
    "If I use all days, rather than just summer, the scaling factor is significantly smaller and below 1 for all simulations."
   ],
   "metadata": {
    "collapsed": false
   }
  },
  {
   "cell_type": "code",
   "execution_count": null,
   "outputs": [],
   "source": [
    "# Get change for each quantile between a warmed world and a reference world\n",
    "# quantiles_all = np.arange(100)\n",
    "# temp_all_quant = {'ocean': np.zeros((n_exp, len(quantiles_all))), 'land': np.zeros((n_exp, len(quantiles_all)))}\n",
    "# with tqdm(total=n_exp * len(quantiles_all) * 2, position=0, leave=True) as pbar:\n",
    "#     for surf in ['ocean', 'land']:\n",
    "#         for i in range(n_exp):\n",
    "#             for j in range(len(quantiles_all)):\n",
    "#                 quant_thresh = ds_all[surf][i].temp.quantile(quantiles_all[j]/100, dim='lon_lat_time')\n",
    "#                 quant_ind = np.where(ds_all[surf][i].temp > quant_thresh)[0]\n",
    "#                 temp_all_quant[surf][i, j] = ds_all[surf][i].temp[quant_ind].mean(dim='lon_lat_time')\n",
    "#                 pbar.update(1)"
   ],
   "metadata": {
    "collapsed": false
   }
  },
  {
   "cell_type": "code",
   "execution_count": null,
   "outputs": [],
   "source": [
    "# warm_colors = plt.cm.jet(np.linspace(0,1,n_exp-1))\n",
    "# fig, ax = plt.subplots(2,2, figsize=(14, 8), sharex=True, sharey='row')\n",
    "# for k, surf in enumerate(['ocean', 'land']):\n",
    "#     for i in range(n_exp-1):\n",
    "#         ax[0, k].plot(quantiles_all, temp_all_quant[surf][i+1]-temp_all_quant[surf][i],\n",
    "#                    color=warm_colors[i], label=f'$\\kappa={tau_lw[i]}$')\n",
    "#         ax[1, k].plot(quantiles_all, (temp_all_quant[surf][i+1]-temp_all_quant[surf][i]\n",
    "#                                       )/(temp_all_quant[surf][i+1] - temp_all_quant[surf][i])[0],\n",
    "#                    color=warm_colors[i])\n",
    "#     ax[1, k].hlines(1, 0, 100, color='k', alpha=0.2, linestyle=':')\n",
    "#     ax[0, k].set_title(surf)\n",
    "# ax[0, 0].set_xlim(0, 100)\n",
    "# ax[0, 0].set_ylabel('Temperature Change / K')\n",
    "# ax[0, 0].legend()\n",
    "# ax[1, 0].set_ylabel('Scaling Factor, $\\delta T^x/ \\delta \\\\overline{T}$')\n",
    "# if season == 'summer':\n",
    "#     fig.supxlabel('Summer Temperature Percentile, $x$')\n",
    "# else:\n",
    "#     fig.supxlabel('Temperature Percentile, $x$')\n",
    "# fig.suptitle(f'{region} (${lat_max}> |\\phi| > {lat_min}$)')\n",
    "# plt.tight_layout();"
   ],
   "metadata": {
    "collapsed": false
   }
  },
  {
   "cell_type": "code",
   "execution_count": null,
   "outputs": [],
   "source": [],
   "metadata": {
    "collapsed": false
   }
  },
  {
   "cell_type": "code",
   "execution_count": null,
   "outputs": [],
   "source": [],
   "metadata": {
    "collapsed": false
   }
  },
  {
   "cell_type": "code",
   "execution_count": null,
   "outputs": [],
   "source": [],
   "metadata": {
    "collapsed": false
   }
  }
 ],
 "metadata": {
  "kernelspec": {
   "display_name": "Python 3",
   "language": "python",
   "name": "python3"
  },
  "language_info": {
   "codemirror_mode": {
    "name": "ipython",
    "version": 2
   },
   "file_extension": ".py",
   "mimetype": "text/x-python",
   "name": "python",
   "nbconvert_exporter": "python",
   "pygments_lexer": "ipython2",
   "version": "2.7.6"
  }
 },
 "nbformat": 4,
 "nbformat_minor": 0
}
