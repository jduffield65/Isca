{
 "cells": [
  {
   "cell_type": "markdown",
   "source": [
    "# Tropics Temperature Quantile Theory from Byrne 2021\n",
    "This looks at applying the theory from Byrne 2021 to the simplified Isca simulations to see how well it performs."
   ],
   "metadata": {
    "collapsed": false
   }
  },
  {
   "cell_type": "code",
   "execution_count": 1,
   "outputs": [
    {
     "name": "stderr",
     "output_type": "stream",
     "text": [
      "2023-05-07 22:02:39,199 - isca - WARNING - Environment variable GFDL_SOC not set, but this is only required if using SocratesCodebase. Setting to None\n"
     ]
    }
   ],
   "source": [
    "import sys\n",
    "import os\n",
    "# REMOTE - So can access functions in isca_tools which is in home/Isca directory\n",
    "# sys.path.append(os.path.join(os.environ['HOME'], 'Isca'))\n",
    "# LOCAL - So can access functions in isca_tools which is in StAndrews/Isca\n",
    "sys.path.append(os.environ['PWD'])\n",
    "import isca_tools\n",
    "from isca_tools.utils.moist_physics import lcl_temp, rh_from_sphum, saturation_vapor_pressure, mixing_ratio_from_sphum, dry_profile, moist_profile, mixing_ratio_from_partial_pressure, moist_static_energy, convection_neutral_profile\n",
    "from isca_tools.utils.radiation import frierson_net_toa_sw_dwn\n",
    "from isca_tools.utils.constants import kappa, L_v, c_p, g, R_v, epsilon\n",
    "from isca_tools.utils import area_weight_mean_lat, area_weighting\n",
    "import numpy as np\n",
    "import matplotlib.pyplot as plt\n",
    "import xarray as xr\n",
    "import scipy.optimize\n",
    "from tqdm import tqdm\n",
    "from scipy import integrate\n",
    "import numpy_indexed\n",
    "from scipy.stats import percentileofscore\n",
    "from isca_tools.papers.byrne_2021 import get_delta_temp_quant_theory, get_px"
   ],
   "metadata": {
    "collapsed": false,
    "ExecuteTime": {
     "end_time": "2023-05-07T21:02:40.050571Z",
     "start_time": "2023-05-07T21:02:39.195645Z"
    }
   }
  },
  {
   "cell_type": "code",
   "execution_count": 2,
   "outputs": [],
   "source": [
    "# Load dataset - one at surface and one in free troposphere\n",
    "var_keep = ['temp', 'sphum', 'height']        # only keep variables required to compute relative humidity and MSE\n",
    "# Load dataset\n",
    "tau_lw_ref = 1\n",
    "tau_lw_warm = 1.5\n",
    "exp_dir = 'tau_sweep/land/meridional_band/bucket_evap/evap=0_1/'\n",
    "exp_names = [f\"k={str(tau_lw_ref).replace('.','_')}\", f\"k={str(tau_lw_warm).replace('.','_')}\"]\n",
    "n_exp = len(exp_names)\n",
    "ds = []\n",
    "albedo = []\n",
    "tau_sw = []\n",
    "tau_lw = []\n",
    "evap_param = []\n",
    "for i in range(n_exp):\n",
    "    ds_use = isca_tools.load_dataset(exp_dir + exp_names[i])[var_keep]\n",
    "    ds += [ds_use.sel(pfull=[np.inf], method='nearest')]      # only keep the surface values\n",
    "    namelist = isca_tools.load_namelist(exp_dir + exp_names[i])  # Need this for albedo_value\n",
    "    albedo += [namelist['mixed_layer_nml']['albedo_value']]\n",
    "    tau_sw += [namelist['two_stream_gray_rad_nml']['atm_abs']]\n",
    "    tau_lw += [namelist['two_stream_gray_rad_nml']['odp']]\n",
    "    try:\n",
    "        evap_param += [namelist['surface_flux_nml']['land_evap_prefactor']]\n",
    "    except KeyError:\n",
    "        print(f'Experiment {i}: Evap param not specified so set to default value of 1')\n",
    "        evap_param += [1]\n",
    "max_bucket_depth_land = namelist['idealized_moist_phys_nml']['max_bucket_depth_land']"
   ],
   "metadata": {
    "collapsed": false,
    "ExecuteTime": {
     "end_time": "2023-05-07T21:02:43.290977Z",
     "start_time": "2023-05-07T21:02:40.053282Z"
    }
   }
  },
  {
   "cell_type": "code",
   "execution_count": 3,
   "outputs": [
    {
     "data": {
      "text/plain": "<Figure size 640x480 with 1 Axes>",
      "image/png": "[encoded data removed]"
     },
     "metadata": {},
     "output_type": "display_data"
    }
   ],
   "source": [
    "# Show where the land is\n",
    "job_dir = os.path.join(os.path.dirname(os.environ['GFDL_DATA']), 'jobs')\n",
    "land_file_name = os.path.join(job_dir, exp_dir, exp_names[0], 'land.nc')\n",
    "isca_tools.plot.show_land(land_file_name)"
   ],
   "metadata": {
    "collapsed": false,
    "ExecuteTime": {
     "end_time": "2023-05-07T21:02:43.406148Z",
     "start_time": "2023-05-07T21:02:43.291359Z"
    }
   }
  },
  {
   "cell_type": "markdown",
   "source": [
    "## Get datasets\n",
    "Get two datasets, `ds_all`, one for ocean and one for land, for a given latitude bin."
   ],
   "metadata": {
    "collapsed": false
   }
  },
  {
   "cell_type": "code",
   "execution_count": 4,
   "outputs": [],
   "source": [
    "# If true, will save all figures to desktop - option to save specific figures later on.\n",
    "save_fig = False\n",
    "# if publishing figure, use high dpi\n",
    "publish_fig = True\n",
    "high_dpi = 350\n",
    "low_dpi = 100"
   ],
   "metadata": {
    "collapsed": false,
    "ExecuteTime": {
     "end_time": "2023-05-07T21:02:43.408377Z",
     "start_time": "2023-05-07T21:02:43.406835Z"
    }
   }
  },
  {
   "cell_type": "code",
   "execution_count": 5,
   "outputs": [
    {
     "name": "stderr",
     "output_type": "stream",
     "text": [
      "100%|██████████| 4/4 [00:36<00:00,  9.04s/it]\n"
     ]
    }
   ],
   "source": [
    "## Split datasets into land and ocean ones - load in summer dataset for ocean only\n",
    "# Load in for a given latitude range\n",
    "use_time_start = 360*2\n",
    "\n",
    "# Chose whether to only consider summer days or consider all days\n",
    "# season = 'summer'\n",
    "season = 'all'\n",
    "\n",
    "# Tropics\n",
    "region = 'tropics'\n",
    "lat_min = 0\n",
    "lat_max = 20\n",
    "# Extratropics\n",
    "# region = 'extratropics'\n",
    "# lat_min = 40\n",
    "# lat_max = 65\n",
    "\n",
    "ds_all = {'land':[], 'ocean': []}\n",
    "ds_summer = []\n",
    "lon = {}\n",
    "lon['land'] = isca_tools.utils.land.get_land_coords(land_file=land_file_name)[1]\n",
    "lon['ocean'] = isca_tools.utils.land.get_ocean_coords(land_file=land_file_name)[1]\n",
    "with tqdm(total=n_exp*2, position=0, leave=True) as pbar:\n",
    "    for i in range(n_exp):\n",
    "        for surf in ['land', 'ocean']:\n",
    "            ds_use = ds[i].sel(time=slice(use_time_start, np.inf))\n",
    "            ds_use = ds_use.sel(lon=np.unique(lon[surf]), method='nearest')\n",
    "            ds_use = ds_use.where((np.abs(ds_use.lat) <= lat_max) & (np.abs(ds_use.lat) >= lat_min), drop=True)\n",
    "            if season == 'summer':\n",
    "                # Only consider summer as has expected circulation\n",
    "                ds_nh_summer = isca_tools.utils.annual_time_slice(ds_use, [7, 8, 9]).sel(lat=slice(lat_min, lat_max))       # NH summer is JAS\n",
    "                ds_sh_summer = isca_tools.utils.annual_time_slice(ds_use, [1, 2, 3]).sel(lat=slice(-lat_max, -lat_min))     # SH summer is JFM\n",
    "                # Combine hemispheres and average over longitude, time and latitude.\n",
    "                # Note that April, May, June, October, November and December will not be included in this dataset\n",
    "                ds_use = xr.concat([ds_sh_summer, ds_nh_summer], dim='lat')\n",
    "            ds_all[surf] += [ds_use.stack(lon_lat_time=(\"lat\",\"lon\",\"time\"), create_index=False).chunk(dict(lon_lat_time=-1))]\n",
    "            ds_all[surf][i].load()\n",
    "            if season == 'summer':\n",
    "                # Get rid of nan values corresponding to the winter hemisphere - half the values are nan\n",
    "                ds_all[surf][i] = ds_all[surf][i].sel(lon_lat_time =\n",
    "                                                      ds_all[surf][i].lon_lat_time[np.invert(np.isnan(ds_all[surf][i].temp[0]))].to_numpy())\n",
    "            # if surf == 'ocean':\n",
    "            #     ds_nh_summer = isca_tools.utils.annual_time_slice(ds_use, [6, 7, 8]).sel(lat=slice(lat_min, lat_max))    # NH summer is JJA\n",
    "            #     ds_sh_summer = isca_tools.utils.annual_time_slice(ds_use, [12, 1, 2]).sel(lat=slice(-lat_max, -lat_min))    # SH summer is DJF\n",
    "            #     # Combine hemispheres and average over longitude, time and latitude.\n",
    "            #     ds_use = xr.concat([ds_nh_summer, ds_sh_summer], dim='lat')\n",
    "            #     ds_use = ds_use.stack(lon_lat_time=(\"lat\",\"lon\",\"time\"), create_index=False).chunk(dict(lon_lat_time=-1))\n",
    "            #     ds_summer += [ds_use]\n",
    "            #     ds_summer[i].load()\n",
    "            pbar.update(1)"
   ],
   "metadata": {
    "collapsed": false,
    "ExecuteTime": {
     "end_time": "2023-05-07T21:03:19.626197Z",
     "start_time": "2023-05-07T21:02:43.409739Z"
    }
   }
  },
  {
   "cell_type": "markdown",
   "source": [
    "## MSE Percentile vs Temperature Percentile\n",
    "Recreating Extended Data Figure 1 of Byrne 2021.\n",
    "\n",
    "This shows the moist static energy percentiles (y-axis) corresponding to the average moist static energy of days exceeding the given temperature percentile.\n",
    "\n",
    "The ocean plot shows good agreement with Byrne 2021, and this also shows that for land, in the warmer simulation, there is a decrease in $p_x$ as seen in Byrne 2021.\n",
    "\n",
    "However, here we see an increase in $p_x$ for large $x$ over land, but in byrne 2021, we see a decrease."
   ],
   "metadata": {
    "collapsed": false
   }
  },
  {
   "cell_type": "code",
   "execution_count": 6,
   "outputs": [
    {
     "name": "stderr",
     "output_type": "stream",
     "text": [
      "100%|██████████| 400/400 [00:31<00:00, 12.83it/s]\n"
     ]
    }
   ],
   "source": [
    "# Get all data needed to compute theoretical temp change and to plot actual temp change for each quantile of temperature\n",
    "def get_quant_ind(dataset, percentile):\n",
    "    # Function to find indices in dataset corresponding to surface temperature above a given quantile\n",
    "    quantile_thresh = dataset.temp[-1].quantile(percentile/100, dim='lon_lat_time', keep_attrs=True)\n",
    "    quant_ind = np.where(dataset.temp[-1] > quantile_thresh)[0]\n",
    "    return quant_ind\n",
    "\n",
    "surfaces = ['ocean', 'land']\n",
    "n_surf = len(surfaces)\n",
    "quant_plot = np.arange(100)     # first value must be 0 so temp_quant[0] is the mean value\n",
    "n_quant = len(quant_plot)\n",
    "\n",
    "# surface values corresponding to the average obove a given percentile in temperature\n",
    "temp_quant = {'ocean': np.zeros((n_exp, n_quant)), 'land': np.zeros((n_exp, n_quant))}\n",
    "sphum_quant = {'ocean': np.zeros((n_exp, n_quant)), 'land': np.zeros((n_exp, n_quant))}\n",
    "z_quant = {'ocean': np.zeros((n_exp, n_quant)), 'land': np.zeros((n_exp, n_quant))}\n",
    "mse_quant = {'ocean': np.zeros((n_exp, n_quant)), 'land': np.zeros((n_exp, n_quant))}\n",
    "\n",
    "\n",
    "with tqdm(total=n_exp*n_quant*n_surf, position=0, leave=True) as pbar:\n",
    "    for i in range(n_exp):\n",
    "        for j, quant in enumerate(quant_plot):\n",
    "            for surf in surfaces:\n",
    "                use_ind = get_quant_ind(ds_all[surf][i], quant)\n",
    "                temp_quant[surf][i, j] = np.mean(ds_all[surf][i].temp[-1][use_ind])\n",
    "                sphum_quant[surf][i, j] = np.mean(ds_all[surf][i].sphum[-1][use_ind])\n",
    "                z_quant[surf][i, j] = np.mean(ds_all[surf][i].height[-1][use_ind])\n",
    "                mse_quant[surf][i, j] = np.mean(moist_static_energy(ds_all[surf][i].temp[-1][use_ind],\n",
    "                                                                    ds_all[surf][i].sphum[-1][use_ind],\n",
    "                                                                    ds_all[surf][i].height[-1][use_ind]))\n",
    "                pbar.update(1)\n",
    "\n",
    "# temp_mean = {surf: np.asarray([temp_quant[surf][i][0] for i in range(n_exp)]) for surf in surfaces}"
   ],
   "metadata": {
    "collapsed": false,
    "ExecuteTime": {
     "end_time": "2023-05-07T21:03:50.828350Z",
     "start_time": "2023-05-07T21:03:19.626876Z"
    }
   }
  },
  {
   "cell_type": "code",
   "execution_count": 7,
   "outputs": [
    {
     "name": "stderr",
     "output_type": "stream",
     "text": [
      "100%|██████████| 400/400 [00:00<00:00, 521.79it/s]\n"
     ]
    }
   ],
   "source": [
    "# Get MSE percentile, p_x, corresponding to MSE averaged over all days exceeding x percentile in temperature\n",
    "mse_quant_px = {'ocean': np.zeros((n_exp, n_quant)), 'land': np.zeros((n_exp, n_quant))}\n",
    "with tqdm(total=n_exp*n_quant*n_surf, position=0, leave=True) as pbar:\n",
    "    for i in range(n_exp):\n",
    "        for surf in surfaces:\n",
    "            mse_all = moist_static_energy(ds_all[surf][i].temp[-1], ds_all[surf][i].sphum[-1], ds_all[surf][i].height[-1])\n",
    "            for j, quant in enumerate(quant_plot):\n",
    "                mse_quant_px[surf][i, j] = percentileofscore(mse_all, mse_quant[surf][i, j])\n",
    "                pbar.update(1)"
   ],
   "metadata": {
    "collapsed": false,
    "ExecuteTime": {
     "end_time": "2023-05-07T21:03:51.616475Z",
     "start_time": "2023-05-07T21:03:50.809448Z"
    }
   }
  },
  {
   "cell_type": "code",
   "execution_count": 8,
   "outputs": [
    {
     "data": {
      "text/plain": "<Figure size 1200x500 with 1 Axes>",
      "image/png": "[encoded data removed]"
     },
     "metadata": {},
     "output_type": "display_data"
    }
   ],
   "source": [
    "plt_color = {'land': 'red', 'ocean': 'blue'}\n",
    "linestyles = ['-', ':']     # different for each kappa\n",
    "fig, ax = plt.subplots(1,1, figsize=(12, 5), sharex=True)\n",
    "for surf in surfaces:\n",
    "    for i in range(n_exp):\n",
    "        ax.plot(quant_plot, mse_quant_px[surf][i], color=plt_color[surf], linestyle=linestyles[i],\n",
    "                label=f'{surf} ($\\kappa={tau_lw[i]}$)')\n",
    "ax.legend()\n",
    "ax.set_xlabel('temperature percentile, $x$')\n",
    "ax.set_ylabel('MSE percentile, $p_x$')\n",
    "ax.set_xlim(0,100);"
   ],
   "metadata": {
    "collapsed": false,
    "ExecuteTime": {
     "end_time": "2023-05-07T21:03:51.742288Z",
     "start_time": "2023-05-07T21:03:51.585385Z"
    }
   }
  },
  {
   "cell_type": "markdown",
   "source": [
    "## Land to Ocean changes in Temperature, Specific Humidity, MSE\n",
    "Attempt to reproduce Byrne 2021 Figure 3.\n",
    "\n",
    "It seems pretty close to the results shown in the paper, implying that the assumption of equal change in MSE percentiles over land and ocean: $\\delta h_L(p) = \\delta h_O(p)$ may also be valid.\n",
    "\n",
    "However, the scaling $\\lambda(p) = \\frac{\\delta h_L(p)}{\\delta h_O(p)}$, is clearly more than 1 for percentiles greater than 1, and the difference to 1 is more significant than in the paper.\n",
    "\n",
    "The vertical black lines indicate the range of $p^x$ that corresponds to the complete range of $x$ from 0 to 100."
   ],
   "metadata": {
    "collapsed": false
   }
  },
  {
   "cell_type": "code",
   "execution_count": 9,
   "outputs": [],
   "source": [
    "# quant2 is the actual quantile value rather than the average above a given quantile\n",
    "temp_quant2 = {'ocean': np.zeros((n_exp, n_quant)), 'land': np.zeros((n_exp, n_quant))}\n",
    "# specific humidity as function of specific humidity quantile not temp quantile\n",
    "sphum_quant2 = {'ocean': np.zeros((n_exp, n_quant)), 'land': np.zeros((n_exp, n_quant))}\n",
    "# mse as function of mse quantile not temp quantile\n",
    "mse_quant2 = {'ocean': np.zeros((n_exp, n_quant)), 'land': np.zeros((n_exp, n_quant))}\n",
    "\n",
    "for i in range(n_exp):\n",
    "        for k, ds_use in enumerate([ds_all['ocean'], ds_all['land']]):\n",
    "            temp_quant2[surfaces[k]][i] = ds_use[i].temp[-1].quantile(quant_plot/100, dim='lon_lat_time', keep_attrs=True)\n",
    "            sphum_quant2[surfaces[k]][i] = ds_use[i].sphum[-1].quantile(quant_plot/100, dim='lon_lat_time', keep_attrs=True)\n",
    "            mse = moist_static_energy(ds_use[i].temp[-1], ds_use[i].sphum[-1], ds_use[i].height[-1])\n",
    "            mse_quant2[surfaces[k]][i] = mse.quantile(quant_plot/100, dim='lon_lat_time', keep_attrs=True)"
   ],
   "metadata": {
    "collapsed": false,
    "ExecuteTime": {
     "end_time": "2023-05-07T21:03:52.676219Z",
     "start_time": "2023-05-07T21:03:51.724816Z"
    }
   }
  },
  {
   "cell_type": "code",
   "execution_count": 10,
   "outputs": [
    {
     "data": {
      "text/plain": "<Figure size 800x500 with 1 Axes>",
      "image/png": "[encoded data removed]"
     },
     "metadata": {},
     "output_type": "display_data"
    }
   ],
   "source": [
    "save_lambda_fig = False\n",
    "fig, ax = plt.subplots(1,1, figsize=(8, 5))\n",
    "ax.spines[['right', 'top']].set_visible(False)\n",
    "labels = ['Temperature', 'Specific humidity', 'Moist static energy']\n",
    "# don't plot the p=0 percentile as doesn't really make any sense\n",
    "for i, var in enumerate([temp_quant2, sphum_quant2, mse_quant2]):\n",
    "    ax.plot(quant_plot[np.where(quant_plot>0)], ((var['land'][1]-var['land'][0])/(var['ocean'][1]-var['ocean'][0])\n",
    "                                                 )[np.where(quant_plot>0)], label=labels[i])\n",
    "ax.hlines(1,0,100, color='k', linewidth=0.5, alpha=0.5)\n",
    "ax.legend(loc='upper left', frameon=False)\n",
    "ax.set_xlabel('Percentile')\n",
    "ax.set_ylabel('$\\delta$Land/$\\delta$Ocean')\n",
    "ax.set_title(f'$(\\kappa={tau_lw[1]})-(\\kappa={tau_lw[0]})$\\n${lat_max}>|\\phi| \\geq {lat_min}$')\n",
    "ax.vlines([mse_quant_px['land'][0].min(), mse_quant_px['land'][0].max()], 0, 2, color='k', linewidth=0.5, alpha=0.5)\n",
    "ax.set_ylim(0.1,1.9)\n",
    "ax.set_xlim(0, 100);\n",
    "if save_fig or save_lambda_fig:\n",
    "    fig.savefig(f\"/Users/joshduffield/Desktop/lambda_{region.lower()}_{season}\",dpi=high_dpi if publish_fig else low_dpi)"
   ],
   "metadata": {
    "collapsed": false,
    "ExecuteTime": {
     "end_time": "2023-05-07T21:03:53.841330Z",
     "start_time": "2023-05-07T21:03:52.697681Z"
    }
   }
  },
  {
   "cell_type": "markdown",
   "source": [
    "## Theory for $\\delta T_L^x$\n",
    "Below, I try to replicate Figure 2 from the paper. This uses equation 5 in the paper which is based on the assumption of equal change in MSE percentiles over land and ocean: $\\delta h_L(p) = \\delta h_O(p)$ i.e. $\\lambda(p) = 1$.\n",
    "\n",
    "The theory does pretty well at low percentiles, but seems to get worse as $x$ increases, with the wrong trend being seen for the largest $x$."
   ],
   "metadata": {
    "collapsed": false
   }
  },
  {
   "cell_type": "code",
   "execution_count": 18,
   "outputs": [],
   "source": [
    "p_surface = float(ds_all['land'][0].pfull[-1]) * 100  # pressure where surface temperature is computed - same for all ds\n",
    "\n",
    "def sphum_sat(temp, pressure):\n",
    "    # Saturation specific humidity\n",
    "    w_sat = mixing_ratio_from_partial_pressure(saturation_vapor_pressure(temp), pressure)\n",
    "    q_sat = w_sat / (1+w_sat)\n",
    "    return q_sat\n",
    "\n",
    "def clausius_clapeyron_factor(temp):\n",
    "    # Alpha in byrne 2021\n",
    "    return L_v / (R_v * temp**2)\n",
    "\n",
    "# Land constants required - all averaged over the x percentile temperature day\n",
    "# i.e. there are 100 values for each of these constants\n",
    "alpha_l = clausius_clapeyron_factor(temp_quant['land'][0])\n",
    "q_l_x_sat = sphum_sat(temp_quant['land'][0], p_surface)\n",
    "q_l_mean_sat = q_l_x_sat[0]\n",
    "q_l_x = sphum_quant['land'][0]\n",
    "r_l_x = q_l_x / q_l_x_sat\n",
    "delta_r_l_x = sphum_quant['land'][1]/sphum_sat(temp_quant['land'][1], p_surface) - r_l_x\n",
    "r_l_mean = r_l_x[0]\n",
    "delta_r_l_mean = delta_r_l_x[0]\n",
    "\n",
    "# Ocean constants required - these are for the percentile px which corresponds to the average above the x percentile in temperature\n",
    "# We assume the change in the p xth percentile of ocean moist static energy can be written to good approximation as\n",
    "# a function of the individual changes in the pxth percentiles of temperature and specific humidity - from Methods page of paper\n",
    "p_x = np.round(mse_quant_px['land'][0]).astype(int)        # p_x[i] is the percentile of MSE corresponding to average above the\n",
    "                                                            # percentile quant_all[i] of temperature in reference climate.\n",
    "temp_o = temp_quant2['ocean'][0][p_x]\n",
    "delta_temp_o = temp_quant2['ocean'][1][p_x] - temp_o\n",
    "q_o = sphum_quant2['ocean'][0][p_x]\n",
    "q_o_sat = sphum_sat(temp_o, p_surface)\n",
    "r_o = q_o / q_o_sat\n",
    "delta_r_o = sphum_quant2['ocean'][1][p_x]/sphum_sat(temp_quant2['ocean'][1][p_x], p_surface) - r_o\n",
    "alpha_o = clausius_clapeyron_factor(temp_o)\n",
    "\n",
    "e_const = L_v * alpha_l * q_l_x_sat / (c_p + L_v * alpha_l * q_l_x)\n",
    "nabla = q_l_mean_sat / q_l_x_sat * e_const / alpha_l\n",
    "gamma_t = (c_p + L_v * alpha_o * q_o) / (c_p + L_v * alpha_l * q_l_x)\n",
    "gamma_r_o = L_v * q_o_sat / (c_p + L_v * alpha_l * q_l_x)"
   ],
   "metadata": {
    "collapsed": false,
    "ExecuteTime": {
     "end_time": "2023-05-07T21:05:21.412892Z",
     "start_time": "2023-05-07T21:05:21.407756Z"
    }
   }
  },
  {
   "cell_type": "code",
   "execution_count": 21,
   "outputs": [
    {
     "data": {
      "text/plain": "<Figure size 800x600 with 2 Axes>",
      "image/png": "[encoded data removed]"
     },
     "metadata": {},
     "output_type": "display_data"
    }
   ],
   "source": [
    "# Plot temperature change vs percentile\n",
    "save_theory_fig = False\n",
    "temp_diff_land_theory = (gamma_t * delta_temp_o + gamma_r_o * delta_r_o - nabla * delta_r_l_mean) / (1 + e_const * delta_r_l_x)\n",
    "temp_diff_land_theory_fix_rh = gamma_t * delta_temp_o\n",
    "fig, ax = plt.subplots(2,1, figsize=(8, 6), sharex=True)\n",
    "ax[0].spines[['right', 'top']].set_visible(False)\n",
    "ax[1].spines[['right', 'top']].set_visible(False)\n",
    "temp_diff_quant = {'ocean': [], 'land': []}\n",
    "for surf in ['ocean', 'land']:\n",
    "    temp_diff_quant[surf] = temp_quant[surf][1]-temp_quant[surf][0]\n",
    "    ax[0].plot(quant_plot, temp_diff_quant[surf], label=f'{surf.capitalize()} (simulated)', color=plt_color[surf])\n",
    "    ax[1].plot(quant_plot, temp_diff_quant[surf]/temp_diff_quant[surf][0], color=plt_color[surf])\n",
    "ax[0].plot(quant_plot, temp_diff_land_theory, label=f'Land (theory)', linestyle='--', color='k')\n",
    "ax[0].plot(quant_plot, temp_diff_land_theory_fix_rh, label=f'Land (fixed RHs)', linestyle=':', color='k')\n",
    "ax[1].plot(quant_plot, temp_diff_land_theory/temp_diff_land_theory[0], label=f'Land (theory)', linestyle='--', color='k')\n",
    "ax[1].plot(quant_plot, temp_diff_land_theory_fix_rh/temp_diff_land_theory_fix_rh[0],\n",
    "           label=f'Land (fixed RHs)', linestyle=':', color='k')\n",
    "ax[0].set_ylabel('Temperature Change / K')\n",
    "ax[1].set_ylabel('Scaling Factor, $\\delta T^x/ \\delta \\\\overline{T}$')\n",
    "ax[1].set_xlabel('Temperature percentile, $x$')\n",
    "ax[0].legend(fontsize=9, frameon=False)\n",
    "ax[0].set_xlim(0,100)\n",
    "# ax[0].set_ylim(4, 8.5)\n",
    "# ax[1].set_ylim(0.8, 1.5)\n",
    "ax[1].hlines(1,0,100, color='k', linewidth=0.5, alpha=0.5)\n",
    "# ax[0].set_ylim(4, 8.5)\n",
    "# ax[1].set_ylim(0.9, 1.25)\n",
    "ax[0].set_title(f'$(\\kappa={tau_lw[1]})-(\\kappa={tau_lw[0]})$\\n${lat_max}>|\\phi| \\geq {lat_min}$')\n",
    "plt.tight_layout()\n",
    "\n",
    "if save_fig or save_theory_fig:\n",
    "    fig.savefig(f\"/Users/joshduffield/Desktop/temp_{region.lower()}_{season}\",\n",
    "                dpi=high_dpi if publish_fig else low_dpi)"
   ],
   "metadata": {
    "collapsed": false,
    "ExecuteTime": {
     "end_time": "2023-05-07T21:09:20.781825Z",
     "start_time": "2023-05-07T21:09:20.604576Z"
    }
   }
  },
  {
   "cell_type": "code",
   "execution_count": 39,
   "outputs": [
    {
     "name": "stdout",
     "output_type": "stream",
     "text": [
      "0.02239023321210798\n",
      "0.020725958174190318\n"
     ]
    }
   ],
   "source": [
    "# sanity check that theory in isca_tools works\n",
    "# The only difference here is due to the version of clausius clapeyron used\n",
    "for i, const_rh in enumerate([False, True]):\n",
    "    temp_diff_land_theory2 = get_delta_temp_quant_theory(temp_quant['land'][:, 0], sphum_quant['land'][:, 0], temp_quant['land'],\n",
    "                                                         temp_quant2['ocean'], sphum_quant['land'], sphum_quant2['ocean'], quant_plot,\n",
    "                                                         get_px(ds_all['land'], mse_quant['land'], quant_plot, True), p_surface, const_rh)\n",
    "    if i ==0:\n",
    "        print(np.abs(temp_diff_land_theory2[0] - temp_diff_land_theory).max())\n",
    "    else:\n",
    "        print(np.abs(temp_diff_land_theory2[0] - temp_diff_land_theory_fix_rh).max())"
   ],
   "metadata": {
    "collapsed": false,
    "ExecuteTime": {
     "end_time": "2023-05-08T08:51:00.359114Z",
     "start_time": "2023-05-08T08:51:00.147240Z"
    }
   }
  },
  {
   "cell_type": "markdown",
   "source": [
    "## Components of land temperature response\n",
    "This is to replicate Figure 4 in Byrne 2021."
   ],
   "metadata": {
    "collapsed": false
   }
  },
  {
   "cell_type": "code",
   "execution_count": null,
   "outputs": [],
   "source": [
    "temp_theory_terms = [gamma_t * delta_temp_o,\n",
    "                     gamma_r_o * delta_r_o,\n",
    "                     -(e_const/alpha_l)*delta_r_l_x/(1+e_const * delta_r_l_x),\n",
    "                     e_const/alpha_l*(delta_r_l_x - delta_r_l_mean * q_l_mean_sat/q_l_x_sat)]\n",
    "temp_theory_terms = np.asarray(temp_theory_terms)\n",
    "labels = ['$\\delta T_O$ comp.', '$\\delta r_O$ comp.', '$\\delta r_L$ comp.', '$\\Delta h$ comp.']\n",
    "colors = ['cyan', 'blue', 'red', 'purple']\n",
    "fig, ax = plt.subplots(1,1, figsize=(14, 5), sharex=True)\n",
    "ax.plot(quant_plot, temp_diff_land_theory, label=f'Theory', color='k')\n",
    "for i, var in enumerate(temp_theory_terms):\n",
    "    ax.plot(quant_plot, var, label=labels[i], color=colors[i])\n",
    "ax.plot(quant_plot, np.sum(temp_theory_terms[-2:], axis=0), color='red', linestyle='--', label='$\\delta r_L^{total}$ comp.')\n",
    "ax.plot(quant_plot, np.sum(temp_theory_terms, axis=0), color='k', linestyle='--', label='Sum')\n",
    "ax.legend()\n",
    "ax.hlines([0],0,100, color='grey', lw=0.5)\n",
    "ax.set_xlabel('temperature Percentile, $x$')\n",
    "ax.set_ylabel('Temperature change / $K$')\n",
    "ax.set_xlim(0,100);"
   ],
   "metadata": {
    "collapsed": false,
    "ExecuteTime": {
     "start_time": "2023-05-07T21:03:53.466657Z"
    }
   }
  },
  {
   "cell_type": "markdown",
   "source": [
    "The below plot shows the $\\gamma$ scaling parameters, as in Extended Figure 4."
   ],
   "metadata": {
    "collapsed": false
   }
  },
  {
   "cell_type": "code",
   "execution_count": null,
   "outputs": [],
   "source": [
    "gamma_r_l = -nabla/(100+e_const)\n",
    "save_gamma_fig = False\n",
    "fig, ax = plt.subplots(2,1, figsize=(14, 7), sharex=True)\n",
    "ax[0].spines[['right', 'top']].set_visible(False)\n",
    "ax[1].spines[['right', 'top']].set_visible(False)\n",
    "ax[0].plot(quant_plot, gamma_t, color='k', label='$\\gamma^{T_O}$')\n",
    "ax[1].plot(quant_plot, gamma_r_o/100, color='b', label='ocean $\\gamma^{r_O}$')\n",
    "ax[1].plot(quant_plot, gamma_r_l, color='r', label='land $\\gamma^{r_L}$')\n",
    "ax[1].hlines([0],0,100, color='k', lw=0.5, alpha=0.5)\n",
    "ax[0].legend(frameon=False)\n",
    "ax[0].set_ylabel('sensitivity to $\\delta T_O$ [$K/K$]')\n",
    "ax[1].legend(frameon=False)\n",
    "ax[1].set_ylabel('sensitivity to $\\delta r$ [$K/$%]')\n",
    "ax[0].set_xlim(0,100)\n",
    "ax[1].set_ylim(-np.max([gamma_r_o.max()/100, np.abs(gamma_r_l).max()])-0.04,\n",
    "               np.max([gamma_r_o.max()/100, np.abs(gamma_r_l).max()])+0.04)\n",
    "ax[0].set_title(f'$(\\kappa={tau_lw[1]})-(\\kappa={tau_lw[0]})$\\n${lat_max}>|\\phi| \\geq {lat_min}$')\n",
    "plt.tight_layout()\n",
    "if save_fig or save_gamma_fig:\n",
    "    fig.savefig(f\"/Users/joshduffield/Desktop/gamma_{region.lower()}_{season}\",\n",
    "                dpi=high_dpi if publish_fig else low_dpi)"
   ],
   "metadata": {
    "collapsed": false,
    "ExecuteTime": {
     "start_time": "2023-05-07T21:03:53.466722Z"
    }
   }
  },
  {
   "cell_type": "markdown",
   "source": [
    "## Why does the theory not work?\n",
    "From the above plots, it is clear that the theory given by equation 5 in the paper does not do particularly well in predicting the temperature response at large $x$. The rest of this notebook is looking into why this is the case.\n",
    "\n",
    "\n",
    "### Supplementary Figure 7 - calculation of $\\delta h_O(p_x)$\n",
    "The first assumption we check, is that of equation 10 which assumes that the change in the $p^x$th percentile of ocean moist static energy can be written to good approximation as a function of the individual changes in the $p^x$th percentiles of temperature and specific humidity i.e. we want to check if the assumption that $\\delta h_O(p_x) \\approx c_p \\delta T_O(p_x) + L_v \\delta q_O(p_x)$ holds.\n",
    "\n",
    "If this assumption were to hold, then both the black lines in the plot below would overlap. We see that it holds to within 3% for all percentiles, which while more than the 0.5% in Byrne 2021, is still pretty good.\n",
    "\n",
    "However, the taylor expansion of $\\delta h_O(p_x)$ used in the $\\delta T_L^x$ equation is shown as a solid red line. This clearly differs greatly from either of the black lines, implying it may be appropriate to use further terms in the taylor expansion.\n",
    "\n",
    "The red dotted line includes both the non-linear $\\delta T_O \\delta r_O$ term and the squared $\\delta T_O^2$ term and matches the black lines much better.\n",
    "\n",
    "If I then further work backwards from my definition of saturation vapour pressure to get a more accurate $\\alpha$, it gives the red dotted and dashed line. This almost exactly matches the black dashed line, which is what we would expect a perfect taylor series to do, so we don't need any more terms."
   ],
   "metadata": {
    "collapsed": false
   }
  },
  {
   "cell_type": "code",
   "execution_count": 15,
   "outputs": [],
   "source": [
    "def clausius_clapeyron_factor2(temp):\n",
    "    # Rather than saying d_sphum_sat_d_temp = alpha \\times sphum_sat,\n",
    "    # here I explicitly compute alpha from the formula for saturation_vapor_pressure using in isca_tools\n",
    "    lambda_const = 4302.645 / (temp - 29.65)**2\n",
    "    return lambda_const * p_surface / epsilon * sphum_sat(temp, p_surface) / saturation_vapor_pressure(temp)\n",
    "\n",
    "alpha_o_2 = clausius_clapeyron_factor2(temp_o)\n",
    "alpha_l_2 = clausius_clapeyron_factor2(temp_quant['land'][0])"
   ],
   "metadata": {
    "collapsed": false,
    "ExecuteTime": {
     "end_time": "2023-05-07T21:04:59.400467Z",
     "start_time": "2023-05-07T21:04:59.394334Z"
    }
   }
  },
  {
   "cell_type": "code",
   "execution_count": null,
   "outputs": [],
   "source": [
    "fig, ax = plt.subplots(1,1, figsize=(8, 5))\n",
    "ax.plot(quant_plot, mse_quant2['ocean'][1][p_x]-mse_quant2['ocean'][0][p_x], color='k', label='$\\delta h_O(p_x)$')\n",
    "ax.plot(quant_plot, (c_p * delta_temp_o +\n",
    "         L_v * (sphum_quant2['ocean'][1][p_x]-sphum_quant2['ocean'][0][p_x]))/1000, color='k',\n",
    "        label='$c_p \\delta T_O(p_x) + L_v \\delta q_O(p_x)$', linestyle='--')\n",
    "\n",
    "term0 = c_p * delta_temp_o\n",
    "term1 = L_v * alpha_o * q_o * delta_temp_o\n",
    "term2 = L_v * q_o_sat * delta_r_o\n",
    "term3 = L_v * q_o_sat * alpha_o * delta_r_o * delta_temp_o\n",
    "term4 = 0.5 * L_v * q_o * alpha_o * (alpha_o - 2/temp_o)*delta_temp_o**2\n",
    "mse_taylor_terms = {'ocean': {'alpha1': np.asarray([term0, term1, term2, term3, term4])} , 'land': {}}\n",
    "ax.plot(quant_plot, np.sum(mse_taylor_terms['ocean']['alpha1'][:3], axis=0)/1000, color='r', linestyle='-',\n",
    "        label='$(c_p+L_v\\\\alpha_O q_O) \\delta T_O(p_x) + L_v q_{O,sat} \\delta r_O(p_x)$')\n",
    "ax.plot(quant_plot, np.sum(mse_taylor_terms['ocean']['alpha1'][:4], axis=0)/1000, color='r', linestyle='--',\n",
    "        label='With non-linear $\\delta T_O \\delta r_O$ term')\n",
    "ax.plot(quant_plot, np.sum(mse_taylor_terms['ocean']['alpha1'], axis=0)/1000, color='r', linestyle=':',\n",
    "        label='With non-linear and $\\delta T_O^2$ terms')\n",
    "\n",
    "term1 = L_v * alpha_o_2 * q_o * delta_temp_o\n",
    "term2 = L_v * q_o_sat * delta_r_o\n",
    "term3 = L_v * q_o_sat * alpha_o_2 * delta_r_o * delta_temp_o\n",
    "term4 = 0.5 * L_v * q_o * alpha_o_2 * (alpha_o_2 - 2/temp_o)*delta_temp_o**2\n",
    "mse_taylor_terms['ocean']['alpha2'] = np.asarray([term0, term1, term2, term3, term4])\n",
    "\n",
    "ax.plot(quant_plot, np.sum(mse_taylor_terms['ocean']['alpha2'], axis=0)/1000, color='r', linestyle='-.',\n",
    "        label='With all terms and $\\\\alpha$ from Bolton')\n",
    "\n",
    "ax.set_xlabel('temperature percentile, $x$')\n",
    "ax.set_ylabel('MSE change / $kJ/kg$')\n",
    "ax.legend()\n",
    "ax.set_xlim(0,100);"
   ],
   "metadata": {
    "collapsed": false,
    "ExecuteTime": {
     "start_time": "2023-05-07T21:03:53.467013Z"
    }
   }
  },
  {
   "cell_type": "markdown",
   "source": [
    "### Calculation of $\\delta h_L^x$\n",
    "As with the taylor expansion for ocean MSE change above, the land MSE change taylor expansion also needs additional terms.\n",
    "\n",
    "The approximation used in equation 5 of the paper is showed by the red dashed line (including the non-linear $\\delta T^x_L \\delta r^x_L$ term). But we see that including the squared term, $(\\delta T^x_L)^2$, and changing the definition of $\\alpha$ helps match it to the simulated value."
   ],
   "metadata": {
    "collapsed": false
   }
  },
  {
   "cell_type": "code",
   "execution_count": null,
   "outputs": [],
   "source": [
    "term0 = c_p * temp_diff_quant['land']\n",
    "term1 = L_v * alpha_l * q_l_x * temp_diff_quant['land']\n",
    "term2 = L_v * q_l_x_sat * delta_r_l_x\n",
    "term3 = L_v * q_l_x_sat * alpha_l * delta_r_l_x * (temp_quant['land'][1]-temp_quant['land'][0])\n",
    "term4 = 0.5 * L_v * q_l_x * alpha_l * (alpha_l - 2/temp_quant['land'][0])*(temp_quant['land'][1]-temp_quant['land'][0])**2\n",
    "mse_taylor_terms['land']['alpha1'] = np.asarray([term0, term1, term2, term3, term4])\n",
    "\n",
    "fig, ax = plt.subplots(1,1, figsize=(8, 5))\n",
    "ax.plot(quant_plot, mse_quant['land'][1]-mse_quant['land'][0], color='k', label='$\\delta h^x_L$')\n",
    "ax.plot(quant_plot, np.sum(mse_taylor_terms['land']['alpha1'][:3], axis=0)/1000, color='r',\n",
    "        label='$(c_p+L_v\\\\alpha_L q_L) \\delta T^x_L + L_v q_{L,sat} \\delta r^x_L$')\n",
    "ax.plot(quant_plot, np.sum(mse_taylor_terms['land']['alpha1'][:4], axis=0)/1000, color='r', linestyle='--',\n",
    "        label='With non-linear $\\delta T^x_L \\delta r^x_L$ term')\n",
    "ax.plot(quant_plot, np.sum(mse_taylor_terms['land']['alpha1'], axis=0)/1000, color='r', linestyle=':',\n",
    "        label='With non-linear and $(\\delta T^x_L)^2$ terms')\n",
    "\n",
    "term1 = L_v * alpha_l_2 * q_l_x * temp_diff_quant['land']\n",
    "term2 = L_v * q_l_x_sat * delta_r_l_x\n",
    "term3 = L_v * q_l_x_sat * alpha_l_2 * delta_r_l_x * temp_diff_quant['land']\n",
    "term4 = 0.5 * L_v * q_l_x * alpha_l_2 * (alpha_l_2 - 2/temp_quant['land'][0])*temp_diff_quant['land']**2\n",
    "mse_taylor_terms['land']['alpha2'] = np.asarray([term0, term1, term2, term3, term4])\n",
    "\n",
    "ax.plot(quant_plot, np.sum(mse_taylor_terms['land']['alpha2'], axis=0)/1000, color='r', linestyle='-.',\n",
    "        label='With all terms and $\\\\alpha$ from Bolton')\n",
    "\n",
    "ax.legend()\n",
    "ax.set_xlabel('temperature percentile, $x$')\n",
    "ax.set_ylabel('MSE change / $kJ/kg$')\n",
    "ax.set_xlim(0,100);"
   ],
   "metadata": {
    "collapsed": false,
    "ExecuteTime": {
     "start_time": "2023-05-07T21:03:53.467113Z"
    }
   }
  },
  {
   "cell_type": "markdown",
   "source": [
    "### Calculation of $\\delta q_O(p_x)$ and $\\delta q_L^x$\n",
    "The problem above only arises from the taylor expansion of the change in specific humidity, $\\delta q$, terms. So here we do the same analysis but just for this.\n",
    "\n",
    "It gives the same conclusions regarding the additional terms required in the taylor expansion."
   ],
   "metadata": {
    "collapsed": false
   }
  },
  {
   "cell_type": "code",
   "execution_count": null,
   "outputs": [],
   "source": [
    "fig, ax = plt.subplots(2,1, figsize=(14, 8), sharex=True)\n",
    "ax[0].plot(quant_plot, sphum_quant2['ocean'][1][p_x]-sphum_quant2['ocean'][0][p_x], color='k', label='$\\delta q_O(p_x)$')\n",
    "ax[0].plot(quant_plot, np.sum(mse_taylor_terms['ocean']['alpha1'][1:3], axis=0)/L_v, color='r', linestyle='-',\n",
    "        label='$\\\\alpha_O q_O \\delta T_O(p_x) + q_{O,sat} \\delta r_O(p_x)$')\n",
    "ax[0].plot(quant_plot, np.sum(mse_taylor_terms['ocean']['alpha1'][1:4], axis=0)/L_v, color='r', linestyle='--',\n",
    "        label='With non-linear $\\delta T_O \\delta r_O$ term')\n",
    "ax[0].plot(quant_plot, np.sum(mse_taylor_terms['ocean']['alpha1'][1:], axis=0)/L_v, color='r', linestyle=':',\n",
    "        label='With non-linear and $\\delta T_O^2$ terms')\n",
    "ax[0].plot(quant_plot, np.sum(mse_taylor_terms['ocean']['alpha2'][1:], axis=0)/L_v, color='r', linestyle='-.',\n",
    "        label='With all terms and $\\\\alpha$ from Bolton')\n",
    "fig.supylabel('Specific humidity change / $kg/kg$')\n",
    "ax[0].legend()\n",
    "\n",
    "ax[1].plot(quant_plot, sphum_quant['land'][1]-sphum_quant['land'][0], color='k', label='$\\delta q^x_L$')\n",
    "ax[1].plot(quant_plot, np.sum(mse_taylor_terms['land']['alpha1'][1:3], axis=0)/L_v, color='r',\n",
    "        label='$\\\\alpha_L q_L \\delta T^x_L + L_v q_{L,sat} \\delta r^x_L$')\n",
    "ax[1].plot(quant_plot, np.sum(mse_taylor_terms['land']['alpha1'][1:4], axis=0)/L_v, color='r', linestyle='--',\n",
    "        label='With non-linear $\\delta T^x_L \\delta r^x_L$ term')\n",
    "ax[1].plot(quant_plot, np.sum(mse_taylor_terms['land']['alpha1'][1:], axis=0)/L_v, color='r', linestyle=':',\n",
    "        label='With non-linear and $(\\delta T^x_L)^2$ terms')\n",
    "ax[1].plot(quant_plot, np.sum(mse_taylor_terms['land']['alpha2'][1:], axis=0)/L_v, color='r', linestyle='-.',\n",
    "        label='With all terms and $\\\\alpha$ from Bolton')\n",
    "ax[1].legend()\n",
    "ax[1].set_xlabel('temperature percentile, $x$')\n",
    "ax[0].set_xlim(0,100)\n",
    "plt.tight_layout();"
   ],
   "metadata": {
    "collapsed": false,
    "ExecuteTime": {
     "start_time": "2023-05-07T21:03:53.469567Z"
    }
   }
  },
  {
   "cell_type": "markdown",
   "source": [
    "The difference between the red dotted and red dashed-dotted line is due to using an inappropriate $\\alpha$ value. If I compute $\\alpha$ explicitly from the [equation for saturation vapour pressure](http://127.0.0.1:8000/code/utils/moist_physics/#isca_tools.utils.moist_physics.saturation_vapor_pressure) used in the Byrne 2021 paper, I get a lower value of $\\alpha$ (as shown below) which results in a better fit above."
   ],
   "metadata": {
    "collapsed": false
   }
  },
  {
   "cell_type": "code",
   "execution_count": null,
   "outputs": [],
   "source": [
    "fig, ax = plt.subplots(1,1, figsize=(8, 5))\n",
    "ax.plot(temp_o, alpha_o, label='$\\\\alpha = \\\\frac{L_v}{R_v T^2}$')\n",
    "ax.plot(temp_o, alpha_o_2, label='$\\\\alpha$ from Bolton 1980 Equation 10')\n",
    "ax.set_xlabel('temperature [$K$]')\n",
    "ax.legend();"
   ],
   "metadata": {
    "collapsed": false,
    "ExecuteTime": {
     "start_time": "2023-05-07T21:03:53.474616Z"
    }
   }
  },
  {
   "cell_type": "markdown",
   "source": [
    "### Checking Equation 24, $\\Delta h = L_v(\\delta r_L^x q^x_{L,sat} - \\delta \\bar{r_L}  \\overline{q_{L,sat}})$\n",
    "\n",
    "If we assume that $\\delta h_L(p) = \\delta h_O(p)$, then we get equation 9: $\\delta h_L^x = \\delta h_O(p^x) + \\Delta h$ where:\n",
    "$$\\Delta h = h_L^{\\kappa_{warm}}(p^x + \\delta p^x) - h_L^{\\kappa_{warm}}(p^x)$$\n",
    "\n",
    "It the paper, it then derives a theory for $\\Delta h$ given by equation 24: $\\Delta h = L_v(\\delta r_L^x q^x_{L,sat} - \\delta \\bar{r_L}  \\overline{q_{L,sat}})$.\n",
    "\n",
    "In the top plot below, we see that there is a significant difference between the simulated value (blue dotted line) and that predicted by this theory (red), implying the theory may need evaluating.\n",
    "\n",
    "In the top plot, we also see that there is a bug difference between the simulated value of $\\delta h^x_L - \\delta h_O(p_x)$ (solid blue line) and the simulated value of $\\Delta h = h_L^{\\kappa_{warm}}(p^x + \\delta p^x) - h_L^{\\kappa_{warm}}(p^x)$. This implies the assumption that $\\lambda(p) = \\frac{\\delta h_L(p)}{\\delta h_O(p)} = 1$ is incorrect.\n",
    "\n",
    "If we instead use the exact value of $\\lambda(p)$, we get $\\Delta h = \\delta h_L^x - \\lambda(p^x) \\delta h_O(p^x)$. We show this as the blue solid line in the second plot, and see that it almost exactly matches the blue dotted line.\n",
    "\n",
    "In black, we also include various taylor expansion simplifications for $\\delta h_L^x$ and $\\delta h_O(p^x)$. We see that the simplest expansion that matches the blue lines well is going up to the non-linear $\\delta T_L^x\\delta r_L^x$ term for land and just including the two linear terms for ocean. This is promising, as this is what was used in the paper."
   ],
   "metadata": {
    "collapsed": false
   }
  },
  {
   "cell_type": "code",
   "execution_count": null,
   "outputs": [],
   "source": [
    "# Get actual delta_h from change in quantile formula\n",
    "mse_all = moist_static_energy(ds_all[surf][1].temp[-1], ds_all[surf][1].sphum[-1], ds_all[surf][1].height[-1])\n",
    "delta_h = np.quantile(mse_all, mse_quant_px['land'][1]/100) - np.quantile(mse_all, mse_quant_px['land'][0]/100)\n",
    "\n",
    "# theory for delta_h using equation 24 in the paper\n",
    "delta_h_theory = L_v * (delta_r_l_x * q_l_x_sat - delta_r_l_mean * q_l_mean_sat)\n",
    "\n",
    "# Actual ratio between MSE changes on land vs ocean for percentile p_x - assume this to be 1 in paper\n",
    "lambda_px = (mse_quant2['land'][1][p_x]-mse_quant2['land'][0][p_x])/(mse_quant2['ocean'][1][p_x]-mse_quant2['ocean'][0][p_x])"
   ],
   "metadata": {
    "collapsed": false,
    "ExecuteTime": {
     "start_time": "2023-05-07T21:03:53.474709Z"
    }
   }
  },
  {
   "cell_type": "code",
   "execution_count": null,
   "outputs": [],
   "source": [
    "fig, ax = plt.subplots(2,1, figsize=(14, 10), sharex=True, sharey=True)\n",
    "# ax.plot(quant_plot, term_sum - (term1+term2)/1000)\n",
    "ax[0].plot(quant_plot, mse_quant['land'][1]-mse_quant['land'][0] - (mse_quant2['ocean'][1][p_x]-mse_quant2['ocean'][0][p_x]),\n",
    "        label='Simulated, $\\delta h_L^x - \\delta h_O(p^x)$', color='b')\n",
    "ax[0].plot(quant_plot, delta_h, color='b', linestyle=':',\n",
    "        label='Simulated, $\\delta h^{\\kappa_{warm}}_L(p^x+\\delta p^x) - \\delta h^{\\kappa_{warm}}_L(p^x)$')\n",
    "ax[0].plot(quant_plot, np.sum(mse_taylor_terms['land']['alpha2'][:3], axis=0)/1000 -\n",
    "        np.sum(mse_taylor_terms['ocean']['alpha2'][:3], axis=0)/1000,\n",
    "        label='$\\delta h_L^x(\\delta T_L^x, \\delta r_L^x) - \\delta h_O^x(\\delta T_O, \\delta r_O^x)$', color='k', linestyle=':')\n",
    "ax[0].plot(quant_plot, np.sum(mse_taylor_terms['land']['alpha2'][:4], axis=0)/1000 -\n",
    "        np.sum(mse_taylor_terms['ocean']['alpha2'][:3], axis=0)/1000, linestyle='--', color='k',\n",
    "        label='$\\delta h_L^x(\\delta T_L^x, \\delta r_L^x, \\delta T_L^x\\delta r_L^x) - \\delta h_O^x(\\delta T_O, \\delta r_O^x)$')\n",
    "ax[0].plot(quant_plot, np.sum(mse_taylor_terms['land']['alpha2'], axis=0)/1000 -\n",
    "        np.sum(mse_taylor_terms['ocean']['alpha2'], axis=0)/1000,\n",
    "        label='Includes Non-linear and Squared Terms', linestyle='--', color='grey')\n",
    "ax[0].plot(quant_plot, delta_h_theory/1000, label='Theory', color='r')\n",
    "ax[0].legend()\n",
    "fig.supylabel('$\\Delta h$ [kJ/kg]')\n",
    "ax[0].set_title('Assumes $\\delta h_L(p) = \\delta h_O(p)$')\n",
    "\n",
    "ax[1].plot(quant_plot, (mse_quant['land'][1]-mse_quant['land'][0]) - lambda_px*(mse_quant2['ocean'][1][p_x]-mse_quant2['ocean'][0][p_x]),\n",
    "        label='Simulated, $\\delta h_L^x - \\delta h_O(p^x)$', color='b')\n",
    "ax[1].plot(quant_plot, delta_h, color='b', linestyle=':',\n",
    "        label='Simulated, $\\delta h^{\\kappa_{warm}}_L(p^x+\\delta p^x) - \\delta h^{\\kappa_{warm}}_L(p^x)$')\n",
    "ax[1].plot(quant_plot, np.sum(mse_taylor_terms['land']['alpha2'][:3], axis=0)/1000 -\n",
    "        lambda_px*np.sum(mse_taylor_terms['ocean']['alpha2'][:3], axis=0)/1000,\n",
    "        label='$\\delta h_L^x(\\delta T_L^x, \\delta r_L^x) - \\delta h_O^x(\\delta T_O, \\delta r_O^x)$', color='k', linestyle=':')\n",
    "ax[1].plot(quant_plot, np.sum(mse_taylor_terms['land']['alpha2'][:4], axis=0)/1000 -\n",
    "        lambda_px*np.sum(mse_taylor_terms['ocean']['alpha2'][:3], axis=0)/1000, linestyle='--', color='k',\n",
    "        label='$\\delta h_L^x(\\delta T_L^x, \\delta r_L^x, \\delta T_L^x\\delta r_L^x) - \\delta h_O^x(\\delta T_O, \\delta r_O^x)$')\n",
    "ax[1].plot(quant_plot, np.sum(mse_taylor_terms['land']['alpha2'], axis=0)/1000 -\n",
    "        lambda_px*np.sum(mse_taylor_terms['ocean']['alpha2'], axis=0)/1000,\n",
    "        label='Includes Non-linear and Squared Terms', linestyle='--', color='grey')\n",
    "ax[1].plot(quant_plot, delta_h_theory/1000, label='Theory', color='r')\n",
    "ax[1].set_title('Assumes $\\delta h_L(p) = \\lambda(p) \\delta h_O(p)$')\n",
    "fig.supxlabel('temperature percentile, $x$')\n",
    "ax[0].set_xlim([0,100]);"
   ],
   "metadata": {
    "collapsed": false,
    "ExecuteTime": {
     "start_time": "2023-05-07T21:03:53.474783Z"
    }
   }
  },
  {
   "cell_type": "markdown",
   "source": [
    "### Extended Data Figure 3\n",
    "The below plot is a recreation of Extended Data Figure 3, emphasizing that the theory for $\\Delta h$ does not do well - the $\\Delta h$ plot is just a recreation of the red solid line and dotted blue line above.\n",
    "\n",
    "In the top plot, the $\\delta p^x$ theoretical value comes from equation 23 in the paper: $\\delta p^x \\approx \\frac{L_v}{\\beta_1}(\\delta r_L^x q^x_{L,sat} - \\delta \\bar{r_L}  \\overline{q_{L,sat}})$"
   ],
   "metadata": {
    "collapsed": false
   }
  },
  {
   "cell_type": "code",
   "execution_count": null,
   "outputs": [],
   "source": [
    "# Test equations 23 and 24\n",
    "mse_all = moist_static_energy(ds_all['land'][0].temp[-1], ds_all['land'][0].sphum[-1], ds_all['land'][0].height[-1])\n",
    "p_mean = int(np.round(percentileofscore(mse_all, float(np.mean(mse_all)))))\n",
    "beta1 = np.gradient(mse_quant2['land'][0], quant_plot)[p_mean] * 1000\n",
    "beta2 = np.gradient(mse_quant2['land'][0], quant_plot)[p_x] * 1000\n",
    "\n",
    "fig, ax = plt.subplots(2,1, figsize=(8, 6), sharex=True)\n",
    "# plt.plot(quant_plot, beta1 * (p_x - p_mean) + float(np.mean(mse_all)))\n",
    "# plt.plot(quant_plot, mse_quant2['land'][0][p_x])\n",
    "ax[0].plot(quant_plot, mse_quant_px['land'][1] - mse_quant_px['land'][0], color='k', label='simulated')\n",
    "ax[0].plot(quant_plot, L_v / beta1 * (delta_r_l_x * q_l_x_sat - delta_r_l_mean * q_l_mean_sat), color='k', linestyle='--',\n",
    "           label='theory ($\\\\beta_1$)')\n",
    "ax[0].plot(quant_plot, L_v / beta2 * (delta_r_l_x * q_l_x_sat - delta_r_l_mean * q_l_mean_sat), color='k', linestyle=':',\n",
    "           label='theory ($\\\\beta_2$)')\n",
    "ax[1].plot(quant_plot, delta_h, color='k', label='simulated')\n",
    "ax[1].plot(quant_plot, L_v/1000 * (delta_r_l_x * q_l_x_sat - delta_r_l_mean * q_l_mean_sat), color='k', linestyle='--', label='theory')\n",
    "ax[0].legend()\n",
    "ax[0].set_ylabel('$\\delta p_x$')\n",
    "ax[1].set_ylabel('$\\Delta h$ [kJ/kg]')\n",
    "ax[1].set_xlabel('temperature percentile, $x$')\n",
    "ax[0].set_title(f'$(\\kappa={tau_lw[1]})-(\\kappa={tau_lw[0]})$')\n",
    "ax[0].set_xlim([0,100]);"
   ],
   "metadata": {
    "collapsed": false,
    "ExecuteTime": {
     "start_time": "2023-05-07T21:03:53.474850Z"
    }
   }
  },
  {
   "cell_type": "markdown",
   "source": [
    "### Form of MSE equation to start theory\n",
    "The starting equation used in the paper is equation 9, $\\delta h_L^x = \\delta h_O(p^x) + \\Delta h$. The plot below shows that this is not valid for this simulation, and instead we need $\\delta h_L^x = \\lambda(p^x) \\delta h_O(p^x) + \\Delta h$.\n",
    "\n",
    "In this plot, no theories are used for any of the individual terms, they are instead computed directly from the output data of the simulation."
   ],
   "metadata": {
    "collapsed": false
   }
  },
  {
   "cell_type": "code",
   "execution_count": null,
   "outputs": [],
   "source": [
    "fig, ax = plt.subplots(1,1, figsize=(8, 4))\n",
    "ax.plot(quant_plot, mse_quant['land'][1]-mse_quant['land'][0], label='$\\delta h_L^x$')\n",
    "ax.plot(quant_plot, mse_quant2['ocean'][1][p_x]-mse_quant2['ocean'][0][p_x], label='$\\delta h_O(p^x)$')\n",
    "ax.plot(quant_plot, mse_quant2['ocean'][1][p_x]-mse_quant2['ocean'][0][p_x] + delta_h, label='$\\delta h_O(p^x) + \\Delta h$')\n",
    "ax.plot(quant_plot, lambda_px * (mse_quant2['ocean'][1][p_x]-mse_quant2['ocean'][0][p_x]) + delta_h,\n",
    "        label = '$\\lambda(p^x) \\delta h_O(p^x) + \\Delta h$')\n",
    "ax.set_ylabel('MSE Change [$kJ/kg$]')\n",
    "ax.set_xlabel('temperature percentile, $x$')\n",
    "ax.legend()\n",
    "ax.set_xlim(0,100);"
   ],
   "metadata": {
    "collapsed": false,
    "ExecuteTime": {
     "start_time": "2023-05-07T21:03:53.474938Z"
    }
   }
  },
  {
   "cell_type": "markdown",
   "source": [
    "## Hierarchy of Theories for $\\delta T_L^x$\n",
    "\n",
    "The theory for $\\delta T_L^x$ is based on considering the change in MSE of days exceeding the $x$th percentile in temperature, $\\delta h_L^x = h_L^{\\kappa_{warm}}(p^x_{\\kappa_{warm}}) - h_L^{\\kappa_{ref}}(p^x_{\\kappa_{ref}})$ where $p^x = p^x_{ref}$ is the percentile of MSE corresponding to the MSE averaged over all days exceeding percentile $x$ in temperature in the reference simulation. Equally, $p^x +\\delta p^x = p^x_{\\kappa_{warm}}$ is the percentile of MSE corresponding to the MSE averaged over all days exceeding percentile $x$ in temperature in the warmer simulation (the MSE distribution changes with warming so the percentile of MSE corresponding to a given temperature percentile will also change).\n",
    "\n",
    "So we have $\\delta h_L^x = h_L^{\\kappa_{warm}}(p^x + \\delta p^x) - h_L^{\\kappa_{ref}}(p^x)$.\n",
    "Then subbing in for $\\delta h_L(p^x) = \\lambda(p^x) \\delta h_O(p^x) =  h_L^{\\kappa_{warm}}(p^x) - h_L^{\\kappa_{ref}}(p^x)$, we get:\n",
    "$\\delta h_L^x = h_L^{\\kappa_{warm}}(p^x + \\delta p^x) - h_L^{\\kappa_{warm}}(p^x) + \\lambda(p^x) \\delta h_O(p^x)$\n",
    "Then we can use the definition of $\\Delta h = h_L^{\\kappa_{warm}}(p^x + \\delta p^x) - h_L^{\\kappa_{warm}}(p^x)$ to give:\n",
    "$\\delta h_L^x = \\lambda(p^x) \\delta h_O(p^x) + \\Delta h$\n",
    "\n",
    "To turn this into a theory for $\\delta T_L^x$ we need to expand $\\delta h_L^x$ in a taylor series of $\\delta T_L^x$ and $\\delta r_L^x$. From the MSE change plot for land, we see that we need to go up to the $(\\delta T_L^x)^2$ term in the taylor series and use the correct form of $\\alpha$ to best match the actual MSE change (red dot/dashed line matches black line). Doing this taylor expansion, we get the equation:\n",
    "\n",
    "$$\\frac{L_v}{2\\Gamma}\\alpha_L q_L^x (\\alpha_L - \\frac{2}{T_L^x})(\\delta T_L^x)^2 + (1 + \\epsilon \\delta r_L^x)\\delta T_L^x = - \\frac{\\epsilon}{\\alpha_L}\\delta r_L^x + \\frac{1}{\\Gamma}(\\lambda(p^x) \\delta h_O(p^x) + \\Delta h)$$\n",
    "\n",
    "Where, $\\Gamma = c_p + L_v \\alpha_L q_L^x$ and $\\epsilon = \\frac{L_v \\alpha_L q^x_{L,sat}}{\\Gamma}$ ($\\epsilon$ is used in the paper).\n",
    "\n",
    "Theory 1 in the plot below shows the solution to this equation (using $\\lambda(p^x)$, $\\delta h_O(p^x)$ and $\\Delta h$ computed directly from the output of the simulation), and it is clear that it matches the simulated value almost exactly.\n",
    "\n",
    "The other theories in the left plot offer various simplifications to this:\n",
    "* Theory 2 - Assumes $\\lambda(p^x)=1$\n",
    "* Theory 3 - Uses incorrect $\\alpha = \\frac{L_v}{R_v T^2}$, instead of that from Bolton 1980 definition of sturation vapour pressure.\n",
    "* Theory 4 - Uses theory of $\\Delta h$ given by equation 24 in the paper.\n",
    "\n",
    "The theories on the right plot make no assumptions about $\\lambda(p^x)$ or $\\Delta h$ but use different number of terms in the taylor expansion of $\\delta h_L^x$ and $\\delta h_O(p^x)$:\n",
    "* Theory 5 - $\\delta h^x_L$ taylor expansion includes non-linear $\\delta T^x_L \\delta r^x_L$ and squared $(\\delta T^x_L)^2$ terms.\n",
    "$\\delta h_O(p^x)$ taylor expansion includes non-linear $\\delta T_O \\delta r_O$ and squared $\\delta T_O^2$ terms.\n",
    "* Theory 6 - $\\delta h^x_L$ taylor expansion includes non-linear $\\delta T^x_L \\delta r^x_L$ term.\n",
    "$\\delta h_O(p^x)$ taylor expansion includes non-linear $\\delta T_O \\delta r_O$ term.\n",
    "* Theory 7 - $\\delta h^x_L$ taylor expansion includes non-linear $\\delta T^x_L \\delta r^x_L$ term.\n",
    "$\\delta h_O(p^x)$ taylor expansion includes just linear terms.\n",
    "* Theory 8 - $\\delta h^x_L$ taylor expansion includes just linear terms.\n",
    "$\\delta h_O(p^x)$ taylor expansion includes just linear terms.\n",
    "\n",
    "Note that Theory 1 and Theory 5 differ below, only because the assumption that $\\delta h_O(p_x) = c_p \\delta T_O(p_x) + L_v \\delta q_O(p_x)$ is not exactly satisfied, as is shown by the difference between the black solid and black dotted linein the ocean MSE change plot.\n",
    "\n",
    "From this, we see that Theory 7 is probably the simplest theory that can predict $\\delta T_L^x$ well. But we need some sort of theory for $\\lambda(p^x)$ and $\\Delta h$ to make this a complete theory."
   ],
   "metadata": {
    "collapsed": false
   }
  },
  {
   "cell_type": "code",
   "execution_count": null,
   "outputs": [],
   "source": [
    "e_const_2 = L_v * alpha_l_2 * q_l_x_sat / (c_p + L_v * alpha_l_2 * q_l_x)\n",
    "# Theory 1 - No assumptions\n",
    "denom = c_p + L_v * alpha_l_2 * q_l_x\n",
    "coef_a = 0.5 * L_v * alpha_l_2 * q_l_x * (alpha_l_2 - 2/temp_quant['land'][0]) / denom\n",
    "coef_b = 1 + e_const_2 * delta_r_l_x\n",
    "coef_c = e_const_2/alpha_l_2 * delta_r_l_x - (\n",
    "        lambda_px * (mse_quant2['ocean'][1][p_x]-mse_quant2['ocean'][0][p_x])*1000 + 1000*delta_h)/denom\n",
    "temp_diff_land_theory_1 = np.asarray([np.roots([coef_a[i], coef_b[i], coef_c[i]])[1] for i in range(n_quant)])\n",
    "\n",
    "# Theory 2 - Assume equal changes in percentile p of MSE over ocean and land\n",
    "coef_c = e_const_2/alpha_l_2 * delta_r_l_x - ((mse_quant2['ocean'][1][p_x]-mse_quant2['ocean'][0][p_x])*1000 + 1000*delta_h)/denom\n",
    "temp_diff_land_theory_2 = np.asarray([np.roots([coef_a[i], coef_b[i], coef_c[i]])[1] for i in range(n_quant)])\n",
    "\n",
    "# Theory 4 - With theory in paper for delta_h\n",
    "coef_c = e_const_2/alpha_l_2 * delta_r_l_x - (\n",
    "        lambda_px * (mse_quant2['ocean'][1][p_x]-mse_quant2['ocean'][0][p_x])*1000 + delta_h_theory)/denom\n",
    "temp_diff_land_theory_4 = np.asarray([np.roots([coef_a[i], coef_b[i], coef_c[i]])[1] for i in range(n_quant)])\n",
    "\n",
    "# Theory 5 - Taylor expansion including non-linear and squared terms for ocean MSE change\n",
    "coef_c = e_const_2/alpha_l_2 * delta_r_l_x - (\n",
    "        lambda_px * np.sum(mse_taylor_terms['ocean']['alpha2'], axis=0) + 1000 * delta_h)/denom\n",
    "temp_diff_land_theory_5 = np.asarray([np.roots([coef_a[i], coef_b[i], coef_c[i]])[1] for i in range(n_quant)])\n",
    "\n",
    "# Theory 6 - Neglect squared term in taylor expansion of land and ocean but keep non linear for both\n",
    "coef_c = e_const_2/alpha_l_2 * delta_r_l_x - (\n",
    "        lambda_px * np.sum(mse_taylor_terms['ocean']['alpha2'][:4], axis=0) + 1000*delta_h)/denom\n",
    "temp_diff_land_theory_6 = -coef_c/coef_b\n",
    "\n",
    "# Theory 7 - Neglect squared term and non-linear term in ocean, neglect squared term in land.\n",
    "coef_c = e_const_2/alpha_l_2 * delta_r_l_x - (\n",
    "        lambda_px * np.sum(mse_taylor_terms['ocean']['alpha2'][:3], axis=0) + 1000*delta_h)/denom\n",
    "temp_diff_land_theory_7 = -coef_c/coef_b\n",
    "\n",
    "# Theory 8 - Neglect squared term and non-linear term in ocean and land.\n",
    "coef_b = 1\n",
    "temp_diff_land_theory_8 = -coef_c/coef_b\n",
    "\n",
    "# Theory 3 - Using the wrong version of alpha\n",
    "denom = c_p + L_v * alpha_l * q_l_x\n",
    "coef_a = 0.5 * L_v * alpha_l * q_l_x * (alpha_l - 2/temp_quant['land'][0]) / denom\n",
    "coef_b = 1 + e_const * delta_r_l_x\n",
    "coef_c = e_const/alpha_l * delta_r_l_x - (\n",
    "        lambda_px * (mse_quant2['ocean'][1][p_x]-mse_quant2['ocean'][0][p_x])*1000 + 1000*delta_h)/denom\n",
    "temp_diff_land_theory_3 = np.asarray([np.roots([coef_a[i], coef_b[i], coef_c[i]])[1] for i in range(n_quant)])\n",
    "\n",
    "coef_b = 1 + e_const_2 * delta_r_l_x        # change back to correct alpha\n",
    "denom = c_p + L_v * alpha_l_2 * q_l_x       # change back to correct alpha"
   ],
   "metadata": {
    "collapsed": false,
    "ExecuteTime": {
     "start_time": "2023-05-07T21:03:53.475322Z"
    }
   }
  },
  {
   "cell_type": "code",
   "execution_count": null,
   "outputs": [],
   "source": [
    "fig, ax = plt.subplots(2,2, figsize=(14, 9), sharex=True, sharey='row')\n",
    "ax = ax.flatten()\n",
    "ax[0].plot(quant_plot, temp_diff_quant['land'], label='Simulated')\n",
    "ax[0].plot(quant_plot, temp_diff_land_theory_1, label='Theory 1')\n",
    "ax[0].plot(quant_plot, temp_diff_land_theory_2, label='Theory 2')\n",
    "ax[0].plot(quant_plot, temp_diff_land_theory_3, label='Theory 3')\n",
    "ax[0].plot(quant_plot, temp_diff_land_theory_4, label='Theory 4')\n",
    "\n",
    "ax[2].plot(quant_plot, temp_diff_quant['land']/temp_diff_quant['land'][0], label='Simulated')\n",
    "ax[2].plot(quant_plot, temp_diff_land_theory_1/temp_diff_land_theory_1[0], label='Theory 1')\n",
    "ax[2].plot(quant_plot, temp_diff_land_theory_2/temp_diff_land_theory_2[0], label='Theory 2')\n",
    "ax[2].plot(quant_plot, temp_diff_land_theory_3/temp_diff_land_theory_3[0], label='Theory 3')\n",
    "ax[2].plot(quant_plot, temp_diff_land_theory_4/temp_diff_land_theory_4[0], label='Theory 4')\n",
    "\n",
    "ax[1].plot(quant_plot, temp_diff_quant['land'], label='Simulated')\n",
    "ax[1].plot(quant_plot, temp_diff_land_theory_5, label='Theory 5')\n",
    "ax[1].plot(quant_plot, temp_diff_land_theory_6, label='Theory 6')\n",
    "ax[1].plot(quant_plot, temp_diff_land_theory_7, label='Theory 7')\n",
    "ax[1].plot(quant_plot, temp_diff_land_theory_8, label='Theory 8')\n",
    "\n",
    "ax[3].plot(quant_plot, temp_diff_quant['land']/temp_diff_quant['land'][0], label='Simulated')\n",
    "ax[3].plot(quant_plot, temp_diff_land_theory_5/temp_diff_land_theory_5[0], label='Theory 5')\n",
    "ax[3].plot(quant_plot, temp_diff_land_theory_6/temp_diff_land_theory_6[0], label='Theory 6')\n",
    "ax[3].plot(quant_plot, temp_diff_land_theory_7/temp_diff_land_theory_7[0], label='Theory 7')\n",
    "ax[3].plot(quant_plot, temp_diff_land_theory_8/temp_diff_land_theory_8[0], label='Theory 8')\n",
    "\n",
    "ax[0].legend()\n",
    "ax[1].legend()\n",
    "ax[0].set_xlim([0,100])\n",
    "ax[0].set_ylabel('Temperature Change / K')\n",
    "ax[2].set_ylabel('Scaling Factor, $\\delta T^x/ \\delta \\\\overline{T}$')\n",
    "fig.supxlabel('Temperature Percentile, $x$')\n",
    "fig.suptitle(f'$(\\kappa={tau_lw[1]})-(\\kappa={tau_lw[0]})$')\n",
    "plt.tight_layout();"
   ],
   "metadata": {
    "collapsed": false,
    "ExecuteTime": {
     "start_time": "2023-05-07T21:03:53.475394Z"
    }
   }
  },
  {
   "cell_type": "code",
   "execution_count": null,
   "outputs": [],
   "source": [
    "# Just show each of 3 assumptions independently.\n",
    "# Theory 2 shows effect of neglecting lambda\n",
    "# Theory 4 shows effect of using theory for delta h\n",
    "# Theory 7 shows effect of neglecting squared terms in taylor expansion of h_L and h_O\n",
    "default_colors = plt.rcParams['axes.prop_cycle'].by_key()['color']\n",
    "fig, ax = plt.subplots(2,1, figsize=(14, 7), sharex=True, sharey='row')\n",
    "ax[0].plot(quant_plot, temp_diff_quant['land'], label='Simulated')\n",
    "ax[0].plot(quant_plot, temp_diff_land_theory_2, label='Theory 2', color=default_colors[2])\n",
    "ax[0].plot(quant_plot, temp_diff_land_theory_4, label='Theory 4', color=default_colors[4])\n",
    "ax[0].plot(quant_plot, temp_diff_land_theory_7, label='Theory 7', color=default_colors[3])\n",
    "ax[1].plot(quant_plot, temp_diff_quant['land']/temp_diff_quant['land'][0], label='Simulated')\n",
    "ax[1].plot(quant_plot, temp_diff_land_theory_2/temp_diff_land_theory_2[0], label='Theory 2', color=default_colors[2])\n",
    "ax[1].plot(quant_plot, temp_diff_land_theory_4/temp_diff_land_theory_4[0], label='Theory 4', color=default_colors[4])\n",
    "ax[1].plot(quant_plot, temp_diff_land_theory_7/temp_diff_land_theory_7[0], label='Theory 7', color=default_colors[3])\n",
    "ax[0].legend()\n",
    "ax[0].set_title(f'$(\\kappa={tau_lw[1]})-(\\kappa={tau_lw[0]})$')\n",
    "ax[0].set_xlim([0,100])\n",
    "ax[0].set_ylabel('Temperature Change / K')\n",
    "ax[1].set_ylabel('Scaling Factor, $\\delta T^x/ \\delta \\\\overline{T}$')\n",
    "ax[1].set_xlabel('Temperature Percentile, $x$')\n",
    "plt.tight_layout();"
   ],
   "metadata": {
    "collapsed": false,
    "ExecuteTime": {
     "start_time": "2023-05-07T21:03:53.475465Z"
    }
   }
  },
  {
   "cell_type": "markdown",
   "source": [
    "## Why does $\\Delta h$ theory not work?"
   ],
   "metadata": {
    "collapsed": false
   }
  },
  {
   "cell_type": "code",
   "execution_count": null,
   "outputs": [],
   "source": [
    "# Equation 19 and 22 plot\n",
    "p_mean = np.zeros(n_exp)\n",
    "h_l_mean = np.zeros(n_exp)\n",
    "beta1 = np.zeros(n_exp)\n",
    "beta2 = np.zeros((n_exp, n_quant))\n",
    "\n",
    "fig, ax = plt.subplots(2,1, figsize=(10, 7), sharex=True)\n",
    "for i in range(n_exp):\n",
    "    mse = moist_static_energy(ds_all['land'][i].temp[-1], ds_all['land'][i].sphum[-1], ds_all['land'][i].height[-1])\n",
    "    h_l_mean[i] = float(np.mean(mse))\n",
    "    p_mean[i] = percentileofscore(mse.to_numpy(), h_l_mean[i])\n",
    "    beta1[i] = np.gradient(mse_quant2['land'][i], quant_plot)[int(np.round(p_mean[i]))]\n",
    "    beta2[i] = np.gradient(mse_quant2['land'][i], quant_plot)[p_x]\n",
    "    # Equation 19 plot\n",
    "    ax[0].plot(quant_plot, mse_quant2['land'][i], color=plt_color[surfaces[i]], label=f'Simulated ($\\kappa={tau_lw[i]}$)')\n",
    "    ax[0].plot(quant_plot, beta1[i]*(quant_plot-p_mean[i])+h_l_mean[i], color=plt_color[surfaces[i]], linestyle='--',\n",
    "               label=f'Theory ($\\kappa={tau_lw[i]}$; $\\\\beta_1$)')\n",
    "    ax[0].plot(quant_plot, beta2[i]*(quant_plot-p_mean[i])+h_l_mean[i], color=plt_color[surfaces[i]], linestyle=':',\n",
    "           label=f'Theory ($\\kappa={tau_lw[i]}$; $\\\\beta_2$)', alpha=0.4)\n",
    "\n",
    "    ax[1].plot(quant_plot, mse_quant_px['land'][i], color=plt_color[surfaces[i]])\n",
    "    ax[1].plot(quant_plot, (mse_quant['land'][i] - h_l_mean[i])/beta1[i] + p_mean[i], color=plt_color[surfaces[i]], linestyle='--')\n",
    "    ax[1].plot(quant_plot, (mse_quant['land'][i] - h_l_mean[i])/beta2[i] + p_mean[i], color=plt_color[surfaces[i]],\n",
    "               linestyle=':', alpha=0.4)\n",
    "    p_x_lim = np.min((mse_quant['land'][i] - h_l_mean[i])/beta1[i] + p_mean[i])\n",
    "    ax[0].scatter(p_x_lim, beta1[i]*(p_x_lim-p_mean[i])+h_l_mean[i], marker='|', s=200, color=plt_color[surfaces[i]], alpha=0.5)\n",
    "    p_x_lim = np.max((mse_quant['land'][i] - h_l_mean[i])/beta1[i] + p_mean[i])\n",
    "    ax[0].scatter(p_x_lim, beta1[i]*(p_x_lim-p_mean[i])+h_l_mean[i], marker='|', s=200, color=plt_color[surfaces[i]], alpha=0.5)\n",
    "    # p_x_max = np.max((mse_quant['land'][i] - h_l_mean[i])/beta1[i] + p_mean[i])\n",
    "\n",
    "\n",
    "ax[0].set_xlabel('MSE percentile, $p^x$')\n",
    "ax[0].legend(fontsize=7, loc='upper left')\n",
    "ax[0].set_ylabel('MSE [$kJ/kg$]')\n",
    "ax[1].set_ylabel('$p^x$')\n",
    "ax[1].set_xlabel('temperature percentile, $x$')\n",
    "ax[0].set_xlim(0,100)\n",
    "ax[0].set_title(f'$(\\kappa={tau_lw[1]})-(\\kappa={tau_lw[0]})$')\n",
    "plt.tight_layout()\n",
    "print(beta1)\n",
    "print(p_mean)"
   ],
   "metadata": {
    "collapsed": false,
    "ExecuteTime": {
     "start_time": "2023-05-07T21:03:53.475641Z"
    }
   }
  },
  {
   "cell_type": "markdown",
   "source": [
    "The most exact theory for $p^x$ comes from equation 21:\n",
    "\n",
    "$$p^x = \\frac{h_L^x - \\overline{h_L}}{\\beta_1} + \\overline{p}$$\n",
    "\n",
    "where $\\beta_1 = \\left.\\frac{\\partial h_L}{\\partial p}\\right|_{p=\\overline{p}}$.\n",
    "\n",
    "From the lower plot above, this fails at large $x$. This is because it uses equation 19, $h_L(p^x) \\approx \\beta_1 (p^x - \\overline{p}) + \\overline{h_L}$ which is a bad approximation for $p^x$ between about 60 and 90 as shown by the top plot above. This corresponds to $x > 90$.\n",
    "\n",
    "From this, we can get an equation for $\\delta p^x$:\n",
    "\n",
    "$$\\delta p^x = \\frac{1}{\\beta^{warm}_1}(h_L^{x, warm} - \\overline{h_L^{warm}}) -\n",
    "\\frac{1}{\\beta^{ref}_1}(h_L^{x, ref} - \\overline{h_L^{ref}}) + \\delta \\overline{p}$$\n",
    "\n",
    "Using equation 18, we can get an estimate for $\\Delta h$ from this:\n",
    "\n",
    "$$\\Delta h = \\delta p^x (\\beta^{ref}_2 + \\delta \\beta_2) = \\delta p^x \\beta^{warm}_2$$\n",
    "\n",
    "where $\\beta_2 = \\left.\\frac{\\partial h_L}{\\partial p}\\right|_{p=p^x}$\n",
    "\n",
    "Plots of $\\delta p^x$ and $\\Delta h$ are shown below."
   ],
   "metadata": {
    "collapsed": false
   }
  },
  {
   "cell_type": "code",
   "execution_count": null,
   "outputs": [],
   "source": [
    "# Equation 23 plot for the percentile\n",
    "delta_p_x_theory_2 = -(beta1[1]-beta1[0])/beta1[0]**2 * (mse_quant['land'][0] - h_l_mean[0]) + \\\n",
    "                     (mse_quant['land'][1]-mse_quant['land'][0] - (h_l_mean[1] - h_l_mean[0]))/beta1[0] + (p_mean[1] - p_mean[0])\n",
    "delta_p_x_theory_2_no_p_mean = delta_p_x_theory_2 - (p_mean[1] - p_mean[0])\n",
    "delta_p_x_theory_4 = (mse_quant['land'][1]-mse_quant['land'][0] - (h_l_mean[1] - h_l_mean[0]))/beta1[0] + (p_mean[1] - p_mean[0])\n",
    "delta_p_x_theory_4_no_p_mean = delta_p_x_theory_4 - (p_mean[1] - p_mean[0])\n",
    "delta_h_theory_2 = delta_p_x_theory_2 * beta2[1]\n",
    "delta_h_theory_2_no_p_mean = delta_p_x_theory_2_no_p_mean * beta2[1]\n",
    "delta_h_theory_3 = delta_p_x_theory_4 * beta2[1]\n",
    "delta_h_theory_4 = delta_p_x_theory_2 * beta1[1]\n",
    "delta_h_theory_4_no_p_mean = delta_p_x_theory_4_no_p_mean * beta1[0]\n",
    "\n",
    "delta_h_theory_7 = (mse_quant_px['land'][1]-mse_quant_px['land'][0]) * beta2[1]\n",
    "delta_h_theory_8 = (mse_quant_px['land'][1]-mse_quant_px['land'][0]) * beta2[0]\n",
    "delta_h_theory_9 = (mse_quant_px['land'][1]-mse_quant_px['land'][0]) * beta1[1]\n",
    "delta_h_theory_10 = (mse_quant_px['land'][1]-mse_quant_px['land'][0]) * beta1[0]\n",
    "\n",
    "fig, ax = plt.subplots(3,1, figsize=(10, 9), sharex=True)\n",
    "ax[0].plot(quant_plot, mse_quant_px['land'][1]-mse_quant_px['land'][0], label='Simulated')\n",
    "ax[0].plot(quant_plot, delta_p_x_theory_2,\n",
    "        label='Theory, $\\delta \\overline{p} = ' + f'{np.round(p_mean[1]-p_mean[0],2)}; \\delta \\\\beta_1 \\\\neq 0$')\n",
    "ax[0].plot(quant_plot, delta_p_x_theory_2_no_p_mean, label='Theory, $\\delta \\overline{p} = 0; \\delta \\\\beta_1 \\\\neq 0$')\n",
    "ax[0].plot(quant_plot, delta_p_x_theory_4,\n",
    "        label='Theory, $\\delta \\overline{p} = 0; \\delta \\\\beta_1 = 0$')\n",
    "ax[0].plot(quant_plot, delta_p_x_theory_4_no_p_mean,\n",
    "        label='Theory, $\\delta \\overline{p} = 0; \\delta \\\\beta_1 \\\\neq 0$', color='k')\n",
    "ax[1].plot(quant_plot, delta_h, label='Simulated')\n",
    "ax[1].plot(quant_plot, delta_h_theory_2,\n",
    "           label='Theory, $\\delta \\overline{p} = ' + f'{np.round(p_mean[1]-p_mean[0],2)}; \\delta \\\\beta_1 \\\\neq 0; \\\\beta_2 \\\\neq \\\\beta_1$')\n",
    "ax[1].plot(quant_plot, delta_h_theory_2_no_p_mean,\n",
    "           label='Theory, $\\delta \\overline{p} = 0; \\delta \\\\beta_1 \\\\neq 0; \\\\beta_2 \\\\neq \\\\beta_1$')\n",
    "ax[1].plot(quant_plot, delta_h_theory_3,\n",
    "           label='Theory, $\\delta \\overline{p} = ' + f'{np.round(p_mean[1]-p_mean[0],2)}; \\delta \\\\beta_1 = 0; \\\\beta_2 \\\\neq \\\\beta_1$')\n",
    "ax[1].plot(quant_plot, delta_h_theory_4,\n",
    "           label='Theory, $\\delta \\overline{p} = ' + f'{np.round(p_mean[1]-p_mean[0],2)}; \\delta \\\\beta_1 = 0; \\\\beta_2 = \\\\beta_1$')\n",
    "ax[1].plot(quant_plot, delta_h_theory_4_no_p_mean,\n",
    "           label='Theory, $\\delta \\overline{p} = 0; \\delta \\\\beta_1 = 0; \\\\beta_2 = \\\\beta_1$',\n",
    "           color='k')\n",
    "ax[2].plot(quant_plot, delta_h, label='Simulated')\n",
    "ax[2].plot(quant_plot, delta_h_theory_7, label='Simulated $\\\\delta p^x$; $\\\\beta_2 \\\\neq \\\\beta_1$')\n",
    "ax[2].plot(quant_plot, delta_h_theory_8, label='Simulated $\\\\delta p^x$; $\\\\beta_2 \\\\neq \\\\beta_1$ and $\\delta \\\\beta_2 = 0$')\n",
    "ax[2].plot(quant_plot, delta_h_theory_9, label='Simulated $\\\\delta p^x$; $\\\\beta_2 = \\\\beta_1$')\n",
    "ax[2].plot(quant_plot, delta_h_theory_10, label='Simulated $\\\\delta p^x$; $\\\\beta_2 = \\\\beta_1$ and $\\delta \\\\beta_1 = 0$')\n",
    "ax[0].set_ylabel('$\\delta p^x$')\n",
    "ax[-1].set_xlabel('temperature percentile, $x$')\n",
    "ax[0].legend(loc='upper left', fontsize=7)\n",
    "ax[1].legend(loc='upper left', fontsize=7)\n",
    "ax[2].legend(loc='upper left', fontsize=7)\n",
    "ax[1].set_ylabel('$\\Delta h$ [$kJ/kg$]')\n",
    "ax[2].set_ylabel('$\\Delta h$ [$kJ/kg$]')\n",
    "ax[0].set_title(f'$(\\kappa={tau_lw[1]})-(\\kappa={tau_lw[0]})$')\n",
    "ax[0].set_xlim(0,100)\n",
    "plt.tight_layout();"
   ],
   "metadata": {
    "collapsed": false,
    "ExecuteTime": {
     "start_time": "2023-05-07T21:03:53.475724Z"
    }
   }
  },
  {
   "cell_type": "markdown",
   "source": [
    "Equation 23 for $\\delta p^x$ in the paper makes the same assumption made by the green line in the top plot above, that $\\delta \\overline{p}=0$. This clearly does not work well for these simulations.\n",
    "\n",
    "The $\\Delta h$ plot shows the theory works well for low $x$ and the assumption that $\\beta_2 = \\beta_1$ seems a reasonable one. For $x>90$ however, we see that the $\\beta_2 = \\beta_1$ assumption is not good.\n",
    "\n",
    "If we assume that $\\beta_2 = \\beta_1$ and that $\\beta_1$ remains constant as we warm the climate i.e. $\\delta \\beta_1 = 0$, as shown by the red line, it does a reasonable job. Although the fact it does well at large $x$ is because of compensating errors. Anyway, if we do this then the equation for $\\Delta h$ is simpler:\n",
    "\n",
    "$$\\Delta h = \\delta h_L^x - \\delta \\overline{h_L} + \\beta_1 \\delta \\overline{p}$$\n",
    "\n",
    "Below, we investigate how well we can approximate $\\delta h_L^x - \\delta \\overline{h_L}$."
   ],
   "metadata": {
    "collapsed": false
   }
  },
  {
   "cell_type": "code",
   "execution_count": null,
   "outputs": [],
   "source": [
    "fig, ax = plt.subplots(1,1, figsize=(8, 6))\n",
    "ax.plot(quant_plot, mse_quant['land'][1]-mse_quant['land'][0] - (h_l_mean[1]-h_l_mean[0]), label='Simulated')\n",
    "ax.plot(quant_plot, L_v/1000 * (delta_r_l_x * q_l_x_sat - delta_r_l_mean * q_l_mean_sat),\n",
    "        label='$L_v(q_{L,sat}^x \\delta r_L^x - \\overline{q_{L,sat}} \\delta \\overline{r_L})$')\n",
    "delta_h_taylor_terms = [c_p/1000 * (temp_quant['land'][1]-temp_quant['land'][0]),\n",
    "                        L_v/1000 * alpha_l_2 * q_l_x * (temp_quant['land'][1]-temp_quant['land'][0]),\n",
    "                        L_v/1000 * alpha_l_2 * q_l_x_sat * (temp_quant['land'][1]-temp_quant['land'][0]) * delta_r_l_x]\n",
    "delta_h_taylor_terms = np.asarray([var-var[0] for var in delta_h_taylor_terms])\n",
    "ax.plot(quant_plot, delta_h_taylor_terms[0], label='$c_p (\\delta T_L^x - \\delta \\overline{T})$', color='k', linestyle='--')\n",
    "ax.plot(quant_plot, delta_h_taylor_terms[1], color='k', linestyle=':',\n",
    "        label='$L_v (\\\\alpha^x_L q_L^x \\delta T_L^x - \\overline{\\\\alpha_L} \\overline{q_L} \\delta \\overline{T})$')\n",
    "ax.plot(quant_plot, delta_h_taylor_terms[2], color='k', linestyle='-.',\n",
    "        label='$L_v (\\\\alpha^x_L q_{L,sat}^x \\delta T_L^x \\delta r_L^x - \\overline{\\\\alpha_L} \\overline{q_{L,sat}} \\delta \\overline{T} \\delta \\overline{r_L})$')\n",
    "ax.plot(quant_plot, np.sum(delta_h_taylor_terms, axis=0), color='k', label='Sum of black lines')\n",
    "ax.legend()\n",
    "ax.set_ylabel('$\\delta h_L^x - \\delta \\overline{h_L}$ [$kJ/kg$]')\n",
    "ax.set_xlabel('temperature percentile, $x$')\n",
    "ax.set_xlim(0,100)\n",
    "ax.set_title(f'$(\\kappa={tau_lw[1]})-(\\kappa={tau_lw[0]})$');"
   ],
   "metadata": {
    "collapsed": false,
    "ExecuteTime": {
     "start_time": "2023-05-07T21:03:53.483224Z"
    }
   }
  },
  {
   "cell_type": "markdown",
   "source": [
    "The yellow plot above shows the approximation to $\\delta h_L^x - \\delta \\overline{h_L}$ used in equation 24 of the paper. The black lines show the terms that this approximation omits.\n",
    "\n",
    "Comparing the black solid and black dot/dashed line, we see that the non-linear term explains the sum of omitted terms except for at large $x$. Seen as our theory does not do well at large $x$ anyway, it may worth including the non-linear term in order to do better at small $x$.\n",
    "\n",
    "This is reflected below, where we see that the best theory for $\\Delta h$ at low $x$ is achieved by including the non-linear term, $L_v \\alpha^x_L q_{L,sat}^x \\delta T_L^x \\delta r_L^x$, in the taylor series for $\\delta h_L^x$. We neglect this term in the expansion of $\\delta \\overline{h_L}$ (purple line) because it leads to a cancelation of terms later when obtaining a theory for $\\delta T_L^x$."
   ],
   "metadata": {
    "collapsed": false
   }
  },
  {
   "cell_type": "code",
   "execution_count": null,
   "outputs": [],
   "source": [
    "delta_h_theory5 = L_v/1000 * (delta_r_l_x * q_l_x_sat - delta_r_l_mean * q_l_mean_sat) + beta1[0] * (p_mean[1] - p_mean[0])\n",
    "delta_h_theory6 = delta_h_theory5 + L_v/1000 * alpha_l_2 * q_l_x_sat * (temp_quant['land'][1]-temp_quant['land'][0]) * delta_r_l_x\n",
    "fig, ax = plt.subplots(2,1, figsize=(8, 6), sharex=True)\n",
    "ax[0].plot(quant_plot, mse_quant_px['land'][1]-mse_quant_px['land'][0], label='Simulated')\n",
    "ax[0].plot(quant_plot, L_v/1000 * (delta_r_l_x * q_l_x_sat - delta_r_l_mean * q_l_mean_sat)/beta1[0], label='Old Theory with $\\delta p^x=0$')\n",
    "ax[0].plot(quant_plot, delta_h_theory5/beta1[0], label='Theory with no non linear terms')\n",
    "ax[0].plot(quant_plot, (delta_h_theory5 + delta_h_taylor_terms[2])/beta1[0],\n",
    "         label='Theory with non linear in both $\\delta h_L^x$ and $\\delta \\overline{h}$')\n",
    "ax[0].plot(quant_plot, delta_h_theory6/beta1[0], label='Theory with non linear in $\\delta h_L^x$ only')\n",
    "\n",
    "ax[1].plot(quant_plot, delta_h, label='Simulated')\n",
    "ax[1].plot(quant_plot, L_v/1000 * (delta_r_l_x * q_l_x_sat - delta_r_l_mean * q_l_mean_sat), label='Old Theory with $\\delta p^x=0$')\n",
    "ax[1].plot(quant_plot, delta_h_theory5, label='Theory with no non linear terms')\n",
    "ax[1].plot(quant_plot, delta_h_theory5 + delta_h_taylor_terms[2],\n",
    "         label='Theory with non linear in both $\\delta h_L^x$ and $\\delta \\overline{h}$')\n",
    "ax[1].plot(quant_plot, delta_h_theory6, label='Theory with non linear in $\\delta h_L^x$ only')\n",
    "ax[0].set_ylabel('$\\delta p^x$')\n",
    "ax[1].set_ylabel('$\\Delta h$ [$kJ/kg$]')\n",
    "ax[1].set_xlabel('temperature percentile, $x$')\n",
    "ax[0].legend()\n",
    "ax[1].set_xlim(0,100);"
   ],
   "metadata": {
    "collapsed": false,
    "ExecuteTime": {
     "start_time": "2023-05-07T21:03:53.490687Z"
    }
   }
  },
  {
   "cell_type": "markdown",
   "source": [
    "The predicted $\\delta T_L^x$ using the purple line theory for $\\Delta h$ above, and using the taylor expansion terms used in Theory 7, is given by Theory 9 below. It is clear that is does pretty well at low $x$, certainly much better than Theory 4, which uses equation 24 for $\\Delta h$."
   ],
   "metadata": {
    "collapsed": false
   }
  },
  {
   "cell_type": "code",
   "execution_count": null,
   "outputs": [],
   "source": [
    "# Theory 4, partial_sim_deltah - With beta_1 = beta_2 and delta beta_1 = 0 assumptions in delta_h but using simulated\n",
    "# delta_h_l_x - delta_h_l_mean\n",
    "# Compare which approximations in delta_h are more important\n",
    "coef_c = e_const_2/alpha_l_2 * delta_r_l_x - (\n",
    "        lambda_px * (mse_quant2['ocean'][1][p_x]-mse_quant2['ocean'][0][p_x])*1000 + delta_h_theory_2 * 1000)/denom\n",
    "temp_diff_land_theory_4_partial_sim_deltah = np.asarray([np.roots([coef_a[i], coef_b[i], coef_c[i]])[1] for i in range(n_quant)])\n",
    "\n",
    "coef_c = e_const_2/alpha_l_2 * delta_r_l_x - (\n",
    "        lambda_px * (mse_quant2['ocean'][1][p_x]-mse_quant2['ocean'][0][p_x])*1000 + delta_h_theory_4_no_p_mean * 1000)/denom\n",
    "temp_diff_land_theory_4_partial_sim_deltah2 = np.asarray([np.roots([coef_a[i], coef_b[i], coef_c[i]])[1] for i in range(n_quant)])\n",
    "\n",
    "fig, ax = plt.subplots(2,1, figsize=(8, 6), sharex=True)\n",
    "labels = ['Simulated', 'Theory 4','$\\Delta h$ with: $\\delta \\overline{p} = ' + f'{np.round(p_mean[1]-p_mean[0],2)}; \\delta \\\\beta_1 \\\\neq 0; \\\\beta_2 \\\\neq \\\\beta_1$', '$\\Delta h$ with: $\\delta \\overline{p} = 0; \\delta \\\\beta_1 = 0; \\\\beta_2 = \\\\beta_1$']\n",
    "for i, var in enumerate([temp_diff_quant['land'], temp_diff_land_theory_4,\n",
    "                         temp_diff_land_theory_4_partial_sim_deltah, temp_diff_land_theory_4_partial_sim_deltah2]):\n",
    "    ax[0].plot(quant_plot, var, label=labels[i])\n",
    "    ax[1].plot(quant_plot, var/var[0])\n",
    "    if i > 0:\n",
    "        ax[0].get_lines()[i].set_alpha(0.6)\n",
    "        ax[1].get_lines()[i].set_alpha(0.6)\n",
    "\n",
    "for i in range(2):\n",
    "    ax[i].get_lines()[1].set_color(default_colors[4])\n",
    "    ax[i].get_lines()[2].set_color(default_colors[1])\n",
    "    ax[i].get_lines()[-1].set_color('k')\n",
    "\n",
    "ax[0].legend(fontsize=9)\n",
    "ax[0].set_ylabel('Temperature Change / K')\n",
    "ax[1].set_ylabel('Scaling Factor, $\\delta T^x/ \\delta \\\\overline{T}$')\n",
    "ax[1].set_xlabel('Temperature Percentile, $x$')\n",
    "ax[1].set_xlim(0,100)\n",
    "ax[0].set_title(f'$(\\kappa={tau_lw[1]})-(\\kappa={tau_lw[0]})$')\n",
    "plt.tight_layout();"
   ],
   "metadata": {
    "collapsed": false,
    "ExecuteTime": {
     "start_time": "2023-05-07T21:03:53.490827Z"
    }
   }
  },
  {
   "cell_type": "markdown",
   "source": [
    "## Relative Humidity Contribution to $\\Delta h$\n",
    "The plot below shows that relative humidity over land decreases with $x$ and the hottest days get drier with warming (increasing $\\kappa$)."
   ],
   "metadata": {
    "collapsed": false
   }
  },
  {
   "cell_type": "code",
   "execution_count": null,
   "outputs": [],
   "source": [
    "save_rh_fig = False\n",
    "fig, ax = plt.subplots(2,1, figsize=(10, 6), sharex=True)\n",
    "ax[0].spines[['right', 'top']].set_visible(False)\n",
    "ax[1].spines[['right', 'top']].set_visible(False)\n",
    "ax[0].plot(quant_plot, r_l_x * 100, color=default_colors[0], label=f'$\\kappa={tau_lw[0]}$')\n",
    "ax[0].plot(quant_plot, (r_l_x+delta_r_l_x) * 100, color=default_colors[1], label=f'$\\kappa={tau_lw[1]}$')\n",
    "ax[1].plot(quant_plot, delta_r_l_x * 100, color='k')\n",
    "# ax[1].hlines(delta_r_mean * 100, 0, 100, color=default_colors[1], linestyles='--', label='$\\delta \\overline{r}$')\n",
    "ax[0].set_xlim(0,100)\n",
    "# ax[0].set_ylim(14, 27)\n",
    "# ax[1].set_ylim(-3, -0.4)\n",
    "ax[-1].set_xlabel('Temperature Percentile, $x$')\n",
    "ax[0].set_ylabel('Relative humidity, $r^x$ [%]')\n",
    "ax[1].set_ylabel('Relative humidity change, $\\delta r^x$ [%]')\n",
    "ax[0].legend(frameon=False)\n",
    "ax[0].set_title(f'${lat_max}>|\\phi| \\geq {lat_min}$')\n",
    "plt.tight_layout()\n",
    "if save_fig or save_rh_fig:\n",
    "    fig.savefig(f\"/Users/joshduffield/Desktop/rh_{region.lower()}_{season}\",\n",
    "                dpi=high_dpi if publish_fig else low_dpi)"
   ],
   "metadata": {
    "collapsed": false,
    "ExecuteTime": {
     "start_time": "2023-05-07T21:03:53.490891Z"
    }
   }
  },
  {
   "cell_type": "markdown",
   "source": [
    "We said before that for the $\\Delta h$ theory to work, we need to explain $\\delta h_L^x - \\delta \\overline{h}$ in terms of just relative humidity changes. Here, we reformulate this to give a required drying of the hot days relative to the mean day in the reference simulation, $r'_L = r^x_L - \\overline{r_L}$.\n",
    "\n",
    "The equation for $p^x$, making the assumptions of $\\delta \\beta_1 = 0$, $\\beta_1 = \\beta_2$ and $\\delta \\overline{p} = 0$ is:\n",
    "$$\\beta_1 p^x = h_L^x - \\overline{h_L} =\n",
    "c_p(T_L^x - \\overline{T_L}) + L_v(r_L^x q_{L,sat}^x - \\overline{r}_L\\overline{q_{L, sat}})$$\n",
    "\n",
    "This can be rewritten as:\n",
    "$$\\beta_1 p^x = c_p T'_L + L_v(\\overline{r_L}q'_{L,sat} + r'_L\\overline{q_{L,sat}} + r'_L q'_{L, sat})$$\n",
    "\n",
    "Where:\n",
    "* $r'_L = r^x_L - \\overline{r_L}$\n",
    "* $T'_L = T^x_L - \\overline{T_L}$\n",
    "* $q'_{L, sat} = q_{sat}(T_L^x) - q_{sat}(\\overline{T_L}) \\approx\n",
    "\\left. \\frac{\\partial q_{sat}}{\\partial T}\\right|_{T=\\overline{T}} T'_L = \\overline{\\alpha}_L \\overline{q_{L, sat}} T'_L$\n",
    "\n",
    "Then $\\Delta h = \\delta(\\beta_1 p^x)$ which gives:\n",
    "$$\\Delta h = c_p \\delta T'_L + L_v(\\delta \\overline{r_L}q'_{L,sat} + \\overline{r_L}\\delta q'_{L,sat} +\n",
    "\\delta r'_L\\overline{q_{L,sat}} + r'_L\\delta\\overline{q_{L,sat}} + \\delta r'_L q'_{L, sat} + r'_L \\delta q'_{L, sat})$$\n",
    "\n",
    "Where (neglecting the non linear term in $\\delta q'_{L,sat}$):\n",
    "* $\\delta\\overline{q_{L,sat}} \\approx \\overline{\\alpha}_L \\overline{q_{L,sat}} \\delta \\overline{T}$\n",
    "* $\\delta q'_{L,sat} \\approx \\frac{\\partial q'_{L,sat}}{\\partial \\overline{T_L}}\\delta \\overline{T_L} +\n",
    "\\frac{\\partial q'_{L,sat}}{\\partial T'_L}\\delta T'_L \\approx\n",
    "\\overline{\\alpha}_L \\overline{q_{L,sat}}\\bigg((\\overline{\\alpha}_L - \\frac{2}{\\overline{T_L}})T'_L \\delta \\overline{T_L} + \\delta T'_L\\bigg)$\n",
    "\n",
    "For $\\Delta h$ to be explained entirely in terms of relative humidity changes, the terms in the above equation without relative humidity changes must sum to 0. I.e.\n",
    "\n",
    "$$c_p \\delta T'_L + L_v(\\overline{r_L}\\delta q'_{L,sat} + r'_L\\delta\\overline{q_{L,sat}} + r'_L \\delta q'_{L, sat}) \\approx 0$$\n",
    "\n",
    "This can be rearranged to give an expected value for $r'_L$:\n",
    "$$-r'_L = \\frac{\\frac{c_p}{L_v}\\delta T'_L + \\overline{r_L}\\delta q'_{L,sat}}{\\delta\\overline{q_{L,sat}} + \\delta q'_{L, sat}}$$\n",
    "\n",
    "The plot below shows that this is satisfied well at small $x$ but not at high $x$ where the relative humidity is too large. Basically, due to the clausius clapeyron exponential increase in saturation specific humidity with temperature, you need a compensating almost exponential decrease in relative humidity to offset this."
   ],
   "metadata": {
    "collapsed": false
   }
  },
  {
   "cell_type": "code",
   "execution_count": null,
   "outputs": [],
   "source": [
    "r_l_dash = r_l_x - r_l_mean\n",
    "temp_l_dash = temp_quant['land'][0] - temp_quant['land'][0][0]\n",
    "delta_temp_l_dash = temp_quant['land'][1]-temp_quant['land'][0]\n",
    "delta_temp_l_dash = delta_temp_l_dash - delta_temp_l_dash[0]\n",
    "delta_q_l_sat = alpha_l_2[0] * q_l_mean_sat * (temp_quant['land'][1]-temp_quant['land'][0])[0]\n",
    "delta_q_l_sat_dash = alpha_l_2[0] * q_l_mean_sat * ((alpha_l_2[0]-2/temp_quant['land'][0][0]) * temp_l_dash * temp_diff_quant['land'][0] +\n",
    "                                                    delta_temp_l_dash)\n",
    "r_l_dash_thresh = (c_p/L_v * delta_temp_l_dash + r_l_mean * delta_q_l_sat_dash)/(delta_q_l_sat + delta_q_l_sat_dash)\n",
    "\n",
    "fig, ax = plt.subplots(2,1, figsize=(10, 6), sharex=True)\n",
    "ax[0].plot(quant_plot, c_p * delta_temp_l_dash/1000, color=default_colors[0], label=\"$c_p \\delta T'_L$\")\n",
    "ax[0].plot(quant_plot, L_v * r_l_mean * delta_q_l_sat_dash/1000, color=default_colors[0], linestyle='--',\n",
    "           label=\"$L_v\\overline{r_L}\\delta q'_{L,sat}$\")\n",
    "ax[0].plot(quant_plot, L_v * r_l_dash * delta_q_l_sat/1000, color=default_colors[1],\n",
    "           label=\"$L_v r'_L\\delta\\overline{q_{L,sat}}$\")\n",
    "ax[0].plot(quant_plot, L_v * r_l_dash * delta_q_l_sat_dash/1000, color=default_colors[1], linestyle='--',\n",
    "           label=\"$L_v r'_L \\delta q'_{L, sat}$\")\n",
    "ax[0].plot(quant_plot, (c_p * delta_temp_l_dash + L_v * r_l_mean * delta_q_l_sat_dash + L_v * r_l_dash * delta_q_l_sat +\n",
    "         L_v * r_l_dash * delta_q_l_sat_dash)/1000, color='k', label='Sum')\n",
    "ax[0].hlines(0, 0, 100, color='grey',alpha=0.4)\n",
    "\n",
    "ax[1].plot(quant_plot, -100*r_l_dash/r_l_mean, color='k', label='Simulated')\n",
    "ax[1].plot(quant_plot, 100*r_l_dash_thresh/r_l_mean,\n",
    "           color='k', linestyle=':', label='Required for $\\Delta h$ Theory')\n",
    "\n",
    "ax[0].legend(loc='upper left')\n",
    "ax[1].legend(loc='upper left')\n",
    "ax[0].set_xlim(0,100)\n",
    "ax[0].set_ylabel('$\\Delta h$ Contribution [$kJ/kg$]')\n",
    "ax[1].set_ylabel(\"$-r'_L/\\overline{r}_L$ [%]\")\n",
    "ax[-1].set_xlabel('Temperature Percentile, $x$')\n",
    "ax[0].set_title(f'$(\\kappa={tau_lw[1]})-(\\kappa={tau_lw[0]})$')\n",
    "plt.tight_layout();"
   ],
   "metadata": {
    "collapsed": false,
    "ExecuteTime": {
     "start_time": "2023-05-07T21:03:53.490968Z"
    }
   }
  },
  {
   "cell_type": "code",
   "execution_count": null,
   "outputs": [],
   "source": [
    "temp_diff_land_theory_9 = (lambda_px * np.sum(mse_taylor_terms['ocean']['alpha2'][:3], axis=0) -\n",
    "                           L_v*delta_r_l_mean*q_l_mean_sat + 1000*beta1[0] * (p_mean[1]-p_mean[0]))/denom\n",
    "\n",
    "fig, ax = plt.subplots(2,1, figsize=(8, 6), sharex=True)\n",
    "labels = ['Simulated', 'Theory 4', 'Theory 7', 'Theory 9']\n",
    "for i, var in enumerate([temp_diff_quant['land'], temp_diff_land_theory_4, temp_diff_land_theory_7, temp_diff_land_theory_9]):\n",
    "    ax[0].plot(quant_plot, var, label=labels[i])\n",
    "    ax[1].plot(quant_plot, var/var[0])\n",
    "ax[0].legend()\n",
    "ax[0].set_ylabel('Temperature Change / K')\n",
    "ax[1].set_ylabel('Scaling Factor, $\\delta T^x/ \\delta \\\\overline{T}$')\n",
    "ax[1].set_xlabel('Temperature Percentile, $x$')\n",
    "ax[1].set_xlim(0,100);"
   ],
   "metadata": {
    "collapsed": false,
    "ExecuteTime": {
     "start_time": "2023-05-07T21:03:53.491021Z"
    }
   }
  },
  {
   "cell_type": "markdown",
   "source": [
    "### Using median instead of mean\n",
    "However, because $\\delta \\overline{p}$ is not zero, we need to know what $\\beta_1$ is, making this theory still relatively complicated. To correct this, I instead propose taking the average to be the median rather than the mean. That way we ensure that $\\overline{p}=50$ for both the warm and the reference simulations, and thus we necessarily have $\\delta \\overline{p}=0$.\n",
    "\n",
    "Also, because $p^x=50$ corresponds to larger $x$, this should then do well for predicting $\\delta T_L^x$ for large $x$ which is what we are interested in."
   ],
   "metadata": {
    "collapsed": false
   }
  },
  {
   "cell_type": "code",
   "execution_count": null,
   "outputs": [],
   "source": [
    "# Equation 19 and 22 plot\n",
    "p_median = np.zeros(n_exp)\n",
    "h_l_median = np.zeros(n_exp)\n",
    "beta1 = np.zeros(n_exp)\n",
    "\n",
    "fig, ax = plt.subplots(2,1, figsize=(8, 6), sharex=True)\n",
    "for i in range(n_exp):\n",
    "    mse = moist_static_energy(ds_all['land'][i].temp[-1], ds_all['land'][i].sphum[-1], ds_all['land'][i].height[-1])\n",
    "    h_l_median[i] = mse_quant2['land'][i][50]\n",
    "    p_median[i] = 50\n",
    "    beta1[i] = np.gradient(mse_quant2['land'][i], quant_plot)[int(np.round(p_median[i]))]\n",
    "    # Equation 19 plot\n",
    "    ax[0].plot(quant_plot, mse_quant2['land'][i], color=plt_color[surfaces[i]], label=f'Simulated ($\\kappa={tau_lw[i]}$)')\n",
    "    ax[0].plot(quant_plot, beta1[i]*(quant_plot-p_median[i])+h_l_median[i], color=plt_color[surfaces[i]], linestyle=':',\n",
    "               label=f'Theory ($\\kappa={tau_lw[i]}$)')\n",
    "\n",
    "    ax[1].plot(quant_plot, mse_quant_px['land'][i], color=plt_color[surfaces[i]])\n",
    "    ax[1].plot(quant_plot, (mse_quant['land'][i] - h_l_median[i])/beta1[i] + p_median[i], color=plt_color[surfaces[i]], linestyle=':')\n",
    "\n",
    "ax[0].legend()\n",
    "ax[0].set_ylabel('MSE [$kJ/kg$]')\n",
    "ax[1].set_ylabel('$p^x$')\n",
    "ax[0].set_xlabel('MSE percentile, $p^x$')\n",
    "ax[1].set_xlabel('temperature percentile, $x$')\n",
    "ax[0].set_xlim(0,100)\n",
    "print(beta1)\n",
    "print(p_median)"
   ],
   "metadata": {
    "collapsed": false,
    "ExecuteTime": {
     "start_time": "2023-05-07T21:03:53.491122Z"
    }
   }
  },
  {
   "cell_type": "code",
   "execution_count": null,
   "outputs": [],
   "source": [
    "# Equation 23 plot for the percentile\n",
    "delta_p_x_theory_2 = (mse_quant['land'][1] - h_l_median[1])/beta1[1] - \\\n",
    "                     ((mse_quant['land'][0] - h_l_median[0])/beta1[0])\n",
    "delta_p_x_theory_4 = (mse_quant['land'][1] - h_l_median[1])/beta1[0] - \\\n",
    "                     ((mse_quant['land'][0] - h_l_median[0])/beta1[0])\n",
    "delta_h_theory_2 = delta_p_x_theory_2 * beta2[1]\n",
    "delta_h_theory_3 = delta_p_x_theory_2 * beta1[1]\n",
    "delta_h_theory_4 = delta_p_x_theory_4 * beta1[0]\n",
    "\n",
    "fig, ax = plt.subplots(2,1, figsize=(8, 6), sharex=True)\n",
    "ax[0].plot(quant_plot, mse_quant_px['land'][1]-mse_quant_px['land'][0], label='Simulated')\n",
    "ax[0].plot(quant_plot, delta_p_x_theory_2,\n",
    "        label='Theory, $\\delta \\\\beta_1 \\\\neq 0$')\n",
    "ax[0].plot(quant_plot, delta_p_x_theory_4,\n",
    "        label='Theory, $\\delta \\\\beta_1 = 0$')\n",
    "ax[1].plot(quant_plot, delta_h, label='Simulated')\n",
    "ax[1].plot(quant_plot, delta_h_theory_2, label='Theory $\\\\beta_2 \\\\neq \\\\beta_1$')\n",
    "ax[1].plot(quant_plot, delta_h_theory_3, label='Theory $\\\\beta_2 = \\\\beta_1$')\n",
    "ax[1].plot(quant_plot, delta_h_theory_4, label='Theory $\\\\beta_2 = \\\\beta_1$ and $\\delta \\\\beta_1 = 0$')\n",
    "ax[1].plot(quant_plot, delta_p_x_theory_4 * beta2[0],\n",
    "           label='Theory $\\\\beta_2 \\\\neq \\\\beta_1$ and $\\delta \\\\beta_1 = \\delta \\\\beta_2 = 0$')\n",
    "ax[0].set_ylabel('$\\delta p^x$')\n",
    "ax[1].set_xlabel('temperature percentile, $x$')\n",
    "ax[0].legend()\n",
    "ax[1].legend()\n",
    "ax[1].set_ylabel('$\\Delta h$ [$kJ/kg$]')\n",
    "ax[0].set_xlim(0,100);"
   ],
   "metadata": {
    "collapsed": false,
    "ExecuteTime": {
     "start_time": "2023-05-07T21:03:53.491172Z"
    }
   }
  },
  {
   "cell_type": "markdown",
   "source": [
    "The red line in the bottom plot above shows that the theory assuming $\\beta_2 = \\beta_1$ does remarkably well, even at large $x$. This is due to compensating errors, but it still makes sense to continue with this version of the theory so that $\\Delta h = \\delta h_L^x - \\delta \\overline{h_L}$ where now the overline refers to the median i.e. $\\overline{h_L} = h_L(p^x=50)$.\n",
    "\n",
    "The plot below shows that the assumption that $\\delta h_L(p^x=50) = c_p \\delta T_L(p^x=50) + L_v \\delta q_L(p^x=50)$ is approximately valid i.e. where the $x=50$ grey line intersects the orange and blue curves, they are approximatley equal."
   ],
   "metadata": {
    "collapsed": false
   }
  },
  {
   "cell_type": "code",
   "execution_count": null,
   "outputs": [],
   "source": [
    "fig, ax = plt.subplots(1,1, figsize=(8, 4), sharex=True)\n",
    "ax.plot(quant_plot, mse_quant2['land'][1]-mse_quant2['land'][0], label='$\\delta h_L$')\n",
    "ax.plot(quant_plot, c_p/1000 *(temp_quant2['land'][1] -\n",
    "                               temp_quant2['land'][0]) + L_v/1000 *(sphum_quant2['land'][1] - sphum_quant2['land'][0]),\n",
    "        label='$c_p \\delta T_L + L_v \\delta q_L$')\n",
    "ax.vlines(50, 0, 100, color='grey', linewidth=0.4)\n",
    "ax.set_ylim(3,8)\n",
    "ax.legend()\n",
    "ax.set_ylabel('$\\delta h_L$ [$kJ/kg$]')\n",
    "ax.set_xlabel('Percentile')\n",
    "ax.set_xlim(0,100);"
   ],
   "metadata": {
    "collapsed": false,
    "ExecuteTime": {
     "start_time": "2023-05-07T21:03:53.491222Z"
    }
   }
  },
  {
   "cell_type": "markdown",
   "source": [
    "As before, we can now investigate how many terms in the taylor series we should keep."
   ],
   "metadata": {
    "collapsed": false
   }
  },
  {
   "cell_type": "code",
   "execution_count": null,
   "outputs": [],
   "source": [
    "q_l_median_sat = sphum_sat(temp_quant2['land'][0][50], p_surface)\n",
    "delta_r_l_median = sphum_quant2['land'][1][50]/sphum_sat(temp_quant2['land'][1][50], p_surface) - \\\n",
    "                   sphum_quant2['land'][0][50]/q_l_median_sat\n",
    "delta_temp_l_median = (temp_quant2['land'][1]-temp_quant2['land'][0])[50]\n",
    "temp_l_median = temp_quant2['land'][0][50]\n",
    "alpha_l_2_median = clausius_clapeyron_factor2(temp_l_median)\n",
    "q_l_median = sphum_quant2['land'][0][50]\n",
    "\n",
    "delta_h_taylor_terms_median = [c_p/1000 * (temp_quant['land'][1]-temp_quant['land'][0]),\n",
    "                               L_v/1000 * alpha_l_2 * q_l_x * (temp_quant['land'][1]-temp_quant['land'][0]),\n",
    "                               L_v/1000 * alpha_l_2 * q_l_x_sat * (temp_quant['land'][1]-temp_quant['land'][0]) * delta_r_l_x]\n",
    "# Subtract median terms\n",
    "delta_h_taylor_terms_median[0] = delta_h_taylor_terms_median[0] - c_p/1000 * delta_temp_l_median\n",
    "delta_h_taylor_terms_median[1] = delta_h_taylor_terms_median[1] - \\\n",
    "                                 L_v/1000 * alpha_l_2_median * \\\n",
    "                                 q_l_median * delta_temp_l_median\n",
    "delta_h_taylor_terms_median[2] = delta_h_taylor_terms_median[2] -\\\n",
    "                                 L_v/1000 * alpha_l_2_median * q_l_median_sat * \\\n",
    "                                 delta_temp_l_median * delta_r_l_median\n",
    "delta_h_taylor_terms_median = np.asarray(delta_h_taylor_terms_median)\n",
    "\n",
    "fig, ax = plt.subplots(1,1, figsize=(8, 6))\n",
    "ax.plot(quant_plot, mse_quant['land'][1]-mse_quant['land'][0] - (h_l_median[1]-h_l_median[0]), label='Simulated')\n",
    "ax.plot(quant_plot, L_v/1000 * (delta_r_l_x * q_l_x_sat - delta_r_l_median * q_l_median_sat),\n",
    "        label='$L_v(q_{L,sat}^x \\delta r_L^x - \\overline{q_{L,sat}} \\delta \\overline{r_L})$')\n",
    "ax.plot(quant_plot, delta_h_taylor_terms_median[0], label='$c_p (\\delta T_L^x - \\delta \\overline{T})$', color='k', linestyle='--')\n",
    "ax.plot(quant_plot, delta_h_taylor_terms_median[1], color='k', linestyle=':',\n",
    "        label='$L_v (\\\\alpha^x_L q_L^x \\delta T_L^x - \\overline{\\\\alpha_L} \\overline{q_L} \\delta \\overline{T})$')\n",
    "ax.plot(quant_plot, delta_h_taylor_terms_median[2], color='k', linestyle='-.',\n",
    "        label='$L_v (\\\\alpha^x_L q_{L,sat}^x \\delta T_L^x \\delta r_L^x - \\overline{\\\\alpha_L} \\overline{q_{L,sat}} \\delta \\overline{T} \\delta \\overline{r_L})$')\n",
    "ax.plot(quant_plot, np.sum(delta_h_taylor_terms_median, axis=0), color='k', label='Sum of black lines')\n",
    "ax.legend()\n",
    "ax.set_ylabel('$\\delta h_L^x - \\delta \\overline{h_L}$ [$kJ/kg$]')\n",
    "ax.set_xlabel('temperature percentile, $x$')\n",
    "ax.set_xlim(0,100);"
   ],
   "metadata": {
    "collapsed": false,
    "ExecuteTime": {
     "start_time": "2023-05-07T21:03:53.491275Z"
    }
   }
  },
  {
   "cell_type": "markdown",
   "source": [
    "Repeating the analysis we did with the mean, we see that including just the non-linear term in $\\delta h_L^x$, giving the red line, does a good job at predicting $\\Delta h$ at low $x$."
   ],
   "metadata": {
    "collapsed": false
   }
  },
  {
   "cell_type": "code",
   "execution_count": null,
   "outputs": [],
   "source": [
    "delta_h_theory7 = L_v / 1000 * (delta_r_l_x * q_l_x_sat - delta_r_l_median * q_l_median_sat)\n",
    "delta_h_theory8 = delta_h_theory7 + L_v/1000 * alpha_l_2 * q_l_x_sat * (temp_quant['land'][1]-temp_quant['land'][0]) * delta_r_l_x\n",
    "fig, ax = plt.subplots(2,1, figsize=(8, 6), sharex=True)\n",
    "ax[0].plot(quant_plot, mse_quant_px['land'][1]-mse_quant_px['land'][0], label='Simulated')\n",
    "ax[0].plot(quant_plot, delta_h_theory7/beta1[0], label='Theory with no non linear terms')\n",
    "ax[0].plot(quant_plot, (delta_h_theory7 + delta_h_taylor_terms_median[2])/beta1[0],\n",
    "         label='Theory with non linear in both $\\delta h_L^x$ and $\\delta \\overline{h}$')\n",
    "ax[0].plot(quant_plot, delta_h_theory8/beta1[0], label='Theory with non linear in $\\delta h_L^x$ only')\n",
    "\n",
    "ax[1].plot(quant_plot, delta_h, label='Simulated')\n",
    "ax[1].plot(quant_plot, delta_h_theory7, label='Theory with no non linear terms')\n",
    "ax[1].plot(quant_plot, delta_h_theory7 + delta_h_taylor_terms_median[2],\n",
    "         label='Theory with non linear in both $\\delta h_L^x$ and $\\delta \\overline{h}$')\n",
    "ax[1].plot(quant_plot, delta_h_theory8, label='Theory with non linear in $\\delta h_L^x$ only')\n",
    "ax[0].set_ylabel('$\\delta p^x$')\n",
    "ax[1].set_ylabel('$\\Delta h$ [$kJ/kg$]')\n",
    "ax[1].set_xlabel('temperature percentile, $x$')\n",
    "ax[0].legend()\n",
    "ax[1].set_xlim(0,100);"
   ],
   "metadata": {
    "collapsed": false,
    "ExecuteTime": {
     "start_time": "2023-05-07T21:03:53.491340Z"
    }
   }
  },
  {
   "cell_type": "markdown",
   "source": [
    "The predicted $\\delta T_L^x$ using the red line theory for $\\Delta h$ above, and using the taylor expansion terms used in Theory 7, is given by Theory 10 below. It is basically just as good as Theory 9 at low $x$, but now don't have the $\\delta \\overline{p}$ term."
   ],
   "metadata": {
    "collapsed": false
   }
  },
  {
   "cell_type": "code",
   "execution_count": null,
   "outputs": [],
   "source": [
    "temp_diff_land_theory_10 = (lambda_px * np.sum(mse_taylor_terms['ocean']['alpha2'][:3], axis=0) -\n",
    "                           L_v*delta_r_l_median*q_l_median_sat + 1000*beta1[0] * (p_mean[1]-p_mean[0]))/denom\n",
    "\n",
    "fig, ax = plt.subplots(2,1, figsize=(8, 6), sharex=True)\n",
    "labels = ['Simulated', 'Theory 4', 'Theory 7', 'Theory 9', 'Theory 10']\n",
    "for i, var in enumerate([temp_diff_quant['land'], temp_diff_land_theory_4, temp_diff_land_theory_7,\n",
    "                         temp_diff_land_theory_9, temp_diff_land_theory_10]):\n",
    "    ax[0].plot(quant_plot, var, label=labels[i])\n",
    "    ax[1].plot(quant_plot, var-var[0])\n",
    "ax[0].legend()\n",
    "ax[0].set_ylabel('Temperature Change / K')\n",
    "ax[1].set_ylabel('Scaling Factor, $\\delta T^x/ \\delta \\\\overline{T}$')\n",
    "ax[1].set_xlabel('Temperature Percentile, $x$')\n",
    "ax[1].set_xlim(0,100);"
   ],
   "metadata": {
    "collapsed": false,
    "ExecuteTime": {
     "start_time": "2023-05-07T21:03:53.491391Z"
    }
   }
  },
  {
   "cell_type": "markdown",
   "source": [
    "It is clear, that to predict the changes at larger $x$, we need to keep the terms involving $\\delta T^x_L$ and $\\delta \\overline{T_L}$. Including the non-linear $\\delta T_L^x \\delta r_L^x$ for the $\\delta h_L^x$ is also important for giving a good prediction for $\\Delta h$ as shown by the purple line in the plot below."
   ],
   "metadata": {
    "collapsed": false
   }
  },
  {
   "cell_type": "code",
   "execution_count": null,
   "outputs": [],
   "source": [
    "fig, ax = plt.subplots(2, 1, figsize=(8, 6), sharex=True)\n",
    "ax[0].plot(quant_plot, mse_quant_px['land'][1] - mse_quant_px['land'][0], label='Simulated')\n",
    "ax[0].plot(quant_plot, delta_h_theory7 / beta1[0], label='Theory with no $\\delta T_L$ terms')\n",
    "ax[0].plot(quant_plot, (delta_h_theory7 + delta_h_taylor_terms_median[0]) / beta1[0],\n",
    "           label='Theory with $c_p \\delta T_L$')\n",
    "ax[0].plot(quant_plot, (delta_h_theory7 + np.sum(delta_h_taylor_terms_median[:2], axis=0)) / beta1[0],\n",
    "           label='Theory with $c_p \\delta T_L$ and $L_v \\\\alpha_L q_L \\delta T_L$')\n",
    "ax[0].plot(quant_plot, (delta_h_theory7 + np.sum(delta_h_taylor_terms_median, axis=0)) / beta1[0],\n",
    "           label='Theory with $c_p \\delta T_L$, $L_v \\\\alpha_L q_L \\delta T_L$ and $\\delta T_L \\delta r_L$')\n",
    "\n",
    "ax[1].plot(quant_plot, delta_h, label='Simulated')\n",
    "ax[1].plot(quant_plot, delta_h_theory7, label='Theory with no non linear terms')\n",
    "ax[1].plot(quant_plot, delta_h_theory7 + delta_h_taylor_terms_median[0],\n",
    "           label='Theory with non linear in both $\\delta h_L^x$ and $\\delta \\overline{h}$')\n",
    "ax[1].plot(quant_plot, delta_h_theory7 + np.sum(delta_h_taylor_terms_median[:2], axis=0),\n",
    "           label='Theory with non linear in $\\delta h_L^x$ only')\n",
    "ax[1].plot(quant_plot, delta_h_theory7 + np.sum(delta_h_taylor_terms_median, axis=0))\n",
    "ax[0].set_ylabel('$\\delta p^x$')\n",
    "ax[1].set_ylabel('$\\Delta h$ [$kJ/kg$]')\n",
    "ax[1].set_xlabel('temperature percentile, $x$')\n",
    "ax[0].legend()\n",
    "ax[1].set_xlim(0, 100);"
   ],
   "metadata": {
    "collapsed": false,
    "ExecuteTime": {
     "start_time": "2023-05-07T21:03:53.491455Z"
    }
   }
  },
  {
   "cell_type": "markdown",
   "source": [
    "However, with our assumptions that $\\beta_1 = \\beta_2$ and $\\delta \\beta_1 = 0$, we have $\\Delta h = \\delta h_L^x - \\delta \\overline{h_L}$.\n",
    "\n",
    "We also have $\\delta h_L^x = \\lambda(p^x) \\delta h_O(p^x) + \\Delta h$, and combining these equations, we have $\\lambda(p^x) \\delta h_O(p^x) = \\delta \\overline{h_L}$.\n",
    "\n",
    "The accuracy of this equation is assessed below."
   ],
   "metadata": {
    "collapsed": false
   }
  },
  {
   "cell_type": "code",
   "execution_count": null,
   "outputs": [],
   "source": [
    "delta_mse_land_median = (mse_quant2['land'][1]-mse_quant2['land'][0])[50]\n",
    "delta_mse_land_median_taylor = (c_p + L_v * q_l_median * alpha_l_2_median) * delta_temp_l_median + \\\n",
    "                               L_v * q_l_median_sat * delta_r_l_median\n",
    "\n",
    "fig, ax = plt.subplots(1,1, figsize=(8, 6))\n",
    "ax.plot(quant_plot, lambda_px * (mse_quant2['ocean'][1][p_x]-mse_quant2['ocean'][0][p_x]), color='b',\n",
    "        label='$\\lambda(p^x) \\delta h_O(p^x)$')\n",
    "ax.plot(quant_plot, delta_mse_land_median*np.ones(n_quant), color='r',\n",
    "        label='$\\delta \\overline{h_L}$')\n",
    "ax.plot(quant_plot, lambda_px * np.sum(mse_taylor_terms['ocean']['alpha2'][:3], axis=0)/1000, color='b', linestyle=':',\n",
    "        label='$\\lambda(p^x) ((c_p + L_v \\\\alpha_O q_O)\\delta T_O + L_v q_{O,sat} \\delta r_O)$')\n",
    "ax.plot(quant_plot, delta_mse_land_median_taylor * np.ones(n_quant)/1000, color='r', linestyle=':',\n",
    "         label='$(c_p + L_v \\overline{\\\\alpha}_L\\overline{q}_L)\\delta \\overline{T_L} + L_v\\overline{q}_{L,sat} \\delta \\overline{r}_L$')\n",
    "ax.legend()\n",
    "ax.set_xlabel('temperature percentile, $x$')\n",
    "ax.set_ylabel('$\\delta h$ [$kJ/kg$]')\n",
    "ax.set_xlim(0,100);"
   ],
   "metadata": {
    "collapsed": false,
    "ExecuteTime": {
     "start_time": "2023-05-07T21:03:53.491503Z"
    }
   }
  },
  {
   "cell_type": "markdown",
   "source": [
    "Comparing the dotted lines in the above plot, we see that the equation $\\lambda(p^x) \\delta h_O(p^x) = \\delta \\overline{h_L}$ is approximately valid if we use a taylor series involving only the linear terms for each $\\delta h$.\n",
    "\n",
    "From this, we can derive an equation for $\\delta T_O(p^x)$:\n",
    "\n",
    "$$\\delta T_O(p^x) = \\frac{(c_p + L_v \\overline{\\alpha}_L\\overline{q}_L)\\delta \\overline{T_L} + L_v\\overline{q}_{L,sat} \\delta \\overline{r}_L\n",
    "- \\lambda(p^x) L_v q_{O,sat} \\delta r_O}{\\lambda(p^x)(c_p + L_v \\alpha_O q_O)}$$\n",
    "\n",
    "Note that here the overline refers to the median so we don't get a $\\delta \\overline{p}$ term in the equation.\n",
    "\n",
    "In the plot below, we see that this theory does fairly well. It may not be the most useful theory in the world though, as what it predicts is not particularly useful.\n"
   ],
   "metadata": {
    "collapsed": false
   }
  },
  {
   "cell_type": "code",
   "execution_count": null,
   "outputs": [],
   "source": [
    "delta_temp_o_theory = (delta_mse_land_median_taylor-lambda_px * L_v * q_o_sat * delta_r_o) / (lambda_px * (c_p + L_v * alpha_o_2 * q_o))\n",
    "fig, ax = plt.subplots(1,2, figsize=(14, 6), sharey=True)\n",
    "ax[0].plot(quant_plot, delta_temp_o, color='k', label='Simulated')\n",
    "ax[0].plot(quant_plot, delta_temp_o_theory, color='k', linestyle=':', label='Theory')\n",
    "ax[1].plot(p_x, delta_temp_o, color='k')\n",
    "ax[1].plot(p_x, delta_temp_o_theory, color='k', linestyle=':')\n",
    "\n",
    "ax[0].legend()\n",
    "ax[0].set_ylabel('$\\delta T_O(p^x)$')\n",
    "ax[0].set_xlabel('temperature percentile, $x$')\n",
    "ax[1].set_xlabel('$p^x$')\n",
    "# ax[0].set_ylim(1.7,2.3)\n",
    "ax[0].set_xlim(0,100);"
   ],
   "metadata": {
    "collapsed": false,
    "ExecuteTime": {
     "start_time": "2023-05-07T21:03:53.491642Z"
    }
   }
  },
  {
   "cell_type": "markdown",
   "source": [
    "I thought that maybe the theory with $\\beta_2 = \\beta_1$ and $\\delta \\beta_1 = 0$ would be useful because then the $\\delta h_L^x$ terms would not cancel. Clearly though, this does not work, as shown below."
   ],
   "metadata": {
    "collapsed": false
   }
  },
  {
   "cell_type": "code",
   "execution_count": null,
   "outputs": [],
   "source": [
    "plt.plot(quant_plot, (1-beta2[0]/beta1[0]) * (mse_quant['land'][1]-mse_quant['land'][0]), color='r')\n",
    "plt.plot(quant_plot, (1-beta2[0]/beta1[0]) * np.sum(mse_taylor_terms['land']['alpha2'][:4], axis=0)/1000, color='r', linestyle=':')\n",
    "plt.plot(quant_plot, lambda_px * (mse_quant['ocean'][1]-mse_quant['ocean'][0]) -\n",
    "         beta2[0]/beta1[0] * delta_mse_land_median, color='b')\n",
    "plt.plot(quant_plot, lambda_px * np.sum(mse_taylor_terms['ocean']['alpha2'][:3], axis=0)/1000 -\n",
    "         beta2[0]/beta1[0] * delta_mse_land_median, color='b', linestyle='--')\n",
    "plt.plot(quant_plot, lambda_px * np.sum(mse_taylor_terms['ocean']['alpha2'][:3], axis=0)/1000 -\n",
    "         beta2[0]/beta1[0] * delta_mse_land_median_taylor/1000, color='b', linestyle=':')\n",
    "plt.ylim([1.4,1.8])\n",
    "plt.xlim([90,100])"
   ],
   "metadata": {
    "collapsed": false,
    "ExecuteTime": {
     "start_time": "2023-05-07T21:03:53.491691Z"
    }
   }
  },
  {
   "cell_type": "code",
   "execution_count": null,
   "outputs": [],
   "source": [
    "denom2 = (denom + L_v * alpha_l_2 * q_l_x_sat * delta_r_l_x) * (1 - beta2[0]/beta1[0])\n",
    "a = (lambda_px * np.sum(mse_taylor_terms['ocean']['alpha2'][:3], axis=0)/1000 - beta2[0]/beta1[0] * delta_mse_land_median)*1000/denom2 - \\\n",
    "L_v * q_l_x_sat * delta_r_l_x * (1-beta2[0]/beta1[0])/denom2\n",
    "a2 = (lambda_px * np.sum(mse_taylor_terms['ocean']['alpha2'][:3], axis=0)/1000 -\n",
    "         beta2[0]/beta1[0] * delta_mse_land_median_taylor/1000)*1000/denom2 - \\\n",
    "L_v * q_l_x_sat * delta_r_l_x * (1-beta2[0]/beta1[0])/denom2\n",
    "plt.plot(quant_plot, a)\n",
    "plt.plot(quant_plot, a2)\n",
    "plt.plot(quant_plot, temp_quant['land'][1]-temp_quant['land'][0])\n",
    "plt.ylim(2.8, 5);"
   ],
   "metadata": {
    "collapsed": false,
    "ExecuteTime": {
     "start_time": "2023-05-07T21:03:53.491740Z"
    }
   }
  },
  {
   "cell_type": "markdown",
   "source": [
    "Mike made a good point that in the simulations I am using, I am covering a much wider range of $p^x$ than in the paper, so the linear approximation involving $\\beta_1$ for $h_L(p)$ is less well satisfied for me at large $p^x$."
   ],
   "metadata": {
    "collapsed": false
   }
  },
  {
   "cell_type": "code",
   "execution_count": null,
   "outputs": [],
   "source": [],
   "metadata": {
    "collapsed": false,
    "ExecuteTime": {
     "start_time": "2023-05-07T21:03:53.491794Z"
    }
   }
  },
  {
   "cell_type": "code",
   "execution_count": null,
   "outputs": [],
   "source": [],
   "metadata": {
    "collapsed": false,
    "ExecuteTime": {
     "start_time": "2023-05-07T21:03:53.497077Z"
    }
   }
  }
 ],
 "metadata": {
  "kernelspec": {
   "display_name": "Python 3",
   "language": "python",
   "name": "python3"
  },
  "language_info": {
   "codemirror_mode": {
    "name": "ipython",
    "version": 2
   },
   "file_extension": ".py",
   "mimetype": "text/x-python",
   "name": "python",
   "nbconvert_exporter": "python",
   "pygments_lexer": "ipython2",
   "version": "2.7.6"
  }
 },
 "nbformat": 4,
 "nbformat_minor": 0
}
