{
 "cells": [
  {
   "cell_type": "markdown",
   "source": [
    "# Moist Static Energy Difference Analysis\n",
    "This notebook evaluates whether the assumption that the difference between the surface and free troposphere MSE, $\\epsilon = h - h_{FT}$ varies as the climate warms in the same way for the mean summer day as the temperature percentile $x$ day.\n",
    "\n",
    "I.e. it evaluates to what extent the assumption of $\\delta \\epsilon_x = \\delta \\overline{\\epsilon}$ is valid."
   ],
   "metadata": {
    "collapsed": false
   }
  },
  {
   "cell_type": "code",
   "execution_count": 2,
   "outputs": [
    {
     "name": "stderr",
     "output_type": "stream",
     "text": [
      "2023-03-24 17:43:05,576 - isca - WARNING - Environment variable GFDL_SOC not set, but this is only required if using SocratesCodebase. Setting to None\n"
     ]
    }
   ],
   "source": [
    "import sys\n",
    "import os\n",
    "# REMOTE - So can access functions in isca_tools which is in home/Isca directory\n",
    "# sys.path.append(os.path.join(os.environ['HOME'], 'Isca'))\n",
    "# LOCAL - So can access functions in isca_tools which is in StAndrews/Isca\n",
    "sys.path.append(os.environ['PWD'])\n",
    "import isca_tools\n",
    "from isca_tools.utils.moist_physics import lcl_temp, rh_from_sphum, saturation_vapor_pressure, mixing_ratio_from_sphum, dry_profile, moist_profile, mixing_ratio_from_partial_pressure, moist_static_energy, convection_neutral_profile\n",
    "from isca_tools.utils.radiation import frierson_net_toa_sw_dwn\n",
    "from isca_tools.utils.constants import kappa, epsilon, L_v, c_p, g, R_v\n",
    "from isca_tools.utils import area_weight_mean_lat, area_weighting\n",
    "import numpy as np\n",
    "import matplotlib.pyplot as plt\n",
    "import xarray as xr\n",
    "import scipy.optimize\n",
    "from tqdm import tqdm\n",
    "import os"
   ],
   "metadata": {
    "collapsed": false
   }
  },
  {
   "cell_type": "code",
   "execution_count": 5,
   "outputs": [
    {
     "name": "stderr",
     "output_type": "stream",
     "text": [
      "100%|██████████| 8/8 [01:34<00:00, 11.81s/it]\n"
     ]
    }
   ],
   "source": [
    "# Load dataset\n",
    "exp_dir = 'tau_sweep/aquaplanet/'\n",
    "var_keep = ['temp', 'sphum', 'height']      # only keep variables to compute MSE\n",
    "pressure_ft = 500\n",
    "use_time_start = 360*2\n",
    "exp_names = [dir for dir in os.listdir(os.path.join(os.environ['GFDL_DATA'],exp_dir)) if dir[0]=='k']\n",
    "exp_names.sort()\n",
    "n_exp = len(exp_names)\n",
    "ds = []\n",
    "albedo = []\n",
    "tau_sw = []\n",
    "tau_lw = []\n",
    "for i in tqdm(range(n_exp)):\n",
    "    ds_use = isca_tools.load_dataset(exp_dir + exp_names[i])[var_keep]\n",
    "    ds_use = ds_use.sel(time=slice(use_time_start, np.inf), drop=True)      # only use times after converged\n",
    "\n",
    "    ds += [ds_use.sel(pfull=[pressure_ft, np.inf], method='nearest', drop=True).load()]     # only keep pressure values at surface and FT\n",
    "    namelist = isca_tools.load_namelist(exp_dir + exp_names[i])  # Need this for albedo_value\n",
    "    albedo += [namelist['mixed_layer_nml']['albedo_value']]\n",
    "    tau_sw += [namelist['two_stream_gray_rad_nml']['atm_abs']]\n",
    "    tau_lw += [namelist['two_stream_gray_rad_nml']['odp']]\n",
    "pressure_ft_actual = float(ds[0].pfull[0])        # actual free troposphere pressure in hPa\n",
    "pressure_surface = float(ds[0].pfull[1])          # surface pressure in hPa"
   ],
   "metadata": {
    "collapsed": false
   }
  },
  {
   "cell_type": "markdown",
   "source": [
    "## Get data\n",
    "Get one dataset, `ds_all[i, j]` `tau_lw[i]` in latitude bin `j`, containing all summer data."
   ],
   "metadata": {
    "collapsed": false
   }
  },
  {
   "cell_type": "code",
   "execution_count": 31,
   "outputs": [
    {
     "name": "stderr",
     "output_type": "stream",
     "text": [
      "  2%|▏         | 37/2400 [00:10<10:39,  3.69it/s]\n",
      "\n",
      "KeyboardInterrupt\n",
      "\n"
     ]
    }
   ],
   "source": [
    "# Get data set averaged over all summer days in extratropics.\n",
    "# Do this for each optical depth value\n",
    "lat_min = [0, 40, 70]\n",
    "lat_max = [20, 65, 90]\n",
    "n_lat = len(lat_min)\n",
    "n_pressure = ds[0].pfull.size\n",
    "quant_plot = np.arange(100)     # first value must be 0 so temp_quant[0] is the mean value - make spacing 2 or something to speed up\n",
    "n_quant = len(quant_plot)\n",
    "\n",
    "temp_quant = np.zeros((n_exp, n_lat, n_quant, n_pressure))\n",
    "sphum_quant = np.zeros((n_exp, n_lat, n_quant, n_pressure))\n",
    "z_quant = np.zeros((n_exp, n_lat, n_quant, n_pressure))\n",
    "\n",
    "with tqdm(total=n_exp * n_lat * n_quant, position=0, leave=True) as pbar:\n",
    "    for i in range(n_exp):\n",
    "        for j in range(n_lat):\n",
    "            ds_use = ds[i].where((np.abs(ds[i].lat)<=lat_max[j]) & (np.abs(ds[i].lat)>=lat_min[j]), drop=True)\n",
    "\n",
    "            # Only consider summer as has expected circulation\n",
    "            ds_nh_summer = isca_tools.utils.annual_time_slice(ds_use, [7, 8, 9]).sel(lat=slice(lat_min, lat_max))       # NH summer is JAS\n",
    "            ds_sh_summer = isca_tools.utils.annual_time_slice(ds_use, [1, 2, 3]).sel(lat=slice(-lat_max, -lat_min))     # SH summer is JFM\n",
    "            # Combine hemispheres and average over longitude, time and latitude.\n",
    "            # Note that April, May, June, October, November and December will not be included in this dataset\n",
    "            ds_use = xr.concat([ds_sh_summer, ds_nh_summer], dim='lat')\n",
    "            ds_use = ds_use.stack(lon_lat_time=(\"lat\",\"lon\",\"time\"), create_index=False).chunk(dict(lon_lat_time=-1))\n",
    "            # Get rid of nan values corresponding to the winter hemisphere - half the values are nan\n",
    "            ds_use = ds_use.sel(lon_lat_time = ds_use.lon_lat_time[np.invert(np.isnan(ds_use.temp[-1]))].to_numpy())\n",
    "            \n",
    "            # Combine hemispheres and average over longitude, time and latitude.\n",
    "            for k in range(n_quant):\n",
    "                quant_thresh = ds_use.temp[:, -1].quantile(quant_plot[k]/100, dim=['time', 'lat', 'lon'])\n",
    "                keep = ds_use.temp[:, -1] > quant_thresh\n",
    "                keep = np.expand_dims(keep, 1).repeat(ds_use.temp.shape[1], axis=1)        # repeat keep for both pressure levels\n",
    "                keep = xr.DataArray(keep, coords=ds_use.coords)                           # Make it a data array\n",
    "                ds_use2 = ds_use.where(keep, drop=True)\n",
    "                temp_quant[i, j, k] = ds_use2.temp.mean(dim=['time', 'lat', 'lon'])\n",
    "                sphum_quant[i, j, k] = ds_use2.sphum.mean(dim=['time', 'lat', 'lon'])\n",
    "                z_quant[i, j, k] = ds_use2.height.mean(dim=['time', 'lat', 'lon'])\n",
    "                pbar.update(1)"
   ],
   "metadata": {
    "collapsed": false
   }
  },
  {
   "cell_type": "code",
   "execution_count": 143,
   "outputs": [],
   "source": [],
   "metadata": {
    "collapsed": false
   }
  },
  {
   "cell_type": "code",
   "execution_count": 143,
   "outputs": [],
   "source": [],
   "metadata": {
    "collapsed": false
   }
  },
  {
   "cell_type": "code",
   "execution_count": null,
   "outputs": [],
   "source": [],
   "metadata": {
    "collapsed": false
   }
  }
 ],
 "metadata": {
  "kernelspec": {
   "display_name": "Python 3",
   "language": "python",
   "name": "python3"
  },
  "language_info": {
   "codemirror_mode": {
    "name": "ipython",
    "version": 2
   },
   "file_extension": ".py",
   "mimetype": "text/x-python",
   "name": "python",
   "nbconvert_exporter": "python",
   "pygments_lexer": "ipython2",
   "version": "2.7.6"
  }
 },
 "nbformat": 4,
 "nbformat_minor": 0
}
