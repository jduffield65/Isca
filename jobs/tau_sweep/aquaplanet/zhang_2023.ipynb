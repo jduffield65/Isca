{
 "cells": [
  {
   "cell_type": "markdown",
   "source": [
    "# Zhang 2023 Upper Bound Temperature\n",
    "This looks at applying the theory from Byrne 2023 but to an aquaplanet.\n",
    "\n",
    "Looks at how the hottest days compare to the theoretical upper bound temperature for a given the 500hPa temperature."
   ],
   "metadata": {
    "collapsed": false
   }
  },
  {
   "cell_type": "code",
   "execution_count": 2,
   "source": [
    "import sys\n",
    "import os\n",
    "# REMOTE - So can access functions in isca_tools which is in home/Isca directory\n",
    "# sys.path.append(os.path.join(os.environ['HOME'], 'Isca'))\n",
    "# LOCAL - So can access functions in isca_tools which is in StAndrews/Isca\n",
    "sys.path.append(os.environ['PWD'])\n",
    "import isca_tools\n",
    "from isca_tools.convection import lcl_temp\n",
    "from isca_tools.convection.base import dry_profile_temp, moist_profile, convection_neutral_profile\n",
    "from isca_tools.utils.moist_physics import rh_from_sphum, saturation_vapor_pressure, mixing_ratio_from_sphum, mixing_ratio_from_partial_pressure, moist_static_energy\n",
    "from isca_tools.utils.radiation import frierson_net_toa_sw_dwn, frierson_atmospheric_heating\n",
    "from isca_tools.utils.constants import kappa, epsilon, L_v, c_p, g, R_v, radius_earth\n",
    "from isca_tools.utils import area_weight_mean_lat, area_weighting\n",
    "from isca_tools.papers.miyawaki_2022 import get_dmse_dt, get_dvmse_dy, get_r1\n",
    "import numpy as np\n",
    "import matplotlib.pyplot as plt\n",
    "import xarray as xr\n",
    "import scipy.optimize\n",
    "from tqdm import tqdm\n",
    "from scipy.stats import percentileofscore\n",
    "from scipy import interpolate"
   ],
   "metadata": {
    "collapsed": false,
    "ExecuteTime": {
     "end_time": "2024-03-25T12:37:20.551161Z",
     "start_time": "2024-03-25T12:37:20.537378Z"
    }
   },
   "outputs": []
  },
  {
   "cell_type": "code",
   "execution_count": 3,
   "source": [
    "# Load dataset\n",
    "exp_dir = 'tau_sweep/aquaplanet/'\n",
    "# only keep variables required to compute relative humidity, MSE and miyawaki R1 value\n",
    "var_keep = ['temp', 'sphum', 'vcomp', 'ucomp', 'omega', 'height', 'precipitation', 'cape', 'vor', 'cin', 'ps']\n",
    "tau_lw_ref = 1\n",
    "tau_lw_warm = 1.5\n",
    "exp_names = [f\"k={str(tau_lw_ref).replace('.','_')}\", f\"k={str(tau_lw_warm).replace('.','_')}\"]\n",
    "exp_names.sort()\n",
    "n_exp = len(exp_names)\n",
    "ds = []\n",
    "albedo = []\n",
    "tau_sw = []\n",
    "tau_lw = []\n",
    "for i in range(n_exp):\n",
    "    ds += [isca_tools.load_dataset(exp_dir + exp_names[i])]\n",
    "    namelist = isca_tools.load_namelist(exp_dir + exp_names[i])  # Need this for albedo_value\n",
    "    albedo += [namelist['mixed_layer_nml']['albedo_value']]\n",
    "    tau_sw += [namelist['two_stream_gray_rad_nml']['atm_abs']]\n",
    "    tau_lw += [namelist['two_stream_gray_rad_nml']['odp']]"
   ],
   "metadata": {
    "collapsed": false,
    "ExecuteTime": {
     "end_time": "2024-03-25T12:37:27.089758Z",
     "start_time": "2024-03-25T12:37:22.069320Z"
    }
   },
   "outputs": []
  },
  {
   "cell_type": "markdown",
   "source": [
    "## Get datasets\n",
    "Get one dataset, `ds_lat`, for each latitude bin containing surface and free troposphere data for that latitude range."
   ],
   "metadata": {
    "collapsed": false
   }
  },
  {
   "cell_type": "code",
   "execution_count": 4,
   "source": [
    "# Get data set averaged over all summer days considering in each latitude bin.\n",
    "# Do this for each optical depth value\n",
    "use_time_start = 360*2\n",
    "pressure_ft = 500\n",
    "\n",
    "ds_use = ds[0].sel(time=slice(use_time_start, np.inf), drop=True)[var_keep]\n",
    "ds_use = ds_use.sel(pfull=[pressure_ft, np.inf], method='nearest', drop=True).load()\n",
    "z_ft_mean = float(area_weighting(ds_use.height[:, 0]).mean())\n",
    "temp_ft_mean = float(area_weighting(ds_use.temp[:, 0]).mean())\n",
    "pressure_ft_actual = float(ds_use.pfull[0])        # actual free troposphere pressure in hPa\n",
    "pressure_surface = float(ds_use.pfull[1])          # surface pressure in hPa"
   ],
   "metadata": {
    "collapsed": false,
    "ExecuteTime": {
     "end_time": "2024-03-25T12:37:55.710675Z",
     "start_time": "2024-03-25T12:37:31.231266Z"
    }
   },
   "outputs": []
  },
  {
   "cell_type": "code",
   "execution_count": 5,
   "source": [
    "temp_bins = np.linspace(ds_use.temp[:, 0].min(), ds_use.temp[:, 0].max(), 20)\n",
    "z_bins = np.linspace(ds_use.height[:, 0].min(), ds_use.height[:, 0].max(), 20)\n",
    "hist = np.histogram2d(ds_use.temp[:, 0].to_numpy().flatten(), ds_use.height[:, 0].to_numpy().flatten(), bins=[temp_bins, z_bins])[0]"
   ],
   "metadata": {
    "collapsed": false,
    "ExecuteTime": {
     "end_time": "2024-03-25T12:37:59.137310Z",
     "start_time": "2024-03-25T12:37:57.841979Z"
    }
   },
   "outputs": []
  },
  {
   "cell_type": "code",
   "execution_count": 6,
   "source": [
    "# Check that z_ft vs temp_ft relationship is approximately valid\n",
    "temp_ft_array = np.arange(200, 300)\n",
    "fig, ax = plt.subplots(1,1, figsize=(12, 6))\n",
    "im = plt.imshow(hist.T/hist.sum(), origin='lower', aspect='auto', extent=[temp_bins[0], temp_bins[-1], z_bins[0], z_bins[-1]])\n",
    "fig.colorbar(im)\n",
    "ax.plot(temp_ft_array, (z_ft_mean/temp_ft_mean * temp_ft_array), color='r', linestyle=':',\n",
    "        label='$\\\\frac{\\overline{z_{500}}}{\\overline{T_{500}}} T_{500}$')\n",
    "ax.set_ylabel(f\"$z_{'{'+str(pressure_ft)+'}'}$ / m\")\n",
    "ax.set_xlabel(f\"$T_{'{'+str(pressure_ft)+'}'}$ / K\")\n",
    "ax.set_title(f'Histogram of all days as a function of {pressure_ft}hPa temperature and geopotential height')\n",
    "ax.legend()\n",
    "ax.set_xlim(temp_bins[0], temp_bins[-1])\n",
    "ax.set_ylim(z_bins[0], z_bins[-1]);"
   ],
   "metadata": {
    "collapsed": false,
    "ExecuteTime": {
     "end_time": "2024-03-25T12:37:59.478241Z",
     "start_time": "2024-03-25T12:37:59.153918Z"
    }
   },
   "outputs": []
  },
  {
   "cell_type": "markdown",
   "source": [
    "## Figures 3B, 3C\n",
    "The vorticity used is manually computed, rather than using that outputted from Isca, so may not be particularly useful."
   ],
   "metadata": {
    "collapsed": false
   }
  },
  {
   "cell_type": "code",
   "execution_count": 7,
   "source": [
    "# Compute free troposphere vorticity at each time, lon and lat\n",
    "cos_lat = np.cos(np.deg2rad(ds_use.lat)).to_numpy().reshape(1, -1, 1)\n",
    "np.gradient(ds_use.vcomp[:, 0], np.deg2rad(ds_use.lon), axis=2)\n",
    "np.gradient(ds_use.ucomp[:, 0] * cos_lat, np.deg2rad(ds_use.lat), axis=1)\n",
    "vorticity = (np.gradient(ds_use.vcomp[:, 0], np.deg2rad(ds_use.lon), axis=2) -\n",
    "             np.gradient(ds_use.ucomp[:, 0] * cos_lat, np.deg2rad(ds_use.lat), axis=1)) / (radius_earth * cos_lat)\n",
    "vorticity = xr.DataArray(vorticity, coords=ds_use.temp[:,0].coords)"
   ],
   "metadata": {
    "collapsed": false,
    "ExecuteTime": {
     "end_time": "2024-03-25T12:38:02.702761Z",
     "start_time": "2024-03-25T12:38:02.034376Z"
    }
   },
   "outputs": []
  },
  {
   "cell_type": "code",
   "execution_count": 8,
   "source": [
    "# Compute theoretical upper bound on temperature if completely dry surface\n",
    "def sphum_sat(temp, pressure):\n",
    "    # Saturation specific humidity\n",
    "    w_sat = mixing_ratio_from_partial_pressure(saturation_vapor_pressure(temp), pressure)\n",
    "    q_sat = w_sat / (1 + w_sat)\n",
    "    return q_sat\n",
    "\n",
    "temp_upper_bound = temp_ft_array + L_v/c_p * sphum_sat(temp_ft_array, pressure_ft_actual * 100) + \\\n",
    "                   g/c_p * z_ft_mean/temp_ft_mean * temp_ft_array"
   ],
   "metadata": {
    "collapsed": false,
    "ExecuteTime": {
     "end_time": "2024-03-25T12:38:02.849228Z",
     "start_time": "2024-03-25T12:38:02.845942Z"
    }
   },
   "outputs": []
  },
  {
   "cell_type": "code",
   "execution_count": 9,
   "source": [
    "quant_plot = 90                 # show top 10 percentile temp in plots\n",
    "lat_min = [0, 40, 70]\n",
    "lat_max = [20, 65, 90]\n",
    "n_lat = len(lat_min)\n",
    "ds_lat = []\n",
    "vorticity_lat = []\n",
    "rh_surf_mean = np.zeros(n_lat)      # mean relative humidity in each latitude region (%)\n",
    "quant_thresh = np.zeros(n_lat)\n",
    "with tqdm(total=n_lat, position=0, leave=True) as pbar:\n",
    "    for i in range(n_lat):\n",
    "        ds_use2 = ds_use.where((np.abs(ds_use.lat)<=lat_max[i]) & (np.abs(ds_use.lat)>=lat_min[i]), drop=True)\n",
    "        ds_use2 = ds_use2[['temp', 'sphum', 'height', 'vor']]      # Only keep min required variables\n",
    "        vorticity2 = vorticity.where((np.abs(ds_use.lat)<=lat_max[i]) & (np.abs(ds_use.lat)>=lat_min[i]), drop=True)\n",
    "\n",
    "        rh_surf_mean[i] = area_weighting(ds_use2.sphum[:, -1]/sphum_sat(ds_use2.temp[:, -1], pressure_surface * 100)).mean() * 100\n",
    "\n",
    "        quant_thresh[i] = ds_use2.temp[:, -1].quantile(quant_plot/100, dim=['time', 'lat', 'lon'])\n",
    "        keep = ds_use2.temp[:, -1] > quant_thresh[i]\n",
    "        vorticity2 = vorticity2.where(keep, drop=True)\n",
    "        # vorticity2 = vorticity2.stack(lon_lat_time=(\"lat\",\"lon\",\"time\"), create_index=False).chunk(dict(lon_lat_time=-1))\n",
    "        vorticity_lat += [vorticity2]\n",
    "\n",
    "        keep = np.expand_dims(keep, 1).repeat(ds_use2.temp.shape[1], axis=1)        # repeat keep for both pressure levels\n",
    "        keep = xr.DataArray(keep, coords=ds_use2.coords)                           # Make it a data array\n",
    "        ds_use2 = ds_use2.where(keep, drop=True)\n",
    "        # Collapse lat, lon and time axis and get rid of any nan values corresponding to surface temp below quant_plot percentile\n",
    "        # ds_use2 = ds_use2.stack(lon_lat_time=(\"lat\",\"lon\",\"time\"), create_index=False).chunk(dict(lon_lat_time=-1))\n",
    "        # ds_use2 = ds_use2.sel(lon_lat_time = ds_use2.lon_lat_time[np.invert(np.isnan(ds_use2.temp[-1]))].to_numpy())\n",
    "        ds_lat += [ds_use2]\n",
    "        pbar.update(1)"
   ],
   "metadata": {
    "collapsed": false,
    "ExecuteTime": {
     "end_time": "2024-03-25T12:38:09.068653Z",
     "start_time": "2024-03-25T12:38:04.204500Z"
    }
   },
   "outputs": []
  },
  {
   "cell_type": "code",
   "execution_count": 10,
   "source": [
    "# Sanity check that manual computation of vorticity is the same as Isca output\n",
    "# Seems to be pretty good except for the high latitudes.\n",
    "fig, ax = plt.subplots(1,3, figsize=(14,5), sharex=True, sharey=True)\n",
    "for i in range(n_lat):\n",
    "    ax[i].scatter(ds_lat[i]['vor'][:, 0], vorticity_lat[i])\n",
    "    ax[i].plot([-1,1], [-1,1], color='k')       # add y=x line\n",
    "    ax[i].set_title(f'${lat_min[i]} \\leq \\\\phi \\leq {lat_max[i]}$')\n",
    "ax[0].set_ylim(-1e-4, 1e-4)\n",
    "ax[0].set_xlim(-1e-4, 1e-4)\n",
    "fig.supxlabel(f'Isca {pressure_ft}hPa Vorticity /'+'$s^{-1}$')\n",
    "ax[0].set_ylabel(f'Manual {pressure_ft}hPa Vorticity /'+'$s^{-1}$')\n",
    "plt.ticklabel_format(axis='both', style='sci', scilimits=(-4,-4))\n",
    "plt.tight_layout();"
   ],
   "metadata": {
    "collapsed": false,
    "ExecuteTime": {
     "end_time": "2024-03-25T12:38:12.586728Z",
     "start_time": "2024-03-25T12:38:10.569808Z"
    }
   },
   "outputs": []
  },
  {
   "cell_type": "code",
   "execution_count": 11,
   "source": [
    "# # This cell takes a long time to run!!\n",
    "# vorticity_max = 0.8 * np.max([np.abs(vorticity_lat[i]).max() for i in range(n_lat)])        # so vorticity on same scale on all plots\n",
    "# fig, ax = plt.subplots(2,3, figsize=(14,8), sharex=True, sharey=True)\n",
    "# for i in range(n_lat):\n",
    "#     im = ax[0, i].scatter(ds_lat[i].temp[:, 0], ds_lat[i].temp[:, -1],\n",
    "#                           c=ds_lat[i].sphum[:, -1]/sphum_sat(ds_lat[i].temp[:, -1], pressure_surface * 100))\n",
    "#     plt.colorbar(im, ax=ax[0, i], label='Surface Relative Humidity')\n",
    "#     im = ax[1, i].scatter(ds_lat[i].temp[:, 0], ds_lat[i].temp[:, -1],\n",
    "#                           c=vorticity_lat[i] * np.sign(vorticity_lat[i].lat), cmap='bwr', vmin=-vorticity_max, vmax=vorticity_max)\n",
    "#     plt.colorbar(im, ax=ax[1, i], label=f'{pressure_ft}hPa Vorticity')\n",
    "#     ax[0, i].set_title(f'${lat_min[i]} \\leq \\\\phi \\leq {lat_max[i]}$')\n",
    "#     for k in range(2):\n",
    "#         # Plot upper bound and upper bound taking account of min surface sphum\n",
    "#         ax[k, i].plot(temp_ft_array, temp_upper_bound, color='k', linestyle='--')\n",
    "#         ax[k, i].plot(temp_ft_array, temp_upper_bound - float(L_v/c_p * ds_lat[i].sphum[:, -1].min()), color='k', linestyle=':')\n",
    "# fig.supxlabel(f\"$T_{'{'+str(pressure_ft)+'}'}$ / K\")\n",
    "# fig.supylabel('$T_s + \\\\frac{g}{c_p}z_s$ ($K$)')\n",
    "# ax[0, 0].set_xlim(np.min([ds_lat[i].temp[:, 0].min() for i in range(n_lat)])-1,\n",
    "#                   np.max([ds_lat[i].temp[:, 0].max() for i in range(n_lat)])+1)\n",
    "# ax[0, 0].set_ylim(quant_thresh.min()-1, 310)\n",
    "# plt.tight_layout()"
   ],
   "metadata": {
    "collapsed": false,
    "ExecuteTime": {
     "end_time": "2024-03-25T12:38:14.832890Z",
     "start_time": "2024-03-25T12:38:14.830790Z"
    }
   },
   "outputs": []
  },
  {
   "cell_type": "markdown",
   "source": [
    "Below I repeat the above plot but by taking the running average rather than plotting each individual point. This is quicker to run and makes the trends clearer."
   ],
   "metadata": {
    "collapsed": false
   }
  },
  {
   "cell_type": "code",
   "execution_count": 12,
   "source": [
    "use_isca_vorticity = True       # if true, will use isca output of vorticity rather than the manual computation\n",
    "if use_isca_vorticity:\n",
    "    vorticity_lat = [ds_lat[i]['vor'][:, 0] for i in range(n_lat)]\n",
    "n_ft_bins = 30\n",
    "n_surf_bins = 30\n",
    "min_data = 10       # only record data if more than this number in the given bin\n",
    "temp_ft_hist_array = np.linspace(np.min([ds_lat[i].temp[:, 0].min() for i in range(n_lat)])-0.001,\n",
    "                                 np.max([ds_lat[i].temp[:, 0].max() for i in range(n_lat)])+0.001, n_ft_bins)\n",
    "temp_surf_hist_array = np.linspace(np.min([ds_lat[i].temp[:, -1].min() for i in range(n_lat)])-0.001,\n",
    "                                  np.max([ds_lat[i].temp[:, -1].max() for i in range(n_lat)])+0.001, n_surf_bins)\n",
    "rh_running_mean = np.full((n_lat, n_ft_bins-1, n_surf_bins-1), np.nan)\n",
    "vorticity_running_mean = np.full((n_lat, n_ft_bins-1, n_surf_bins-1), np.nan)\n",
    "with tqdm(total= n_lat * (n_ft_bins-1) * (n_surf_bins-1), position=0, leave=True) as pbar:\n",
    "    for k in range(n_lat):\n",
    "        rh = ds_lat[k].sphum[:, -1]/sphum_sat(ds_lat[k].temp[:, -1], pressure_surface * 100)\n",
    "        for i in range(n_ft_bins-1):\n",
    "            for j in range(n_surf_bins-1):\n",
    "                keep_ft = np.logical_and(temp_ft_hist_array[i+1] > ds_lat[k].temp[:, 0],\n",
    "                                         ds_lat[k].temp[:, 0] >= temp_ft_hist_array[i])\n",
    "                keep_surf = np.logical_and(temp_surf_hist_array[j+1] > ds_lat[k].temp[:, -1],\n",
    "                                           ds_lat[k].temp[:, -1] >= temp_surf_hist_array[j])\n",
    "                keep = np.logical_and(keep_ft, keep_surf)\n",
    "                if np.sum(keep) > min_data:\n",
    "                    rh_running_mean[k, i, j] = rh.where(keep).mean()\n",
    "                    vorticity_running_mean[k, i, j] = (vorticity_lat[k] * np.sign(vorticity_lat[k].lat)).where(keep).mean()\n",
    "                pbar.update(1)"
   ],
   "metadata": {
    "collapsed": false,
    "ExecuteTime": {
     "end_time": "2024-03-25T12:39:07.202166Z",
     "start_time": "2024-03-25T12:38:16.836514Z"
    }
   },
   "outputs": []
  },
  {
   "cell_type": "code",
   "execution_count": 13,
   "source": [
    "plot_extent = [np.mean(temp_ft_hist_array[:2]), np.mean(temp_ft_hist_array[-2:]),\n",
    "               np.mean(temp_surf_hist_array[:2]), np.mean(temp_surf_hist_array[-2:])]\n",
    "rh_lims = [np.nanmin(rh_running_mean), np.nanmax(rh_running_mean)]\n",
    "vorticity_lims = np.nanmax(np.abs(vorticity_running_mean))\n",
    "vorticity_lims = [-vorticity_lims, vorticity_lims]\n",
    "fig, ax = plt.subplots(2,3, figsize=(14,8), sharex=True, sharey=True)\n",
    "for i in range(n_lat):\n",
    "    im_rh = ax[0, i].imshow(rh_running_mean[i].T, extent=plot_extent, origin='lower', interpolation='bilinear',\n",
    "                            vmin=rh_lims[0], vmax=rh_lims[1], aspect='auto')\n",
    "    im_vort = ax[1, i].imshow(vorticity_running_mean[i].T, extent=plot_extent, origin='lower', interpolation='bilinear',\n",
    "                              vmin=vorticity_lims[0], vmax=vorticity_lims[1], aspect='auto', cmap='bwr')\n",
    "    ax[0, i].set_title(f'${lat_min[i]} \\leq \\\\phi \\leq {lat_max[i]}$')\n",
    "    for k in range(2):\n",
    "        # Plot upper bound and upper bound taking account of min surface sphum\n",
    "        ax[k, i].plot(temp_ft_array, temp_upper_bound, color='k', linestyle='--')\n",
    "        ax[k, i].plot(temp_ft_array, temp_upper_bound - float(L_v/c_p * ds_lat[i].sphum[:, -1].min()), color='k', linestyle=':')\n",
    "fig.supxlabel(f\"$T_{'{'+str(pressure_ft)+'}'}$ / K\")\n",
    "fig.supylabel('$T_s + \\\\frac{g}{c_p}z_s$ ($K$)')\n",
    "ax[0, 0].set_xlim(plot_extent[0],\n",
    "                  plot_extent[1])\n",
    "ax[0, 0].set_ylim(plot_extent[2], 310)\n",
    "plt.colorbar(im_rh, ax=ax[0, -1], label='Surface Relative Humidity')\n",
    "plt.colorbar(im_vort, ax=ax[1, -1], label=f'{pressure_ft}hPa Vorticity /'+'$s^{-1}$')\n",
    "plt.tight_layout();"
   ],
   "metadata": {
    "collapsed": false,
    "ExecuteTime": {
     "end_time": "2024-03-25T12:39:09.937754Z",
     "start_time": "2024-03-25T12:39:09.364283Z"
    }
   },
   "outputs": []
  },
  {
   "cell_type": "code",
   "execution_count": 14,
   "source": [
    "vorticity_max = 0.8 * np.max([np.abs(vorticity_lat[i]).max() for i in range(n_lat)])        # so vorticity on same scale on all plots\n",
    "vorticity_bins = np.linspace(-vorticity_max,vorticity_max,30)\n",
    "fig, ax = plt.subplots(1,1, figsize=(7,5), sharex=True)\n",
    "for i in range(n_lat):\n",
    "    hist = np.histogram((vorticity_lat[i]* np.sign(vorticity_lat[i].lat)).to_numpy().flatten(),\n",
    "                        bins=vorticity_bins)\n",
    "    ax.plot(np.convolve(vorticity_bins, np.ones(2)/2, mode='valid'), hist[0]/np.sum(hist[0]),\n",
    "            label=f'${lat_min[i]} \\leq \\\\phi \\leq {lat_max[i]}$')\n",
    "ax.vlines(0, 0.25, 0, color='k', alpha=0.6, linewidth=0.4)\n",
    "ax.set_ylim(0, 0.25)\n",
    "ax.legend()\n",
    "ax.set_xlabel(f'{pressure_ft}hPa Vorticity')\n",
    "ax.set_ylabel('Probability');"
   ],
   "metadata": {
    "collapsed": false,
    "ExecuteTime": {
     "end_time": "2024-03-25T12:40:16.092548Z",
     "start_time": "2024-03-25T12:40:15.776612Z"
    }
   },
   "outputs": []
  },
  {
   "cell_type": "markdown",
   "source": [
    "In all three regions, the gap between the scatter plot and the dotted line increases as $T_{500}$ does. This is because at each $T_{500}$ value, the minimum surface relative humidity is about the same but because the temperature increases, the saturation specific humidity increases and thus the surface specific humidity also does. So as $T_{500}$ increases, $q - q_{s, min}$ increases.\n",
    "\n",
    "### High Latitudes, $70 \\leq \\phi \\leq 90$\n",
    "From the first plot, it seems that there is a strong trend for the 500hPa temperature to increase with surface relative humidity. This is in contrast to what we expect from Zhang 2023. But for a fixed 500hPa temperature, we see a trend for surface temperature to increase as surface relative humidity decreases, which is what we expect.\n",
    "\n",
    "The second plot shows that there is a trend for the 500hPa temperature to increase as vorticity decreases i.e. becomes more anticyclonic. This matches what we expect from Zhang 2023.\n",
    "\n",
    "This is the region that best matches the results in the paper, even though in the paper the mid latitude region is used. Maybe it is because this region includes the widest range of relative humidities.\n",
    "\n",
    "### Midlatitudes, $40 \\leq \\phi \\leq 65$\n",
    "The second plot shows that the hottest days are associated with anticyclonic behaviour but the trend with $T_{500}$ is less obvious than at high latitudes.\n",
    "\n",
    "For fixed $T_{500}$, there seems to be a slight trend for increasing surface temperature as relative humidity decreases, but again not as strong as at high latitudes.\n",
    "\n",
    "### Tropics, $0 \\leq \\phi \\leq 20$\n",
    "The vorticity plot doesn't show any recognisable trend.\n",
    "At the largest $T_{500}$, there seems to be a trend for surface temperature to increase as relative humidity decreases."
   ],
   "metadata": {
    "collapsed": false
   }
  },
  {
   "cell_type": "markdown",
   "source": [
    "### Figure 2 - Time series of annual hottest days\n",
    "Below, I try to replicate Figure 2 in the paper. For each year in the simulation, I find the hottest day in each region (I actually get 2 values for each year - one in northern hemisphere and one in southern hemisphere, as the hemispheres are equivalent). For each of these days, I keep track of some variables in the 10 days preceeding and 10 days after the hottest day.\n",
    "\n",
    "The plots then show these variables averaged over all years."
   ],
   "metadata": {
    "collapsed": false
   }
  },
  {
   "cell_type": "code",
   "execution_count": 15,
   "source": [
    "# Get info to compute surface and free troposphere saturated MSE on hottest day for each year considered\n",
    "# Keep all pressure values hence use ds[0] not ds_use so can plot a time vs pressure heatmap of variables\n",
    "# Do separately for each hemisphere as should be indentical\n",
    "n_years = int(len(ds_use.time)/360)         # multiply by 2 as each hemisphere is identical so get max from each\n",
    "n_days = 10\n",
    "n_year_days = 360       # number of days in a year\n",
    "max_info = {'temp': np.zeros((n_lat, n_years, 2, 2*n_days+1, ds[0].pfull.size)),\n",
    "            'sphum': np.zeros((n_lat, n_years, 2, 2*n_days+1, ds[0].pfull.size)),\n",
    "            'height': np.zeros((n_lat, n_years, 2, 2*n_days+1, ds[0].pfull.size)),\n",
    "            'omega': np.zeros((n_lat, n_years, 2, 2*n_days+1, ds[0].pfull.size)),\n",
    "            'precipitation': np.zeros((n_lat, n_years, 2, 2*n_days+1)),\n",
    "            'cape': np.zeros((n_lat, n_years, 2, 2*n_days+1)),\n",
    "            'cin': np.zeros((n_lat, n_years, 2, 2*n_days+1))}\n",
    "with tqdm(total= n_lat * n_years * 2, position=0, leave=True) as pbar:\n",
    "    ds_use_max = ds[0].sel(time=slice(use_time_start, np.inf), drop=True)[var_keep]\n",
    "    for i in range(n_lat):\n",
    "        for k in range(2):\n",
    "            if k == 0:\n",
    "                # NH first\n",
    "                ds_max0 = ds_use_max.where((ds_use_max.lat<=lat_max[i]) & (ds_use_max.lat>=lat_min[i]), drop=True)\n",
    "            else:\n",
    "                # SH second\n",
    "                ds_max0 = ds_use_max.where((ds_use_max.lat<=-lat_min[i]) & (ds_use_max.lat>=-lat_max[i]), drop=True)\n",
    "            for j in range(n_years):\n",
    "                # Consider each year in turn\n",
    "                ds_max = ds_max0.sel(time=slice(ds_use.time[j*n_year_days], ds_use.time[(j+1)*n_year_days-1])).load()\n",
    "                max_ind = ds_max.temp[:, -1].argmax(dim=('time', 'lon', 'lat'))\n",
    "                max_ind = {key: int(max_ind[key]) for key in max_ind}\n",
    "                ds_max = ds_max.sel(time=slice(ds_max.time[max_ind['time']-n_days], ds_max.time[max_ind['time']+n_days]))\n",
    "                ds_max = ds_max.sel(lon=ds_max.lon[max_ind['lon']], lat=ds_max.lat[max_ind['lat']])\n",
    "                max_info['temp'][i, j, k] = ds_max.temp\n",
    "                max_info['sphum'][i, j, k] = ds_max.sphum\n",
    "                max_info['height'][i, j, k] = ds_max.height\n",
    "                max_info['omega'][i, j, k] = ds_max.omega\n",
    "                max_info['precipitation'][i, j, k] = ds_max.precipitation\n",
    "                max_info['cape'][i, j, k] = ds_max.cape\n",
    "                max_info['cin'][i, j, k] = ds_max.cin\n",
    "                pbar.update(1)\n",
    "ft_ind = int(np.where(ds_max.pfull == pressure_ft_actual)[0])       # index of arrays corresponding to free troposphere"
   ],
   "metadata": {
    "collapsed": false,
    "ExecuteTime": {
     "end_time": "2024-03-25T12:42:55.461646Z",
     "start_time": "2024-03-25T12:40:33.233011Z"
    }
   },
   "outputs": []
  },
  {
   "cell_type": "code",
   "execution_count": 16,
   "source": [
    "max_mse = moist_static_energy(max_info['temp'][:, :, :, :, -1], max_info['sphum'][:, :, :, :, -1], max_info['height'][:, :, :, :, -1])\n",
    "max_mse_ft = moist_static_energy(max_info['temp'][:, :, :, :, ft_ind],\n",
    "                                 sphum_sat(max_info['temp'][:, :, :, :, ft_ind], pressure_ft_actual*100),\n",
    "                                 max_info['height'][:, :, :, :, ft_ind])\n",
    "\n",
    "# get anomaly of each variable to plot compared to the hottest day\n",
    "# i.e. hottest day for all of these variables will have a value of 0\n",
    "max_var_anomaly = [var - np.expand_dims(var[:, :, :, n_days], 3) for var in\n",
    "                   [max_info['temp'], max_info['cape'], max_info['precipitation'], max_mse, max_mse_ft,\n",
    "                    max_info['height']]]\n",
    "max_var_anomaly[4] = max_mse_ft - np.expand_dims(max_mse[:, :, :, n_days], 3)       # make ft mse anomaly relative to max surface mse"
   ],
   "metadata": {
    "collapsed": false,
    "ExecuteTime": {
     "end_time": "2024-03-25T12:44:03.938446Z",
     "start_time": "2024-03-25T12:44:03.929273Z"
    }
   },
   "outputs": []
  },
  {
   "cell_type": "code",
   "execution_count": 22,
   "source": [
    "fig, ax = plt.subplots(6, n_lat, figsize=(14,10), sharex=True, sharey='row')\n",
    "for i in range(n_lat):\n",
    "    ax[0, i].plot(np.arange(-n_days, n_days+1), np.mean(max_info['temp'][i, :, :, :, -1], axis=(0,1)))\n",
    "    ax[1, i].plot(np.arange(-n_days, n_days+1), np.mean(max_info['cape'][i, :, :, :], axis=(0,1)))\n",
    "    ax[2, i].plot(np.arange(-n_days, n_days+1), np.mean(max_info['precipitation'][i, :, :, :], axis=(0,1)))\n",
    "    ax[3, i].plot(np.arange(-n_days, n_days+1), np.mean(max_mse, axis=(1,2))[i], label='MSE$_s$')\n",
    "    ax[3, i].plot(np.arange(-n_days, n_days+1), np.mean(max_mse_ft, axis=(1,2))[i],\n",
    "                  label=f\"MSE$^*_{'{'+str(pressure_ft)+'}'}$\")\n",
    "    ax[4, i].plot(np.arange(-n_days, n_days+1), np.mean(max_mse_ft-max_mse, axis=(1,2))[i])\n",
    "    ax[4, i].hlines(0, -n_days, n_days, color='k', alpha=0.6, linewidth=0.4)\n",
    "    ax[5, i].plot(np.arange(-n_days, n_days+1), np.mean(max_info['omega'][i, :, :, :, ft_ind], axis=(0,1)))\n",
    "    ax[5, i].hlines(0, -n_days, n_days, color='k', alpha=0.6, linewidth=0.4)\n",
    "    ax[0, i].set_title(f'${lat_min[i]} \\leq \\\\phi \\leq {lat_max[i]}$')\n",
    "for ax_use in ax.flatten():\n",
    "    ylim = ax_use.get_ylim()\n",
    "    ax_use.vlines(0, *ylim, color='k', alpha=0.6, linewidth=0.4)\n",
    "    ax_use.set_ylim(ylim)\n",
    "ax[0, 0].set_ylabel('$T_s$ ($K$)')\n",
    "ax[1, 0].set_ylabel('CAPE ($J/kg$)')\n",
    "ax[2, 0].set_ylabel('Precipitation ($kgm^{-2}s^{-1}$)')\n",
    "ax[3, 0].set_ylabel('MSE ($kJ/kg$)')\n",
    "ax[3, 0].legend()\n",
    "ax[4, 0].set_ylabel(f\"MSE$^*_{'{'+str(pressure_ft)+'}'}$ - MSE$_s$ ($kJ/kg$)\")\n",
    "ax[5, 0].set_ylabel(f\"$\\omega_{'{'+str(pressure_ft)+'}'}$ ($Pa/s$)\")\n",
    "ax[5, 0].invert_yaxis()\n",
    "ax[0, 0].set_xlim(-n_days, n_days)\n",
    "fig.supxlabel('Lag relative to max temperature day (day)')\n",
    "fig.suptitle(f'Average over annual hottest days across {n_years} years')\n",
    "plt.tight_layout();"
   ],
   "metadata": {
    "collapsed": false,
    "ExecuteTime": {
     "end_time": "2024-03-25T12:48:17.090951Z",
     "start_time": "2024-03-25T12:48:15.790700Z"
    }
   },
   "outputs": []
  },
  {
   "cell_type": "markdown",
   "source": [
    "The CAPE, precipitation and $\\omega$ plots all resemble each other i.e. CAPE leads to rising air parcels which leads to them condensing out water as they rise which leads to precipitation.\n",
    "\n",
    "The plot below is the same as that above but before averaging we subtract the value on the hottest day for each year. This way it removes the influence of a particularly anomalous year from the averaging. For the MSE plot, we subtract the surface, $MSE_s$, value on the hottest day from both $MSE_s$ and $MSE^*_{500}$. I leave out $\\omega$ as the signs get confusing.\n",
    "\n",
    "So, in the top 3 plots, the y variable of the blue line is always 0 when the x variable is 0. The fourth plot remains the same as in the above plot."
   ],
   "metadata": {
    "collapsed": false
   }
  },
  {
   "cell_type": "code",
   "execution_count": 154,
   "source": [
    "# Repeat above plots but with anomalies\n",
    "fig, ax = plt.subplots(5, n_lat, figsize=(14,10), sharex=True, sharey='row')\n",
    "for i in range(n_lat):\n",
    "    ax[0, i].plot(np.arange(-n_days, n_days+1), np.mean(max_var_anomaly[0][i, :, :, :, -1], axis=(0,1)), label=\"$T_s$\")\n",
    "    ax[0, i].plot(np.arange(-n_days, n_days+1), np.mean(max_var_anomaly[0][i, :, :, :, ft_ind], axis=(0,1)),\n",
    "                  label=f\"$T_{'{'+str(pressure_ft)+'}'}$\")\n",
    "    ax[1, i].plot(np.arange(-n_days, n_days+1), np.mean(max_var_anomaly[1][i, :, :, :], axis=(0,1)))\n",
    "    ax[2, i].plot(np.arange(-n_days, n_days+1), np.mean(max_var_anomaly[2][i, :, :, :], axis=(0,1)))\n",
    "    ax[3, i].plot(np.arange(-n_days, n_days+1), np.mean(max_var_anomaly[3], axis=(1,2))[i], label='MSE$_s$')\n",
    "    ax[3, i].plot(np.arange(-n_days, n_days+1), np.mean(max_var_anomaly[4], axis=(1,2))[i],\n",
    "                  label=f\"MSE$^*_{'{'+str(pressure_ft)+'}'}$\")\n",
    "    ax[4, i].plot(np.arange(-n_days, n_days+1), np.mean(max_var_anomaly[4]-max_var_anomaly[3], axis=(1,2))[i])\n",
    "    ax[4, i].hlines(0, -n_days, n_days, color='k', alpha=0.6, linewidth=0.4)\n",
    "    ax[0, i].set_title(f'${lat_min[i]} \\leq \\\\phi \\leq {lat_max[i]}$')\n",
    "\n",
    "for i, ax_use in enumerate(ax.flatten()):\n",
    "    ylim = ax_use.get_ylim()\n",
    "    ax_use.vlines(0, *ylim, color='k', alpha=0.6, linewidth=0.4)\n",
    "    ax_use.set_ylim(ylim)\n",
    "ax[0, 0].set_ylabel('$T_s$ ($K$)')\n",
    "ax[1, 0].set_ylabel('CAPE ($J/kg$)')\n",
    "ax[2, 0].set_ylabel('Precipitation ($kgm^{-2}s^{-1}$)')\n",
    "ax[3, 0].set_ylabel('MSE ($kJ/kg$)')\n",
    "ax[0, 0].legend()\n",
    "ax[3, 0].legend()\n",
    "ax[4, 0].set_ylabel(f\"MSE$^*_{'{'+str(pressure_ft)+'}'}$ - MSE$_s$ ($kJ/kg$)\")\n",
    "ax[0, 0].set_xlim(-n_days, n_days)\n",
    "fig.supxlabel('Lag relative to max temperature day (day)')\n",
    "fig.suptitle(f'Average over annual hottest days across {n_years} years - Anomalies relative to hottest day')\n",
    "plt.tight_layout();"
   ],
   "metadata": {
    "collapsed": false,
    "ExecuteTime": {
     "start_time": "2023-04-27T11:00:01.731147Z",
     "end_time": "2023-04-27T11:00:02.526740Z"
    }
   },
   "outputs": []
  },
  {
   "cell_type": "markdown",
   "source": [
    "The paper only considers the mid-latitudes (middle row here), and it is expected that the $MSE_{500}^*$ should exceed $MSE_s$ both before and after the hottest day, and they should be equal on the hottest day. The idea being that the surface temperature can only rise as long as the atmosphere remains convectively stable, when $MSE_s$ exceeds $MSE_{500}^*$ it is no longer stable and surface temperature and thus $MSE_s$ must decrease.\n",
    "\n",
    "We see this trend for the high latitudes (third column) here but not for the other regions.\n",
    "\n",
    "From the paper, we also expect the precipitation to increase after the hottest day, a trend which we see for the tropics but not for the other regions here. However, in Isca, it is the averaged over quite a large grid so may not be that useful to compare to the more localised value in the paper."
   ],
   "metadata": {
    "collapsed": false
   }
  },
  {
   "cell_type": "markdown",
   "source": [
    "### MSE Contributions\n",
    "Below I see how temperature, relative humidity and geopotential height changes combine to give the time series for moist static energy about the warmest days."
   ],
   "metadata": {
    "collapsed": false
   }
  },
  {
   "cell_type": "code",
   "execution_count": 155,
   "source": [
    "def clausius_clapeyron_factor2(temp, p_level):\n",
    "    # p_level is pressure level considering in Pa\n",
    "    # Rather than saying d_sphum_sat_d_temp = alpha \\times sphum_sat,\n",
    "    # here I explicitly compute alpha from the formula for saturation_vapor_pressure using in isca_tools\n",
    "    lambda_const = 4302.645 / (temp - 29.65)**2\n",
    "    return lambda_const * p_level / epsilon * sphum_sat(temp, p_level) / saturation_vapor_pressure(temp)\n",
    "\n",
    "rh_surf = np.zeros((n_lat, n_years, 2, 2*n_days+1))      # in %\n",
    "for i in range(n_lat):\n",
    "    for j in range(n_years):\n",
    "        for j2 in range(2):\n",
    "            for k in range(2*n_days+1):\n",
    "                rh_surf[i, j, j2, k] = 100 * max_info['sphum'][i, j, j2, k, -1] / sphum_sat(\n",
    "                    max_info['temp'][i, j, j2, k, -1], pressure_surface*100)\n",
    "\n",
    "mse_diff_cont = {'temp': np.zeros((n_lat, n_years, 2, 2*n_days+1, 2)),\n",
    "                 'temp_squared': np.zeros((n_lat, n_years, 2, 2*n_days+1, 2)),\n",
    "                 'rh': np.zeros((n_lat, n_years, 2, 2*n_days+1)),\n",
    "                 'non-linear': np.zeros((n_lat, n_years, 2, 2*n_days+1)),\n",
    "                 'height': np.zeros((n_lat, n_years, 2, 2*n_days+1, 2))}\n",
    "for i, p_level in enumerate([pressure_ft_actual*100, pressure_surface*100]):\n",
    "    if i == 1:\n",
    "        q_sat = sphum_sat(max_info['temp'][:, :, :, n_days, -1], p_level)\n",
    "        prefactor = L_v * q_sat\n",
    "        rh_diff = (rh_surf - np.expand_dims(rh_surf[:, :, :, n_days], 3))/100\n",
    "        mse_diff_cont['rh'] =  np.expand_dims(prefactor, 3) * rh_diff\n",
    "        rh_use = rh_surf[:, :, :, n_days]/100\n",
    "        temp_diff = max_var_anomaly[0][:, :, :, :, -1]\n",
    "        height_diff = max_var_anomaly[5][:, :, :, :, -1]\n",
    "        temp_use = max_info['temp'][:, :, :, n_days, -1]\n",
    "    else:\n",
    "        q_sat = sphum_sat(max_info['temp'][:, :, :, n_days, ft_ind], p_level)\n",
    "        rh_use = 1      # free troposphere is saturated\n",
    "        temp_diff = max_var_anomaly[0][:, :, :, :, ft_ind]\n",
    "        height_diff = max_var_anomaly[5][:, :, :, :, ft_ind]\n",
    "        temp_use = max_info['temp'][:, :, :, n_days, ft_ind]\n",
    "    alpha_use = clausius_clapeyron_factor2(max_info['temp'][:, :, :, n_days, i], p_level)\n",
    "    prefactor = (c_p + L_v * alpha_use * q_sat * rh_use)\n",
    "    mse_diff_cont['temp'][:, :, :, :, i] =  np.expand_dims(prefactor, 3) * temp_diff\n",
    "    mse_diff_cont['height'][:, :, :, :, i] = g * height_diff\n",
    "    if i == 1:\n",
    "        prefactor = prefactor/rh_use\n",
    "        mse_diff_cont['non-linear'] = np.expand_dims(prefactor, 3) * temp_diff * rh_diff\n",
    "    prefactor = L_v * rh_use * q_sat * alpha_use * (alpha_use - 2/temp_use)\n",
    "    mse_diff_cont['temp_squared'][:, :, :, :, i] =  np.expand_dims(prefactor, 3) * temp_diff**2"
   ],
   "metadata": {
    "collapsed": false,
    "ExecuteTime": {
     "start_time": "2023-04-27T11:00:02.512245Z",
     "end_time": "2023-04-27T11:00:02.526849Z"
    }
   },
   "outputs": []
  },
  {
   "cell_type": "code",
   "execution_count": 156,
   "source": [
    "# Break down MSE changes into temperature, relative humidity and geopotential height changes\n",
    "default_colors = plt.rcParams['axes.prop_cycle'].by_key()['color']\n",
    "fig, ax = plt.subplots(2, n_lat, figsize=(14,8), sharex=True, sharey=True)\n",
    "for i in range(n_lat):\n",
    "    ax[0, i].plot(np.arange(-n_days, n_days+1), np.mean(max_var_anomaly[3], axis=(1,2))[i], label='$\\Delta$ MSE', color='k')\n",
    "    ax[1, i].plot(np.arange(-n_days, n_days+1),\n",
    "                  np.mean(max_var_anomaly[4]- np.expand_dims(max_var_anomaly[4][:, :, :, n_days], 3), axis=(1,2))[i],\n",
    "                  color='k')\n",
    "    for j in range(2):\n",
    "        ax[j, i].plot(np.arange(-n_days, n_days+1), np.mean(mse_diff_cont['temp'][i, :, :, :, 1-j], axis=(0,1))/1000, color=default_colors[0], label='$\\Delta T$')\n",
    "        ax[j, i].plot(np.arange(-n_days, n_days+1), np.mean(mse_diff_cont['temp_squared'][i, :, :, :, 1-j], axis=(0,1))/1000,\n",
    "                      color=default_colors[0], linestyle=':', label='$\\Delta T^2$')\n",
    "        ax[j, i].plot(np.arange(-n_days, n_days+1), np.mean(mse_diff_cont['height'][i, :, :, :, 1-j], axis=(0,1))/1000,\n",
    "          color=default_colors[3], alpha=0.2, label='$\\Delta z$')\n",
    "    ax[0, i].plot(np.arange(-n_days, n_days+1), np.mean(mse_diff_cont['rh'][i, :, :, :], axis=(0,1))/1000,\n",
    "              color=default_colors[1], label='$\\Delta r$')\n",
    "    ax[0, i].plot(np.arange(-n_days, n_days+1), np.mean(mse_diff_cont['non-linear'][i, :, :, :], axis=(0,1))/1000,\n",
    "                  color=default_colors[2], alpha=0.5, label='$\\Delta r \\Delta T$')\n",
    "    # ax[4, i].hlines(0, -n_days, n_days, color='k', alpha=0.6, linewidth=0.4)\n",
    "    ax[0, i].set_title(f'${lat_min[i]} \\leq \\\\phi \\leq {lat_max[i]}$')\n",
    "\n",
    "for i, ax_use in enumerate(ax.flatten()):\n",
    "    ylim = ax_use.get_ylim()\n",
    "    ax_use.vlines(0, *ylim, color='k', alpha=0.6, linewidth=0.4)\n",
    "    ax_use.hlines(0, -n_days-1, n_days+1, color='k', alpha=0.2, linewidth=0.4)\n",
    "    ax_use.set_ylim(ylim)\n",
    "ax[0, 0].legend()\n",
    "ax[0, 0].set_xlim(-n_days-1, n_days+1)\n",
    "ax[0, 0].set_ylabel(f\"$\\Delta$MSE$_s$ Contribution ($kJ/kg$)\")\n",
    "ax[1, 0].set_ylabel(f\"$\\Delta$MSE$^*_{'{'+str(pressure_ft)+'}'}$ Contribution ($kJ/kg$)\")\n",
    "fig.suptitle(f'Average over annual hottest days across {n_years} years - Anomalies relative to hottest day')\n",
    "plt.tight_layout();"
   ],
   "metadata": {
    "collapsed": false,
    "ExecuteTime": {
     "start_time": "2023-04-27T11:00:02.528970Z",
     "end_time": "2023-04-27T11:00:03.101496Z"
    }
   },
   "outputs": []
  },
  {
   "cell_type": "markdown",
   "source": [
    "From these plots, we see that relative humidity, $\\Delta r$ is only important on the days after the hottest day in the tropics. Geopotential height, $\\Delta z$, is never important.\n",
    "\n",
    "In the tropics, the free troposphere temperature after the hottest day remains constant because the surface temperature decreases meaning the starting temperature of a rising air parcel is lower. However, the surface relative humidity increases, meaning the LCL moves to a lower altitude (see below) as the parcel has to rise less to reach saturation. Thus, it spends less time on the dry adiabat (high lapse rate) and more time on the moist adiabat (low lapse rate), meaning the temperature difference between the surface and free troposphere decreases."
   ],
   "metadata": {
    "collapsed": false
   }
  },
  {
   "cell_type": "markdown",
   "source": [
    "### LCL\n",
    "This looks at how the LCL level varies in the period before and after the hottest day.\n",
    "\n",
    "I use two definitions, one is that labelled by *Isca* which is the actual definition of LCL, i.e. the pressure level where a parcel following the dry adiabat from the surface becomes saturated, so its relative humidity equals 100%.\n",
    "\n",
    "The one labelled $T_{dry}-T$ is determined by the pressure level at which the temperature profile deviates from the dry adiabat by the threshold amount indicated. LCL is really a misnomer for this, but for a convectively neutral profile, you would expect the two LCLs be broadly the same with the temperature profile following the dry adiabat below it and the moist adiabat above it."
   ],
   "metadata": {
    "collapsed": false
   }
  },
  {
   "cell_type": "code",
   "execution_count": 157,
   "source": [
    "# Compute lcl pressure and a version of lcl by eye where temp profile deviates from dry adiabat by > 1K\n",
    "def lcl_pressure_isca(temp_surf, pressure_surf, sphum_surf):\n",
    "    \"\"\"\n",
    "    Returns LCL pressure in Pa.\n",
    "\n",
    "    Args:\n",
    "        temp_surf:\n",
    "        pressure_surf: In Pa.\n",
    "        sphum_surf:\n",
    "    \"\"\"\n",
    "    temp_lcl = lcl_temp(temp_surf, pressure_surf, sphum_surf)\n",
    "    return pressure_surf * (temp_lcl/temp_surf)**(1/kappa)\n",
    "\n",
    "def lcl_pressure_by_eye(temp, pressure, temp_thresh = -1):\n",
    "    \"\"\"\n",
    "    Returns LCL pressure in Pa.\n",
    "\n",
    "    Args:\n",
    "        temp: [-1] is surface\n",
    "        pressure: In Pa, [-1] is surface\n",
    "        temp_thresh: LCL is defined where temp deviates from dry adiabat by this amount\n",
    "    \"\"\"\n",
    "    temp_prof_dev = dry_profile(temp[-1], pressure[-1], pressure) - temp\n",
    "    return interpolate.InterpolatedUnivariateSpline(pressure, temp_prof_dev - temp_thresh).roots()\n",
    "\n",
    "lcl_temp_thresh = -0.7\n",
    "rh_surf = np.zeros((n_lat, n_years, 2, 2*n_days+1))      # in %\n",
    "p_lcl_isca = np.zeros((n_lat, n_years, 2, 2*n_days+1))      # in hPa\n",
    "p_lcl_eye = np.zeros((n_lat, n_years, 2, 2*n_days+1))       # in hPa\n",
    "for i in range(n_lat):\n",
    "    for j in range(n_years):\n",
    "        for j2 in range(2):\n",
    "            for k in range(2*n_days+1):\n",
    "                rh_surf[i, j, j2, k] = 100 * max_info['sphum'][i, j, j2, k, -1] / sphum_sat(\n",
    "                    max_info['temp'][i, j, j2, k, -1], pressure_surface*100)\n",
    "                # Isca output LCL\n",
    "                p_lcl_isca[i, j, j2, k] = lcl_pressure_isca(max_info['temp'][i, j, j2, k, -1], pressure_surface*100,\n",
    "                                                            max_info['sphum'][i, j, j2, k, -1])/100\n",
    "                # By eye LCL\n",
    "                p_lcl_eye[i, j, j2, k] = lcl_pressure_by_eye(max_info['temp'][i, j, j2, k], ds[0].pfull*100, lcl_temp_thresh)/100\n",
    "max_lcl_anomaly = [var - np.expand_dims(var[:, :, :, n_days], 3) for var in\n",
    "                   [p_lcl_isca, p_lcl_eye]]"
   ],
   "metadata": {
    "collapsed": false,
    "ExecuteTime": {
     "start_time": "2023-04-27T11:00:03.111893Z",
     "end_time": "2023-04-27T11:00:03.448755Z"
    }
   },
   "outputs": []
  },
  {
   "cell_type": "code",
   "execution_count": 158,
   "source": [
    "fig, ax = plt.subplots(3, n_lat, figsize=(14,8), sharex=True, sharey='row')\n",
    "for i in range(n_lat):\n",
    "    ax[0, i].plot(np.arange(-n_days, n_days+1), np.mean(p_lcl_isca[i], axis=(0,1)), label='Isca')\n",
    "    ax[0, i].plot(np.arange(-n_days, n_days+1), np.mean(p_lcl_eye[i], axis=(0,1)),\n",
    "                  label='$T_{dry} - T='+f'{lcl_temp_thresh} K$')\n",
    "    ax[1, i].plot(np.arange(-n_days, n_days+1), np.mean(max_lcl_anomaly[0][i], axis=(0,1)), label='Isca')\n",
    "    ax[1, i].plot(np.arange(-n_days, n_days+1), np.mean(max_lcl_anomaly[1][i], axis=(0,1)),\n",
    "                  label='$T_{dry} - T='+f'{lcl_temp_thresh} K$')\n",
    "    ax[1, i].hlines(0, -n_days, n_days, color='k', alpha=0.6, linewidth=0.4)\n",
    "    ax[2, i].plot(np.arange(-n_days, n_days+1), np.mean(rh_surf[i], axis=(0,1)))\n",
    "    ax[2, i].hlines(rh_surf_mean[i], -n_days, n_days, color='k', alpha=0.6, linewidth=0.4)\n",
    "    ax[0, i].set_title(f'${lat_min[i]} \\leq \\\\phi \\leq {lat_max[i]}$')\n",
    "for ax_use in ax.flatten():\n",
    "    ylim = ax_use.get_ylim()\n",
    "    ax_use.vlines(0, *ylim, color='k', alpha=0.6, linewidth=0.4)\n",
    "    ax_use.set_ylim(ylim)\n",
    "ax[0, 0].invert_yaxis()\n",
    "ax[1, 0].invert_yaxis()\n",
    "ax[0, 0].set_xlim(-n_days, n_days)\n",
    "ax[0, 0].legend(title='LCL Definition')\n",
    "ax[0, 0].set_ylabel('$p_{LCL}$ ($hPa$)')\n",
    "ax[1, 0].set_ylabel('$p_{LCL}$ ($hPa$)\\nAnomaly relative to hottest day')\n",
    "ax[2, 0].set_ylabel('Surface relative humidity (%)')\n",
    "fig.supxlabel('Lag relative to max temperature day (day)')\n",
    "fig.suptitle(f'Average over annual hottest days across {n_years} years')\n",
    "plt.tight_layout();"
   ],
   "metadata": {
    "collapsed": false,
    "ExecuteTime": {
     "start_time": "2023-04-27T11:00:03.466089Z",
     "end_time": "2023-04-27T11:00:03.940148Z"
    }
   },
   "outputs": []
  },
  {
   "cell_type": "markdown",
   "source": [
    "##### LCL and RH Trend\n",
    "In the tropics, we see a clear trend for the LCL to move to lower altitudes after the hottest day, independent of the LCL used. This is reflected in an increase in surface relative humidity after the hottest day. The $T_{dry}-T$ LCL shows a sharp increase immediately preceeding the hottest day. This may indicate a physical mechanism i.e. for the hottest days, longer is spent on the dry adiabat, which leads to larger surface temperatures due to the increase in temperature along this profile (dry lapse rate > moist lapse rate).\n",
    "\n",
    "In the relative humidity plots, we see that in the tropics, the days proceeding the hottest day are anomalously dry compared to the mean (grey horizontal line) but the days after are anomalously moist. In the other two regions, the hottest days are drier than the average, as may be expected.\n",
    "This increase in relative humidity after the hottest day explains the aysymmetry in the MSE plot in the above figure for the tropics i.e. that surface MSE after the hottest day is greater than that before it, even though the temperature is the same.\n",
    "\n",
    "In the high latitudes, we see a trend for the $LCL$ to move to lower altitudes on the hottest day.\n",
    "\n",
    "In all three regions, the $T_{dry}-T$ LCL is at a higher altitude than the *Isca* version, indicating that the temperature profile remains approximately equal to the dry adiabat, even above the LCL. The trend before and after the hottest day only differs between the definitions for the tropics though."
   ],
   "metadata": {
    "collapsed": false
   }
  },
  {
   "cell_type": "markdown",
   "source": [
    "### Figure S2 - Time series of specific heatwave events\n",
    "This shows the temperature and MSE timeseries for a specific heatwave event in each of the latitude regions. Average temperature for each vertical level over the shown time periods are subtracted to emphasize the anomalies.\n",
    "\n",
    "It seems that in the tropics and midlatitudes, the free troposphere level is responding to the surface, whereas we would expect it to be the other way around, as is more the case in the high latitudes."
   ],
   "metadata": {
    "collapsed": false
   }
  },
  {
   "cell_type": "code",
   "execution_count": 159,
   "source": [
    "plot_ind = [0, 0]\n",
    "fig, ax = plt.subplots(2,3, figsize=(15,10), sharex=True, sharey='row')\n",
    "for i in range(n_lat):\n",
    "    im_data = max_info['temp'][i, plot_ind[0], plot_ind[1]] - np.mean(max_info['temp'][i, plot_ind[0], plot_ind[1]], axis=0)\n",
    "    im = ax[0, i].pcolormesh(np.arange(-n_days, n_days+1), ds[0].pfull, im_data.T, cmap='bwr', shading='gouraud', vmin=-6, vmax=6)\n",
    "    ax[0, i].set_title(f'${lat_min[i]} \\leq \\\\phi \\leq {lat_max[i]}$')\n",
    "    ax[0, i].hlines(pressure_ft_actual, -n_days, n_days, color='k', alpha=0.6, linewidth=0.4)\n",
    "    ax[1, i].plot(np.arange(-n_days, n_days+1), max_var_anomaly[2][i, plot_ind[0], plot_ind[1], :], label='MSE$_s$')\n",
    "    ax[1, i].plot(np.arange(-n_days, n_days+1), max_var_anomaly[3][i, plot_ind[0], plot_ind[1], :],\n",
    "                  label=f\"MSE$^*_{'{'+str(pressure_ft)+'}'}$\")\n",
    "for ax_use in ax.flatten():\n",
    "    ylim = ax_use.get_ylim()\n",
    "    ax_use.vlines(0, *ylim, color='k', alpha=0.6, linewidth=0.4)\n",
    "    ax_use.set_ylim(ylim)\n",
    "# cbar_ax = fig.add_axes([0.85, 0.15, 0.05, 0.7])\n",
    "fig.colorbar(im, ax=ax[0, i], label='($K$)', aspect=100, pad=0.01, fraction=0.01)\n",
    "ax[0, 0].invert_yaxis()\n",
    "ax[0, 0].set_ylabel('Pressure / $hPa$')\n",
    "ax[1, 0].set_ylabel('MSE - MSE$_s(T_{max})$ / ($kJ/kg$)')\n",
    "ax[1, 0].legend()\n",
    "fig.supxlabel('Lag relative to max temperature day (day)')\n",
    "fig.suptitle(f'Year {plot_ind[0]}, ' + ('Northern Hemisphere' if plot_ind[1]==0 else 'Southern Hemisphere') + ' Hottest Day')\n",
    "plt.tight_layout();"
   ],
   "metadata": {
    "collapsed": false,
    "ExecuteTime": {
     "start_time": "2023-04-27T11:00:03.949789Z",
     "end_time": "2023-04-27T11:00:04.466311Z"
    }
   },
   "outputs": []
  },
  {
   "cell_type": "markdown",
   "source": [
    "### Figure S6\n",
    "Below I try to replicate figure S6 in the supplementary material by plotting the temperature profile on days immediately preceeding the hottest day."
   ],
   "metadata": {
    "collapsed": false
   }
  },
  {
   "cell_type": "code",
   "execution_count": 160,
   "source": [
    "n_days_preceed = 4\n",
    "warm_colors = plt.cm.jet(np.linspace(0,1,n_days_preceed+1))\n",
    "fig, ax = plt.subplots(3,1, figsize=(15,10), sharey=True, sharex=True)\n",
    "for i in range(n_lat):\n",
    "    ax[i].set_title(f'${lat_min[i]} \\leq \\\\phi \\leq {lat_max[i]}$')\n",
    "    for j in range(n_days-n_days_preceed, n_days+1):\n",
    "        ax[i].plot(max_info['temp'][i, plot_ind[0], plot_ind[1]][j], ds[0].pfull, label=f'{j-n_days}',\n",
    "                   color=warm_colors[j-n_days+n_days_preceed])\n",
    "ax[0].legend(title='Day preceeding\\nhottest day')\n",
    "ax[0].invert_yaxis()\n",
    "ax[0].set_ylim(pressure_surface, 400)\n",
    "ax[0].set_xlim(245, 305)\n",
    "fig.supylabel('Pressure / $hPa$')\n",
    "ax[-1].set_xlabel('Temperature / $K$')\n",
    "fig.suptitle(f'Year {plot_ind[0]}, ' + ('Northern Hemisphere' if plot_ind[1]==0 else 'Southern Hemisphere') + ' Hottest Day')\n",
    "plt.tight_layout();"
   ],
   "metadata": {
    "collapsed": false,
    "ExecuteTime": {
     "start_time": "2023-04-27T11:00:04.466303Z",
     "end_time": "2023-04-27T11:00:04.732226Z"
    }
   },
   "outputs": []
  },
  {
   "cell_type": "markdown",
   "source": [
    "#### Focus on Tropics\n",
    "In the tropics, it appears that all days follow the same profile in the free troposphere, around 500 hPa, but the hottest day changes to a dry adiabat at higher altitude (lower pressure) than the other days and hence when it reaches the surface, it is hotter. This would make sense if on the hottest day, the relative humidity was less, so it has to reach higher altitudes to get saturated - spends more time on the dry adiabat.\n",
    "\n",
    "However, from the plot below, we see that the pressure of the LCL does not change much on the hottest day from the days preceeding it."
   ],
   "metadata": {
    "collapsed": false
   }
  },
  {
   "cell_type": "code",
   "execution_count": 192,
   "source": [
    "trop_ind = 0\n",
    "fig, ax = plt.subplots(2,1, figsize=(6,5), sharex=True)\n",
    "\n",
    "ax[0].plot(np.arange(-n_days, n_days+1), p_lcl_isca[trop_ind, plot_ind[0], plot_ind[1]], label='Isca')\n",
    "ax[0].plot(np.arange(-n_days, n_days+1), p_lcl_eye[trop_ind, plot_ind[0], plot_ind[1]], label='$T_{dry} - T='+f'{lcl_temp_thresh} K$')\n",
    "ax[1].plot(np.arange(-n_days, n_days+1), max_info['cape'][trop_ind, plot_ind[0], plot_ind[1]], color='blue')\n",
    "ax[1].set_ylabel('CAPE ($J/kg$)', color='blue')\n",
    "ax2 = ax[1].twinx()\n",
    "ax2.plot(np.arange(-n_days, n_days+1), max_info['cin'][trop_ind, plot_ind[0], plot_ind[1]], color='orange')\n",
    "ax2.set_ylabel('CIN ($J/kg$)', color='orange')\n",
    "for ax_use in ax.flatten():\n",
    "    ylim = ax_use.get_ylim()\n",
    "    ax_use.vlines(0, *ylim, color='k', alpha=0.6, linewidth=0.4)\n",
    "    ax_use.set_ylim(ylim)\n",
    "ax[0].set_xlim(-n_days, n_days)\n",
    "ax[0].invert_yaxis()\n",
    "ax[0].legend()\n",
    "ax[0].set_ylabel('LCL Pressure / $hPa$')\n",
    "ax[0].set_title(f'${lat_min[trop_ind]} \\leq \\\\phi \\leq {lat_max[trop_ind]}$')\n",
    "fig.supxlabel('Lag relative to max temperature day (day)')\n",
    "fig.suptitle(f'Year {plot_ind[0]}, ' + ('Northern Hemisphere' if plot_ind[1]==0 else 'Southern Hemisphere') + ' Hottest Day')\n",
    "plt.tight_layout();"
   ],
   "metadata": {
    "collapsed": false,
    "ExecuteTime": {
     "start_time": "2023-04-27T11:35:10.560103Z",
     "end_time": "2023-04-27T11:35:10.784229Z"
    }
   },
   "outputs": []
  },
  {
   "cell_type": "markdown",
   "source": [
    "But clearly, the LCL level indicated in the above plot does not match the transition from dry to moist adiabat as shown below. We see that there is an altitude range between the green and yellow lines, which is close to the dry adiabat. Then above the yellow line, we see that the temperature profile closely follows the moist adiabat."
   ],
   "metadata": {
    "collapsed": false
   }
  },
  {
   "cell_type": "code",
   "execution_count": 202,
   "source": [
    "# Plot temperature profile for a single day\n",
    "def get_temp_lcl(p_lcl, p_surf, temp_surf):\n",
    "    return temp_surf * (p_lcl/p_surf)**kappa\n",
    "\n",
    "day_plot = n_days-5\n",
    "adiabat_labels = ['Moist Adiabat (Isca)', 'Moist Adiabat ($T_{dry} - T='+f'{lcl_temp_thresh} K$)', 'Dry Adiabat']\n",
    "adiabat_linestyles = ['--', ':']\n",
    "\n",
    "adiabat_temp_surf = max_info['temp'][trop_ind, plot_ind[0], plot_ind[1], day_plot, -1]\n",
    "adiabat_p_lcl = [var[trop_ind, plot_ind[0], plot_ind[1], day_plot] for var in [p_lcl_isca, p_lcl_eye]]\n",
    "adiabat_temp_lcl = [get_temp_lcl(adiabat_p_lcl[i], pressure_surface, adiabat_temp_surf) for i in range(2)]\n",
    "adiabat_profiles = [moist_profile(adiabat_temp_lcl[i], adiabat_p_lcl[i] * 100, ds[0].pfull * 100) for i in range(2)]\n",
    "\n",
    "fig, ax = plt.subplots(1, 3, figsize=(14,8), gridspec_kw={'width_ratios': [4, 1, 1]}, sharey=True)\n",
    "# Plot actual profile\n",
    "ax[0].plot(max_info['temp'][trop_ind, plot_ind[0], plot_ind[1], day_plot], ds[0].pfull, label='Actual Profile', color='k', alpha=0.6)\n",
    "# Plot adiabats\n",
    "for i in range(2):\n",
    "    ax[0].plot(adiabat_profiles[i], ds[0].pfull, color='b', linestyle=adiabat_linestyles[i], label=adiabat_labels[i])\n",
    "ax[0].plot(dry_profile(adiabat_temp_surf, pressure_surface * 100, ds[0].pfull * 100),\n",
    "        ds[0].pfull, color='r', linestyle=':', label=adiabat_labels[2])\n",
    "ax[0].hlines(p_lcl_isca[trop_ind, plot_ind[0], plot_ind[1], day_plot], 200, 320, color='g', alpha=0.3,\n",
    "             label='LCL (Isca)')\n",
    "ax[0].hlines(p_lcl_eye[trop_ind, plot_ind[0], plot_ind[1], day_plot], 200, 320, color='orange', alpha=0.3,\n",
    "             label='LCL ($T_{dry} - T='+f'{lcl_temp_thresh} K$)')\n",
    "ax[0].legend()\n",
    "ax[0].invert_yaxis()\n",
    "ax[0].set_ylim(pressure_surface, 300)\n",
    "ax[0].set_xlim(240, 305)\n",
    "ax[0].set_ylabel('Pressure / $hPa$')\n",
    "ax[0].set_xlabel('Temperature / $K$')\n",
    "if day_plot == n_days:\n",
    "    day_label = 'Hottest Day'\n",
    "elif day_plot < n_days:\n",
    "    day_label = f'{np.abs(day_plot-n_days)} days before Hottest Day'\n",
    "else:\n",
    "    day_label = f'{np.abs(day_plot-n_days)} days after Hottest Day'\n",
    "ax[0].set_title(f'Year {plot_ind[0]}, ' + ('Northern Hemisphere' if plot_ind[1]==0 else 'Southern Hemisphere') + f' {day_label}\\n'\n",
    "                f'${lat_min[trop_ind]} \\leq \\\\phi \\leq {lat_max[trop_ind]}$')\n",
    "\n",
    "# Sanity check that warmer adiabat has same MSE as surface\n",
    "for i in range(2):\n",
    "    ax[1].plot(moist_static_energy(adiabat_profiles[i], sphum_sat(adiabat_profiles[i], ds[0].pfull * 100),\n",
    "                                   max_info['height'][trop_ind, plot_ind[0], plot_ind[1], day_plot]), ds[0].pfull,\n",
    "               color='b', linestyle=adiabat_linestyles[i])\n",
    "ax[1].vlines(max_mse[trop_ind, plot_ind[0], plot_ind[1], day_plot], 0, 1000, color='k', alpha=0.2, label='$\\overline{MSE_s}$')\n",
    "ax[1].plot(moist_static_energy(max_info['temp'][trop_ind, plot_ind[0], plot_ind[1], day_plot],\n",
    "                    sphum_sat(max_info['temp'][trop_ind, plot_ind[0], plot_ind[1], day_plot], ds[0].pfull*100),\n",
    "                    max_info['height'][trop_ind, plot_ind[0], plot_ind[1], day_plot]), ds[0].pfull,\n",
    "           color='k', label='$\\overline{MSE_{sat}}$')\n",
    "ax[1].legend()\n",
    "if trop_ind <= 1:\n",
    "    ax[1].set_xlim(330, 350)\n",
    "else:\n",
    "    ax[1].set_xlim(315, 330)\n",
    "ax[1].set_xlabel('$MSE$ / $kJ/kg$')\n",
    "ax[2].plot(max_info['omega'][trop_ind, plot_ind[0], plot_ind[1], day_plot], ds[0].pfull, color='k')\n",
    "ax[2].vlines(0, 0, 1000, color='k', alpha=0.5, linewidth=0.5)\n",
    "ax[2].set_xlabel('$\\omega$ / $Pa/s$')\n",
    "plt.tight_layout();"
   ],
   "metadata": {
    "collapsed": false,
    "ExecuteTime": {
     "start_time": "2023-04-28T15:26:46.055795Z",
     "end_time": "2023-04-28T15:26:46.407865Z"
    }
   },
   "outputs": []
  },
  {
   "cell_type": "markdown",
   "source": [
    "The plot below is the same as that above but is an average over all of the hottest days."
   ],
   "metadata": {
    "collapsed": false
   }
  },
  {
   "cell_type": "code",
   "execution_count": 194,
   "source": [
    "# Plot temperature profile averaged over all hottest days\n",
    "adiabat_temp_surf = np.mean(max_info['temp'][trop_ind, :, :, day_plot, -1])\n",
    "# temperature so match convectively neutral profile\n",
    "\n",
    "# Compute lcl from the mean surface temp than from the average of each LCL individually\n",
    "adiabat_p_lcl = np.zeros(2)\n",
    "adiabat_p_lcl[0] = lcl_pressure_isca(adiabat_temp_surf, pressure_surface*100,\n",
    "                                     np.mean(max_info['sphum'][trop_ind, :, :, day_plot, -1]))/100\n",
    "adiabat_p_lcl[1] = lcl_pressure_by_eye(np.mean(max_info['temp'][trop_ind, :, :, day_plot], axis=(0,1)), ds[0].pfull*100,\n",
    "                                       lcl_temp_thresh)/100\n",
    "# adiabat_p_lcl = [lcl_pressure_by_eye(np.mean(max_info['temp'][trop_ind, :, :, n_days], axis=(0,1)), ds[0].pfull*100)/100\n",
    "#                  for var in [p_lcl_isca, p_lcl_eye]]\n",
    "adiabat_temp_lcl = [get_temp_lcl(adiabat_p_lcl[i], pressure_surface, adiabat_temp_surf) for i in range(2)]\n",
    "adiabat_profiles = [moist_profile(adiabat_temp_lcl[i], adiabat_p_lcl[i] * 100, ds[0].pfull * 100) for i in range(2)]\n",
    "\n",
    "fig, ax = plt.subplots(1, 3, figsize=(14,8), gridspec_kw={'width_ratios': [4, 1, 1]}, sharey=True)\n",
    "for i in range(max_info['temp'].shape[1]):\n",
    "    for j in range(max_info['temp'].shape[2]):\n",
    "        if i + j == 0:\n",
    "            label = 'Actual Profile'\n",
    "        else:\n",
    "            label = None\n",
    "        ax[0].plot(max_info['temp'][trop_ind, i, j][day_plot], ds[0].pfull, label=label,\n",
    "                color='k', alpha=0.2)\n",
    "for i in range(2):\n",
    "    ax[0].plot(adiabat_profiles[i], ds[0].pfull, color='b', linestyle=adiabat_linestyles[i], label=adiabat_labels[i])\n",
    "ax[0].plot(dry_profile(adiabat_temp_surf, pressure_surface * 100, ds[0].pfull * 100),\n",
    "        ds[0].pfull, color='r', linestyle=':', label=adiabat_labels[2])\n",
    "# for temp_500 in range(245, 285, 10):\n",
    "#     ax.plot(moist_profile(temp_500, pressure_ft_actual * 100, ds[0].pfull * 100),\n",
    "#             ds[0].pfull, color='b', linestyle=':', label=adiabat_labels[0])\n",
    "#     ax.plot(dry_profile(temp_500+2, pressure_ft_actual * 100, ds[0].pfull * 100),\n",
    "#         ds[0].pfull, color='r', linestyle=':', label=adiabat_labels[1])\n",
    "#     adiabat_labels = [None, None]\n",
    "ax[0].hlines(p_lcl_isca[trop_ind, :, :, day_plot].flatten(), 200, 320, color='g', alpha=0.1, label='LCL (Isca)')\n",
    "ax[0].hlines(p_lcl_eye[trop_ind, :, :, day_plot].flatten(), 200, 320, color='orange', alpha=0.1, label='LCL ($T_{dry} - T='+f'{lcl_temp_thresh} K$)')\n",
    "ax[0].legend()\n",
    "ax[0].invert_yaxis()\n",
    "ax[0].set_ylim(pressure_surface, 200)\n",
    "ax[0].set_xlim(220, 315)\n",
    "ax[0].set_ylabel('Pressure / $hPa$')\n",
    "ax[0].set_xlabel('Temperature / $K$')\n",
    "ax[0].set_title(f'Temperature Profile on {day_label} for each of {n_years} years in each hemisphere\\n'\n",
    "                f'${lat_min[trop_ind]} \\leq \\\\phi \\leq {lat_max[trop_ind]}$')\n",
    "\n",
    "# Sanity check that warmer adiabat has same MSE as surface\n",
    "for i in range(2):\n",
    "    ax[1].plot(moist_static_energy(adiabat_profiles[i], sphum_sat(adiabat_profiles[i], ds[0].pfull * 100),\n",
    "                                   np.mean(max_info['height'][trop_ind, :, :, day_plot], axis=(0,1))), ds[0].pfull,\n",
    "               color='b', linestyle=adiabat_linestyles[i])\n",
    "ax[1].vlines(np.mean(max_mse[trop_ind, :, :, day_plot], axis=(0,1)), 0, 1000, color='k', alpha=0.2, label='$\\overline{MSE_s}$')\n",
    "ax[1].plot(moist_static_energy(np.mean(max_info['temp'][trop_ind, :, :, day_plot], axis=(0, 1)),\n",
    "                    sphum_sat(np.mean(max_info['temp'][trop_ind, :, :, day_plot], axis=(0, 1)), ds[0].pfull*100),\n",
    "                    np.mean(max_info['height'][trop_ind, :, :, day_plot], axis=(0, 1))), ds[0].pfull,\n",
    "           color='k', label='$\\overline{MSE_{sat}}$')\n",
    "ax[1].legend()\n",
    "if trop_ind <= 1:\n",
    "    ax[1].set_xlim(320, 350)\n",
    "else:\n",
    "    ax[1].set_xlim(315, 330)\n",
    "ax[1].set_xlabel('$MSE$ / $kJ/kg$')\n",
    "ax[2].plot(np.mean(max_info['omega'][trop_ind, :, :, day_plot], axis=(0, 1)), ds[0].pfull, color='k')\n",
    "ax[2].vlines(0, 0, 1000, color='k', alpha=0.5, linewidth=0.5)\n",
    "ax[2].set_xlabel('$\\omega$ / $Pa/s$')\n",
    "plt.tight_layout();"
   ],
   "metadata": {
    "collapsed": false,
    "ExecuteTime": {
     "start_time": "2023-04-27T11:35:11.341425Z",
     "end_time": "2023-04-27T11:35:11.624370Z"
    }
   },
   "outputs": []
  },
  {
   "cell_type": "markdown",
   "source": [
    "The temperature profile for these hottest days seem to follow the dry adiabat from the surface up to where it intersects the lower moist adiabat at about 800hPa. Then there is a little bit of CAPE where the blue dotted line is warmer than the black lines between around 780hPa and 700hPa. At pressures lower than this, the environmental profile is warmer than the moist adiabat and so at 500hPa we have the free troposphere saturated MSE (as given by black line) being greater than the surface MSE (as given by the blue dotted line).\n",
    "\n",
    "However, the LCL computed by Isca is given by the green line. A parcel following the dry adiabat up to this pressure and then following the higher moist adiabat would have surface MSE greater than the free troposphere saturated MSE at 500hPa.\n",
    "\n",
    "So maybe, rather than using entrainment, we can explain why in Isca the surface MSE is greater than the free troposphere saturated MSE by using this difference between expected LCL and actual LCL.\n",
    "\n",
    "The plot on the right is just a sanity check that the LCL calculation is correct i.e. that the surface MSE matches the free troposphere saturated MSE on the *Isca* moist adiabat. This is indeed the case as the blue dashed line matches up well to the grey line. The grey line is the average surface moist static energy over all grey lines in the left plot.\n",
    "The fact that the black solid line is approximately equal to the blue dotted line for most of the free troposphere, implies that the hottest day in the tropics is convectively neutral, as long as we use this new formulation of the LCL level, rather than that given by Isca.\n",
    "\n",
    "Below, we show the *bye eye* LCL before and after the hottest day. This is defined by the pressure where $T_{dry} - T = -0.7K$, where $T_{dry}$ is the dry adiabat temperature. Clearly, the temporal evolution of this definition of LCL is more in keeping with what we expect i.e. the hottest day spends longest on dry adiabat so has LCL at highest altitude."
   ],
   "metadata": {
    "collapsed": false
   }
  },
  {
   "cell_type": "markdown",
   "source": [
    "#### Lapse Rate Deviation\n",
    "The plot below shows the lapse rate deviation for a specific heatwave event in the days proceeding and after the hottest day. On the days proceeding it, it very closely follows the dry adiabat up to the LCL. On the days after it, it starts deviating from the dry adiabat basically from the surface."
   ],
   "metadata": {
    "collapsed": false
   }
  },
  {
   "cell_type": "code",
   "execution_count": 195,
   "source": [
    "fig, ax = plt.subplots(1, 2, figsize=(14,6), gridspec_kw={'width_ratios': [2, 1]}, sharey=True)\n",
    "for j in range(n_days-n_days_preceed, n_days+1):\n",
    "\n",
    "    temp_prof_dev = dry_profile(max_info['temp'][trop_ind, plot_ind[0], plot_ind[1]][j][-1], pressure_surface*100, ds[0].pfull*100) \\\n",
    "                    -max_info['temp'][trop_ind, plot_ind[0], plot_ind[1]][j]\n",
    "    ax[0].plot(temp_prof_dev, ds[0].pfull,\n",
    "             color=warm_colors[j-n_days+n_days_preceed], alpha=0.8, label=f'{j-n_days}')\n",
    "for j in range(n_days+1, n_days+n_days_preceed+1):\n",
    "    temp_prof_dev = dry_profile(max_info['temp'][trop_ind, plot_ind[0], plot_ind[1]][j][-1], pressure_surface*100, ds[0].pfull*100)\\\n",
    "                    -max_info['temp'][trop_ind, plot_ind[0], plot_ind[1]][j]\n",
    "    ax[0].plot(temp_prof_dev, ds[0].pfull,\n",
    "             color=warm_colors[-(j-n_days+1)], linestyle=':', alpha=0.5, label=f'{j-n_days}')\n",
    "\n",
    "ax[0].vlines(lcl_temp_thresh, 1000, 700, color='grey', alpha=0.3, linewidth=0.7)\n",
    "ax[1].vlines(0, 1000, 700, color='grey', alpha=0.3, linewidth=0.7)\n",
    "ax[1].plot(np.arange(-n_days_preceed, n_days_preceed+1),\n",
    "           p_lcl_isca[trop_ind, plot_ind[0], plot_ind[1]][n_days-n_days_preceed: n_days+n_days_preceed+1], label='Isca')\n",
    "ax[1].plot(np.arange(-n_days_preceed, n_days_preceed+1),\n",
    "           p_lcl_eye[trop_ind, plot_ind[0], plot_ind[1]][n_days-n_days_preceed: n_days+n_days_preceed+1],\n",
    "           label='$T_{dry} - T='+f'{lcl_temp_thresh} K$')\n",
    "ax[0].invert_yaxis()\n",
    "ax[0].legend(title='Day relative to\\nhottest day', fontsize=7)\n",
    "ax[1].legend(title='LCL')\n",
    "ax[0].set_xlim(-5,0.5)\n",
    "ax[0].set_ylim(1000, 700)\n",
    "ax[0].set_ylabel('Pressure / $hPa$')\n",
    "ax[1].set_xlim(-n_days_preceed,n_days_preceed)\n",
    "ax[1].set_xlabel('Lag relative to max temperature day (day)')\n",
    "ax[0].set_xlabel('$T_{dry} - T$ / $K$')\n",
    "fig.suptitle(f'Year {plot_ind[0]}, ' + ('Northern Hemisphere' if plot_ind[1]==0 else 'Southern Hemisphere') + ' Hottest Day\\n'+\n",
    "             f'${lat_min[trop_ind]} \\leq \\\\phi \\leq {lat_max[trop_ind]}$')\n",
    "plt.tight_layout();"
   ],
   "metadata": {
    "collapsed": false,
    "ExecuteTime": {
     "start_time": "2023-04-27T11:35:11.631836Z",
     "end_time": "2023-04-27T11:35:11.834421Z"
    }
   },
   "outputs": []
  },
  {
   "cell_type": "markdown",
   "source": [
    "### MSE with different LCL\n",
    "The MSE computed at the surface is equal to the saturated MSE along the moist adiabat that intersects the Isca LCL as shown in the right plot of the temperature profile figure above. Below we see how the MSE trend before and after the hottest day compares if we instead assume the surface MSE is equal to the saturated MSE along the moist adiabat that intersects the $T_{dry}-T$ LCL.\n",
    "\n",
    "Using this different $MSE_s$ in orange, we see that on the days proceeding the hottest day, the surface MSE is less than the free troposphere saturated MSE (black), as we may expect from the mechanism in zhang 2023. But on the days after it, we see a spike in surface MSE, above the free troposphere value, and it remains slightly above it after the spike."
   ],
   "metadata": {
    "collapsed": false
   }
  },
  {
   "cell_type": "code",
   "execution_count": 196,
   "source": [
    "def get_mse_surf_by_eye(p_lcl, temp_surf, pressure_surf, pressure_free_trop, height_ft):\n",
    "    \"\"\"\n",
    "    Returns MSE in kJ/kg\n",
    "    Args:\n",
    "        p_lcl: In Pa\n",
    "        temp_surf:\n",
    "        pressure_surf: In Pa\n",
    "        pressure_free_trop: In Pa\n",
    "        height_ft:\n",
    "    \"\"\"\n",
    "    temp_lcl = get_temp_lcl(p_lcl, pressure_surf, temp_surf)\n",
    "    temp_ft = moist_profile(temp_lcl, p_lcl, pressure_free_trop)\n",
    "    return moist_static_energy(temp_ft, sphum_sat(temp_ft, pressure_free_trop), height_ft)\n",
    "\n",
    "mse_surf_eye_single = [float(get_mse_surf_by_eye(p_lcl_eye[trop_ind, plot_ind[0], plot_ind[1], i]*100,\n",
    "                              max_info['temp'][trop_ind, plot_ind[0], plot_ind[1], i, -1], pressure_surface*100,\n",
    "                              np.asarray([pressure_ft_actual])*100,\n",
    "                              max_info['height'][trop_ind, plot_ind[0], plot_ind[1], i, ft_ind]))\n",
    "             for i in range(2*n_days+1)]\n",
    "fig, ax = plt.subplots(1,1, figsize=(6,4))\n",
    "ax.plot(np.arange(-n_days, n_days+1), max_mse[trop_ind, plot_ind[0], plot_ind[1]], label='$MSE_s$ (Isca)')\n",
    "ax.plot(np.arange(-n_days, n_days+1), mse_surf_eye_single, label='$MSE_s$ ($T_{dry} - T='+f'{lcl_temp_thresh} K$)')\n",
    "ax.plot(np.arange(-n_days, n_days+1), moist_static_energy(max_info['temp'][trop_ind, plot_ind[0], plot_ind[1], :, ft_ind],\n",
    "                             sphum_sat(max_info['temp'][trop_ind, plot_ind[0], plot_ind[1], :, ft_ind], pressure_ft_actual*100),\n",
    "                             max_info['height'][trop_ind, plot_ind[0], plot_ind[1], :, ft_ind]),\n",
    "         label=f\"MSE$^*_{'{'+str(pressure_ft)+'}'}$\", color='k')\n",
    "\n",
    "for ax_use in [ax]:\n",
    "    ylim = ax_use.get_ylim()\n",
    "    ax_use.vlines(0, *ylim, color='k', alpha=0.6, linewidth=0.4)\n",
    "    ax_use.set_ylim(ylim)\n",
    "ax.set_xlim(-n_days, n_days)\n",
    "ax.legend(fontsize=7)\n",
    "ax.set_ylabel('MSE / $kJ/kg$')\n",
    "ax.set_title(f'${lat_min[trop_ind]} \\leq \\\\phi \\leq {lat_max[trop_ind]}$')\n",
    "ax.set_xlabel('Lag relative to max temperature day (day)')\n",
    "fig.suptitle(f'Year {plot_ind[0]}, ' + ('Northern Hemisphere' if plot_ind[1]==0 else 'Southern Hemisphere') + ' Hottest Day');"
   ],
   "metadata": {
    "collapsed": false,
    "ExecuteTime": {
     "start_time": "2023-04-27T11:35:11.839005Z",
     "end_time": "2023-04-27T11:35:11.966220Z"
    }
   },
   "outputs": []
  },
  {
   "cell_type": "markdown",
   "source": [
    "The figure below is the same as that above but averaged over all the hottest days for each of the three latitude regions. The results for the tropics are broadly the same as mentioned above.\n",
    "\n",
    "In the midlatitudes and polar regions, we see the orange line is always below the black line, indicating that convective neutrality is never quite reached. We also see a spike in the orange line on the hottest day for these regions."
   ],
   "metadata": {
    "collapsed": false
   }
  },
  {
   "cell_type": "code",
   "execution_count": 197,
   "source": [
    "mse_surf_eye = np.zeros((n_lat, n_years, 2, 2*n_days+1))\n",
    "for i in range(n_lat):\n",
    "    for j in range(n_years):\n",
    "        for j2 in range(2):\n",
    "            for k in range(2*n_days+1):\n",
    "                mse_surf_eye[i, j, j2, k] = get_mse_surf_by_eye(p_lcl_eye[i, j, j2, k]*100,\n",
    "                                                                max_info['temp'][i, j, j2, k, -1], pressure_surface*100,\n",
    "                                                                np.asarray([pressure_ft_actual])*100,\n",
    "                                                                max_info['height'][i, j, j2, k, ft_ind])"
   ],
   "metadata": {
    "collapsed": false,
    "ExecuteTime": {
     "start_time": "2023-04-27T11:35:11.965717Z",
     "end_time": "2023-04-27T11:35:12.384608Z"
    }
   },
   "outputs": []
  },
  {
   "cell_type": "code",
   "execution_count": 198,
   "source": [
    "fig, ax = plt.subplots(2, n_lat, figsize=(14,6), sharex=True, sharey='row')\n",
    "for i in range(n_lat):\n",
    "    ax[0, i].plot(np.arange(-n_days, n_days+1), np.mean(max_mse, axis=(1,2))[i], label='$MSE_s$ (Isca)')\n",
    "    ax[0, i].plot(np.arange(-n_days, n_days+1), np.mean(mse_surf_eye, axis=(1,2))[i],\n",
    "                  label='$MSE_s$ ($T_{dry} - T='+f'{lcl_temp_thresh} K$)')\n",
    "    ax[0, i].plot(np.arange(-n_days, n_days+1), np.mean(max_mse_ft, axis=(1,2))[i],\n",
    "                  label=f\"MSE$^*_{'{'+str(pressure_ft)+'}'}$\", color='k')\n",
    "    ax[1, i].plot(np.arange(-n_days, n_days+1), np.mean(max_mse_ft-max_mse, axis=(1,2))[i], label='$MSE_s$ (Isca)')\n",
    "    ax[1, i].plot(np.arange(-n_days, n_days+1), np.mean(max_mse_ft-mse_surf_eye, axis=(1,2))[i],\n",
    "                  label='$MSE_s$ ($T_{dry} - T='+f'{lcl_temp_thresh} K$)')\n",
    "    ax[1, i].hlines(0, -n_days, n_days, color='k', alpha=0.6, linewidth=0.4)\n",
    "    ax[0, i].set_title(f'${lat_min[i]} \\leq \\\\phi \\leq {lat_max[i]}$')\n",
    "\n",
    "for ax_use in ax.flatten():\n",
    "    ylim = ax_use.get_ylim()\n",
    "    ax_use.vlines(0, *ylim, color='k', alpha=0.6, linewidth=0.4)\n",
    "    ax_use.set_ylim(ylim)\n",
    "ax[0, 0].set_xlim(-n_days, n_days)\n",
    "ax[0, 0].set_ylabel('MSE ($kJ/kg$)')\n",
    "ax[0, 0].legend()\n",
    "ax[1, 0].set_ylabel(f\"MSE$^*_{'{'+str(pressure_ft)+'}'}$ - MSE$_s$ ($kJ/kg$)\")\n",
    "fig.supxlabel('Lag relative to max temperature day (day)')\n",
    "fig.suptitle(f'Average over annual hottest days across {n_years} years')\n",
    "plt.tight_layout();"
   ],
   "metadata": {
    "collapsed": false,
    "ExecuteTime": {
     "start_time": "2023-04-27T11:35:12.400719Z",
     "end_time": "2023-04-27T11:35:12.816180Z"
    }
   },
   "outputs": []
  },
  {
   "cell_type": "markdown",
   "source": [
    "Bit of a play with computing the *By Eye* LCL with the deviation of the lapse rate by 15% rather than by the deviation of the temperature itself."
   ],
   "metadata": {
    "collapsed": false
   }
  },
  {
   "cell_type": "code",
   "execution_count": 199,
   "source": [
    "lapse_dev = (-np.gradient(max_info['temp'][trop_ind, plot_ind[0], plot_ind[1], day_plot],\n",
    "            max_info['height'][trop_ind, plot_ind[0], plot_ind[1], day_plot]) - g/c_p)/(g/c_p)\n",
    "plt.hlines(interpolate.InterpolatedUnivariateSpline(ds[0].pfull, lapse_dev + 0.15).roots()[-1], -1, 0, color='grey', linewidth=0.4)\n",
    "plt.plot(lapse_dev, ds[0].pfull)\n",
    "plt.gca().invert_yaxis()"
   ],
   "metadata": {
    "collapsed": false,
    "ExecuteTime": {
     "start_time": "2023-04-27T11:35:12.818968Z",
     "end_time": "2023-04-27T11:35:12.881525Z"
    }
   },
   "outputs": []
  },
  {
   "cell_type": "code",
   "execution_count": 199,
   "source": [],
   "metadata": {
    "collapsed": false,
    "ExecuteTime": {
     "start_time": "2023-04-27T11:35:12.876725Z",
     "end_time": "2023-04-27T11:35:12.881587Z"
    }
   },
   "outputs": []
  },
  {
   "cell_type": "code",
   "execution_count": 199,
   "source": [],
   "metadata": {
    "collapsed": false,
    "ExecuteTime": {
     "start_time": "2023-04-27T11:35:12.879738Z",
     "end_time": "2023-04-27T11:35:12.891110Z"
    }
   },
   "outputs": []
  }
 ],
 "metadata": {
  "kernelspec": {
   "display_name": "Python 3",
   "language": "python",
   "name": "python3"
  },
  "language_info": {
   "codemirror_mode": {
    "name": "ipython",
    "version": 2
   },
   "file_extension": ".py",
   "mimetype": "text/x-python",
   "name": "python",
   "nbconvert_exporter": "python",
   "pygments_lexer": "ipython2",
   "version": "2.7.6"
  }
 },
 "nbformat": 4,
 "nbformat_minor": 0
}
