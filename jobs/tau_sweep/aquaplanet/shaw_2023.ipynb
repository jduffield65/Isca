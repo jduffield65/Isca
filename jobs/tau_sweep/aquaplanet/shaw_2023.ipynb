{
 "cells": [
  {
   "cell_type": "markdown",
   "source": [
    "# Shaw 2023\n",
    "This looks at high percentiles of upper troposphere (200hPa) zonal wind, to see how they vary with warming. Shaw 2023 indicated that the fastest winds increase the most."
   ],
   "metadata": {
    "collapsed": false
   }
  },
  {
   "cell_type": "code",
   "execution_count": 1,
   "source": [
    "import copy\n",
    "import sys\n",
    "import os\n",
    "# REMOTE - So can access functions in isca_tools which is in home/Isca directory\n",
    "# sys.path.append(os.path.join(os.environ['HOME'], 'Isca'))\n",
    "# LOCAL - So can access functions in isca_tools which is in StAndrews/Isca\n",
    "sys.path.append(os.environ['PWD'])\n",
    "import isca_tools\n",
    "from isca_tools.convection import lapse_moist, equivalent_potential_temp\n",
    "from isca_tools.utils.moist_physics import moist_static_energy, clausius_clapeyron_factor, sphum_sat\n",
    "from isca_tools.utils.constants import kappa, L_v, c_p, R, radius_earth, rot_earth\n",
    "from isca_tools.utils import area_weighting\n",
    "from isca_tools.papers.byrne_2021 import get_quant_ind\n",
    "from isca_tools.thesis.aquaplanet_theory import get_delta_temp_quant_theory, get_gamma\n",
    "import numpy as np\n",
    "import matplotlib.pyplot as plt\n",
    "import xarray as xr\n",
    "import scipy.optimize\n",
    "from tqdm import tqdm\n",
    "from scipy import integrate\n",
    "import numpy_indexed\n",
    "from scipy.stats import percentileofscore\n",
    "import copy\n",
    "# Use custom matplotlib style for publishing\n",
    "plt.style.use('/Users/joshduffield/Documents/StAndrews/Isca/jobs/tau_sweep/aquaplanet/publish_figures/publish.mplstyle')"
   ],
   "metadata": {
    "collapsed": false,
    "ExecuteTime": {
     "end_time": "2024-01-16T16:21:33.816037Z",
     "start_time": "2024-01-16T16:21:32.080665Z"
    }
   },
   "outputs": []
  },
  {
   "cell_type": "code",
   "execution_count": 2,
   "source": [
    "# Load dataset - one at surface and one in free troposphere\n",
    "var_keep = ['temp', 'ucomp', 'height', 'vcomp']        # only keep variables required to compute relative humidity and MSE\n",
    "# Load dataset\n",
    "tau_lw_ref = 1\n",
    "tau_lw_warm = 1.5\n",
    "exp_dir = 'tau_sweep/aquaplanet/'\n",
    "exp_names = [f\"k={str(tau_lw_ref).replace('.','_')}\", f\"k={str(tau_lw_warm).replace('.','_')}\"]\n",
    "n_exp = len(exp_names)\n",
    "ds = []\n",
    "albedo = []\n",
    "tau_sw = []\n",
    "tau_lw = []\n",
    "for i in range(n_exp):\n",
    "    ds_use = isca_tools.load_dataset(exp_dir + exp_names[i])[var_keep]\n",
    "    ds += [ds_use]      # only keep the surface values\n",
    "    namelist = isca_tools.load_namelist(exp_dir + exp_names[i])  # Need this for albedo_value\n",
    "    albedo += [namelist['mixed_layer_nml']['albedo_value']]\n",
    "    tau_sw += [namelist['two_stream_gray_rad_nml']['atm_abs']]\n",
    "    tau_lw += [namelist['two_stream_gray_rad_nml']['odp']]\n",
    "sigma_levels = np.asarray(namelist['vert_coordinate_nml']['bk'][::-1])         # make first value the surface\n",
    "# Sigma levels are at half pressure levels, so need to convolve to get pressure at full pressure levels.\n",
    "sigma_levels = np.convolve(sigma_levels, np.ones(2)/2, 'valid')"
   ],
   "metadata": {
    "collapsed": false,
    "ExecuteTime": {
     "end_time": "2024-01-16T16:21:39.992723Z",
     "start_time": "2024-01-16T16:21:35.015812Z"
    }
   },
   "outputs": []
  },
  {
   "cell_type": "markdown",
   "source": [
    "## Get datasets\n",
    "Get one surface dataset for summer for each $\\kappa$, combining all latitudes: `ds_all`."
   ],
   "metadata": {
    "collapsed": false
   }
  },
  {
   "cell_type": "code",
   "execution_count": 3,
   "source": [
    "# If true, will save all figures to desktop - option to save specific figures later on.\n",
    "save_fig = False\n",
    "# if publishing figure, use high dpi\n",
    "publish_fig = True\n",
    "\n",
    "ar = 4/3        # aspect ratio (width/height)\n",
    "# Details required for Journal of Climate Figures\n",
    "low_dpi = 100\n",
    "dpi = {'monochrome': 1100, 'combination': 800, 'halftone': 300}\n",
    "width = {'one_col': 3.2, 'two_col': 5.5}        # width in inches \n",
    "save_pad_inches = 0.05\n",
    "\n",
    "# Default parameters\n",
    "default_colors = plt.rcParams['axes.prop_cycle'].by_key()['color']\n",
    "ax_linewidth = plt.rcParams['axes.linewidth']"
   ],
   "metadata": {
    "collapsed": false,
    "ExecuteTime": {
     "end_time": "2024-01-16T16:21:42.276714Z",
     "start_time": "2024-01-16T16:21:42.264945Z"
    }
   },
   "outputs": []
  },
  {
   "cell_type": "code",
   "execution_count": 18,
   "source": [
    "# Load in dataset with surface and free troposphere across all latitudes, for given season\n",
    "pressure_ft = 200           # Desired approximate pressure of free troposphere (hPa)\n",
    "use_time_start = 360*2\n",
    "\n",
    "# Chose whether to only consider summer days or consider all days\n",
    "summer_months = {'nh': [6, 7, 8], 'sh': [12, 1, 2]}   # JJA for NH and DJF for SH\n",
    "season = 'all'\n",
    "# season = 'summer'   # NOTE - if summer, does not give many days corresponding to high percentiles as only 5 years of data used\n",
    "\n",
    "ds_all = []\n",
    "# ds_unstack = []         # keep 'lon' and 'time' separate.\n",
    "with tqdm(total=n_exp, position=0, leave=True) as pbar:\n",
    "    for i in range(n_exp):\n",
    "        # ds_use = ds[i].sel(pfull=[np.inf, pressure_ft], method='nearest').sel(time=slice(use_time_start, np.inf))\n",
    "        # Keep all pressure levels, so can do thermal wind calculation\n",
    "        ds_use = ds[i].sel(pfull=slice(pressure_ft, np.inf)).sel(time=slice(use_time_start, np.inf))    \n",
    "        ds_use = ds_use.isel(pfull=slice(None, None, -1))       # make surface pressure the first index\n",
    "        if season == 'summer':\n",
    "            ds_nh_summer = isca_tools.utils.annual_time_slice(ds_use, summer_months['nh']).sel(lat=slice(0, 90))  \n",
    "            ds_sh_summer = isca_tools.utils.annual_time_slice(ds_use, summer_months['sh']).sel(lat=slice(-90, 0)) \n",
    "            # Combine hemispheres and average over longitude, time and latitude.\n",
    "            ds_use = xr.concat([ds_sh_summer, ds_nh_summer], dim='lat')\n",
    "        # ds_unstack += [ds_use]\n",
    "        ds_use = ds_use.stack(lon_time=(\"lon\",\"time\"), create_index=False).chunk(dict(lon_time=-1))\n",
    "        ds_all += [ds_use.load()]\n",
    "        pbar.update(1)\n",
    "p_surface = float(ds_all[0].pfull[0]) * 100\n",
    "pressure_ft_actual = float(ds_all[0].pfull[-1]) * 100       # Actual pressure of free troposphere (Pa)\n",
    "sigma_levels_use = sigma_levels[:len(ds_all[0].pfull)]      # Not all sigma levels are kept"
   ],
   "metadata": {
    "collapsed": false,
    "ExecuteTime": {
     "end_time": "2024-01-16T16:32:05.768685Z",
     "start_time": "2024-01-16T16:31:34.654064Z"
    }
   },
   "outputs": []
  },
  {
   "cell_type": "code",
   "execution_count": 23,
   "source": [
    "# Select region to combine latitudes over for all but one of the plots below\n",
    "# Tropics\n",
    "# region = 'tropics'\n",
    "# lat_min = 0\n",
    "# lat_max = 20\n",
    "# Extratropics\n",
    "region = 'midlat'\n",
    "lat_min = 20\n",
    "lat_max = 60\n",
    "# Poles\n",
    "# region = 'highlat'\n",
    "# lat_min = 70\n",
    "# lat_max = 90\n",
    "# Global\n",
    "# region = 'Global'\n",
    "# lat_min = 0\n",
    "# lat_max = 90\n",
    "\n",
    "n_lat = ds_all[0].lat.shape[0]\n",
    "lat_weights = np.cos(np.deg2rad(ds_all[0].lat))     # latitude area weighting is just the cosine\n",
    "lat_use = np.where((np.abs(ds_all[0].lat) <= lat_max) & (np.abs(ds_all[0].lat) >= lat_min))[0]\n",
    "lat_weights_use = lat_weights[lat_use]"
   ],
   "metadata": {
    "collapsed": false,
    "ExecuteTime": {
     "end_time": "2024-01-16T16:34:52.642319Z",
     "start_time": "2024-01-16T16:34:52.566409Z"
    }
   },
   "outputs": []
  },
  {
   "cell_type": "markdown",
   "source": [
    "### Get zonal wind speed as a function of quantile\n",
    "`quant2` is absolute 200hPa zonal wind as a function of absolute 200hPa zonal wind percentile: $u(x_u)$.\n",
    "`quant3` is absolute 200hPa zonal wind as a function of near-surface temperature percentile: $u(x_T)$."
   ],
   "metadata": {
    "collapsed": false
   }
  },
  {
   "cell_type": "code",
   "execution_count": 24,
   "source": [
    "# Get all data needed to compute theoretical temp change and to plot actual temp change for each quantile of temperature\n",
    "quant_plot = np.arange(1, 100)     # avoid 0 quantile as it gives weird results\n",
    "n_quant = len(quant_plot)\n",
    "\n",
    "take_abs_u = False       # whether to consider speed or velocity of winds\n",
    "if take_abs_u:\n",
    "    u_func = lambda x: np.abs(x) \n",
    "else:\n",
    "    u_func = lambda x: x\n",
    "    \n",
    "take_abs_v = True       # whether to consider speed or velocity of winds\n",
    "if take_abs_v:\n",
    "    v_func = lambda x: np.abs(x) \n",
    "else:\n",
    "    v_func = lambda x: x\n",
    "\n",
    "temp_mean = np.zeros((n_exp, n_lat))\n",
    "u_mean = np.zeros((n_exp, n_lat))\n",
    "v_mean = np.zeros((n_exp, n_lat))\n",
    "\n",
    "# quant2 is the actual quantile value rather than the average above a given quantile\n",
    "temp_quant2 = np.zeros((n_exp, n_lat, n_quant))\n",
    "# upper troposphere zonal wind as function of u percentile\n",
    "u_quant2 = np.zeros((n_exp, n_lat, n_quant))\n",
    "# upper troposphere zonal wind as function of temperature percentile\n",
    "u_quant3 = np.zeros((n_exp, n_lat, n_quant))\n",
    "# upper troposphere meridional wind as function of u percentile\n",
    "v_quant2 = np.zeros((n_exp, n_lat, n_quant))\n",
    "# upper troposphere meridional wind as function of temperature percentile\n",
    "v_quant3 = np.zeros((n_exp, n_lat, n_quant))\n",
    "\n",
    "with tqdm(total=n_exp*n_quant*len(lat_use), position=0, leave=True) as pbar:\n",
    "    for i in range(n_exp):\n",
    "        temp_mean[i] = ds_all[i].temp[0].mean(dim='lon_time', skipna=True)       # surface temp\n",
    "        temp_quant2[i] = ds_all[i].temp[0].quantile(quant_plot/100, dim='lon_time', keep_attrs=True, skipna=True).transpose()\n",
    "        \n",
    "        u_mean[i] = u_func(ds_all[i].ucomp[-1]).mean(dim='lon_time', skipna=True)        # free trop u\n",
    "        u_quant2[i] = u_func(ds_all[i].ucomp[-1]).quantile(quant_plot/100, dim='lon_time', keep_attrs=True, skipna=True).transpose()\n",
    "        v_mean[i] = v_func(ds_all[i].vcomp[-1]).mean(dim='lon_time', skipna=True)        # free trop v\n",
    "        v_quant2[i] = v_func(ds_all[i].vcomp[-1]).quantile(quant_plot/100, dim='lon_time', keep_attrs=True, skipna=True).transpose()\n",
    "        for k in range(n_lat):\n",
    "            if k not in lat_use:\n",
    "                continue\n",
    "            for j, quant in enumerate(quant_plot):\n",
    "                use_ind = get_quant_ind(ds_all[i].temp[0, k], quant, 0.5, 0.5)\n",
    "                u_quant3[i, k, j] = u_func(ds_all[i].ucomp[-1, k, use_ind]).mean(skipna=True)          \n",
    "                v_quant3[i, k, j] = v_func(ds_all[i].vcomp[-1, k, use_ind]).mean(skipna=True)      \n",
    "                pbar.update(1)"
   ],
   "metadata": {
    "collapsed": false,
    "ExecuteTime": {
     "end_time": "2024-01-16T16:35:52.825263Z",
     "start_time": "2024-01-16T16:35:01.619096Z"
    }
   },
   "outputs": []
  },
  {
   "cell_type": "markdown",
   "source": [
    "### Figure 1b\n",
    "Below, I recreate Figure 1b, to show that the fastest days get faster with warming (solid line) in the extratropics.\n",
    "\n",
    "The dotted line shows that the fastest winds tend to be associated with the coldest near-surface temperatures."
   ],
   "metadata": {
    "collapsed": false
   }
  },
  {
   "cell_type": "code",
   "execution_count": 25,
   "source": [
    "save_u_sf_fig = False\n",
    "fig, ax = plt.subplots(1,1, figsize=(width['one_col'], width['one_col']/ar))\n",
    "ax.plot(quant_plot, np.average(((u_quant2[1] - u_quant2[0])/(u_mean[1]-u_mean[0])[:, np.newaxis])[lat_use], axis=0, weights=lat_weights_use),\n",
    "        color='k', label='$u$')\n",
    "ax.plot(quant_plot, np.average(((u_quant3[1] - u_quant3[0])/(u_mean[1]-u_mean[0])[:, np.newaxis])[lat_use], axis=0, weights=lat_weights_use),\n",
    "        color='k', linestyle='--', label='$T$')\n",
    "ax.hlines(1,0,100, color='k', linewidth=ax_linewidth)\n",
    "ax.set_xlim(0, 100)\n",
    "# ax.set_ylim(0, 3)\n",
    "ax.set_ylabel('$\\Delta u_{20-60}/\\Delta \\overline{u}_{20-60}$')\n",
    "ax.set_xlabel('Percentile')\n",
    "ax.legend(title='Percentile Type', loc='upper left')\n",
    "\n",
    "if save_fig or save_u_sf_fig:\n",
    "    fig.savefig(f\"/Users/joshduffield/Desktop/u_sf_{region.lower()}_{season}.pdf\",\n",
    "                dpi=dpi['monochrome'] if publish_fig else low_dpi, bbox_inches='tight', pad_inches=save_pad_inches)"
   ],
   "metadata": {
    "collapsed": false,
    "ExecuteTime": {
     "end_time": "2024-01-16T16:35:55.425442Z",
     "start_time": "2024-01-16T16:35:55.328812Z"
    }
   },
   "outputs": []
  },
  {
   "cell_type": "code",
   "source": [
    "save_v_sf_fig = False\n",
    "fig, ax = plt.subplots(1,1, figsize=(width['one_col'], width['one_col']/ar))\n",
    "ax.plot(quant_plot, np.average(((v_quant2[1] - v_quant2[0])/(v_mean[1]-v_mean[0])[:, np.newaxis])[lat_use], axis=0, weights=lat_weights_use),\n",
    "        color='k', label='$v$')\n",
    "ax.plot(quant_plot, np.average(((v_quant3[1] - v_quant3[0])/(v_mean[1]-v_mean[0])[:, np.newaxis])[lat_use], axis=0, weights=lat_weights_use),\n",
    "        color='k', linestyle='--', label='$T$')\n",
    "ax.hlines(1,0,100, color='k', linewidth=ax_linewidth)\n",
    "ax.set_xlim(0, 100)\n",
    "# ax.set_ylim(0, 3)\n",
    "ax.set_ylabel('$\\Delta v_{20-60}/\\Delta \\overline{v}_{20-60}$')\n",
    "ax.set_xlabel('Percentile')\n",
    "ax.legend(title='Percentile Type', loc='upper left')\n",
    "\n",
    "if save_fig or save_u_sf_fig:\n",
    "    fig.savefig(f\"/Users/joshduffield/Desktop/u_sf_{region.lower()}_{season}.pdf\",\n",
    "                dpi=dpi['monochrome'] if publish_fig else low_dpi, bbox_inches='tight', pad_inches=save_pad_inches)"
   ],
   "metadata": {
    "collapsed": false,
    "ExecuteTime": {
     "end_time": "2024-01-16T16:35:57.131774Z",
     "start_time": "2024-01-16T16:35:57.064276Z"
    }
   },
   "execution_count": 26,
   "outputs": []
  },
  {
   "cell_type": "markdown",
   "source": [
    "### Percentile Relation: $x_u$ vs $x_T$\n",
    "Below, I show the relationship between 200hPa zonal wind percentile, $x_u$ and near-surface temperature percentile, $x_T$. \n",
    "\n",
    "For $\\kappa=1$, this is saying that 200hPa zonal winds associated with the $x_T=1$ percentile of near-surface temperature correspond to approximately the $x_u=69$ percentile of 200hPa zonal winds.\n",
    "\n",
    "I.e. cold days are associated with fast winds, and with warming, the winds on cold days get relatively faster. Equally, hot days are associated with slow winds, and with warming, the winds on hot days get relatively slower."
   ],
   "metadata": {
    "collapsed": false
   }
  },
  {
   "cell_type": "code",
   "execution_count": 27,
   "source": [
    "u_temp_percentile = np.zeros((n_exp, n_lat, n_quant))              # percentile of u corresponding to each percentile of near-surface temp\n",
    "v_temp_percentile = np.zeros((n_exp, n_lat, n_quant))              # percentile of u corresponding to each percentile of near-surface temp\n",
    "with tqdm(total=n_exp*n_quant*len(lat_use)*2, position=0, leave=True) as pbar:\n",
    "    for i in range(n_exp):\n",
    "        for k in range(n_lat):\n",
    "            if k not in lat_use:\n",
    "                continue\n",
    "            use_ind = np.isfinite(u_func(ds_all[i].ucomp[-1, k]))           # ignore nan values, when consider summer only\n",
    "            for j in range(n_quant):\n",
    "                u_temp_percentile[i, k, j] = percentileofscore(u_func(ds_all[i].ucomp[-1, k])[use_ind], u_quant3[i, k, j])\n",
    "                pbar.update(1)\n",
    "            use_ind = np.isfinite(v_func(ds_all[i].vcomp[-1, k]))           # ignore nan values, when consider summer only\n",
    "            for j in range(n_quant):\n",
    "                v_temp_percentile[i, k, j] = percentileofscore(v_func(ds_all[i].vcomp[-1, k])[use_ind], v_quant3[i, k, j])\n",
    "                pbar.update(1)"
   ],
   "metadata": {
    "collapsed": false,
    "ExecuteTime": {
     "end_time": "2024-01-16T16:38:50.661592Z",
     "start_time": "2024-01-16T16:38:13.571068Z"
    }
   },
   "outputs": []
  },
  {
   "cell_type": "code",
   "execution_count": 28,
   "source": [
    "save_u_percentile_fig = False\n",
    "fig, ax = plt.subplots(1,1, figsize=(width['one_col'], width['one_col']/ar))\n",
    "for i in range(n_exp):\n",
    "    ax.plot(quant_plot, np.average(u_temp_percentile[i, lat_use], axis=0, weights=lat_weights_use), color=default_colors[i],\n",
    "            label='$\\kappa={:.1f}$'.format(tau_lw[i]))\n",
    "ax.legend()\n",
    "ax.set_xlabel('Temperature percentile, $x_T$')\n",
    "ax.set_ylabel('Zonal wind percentile, $x_u$')\n",
    "\n",
    "if save_fig or save_u_percentile_fig:\n",
    "    fig.savefig(f\"/Users/joshduffield/Desktop/u_percentile_{region.lower()}_{season}.pdf\",\n",
    "                dpi=dpi['monochrome'] if publish_fig else low_dpi, bbox_inches='tight', pad_inches=save_pad_inches)"
   ],
   "metadata": {
    "collapsed": false,
    "ExecuteTime": {
     "end_time": "2024-01-16T16:38:53.375086Z",
     "start_time": "2024-01-16T16:38:53.092920Z"
    }
   },
   "outputs": []
  },
  {
   "cell_type": "code",
   "source": [
    "save_v_percentile_fig = False\n",
    "fig, ax = plt.subplots(1,1, figsize=(width['one_col'], width['one_col']/ar))\n",
    "for i in range(n_exp):\n",
    "    ax.plot(quant_plot, np.average(v_temp_percentile[i, lat_use], axis=0, weights=lat_weights_use), color=default_colors[i],\n",
    "            label='$\\kappa={:.1f}$'.format(tau_lw[i]))\n",
    "ax.legend()\n",
    "ax.set_xlabel('Temperature percentile, $x_T$')\n",
    "ax.set_ylabel('Meridional wind percentile, $x_v$')\n",
    "\n",
    "if save_fig or save_v_percentile_fig:\n",
    "    fig.savefig(f\"/Users/joshduffield/Desktop/v_percentile_{region.lower()}_{season}.pdf\",\n",
    "                dpi=dpi['monochrome'] if publish_fig else low_dpi, bbox_inches='tight', pad_inches=save_pad_inches)"
   ],
   "metadata": {
    "collapsed": false,
    "ExecuteTime": {
     "end_time": "2024-01-16T16:39:21.421634Z",
     "start_time": "2024-01-16T16:39:21.330293Z"
    }
   },
   "execution_count": 30,
   "outputs": []
  },
  {
   "cell_type": "markdown",
   "source": [
    "### Figure 1a\n",
    "The solid line below, replicates Figure 1a showing how the changes in the $x_u=99$ percentile of $u$ varies with latitude. It matches fairly well the results in the paper, except in the tropics.\n",
    "\n",
    "The dashed line shows changes in $u$ conditioned on the $x_T=1$ percentile of near-surface temperature. From above, we expect this to be fairly similar to the solid line. This has much larger variation with latitude, but does $u$ does seem to increase at all latitudes outside the tropics."
   ],
   "metadata": {
    "collapsed": false
   }
  },
  {
   "cell_type": "code",
   "execution_count": 11,
   "source": [
    "quant2_lat_use = 99\n",
    "quant3_lat_use = 1\n",
    "u_quant2_lat = np.zeros((n_exp, n_lat))\n",
    "u_quant3_lat = np.zeros((n_exp, n_lat))\n",
    "temp_global_mean = np.zeros(n_exp)\n",
    "\n",
    "with tqdm(total=n_exp*n_lat, position=0, leave=True) as pbar:\n",
    "    for i in range(n_exp):\n",
    "        temp_global_mean[i] = area_weighting(ds_all[i].temp[0]).mean(skipna=True)\n",
    "        u_quant2_lat[i] = u_func(ds_all[i].ucomp[-1]).quantile(quant2_lat_use/100, dim='lon_time', keep_attrs=True, skipna=True)\n",
    "        for k in range(n_lat):\n",
    "            use_ind = get_quant_ind(ds_all[i].temp[0, k], quant3_lat_use, 0.5, 0.5)\n",
    "            u_quant3_lat[i, k] = u_func(ds_all[i].ucomp[-1, k, use_ind]).mean(skipna=True)                    \n",
    "            pbar.update(1)"
   ],
   "metadata": {
    "collapsed": false,
    "ExecuteTime": {
     "end_time": "2024-01-10T16:05:57.907636Z",
     "start_time": "2024-01-10T16:05:56.369076Z"
    }
   },
   "outputs": []
  },
  {
   "cell_type": "code",
   "execution_count": 12,
   "source": [
    "save_u_lat_fig = False\n",
    "fig, ax = plt.subplots(1,1, figsize=(width['one_col'], width['one_col']/ar))\n",
    "ax.plot(ds_all[0].lat, 100*(u_quant2_lat[1]-u_quant2_lat[0])/(temp_global_mean[1]-temp_global_mean[0])/u_quant2_lat[0], color='k',\n",
    "        label=f'$x_u={quant2_lat_use}$')\n",
    "ax.plot(ds_all[0].lat, 100*(u_quant3_lat[1]-u_quant3_lat[0])/(temp_global_mean[1]-temp_global_mean[0])/u_quant3_lat[0], color='k',\n",
    "        linestyle='--', alpha=0.5, label=f'$x_T={quant3_lat_use}$')\n",
    "ax.hlines(0,-90,90, color='k', linewidth=ax_linewidth)\n",
    "ax.set_xlim(-90, 90)\n",
    "ax.set_xlabel('Latitude [deg]')\n",
    "ax.set_ylabel('$\\Delta u$ [$\\%K^{-1}$]')\n",
    "ax.legend()\n",
    "ax.set_ylim(-2, 5)\n",
    "\n",
    "if save_fig or save_u_lat_fig:\n",
    "    fig.savefig(f\"/Users/joshduffield/Desktop/u_lat_{season}.pdf\",\n",
    "                dpi=dpi['monochrome'] if publish_fig else low_dpi, bbox_inches='tight', pad_inches=save_pad_inches)"
   ],
   "metadata": {
    "collapsed": false,
    "ExecuteTime": {
     "end_time": "2024-01-10T16:05:58.451991Z",
     "start_time": "2024-01-10T16:05:58.363361Z"
    }
   },
   "outputs": []
  },
  {
   "cell_type": "markdown",
   "source": [
    "## Thermal Wind\n",
    "Below, I replicate much of the results above, but with the thermal wind $u_T$, and moist thermal wind $u_{Tm}$. In general, there seems to be a good agreement between changes in the simulated $u$ and the computed $u_T$ and $u_{Tm}$."
   ],
   "metadata": {
    "collapsed": false
   }
  },
  {
   "cell_type": "code",
   "execution_count": 13,
   "source": [
    "def get_u_thermal(ds):\n",
    "    # Axis 0 is pressure, axis 1 is latitude and axis 2 is lon_time or not included\n",
    "    # Equation 1 in the paper\n",
    "    pressure = ds.pfull.to_numpy() * 100\n",
    "    if 'lon' in ds:\n",
    "        integrand = np.gradient(ds.temp, np.deg2rad(ds.lat), axis=1)/pressure[:, np.newaxis, np.newaxis]\n",
    "        f_coriolis = 2 * rot_earth * np.sin(np.deg2rad(ds.lat).to_numpy())[:, np.newaxis]\n",
    "    else:\n",
    "        integrand = np.gradient(ds.temp, np.deg2rad(ds.lat), axis=1)/pressure[:, np.newaxis]\n",
    "        f_coriolis = 2 * rot_earth * np.sin(np.deg2rad(ds.lat).to_numpy())\n",
    "    return scipy.integrate.simpson(integrand, pressure, axis=0) * R/(radius_earth * f_coriolis)\n",
    "\n",
    "def get_u_moist_thermal(ds):\n",
    "    # Axis 0 is pressure, axis 1 is latitude and axis 2 is lon_time\n",
    "    # Equation 2 in the paper\n",
    "    pressure = ds.pfull*100\n",
    "    moist_entropy = c_p * np.log(equivalent_potential_temp(ds.temp, pressure))\n",
    "    dt_dp_moist = lapse_moist(ds.temp, pressure, True)\n",
    "    f_coriolis = 2 * rot_earth * np.sin(np.deg2rad(ds.lat).to_numpy())\n",
    "    integrand = dt_dp_moist * np.gradient(moist_entropy, np.deg2rad(ds.lat), axis=1)\n",
    "    return scipy.integrate.simpson(integrand, pressure, axis=0) / (radius_earth * f_coriolis[:, np.newaxis])"
   ],
   "metadata": {
    "collapsed": false,
    "ExecuteTime": {
     "end_time": "2024-01-10T16:05:59.977379Z",
     "start_time": "2024-01-10T16:05:59.972142Z"
    }
   },
   "outputs": []
  },
  {
   "cell_type": "code",
   "execution_count": 14,
   "source": [
    "u_thermal = np.asarray([get_u_thermal(ds_all[i]) for i in range(n_exp)])\n",
    "u_thermal_moist = np.asarray([get_u_moist_thermal(ds_all[i]) for i in range(n_exp)])"
   ],
   "metadata": {
    "collapsed": false,
    "ExecuteTime": {
     "end_time": "2024-01-10T16:07:08.170338Z",
     "start_time": "2024-01-10T16:06:00.812007Z"
    }
   },
   "outputs": []
  },
  {
   "cell_type": "code",
   "execution_count": 54,
   "source": [
    "u_thermal_mean = np.zeros((n_exp, n_lat))\n",
    "u_thermal_quant2 = np.zeros((n_exp, n_lat, n_quant))\n",
    "u_thermal_quant3 = np.zeros((n_exp, n_lat, n_quant))\n",
    "\n",
    "u_thermal_moist_mean = np.zeros((n_exp, n_lat))\n",
    "u_thermal_moist_quant2 = np.zeros((n_exp, n_lat, n_quant))\n",
    "u_thermal_moist_quant3 = np.zeros((n_exp, n_lat, n_quant))\n",
    "\n",
    "with tqdm(total=n_exp*n_quant*len(lat_use), position=0, leave=True) as pbar:\n",
    "    for i in range(n_exp):\n",
    "        # Mean calc here will give error when using summer because in tropics, when cross equator, can't take meridional gradient\n",
    "        # in u_thermal calculation because only summer values are kept in either hemisphere.\n",
    "        u_thermal_mean[i] = np.nanmean(u_func(u_thermal[i]), axis=1)\n",
    "        u_thermal_quant2[i] = np.nanquantile(u_func(u_thermal[i]), quant_plot/100, axis=-1).transpose()\n",
    "        u_thermal_moist_mean[i] = np.nanmean(u_func(u_thermal_moist[i]), axis=1)\n",
    "        u_thermal_moist_quant2[i] = np.nanquantile(u_func(u_thermal_moist[i]), quant_plot/100, axis=-1).transpose()\n",
    "        for k in range(n_lat):\n",
    "            if k not in lat_use:\n",
    "                continue\n",
    "            for j, quant in enumerate(quant_plot):\n",
    "                use_ind = get_quant_ind(ds_all[i].temp[0, k], quant, 0.5, 0.5)\n",
    "                u_thermal_quant3[i, k, j] = np.nanmean(u_func(u_thermal[i, k, use_ind]))  \n",
    "                u_thermal_moist_quant3[i, k, j] = np.nanmean(u_func(u_thermal_moist[i, k, use_ind]))\n",
    "                pbar.update(1)\n",
    "                "
   ],
   "metadata": {
    "collapsed": false,
    "ExecuteTime": {
     "end_time": "2024-01-08T11:56:19.647734Z",
     "start_time": "2024-01-08T11:55:32.734131Z"
    }
   },
   "outputs": []
  },
  {
   "cell_type": "code",
   "execution_count": 55,
   "source": [
    "u_thermal_quant2_lat = np.zeros((n_exp, n_lat))\n",
    "u_thermal_quant3_lat = np.zeros((n_exp, n_lat))\n",
    "u_thermal_moist_quant2_lat = np.zeros((n_exp, n_lat))\n",
    "u_thermal_moist_quant3_lat = np.zeros((n_exp, n_lat))\n",
    "\n",
    "with tqdm(total=n_exp*n_lat, position=0, leave=True) as pbar:\n",
    "    for i in range(n_exp):\n",
    "        u_thermal_quant2_lat[i] = np.nanquantile(u_func(u_thermal[i]), quant2_lat_use/100, axis=-1)\n",
    "        u_thermal_moist_quant2_lat[i] = np.nanquantile(u_func(u_thermal_moist[i]), quant2_lat_use/100, axis=-1)\n",
    "        for k in range(n_lat):\n",
    "            use_ind = get_quant_ind(ds_all[i].temp[0, k], quant3_lat_use, 0.5, 0.5)\n",
    "            u_thermal_quant3_lat[i, k] = np.nanmean(u_func(u_thermal[i, k, use_ind]))\n",
    "            u_thermal_moist_quant3_lat[i, k] = np.nanmean(u_func(u_thermal_moist[i, k, use_ind]))\n",
    "            pbar.update(1)"
   ],
   "metadata": {
    "collapsed": false,
    "ExecuteTime": {
     "end_time": "2024-01-08T11:56:21.400488Z",
     "start_time": "2024-01-08T11:56:19.650424Z"
    }
   },
   "outputs": []
  },
  {
   "cell_type": "code",
   "execution_count": 56,
   "source": [
    "save_u_thermal_lat_fig = False\n",
    "fig, ax = plt.subplots(2,1, figsize=(width['one_col'], 2*width['one_col']/ar), sharex=True, sharey=True)\n",
    "for i in range(n_exp):\n",
    "    ax[0].plot(ds_all[0].lat, u_quant2_lat[i], color=default_colors[i], label='$\\kappa={:.2f}$'.format(tau_lw[i]))\n",
    "    ax[0].plot(ds_all[0].lat, u_thermal_quant2_lat[i], color=default_colors[i], linestyle='--', alpha=0.5, label='$u_T$' if i==1 else None)\n",
    "    ax[0].plot(ds_all[0].lat, u_thermal_moist_quant2_lat[i], color=default_colors[i], linestyle=':', alpha=0.5, \n",
    "               label='$u_{Tm}$' if i==1 else None)\n",
    "    ax[1].plot(ds_all[0].lat, u_quant3_lat[i], color=default_colors[i])\n",
    "    ax[1].plot(ds_all[0].lat, u_thermal_quant3_lat[i], color=default_colors[i], linestyle='--', alpha=0.5)\n",
    "    ax[1].plot(ds_all[0].lat, u_thermal_moist_quant3_lat[i], color=default_colors[i], linestyle=':', alpha=0.5)\n",
    "ax[0].set_ylim(0, 100)\n",
    "ax[0].legend(fontsize=6, loc='upper right')\n",
    "ax[0].set_ylabel('$u_{x_u=99}$ [m/s]')\n",
    "ax[1].set_ylabel('$u_{x_T=1}}$ [m/s]')\n",
    "ax[-1].set_xlabel('Latitude [deg]')\n",
    "if save_fig or save_u_thermal_lat_fig:\n",
    "    fig.savefig(f\"/Users/joshduffield/Desktop/u_thermal_lat_{season}.pdf\",\n",
    "                dpi=dpi['monochrome'] if publish_fig else low_dpi, bbox_inches='tight', pad_inches=save_pad_inches)"
   ],
   "metadata": {
    "collapsed": false,
    "ExecuteTime": {
     "end_time": "2024-01-08T11:56:21.596694Z",
     "start_time": "2024-01-08T11:56:21.409765Z"
    }
   },
   "outputs": []
  },
  {
   "cell_type": "code",
   "execution_count": 57,
   "source": [
    "save_delta_u_thermal_lat_fig = False\n",
    "\n",
    "fig, ax = plt.subplots(2,1, figsize=(width['one_col'], 2 * width['one_col']/ar), sharex=True)\n",
    "ax[0].plot(ds_all[0].lat, 100*(u_quant2_lat[1]-u_quant2_lat[0])/(temp_global_mean[1]-temp_global_mean[0])/u_quant2_lat[0], \n",
    "           color='k', label='$u$')\n",
    "ax[0].plot(ds_all[0].lat, \n",
    "           100*(u_thermal_quant2_lat[1]-u_thermal_quant2_lat[0])/(temp_global_mean[1]-temp_global_mean[0])/u_thermal_quant2_lat[0], \n",
    "           color='k', label='$u_T$', linestyle='--')\n",
    "ax[0].plot(ds_all[0].lat, \n",
    "           100*(u_thermal_moist_quant2_lat[1]-u_thermal_moist_quant2_lat[0])/(temp_global_mean[1]-\n",
    "                                                                              temp_global_mean[0])/u_thermal_moist_quant2_lat[0], \n",
    "           color='k', label='$u_{Tm}$', linestyle=':')\n",
    "\n",
    "ax[1].plot(ds_all[0].lat, 100*(u_quant3_lat[1]-u_quant3_lat[0])/(temp_global_mean[1]-temp_global_mean[0])/u_quant3_lat[0], color='k')\n",
    "ax[1].plot(ds_all[0].lat, \n",
    "           100*(u_thermal_quant3_lat[1]-u_thermal_quant3_lat[0])/(temp_global_mean[1]-temp_global_mean[0])/u_thermal_quant3_lat[0], \n",
    "           color='k', linestyle='--')\n",
    "ax[1].plot(ds_all[0].lat, \n",
    "           100*(u_thermal_moist_quant3_lat[1]-u_thermal_moist_quant3_lat[0])/(temp_global_mean[1]-\n",
    "                                                                              temp_global_mean[0])/u_thermal_moist_quant3_lat[0], \n",
    "           color='k', linestyle=':')\n",
    "\n",
    "ax[0].hlines(0,-90,90, color='k', linewidth=ax_linewidth)\n",
    "ax[1].hlines(0,-90,90, color='k', linewidth=ax_linewidth)\n",
    "ax[0].set_xlim(-90, 90)\n",
    "ax[-1].set_xlabel('Latitude [deg]')\n",
    "ax[0].set_ylabel('$\\Delta u_{x_u=99}$ [$\\%K^{-1}$]')\n",
    "ax[1].set_ylabel('$\\Delta u_{x_T=1}$ [$\\%K^{-1}$]')\n",
    "ax[0].legend()\n",
    "# ax[0].set_ylim(-3, 5)\n",
    "# ax[1].set_ylim(-4, 20)\n",
    "\n",
    "if save_fig or save_delta_u_thermal_lat_fig:\n",
    "    fig.savefig(f\"/Users/joshduffield/Desktop/u_delta_thermal_lat_{season}.pdf\",\n",
    "                dpi=dpi['monochrome'] if publish_fig else low_dpi, bbox_inches='tight', pad_inches=save_pad_inches)"
   ],
   "metadata": {
    "collapsed": false,
    "ExecuteTime": {
     "end_time": "2024-01-08T11:56:21.748167Z",
     "start_time": "2024-01-08T11:56:21.603530Z"
    }
   },
   "outputs": []
  },
  {
   "cell_type": "code",
   "execution_count": 58,
   "source": [
    "save_u_thermal_sf_fig = False\n",
    "fig, ax = plt.subplots(2,1, figsize=(width['one_col'], 2 * width['one_col']/ar), sharex=True, sharey=True)\n",
    "ax[0].plot(quant_plot, np.average(((u_quant2[1] - u_quant2[0])/(u_mean[1]-u_mean[0])[:, np.newaxis])[lat_use], axis=0, weights=lat_weights_use),\n",
    "           color='k', label='$u$')\n",
    "ax[0].plot(quant_plot, np.average(((u_thermal_quant2[1] - u_thermal_quant2[0])/(u_thermal_mean[1]-u_thermal_mean[0])[:, np.newaxis])[lat_use],\n",
    "                                  axis=0, weights=lat_weights_use), color='k', label='$u_T$', linestyle='--')\n",
    "ax[0].plot(quant_plot, np.average(((u_thermal_moist_quant2[1] - u_thermal_moist_quant2[0])/(u_thermal_moist_mean[1]-\n",
    "                                                                                            u_thermal_moist_mean[0])[:, np.newaxis])[lat_use],\n",
    "                                  axis=0, weights=lat_weights_use), color='k', label='$u_{Tm}$', linestyle=':')\n",
    "\n",
    "ax[1].plot(quant_plot, np.average(((u_quant3[1] - u_quant3[0])/(u_mean[1]-u_mean[0])[:, np.newaxis])[lat_use], axis=0, weights=lat_weights_use),\n",
    "           color='k')\n",
    "ax[1].plot(quant_plot, np.average(((u_thermal_quant3[1] - u_thermal_quant3[0])/(u_thermal_mean[1]-u_thermal_mean[0])[:, np.newaxis])[lat_use], \n",
    "                                  axis=0, weights=lat_weights_use), color='k', linestyle='--')\n",
    "ax[1].plot(quant_plot, np.average(((u_thermal_moist_quant3[1] - u_thermal_moist_quant3[0])/(u_thermal_moist_mean[1]-\n",
    "                                                                                            u_thermal_moist_mean[0])[:, np.newaxis])[lat_use], \n",
    "                                  axis=0, weights=lat_weights_use), color='k', linestyle=':')\n",
    "# ax.plot(quant_plot, np.average(((u_quant3[1] - u_quant3[0])/(u_mean[1]-u_mean[0])[:, np.newaxis])[lat_use], axis=0, weights=lat_weights_use),\n",
    "#         color='k', linestyle='--', label='$T$')\n",
    "ax[0].hlines(1,0,100, color='k', linewidth=ax_linewidth)\n",
    "ax[1].hlines(1,0,100, color='k', linewidth=ax_linewidth)\n",
    "ax[0].set_xlim(0, 100)\n",
    "ax[0].set_ylim(0, 3)\n",
    "ax[0].set_ylabel('$\\Delta u_{20-60}/\\Delta \\overline{u}_{20-60}$')\n",
    "ax[1].set_ylabel('$\\Delta u_{20-60}/\\Delta \\overline{u}_{20-60}$')\n",
    "ax[0].set_xlabel('Percentile')\n",
    "ax[1].set_xlabel('Temperature percentile')\n",
    "ax[0].legend(loc='upper left')\n",
    "\n",
    "if save_fig or save_u_thermal_sf_fig:\n",
    "    fig.savefig(f\"/Users/joshduffield/Desktop/u_thermal_sf_{region.lower()}_{season}.pdf\",\n",
    "                dpi=dpi['monochrome'] if publish_fig else low_dpi, bbox_inches='tight', pad_inches=save_pad_inches)"
   ],
   "metadata": {
    "collapsed": false,
    "ExecuteTime": {
     "end_time": "2024-01-08T11:56:21.876713Z",
     "start_time": "2024-01-08T11:56:21.766115Z"
    }
   },
   "outputs": []
  },
  {
   "cell_type": "code",
   "execution_count": 59,
   "source": [
    "# pressure_ft_range = ds_all[0].pfull.sel(pfull=[600, 400, 200], method='nearest')        # choose 3 pressure levels\n",
    "pressure_ft_range = ds_all[0].pfull.sel(pfull=[1000, 600, 400, 200], method='nearest')        # choose 3 pressure levels\n",
    "n_pressure_ft = len(pressure_ft_range)\n",
    "temp_ft_mean = np.zeros((n_exp, n_pressure_ft, n_lat))\n",
    "temp_ft_quant3 = np.zeros((n_exp, n_pressure_ft, n_lat, n_quant))\n",
    "z_ft_mean = np.zeros((n_exp, n_pressure_ft, n_lat))\n",
    "z_ft_quant3 = np.zeros((n_exp, n_pressure_ft, n_lat, n_quant))\n",
    "\n",
    "with tqdm(total=n_exp*n_quant*len(lat_use), position=0, leave=True) as pbar:\n",
    "    for i in range(n_exp):\n",
    "        ds_use = ds_all[i].sel(pfull=pressure_ft_range)             # don't consider all pressure values\n",
    "        temp_ft_mean[i] = ds_use.temp.mean(dim='lon_time')\n",
    "        z_ft_mean[i] = ds_use.height.mean(dim='lon_time')\n",
    "        for k in range(n_lat):\n",
    "            if k not in lat_use:\n",
    "                continue\n",
    "            for j, quant in enumerate(quant_plot):\n",
    "                use_ind = get_quant_ind(ds_all[i].temp[0, k], quant, 0.5, 0.5)\n",
    "                temp_ft_quant3[i, :, k, j] = ds_use.temp[:, k, use_ind].mean(dim='lon_time')\n",
    "                z_ft_quant3[i, :, k, j] = ds_use.height[:, k, use_ind].mean(dim='lon_time')\n",
    "                pbar.update(1)"
   ],
   "metadata": {
    "collapsed": false,
    "ExecuteTime": {
     "end_time": "2024-01-08T11:57:14.888913Z",
     "start_time": "2024-01-08T11:56:21.890902Z"
    }
   },
   "outputs": []
  },
  {
   "cell_type": "code",
   "execution_count": 60,
   "source": [
    "def scale_factor_reg(var_quant, var_mean, reg_param=0.3):\n",
    "    \"\"\"\n",
    "    Scale factor with regularised denominator so it doesn't blow up at certain latitudes\n",
    "    \n",
    "    Args:\n",
    "        var_quant: [n_exp, n_lat, n_quant]\n",
    "        var_mean: [n_exp, n_lat]\n",
    "        reg_param: \n",
    "\n",
    "    Returns:\n",
    "        [n_lat, n_quant]\n",
    "    \"\"\"\n",
    "    denom = var_mean[1]-var_mean[0] + reg_param * np.sign(var_mean[1]-var_mean[0])\n",
    "    return (var_quant[1]-var_quant[0]) / denom[:, np.newaxis]"
   ],
   "metadata": {
    "collapsed": false,
    "ExecuteTime": {
     "end_time": "2024-01-08T11:57:14.890847Z",
     "start_time": "2024-01-08T11:57:14.888077Z"
    }
   },
   "outputs": []
  },
  {
   "cell_type": "code",
   "execution_count": 61,
   "source": [
    "sf_reg_param = 0.3\n",
    "color_seq_pressure = plt.cm.jet(np.linspace(0,1,n_pressure_ft))[::-1]       # make near-surface red\n",
    "fig, ax = plt.subplots(2,1, figsize=(width['one_col'], 2*width['one_col']/ar), sharex=True)\n",
    "for i in range(n_pressure_ft):\n",
    "    ax[0].plot(quant_plot, np.average((temp_ft_quant3[1, i] - temp_ft_quant3[0, i])[lat_use], axis=0, weights=lat_weights_use),\n",
    "               color=color_seq_pressure[i], label=int(pressure_ft_range[i]))\n",
    "    ax[1].plot(quant_plot, np.average(scale_factor_reg(temp_ft_quant3[:, i], temp_ft_mean[:, i], sf_reg_param)[lat_use], \n",
    "                                      axis=0, weights=lat_weights_use), color=color_seq_pressure[i], label=int(pressure_ft_range[i]))\n",
    "ax[1].hlines(1, 0, 100, color='k', lw=ax_linewidth)\n",
    "ax[0].set_xlim(0, 100)\n",
    "ax[0].legend(fontsize=5, title='Pressure [hPa]', title_fontsize=5)\n",
    "# ax[1].set_ylim(0.5, 1.5)\n",
    "ax[-1].set_xlabel('Temperature Percentile')\n",
    "ax[0].set_ylabel('$\\delta T$ [K]')\n",
    "ax[1].set_ylabel('$\\delta T/\\delta \\overline{T}$')"
   ],
   "metadata": {
    "collapsed": false,
    "ExecuteTime": {
     "end_time": "2024-01-08T11:57:15.015514Z",
     "start_time": "2024-01-08T11:57:14.893085Z"
    }
   },
   "outputs": []
  },
  {
   "cell_type": "code",
   "execution_count": 62,
   "source": [
    "save_T_z_ft_mean_fig = False\n",
    "\n",
    "fig, ax = plt.subplots(2,2, figsize=(2*width['one_col'], 2*width['one_col']/ar), sharex=True)\n",
    "for i in range(n_pressure_ft):\n",
    "    ax[0, 0].plot(ds_all[0].lat, temp_ft_mean[0, i], color=color_seq_pressure[i], label=int(pressure_ft_range[i]))\n",
    "    ax[0, 0].plot(ds_all[0].lat, temp_ft_mean[1, i], color=color_seq_pressure[i], linestyle=':')\n",
    "    ax[1, 0].plot(ds_all[0].lat, temp_ft_mean[1, i]-temp_ft_mean[0, i], color=color_seq_pressure[i], label=int(pressure_ft_range[i]))\n",
    "    \n",
    "    ax[0, 1].plot(ds_all[0].lat, z_ft_mean[0, i]/1000, color=color_seq_pressure[i], label=int(pressure_ft_range[i]))\n",
    "    ax[0, 1].plot(ds_all[0].lat, z_ft_mean[1, i]/1000, color=color_seq_pressure[i], linestyle=':')\n",
    "    ax[1, 1].plot(ds_all[0].lat, (z_ft_mean[1, i]-z_ft_mean[0, i])/1000, color=color_seq_pressure[i])\n",
    "ax[1, 0].hlines(0, -90, 90, color='k', lw=ax_linewidth)\n",
    "ax[0, 0].set_xlim(-90, 90)\n",
    "ax[0, 0].legend(fontsize=5, title='Pressure [hPa]', title_fontsize=5)\n",
    "fig.supxlabel('Latitude [deg]', fontsize=8)\n",
    "ax[0, 0].set_ylabel('$\\overline{T}$ [K]')\n",
    "ax[0, 1].set_ylabel('$\\overline{z}$ [km]')\n",
    "ax[1, 0].set_ylabel('$\\delta \\overline{T}$ [K]')\n",
    "ax[1, 1].set_ylabel('$\\delta \\overline{z}$ [km]')\n",
    "plt.tight_layout()\n",
    "\n",
    "if save_fig or save_T_z_ft_mean_fig:\n",
    "    fig.savefig(f\"/Users/joshduffield/Desktop/T_z_ft_mean_{season}.pdf\",\n",
    "                dpi=dpi['monochrome'] if publish_fig else low_dpi, bbox_inches='tight', pad_inches=save_pad_inches)"
   ],
   "metadata": {
    "collapsed": false,
    "ExecuteTime": {
     "end_time": "2024-01-08T11:57:15.298664Z",
     "start_time": "2024-01-08T11:57:15.021159Z"
    }
   },
   "outputs": []
  },
  {
   "cell_type": "code",
   "execution_count": 63,
   "source": [
    "fig, ax = plt.subplots(2,1, figsize=(width['one_col'], 2*width['one_col']/ar), sharex=True)\n",
    "for i in range(n_pressure_ft):\n",
    "    ax[0].plot(quant_plot, np.average((z_ft_quant3[1, i] - z_ft_quant3[0, i])[lat_use], axis=0, weights=lat_weights_use),\n",
    "               color=color_seq_pressure[i], label=int(pressure_ft_range[i]))\n",
    "    ax[1].plot(quant_plot, np.average(((z_ft_quant3[1, i] - z_ft_quant3[0, i])/(z_ft_mean[1, i]-z_ft_mean[0, i])[:, np.newaxis])[lat_use], axis=0, weights=lat_weights_use),\n",
    "               color=color_seq_pressure[i], label=int(pressure_ft_range[i]))\n",
    "ax[1].hlines(1, 0, 100, color='k', lw=ax_linewidth)\n",
    "ax[0].set_xlim(0, 100)\n",
    "ax[0].legend(fontsize=5, title='Pressure [hPa]', title_fontsize=5)\n",
    "ax[-1].set_xlabel('Temperature Percentile')\n",
    "ax[0].set_ylabel('$\\delta z$ [m]')\n",
    "ax[1].set_ylabel('$\\delta z/\\delta \\overline{z}$')"
   ],
   "metadata": {
    "collapsed": false,
    "ExecuteTime": {
     "end_time": "2024-01-08T11:57:15.427916Z",
     "start_time": "2024-01-08T11:57:15.301424Z"
    }
   },
   "outputs": []
  },
  {
   "cell_type": "code",
   "execution_count": 64,
   "source": [
    "# Load in dataset to compute the gradient\n",
    "# keep 'lon' and 'time' separate. And only keep pressure levels in above plot as well as only height and temp\n",
    "ds_gradient = []        \n",
    "with tqdm(total=n_exp, position=0, leave=True) as pbar:\n",
    "    for i in range(n_exp):\n",
    "        ds_use = ds[i].sel(pfull=pressure_ft_range).sel(time=slice(use_time_start, np.inf))[['height', 'temp']]\n",
    "        # ds_use = ds_use.isel(pfull=slice(None, None, -1))       # make surface pressure the first index\n",
    "        if season == 'summer':\n",
    "            ds_nh_summer = isca_tools.utils.annual_time_slice(ds_use, summer_months['nh']).sel(lat=slice(0, 90))  \n",
    "            ds_sh_summer = isca_tools.utils.annual_time_slice(ds_use, summer_months['sh']).sel(lat=slice(-90, 0)) \n",
    "            # Combine hemispheres and average over longitude, time and latitude.\n",
    "            ds_use = xr.concat([ds_sh_summer, ds_nh_summer], dim='lat')\n",
    "        ds_use = ds_use.transpose('pfull', 'lat', 'lon', 'time')        # make time the last index\n",
    "        ds_gradient += [ds_use.load()]\n",
    "        pbar.update(1)"
   ],
   "metadata": {
    "collapsed": false,
    "ExecuteTime": {
     "end_time": "2024-01-08T11:57:28.770291Z",
     "start_time": "2024-01-08T11:57:15.437942Z"
    }
   },
   "outputs": []
  },
  {
   "cell_type": "code",
   "execution_count": 65,
   "source": [
    "def get_gradient(var, lon, lat):\n",
    "    # Returns d/dx and d/dy\n",
    "    # Axis 0 is pressure, axis 1 is latitude, axis 2 is lon and axis 3 is time\n",
    "    lon = np.asarray(np.deg2rad(lon))\n",
    "    lat = np.asarray(np.deg2rad(lat))\n",
    "    d_var_dx = (1/radius_earth*np.cos(lat)[np.newaxis, :, np.newaxis, np.newaxis]) * np.gradient(var, lon, axis=2)\n",
    "    d_var_dy = (1/radius_earth) * np.gradient(var, lat, axis=1)\n",
    "    return d_var_dx, d_var_dy"
   ],
   "metadata": {
    "collapsed": false,
    "ExecuteTime": {
     "end_time": "2024-01-08T11:57:28.777584Z",
     "start_time": "2024-01-08T11:57:28.769244Z"
    }
   },
   "outputs": []
  },
  {
   "cell_type": "code",
   "execution_count": 66,
   "source": [
    "d_temp_dx = np.zeros((n_exp, n_pressure_ft, n_lat, len(ds_gradient[0].lon), len(ds_gradient[0].time)))\n",
    "d_temp_dy = np.zeros((n_exp, n_pressure_ft, n_lat, len(ds_gradient[0].lon), len(ds_gradient[0].time)))\n",
    "for i in tqdm(range(n_exp)):\n",
    "    d_temp_dx[i], d_temp_dy[i] = get_gradient(ds_gradient[i].temp, ds_gradient[i].lon, ds_gradient[i].lat)\n",
    "# Stack lon and lat coordinates again, so same dimensions as ds_all\n",
    "d_temp_dx = d_temp_dx.reshape((n_exp, n_pressure_ft, n_lat, -1))\n",
    "d_temp_dy = d_temp_dy.reshape((n_exp, n_pressure_ft, n_lat, -1))"
   ],
   "metadata": {
    "collapsed": false,
    "ExecuteTime": {
     "end_time": "2024-01-08T11:57:30.894231Z",
     "start_time": "2024-01-08T11:57:28.772153Z"
    }
   },
   "outputs": []
  },
  {
   "cell_type": "code",
   "execution_count": 67,
   "source": [
    "# Sanity check that the method of re-ordering is the same as it is when stacking in lon_time\n",
    "a = ds_gradient[0].temp.sel(pfull=[200, 400], lat=[-30, 0, 60], method='nearest')\n",
    "a = a.to_numpy().reshape(2, 3, -1) - ds_all[0].temp.sel(pfull=[200, 400], lat=[-30, 0, 60], method='nearest').to_numpy()\n",
    "a = np.abs(a).max()\n",
    "print(a)"
   ],
   "metadata": {
    "collapsed": false,
    "ExecuteTime": {
     "end_time": "2024-01-08T11:57:30.929418Z",
     "start_time": "2024-01-08T11:57:30.895981Z"
    }
   },
   "outputs": []
  },
  {
   "cell_type": "code",
   "execution_count": 68,
   "source": [
    "save_T_gradient_mean_fig = False\n",
    "\n",
    "fig, ax = plt.subplots(2,2, figsize=(2*width['one_col'], 2*width['one_col']/ar), sharex=True)\n",
    "for i in range(n_pressure_ft):\n",
    "    var_use = d_temp_dx.mean(axis=-1)\n",
    "    ax[0, 0].plot(ds_all[0].lat, var_use[0, i], color=color_seq_pressure[i], label=int(pressure_ft_range[i]))\n",
    "    ax[0, 0].plot(ds_all[0].lat, var_use[1, i], color=color_seq_pressure[i], linestyle=':')\n",
    "    ax[1, 0].plot(ds_all[0].lat, var_use[1, i]-var_use[0, i], color=color_seq_pressure[i], label=int(pressure_ft_range[i]))\n",
    "    \n",
    "    var_use = d_temp_dy.mean(axis=-1)\n",
    "    ax[0, 1].plot(ds_all[0].lat, var_use[0, i], color=color_seq_pressure[i], label=int(pressure_ft_range[i]))\n",
    "    ax[0, 1].plot(ds_all[0].lat, var_use[1, i], color=color_seq_pressure[i], linestyle=':')\n",
    "    ax[1, 1].plot(ds_all[0].lat, (var_use[1, i]-var_use[0, i]), color=color_seq_pressure[i])\n",
    "ax[1, 0].hlines(0, -90, 90, color='k', lw=ax_linewidth)\n",
    "ax[0, 0].set_xlim(-90, 90)\n",
    "ax[0, 0].legend(fontsize=5, title='Pressure [hPa]', title_fontsize=5)\n",
    "fig.supxlabel('Latitude [deg]', fontsize=8)\n",
    "ax[0, 0].set_ylabel('$\\overline{\\partial T/\\partial x}$ [K/m]')\n",
    "ax[0, 1].set_ylabel('$\\overline{\\partial T/\\partial y}$ [K/m]')\n",
    "ax[1, 0].set_ylabel('$\\delta (\\overline{\\partial T/\\partial x})$ [K/m]')\n",
    "ax[1, 1].set_ylabel('$\\delta (\\overline{\\partial T/\\partial y})$ [K/m]')\n",
    "plt.tight_layout()\n",
    "\n",
    "if save_fig or save_T_gradient_mean_fig:\n",
    "    fig.savefig(f\"/Users/joshduffield/Desktop/T_gradient_mean_{season}.pdf\",\n",
    "                dpi=dpi['monochrome'] if publish_fig else low_dpi, bbox_inches='tight', pad_inches=save_pad_inches)"
   ],
   "metadata": {
    "collapsed": false,
    "ExecuteTime": {
     "end_time": "2024-01-08T11:57:31.535629Z",
     "start_time": "2024-01-08T11:57:30.951094Z"
    }
   },
   "outputs": []
  },
  {
   "cell_type": "code",
   "execution_count": 69,
   "source": [
    "d_temp_dx_quant3 = np.zeros((n_exp, n_pressure_ft, n_lat, n_quant))\n",
    "d_temp_dy_quant3 = np.zeros((n_exp, n_pressure_ft, n_lat, n_quant))\n",
    "\n",
    "with tqdm(total=n_exp*n_quant*len(lat_use), position=0, leave=True) as pbar:\n",
    "    for i in range(n_exp):\n",
    "        for k in range(n_lat):\n",
    "            if k not in lat_use:\n",
    "                continue\n",
    "            for j, quant in enumerate(quant_plot):\n",
    "                use_ind = get_quant_ind(ds_all[i].temp[0, k], quant, 0.5, 0.5)\n",
    "                # Need axis 0 here because for some reason it transposes\n",
    "                d_temp_dx_quant3[i, :, k, j] = np.mean(d_temp_dx[i, :, k, use_ind], axis=0)\n",
    "                d_temp_dy_quant3[i, :, k, j] = np.mean(d_temp_dy[i, :, k, use_ind], axis=0)\n",
    "                pbar.update(1)"
   ],
   "metadata": {
    "collapsed": false,
    "ExecuteTime": {
     "end_time": "2024-01-08T11:58:16.818829Z",
     "start_time": "2024-01-08T11:57:31.535883Z"
    }
   },
   "outputs": []
  },
  {
   "cell_type": "code",
   "execution_count": 90,
   "source": [
    "f_coriolis_use = 2 * rot_earth * np.sin(np.deg2rad(ds_gradient[0].lat).to_numpy())[:, np.newaxis]\n",
    "fig, ax = plt.subplots(2,1, figsize=(width['one_col'], 2*width['one_col']/ar), sharex=True)\n",
    "for i in range(n_pressure_ft):\n",
    "    ax[0].plot(quant_plot, np.average(((d_temp_dx_quant3[1, i] - d_temp_dx_quant3[0, i])/f_coriolis_use)[lat_use], axis=0, \n",
    "                                      weights=lat_weights_use), color=color_seq_pressure[i], label=int(pressure_ft_range[i]))\n",
    "    ax[1].plot(quant_plot, np.average(((d_temp_dx_quant3[1, i] - d_temp_dx_quant3[0, i])/(d_temp_dx.mean(axis=-1)[1, i]-d_temp_dx.mean(axis=-1)[0, i])[:, np.newaxis])[lat_use], axis=0, weights=lat_weights_use), color=color_seq_pressure[i], label=int(pressure_ft_range[i]))\n",
    "ax[1].hlines(1, 0, 100, color='k', lw=ax_linewidth)\n",
    "ax[0].set_xlim(0, 100)\n",
    "ax[0].legend(fontsize=5, title='Pressure [hPa]', title_fontsize=5)\n",
    "ax[-1].set_xlabel('Temperature Percentile')\n",
    "ax[0].set_ylabel('$\\\\frac{1}{f}\\delta (\\partial T/\\partial x)$ [Ks/m]')\n",
    "ax[1].set_ylabel('$\\delta (\\partial T/\\partial x) / \\delta (\\overline{\\partial T/\\partial x})$')"
   ],
   "metadata": {
    "collapsed": false,
    "ExecuteTime": {
     "end_time": "2024-01-08T12:12:14.595045Z",
     "start_time": "2024-01-08T12:12:13.956196Z"
    }
   },
   "outputs": []
  },
  {
   "cell_type": "code",
   "execution_count": 86,
   "source": [
    "f_coriolis_use = 2 * rot_earth * np.sin(np.deg2rad(ds_gradient[0].lat).to_numpy())[:, np.newaxis]\n",
    "fig, ax = plt.subplots(2,1, figsize=(width['one_col'], 2*width['one_col']/ar), sharex=True)\n",
    "for i in range(n_pressure_ft):\n",
    "    ax[0].plot(quant_plot, np.average(((d_temp_dy_quant3[1, i] - d_temp_dy_quant3[0, i])/f_coriolis_use)[lat_use], \n",
    "                                      axis=0, weights=lat_weights_use),\n",
    "               color=color_seq_pressure[i], label=int(pressure_ft_range[i]))\n",
    "    ax[1].plot(quant_plot, np.average(((d_temp_dy_quant3[1, i] - d_temp_dy_quant3[0, i])/(d_temp_dy.mean(axis=-1)[1, i]-d_temp_dy.mean(axis=-1)[0, i])[:, np.newaxis])[lat_use], axis=0, weights=lat_weights_use), color=color_seq_pressure[i], label=int(pressure_ft_range[i]))\n",
    "ax[1].hlines(1, 0, 100, color='k', lw=ax_linewidth)\n",
    "ax[0].set_xlim(0, 100)\n",
    "ax[0].legend(fontsize=5, title='Pressure [hPa]', title_fontsize=5)\n",
    "ax[-1].set_xlabel('Temperature Percentile')\n",
    "ax[0].set_ylabel('$\\\\frac{1}{f}\\delta (\\partial T/\\partial y)$ [Ks/m]')\n",
    "ax[1].set_ylabel('$\\delta (\\partial T/\\partial y) / \\delta (\\overline{\\partial T/\\partial y})$')"
   ],
   "metadata": {
    "collapsed": false,
    "ExecuteTime": {
     "end_time": "2024-01-08T12:08:18.644654Z",
     "start_time": "2024-01-08T12:08:18.302935Z"
    }
   },
   "outputs": []
  },
  {
   "cell_type": "markdown",
   "source": [
    "## Why does $\\overline{u_T}$ increase with warming in mid-latitudes?\n",
    "### Compare $\\overline{u_T}$ methods\n",
    "\n",
    "The solid line takes the average of $u_{x_T}$ computed on each day. The dotted line shows it computing $\\partial \\overline{T} / \\partial y$ where $\\overline{T}$ is the average over all time and longitude. They are quite similar at mid-latitudes."
   ],
   "metadata": {
    "collapsed": false
   }
  },
  {
   "cell_type": "code",
   "execution_count": 72,
   "source": [
    "u_thermal_mean_simple = np.asarray([get_u_thermal(ds_all[i].mean(dim='lon_time')) for i in range(n_exp)])\n",
    "\n",
    "# Also compute simple version of u_T conditioned on a near-surface temperature percentile\n",
    "u_thermal_quant3_simple_lat = np.zeros((n_exp, n_lat))\n",
    "with tqdm(total=n_exp*n_lat, position=0, leave=True) as pbar:\n",
    "    for i in range(n_exp):\n",
    "        for k in range(n_lat):\n",
    "            use_ind = get_quant_ind(ds_all[i].temp[0, k], quant3_lat_use, 0.5, 0.5)\n",
    "            ds_use = ds_all[i].isel(lon_time=use_ind).mean(dim='lon_time')[['temp']]\n",
    "            u_thermal_quant3_simple_lat[i, k] = get_u_thermal(ds_use)[k]\n",
    "            pbar.update(1)"
   ],
   "metadata": {
    "collapsed": false,
    "ExecuteTime": {
     "end_time": "2024-01-08T11:58:44.192104Z",
     "start_time": "2024-01-08T11:58:17.512449Z"
    }
   },
   "outputs": []
  },
  {
   "cell_type": "code",
   "execution_count": 73,
   "source": [
    "method_u_plots = 'mean'         # consider mean thermal wind\n",
    "# method_u_plots = 'quant3'     # consider thermal wind averaged over a percentile of near-surface temperature\n",
    "fig, ax = plt.subplots(2, 1, figsize=(width['one_col'], 2 * width['one_col'] / ar), sharex=True)\n",
    "for i in range(n_exp):\n",
    "    ax[0].plot(ds_all[i].lat, u_thermal_quant3_lat[i] if method_u_plots=='quant3' else u_thermal_mean[i], \n",
    "               color=default_colors[i], label='$\\kappa={:.2f}$'.format(tau_lw[i]))\n",
    "    ax[0].plot(ds_all[i].lat, u_thermal_quant3_simple_lat[i] if method_u_plots=='quant3' else u_thermal_mean_simple[i],\n",
    "               color=default_colors[i], linestyle=':')\n",
    "if method_u_plots == 'quant3':\n",
    "    ax[1].plot(ds_all[0].lat, u_thermal_quant3_lat[1] - u_thermal_quant3_lat[0], color='k')\n",
    "    ax[1].plot(ds_all[1].lat, u_thermal_quant3_simple_lat[1] - u_thermal_quant3_simple_lat[0], color='k', linestyle=':')\n",
    "    label_u = f'$u_T(x_T={quant3_lat_use})$'\n",
    "else:\n",
    "    ax[1].plot(ds_all[0].lat, u_thermal_mean[1] - u_thermal_mean[0], color='k')\n",
    "    ax[1].plot(ds_all[1].lat, u_thermal_mean_simple[1] - u_thermal_mean_simple[0], color='k', linestyle=':')\n",
    "    label_u = '$\\overline{u_T}$'\n",
    "    ax[1].set_title(f'Mean')\n",
    "ax[0].hlines(0, -90, 90, color='k', lw=ax_linewidth)\n",
    "ax[1].hlines(0, -90, 90, color='k', lw=ax_linewidth)\n",
    "ax[0].set_ylabel(f'{label_u} [m/s]')\n",
    "ax[1].set_ylabel(f'$\\Delta$ {label_u} [m/s]')\n",
    "ax[0].legend()\n",
    "ax[0].set_xlim(-90, 90)"
   ],
   "metadata": {
    "collapsed": false,
    "ExecuteTime": {
     "end_time": "2024-01-08T11:58:44.349294Z",
     "start_time": "2024-01-08T11:58:44.199759Z"
    }
   },
   "outputs": []
  },
  {
   "cell_type": "markdown",
   "source": [
    "### Contribution as function of pressure\n",
    "By varying the upper limit in the integral of $\\overline{u_T}$, we see that near the surface, changes with warming actually act to reduce $u_T$, but these effects are dominated by what is going on near 200hPa."
   ],
   "metadata": {
    "collapsed": false
   }
  },
  {
   "cell_type": "code",
   "execution_count": 74,
   "source": [
    "def get_u_thermal_cumulative(temp, pressure, lat):\n",
    "    \"\"\"\n",
    "    Equation 1 in the paper. Returns wind using every pressure level as an upper bound.\n",
    "    Args:\n",
    "        temp: [n_pressure x n_lat] in K\n",
    "        pressure: [n_pressure] in Pa\n",
    "            First value is the near-surface pressure\n",
    "        lat: [n_lat] in deg\n",
    "\n",
    "    Returns:\n",
    "        [n_pressure x n_lat] in m/s\n",
    "    \"\"\"\n",
    "    integrand = np.gradient(temp, np.deg2rad(lat), axis=1) / pressure[:, np.newaxis]\n",
    "    f_coriolis = 2 * rot_earth * np.sin(np.deg2rad(lat).to_numpy())[np.newaxis]\n",
    "    return scipy.integrate.cumulative_trapezoid(integrand, pressure, axis=0, initial=0) * R / (radius_earth * f_coriolis)\n",
    "\n",
    "def get_u_thermal_cumulative_sigma(temp, sigma, lat):\n",
    "    \"\"\"\n",
    "    Equation 1 in the paper. Returns wind using every sigma level as an upper bound.\n",
    "    To convert from pressure to sigma, use p = sigma \\times p_s. Then p_s cancels out because have dp/p term.\n",
    "    This gives exactly the same result as get_u_thermal_cumulative using the approx pressure levels given by Isca.\n",
    "    \n",
    "    Args:\n",
    "        temp: [n_pressure x n_lat] in K\n",
    "        sigma: [n_sigma]\n",
    "            First value is the near-surface sigma (near 1).\n",
    "        lat: [n_lat] in deg\n",
    "\n",
    "    Returns:\n",
    "        [n_sigma x n_lat] in m/s\n",
    "    \"\"\"\n",
    "    integrand = np.gradient(temp, np.deg2rad(lat), axis=1) / sigma[:, np.newaxis]\n",
    "    f_coriolis = 2 * rot_earth * np.sin(np.deg2rad(lat).to_numpy())[np.newaxis]\n",
    "    return scipy.integrate.cumulative_trapezoid(integrand, sigma, axis=0, initial=0) * R / (radius_earth * f_coriolis)\n",
    "\n",
    "\n",
    "quant3_lat_use = 1\n",
    "lat_trapezoid = 35\n",
    "lat_trapezoid_ind = int(np.abs((ds_all[0].lat - lat_trapezoid)).argmin())\n",
    "lat_trapezoid_actual = round(float(ds_all[0].lat[lat_trapezoid_ind]), 1)\n",
    "if method_u_plots == 'quant3':\n",
    "    ds_use = []\n",
    "    for i in range(n_exp):\n",
    "        use_ind = get_quant_ind(ds_all[i].temp[0, lat_trapezoid_ind], quant3_lat_use, 0.5, 0.5)\n",
    "        ds_use += [ds_all[i].isel(lon_time=use_ind).mean(dim='lon_time').temp]\n",
    "else:\n",
    "    ds_use = [ds_all[i].mean(dim='lon_time').temp for i in range(n_exp)]\n",
    "u_thermal_trapezoid = np.asarray([get_u_thermal_cumulative(ds_use[i], np.asarray(ds_all[0].pfull)*100, \n",
    "                                                           ds_all[0].lat)[:, lat_trapezoid_ind] for i in range(n_exp)])\n",
    "u_thermal_trapezoid_sigma = np.asarray([get_u_thermal_cumulative_sigma(ds_use[i], sigma_levels_use, \n",
    "                                                           ds_all[0].lat)[:, lat_trapezoid_ind] for i in range(n_exp)])"
   ],
   "metadata": {
    "collapsed": false,
    "ExecuteTime": {
     "end_time": "2024-01-08T11:58:52.837204Z",
     "start_time": "2024-01-08T11:58:44.357908Z"
    }
   },
   "outputs": []
  },
  {
   "cell_type": "code",
   "execution_count": 75,
   "source": [
    "fig, ax = plt.subplots(2, 1, figsize=(width['one_col'], 2 * width['one_col'] / ar), sharex=True)\n",
    "for i in range(n_exp):\n",
    "    ax[0].plot(ds_all[0].pfull, u_thermal_trapezoid[i], color=default_colors[i], label='$\\kappa={:.2f}$'.format(tau_lw[i]))\n",
    "ax[1].plot(ds_all[0].pfull, u_thermal_trapezoid[1] - u_thermal_trapezoid[0], color='k')\n",
    "ax[0].invert_xaxis()\n",
    "ax[0].legend()\n",
    "ax[1].hlines(0, ds_all[0].pfull[0], 0, color='k', lw=ax_linewidth)\n",
    "ax[0].set_xlim(ds_all[0].pfull[0], ds_all[0].pfull[-1])\n",
    "ax[1].set_xlabel('Upper pressure limit of integral [hPa]')\n",
    "ax[0].set_ylabel(f'{label_u} [m/s]')\n",
    "ax[1].set_ylabel(f'$\\Delta$ {label_u} [m/s]')\n",
    "ax[0].set_title(f'Lat = ${lat_trapezoid_actual}\\degree$')"
   ],
   "metadata": {
    "collapsed": false,
    "ExecuteTime": {
     "end_time": "2024-01-08T11:58:52.989467Z",
     "start_time": "2024-01-08T11:58:52.836218Z"
    }
   },
   "outputs": []
  },
  {
   "cell_type": "markdown",
   "source": [
    "### $\\partial \\overline{T} / \\partial y$ Variation\n",
    "In the left column below, we see that we have arctic amplification near the surface, with greater heating at higher latitudes.\n",
    "\n",
    "From the trapezium rule, the contribution of a particular altitude to $u_{T}$ is approximately $(p_2-p_1)(\\partial \\overline{T} / \\partial y)|_{p_1}$, with $p_2-p_1<0$ because the upper bound of the integral is smaller than the lower bound (surface). \n",
    "\n",
    "So if $(\\partial \\overline{T} / \\partial y)|_{p_1}<0$ (at surface of midlatitudes because temperature decreases poleward), we get a positive contribution to $u_{T}$. If it then becomes less negative with warming (arctic amplification near the surface), the positive contribution to $u_{T}$ decreases.\n",
    "\n",
    "If $(\\partial \\overline{T} / \\partial y)|_{p_1}<0$ and it becomes more negative with warming (413hPa at 25$\\degree$ latitude below), then the positive contribution to $u_{T}$ increases.\n",
    "\n",
    "If $(\\partial \\overline{T} / \\partial y)|_{p_1}>0$ (216hPa at 25$\\degree$ latitude below), we get a negative contribution to $u_{T}$. If it becomes less positive with warming, the negative contribution decreases in magnitude - corresponding to an increase in $u_T$."
   ],
   "metadata": {
    "collapsed": false
   }
  },
  {
   "cell_type": "code",
   "execution_count": 76,
   "source": [
    "if method_u_plots == 'quant3':\n",
    "    temp_use = []\n",
    "    for i in range(n_exp):\n",
    "        use_ind = get_quant_ind(ds_all[i].temp[0, lat_trapezoid_ind], quant3_lat_use, 0.5, 0.5)\n",
    "        temp_use += [ds_all[i].isel(lon_time=use_ind).mean(dim='lon_time'\n",
    "                                                          ).sel(pfull=pressure_ft_range).sel(lat=slice(lat_min-10, lat_max+10)).temp \n",
    "                     for i in range(n_exp)]\n",
    "else:\n",
    "    temp_use = [ds_all[i].mean(dim='lon_time').sel(pfull=pressure_ft_range).sel(lat=slice(lat_min-10, lat_max+10)).temp for i in range(n_exp)]\n",
    "temp_use_grad = [(1/radius_earth) * np.gradient(temp_use[i], temp_use[i].lat, axis=1) for i in range(n_exp)]"
   ],
   "metadata": {
    "collapsed": false,
    "ExecuteTime": {
     "end_time": "2024-01-08T11:58:59.157499Z",
     "start_time": "2024-01-08T11:58:52.991723Z"
    }
   },
   "outputs": []
  },
  {
   "cell_type": "code",
   "execution_count": 77,
   "source": [
    "save_T_gradient_mean_fig = False\n",
    "\n",
    "fig, ax = plt.subplots(2,2, figsize=(2*width['one_col'], 2*width['one_col']/ar), sharex=True)\n",
    "for j in range(n_exp):\n",
    "    for i in range(n_pressure_ft):\n",
    "        ax[0, 0].plot(temp_use[j].lat, temp_use[j][i], color=color_seq_pressure[i], \n",
    "                      label=int(pressure_ft_range[i]) if j==0 else None, linestyle=':' if j==1 else '-')\n",
    "        ax[1, 0].plot(temp_use[j].lat, temp_use[1][i]-temp_use[0][i], color=color_seq_pressure[i])\n",
    "        ax[0, 1].plot(temp_use[j].lat, 1000**3*temp_use_grad[j][i], color=color_seq_pressure[i], linestyle=':' if j==1 else '-')\n",
    "        ax[1, 1].plot(temp_use[j].lat, 1000**3*(temp_use_grad[1][i]-temp_use_grad[0][i]), color=color_seq_pressure[i])\n",
    "for i, ax_use in enumerate(ax.flatten()):\n",
    "    if i>0:\n",
    "        ax_use.hlines(0, -90, 90, color='k', lw=ax_linewidth)\n",
    "    ylim = ax_use.get_ylim()\n",
    "    ax_use.vlines(lat_trapezoid_actual, ylim[0], ylim[1], color='k', lw=ax_linewidth)\n",
    "    ax_use.set_ylim(ylim)\n",
    "ax[0, 0].set_xlim(temp_use[0].lat[0], temp_use[0].lat[-1])\n",
    "ax[0, 0].legend(fontsize=5, title='Pressure [hPa]', title_fontsize=5)\n",
    "fig.supxlabel('Latitude [deg]', fontsize=8)\n",
    "ax[0, 0].set_ylabel('$T$ [K]')\n",
    "ax[1, 0].set_ylabel('$\\Delta T$ [K]')\n",
    "ax[0, 1].set_ylabel('$\\partial T/\\partial y$ [$10^{-9}$K/m]')\n",
    "ax[1, 1].set_ylabel('$\\Delta (\\partial T/\\partial y)$ [$10^{-9}$K/m]')\n",
    "fig.suptitle(f'$x_T={quant3_lat_use}$' if method_u_plots == 'quant3' else 'Mean', fontsize=8)\n",
    "plt.tight_layout()\n",
    "\n",
    "if save_fig or save_T_gradient_mean_fig:\n",
    "    fig.savefig(f\"/Users/joshduffield/Desktop/T_gradient_{method_u_plots}_{season}.pdf\",\n",
    "                dpi=dpi['monochrome'] if publish_fig else low_dpi, bbox_inches='tight', pad_inches=save_pad_inches)"
   ],
   "metadata": {
    "collapsed": false,
    "ExecuteTime": {
     "end_time": "2024-01-08T11:58:59.463494Z",
     "start_time": "2024-01-08T11:58:59.166074Z"
    }
   },
   "outputs": []
  },
  {
   "cell_type": "code",
   "execution_count": 77,
   "source": [],
   "metadata": {
    "collapsed": false,
    "ExecuteTime": {
     "end_time": "2024-01-08T11:58:59.464577Z",
     "start_time": "2024-01-08T11:58:59.458664Z"
    }
   },
   "outputs": []
  },
  {
   "cell_type": "code",
   "execution_count": 77,
   "source": [],
   "metadata": {
    "collapsed": false,
    "ExecuteTime": {
     "end_time": "2024-01-08T11:58:59.465403Z",
     "start_time": "2024-01-08T11:58:59.460305Z"
    }
   },
   "outputs": []
  }
 ],
 "metadata": {
  "kernelspec": {
   "display_name": "Python 3",
   "language": "python",
   "name": "python3"
  },
  "language_info": {
   "codemirror_mode": {
    "name": "ipython",
    "version": 2
   },
   "file_extension": ".py",
   "mimetype": "text/x-python",
   "name": "python",
   "nbconvert_exporter": "python",
   "pygments_lexer": "ipython2",
   "version": "2.7.6"
  }
 },
 "nbformat": 4,
 "nbformat_minor": 0
}
