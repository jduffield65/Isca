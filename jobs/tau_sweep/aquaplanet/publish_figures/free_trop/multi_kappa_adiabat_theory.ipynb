{
 "cells": [
  {
   "cell_type": "markdown",
   "source": [
    "# Publishing Figures - Multi Kappa\n",
    "This notebook is for generating extratropic specific plots, combining all $\\kappa$ simulations."
   ],
   "metadata": {
    "collapsed": false
   }
  },
  {
   "cell_type": "code",
   "source": [
    "import sys\n",
    "import os\n",
    "# REMOTE - So can access functions in isca_tools which is in home/Isca directory\n",
    "# sys.path.append(os.path.join(os.environ['HOME'], 'Isca'))\n",
    "# LOCAL - So can access functions in isca_tools which is in StAndrews/Isca\n",
    "sys.path.append(os.environ['PWD'])\n",
    "import isca_tools\n",
    "from isca_tools.utils.moist_physics import clausius_clapeyron_factor, sphum_sat, moist_static_energy\n",
    "from isca_tools.utils.constants import L_v, c_p, g, R\n",
    "from isca_tools.utils.stats import z_score_from_confidence_interval\n",
    "from isca_tools.utils import area_weight_mean_lat, area_weighting\n",
    "from isca_tools.thesis.adiabat_theory import (get_delta_temp_quant_theory, get_delta_mse_mod_anom_theory,\n",
    "                                              get_delta_temp_quant_z_theory)\n",
    "from isca_tools.papers.byrne_2021 import get_quant_ind\n",
    "from isca_tools.plot import label_subplots\n",
    "import numpy as np\n",
    "import matplotlib.pyplot as plt\n",
    "import xarray as xr\n",
    "import scipy.optimize\n",
    "from tqdm import tqdm\n",
    "import os\n",
    "import numpy_indexed\n",
    "plt.style.use('/Users/joshduffield/Documents/StAndrews/Isca/jobs/tau_sweep/aquaplanet/publish_figures/publish.mplstyle')"
   ],
   "metadata": {
    "collapsed": false,
    "ExecuteTime": {
     "end_time": "2024-04-15T08:53:38.204771Z",
     "start_time": "2024-04-15T08:53:35.330555Z"
    }
   },
   "outputs": [
    {
     "name": "stderr",
     "output_type": "stream",
     "text": [
      "2024-04-15 09:53:35,339 - isca - WARNING - Environment variable GFDL_SOC not set, but this is only required if using SocratesCodebase. Setting to None\n"
     ]
    }
   ],
   "execution_count": 1
  },
  {
   "cell_type": "code",
   "source": [
    "# Load dataset\n",
    "# var_keep = ['temp', 'sphum', 'height', 'convflag', 'klzbs']\n",
    "var_keep = ['temp', 'sphum', 'height']\n",
    "exp_dir = 'tau_sweep/aquaplanet/depth=1/'\n",
    "# exp_dir = 'tau_sweep/aquaplanet/'\n",
    "exp_names = [dir for dir in os.listdir(os.path.join(os.environ['GFDL_DATA'],exp_dir)) if dir[0]=='k']\n",
    "exp_names.sort()\n",
    "# exp_names = exp_names[2:-1]     # get rid of coldest 2 and warmest simulation as don't work well\n",
    "n_exp = len(exp_names)\n",
    "ds = []\n",
    "albedo = []\n",
    "tau_sw = []\n",
    "tau_lw = []\n",
    "for i in tqdm(range(n_exp)):\n",
    "    ds_use = isca_tools.load_dataset(exp_dir + exp_names[i])[var_keep]\n",
    "    ds += [ds_use]\n",
    "    namelist = isca_tools.load_namelist(exp_dir + exp_names[i])  # Need this for albedo_value\n",
    "    albedo += [namelist['mixed_layer_nml']['albedo_value']]\n",
    "    tau_sw += [namelist['two_stream_gray_rad_nml']['atm_abs']]\n",
    "    tau_lw += [namelist['two_stream_gray_rad_nml']['odp']]\n",
    "tau_lw = np.asarray(tau_lw)\n",
    "p_surface = float(ds[0].pfull[-1]) * 100"
   ],
   "metadata": {
    "collapsed": false,
    "ExecuteTime": {
     "end_time": "2024-04-15T09:46:14.429151Z",
     "start_time": "2024-04-15T09:45:55.612918Z"
    }
   },
   "outputs": [
    {
     "name": "stderr",
     "output_type": "stream",
     "text": [
      "100%|██████████| 8/8 [00:18<00:00,  2.34s/it]\n"
     ]
    }
   ],
   "execution_count": 71
  },
  {
   "cell_type": "markdown",
   "source": [
    "## Get datasets\n",
    "Get one dataset for each $\\kappa$, combining the desired latitudes: `ds_all`. This combines all or just the summer months in each hemisphere, e.g. negative latitudes will only correspond to times in December, January or February."
   ],
   "metadata": {
    "collapsed": false
   }
  },
  {
   "cell_type": "code",
   "source": [
    "# If true, will save all figures to desktop - option to save specific figures later on.\n",
    "save_fig = False\n",
    "# if publishing figure, use high dpi\n",
    "publish_fig = True\n",
    "\n",
    "ar = 4/3        # aspect ratio (width/height)\n",
    "# Details required for Journal of Climate Figures\n",
    "low_dpi = 100\n",
    "dpi = {'monochrome': 1100, 'combination': 800, 'halftone': 300}\n",
    "width = {'one_col': 3.2, 'two_col': 5.5}        # width in inches \n",
    "save_pad_inches = 0.05\n",
    "\n",
    "# Default parameters\n",
    "default_colors = plt.rcParams['axes.prop_cycle'].by_key()['color']\n",
    "ax_linewidth = plt.rcParams['axes.linewidth']\n",
    "\n",
    "def moving_average(x, w):\n",
    "    return np.convolve(x, np.ones(w), 'valid') / w"
   ],
   "metadata": {
    "collapsed": false,
    "ExecuteTime": {
     "end_time": "2024-04-15T09:46:14.433066Z",
     "start_time": "2024-04-15T09:46:14.430343Z"
    }
   },
   "outputs": [],
   "execution_count": 72
  },
  {
   "cell_type": "code",
   "source": [
    "# Compute Global Average Surface Temperature and get near surface temperature data\n",
    "# Use all data after 2 years, as clearly converged from the above spin up plot\n",
    "use_time_start = 360*2\n",
    "pressure_ft = 500           # Desired approximate pressure of free troposphere (hPa)\n",
    "\n",
    "# Chose whether to only consider summer days or consider all days\n",
    "# season = 'all'\n",
    "season = 'summer'\n",
    "# season = 'winter'\n",
    "if season == 'summer':\n",
    "    season_months = {'nh': [6, 7, 8], 'sh': [12, 1, 2]}   # JJA for NH and DJF for SH\n",
    "elif season == 'winter':\n",
    "    season_months = {'nh': [12, 1, 2], 'sh': [6, 7, 8]}   # JJA for NH and DJF for SH\n",
    "\n",
    "# Tropics\n",
    "# region = 'tropics'\n",
    "# lat_min = 0\n",
    "# lat_max = 20\n",
    "# Extratropics\n",
    "region = 'extratropics'\n",
    "lat_min = 40\n",
    "lat_max = 65\n",
    "# Poles\n",
    "# region = 'High Latitudes'\n",
    "# lat_min = 70\n",
    "# lat_max = 90\n",
    "# region = 'Global'\n",
    "# lat_min = 0\n",
    "# lat_max = 90\n",
    "\n",
    "ds_all = []\n",
    "with tqdm(total=n_exp, position=0, leave=True) as pbar:\n",
    "    for i in range(n_exp):\n",
    "        ds_use = ds[i].sel(time=slice(use_time_start, np.inf))\n",
    "        ds_use = ds_use.sel(pfull=[np.inf, pressure_ft], method='nearest')      # only keep the surface values - get rid of pfull coordinate\n",
    "        ds_use = ds_use.where((np.abs(ds_use.lat) <= lat_max) & (np.abs(ds_use.lat) >= lat_min), drop=True)\n",
    "\n",
    "        if season == 'summer' or season == 'winter':\n",
    "            # Only consider summer as has expected circulation\n",
    "            ds_nh_summer = isca_tools.utils.annual_time_slice(ds_use, season_months['nh']).sel(lat=slice(lat_min, lat_max)) \n",
    "            ds_sh_summer = isca_tools.utils.annual_time_slice(ds_use, season_months['sh']).sel(lat=slice(-lat_max, -lat_min))  \n",
    "            # Combine hemispheres and average over longitude, time and latitude.\n",
    "            # Note that April, May, June, October, November and December will not be included in this dataset\n",
    "            ds_use = xr.concat([ds_sh_summer, ds_nh_summer], dim='lat')\n",
    "        ds_use = ds_use.stack(lon_time=(\"lon\",\"time\"), create_index=False).chunk(dict(lon_time=-1))\n",
    "        ds_all += [ds_use.load()]\n",
    "        pbar.update(1)\n",
    "\n",
    "ind_surf = 0\n",
    "ind_ft = 1\n",
    "p_surface = float(ds_all[0].pfull[ind_surf]) * 100\n",
    "pressure_ft_actual = float(ds_all[0].pfull[ind_ft]) * 100       # Actual pressure of free troposphere (Pa)"
   ],
   "metadata": {
    "collapsed": false,
    "ExecuteTime": {
     "end_time": "2024-04-15T09:46:53.155770Z",
     "start_time": "2024-04-15T09:46:14.433886Z"
    }
   },
   "outputs": [
    {
     "name": "stderr",
     "output_type": "stream",
     "text": [
      "100%|██████████| 8/8 [00:38<00:00,  4.84s/it]\n"
     ]
    }
   ],
   "execution_count": 73
  },
  {
   "cell_type": "markdown",
   "source": [
    "## Near Surface Temperature Quantile\n",
    "Get variables as a function of near-surface temperature quantile"
   ],
   "metadata": {
    "collapsed": false
   }
  },
  {
   "cell_type": "code",
   "source": [
    "quantiles_all = np.arange(1, 100)\n",
    "percentile_label = 'Temperature percentile, $x$'\n",
    "n_quant_all = len(quantiles_all)\n",
    "n_lat = len(ds_all[0].lat)\n",
    "n_pressure = ds_all[0].pfull.shape[0]\n",
    "lat_weights = np.cos(np.deg2rad(ds_all[0].lat))     # latitude area weighting is just the cosine\n",
    "lnp_const = R * np.log(p_surface/pressure_ft_actual)/2      # for modified MSE calculation\n",
    "\n",
    "# Days must have klzb < thresh and convflag > thresh to be considered convecting.\n",
    "klzb_thresh = 13\n",
    "convflag_thresh = 1\n",
    "\n",
    "temp_mean = np.zeros((n_exp, n_pressure, n_lat))         # second index: 0 is surface, 1 is free trop\n",
    "mse_mod_mean = np.zeros((n_exp, n_lat))\n",
    "sphum_mean = np.zeros((n_exp, n_lat))\n",
    "z_mean = np.zeros((n_exp, n_lat))\n",
    "\n",
    "# as function of temperature quantile\n",
    "temp_quant3 = np.zeros((n_exp, n_pressure, n_lat, n_quant_all))\n",
    "mse_mod_quant3 = np.zeros((n_exp, n_lat, n_quant_all))\n",
    "sphum_quant3 = np.zeros((n_exp, n_lat, n_quant_all))\n",
    "z_quant3 = np.zeros((n_exp, n_lat, n_quant_all))\n",
    "convflag_quant3 = np.zeros((n_exp, n_lat, n_quant_all))\n",
    "klzbs_quant3 = np.zeros((n_exp, n_lat, n_quant_all))\n",
    "convfract_quant3 = np.zeros((n_exp, n_lat, n_quant_all))            # record fraction of days convecting\n",
    "with tqdm(total=n_exp*n_lat*n_quant_all, position=0, leave=True) as pbar:\n",
    "    for i in range(n_exp):\n",
    "        temp_mean[i] = ds_all[i].temp.mean(dim='lon_time')\n",
    "        sphum_mean[i] = ds_all[i].sphum.isel(pfull=ind_surf).mean(dim='lon_time')\n",
    "        z_mean[i] = ds_all[i].height.isel(pfull=ind_ft).mean(dim='lon_time')\n",
    "        mse_mod = moist_static_energy(ds_all[i].temp[ind_surf], ds_all[i].sphum[ind_surf], height=0, c_p_const=c_p - lnp_const)\n",
    "        mse_mod_mean[i] = mse_mod.mean(dim='lon_time')\n",
    "        if 'convflag' in var_keep:\n",
    "            is_convecting = np.logical_and(ds_all[i].klzbs<klzb_thresh, ds_all[i].convflag > convflag_thresh)\n",
    "        for k in range(n_lat):\n",
    "            for j, quant in enumerate(quantiles_all):\n",
    "                use_ind = get_quant_ind(ds_all[i].temp.isel(pfull=ind_surf)[k], quant, 0.5, 0.5)\n",
    "                sphum_quant3[i, k, j] = ds_all[i].sphum.isel(pfull=ind_surf)[k, use_ind].mean()\n",
    "                z_quant3[i, k, j] = ds_all[i].height.isel(pfull=ind_ft)[k, use_ind].mean()\n",
    "                mse_mod_quant3[i, k, j] = mse_mod[k, use_ind].mean(dim='lon_time')\n",
    "                temp_quant3[i, :, k, j] = ds_all[i].temp[:, k, use_ind].mean(dim='lon_time')\n",
    "                if 'convflag' in var_keep:\n",
    "                    convflag_quant3[i, k, j] = ds_all[i].convflag[k, use_ind].mean(dim='lon_time')\n",
    "                    klzbs_quant3[i, k, j] = ds_all[i].klzbs[k, use_ind].mean(dim='lon_time')\n",
    "                    convfract_quant3[i, k, j] = np.sum(is_convecting[k, use_ind])/is_convecting[k, use_ind].size\n",
    "                pbar.update(1)"
   ],
   "metadata": {
    "collapsed": false,
    "ExecuteTime": {
     "end_time": "2024-04-15T09:47:51.964092Z",
     "start_time": "2024-04-15T09:46:53.158976Z"
    }
   },
   "outputs": [
    {
     "name": "stderr",
     "output_type": "stream",
     "text": [
      "100%|██████████| 14256/14256 [00:58<00:00, 242.52it/s]\n"
     ]
    }
   ],
   "execution_count": 74
  },
  {
   "cell_type": "code",
   "source": [
    "def get_gradient(temp_quant, temp_av, ref_ind, confidence = 0.9):\n",
    "    \"\"\"\n",
    "    Gets gradient of temperature of given quantile vs average temperature\n",
    "\n",
    "    Args:\n",
    "        temp_quant: [n_exp]\n",
    "        temp_av: [n_exp]\n",
    "        ref_ind: int\n",
    "        confidence: float\n",
    "            Desired confidence in temperature\n",
    "\n",
    "    Returns:\n",
    "        float\n",
    "            Gradient\n",
    "        [n_exp]\n",
    "            Predicted temperature for each experiment\n",
    "        float\n",
    "            Confidence value for the gradient, such that there is the desired confidence \n",
    "            in ± this value about returned gradient.\n",
    "    \"\"\"\n",
    "    fit_func = lambda x, m: temp_quant[ref_ind] + m*(x-temp_av[ref_ind])     # Straight line through the ref point\n",
    "    param, pcov = scipy.optimize.curve_fit(fit_func,temp_av, temp_quant)[:2]\n",
    "    # param_with_error = uncertainties.correlated_values(param, pcov)[0]\n",
    "    # param_std = param_with_error.std_dev\n",
    "    param_std = np.sqrt(pcov)\n",
    "    z_score = z_score_from_confidence_interval(confidence)\n",
    "    return param, fit_func(temp_av, param), z_score * param_std"
   ],
   "metadata": {
    "collapsed": false,
    "ExecuteTime": {
     "end_time": "2024-04-15T09:47:51.976649Z",
     "start_time": "2024-04-15T09:47:51.968943Z"
    }
   },
   "outputs": [],
   "execution_count": 75
  },
  {
   "cell_type": "code",
   "source": [
    "# delta_temp_quant_theory[-1] will be all zeros and never used, but helpful to keep this shape\n",
    "delta_temp_quant_theory = {method: np.zeros((n_exp, n_lat, n_quant_all)) for method in\n",
    "                           ['wtg', 'z', 'wtg_no_rh', 'z_no_rh', 'old', 'old_no_rh', 'best', 'best_no_rh']}\n",
    "with tqdm(total=(n_exp-1)*n_lat*(len(delta_temp_quant_theory) - 2), position=0, leave=True) as pbar:\n",
    "    for i in range(n_exp-1):\n",
    "        for j in range(n_lat):\n",
    "            for key in delta_temp_quant_theory:\n",
    "                if 'old' in key:\n",
    "                    continue\n",
    "                if 'best' in key:\n",
    "                    delta_temp_quant_theory[key][i:i+2, j] = \\\n",
    "                        get_delta_temp_quant_theory(temp_mean[i:i+2, ind_surf, j], temp_quant3[i:i+2, ind_surf, j], sphum_mean[i:i+2, j], \n",
    "                                                    sphum_quant3[i:i+2, j], p_surface, pressure_ft_actual, 'squared', 'squared', \n",
    "                                                    'none' if 'no_rh' in key else 'full')[0]\n",
    "                else:\n",
    "                    if 'z' in key:\n",
    "                        delta_temp_quant_theory[key][i:i+2, j] = \\\n",
    "                            get_delta_temp_quant_z_theory(temp_mean[i:i+2, ind_surf, j], temp_quant3[i:i+2, ind_surf, j], sphum_mean[i:i+2, j],\n",
    "                                                          sphum_quant3[i:i+2, j], temp_mean[i:i+2, ind_ft, j], temp_quant3[i:i+2, ind_ft, j],\n",
    "                                                          z_mean[i:i+2, j], z_quant3[i:i+2, j], p_surface, pressure_ft_actual, \n",
    "                                                          'linear', 'none' if 'no_rh' in key else 'approx_anomaly')[0]\n",
    "                    elif 'wtg' in key:\n",
    "                        delta_temp_quant_theory[key][i:i+2, j], delta_temp_quant_theory[key.replace('wtg', 'old')][i:i+2, j], _ = \\\n",
    "                            get_delta_temp_quant_theory(temp_mean[i:i+2, ind_surf, j], temp_quant3[i:i+2, ind_surf, j], sphum_mean[i:i+2, j],\n",
    "                                                        sphum_quant3[i:i+2, j], p_surface, pressure_ft_actual, 'linear', 'linear', \n",
    "                                                        'none' if 'no_rh' in key else 'approx_anomaly')\n",
    "                pbar.update(1)\n",
    "\n",
    "# theory3 adds the same theoretical delta_temp to theory prediction of previous kappa so errors accumulate\n",
    "temp_quant_theory3 = {method: temp_quant3.copy() for method in delta_temp_quant_theory}\n",
    "for method in delta_temp_quant_theory:\n",
    "    for j in range(n_exp-1):\n",
    "        temp_quant_theory3[method][1+j] = temp_quant_theory3[method][j] + delta_temp_quant_theory[method][j]"
   ],
   "metadata": {
    "collapsed": false,
    "ExecuteTime": {
     "end_time": "2024-04-15T09:48:13.277859Z",
     "start_time": "2024-04-15T09:47:51.978029Z"
    }
   },
   "outputs": [
    {
     "name": "stderr",
     "output_type": "stream",
     "text": [
      "100%|██████████| 756/756 [00:21<00:00, 35.58it/s]\n"
     ]
    }
   ],
   "execution_count": 76
  },
  {
   "cell_type": "code",
   "source": [
    "confidence = 0.9        # desired confidence for shading in plots\n",
    "sf_tau_use = [np.where(tau_lw<=np.inf)[0], np.where(tau_lw<=1)[0], np.where(tau_lw>=1)[0]]\n",
    "sf_tau_ref = [1, 1, 1]\n",
    "sf_labels = ['All $\\kappa$', f'$\\kappa \\leq {tau_lw[sf_tau_use[1]].max()}$', f'$\\kappa \\geq {tau_lw[sf_tau_use[2]].min()}$']\n",
    "n_sf = len(sf_tau_use)\n",
    "# all temperatures averaged above x=0 - same as temp_av except for no area averaging\n",
    "scaling_factor = np.zeros((n_sf, n_lat, n_quant_all))\n",
    "scaling_factor_error = np.zeros((n_sf, n_lat, n_quant_all))\n",
    "\n",
    "scaling_factor_theory = {method: np.zeros((n_sf, n_lat, n_quant_all)) for method in delta_temp_quant_theory}\n",
    "\n",
    "sf_av = temp_mean[:, ind_surf]\n",
    "\n",
    "for i in range(n_sf):\n",
    "    sf_tau_ref_ind = np.where(tau_lw[sf_tau_use[i]]==sf_tau_ref[i])[0]\n",
    "    for j in range(n_quant_all):\n",
    "        # The theory predicts median change but not mean hence I use median rather than mean.\n",
    "        # This means can get theoretical scale factor rather than using simulated mean.\n",
    "        # This means x=50 will correspond to y=1 in all plots below.\n",
    "        # Straight line through the ref point\n",
    "        for k in range(n_lat):\n",
    "            scaling_factor[i, k, j], _, scaling_factor_error[i, k, j] = get_gradient(temp_quant3[sf_tau_use[i], ind_surf, k, j],\n",
    "                                                                                     sf_av[sf_tau_use[i], k], sf_tau_ref_ind,\n",
    "                                                                                     confidence)\n",
    "            for method in scaling_factor_theory:\n",
    "                # Use theory2 version for theoretical scaling factor as errors compounded - makes most sense to me\n",
    "                scaling_factor_theory[method][i, k, j] = get_gradient(temp_quant_theory3[method][sf_tau_use[i], ind_surf, k, j],\n",
    "                                                           sf_av[sf_tau_use[i], k],\n",
    "                                                           sf_tau_ref_ind, confidence)[0]"
   ],
   "metadata": {
    "collapsed": false,
    "ExecuteTime": {
     "end_time": "2024-04-15T09:48:20.707260Z",
     "start_time": "2024-04-15T09:48:13.279105Z"
    }
   },
   "outputs": [],
   "execution_count": 77
  },
  {
   "cell_type": "markdown",
   "source": [
    "## Simulated Scaling Factor\n",
    "Combine simulations to plot the simulated warming of a given percentile as a function of the mean warming."
   ],
   "metadata": {
    "collapsed": false
   }
  },
  {
   "cell_type": "code",
   "source": [
    "save_sf_fig = False\n",
    "# if publishing figure, use high dpi\n",
    "fig, ax = plt.subplots(1,1, figsize=(width['one_col'], width['one_col']/ar))\n",
    "ax.spines[['right', 'top']].set_visible(False)\n",
    "ax.plot(quantiles_all, np.average(scaling_factor[0], axis=0, weights=lat_weights), color='k', label=sf_labels[0])\n",
    "ax.plot(quantiles_all, np.average(scaling_factor[1], axis=0, weights=lat_weights), color='k', linestyle=':',\n",
    "        label = sf_labels[1])\n",
    "ax.plot(quantiles_all, np.average(scaling_factor[2], axis=0, weights=lat_weights), color='k', linestyle='--',\n",
    "        label = sf_labels[2])\n",
    "ax.hlines(1, 0, 100, lw=ax_linewidth, color='k')\n",
    "# # Remove some of the lines but keep ylims the same\n",
    "# ax.lines.pop(1)\n",
    "# ax.lines.pop(1)\n",
    "ax.legend()\n",
    "ax.set_xlim(0,100)\n",
    "# if quant_type_use == 'x':\n",
    "#     ax.set_ylim(0.5,1.5)\n",
    "# else:\n",
    "#     ax.set_ylim(0.5,2.5)\n",
    "ax.set_xlabel(percentile_label)\n",
    "ax.set_ylabel('Scaling factor, $\\delta T(x)/\\delta \\overline{T}$')\n",
    "if save_fig or save_sf_fig:\n",
    "    file_name = f\"scaling_factor_multi_kappa_{region.lower()}\"\n",
    "    fig.savefig(f\"/Users/joshduffield/Desktop/{file_name}.pdf\", dpi=dpi['monochrome'] if publish_fig else low_dpi, \n",
    "                bbox_inches='tight', pad_inches=save_pad_inches)"
   ],
   "metadata": {
    "collapsed": false,
    "ExecuteTime": {
     "end_time": "2024-04-15T09:48:20.801929Z",
     "start_time": "2024-04-15T09:48:20.708051Z"
    }
   },
   "outputs": [
    {
     "data": {
      "text/plain": [
       "<Figure size 320x240 with 1 Axes>"
      ],
      "image/png": "[encoded data removed]"
     },
     "metadata": {},
     "output_type": "display_data"
    }
   ],
   "execution_count": 78
  },
  {
   "cell_type": "markdown",
   "source": [
    "### Tropical Theory\n",
    "Below I apply the theory developed for the tropics to the extratropics. It predicts the amplified warming of cold days, but is not quantitatively accurate."
   ],
   "metadata": {
    "collapsed": false
   }
  },
  {
   "cell_type": "code",
   "source": [
    "# Do a single plot combining all simulations\n",
    "sf_ind_use = 0  # 0, 1 or 2\n",
    "save_sf_theory_fig = True\n",
    "# if publishing figure, use high dpi\n",
    "fig, ax = plt.subplots(1,1, figsize=(width['one_col'], width['one_col']/ar))\n",
    "ax.plot(quantiles_all, np.average(scaling_factor[sf_ind_use], axis=0, weights=lat_weights), color='k', label='Simulated')\n",
    "for i, key in enumerate(['wtg', 'z', 'best', 'old']):\n",
    "    ax.plot(quantiles_all, np.average(scaling_factor_theory[key][sf_ind_use], axis=0, weights=lat_weights), color=default_colors[i], \n",
    "            label=key)\n",
    "    ax.plot(quantiles_all, np.average(scaling_factor_theory[key+'_no_rh'][sf_ind_use], axis=0, weights=lat_weights), color=default_colors[i],\n",
    "            linestyle=':')\n",
    "# Add error\n",
    "ax.fill_between(quantiles_all, np.average(scaling_factor[sf_ind_use]-scaling_factor_error[sf_ind_use], axis=0, weights=lat_weights), \n",
    "                np.average(scaling_factor[sf_ind_use]+scaling_factor_error[sf_ind_use], axis=0, weights=lat_weights), fc='k', alpha=0.1)\n",
    "ax.hlines(1, 0, 100, linewidth=ax_linewidth, color='k')\n",
    "ax.legend()\n",
    "ax.set_xlim(0,100)\n",
    "ax.set_xlabel(percentile_label)\n",
    "ax.set_ylabel('Scaling factor, $\\delta T(x)/\\delta \\overline{T}$')\n",
    "if save_fig or save_sf_theory_fig:\n",
    "    file_name = f\"scaling_factor_theory_{region.lower()}\"\n",
    "    fig.savefig(f\"/Users/joshduffield/Desktop/{file_name}.pdf\",dpi=dpi['combination'] if publish_fig else low_dpi, \n",
    "                bbox_inches='tight', pad_inches=save_pad_inches)"
   ],
   "metadata": {
    "collapsed": false,
    "ExecuteTime": {
     "end_time": "2024-04-15T09:48:20.944907Z",
     "start_time": "2024-04-15T09:48:20.802857Z"
    }
   },
   "outputs": [
    {
     "data": {
      "text/plain": [
       "<Figure size 320x240 with 1 Axes>"
      ],
      "image/png": "[encoded data removed]"
     },
     "metadata": {},
     "output_type": "display_data"
    }
   ],
   "execution_count": 79
  },
  {
   "cell_type": "markdown",
   "source": [
    "### $\\lambda$ Decomposition\n",
    "The tropical theory assumes that $\\lambda = \\delta h(x)/\\delta \\overline{h} \\approx 1$. Below, I split $\\lambda$ into three variables linking free troposphere and surface to see why this is no longer the case in the extratropics.\n",
    "\n",
    "The decomposition shows different things for hot and cold simulations."
   ],
   "metadata": {
    "collapsed": false
   }
  },
  {
   "metadata": {
    "ExecuteTime": {
     "end_time": "2024-04-15T09:48:26.001360Z",
     "start_time": "2024-04-15T09:48:20.947679Z"
    }
   },
   "cell_type": "code",
   "source": [
    "# delta_mse_mod_ratio = np.diff(mse_mod_quant3, axis=0)/np.expand_dims(np.diff(mse_mod_mean, axis=0), axis=-1)\n",
    "delta_mse_mod_anom_theory = {'linear': np.zeros((n_exp-1, n_lat, n_quant_all)), 'squared': np.zeros((n_exp-1, n_lat, n_quant_all))}\n",
    "for i in range(n_exp-1):\n",
    "    for j in range(n_lat):\n",
    "        for key in delta_mse_mod_anom_theory:\n",
    "            delta_mse_mod_anom_theory[key][i, j] = get_delta_mse_mod_anom_theory(temp_mean[i:i+2, ind_surf, j], temp_quant3[i:i+2, ind_surf, j], \n",
    "                                                                           sphum_mean[i:i+2, j], sphum_quant3[i:i+2, j], p_surface, pressure_ft_actual, \n",
    "                                                                           taylor_terms=key)[0]\n",
    "mse_mod_anom = mse_mod_quant3 - mse_mod_mean[:, :, np.newaxis]\n",
    "# theory3 adds the same theoretical delta_h_anom to theory prediction of previous kappa so errors accumulate\n",
    "mse_mod_anom_theory3 = {method: mse_mod_anom.copy() for method in delta_mse_mod_anom_theory}\n",
    "for key in delta_mse_mod_anom_theory:\n",
    "    for i in range(n_exp-1):\n",
    "        mse_mod_anom_theory3[key][i+1] = mse_mod_anom_theory3[key][i] + delta_mse_mod_anom_theory[key][i]"
   ],
   "outputs": [],
   "execution_count": 80
  },
  {
   "metadata": {
    "ExecuteTime": {
     "end_time": "2024-04-15T09:48:28.470053Z",
     "start_time": "2024-04-15T09:48:26.002124Z"
    }
   },
   "cell_type": "code",
   "source": [
    "mse_mod_anom_sf = np.zeros((n_sf, n_lat, n_quant_all))\n",
    "\n",
    "mse_mod_anom_sf_theory = {method: np.zeros((n_sf, n_lat, n_quant_all)) for method in delta_mse_mod_anom_theory}\n",
    "\n",
    "mse_mod_anom_sf_av = mse_mod_mean\n",
    "\n",
    "for i in range(n_sf):\n",
    "    sf_tau_ref_ind = np.where(tau_lw[sf_tau_use[i]]==sf_tau_ref[i])[0]\n",
    "    for j in range(n_quant_all):\n",
    "        # The theory predicts median change but not mean hence I use median rather than mean.\n",
    "        # This means can get theoretical scale factor rather than using simulated mean.\n",
    "        # This means x=50 will correspond to y=1 in all plots below.\n",
    "        # Straight line through the ref point\n",
    "        for k in range(n_lat):\n",
    "            mse_mod_anom_sf[i, k, j] = get_gradient(mse_mod_anom[sf_tau_use[i], k, j], mse_mod_anom_sf_av[sf_tau_use[i], k], sf_tau_ref_ind,\n",
    "                                                    confidence)[0]\n",
    "            for key in mse_mod_anom_sf_theory:\n",
    "                # Use theory2 version for theoretical scaling factor as errors compounded - makes most sense to me\n",
    "                mse_mod_anom_sf_theory[key][i, k, j] = get_gradient(mse_mod_anom_theory3[key][sf_tau_use[i], k, j],\n",
    "                                                           mse_mod_anom_sf_av[sf_tau_use[i], k],\n",
    "                                                           sf_tau_ref_ind, confidence)[0]"
   ],
   "outputs": [],
   "execution_count": 81
  },
  {
   "cell_type": "code",
   "source": [
    "# lambda_1 = np.zeros((n_sf, n_lat, n_quant_all))\n",
    "# lambda_2 = np.zeros((n_sf, n_lat, n_quant_all))\n",
    "# lambda_3 = np.zeros((n_sf, n_lat))\n",
    "# lambda_full = np.zeros((n_sf, n_lat, n_quant_all))\n",
    "# labels = ['$\\lambda(x) = \\lambda_1(x) \\lambda_2(x) / \\overline{\\lambda_1}$',\n",
    "#           '$\\lambda_1(x)$',\n",
    "#           '$\\lambda_2(x)$',\n",
    "#           '$\\overline{\\lambda_1}$']\n",
    "# \n",
    "# \n",
    "# with tqdm(total=n_sf*n_lat*n_quant_all, position=0, leave=True) as pbar:\n",
    "#     for k in range(n_sf):\n",
    "#         sf_tau_ref_ind = np.where(tau_lw[sf_tau_use[k]]==sf_tau_ref[k])[0]\n",
    "#         for i in range(n_lat):\n",
    "#             lambda_3[k, i] = get_gradient(mse_mean[sf_tau_use[k], ind_surf, i], \n",
    "#                                           mse_mean[sf_tau_use[k], ind_ft, i], sf_tau_ref_ind)[0]\n",
    "#             for j in range(n_quant_all):\n",
    "#                 lambda_1[k, i, j] = get_gradient(mse_quant3[sf_tau_use[k], ind_surf, i, j], \n",
    "#                                                  mse_quant3[sf_tau_use[k], ind_ft, i, j], sf_tau_ref_ind)[0]\n",
    "#                 lambda_2[k, i, j] = get_gradient(mse_quant3[sf_tau_use[k], ind_ft, i, j], \n",
    "#                                                  mse_mean[sf_tau_use[k], ind_ft, i], sf_tau_ref_ind)[0]\n",
    "#                 lambda_full[k, i, j] = get_gradient(mse_quant3[sf_tau_use[k], ind_surf, i, j], \n",
    "#                                                     mse_mean[sf_tau_use[k], ind_surf, i], sf_tau_ref_ind)[0]\n",
    "#                 pbar.update(1)"
   ],
   "metadata": {
    "collapsed": false,
    "ExecuteTime": {
     "end_time": "2024-04-15T09:48:28.473044Z",
     "start_time": "2024-04-15T09:48:28.470687Z"
    }
   },
   "outputs": [],
   "execution_count": 82
  },
  {
   "cell_type": "code",
   "source": [
    "save_lambda_decomp_all_sf_fig = True\n",
    "fig, ax = plt.subplots(n_sf,1, figsize=(width['one_col'], n_sf*width['one_col']/ar), sharex=True, sharey=True)\n",
    "for k in range(n_sf):\n",
    "    ax[k].plot(quantiles_all, np.average(mse_mod_anom_sf[k], axis=0, weights=lat_weights), color='k', label='Simulated')\n",
    "    for i, key in enumerate(mse_mod_anom_sf_theory):\n",
    "        ax[k].plot(quantiles_all, np.average(mse_mod_anom_sf_theory[key][k], axis=0, weights=lat_weights), color=default_colors[i], label=key)\n",
    "    ax[k].axhline(0, color='k', lw=ax_linewidth)\n",
    "    ax[k].set_title(sf_labels[k])\n",
    "ax[0].legend()\n",
    "ax[0].set_xlim(0, 100)\n",
    "ax[-1].set_xlabel(percentile_label)\n",
    "ax[1].set_ylabel('$\\delta \\Delta h^{\\dagger} / \\delta \\overline{h^{\\dagger}}$')\n",
    "# ax.set_xlabel(f\"{'Temperature percentile' if quant3_method=='temp' else 'Moist static energy percentile'}, $x$\")\n",
    "# ax.set_ylabel('Ratio of\\nmoist static energy changes')\n",
    "if save_fig or save_lambda_decomp_all_sf_fig:\n",
    "    fig.savefig(f\"/Users/joshduffield/Desktop/mse_anomaly_all_sf_{region.lower()}_{season}.pdf\",\n",
    "                dpi=dpi['combination'] if publish_fig else low_dpi, bbox_inches='tight', pad_inches=save_pad_inches)"
   ],
   "metadata": {
    "collapsed": false,
    "ExecuteTime": {
     "end_time": "2024-04-15T09:48:28.954674Z",
     "start_time": "2024-04-15T09:48:28.473842Z"
    }
   },
   "outputs": [
    {
     "data": {
      "text/plain": [
       "<Figure size 320x720 with 3 Axes>"
      ],
      "image/png": "[encoded data removed]"
     },
     "metadata": {},
     "output_type": "display_data"
    }
   ],
   "execution_count": 83
  },
  {
   "cell_type": "code",
   "source": [],
   "metadata": {
    "collapsed": false,
    "ExecuteTime": {
     "end_time": "2024-04-15T09:57:34.398434Z",
     "start_time": "2024-04-15T09:57:34.394667Z"
    }
   },
   "outputs": [],
   "execution_count": 84
  },
  {
   "metadata": {},
   "cell_type": "code",
   "outputs": [],
   "execution_count": null,
   "source": ""
  }
 ],
 "metadata": {
  "kernelspec": {
   "display_name": "Python 3",
   "language": "python",
   "name": "python3"
  },
  "language_info": {
   "codemirror_mode": {
    "name": "ipython",
    "version": 2
   },
   "file_extension": ".py",
   "mimetype": "text/x-python",
   "name": "python",
   "nbconvert_exporter": "python",
   "pygments_lexer": "ipython2",
   "version": "2.7.6"
  }
 },
 "nbformat": 4,
 "nbformat_minor": 0
}
