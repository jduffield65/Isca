{
 "cells": [
  {
   "cell_type": "markdown",
   "source": [
    "# Publishing Figures - Single Kappa (free troposphere)\n",
    "This obtains all figures for a comparison between two simulations of neighbouring optical depth that require the free troposphere as well as surface variables."
   ],
   "metadata": {
    "collapsed": false
   }
  },
  {
   "cell_type": "code",
   "execution_count": 2,
   "outputs": [
    {
     "name": "stderr",
     "output_type": "stream",
     "text": [
      "2023-08-23 16:53:24,846 - isca - WARNING - Environment variable GFDL_SOC not set, but this is only required if using SocratesCodebase. Setting to None\n"
     ]
    }
   ],
   "source": [
    "import copy\n",
    "import sys\n",
    "import os\n",
    "# REMOTE - So can access functions in isca_tools which is in home/Isca directory\n",
    "# sys.path.append(os.path.join(os.environ['HOME'], 'Isca'))\n",
    "# LOCAL - So can access functions in isca_tools which is in StAndrews/Isca\n",
    "sys.path.append(os.environ['PWD'])\n",
    "import isca_tools\n",
    "from isca_tools.utils.moist_physics import moist_static_energy, clausius_clapeyron_factor, sphum_sat\n",
    "from isca_tools.utils.constants import kappa, L_v, c_p\n",
    "from isca_tools.utils import area_weighting\n",
    "from isca_tools.papers.byrne_2021 import get_quant_ind\n",
    "from isca_tools.thesis.aquaplanet_theory import get_delta_temp_quant_theory, get_gamma\n",
    "import numpy as np\n",
    "import matplotlib.pyplot as plt\n",
    "import xarray as xr\n",
    "import scipy.optimize\n",
    "from tqdm import tqdm\n",
    "from scipy import integrate\n",
    "import numpy_indexed\n",
    "from scipy.stats import percentileofscore\n",
    "import copy\n",
    "# Use custom matplotlib style for publishing\n",
    "plt.style.use('/Users/joshduffield/Documents/StAndrews/Isca/jobs/tau_sweep/aquaplanet/publish_figures/publish.mplstyle')"
   ],
   "metadata": {
    "collapsed": false,
    "ExecuteTime": {
     "end_time": "2023-08-23T15:53:26.941795Z",
     "start_time": "2023-08-23T15:53:24.838511Z"
    }
   }
  },
  {
   "cell_type": "code",
   "execution_count": 3,
   "outputs": [],
   "source": [
    "# Load dataset - one at surface and one in free troposphere\n",
    "var_keep = ['temp', 'sphum', 'height']        # only keep variables required to compute relative humidity and MSE\n",
    "# Load dataset\n",
    "tau_lw_ref = 1\n",
    "tau_lw_warm = 1.5\n",
    "exp_dir = 'tau_sweep/aquaplanet/'\n",
    "exp_names = [f\"k={str(tau_lw_ref).replace('.','_')}\", f\"k={str(tau_lw_warm).replace('.','_')}\"]\n",
    "n_exp = len(exp_names)\n",
    "ds = []\n",
    "albedo = []\n",
    "tau_sw = []\n",
    "tau_lw = []\n",
    "for i in range(n_exp):\n",
    "    ds_use = isca_tools.load_dataset(exp_dir + exp_names[i])[var_keep]\n",
    "    ds += [ds_use]      # only keep the surface values\n",
    "    namelist = isca_tools.load_namelist(exp_dir + exp_names[i])  # Need this for albedo_value\n",
    "    albedo += [namelist['mixed_layer_nml']['albedo_value']]\n",
    "    tau_sw += [namelist['two_stream_gray_rad_nml']['atm_abs']]\n",
    "    tau_lw += [namelist['two_stream_gray_rad_nml']['odp']]"
   ],
   "metadata": {
    "collapsed": false,
    "ExecuteTime": {
     "end_time": "2023-08-23T15:53:33.579453Z",
     "start_time": "2023-08-23T15:53:29.573508Z"
    }
   }
  },
  {
   "cell_type": "markdown",
   "source": [
    "## Get datasets\n",
    "Get one surface dataset for summer for each $\\kappa$, combining all latitudes: `ds_all`. This combines the summer months in each hemisphere, e.g. negative latitudes will only correspond to times in December, January or February.\n",
    "\n",
    "Also get an equivalent dataset consisting of free troposphere rather than surface values: `ds_all_ft`."
   ],
   "metadata": {
    "collapsed": false
   }
  },
  {
   "cell_type": "code",
   "execution_count": 4,
   "outputs": [],
   "source": [
    "# If true, will save all figures to desktop - option to save specific figures later on.\n",
    "save_fig = False\n",
    "# if publishing figure, use high dpi\n",
    "publish_fig = True\n",
    "\n",
    "ar = 4/3        # aspect ratio (width/height)\n",
    "# Details required for Journal of Climate Figures\n",
    "low_dpi = 100\n",
    "dpi = {'monochrome': 1100, 'combination': 800, 'halftone': 300}\n",
    "width = {'one_col': 3.2, 'two_col': 5.5}        # width in inches \n",
    "\n",
    "# Default parameters\n",
    "default_colors = plt.rcParams['axes.prop_cycle'].by_key()['color']\n",
    "ax_linewidth = plt.rcParams['axes.linewidth']"
   ],
   "metadata": {
    "collapsed": false,
    "ExecuteTime": {
     "end_time": "2023-08-23T15:53:35.622071Z",
     "start_time": "2023-08-23T15:53:35.613828Z"
    }
   }
  },
  {
   "cell_type": "code",
   "execution_count": 9,
   "outputs": [
    {
     "name": "stderr",
     "output_type": "stream",
     "text": [
      "100%|██████████| 2/2 [00:19<00:00,  9.63s/it]\n"
     ]
    }
   ],
   "source": [
    "# Load in dataset with surface and free troposphere across all latitudes, for given season\n",
    "pressure_ft = 500           # Desired approximate pressure of free troposphere (hPa)\n",
    "use_time_start = 360*2\n",
    "\n",
    "# Chose whether to only consider summer days or consider all days\n",
    "summer_months = {'nh': [6, 7, 8], 'sh': [12, 1, 2]}   # JJA for NH and DJF for SH\n",
    "season = 'all'\n",
    "# season = 'summer'   # NOTE - if summer, does not give many days corresponding to high percentiles as only 5 years of data used\n",
    "\n",
    "ds_all = []\n",
    "with tqdm(total=n_exp, position=0, leave=True) as pbar:\n",
    "    for i in range(n_exp):\n",
    "        ds_use = ds[i].sel(pfull=[np.inf, pressure_ft], method='nearest').sel(time=slice(use_time_start, np.inf))\n",
    "\n",
    "        if season == 'summer':\n",
    "            ds_nh_summer = isca_tools.utils.annual_time_slice(ds_use, summer_months['nh']).sel(lat=slice(0, 90))  \n",
    "            ds_sh_summer = isca_tools.utils.annual_time_slice(ds_use, summer_months['sh']).sel(lat=slice(-90, 0)) \n",
    "            # Combine hemispheres and average over longitude, time and latitude.\n",
    "            ds_use = xr.concat([ds_sh_summer, ds_nh_summer], dim='lat')\n",
    "        ds_use = ds_use.stack(lon_time=(\"lon\",\"time\"), create_index=False).chunk(dict(lon_time=-1))\n",
    "        ds_all += [ds_use.load()]\n",
    "        pbar.update(1)\n",
    "p_surface = float(ds_all[0].pfull[0]) * 100\n",
    "pressure_ft_actual = float(ds_all[0].pfull[-1]) * 100       # Actual pressure of free troposphere (Pa)"
   ],
   "metadata": {
    "collapsed": false,
    "ExecuteTime": {
     "end_time": "2023-08-23T16:02:33.569444Z",
     "start_time": "2023-08-23T16:02:14.313593Z"
    }
   }
  },
  {
   "cell_type": "code",
   "execution_count": 14,
   "outputs": [
    {
     "data": {
      "text/plain": "2"
     },
     "execution_count": 14,
     "metadata": {},
     "output_type": "execute_result"
    }
   ],
   "source": [
    "ds_all[0].pfull.shape[0]"
   ],
   "metadata": {
    "collapsed": false,
    "ExecuteTime": {
     "end_time": "2023-08-23T16:04:11.320857Z",
     "start_time": "2023-08-23T16:04:11.300403Z"
    }
   }
  },
  {
   "cell_type": "code",
   "execution_count": 24,
   "outputs": [
    {
     "name": "stderr",
     "output_type": "stream",
     "text": [
      "100%|██████████| 12672/12672 [01:44<00:00, 121.66it/s]\n"
     ]
    }
   ],
   "source": [
    "# Get values averaged around a surface temperature percentile, rather than exactly on it.\n",
    "quant_plot = np.arange(1, 100)     # avoid 0 quantile as it gives weird results\n",
    "n_quant = len(quant_plot)\n",
    "n_lat = ds_all[0].lat.shape[0]\n",
    "n_pressure = ds_all[0].pfull.shape[0]\n",
    "lat_weights = np.cos(np.deg2rad(ds_all[0].lat))     # latitude area weighting is just the cosine\n",
    "\n",
    "temp_quant3 = np.zeros((n_exp, n_pressure, n_lat, n_quant)) \n",
    "temp_median = np.zeros((n_exp, n_pressure, n_lat))\n",
    "temp_mean = np.zeros((n_exp, n_pressure, n_lat))   \n",
    "# In free troposphere, this is saturated MSE.\n",
    "mse_quant3 = np.zeros((n_exp, n_pressure, n_lat, n_quant))  \n",
    "mse_mean = np.zeros((n_exp, n_pressure, n_lat))\n",
    "with tqdm(total=n_exp*n_quant*n_lat, position=0, leave=True) as pbar:\n",
    "    for i in range(n_exp):\n",
    "        mse = moist_static_energy(ds_all[i].temp[0], ds_all[i].sphum[0], ds_all[i].height[0])\n",
    "        mse_ft = moist_static_energy(ds_all[i].temp[-1], sphum_sat(ds_all[i].temp[-1], pressure_ft_actual), ds_all[i].height[-1])\n",
    "        mse_mean[i, 0] = mse.mean(dim='lon_time')\n",
    "        mse_mean[i, 1] = mse_ft.mean(dim='lon_time')\n",
    "        temp_median[i] = ds_all[i].temp.median(dim='lon_time')\n",
    "        for k in range(n_lat):\n",
    "            for j, quant in enumerate(quant_plot):\n",
    "                # Take percentile to be temperature percentile\n",
    "                use_ind = get_quant_ind(ds_all[i].temp[0, k], quant, 0.5, 0.5)\n",
    "                temp_quant3[i, :, k, j] = ds_all[i].temp[:, k, use_ind].mean(dim='lon_time')\n",
    "                mse_quant3[i, 0, k, j] = mse[k, use_ind].mean(dim='lon_time')\n",
    "                mse_quant3[i, 1, k, j] = mse_ft[k, use_ind].mean(dim='lon_time')\n",
    "                pbar.update(1)"
   ],
   "metadata": {
    "collapsed": false,
    "ExecuteTime": {
     "end_time": "2023-08-23T16:18:39.064763Z",
     "start_time": "2023-08-23T16:16:54.832304Z"
    }
   }
  },
  {
   "cell_type": "markdown",
   "source": [
    "## $\\lambda$ Decompostion\n",
    "### Combine latitudes\n",
    "Here, I break down the $\\lambda=1$ approximation into three different factors. $\\lambda_1$ represents CQE on the $x$ percentile day. $\\lambda_2$ represents the weak temperature gradient approximation and $\\lambda_3$ represents CQE on the mean day.\n",
    "\n",
    "Note the black line below differs from actual $\\lambda$ because here I am plotting it as a function of near-surface temperature percentile, whereas for lambda plot in `surface/single_kappa` notebook, I plot it as a function of near-surface MSE percentile. I.e. the x-axis are different."
   ],
   "metadata": {
    "collapsed": false
   }
  },
  {
   "cell_type": "code",
   "execution_count": 25,
   "outputs": [],
   "source": [
    "lambda_1 = (mse_quant3[1] - mse_quant3[0])[0] / (mse_quant3[1]-mse_quant3[0])[1]\n",
    "lambda_2 = (mse_quant3[1]-mse_quant3[0])[1] / np.expand_dims(mse_mean[1]-mse_mean[0], axis=-1)[1]\n",
    "lambda_3 = (mse_mean[1]-mse_mean[0])[0] / (mse_mean[1]-mse_mean[0])[1]\n",
    "labels = ['$\\lambda(x) = \\delta h(x)/\\delta \\overline{h} = \\lambda_1(x) \\lambda_2(x) \\lambda_3^{-1}$',\n",
    "          '$\\lambda_1(x) = \\delta h(x) / \\delta h_{FT, sat}(x)$',\n",
    "          '$\\lambda_2(x) = \\delta h_{FT, sat}(x) / \\delta \\overline{h}_{FT, sat}$',\n",
    "          '$\\lambda_3 = \\delta \\overline{h} / \\delta \\overline{h}_{FT, sat}$']"
   ],
   "metadata": {
    "collapsed": false,
    "ExecuteTime": {
     "end_time": "2023-08-23T16:22:20.446708Z",
     "start_time": "2023-08-23T16:22:20.415444Z"
    }
   }
  },
  {
   "cell_type": "code",
   "execution_count": 40,
   "outputs": [],
   "source": [
    "# Select region to combine latitudes over for all but one of the plots below\n",
    "# Tropics\n",
    "region = 'tropics'\n",
    "lat_min = 0\n",
    "lat_max = 20\n",
    "# Extratropics\n",
    "# region = 'extratropics'\n",
    "# lat_min = 40\n",
    "# lat_max = 65\n",
    "# Poles\n",
    "# region = 'High Latitudes'\n",
    "# lat_min = 70\n",
    "# lat_max = 90\n",
    "# Global\n",
    "# region = 'Global'\n",
    "# lat_min = 0\n",
    "# lat_max = 90\n",
    "\n",
    "lat_use = np.where((np.abs(ds_all[0].lat) <= lat_max) & (np.abs(ds_all[0].lat) >= lat_min))[0]\n",
    "lat_weights_use = lat_weights[lat_use]"
   ],
   "metadata": {
    "collapsed": false,
    "ExecuteTime": {
     "end_time": "2023-08-23T16:28:35.013385Z",
     "start_time": "2023-08-23T16:28:34.998690Z"
    }
   }
  },
  {
   "cell_type": "code",
   "execution_count": 41,
   "outputs": [
    {
     "data": {
      "text/plain": "<Figure size 320x240 with 1 Axes>",
      "image/png": "[encoded data removed]"
     },
     "metadata": {},
     "output_type": "display_data"
    }
   ],
   "source": [
    "save_lambda_decomp_fig = True\n",
    "fig, ax = plt.subplots(1,1, figsize=(width['one_col'], width['one_col']/ar))\n",
    "ax.spines[['right', 'top']].set_visible(False)\n",
    "for i, var in enumerate([lambda_1*lambda_2/np.expand_dims(lambda_3, axis=-1), lambda_1, lambda_2]):\n",
    "    use_color = 'k' if i == 0 else default_colors[i-1]\n",
    "    ax.plot(quant_plot, np.average(var[lat_use], axis=0, weights=lat_weights_use),\n",
    "            color=use_color, label=labels[i])\n",
    "# ax.plot(quant_plot, np.average(lambda_1, axis=0, weights=lat_weights), color=default_colors[0], label=labels[1])\n",
    "# ax.plot(quant_plot, np.average(lambda_2, axis=0, weights=lat_weights), color=default_colors[1])\n",
    "ax.hlines(np.average(lambda_3[lat_use], axis=0, weights=lat_weights_use), 0, 100, color=default_colors[2], alpha=0.5, label=labels[3])\n",
    "ax.hlines(1, 0, 100, color='k', lw=ax_linewidth, alpha=0.5)\n",
    "ax.legend()\n",
    "ax.set_xlim(0, 100)\n",
    "ax.set_xlabel('Temperature percentile, $x$')\n",
    "ax.set_ylabel('Ratio of moist static energy changes')\n",
    "plt.tight_layout()\n",
    "if save_fig or save_lambda_decomp_fig:\n",
    "    fig.savefig(f\"/Users/joshduffield/Desktop/lambda_decomp_{region.lower()}_{season}\",\n",
    "                dpi=dpi['combination'] if publish_fig else low_dpi, bbox_inches='tight')"
   ],
   "metadata": {
    "collapsed": false,
    "ExecuteTime": {
     "end_time": "2023-08-23T16:28:36.751984Z",
     "start_time": "2023-08-23T16:28:36.112889Z"
    }
   }
  },
  {
   "cell_type": "markdown",
   "source": [
    "### High percentiles as function of latitude\n",
    "In the plot below, the quantiles in the order $90, 95, 99$ are represented in terms of lines of increasing opacity i.e. the darkest lines represent $x=99$."
   ],
   "metadata": {
    "collapsed": false
   }
  },
  {
   "cell_type": "code",
   "execution_count": 42,
   "outputs": [],
   "source": [
    "def abs_lat_av(var):\n",
    "    # averages across indices with the same absolute latitude\n",
    "    var_av = np.zeros(int(len(var)/2))\n",
    "    for i in range(len(var_av)):\n",
    "        var_av[i] = np.mean([var[i], var[-1-i]])\n",
    "    return var_av[::-1]     # invert order so latitude is increasing"
   ],
   "metadata": {
    "collapsed": false,
    "ExecuteTime": {
     "end_time": "2023-08-23T16:29:55.594625Z",
     "start_time": "2023-08-23T16:29:55.567447Z"
    }
   }
  },
  {
   "cell_type": "code",
   "execution_count": 48,
   "outputs": [
    {
     "data": {
      "text/plain": "<Figure size 320x240 with 1 Axes>",
      "image/png": "[encoded data removed]"
     },
     "metadata": {},
     "output_type": "display_data"
    }
   ],
   "source": [
    "quant_subset = [90,95,99]\n",
    "quant_subset_ind = numpy_indexed.indices(quant_plot, quant_subset)\n",
    "lat_plot = ds_all[0].lat[int(n_lat/2):]\n",
    "\n",
    "save_lambda_decomp_lat_fig = True\n",
    "fig, ax = plt.subplots(1,1, figsize=(width['one_col'], width['one_col']/ar))\n",
    "ax.spines[['right', 'top']].set_visible(False)\n",
    "for i, var in enumerate([lambda_1*lambda_2/np.expand_dims(lambda_3, axis=-1), lambda_1, lambda_2]):\n",
    "    use_color = 'k' if i == 0 else default_colors[i-1]\n",
    "    ax.plot(lat_plot, abs_lat_av(var[:, quant_subset_ind[0]]), alpha=0.2, color=use_color)\n",
    "    ax.plot(lat_plot, abs_lat_av(var[:, quant_subset_ind[1]]), alpha=0.5, color=use_color)\n",
    "    ax.plot(lat_plot, abs_lat_av(var[:, quant_subset_ind[2]]), alpha=1, color=use_color, label=labels[i])\n",
    "ax.plot(lat_plot, abs_lat_av(lambda_3), color=default_colors[2], alpha=0.5, label=labels[3])\n",
    "ax.hlines(1, -90, 90, color='k', alpha=0.5, lw=ax_linewidth)\n",
    "ax.set_xlim(0, 90)\n",
    "ax.legend()\n",
    "ax.set_xlabel('Latitude')\n",
    "ax.set_ylabel('Ratio of moist static energy changes')\n",
    "plt.tight_layout()\n",
    "if (save_fig or save_lambda_decomp_lat_fig):\n",
    "    fig.savefig(f\"/Users/joshduffield/Desktop/lambda_decomp_lat_{season}\",\n",
    "                dpi=dpi['combination'] if publish_fig else low_dpi)"
   ],
   "metadata": {
    "collapsed": false,
    "ExecuteTime": {
     "end_time": "2023-08-23T16:32:19.672193Z",
     "start_time": "2023-08-23T16:32:19.087461Z"
    }
   }
  },
  {
   "cell_type": "code",
   "execution_count": 48,
   "outputs": [],
   "source": [],
   "metadata": {
    "collapsed": false,
    "ExecuteTime": {
     "end_time": "2023-08-23T16:35:07.068318Z",
     "start_time": "2023-08-23T16:35:07.044200Z"
    }
   }
  },
  {
   "cell_type": "code",
   "execution_count": 48,
   "outputs": [],
   "source": [],
   "metadata": {
    "collapsed": false,
    "ExecuteTime": {
     "end_time": "2023-08-23T16:35:07.532992Z",
     "start_time": "2023-08-23T16:35:07.512647Z"
    }
   }
  },
  {
   "cell_type": "code",
   "execution_count": null,
   "outputs": [],
   "source": [],
   "metadata": {
    "collapsed": false
   }
  }
 ],
 "metadata": {
  "kernelspec": {
   "display_name": "Python 3",
   "language": "python",
   "name": "python3"
  },
  "language_info": {
   "codemirror_mode": {
    "name": "ipython",
    "version": 2
   },
   "file_extension": ".py",
   "mimetype": "text/x-python",
   "name": "python",
   "nbconvert_exporter": "python",
   "pygments_lexer": "ipython2",
   "version": "2.7.6"
  }
 },
 "nbformat": 4,
 "nbformat_minor": 0
}
