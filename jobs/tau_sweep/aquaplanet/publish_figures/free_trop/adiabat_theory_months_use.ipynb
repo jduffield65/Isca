{
 "cells": [
  {
   "cell_type": "markdown",
   "source": [
    "# Which months to use for the adiabatic theory?\n",
    "The most severe approximation in the adiabatic theory is that $\\Delta q_A(x) \\approx \\overline{\\alpha_A}\\overline{q^*_A}\\Delta T_A$. Below, we see how this approximation varies with the months used for the $\\kappa=1$ simulation."
   ],
   "metadata": {
    "collapsed": false
   }
  },
  {
   "cell_type": "code",
   "source": [
    "import copy\n",
    "import sys\n",
    "import os\n",
    "# REMOTE - So can access functions in isca_tools which is in home/Isca directory\n",
    "# sys.path.append(os.path.join(os.environ['HOME'], 'Isca'))\n",
    "# LOCAL - So can access functions in isca_tools which is in StAndrews/Isca\n",
    "sys.path.append(os.environ['PWD'])\n",
    "import isca_tools\n",
    "from isca_tools.utils.moist_physics import moist_static_energy, clausius_clapeyron_factor, sphum_sat\n",
    "from isca_tools.utils.constants import kappa, L_v, c_p, g, R\n",
    "from isca_tools.utils import area_weighting, annual_mean\n",
    "from isca_tools.papers.byrne_2021 import get_quant_ind\n",
    "from isca_tools.thesis.adiabat_theory import (get_temp_adiabat, get_delta_mse_mod_anom_theory, \n",
    "                                              decompose_temp_adiabat_anomaly, get_delta_temp_quant_theory, get_delta_temp_quant_theory_simple)\n",
    "from isca_tools.utils.stats import z_score_from_confidence_interval\n",
    "import numpy as np\n",
    "import matplotlib.pyplot as plt\n",
    "import xarray as xr\n",
    "import scipy.optimize\n",
    "from tqdm import tqdm\n",
    "from scipy import integrate\n",
    "import numpy_indexed\n",
    "from scipy.stats import percentileofscore\n",
    "import copy\n",
    "from sklearn.linear_model import TheilSenRegressor\n",
    "# Use custom matplotlib style for publishing\n",
    "plt.style.use('/Users/joshduffield/Documents/StAndrews/Isca/jobs/tau_sweep/aquaplanet/publish_figures/publish.mplstyle')"
   ],
   "metadata": {
    "collapsed": false,
    "ExecuteTime": {
     "end_time": "2024-04-25T11:55:15.819757Z",
     "start_time": "2024-04-25T11:55:13.105797Z"
    }
   },
   "execution_count": 1,
   "outputs": []
  },
  {
   "cell_type": "code",
   "source": [
    "# Load dataset - one at surface and one in free troposphere\n",
    "var_keep = ['temp', 'sphum']        # only keep variables required to compute relative humidity and MSE\n",
    "# var_keep = ['temp', 'sphum', 'height', 'ucomp', 'vcomp']\n",
    "# Load dataset\n",
    "tau_lw_ref = 1\n",
    "exp_dir = 'tau_sweep/aquaplanet/depth=1/'\n",
    "# exp_dir = 'tau_sweep/aquaplanet/'\n",
    "exp_name = f\"k={str(tau_lw_ref).replace('.','_')}\"\n",
    "ds = []\n",
    "albedo = []\n",
    "tau_sw = []\n",
    "tau_lw = []\n",
    "ds = isca_tools.load_dataset(exp_dir + exp_name)[var_keep]\n",
    "namelist = isca_tools.load_namelist(exp_dir + exp_name)  # Need this for albedo_value\n",
    "albedo = namelist['mixed_layer_nml']['albedo_value']\n",
    "tau_sw = namelist['two_stream_gray_rad_nml']['atm_abs']\n",
    "tau_lw = namelist['two_stream_gray_rad_nml']['odp']"
   ],
   "metadata": {
    "collapsed": false,
    "ExecuteTime": {
     "end_time": "2024-04-25T11:55:18.718832Z",
     "start_time": "2024-04-25T11:55:15.820870Z"
    }
   },
   "execution_count": 2,
   "outputs": []
  },
  {
   "cell_type": "markdown",
   "source": [
    "## Get datasets\n",
    "Get one surface dataset for summer for each $\\kappa$, combining all latitudes: `ds_all`. This combines the summer months in each hemisphere, e.g. negative latitudes will only correspond to times in December, January or February.\n"
   ],
   "metadata": {
    "collapsed": false
   }
  },
  {
   "cell_type": "code",
   "source": [
    "# If true, will save all figures to desktop - option to save specific figures later on.\n",
    "save_fig = False\n",
    "# if publishing figure, use high dpi\n",
    "publish_fig = True\n",
    "\n",
    "ar = 4/3        # aspect ratio (width/height)\n",
    "# Details required for Journal of Climate Figures\n",
    "low_dpi = 100\n",
    "dpi = {'monochrome': 1100, 'combination': 800, 'halftone': 300}\n",
    "width = {'one_col': 3.2, 'two_col': 5.5}        # width in inches \n",
    "save_pad_inches = 0.05\n",
    "\n",
    "# Default parameters\n",
    "default_colors = plt.rcParams['axes.prop_cycle'].by_key()['color']\n",
    "ax_linewidth = plt.rcParams['axes.linewidth']\n",
    "\n",
    "def moving_average(x, w):\n",
    "    return np.convolve(x, np.ones(w), 'valid') / w"
   ],
   "metadata": {
    "collapsed": false,
    "ExecuteTime": {
     "end_time": "2024-04-25T11:55:18.722745Z",
     "start_time": "2024-04-25T11:55:18.719601Z"
    }
   },
   "execution_count": 3,
   "outputs": []
  },
  {
   "cell_type": "code",
   "source": [
    "# Compute Global Average Surface Temperature and get near surface temperature data\n",
    "# Use all data after 2 years, as clearly converged from the above spin up plot\n",
    "use_time_start = 360*2\n",
    "pressure_ft = 500           # Desired approximate pressure of free troposphere (hPa)\n",
    "\n",
    "# Tropics\n",
    "lat_lims = {'tropics': [0, 20], 'extratropics': [40, 65]}\n",
    "season_months = {'all': {'nh': np.arange(1, 13), 'sh': np.arange(1, 13)}, \n",
    "                 '6_summer': {'nh': [5, 6, 7, 8, 9, 10], 'sh': [11, 12, 1, 2, 3, 4]}, \n",
    "                 '6_winter': {'sh': [5, 6, 7, 8, 9, 10], 'nh': [11, 12, 1, 2, 3, 4]}, \n",
    "                 '3_summer': {'nh': [6, 7, 8], 'sh': [12, 1, 2]}, \n",
    "                 '3_winter': {'sh': [6, 7, 8], 'nh': [12, 1, 2]}}\n",
    "n_regions = len(lat_lims)\n",
    "n_seasons = len(season_months)\n",
    "\n",
    "ds_all = {key: {} for key in lat_lims}\n",
    "with tqdm(total=n_regions*n_seasons, position=0, leave=True) as pbar:\n",
    "    for region in lat_lims:\n",
    "        ds_use = ds.sel(time=slice(use_time_start, np.inf))\n",
    "        ds_use = ds_use.sel(pfull=np.inf, method='nearest')     # only keep the surface values - get rid of pfull coordinate\n",
    "        lat_min_use = lat_lims[region][0]\n",
    "        lat_max_use = lat_lims[region][1]\n",
    "        ds_use = ds_use.where((np.abs(ds_use.lat) <= lat_max_use) & (np.abs(ds_use.lat) >= lat_min_use), drop=True)\n",
    "        for season in season_months:\n",
    "            months_use = season_months[season]\n",
    "            # Only consider summer as has expected circulation\n",
    "            ds_nh_summer = isca_tools.utils.annual_time_slice(ds_use, months_use['nh']).sel(lat=slice(lat_min_use, lat_max_use)) \n",
    "            ds_sh_summer = isca_tools.utils.annual_time_slice(ds_use, months_use['sh']).sel(lat=slice(-lat_max_use, -lat_min_use))  \n",
    "            # Combine hemispheres and average over longitude, time and latitude.\n",
    "            # Note that April, May, June, October, November and December will not be included in this dataset\n",
    "            ds_all[region][season] = xr.concat([ds_sh_summer, ds_nh_summer], dim='lat')\n",
    "            ds_all[region][season] = ds_all[region][season].stack(lon_time=(\"lon\",\"time\"), create_index=False).chunk(dict(lon_time=-1))\n",
    "            ds_all[region][season] = ds_all[region][season].load()\n",
    "            pbar.update(1)\n",
    "\n",
    "p_surface = float(ds.pfull.sel(pfull=np.inf, method='nearest')) * 100\n",
    "pressure_ft_actual = float(ds.pfull.sel(pfull=pressure_ft, method='nearest')) * 100      # Actual pressure of free troposphere (Pa)"
   ],
   "metadata": {
    "collapsed": false,
    "ExecuteTime": {
     "end_time": "2024-04-25T11:56:11.361112Z",
     "start_time": "2024-04-25T11:55:18.723740Z"
    }
   },
   "execution_count": 4,
   "outputs": []
  },
  {
   "cell_type": "markdown",
   "source": [
    "## Near Surface Temperature Quantile\n",
    "Get variables as a function of near-surface temperature quantile"
   ],
   "metadata": {
    "collapsed": false
   }
  },
  {
   "cell_type": "code",
   "source": [
    "quantiles_all = np.arange(1, 100)\n",
    "percentile_label = 'Temperature percentile, $x$'\n",
    "n_quant_all = len(quantiles_all)\n",
    "n_lat = {key1: ds_all[key1]['all'].lat.size for key1 in ds_all}\n",
    "lat_weights = {key1: np.cos(np.deg2rad(ds_all[key1]['all'].lat)) for key1 in ds_all}  # latitude area weighting is just the cosine\n",
    "\n",
    "temp_mean = {key1: {key2: np.zeros(n_lat[key1]) for key2 in ds_all['tropics']} for key1 in ds_all}         # second index: 0 is surface, 1 is free trop\n",
    "sphum_mean = {key1: {key2: np.zeros(n_lat[key1]) for key2 in ds_all['tropics']} for key1 in ds_all}\n",
    "temp_adiabat_mean = {key1: {key2: np.zeros(n_lat[key1]) for key2 in ds_all['tropics']} for key1 in ds_all}\n",
    "\n",
    "# as function of temperature quantile\n",
    "temp_quant3 = {key1: {key2: np.zeros((n_lat[key1], n_quant_all)) for key2 in ds_all['tropics']} for key1 in ds_all}\n",
    "sphum_quant3 = {key1: {key2: np.zeros((n_lat[key1], n_quant_all)) for key2 in ds_all['tropics']} for key1 in ds_all}\n",
    "temp_adiabat_quant3 = {key1: {key2: np.zeros((n_lat[key1], n_quant_all)) for key2 in ds_all['tropics']} for key1 in ds_all}\n",
    "with tqdm(total=sum(n_lat.values())*n_seasons*n_quant_all, position=0, leave=True) as pbar:\n",
    "    for key1 in ds_all:\n",
    "        for key2 in ds_all['tropics']:\n",
    "            ds_use = ds_all[key1][key2]\n",
    "            temp_mean[key1][key2][:] = ds_use.temp.mean(dim='lon_time')\n",
    "            sphum_mean[key1][key2][:] = ds_use.sphum.mean(dim='lon_time')\n",
    "            temp_quant3[key1][key2][:] = ds_use.temp.quantile(quantiles_all/100, dim='lon_time').transpose()\n",
    "            for k in range(n_lat[key1]):\n",
    "                temp_adiabat_mean[key1][key2][k] = get_temp_adiabat(temp_mean[key1][key2][k], sphum_mean[key1][key2][k], \n",
    "                                                                    p_surface, pressure_ft_actual)\n",
    "                for j, quant in enumerate(quantiles_all):\n",
    "                    use_ind = get_quant_ind(ds_use.temp[k], quant, 0.5, 0.5)\n",
    "                    sphum_quant3[key1][key2][k, j] = ds_use.sphum[k, use_ind].mean()\n",
    "                    temp_adiabat_quant3[key1][key2][k, j] = get_temp_adiabat(temp_quant3[key1][key2][k, j], sphum_quant3[key1][key2][k, j], \n",
    "                                                                             p_surface, pressure_ft_actual)\n",
    "                    pbar.update(1)"
   ],
   "metadata": {
    "collapsed": false,
    "ExecuteTime": {
     "end_time": "2024-04-25T11:58:41.828213Z",
     "start_time": "2024-04-25T11:57:18.671947Z"
    }
   },
   "execution_count": 7,
   "outputs": []
  },
  {
   "metadata": {},
   "cell_type": "markdown",
   "source": [
    "## Adiabatic Temperature Anomaly, $\\Delta T_A(x)$\n",
    "This has a larger range in winter and than summer."
   ]
  },
  {
   "metadata": {
    "ExecuteTime": {
     "end_time": "2024-04-25T12:46:46.490895Z",
     "start_time": "2024-04-25T12:46:46.327178Z"
    }
   },
   "cell_type": "code",
   "source": [
    "season_colours = {'all': 'k', '6_summer': 'red', '3_summer': 'red', '6_winter': 'blue', '3_winter': 'blue'}\n",
    "season_labels = {'all': 'All', '6_summer': 'Summer', '3_summer': None, '6_winter': 'Winter', '3_winter': None}\n",
    "temp_adiabat_anom = {key1: {key2: temp_adiabat_quant3[key1][key2]-temp_adiabat_mean[key1][key2][:, np.newaxis] \n",
    "                            for key2 in ds_all['tropics']} for key1 in ds_all}\n",
    "\n",
    "save_temp_adiabat_anom_fig = False\n",
    "fig, ax = plt.subplots(n_regions,1, figsize=(width['one_col'], n_regions*width['one_col']/ar), sharex=True)\n",
    "for i, key1 in enumerate(ds_all):\n",
    "    for j, key2 in enumerate(ds_all['tropics']):\n",
    "        ax[i].plot(quantiles_all, np.average(temp_adiabat_anom[key1][key2], axis=0, weights=lat_weights[key1]), \n",
    "                   color=season_colours[key2], linestyle=':' if '3' in key2 else '-', label=season_labels[key2])\n",
    "    ax[i].axhline(0, color='k', lw=ax_linewidth)\n",
    "    ax[i].set_ylabel('$\\Delta T_A$ [K]')\n",
    "    ax[i].set_title(key1.capitalize())\n",
    "ax[-1].set_xlabel(percentile_label)\n",
    "ax[0].set_xlim(0, 100)\n",
    "ax[0].legend()\n",
    "\n",
    "if save_temp_adiabat_anom_fig:\n",
    "    fig.savefig(f\"/Users/joshduffield/Desktop/temp_adiabat_anom_seasons.pdf\",\n",
    "                dpi=dpi['combination'] if publish_fig else low_dpi, bbox_inches='tight', pad_inches=save_pad_inches)"
   ],
   "execution_count": 36,
   "outputs": []
  },
  {
   "metadata": {
    "ExecuteTime": {
     "end_time": "2024-04-25T13:02:00.830006Z",
     "start_time": "2024-04-25T13:02:00.720489Z"
    }
   },
   "cell_type": "code",
   "source": [
    "# Standard deviation plots\n",
    "fig, ax = plt.subplots(n_regions,1, figsize=(width['one_col'], n_regions*width['one_col']/ar), sharex=True)\n",
    "for i, key1 in enumerate(ds_all):\n",
    "    print(f\"{key1} summer: {[np.average(np.std(temp_adiabat_anom[key1][key2], axis=1), weights=lat_weights[key1]) for key2 in ['3_summer', '6_summer', 'all']]}\")\n",
    "    print(f\"{key1} winter: {[np.average(np.std(temp_adiabat_anom[key1][key2], axis=1), weights=lat_weights[key1]) for key2 in ['3_winter', '6_winter', 'all']]}\")\n",
    "    ax[i].plot([1, 2, 3], [np.average(np.std(temp_adiabat_anom[key1][key2], axis=1), weights=lat_weights[key1]) for key2 in ['3_summer', '6_summer', 'all']], color='r')\n",
    "    ax[i].plot([1, 2, 3], [np.average(np.std(temp_adiabat_anom[key1][key2], axis=1), weights=lat_weights[key1]) for key2 in ['3_winter', '6_winter', 'all']], color='blue')\n",
    "    ax[i].set_title(key1.capitalize())"
   ],
   "execution_count": 43,
   "outputs": []
  },
  {
   "metadata": {},
   "cell_type": "markdown",
   "source": [
    "## Saturation Specific Humidity Anomaly Approximation\n",
    "\n",
    "Here, the actual $\\Delta q^*_A(x)$ is shown by solid thin lines, while the approximation $\\Delta q_A(x) \\approx \\overline{\\alpha_A}\\overline{q^*_A}\\Delta T_A$ is shown by the thick transparent lines.\n",
    "Dotted lines are 3 month seasons, while solid are 6."
   ]
  },
  {
   "metadata": {
    "ExecuteTime": {
     "end_time": "2024-04-25T12:01:46.676813Z",
     "start_time": "2024-04-25T12:01:46.441186Z"
    }
   },
   "cell_type": "code",
   "source": [
    "q_sat_anom = {key1: {key2: sphum_sat(temp_adiabat_quant3[key1][key2], pressure_ft_actual) - \n",
    "                           sphum_sat(temp_adiabat_mean[key1][key2], pressure_ft_actual)[:, np.newaxis] for key2 in ds_all['tropics']} for key1 in ds_all}\n",
    "q_sat_anom_approx = {key1: {key2: (clausius_clapeyron_factor(temp_adiabat_mean[key1][key2], pressure_ft_actual) * \n",
    "                                   sphum_sat(temp_adiabat_mean[key1][key2], pressure_ft_actual))[:, np.newaxis] * \n",
    "                                  temp_adiabat_anom[key1][key2] for key2 in ds_all['tropics']} for key1 in ds_all}\n",
    "\n",
    "save_q_sat_anom_approx_fig = False\n",
    "fig, ax = plt.subplots(n_regions,1, figsize=(width['one_col'], n_regions*width['one_col']/ar), sharex=True)\n",
    "for i, key1 in enumerate(ds_all):\n",
    "    for j, key2 in enumerate(ds_all['tropics']):\n",
    "        ax[i].plot(quantiles_all, np.average(q_sat_anom[key1][key2], axis=0, weights=lat_weights[key1]), \n",
    "                   color=season_colours[key2], linestyle=':' if '3' in key2 else '-')\n",
    "        ax[i].plot(quantiles_all, np.average(q_sat_anom_approx[key1][key2], axis=0, weights=lat_weights[key1]), \n",
    "                   color=season_colours[key2], linestyle=':' if '3' in key2 else '-', lw=2, alpha=0.1)\n",
    "    ax[i].axhline(0, color='k', lw=ax_linewidth)\n",
    "    ax[i].set_ylabel('$\\Delta q^*_A$ [kg/kg]')\n",
    "    ax[i].set_title(key1.capitalize())\n",
    "ax[-1].set_xlabel(percentile_label)\n",
    "ax[0].set_xlim(0, 100)\n",
    "\n",
    "if save_fig or save_q_sat_anom_approx_fig:\n",
    "    fig.savefig(f\"/Users/joshduffield/Desktop/q_sat_approx_seasons0.pdf\",\n",
    "                dpi=dpi['combination'] if publish_fig else low_dpi, bbox_inches='tight', pad_inches=save_pad_inches)"
   ],
   "execution_count": 13,
   "outputs": []
  },
  {
   "metadata": {
    "ExecuteTime": {
     "end_time": "2024-04-25T12:52:03.570961Z",
     "start_time": "2024-04-25T12:52:03.343379Z"
    }
   },
   "cell_type": "code",
   "source": [
    "save_q_sat_anom_approx_norm_fig = True\n",
    "fig_norm = False\n",
    "fig, ax = plt.subplots(n_regions,1, figsize=(width['one_col'], n_regions*width['one_col']/ar), sharex=True)\n",
    "for i, key1 in enumerate(ds_all):\n",
    "    for j, key2 in enumerate(ds_all['tropics']):\n",
    "        var_plot = (q_sat_anom[key1][key2] - q_sat_anom_approx[key1][key2])\n",
    "        if fig_norm:\n",
    "            var_plot = var_plot/np.abs(q_sat_anom[key1][key2])     \n",
    "        ax[i].plot(quantiles_all, np.average(var_plot, axis=0, weights=lat_weights[key1]), \n",
    "                   color=season_colours[key2], linestyle=':' if '3' in key2 else '-', label=season_labels[key2])\n",
    "    ax[i].axhline(0, color='k', lw=ax_linewidth)\n",
    "    if fig_norm:\n",
    "        ax[i].set_ylabel('$|\\Delta q^*_A - \\Delta q^*_{A, approx}| / |\\Delta q_A|$')\n",
    "    else:\n",
    "        ax[i].set_ylabel('$|\\Delta q^*_A - \\Delta q^*_{A, approx}|$')\n",
    "    ax[i].set_title(key1.capitalize())\n",
    "ax[-1].set_xlabel(percentile_label)\n",
    "ax[0].set_xlim(0, 100)\n",
    "ax[0].legend()\n",
    "\n",
    "if save_fig or save_q_sat_anom_approx_norm_fig:\n",
    "    fig.savefig(f\"/Users/joshduffield/Desktop/q_sat_approx_seasons.pdf\",\n",
    "                dpi=dpi['combination'] if publish_fig else low_dpi, bbox_inches='tight', pad_inches=save_pad_inches)"
   ],
   "execution_count": 40,
   "outputs": []
  },
  {
   "metadata": {
    "ExecuteTime": {
     "end_time": "2024-04-25T11:58:54.819581Z",
     "start_time": "2024-04-25T11:58:54.817864Z"
    }
   },
   "cell_type": "code",
   "source": "",
   "execution_count": 11,
   "outputs": []
  },
  {
   "metadata": {
    "ExecuteTime": {
     "end_time": "2024-04-25T11:58:54.822353Z",
     "start_time": "2024-04-25T11:58:54.820962Z"
    }
   },
   "cell_type": "code",
   "source": "",
   "execution_count": 11,
   "outputs": []
  }
 ],
 "metadata": {
  "kernelspec": {
   "display_name": "Python 3",
   "language": "python",
   "name": "python3"
  },
  "language_info": {
   "codemirror_mode": {
    "name": "ipython",
    "version": 2
   },
   "file_extension": ".py",
   "mimetype": "text/x-python",
   "name": "python",
   "nbconvert_exporter": "python",
   "pygments_lexer": "ipython2",
   "version": "2.7.6"
  }
 },
 "nbformat": 4,
 "nbformat_minor": 0
}
