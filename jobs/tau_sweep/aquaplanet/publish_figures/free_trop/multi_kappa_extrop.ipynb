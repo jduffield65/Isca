{
 "cells": [
  {
   "cell_type": "markdown",
   "source": [
    "# Publishing Figures - Multi Kappa\n",
    "This notebook is for generating extratropic specific plots, combining all $\\kappa$ simulations."
   ],
   "metadata": {
    "collapsed": false
   }
  },
  {
   "cell_type": "code",
   "execution_count": 146,
   "outputs": [],
   "source": [
    "import sys\n",
    "import os\n",
    "# REMOTE - So can access functions in isca_tools which is in home/Isca directory\n",
    "# sys.path.append(os.path.join(os.environ['HOME'], 'Isca'))\n",
    "# LOCAL - So can access functions in isca_tools which is in StAndrews/Isca\n",
    "sys.path.append(os.environ['PWD'])\n",
    "import isca_tools\n",
    "from isca_tools.utils.moist_physics import clausius_clapeyron_factor, sphum_sat, moist_static_energy\n",
    "from isca_tools.utils.constants import L_v, c_p, g\n",
    "from isca_tools.utils.stats import z_score_from_confidence_interval\n",
    "from isca_tools.utils import area_weight_mean_lat, area_weighting\n",
    "from isca_tools.thesis.aquaplanet_theory import get_delta_temp_quant_theory\n",
    "from isca_tools.papers.byrne_2021 import get_quant_ind\n",
    "from isca_tools.plot import label_subplots\n",
    "import numpy as np\n",
    "import matplotlib.pyplot as plt\n",
    "import xarray as xr\n",
    "import scipy.optimize\n",
    "from tqdm import tqdm\n",
    "import os\n",
    "import numpy_indexed\n",
    "from scipy.stats import median_abs_deviation\n",
    "import uncertainties\n",
    "import matplotlib.transforms as mtransforms\n",
    "from isca_tools.papers.miyawaki_2022 import get_dmse_dt, get_dvmse_dy, get_r1\n",
    "from isca_tools.utils.radiation import frierson_atmospheric_heating\n",
    "plt.style.use('/Users/joshduffield/Documents/StAndrews/Isca/jobs/tau_sweep/aquaplanet/publish_figures/publish.mplstyle')"
   ],
   "metadata": {
    "collapsed": false,
    "ExecuteTime": {
     "end_time": "2024-02-26T16:40:09.483714Z",
     "start_time": "2024-02-26T16:40:09.464280Z"
    }
   }
  },
  {
   "cell_type": "code",
   "execution_count": 3,
   "outputs": [
    {
     "name": "stderr",
     "output_type": "stream",
     "text": [
      "100%|██████████| 8/8 [00:15<00:00,  1.94s/it]\n"
     ]
    }
   ],
   "source": [
    "# Load dataset\n",
    "var_keep = ['temp', 'sphum', 'height']\n",
    "exp_dir = 'tau_sweep/aquaplanet/'\n",
    "exp_names = [dir for dir in os.listdir(os.path.join(os.environ['GFDL_DATA'],exp_dir)) if dir[0]=='k']\n",
    "exp_names.sort()\n",
    "# exp_names = exp_names[2:-1]     # get rid of coldest 2 and warmest simulation as don't work well\n",
    "n_exp = len(exp_names)\n",
    "ds = []\n",
    "albedo = []\n",
    "tau_sw = []\n",
    "tau_lw = []\n",
    "for i in tqdm(range(n_exp)):\n",
    "    ds_use = isca_tools.load_dataset(exp_dir + exp_names[i])\n",
    "    ds += [ds_use]\n",
    "    namelist = isca_tools.load_namelist(exp_dir + exp_names[i])  # Need this for albedo_value\n",
    "    albedo += [namelist['mixed_layer_nml']['albedo_value']]\n",
    "    tau_sw += [namelist['two_stream_gray_rad_nml']['atm_abs']]\n",
    "    tau_lw += [namelist['two_stream_gray_rad_nml']['odp']]\n",
    "tau_lw = np.asarray(tau_lw)\n",
    "p_surface = float(ds[0].pfull[-1]) * 100"
   ],
   "metadata": {
    "collapsed": false,
    "ExecuteTime": {
     "end_time": "2024-02-26T10:13:56.578522Z",
     "start_time": "2024-02-26T10:13:41.004221Z"
    }
   }
  },
  {
   "cell_type": "markdown",
   "source": [
    "## Get datasets\n",
    "Get one dataset for each $\\kappa$, combining the desired latitudes: `ds_all`. This combines all or just the summer months in each hemisphere, e.g. negative latitudes will only correspond to times in December, January or February."
   ],
   "metadata": {
    "collapsed": false
   }
  },
  {
   "cell_type": "code",
   "execution_count": 4,
   "outputs": [],
   "source": [
    "# If true, will save all figures to desktop - option to save specific figures later on.\n",
    "save_fig = False\n",
    "# if publishing figure, use high dpi\n",
    "publish_fig = True\n",
    "\n",
    "ar = 4/3        # aspect ratio (width/height)\n",
    "# Details required for Journal of Climate Figures\n",
    "low_dpi = 100\n",
    "dpi = {'monochrome': 1100, 'combination': 800, 'halftone': 300}\n",
    "width = {'one_col': 3.2, 'two_col': 5.5}        # width in inches \n",
    "save_pad_inches = 0.05\n",
    "\n",
    "# Default parameters\n",
    "default_colors = plt.rcParams['axes.prop_cycle'].by_key()['color']\n",
    "ax_linewidth = plt.rcParams['axes.linewidth']\n",
    "\n",
    "def moving_average(x, w):\n",
    "    return np.convolve(x, np.ones(w), 'valid') / w"
   ],
   "metadata": {
    "collapsed": false,
    "ExecuteTime": {
     "end_time": "2024-02-26T10:14:24.053344Z",
     "start_time": "2024-02-26T10:14:24.044160Z"
    }
   }
  },
  {
   "cell_type": "code",
   "execution_count": 114,
   "outputs": [
    {
     "name": "stderr",
     "output_type": "stream",
     "text": [
      "100%|██████████| 8/8 [00:38<00:00,  4.80s/it]\n"
     ]
    }
   ],
   "source": [
    "# Compute Global Average Surface Temperature and get near surface temperature data\n",
    "# Use all data after 2 years, as clearly converged from the above spin up plot\n",
    "use_time_start = 360*2\n",
    "pressure_ft = 500           # Desired approximate pressure of free troposphere (hPa)\n",
    "\n",
    "# Chose whether to only consider summer days or consider all days\n",
    "# season = 'all'\n",
    "season = 'summer'\n",
    "# season = 'winter'\n",
    "if season == 'summer':\n",
    "    season_months = {'nh': [6, 7, 8], 'sh': [12, 1, 2]}   # JJA for NH and DJF for SH\n",
    "elif season == 'winter':\n",
    "    season_months = {'nh': [12, 1, 2], 'sh': [6, 7, 8]}   # JJA for NH and DJF for SH\n",
    "\n",
    "# Tropics\n",
    "# region = 'tropics'\n",
    "# lat_min = 0\n",
    "# lat_max = 20\n",
    "# Extratropics\n",
    "region = 'extratropics'\n",
    "lat_min = 40\n",
    "lat_max = 65\n",
    "# Poles\n",
    "# region = 'High Latitudes'\n",
    "# lat_min = 70\n",
    "# lat_max = 90\n",
    "# region = 'Global'\n",
    "# lat_min = 0\n",
    "# lat_max = 90\n",
    "\n",
    "ds_all = []\n",
    "with tqdm(total=n_exp, position=0, leave=True) as pbar:\n",
    "    for i in range(n_exp):\n",
    "        ds_use = ds[i].sel(time=slice(use_time_start, np.inf))[var_keep]\n",
    "        ds_use = ds_use.sel(pfull=[np.inf, pressure_ft], method='nearest')      # only keep the surface values - get rid of pfull coordinate\n",
    "        ds_use = ds_use.where((np.abs(ds_use.lat) <= lat_max) & (np.abs(ds_use.lat) >= lat_min), drop=True)\n",
    "\n",
    "        if season == 'summer' or season == 'winter':\n",
    "            # Only consider summer as has expected circulation\n",
    "            ds_nh_summer = isca_tools.utils.annual_time_slice(ds_use, season_months['nh']).sel(lat=slice(lat_min, lat_max)) \n",
    "            ds_sh_summer = isca_tools.utils.annual_time_slice(ds_use, season_months['sh']).sel(lat=slice(-lat_max, -lat_min))  \n",
    "            # Combine hemispheres and average over longitude, time and latitude.\n",
    "            # Note that April, May, June, October, November and December will not be included in this dataset\n",
    "            ds_use = xr.concat([ds_sh_summer, ds_nh_summer], dim='lat')\n",
    "        ds_use = ds_use.stack(lon_time=(\"lon\",\"time\"), create_index=False).chunk(dict(lon_time=-1))\n",
    "        ds_all += [ds_use.load()]\n",
    "        pbar.update(1)\n",
    "\n",
    "ind_surf = 0\n",
    "ind_ft = 1\n",
    "p_surface = float(ds_all[0].pfull[ind_surf]) * 100\n",
    "pressure_ft_actual = float(ds_all[0].pfull[ind_ft]) * 100       # Actual pressure of free troposphere (Pa)"
   ],
   "metadata": {
    "collapsed": false,
    "ExecuteTime": {
     "end_time": "2024-02-26T16:27:58.616256Z",
     "start_time": "2024-02-26T16:27:20.234401Z"
    }
   }
  },
  {
   "cell_type": "markdown",
   "source": [
    "## Near Surface Temperature Quantile\n",
    "Get variables as a function of near-surface temperature quantile"
   ],
   "metadata": {
    "collapsed": false
   }
  },
  {
   "cell_type": "code",
   "execution_count": 150,
   "outputs": [
    {
     "name": "stderr",
     "output_type": "stream",
     "text": [
      "100%|██████████| 14256/14256 [01:01<00:00, 232.06it/s]\n"
     ]
    }
   ],
   "source": [
    "quantiles_all = np.arange(1, 100)\n",
    "percentile_label = 'Temperature percentile, $x$'\n",
    "n_quant_all = len(quantiles_all)\n",
    "n_lat = len(ds_all[0].lat)\n",
    "n_pressure = ds_all[0].pfull.shape[0]\n",
    "lat_weights = np.cos(np.deg2rad(ds_all[0].lat))     # latitude area weighting is just the cosine\n",
    "\n",
    "temp_mean = np.zeros((n_exp, n_pressure, n_lat))         # second index: 0 is surface, 1 is free trop\n",
    "mse_mean = np.zeros((n_exp, n_pressure, n_lat))\n",
    "sphum_mean = np.zeros((n_exp, n_lat))\n",
    "z_mean = np.zeros((n_exp, n_lat))\n",
    "\n",
    "# as function of temperature quantile\n",
    "temp_quant3 = np.zeros((n_exp, n_pressure, n_lat, n_quant_all))\n",
    "mse_quant3 = np.zeros((n_exp, n_pressure, n_lat, n_quant_all))\n",
    "sphum_quant3 = np.zeros((n_exp, n_lat, n_quant_all))\n",
    "z_quant3 = np.zeros((n_exp, n_lat, n_quant_all))\n",
    "with tqdm(total=n_exp*n_lat*n_quant_all, position=0, leave=True) as pbar:\n",
    "    for i in range(n_exp):\n",
    "        temp_mean[i] = ds_all[i].temp.mean(dim='lon_time')\n",
    "        sphum_mean[i] = ds_all[i].sphum.isel(pfull=ind_surf).mean(dim='lon_time')\n",
    "        z_mean[i] = ds_all[i].height.isel(pfull=ind_ft).mean(dim='lon_time')\n",
    "        mse = moist_static_energy(ds_all[i].temp, ds_all[i].sphum, ds_all[i].height)\n",
    "        mse_mean[i] = mse.mean(dim='lon_time')\n",
    "        for k in range(n_lat):\n",
    "            for j, quant in enumerate(quantiles_all):\n",
    "                use_ind = get_quant_ind(ds_all[i].temp.isel(pfull=ind_surf)[k], quant, 0.5, 0.5)\n",
    "                sphum_quant3[i, k, j] = ds_all[i].sphum.isel(pfull=ind_surf)[k, use_ind].mean()\n",
    "                z_quant3[i, k, j] = ds_all[i].height.isel(pfull=ind_ft)[k, use_ind].mean()\n",
    "                mse_quant3[i, :, k, j] = mse[:, k, use_ind].mean(dim='lon_time')\n",
    "                temp_quant3[i, :, k, j] = ds_all[i].temp[:, k, use_ind].mean(dim='lon_time')\n",
    "                pbar.update(1)"
   ],
   "metadata": {
    "collapsed": false,
    "ExecuteTime": {
     "end_time": "2024-02-26T16:41:58.383896Z",
     "start_time": "2024-02-26T16:40:56.938334Z"
    }
   }
  },
  {
   "cell_type": "code",
   "outputs": [],
   "source": [
    "def get_gradient(temp_quant, temp_av, ref_ind, confidence = 0.9):\n",
    "    \"\"\"\n",
    "    Gets gradient of temperature of given quantile vs average temperature\n",
    "\n",
    "    Args:\n",
    "        temp_quant: [n_exp]\n",
    "        temp_av: [n_exp]\n",
    "        ref_ind: int\n",
    "        confidence: float\n",
    "            Desired confidence in temperature\n",
    "\n",
    "    Returns:\n",
    "        float\n",
    "            Gradient\n",
    "        [n_exp]\n",
    "            Predicted temperature for each experiment\n",
    "        float\n",
    "            Confidence value for the gradient, such that there is the desired confidence \n",
    "            in ± this value about returned gradient.\n",
    "    \"\"\"\n",
    "    fit_func = lambda x, m: temp_quant[ref_ind] + m*(x-temp_av[ref_ind])     # Straight line through the ref point\n",
    "    param, pcov = scipy.optimize.curve_fit(fit_func,temp_av, temp_quant)[:2]\n",
    "    # param_with_error = uncertainties.correlated_values(param, pcov)[0]\n",
    "    # param_std = param_with_error.std_dev\n",
    "    param_std = np.sqrt(pcov)\n",
    "    z_score = z_score_from_confidence_interval(confidence)\n",
    "    return param, fit_func(temp_av, param), z_score * param_std"
   ],
   "metadata": {
    "collapsed": false,
    "ExecuteTime": {
     "end_time": "2024-02-26T16:42:11.072484Z",
     "start_time": "2024-02-26T16:42:11.028103Z"
    }
   },
   "execution_count": 153
  },
  {
   "cell_type": "code",
   "outputs": [],
   "source": [
    "delta_mse_ratio = np.diff(mse_quant3[:, ind_surf], axis=0)/np.expand_dims(np.diff(mse_mean[:, ind_surf], axis=0), axis=-1)\n",
    "# delta_temp_quant_theory[-1] will be all zeros and never used, but helpful to keep this shape\n",
    "delta_temp_quant_theory = {method: np.zeros((n_exp, n_lat, n_quant_all)) for method in\n",
    "                           ['linear', 'const_rh', 'squared', 'squared_lambda', 'linear_full']}\n",
    "for method in delta_temp_quant_theory:\n",
    "    for i in range(n_lat):\n",
    "        taylor_level_use = 'squared' if method[0] == 's' else 'linear_rh_diff'\n",
    "        if method == 'linear_full':\n",
    "            taylor_level_use = 'linear'\n",
    "        delta_temp_quant_theory[method][:-1, i] = \\\n",
    "                get_delta_temp_quant_theory(temp_mean[:, ind_surf, i], sphum_mean[:, i], temp_quant3[:, ind_surf, i], \n",
    "                                            sphum_quant3[:, i], p_surface,\n",
    "                                            const_rh=True if method=='const_rh' else False,\n",
    "                                            delta_mse_ratio=delta_mse_ratio[:, i] if 'lambda' in method else None,\n",
    "                                            taylor_level=taylor_level_use)\n",
    "\n",
    "# theory3 adds the same theoretical delta_temp to theory prediction of previous kappa so errors accumulate\n",
    "temp_quant_theory3 = {method: temp_quant3.copy() for method in delta_temp_quant_theory}\n",
    "for method in delta_temp_quant_theory:\n",
    "    for j in range(n_exp-1):\n",
    "        temp_quant_theory3[method][1+j] = temp_quant_theory3[method][j] + delta_temp_quant_theory[method][j]"
   ],
   "metadata": {
    "collapsed": false,
    "ExecuteTime": {
     "end_time": "2024-02-26T16:42:12.420010Z",
     "start_time": "2024-02-26T16:42:11.827079Z"
    }
   },
   "execution_count": 154
  },
  {
   "cell_type": "code",
   "outputs": [],
   "source": [
    "confidence = 0.9        # desired confidence for shading in plots\n",
    "sf_tau_use = [np.where(tau_lw<=np.inf)[0], np.where(tau_lw<=1)[0], np.where(tau_lw>=1)[0]]\n",
    "sf_tau_ref = [1, 1, 1]\n",
    "sf_labels = ['All $\\kappa$', f'$\\kappa \\leq {tau_lw[sf_tau_use[1]].max()}$', f'$\\kappa \\geq {tau_lw[sf_tau_use[2]].min()}$']\n",
    "n_sf = len(sf_tau_use)\n",
    "# all temperatures averaged above x=0 - same as temp_av except for no area averaging\n",
    "scaling_factor = np.zeros((n_sf, n_lat, n_quant_all))\n",
    "scaling_factor_error = np.zeros((n_sf, n_lat, n_quant_all))\n",
    "\n",
    "scaling_factor_theory = {method: np.zeros((n_sf, n_lat, n_quant_all)) for method in delta_temp_quant_theory}\n",
    "\n",
    "sf_av = temp_mean[:, ind_surf]\n",
    "\n",
    "for i in range(n_sf):\n",
    "    sf_tau_ref_ind = np.where(tau_lw[sf_tau_use[i]]==sf_tau_ref[i])[0]\n",
    "    for j in range(n_quant_all):\n",
    "        # The theory predicts median change but not mean hence I use median rather than mean.\n",
    "        # This means can get theoretical scale factor rather than using simulated mean.\n",
    "        # This means x=50 will correspond to y=1 in all plots below.\n",
    "        # Straight line through the ref point\n",
    "        for k in range(n_lat):\n",
    "            scaling_factor[i, k, j], _, scaling_factor_error[i, k, j] = get_gradient(temp_quant3[sf_tau_use[i], ind_surf, k, j],\n",
    "                                                                                     sf_av[sf_tau_use[i], k], sf_tau_ref_ind,\n",
    "                                                                                     confidence)\n",
    "            for method in scaling_factor_theory:\n",
    "                # Use theory2 version for theoretical scaling factor as errors compounded - makes most sense to me\n",
    "                scaling_factor_theory[method][i, k, j] = get_gradient(temp_quant_theory3[method][sf_tau_use[i], ind_surf, k, j],\n",
    "                                                           sf_av[sf_tau_use[i], k],\n",
    "                                                           sf_tau_ref_ind, confidence)[0]"
   ],
   "metadata": {
    "collapsed": false,
    "ExecuteTime": {
     "end_time": "2024-02-27T12:21:28.042539Z",
     "start_time": "2024-02-27T12:21:22.369344Z"
    }
   },
   "execution_count": 211
  },
  {
   "cell_type": "markdown",
   "source": [
    "## Simulated Scaling Factor\n",
    "Combine simulations to plot the simulated warming of a given percentile as a function of the mean warming."
   ],
   "metadata": {
    "collapsed": false
   }
  },
  {
   "cell_type": "code",
   "outputs": [
    {
     "data": {
      "text/plain": "<Figure size 320x240 with 1 Axes>",
      "image/png": "[encoded data removed]"
     },
     "metadata": {},
     "output_type": "display_data"
    }
   ],
   "source": [
    "save_sf_fig = False\n",
    "# if publishing figure, use high dpi\n",
    "fig, ax = plt.subplots(1,1, figsize=(width['one_col'], width['one_col']/ar))\n",
    "ax.spines[['right', 'top']].set_visible(False)\n",
    "ax.plot(quantiles_all, np.average(scaling_factor[0], axis=0, weights=lat_weights), color='k', label=sf_labels[0])\n",
    "ax.plot(quantiles_all, np.average(scaling_factor[1], axis=0, weights=lat_weights), color='k', linestyle=':',\n",
    "        label = sf_labels[1])\n",
    "ax.plot(quantiles_all, np.average(scaling_factor[2], axis=0, weights=lat_weights), color='k', linestyle='--',\n",
    "        label = sf_labels[2])\n",
    "ax.hlines(1, 0, 100, lw=ax_linewidth, color='k')\n",
    "# # Remove some of the lines but keep ylims the same\n",
    "# ax.lines.pop(1)\n",
    "# ax.lines.pop(1)\n",
    "ax.legend()\n",
    "ax.set_xlim(0,100)\n",
    "# if quant_type_use == 'x':\n",
    "#     ax.set_ylim(0.5,1.5)\n",
    "# else:\n",
    "#     ax.set_ylim(0.5,2.5)\n",
    "ax.set_xlabel(percentile_label)\n",
    "ax.set_ylabel('Scaling factor, $\\delta T(x)/\\delta \\overline{T}$')\n",
    "if save_fig or save_sf_fig:\n",
    "    file_name = f\"scaling_factor_multi_kappa_{region.lower()}\"\n",
    "    fig.savefig(f\"/Users/joshduffield/Desktop/{file_name}.pdf\", dpi=dpi['monochrome'] if publish_fig else low_dpi, \n",
    "                bbox_inches='tight', pad_inches=save_pad_inches)"
   ],
   "metadata": {
    "collapsed": false,
    "ExecuteTime": {
     "end_time": "2024-02-27T13:11:08.365506Z",
     "start_time": "2024-02-27T13:11:08.263451Z"
    }
   },
   "execution_count": 254
  },
  {
   "cell_type": "markdown",
   "source": [
    "### Tropical Theory\n",
    "Below I apply the theory developed for the tropics to the extratropics. It predicts the amplified warming of cold days, but is not quantitatively accurate."
   ],
   "metadata": {
    "collapsed": false
   }
  },
  {
   "cell_type": "code",
   "outputs": [
    {
     "data": {
      "text/plain": "<Figure size 320x240 with 1 Axes>",
      "image/png": "[encoded data removed]"
     },
     "metadata": {},
     "output_type": "display_data"
    }
   ],
   "source": [
    "# Do a single plot combining all simulations\n",
    "sf_ind_use = 0  # 0, 1 or 2\n",
    "save_sf_theory_fig = False\n",
    "# if publishing figure, use high dpi\n",
    "fig, ax = plt.subplots(1,1, figsize=(width['one_col'], width['one_col']/ar))\n",
    "ax.plot(quantiles_all, np.average(scaling_factor[sf_ind_use], axis=0, weights=lat_weights), color='b', label='Simulated')\n",
    "ax.plot(quantiles_all, np.average(scaling_factor_theory['linear'][sf_ind_use], axis=0, weights=lat_weights), color='k', \n",
    "        linestyle='--', label=f'Theory')\n",
    "ax.plot(quantiles_all, np.average(scaling_factor_theory['const_rh'][sf_ind_use], axis=0, weights=lat_weights), color='k', linestyle=':', \n",
    "        label= f'Theory (uniform RH Change)')\n",
    "# Add error\n",
    "ax.fill_between(quantiles_all, np.average(scaling_factor[sf_ind_use]-scaling_factor_error[sf_ind_use], axis=0, weights=lat_weights), \n",
    "                np.average(scaling_factor[sf_ind_use]+scaling_factor_error[sf_ind_use], axis=0, weights=lat_weights), fc='b', alpha=0.1)\n",
    "ax.hlines(1, 0, 100, linewidth=ax_linewidth, color='k')\n",
    "ax.legend()\n",
    "ax.set_xlim(0,100)\n",
    "ax.set_xlabel(percentile_label)\n",
    "ax.set_ylabel('Scaling factor, $\\delta T(x)/\\delta \\overline{T}$')\n",
    "if save_fig or save_sf_theory_fig:\n",
    "    file_name = f\"scaling_factor_theory_{region.lower()}\"\n",
    "    fig.savefig(f\"/Users/joshduffield/Desktop/{file_name}.pdf\",dpi=dpi['combination'] if publish_fig else low_dpi, \n",
    "                bbox_inches='tight', pad_inches=save_pad_inches)"
   ],
   "metadata": {
    "collapsed": false,
    "ExecuteTime": {
     "end_time": "2024-02-27T13:11:14.704446Z",
     "start_time": "2024-02-27T13:11:14.618956Z"
    }
   },
   "execution_count": 255
  },
  {
   "cell_type": "markdown",
   "source": [
    "### $\\lambda$ Decomposition\n",
    "The tropical theory assumes that $\\lambda = \\delta h(x)/\\delta \\overline{h} \\approx 1$. Below, I split $\\lambda$ into three variables linking free troposphere and surface to see why this is no longer the case in the extratropics.\n",
    "\n",
    "The decomposition shows different things for hot and cold simulations."
   ],
   "metadata": {
    "collapsed": false
   }
  },
  {
   "cell_type": "code",
   "outputs": [
    {
     "name": "stderr",
     "output_type": "stream",
     "text": [
      "100%|██████████| 5346/5346 [00:02<00:00, 1870.27it/s]\n"
     ]
    }
   ],
   "source": [
    "lambda_1 = np.zeros((n_sf, n_lat, n_quant_all))\n",
    "lambda_2 = np.zeros((n_sf, n_lat, n_quant_all))\n",
    "lambda_3 = np.zeros((n_sf, n_lat))\n",
    "lambda_full = np.zeros((n_sf, n_lat, n_quant_all))\n",
    "labels = ['$\\lambda(x) = \\lambda_1(x) \\lambda_2(x) / \\overline{\\lambda_1}$',\n",
    "          '$\\lambda_1(x)$',\n",
    "          '$\\lambda_2(x)$',\n",
    "          '$\\overline{\\lambda_1}$']\n",
    "\n",
    "with tqdm(total=n_sf*n_lat*n_quant_all, position=0, leave=True) as pbar:\n",
    "    for k in range(n_sf):\n",
    "        sf_tau_ref_ind = np.where(tau_lw[sf_tau_use[k]]==sf_tau_ref[k])[0]\n",
    "        for i in range(n_lat):\n",
    "            lambda_3[k, i] = get_gradient(mse_mean[sf_tau_use[k], ind_surf, i], \n",
    "                                          mse_mean[sf_tau_use[k], ind_ft, i], sf_tau_ref_ind)[0]\n",
    "            for j in range(n_quant_all):\n",
    "                lambda_1[k, i, j] = get_gradient(mse_quant3[sf_tau_use[k], ind_surf, i, j], \n",
    "                                                 mse_quant3[sf_tau_use[k], ind_ft, i, j], sf_tau_ref_ind)[0]\n",
    "                lambda_2[k, i, j] = get_gradient(mse_quant3[sf_tau_use[k], ind_ft, i, j], \n",
    "                                                 mse_mean[sf_tau_use[k], ind_ft, i], sf_tau_ref_ind)[0]\n",
    "                lambda_full[k, i, j] = get_gradient(mse_quant3[sf_tau_use[k], ind_surf, i, j], \n",
    "                                                    mse_mean[sf_tau_use[k], ind_surf, i], sf_tau_ref_ind)[0]\n",
    "                pbar.update(1)"
   ],
   "metadata": {
    "collapsed": false,
    "ExecuteTime": {
     "end_time": "2024-02-27T12:21:31.092503Z",
     "start_time": "2024-02-27T12:21:28.222400Z"
    }
   },
   "execution_count": 214
  },
  {
   "cell_type": "code",
   "outputs": [
    {
     "data": {
      "text/plain": "<Figure size 320x720 with 3 Axes>",
      "image/png": "[encoded data removed]"
     },
     "metadata": {},
     "output_type": "display_data"
    }
   ],
   "source": [
    "save_lambda_decomp_all_sf_fig = False\n",
    "fig, ax = plt.subplots(n_sf,1, figsize=(width['one_col'], n_sf*width['one_col']/ar), sharex=True, sharey=True)\n",
    "for k in range(n_sf):\n",
    "    for i, var in enumerate([lambda_full, lambda_1, lambda_2]):\n",
    "        use_color = 'k' if i == 0 else default_colors[i-1]\n",
    "        ax[k].plot(quantiles_all, np.average(var[k], axis=0, weights=lat_weights),\n",
    "                   color=use_color, label=labels[i])\n",
    "    ax[k].axhline(np.average(lambda_3[k], axis=0, weights=lat_weights), color=default_colors[2], alpha=0.5, label=labels[3])\n",
    "    ax[k].axhline(1, color='k', lw=ax_linewidth, alpha=0.5)\n",
    "    ax[k].set_title(sf_labels[k])\n",
    "ax[0].legend()\n",
    "ax[0].set_xlim(0, 100)\n",
    "ax[-1].set_xlabel(percentile_label)\n",
    "# ax.set_xlabel(f\"{'Temperature percentile' if quant3_method=='temp' else 'Moist static energy percentile'}, $x$\")\n",
    "# ax.set_ylabel('Ratio of\\nmoist static energy changes')\n",
    "if save_fig or save_lambda_decomp_all_sf_fig:\n",
    "    fig.savefig(f\"/Users/joshduffield/Desktop/lambda_decomp_all_sf_{region.lower()}_{season}.pdf\",\n",
    "                dpi=dpi['combination'] if publish_fig else low_dpi, bbox_inches='tight', pad_inches=save_pad_inches)"
   ],
   "metadata": {
    "collapsed": false,
    "ExecuteTime": {
     "end_time": "2024-02-27T13:11:31.528293Z",
     "start_time": "2024-02-27T13:11:31.295609Z"
    }
   },
   "execution_count": 256
  },
  {
   "cell_type": "markdown",
   "source": [
    "### CAPE and $\\epsilon=h(x)-h^*_{FT}(x)$\n",
    "From above, we see that $\\lambda_1 \\neq 1$ implying that CAPE changes with warming. Below, I show that the CAPE has an almost 1:1 relationship with near-surface temperature. \n",
    "This increase in CAPE is not consistent with the assumption of CQE."
   ],
   "metadata": {
    "collapsed": false
   }
  },
  {
   "cell_type": "code",
   "outputs": [
    {
     "data": {
      "text/plain": "<Figure size 320x240 with 1 Axes>",
      "image/png": "[encoded data removed]"
     },
     "metadata": {},
     "output_type": "display_data"
    }
   ],
   "source": [
    "epsilon_quant3 = mse_quant3[:, 0] - mse_quant3[:, 1]\n",
    "\n",
    "save_epsilon_fig = False\n",
    "colors_exp = plt.cm.jet(np.linspace(0, 1, n_exp))\n",
    "fig, ax = plt.subplots(1,1, figsize=(width['one_col'], width['one_col']/ar))\n",
    "for i in range(n_exp):\n",
    "    ax.plot(np.average(temp_quant3[i, ind_surf], axis=0, weights=lat_weights), \n",
    "             np.average(epsilon_quant3[i], axis=0, weights=lat_weights), color=colors_exp[i], label=f'{tau_lw[i]}')\n",
    "ax.axhline(0, color='k', lw=ax_linewidth)\n",
    "ax.legend(title='$\\kappa$')\n",
    "ax.set_ylabel('$\\epsilon=h-h^*_{FT}$ [kJ/kg]')\n",
    "ax.set_xlabel('Near-surface Temperature [K]')\n",
    "if save_epsilon_fig:\n",
    "    fig.savefig(f\"/Users/joshduffield/Desktop/epsilon_{region}_{season}_kappa.pdf\",\n",
    "                            dpi=dpi['combination'] if publish_fig else low_dpi, bbox_inches='tight', pad_inches=save_pad_inches)"
   ],
   "metadata": {
    "collapsed": false,
    "ExecuteTime": {
     "end_time": "2024-02-27T13:23:59.020121Z",
     "start_time": "2024-02-27T13:23:58.919033Z"
    }
   },
   "execution_count": 277
  },
  {
   "cell_type": "markdown",
   "source": [
    "### MSE as function of temperature\n",
    "To delve more into the CAPE trend above, below I plot $h(x)$ (solid) and $h^*_{FT}(x)$ as a function of near-surface temperature. Both appear to show a 1:1 relationship and there doesn't seem to be anything stopping $h$ exceeding $h^*_{FT}$ as we may expect if convection was happening.\n",
    "\n",
    "For each simulation, the line joins up all moist static energies evaluated at all 99 quantiles of near-surface temperature.\n",
    "\n",
    "The black solid line on the left figure is $h$ with relative humidity of 0.7.\n",
    "\n",
    "The black dotted line on the left figure is $h^*_{FT}$ evaluated at $T-30$ with $z_{500}=5500m$ i.e. with a constant lapse rate."
   ],
   "metadata": {
    "collapsed": false
   }
  },
  {
   "cell_type": "code",
   "outputs": [
    {
     "data": {
      "text/plain": "<Figure size 320x240 with 1 Axes>",
      "image/png": "[encoded data removed]"
     },
     "metadata": {},
     "output_type": "display_data"
    }
   ],
   "source": [
    "save_h_fig = False\n",
    "colors_exp = plt.cm.jet(np.linspace(0, 1, n_exp))\n",
    "fig, ax = plt.subplots(1,1, figsize=(width['one_col'], width['one_col']/ar))\n",
    "for i in range(n_exp):\n",
    "    # if tau_lw[i]!=1 and tau_lw[i]!=1.5:\n",
    "    #     continue\n",
    "    ax.plot(np.average(temp_quant3[i, ind_surf], axis=0, weights=lat_weights), \n",
    "             np.average(mse_quant3[i, ind_surf], axis=0, weights=lat_weights), color=colors_exp[i], \n",
    "               label=f'{tau_lw[i]}')\n",
    "    ax.plot(np.average(temp_quant3[i, ind_surf], axis=0, weights=lat_weights), \n",
    "             np.average(mse_quant3[i, ind_ft], axis=0, weights=lat_weights), color=colors_exp[i], \n",
    "               linestyle=':')\n",
    "temp_manual_plot = np.arange(250, 320)\n",
    "ax.plot(temp_manual_plot, (c_p * temp_manual_plot + L_v * 0.7*sphum_sat(temp_manual_plot, p_surface))/1000, color='k', \n",
    "        lw=ax_linewidth, alpha=0.5)\n",
    "ax.plot(temp_manual_plot, (c_p * (temp_manual_plot-30)+ L_v * sphum_sat(temp_manual_plot-30, pressure_ft_actual)+g*5500)/1000, color='k', \n",
    "        lw=ax_linewidth, alpha=0.5, linestyle=':')\n",
    "ax.legend(title='$\\kappa$')\n",
    "ax.set_ylabel('$h$ [kJ/kg]')\n",
    "ax.set_xlabel('Near-surface Temperature [K]')\n",
    "ax.set_xlim(253, 320)\n",
    "if save_h_fig:\n",
    "    fig.savefig(f\"/Users/joshduffield/Desktop/h_{region}_{season}_kappa.pdf\",\n",
    "                            dpi=dpi['combination'] if publish_fig else low_dpi, bbox_inches='tight', pad_inches=save_pad_inches)"
   ],
   "metadata": {
    "collapsed": false,
    "ExecuteTime": {
     "end_time": "2024-02-27T12:21:31.540037Z",
     "start_time": "2024-02-27T12:21:31.429698Z"
    }
   },
   "execution_count": 217
  },
  {
   "cell_type": "markdown",
   "source": [
    "### Sequential $\\lambda$ Decomposition\n",
    "The plots below emphasise that $\\lambda_1/\\overline{\\lambda_1}$ decreases with $x$ for cold simulations but stays fairly constant except for the extremes for hot simulations.\n",
    "\n",
    "I exclude the $\\kappa=0.2$ simulation as it had some latitudes with negative $\\lambda_1$."
   ],
   "metadata": {
    "collapsed": false
   }
  },
  {
   "cell_type": "code",
   "outputs": [
    {
     "data": {
      "text/plain": "<Figure size 320x720 with 3 Axes>",
      "image/png": "[encoded data removed]"
     },
     "metadata": {},
     "output_type": "display_data"
    }
   ],
   "source": [
    "lambda_all_sim = np.zeros((n_exp-1, n_lat, n_quant_all))\n",
    "lambda_1_all_sim = np.zeros((n_exp-1, n_lat, n_quant_all))\n",
    "lambda_2_all_sim = np.zeros((n_exp-1, n_lat, n_quant_all))\n",
    "lambda_3_all_sim = np.zeros((n_exp-1, n_lat))\n",
    "for i in range(n_exp-1):\n",
    "    lambda_all_sim[i] = (mse_quant3[i+1, ind_surf] - mse_quant3[i, ind_surf]\n",
    "                              )/(mse_mean[i+1, ind_surf] - mse_mean[i, ind_surf])[:, np.newaxis]\n",
    "    lambda_1_all_sim[i] = (mse_quant3[i+1, ind_surf] - mse_quant3[i, ind_surf]\n",
    "                              )/(mse_quant3[i+1, ind_ft] - mse_quant3[i, ind_ft])\n",
    "    lambda_2_all_sim[i] = (mse_quant3[i+1, ind_ft] - mse_quant3[i, ind_ft]) / (mse_mean[i+1, ind_ft] - mse_mean[i, ind_ft])[:, np.newaxis]\n",
    "    lambda_3_all_sim[i] = (mse_mean[i+1, ind_surf] - mse_mean[i, ind_surf]) / (mse_mean[i+1, ind_ft] - mse_mean[i, ind_ft])\n",
    "\n",
    "save_lambda_seq_fig = True\n",
    "fig, ax = plt.subplots(3,1, figsize=(width['one_col'], 3*width['one_col']/ar), sharex=True, sharey=True)\n",
    "for i in range(1, n_exp-1):\n",
    "    ax[0].plot(quantiles_all, np.average(lambda_1_all_sim[i]/lambda_3_all_sim[i][:, np.newaxis], axis=0, weights=lat_weights), color=colors_exp[i], label=tau_lw[i])\n",
    "    ax[1].plot(quantiles_all, 1/np.average(lambda_2_all_sim[i], axis=0, weights=lat_weights), color=colors_exp[i], label=tau_lw[i])\n",
    "    ax[2].plot(quantiles_all, np.average(lambda_all_sim[i], axis=0, weights=lat_weights), color=colors_exp[i], label=tau_lw[i])\n",
    "ax[0].legend(title='$\\kappa^{cold}$', fontsize=6)\n",
    "ax[0].set_ylabel('$\\lambda_1/\\overline{\\lambda_1}$')\n",
    "ax[0].axhline(1, color='k', lw=ax_linewidth)\n",
    "ax[1].axhline(1, color='k', lw=ax_linewidth)\n",
    "ax[2].axhline(1, color='k', lw=ax_linewidth)\n",
    "ax[1].set_ylabel('1/$\\lambda_2$')\n",
    "ax[2].set_ylabel('$\\lambda = \\lambda_1\\lambda_2/\\overline{\\lambda_1}$')\n",
    "ax[2].set_xlabel(percentile_label)\n",
    "ax[0].set_xlim(0, 100)\n",
    "\n",
    "if save_lambda_seq_fig:\n",
    "    fig.savefig(f\"/Users/joshduffield/Desktop/lambda_seq_{region}_{season}.pdf\",\n",
    "                            dpi=dpi['combination'] if publish_fig else low_dpi, bbox_inches='tight', pad_inches=save_pad_inches)"
   ],
   "metadata": {
    "collapsed": false,
    "ExecuteTime": {
     "end_time": "2024-02-27T13:23:04.698865Z",
     "start_time": "2024-02-27T13:23:02.802863Z"
    }
   },
   "execution_count": 275
  },
  {
   "cell_type": "code",
   "execution_count": 218,
   "outputs": [
    {
     "ename": "NameError",
     "evalue": "name 'temp_quant2' is not defined",
     "output_type": "error",
     "traceback": [
      "\u001B[0;31m---------------------------------------------------------------------------\u001B[0m",
      "\u001B[0;31mNameError\u001B[0m                                 Traceback (most recent call last)",
      "Cell \u001B[0;32mIn [218], line 44\u001B[0m\n\u001B[1;32m     41\u001B[0m \u001B[38;5;28;01mfor\u001B[39;00m i \u001B[38;5;129;01min\u001B[39;00m \u001B[38;5;28mrange\u001B[39m(n_lat):\n\u001B[1;32m     42\u001B[0m     \u001B[38;5;28;01mfor\u001B[39;00m j \u001B[38;5;129;01min\u001B[39;00m \u001B[38;5;28mrange\u001B[39m(n_quant_plot):\n\u001B[1;32m     43\u001B[0m         temp_quant_grad[i, j], temp_quant_grad_fit[:, i, j], _ \u001B[38;5;241m=\u001B[39m \\\n\u001B[0;32m---> 44\u001B[0m             get_gradient(\u001B[43mtemp_quant2\u001B[49m[:, i, quant_plot_ind[j]], temp_mean[:, i], tau_ref_ind)\n",
      "\u001B[0;31mNameError\u001B[0m: name 'temp_quant2' is not defined"
     ]
    }
   ],
   "source": [
    "# For given quantiles, plot quantile vs average temp for each latitude.\n",
    "# Then fit best line to this to get simulated gradient, combining all kappa values\n",
    "quant_plot = [90, 95, 99]\n",
    "quant_plot = [1, 25, 50, 75, 99]\n",
    "quant_plot_ind = numpy_indexed.indices(quantiles_all, quant_plot)\n",
    "n_quant_plot = len(quant_plot)\n",
    "lat_weights = np.cos(np.deg2rad(ds_all[0].lat))     # latitude area weighting is just the cosine\n",
    "\n",
    "def get_gradient(temp_quant, temp_av, ref_ind, confidence = 0.9):\n",
    "    \"\"\"\n",
    "    Gets gradient of temperature of given quantile vs average temperature\n",
    "\n",
    "    Args:\n",
    "        temp_quant: [n_exp]\n",
    "        temp_av: [n_exp]\n",
    "        ref_ind: int\n",
    "        confidence: float\n",
    "            Desired confidence in temperature\n",
    "\n",
    "    Returns:\n",
    "        float\n",
    "            Gradient\n",
    "        [n_exp]\n",
    "            Predicted temperature for each experiment\n",
    "        float\n",
    "            Confidence value for the gradient, such that there is the desired confidence \n",
    "            in ± this value about returned gradient.\n",
    "    \"\"\"\n",
    "    fit_func = lambda x, m: temp_quant[ref_ind] + m*(x-temp_av[ref_ind])     # Straight line through the ref point\n",
    "    param, pcov = scipy.optimize.curve_fit(fit_func,temp_av, temp_quant)[:2]\n",
    "    # param_with_error = uncertainties.correlated_values(param, pcov)[0]\n",
    "    # param_std = param_with_error.std_dev\n",
    "    param_std = np.sqrt(pcov)\n",
    "    z_score = z_score_from_confidence_interval(confidence)\n",
    "    return param, fit_func(temp_av, param), z_score * param_std\n",
    "\n",
    "tau_lw_ref = 1\n",
    "tau_ref_ind = np.where(np.asarray(tau_lw)==tau_lw_ref)[0][0]\n",
    "temp_quant_grad = np.zeros((n_lat, n_quant_plot))\n",
    "temp_quant_grad_fit = np.zeros((n_exp, n_lat, n_quant_plot))\n",
    "for i in range(n_lat):\n",
    "    for j in range(n_quant_plot):\n",
    "        temp_quant_grad[i, j], temp_quant_grad_fit[:, i, j], _ = \\\n",
    "            get_gradient(temp_quant2[:, i, quant_plot_ind[j]], temp_mean[:, i], tau_ref_ind)"
   ],
   "metadata": {
    "collapsed": false,
    "ExecuteTime": {
     "end_time": "2024-02-27T12:21:31.559731Z",
     "start_time": "2024-02-27T12:21:31.543155Z"
    }
   }
  },
  {
   "cell_type": "markdown",
   "source": [
    "## Figure 4 of O'Gorman & Schneider 2009\n",
    "### Tropics\n",
    "In the plot below, all the gradients are below 1, indicating that the hottest days warm less quickly than the average day. If we look at the largest $\\kappa$ values, it is also clear that the gradient here is a lot larger than the gradient at lower $\\kappa$ and thus causes the gradients to be larger than maybe they appear by eye."
   ],
   "metadata": {
    "collapsed": false
   }
  },
  {
   "cell_type": "code",
   "execution_count": null,
   "outputs": [],
   "source": [
    "trend_line_on = True\n",
    "save_trend_fig = False\n",
    "\n",
    "tau_lw_ref = 1\n",
    "tau_ref_ind = np.where(np.asarray(tau_lw)==tau_lw_ref)[0][0]\n",
    "\n",
    "temp_mean_weight = np.average(temp_mean, axis=1, weights=lat_weights)\n",
    "temp_quant_weight = np.average(temp_quant2, axis=1, weights=lat_weights)\n",
    "color_seq_quant = plt.cm.jet(np.linspace(0,1,n_quant_plot))\n",
    "\n",
    "# labels_quant = [f'{qu}$^{st}$', '25$^{th}$', '50$^{th}$', '75$^{th}$', '99$^{th}$']\n",
    "fig, ax = plt.subplots(1,1, figsize=(width['one_col'], width['one_col']/ar))\n",
    "for j in range(n_quant_plot):\n",
    "    ax.plot(temp_mean_weight,\n",
    "            temp_quant_weight[:, quant_plot_ind[j]],\n",
    "            marker='o',\n",
    "            label=f'{quant_plot[j]}'+ ('$^{st}$' if quant_plot[j]==1 else '$^{th}$'),\n",
    "            color=color_seq_quant[j], fillstyle='none')\n",
    "    if trend_line_on:\n",
    "        # Filled circle for reference simulation\n",
    "        ax.plot(temp_mean_weight[tau_ref_ind],\n",
    "                temp_quant_weight[tau_ref_ind, quant_plot_ind[j]],\n",
    "                marker='o', color=color_seq_quant[j], fillstyle='full')\n",
    "        if j==n_quant_plot-1:\n",
    "            label = None #'Linear fits'\n",
    "        else:\n",
    "            label = None\n",
    "        ax.plot(temp_mean_weight,\n",
    "                np.average(temp_quant_grad_fit[:, :, j], axis=1, weights=lat_weights),\n",
    "                linestyle='--', color=color_seq_quant[j], alpha=0.3, label=label)\n",
    "xlim = ax.get_xlim()\n",
    "ylim = ax.get_ylim()\n",
    "lim_new = [np.asarray([xlim, ylim]).min(), np.asarray([xlim, ylim]).max()]\n",
    "ax.plot(lim_new, lim_new, 'k:', alpha=0.75)\n",
    "ax.set_ylim(lim_new)\n",
    "ax.set_xlim(lim_new)\n",
    "if trend_line_on:\n",
    "    ax.legend(loc='upper left', title='Percentile')\n",
    "ax.set_xlabel(f'Mean Temperature [K]')\n",
    "ax.set_ylabel(f'Temperature [K]')\n",
    "if save_fig or save_trend_fig:\n",
    "    if trend_line_on:\n",
    "        file_name = f\"{region.lower()}_trend\"\n",
    "    else:\n",
    "        file_name = f\"{region.lower()}_no_trend\"\n",
    "    fig.savefig(f\"/Users/joshduffield/Desktop/{file_name}.pdf\",dpi=dpi['combination'] if publish_fig else low_dpi, bbox_inches='tight',\n",
    "                pad_inches=save_pad_inches)\n",
    "print(f'Gradient of best fit line for {quant_plot} percentiles: {np.round(np.average(temp_quant_grad, weights=lat_weights, axis=0), 2)}')"
   ],
   "metadata": {
    "collapsed": false,
    "ExecuteTime": {
     "end_time": "2024-02-27T12:21:31.618370Z",
     "start_time": "2024-02-27T12:21:31.562139Z"
    }
   }
  },
  {
   "cell_type": "markdown",
   "source": [
    "## Theory for Temperature change relative to median change between subsequent $\\kappa$\n",
    "The below shows the predicted amplification factor compared to the actual one. The denominator in $\\delta T(x)/\\delta \\overline{T}$ is the change in the median temperature as the theory can predict this too."
   ],
   "metadata": {
    "collapsed": false
   }
  },
  {
   "cell_type": "code",
   "execution_count": null,
   "outputs": [],
   "source": [
    "delta_mse_ratio = np.diff(mse_quant2, axis=0)/np.expand_dims(np.diff(mse_mean, axis=0), axis=-1)\n",
    "# delta_temp_quant_theory[-1] will be all zeros and never used, but helpful to keep this shape\n",
    "delta_temp_quant_theory = {method: np.zeros((n_exp, n_lat, n_quant_all)) for method in\n",
    "                           ['linear', 'const_rh', 'squared', 'squared_lambda', 'linear_full']}\n",
    "for method in delta_temp_quant_theory:\n",
    "    for i in range(n_lat):\n",
    "        taylor_level_use = 'squared' if method[0] == 's' else 'linear_rh_diff'\n",
    "        if method == 'linear_full':\n",
    "            taylor_level_use = 'linear'\n",
    "        delta_temp_quant_theory[method][:-1, i] = \\\n",
    "                get_delta_temp_quant_theory(temp_mean[:, i], sphum_mean[:, i], temp_quant2[:, i], sphum_quant2[:, i], p_surface,\n",
    "                                            const_rh=True if method=='const_rh' else False,\n",
    "                                            delta_mse_ratio=delta_mse_ratio[:, i] if 'lambda' in method else None,\n",
    "                                            taylor_level=taylor_level_use)"
   ],
   "metadata": {
    "collapsed": false,
    "ExecuteTime": {
     "start_time": "2024-02-27T12:21:31.563552Z"
    }
   }
  },
  {
   "cell_type": "code",
   "execution_count": null,
   "outputs": [],
   "source": [
    "scaling_factor_av = 'mean'    # Mean will use quantile closest to mean at each latitude\n",
    "# scaling_factor_av = 'median'  # take median as average rather than mean because theory does not predict change to mean temperature\n",
    "# scaling_factor_av_type = 'theory'\n",
    "scaling_factor_av_type = 'simulated'     # If 'simulated', will use theoretical mean/median temp diff to compute theoretical scale factor too\n",
    "\n",
    "# get theory predictions for all quantiles\n",
    "# delta_temp_quant[-1] will be all zeros and never used, but helpful to keep this shape\n",
    "delta_temp_quant = np.zeros((n_exp, n_lat, n_quant_all))\n",
    "delta_temp_quant[:n_exp-1, :, :] = np.diff(temp_quant2, axis=0)\n",
    "\n",
    "if scaling_factor_av == 'mean':\n",
    "    av_quant_ind = [[scipy.stats.percentileofscore(ds_all[i].temp[j][~np.isnan(ds_all[i].temp[j])], \n",
    "                                                   float(ds_all[i].temp[j].mean())) for j in range(n_lat)] \n",
    "                    for i in range(n_exp)]\n",
    "    av_quant_ind = np.round(np.asarray(av_quant_ind)).astype(int)\n",
    "    delta_temp_sf_av = np.diff(temp_mean, axis=0)\n",
    "else:\n",
    "    av_quant_ind = np.full((n_exp, n_lat), 50, dtype=int)\n",
    "    delta_temp_sf_av = np.diff(temp_median, axis=0)\n",
    "for i in range(n_exp):\n",
    "    # Get position of index in array\n",
    "    av_quant_ind[i] = numpy_indexed.indices(quantiles_all, av_quant_ind[i])\n",
    "\n",
    "exp_flat_ind, lat_flat_ind = np.unravel_index(np.arange(np.prod(av_quant_ind.shape)), av_quant_ind.shape)\n",
    "av_quant_flat_ind = np.ravel_multi_index((exp_flat_ind, lat_flat_ind, av_quant_ind.flatten()), (n_exp, n_lat, n_quant_all))"
   ],
   "metadata": {
    "collapsed": false,
    "ExecuteTime": {
     "start_time": "2024-02-27T12:21:31.564988Z"
    }
   }
  },
  {
   "cell_type": "code",
   "execution_count": null,
   "outputs": [],
   "source": [
    "theory_method = 'linear'\n",
    "color_seq = plt.cm.jet(np.linspace(0,1,len(quant_plot)))\n",
    "\n",
    "save_amp_factor_fig=False\n",
    "fig, ax = plt.subplots(1,1, figsize=(width['one_col'], width['one_col']/ar))\n",
    "ax.spines[['right', 'top']].set_visible(False)\n",
    "for j in range(n_quant_plot):\n",
    "    # for difference between simulations, make x-axis the average between the two mean temperatures\n",
    "    ax.plot(moving_average(temp_mean_weight, 2),\n",
    "            np.average(delta_temp_quant[:-1, :, quant_plot_ind[j]]/delta_temp_sf_av, axis=1, weights=lat_weights),\n",
    "            color=color_seq[j], marker='o', fillstyle='none', label=quant_plot[j])\n",
    "    if scaling_factor_av_type == 'simulated':\n",
    "        denom_use = delta_temp_sf_av\n",
    "    else:\n",
    "        denom_use = delta_temp_quant_theory[theory_method].flatten()[av_quant_flat_ind].reshape((n_exp, n_lat))[:-1]\n",
    "    ax.plot(moving_average(temp_mean_weight, 2),\n",
    "            np.average(delta_temp_quant_theory[theory_method][:-1, :, quant_plot_ind[j]]/denom_use,\n",
    "                       axis=1, weights=lat_weights), color=color_seq[j], linestyle='--')\n",
    "# ax.legend(title='Temperature\\npercentile, $x$', frameon=True, framealpha=1, edgecolor='w')\n",
    "xlim = ax.get_xlim()\n",
    "ax.hlines(1, xlim[0], xlim[1], color='k', linewidth=ax_linewidth)\n",
    "ax.set_xlim(xlim)\n",
    "ax.set_xlabel(f'Mean Temperature [K]')\n",
    "ax.set_ylabel('$\\delta T(x)/\\delta \\overline{T}$')\n",
    "if save_fig or save_amp_factor_fig:\n",
    "    file_name = f'{region.lower()}_amplification_factor_{theory_method}'\n",
    "    fig.savefig(f\"/Users/joshduffield/Desktop/{file_name}.pdf\", dpi=dpi['combination'] if publish_fig else low_dpi, \n",
    "                bbox_inches='tight', pad_inches=save_pad_inches)"
   ],
   "metadata": {
    "collapsed": false,
    "ExecuteTime": {
     "start_time": "2024-02-27T12:21:31.566413Z"
    }
   }
  },
  {
   "cell_type": "markdown",
   "source": [
    "## Figure 2 of Byrne 2021 - combining $\\kappa$\n",
    "The plot below indicates is found by plotting temp_quant vs temp_median (one marker for each $\\kappa$) and the taking the gradient. I do this for each quantile, so I obtain a single value for each quantile.\n",
    "\n",
    "I am using the actual percentile (not the average over a given percentile as used in Byrne 2021).\n",
    "\n",
    "To see if the scaling factor is different for warmer vs colder climates, I compute the gradients using a subset of $\\kappa$ values. For colder climates, I use $\\kappa=0.2, 0.3, 0.6, 1$ and force the line through $\\kappa=1$. For warmer climates, I use $\\kappa=1, 1.5, 2, 3.5, 6$ and force the line through $\\kappa=1$. The solid line includes all $\\kappa$ and is forced through $\\kappa = 1$.\n",
    "\n",
    "I also do the same with the theoretical temperature. To get the theoretical temperature, I start with the simulated temperature for the coldest simulation, and then add the theoretical temperature difference."
   ],
   "metadata": {
    "collapsed": false
   }
  },
  {
   "cell_type": "code",
   "execution_count": null,
   "outputs": [],
   "source": [
    "# theory2 adds the same theoretical delta_temp to theory prediction of previous kappa so errors accumulate\n",
    "temp_quant_theory2 = {method: temp_quant2.copy() for method in ['linear', 'const_rh', 'squared', 'squared_lambda', 'linear_full']}\n",
    "for method in delta_temp_quant_theory:\n",
    "    for j in range(n_exp-1):\n",
    "        temp_quant_theory2[method][1+j] = temp_quant_theory2[method][j] + delta_temp_quant_theory[method][j]"
   ],
   "metadata": {
    "collapsed": false,
    "ExecuteTime": {
     "start_time": "2024-02-27T12:21:31.568090Z"
    }
   }
  },
  {
   "cell_type": "code",
   "execution_count": null,
   "outputs": [],
   "source": [
    "confidence = 0.9        # desired confidence for shading in plots\n",
    "sf_tau_use = [np.where(tau_lw<=np.inf)[0], np.where(tau_lw<=1)[0], np.where(tau_lw>=1)[0]]\n",
    "sf_tau_ref = [1, 1, 1]\n",
    "n_sf = len(sf_tau_use)\n",
    "# all temperatures averaged above x=0 - same as temp_av except for no area averaging\n",
    "scaling_factor = np.zeros((n_sf, n_lat, n_quant_all))\n",
    "scaling_factor_error = np.zeros((n_sf, n_lat, n_quant_all))\n",
    "\n",
    "scaling_factor_theory = {method: np.zeros((n_sf, n_lat, n_quant_all)) for method in delta_temp_quant_theory}\n",
    "\n",
    "sf_av = {key: temp_quant_theory2[key].flatten()[av_quant_flat_ind].reshape(n_exp, n_lat) for key in temp_quant_theory2.keys()}\n",
    "if scaling_factor_av == 'mean':\n",
    "    sf_av['simulated'] = temp_mean\n",
    "else:\n",
    "    sf_av['simulated'] = temp_median\n",
    "if scaling_factor_av_type == 'simulated':\n",
    "    for key in temp_quant_theory2.keys():\n",
    "        # Set all theoretical mean/median predictions to the simulated\n",
    "        sf_av[key] = sf_av['simulated'] \n",
    "\n",
    "for i in range(n_sf):\n",
    "    sf_tau_ref_ind = np.where(tau_lw[sf_tau_use[i]]==sf_tau_ref[i])[0]\n",
    "    for j in range(n_quant_all):\n",
    "        # The theory predicts median change but not mean hence I use median rather than mean.\n",
    "        # This means can get theoretical scale factor rather than using simulated mean.\n",
    "        # This means x=50 will correspond to y=1 in all plots below.\n",
    "        # Straight line through the ref point\n",
    "        for k in range(n_lat):\n",
    "            scaling_factor[i, k, j], _, scaling_factor_error[i, k, j] = get_gradient(temp_quant2[sf_tau_use[i], k, j],\n",
    "                                                                                     sf_av['simulated'][sf_tau_use[i], k], sf_tau_ref_ind,\n",
    "                                                                                     confidence)\n",
    "            for method in scaling_factor_theory:\n",
    "                # Use theory2 version for theoretical scaling factor as errors compounded - makes most sense to me\n",
    "                scaling_factor_theory[method][i, k, j] = get_gradient(temp_quant_theory2[method][sf_tau_use[i], k, j],\n",
    "                                                           sf_av[method][sf_tau_use[i], k],\n",
    "                                                           sf_tau_ref_ind, confidence)[0]"
   ],
   "metadata": {
    "collapsed": false,
    "ExecuteTime": {
     "start_time": "2024-02-27T12:21:31.569684Z"
    }
   }
  },
  {
   "cell_type": "code",
   "execution_count": null,
   "outputs": [],
   "source": [
    "save_sf_fig = False\n",
    "# if publishing figure, use high dpi\n",
    "fig, ax = plt.subplots(1,1, figsize=(width['one_col'], width['one_col']/ar))\n",
    "ax.spines[['right', 'top']].set_visible(False)\n",
    "ax.plot(quantiles_all, np.average(scaling_factor[0], axis=0, weights=lat_weights), color='k', label='All $\\kappa$')\n",
    "ax.plot(quantiles_all, np.average(scaling_factor[1], axis=0, weights=lat_weights), color='k', linestyle=':',\n",
    "        label=f'$\\kappa \\leq {tau_lw[sf_tau_use[1]].max()}$')\n",
    "ax.plot(quantiles_all, np.average(scaling_factor[2], axis=0, weights=lat_weights), color='k', linestyle='--',\n",
    "        label= f'$\\kappa \\geq {tau_lw[sf_tau_use[2]].min()}$')\n",
    "ax.hlines(1, 0, 100, lw=ax_linewidth, color='k')\n",
    "# # Remove some of the lines but keep ylims the same\n",
    "# ax.lines.pop(1)\n",
    "# ax.lines.pop(1)\n",
    "ax.legend()\n",
    "ax.set_xlim(0,100)\n",
    "# if quant_type_use == 'x':\n",
    "#     ax.set_ylim(0.5,1.5)\n",
    "# else:\n",
    "#     ax.set_ylim(0.5,2.5)\n",
    "ax.set_xlabel('Temperature percentile, $x$')\n",
    "ax.set_ylabel('Scaling factor, $\\delta T(x)/\\delta \\overline{T}$')\n",
    "if save_fig or save_sf_fig:\n",
    "    file_name = f\"scaling_factor_multi_kappa_{region.lower()}\"\n",
    "    fig.savefig(f\"/Users/joshduffield/Desktop/{file_name}.pdf\", dpi=dpi['monochrome'] if publish_fig else low_dpi, \n",
    "                bbox_inches='tight', pad_inches=save_pad_inches)"
   ],
   "metadata": {
    "collapsed": false,
    "ExecuteTime": {
     "start_time": "2024-02-27T12:21:31.571139Z"
    }
   }
  },
  {
   "cell_type": "markdown",
   "source": [
    "The solid blue line below is the same as the solid black line above. The black lines show the theoretical prediction for the blue line, combining all kappa values."
   ],
   "metadata": {
    "collapsed": false
   }
  },
  {
   "cell_type": "code",
   "execution_count": null,
   "outputs": [],
   "source": [
    "save_sf_theory_multi_fig = False\n",
    "# if publishing figure, use high dpi\n",
    "fig, ax = plt.subplots(1,3, figsize=(width['two_col'], width['two_col']/ar/(0.75*3)), sharey=True, sharex=True)\n",
    "for i in range(n_sf):\n",
    "    ax[i].plot(quantiles_all, np.average(scaling_factor[i], axis=0, weights=lat_weights), color='b', label='Simulated')\n",
    "    ax[i].plot(quantiles_all, np.average(scaling_factor_theory['linear'][i], axis=0, weights=lat_weights), color='k', linestyle='--',\n",
    "            label=f'Theory')\n",
    "    ax[i].plot(quantiles_all, np.average(scaling_factor_theory['const_rh'][i], axis=0, weights=lat_weights), color='k', linestyle=':',\n",
    "            label= f'Theory\\nConstant\\nRH Change')\n",
    "    ax[i].hlines(1, 0, 100, linewidth=ax_linewidth, color='k')\n",
    "ax[0].set_title(f'All $\\kappa$')\n",
    "ax[1].set_title(f'$\\kappa \\leq {tau_lw[sf_tau_use[1]].max()}$')\n",
    "ax[2].set_title(f'$\\kappa \\geq {tau_lw[sf_tau_use[2]].min()}$')\n",
    "# # Remove some of the lines but keep ylims the same\n",
    "# ax.lines.pop(2)\n",
    "# ax.lines.pop(1)\n",
    "ax[0].legend()\n",
    "ax[0].set_xlim(0,100)\n",
    "# if quant_type_use == 'x':\n",
    "#     ax.set_ylim(0.5,1.5)\n",
    "# else:\n",
    "#     ax.set_ylim(0.5,2.5)\n",
    "ax[1].set_xlabel('Temperature percentile, $x$')\n",
    "ax[0].set_ylabel('Scaling factor, $\\delta T(x)/\\delta \\overline{T}$')\n",
    "label_subplots(fig, ax)\n",
    "if save_fig or save_sf_theory_multi_fig:\n",
    "    file_name = f\"scaling_factor_theory_multi_{region.lower()}\"\n",
    "    fig.savefig(f\"/Users/joshduffield/Desktop/{file_name}.pdf\",dpi=dpi['combination'] if publish_fig else low_dpi, \n",
    "                bbox_inches='tight', pad_inches=save_pad_inches)"
   ],
   "metadata": {
    "collapsed": false,
    "ExecuteTime": {
     "start_time": "2024-02-27T12:21:31.572439Z"
    }
   }
  },
  {
   "cell_type": "code",
   "execution_count": null,
   "outputs": [],
   "source": [
    "# Do a single plot combining all simulations\n",
    "sf_ind_use = 0  # 0, 1 or 2\n",
    "save_sf_theory_fig = False\n",
    "# if publishing figure, use high dpi\n",
    "fig, ax = plt.subplots(1,1, figsize=(width['one_col'], width['one_col']/ar))\n",
    "ax.plot(quantiles_all, np.average(scaling_factor[sf_ind_use], axis=0, weights=lat_weights), color='b', label='Simulated')\n",
    "ax.plot(quantiles_all, np.average(scaling_factor_theory['linear'][sf_ind_use], axis=0, weights=lat_weights), color='k', \n",
    "        linestyle='--', label=f'Theory')\n",
    "ax.plot(quantiles_all, np.average(scaling_factor_theory['const_rh'][sf_ind_use], axis=0, weights=lat_weights), color='k', linestyle=':', \n",
    "        label= f'Theory (uniform RH Change)')\n",
    "# Add error\n",
    "ax.fill_between(quantiles_all, np.average(scaling_factor[sf_ind_use]-scaling_factor_error[sf_ind_use], axis=0, weights=lat_weights), \n",
    "                np.average(scaling_factor[sf_ind_use]+scaling_factor_error[sf_ind_use], axis=0, weights=lat_weights), fc='b', alpha=0.1)\n",
    "ax.hlines(1, 0, 100, linewidth=ax_linewidth, color='k')\n",
    "ax.legend()\n",
    "ax.set_xlim(0,100)\n",
    "ax.set_xlabel('Temperature percentile, $x$')\n",
    "ax.set_ylabel('Scaling factor, $\\delta T(x)/\\delta \\overline{T}$')\n",
    "if save_fig or save_sf_theory_fig:\n",
    "    file_name = f\"scaling_factor_theory_{region.lower()}\"\n",
    "    fig.savefig(f\"/Users/joshduffield/Desktop/{file_name}.pdf\",dpi=dpi['combination'] if publish_fig else low_dpi, \n",
    "                bbox_inches='tight', pad_inches=save_pad_inches)"
   ],
   "metadata": {
    "collapsed": false,
    "ExecuteTime": {
     "start_time": "2024-02-27T12:21:31.574055Z"
    }
   }
  },
  {
   "cell_type": "markdown",
   "source": [
    "### Show that the $q^*(x) \\delta r(x) \\approx \\overline{q^*}\\delta r(x)$ approximation is small\n"
   ],
   "metadata": {
    "collapsed": false
   }
  },
  {
   "cell_type": "code",
   "execution_count": null,
   "outputs": [],
   "source": [
    "sf_linear_linearfull_diff = np.abs(np.average(scaling_factor_theory['linear'][sf_ind_use]-scaling_factor_theory['linear_full'][sf_ind_use],\n",
    "                                              axis=0, weights=lat_weights))\n",
    "sf_linear_const_rh_diff = np.abs(np.average(scaling_factor_theory['linear'][sf_ind_use]-scaling_factor_theory['const_rh'][sf_ind_use], axis=0, \n",
    "                            weights=lat_weights))\n",
    "sf_linear_simulated_diff = np.abs(np.average(scaling_factor_theory['linear_full'][sf_ind_use]-scaling_factor[sf_ind_use],\n",
    "                                            axis=0, weights=lat_weights))\n",
    "print(f'Linear to linear full average difference: {round(sf_linear_linearfull_diff.mean(), 4)} ± {round(sf_linear_linearfull_diff.std(), 4)}')\n",
    "print(f'Linear to const RH average difference: {round(sf_linear_const_rh_diff.mean(), 3)} ± {round(sf_linear_const_rh_diff.std(), 3)}')\n",
    "print(f'Linear to simulated average difference: {round(sf_linear_simulated_diff.mean(), 3)} ± {round(sf_linear_simulated_diff.std(), 3)}')"
   ],
   "metadata": {
    "collapsed": false,
    "ExecuteTime": {
     "start_time": "2024-02-27T12:21:31.575114Z"
    }
   }
  },
  {
   "cell_type": "markdown",
   "source": [
    "## Approximations of Theory\n",
    "Below, I investigate the 3 approximations that go into the aquaplanet theory."
   ],
   "metadata": {
    "collapsed": false
   }
  },
  {
   "cell_type": "code",
   "execution_count": null,
   "outputs": [],
   "source": [
    "lambda_p = {var: np.zeros((n_sf, n_lat, n_quant_all)) for var in ['temp', 'sphum', 'mse', 'mse2']}\n",
    "lambda_p_mse_error = np.zeros((n_sf, n_lat, n_quant_all))\n",
    "\n",
    "for i in range(n_sf):\n",
    "    sf_tau_ref_ind = np.where(tau_lw[sf_tau_use[i]]==sf_tau_ref[i])[0]\n",
    "    for j in range(n_quant_all):\n",
    "        # The theory predicts median change but not mean hence I use median rather than mean.\n",
    "        # This means can get theoretical scale factor rather than using simulated mean.\n",
    "        # This means x=50 will correspond to y=1 in all plots below.\n",
    "        # Straight line through the ref point\n",
    "        for k in range(n_lat):\n",
    "            lambda_p['temp'][i, k, j] = get_gradient(temp_quant2[sf_tau_use[i], k, j], temp_mean[sf_tau_use[i], k], sf_tau_ref_ind, \n",
    "                                                     confidence)[0]\n",
    "            lambda_p['sphum'][i, k, j] = get_gradient(sphum_quant2[sf_tau_use[i], k, j], sphum_mean[sf_tau_use[i], k], sf_tau_ref_ind,\n",
    "                                                      confidence)[0]\n",
    "            lambda_p['mse'][i, k, j], _, lambda_p_mse_error[i, k, j] = get_gradient(mse_quant2[sf_tau_use[i], k, j], \n",
    "                                                                                    mse_mean[sf_tau_use[i], k], sf_tau_ref_ind, confidence)\n",
    "            lambda_p['mse2'][i, k, j] = get_gradient(c_p * temp_quant2[sf_tau_use[i], k, j] + L_v * sphum_quant2[sf_tau_use[i], k, j],\n",
    "                                                     c_p * temp_mean[sf_tau_use[i], k] + L_v * sphum_mean[sf_tau_use[i], k],\n",
    "                                                     sf_tau_ref_ind, confidence)[0]"
   ],
   "metadata": {
    "collapsed": false,
    "ExecuteTime": {
     "start_time": "2024-02-27T12:21:31.576289Z"
    }
   }
  },
  {
   "cell_type": "code",
   "execution_count": null,
   "outputs": [],
   "source": [
    "save_lambda_multi_fig = False\n",
    "fig, ax = plt.subplots(1,3, figsize=(width['two_col'], width['two_col']/ar/(0.75*3)), sharey=True, sharex=True)\n",
    "labels = ['Temperature','Specific humidity', 'Moist static energy']\n",
    "linestyles = ['-', '--', ':']\n",
    "for i in range(n_sf):\n",
    "    for j, var in enumerate(['temp', 'sphum', 'mse']):\n",
    "        ax[i].plot(quantiles_all, np.average(lambda_p[var][i], axis=0, weights=lat_weights), label=labels[j], linestyle=linestyles[j],\n",
    "                   color='k')\n",
    "    ax[i].hlines(1,0,100, color='k', linewidth=ax_linewidth)\n",
    "ax[0].legend(loc='lower left')\n",
    "ax[0].set_title(f'All $\\kappa$')\n",
    "ax[1].set_title(f'$\\kappa \\leq {tau_lw[sf_tau_use[1]].max()}$')\n",
    "ax[2].set_title(f'$\\kappa \\geq {tau_lw[sf_tau_use[2]].min()}$')\n",
    "ax[1].set_xlabel('Percentile, $x$' if quant_method == 'byrne' else 'Temperature percentile, $x$')\n",
    "ax[0].set_ylabel('$\\delta \\chi(x)/\\delta \\overline{\\chi}$')\n",
    "ax[0].set_ylim(0.75,1.25)\n",
    "ax[0].set_xlim(0, 100)\n",
    "label_subplots(fig, ax)\n",
    "# plt.tight_layout()\n",
    "if save_fig or save_lambda_multi_fig:\n",
    "    fig.savefig(f\"/Users/joshduffield/Desktop/lambda_multi_{region.lower()}_{season}.pdf\",\n",
    "                dpi=dpi['monochrome'] if publish_fig else low_dpi, bbox_inches='tight', pad_inches=save_pad_inches)"
   ],
   "metadata": {
    "collapsed": false,
    "ExecuteTime": {
     "start_time": "2024-02-27T12:21:31.577012Z"
    }
   }
  },
  {
   "cell_type": "code",
   "execution_count": null,
   "outputs": [],
   "source": [
    "save_lambda_fig = False\n",
    "fig, ax = plt.subplots(1,1, figsize=(width['one_col'], width['one_col']/ar))\n",
    "labels = ['Temperature','Specific humidity', 'Moist static energy']\n",
    "linestyles = ['-', '--', ':']\n",
    "for j, var in enumerate(['temp', 'sphum', 'mse']):\n",
    "    ax.plot(quantiles_all, np.average(lambda_p[var][sf_ind_use], axis=0, weights=lat_weights), label=labels[j], linestyle=linestyles[j],\n",
    "               color='k')\n",
    "ax.fill_between(quantiles_all, np.average(lambda_p['mse'][sf_ind_use]-lambda_p_mse_error[sf_ind_use], axis=0, weights=lat_weights), \n",
    "                np.average(lambda_p['mse'][sf_ind_use]+lambda_p_mse_error[sf_ind_use], axis=0, weights=lat_weights), fc='k', alpha=0.1)\n",
    "ax.hlines(1,0,100, color='k', linewidth=ax_linewidth)\n",
    "ax.legend(loc='lower left')\n",
    "ax.set_xlabel('Percentile, $x$' if quant_method == 'byrne' else 'Temperature percentile, $x$')\n",
    "ax.set_ylabel('$\\delta \\chi(x)/\\delta \\overline{\\chi}$')\n",
    "ax.set_ylim(0.91,1.09)\n",
    "ax.set_xlim(0, 100)\n",
    "if save_fig or save_lambda_fig:\n",
    "    fig.savefig(f\"/Users/joshduffield/Desktop/lambda_{region.lower()}_{season}.pdf\",\n",
    "                dpi=dpi['monochrome'] if publish_fig else low_dpi, bbox_inches='tight', pad_inches=save_pad_inches)"
   ],
   "metadata": {
    "collapsed": false,
    "ExecuteTime": {
     "start_time": "2024-02-27T12:21:31.577690Z"
    }
   }
  },
  {
   "cell_type": "markdown",
   "source": [
    "There are three approximations that go into the theory:\n",
    "1. $\\lambda = \\delta h(x)/\\delta \\overline{h} = 1$\n",
    "\n",
    "    The validity of this is shown by the green line in the $\\delta Ocean/\\delta \\overline{Ocean}$ plot above. This should be equal to 1.\n",
    "    In the plot below, we see that whenever $\\lambda < 1$, the green line, which includes the exact $\\lambda$, predicts a smaller temperature change than the orange line which is the same apart from assuming $\\lambda=1$.\n",
    "\n",
    "2. $\\delta h(x) \\approx c_p \\delta T(x) + L_v \\delta q(x)$\n",
    "\n",
    "    The validity of this is shown by comparing the green lines in the $\\delta Ocean/\\delta \\overline{Ocean}$ plot above. If this approximation was exact, we would expect them to match up exactly.\n",
    "   In the plot below, we see that whenever $c_p \\delta T(x) + L_v \\delta q(x) > \\delta h(x)$, the predicted temperature change by the most complete theory (green line) is less than the actual simulated value (blue line).\n",
    "\n",
    "3. Taylor series for $\\delta q(x)$ in terms of $\\delta T(x)$ and $\\delta r(x)$ as well as for $\\delta \\overline{q}$\n",
    "\n",
    "    The most accurate taylor series I use is to include squared, $\\delta T^2$, nonlinear, $\\delta T \\delta r$, and linear terms. The extent to which just the linear terms are necessary can be evaluated by comparing the orange and black dashed line below. The only difference between them is that the orange line retains all the terms in the taylor series."
   ],
   "metadata": {
    "collapsed": false
   }
  },
  {
   "cell_type": "code",
   "execution_count": null,
   "outputs": [],
   "source": [
    "save_approx_fig = False\n",
    "fig, ax = plt.subplots(1,3, figsize=(width['two_col'], width['two_col']/ar/(0.9*2.5)), sharey=True, sharex=True)\n",
    "\n",
    "for i in range(n_sf):\n",
    "    ax[i].plot(quantiles_all, np.average(scaling_factor[i], axis=0, weights=lat_weights), label = 'Simulated', color='b')\n",
    "    ax[i].plot(quantiles_all, np.average(scaling_factor_theory['linear'][i], axis=0, weights=lat_weights),\n",
    "               label='Linear', color='k', linestyle='--')\n",
    "    ax[i].plot(quantiles_all, np.average(scaling_factor_theory['squared'][i], axis=0, weights=lat_weights),\n",
    "               label='Squared', color=default_colors[1], alpha=0.5)\n",
    "    ax[i].plot(quantiles_all, np.average(scaling_factor_theory['squared_lambda'][i], axis=0, weights=lat_weights),\n",
    "               label='Squared\\n($\\lambda \\\\neq 1$)', color=default_colors[2], alpha=0.5)\n",
    "    ax[i].hlines(1, -10, 100, color='k', linewidth=ax_linewidth)\n",
    "ax[0].set_title(f'All $\\kappa$')\n",
    "ax[1].set_title(f'$\\kappa \\leq {tau_lw[sf_tau_use[1]].max()}$')\n",
    "ax[2].set_title(f'$\\kappa \\geq {tau_lw[sf_tau_use[2]].min()}$')\n",
    "ax[0].legend()\n",
    "ax[1].set_xlabel('Temperature percentile, $x$')\n",
    "ax[0].set_ylabel('Scaling factor, $\\delta T(x)/\\delta \\overline{T}$')\n",
    "ax[0].set_xlim(0,100)\n",
    "plt.tight_layout()\n",
    "\n",
    "if save_fig or save_approx_fig:\n",
    "    fig.savefig(f\"/Users/joshduffield/Desktop/scaling_factor_approx_{region.lower()}_{season}.pdf\",\n",
    "                dpi=dpi['combination'] if publish_fig else low_dpi, bbox_inches='tight', pad_inches=save_pad_inches)"
   ],
   "metadata": {
    "collapsed": false,
    "ExecuteTime": {
     "start_time": "2024-02-27T12:21:31.578395Z"
    }
   }
  },
  {
   "cell_type": "markdown",
   "source": [
    "## Probability Density Function\n",
    "#### Tropics\n",
    "Below, I plot how the temperature distribution relative to the median changes with warming. Clearly, the coldest days become closer to the median as optical depth increases (blue $\\rightarrow$ red). The hottest days also become closer to the median as optical depth increases for the lower optical depths. But for the hottest simulations, as the optical depth increases, the hottest days become hotter.\n",
    "#### Extratropics\n",
    "In the extratropics, the narrowing of the seasonal cycle (hottest days get cooler and coldest days get warmer relative to the median) with warming is much more apparent.\n",
    "\n",
    "#### Standard Deviation\n",
    "The third plot shows the standard deviation as a function of longwave optical depth, relative to the $\\kappa=1$ simulation. This shows that the shape of the distribution stays more constant for MSE than temperature."
   ],
   "metadata": {
    "collapsed": false
   }
  },
  {
   "cell_type": "code",
   "execution_count": null,
   "outputs": [],
   "source": [
    "if region == 'extratropics':\n",
    "    n_hist_bins = 33*3\n",
    "    hist_bins_lims = [-33, 33]\n",
    "elif region == 'tropics':\n",
    "    n_hist_bins = 15*15\n",
    "    hist_bins_lims = [-13, 13]\n",
    "else:\n",
    "    n_hist_bins = 49*3\n",
    "    hist_bins_lims = [-49, 49]\n",
    "temp_hist_counts = np.zeros((n_exp, n_lat, n_hist_bins))\n",
    "temp_std_dev = np.zeros((n_exp, n_lat))\n",
    "for i in range(n_exp):\n",
    "    for j in range(n_lat):\n",
    "        if scaling_factor_av == 'median':\n",
    "            temp_anomaly = ds_all[i].temp[j]-ds_all[i].temp[j].median()\n",
    "        else:\n",
    "            temp_anomaly = ds_all[i].temp[j]-ds_all[i].temp[j].mean()\n",
    "        temp_hist_counts[i, j] = np.histogram(temp_anomaly, n_hist_bins, hist_bins_lims)[0]\n",
    "        temp_std_dev[i, j] = ds_all[i].temp[j].std()\n",
    "hist_bins = np.histogram(temp_anomaly, n_hist_bins, hist_bins_lims)[1]\n",
    "hist_bin_centres = moving_average(hist_bins, 2)\n",
    "\n",
    "temp_hist_weight = np.average(temp_hist_counts, weights=lat_weights, axis=1)\n",
    "temp_hist_weight = temp_hist_weight/np.sum(temp_hist_weight, axis=1, keepdims=True)\n",
    "# #Below is if I were to ignore latitude weighting\n",
    "# temp_hist_weight2 = np.sum(temp_hist_counts, axis=1)\n",
    "# temp_hist_weight2 = temp_hist_weight2/np.sum(temp_hist_weight2, axis=1, keepdims=True)"
   ],
   "metadata": {
    "collapsed": false,
    "ExecuteTime": {
     "start_time": "2024-02-27T12:21:31.579031Z"
    }
   }
  },
  {
   "cell_type": "code",
   "execution_count": null,
   "outputs": [],
   "source": [
    "save_pdf_fig = False\n",
    "plot_log = False\n",
    "color_seq_exp = plt.cm.jet(np.linspace(0,1,n_exp))\n",
    "fig, ax = plt.subplots(1,1, figsize=(width['one_col'], width['one_col']/ar))\n",
    "for i in range(n_exp):\n",
    "    ax.plot(hist_bin_centres, temp_hist_weight[i], color=color_seq_exp[i], label=f'{tau_lw[i]}')\n",
    "ax.set_xlabel('$T-\\overline{T}$ [K]')\n",
    "ax.set_ylabel('Density')\n",
    "if plot_log:\n",
    "    ax.set_yscale('log')\n",
    "    ax.set_ylim(10**-5, temp_hist_weight.max())\n",
    "else:\n",
    "    ax.set_ylim(0, temp_hist_weight.max())\n",
    "ax.set_ylim(0, 0.04)\n",
    "ylim = ax.get_ylim()\n",
    "ax.vlines(0, ylim[0], ylim[1], lw=ax_linewidth, colors='k')\n",
    "ax.set_xlim(hist_bin_centres[0], hist_bin_centres[-1])\n",
    "label_subplots(fig, ax)\n",
    "if region == 'tropics':\n",
    "    ax.legend(title='$\\kappa$')\n",
    "if save_fig or save_pdf_fig:\n",
    "    fig.savefig(f\"/Users/joshduffield/Desktop/temp_pdf_{region.lower()}_{season}.pdf\",\n",
    "                dpi=dpi['combination'] if publish_fig else low_dpi, bbox_inches='tight', pad_inches=save_pad_inches)"
   ],
   "metadata": {
    "collapsed": false,
    "ExecuteTime": {
     "start_time": "2024-02-27T12:21:31.579711Z"
    }
   }
  },
  {
   "cell_type": "code",
   "execution_count": null,
   "outputs": [],
   "source": [
    "mse_hist_bins_lims = [-20, 20]\n",
    "mse_hist_bins_lims = np.asarray(mse_hist_bins_lims) * 1000/c_p      # convert units from kJ/kg into Kelvin\n",
    "mse_hist_counts = np.zeros((n_exp, n_lat, n_hist_bins))\n",
    "mse_std_dev = np.zeros((n_exp, n_lat))\n",
    "for i in range(n_exp):\n",
    "    for j in range(n_lat):\n",
    "        mse_use = moist_static_energy(ds_all[i].temp[j], ds_all[i].sphum[j], ds_all[i].height[j])\n",
    "        if scaling_factor_av == 'median':\n",
    "            mse_anomaly = mse_use-mse_use.median()\n",
    "        else:\n",
    "            mse_anomaly = mse_use-mse_use.mean()\n",
    "        mse_anomaly = 1000*mse_anomaly / c_p        # convert units from kJ/kg into Kelvin\n",
    "        mse_hist_counts[i, j] = np.histogram(mse_anomaly, n_hist_bins, mse_hist_bins_lims)[0]\n",
    "        mse_std_dev[i, j] = mse_use.std()\n",
    "mse_hist_bin_centres = moving_average(np.histogram(mse_anomaly, n_hist_bins, mse_hist_bins_lims)[1], 2)\n",
    "\n",
    "mse_hist_weight = np.average(mse_hist_counts, weights=lat_weights, axis=1)\n",
    "mse_hist_weight = mse_hist_weight/np.sum(mse_hist_weight, axis=1, keepdims=True)"
   ],
   "metadata": {
    "collapsed": false,
    "ExecuteTime": {
     "start_time": "2024-02-27T12:21:31.580397Z"
    }
   }
  },
  {
   "cell_type": "code",
   "execution_count": null,
   "outputs": [],
   "source": [
    "save_mse_pdf_fig = False\n",
    "plot_log = False\n",
    "fig, ax = plt.subplots(1,1, figsize=(width['one_col'], width['one_col']/ar))\n",
    "for i in range(n_exp):\n",
    "    ax.plot(mse_hist_bin_centres, mse_hist_weight[i], color=color_seq_exp[i], label=f'{tau_lw[i]}')\n",
    "ax.set_xlabel('$(h-\\overline{h})/c_p$ [K]')\n",
    "ax.set_ylabel('Density')\n",
    "if plot_log:\n",
    "    ax.set_yscale('log')\n",
    "    ax.set_ylim(10**-5, mse_hist_weight.max())\n",
    "else:\n",
    "    ax.set_ylim(0, mse_hist_weight.max())\n",
    "ylim = ax.get_ylim()\n",
    "ax.vlines(0, ylim[0], ylim[1], lw=ax_linewidth, colors='k')\n",
    "ax.set_xlim(mse_hist_bin_centres[0], mse_hist_bin_centres[-1])\n",
    "\n",
    "# trans = mtransforms.ScaledTranslation(10/72, -5/72, fig.dpi_scale_trans)\n",
    "# ax.text(0.0, 1.0, 'b)', transform=ax.transAxes + trans,\n",
    "#         fontsize=9, verticalalignment='top', fontfamily='serif', font='Computer Modern',\n",
    "#         bbox=dict(facecolor='1', edgecolor='none', pad=3.0))\n",
    "label_subplots(fig, ax, ['b)'])\n",
    "\n",
    "# if region == 'tropics':\n",
    "#     ax.legend(title='$\\kappa$')\n",
    "if save_fig or save_mse_pdf_fig:\n",
    "    fig.savefig(f\"/Users/joshduffield/Desktop/mse_pdf_{region.lower()}_{season}.pdf\",\n",
    "                dpi=dpi['combination'] if publish_fig else low_dpi, bbox_inches='tight', pad_inches=save_pad_inches)"
   ],
   "metadata": {
    "collapsed": false,
    "ExecuteTime": {
     "start_time": "2024-02-27T12:21:31.581002Z"
    }
   }
  },
  {
   "cell_type": "code",
   "execution_count": null,
   "outputs": [],
   "source": [
    "save_std_dev_fig = False\n",
    "\n",
    "fig, ax = plt.subplots(1,1, figsize=(width['one_col'], width['one_col']/ar))\n",
    "ax.plot(tau_lw, np.average(temp_std_dev/temp_std_dev[tau_ref_ind], axis=1, weights=lat_weights), '-o', label='Temperature')\n",
    "ax.plot(tau_lw, np.average(mse_std_dev/mse_std_dev[tau_ref_ind], axis=1, weights=lat_weights), '-o', label='Moist static energy')\n",
    "ax.set_xlim(0, 6.05)\n",
    "ax.set_ylim(0.8, 1.35)\n",
    "xlim = ax.get_xlim()\n",
    "ax.hlines(1, xlim[0], xlim[1], lw=ax_linewidth, colors='k')\n",
    "label_subplots(fig, ax, ['c)'])\n",
    "ax.legend()\n",
    "ax.set_xlabel('Long wave optical depth parameter, $\\kappa$')\n",
    "ax.set_ylabel('$\\sigma/\\sigma_{\\kappa=1}$')\n",
    "ax.set_ylabel('Standard deviation\\n(normalised by $\\kappa=1$ value)')\n",
    "\n",
    "if save_fig or save_std_dev_fig:\n",
    "    fig.savefig(f\"/Users/joshduffield/Desktop/std_dev_{region.lower()}_{season}.pdf\",\n",
    "                dpi=dpi['combination'] if publish_fig else low_dpi, bbox_inches='tight', pad_inches=save_pad_inches)"
   ],
   "metadata": {
    "collapsed": false,
    "ExecuteTime": {
     "start_time": "2024-02-27T12:21:31.581647Z"
    }
   }
  },
  {
   "cell_type": "code",
   "execution_count": null,
   "outputs": [],
   "source": [
    "import uncertainties.unumpy as unp"
   ],
   "metadata": {
    "collapsed": false,
    "ExecuteTime": {
     "start_time": "2024-02-27T12:21:31.582312Z"
    }
   }
  },
  {
   "cell_type": "code",
   "execution_count": null,
   "outputs": [],
   "source": [],
   "metadata": {
    "collapsed": false,
    "ExecuteTime": {
     "start_time": "2024-02-27T12:21:31.582904Z"
    }
   }
  }
 ],
 "metadata": {
  "kernelspec": {
   "display_name": "Python 3",
   "language": "python",
   "name": "python3"
  },
  "language_info": {
   "codemirror_mode": {
    "name": "ipython",
    "version": 2
   },
   "file_extension": ".py",
   "mimetype": "text/x-python",
   "name": "python",
   "nbconvert_exporter": "python",
   "pygments_lexer": "ipython2",
   "version": "2.7.6"
  }
 },
 "nbformat": 4,
 "nbformat_minor": 0
}
