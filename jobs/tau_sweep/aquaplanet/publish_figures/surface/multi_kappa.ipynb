{
 "cells": [
  {
   "cell_type": "markdown",
   "source": [
    "# Publishing Figures - Multi Kappa\n",
    "This obtains all figures for a combining all simulations of differing optical depth that only require the surface variables."
   ],
   "metadata": {
    "collapsed": false
   }
  },
  {
   "cell_type": "code",
   "execution_count": 129,
   "outputs": [],
   "source": [
    "import sys\n",
    "import os\n",
    "# REMOTE - So can access functions in isca_tools which is in home/Isca directory\n",
    "# sys.path.append(os.path.join(os.environ['HOME'], 'Isca'))\n",
    "# LOCAL - So can access functions in isca_tools which is in StAndrews/Isca\n",
    "sys.path.append(os.environ['PWD'])\n",
    "import isca_tools\n",
    "from isca_tools.utils.moist_physics import clausius_clapeyron_factor, sphum_sat, moist_static_energy, lapse_moist\n",
    "from isca_tools.utils.constants import L_v, c_p\n",
    "from isca_tools.utils import area_weight_mean_lat, area_weighting\n",
    "from isca_tools.thesis.aquaplanet_theory import get_delta_temp_quant_theory\n",
    "from isca_tools.papers.byrne_2021 import get_quant_ind\n",
    "import numpy as np\n",
    "import matplotlib.pyplot as plt\n",
    "import xarray as xr\n",
    "import scipy.optimize\n",
    "from tqdm import tqdm\n",
    "import os\n",
    "import numpy_indexed\n",
    "from scipy.stats import median_abs_deviation\n",
    "from isca_tools.papers.miyawaki_2022 import get_dmse_dt, get_dvmse_dy, get_r1\n",
    "from isca_tools.utils.radiation import frierson_atmospheric_heating\n",
    "plt.style.use('/Users/joshduffield/Documents/StAndrews/Isca/jobs/tau_sweep/aquaplanet/publish_figures/publish.mplstyle')"
   ],
   "metadata": {
    "collapsed": false,
    "ExecuteTime": {
     "end_time": "2023-08-25T15:41:22.742072Z",
     "start_time": "2023-08-25T15:41:22.718629Z"
    }
   }
  },
  {
   "cell_type": "code",
   "execution_count": 6,
   "outputs": [
    {
     "name": "stderr",
     "output_type": "stream",
     "text": [
      "100%|██████████| 8/8 [00:13<00:00,  1.65s/it]\n"
     ]
    }
   ],
   "source": [
    "# Load dataset\n",
    "var_keep = ['temp', 'sphum', 'height']\n",
    "exp_dir = 'tau_sweep/aquaplanet/'\n",
    "exp_names = [dir for dir in os.listdir(os.path.join(os.environ['GFDL_DATA'],exp_dir)) if dir[0]=='k']\n",
    "exp_names.sort()\n",
    "# exp_names = exp_names[2:-1]     # get rid of coldest 2 and warmest simulation as don't work well\n",
    "n_exp = len(exp_names)\n",
    "ds = []\n",
    "albedo = []\n",
    "tau_sw = []\n",
    "tau_lw = []\n",
    "for i in tqdm(range(n_exp)):\n",
    "    ds_use = isca_tools.load_dataset(exp_dir + exp_names[i])\n",
    "    ds += [ds_use]\n",
    "    namelist = isca_tools.load_namelist(exp_dir + exp_names[i])  # Need this for albedo_value\n",
    "    albedo += [namelist['mixed_layer_nml']['albedo_value']]\n",
    "    tau_sw += [namelist['two_stream_gray_rad_nml']['atm_abs']]\n",
    "    tau_lw += [namelist['two_stream_gray_rad_nml']['odp']]\n",
    "tau_lw = np.asarray(tau_lw)\n",
    "p_surface = float(ds[0].pfull[-1]) * 100"
   ],
   "metadata": {
    "collapsed": false,
    "ExecuteTime": {
     "end_time": "2023-08-25T14:27:02.556380Z",
     "start_time": "2023-08-25T14:26:49.272697Z"
    }
   }
  },
  {
   "cell_type": "markdown",
   "source": [
    "## Get datasets\n",
    "Get one dataset for each $\\kappa$, combining the desired latitudes: `ds_all`. This combines all or just the summer months in each hemisphere, e.g. negative latitudes will only correspond to times in December, January or February."
   ],
   "metadata": {
    "collapsed": false
   }
  },
  {
   "cell_type": "code",
   "execution_count": 468,
   "outputs": [],
   "source": [
    "# If true, will save all figures to desktop - option to save specific figures later on.\n",
    "save_fig = False\n",
    "# if publishing figure, use high dpi\n",
    "publish_fig = True\n",
    "\n",
    "ar = 4/3        # aspect ratio (width/height)\n",
    "# Details required for Journal of Climate Figures\n",
    "low_dpi = 100\n",
    "dpi = {'monochrome': 1100, 'combination': 800, 'halftone': 300}\n",
    "width = {'one_col': 3.2, 'two_col': 5.5}        # width in inches \n",
    "save_pad_inches = 0.05\n",
    "\n",
    "# Default parameters\n",
    "default_colors = plt.rcParams['axes.prop_cycle'].by_key()['color']\n",
    "ax_linewidth = plt.rcParams['axes.linewidth']\n",
    "\n",
    "def moving_average(x, w):\n",
    "    return np.convolve(x, np.ones(w), 'valid') / w"
   ],
   "metadata": {
    "collapsed": false,
    "ExecuteTime": {
     "end_time": "2023-08-30T11:42:45.889188Z",
     "start_time": "2023-08-30T11:42:45.868018Z"
    }
   }
  },
  {
   "cell_type": "code",
   "execution_count": 720,
   "outputs": [
    {
     "name": "stderr",
     "output_type": "stream",
     "text": [
      "100%|██████████| 8/8 [01:15<00:00,  9.43s/it]\n"
     ]
    }
   ],
   "source": [
    "# Compute Global Average Surface Temperature and get near surface temperature data\n",
    "# Use all data after 2 years, as clearly converged from the above spin up plot\n",
    "use_time_start = 360*2\n",
    "\n",
    "# Chose whether to only consider summer days or consider all days\n",
    "season = 'all'\n",
    "# season = 'summer'\n",
    "# season = 'winter'\n",
    "if season == 'summer':\n",
    "    season_months = {'nh': [6, 7, 8], 'sh': [12, 1, 2]}   # JJA for NH and DJF for SH\n",
    "elif season == 'winter':\n",
    "    season_months = {'nh': [12, 1, 2], 'sh': [6, 7, 8]}   # JJA for NH and DJF for SH\n",
    "\n",
    "# Tropics\n",
    "region = 'tropics'\n",
    "lat_min = 0\n",
    "lat_max = 20\n",
    "# Extratropics\n",
    "# region = 'extratropics'\n",
    "# lat_min = 40\n",
    "# lat_max = 65\n",
    "# Poles\n",
    "# region = 'High Latitudes'\n",
    "# lat_min = 70\n",
    "# lat_max = 90\n",
    "# region = 'Global'\n",
    "# lat_min = 0\n",
    "# lat_max = 90\n",
    "\n",
    "ds_all = []\n",
    "with tqdm(total=n_exp, position=0, leave=True) as pbar:\n",
    "    for i in range(n_exp):\n",
    "        ds_use = ds[i].sel(time=slice(use_time_start, np.inf))[var_keep]\n",
    "        ds_use = ds_use.sel(pfull=np.inf, method='nearest')      # only keep the surface values - get rid of pfull coordinate\n",
    "        ds_use = ds_use.where((np.abs(ds_use.lat) <= lat_max) & (np.abs(ds_use.lat) >= lat_min), drop=True)\n",
    "\n",
    "        if season == 'summer' or season == 'winter':\n",
    "            # Only consider summer as has expected circulation\n",
    "            ds_nh_summer = isca_tools.utils.annual_time_slice(ds_use, season_months['nh']).sel(lat=slice(lat_min, lat_max)) \n",
    "            ds_sh_summer = isca_tools.utils.annual_time_slice(ds_use, season_months['sh']).sel(lat=slice(-lat_max, -lat_min))  \n",
    "            # Combine hemispheres and average over longitude, time and latitude.\n",
    "            # Note that April, May, June, October, November and December will not be included in this dataset\n",
    "            ds_use = xr.concat([ds_sh_summer, ds_nh_summer], dim='lat')\n",
    "        ds_use = ds_use.stack(lon_time=(\"lon\",\"time\"), create_index=False).chunk(dict(lon_time=-1))\n",
    "        ds_all += [ds_use.load()]\n",
    "        pbar.update(1)"
   ],
   "metadata": {
    "collapsed": false,
    "ExecuteTime": {
     "end_time": "2023-09-01T15:09:12.116841Z",
     "start_time": "2023-09-01T15:07:56.651793Z"
    }
   }
  },
  {
   "cell_type": "markdown",
   "source": [
    "## Near Surface Temperature Quantile\n",
    "Plot quantile of near surface air temperature vs global average near surface air temperature for a given latitude band.\n",
    "\n",
    "Near surface air temperature is the temperature at the lowest pressure level.\n",
    "\n",
    "Here, we compute the quantile at each latitude coordinate across all longitudes and time and then average over these.\n",
    "\n",
    "We average over all times after 2 years because, from the spin up plot above, after 2 years, the simulation has converged into a regular pattern, with a net TOA flux centered on 0."
   ],
   "metadata": {
    "collapsed": false
   }
  },
  {
   "cell_type": "code",
   "execution_count": 721,
   "outputs": [
    {
     "name": "stderr",
     "output_type": "stream",
     "text": [
      "100%|██████████| 8/8 [00:03<00:00,  2.22it/s]\n"
     ]
    }
   ],
   "source": [
    "quantiles_all = np.arange(1, 100)\n",
    "n_quant_all = len(quantiles_all)\n",
    "n_lat = len(ds_all[0].lat)\n",
    "# two different types of temperature quantiles, p is actual percentile. x is averaged over given percentile.\n",
    "temp_quant_p = np.zeros((n_exp, n_lat, n_quant_all))\n",
    "sphum_quant_p = np.zeros((n_exp, n_lat, n_quant_all))\n",
    "mse_quant_p = np.zeros((n_exp, n_lat, n_quant_all))\n",
    "temp_mean = np.zeros((n_exp, n_lat))\n",
    "sphum_mean = np.zeros((n_exp, n_lat))\n",
    "temp_median = np.zeros((n_exp, n_lat))\n",
    "mse_mean = np.zeros((n_exp, n_lat))\n",
    "with tqdm(total=n_exp, position=0, leave=True) as pbar:\n",
    "    for i in range(n_exp):\n",
    "        temp_mean[i] = ds_all[i].temp.mean(dim='lon_time')\n",
    "        sphum_mean[i] = ds_all[i].sphum.mean(dim='lon_time')\n",
    "        temp_median[i] = ds_all[i].temp.median(dim='lon_time')\n",
    "        mse_mean[i] = moist_static_energy(ds_all[i].temp, ds_all[i].sphum, ds_all[i].height).mean(dim='lon_time')\n",
    "        temp_quant_p[i] = ds_all[i].temp.quantile(quantiles_all/100, dim='lon_time').transpose()\n",
    "        sphum_quant_p[i] = ds_all[i].sphum.quantile(quantiles_all/100, dim='lon_time').transpose()\n",
    "        mse_quant_p[i] = moist_static_energy(ds_all[i].temp, ds_all[i].sphum,\n",
    "                                             ds_all[i].height).quantile(quantiles_all/100, dim='lon_time').transpose()\n",
    "        pbar.update(1)"
   ],
   "metadata": {
    "collapsed": false,
    "ExecuteTime": {
     "end_time": "2023-09-01T15:09:15.728608Z",
     "start_time": "2023-09-01T15:09:12.131369Z"
    }
   }
  },
  {
   "cell_type": "code",
   "execution_count": 722,
   "outputs": [],
   "source": [
    "# For given quantiles, plot quantile vs average temp for each latitude.\n",
    "# Then fit best line to this to get simulated gradient, combining all kappa values\n",
    "quant_plot = [90, 95, 99]\n",
    "quant_plot_ind = numpy_indexed.indices(quantiles_all, quant_plot)\n",
    "n_quant_plot = len(quant_plot)\n",
    "lat_weights = np.cos(np.deg2rad(ds_all[0].lat))     # latitude area weighting is just the cosine\n",
    "\n",
    "def get_gradient(temp_quant, temp_av, ref_ind):\n",
    "    \"\"\"\n",
    "    Gets gradient of temperature of given quantile vs average temperature\n",
    "\n",
    "    Args:\n",
    "        temp_quant: [n_exp]\n",
    "        temp_av: [n_exp]\n",
    "        ref_ind: int\n",
    "\n",
    "    Returns:\n",
    "        int\n",
    "            Gradient\n",
    "        [n_exp]\n",
    "            Predicted temperature for each experiment\n",
    "    \"\"\"\n",
    "    fit_func = lambda x, m: temp_quant[ref_ind] + m*(x-temp_av[ref_ind])     # Straight line through the ref point\n",
    "    param = scipy.optimize.curve_fit(fit_func,temp_av, temp_quant)[0]\n",
    "    return param, fit_func(temp_av, param)\n",
    "\n",
    "tau_lw_ref = 1\n",
    "tau_ref_ind = np.where(np.asarray(tau_lw)==tau_lw_ref)[0][0]\n",
    "temp_quant_grad = np.zeros((n_lat, n_quant_plot))\n",
    "temp_quant_grad_fit = np.zeros((n_exp, n_lat, n_quant_plot))\n",
    "for i in range(n_lat):\n",
    "    for j in range(n_quant_plot):\n",
    "        temp_quant_grad[i, j], temp_quant_grad_fit[:, i, j] = get_gradient(temp_quant_p[:, i, quant_plot_ind[j]],\n",
    "                                                                           temp_mean[:, i], tau_ref_ind)"
   ],
   "metadata": {
    "collapsed": false,
    "ExecuteTime": {
     "end_time": "2023-09-01T15:09:15.739093Z",
     "start_time": "2023-09-01T15:09:15.727367Z"
    }
   }
  },
  {
   "cell_type": "markdown",
   "source": [
    "## Figure 4 of O'Gorman & Schneider 2009\n",
    "### Tropics\n",
    "In the plot below, all the gradients are below 1, indicating that the hottest days warm less quickly than the average day. If we look at the largest $\\kappa$ values, it is also clear that the gradient here is a lot larger than the gradient at lower $\\kappa$ and thus causes the gradients to be larger than maybe they appear by eye."
   ],
   "metadata": {
    "collapsed": false
   }
  },
  {
   "cell_type": "code",
   "execution_count": 723,
   "outputs": [
    {
     "name": "stdout",
     "output_type": "stream",
     "text": [
      "Gradient of best fit line for [90, 95, 99] percentiles: [0.96 0.96 0.96]\n"
     ]
    },
    {
     "data": {
      "text/plain": "<Figure size 320x240 with 1 Axes>",
      "image/png": "[encoded data removed]"
     },
     "metadata": {},
     "output_type": "display_data"
    }
   ],
   "source": [
    "trend_line_on = True\n",
    "save_trend_fig = False\n",
    "\n",
    "tau_lw_ref = 1\n",
    "tau_ref_ind = np.where(np.asarray(tau_lw)==tau_lw_ref)[0][0]\n",
    "\n",
    "temp_mean_weight = np.average(temp_mean, axis=1, weights=lat_weights)\n",
    "temp_quant_weight = np.average(temp_quant_p, axis=1, weights=lat_weights)\n",
    "\n",
    "fig, ax = plt.subplots(1,1, figsize=(width['one_col'], width['one_col']/ar))\n",
    "for j in range(n_quant_plot):\n",
    "    ax.plot(temp_mean_weight,\n",
    "            temp_quant_weight[:, quant_plot_ind[j]],\n",
    "            marker='o',\n",
    "            label='Temperature extremes' if j==0 else None,\n",
    "            color='k', fillstyle='none')\n",
    "    if trend_line_on:\n",
    "        # Filled circle for reference simulation\n",
    "        ax.plot(temp_mean_weight[tau_ref_ind],\n",
    "                temp_quant_weight[tau_ref_ind, quant_plot_ind[j]],\n",
    "                marker='o', color='k', fillstyle='full')\n",
    "        if j==n_quant_plot-1:\n",
    "            label = 'Linear Increase'\n",
    "        else:\n",
    "            label = None\n",
    "        ax.plot(temp_mean_weight,\n",
    "                np.average(temp_quant_grad_fit[:, :, j], axis=1, weights=lat_weights),\n",
    "                linestyle=':', color='k', alpha=0.3, label=label)\n",
    "xlim = ax.get_xlim()\n",
    "ylim = ax.get_ylim()\n",
    "lim_new = [np.asarray([xlim, ylim]).min(), np.asarray([xlim, ylim]).max()]\n",
    "ax.plot(lim_new, lim_new, 'k:', alpha=0.75, label='y=x')\n",
    "ax.set_ylim(lim_new)\n",
    "ax.set_xlim(lim_new)\n",
    "if trend_line_on:\n",
    "    ax.legend()\n",
    "ax.set_xlabel(f'Mean Temperature [K]')\n",
    "ax.set_ylabel(f'Percentile Temperature [K]')\n",
    "if save_fig or save_trend_fig:\n",
    "    if trend_line_on:\n",
    "        file_name = f\"{region.lower()}_trend\"\n",
    "    else:\n",
    "        file_name = f\"{region.lower()}_no_trend\"\n",
    "    fig.savefig(f\"/Users/joshduffield/Desktop/{file_name}.pdf\",dpi=dpi['combination'] if publish_fig else low_dpi, bbox_inches='tight',\n",
    "                pad_inches=save_pad_inches)\n",
    "print(f'Gradient of best fit line for {quant_plot} percentiles: {np.round(np.average(temp_quant_grad, weights=lat_weights, axis=0), 2)}')"
   ],
   "metadata": {
    "collapsed": false,
    "ExecuteTime": {
     "end_time": "2023-09-01T15:09:15.835728Z",
     "start_time": "2023-09-01T15:09:15.739843Z"
    }
   }
  },
  {
   "cell_type": "markdown",
   "source": [
    "## Theory for Temperature change relative to median change between subsequent $\\kappa$\n",
    "The below shows the predicted amplification factor compared to the actual one. The denominator in $\\delta T(x)/\\delta \\overline{T}$ is the change in the median temperature as the theory can predict this too."
   ],
   "metadata": {
    "collapsed": false
   }
  },
  {
   "cell_type": "code",
   "execution_count": 724,
   "outputs": [],
   "source": [
    "delta_mse_ratio = np.diff(mse_quant_p, axis=0)/np.expand_dims(np.diff(mse_mean, axis=0), axis=-1)\n",
    "# delta_temp_quant_theory[-1] will be all zeros and never used, but helpful to keep this shape\n",
    "delta_temp_quant_theory = {method: np.zeros((n_exp, n_lat, n_quant_all)) for method in\n",
    "                           ['linear', 'const_rh', 'squared', 'squared_lambda']}\n",
    "for method in delta_temp_quant_theory:\n",
    "    for i in range(n_lat):\n",
    "        delta_temp_quant_theory[method][:-1, i] = \\\n",
    "                get_delta_temp_quant_theory(temp_mean[:, i], sphum_mean[:, i], temp_quant_p[:, i], sphum_quant_p[:, i], p_surface,\n",
    "                                            const_rh=True if method=='const_rh' else False,\n",
    "                                            delta_mse_ratio=delta_mse_ratio[:, i] if 'lambda' in method else None,\n",
    "                                            taylor_level='squared' if method[0] == 's' else 'linear_rh_diff')"
   ],
   "metadata": {
    "collapsed": false,
    "ExecuteTime": {
     "end_time": "2023-09-01T15:09:16.250926Z",
     "start_time": "2023-09-01T15:09:15.836787Z"
    }
   }
  },
  {
   "cell_type": "code",
   "execution_count": 761,
   "outputs": [],
   "source": [
    "scaling_factor_av = 'mean'    # Mean will use quantile closest to mean at each latitude\n",
    "# scaling_factor_av = 'median'  # take median as average rather than mean because theory does not predict change to mean temperature\n",
    "# scaling_factor_av_type = 'theory'\n",
    "scaling_factor_av_type = 'simulated'     # If 'simulated', will use theoretical mean/median temp diff to compute theoretical scale factor too\n",
    "\n",
    "# get theory predictions for all quantiles\n",
    "# delta_temp_quant[-1] will be all zeros and never used, but helpful to keep this shape\n",
    "delta_temp_quant = np.zeros((n_exp, n_lat, n_quant_all))\n",
    "delta_temp_quant[:n_exp-1, :, :] = np.diff(temp_quant_p, axis=0)\n",
    "\n",
    "if scaling_factor_av == 'mean':\n",
    "    av_quant_ind = [[scipy.stats.percentileofscore(ds_all[i].temp[j], float(ds_all[i].temp[j].mean())) for j in range(n_lat)] \n",
    "                    for i in range(n_exp)]\n",
    "    av_quant_ind = np.round(np.asarray(av_quant_ind)).astype(int)\n",
    "    delta_temp_sf_av = np.diff(temp_mean, axis=0)\n",
    "else:\n",
    "    av_quant_ind = np.full((n_exp, n_lat), 50, dtype=int)\n",
    "    delta_temp_sf_av = np.diff(temp_median, axis=0)\n",
    "for i in range(n_exp):\n",
    "    # Get position of index in array\n",
    "    av_quant_ind[i] = numpy_indexed.indices(quantiles_all, av_quant_ind[i])\n",
    "\n",
    "exp_flat_ind, lat_flat_ind = np.unravel_index(np.arange(np.prod(av_quant_ind.shape)), av_quant_ind.shape)\n",
    "av_quant_flat_ind = np.ravel_multi_index((exp_flat_ind, lat_flat_ind, av_quant_ind.flatten()), (n_exp, n_lat, n_quant_all))"
   ],
   "metadata": {
    "collapsed": false,
    "ExecuteTime": {
     "end_time": "2023-09-04T06:39:49.033137Z",
     "start_time": "2023-09-04T06:39:48.926269Z"
    }
   }
  },
  {
   "cell_type": "code",
   "execution_count": 762,
   "outputs": [
    {
     "data": {
      "text/plain": "<Figure size 320x240 with 1 Axes>",
      "image/png": "[encoded data removed]"
     },
     "metadata": {},
     "output_type": "display_data"
    }
   ],
   "source": [
    "theory_method = 'linear'\n",
    "color_seq = plt.cm.jet(np.linspace(0,1,len(quant_plot)))\n",
    "\n",
    "save_amp_factor_fig=False\n",
    "fig, ax = plt.subplots(1,1, figsize=(width['one_col'], width['one_col']/ar))\n",
    "ax.spines[['right', 'top']].set_visible(False)\n",
    "for j in range(n_quant_plot):\n",
    "    # for difference between simulations, make x-axis the average between the two mean temperatures\n",
    "    ax.plot(moving_average(temp_mean_weight, 2),\n",
    "            np.average(delta_temp_quant[:-1, :, quant_plot_ind[j]]/delta_temp_sf_av, axis=1, weights=lat_weights),\n",
    "            color=color_seq[j], marker='o', fillstyle='none', label=quant_plot[j])\n",
    "    if scaling_factor_av_type == 'simulated':\n",
    "        denom_use = delta_temp_sf_av\n",
    "    else:\n",
    "        denom_use = delta_temp_quant_theory[theory_method].flatten()[av_quant_flat_ind].reshape((n_exp, n_lat))[:-1]\n",
    "    ax.plot(moving_average(temp_mean_weight, 2),\n",
    "            np.average(delta_temp_quant_theory[theory_method][:-1, :, quant_plot_ind[j]]/denom_use,\n",
    "                       axis=1, weights=lat_weights), color=color_seq[j], linestyle='--')\n",
    "ax.legend(title='Temperature\\npercentile, $x$')\n",
    "xlim = ax.get_xlim()\n",
    "ax.hlines(1, xlim[0], xlim[1], color='k', linewidth=ax_linewidth)\n",
    "ax.set_xlim(xlim)\n",
    "ax.set_xlabel(f'Mean Temperature [K]')\n",
    "ax.set_ylabel('$\\delta T(x)/\\delta \\overline{T}$')\n",
    "if save_fig or save_amp_factor_fig:\n",
    "    file_name = f'{region.lower()}_amplification_factor_{theory_method}'\n",
    "    fig.savefig(f\"/Users/joshduffield/Desktop/{file_name}.pdf\", dpi=dpi['combination'] if publish_fig else low_dpi, \n",
    "                bbox_inches='tight', pad_inches=save_pad_inches)"
   ],
   "metadata": {
    "collapsed": false,
    "ExecuteTime": {
     "end_time": "2023-09-04T06:39:49.584792Z",
     "start_time": "2023-09-04T06:39:49.482728Z"
    }
   }
  },
  {
   "cell_type": "markdown",
   "source": [
    "## Figure 2 of Byrne 2021 - combining $\\kappa$\n",
    "The plot below indicates is found by plotting temp_quant vs temp_median (one marker for each $\\kappa$) and the taking the gradient. I do this for each quantile, so I obtain a single value for each quantile.\n",
    "\n",
    "I am using the actual percentile (not the average over a given percentile as used in Byrne 2021).\n",
    "\n",
    "To see if the scaling factor is different for warmer vs colder climates, I compute the gradients using a subset of $\\kappa$ values. For colder climates, I use $\\kappa=0.2, 0.3, 0.6, 1$ and force the line through $\\kappa=1$. For warmer climates, I use $\\kappa=1, 1.5, 2, 3.5, 6$ and force the line through $\\kappa=1$. The solid line includes all $\\kappa$ and is forced through $\\kappa = 1$.\n",
    "\n",
    "I also do the same with the theoretical temperature. To get the theoretical temperature, I start with the simulated temperature for the coldest simulation, and then add the theoretical temperature difference."
   ],
   "metadata": {
    "collapsed": false
   }
  },
  {
   "cell_type": "code",
   "execution_count": 763,
   "outputs": [],
   "source": [
    "# theory2 adds the same theoretical delta_temp to theory prediction of previous kappa so errors accumulate\n",
    "temp_quant_theory2 = {method: temp_quant_p.copy() for method in ['linear', 'const_rh', 'squared', 'squared_lambda']}\n",
    "for method in delta_temp_quant_theory:\n",
    "    for j in range(n_exp-1):\n",
    "        temp_quant_theory2[method][1+j] = temp_quant_theory2[method][j] + delta_temp_quant_theory[method][j]"
   ],
   "metadata": {
    "collapsed": false,
    "ExecuteTime": {
     "end_time": "2023-09-04T06:39:50.619393Z",
     "start_time": "2023-09-04T06:39:50.607187Z"
    }
   }
  },
  {
   "cell_type": "code",
   "execution_count": 764,
   "outputs": [],
   "source": [
    "sf_tau_use = [np.where(tau_lw<=np.inf)[0], np.where(tau_lw<=1)[0], np.where(tau_lw>=1)[0]]\n",
    "sf_tau_ref = [1, 1, 1]\n",
    "n_sf = len(sf_tau_use)\n",
    "# all temperatures averaged above x=0 - same as temp_av except for no area averaging\n",
    "scaling_factor = np.zeros((n_sf, n_lat, n_quant_all))\n",
    "\n",
    "scaling_factor_theory = {method: np.zeros((n_sf, n_lat, n_quant_all)) for method in delta_temp_quant_theory}\n",
    "\n",
    "sf_av = {key: temp_quant_theory2[key].flatten()[av_quant_flat_ind].reshape(n_exp, n_lat) for key in temp_quant_theory2.keys()}\n",
    "if scaling_factor_av == 'mean':\n",
    "    sf_av['simulated'] = temp_mean\n",
    "else:\n",
    "    sf_av['simulated'] = temp_median\n",
    "if scaling_factor_av_type == 'simulated':\n",
    "    for key in temp_quant_theory2.keys():\n",
    "        # Set all theoretical mean/median predictions to the simulated\n",
    "        sf_av[key] = sf_av['simulated'] \n",
    "\n",
    "for i in range(n_sf):\n",
    "    sf_tau_ref_ind = np.where(tau_lw[sf_tau_use[i]]==sf_tau_ref[i])[0]\n",
    "    for j in range(n_quant_all):\n",
    "        # The theory predicts median change but not mean hence I use median rather than mean.\n",
    "        # This means can get theoretical scale factor rather than using simulated mean.\n",
    "        # This means x=50 will correspond to y=1 in all plots below.\n",
    "        # Straight line through the ref point\n",
    "        for k in range(n_lat):\n",
    "            scaling_factor[i, k, j] = get_gradient(temp_quant_p[sf_tau_use[i], k, j], sf_av['simulated'][sf_tau_use[i], k], sf_tau_ref_ind)[0]\n",
    "            for method in scaling_factor_theory:\n",
    "                # Use theory2 version for theoretical scaling factor as errors compounded - makes most sense to me\n",
    "                scaling_factor_theory[method][i, k, j] = get_gradient(temp_quant_theory2[method][sf_tau_use[i], k, j],\n",
    "                                                           sf_av[method][sf_tau_use[i], k],\n",
    "                                                           sf_tau_ref_ind)[0]"
   ],
   "metadata": {
    "collapsed": false,
    "ExecuteTime": {
     "end_time": "2023-09-04T06:39:53.288517Z",
     "start_time": "2023-09-04T06:39:51.414509Z"
    }
   }
  },
  {
   "cell_type": "code",
   "execution_count": 765,
   "outputs": [
    {
     "data": {
      "text/plain": "<Figure size 320x240 with 1 Axes>",
      "image/png": "[encoded data removed]"
     },
     "metadata": {},
     "output_type": "display_data"
    }
   ],
   "source": [
    "save_sf_fig = False\n",
    "# if publishing figure, use high dpi\n",
    "fig, ax = plt.subplots(1,1, figsize=(width['one_col'], width['one_col']/ar))\n",
    "ax.spines[['right', 'top']].set_visible(False)\n",
    "ax.plot(quantiles_all, np.average(scaling_factor[0], axis=0, weights=lat_weights), color='k', label='All $\\kappa$')\n",
    "ax.plot(quantiles_all, np.average(scaling_factor[1], axis=0, weights=lat_weights), color='k', linestyle=':',\n",
    "        label=f'$\\kappa \\leq {tau_lw[sf_tau_use[1]].max()}$')\n",
    "ax.plot(quantiles_all, np.average(scaling_factor[2], axis=0, weights=lat_weights), color='k', linestyle='--',\n",
    "        label= f'$\\kappa \\geq {tau_lw[sf_tau_use[2]].min()}$')\n",
    "ax.hlines(1, 0, 100, lw=ax_linewidth, color='k')\n",
    "# # Remove some of the lines but keep ylims the same\n",
    "# ax.lines.pop(1)\n",
    "# ax.lines.pop(1)\n",
    "ax.legend()\n",
    "ax.set_xlim(0,100)\n",
    "# if quant_type_use == 'x':\n",
    "#     ax.set_ylim(0.5,1.5)\n",
    "# else:\n",
    "#     ax.set_ylim(0.5,2.5)\n",
    "ax.set_xlabel('Temperature percentile, $x$')\n",
    "ax.set_ylabel('Scaling factor, $\\delta T(x)/\\delta \\overline{T}$')\n",
    "if save_fig or save_sf_fig:\n",
    "    file_name = f\"scaling_factor_multi_kappa_{region.lower()}\"\n",
    "    fig.savefig(f\"/Users/joshduffield/Desktop/{file_name}.pdf\", dpi=dpi['monochrome'] if publish_fig else low_dpi, \n",
    "                bbox_inches='tight', pad_inches=save_pad_inches)"
   ],
   "metadata": {
    "collapsed": false,
    "ExecuteTime": {
     "end_time": "2023-09-04T06:39:53.769486Z",
     "start_time": "2023-09-04T06:39:53.684648Z"
    }
   }
  },
  {
   "cell_type": "markdown",
   "source": [
    "The solid blue line below is the same as the solid black line above. The black lines show the theoretical prediction for the blue line, combining all kappa values."
   ],
   "metadata": {
    "collapsed": false
   }
  },
  {
   "cell_type": "code",
   "execution_count": 767,
   "outputs": [
    {
     "data": {
      "text/plain": "<Figure size 550x183.333 with 3 Axes>",
      "image/png": "[encoded data removed]"
     },
     "metadata": {},
     "output_type": "display_data"
    }
   ],
   "source": [
    "save_sf_theory_fig = False\n",
    "# if publishing figure, use high dpi\n",
    "fig, ax = plt.subplots(1,3, figsize=(width['two_col'], width['two_col']/ar/(0.75*3)), sharey=True, sharex=True)\n",
    "for i in range(n_sf):\n",
    "    ax[i].plot(quantiles_all, np.average(scaling_factor[i], axis=0, weights=lat_weights), color='b', label='Simulated')\n",
    "    ax[i].plot(quantiles_all, np.average(scaling_factor_theory['linear'][i], axis=0, weights=lat_weights), color='k', linestyle='--',\n",
    "            label=f'Theory')\n",
    "    ax[i].plot(quantiles_all, np.average(scaling_factor_theory['const_rh'][i], axis=0, weights=lat_weights), color='k', linestyle=':',\n",
    "            label= f'Theory - Constant RH Change')\n",
    "    ax[i].hlines(1, 0, 100, linewidth=ax_linewidth, color='k')\n",
    "ax[0].set_title(f'All $\\kappa$')\n",
    "ax[1].set_title(f'$\\kappa \\leq {tau_lw[sf_tau_use[1]].max()}$')\n",
    "ax[2].set_title(f'$\\kappa \\geq {tau_lw[sf_tau_use[2]].min()}$')\n",
    "# # Remove some of the lines but keep ylims the same\n",
    "# ax.lines.pop(2)\n",
    "# ax.lines.pop(1)\n",
    "ax[0].legend()\n",
    "ax[0].set_xlim(0,100)\n",
    "# if quant_type_use == 'x':\n",
    "#     ax.set_ylim(0.5,1.5)\n",
    "# else:\n",
    "#     ax.set_ylim(0.5,2.5)\n",
    "ax[1].set_xlabel('Temperature percentile, $x$')\n",
    "ax[0].set_ylabel('Scaling factor, $\\delta T(x)/\\delta \\overline{T}$')\n",
    "if save_fig or save_sf_theory_fig:\n",
    "    file_name = f\"scaling_factor_theory_{region.lower()}\"\n",
    "    fig.savefig(f\"/Users/joshduffield/Desktop/{file_name}.pdf\",dpi=dpi['combination'] if publish_fig else low_dpi, \n",
    "                bbox_inches='tight', pad_inches=save_pad_inches)"
   ],
   "metadata": {
    "collapsed": false,
    "ExecuteTime": {
     "end_time": "2023-09-04T06:40:24.318089Z",
     "start_time": "2023-09-04T06:40:24.123839Z"
    }
   }
  },
  {
   "cell_type": "markdown",
   "source": [
    "## Approximations of Theory\n",
    "Below, I investigate the 3 approximations that go into the aquaplanet theory."
   ],
   "metadata": {
    "collapsed": false
   }
  },
  {
   "cell_type": "code",
   "execution_count": 768,
   "outputs": [],
   "source": [
    "lambda_p = {var: np.zeros((n_sf, n_lat, n_quant_all)) for var in ['temp', 'sphum', 'mse', 'mse2']}\n",
    "\n",
    "for i in range(n_sf):\n",
    "    sf_tau_ref_ind = np.where(tau_lw[sf_tau_use[i]]==sf_tau_ref[i])[0]\n",
    "    for j in range(n_quant_all):\n",
    "        # The theory predicts median change but not mean hence I use median rather than mean.\n",
    "        # This means can get theoretical scale factor rather than using simulated mean.\n",
    "        # This means x=50 will correspond to y=1 in all plots below.\n",
    "        # Straight line through the ref point\n",
    "        for k in range(n_lat):\n",
    "            lambda_p['temp'][i, k, j] = get_gradient(temp_quant_p[sf_tau_use[i], k, j], temp_mean[sf_tau_use[i], k], sf_tau_ref_ind)[0]\n",
    "            lambda_p['sphum'][i, k, j] = get_gradient(sphum_quant_p[sf_tau_use[i], k, j], sphum_mean[sf_tau_use[i], k], sf_tau_ref_ind)[0]\n",
    "            lambda_p['mse'][i, k, j] = get_gradient(mse_quant_p[sf_tau_use[i], k, j], mse_mean[sf_tau_use[i], k], sf_tau_ref_ind)[0]\n",
    "            lambda_p['mse2'][i, k, j] = get_gradient(c_p * temp_quant_p[sf_tau_use[i], k, j] + L_v * sphum_quant_p[sf_tau_use[i], k, j],\n",
    "                                                     c_p * temp_mean[sf_tau_use[i], k] + L_v * sphum_mean[sf_tau_use[i], k],\n",
    "                                                     sf_tau_ref_ind)[0]"
   ],
   "metadata": {
    "collapsed": false,
    "ExecuteTime": {
     "end_time": "2023-09-04T06:40:36.263302Z",
     "start_time": "2023-09-04T06:40:34.768554Z"
    }
   }
  },
  {
   "cell_type": "code",
   "execution_count": 769,
   "outputs": [
    {
     "data": {
      "text/plain": "<Figure size 550x183.333 with 3 Axes>",
      "image/png": "[encoded data removed]"
     },
     "metadata": {},
     "output_type": "display_data"
    }
   ],
   "source": [
    "save_lambda_fig = False\n",
    "fig, ax = plt.subplots(1,3, figsize=(width['two_col'], width['two_col']/ar/(0.75*3)), sharey=True, sharex=True)\n",
    "labels = ['Temperature','Specific humidity', 'Moist static energy']\n",
    "linestyles = ['-', '--', ':']\n",
    "for i in range(n_sf):\n",
    "    for j, var in enumerate(['temp', 'sphum', 'mse']):\n",
    "        ax[i].plot(quantiles_all, np.average(lambda_p[var][i], axis=0, weights=lat_weights), label=labels[j], linestyle=linestyles[j],\n",
    "                   color='k')\n",
    "    ax[i].hlines(1,0,100, color='k', linewidth=ax_linewidth)\n",
    "ax[0].legend(title='$\\chi$')\n",
    "ax[0].set_title(f'All $\\kappa$')\n",
    "ax[1].set_title(f'$\\kappa \\leq {tau_lw[sf_tau_use[1]].max()}$')\n",
    "ax[2].set_title(f'$\\kappa \\geq {tau_lw[sf_tau_use[2]].min()}$')\n",
    "ax[1].set_xlabel('Percentile, $x$')\n",
    "ax[0].set_ylabel('$\\delta \\chi(x)/\\delta \\overline{\\chi}$')\n",
    "ax[0].set_ylim(0.75,1.25)\n",
    "ax[0].set_xlim(0, 100)\n",
    "# plt.tight_layout()\n",
    "if save_fig or save_lambda_fig:\n",
    "    fig.savefig(f\"/Users/joshduffield/Desktop/lambda_{region.lower()}_{season}.pdf\",\n",
    "                dpi=dpi['monochrome'] if publish_fig else low_dpi, bbox_inches='tight', pad_inches=save_pad_inches)"
   ],
   "metadata": {
    "collapsed": false,
    "ExecuteTime": {
     "end_time": "2023-09-04T06:40:39.909625Z",
     "start_time": "2023-09-04T06:40:39.723719Z"
    }
   }
  },
  {
   "cell_type": "markdown",
   "source": [
    "There are three approximations that go into the theory:\n",
    "1. $\\lambda = \\delta h(x)/\\delta \\overline{h} = 1$\n",
    "\n",
    "    The validity of this is shown by the green line in the $\\delta Ocean/\\delta \\overline{Ocean}$ plot above. This should be equal to 1.\n",
    "    In the plot below, we see that whenever $\\lambda < 1$, the green line, which includes the exact $\\lambda$, predicts a smaller temperature change than the orange line which is the same apart from assuming $\\lambda=1$.\n",
    "\n",
    "2. $\\delta h(x) \\approx c_p \\delta T(x) + L_v \\delta q(x)$\n",
    "\n",
    "    The validity of this is shown by comparing the green lines in the $\\delta Ocean/\\delta \\overline{Ocean}$ plot above. If this approximation was exact, we would expect them to match up exactly.\n",
    "   In the plot below, we see that whenever $c_p \\delta T(x) + L_v \\delta q(x) > \\delta h(x)$, the predicted temperature change by the most complete theory (green line) is less than the actual simulated value (blue line).\n",
    "\n",
    "3. Taylor series for $\\delta q(x)$ in terms of $\\delta T(x)$ and $\\delta r(x)$ as well as for $\\delta \\overline{q}$\n",
    "\n",
    "    The most accurate taylor series I use is to include squared, $\\delta T^2$, nonlinear, $\\delta T \\delta r$, and linear terms. The extent to which just the linear terms are necessary can be evaluated by comparing the orange and black dashed line below. The only difference between them is that the orange line retains all the terms in the taylor series."
   ],
   "metadata": {
    "collapsed": false
   }
  },
  {
   "cell_type": "code",
   "execution_count": 770,
   "outputs": [
    {
     "data": {
      "text/plain": "<Figure size 550x183.333 with 3 Axes>",
      "image/png": "[encoded data removed]"
     },
     "metadata": {},
     "output_type": "display_data"
    }
   ],
   "source": [
    "save_approx_fig = False\n",
    "fig, ax = plt.subplots(1,3, figsize=(width['two_col'], width['two_col']/ar/(0.75*3)), sharey=True, sharex=True)\n",
    "\n",
    "for i in range(n_sf):\n",
    "    ax[i].plot(quantiles_all, np.average(scaling_factor[i], axis=0, weights=lat_weights), label = 'Simulated', color='b')\n",
    "    ax[i].plot(quantiles_all, np.average(scaling_factor_theory['linear'][i], axis=0, weights=lat_weights),\n",
    "               label='Linear', color='k', linestyle='--')\n",
    "    ax[i].plot(quantiles_all, np.average(scaling_factor_theory['squared'][i], axis=0, weights=lat_weights),\n",
    "               label='Squared', color=default_colors[1], alpha=0.5)\n",
    "    ax[i].plot(quantiles_all, np.average(scaling_factor_theory['squared_lambda'][i], axis=0, weights=lat_weights),\n",
    "               label='Squared ($\\lambda \\\\neq 1$)', color=default_colors[2], alpha=0.5)\n",
    "    ax[i].hlines(1, -10, 100, color='k', linewidth=ax_linewidth)\n",
    "ax[0].set_title(f'All $\\kappa$')\n",
    "ax[1].set_title(f'$\\kappa \\leq {tau_lw[sf_tau_use[1]].max()}$')\n",
    "ax[2].set_title(f'$\\kappa \\geq {tau_lw[sf_tau_use[2]].min()}$')\n",
    "ax[0].legend()\n",
    "ax[1].set_xlabel('Temperature percentile, $x$')\n",
    "ax[0].set_ylabel('Scaling factor, $\\delta T(x)/\\delta \\overline{T}$')\n",
    "ax[0].set_xlim(0,100)\n",
    "plt.tight_layout()\n",
    "\n",
    "if save_fig or save_approx_fig:\n",
    "    fig.savefig(f\"/Users/joshduffield/Desktop/scaling_factor_approx_{region.lower()}_{season}.pdf\",\n",
    "                dpi=dpi['combination'] if publish_fig else low_dpi, bbox_inches='tight', pad_inches=save_pad_inches)"
   ],
   "metadata": {
    "collapsed": false,
    "ExecuteTime": {
     "end_time": "2023-09-04T06:40:42.416703Z",
     "start_time": "2023-09-04T06:40:42.211213Z"
    }
   }
  },
  {
   "cell_type": "markdown",
   "source": [
    "## Probability Density Function\n",
    "#### Tropics\n",
    "Below, I plot how the temperature distribution relative to the median changes with warming. Clearly, the coldest days become closer to the median as optical depth increases (blue $\\rightarrow$ red). The hottest days also become closer to the median as optical depth increases for the lower optical depths. But for the hottest simulations, as the optical depth increases, the hottest days become hotter.\n",
    "#### Extratropics\n",
    "In the extratropics, the narrowing of the seasonal cycle (hottest days get cooler and coldest days get warmer relative to the median) with warming is much more apparent."
   ],
   "metadata": {
    "collapsed": false
   }
  },
  {
   "cell_type": "code",
   "execution_count": 771,
   "outputs": [],
   "source": [
    "if region == 'extratropics':\n",
    "    n_hist_bins = 33*3\n",
    "    hist_bins_lims = [-33, 33]\n",
    "elif region == 'tropics':\n",
    "    n_hist_bins = 15*15\n",
    "    hist_bins_lims = [-13, 13]\n",
    "else:\n",
    "    n_hist_bins = 49*3\n",
    "    hist_bins_lims = [-49, 49]\n",
    "temp_hist_counts = np.zeros((n_exp, n_lat, n_hist_bins))\n",
    "for i in range(n_exp):\n",
    "    for j in range(n_lat):\n",
    "        if scaling_factor_av == 'median':\n",
    "            temp_anomaly = ds_all[i].temp[j]-ds_all[i].temp[j].median()\n",
    "        else:\n",
    "            temp_anomaly = ds_all[i].temp[j]-ds_all[i].temp[j].mean()\n",
    "        temp_hist_counts[i, j] = np.histogram(temp_anomaly, n_hist_bins, hist_bins_lims)[0]\n",
    "hist_bins = np.histogram(temp_anomaly, n_hist_bins, hist_bins_lims)[1]\n",
    "hist_bin_centres = moving_average(hist_bins, 2)\n",
    "\n",
    "temp_hist_weight = np.average(temp_hist_counts, weights=lat_weights, axis=1)\n",
    "temp_hist_weight = temp_hist_weight/np.sum(temp_hist_weight, axis=1, keepdims=True)\n",
    "# #Below is if I were to ignore latitude weighting\n",
    "# temp_hist_weight2 = np.sum(temp_hist_counts, axis=1)\n",
    "# temp_hist_weight2 = temp_hist_weight2/np.sum(temp_hist_weight2, axis=1, keepdims=True)"
   ],
   "metadata": {
    "collapsed": false,
    "ExecuteTime": {
     "end_time": "2023-09-04T06:41:03.315999Z",
     "start_time": "2023-09-04T06:41:02.931634Z"
    }
   }
  },
  {
   "cell_type": "code",
   "execution_count": 773,
   "outputs": [
    {
     "data": {
      "text/plain": "<Figure size 320x240 with 1 Axes>",
      "image/png": "[encoded data removed]"
     },
     "metadata": {},
     "output_type": "display_data"
    }
   ],
   "source": [
    "save_pdf_fig = False\n",
    "plot_log = False\n",
    "color_seq_exp = plt.cm.jet(np.linspace(0,1,n_exp))\n",
    "fig, ax = plt.subplots(1,1, figsize=(width['one_col'], width['one_col']/ar))\n",
    "for i in range(n_exp):\n",
    "    ax.plot(hist_bin_centres, temp_hist_weight[i], color=color_seq_exp[i], label=f'{tau_lw[i]}')\n",
    "ax.set_xlabel('$T-\\overline{T}$ [K]')\n",
    "ax.set_ylabel('Fraction')\n",
    "if plot_log:\n",
    "    ax.set_yscale('log')\n",
    "    ax.set_ylim(10**-5, temp_hist_weight.max())\n",
    "else:\n",
    "    ax.set_ylim(0, temp_hist_weight.max())\n",
    "ax.set_ylim(0, 0.04)\n",
    "ylim = ax.get_ylim()\n",
    "ax.vlines(0, ylim[0], ylim[1], lw=ax_linewidth, colors='k')\n",
    "ax.set_xlim(hist_bin_centres[0], hist_bin_centres[-1])\n",
    "if region == 'tropics':\n",
    "    ax.legend(title='$\\kappa$')\n",
    "if save_fig or save_pdf_fig:\n",
    "    fig.savefig(f\"/Users/joshduffield/Desktop/temp_pdf_{region.lower()}_{season}.pdf\",\n",
    "                dpi=dpi['combination'] if publish_fig else low_dpi, bbox_inches='tight', pad_inches=save_pad_inches)"
   ],
   "metadata": {
    "collapsed": false,
    "ExecuteTime": {
     "end_time": "2023-09-04T06:41:20.859755Z",
     "start_time": "2023-09-04T06:41:20.713884Z"
    }
   }
  },
  {
   "cell_type": "code",
   "execution_count": 735,
   "outputs": [],
   "source": [],
   "metadata": {
    "collapsed": false,
    "ExecuteTime": {
     "end_time": "2023-09-01T15:09:20.944084Z",
     "start_time": "2023-09-01T15:09:20.941154Z"
    }
   }
  }
 ],
 "metadata": {
  "kernelspec": {
   "display_name": "Python 3",
   "language": "python",
   "name": "python3"
  },
  "language_info": {
   "codemirror_mode": {
    "name": "ipython",
    "version": 2
   },
   "file_extension": ".py",
   "mimetype": "text/x-python",
   "name": "python",
   "nbconvert_exporter": "python",
   "pygments_lexer": "ipython2",
   "version": "2.7.6"
  }
 },
 "nbformat": 4,
 "nbformat_minor": 0
}
