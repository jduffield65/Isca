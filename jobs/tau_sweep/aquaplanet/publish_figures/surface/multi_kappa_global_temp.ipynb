{
 "cells": [
  {
   "cell_type": "markdown",
   "source": [
    "# Publishing Figures - Multi Kappa Global Temperature\n",
    "This plots the global (weighted) average near-surface temperature as a function of optical depth parameter, $\\kappa$."
   ],
   "metadata": {
    "collapsed": false
   }
  },
  {
   "cell_type": "code",
   "source": [
    "import sys\n",
    "import os\n",
    "# REMOTE - So can access functions in isca_tools which is in home/Isca directory\n",
    "# sys.path.append(os.path.join(os.environ['HOME'], 'Isca'))\n",
    "# LOCAL - So can access functions in isca_tools which is in StAndrews/Isca\n",
    "sys.path.append(os.environ['PWD'])\n",
    "import isca_tools\n",
    "from isca_tools.utils.constants import L_v, c_p\n",
    "from isca_tools.utils import area_weight_mean_lat, area_weighting\n",
    "from isca_tools.thesis.aquaplanet_theory import get_delta_temp_quant_theory\n",
    "from isca_tools.papers.byrne_2021 import get_quant_ind\n",
    "import numpy as np\n",
    "import matplotlib.pyplot as plt\n",
    "import xarray as xr\n",
    "import scipy.optimize\n",
    "from tqdm import tqdm\n",
    "import os\n",
    "import numpy_indexed\n",
    "from scipy.stats import median_abs_deviation\n",
    "from isca_tools.papers.miyawaki_2022 import get_dmse_dt, get_dvmse_dy, get_r1\n",
    "from isca_tools.utils.radiation import frierson_atmospheric_heating\n",
    "plt.style.use('/Users/joshduffield/Documents/StAndrews/Isca/jobs/tau_sweep/aquaplanet/publish_figures/publish.mplstyle')"
   ],
   "metadata": {
    "collapsed": false,
    "ExecuteTime": {
     "end_time": "2024-04-20T09:41:03.970295Z",
     "start_time": "2024-04-20T09:41:01.841296Z"
    }
   },
   "outputs": [
    {
     "name": "stderr",
     "output_type": "stream",
     "text": [
      "2024-04-20 10:41:01,852 - isca - WARNING - Environment variable GFDL_SOC not set, but this is only required if using SocratesCodebase. Setting to None\n"
     ]
    }
   ],
   "execution_count": 1
  },
  {
   "cell_type": "code",
   "source": [
    "# Load dataset\n",
    "var_keep = ['temp', 't_surf']\n",
    "# exp_dir = 'tau_sweep/aquaplanet/'\n",
    "exp_dir = 'tau_sweep/aquaplanet/depth=1/'\n",
    "exp_names = [dir for dir in os.listdir(os.path.join(os.environ['GFDL_DATA'],exp_dir)) if dir[0]=='k']\n",
    "exp_names.sort()\n",
    "# exp_names = exp_names[2:-1]     # get rid of coldest 2 and warmest simulation as don't work well\n",
    "n_exp = len(exp_names)\n",
    "ds = []\n",
    "albedo = []\n",
    "tau_sw = []\n",
    "tau_lw = []\n",
    "for i in tqdm(range(n_exp)):\n",
    "    ds_use = isca_tools.load_dataset(exp_dir + exp_names[i])\n",
    "    ds += [ds_use]\n",
    "    namelist = isca_tools.load_namelist(exp_dir + exp_names[i])  # Need this for albedo_value\n",
    "    albedo += [namelist['mixed_layer_nml']['albedo_value']]\n",
    "    tau_sw += [namelist['two_stream_gray_rad_nml']['atm_abs']]\n",
    "    tau_lw += [namelist['two_stream_gray_rad_nml']['odp']]\n",
    "tau_lw = np.asarray(tau_lw)\n",
    "p_surface = float(ds[0].pfull[-1]) * 100"
   ],
   "metadata": {
    "collapsed": false,
    "ExecuteTime": {
     "end_time": "2024-04-20T09:41:18.377744Z",
     "start_time": "2024-04-20T09:41:03.971657Z"
    }
   },
   "outputs": [
    {
     "name": "stderr",
     "output_type": "stream",
     "text": [
      "100%|██████████| 8/8 [00:14<00:00,  1.80s/it]\n"
     ]
    }
   ],
   "execution_count": 2
  },
  {
   "cell_type": "markdown",
   "source": [
    "## Get datasets\n",
    "Get one dataset for each $\\kappa$, combining the desired latitudes: `ds_all`. This combines all or just the summer months in each hemisphere, e.g. negative latitudes will only correspond to times in December, January or February."
   ],
   "metadata": {
    "collapsed": false
   }
  },
  {
   "cell_type": "code",
   "source": [
    "# If true, will save all figures to desktop - option to save specific figures later on.\n",
    "save_fig = False\n",
    "# if publishing figure, use high dpi\n",
    "publish_fig = True\n",
    "\n",
    "ar = 4/3        # aspect ratio (width/height)\n",
    "# Details required for Journal of Climate Figures\n",
    "low_dpi = 100\n",
    "dpi = {'monochrome': 1100, 'combination': 800, 'halftone': 300}\n",
    "width = {'one_col': 3.2, 'two_col': 5.5}        # width in inches \n",
    "save_pad_inches = 0.05\n",
    "\n",
    "# Default parameters\n",
    "default_colors = plt.rcParams['axes.prop_cycle'].by_key()['color']\n",
    "ax_linewidth = plt.rcParams['axes.linewidth']\n",
    "\n",
    "def moving_average(x, w):\n",
    "    return np.convolve(x, np.ones(w), 'valid') / w"
   ],
   "metadata": {
    "collapsed": false,
    "ExecuteTime": {
     "end_time": "2024-04-20T09:41:18.381534Z",
     "start_time": "2024-04-20T09:41:18.378569Z"
    }
   },
   "outputs": [],
   "execution_count": 3
  },
  {
   "cell_type": "code",
   "source": [
    "# Compute Global Average Surface Temperature and get near surface temperature data\n",
    "# Use all data after 2 years, as clearly converged from the above spin up plot\n",
    "use_time_start = 360*2\n",
    "\n",
    "# Chose whether to only consider summer days or consider all days\n",
    "season = 'all'\n",
    "# season = 'summer'\n",
    "# season = 'winter'\n",
    "if season == 'summer':\n",
    "    season_months = {'nh': [6, 7, 8], 'sh': [12, 1, 2]}   # JJA for NH and DJF for SH\n",
    "elif season == 'winter':\n",
    "    season_months = {'nh': [12, 1, 2], 'sh': [6, 7, 8]}   # JJA for NH and DJF for SH\n",
    "\n",
    "# Tropics\n",
    "# region = 'tropics'\n",
    "# lat_min = 0\n",
    "# lat_max = 20\n",
    "# Extratropics\n",
    "# region = 'extratropics'\n",
    "# lat_min = 40\n",
    "# lat_max = 65\n",
    "# Poles\n",
    "# region = 'High Latitudes'\n",
    "# lat_min = 70\n",
    "# lat_max = 90\n",
    "region = 'Global'\n",
    "lat_min = 0\n",
    "lat_max = 90\n",
    "\n",
    "ds_all = []\n",
    "with tqdm(total=n_exp, position=0, leave=True) as pbar:\n",
    "    for i in range(n_exp):\n",
    "        ds_use = ds[i].sel(time=slice(use_time_start, np.inf))[var_keep]\n",
    "        ds_use = ds_use.sel(pfull=np.inf, method='nearest')      # only keep the surface values - get rid of pfull coordinate\n",
    "        ds_use = ds_use.where((np.abs(ds_use.lat) <= lat_max) & (np.abs(ds_use.lat) >= lat_min), drop=True)\n",
    "\n",
    "        if season == 'summer' or season == 'winter':\n",
    "            # Only consider summer as has expected circulation\n",
    "            ds_nh_summer = isca_tools.utils.annual_time_slice(ds_use, season_months['nh']).sel(lat=slice(lat_min, lat_max)) \n",
    "            ds_sh_summer = isca_tools.utils.annual_time_slice(ds_use, season_months['sh']).sel(lat=slice(-lat_max, -lat_min))  \n",
    "            # Combine hemispheres and average over longitude, time and latitude.\n",
    "            # Note that April, May, June, October, November and December will not be included in this dataset\n",
    "            ds_use = xr.concat([ds_sh_summer, ds_nh_summer], dim='lat')\n",
    "        ds_use = ds_use.stack(lon_time=(\"lon\",\"time\"), create_index=False).chunk(dict(lon_time=-1))\n",
    "        ds_all += [ds_use.load()]\n",
    "        pbar.update(1)"
   ],
   "metadata": {
    "collapsed": false,
    "ExecuteTime": {
     "end_time": "2024-04-20T09:41:31.184073Z",
     "start_time": "2024-04-20T09:41:18.382428Z"
    }
   },
   "outputs": [
    {
     "name": "stderr",
     "output_type": "stream",
     "text": [
      "100%|██████████| 8/8 [00:12<00:00,  1.60s/it]\n"
     ]
    }
   ],
   "execution_count": 4
  },
  {
   "cell_type": "markdown",
   "source": [
    "### Global Mean Surface Temperature\n",
    "Print out global mean surface temperature for each simulation"
   ],
   "metadata": {
    "collapsed": false
   }
  },
  {
   "cell_type": "code",
   "source": [
    "# Surface Temperature\n",
    "[f'kappa = {tau_lw[i]}: {round(float(area_weighting(ds_all[i].t_surf).mean()), 1)}K' for i in range(n_exp)]"
   ],
   "metadata": {
    "collapsed": false,
    "ExecuteTime": {
     "end_time": "2024-04-20T09:41:31.897151Z",
     "start_time": "2024-04-20T09:41:31.185840Z"
    }
   },
   "outputs": [
    {
     "data": {
      "text/plain": [
       "['kappa = 0.6: 278.1K',\n",
       " 'kappa = 0.8: 282.4K',\n",
       " 'kappa = 1.0: 285.6K',\n",
       " 'kappa = 1.5: 291.4K',\n",
       " 'kappa = 2.0: 295.3K',\n",
       " 'kappa = 2.5: 298.2K',\n",
       " 'kappa = 3.0: 300.6K',\n",
       " 'kappa = 3.5: 302.6K']"
      ]
     },
     "execution_count": 5,
     "metadata": {},
     "output_type": "execute_result"
    }
   ],
   "execution_count": 5
  },
  {
   "cell_type": "markdown",
   "source": [
    "### Global Mean Near-Surface Temperature\n"
   ],
   "metadata": {
    "collapsed": false
   }
  },
  {
   "metadata": {
    "ExecuteTime": {
     "end_time": "2024-04-20T09:42:12.247357Z",
     "start_time": "2024-04-20T09:42:11.572545Z"
    }
   },
   "cell_type": "code",
   "source": "[f'kappa = {tau_lw[i]}: {round(float(area_weighting(ds_all[i].temp).mean()), 1)}K' for i in range(n_exp)]",
   "outputs": [
    {
     "data": {
      "text/plain": [
       "['kappa = 0.6: 276.0K',\n",
       " 'kappa = 0.8: 280.5K',\n",
       " 'kappa = 1.0: 284.0K',\n",
       " 'kappa = 1.5: 290.0K',\n",
       " 'kappa = 2.0: 294.2K',\n",
       " 'kappa = 2.5: 297.4K',\n",
       " 'kappa = 3.0: 299.9K',\n",
       " 'kappa = 3.5: 302.0K']"
      ]
     },
     "execution_count": 8,
     "metadata": {},
     "output_type": "execute_result"
    }
   ],
   "execution_count": 8
  },
  {
   "cell_type": "code",
   "source": [
    "save_temp_fig = False\n",
    "\n",
    "tau_lw_ref = 1\n",
    "tau_ref_ind = np.where(np.asarray(tau_lw)==tau_lw_ref)[0][0]\n",
    "\n",
    "temp_mean = [float(area_weighting(ds_all[i].temp).mean()) for i in range(n_exp)]\n",
    "\n",
    "fig, ax = plt.subplots(1,1, figsize=(width['one_col'], width['one_col']/ar))\n",
    "ax.plot(tau_lw, temp_mean, marker='o', color='k', fillstyle='none', markersize=4)\n",
    "ax.plot(tau_lw[tau_ref_ind], temp_mean[tau_ref_ind], marker='o', color='k', fillstyle='full', markersize=4)\n",
    "ax.set_xlabel('Long wave optical depth parameter, $\\kappa$')\n",
    "ax.set_ylabel('Global temperature [K]')\n",
    "\n",
    "if save_fig or save_temp_fig:\n",
    "    file_name = f\"{region.lower()}_mean_temp\"\n",
    "    fig.savefig(f\"/Users/joshduffield/Desktop/{file_name}.pdf\",dpi=dpi['combination'] if publish_fig else low_dpi, bbox_inches='tight',\n",
    "                pad_inches=save_pad_inches)"
   ],
   "metadata": {
    "collapsed": false,
    "ExecuteTime": {
     "end_time": "2024-04-20T09:41:32.707782Z",
     "start_time": "2024-04-20T09:41:31.898104Z"
    }
   },
   "outputs": [
    {
     "data": {
      "text/plain": [
       "<Figure size 320x240 with 1 Axes>"
      ],
      "image/png": "[encoded data removed]"
     },
     "metadata": {},
     "output_type": "display_data"
    }
   ],
   "execution_count": 6
  },
  {
   "cell_type": "code",
   "source": [],
   "metadata": {
    "collapsed": false,
    "ExecuteTime": {
     "end_time": "2024-04-20T09:41:32.710413Z",
     "start_time": "2024-04-20T09:41:32.708817Z"
    }
   },
   "outputs": [],
   "execution_count": 6
  }
 ],
 "metadata": {
  "kernelspec": {
   "display_name": "Python 3",
   "language": "python",
   "name": "python3"
  },
  "language_info": {
   "codemirror_mode": {
    "name": "ipython",
    "version": 2
   },
   "file_extension": ".py",
   "mimetype": "text/x-python",
   "name": "python",
   "nbconvert_exporter": "python",
   "pygments_lexer": "ipython2",
   "version": "2.7.6"
  }
 },
 "nbformat": 4,
 "nbformat_minor": 0
}
