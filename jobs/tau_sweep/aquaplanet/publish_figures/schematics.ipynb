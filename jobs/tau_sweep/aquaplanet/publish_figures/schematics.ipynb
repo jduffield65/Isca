{
 "cells": [
  {
   "cell_type": "markdown",
   "source": [
    "# Schematics\n",
    "Below, I create some schematics to help understand the theory for how temperature distribution changes with warming."
   ],
   "metadata": {
    "collapsed": false
   }
  },
  {
   "cell_type": "code",
   "source": [
    "import sys\n",
    "import os\n",
    "# REMOTE - So can access functions in isca_tools which is in home/Isca directory\n",
    "# sys.path.append(os.path.join(os.environ['HOME'], 'Isca'))\n",
    "# LOCAL - So can access functions in isca_tools which is in StAndrews/Isca\n",
    "sys.path.append(os.environ['PWD'])\n",
    "import isca_tools\n",
    "from isca_tools.utils.moist_physics import clausius_clapeyron_factor, sphum_sat, moist_static_energy\n",
    "from isca_tools.convection.base import convection_neutral_profile, lcl_temp_bolton, dry_profile_pressure, lapse_moist, lapse_dry, rh_from_sphum\n",
    "from isca_tools.utils.constants import L_v, c_p, g, R\n",
    "from isca_tools.utils.stats import z_score_from_confidence_interval\n",
    "from isca_tools.utils import area_weight_mean_lat, area_weighting\n",
    "from isca_tools.thesis.adiabat_theory import get_theory_prefactor_terms, get_temp_adiabat, get_gamma_factors\n",
    "from isca_tools.papers.byrne_2021 import get_quant_ind\n",
    "from isca_tools.plot import label_subplots\n",
    "import numpy as np\n",
    "import matplotlib.pyplot as plt\n",
    "import matplotlib\n",
    "import xarray as xr\n",
    "import scipy.optimize\n",
    "from tqdm import tqdm\n",
    "import os\n",
    "import numpy_indexed\n",
    "plt.style.use('/Users/joshduffield/Documents/StAndrews/Isca/jobs/tau_sweep/aquaplanet/publish_figures/publish.mplstyle')"
   ],
   "metadata": {
    "collapsed": false,
    "ExecuteTime": {
     "end_time": "2024-05-10T10:35:09.961078Z",
     "start_time": "2024-05-10T10:35:07.515621Z"
    }
   },
   "execution_count": 1,
   "outputs": []
  },
  {
   "metadata": {
    "ExecuteTime": {
     "end_time": "2024-05-10T10:35:09.964617Z",
     "start_time": "2024-05-10T10:35:09.962226Z"
    }
   },
   "cell_type": "code",
   "source": [
    "# If true, will save all figures to desktop - option to save specific figures later on.\n",
    "save_fig = False\n",
    "# if publishing figure, use high dpi\n",
    "publish_fig = True\n",
    "\n",
    "ar = 4/3        # aspect ratio (width/height)\n",
    "# Details required for Journal of Climate Figures\n",
    "low_dpi = 100\n",
    "dpi = {'monochrome': 1100, 'combination': 800, 'halftone': 300}\n",
    "width = {'one_col': 3.2, 'two_col': 5.5}        # width in inches \n",
    "save_pad_inches = 0.05\n",
    "\n",
    "# Default parameters\n",
    "default_colors = plt.rcParams['axes.prop_cycle'].by_key()['color']\n",
    "ax_linewidth = plt.rcParams['axes.linewidth']"
   ],
   "execution_count": 2,
   "outputs": []
  },
  {
   "cell_type": "code",
   "source": [
    "# Get surface and free tropospheric pressure values in Pa.\n",
    "pressure_ft_approx = 500        # approximate pressure of free troposphere in hPa\n",
    "exp_dir = 'tau_sweep/aquaplanet/depth=1/k=1/'\n",
    "pressure_surface, pressure_ft = isca_tools.load_dataset(exp_dir).pfull.sel(pfull=[np.inf, pressure_ft_approx], method='nearest').to_numpy() * 100"
   ],
   "metadata": {
    "collapsed": false,
    "ExecuteTime": {
     "end_time": "2024-05-10T10:35:12.764069Z",
     "start_time": "2024-05-10T10:35:09.965384Z"
    }
   },
   "execution_count": 3,
   "outputs": []
  },
  {
   "metadata": {},
   "cell_type": "markdown",
   "source": [
    "## Theory Terms\n",
    "Below I plot a schematic for each term in the new formula - 4 in total.\n",
    "For each, I isolate the effect of one contribution."
   ]
  },
  {
   "metadata": {
    "ExecuteTime": {
     "end_time": "2024-05-10T11:54:45.159785Z",
     "start_time": "2024-05-10T11:54:45.142178Z"
    }
   },
   "cell_type": "code",
   "source": [
    "pressure_schematic = np.linspace(400*100, pressure_surface, 100)\n",
    "\n",
    "def get_temp_surf_from_temp_adiabat(temp_adiabat, r_surface = None, pressure_surface=pressure_surface, pressure_ft=pressure_ft, \n",
    "                                    guess_temp_surf=280):\n",
    "    def fit_func(temp_surf):\n",
    "        temp_lcl = lcl_temp_bolton(temp_surf, r_surface*100)\n",
    "        return convection_neutral_profile(float(temp_surf), pressure_surface, float(temp_lcl), np.array([pressure_ft])) - temp_adiabat\n",
    "    return float(scipy.optimize.fsolve(fit_func, guess_temp_surf))\n",
    "\n",
    "def schematic_plot(temp_cold, rh_cold, temp_adiabat_change_cold, r_change_cold = 0, \n",
    "                   temp_hot = None, rh_hot = None, temp_adiabat_change_hot = None, r_change_hot=0, \n",
    "                   pressure_surface = pressure_surface, pressure_ft=pressure_ft, \n",
    "                   pressure_levels=pressure_schematic, include_diff_plot = False, sphum_cold=None, sphum_hot = None):\n",
    "    \"\"\"\n",
    "    Method to plot schematic showing how the temperature profile of a cold (blue) and hot (red) day changes under warming, with given \n",
    "    constraints. Idea is to isolate each term in equation for change in surface temperature.\n",
    "    \n",
    "    Args:\n",
    "        temp_cold: float\n",
    "            Surface temperature of cold day in reference climate [K].\n",
    "        rh_cold: float\n",
    "            Surface relative humidity of cold day in reference climate. If `None`, `sphum_cold` is used.\n",
    "        temp_adiabat_change_cold: float\n",
    "            Change of adiabatic temperature of cold day at `pressure_ft` with warming [K].\n",
    "        r_change_cold: float\n",
    "            Change of surface relative humidity of cold day with warming.\n",
    "        temp_hot: float\n",
    "            Surface temperature of hot day in reference climate [K]. If not given, set to `temp_cold`.\n",
    "        rh_hot: float\n",
    "            Surface relative humidity of hot day in reference climate. If not given, set to `rh_cold`.\n",
    "        temp_adiabat_change_hot: float\n",
    "            Change of adiabatic temperature of hot day at `pressure_ft` with warming [K]. If not given, set to `temp_adiabat_change_cold`.\n",
    "        r_change_hot: float\n",
    "            Change of surface relative humidity of hot day with warming.\n",
    "        pressure_surface: float\n",
    "            Near-surface pressure [hPa].\n",
    "        pressure_ft: float\n",
    "            Free tropospheric pressure [hPa]\n",
    "        pressure_levels: float [n_levels]\n",
    "            Pressure levels to plot temperature profile at.\n",
    "        include_diff_plot: bool\n",
    "            If `True`, the figure will have a second axis, plotting the temperature profile anomaly for each climate. \n",
    "            I.e. red - blue line for each climate.\n",
    "        sphum_cold: float\n",
    "            Surface specific humidity of cold day in reference climate [kg/kg].\n",
    "        sphum_hot: float\n",
    "            Surface specific humidity of hot day in reference climate. If not given, set to `sphum_cold`.\n",
    "    \"\"\"\n",
    "    n_climates = 2      # function assumes there are two climates and a cold and hot day (as indicated by dict) in both.\n",
    "    temp_surf = {'cold': np.zeros(n_climates), 'hot': np.zeros(n_climates)}\n",
    "    rh = {'cold': np.zeros(n_climates), 'hot': np.zeros(n_climates)}\n",
    "    temp_lcl = {'cold': np.zeros(n_climates), 'hot': np.zeros(n_climates)}\n",
    "    pressure_lcl = {'cold': np.zeros(n_climates), 'hot': np.zeros(n_climates)}\n",
    "    temp_adiabat = {'cold': np.zeros(n_climates), 'hot': np.zeros(n_climates)}\n",
    "    temp_profile = {'cold': np.zeros((n_climates, len(pressure_levels))), 'hot': np.zeros((n_climates, len(pressure_levels)))}\n",
    "    \n",
    "    temp_surf['cold'][0] = temp_cold\n",
    "    temp_surf['hot'][0] = temp_cold if temp_hot is None else temp_hot\n",
    "    if rh_cold is None:\n",
    "        # Use specific humidity if rh is None\n",
    "        rh_cold = sphum_cold / sphum_sat(temp_cold, pressure_surface) \n",
    "        rh_hot = (sphum_cold if sphum_hot is None else sphum_hot) / sphum_sat(temp_surf['hot'][0], pressure_surface) \n",
    "    rh['cold'][0] = rh_cold\n",
    "    rh['hot'][0] = rh_cold if rh_hot is None else rh_hot\n",
    "        \n",
    "        \n",
    "    for key in temp_surf:\n",
    "        temp_lcl[key][0] = np.clip(lcl_temp_bolton(temp_surf[key][0], rh[key][0] * 100), 0, temp_surf[key][0])\n",
    "        temp_adiabat[key][0] = float(convection_neutral_profile(temp_surf[key][0], pressure_surface, temp_lcl[key][0], np.array([pressure_ft])))\n",
    "    \n",
    "    # Shift to warmer climate\n",
    "    if temp_adiabat_change_hot is None:\n",
    "        temp_adiabat_change_hot = temp_adiabat_change_cold\n",
    "    temp_adiabat_change = {'cold': temp_adiabat_change_cold, 'hot': temp_adiabat_change_hot}\n",
    "    rh_change = {'cold': r_change_cold, 'hot': r_change_hot}\n",
    "    for key in temp_surf:\n",
    "        rh[key][1] = rh[key][0] + rh_change[key]\n",
    "        temp_adiabat[key][1] = temp_adiabat[key][0] + temp_adiabat_change[key]\n",
    "        temp_surf[key][1] = get_temp_surf_from_temp_adiabat(temp_adiabat[key][1], rh[key][1])\n",
    "        temp_lcl[key][1] = np.clip(lcl_temp_bolton(temp_surf[key][1], rh[key][1]*100), 0, temp_surf[key][1])\n",
    "        for i in range(n_climates):\n",
    "            temp_profile[key][i] = convection_neutral_profile(temp_surf[key][i], pressure_surface, temp_lcl[key][i], pressure_schematic)\n",
    "            pressure_lcl[key][i] = dry_profile_pressure(temp_surf[key][i], pressure_surface, temp_lcl[key][i])\n",
    "    \n",
    "    # Plot profiles\n",
    "    colors_day = {'cold': 'b', 'hot': 'r'}\n",
    "    linestyles_climate = ['-', '--']\n",
    "    if include_diff_plot:\n",
    "        fig, ax = plt.subplots(1,2, figsize=(2*width['one_col'], width['one_col']/ar), sharey=True)\n",
    "    else:\n",
    "        fig, ax = plt.subplots(1,1, figsize=(width['one_col'], width['one_col']/ar), sharey=True)\n",
    "        ax = [ax]\n",
    "    for i in range(n_climates):\n",
    "        for key in temp_surf:\n",
    "            ax[0].plot(temp_profile[key][i], pressure_schematic/100, color=colors_day[key], linestyle=linestyles_climate[i])\n",
    "            for j in range(len(ax)):\n",
    "                ax[j].axhline(pressure_lcl[key][i]/100, color=colors_day[key], linestyle=linestyles_climate[i], lw=ax_linewidth)\n",
    "        if include_diff_plot:\n",
    "            ax[1].plot(temp_profile['hot'][i]-temp_profile['cold'][i], pressure_schematic/100, linestyle=linestyles_climate[i], color='k')\n",
    "    for j in range(len(ax)):\n",
    "        ax[j].axhline(pressure_ft/100, color='k', lw=ax_linewidth)\n",
    "    ax[0].invert_yaxis()\n",
    "    ax[0].set_ylim(np.round(pressure_levels[-1]/100, -2), pressure_levels[0]/100)\n",
    "    ax[0].set_xlabel('Temperature [K]')\n",
    "    ax[0].set_ylabel('Pressure [hPa]')\n",
    "    if include_diff_plot:\n",
    "        ax[1].set_xlabel('Temperature Anomaly, $\\Delta T$ [K]')\n",
    "    return fig, ax"
   ],
   "execution_count": 38,
   "outputs": []
  },
  {
   "metadata": {},
   "cell_type": "markdown",
   "source": [
    "### Hot Get Hotter\n",
    "Between 900hPa and 750hPa, the two days follow a different lapse rate - this is the crucial effect, not the changing of the LCL."
   ]
  },
  {
   "metadata": {
    "ExecuteTime": {
     "end_time": "2024-05-10T11:54:50.436499Z",
     "start_time": "2024-05-10T11:54:50.357742Z"
    }
   },
   "cell_type": "code",
   "source": [
    "# Hot get hotter - red line has higher temperature in ref climate\n",
    "save_hot_hotter_fig = False\n",
    "show_cold_hotter = False\n",
    "temp_a_change_schematic = 30\n",
    "fontsize_annotate = 9\n",
    "# fig, ax = schematic_plot(temp_cold=280, sphum_cold=q_schematic, temp_adiabat_change_cold=temp_a_change_schematic, \n",
    "#                          temp_hot=290, include_diff_plot=False, rh_cold=None)\n",
    "\n",
    "if show_cold_hotter:\n",
    "# Cold get hotter\n",
    "    fig, ax = schematic_plot(temp_cold=270, rh_cold=0.4, temp_adiabat_change_cold=temp_a_change_schematic, \n",
    "                             temp_hot=280, include_diff_plot=False)\n",
    "    label_subplots(fig, ax, ['a)'], box_alpha=1)\n",
    "    ax[0].annotate(\"$\\Delta T_A$\", xy=(227, (pressure_ft-1000)/100), ha='center', va='bottom', bbox=dict(facecolor='1', edgecolor='none', pad=0.0, alpha=1),\n",
    "                   fontsize=fontsize_annotate)\n",
    "    ax[0].annotate(\"\", xy=(222, pressure_ft/100), \n",
    "                xytext=(234, pressure_ft/100),\n",
    "                arrowprops=dict(arrowstyle=\"<->\", ec='k', lw=0.5))\n",
    "    \n",
    "    ax[0].annotate(\"$\\Delta T_s$\", xy=(275, (pressure_surface-1000)/100), ha='center', va='bottom', bbox=dict(facecolor='1', edgecolor='none', pad=0.0, alpha=1),\n",
    "                   fontsize=fontsize_annotate)\n",
    "    ax[0].annotate(\"\", xy=(269, pressure_surface/100), \n",
    "                xytext=(281, pressure_surface/100),\n",
    "                arrowprops=dict(arrowstyle=\"<->\", ec='k', lw=0.5))\n",
    "    \n",
    "    ax[0].annotate(\"$p_{FT}$\", xy=(304, (pressure_ft-1000)/100), ha='center', va='bottom', bbox=dict(facecolor='1', edgecolor='none', pad=0.0, alpha=1),\n",
    "                   fontsize=fontsize_annotate)\n",
    "    ax[0].annotate(\"$p_{LCL}$\", xy=(304, 790), ha='center', va='bottom', bbox=dict(facecolor='1', edgecolor='none', pad=0.0, alpha=1),\n",
    "                   fontsize=fontsize_annotate)\n",
    "else:\n",
    "    # Hot get hotter\n",
    "    fig, ax = schematic_plot(temp_cold=300, rh_cold=0.4, temp_adiabat_change_cold=temp_a_change_schematic, \n",
    "                             temp_hot=310, include_diff_plot=False)\n",
    "\n",
    "if save_hot_hotter_fig or save_fig:\n",
    "    fig.savefig(f\"/Users/joshduffield/Desktop/schematic_{'cold' if show_cold_hotter else 'hot'}_hotter.pdf\",\n",
    "                dpi=dpi['combination'] if publish_fig else low_dpi, bbox_inches='tight', pad_inches=save_pad_inches)"
   ],
   "execution_count": 39,
   "outputs": []
  },
  {
   "metadata": {
    "ExecuteTime": {
     "end_time": "2024-05-10T10:35:13.049972Z",
     "start_time": "2024-05-10T10:35:12.882384Z"
    }
   },
   "cell_type": "code",
   "source": [
    "fig, ax = schematic_plot(temp_cold=280, rh_cold=1, temp_adiabat_change_cold=temp_a_change_schematic, \n",
    "                         temp_hot=290, include_diff_plot=True)"
   ],
   "execution_count": 6,
   "outputs": []
  },
  {
   "metadata": {},
   "cell_type": "markdown",
   "source": [
    "### Drier Get Hotter\n",
    "Below we see the amplified warming of dry days.\n",
    "\n",
    "In the theory, there are two contributions: one positive and one negative. In the schematic we can see these two effects:\n",
    "* Amplified warming of dry days: If drier, then LCL is at higher altitude so have region where dry days follow dry adiabat but moist days follow moist adiabat. It is this lapse rate differential than is crucial.\n",
    "* Suppressed warming of dry days: If drier, temperature in free troposphere is lower. So moist adiabatic lapse rate is closer to dry adiabatic lapse rate than it is for moist days. This means the lapse rate differential is smaller on dry days than it is on moist days."
   ]
  },
  {
   "metadata": {
    "ExecuteTime": {
     "end_time": "2024-05-10T11:21:33.185484Z",
     "start_time": "2024-05-10T11:21:33.077002Z"
    }
   },
   "cell_type": "code",
   "source": [
    "save_dry_hotter_fig = False\n",
    "# fig, ax = schematic_plot(temp_cold=280, sphum_cold=q_schematic * 0.5, temp_adiabat_change_cold=temp_a_change_schematic, \n",
    "#                          sphum_hot=q_schematic*1.1, include_diff_plot=False)        # dry get hotter\n",
    "# label_subplots(fig, ax, ['b)'], box_alpha=1)\n",
    "# fig, ax = schematic_plot(temp_cold=320, sphum_cold=q_schematic * 0.5, temp_adiabat_change_cold=temp_a_change_schematic, \n",
    "#                          sphum_hot=q_schematic*1.3, include_diff_plot=False)      # moist get hotter\n",
    "\n",
    "# fig, ax = schematic_plot(temp_cold=320, rh_cold=None, sphum_cold=sphum_sat(320, pressure_surface) * 0.8,\n",
    "#                          temp_adiabat_change_cold=temp_a_change_schematic, \n",
    "#                          sphum_hot=sphum_sat(320, pressure_surface) * 0.9, include_diff_plot=True)      # moist get hotter\n",
    "\n",
    "fig, ax = schematic_plot(temp_cold=280, rh_cold=0.2, rh_hot = 0.8,\n",
    "                         temp_adiabat_change_cold=temp_a_change_schematic, include_diff_plot=False)      # dry get hotter\n",
    "label_subplots(fig, ax, ['b)'], box_alpha=1)\n",
    "\n",
    " # moist get hotter not seen - I imagine because non-linear and squared terms are important in this case.\n",
    "# fig, ax = schematic_plot(temp_cold=320, rh_cold=0.9, rh_hot = 0.95,\n",
    "#                          temp_adiabat_change_cold=temp_a_change_schematic, include_diff_plot=True)     \n",
    "\n",
    "if save_dry_hotter_fig or save_fig:\n",
    "    fig.savefig(f\"/Users/joshduffield/Desktop/schematic_dry_hotter.pdf\",\n",
    "                dpi=dpi['combination'] if publish_fig else low_dpi, bbox_inches='tight', pad_inches=save_pad_inches)"
   ],
   "execution_count": 31,
   "outputs": []
  },
  {
   "metadata": {
    "ExecuteTime": {
     "end_time": "2024-05-10T10:35:13.241778Z",
     "start_time": "2024-05-10T10:35:13.127203Z"
    }
   },
   "cell_type": "code",
   "source": [
    "fig, ax = schematic_plot(temp_cold=290, rh_cold=0.95, rh_hot = 1,\n",
    "                         temp_adiabat_change_cold=temp_a_change_schematic, include_diff_plot=True)      # dry get hotter"
   ],
   "execution_count": 8,
   "outputs": []
  },
  {
   "metadata": {},
   "cell_type": "markdown",
   "source": [
    "### Changing RH anomaly\n",
    "Here, the changing of the LCL is the crucial effect, not the change of lapse rate with temperature."
   ]
  },
  {
   "metadata": {
    "ExecuteTime": {
     "end_time": "2024-05-10T11:34:15.596543Z",
     "start_time": "2024-05-10T11:34:15.503044Z"
    }
   },
   "cell_type": "code",
   "source": [
    "save_rh_change_fig = False\n",
    "fig, ax = schematic_plot(temp_cold=280, rh_cold=0.2, temp_adiabat_change_cold=temp_a_change_schematic, \n",
    "                         r_change_cold=0.4, include_diff_plot=False)\n",
    "label_subplots(fig, ax, ['c)'], box_alpha=1)\n",
    "\n",
    "if save_rh_change_fig or save_fig:\n",
    "    fig.savefig(f\"/Users/joshduffield/Desktop/schematic_rh_change.pdf\",\n",
    "                dpi=dpi['combination'] if publish_fig else low_dpi, bbox_inches='tight', pad_inches=save_pad_inches)"
   ],
   "execution_count": 34,
   "outputs": []
  },
  {
   "metadata": {},
   "cell_type": "markdown",
   "source": [
    "### Changing adiabatic temperature anomaly\n",
    "Here, it is obvious that if you warm one day more in the free troposphere than another, it will lead to more warming at the surface if nothing else is changed.\n",
    "\n",
    "The surface warming is suppressed compared to free troposphere though, this is because the moist adiabatic lapse rate is smaller for the day that is warmed more."
   ]
  },
  {
   "metadata": {
    "ExecuteTime": {
     "end_time": "2024-05-10T10:35:13.377756Z",
     "start_time": "2024-05-10T10:35:13.310752Z"
    }
   },
   "cell_type": "code",
   "source": [
    "# Temp adiabat change - red line has larger change to adiabatic temperature\n",
    "save_temp_a_change_fig = False\n",
    "fig, ax = schematic_plot(temp_cold=280, rh_cold=0.4, temp_adiabat_change_cold=temp_a_change_schematic, \n",
    "                         temp_adiabat_change_hot=temp_a_change_schematic+10, include_diff_plot=False)\n",
    "label_subplots(fig, ax, ['d)'], box_alpha=1)\n",
    "\n",
    "if save_temp_a_change_fig or save_fig:\n",
    "    fig.savefig(f\"/Users/joshduffield/Desktop/schematic_temp_a_change.pdf\",\n",
    "                dpi=dpi['combination'] if publish_fig else low_dpi, bbox_inches='tight', pad_inches=save_pad_inches)"
   ],
   "execution_count": 10,
   "outputs": []
  },
  {
   "metadata": {},
   "cell_type": "markdown",
   "source": [
    "### Lapse Rate Comparison\n",
    "The key to the schematics above is that there is a pressure interval where one day follows moist adiabat and one follows dry adiabat. Below I show that the gradient of the dry adiabat increases slightly with warming (becomes less steep in above figures) while the moist adiabatic lapse rate decreases (becomes more steep). It is this different lapse rate response to warming that is critical."
   ]
  },
  {
   "metadata": {
    "ExecuteTime": {
     "end_time": "2024-05-10T11:34:40.630669Z",
     "start_time": "2024-05-10T11:34:40.542073Z"
    }
   },
   "cell_type": "code",
   "source": [
    "save_lapse_fig = False\n",
    "lapse_plot_pressure = 600 * 100\n",
    "lapse_plot_temp = np.linspace(220, 320, 300)\n",
    "lapse_plot_z_coords = False\n",
    "\n",
    "fig, ax = plt.subplots(1,1, figsize=(width['one_col'], width['one_col']/ar), sharex=True, sharey=True)\n",
    "if lapse_plot_z_coords:\n",
    "    ax.plot(lapse_plot_temp, lapse_moist(lapse_plot_temp, lapse_plot_pressure) * 1000, color='k', label='Moist')\n",
    "    ax.axhline(lapse_dry * 1000, color='k', label='Dry', linestyle='--')\n",
    "    ax.set_ylabel('Lapse rate, $-dT/dz [K/km]$')\n",
    "else:\n",
    "    ax.plot(lapse_plot_temp, lapse_moist(lapse_plot_temp, lapse_plot_pressure, True) * 100, color='k', label='Moist')\n",
    "    ax.plot(lapse_plot_temp, lapse_dry * R * lapse_plot_temp / (lapse_plot_pressure * g) * 100, color='k', label='Dry', linestyle='--')\n",
    "    ax.set_ylabel('Lapse rate, $dT/dp$ [K/hPa]')\n",
    "ax.legend()\n",
    "ax.set_xlim(lapse_plot_temp[0], lapse_plot_temp[-1])\n",
    "ax.set_xlabel('Temperature [K]')\n",
    "\n",
    "# Cold get hotter - lapse rate decreases more for hot day than cold day\n",
    "temp_change_use = 15\n",
    "temp_day_diff_use = 10\n",
    "marker_use = ['.', '+']\n",
    "marker_size = 30\n",
    "for i, temp_cold_use in enumerate([237, 270]):\n",
    "    ax.scatter(temp_cold_use, lapse_moist(temp_cold_use, lapse_plot_pressure, True)*100, color='b', marker=marker_use[i],\n",
    "               s=marker_size, zorder=3)   # zorder brings markers to front\n",
    "    ax.scatter(temp_cold_use+temp_change_use, lapse_moist(temp_cold_use+temp_change_use, lapse_plot_pressure, True)*100, \n",
    "               color='b', marker=marker_use[i], s=marker_size, zorder=3)\n",
    "    ax.scatter(temp_cold_use+temp_day_diff_use, lapse_moist(temp_cold_use+temp_day_diff_use, lapse_plot_pressure, True)*100, color='r',\n",
    "               marker=marker_use[i], s=marker_size, zorder=3)\n",
    "    ax.scatter(temp_cold_use+temp_day_diff_use+temp_change_use, \n",
    "               lapse_moist(temp_cold_use+temp_day_diff_use+temp_change_use, lapse_plot_pressure, True)*100, \n",
    "               color='r', marker=marker_use[i], s=marker_size, zorder=3)\n",
    "\n",
    "if save_fig or save_lapse_fig:\n",
    "    fig.savefig(f\"/Users/joshduffield/Desktop/lapse_schematic.pdf\",\n",
    "                dpi=dpi['combination'] if publish_fig else low_dpi, bbox_inches='tight', pad_inches=save_pad_inches)"
   ],
   "execution_count": 37,
   "outputs": []
  },
  {
   "metadata": {},
   "cell_type": "markdown",
   "source": [
    "## Non-linear nature of $q^*$ Schematic\n",
    "Solid line shows $q^*(T)$, dotted line shows $q^*(T+\\epsilon)$ with $\\epsilon=15K$."
   ]
  },
  {
   "metadata": {
    "ExecuteTime": {
     "end_time": "2024-05-10T10:35:13.525767Z",
     "start_time": "2024-05-10T10:35:13.464560Z"
    }
   },
   "cell_type": "code",
   "source": [
    "schematic_q_temp_values = np.linspace(250, 330, 50)\n",
    "schematic_q_values = sphum_sat(schematic_q_temp_values, pressure_ft)             # use free troposphere pressure as illustrating temp adiabat\n",
    "schematic_q_epsilon = 15\n",
    "schematic_q_values_shift = sphum_sat(schematic_q_temp_values+schematic_q_epsilon, pressure_ft)\n",
    "\n",
    "save_schematic_q_sat_fig = False\n",
    "fig, ax = plt.subplots(1, 1, figsize=(width['one_col'], width['one_col'] / ar))\n",
    "ax.plot(schematic_q_temp_values, schematic_q_values, color='k', lw=2)\n",
    "ax.plot(schematic_q_temp_values, schematic_q_values_shift, color='k', linestyle=':', lw=2)\n",
    "ax.set_xlim(schematic_q_temp_values[0], schematic_q_temp_values[-1])\n",
    "ax.set_ylabel('$q^*$ [kg/kg]')\n",
    "ax.set_xlabel('$T$ [K]')\n",
    "ax.set_yticks([0, 0.05, 0.1, 0.15, 0.2])\n",
    "ax.set_xticks([250, 270, 290, 310, 330])\n",
    "ax.set_ylim(0, 0.2)\n",
    "schematic_arrow_info = {'cold': [280, 'blue'], 'mean': [290, 'green'], 'hot': [300, 'red']}\n",
    "for key in schematic_arrow_info:\n",
    "    schematic_day_ind = np.argmin(np.abs(schematic_q_temp_values-schematic_arrow_info[key][0]))\n",
    "    ax.annotate(\"\", xy=(schematic_q_temp_values[schematic_day_ind], schematic_q_values[schematic_day_ind]), \n",
    "                xytext=(schematic_q_temp_values[schematic_day_ind], schematic_q_values_shift[schematic_day_ind]),\n",
    "                arrowprops=dict(arrowstyle=\"<-\", ec=schematic_arrow_info[key][1], lw=1))\n",
    "\n",
    "if save_schematic_q_sat_fig or save_fig:\n",
    "    fig.savefig(f\"/Users/joshduffield/Desktop/schematic_q_sat.pdf\",\n",
    "                dpi=dpi['combination'] if publish_fig else low_dpi, bbox_inches='tight', pad_inches=save_pad_inches)"
   ],
   "execution_count": 12,
   "outputs": []
  },
  {
   "metadata": {},
   "cell_type": "markdown",
   "source": [
    "## Prefactor for each term\n",
    "Here I plot the prefactor for each term as a function of near-surface conditions. This indicates the sensitivity to that particular mechanism for different climates. \n",
    "\n",
    "In the plots below, red means a strong warming effect and blue means a strong cooling effect for a positive $\\delta$ or $\\Delta$ term."
   ]
  },
  {
   "metadata": {
    "ExecuteTime": {
     "end_time": "2024-05-10T10:35:13.816080Z",
     "start_time": "2024-05-10T10:35:13.526647Z"
    }
   },
   "cell_type": "code",
   "source": [
    "n_prefactor_temp = 81\n",
    "n_prefactor_rh = 101\n",
    "temp_plot_values = np.linspace(235, 315, n_prefactor_temp)\n",
    "rh_plot_values = np.linspace(0, 1, n_prefactor_rh)\n",
    "temp_plot_values_2d = np.repeat(temp_plot_values[:, np.newaxis], axis=1, repeats=n_prefactor_rh)\n",
    "# temp_plot_values = np.linspace(297.73, 297.732, n_prefactor_temp)\n",
    "# rh_plot_values = np.linspace(0.55, 0.67, n_prefactor_rh)\n",
    "# prefactor_plot_temp_adiabat = np.zeros((n_prefactor_temp, n_prefactor_rh))\n",
    "sphum_plot_values = np.zeros((n_prefactor_temp, n_prefactor_rh))\n",
    "gamma = {key: np.zeros((n_prefactor_temp, n_prefactor_rh)) for key in ['temp_s_r', 'temp_s_q', 'humidity', 'rh_change', 'temp_a_change']}\n",
    "beta_ratio = np.zeros((n_prefactor_temp, n_prefactor_rh))\n",
    "\n",
    "for i in range(n_prefactor_temp):\n",
    "    for j in range(n_prefactor_rh):\n",
    "        sphum_use = rh_plot_values[j] * sphum_sat(temp_plot_values[i], pressure_surface)\n",
    "        # prefactor_plot_temp_adiabat[i, j] = get_temp_adiabat(temp_plot_values[i], \n",
    "        #                                                      sphum_plot_values[i, j],\n",
    "        #                                                      pressure_surface, pressure_ft)\n",
    "        gamma['temp_s_r'][i, j], gamma['humidity'][i, j], gamma['rh_change'][i, j], gamma['temp_a_change'][i, j] = \\\n",
    "            get_gamma_factors(temp_plot_values[i], sphum_use, pressure_surface, pressure_ft)\n",
    "        gamma['temp_s_q'][i, j] = get_gamma_factors(temp_plot_values[i], sphum_use, pressure_surface, pressure_ft, True)[0]\n",
    "        # get ratio of beta_s1/(beta_s1+beta_a1) as gamma factors multiplied by this when used in extratropical z form of theory.\n",
    "        beta_s1_mean = get_theory_prefactor_terms(temp_plot_values[i], pressure_surface, pressure_ft, sphum_use)[3]\n",
    "        temp_adiabat = get_temp_adiabat(temp_plot_values[i], sphum_use, pressure_surface, pressure_ft)\n",
    "        beta_a1 = get_theory_prefactor_terms(temp_plot_values[i], pressure_surface, pressure_ft)[3]\n",
    "        beta_ratio[i, j] = beta_s1_mean/(beta_s1_mean+beta_a1)"
   ],
   "execution_count": 13,
   "outputs": []
  },
  {
   "metadata": {
    "ExecuteTime": {
     "end_time": "2024-05-10T10:35:13.817336Z",
     "start_time": "2024-05-10T10:35:13.817281Z"
    }
   },
   "cell_type": "code",
   "source": [
    "def gamma_plot(gamma_factor, temp_values=temp_plot_values, rh_values=rh_plot_values, ref_temp_value=275, ref_rh_value=0.5, \n",
    "               cbar_label='$\\gamma/|\\gamma_{ref}|$', norm=True):\n",
    "    # Plot a colormap indicating how sensitivty parameter varies with mean temperature and relative humidity of current climate.\n",
    "    ref_ind_temp = np.argmin(np.abs(temp_values-ref_temp_value))\n",
    "    ref_ind_rh = np.argmin(np.abs(rh_values-ref_rh_value))\n",
    "    \n",
    "    # Normalise prefactor by a reference value\n",
    "    if norm:\n",
    "        gamma_norm = gamma_factor / np.abs(gamma_factor[ref_ind_temp, ref_ind_rh])\n",
    "    else:\n",
    "        gamma_norm = gamma_factor\n",
    "    \n",
    "    fig, ax = plt.subplots(1, 1, figsize=(width['one_col'], width['one_col'] / ar))\n",
    "    im = ax.pcolormesh(rh_values*100, temp_values, gamma_norm, cmap='turbo', shading='gouraud')\n",
    "    cbar = fig.colorbar(im, ax=ax, label=cbar_label)\n",
    "    ax.set_xlim(rh_values[0]*100, rh_values[-1]*100)\n",
    "    ax.set_ylim(temp_values[0], temp_values[-1])\n",
    "    ax.set_xlabel('Relative humidity, $\\overline{r_s}$ [%]')\n",
    "    ax.set_ylabel('Temperature, $\\overline{T_s}$ [K]')\n",
    "    if gamma_norm.max() * gamma_norm.min() < 0:\n",
    "        # If sign of prefactor changes, then hatch the positive values\n",
    "        plt.rcParams['hatch.linewidth'] = 0.1\n",
    "        # ax.scatter(rh_values[np.where(prefactor_norm>0)[1]]*100, temp_values[np.where(prefactor_norm>0)[0]], marker='+', color='k', s=0.6)\n",
    "        # ax.fill_between(rh_plot_values*100, temp_values[np.argmin(np.abs(prefactor), axis=0)], \n",
    "        #                 np.full_like(rh_values, temp_values[-1]), color=\"none\",hatch=\"xx\",edgecolor=\"k\", lw=0.1)\n",
    "        # ax.scatter()\n",
    "        ax.contour(rh_values*100, temp_values, gamma_norm, [0], colors='k', linewidths=0.5)\n",
    "        # cbar.ax.fill_between([0, 1], [0, 0], [prefactor_norm.max(), prefactor_norm.max()], color=\"none\",hatch=\"xx\",edgecolor=\"k\", lw=0.1)\n",
    "        # cbar.ax.contour(rh_values*100, temp_values, prefactor_norm, [0], colors='k', linewidths=0.5)\n",
    "        cbar.ax.axhline(0, color='k', lw=0.5)\n",
    "    return fig, ax"
   ],
   "execution_count": null,
   "outputs": []
  },
  {
   "metadata": {},
   "cell_type": "code",
   "source": [
    "# Plot simulation values for each kappa\n",
    "temp_sim_trop_summer_mean_values = np.array([291.33965875, 294.55063238, 297.00180021, 301.42089629, \n",
    "                                             304.45573939, 306.79560786, 308.65814601, 310.30251747])\n",
    "rh_sim_trop_summer_mean_values = np.array([0.61858373, 0.62144154, 0.62784442, 0.64272708, 0.65531253, 0.66727618, 0.67744756, 0.68635731]) * 100\n",
    "\n",
    "temp_sim_trop_winter_mean_values = np.array([285.94924521, 289.59407875, 292.36411124, 297.26257061,\n",
    "                                             300.60884691, 303.21498673, 305.27064183, 307.14459597])\n",
    "rh_sim_trop_winter_mean_values = np.array([0.61593213, 0.62303681, 0.63496396, 0.66429798, 0.68528345,\n",
    "                                           0.70187875, 0.71370379, 0.72466047]) * 100    # done\n",
    "\n",
    "temp_sim_extrop_summer_mean_values = np.array([292.51546328, 295.99569731, 298.67885426, 303.1859222 , \n",
    "                                               306.17776398, 308.24069069, 309.97902923, 311.34886395])\n",
    "rh_sim_extrop_summer_mean_values = np.array([0.6856265 , 0.66904473, 0.65862026, 0.65246149, 0.65492535, \n",
    "                                             0.6626966 , 0.6674643 , 0.67197353]) * 100   # done\n",
    "\n",
    "temp_sim_extrop_winter_mean_values = np.array([237.31051576, 244.61846976, 250.35618013, 260.02567979,\n",
    "                                               267.17754475, 272.25164051, 276.42424502, 279.72619096])\n",
    "rh_sim_extrop_winter_mean_values = np.array([0.85721708, 0.80275693, 0.76997156, 0.73091624, 0.71309605, \n",
    "                                             0.7104835 , 0.71529052, 0.72063939]) * 100   # done"
   ],
   "execution_count": null,
   "outputs": []
  },
  {
   "metadata": {},
   "cell_type": "code",
   "source": [
    "humidity_use = 'r'\n",
    "\n",
    "save_gamma_temp_s_fig = False\n",
    "fig, ax = gamma_plot(gamma['temp_s_'+humidity_use])\n",
    "ax.scatter(rh_sim_trop_summer_mean_values, temp_sim_trop_summer_mean_values, color='w', marker='+', s=20)\n",
    "ax.scatter(rh_sim_trop_winter_mean_values, temp_sim_trop_winter_mean_values, color='w', marker='.', s=10)\n",
    "ax.scatter(rh_sim_extrop_summer_mean_values, temp_sim_extrop_summer_mean_values, color='grey', marker='+', s=20)\n",
    "ax.scatter(rh_sim_extrop_winter_mean_values, temp_sim_extrop_winter_mean_values, color='grey', marker='.', s=10)\n",
    "label_subplots(fig, [ax], ['a)'], box_alpha=0, fontcolor='k')\n",
    "\n",
    "if save_gamma_temp_s_fig or save_fig:\n",
    "    fig.savefig(f\"/Users/joshduffield/Desktop/gamma_temp_s_{humidity_use}.pdf\",\n",
    "                dpi=dpi['combination'] if publish_fig else low_dpi, bbox_inches='tight', pad_inches=save_pad_inches)"
   ],
   "execution_count": null,
   "outputs": []
  },
  {
   "metadata": {},
   "cell_type": "code",
   "source": [
    "save_gamma_humidity_fig = False\n",
    "fig, ax = gamma_plot(gamma['humidity'])\n",
    "ax.scatter(rh_sim_trop_summer_mean_values, temp_sim_trop_summer_mean_values, color='w', marker='+', s=20)\n",
    "ax.scatter(rh_sim_trop_summer_mean_values, temp_sim_trop_winter_mean_values, color='w', marker='.', s=10)\n",
    "ax.scatter(rh_sim_extrop_summer_mean_values, temp_sim_extrop_summer_mean_values, color='grey', marker='+', s=20)\n",
    "ax.scatter(rh_sim_extrop_winter_mean_values, temp_sim_extrop_winter_mean_values, color='grey', marker='.', s=10)\n",
    "label_subplots(fig, [ax], ['b)'], box_alpha=0, fontcolor='k')\n",
    "\n",
    "if save_gamma_humidity_fig or save_fig:\n",
    "    fig.savefig(f\"/Users/joshduffield/Desktop/gamma_humidity_{humidity_use}.pdf\",\n",
    "                dpi=dpi['combination'] if publish_fig else low_dpi, bbox_inches='tight', pad_inches=save_pad_inches)"
   ],
   "execution_count": null,
   "outputs": []
  },
  {
   "metadata": {},
   "cell_type": "code",
   "source": [
    "save_gamma_rh_change_fig = False\n",
    "fig, ax = gamma_plot(gamma['rh_change'])\n",
    "ax.scatter(rh_sim_trop_summer_mean_values, temp_sim_trop_summer_mean_values, color='w', marker='+', s=20)\n",
    "ax.scatter(rh_sim_trop_summer_mean_values, temp_sim_trop_winter_mean_values, color='w', marker='.', s=10)\n",
    "ax.scatter(rh_sim_extrop_summer_mean_values, temp_sim_extrop_summer_mean_values, color='grey', marker='+', s=20)\n",
    "ax.scatter(rh_sim_extrop_winter_mean_values, temp_sim_extrop_winter_mean_values, color='grey', marker='.', s=10)\n",
    "label_subplots(fig, [ax], ['c)'], box_alpha=0, fontcolor='k')\n",
    "\n",
    "if save_gamma_rh_change_fig or save_fig:\n",
    "    fig.savefig(f\"/Users/joshduffield/Desktop/gamma_rh_change.pdf\",\n",
    "                dpi=dpi['combination'] if publish_fig else low_dpi, bbox_inches='tight', pad_inches=save_pad_inches)"
   ],
   "execution_count": null,
   "outputs": []
  },
  {
   "metadata": {},
   "cell_type": "code",
   "source": [
    "save_gamma_temp_a_change_fig = False\n",
    "fig, ax = gamma_plot(gamma['temp_a_change'])\n",
    "ax.scatter(rh_sim_trop_summer_mean_values, temp_sim_trop_summer_mean_values, color='w', marker='+', s=20)\n",
    "ax.scatter(rh_sim_trop_summer_mean_values, temp_sim_trop_winter_mean_values, color='w', marker='.', s=10)\n",
    "ax.scatter(rh_sim_extrop_summer_mean_values, temp_sim_extrop_summer_mean_values, color='grey', marker='+', s=20)\n",
    "ax.scatter(rh_sim_extrop_winter_mean_values, temp_sim_extrop_winter_mean_values, color='grey', marker='.', s=10)\n",
    "label_subplots(fig, [ax], ['d)'], box_alpha=0, fontcolor='k')\n",
    "\n",
    "if save_gamma_temp_a_change_fig or save_fig:\n",
    "    fig.savefig(f\"/Users/joshduffield/Desktop/gamma_temp_a_change.pdf\",\n",
    "                dpi=dpi['combination'] if publish_fig else low_dpi, bbox_inches='tight', pad_inches=save_pad_inches)"
   ],
   "execution_count": null,
   "outputs": []
  },
  {
   "metadata": {},
   "cell_type": "code",
   "source": [
    "# Gamma factors are multiplied by this when using z form of theory\n",
    "save_beta_ratio_fig = False\n",
    "fig, ax = gamma_plot(beta_ratio, norm=False, cbar_label='$\\overline{\\\\beta_{s1}}/(\\overline{\\\\beta_{s1}} + \\\\beta_{A1})$')\n",
    "ax.scatter(rh_sim_trop_summer_mean_values, temp_sim_trop_summer_mean_values, color='w', marker='+', s=20)\n",
    "ax.scatter(rh_sim_trop_summer_mean_values, temp_sim_trop_winter_mean_values, color='w', marker='.', s=10)\n",
    "ax.scatter(rh_sim_extrop_summer_mean_values, temp_sim_extrop_summer_mean_values, color='grey', marker='+', s=20)\n",
    "ax.scatter(rh_sim_extrop_winter_mean_values, temp_sim_extrop_winter_mean_values, color='grey', marker='.', s=10)\n",
    "\n",
    "if save_beta_ratio_fig or save_fig:\n",
    "    fig.savefig(f\"/Users/joshduffield/Desktop/beta_ratio.pdf\",\n",
    "                dpi=dpi['combination'] if publish_fig else low_dpi, bbox_inches='tight', pad_inches=save_pad_inches)"
   ],
   "execution_count": null,
   "outputs": []
  },
  {
   "metadata": {},
   "cell_type": "markdown",
   "source": [
    "## Contribution to scale factor - variation with current climate\n",
    "For a fairly typical case with $\\kappa=1$ to $\\kappa=1.5$ for $x=99$ in tropical summer, how does the scale factor $\\delta T_s(x)/\\delta \\overline{T_s}$ change with the mean conditions of the current climate i.e. $\\overline{T_s}$ and $\\overline{r_s}$?\n",
    "\n",
    "Secondly how does the fractional contribution of each mechanism vary?"
   ]
  },
  {
   "metadata": {},
   "cell_type": "code",
   "source": [
    "# kappa=1 to 1.5 values for tropical summer, x=99\n",
    "temp_s_anom_use = 3.032476607127886\n",
    "temp_s_mean_use = 297.0018002088079\n",
    "rh_anom_use = -0.02989558253938038\n",
    "rh_mean_use = 0.6278444162988804\n",
    "rh_anom_change_use = -0.008537580800209237\n",
    "temp_a_anom_change_use = -0.6912736802929262\n",
    "temp_mean_change_use = 4.419096084885098\n",
    "\n",
    "sf_cont_temp_s = gamma['temp_s_r'] * temp_s_anom_use/temp_s_mean_use\n",
    "sf_cont_humidity = gamma['humidity'] * rh_anom_use/rh_mean_use\n",
    "sf_cont_rh_change = gamma['rh_change'] * rh_anom_change_use/rh_mean_use/temp_mean_change_use\n",
    "sf_cont_temp_a_change = gamma['temp_a_change'] * temp_a_anom_change_use/temp_mean_change_use"
   ],
   "execution_count": null,
   "outputs": []
  },
  {
   "metadata": {},
   "cell_type": "code",
   "source": [
    "save_scale_factor_fig = False\n",
    "fig, ax = plt.subplots(1, 1, figsize=(width['one_col'], width['one_col'] / ar))\n",
    "im = ax.pcolormesh(rh_plot_values*100, temp_plot_values, 1+sf_cont_temp_s + sf_cont_humidity + sf_cont_rh_change + sf_cont_temp_a_change, \n",
    "                    cmap='turbo', vmax=1, vmin=0.8, shading='gouraud')\n",
    "cbar = plt.colorbar(im, label='Scaling factor, $\\delta T_s(x)/\\delta \\overline{T_s}$')\n",
    "cbar.ax.set_yticks([0.8, 0.85, 0.9, 0.95, 1])\n",
    "ax.scatter(rh_mean_use*100, temp_s_mean_use, color='w', marker='+', s=20)\n",
    "ax.set_xlabel('Relative humidity, $\\overline{r_s}$ [%]')\n",
    "ax.set_ylabel('Temperature, $\\overline{T_s}$ [K]')\n",
    "if save_scale_factor_fig:\n",
    "    fig.savefig(f\"/Users/joshduffield/Desktop/scale_factor_mean_climate.pdf\",\n",
    "                dpi=dpi['combination'] if publish_fig else low_dpi, bbox_inches='tight', pad_inches=save_pad_inches)"
   ],
   "execution_count": null,
   "outputs": []
  },
  {
   "metadata": {},
   "cell_type": "code",
   "source": [
    "var = [sf_cont_temp_s, sf_cont_humidity, sf_cont_rh_change, sf_cont_temp_a_change]\n",
    "abs_sum = np.sum(np.asarray([np.abs(var_i) for var_i in var]), axis=0)\n",
    "var_i = 0\n",
    "\n",
    "save_scale_factor_cont_fig = False\n",
    "fig, ax = plt.subplots(1, 1, figsize=(width['one_col'], width['one_col'] / ar))\n",
    "im = ax.pcolormesh(rh_plot_values*100, temp_plot_values, 100*np.abs(var[var_i])/abs_sum, \n",
    "                    cmap='turbo', vmin=0, vmax=100, shading='gouraud')\n",
    "if var_i <= 1:\n",
    "    ax.contour(rh_plot_values*100, temp_plot_values, var[var_i], [0], colors='w', linewidths=0.5)\n",
    "label_subplots(fig, [ax], [chr(97+var_i)+')'], box_alpha=0, fontcolor='w')\n",
    "cbar = plt.colorbar(im, label='Scaling factor contribution [%]')\n",
    "# cbar.ax.set_yticks([0.8, 0.85, 0.9, 0.95, 1])\n",
    "ax.scatter(rh_mean_use*100, temp_s_mean_use, color='w', marker='+', s=20)\n",
    "ax.set_xlabel('Relative humidity, $\\overline{r_s}$ [%]')\n",
    "ax.set_ylabel('Temperature, $\\overline{T_s}$ [K]')\n",
    "if save_scale_factor_cont_fig:\n",
    "    fig.savefig(f\"/Users/joshduffield/Desktop/scale_factor_mean_climate_cont{var_i}.pdf\",\n",
    "                dpi=dpi['combination'] if publish_fig else low_dpi, bbox_inches='tight', pad_inches=save_pad_inches)"
   ],
   "execution_count": null,
   "outputs": []
  },
  {
   "metadata": {},
   "cell_type": "code",
   "source": "",
   "execution_count": null,
   "outputs": []
  }
 ],
 "metadata": {
  "kernelspec": {
   "display_name": "Python 3",
   "language": "python",
   "name": "python3"
  },
  "language_info": {
   "codemirror_mode": {
    "name": "ipython",
    "version": 2
   },
   "file_extension": ".py",
   "mimetype": "text/x-python",
   "name": "python",
   "nbconvert_exporter": "python",
   "pygments_lexer": "ipython2",
   "version": "2.7.6"
  }
 },
 "nbformat": 4,
 "nbformat_minor": 0
}
