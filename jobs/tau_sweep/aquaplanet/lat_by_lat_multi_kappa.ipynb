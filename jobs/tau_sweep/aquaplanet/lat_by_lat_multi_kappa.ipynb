{
 "cells": [
  {
   "cell_type": "markdown",
   "source": [
    "# Latitude by Latitude Quantile Plots\n",
    "This notebook produces plots to illustrate how the high quantiles for near surface air temperature vary with longwave optical depth ($CO_2$ concentration proxy) on an aquaplanet.\n",
    "\n",
    "It combines all simulations run in each plot.\n",
    "\n",
    "It is similar to `quantile_notebook2_summer.ipynb` except that it combines variables and theories for each latitude independently before area averaging them in the final plots."
   ],
   "metadata": {
    "collapsed": false
   }
  },
  {
   "cell_type": "code",
   "execution_count": 1,
   "outputs": [
    {
     "name": "stderr",
     "output_type": "stream",
     "text": [
      "2023-05-10 14:28:33,060 - isca - WARNING - Environment variable GFDL_SOC not set, but this is only required if using SocratesCodebase. Setting to None\n"
     ]
    }
   ],
   "source": [
    "import sys\n",
    "import os\n",
    "# REMOTE - So can access functions in isca_tools which is in home/Isca directory\n",
    "# sys.path.append(os.path.join(os.environ['HOME'], 'Isca'))\n",
    "# LOCAL - So can access functions in isca_tools which is in StAndrews/Isca\n",
    "sys.path.append(os.environ['PWD'])\n",
    "import isca_tools\n",
    "from isca_tools.utils.moist_physics import clausius_clapeyron_factor, sphum_sat\n",
    "from isca_tools.utils.constants import L_v, c_p\n",
    "from isca_tools.utils import area_weight_mean_lat, area_weighting\n",
    "from isca_tools.thesis.aquaplanet_theory import get_delta_temp_quant_theory\n",
    "import numpy as np\n",
    "import matplotlib.pyplot as plt\n",
    "import xarray as xr\n",
    "import scipy.optimize\n",
    "from tqdm import tqdm\n",
    "import os\n",
    "import numpy_indexed"
   ],
   "metadata": {
    "collapsed": false,
    "ExecuteTime": {
     "end_time": "2023-05-10T13:28:34.116361Z",
     "start_time": "2023-05-10T13:28:33.057174Z"
    }
   }
  },
  {
   "cell_type": "code",
   "execution_count": null,
   "outputs": [
    {
     "name": "stderr",
     "output_type": "stream",
     "text": [
      " 50%|█████     | 4/8 [00:05<00:05,  1.40s/it]"
     ]
    }
   ],
   "source": [
    "# Load dataset\n",
    "var_keep = ['temp', 'sphum']\n",
    "exp_dir = 'tau_sweep/aquaplanet/'\n",
    "exp_names = [dir for dir in os.listdir(os.path.join(os.environ['GFDL_DATA'],exp_dir)) if dir[0]=='k']\n",
    "exp_names.sort()\n",
    "n_exp = len(exp_names)\n",
    "ds = []\n",
    "albedo = []\n",
    "tau_sw = []\n",
    "tau_lw = []\n",
    "for i in tqdm(range(n_exp)):\n",
    "    ds_use = isca_tools.load_dataset(exp_dir + exp_names[i])[var_keep]\n",
    "    ds += [ds_use.sel(pfull=np.inf, method='nearest')]      # only keep the surface values - get rid of pfull coordinate\n",
    "    namelist = isca_tools.load_namelist(exp_dir + exp_names[i])  # Need this for albedo_value\n",
    "    albedo += [namelist['mixed_layer_nml']['albedo_value']]\n",
    "    tau_sw += [namelist['two_stream_gray_rad_nml']['atm_abs']]\n",
    "    tau_lw += [namelist['two_stream_gray_rad_nml']['odp']]\n",
    "tau_lw = np.asarray(tau_lw)\n",
    "p_surface = float(ds[0].pfull) * 100"
   ],
   "metadata": {
    "collapsed": false,
    "is_executing": true,
    "ExecuteTime": {
     "start_time": "2023-05-10T13:28:34.119077Z"
    }
   }
  },
  {
   "cell_type": "markdown",
   "source": [
    "## Near Surface Temperature Quantile\n",
    "Plot quantile of near surface air temperature vs global average near surface air temperature for a given latitude band.\n",
    "\n",
    "Near surface air temperature is the temperature at the lowest pressure level.\n",
    "\n",
    "Here, we compute the quantile at each latitude coordinate across all longitudes and time and then average over these.\n",
    "\n",
    "We average over all times after 2 years because, from the spin up plot above, after 2 years, the simulation has converged into a regular pattern, with a net TOA flux centered on 0."
   ],
   "metadata": {
    "collapsed": false
   }
  },
  {
   "cell_type": "code",
   "execution_count": null,
   "outputs": [],
   "source": [
    "# Compute Global Average Surface Temperature and get near surface temperature data\n",
    "# Use all data after 2 years, as clearly converged from the above spin up plot\n",
    "use_time_start = 360*2\n",
    "\n",
    "# Chose whether to only consider summer days or consider all days\n",
    "season = 'summer'\n",
    "# season = 'all'\n",
    "\n",
    "# Tropics\n",
    "region = 'tropics'\n",
    "lat_min = 0\n",
    "lat_max = 20\n",
    "# Extratropics\n",
    "# region = 'extratropics'\n",
    "# lat_min = 40\n",
    "# lat_max = 65\n",
    "# Poles\n",
    "# region = 'High Latitudes'\n",
    "# lat_min = 70\n",
    "# lat_max = 90\n",
    "# region = 'Global'\n",
    "# lat_min = 0\n",
    "# lat_max = 90\n",
    "\n",
    "ds_all = []\n",
    "with tqdm(total=n_exp, position=0, leave=True) as pbar:\n",
    "    for i in range(n_exp):\n",
    "        ds_use = ds[i].sel(time=slice(use_time_start, np.inf))\n",
    "        ds_use = ds_use.where((np.abs(ds_use.lat) <= lat_max) & (np.abs(ds_use.lat) >= lat_min), drop=True)\n",
    "\n",
    "        if season == 'summer':\n",
    "            # Only consider summer as has expected circulation\n",
    "            ds_nh_summer = isca_tools.utils.annual_time_slice(ds_use, [7, 8, 9]).sel(lat=slice(lat_min, lat_max))       # NH summer is JAS\n",
    "            ds_sh_summer = isca_tools.utils.annual_time_slice(ds_use, [1, 2, 3]).sel(lat=slice(-lat_max, -lat_min))     # SH summer is JFM\n",
    "            # Combine hemispheres and average over longitude, time and latitude.\n",
    "            # Note that April, May, June, October, November and December will not be included in this dataset\n",
    "            ds_use = xr.concat([ds_sh_summer, ds_nh_summer], dim='lat')\n",
    "        ds_use = ds_use.stack(lon_time=(\"lon\",\"time\"), create_index=False).chunk(dict(lon_time=-1))\n",
    "        ds_all += [ds_use.load()]\n",
    "        pbar.update(1)"
   ],
   "metadata": {
    "collapsed": false,
    "is_executing": true
   }
  },
  {
   "cell_type": "code",
   "execution_count": null,
   "outputs": [],
   "source": [
    "quantiles_all = np.arange(1, 100)\n",
    "median_quant_ind = np.where(quantiles_all==50)[0][0]\n",
    "n_quant_all = len(quantiles_all)\n",
    "n_lat = len(ds_all[0].lat)\n",
    "# two different types of temperature quantiles, p is actual percentile. x is averaged over given percentile.\n",
    "temp_quant_p = np.zeros((n_exp, n_lat, n_quant_all))\n",
    "sphum_quant_p = np.zeros((n_exp, n_lat, n_quant_all))\n",
    "temp_mean = np.zeros((n_exp, n_lat))\n",
    "sphum_mean = np.zeros((n_exp, n_lat))\n",
    "temp_median = np.zeros((n_exp, n_lat))\n",
    "with tqdm(total=n_exp, position=0, leave=True) as pbar:\n",
    "    for i in range(n_exp):\n",
    "        temp_mean[i] = ds_all[i].temp.mean(dim='lon_time')\n",
    "        sphum_mean[i] = ds_all[i].sphum.mean(dim='lon_time')\n",
    "        temp_median[i] = ds_all[i].temp.median(dim='lon_time')\n",
    "        temp_quant_p[i] = ds_all[i].temp.quantile(quantiles_all/100, dim='lon_time').transpose()\n",
    "        sphum_quant_p[i] = ds_all[i].sphum.quantile(quantiles_all/100, dim='lon_time').transpose()\n",
    "        pbar.update(1)"
   ],
   "metadata": {
    "collapsed": false,
    "is_executing": true
   }
  },
  {
   "cell_type": "code",
   "execution_count": null,
   "outputs": [],
   "source": [
    "# For given quantiles, plot quantile vs average temp for each latitude.\n",
    "# Then fit best line to this to get simulated gradient, combining all kappa values\n",
    "quant_plot = [90, 95, 99]\n",
    "quant_plot_ind = numpy_indexed.indices(quantiles_all, quant_plot)\n",
    "n_quant_plot = len(quant_plot)\n",
    "lat_weights = np.cos(np.deg2rad(ds_all[0].lat))     # latitude area weighting is just the cosine\n",
    "\n",
    "def get_gradient(temp_quant, temp_av, ref_ind):\n",
    "    \"\"\"\n",
    "    Gets gradient of temperature of given quantile vs average temperature\n",
    "\n",
    "    Args:\n",
    "        temp_quant: [n_exp]\n",
    "        temp_av: [n_exp]\n",
    "        ref_ind: int\n",
    "\n",
    "    Returns:\n",
    "        int\n",
    "            Gradient\n",
    "        [n_exp]\n",
    "            Predicted temperature for each experiment\n",
    "    \"\"\"\n",
    "    fit_func = lambda x, m: temp_quant[ref_ind] + m*(x-temp_av[ref_ind])     # Straight line through the ref point\n",
    "    param = scipy.optimize.curve_fit(fit_func,temp_av, temp_quant)[0]\n",
    "    return param, fit_func(temp_av, param)\n",
    "\n",
    "tau_lw_ref = 1\n",
    "tau_ref_ind = np.where(np.asarray(tau_lw)==tau_lw_ref)[0][0]\n",
    "temp_quant_grad = np.zeros((n_lat, n_quant_plot))\n",
    "temp_quant_grad_fit = np.zeros((n_exp, n_lat, n_quant_plot))\n",
    "for i in range(n_lat):\n",
    "    for j in range(n_quant_plot):\n",
    "        temp_quant_grad[i, j], temp_quant_grad_fit[:, i, j] = get_gradient(temp_quant_p[:, i, quant_plot_ind[j]],\n",
    "                                                                           temp_mean[:, i], tau_ref_ind)"
   ],
   "metadata": {
    "collapsed": false,
    "is_executing": true
   }
  },
  {
   "cell_type": "markdown",
   "source": [
    "## Figure 4 of O'Gorman & Schneider 2009\n",
    "### Tropics\n",
    "In the plot below, all the gradients are below 1, indicating that the hottest days warm less quickly than the average day. If we look at the largest $\\kappa$ values, it is also clear that the gradient here is a lot larger than the gradient at lower $\\kappa$ and thus causes the gradients to be larger than maybe they appear by eye."
   ],
   "metadata": {
    "collapsed": false
   }
  },
  {
   "cell_type": "code",
   "execution_count": null,
   "outputs": [],
   "source": [
    "save_fig = False\n",
    "# if publishing figure, use high dpi\n",
    "publish_fig = True\n",
    "high_dpi = 350\n",
    "low_dpi = 100"
   ],
   "metadata": {
    "collapsed": false,
    "is_executing": true
   }
  },
  {
   "cell_type": "code",
   "execution_count": null,
   "outputs": [],
   "source": [
    "trend_line_on = False\n",
    "save_trend_fig = False\n",
    "\n",
    "tau_lw_ref = 1\n",
    "tau_ref_ind = np.where(np.asarray(tau_lw)==tau_lw_ref)[0][0]\n",
    "\n",
    "temp_mean_weight = np.average(temp_mean, axis=1, weights=lat_weights)\n",
    "temp_quant_weight = np.average(temp_quant_p, axis=1, weights=lat_weights)\n",
    "\n",
    "fig, ax = plt.subplots(1,1, figsize=(14, 5))\n",
    "ax.spines[['right', 'top']].set_visible(False)\n",
    "for j in range(n_quant_plot):\n",
    "    ax.plot(temp_mean_weight,\n",
    "            temp_quant_weight[:, quant_plot_ind[j]],\n",
    "            marker='o',\n",
    "            label='{}$^{}$ ({:.2f} K/K)'.format(quant_plot[j],'{th}', np.average(temp_quant_grad[:, j], weights=lat_weights)),\n",
    "            color='k', fillstyle='none')\n",
    "    if trend_line_on:\n",
    "        # Filled circle for reference simulation\n",
    "        ax.plot(temp_mean_weight[tau_ref_ind],\n",
    "                temp_quant_weight[tau_ref_ind, quant_plot_ind[j]],\n",
    "                marker='o', color='k', fillstyle='full')\n",
    "        if j==n_quant_plot-1:\n",
    "            label = 'Linear Increase'\n",
    "        else:\n",
    "            label = None\n",
    "        ax.plot(temp_mean_weight,\n",
    "                np.average(temp_quant_grad_fit[:, :, j], axis=1, weights=lat_weights),\n",
    "                linestyle=':', color='k', alpha=0.3, label=label)\n",
    "xlim = ax.get_xlim()\n",
    "ylim = ax.get_ylim()\n",
    "ax.plot([ax.get_ylim()[0], ax.get_xlim()[1]], [ax.get_ylim()[0], ax.get_xlim()[1]], 'r:', alpha=0.75, zorder=0,label='y=x')\n",
    "ax.set_ylim(ylim)\n",
    "ax.set_xlim(xlim)\n",
    "if trend_line_on:\n",
    "    ax.legend(title='Percentile - Gradient', frameon=False)\n",
    "if season == 'summer':\n",
    "    ax.set_xlabel(f'Mean Summer Temperature (${lat_max}>|\\phi| \\geq {lat_min}$) / K')\n",
    "    ax.set_ylabel(f'Percentile Summer Temperature (${lat_max}>|\\phi| \\geq {lat_min}$) / K')\n",
    "else:\n",
    "    ax.set_xlabel(f'Mean Temperature (${lat_max}>|\\phi| \\geq {lat_min}$) / K')\n",
    "    ax.set_ylabel(f'Percentile Temperature (${lat_max}>|\\phi| \\geq {lat_min}$) / K')\n",
    "plt.tight_layout()\n",
    "if save_fig or save_trend_fig:\n",
    "    if trend_line_on:\n",
    "        file_name = f\"{region.lower()}_trend\"\n",
    "    else:\n",
    "        file_name = f\"{region.lower()}_no_trend\"\n",
    "    fig.savefig(f\"/Users/joshduffield/Desktop/{file_name}\",dpi=high_dpi if publish_fig else low_dpi)"
   ],
   "metadata": {
    "collapsed": false,
    "is_executing": true
   }
  },
  {
   "cell_type": "markdown",
   "source": [
    "## Theory for predicting next temperature based on the previous $\\kappa$\n",
    "This adds the theory prediction of temperature percentile to the above plot. The theory can predict the temperature at the next kappa value based on the previous optical depth value."
   ],
   "metadata": {
    "collapsed": false
   }
  },
  {
   "cell_type": "code",
   "execution_count": null,
   "outputs": [],
   "source": [
    "# get theory predictions for all quantiles\n",
    "delta_temp_quant = np.diff(temp_quant_p, axis=0)\n",
    "delta_temp_median = np.diff(temp_median, axis=0)\n",
    "\n",
    "delta_temp_quant_theory = np.zeros((n_exp-1, n_lat, n_quant_all))\n",
    "delta_temp_quant_theory_const_rh = np.zeros((n_exp-1, n_lat, n_quant_all))\n",
    "# theory1 adds theoretical delta_temp to simulated value of previous kappa\n",
    "temp_quant_theory = temp_quant_p.copy()\n",
    "temp_quant_theory_const_rh = temp_quant_p.copy()\n",
    "# theory2 adds the same theoretical delta_temp to theory prediction of previous kappa so errors accumulate\n",
    "temp_quant_theory2 = temp_quant_p.copy()\n",
    "temp_quant_theory2_const_rh = temp_quant_p.copy()\n",
    "for i in range(n_lat):\n",
    "    delta_temp_quant_theory[:, i, :] = get_delta_temp_quant_theory(temp_mean[:, i], sphum_mean[:, i], temp_quant_p[:, i],\n",
    "                                                                   sphum_quant_p[:, i], p_surface)\n",
    "    delta_temp_quant_theory_const_rh[:, i, :] = get_delta_temp_quant_theory(temp_mean[:, i], sphum_mean[:, i], temp_quant_p[:, i],\n",
    "                                                                            sphum_quant_p[:, i], p_surface, True)\n",
    "    temp_quant_theory[1:] = temp_quant_p[:-1] + delta_temp_quant_theory\n",
    "    temp_quant_theory_const_rh[1:] = temp_quant_p[:-1] + delta_temp_quant_theory_const_rh\n",
    "for j in range(n_exp-1):\n",
    "    temp_quant_theory2[1+j] = temp_quant_theory2[j] + delta_temp_quant_theory[j]\n",
    "    temp_quant_theory2_const_rh[1+j] = temp_quant_theory2_const_rh[j] + delta_temp_quant_theory_const_rh[j]\n"
   ],
   "metadata": {
    "collapsed": false,
    "is_executing": true
   }
  },
  {
   "cell_type": "code",
   "execution_count": null,
   "outputs": [],
   "source": [
    "const_rh = False   # which version of theory to plot\n",
    "save_trend_theory_fig = False\n",
    "if const_rh:\n",
    "    theory_use = temp_quant_theory_const_rh\n",
    "    delta_theory_use = delta_temp_quant_theory_const_rh\n",
    "else:\n",
    "    theory_use = temp_quant_theory\n",
    "    delta_theory_use = delta_temp_quant_theory\n",
    "\n",
    "fig, ax = plt.subplots(2,1, figsize=(14, 7), sharex=True, gridspec_kw={'height_ratios': [2.6, 1]})\n",
    "ax[0].spines[['right', 'top']].set_visible(False)\n",
    "ax[1].spines[['right', 'top']].set_visible(False)\n",
    "for j in range(n_quant_plot):\n",
    "    ax[0].plot(temp_mean_weight, temp_quant_weight[:, quant_plot_ind[j]],\n",
    "               marker='o', color='k', fillstyle='none', alpha=0.2)\n",
    "    ax[0].scatter(temp_mean_weight[1:],\n",
    "                  np.average(theory_use[:, :, quant_plot_ind[j]], axis=1, weights=lat_weights)[1:], alpha=0.5)\n",
    "    ax[1].plot(temp_mean_weight[1:],\n",
    "               temp_quant_weight[1:, quant_plot_ind[j]]-\n",
    "               np.average(theory_use[:, :, quant_plot_ind[j]], axis=1, weights=lat_weights)[1:], label=quant_plot[j], alpha=0.8)\n",
    "ax[0].legend(['Simulated', 'Theory'], loc='upper left', frameon=False)\n",
    "ax[1].legend(title='Percentile', loc='upper left', frameon=False)\n",
    "xlim = ax[0].get_xlim()\n",
    "ylim = ax[0].get_ylim()\n",
    "ax[1].hlines(0, xlim[0], xlim[1], color='k', alpha=0.5, linewidth=0.5)\n",
    "ax[0].plot([ax[0].get_ylim()[0], ax[0].get_xlim()[1]], [ax[0].get_ylim()[0], ax[0].get_xlim()[1]], 'r:', alpha=0.75, zorder=0,label='y=x')\n",
    "ax[0].set_ylim(ylim)\n",
    "ax[0].set_xlim(xlim)\n",
    "if season == 'summer':\n",
    "    ax[-1].set_xlabel(f'Mean Summer Temperature (${lat_max}>|\\phi| \\geq {lat_min}$) / K')\n",
    "    ax[0].set_ylabel(f'Percentile Summer Temperature (${lat_max}>|\\phi| \\geq {lat_min}$) / K')\n",
    "else:\n",
    "    ax[-1].set_xlabel(f'Mean Temperature (${lat_max}>|\\phi| \\geq {lat_min}$) / K')\n",
    "    ax[0].set_ylabel(f'Percentile Temperature (${lat_max}>|\\phi| \\geq {lat_min}$) / K')\n",
    "ax[1].set_ylabel('Simulated - Theory / K')\n",
    "plt.tight_layout()\n",
    "if save_fig or save_trend_theory_fig:\n",
    "    file_name = f'{region.lower()}_theory_const_rh' if const_rh else f'{region.lower()}_theory'\n",
    "    fig.savefig(f\"/Users/joshduffield/Desktop/{file_name}\",dpi=high_dpi if publish_fig else low_dpi)"
   ],
   "metadata": {
    "collapsed": false,
    "is_executing": true
   }
  },
  {
   "cell_type": "markdown",
   "source": [
    "The plot below is like that above, but is showing the predicted amplification factor compared to the actual one. The denominator in $\\delta T(x)/\\delta \\overline{T}$ is the change in the median temperature as the theory can predict this too."
   ],
   "metadata": {
    "collapsed": false
   }
  },
  {
   "cell_type": "code",
   "execution_count": null,
   "outputs": [],
   "source": [
    "def moving_average(x, w):\n",
    "    return np.convolve(x, np.ones(w), 'valid') / w\n",
    "default_colors = plt.rcParams['axes.prop_cycle'].by_key()['color']\n",
    "\n",
    "save_amp_factor_fig=False\n",
    "fig, ax = plt.subplots(1,1, figsize=(14, 6))\n",
    "ax.spines[['right', 'top']].set_visible(False)\n",
    "for j in range(n_quant_plot):\n",
    "    # for difference between simulations, make x-axis the average between the two mean temperatures\n",
    "    ax.plot(moving_average(temp_mean_weight, 2),\n",
    "            np.average(delta_temp_quant[:, :, quant_plot_ind[j]]/delta_temp_median, axis=1, weights=lat_weights),\n",
    "            color=default_colors[j], alpha=0.8, marker='o', fillstyle='none', label=quant_plot[j])\n",
    "    ax.plot(moving_average(temp_mean_weight, 2),\n",
    "            np.average(delta_theory_use[:, :, quant_plot_ind[j]]/delta_theory_use[:, :, median_quant_ind],\n",
    "                       axis=1, weights=lat_weights), color=default_colors[j], linestyle=':', alpha=0.5)\n",
    "ax.legend(title='Temperature\\npercentile, $x$', frameon=True, framealpha=1, edgecolor=\"white\")\n",
    "xlim = ax.get_xlim()\n",
    "ax.hlines(1, xlim[0], xlim[1], color='k', alpha=0.5, linewidth=0.5)\n",
    "ax.set_xlim(xlim)\n",
    "if season == 'summer':\n",
    "    ax.set_xlabel(f'Mean Summer Temperature (${lat_max}>|\\phi| \\geq {lat_min}$) / K')\n",
    "else:\n",
    "    ax.set_xlabel(f'Mean Temperature (${lat_max}>|\\phi| \\geq {lat_min}$) / K')\n",
    "ax.set_ylabel('$\\delta T(x)/\\delta \\overline{T}$')\n",
    "plt.tight_layout()\n",
    "if save_fig or save_amp_factor_fig:\n",
    "    file_name = f'{region.lower()}_amplification_factor_const_rh' if const_rh else f'{region.lower()}_amplification_factor'\n",
    "    fig.savefig(f\"/Users/joshduffield/Desktop/{file_name}\",dpi=high_dpi if publish_fig else low_dpi)"
   ],
   "metadata": {
    "collapsed": false,
    "is_executing": true
   }
  },
  {
   "cell_type": "markdown",
   "source": [
    "## Figure 2 of Byrne 2021 - combining $\\kappa$\n",
    "The gradients in the above plot indicate the scaling factors shown in the bottom plot of Byrne 2021 figure 2, but combine all $\\kappa$ values indicated by `scaling_factor_kappa_use`. So I plot the gradients versus percentile, $x$, here to replicate the figure.\n",
    "\n",
    "I include the option for two different quantiles. In Byrne 2021, it is the temperatures averaged over a given percentile - I refer to this as `temp_quant_x`. The other option is using the actual percentile, given here as `temp_quant_p`.\n",
    "\n",
    "For the mean below, I don't use area weighting, whereas I do above, hence the difference. I don't use it below so that `temp_quant_x` plot always shows a scaling factor of $1$ for $x=0$.\n",
    "\n",
    "To see if the scaling factor is different for warmer vs colder climates, I compute the gradients using a subset of $\\kappa$ values. For colder climates, I use $\\kappa=0.2, 0.3, 0.6, 1$ and force the line through $\\kappa=1$. For warmer climates, I use $\\kappa=1, 1.5, 2, 3.5, 6$ and force the line through $\\kappa=1$. The solid line includes all $\\kappa$ and is forced through $\\kappa = 1$."
   ],
   "metadata": {
    "collapsed": false
   }
  },
  {
   "cell_type": "code",
   "execution_count": null,
   "outputs": [],
   "source": [
    "sf_tau_use = [np.where(tau_lw<=np.inf)[0], np.where(tau_lw<=1)[0], np.where(tau_lw>=1)[0]]\n",
    "sf_tau_ref = [1, 1, 1]\n",
    "n_sf = len(sf_tau_use)\n",
    "# all temperatures averaged above x=0 - same as temp_av except for no area averaging\n",
    "scaling_factor = np.zeros((n_sf, n_lat, n_quant_all))\n",
    "\n",
    "scaling_factor_theory = np.zeros((n_lat, n_quant_all))\n",
    "scaling_factor_theory_const_rh = np.zeros((n_lat, n_quant_all))\n",
    "\n",
    "for i in range(n_sf):\n",
    "    sf_tau_ref_ind = np.where(tau_lw[sf_tau_use[i]]==sf_tau_ref[i])[0]\n",
    "    for j in range(n_quant_all):\n",
    "        # The theory predicts median change but not mean hence I use median rather than mean.\n",
    "        # This means can get theoretical scale factor rather than using simulated mean.\n",
    "        # This means x=50 will correspond to y=1 in all plots below.\n",
    "        # Straight line through the ref point\n",
    "        for k in range(n_lat):\n",
    "            scaling_factor[i, k, j] = get_gradient(temp_quant_p[sf_tau_use[i], k, j], temp_median[sf_tau_use[i], k], sf_tau_ref_ind)[0]\n",
    "            if i == 0:\n",
    "                # Use theory2 version for scaling factor as errors compounded - makes most sense to me\n",
    "                scaling_factor_theory[k, j] = get_gradient(temp_quant_theory2[sf_tau_use[i], k, j],\n",
    "                                                           temp_quant_theory2[sf_tau_use[i], k, median_quant_ind],\n",
    "                                                           sf_tau_ref_ind)[0]\n",
    "                scaling_factor_theory_const_rh[k, j] = get_gradient(temp_quant_theory2_const_rh[sf_tau_use[i], k, j],\n",
    "                                                                    temp_quant_theory2_const_rh[sf_tau_use[i], k, median_quant_ind],\n",
    "                                                                    sf_tau_ref_ind)[0]"
   ],
   "metadata": {
    "collapsed": false,
    "is_executing": true
   }
  },
  {
   "cell_type": "code",
   "execution_count": null,
   "outputs": [],
   "source": [
    "save_sf_fig = False\n",
    "# if publishing figure, use high dpi\n",
    "fig, ax = plt.subplots(1,1, figsize=(9, 5))\n",
    "ax.spines[['right', 'top']].set_visible(False)\n",
    "ax.plot(quantiles_all, np.average(scaling_factor[0], axis=0, weights=lat_weights), color='b', label='All $\\kappa$')\n",
    "ax.plot(quantiles_all, np.average(scaling_factor[1], axis=0, weights=lat_weights), color='b', linestyle=':', alpha=0.5,\n",
    "        label=f'$\\kappa \\leq {tau_lw[sf_tau_use[1]].max()}$')\n",
    "ax.plot(quantiles_all, np.average(scaling_factor[2], axis=0, weights=lat_weights), color='b', linestyle='--', alpha=0.5,\n",
    "        label= f'$\\kappa \\geq {tau_lw[sf_tau_use[2]].min()}$')\n",
    "ax.hlines(1, 0, 100, linewidth=0.5, alpha=0.2, color='k')\n",
    "# # Remove some of the lines but keep ylims the same\n",
    "# ax.lines.pop(1)\n",
    "# ax.lines.pop(1)\n",
    "ax.legend(frameon=False)\n",
    "ax.set_xlim(0,100)\n",
    "# if quant_type_use == 'x':\n",
    "#     ax.set_ylim(0.5,1.5)\n",
    "# else:\n",
    "#     ax.set_ylim(0.5,2.5)\n",
    "ax.set_xlabel('Temperature percentile, $x$')\n",
    "ax.set_ylabel('Scaling factor, $\\delta T(x)/\\delta \\overline{T}$')\n",
    "ax.set_title(f'{region.capitalize()} (${lat_max}>|\\phi| \\geq {lat_min}$)')\n",
    "plt.tight_layout()\n",
    "if save_fig or save_sf_fig:\n",
    "    file_name = f\"scaling_factor_{region.lower()}\"\n",
    "    fig.savefig(f\"/Users/joshduffield/Desktop/{file_name}\",dpi=high_dpi if publish_fig else low_dpi)"
   ],
   "metadata": {
    "collapsed": false,
    "is_executing": true
   }
  },
  {
   "cell_type": "markdown",
   "source": [
    "The solid blue line below is the same as that above. The black lines show the theoretical prediction for the blue line, combining all kappa values."
   ],
   "metadata": {
    "collapsed": false
   }
  },
  {
   "cell_type": "code",
   "execution_count": null,
   "outputs": [],
   "source": [
    "save_sf_theory_fig = False\n",
    "# if publishing figure, use high dpi\n",
    "fig, ax = plt.subplots(1,1, figsize=(9, 5))\n",
    "ax.spines[['right', 'top']].set_visible(False)\n",
    "ax.plot(quantiles_all, np.average(scaling_factor[0], axis=0, weights=lat_weights), color='b', label='Simulated')\n",
    "ax.plot(quantiles_all, np.average(scaling_factor_theory, axis=0, weights=lat_weights), color='k', linestyle='--',\n",
    "        label=f'Theory')\n",
    "ax.plot(quantiles_all, np.average(scaling_factor_theory_const_rh, axis=0, weights=lat_weights), color='k', linestyle=':',\n",
    "        label= f'Theory - Constant RH Change')\n",
    "ax.hlines(1, 0, 100, linewidth=0.5, alpha=0.2, color='k')\n",
    "# # Remove some of the lines but keep ylims the same\n",
    "# ax.lines.pop(2)\n",
    "# ax.lines.pop(1)\n",
    "ax.legend(frameon=False)\n",
    "ax.set_xlim(0,100)\n",
    "# if quant_type_use == 'x':\n",
    "#     ax.set_ylim(0.5,1.5)\n",
    "# else:\n",
    "#     ax.set_ylim(0.5,2.5)\n",
    "ax.set_xlabel('Temperature percentile, $x$')\n",
    "ax.set_ylabel('Scaling factor, $\\delta T(x)/\\delta \\overline{T}$')\n",
    "ax.set_title(f'{region.capitalize()} (${lat_max}>|\\phi| \\geq {lat_min}$)')\n",
    "plt.tight_layout()\n",
    "if save_fig or save_sf_theory_fig:\n",
    "    file_name = f\"scaling_factor_theory_{region.lower()}\"\n",
    "    fig.savefig(f\"/Users/joshduffield/Desktop/{file_name}\",dpi=high_dpi if publish_fig else low_dpi)"
   ],
   "metadata": {
    "collapsed": false,
    "is_executing": true
   }
  },
  {
   "cell_type": "code",
   "execution_count": null,
   "outputs": [],
   "source": [],
   "metadata": {
    "collapsed": false,
    "is_executing": true
   }
  },
  {
   "cell_type": "code",
   "execution_count": null,
   "outputs": [],
   "source": [],
   "metadata": {
    "collapsed": false,
    "is_executing": true
   }
  },
  {
   "cell_type": "code",
   "execution_count": null,
   "outputs": [],
   "source": [],
   "metadata": {
    "collapsed": false,
    "is_executing": true
   }
  }
 ],
 "metadata": {
  "kernelspec": {
   "display_name": "Python 3",
   "language": "python",
   "name": "python3"
  },
  "language_info": {
   "codemirror_mode": {
    "name": "ipython",
    "version": 2
   },
   "file_extension": ".py",
   "mimetype": "text/x-python",
   "name": "python",
   "nbconvert_exporter": "python",
   "pygments_lexer": "ipython2",
   "version": "2.7.6"
  }
 },
 "nbformat": 4,
 "nbformat_minor": 0
}
