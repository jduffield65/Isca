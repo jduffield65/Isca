{
 "cells": [
  {
   "cell_type": "markdown",
   "source": [
    "# Theory for $\\delta T(x)$ accounting for changes in WTG and CE\n",
    "This starts from  $\\delta h(x) = \\delta h_{FT}(x) + \\delta \\epsilon(x)$ where $\\delta \\epsilon(x) = 0$ in CQE, to obtain an equation for $\\delta T_s(x)$."
   ],
   "metadata": {
    "collapsed": false
   }
  },
  {
   "cell_type": "code",
   "source": [
    "import copy\n",
    "import sys\n",
    "import os\n",
    "# REMOTE - So can access functions in isca_tools which is in home/Isca directory\n",
    "# sys.path.append(os.path.join(os.environ['HOME'], 'Isca'))\n",
    "# LOCAL - So can access functions in isca_tools which is in StAndrews/Isca\n",
    "sys.path.append(os.environ['PWD'])\n",
    "import isca_tools\n",
    "from isca_tools.utils.moist_physics import moist_static_energy, clausius_clapeyron_factor, sphum_sat\n",
    "from isca_tools.utils.constants import kappa, L_v, c_p, g, R\n",
    "from isca_tools.utils import area_weighting, annual_mean\n",
    "from isca_tools.papers.byrne_2021 import get_quant_ind\n",
    "from isca_tools.thesis.adiabat_theory import (get_temp_adiabat, get_delta_mse_mod_anom_theory, get_theory_prefactor_terms,\n",
    "                                              decompose_temp_adiabat_anomaly, get_delta_temp_quant_theory, get_delta_temp_quant_theory_simple, \n",
    "                                              get_delta_temp_quant_theory_simple2)\n",
    "from isca_tools.utils.stats import z_score_from_confidence_interval\n",
    "import numpy as np\n",
    "import matplotlib.pyplot as plt\n",
    "import xarray as xr\n",
    "import scipy.optimize\n",
    "from tqdm import tqdm\n",
    "from scipy import integrate\n",
    "import numpy_indexed\n",
    "from scipy.stats import percentileofscore\n",
    "import copy\n",
    "from sklearn.linear_model import TheilSenRegressor\n",
    "# Use custom matplotlib style for publishing\n",
    "plt.style.use('/Users/joshduffield/Documents/StAndrews/Isca/jobs/tau_sweep/aquaplanet/publish_figures/publish.mplstyle')"
   ],
   "metadata": {
    "collapsed": false,
    "ExecuteTime": {
     "end_time": "2024-05-16T11:27:43.039966Z",
     "start_time": "2024-05-16T11:27:43.026126Z"
    }
   },
   "outputs": [],
   "execution_count": 4
  },
  {
   "cell_type": "code",
   "source": [
    "# Load dataset - one at surface and one in free troposphere\n",
    "var_keep = ['temp', 'sphum', 'height', 'klzbs', 'convflag']        # only keep variables required to compute relative humidity and MSE\n",
    "# var_keep = ['temp', 'sphum', 'height', 'ucomp', 'vcomp']\n",
    "# Load dataset\n",
    "tau_lw_ref = 1\n",
    "tau_lw_warm = 1.5\n",
    "exp_dir = 'tau_sweep/aquaplanet/depth=1/'\n",
    "# exp_dir = 'tau_sweep/aquaplanet/'\n",
    "exp_names = [f\"k={str(tau_lw_ref).replace('.','_')}\", f\"k={str(tau_lw_warm).replace('.','_')}\"]\n",
    "n_exp = len(exp_names)\n",
    "ds = []\n",
    "albedo = []\n",
    "tau_sw = []\n",
    "tau_lw = []\n",
    "for i in range(n_exp):\n",
    "    ds_use = isca_tools.load_dataset(exp_dir + exp_names[i])[var_keep]\n",
    "    ds += [ds_use]      # only keep the surface values\n",
    "    namelist = isca_tools.load_namelist(exp_dir + exp_names[i])  # Need this for albedo_value\n",
    "    albedo += [namelist['mixed_layer_nml']['albedo_value']]\n",
    "    tau_sw += [namelist['two_stream_gray_rad_nml']['atm_abs']]\n",
    "    tau_lw += [namelist['two_stream_gray_rad_nml']['odp']]"
   ],
   "metadata": {
    "collapsed": false,
    "ExecuteTime": {
     "end_time": "2024-05-16T11:27:48.958384Z",
     "start_time": "2024-05-16T11:27:45.012656Z"
    }
   },
   "outputs": [],
   "execution_count": 5
  },
  {
   "cell_type": "markdown",
   "source": [
    "## Get datasets\n",
    "Get one surface dataset for summer for each $\\kappa$, combining all latitudes: `ds_all`. This combines the summer months in each hemisphere, e.g. negative latitudes will only correspond to times in December, January or February.\n"
   ],
   "metadata": {
    "collapsed": false
   }
  },
  {
   "cell_type": "code",
   "source": [
    "# If true, will save all figures to desktop - option to save specific figures later on.\n",
    "save_fig = False\n",
    "# if publishing figure, use high dpi\n",
    "publish_fig = True\n",
    "\n",
    "ar = 4/3        # aspect ratio (width/height)\n",
    "# Details required for Journal of Climate Figures\n",
    "low_dpi = 100\n",
    "dpi = {'monochrome': 1100, 'combination': 800, 'halftone': 300}\n",
    "width = {'one_col': 3.2, 'two_col': 5.5}        # width in inches \n",
    "save_pad_inches = 0.05\n",
    "\n",
    "# Default parameters\n",
    "default_colors = plt.rcParams['axes.prop_cycle'].by_key()['color']\n",
    "ax_linewidth = plt.rcParams['axes.linewidth']\n",
    "\n",
    "def moving_average(x, w):\n",
    "    return np.convolve(x, np.ones(w), 'valid') / w"
   ],
   "metadata": {
    "collapsed": false,
    "ExecuteTime": {
     "end_time": "2024-05-16T11:27:51.221635Z",
     "start_time": "2024-05-16T11:27:51.218883Z"
    }
   },
   "outputs": [],
   "execution_count": 6
  },
  {
   "cell_type": "code",
   "source": [
    "# Compute Global Average Surface Temperature and get near surface temperature data\n",
    "# Use all data after 2 years, as clearly converged from the above spin up plot\n",
    "use_time_start = 360*2\n",
    "pressure_ft = 500           # Desired approximate pressure of free troposphere (hPa)\n",
    "\n",
    "# Tropics\n",
    "region = 'tropics'\n",
    "lat_min = 0\n",
    "lat_max = 20\n",
    "# Extratropics\n",
    "# region = 'extratropics'\n",
    "# lat_min = 40\n",
    "# lat_max = 65\n",
    "# Poles\n",
    "# region = 'High Latitudes'\n",
    "# lat_min = 70\n",
    "# lat_max = 90\n",
    "# region = 'Global'\n",
    "# lat_min = 0\n",
    "# lat_max = 90\n",
    "\n",
    "# Chose whether to only consider summer days or consider all days\n",
    "# season = 'all'\n",
    "season = 'summer'\n",
    "# season = 'winter'\n",
    "if season == 'summer':\n",
    "    if region == 'tropics':\n",
    "        season_months = {'nh': [5, 6, 7, 8, 9, 10], 'sh': [11, 12, 1, 2, 3, 4]}   \n",
    "    else:\n",
    "        season_months = {'nh': [6, 7, 8], 'sh': [12, 1, 2]}   # JJA for NH and DJF for SH\n",
    "elif season == 'winter':\n",
    "    if region == 'tropics':\n",
    "        season_months = {'sh': [5, 6, 7, 8, 9, 10], 'nh': [11, 12, 1, 2, 3, 4]}\n",
    "    else:\n",
    "        season_months = {'sh': [6, 7, 8], 'nh': [12, 1, 2]} \n",
    "\n",
    "ds_all = []\n",
    "with tqdm(total=n_exp, position=0, leave=True) as pbar:\n",
    "    for i in range(n_exp):\n",
    "        ds_use = ds[i].sel(time=slice(use_time_start, np.inf))\n",
    "        ds_use = ds_use.sel(pfull=[np.inf, pressure_ft], method='nearest')      # only keep the surface values - get rid of pfull coordinate\n",
    "        ds_use = ds_use.where((np.abs(ds_use.lat) <= lat_max) & (np.abs(ds_use.lat) >= lat_min), drop=True)\n",
    "\n",
    "        if season == 'summer' or season == 'winter':\n",
    "            # Only consider summer as has expected circulation\n",
    "            ds_nh_summer = isca_tools.utils.annual_time_slice(ds_use, season_months['nh']).sel(lat=slice(lat_min, lat_max)) \n",
    "            ds_sh_summer = isca_tools.utils.annual_time_slice(ds_use, season_months['sh']).sel(lat=slice(-lat_max, -lat_min))  \n",
    "            # Combine hemispheres and average over longitude, time and latitude.\n",
    "            # Note that April, May, June, October, November and December will not be included in this dataset\n",
    "            ds_use = xr.concat([ds_sh_summer, ds_nh_summer], dim='lat')\n",
    "        ds_use = ds_use.stack(lon_time=(\"lon\",\"time\"), create_index=False).chunk(dict(lon_time=-1))\n",
    "        ds_all += [ds_use.load()]\n",
    "        pbar.update(1)\n",
    "\n",
    "ind_surf = 0\n",
    "ind_ft = 1\n",
    "p_surface = float(ds_all[0].pfull[ind_surf]) * 100\n",
    "pressure_ft_actual = float(ds_all[0].pfull[ind_ft]) * 100       # Actual pressure of free troposphere (Pa)"
   ],
   "metadata": {
    "collapsed": false,
    "ExecuteTime": {
     "end_time": "2024-05-16T15:54:56.694443Z",
     "start_time": "2024-05-16T15:54:34.514063Z"
    }
   },
   "outputs": [
    {
     "name": "stderr",
     "output_type": "stream",
     "text": [
      "100%|██████████| 2/2 [00:22<00:00, 11.07s/it]\n"
     ]
    }
   ],
   "execution_count": 116
  },
  {
   "metadata": {},
   "cell_type": "markdown",
   "source": [
    "## Definition of Summer\n",
    "Below I look at the months that are convecting, to deduce a good definition of summer."
   ]
  },
  {
   "metadata": {
    "ExecuteTime": {
     "end_time": "2024-05-16T15:55:11.935354Z",
     "start_time": "2024-05-16T15:54:56.696690Z"
    }
   },
   "cell_type": "code",
   "source": [
    "# annual_mean_lat_plot = 64\n",
    "annual_mean_lat_plot = 18\n",
    "annual_mean_tau_ind = 0\n",
    "ds_annual_mean = annual_mean(ds[annual_mean_tau_ind].sel(time=slice(use_time_start, np.inf)\n",
    "                                                         ).sel(lat=[annual_mean_lat_plot, -annual_mean_lat_plot],\n",
    "                                                               method='nearest').mean(dim='lon').isel(pfull=-1)).load()\n",
    "month_ticks = (np.arange(15,12*30+15,30), ['J','F','M','A','M','J','J','A','S','O','N','D'])\n",
    "\n",
    "pressure_from_level_func = scipy.interpolate.interp1d(np.arange(len(ds[0].pfull)), ds[0].pfull)\n",
    "def lzb(k, interp_func=pressure_from_level_func):\n",
    "    # Offset by -1 because fortran starts with 1, but python starts with 0\n",
    "    # ds.t_ref will match exactly ds.temp if -2 used as offset, but this is not the LNB.\n",
    "    if np.size(k) == 1:\n",
    "        return float(interp_func(k-1))\n",
    "    else:\n",
    "        return interp_func(k-1)"
   ],
   "outputs": [],
   "execution_count": 117
  },
  {
   "metadata": {
    "ExecuteTime": {
     "end_time": "2024-05-16T15:55:12.240664Z",
     "start_time": "2024-05-16T15:55:11.937206Z"
    }
   },
   "cell_type": "code",
   "source": [
    "save_summer_def_fig = False\n",
    "\n",
    "fig, ax = plt.subplots(2,1, figsize=(width['one_col'], 2*width['one_col']/ar), sharex=True)\n",
    "ax2 = ax[1].twinx()\n",
    "for i in range(ds_annual_mean.lat.size):\n",
    "    ax[0].plot(ds_annual_mean.time-0.5, ds_annual_mean.temp[:, i], alpha=0.2 if ds_annual_mean.lat[i]<0 else 1, color='k')\n",
    "    ax[1].plot(ds_annual_mean.time-0.5, ds_annual_mean.convflag[:, i], color=default_colors[0], alpha=0.2 if ds_annual_mean.lat[i]<0 else 1)\n",
    "    ax2.plot(ds_annual_mean.time-0.5, lzb(ds_annual_mean.klzbs[:, i]), color=default_colors[1], alpha=0.2 if ds_annual_mean.lat[i]<0 else 1)\n",
    "for i in range(len(ax)):\n",
    "    if np.abs(ds_annual_mean.lat[0])>22:\n",
    "        ax[i].axvline(5*30-1, color='k', lw=ax_linewidth)\n",
    "        ax[i].axvline(8*30-1, color='k', lw=ax_linewidth)\n",
    "        ax[i].axvline(11*30-1, color='k', lw=ax_linewidth, alpha=0.2)\n",
    "        ax[i].axvline(2*30-1, color='k', lw=ax_linewidth, alpha=0.2)\n",
    "    else:\n",
    "        ax[i].axvline(4*30-1, color='k', lw=ax_linewidth)\n",
    "        ax[i].axvline(10*30-1, color='k', lw=ax_linewidth)\n",
    "ax2.axhline(pressure_ft_actual/100, color=default_colors[1], lw=ax_linewidth)\n",
    "ax2.invert_yaxis()\n",
    "ax2.spines[['left', 'bottom']].set_visible(False)\n",
    "ax2.spines[['right']].set_visible(True)\n",
    "ax2.spines[['right']].set_color(default_colors[1])\n",
    "ax[1].spines[['left']].set_color(default_colors[0])\n",
    "ax[1].set_ylabel('convflag', color=default_colors[0])\n",
    "ax2.set_ylabel('LNB [hPa]', color=default_colors[1])\n",
    "ax[0].set_ylabel('Near-surface temperature [K]')\n",
    "ax[0].set_xlim(-1,360)\n",
    "ax[0].set_xticks(*month_ticks)\n",
    "ax[0].set_title(f'$\\kappa= {tau_lw[annual_mean_tau_ind]}$; Lat = {round(float(ds_annual_mean.lat[0]))}$\\degree$')\n",
    "\n",
    "if save_fig or save_summer_def_fig:\n",
    "    fig.savefig(f\"/Users/joshduffield/Desktop/summer_definition_lat={annual_mean_lat_plot}.pdf\", \n",
    "                dpi=dpi['combination'] if publish_fig else low_dpi, bbox_inches='tight', pad_inches=save_pad_inches)"
   ],
   "outputs": [
    {
     "data": {
      "text/plain": [
       "<Figure size 320x480 with 3 Axes>"
      ],
      "image/png": "[encoded data removed]"
     },
     "metadata": {},
     "output_type": "display_data"
    }
   ],
   "execution_count": 118
  },
  {
   "cell_type": "markdown",
   "source": [
    "## Near Surface Temperature Quantile\n",
    "Get variables as a function of near-surface temperature quantile"
   ],
   "metadata": {
    "collapsed": false
   }
  },
  {
   "cell_type": "code",
   "source": [
    "quantiles_all = np.arange(1, 100)\n",
    "percentile_label = 'Temperature percentile, $x$'\n",
    "n_quant_all = len(quantiles_all)\n",
    "n_lat = len(ds_all[0].lat)\n",
    "n_pressure = ds_all[0].pfull.shape[0]\n",
    "lat_weights = np.cos(np.deg2rad(ds_all[0].lat))     # latitude area weighting is just the cosine\n",
    "\n",
    "# Days must have klzb < thresh and convflag > thresh to be considered convecting.\n",
    "klzb_thresh = 13\n",
    "convflag_thresh = 1\n",
    "\n",
    "temp_mean = np.zeros((n_exp, n_pressure, n_lat))         # second index: 0 is surface, 1 is free trop\n",
    "mse_mean = np.zeros((n_exp, n_pressure, n_lat))\n",
    "# 2 different methods for computing r_mean and sphum_mean - q calculates from sphum, while r calculates from rh.\n",
    "r_mean = np.zeros((n_exp, n_lat))\n",
    "z_mean = np.zeros((n_exp, n_pressure, n_lat))\n",
    "\n",
    "lnp_const = R * np.log(p_surface/pressure_ft_actual)/2      # for modified MSE calculation\n",
    "# as function of temperature quantile\n",
    "temp_quant3 = np.zeros((n_exp, n_pressure, n_lat, n_quant_all))\n",
    "mse_quant3 = np.zeros((n_exp, n_pressure, n_lat, n_quant_all))\n",
    "r_quant3 = np.zeros((n_exp, n_lat, n_quant_all))\n",
    "z_quant3 = np.zeros((n_exp, n_pressure, n_lat, n_quant_all))\n",
    "convflag_quant3 = np.zeros((n_exp, n_lat, n_quant_all))\n",
    "klzbs_quant3 = np.zeros((n_exp, n_lat, n_quant_all))\n",
    "convfract_quant3 = np.zeros((n_exp, n_lat, n_quant_all))            # record fraction of days convecting\n",
    "\n",
    "with tqdm(total=n_exp*n_lat*n_quant_all, position=0, leave=True) as pbar:\n",
    "    for i in range(n_exp):\n",
    "        temp_mean[i] = ds_all[i].temp.mean(dim='lon_time')\n",
    "        z_mean[i] = ds_all[i].height.mean(dim='lon_time')\n",
    "        rh_use = ds_all[i].sphum.isel(pfull=ind_surf)/sphum_sat(ds_all[i].temp.isel(pfull=ind_surf), p_surface)\n",
    "        r_mean[i] = rh_use.mean(dim='lon_time')\n",
    "        if 'convflag' in var_keep:\n",
    "            is_convecting = np.logical_and(ds_all[i].klzbs<klzb_thresh, ds_all[i].convflag > convflag_thresh)\n",
    "        for k in range(n_lat):\n",
    "            for j, quant in enumerate(quantiles_all):\n",
    "                use_ind = get_quant_ind(ds_all[i].temp.isel(pfull=ind_surf)[k], quant, 0.5, 0.5)\n",
    "                z_quant3[i, :, k, j] = ds_all[i].height[:, k, use_ind].mean(dim='lon_time')\n",
    "                temp_quant3[i, :, k, j] = ds_all[i].temp[:, k, use_ind].mean(dim='lon_time')\n",
    "                r_quant3[i, k, j] = rh_use[k, use_ind].mean(dim='lon_time')\n",
    "                if 'convflag' in var_keep:\n",
    "                    convflag_quant3[i, k, j] = ds_all[i].convflag[k, use_ind].mean(dim='lon_time')\n",
    "                    klzbs_quant3[i, k, j] = ds_all[i].klzbs[k, use_ind].mean(dim='lon_time')\n",
    "                    convfract_quant3[i, k, j] = np.sum(is_convecting[k, use_ind])/is_convecting[k, use_ind].size\n",
    "                pbar.update(1)\n",
    "# Compute sphum from rh values\n",
    "sphum_quant3 = sphum_sat(temp_quant3[:, ind_surf], p_surface) * r_quant3\n",
    "sphum_mean = sphum_sat(temp_mean[:, ind_surf], p_surface) * r_mean\n",
    "mse_quant3[:, ind_surf] = moist_static_energy(temp_quant3[:, ind_surf], sphum_quant3, z_quant3[:, ind_surf])\n",
    "mse_quant3[:, ind_ft] = moist_static_energy(temp_quant3[:, ind_ft], sphum_sat(temp_quant3[:, ind_ft], pressure_ft_actual), z_quant3[:, ind_ft])\n",
    "mse_mean[:, ind_surf] = moist_static_energy(temp_mean[:, ind_surf], sphum_mean, z_mean[:, ind_surf])\n",
    "mse_mean[:, ind_ft] = moist_static_energy(temp_mean[:, ind_ft], sphum_sat(temp_mean[:, ind_ft], pressure_ft_actual), z_mean[:, ind_ft])"
   ],
   "metadata": {
    "collapsed": false,
    "ExecuteTime": {
     "end_time": "2024-05-16T15:55:30.707561Z",
     "start_time": "2024-05-16T15:55:12.243846Z"
    }
   },
   "outputs": [
    {
     "name": "stderr",
     "output_type": "stream",
     "text": [
      "100%|██████████| 2772/2772 [00:18<00:00, 150.28it/s]\n"
     ]
    }
   ],
   "execution_count": 119
  },
  {
   "metadata": {
    "ExecuteTime": {
     "end_time": "2024-05-16T15:55:30.712980Z",
     "start_time": "2024-05-16T15:55:30.708836Z"
    }
   },
   "cell_type": "code",
   "source": [
    "print('Max % Deviations From Mean')\n",
    "print('Temp:', 100*np.abs(np.average((temp_quant3[0, ind_surf]-temp_mean[0, ind_surf, :, np.newaxis])/temp_mean[0, ind_surf, :, np.newaxis], \n",
    "                                     axis=0, weights=lat_weights)).max())\n",
    "\n",
    "print(f'RH:', 100*np.abs(np.average((r_quant3[0]-r_mean[0, :, np.newaxis])/r_mean[0, :, np.newaxis], \n",
    "                                            axis=0, weights=lat_weights)).max())"
   ],
   "outputs": [
    {
     "name": "stdout",
     "output_type": "stream",
     "text": [
      "Max % Deviations From Mean\n",
      "Temp: 1.1902880522815014\n",
      "RH: 4.691996257105367\n"
     ]
    }
   ],
   "execution_count": 120
  },
  {
   "cell_type": "markdown",
   "source": [
    "## Relating $z_{FT}$ to $T_{500}$ and $T_s$\n",
    "A crucial aspect to this theory is relating the geopotential height $z_{FT}$ to near-surface temperature $T$ and free troposphere temperature $T_{FT}$.\n",
    "\n",
    "We start with two equations, from Zhang 2023. The first combines hydrostatic balance and the ideal gas law. The second assumes a constant lapse rate, $\\Gamma$, for integration processes.\n",
    "\n",
    "$d\\ln p = -\\frac{g}{RT(p)}dz$;      $z(p) - z_s = \\frac{T_s - T(p)}{\\Gamma}$\n",
    "\n",
    "Combining the two, we get $d\\ln p = \\frac{g}{R\\Gamma}d\\ln T$.\n",
    "\n",
    "Integrating between the free troposphere at 500hPa and surface at 1000hPa, we get:\n",
    "$\\ln(\\frac{1000}{500}) = \\ln 2 = \\frac{g}{R\\Gamma}\\ln(\\frac{T_s}{T_{500}})$ or $\\frac{1}{\\Gamma} = \\frac{R\\ln 2}{g\\ln(\\frac{T_s}{T_{500}})}$\n",
    "\n",
    "We also have the $z$ equation applied at 500hPa: $z_{500} - z_s = \\frac{T_s - T_{500}}{\\Gamma}$. Combining the two, we get:\n",
    "$z_{500} - z_s \\approx \\frac{R\\ln 2(T_s - T_{500})}{g\\ln(\\frac{T_s}{T_{500}})}$\n",
    "\n",
    "We can re-write the denominator in $\\ln(1+x)$ form as $\\ln(1+\\frac{T_s-T_{500}}{T_{500}})$. Here $x=\\frac{T_s-T_{500}}{T_{500}}$ and is small. Max value in tropics is about 0.15. \n",
    "\n",
    "The taylor series is $\\frac{1}{\\ln(1+x)} \\approx \\frac{1}{x} + \\frac{1}{2} - \\frac{x}{12} + ...$. Because $x$ is small, I propose keeping just the first two terms. In which case, we get:\n",
    "\n",
    "$z_{500} - z_s \\approx \\frac{R\\ln 2(T_s - T_{500})}{g}(\\frac{T_{500}}{T_s-T_{500}} + \\frac{1}{2}) = \\frac{R\\ln 2}{2g}(T_s + T_{500})$\n",
    "\n",
    "The plots below shows that the taylor approximation is pretty accurate, and they are both decent approximations for the actual geopotential height."
   ],
   "metadata": {
    "collapsed": false
   }
  },
  {
   "cell_type": "code",
   "source": [
    "def get_z_theory(temp_surf, temp_ft, taylor=True, pressure_surf=p_surface, pressure_ft=pressure_ft_actual):\n",
    "    lnp_prefactor = R * np.log(pressure_surf/pressure_ft) / g\n",
    "    if taylor:\n",
    "        return lnp_prefactor/2 * (temp_surf + temp_ft)\n",
    "    else:\n",
    "        return lnp_prefactor * (temp_surf - temp_ft) / np.log(temp_surf/temp_ft)\n",
    "\n",
    "z_theory_quant3 = {key: np.zeros((n_exp, n_lat, n_quant_all)) for key in ['full', 'taylor']}\n",
    "z_theory_mean = {key: np.zeros((n_exp, n_lat)) for key in ['full', 'taylor']}\n",
    "for i in range(n_exp):\n",
    "    for key in z_theory_quant3:\n",
    "        z_theory_quant3[key][i] = get_z_theory(temp_quant3[i, ind_surf], temp_quant3[i, ind_ft], True if key=='taylor' else False)\n",
    "        z_theory_mean[key][i] = get_z_theory(temp_mean[i, ind_surf], temp_mean[i, ind_ft], True if key=='taylor' else False)"
   ],
   "metadata": {
    "collapsed": false,
    "ExecuteTime": {
     "end_time": "2024-05-16T15:55:30.718054Z",
     "start_time": "2024-05-16T15:55:30.713909Z"
    }
   },
   "outputs": [],
   "execution_count": 121
  },
  {
   "cell_type": "code",
   "source": [
    "save_z_ft_fig = False\n",
    "fig, ax = plt.subplots(2,2, figsize=(2*width['one_col'], 2*width['one_col']/ar), sharex=True)\n",
    "linestyles_use = {'full': '--', 'taylor': ':'}\n",
    "for i in range(n_exp):\n",
    "    ax[0, 0].plot(quantiles_all, \n",
    "               np.average(z_quant3[i, ind_ft] - z_quant3[i, ind_surf], axis=0, weights=lat_weights), color=default_colors[i],\n",
    "               label=f'$\\\\kappa={tau_lw[i]}$')\n",
    "    ax[0, 0].axhline(np.average(z_mean[i, ind_ft]-z_mean[i, ind_surf], axis=0, weights=lat_weights), color=default_colors[i], lw=2, alpha=0.2)\n",
    "    for key in z_theory_quant3:\n",
    "        ax[0, 0].plot(quantiles_all, \n",
    "                   np.average(z_theory_quant3[key][i], axis=0, weights=lat_weights), color=default_colors[i], \n",
    "                   linestyle=linestyles_use[key])\n",
    "        ax[0, 0].axhline(np.average(z_theory_mean[key][i], axis=0, weights=lat_weights), color=default_colors[i], \n",
    "                      linestyle=linestyles_use[key], lw=2, alpha=0.2)\n",
    "ax[1, 0].plot(quantiles_all, \n",
    "           np.average(np.diff(z_quant3[:, ind_ft] - z_quant3[:, ind_surf], axis=0)[0], axis=0, weights=lat_weights), color='k',\n",
    "           label='Simulated')\n",
    "ax[1, 0].axhline(np.average(np.diff(z_mean[:, ind_ft]-z_mean[:, ind_surf], axis=0)[0], axis=0, weights=lat_weights), \n",
    "              color='k', lw=2, alpha=0.2)\n",
    "for key in z_theory_quant3:\n",
    "    ax[1, 0].plot(quantiles_all, \n",
    "                   np.average(z_theory_quant3[key][1]-z_theory_quant3[key][0], axis=0, weights=lat_weights), \n",
    "               color='k', linestyle=linestyles_use[key], label=f'Theory - {key}')\n",
    "    ax[1, 0].axhline(np.average(z_theory_mean[key][1]-z_theory_mean[key][0], axis=0, weights=lat_weights), color='k', \n",
    "                  linestyle=linestyles_use[key], lw=2, alpha=0.2)\n",
    "\n",
    "for i in range(n_exp):\n",
    "    ax[0, 1].plot(quantiles_all, \n",
    "               np.average(z_quant3[i, ind_ft] - z_quant3[i, ind_surf] - (z_mean[i, ind_ft]-z_mean[i, ind_surf])[:, np.newaxis], \n",
    "                          axis=0, weights=lat_weights), color=default_colors[i], label=f'$\\\\kappa={tau_lw[i]}$')\n",
    "    for key in z_theory_quant3:\n",
    "        ax[0, 1].plot(quantiles_all, np.average(z_theory_quant3[key][i] - z_theory_mean[key][i][:, np.newaxis], axis=0, weights=lat_weights),\n",
    "                      color=default_colors[i], linestyle=linestyles_use[key])\n",
    "ax[1, 1].plot(quantiles_all, \n",
    "           np.average(np.diff(z_quant3[:, ind_ft] - z_quant3[:, ind_surf] - (z_mean[:, ind_ft]-z_mean[:, ind_surf])[:, :, np.newaxis], axis=0)[0], \n",
    "                      axis=0, weights=lat_weights), color='k')\n",
    "for key in z_theory_quant3:\n",
    "    ax[1, 1].plot(quantiles_all, \n",
    "                   np.average(z_theory_quant3[key][1]-z_theory_quant3[key][0] - (z_theory_mean[key][1]-z_theory_mean[key][0])[:, np.newaxis], \n",
    "                              axis=0, weights=lat_weights), color='k', linestyle=linestyles_use[key], label=f'Theory - {key}') \n",
    "\n",
    "ax[0, 0].legend()\n",
    "ax[1, 0].legend()\n",
    "ax[0, 0].set_ylabel('$z-z_s$ [m]')\n",
    "ax[0, 1].set_ylabel('$\\Delta (z-z_s)$ [m]')\n",
    "ax[1, 0].set_ylabel('$\\delta (z-z_s)$ [m]')\n",
    "ax[1, 1].set_ylabel('$\\delta \\Delta (z-z_s)$ [m]')\n",
    "ax[1, 0].set_xlabel(percentile_label)\n",
    "ax[0, 0].set_xlim(0, 100)\n",
    "ax[0, 1].axhline(0, color='k', lw=ax_linewidth)\n",
    "ax[1, 1].axhline(0, color='k', lw=ax_linewidth)\n",
    "plt.tight_layout()\n",
    "if save_fig or save_z_ft_fig:\n",
    "    fig.savefig(f\"/Users/joshduffield/Desktop/z_ft_approx_{region}_{season}.pdf\",\n",
    "                                dpi=dpi['combination'] if publish_fig else low_dpi, bbox_inches='tight', pad_inches=save_pad_inches)"
   ],
   "metadata": {
    "collapsed": false,
    "ExecuteTime": {
     "end_time": "2024-05-16T15:55:31.020084Z",
     "start_time": "2024-05-16T15:55:30.718980Z"
    }
   },
   "outputs": [
    {
     "data": {
      "text/plain": [
       "<Figure size 640x480 with 4 Axes>"
      ],
      "image/png": "[encoded data removed]"
     },
     "metadata": {},
     "output_type": "display_data"
    }
   ],
   "execution_count": 122
  },
  {
   "metadata": {},
   "cell_type": "markdown",
   "source": [
    "## Theory - Only $z$ approximation\n",
    "I start the theory with the exact equation $h_s(x) = h_{FT}(x) + \\epsilon(x)$ where $\\epsilon$ indicates the deviation from convective equilibrium (CE). \n",
    "\n",
    "If I take changes with warming and then only make the approximation:\n",
    "$\\delta (z_{500} - z_s) \\approx \\frac{R\\ln 2}{2g} \\delta (T_s + T_{FT})$, I can obtain an estimate for $\\delta T_s(x)$ through solving:\n",
    "\n",
    "$$\\delta \\left((c_p - R^{\\dagger})T_s(x) + L_v q_s(x)\\right) \\approx \\delta \\left((c_p + R^{\\dagger})T_{FT}(x) + L_v q^*_{FT}(x)\\right) + \\delta \\epsilon(x)$$\n",
    "\n",
    "I do this numerically below (without any taylor approximations).\n",
    "\n",
    "We see that wherever the approximation for $\\delta (z_{500} - z_s)$ is overestimated by the taylor series above, $\\delta T_s(x)$ is also over-estimated.\n",
    "\n",
    "Above we see that the theory does a better job at approximating the change in geopotential height anomaly ($\\delta \\Delta z$) rather than change in geopotential height ($\\delta z$). As such, when we divide the theoretical $\\delta T_s(x)$ by the theoretical $\\delta \\overline{T_s}$, the theory looks better below."
   ]
  },
  {
   "metadata": {
    "ExecuteTime": {
     "end_time": "2024-05-16T15:55:31.026704Z",
     "start_time": "2024-05-16T15:55:31.020874Z"
    }
   },
   "cell_type": "code",
   "source": [
    "def delta_temp_fit_func(temp_surf_change: float, temp_surf0: float, r_surf: np.ndarray, temp_ft: np.ndarray, epsilon: np.ndarray,\n",
    "                        pressure_surf: float = p_surface, pressure_ft: float = pressure_ft_actual) -> float:\n",
    "    \"\"\"\n",
    "    This finds $\\delta T_s(x)$ such that $\\delta h(x) = \\delta h_{FT}^*(x) + \\delta \\epsilon(x)$\n",
    "\n",
    "    Args:\n",
    "        temp_surf_change: float\n",
    "            Change in temperature at `pressure_surf` in Kelvin.\n",
    "        temp_surf0:\n",
    "            Actual temperature at `pressure_surf` in reference climate in Kelvin.\n",
    "        r_surf: float [n_exp]\n",
    "            Actual relative humidity at `pressure_surf`.\n",
    "        temp_ft: float [n_exp]\n",
    "            Temperature at `pressure_ft` in Kelvin for each experiment.\n",
    "        epsilon: float [n_exp]\n",
    "            $\\epsilon = h_s(x) - h_{FT}^*(x)$ in *kJ/kg*. It quantifies the deviation from CE and CQE.\n",
    "        pressure_surf:\n",
    "            Pressure at near-surface in *Pa*.\n",
    "        pressure_ft:\n",
    "            Pressure at free troposphere level in *Pa*.\n",
    "    Returns:\n",
    "        MSE discrepancy: difference between surface and free troposphere saturated MSE in *kJ/kg*.\n",
    "    \"\"\"\n",
    "    n_exp = len(r_surf)\n",
    "    R_mod = R * np.log(pressure_surf / pressure_ft) / 2\n",
    "    mse_mod_surf_cold = moist_static_energy(temp_surf0, r_surf[0] * sphum_sat(temp_surf0, pressure_surf), height=0, c_p_const=c_p - R_mod)\n",
    "    mse_mod_surf_hot = moist_static_energy(temp_surf0 + temp_surf_change, r_surf[1] * sphum_sat(temp_surf0 + temp_surf_change, pressure_surf), \n",
    "                                           height=0, c_p_const=c_p - R_mod)\n",
    "    mse_mod_ft = [moist_static_energy(temp_ft[i], sphum_sat(temp_ft[i], pressure_ft), height=0, c_p_const=c_p + R_mod) for i in range(n_exp)]\n",
    "    mse_mod_surf_change = mse_mod_surf_hot - mse_mod_surf_cold\n",
    "    mse_mod_ft_change = mse_mod_ft[1] - mse_mod_ft[0]\n",
    "    epsilon_change = epsilon[1] - epsilon[0]\n",
    "    return mse_mod_surf_change - mse_mod_ft_change - epsilon_change\n",
    "\n",
    "def get_temp_change_theory(temp_surf0, r_surf, temp_ft, epsilon, pressure_surf = p_surface, pressure_ft = pressure_ft_actual, taylor_level='linear'):\n",
    "    R_mod, q_sat_surf, alpha_surf, beta_s1, beta_s2, _ = get_theory_prefactor_terms(temp_surf0, pressure_surf, pressure_ft, r_surf[0] * \n",
    "                                                                                    sphum_sat(temp_surf0, pressure_surf))\n",
    "    _, q_sat_ft, alpha_ft, beta_ft1, beta_ft2, _ = get_theory_prefactor_terms(temp_ft[0], pressure_surf, pressure_ft)\n",
    "    r_change = r_surf[1] - r_surf[0]\n",
    "    temp_ft_change = temp_ft[1] - temp_ft[0]\n",
    "    epsilon_change = (epsilon[1] - epsilon[0]) * 1000\n",
    "    \n",
    "    coef_surf_linear = beta_s1\n",
    "    if 'nl' in taylor_level:\n",
    "        coef_surf_linear = coef_surf_linear + L_v * alpha_surf * q_sat_surf * r_change\n",
    "        \n",
    "    if 'squared' in taylor_level:\n",
    "        coef_surf_squared = 0.5 * beta_s2 / temp_surf0\n",
    "        coef_ft_squared = 0.5 * beta_ft2 / temp_ft[0]\n",
    "    else:\n",
    "        coef_surf_squared = 0\n",
    "        coef_ft_squared = 0\n",
    "    coef_ft_linear = beta_ft1\n",
    "    mse_ft_change_approx = coef_ft_squared * temp_ft_change**2 + coef_ft_linear * temp_ft_change\n",
    "    \n",
    "    quadratic_constant = L_v * q_sat_surf * r_change - mse_ft_change_approx - epsilon_change\n",
    "    return np.roots([coef_surf_squared, coef_surf_linear, quadratic_constant])[-1]"
   ],
   "outputs": [],
   "execution_count": 123
  },
  {
   "metadata": {
    "ExecuteTime": {
     "end_time": "2024-05-16T15:55:31.404790Z",
     "start_time": "2024-05-16T15:55:31.027396Z"
    }
   },
   "cell_type": "code",
   "source": [
    "epsilon_mean = np.asarray([mse_mean[i, ind_surf] - mse_mean[i, ind_ft] for i in range(n_exp)])\n",
    "epsilon_quant3 = np.asarray([mse_quant3[i, ind_surf] - mse_quant3[i, ind_ft] for i in range(n_exp)])\n",
    "\n",
    "temp_mean_change = temp_mean[1, ind_surf] - temp_mean[0, ind_surf]\n",
    "temp_quant_change = temp_quant3[1, ind_surf] - temp_quant3[0, ind_surf]\n",
    "temp_mean_change_theory = {key: np.zeros(n_lat) for key in ['just_z', 'taylor', 'taylor_nl']}\n",
    "temp_quant_change_theory = {key: np.zeros((n_lat, n_quant_all)) for key in ['just_z', 'taylor', 'taylor_nl']}\n",
    "for i in range(n_lat):\n",
    "    temp_mean_change_theory['just_z'][i] = scipy.optimize.fsolve(delta_temp_fit_func, 5, args=(temp_mean[0, ind_surf, i], r_mean[:, i], \n",
    "                                                                                        temp_mean[:, ind_ft, i], epsilon_mean[:, i]))\n",
    "    temp_mean_change_theory['taylor'][i] = get_temp_change_theory(temp_mean[0, ind_surf, i], r_mean[:, i], temp_mean[:, ind_ft, i], \n",
    "                                                                  epsilon_mean[:, i])\n",
    "    temp_mean_change_theory['taylor_nl'][i] = get_temp_change_theory(temp_mean[0, ind_surf, i], r_mean[:, i], temp_mean[:, ind_ft, i],  \n",
    "                                                                     epsilon_mean[:, i], taylor_level='nl')\n",
    "    for j in range(n_quant_all):\n",
    "        temp_quant_change_theory['just_z'][i, j] = scipy.optimize.fsolve(\n",
    "            delta_temp_fit_func, 5, args=(temp_quant3[0, ind_surf, i, j], r_quant3[:, i, j], temp_quant3[:, ind_ft, i, j], epsilon_quant3[:, i, j]))\n",
    "        temp_quant_change_theory['taylor'][i, j] = get_temp_change_theory(temp_quant3[0, ind_surf, i, j], r_quant3[:, i, j], \n",
    "                                                                          temp_quant3[:, ind_ft, i, j], epsilon_quant3[:, i, j])\n",
    "        temp_quant_change_theory['taylor_nl'][i, j] = get_temp_change_theory(temp_quant3[0, ind_surf, i, j], r_quant3[:, i, j], \n",
    "                                                                          temp_quant3[:, ind_ft, i, j], epsilon_quant3[:, i, j], taylor_level='nl')\n",
    "# scipy.optimize.fsolve(delta_temp_fit_func, 273, args=(temp_surf, sphum_surf, pressure_surf, pressure_ft))"
   ],
   "outputs": [],
   "execution_count": 124
  },
  {
   "metadata": {
    "ExecuteTime": {
     "end_time": "2024-05-16T15:55:31.670442Z",
     "start_time": "2024-05-16T15:55:31.422601Z"
    }
   },
   "cell_type": "code",
   "source": [
    "save_theory1_fig = True\n",
    "linestyles_use = ['-', '--', ':']\n",
    "fig, ax = plt.subplots(2,1, figsize=(width['one_col'], 2*width['one_col']/ar), sharex=True)\n",
    "ax[0].plot(quantiles_all, np.average(temp_quant_change, axis=0, weights=lat_weights), color='k', label='Simulated')\n",
    "ax[0].axhline(np.average(temp_mean_change, axis=0, weights=lat_weights), color='k')\n",
    "ax[1].plot(quantiles_all, np.average(temp_quant_change/temp_mean_change[:, np.newaxis], axis=0, weights=lat_weights), color='k', label='Theory')\n",
    "for i, key in enumerate(temp_quant_change_theory):\n",
    "    ax[0].plot(quantiles_all, np.average(temp_quant_change_theory[key], axis=0, weights=lat_weights), color=default_colors[0], \n",
    "               label=f'Theory ({key})', linestyle=linestyles_use[i])\n",
    "    ax[0].axhline(np.average(temp_mean_change_theory[key], axis=0, weights=lat_weights), color=default_colors[0], linestyle=linestyles_use[i])\n",
    "    ax[1].plot(quantiles_all, np.average(temp_quant_change_theory[key]/temp_mean_change_theory[key][:, np.newaxis], axis=0,\n",
    "                                         weights=lat_weights), color=default_colors[0], linestyle=linestyles_use[i])\n",
    "ax[1].axhline(1, color='k', lw=ax_linewidth)\n",
    "ax[0].legend()\n",
    "ax[0].set_ylabel('$\\delta T_s$ [K]')\n",
    "ax[1].set_ylabel('Scaling factor, $\\delta T_s(x)/\\delta \\overline{T_s}$')\n",
    "\n",
    "if save_fig or save_theory1_fig:\n",
    "    fig.savefig(f\"/Users/joshduffield/Desktop/theory1_{region}_{season}.pdf\",\n",
    "                                dpi=dpi['combination'] if publish_fig else low_dpi, bbox_inches='tight', pad_inches=save_pad_inches)"
   ],
   "outputs": [
    {
     "data": {
      "text/plain": [
       "<Figure size 320x480 with 2 Axes>"
      ],
      "image/png": "[encoded data removed]"
     },
     "metadata": {},
     "output_type": "display_data"
    }
   ],
   "execution_count": 125
  },
  {
   "metadata": {},
   "cell_type": "markdown",
   "source": [
    "## Theory relating change in $T_s(x)$ to change in $\\overline{T_s}$\n",
    "If I make the assumption of $\\Delta (z_{500} - z_s) \\approx \\frac{R\\ln 2}{2g}(\\Delta T_s + \\Delta T_{FT})$ and nothing more in a given climate, I can obtain the equation:\n",
    "\n",
    "$$(c_p - R^{\\dagger})\\Delta T_s(x) + L_v \\Delta q_s(x) \\approx (c_p + R^{\\dagger})\\Delta T_{FT}(x) + L_v \\Delta q^*_{FT}(x) + \\Delta \\epsilon(x)$$\n",
    "\n",
    "If I also take a linear taylor series, I obtain:\n",
    "\n",
    "$$\\beta_{s1}\\Delta T_s(x) + L_v \\overline{q_s^*} \\Delta r_s(x) \\approx \\beta_{FT1}\\Delta T_{FT}(x) + \\Delta \\epsilon(x)$$\n",
    "\n",
    "Below I see how good an approximation this is for $\\Delta T_s$. Both these equations do very well for summer, so it makes sense to use the latter going foreward as it is more simple."
   ]
  },
  {
   "metadata": {
    "ExecuteTime": {
     "end_time": "2024-05-16T15:55:31.675641Z",
     "start_time": "2024-05-16T15:55:31.671272Z"
    }
   },
   "cell_type": "code",
   "source": [
    "def temp_s_anom_fit_func(temp_surf_anom, temp_surf_mean, r_surf_mean, r_surf_quant, temp_ft_mean, temp_ft_quant, epsilon_mean, epsilon_quant,\n",
    "                        pressure_surf = p_surface, pressure_ft = pressure_ft_actual):\n",
    "    R_mod = R * np.log(pressure_surf / pressure_ft) / 2\n",
    "    sphum_anom = r_surf_quant * sphum_sat(temp_surf_mean+temp_surf_anom, pressure_surf) - r_surf_mean * sphum_sat(temp_surf_mean, pressure_surf)\n",
    "    mse_mod_anom_surf = (c_p - R_mod) * temp_surf_anom + L_v * sphum_anom\n",
    "    mse_mod_anom_ft = (c_p + R_mod) * (temp_ft_quant - temp_ft_mean) + L_v * (sphum_sat(temp_ft_quant, pressure_ft) - \n",
    "                                                                              sphum_sat(temp_ft_mean, pressure_ft))\n",
    "    epsilon_anom = (epsilon_quant - epsilon_mean) * 1000\n",
    "    return mse_mod_anom_surf - mse_mod_anom_ft - epsilon_anom\n",
    "\n",
    "def get_temp_s_anom_theory(temp_surf_mean, r_surf_mean, r_surf_quant, temp_ft_mean, temp_ft_quant, epsilon_mean, epsilon_quant, \n",
    "                           pressure_surf = p_surface, pressure_ft = pressure_ft_actual, use_taylor=False):\n",
    "    if not use_taylor:\n",
    "        return scipy.optimize.fsolve(temp_s_anom_fit_func, 5, args=(temp_surf_mean, r_surf_mean, r_surf_quant, temp_ft_mean, \n",
    "                                                                    temp_ft_quant, epsilon_mean, epsilon_quant, pressure_surf, pressure_ft))\n",
    "    else:\n",
    "        epsilon_anom = (epsilon_quant - epsilon_mean) * 1000\n",
    "        r_anom = r_surf_quant - r_surf_mean\n",
    "        temp_ft_anom = temp_ft_quant - temp_ft_mean\n",
    "        \n",
    "        _, q_sat_surf, _, beta_s1, _, _ = get_theory_prefactor_terms(temp_surf_mean, pressure_surf, pressure_ft, r_surf_mean * \n",
    "                                                                                    sphum_sat(temp_surf_mean, pressure_surf))\n",
    "        _, _, _, beta_ft1, _, _ = get_theory_prefactor_terms(temp_ft_mean, pressure_surf, pressure_ft)\n",
    "        return (beta_ft1 * temp_ft_anom + epsilon_anom - L_v * q_sat_surf * r_anom) / beta_s1"
   ],
   "outputs": [],
   "execution_count": 126
  },
  {
   "metadata": {
    "ExecuteTime": {
     "end_time": "2024-05-16T15:55:32.247046Z",
     "start_time": "2024-05-16T15:55:31.676440Z"
    }
   },
   "cell_type": "code",
   "source": [
    "temp_s_anom_theory = {key: np.zeros((n_exp, n_lat, n_quant_all)) for key in ['just_z', 'taylor']}\n",
    "for key in temp_s_anom_theory:\n",
    "    for i in range(n_exp):\n",
    "        for j in range(n_lat):\n",
    "            for k in range(n_quant_all):\n",
    "                temp_s_anom_theory[key][i, j, k] = get_temp_s_anom_theory(temp_mean[i, ind_surf, j], r_mean[i, j], r_quant3[i, j, k], \n",
    "                                                                          temp_mean[i, ind_ft, j], temp_quant3[i, ind_ft, j, k], \n",
    "                                                                          epsilon_mean[i, j], epsilon_quant3[i, j, k], use_taylor='taylor' in key)"
   ],
   "outputs": [],
   "execution_count": 127
  },
  {
   "metadata": {
    "ExecuteTime": {
     "end_time": "2024-05-16T15:55:32.368891Z",
     "start_time": "2024-05-16T15:55:32.251846Z"
    }
   },
   "cell_type": "code",
   "source": [
    "save_temp_s_anom_fig = True\n",
    "fig, ax = plt.subplots(1,1, figsize=(width['one_col'], width['one_col']/ar), sharex=True)\n",
    "linestyles_use = ['-', ':']\n",
    "for i in range(n_exp):\n",
    "    ax.plot(quantiles_all, np.average(temp_quant3[i, ind_surf] - temp_mean[i, ind_surf][:, np.newaxis], axis=0,weights=lat_weights), \n",
    "            color='k', label='Simulated' if i==0 else None, linestyle=linestyles_use[i], lw=2, alpha=0.2)\n",
    "    for j, key in enumerate(temp_s_anom_theory):\n",
    "        ax.plot(quantiles_all, np.average(temp_s_anom_theory[key][i], axis=0,weights=lat_weights), \n",
    "                color=default_colors[j], label=f'Theory ({key})' if i==0 else None, linestyle=linestyles_use[i], lw=ax_linewidth)\n",
    "ax.legend()\n",
    "\n",
    "if save_fig or save_temp_s_anom_fig:\n",
    "    fig.savefig(f\"/Users/joshduffield/Desktop/temp_s_anom_{region}_{season}.pdf\",\n",
    "                                dpi=dpi['combination'] if publish_fig else low_dpi, bbox_inches='tight', pad_inches=save_pad_inches)"
   ],
   "outputs": [
    {
     "data": {
      "text/plain": [
       "<Figure size 320x240 with 1 Axes>"
      ],
      "image/png": "[encoded data removed]"
     },
     "metadata": {},
     "output_type": "display_data"
    }
   ],
   "execution_count": 128
  },
  {
   "cell_type": "markdown",
   "source": [
    "## Adiabatic Temperature\n",
    "\n",
    "The starting point for the original theory is the assumption that $\\delta h(x) \\approx \\delta \\overline{h}$.\n",
    "\n",
    "We can define an adiabatic temperature, $T_{A, 500}$, such that the saturated free troposphere MSE is equal to the near-surface MSE:\n",
    "$h(x) = c_pT_s + L_v q + g z_s = c_p T_{A, 500} + L_vq^*(T_{A, 500}) + gz_{A, 500}$.\n",
    "\n",
    "Using the above approximation, we can sub in for $z_{A,500} - z_s \\approx \\frac{R\\ln 2}{2g}(T_s + T_{A, 500})$ to get:\n",
    "$h^{\\dagger} = (c_p - \\frac{R\\ln 2}{2})T_s + L_v q = (c_p + \\frac{R\\ln 2}{2})T_{A, 500} + L_vq^*(T_{A, 500})$ \n",
    "\n",
    "Similarly, in the mean we have $\\overline{h^{\\dagger}} = (c_p + \\frac{R\\ln 2}{2})\\overline{T_{A, 500}} + L_vq^*(\\overline{T_{A, 500}})$\n",
    "\n",
    "Where we have defined the modified moist static energy, $h^{\\dagger} = h - \\frac{R\\ln 2}{2}T - gz$\n",
    "\n",
    "Below, we solve these two equations to get estimates of $T_A(x)$ and $\\overline{T_A}$ (dropping the 500hPa indicator).\n",
    "\n",
    "The figure below is just a sanity check to ensure the equality of the two moist static energy like quantities. It also shows that $T_A$ differs from the actual free troposphere temperature. The different colours refer to the different simulations as usual."
   ],
   "metadata": {
    "collapsed": false
   }
  },
  {
   "cell_type": "code",
   "source": [
    "print(hjkdls)\n",
    "temp_adiabat_mean = np.zeros((n_exp, n_lat))\n",
    "temp_adiabat_quant3 = np.zeros((n_exp, n_lat, n_quant_all))\n",
    "for i in range(n_exp):\n",
    "    for j in range(n_lat):\n",
    "        temp_adiabat_mean[i, j] = get_temp_adiabat(temp_mean[i, ind_surf, j], sphum_mean[humid_calc][i, j], p_surface, pressure_ft_actual)\n",
    "        for k in range(n_quant_all):\n",
    "            temp_adiabat_quant3[i, j, k] = get_temp_adiabat(temp_quant3[i, ind_surf, j, k], sphum_quant3[humid_calc][i, j, k], \n",
    "                                                            p_surface, pressure_ft_actual)"
   ],
   "metadata": {
    "collapsed": false,
    "ExecuteTime": {
     "end_time": "2024-05-16T15:55:32.381273Z",
     "start_time": "2024-05-16T15:55:32.369818Z"
    }
   },
   "outputs": [
    {
     "ename": "NameError",
     "evalue": "name 'hjkdls' is not defined",
     "output_type": "error",
     "traceback": [
      "\u001B[0;31m---------------------------------------------------------------------------\u001B[0m",
      "\u001B[0;31mNameError\u001B[0m                                 Traceback (most recent call last)",
      "Cell \u001B[0;32mIn [129], line 1\u001B[0m\n\u001B[0;32m----> 1\u001B[0m \u001B[38;5;28mprint\u001B[39m(\u001B[43mhjkdls\u001B[49m)\n\u001B[1;32m      2\u001B[0m temp_adiabat_mean \u001B[38;5;241m=\u001B[39m np\u001B[38;5;241m.\u001B[39mzeros((n_exp, n_lat))\n\u001B[1;32m      3\u001B[0m temp_adiabat_quant3 \u001B[38;5;241m=\u001B[39m np\u001B[38;5;241m.\u001B[39mzeros((n_exp, n_lat, n_quant_all))\n",
      "\u001B[0;31mNameError\u001B[0m: name 'hjkdls' is not defined"
     ]
    }
   ],
   "execution_count": 129
  },
  {
   "cell_type": "code",
   "source": [
    "save_mse_ft_fig = False\n",
    "fig, ax = plt.subplots(2,1, figsize=(width['one_col'], 2*width['one_col']/ar), sharex=True)\n",
    "for i in range(n_exp):\n",
    "    ax[0].plot(quantiles_all, \n",
    "            np.average(temp_quant3[i, ind_ft], axis=0, weights=lat_weights), color=default_colors[i], label='$T_{FT}$' if i==0 else None)\n",
    "    ax[0].plot(quantiles_all, \n",
    "            np.average(temp_adiabat_quant3[i], axis=0, weights=lat_weights), color=default_colors[i], linestyle='--', \n",
    "               label='$T_A$' if i==0 else None)\n",
    "    ax[0].axhline(np.average(temp_mean[i, ind_ft], axis=0, weights=lat_weights), color=default_colors[i], lw=ax_linewidth, alpha=0.6)\n",
    "    ax[0].axhline(np.average(temp_adiabat_mean[i], axis=0, weights=lat_weights), color=default_colors[i], lw=ax_linewidth, alpha=0.6,\n",
    "                  linestyle='--')\n",
    "    ax[1].plot(quantiles_all, np.average(mse_mod_quant3[i], axis=0, weights=lat_weights), color=default_colors[i], \n",
    "               lw=2, alpha=0.2, label='$h^{\\dagger}$' if i==0 else None)\n",
    "    ax[1].plot(quantiles_all, np.average(moist_static_energy(temp_adiabat_quant3[i], sphum_sat(temp_adiabat_quant3[i], pressure_ft_actual),\n",
    "                                                             height=0, c_p_const=c_p + lnp_const), axis=0, weights=lat_weights),\n",
    "               color=default_colors[i], linestyle='--', label='$(c_p + \\\\frac{R\\ln 2}{2})T_{A} + L_vq^*(T_{A})$' if i==0 else None)\n",
    "    ax[1].axhline(np.average(mse_mod_mean[i], axis=0, weights=lat_weights), color=default_colors[i], \n",
    "               lw=1, alpha=0.2)\n",
    "    ax[1].axhline(np.average(moist_static_energy(temp_adiabat_mean[i], sphum_sat(temp_adiabat_mean[i], pressure_ft_actual),\n",
    "                                                 height=0, c_p_const=c_p + lnp_const), axis=0, weights=lat_weights), \n",
    "                  color=default_colors[i], linestyle='--', lw=ax_linewidth)\n",
    "ax[0].legend()\n",
    "ax[1].legend()\n",
    "ax[0].set_ylabel('Temperature [K]')\n",
    "ax[1].set_ylabel('Modified MSE [kJ/kg]')\n",
    "ax[1].set_xlabel(percentile_label)\n",
    "ax[0].set_xlim(0, 100)\n",
    "if save_fig or save_mse_ft_fig:\n",
    "    fig.savefig(f\"/Users/joshduffield/Desktop/mse_ft_sat_{region}_{season}.pdf\",\n",
    "                                dpi=dpi['combination'] if publish_fig else low_dpi, bbox_inches='tight', pad_inches=save_pad_inches)"
   ],
   "metadata": {
    "collapsed": false,
    "ExecuteTime": {
     "end_time": "2024-05-16T15:55:32.382707Z",
     "start_time": "2024-05-16T15:55:32.382548Z"
    }
   },
   "outputs": [],
   "execution_count": null
  },
  {
   "cell_type": "markdown",
   "source": [
    "## Extended Theory\n",
    "Doing a taylor expansion of $h^{\\dagger}(x)$ for a given simulation about $\\overline{T_A}$ we get:\n",
    "$h^{\\dagger}(x) \\approx (c_p+\\frac{R\\ln 2}{2}) \\overline{T_A} + L_v q^*(\\overline{T_A}) + (c_p + \\frac{R\\ln 2}{2} + L_v \\alpha(\\overline{T_A}) q^*(\\overline{T_A}))\\Delta T_A$\n",
    "\n",
    "Using the definition of $\\overline{h^{\\dagger}}$, this becomes:\n",
    "$h^{\\dagger}(x)-\\overline{h^{\\dagger}} \\approx (c_p + \\frac{R\\ln 2}{2} + L_v \\alpha q^*)\\Delta T_A$\n",
    "\n",
    "This is shown by the dashed lines in the top plot of the second figure below. The dotted lines include the squared term in the expansion.\n",
    "\n",
    "Taking the difference between simulations:\n",
    "$\\delta (h^{\\dagger}(x)-\\overline{h^{\\dagger}}) \\approx \\beta_1 \\delta \\Delta T_A + \\beta_2\\frac{\\Delta T_A}{\\overline{T_A}}\\delta \\overline{T_A}$\n",
    "where $\\beta_1 = \\frac{d\\overline{h^{\\dagger}}}{d\\overline{T_A}} = c_p + \\frac{R\\ln 2}{2} + L_v \\alpha q^*$ and $\\beta_2 = \\overline{T_A}\\frac{d\\beta_1}{d\\overline{T_A}} = L_v \\alpha q^*(\\alpha \\overline{T_A} - 2)$\n",
    "\n",
    "From the equation for $\\overline{h^{\\dagger}}$, we have $\\delta \\overline{T_A} \\approx \\frac{\\delta \\overline{h^{\\dagger}}}{\\beta_1}$. This is shown in the first plot below with the exact $\\delta \\overline{h^{\\dagger}}$.\n",
    "\n",
    "Combining everything, we have:\n",
    "$$\\delta (h^{\\dagger}(x)-\\overline{h^{\\dagger}}) \\approx \\beta_1 \\delta \\Delta T_A + \\frac{\\beta_2}{\\beta_1}\\frac{\\Delta T_A}{\\overline{T_A}}\\delta \\overline{h^{\\dagger}}$$\n",
    "\n",
    "This is shown by the thick red line in the bottom plot of the second figure below. The dotted red line includes squared terms in this equation. The black lines show just take the difference of the respective coloured lines in the plot above. The red dashed line should be the same as the red thick line - same equation used by different functions, really just a sanity check."
   ],
   "metadata": {
    "collapsed": false
   }
  },
  {
   "cell_type": "code",
   "source": [
    "def get_h_anom_theory(temp_adiabat_mean, temp_adiabat_quant, p_ft = pressure_ft_actual,\n",
    "                      include_squared_term=False):\n",
    "    \"\"\"\n",
    "        Get h - h_mean theory using taylor expansion and free troposphere adiabatic temperatures.\n",
    "    Args:\n",
    "        temp_adiabat_mean: float\n",
    "        temp_adiabat_quant: [n_quant]\n",
    "        p_ft: float\n",
    "        include_squared_term: bool\n",
    "\n",
    "    Returns:\n",
    "        [n_quant]\n",
    "            MSE anomaly in kJ/kg\n",
    "    \"\"\"\n",
    "    temp_adiabat_anom = temp_adiabat_quant - temp_adiabat_mean\n",
    "    alpha_mean = clausius_clapeyron_factor(temp_adiabat_mean, p_ft)\n",
    "    q_sat_mean = sphum_sat(temp_adiabat_mean, p_ft)\n",
    "    if include_squared_term:\n",
    "        squared_term = 0.5 * L_v * alpha_mean * q_sat_mean / temp_adiabat_mean * (alpha_mean * temp_adiabat_mean - 2) * temp_adiabat_anom**2\n",
    "    else:\n",
    "        squared_term = 0\n",
    "    return ((c_p + lnp_const) * temp_adiabat_anom + L_v * q_sat_mean * alpha_mean * temp_adiabat_anom + squared_term)/1000\n",
    "\n",
    "def get_delta_temp_adiabat_mean_theory(temp_adiabat_mean, mse_surf_mean, \n",
    "                                       temp_surf_mean = None, sphum_surf_mean = None, p_ft=pressure_ft_actual, p_surface=p_surface, \n",
    "                                       include_squared_term=False):\n",
    "    \"\"\"\n",
    "    Assumes n_exp=2\n",
    "    Args:\n",
    "        temp_adiabat_mean: [n_exp]\n",
    "        kappa_mean: [n_exp]\n",
    "        mse_surf_mean: [n_exp]\n",
    "            In units of kJ/kg\n",
    "            If given, computes the exact difference in MSE surface. Otherwise, does linear expansion with temp_surf and sphum_surf.\n",
    "        temp_surf_mean: [n_exp]\n",
    "        sphum_surf_mean: [n_exp]\n",
    "        p_ft: float (Pa)\n",
    "        p_surface: float (Pa)\n",
    "        include_squared_term: bool\n",
    "            If `True`, will include squared terms in taylor expansion\n",
    "\n",
    "    Returns:\n",
    "        float\n",
    "    \"\"\"\n",
    "    if mse_surf_mean is not None:\n",
    "        delta_mse = (mse_surf_mean[1] - mse_surf_mean[0]) * 1000        # convert into units of J/kg\n",
    "    else:\n",
    "        # Do linear taylor expansion to compute delta_mse if actual value not given\n",
    "        delta_rh = float(np.diff(sphum_surf_mean / sphum_sat(temp_surf_mean, p_surface)))\n",
    "        delta_temp_surf = temp_surf_mean[1] - temp_surf_mean[0]\n",
    "        alpha_surf = clausius_clapeyron_factor(temp_surf_mean[0], p_surface)\n",
    "        q_sat_surf = sphum_sat(temp_surf_mean[0], p_surface)\n",
    "        delta_mse = (c_p + L_v * sphum_surf_mean[0] * alpha_surf) * delta_temp_surf + L_v * q_sat_surf * delta_rh\n",
    "    alpha = clausius_clapeyron_factor(temp_adiabat_mean[0], p_ft)\n",
    "    q_sat = sphum_sat(temp_adiabat_mean[0], p_ft)\n",
    "    \n",
    "    beta_1 = c_p + lnp_const + L_v * alpha * q_sat                        # this is a float\n",
    "    beta_2 = L_v * alpha * q_sat * (alpha * temp_adiabat_mean[0] - 2)   # this is a float, same units as beta\n",
    "    final_answer = delta_mse/beta_1\n",
    "    if include_squared_term:\n",
    "        final_answer = final_answer - 0.5 * beta_2/(beta_1**3 * temp_adiabat_mean[0]) * delta_mse**2\n",
    "    return final_answer"
   ],
   "metadata": {
    "collapsed": false
   },
   "outputs": [],
   "execution_count": null
  },
  {
   "cell_type": "code",
   "source": [
    "delta_temp_adiabat_mean = {'simulated': temp_adiabat_mean[1]-temp_adiabat_mean[0], \n",
    "                           'linear': np.zeros(n_lat), 'squared': np.zeros(n_lat)}\n",
    "h_anom_theory = {'linear': np.zeros((n_exp, n_lat, n_quant_all)), 'squared': np.zeros((n_exp, n_lat, n_quant_all))}\n",
    "delta_h_anom = {'simulated': np.diff(mse_mod_quant3 - mse_mod_mean[:, :, np.newaxis], axis=0)[0], \n",
    "                'linear': np.zeros((n_lat, n_quant_all)), 'squared': np.zeros((n_lat, n_quant_all))}\n",
    "delta_h_anom_theory_prefactors = {key: np.zeros((n_lat, n_quant_all)) for key in \n",
    "                           ['temp_adiabat_anom', 'mse_mod_mean', 'mse_mod_mean_squared', 'non_linear']}\n",
    "delta_h_anom_theory_prefactors = {key: copy.deepcopy(delta_h_anom_theory_prefactors) for key in ['linear', 'squared', 'simple']}\n",
    "delta_h_anom_theory_diff = copy.deepcopy(delta_h_anom_theory_prefactors)\n",
    "delta_h_anom_theory_cont = copy.deepcopy(delta_h_anom_theory_prefactors)\n",
    "\n",
    "for j in range(n_lat):\n",
    "    for key in ['linear', 'squared']:\n",
    "        delta_temp_adiabat_mean[key][j] = \\\n",
    "            get_delta_temp_adiabat_mean_theory(temp_adiabat_mean[:, j], mse_mod_mean[:, j], \n",
    "                                               temp_mean[:, ind_surf, j], sphum_mean[humid_calc][:, j], \n",
    "                                               include_squared_term=True if key=='squared' else False)\n",
    "        delta_h_anom[key][j], info = get_delta_mse_mod_anom_theory(temp_mean[:, ind_surf, j], temp_quant3[:, ind_surf, j], sphum_mean[humid_calc][:, j],\n",
    "                                                                   sphum_quant3[humid_calc][:, j], p_surface, pressure_ft_actual, \n",
    "                                                                   taylor_terms=key)[:2]\n",
    "        for info_key in delta_h_anom_theory_prefactors['squared']:\n",
    "            delta_h_anom_theory_prefactors[key][info_key][j] = info[info_key][0]\n",
    "            delta_h_anom_theory_diff[key][info_key][j] = info[info_key][1]\n",
    "            delta_h_anom_theory_cont[key][info_key][j] = delta_h_anom_theory_prefactors[key][info_key][j] * \\\n",
    "                                                         delta_h_anom_theory_diff[key][info_key][j]\n",
    "    for i in range(n_exp):\n",
    "        for key in h_anom_theory:\n",
    "            h_anom_theory[key][i, j] = get_h_anom_theory(temp_adiabat_mean[i, j], temp_adiabat_quant3[i, j], \n",
    "                                                         include_squared_term=True if key=='squared' else False)"
   ],
   "metadata": {
    "collapsed": false
   },
   "outputs": [],
   "execution_count": null
  },
  {
   "cell_type": "code",
   "source": [
    "fig, ax = plt.subplots(1,1, figsize=(width['one_col'], width['one_col']/ar))\n",
    "linestyles_use = ['-', '--', ':']\n",
    "for i, key in enumerate(delta_temp_adiabat_mean):\n",
    "    ax.plot(ds_all[0].lat, delta_temp_adiabat_mean[key], color='k', label=key, linestyle=linestyles_use[i])\n",
    "    ax.axhline(np.average(delta_temp_adiabat_mean[key], weights=lat_weights, axis=0), color='k', \n",
    "               linestyle=linestyles_use[i], lw=2, alpha=0.1)\n",
    "ax.set_xlim(-lat_max, lat_max)\n",
    "ax.set_ylabel('$\\delta \\overline{T^A}$ [K]')\n",
    "ax.set_xlabel('Lat [deg]')\n",
    "ax.legend()\n",
    "plt.tight_layout()"
   ],
   "metadata": {
    "collapsed": false
   },
   "outputs": [],
   "execution_count": null
  },
  {
   "cell_type": "markdown",
   "source": [
    "Below, the linear red line captures the broad trend we are after."
   ],
   "metadata": {
    "collapsed": false
   }
  },
  {
   "cell_type": "code",
   "source": [
    "save_mse_anom_fig = False\n",
    "fig, ax = plt.subplots(2,1, figsize=(width['one_col'], 2*width['one_col']/ar), sharex=True)\n",
    "for i in range(n_exp):\n",
    "    ax[0].plot(quantiles_all, \n",
    "               np.average(mse_mod_quant3[i] - mse_mod_mean[i][:, np.newaxis], axis=0, weights=lat_weights),\n",
    "               color=default_colors[i], label=f'$\\\\tau={tau_lw[i]}$')\n",
    "    ax[0].plot(quantiles_all, \n",
    "               np.average(h_anom_theory['linear'][i], axis=0, weights=lat_weights),\n",
    "               color=default_colors[i], linestyle='--')\n",
    "    ax[0].plot(quantiles_all, \n",
    "               np.average(h_anom_theory['squared'][i], axis=0, weights=lat_weights),\n",
    "               color=default_colors[i], linestyle=':')\n",
    "ax[1].plot(quantiles_all, np.average(delta_h_anom['simulated'], \n",
    "                                     axis=0, weights=lat_weights), color='k', label='Simulated')\n",
    "ax[1].plot(quantiles_all, np.average(np.diff(h_anom_theory['linear'], axis=0)[0], axis=0, weights=lat_weights), \n",
    "           color='k', linestyle='--', label='$h$ Theory: linear')\n",
    "ax[1].plot(quantiles_all, np.average(np.diff(h_anom_theory['squared'], axis=0)[0], axis=0, weights=lat_weights), \n",
    "           color='k', linestyle=':', label='$h$ Theory: squared')\n",
    "ax[1].plot(quantiles_all, np.average(delta_h_anom['linear'], axis=0, weights=lat_weights), \n",
    "           color='r', linestyle='--', label='$\\delta h$ Theory: linear')\n",
    "ax[1].plot(quantiles_all, np.average(delta_h_anom['squared'], axis=0, weights=lat_weights), \n",
    "           color='r', linestyle=':', label='$\\delta h$ Theory: squared')\n",
    "ax[0].axhline(0, color='k', lw=ax_linewidth)\n",
    "ax[1].axhline(0, color='k', lw=ax_linewidth)\n",
    "ax[0].legend()\n",
    "ax[1].legend()\n",
    "ax[0].set_ylabel('$h^{\\dagger}-\\overline{h^{\\dagger}}$ [kJ/kg]')\n",
    "ax[1].set_ylabel('$\\delta (h^{\\dagger}-\\overline{h^{\\dagger}})$ [kJ/kg]')\n",
    "ax[1].set_xlabel(percentile_label)\n",
    "ax[0].set_xlim(0, 100)\n",
    "\n",
    "if save_fig or save_mse_anom_fig:\n",
    "    fig.savefig(f\"/Users/joshduffield/Desktop/mse_anom_{region}_{season}.pdf\",\n",
    "                dpi=dpi['combination'] if publish_fig else low_dpi, bbox_inches='tight', pad_inches=save_pad_inches)"
   ],
   "metadata": {
    "collapsed": false
   },
   "outputs": [],
   "execution_count": null
  },
  {
   "cell_type": "markdown",
   "source": [
    "## Breakdown of $\\delta (h^{\\dagger}(x) - \\overline{h^{\\dagger}})$ contributions\n",
    "Below I show which terms are most important in explaining why $\\lambda \\neq 1$."
   ],
   "metadata": {
    "collapsed": false
   }
  },
  {
   "cell_type": "code",
   "source": [
    "save_mse_anom_theory_decomp_fig = False\n",
    "fig, ax = plt.subplots(1,1, figsize=(width['one_col'], width['one_col']/ar), sharex=True)\n",
    "ax.plot(quantiles_all, np.average(delta_h_anom['simulated'], \n",
    "                                     axis=0, weights=lat_weights), color='k')\n",
    "ax.plot(quantiles_all, np.average(delta_h_anom['linear'], axis=0, weights=lat_weights), \n",
    "           color='k', linestyle='--')\n",
    "ax.plot(quantiles_all, np.average(delta_h_anom['squared'], axis=0, weights=lat_weights), \n",
    "           color='k', linestyle=':', alpha=0.5)\n",
    "for i, key in enumerate(delta_h_anom_theory_cont['linear']):\n",
    "    ax.plot(quantiles_all, np.average(delta_h_anom_theory_cont['linear'][key], axis=0, weights=lat_weights), \n",
    "            color=default_colors[i], label=key, linestyle='--')\n",
    "    ax.plot(quantiles_all, np.average(delta_h_anom_theory_cont['squared'][key], axis=0, weights=lat_weights), \n",
    "            color=default_colors[i], linestyle=':', alpha=0.5)\n",
    "ax.legend()\n",
    "ax.axhline(0, color='k', lw=ax_linewidth)\n",
    "ax.set_ylabel('$\\delta (h^{\\dagger}-\\overline{h^{\\dagger}})$ [kJ/kg]')\n",
    "ax.set_xlabel(percentile_label)\n",
    "ax.set_xlim(0, 100)\n",
    "\n",
    "if save_fig or save_mse_anom_theory_decomp_fig:\n",
    "    fig.savefig(f\"/Users/joshduffield/Desktop/mse_anom_theory_decomp_{region}_{season}.pdf\",\n",
    "                dpi=dpi['combination'] if publish_fig else low_dpi, bbox_inches='tight', pad_inches=save_pad_inches)"
   ],
   "metadata": {
    "collapsed": false
   },
   "outputs": [],
   "execution_count": null
  },
  {
   "cell_type": "markdown",
   "source": [
    "## Climatological $\\Delta T_A$ Breakdown\n",
    "The variation in the $\\delta \\overline{h}$ contribution is caused by the variation of $\\Delta T^A(x)$ with $x$ in the current climate.\n",
    "We can decompose this into a WTG and two Convective Equilibrium (CE) terms:\n",
    "$\\Delta T_{WTG}(x) = T_{FT}(x) - \\overline{T_{FT}}$\n",
    "$\\Delta T_{CE}(x) = T_{FT}(x) - T^A_{FT}(x)$\n",
    "$\\Delta \\overline{T_{CE}} = \\overline{T_{FT}} - \\overline{T^A_{FT}}$\n",
    "\n",
    "Putting everything together, we have:\n",
    "$\\Delta T^A(x) = T^A_{FT}(x) - \\overline{T^A_{FT}} = \\Delta T_{WTG}(x) - \\Delta T_{CE}(x) + \\Delta \\overline{T_{CE}}$\n",
    "\n",
    "If WTG and CE were both valid in the current climate, then clearly $\\Delta T^A(x) = 0$ and the `mse_mean` term in the above plot would be 0.\n",
    "\n",
    "Equally, we can decompose the change in the anomaly with warming, $\\delta \\Delta T^A(x)$:\n",
    "$\\delta (\\Delta T^A(x)) = \\delta (T^A_{FT}(x) - \\overline{T^A_{FT}}) = \\delta (\\Delta T_{WTG}(x)) - \\delta(\\Delta T_{CE}(x)) + \\delta(\\Delta \\overline{T_{CE}})$\n",
    "\n",
    "In convective-quasi equilibrium, we would expect $\\delta(\\Delta T_{CE}(x)) \\approx \\delta(\\Delta \\overline{T_{CE}}) \\approx 0$. If WTG remained valid, we would expect $\\delta (\\Delta T_{WTG}(x)) \\approx 0$. Together, they would give $\\delta (\\Delta T^A(x)) \\approx 0$.\n",
    "\n",
    "It seems that WTG is pretty well satisfied, and the main trend comes from the convection part.\n",
    "If convection becomes more prevalent on all days that are not yet convecting, the climatological $\\Delta T_{CE}$ and the change $\\delta \\Delta T_{CE}$ oppose each other. This happens for small $x$.\n",
    "\n",
    "If a climate is convecting i.e. $\\Delta T_{CE} < 0$ and CAPE increases with warming i.e. $\\delta \\Delta T_{CE} < 0$ then they reinforce each other. This happens at large $x$."
   ],
   "metadata": {
    "collapsed": false
   }
  },
  {
   "cell_type": "code",
   "source": [
    "temp_adiabat_anom = np.zeros((n_exp, n_lat, n_quant_all))\n",
    "temp_ce_mean_anom = np.zeros((n_exp, n_lat))\n",
    "temp_ce_quant = np.zeros((n_exp, n_lat, n_quant_all))\n",
    "temp_wtg_anom = np.zeros((n_exp, n_lat, n_quant_all))\n",
    "for j in range(n_lat):\n",
    "    temp_adiabat_anom[:, j], temp_ce_mean_anom[:, j], temp_ce_quant[:, j], temp_wtg_anom[:, j] = \\\n",
    "        decompose_temp_adiabat_anomaly(temp_mean[:, ind_surf, j], temp_quant3[:, ind_surf, j], sphum_mean[humid_calc][:, j], \n",
    "                                       sphum_quant3[humid_calc][:, j], \n",
    "                                       temp_mean[:, ind_ft, j], temp_quant3[:, ind_ft, j], p_surface, pressure_ft_actual)\n",
    "\n",
    "save_temp_adiabat_anom_fig = False\n",
    "fig, ax = plt.subplots(2,1, figsize=(width['one_col'], 2*width['one_col']/ar), sharex=True)\n",
    "linestyles_use = ['-', ':']\n",
    "alpha_use = [1, 0.3]\n",
    "for i in range(n_exp):\n",
    "    ax[0].plot(quantiles_all, np.average(temp_adiabat_anom[i], weights=lat_weights, axis=0), color='k', \n",
    "               label='$\\Delta T^A$' if i==0 else None, linestyle=linestyles_use[i], alpha=alpha_use[i])\n",
    "    ax[0].plot(quantiles_all, -np.average(temp_ce_quant[i], weights=lat_weights, axis=0), color=default_colors[0], \n",
    "               label='-$\\Delta T_{CE}$' if i==0 else None, linestyle=linestyles_use[i], alpha=alpha_use[i])\n",
    "    ax[0].plot(quantiles_all, np.average(temp_wtg_anom[i], weights=lat_weights, axis=0), color=default_colors[1], \n",
    "               label='$\\Delta T_{WTG}$' if i==0 else None, linestyle=linestyles_use[i], alpha=alpha_use[i])\n",
    "    ax[0].axhline(np.average(temp_ce_mean_anom[i], weights=lat_weights, axis=0), color=default_colors[2], \n",
    "                  label='$\\Delta \\overline{T_{CE}}$' if i==0 else None, linestyle=linestyles_use[i], alpha=alpha_use[i])\n",
    "ax[1].plot(quantiles_all, np.average(temp_adiabat_anom[1]-temp_adiabat_anom[0], weights=lat_weights, axis=0), color='k')\n",
    "ax[1].plot(quantiles_all, -np.average(temp_ce_quant[1]-temp_ce_quant[0], weights=lat_weights, axis=0), color=default_colors[0])\n",
    "ax[1].plot(quantiles_all, np.average(temp_wtg_anom[1] - temp_wtg_anom[0], weights=lat_weights, axis=0), color=default_colors[1])\n",
    "ax[1].axhline(np.average(temp_ce_mean_anom[1]-temp_ce_mean_anom[0], weights=lat_weights, axis=0), color=default_colors[2])\n",
    "ax[0].axhline(0, color='k', lw=ax_linewidth)\n",
    "ax[1].axhline(0, color='k', lw=ax_linewidth)\n",
    "ax[0].legend()\n",
    "ax[1].set_xlabel(percentile_label)\n",
    "ax[0].set_xlim(0, 100)\n",
    "ax[0].set_ylabel('Adiabatic temperature anomaly [K]', fontsize=6)\n",
    "ax[1].set_ylabel('$\\delta \\Delta T_A(x)$ [K]', fontsize=6)\n",
    "\n",
    "if save_fig or save_temp_adiabat_anom_fig:\n",
    "    fig.savefig(f\"/Users/joshduffield/Desktop/temp_adiabat_anom_{region}_{season}.pdf\",\n",
    "                dpi=dpi['combination'] if publish_fig else low_dpi, bbox_inches='tight', pad_inches=save_pad_inches)"
   ],
   "metadata": {
    "collapsed": false
   },
   "outputs": [],
   "execution_count": null
  },
  {
   "cell_type": "markdown",
   "source": [
    "Below is basically a repeat of the above, but I include the prefactors in the linear $\\delta (h^{\\dagger}(x)-\\overline{h^{\\dagger}})$ theory so the actual magnitudes can be compared.\n",
    "\n",
    "In the non-linear case, you get cross terms so it doesn't make much sense."
   ],
   "metadata": {
    "collapsed": false
   }
  },
  {
   "cell_type": "code",
   "source": [
    "save_mse_anom_decomp_fig = False\n",
    "fig, ax = plt.subplots(1,1, figsize=(width['one_col'], width['one_col']/ar), sharex=True)\n",
    "ax.plot(quantiles_all, np.average(delta_h_anom_theory_cont['linear']['mse_mod_mean'], weights=lat_weights, axis=0), \n",
    "        color='k', label='$\\Delta T^A$')\n",
    "prefactor_use = delta_h_anom_theory_cont['linear']['mse_mod_mean'] / temp_adiabat_anom[0]      # [n_lat, n_quant] but same for each quant\n",
    "ax.plot(quantiles_all, -np.average(prefactor_use * temp_ce_quant[0], weights=lat_weights, axis=0), \n",
    "        color=default_colors[0], label='-$\\Delta T_{CE}$')\n",
    "ax.plot(quantiles_all, np.average(prefactor_use * temp_wtg_anom[0], weights=lat_weights, axis=0), \n",
    "        color=default_colors[1], label='$\\Delta T_{WTG}$')\n",
    "ax.axhline(np.average(prefactor_use[:, 0] * temp_ce_mean_anom[0], weights=lat_weights, axis=0), color=default_colors[2], \n",
    "           label='$\\Delta \\overline{T_{CE}}$')\n",
    "prefactor_use = delta_h_anom_theory_prefactors['linear']['temp_adiabat_anom']\n",
    "ax.plot(quantiles_all, np.average(delta_h_anom_theory_cont['linear']['temp_adiabat_anom'], weights=lat_weights, axis=0), \n",
    "        color='k', linestyle='--')\n",
    "ax.plot(quantiles_all, -np.average(prefactor_use * (temp_ce_quant[1]-temp_ce_quant[0]), weights=lat_weights, axis=0), \n",
    "        color=default_colors[0], linestyle='--')\n",
    "ax.plot(quantiles_all, np.average(prefactor_use * (temp_wtg_anom[1]-temp_wtg_anom[0]), weights=lat_weights, axis=0), \n",
    "        color=default_colors[1], linestyle='--')\n",
    "ax.axhline(np.average(prefactor_use[:, 0] * (temp_ce_mean_anom[1]-temp_ce_mean_anom[0]), weights=lat_weights, axis=0), \n",
    "           color=default_colors[2], linestyle='--')\n",
    "ax.plot(quantiles_all, np.average(delta_h_anom_theory_cont['linear']['mse_mod_mean'] + delta_h_anom_theory_cont['linear']['temp_adiabat_anom'],\n",
    "                                  weights=lat_weights, axis=0), color='r', lw=2, alpha=0.1)\n",
    "ax.plot(quantiles_all, np.average(delta_h_anom['linear'], weights=lat_weights, axis=0), color='r', alpha=0.1, label='Total')\n",
    "ax.axhline(0, color='k', lw=ax_linewidth)\n",
    "ax.legend(fontsize=5)\n",
    "ax.set_ylabel('$\\delta (h^{\\dagger}-\\overline{h^{\\dagger}})$ [kJ/kg]')\n",
    "ax.set_xlabel(percentile_label)\n",
    "ax.set_xlim(0, 100)\n",
    "\n",
    "if save_fig or save_mse_anom_decomp_fig:\n",
    "    fig.savefig(f\"/Users/joshduffield/Desktop/mse_anom_decomp_{region}_{season}.pdf\",\n",
    "                dpi=dpi['combination'] if publish_fig else low_dpi, bbox_inches='tight', pad_inches=save_pad_inches)"
   ],
   "metadata": {
    "collapsed": false
   },
   "outputs": [],
   "execution_count": null
  },
  {
   "cell_type": "markdown",
   "source": [
    "### Conversion between $\\Delta T_{WTG}$ and $\\Delta z$\n",
    "For the extratropics, we know WTG is not valid, so we want to consider geopotential height instead i.e. $\\Delta z = z(x) - \\overline{z}$. Below, we see how we can convert between the two terms.\n",
    "\n",
    "We can start with our equation for $z$: $z_{FT}(x) - z_s(x) \\approx \\frac{R\\ln 2}{2g}(T_s(x) + T_{FT}(x))$ and $\\overline{z_{FT}} - \\overline{z_s} \\approx \\frac{R\\ln 2}{2g}(\\overline{T_s} + \\overline{T_{FT}})$\n",
    "\n",
    "Subtracting the two, we have:\n",
    "$\\Delta z - (z_s - \\overline{z_s}) \\approx \\frac{R\\ln 2}{2g}(T_s - \\overline{T_s} + \\Delta T_{WTG})$\n",
    "\n",
    "Rearranging, we get an equation for $\\Delta T_{WTG}$:\n",
    "$\\Delta T_{WTG} \\approx \\frac{2g}{R\\ln 2}(\\Delta z - \\Delta z_s) - \\Delta T_s$\n",
    "\n",
    "Taking the difference between simulations, we get:\n",
    "$\\delta \\Delta T_{WTG} \\approx \\frac{2g}{R\\ln 2}(\\delta \\Delta z - \\delta \\Delta z_s) - \\delta \\Delta T_s$\n",
    "\n",
    "In the second plot below, we see that this theory differs quite a lot from the simulated $\\Delta T_{WTG}$. This is because of the intitial $z$ approximate equation. I.e. this plot and the $\\Delta z$ plot earlier look very similar, just shifted by the $\\Delta T_s$ term.\n",
    "\n",
    "It is clear that we can neglect the $\\Delta z_s$ terms though."
   ],
   "metadata": {
    "collapsed": false
   }
  },
  {
   "cell_type": "code",
   "source": [
    "save_wtg_fig = False\n",
    "fig, ax = plt.subplots(2,1, figsize=(width['one_col'], 2*width['one_col']/ar), sharex=True)\n",
    "scale_factor = temp_mean[0, ind_ft] / z_mean[0, ind_ft]         # to put z on same axis as temp\n",
    "for i in range(n_exp):\n",
    "    ax[0].plot(quantiles_all, np.average(temp_quant3[i, ind_ft] - temp_mean[i, ind_ft][:, np.newaxis], weights=lat_weights, axis=0),\n",
    "            color=default_colors[i], label=f'$\\\\tau={tau_lw[i]}$')\n",
    "    ax[0].plot(quantiles_all, \n",
    "            np.average(scale_factor[:, np.newaxis] * (z_quant3[i, ind_ft] - z_mean[i, ind_ft][:, np.newaxis]), \n",
    "                       weights=lat_weights, axis=0), color=default_colors[i], linestyle=':')\n",
    "ax[1].plot(quantiles_all, np.average(np.diff(temp_quant3[:, ind_ft] - temp_mean[:, ind_ft, :, np.newaxis], axis=0)[0],\n",
    "                                     weights=lat_weights, axis=0), color='k', label='$T_{FT}(x) - \\overline{T_{FT}}$')\n",
    "ax[1].plot(quantiles_all, \n",
    "           np.average(scale_factor[:, np.newaxis] * np.diff((z_quant3[:, ind_ft] - z_mean[:, ind_ft, :, np.newaxis]), axis=0)[0], \n",
    "                      weights=lat_weights, axis=0), color='k', linestyle=':', \n",
    "           label='$\\\\frac{1}{\\overline{\\kappa_{ref}}}(z_{FT}(x) - \\overline{z_{FT}})$')\n",
    "# ax[1].plot(quantiles_all, np.average(np.diff(temp_quant3[:, ind_ft] - temp_mean[:, ind_ft, np.newaxis], axis=0)[0],\n",
    "#                                      weights=lat_weights, axis=0), color='k')\n",
    "ax[0].axhline(0, color='k', lw=ax_linewidth)\n",
    "ax[1].axhline(0, color='k', lw=ax_linewidth)\n",
    "ax[0].set_ylabel('$\\Delta T_{WTG}$ [K]')\n",
    "ax[1].set_ylabel('$\\delta \\Delta T_{WTG}$ [K]')\n",
    "ax[0].legend()\n",
    "ax[1].legend()\n",
    "ax[1].set_xlabel(percentile_label)\n",
    "ax[0].set_xlim(0, 100)\n",
    "\n",
    "if save_fig or save_wtg_fig:\n",
    "    fig.savefig(f\"/Users/joshduffield/Desktop/wtg_{region}_{season}.pdf\",\n",
    "                dpi=dpi['combination'] if publish_fig else low_dpi, bbox_inches='tight', pad_inches=save_pad_inches)"
   ],
   "metadata": {
    "collapsed": false
   },
   "outputs": [],
   "execution_count": null
  },
  {
   "cell_type": "code",
   "source": [
    "def get_temp_wtg(z_ft_mean, z_ft_quant, temp_surf_mean, temp_surf_quant, z_surf_mean, z_surf_quant = None):\n",
    "    \"\"\"\n",
    "    Args:\n",
    "        z_ft_mean: float\n",
    "        z_ft_quant: [n_quant]\n",
    "        temp_surf_mean: float\n",
    "        temp_surf_quant: [n_quant]\n",
    "        z_surf_mean: float\n",
    "        z_surf_quant: [n_quant]\n",
    "            If not given, will assume no variation of z_surf with temperature percentile i.e. anomaly=0.\n",
    "\n",
    "    Returns:\n",
    "        [n_quant]\n",
    "    \"\"\"\n",
    "    z_ft_anom = z_ft_quant - z_ft_mean\n",
    "    temp_surf_anom = temp_surf_quant - temp_surf_mean\n",
    "    if z_surf_quant is None:\n",
    "        z_surf_anom = np.zeros_like(z_ft_anom)\n",
    "    else:\n",
    "        z_surf_anom = z_surf_quant - z_surf_mean\n",
    "    \n",
    "    return g/lnp_const * (z_ft_anom - z_surf_anom) - temp_surf_anom\n",
    "\n",
    "def get_delta_temp_wtg(z_ft_mean, z_ft_quant, temp_surf_mean, temp_surf_quant, z_surf_mean, z_surf_quant = None):\n",
    "    \"\"\"\n",
    "    Args:\n",
    "        z_ft_mean: [n_exp]\n",
    "        z_ft_quant: [n_exp, n_quant]\n",
    "        temp_surf_mean: [n_exp]\n",
    "        temp_surf_quant: [n_exp, n_quant]\n",
    "        z_surf_mean: [n_exp]\n",
    "        z_surf_quant: [n_exp, n_quant]\n",
    "            If not given, will assume no variation of z_surf with temperature percentile i.e. anomaly=0.\n",
    "\n",
    "    Returns:\n",
    "        [n_quant]\n",
    "    \"\"\"\n",
    "    z_ft_anom = z_ft_quant - z_ft_mean[:, np.newaxis]\n",
    "    temp_surf_anom = temp_surf_quant - temp_surf_mean[:, np.newaxis]\n",
    "    if z_surf_quant is None:\n",
    "        z_surf_anom = np.zeros_like(z_ft_anom)\n",
    "    else:\n",
    "        z_surf_anom = z_surf_quant - z_surf_mean[:, np.newaxis]\n",
    "        \n",
    "    delta_z_ft_anom = z_ft_anom[1] - z_ft_anom[0]\n",
    "    delta_temp_surf_anom = temp_surf_anom[1] - temp_surf_anom[0]\n",
    "    delta_z_surf_anom = z_surf_anom[1] - z_surf_anom[0]\n",
    "    \n",
    "    return g/lnp_const * (delta_z_ft_anom - delta_z_surf_anom) - delta_temp_surf_anom\n",
    "\n",
    "temp_wtg_anom_from_z = {key: np.zeros((n_exp, n_lat, n_quant_all)) for key in ['no_z_surf', 'with_z_surf']}\n",
    "delta_temp_wtg_anom_from_z = {key: np.zeros((n_lat, n_quant_all)) for key in ['no_z_surf', 'with_z_surf']}\n",
    "\n",
    "for j in range(n_lat):\n",
    "    for key in delta_temp_wtg_anom_from_z:\n",
    "        delta_temp_wtg_anom_from_z[key][j] = get_delta_temp_wtg(z_mean[:, ind_ft, j], z_quant3[:, ind_ft, j], \n",
    "                                                                temp_mean[:, ind_surf, j], temp_quant3[:, ind_surf, j],\n",
    "                                                                z_mean[:, ind_surf, j], \n",
    "                                                                z_quant3[:, ind_surf, j] if 'with' in key else None)\n",
    "        for i in range(n_exp):\n",
    "            temp_wtg_anom_from_z[key][i, j] = get_temp_wtg(z_mean[i, ind_ft, j], z_quant3[i, ind_ft, j], \n",
    "                                                           temp_mean[i, ind_surf, j], temp_quant3[i, ind_surf, j],\n",
    "                                                           z_mean[i, ind_surf, j], z_quant3[i, ind_surf, j] if 'with' in key else None)"
   ],
   "metadata": {
    "collapsed": false
   },
   "outputs": [],
   "execution_count": null
  },
  {
   "cell_type": "code",
   "source": [
    "save_wtg_theory_fig = False\n",
    "fig, ax = plt.subplots(2,1, figsize=(width['one_col'], 2*width['one_col']/ar), sharex=True)\n",
    "for i in range(n_exp):\n",
    "    ax[0].plot(quantiles_all, np.average(temp_wtg_anom[i], weights=lat_weights, axis=0), color=default_colors[i], \n",
    "               label=f'$\\\\tau={tau_lw[i]}$', alpha=0.4, lw=2)\n",
    "    ax[0].plot(quantiles_all, np.average(temp_wtg_anom_from_z['with_z_surf'][i], weights=lat_weights, axis=0), color=default_colors[i], \n",
    "               linestyle='--')\n",
    "    ax[0].plot(quantiles_all, np.average(temp_wtg_anom_from_z['no_z_surf'][i], weights=lat_weights, axis=0), color=default_colors[i], \n",
    "               linestyle=':')\n",
    "ax[1].plot(quantiles_all, np.average(np.diff(temp_wtg_anom, axis=0)[0], weights=lat_weights, axis=0), color='k', \n",
    "           alpha=0.4, lw=2, label='Simulated')\n",
    "ax[1].plot(quantiles_all, np.average(delta_temp_wtg_anom_from_z['with_z_surf'], weights=lat_weights, axis=0),\n",
    "           color='k', linestyle='--', label='$\\Delta z_s \\\\neq 0$')\n",
    "ax[1].plot(quantiles_all, np.average(delta_temp_wtg_anom_from_z['no_z_surf'], weights=lat_weights, axis=0),\n",
    "           color='k', linestyle=':', label='$\\Delta z_s = 0$')\n",
    "ax[0].legend()\n",
    "ax[1].legend()\n",
    "ax[0].axhline(0, color='k', lw=ax_linewidth)\n",
    "ax[1].axhline(0, color='k', lw=ax_linewidth)\n",
    "ax[1].set_xlabel(percentile_label)\n",
    "ax[0].set_xlim(0, 100)\n",
    "ax[0].set_ylabel('$\\Delta T_{WTG}$ [K]')\n",
    "ax[1].set_ylabel('$\\delta \\Delta T_{WTG}$ [K]')\n",
    "if save_fig or save_wtg_theory_fig:\n",
    "    fig.savefig(f\"/Users/joshduffield/Desktop/wtg_theory_{region}_{season}.pdf\",\n",
    "                dpi=dpi['combination'] if publish_fig else low_dpi, bbox_inches='tight', pad_inches=save_pad_inches)"
   ],
   "metadata": {
    "collapsed": false
   },
   "outputs": [],
   "execution_count": null
  },
  {
   "cell_type": "markdown",
   "source": [
    "## Theory for $\\delta T_s$\n",
    "\n",
    "Next we want to substitute these two equations into the following, and put all the $\\delta T_s$ terms on the LHS. \n",
    "$\\delta (h^{\\dagger}(x)-\\overline{h^{\\dagger}}) \\approx \\beta_1 \\delta (\\Delta T_{WTG} + \\Delta \\overline{T_{CE}} - \\Delta T_{CE}) + \\frac{\\beta_2}{\\beta_1}\\frac{(\\Delta T_{WTG} + \\Delta \\overline{T_{CE}} - \\Delta T_{CE})}{\\overline{T_A}}\\delta \\overline{h^{\\dagger}}$\n",
    "\n",
    "In $\\Delta T_{WTG}$ form, we get:\n",
    "\n",
    "$\\left(c_p - \\frac{R\\ln 2}{2} + L_v\\alpha_s(x)q(x)\\right)\\delta T_s(x) + L_vq^*_s(x)\\delta r(x) \\approx \\beta_1 \\delta (\\Delta T_{WTG} + \\Delta \\overline{T_{CE}} - \\Delta T_{CE}) + \\\\\n",
    "\\left(1+\\frac{\\beta_2}{\\beta_1}\\frac{(\\Delta T_{WTG} + \\Delta \\overline{T_{CE}} - \\Delta T_{CE})}{\\overline{T_A}}\\right)\\left((c_p - \\frac{R\\ln 2}{2} + L_v\\bar{\\alpha_s}\\overline{q})\\delta \\overline{T_s} + L_v\\overline{q^*_s}\\delta \\overline{r}\\right)$\n",
    "\n",
    "In $\\Delta z$ form, we get:\n",
    "\n",
    "$\\left(c_p - \\frac{R\\ln 2}{2} + \\beta_1 + L_v\\alpha_s(x)q(x)\\right)\\delta T_s(x) + L_vq^*_s(x)\\delta r(x) \\approx \\beta_1 \\delta (\\frac{2g}{R\\ln 2}\\Delta z + \\Delta \\overline{T_{CE}} - \\Delta T_{CE}) + \\\\\n",
    "\\left(1+\\frac{\\beta_2}{\\beta_1}\\frac{(\\frac{2g}{R\\ln 2}\\Delta z - \\Delta T_s + \\Delta \\overline{T_{CE}} - \\Delta T_{CE})}{\\overline{T_A}}\\right)\\left((c_p - \\frac{R\\ln 2}{2} + L_v\\bar{\\alpha_s}\\overline{q})\\delta \\overline{T_s} + L_v\\overline{q^*_s}\\delta \\overline{r}\\right) + \\beta_1 \\delta \\overline{T_s}$\n",
    "\n",
    "We can simplify this by neglecting $\\delta \\overline{r}$ when multiplied by a $\\Delta T$ or $\\Delta z$ term. Then the theory is basically the old theory plus two additional terms. One for $\\delta \\Delta T$ and one for $\\Delta T \\delta \\overline{T}$."
   ],
   "metadata": {
    "collapsed": false
   }
  },
  {
   "cell_type": "code",
   "source": [
    "delta_temp_theory = {key: np.zeros((n_lat, n_quant_all)) for key in ['wtg', 'z', 'wtg_no_rh', 'z_no_rh', 'old', 'old_no_rh', 'best', 'best_no_rh',\n",
    "                                                                     'wtg_simple', 'z_simple', 'new_wtg_q', 'new_z_q', 'new_wtg_r', 'new_z_r']}\n",
    "delta_temp_theory_prefactors = {key: np.zeros((n_lat, n_quant_all)) for key in \n",
    "                                ['temp_s_mean', 'r_mean', 'r_quant', 'temp_a','temp_s_mean_squared', 'temp_s_mean_temp_a0', 'r_mean_temp_a0',\n",
    "                                 'temp_s_mean_squared_temp_a0', 'temp_s_mean_cubed_temp_a0', 'r_mean_squared_temp_a0', \n",
    "                                 'nl_temp_s_mean_temp_a', 'nl_r_mean_temp_a', 'nl_temp_s_mean_r_mean']}\n",
    "delta_temp_theory_prefactors =  {key: copy.deepcopy(delta_temp_theory_prefactors) for key in \n",
    "                                 ['wtg', 'z', 'wtg_no_rh', 'z_no_rh', 'old', 'old_no_rh', 'wtg_simple', 'z_simple']}\n",
    "delta_temp_theory_changes = copy.deepcopy(delta_temp_theory_prefactors)\n",
    "delta_temp_theory_cont = copy.deepcopy(delta_temp_theory_prefactors)\n",
    "\n",
    "delta_temp_theory_prefactors_new = {key: np.zeros((n_lat, n_quant_all)) for key in \n",
    "                                    ['temp_s', 'humidity', 'r_change', 'temp_a_change']}\n",
    "delta_temp_theory_prefactors_new = {key: copy.deepcopy(delta_temp_theory_prefactors_new) for key in ['new_wtg_q', 'new_z_q', 'new_wtg_r', 'new_z_r']}\n",
    "delta_temp_theory_changes_new = copy.deepcopy(delta_temp_theory_prefactors_new)\n",
    "delta_temp_theory_cont_new = copy.deepcopy(delta_temp_theory_prefactors_new)\n",
    "\n",
    "for j in range(n_lat):\n",
    "    for key in delta_temp_theory:\n",
    "        if 'old' in key:\n",
    "            continue\n",
    "        if 'best' in key:\n",
    "            delta_temp_theory[key][j], _, info_coef, info_change = \\\n",
    "                get_delta_temp_quant_theory(temp_mean[:, ind_surf, j], temp_quant3[:, ind_surf, j], sphum_mean[humid_calc][:, j],\n",
    "                                            sphum_quant3[humid_calc][:, j], p_surface, pressure_ft_actual, None, None, None, None, \n",
    "                                            'squared', 'squared', 'none' if 'no_rh' in key else 'full')\n",
    "            continue\n",
    "        elif 'simple' in key:\n",
    "            if 'z' in key:\n",
    "                delta_temp_theory[key][j], _, info_coef, info_change = \\\n",
    "                    get_delta_temp_quant_theory_simple(temp_mean[:, ind_surf, j], temp_quant3[:, ind_surf, j], sphum_mean[humid_calc][:, j],\n",
    "                                                       sphum_quant3[humid_calc][:, j], p_surface, pressure_ft_actual, temp_mean[:, ind_ft, j],\n",
    "                                                       temp_quant3[:, ind_ft, j], z_mean[:, ind_ft, j], z_quant3[:, ind_ft, j])\n",
    "            elif 'wtg' in key:\n",
    "                delta_temp_theory[key][j], _, info_coef, info_change = \\\n",
    "                    get_delta_temp_quant_theory_simple(temp_mean[:, ind_surf, j], temp_quant3[:, ind_surf, j], sphum_mean[humid_calc][:, j],\n",
    "                                                       sphum_quant3[humid_calc][:, j], p_surface, pressure_ft_actual)\n",
    "        elif 'new' in key:\n",
    "            if 'z' in key:\n",
    "                delta_temp_theory[key][j], info_coef, info_change = \\\n",
    "                    get_delta_temp_quant_theory_simple2(temp_mean[:, ind_surf, j], temp_quant3[:, ind_surf, j], sphum_mean[humid_calc][:, j], \n",
    "                                                        sphum_quant3[humid_calc][:, j], p_surface, pressure_ft_actual, temp_mean[:, ind_ft, j],\n",
    "                                                        temp_quant3[:, ind_ft, j], z_mean[:, ind_ft, j], z_quant3[:, ind_ft, j], \n",
    "                                                        use_sphum_anom0='q' in key)\n",
    "            elif 'wtg' in key:\n",
    "                delta_temp_theory[key][j], info_coef, info_change = \\\n",
    "                    get_delta_temp_quant_theory_simple2(temp_mean[:, ind_surf, j], temp_quant3[:, ind_surf, j], sphum_mean[humid_calc][:, j], \n",
    "                                                        sphum_quant3[humid_calc][:, j], p_surface, pressure_ft_actual, use_sphum_anom0='q' in key)\n",
    "            for var in info_coef:\n",
    "                delta_temp_theory_prefactors_new[key][var][j] = info_coef[var]\n",
    "                delta_temp_theory_changes_new[key][var][j] = info_change[var]\n",
    "                delta_temp_theory_cont_new[key][var][j] = info_coef[var] * info_change[var]\n",
    "            continue\n",
    "        else:\n",
    "            if 'z' in key:\n",
    "                delta_temp_theory[key][j], _, info_coef, info_change = \\\n",
    "                    get_delta_temp_quant_theory(temp_mean[:, ind_surf, j], temp_quant3[:, ind_surf, j], sphum_mean[humid_calc][:, j], \n",
    "                                                sphum_quant3[humid_calc][:, j], p_surface, pressure_ft_actual, temp_mean[:, ind_ft, j], \n",
    "                                                temp_quant3[:, ind_ft, j], z_mean[:, ind_ft, j], z_quant3[:, ind_ft, j], 'linear', 'linear',\n",
    "                                                'none' if 'no_rh' in key else 'approx_anomaly', 'approx')\n",
    "            elif 'wtg' in key:\n",
    "                delta_temp_theory[key][j], delta_temp_theory[key.replace('wtg', 'old')][j], info_coef, info_change = \\\n",
    "                    get_delta_temp_quant_theory(temp_mean[:, ind_surf, j], temp_quant3[:, ind_surf, j], sphum_mean[humid_calc][:, j], \n",
    "                                                sphum_quant3[humid_calc][:, j], p_surface, pressure_ft_actual, None, None, None, None, 'linear',\n",
    "                                                'linear', 'none' if 'no_rh' in key else 'approx_anomaly', 'approx')\n",
    "        for info_key in info_coef:\n",
    "            delta_temp_theory_prefactors[key][info_key][j] = info_coef[info_key]\n",
    "            delta_temp_theory_changes[key][info_key][j] = info_change[info_key]\n",
    "            delta_temp_theory_cont[key][info_key][j] = info_coef[info_key] * info_change[info_key]"
   ],
   "metadata": {
    "collapsed": false
   },
   "outputs": [],
   "execution_count": null
  },
  {
   "metadata": {},
   "cell_type": "code",
   "source": [
    "# sanity check that sum of change terms is equal to total theory\n",
    "key = 'wtg'\n",
    "theory_sanity_check = 0\n",
    "for info_key in delta_temp_theory_cont[key]:\n",
    "    if 'change' not in info_key:\n",
    "        continue\n",
    "    theory_sanity_check = theory_sanity_check + delta_temp_theory_cont[key][info_key]\n",
    "np.max(np.abs(sum(delta_temp_theory_cont[key].values()) - delta_temp_theory[key]))"
   ],
   "outputs": [],
   "execution_count": null
  },
  {
   "metadata": {},
   "cell_type": "code",
   "source": [
    "# sanity check that simple function works same as complete function\n",
    "print('Sanity check that complete and simple functions give same result')\n",
    "for key in ['wtg', 'z']:\n",
    "    print(f\"{key} - total: {np.max(np.abs(delta_temp_theory[key] - delta_temp_theory[key+'_simple']))}\")\n",
    "    for var in ['temp_s_mean', 'r_mean', 'r_quant', 'temp_a', 'temp_s_mean_temp_a0']:\n",
    "        print(f\"{key} - {var}: {np.max(np.abs(delta_temp_theory_cont[key][var] - delta_temp_theory_cont[key+'_simple'][var]))}\")"
   ],
   "outputs": [],
   "execution_count": null
  },
  {
   "cell_type": "code",
   "source": [
    "save_delta_temp_theory_fig = False\n",
    "fig, ax = plt.subplots(1,1, figsize=(width['one_col'], width['one_col']/ar), sharex=True)\n",
    "ax = [ax]\n",
    "ax[0].plot(quantiles_all, np.average(temp_quant3[1, ind_surf] - temp_quant3[0, ind_surf], weights=lat_weights, axis=0), \n",
    "           color='k', label='Simulated')\n",
    "# ax[0].plot(quantiles_all, np.average(delta_temp_theory['old'], weights=lat_weights, axis=0), color='r', \n",
    "#            label='Theory - Old')\n",
    "# ax[0].plot(quantiles_all, np.average(delta_temp_theory['old_no_rh'], weights=lat_weights, axis=0), color='r', \n",
    "#            linestyle=':')\n",
    "ax[0].plot(quantiles_all, np.average(delta_temp_theory['wtg'], weights=lat_weights, axis=0), color=default_colors[0], \n",
    "           label='Theory - WTG')\n",
    "ax[0].plot(quantiles_all, np.average(delta_temp_theory['z'], weights=lat_weights, axis=0), color=default_colors[1], \n",
    "           label='Theory - $z$')\n",
    "# ax[0].plot(quantiles_all, np.average(delta_temp_theory['wtg_no_rh'], weights=lat_weights, axis=0), color=default_colors[0], \n",
    "#            linestyle=':')\n",
    "# ax[0].plot(quantiles_all, np.average(delta_temp_theory['z_no_rh'], weights=lat_weights, axis=0), color=default_colors[1], \n",
    "#            linestyle=':')\n",
    "ax[0].plot(quantiles_all, np.average(delta_temp_theory['best'], weights=lat_weights, axis=0), color='green', \n",
    "           label='Theory - Best')\n",
    "# ax[0].plot(quantiles_all, np.average(delta_temp_theory['best_no_rh'], weights=lat_weights, axis=0), color='green', \n",
    "#            linestyle=':')\n",
    "ax[0].plot(quantiles_all, np.average(delta_temp_theory['new_wtg_q'], weights=lat_weights, axis=0), color='purple', \n",
    "           label='Theory - new WTG')\n",
    "ax[0].plot(quantiles_all, np.average(delta_temp_theory['new_z_q'], weights=lat_weights, axis=0), color='purple', \n",
    "           label='Theory - new $z$', linestyle='--')\n",
    "ax[0].plot(quantiles_all, np.average(delta_temp_theory['new_wtg_r'], weights=lat_weights, axis=0), color='brown', \n",
    "           label='Theory - new WTG (rh)')\n",
    "ax[0].plot(quantiles_all, np.average(delta_temp_theory['new_z_r'], weights=lat_weights, axis=0), color='brown', \n",
    "           label='Theory - new $z$ (rh)', linestyle='--')\n",
    "ax[0].set_xlabel(percentile_label)\n",
    "ax[0].set_xlim(0, 100)\n",
    "ax[0].legend()\n",
    "ax[0].set_ylabel('$\\delta T_s$')\n",
    "\n",
    "if save_fig or save_delta_temp_theory_fig:\n",
    "    fig.savefig(f\"/Users/joshduffield/Desktop/delta_temp_theory_{region}_{season}.pdf\",\n",
    "                dpi=dpi['combination'] if publish_fig else low_dpi, bbox_inches='tight', pad_inches=save_pad_inches)"
   ],
   "metadata": {
    "collapsed": false
   },
   "outputs": [],
   "execution_count": null
  },
  {
   "metadata": {},
   "cell_type": "markdown",
   "source": [
    "## Decompose $\\Delta T_A$ and $\\delta \\Delta T_A$ terms in $\\delta T_s(x)$ Theory\n",
    "Below I plot the contributions of $\\Delta T_A$ and $\\delta \\Delta T_A$ terms to the most simple linear theory.\n",
    "I then decompose these contributions into the more physical convective equilibrium and WTG terms."
   ]
  },
  {
   "metadata": {},
   "cell_type": "code",
   "source": [
    "# multiply z_anom by factor used in formula so same units as temperature\n",
    "z_ft_mod_anom = (z_quant3[:, ind_ft] - z_mean[:, ind_ft][:, :, np.newaxis]) * g / lnp_const \n",
    "delta_z_ft_mod_anom = z_ft_mod_anom[1] - z_ft_mod_anom[0]         \n",
    "delta_temp_ce_mean = temp_ce_mean_anom[1] - temp_ce_mean_anom[0]\n",
    "delta_temp_ce_quant = temp_ce_quant[1] - temp_ce_quant[0]\n",
    "delta_temp_wtg_anom = temp_wtg_anom[1] - temp_wtg_anom[0]"
   ],
   "outputs": [],
   "execution_count": null
  },
  {
   "cell_type": "code",
   "source": [
    "save_delta_temp_theory_decomp_fig = False\n",
    "exp_plot = 'wtg'          # Note that these plots are the same for 'no_rh' experiments as rh changes excluded when multiply Delta T_A factors.\n",
    "# Get prefactor for all terms with base climate adiabatic temp anomaly\n",
    "coef_temp_a0 = sum([delta_temp_theory_cont[exp_plot][var] for var in delta_temp_theory_cont[exp_plot] if 'temp_a0' in var])/temp_adiabat_anom[0]\n",
    "fig, ax = plt.subplots(2,1, figsize=(width['one_col'], 2*width['one_col']/ar), sharex=True, sharey=True)\n",
    "ax[0].plot(quantiles_all, np.average(delta_temp_theory_cont[exp_plot]['temp_a'], weights=lat_weights, axis=0),\n",
    "           color='k', label='$\\delta \\Delta T_A$')\n",
    "ax[0].plot(quantiles_all, np.average(coef_temp_a0 * temp_adiabat_anom[0], weights=lat_weights, axis=0),\n",
    "           linestyle=':', color='k', label='$\\Delta T_A$')\n",
    "ax[0].plot(quantiles_all, np.average(delta_temp_theory_cont[exp_plot]['temp_a'] + coef_temp_a0 * temp_adiabat_anom[0], \n",
    "                                     weights=lat_weights, axis=0), lw=2, alpha=0.1, color='k', label='Sum')\n",
    "\n",
    "ax[1].plot(quantiles_all, -np.average(delta_temp_theory_prefactors[exp_plot]['temp_a'] * delta_temp_ce_quant, weights=lat_weights, axis=0),\n",
    "           color=default_colors[0], label='$T_{CE}$')\n",
    "if 'wtg' in exp_plot:\n",
    "    ax[1].plot(quantiles_all, np.average(delta_temp_theory_prefactors[exp_plot]['temp_a'] * delta_temp_wtg_anom, weights=lat_weights, axis=0),\n",
    "               color=default_colors[1], label='$\\Delta T_{FT}$')\n",
    "elif 'z' in exp_plot:\n",
    "    ax[1].plot(quantiles_all, np.average(delta_temp_theory_prefactors[exp_plot]['temp_a'] * delta_z_ft_mod_anom, weights=lat_weights, axis=0),\n",
    "               color=default_colors[1], label='$\\delta \\Delta z_{FT}$')\n",
    "ax[1].plot(quantiles_all, np.average(delta_temp_theory_prefactors[exp_plot]['temp_a'] * delta_temp_ce_mean[:, np.newaxis], \n",
    "                                     weights=lat_weights, axis=0), color=default_colors[2], label='$\\overline{T_{CE}}$')\n",
    "ax[1].plot(quantiles_all, -np.average(coef_temp_a0 * temp_ce_quant[0], weights=lat_weights, axis=0), \n",
    "           color=default_colors[0], linestyle=':')\n",
    "ax[1].plot(quantiles_all, np.average(coef_temp_a0 * temp_wtg_anom[0], weights=lat_weights, axis=0), \n",
    "           color=default_colors[1], linestyle=':', label='$\\Delta T_{FT}$' if 'z' in exp_plot else None)\n",
    "ax[1].plot(quantiles_all, np.average(coef_temp_a0 * temp_ce_mean_anom[0][:, np.newaxis], weights=lat_weights, axis=0), \n",
    "           color=default_colors[2], linestyle=':')\n",
    "ax[0].axhline(0, color='k', lw=ax_linewidth)\n",
    "ax[1].axhline(0, color='k', lw=ax_linewidth)\n",
    "\n",
    "ax[0].set_ylabel('$\\delta T_s$ [K]')\n",
    "ax[1].set_ylabel('$\\delta T_s$ [K]')\n",
    "ax[1].set_xlabel(percentile_label)\n",
    "ax[0].set_xlim(0, 100)\n",
    "ax[0].legend()\n",
    "ax[1].legend()\n",
    "\n",
    "if save_fig or save_delta_temp_theory_decomp_fig:\n",
    "    fig.savefig(f\"/Users/joshduffield/Desktop/delta_temp_{exp_plot}_theory_decomp_{region}_{season}.pdf\",\n",
    "                dpi=dpi['combination'] if publish_fig else low_dpi, bbox_inches='tight', pad_inches=save_pad_inches)"
   ],
   "metadata": {
    "collapsed": false
   },
   "outputs": [],
   "execution_count": null
  },
  {
   "metadata": {},
   "cell_type": "markdown",
   "source": [
    "## Breakdown of New Theory\n",
    "Below I plot the contributions to the scaling factor by the new theory."
   ]
  },
  {
   "metadata": {},
   "cell_type": "code",
   "source": [
    "for key in delta_temp_theory_cont_new:\n",
    "    delta_temp_theory_cont_new[key]['temp_ce_change'] = delta_temp_theory_prefactors_new[key]['temp_a_change'] * \\\n",
    "                                                        (delta_temp_ce_mean[:, np.newaxis] - delta_temp_ce_quant)\n",
    "    if 'z' in key:\n",
    "        delta_temp_theory_cont_new[key]['temp_ft_change'] = delta_temp_theory_prefactors_new[key]['temp_a_change'] * delta_z_ft_mod_anom\n",
    "    else:\n",
    "        delta_temp_theory_cont_new[key]['temp_ft_change'] = delta_temp_theory_prefactors_new[key]['temp_a_change'] * delta_temp_wtg_anom"
   ],
   "outputs": [],
   "execution_count": null
  },
  {
   "metadata": {},
   "cell_type": "code",
   "source": [
    "exp_new_plot = 'new_wtg_r'\n",
    "humidity_use = exp_new_plot[-1]\n",
    "colors_breakdown = {'temp_s': default_colors[3], 'humidity': default_colors[0],  \n",
    "                    'r_change': default_colors[1], 'temp_a_change': default_colors[2], \n",
    "                    'temp_ce_change': default_colors[4], 'temp_ft_change': default_colors[2]}\n",
    "linestyles_breakdown = {key: '-' for key in colors_breakdown}\n",
    "# linestyles_breakdown['temp_ce_change'] = ':'\n",
    "# linestyles_breakdown['temp_ft_change'] = '--'\n",
    "labels_breakdown = {'temp_s': '$T_s$', 'humidity': f'${humidity_use}_s$', 'r_change': '$\\delta \\Delta r_s$',\n",
    "                    'temp_a_change': '$\\delta \\Delta T_A$',\n",
    "                    'temp_ce_change': '$\\delta \\Delta T_{CE}$', 'temp_ft_change': '$\\delta \\Delta T_{FT}$'}\n",
    "sf_denom = delta_temp_theory_changes_new['new_wtg_q']['temp_s']         # delta_temp_s_mean\n",
    "\n",
    "save_sf_theory_breakdown_new_fig = False\n",
    "fig, ax = plt.subplots(1,1, figsize=(width['one_col'], width['one_col']/ar), sharex=True, sharey=True)\n",
    "ax = [ax]\n",
    "ax[0].plot(quantiles_all, np.average((temp_quant3[1, ind_surf] - temp_quant3[0, ind_surf])/sf_denom, weights=lat_weights, axis=0), \n",
    "           color='k', label='Simulated')\n",
    "ax[0].plot(quantiles_all, np.average(delta_temp_theory[exp_new_plot]/sf_denom, axis=0, weights=lat_weights), color='k', linestyle='--', label='Theory')\n",
    "for key in delta_temp_theory_cont_new[exp_new_plot]:\n",
    "    if 'temp_a' in key:\n",
    "        continue\n",
    "    ax[0].plot(quantiles_all, np.average(delta_temp_theory_cont_new[exp_new_plot][key]/sf_denom, weights=lat_weights, axis=0)+1, color=colors_breakdown[key], linestyle=linestyles_breakdown[key])#, label=labels_breakdown[key])\n",
    "for i in range(len(ax)):\n",
    "    ax[i].axhline(1, color='k', lw=ax_linewidth)\n",
    "    ax[i].set_ylabel('Scaling factor, $\\delta T(x)/\\delta \\overline{T}$')\n",
    "    ax[i].legend()\n",
    "ax[0].set_xlim(0,100)\n",
    "ax[-1].set_xlabel(percentile_label)\n",
    "ax[0].set_ylim(0.8, 1.2)\n",
    "\n",
    "if save_fig or save_sf_theory_breakdown_new_fig:\n",
    "    file_name = f\"sf_breakdown_{exp_new_plot}_{region.lower()}_{season}\"\n",
    "    fig.savefig(f\"/Users/joshduffield/Desktop/{file_name}.pdf\",dpi=dpi['combination'] if publish_fig else low_dpi, \n",
    "                bbox_inches='tight', pad_inches=save_pad_inches)"
   ],
   "outputs": [],
   "execution_count": null
  },
  {
   "metadata": {},
   "cell_type": "markdown",
   "source": "### Does Theory with $\\delta \\Delta T_{CE}(x)=0$ match a CQE theory?\n"
  },
  {
   "metadata": {},
   "cell_type": "code",
   "source": [
    "# Compute explicitly from mse_ft_sat_quant3\n",
    "mse_ft_sat_quant3 = moist_static_energy(temp_quant3[:, ind_ft], sphum_sat(temp_quant3[:, ind_ft], pressure_ft_actual), z_quant3[:, ind_ft])\n",
    "mse_ft_sat_mean = moist_static_energy(temp_mean[:, ind_ft], sphum_sat(temp_mean[:, ind_ft], pressure_ft_actual), \n",
    "                                      z_mean[:, ind_ft])\n",
    "mse_quant3 = moist_static_energy(temp_quant3[:, ind_surf], sphum_quant3[humid_calc], z_quant3[:, ind_surf])\n",
    "mse_mean = moist_static_energy(temp_mean[:, ind_surf], sphum_mean[humid_calc], z_mean[:, ind_surf])\n",
    "_, q_sat_s_x, alpha_s_x, _, beta_s2_x, _ = get_theory_prefactor_terms(temp_quant3[0, ind_surf], p_surface, pressure_ft_actual, \n",
    "                                                                      sphum_quant3[humid_calc][0, ind_surf])\n",
    "_, q_sat_s_mean, alpha_s_mean, _, _, _ = get_theory_prefactor_terms(temp_mean[0, ind_surf], p_surface, pressure_ft_actual, \n",
    "                                                                      sphum_mean[humid_calc][0, ind_surf])\n",
    "\n",
    "\n",
    "scale_factor_cqe_denom = c_p + L_v * alpha_s_x * sphum_quant3[humid_calc][0]\n",
    "mse_quant3_change_taylor = (scale_factor_cqe_denom * (temp_quant3[1] - temp_quant3[0])[ind_surf] + \n",
    "                     L_v * q_sat_s_x * (r_quant3[humid_calc][1]-r_quant3[humid_calc][0])) / 1000\n",
    "mse_mean_change_taylor = ((c_p + L_v * alpha_s_mean * sphum_mean[humid_calc][0]) * (temp_mean[1] - temp_mean[0])[ind_surf] + \n",
    "                     L_v * q_sat_s_mean * (r_mean[humid_calc][1]-r_mean[humid_calc][0])) / 1000\n",
    "prefactor_mse_nonlinear = L_v * alpha_s_x * q_sat_s_x * (r_quant3[humid_calc][1]-r_quant3[humid_calc][0])\n",
    "prefactor_mse_squared = 0.5 * beta_s2_x / temp_quant3[0, ind_surf]\n",
    "mse_quant3_change_taylor_full = mse_quant3_change_taylor + prefactor_mse_nonlinear * (\n",
    "        temp_quant3[1] - temp_quant3[0])[ind_surf] / 1000 + prefactor_mse_squared * (\n",
    "        temp_quant3[1] - temp_quant3[0])[ind_surf]**2 / 1000\n",
    "\n",
    "scale_factor_cqe_numerator = {'full': -L_v * q_sat_s_x * np.diff(r_quant3[humid_calc], axis=0)[0] + np.diff(\n",
    "    mse_ft_sat_quant3 - (mse_ft_sat_mean - mse_mean)[:, :, np.newaxis], axis=0)[0] * 1000, \n",
    "                              'linear': -L_v * q_sat_s_x * np.diff(r_quant3[humid_calc], axis=0)[0] + np.diff(\n",
    "    mse_ft_sat_quant3 - (mse_ft_sat_mean)[:, :, np.newaxis], axis=0)[0] * 1000 + mse_mean_change_taylor[:, np.newaxis] * 1000}\n",
    "# Compute temperature prediction assuming CQE with squared terms in MSE expansion\n",
    "quadratic_squared_prefactor = prefactor_mse_squared\n",
    "quadratic_linear_prefactor = prefactor_mse_nonlinear + scale_factor_cqe_denom\n",
    "quadratic_constant = -scale_factor_cqe_numerator['full']\n",
    "\n",
    "scale_factor_cqe = {'linear': scale_factor_cqe_numerator['linear']/scale_factor_cqe_denom/sf_denom, \n",
    "                    'full': np.asarray([[np.roots([quadratic_squared_prefactor[i, j], quadratic_linear_prefactor[i, j], \n",
    "                                                   quadratic_constant[i, j]])[1] for j in range(n_quant_all)] for i in range(n_lat)]\n",
    "                                       )/sf_denom}\n",
    "scale_factor_cqe_theory = (delta_temp_theory['new_wtg_r']-delta_temp_theory_cont_new['new_wtg_r']['temp_ce_change'])/sf_denom"
   ],
   "outputs": [],
   "execution_count": null
  },
  {
   "metadata": {},
   "cell_type": "code",
   "source": [
    "fig, ax = plt.subplots(2,1, figsize=(width['one_col'], 2*width['one_col']/ar), sharex=True)\n",
    "ax[0].plot(quantiles_all, np.average((temp_quant3[1, ind_surf] - temp_quant3[0, ind_surf]) / sf_denom, weights=lat_weights, axis=0), color='k',\n",
    "           label='Simulated')\n",
    "ax[0].plot(quantiles_all, np.average(scale_factor_cqe['linear'], axis=0, weights=lat_weights), color=default_colors[0], \n",
    "           label='CQE (linear taylor from $h$)')\n",
    "ax[0].plot(quantiles_all, np.average(scale_factor_cqe['full'], axis=0, weights=lat_weights), color=default_colors[0], \n",
    "           label='CQE (squared taylor)', linestyle='--')\n",
    "# ax[0].plot(quantiles_all, np.average(scale_factor_cqe['cqe_x'], axis=0, weights=lat_weights), color=default_colors[0], alpha=0.3)\n",
    "ax[0].plot(quantiles_all, np.average(scale_factor_cqe_theory, axis=0, weights=lat_weights), color=default_colors[1], label='CQE Theory')\n",
    "ax[0].plot(quantiles_all, np.average(delta_temp_theory['new_wtg_r']/sf_denom, axis=0, weights=lat_weights), \n",
    "           color='k', linestyle='--', label='Full Theory')\n",
    "ax[1].plot(quantiles_all, np.average((mse_ft_sat_quant3[1] - mse_ft_sat_quant3[0]) - (mse_quant3[1]-mse_quant3[0])\n",
    "                                     , axis=0, weights=lat_weights)*1000/c_p, color=default_colors[3], label='$\\delta h_{FT}^* - \\delta h_s$')\n",
    "ax[1].plot(quantiles_all, np.average((mse_ft_sat_quant3[1] - mse_ft_sat_quant3[0]) - mse_quant3_change_taylor\n",
    "                                     , axis=0, weights=lat_weights)*1000/c_p, color=default_colors[0], \n",
    "           label='$\\delta h_{FT}^* - \\delta h_{s, taylor}$')\n",
    "ax[1].plot(quantiles_all, np.average((mse_ft_sat_quant3[1] - mse_ft_sat_quant3[0]) - mse_quant3_change_taylor_full\n",
    "                                     , axis=0, weights=lat_weights)*1000/c_p, color=default_colors[0], linestyle='--')\n",
    "ax[1].plot(quantiles_all, np.average(temp_ce_quant[1] - temp_ce_quant[0], axis=0, weights=lat_weights), color=default_colors[1], \n",
    "           label='$\\delta T_{CE}$')\n",
    "ax[1].axhline(np.average((mse_ft_sat_mean[1] - mse_ft_sat_mean[0]) - (mse_mean[1]-mse_mean[0]), axis=0, weights=lat_weights)*1000/c_p,\n",
    "              color=default_colors[0], lw=ax_linewidth, linestyle='--')\n",
    "ax[1].axhline(np.average((mse_ft_sat_mean[1] - mse_ft_sat_mean[0]) - mse_mean_change_taylor, axis=0, weights=lat_weights)*1000/c_p,\n",
    "              color=default_colors[0], lw=ax_linewidth)\n",
    "ax[1].axhline(np.average(temp_ce_mean_anom[1] - temp_ce_mean_anom[0], axis=0, weights=lat_weights), \n",
    "              color=default_colors[1], lw=ax_linewidth)\n",
    "for i in range(2):\n",
    "    ax[i].axhline(1-i, color='k', lw=ax_linewidth)\n",
    "ax[0].legend()\n",
    "ax[1].legend()\n",
    "ax[1].set_xlabel(percentile_label)\n",
    "ax[0].set_xlim(0, 100)\n",
    "ax[0].set_ylabel('Scaling factor, $\\delta T(x)/\\delta \\overline{T}$')\n",
    "ax[1].set_ylabel('CQE indicator [K]')\n",
    "fig.savefig(f\"/Users/joshduffield/Desktop/{file_name}.pdf\",dpi=dpi['combination'] if publish_fig else low_dpi, \n",
    "                bbox_inches='tight', pad_inches=save_pad_inches)"
   ],
   "outputs": [],
   "execution_count": null
  },
  {
   "metadata": {},
   "cell_type": "code",
   "source": "",
   "outputs": [],
   "execution_count": null
  }
 ],
 "metadata": {
  "kernelspec": {
   "display_name": "Python 3",
   "language": "python",
   "name": "python3"
  },
  "language_info": {
   "codemirror_mode": {
    "name": "ipython",
    "version": 2
   },
   "file_extension": ".py",
   "mimetype": "text/x-python",
   "name": "python",
   "nbconvert_exporter": "python",
   "pygments_lexer": "ipython2",
   "version": "2.7.6"
  }
 },
 "nbformat": 4,
 "nbformat_minor": 0
}
