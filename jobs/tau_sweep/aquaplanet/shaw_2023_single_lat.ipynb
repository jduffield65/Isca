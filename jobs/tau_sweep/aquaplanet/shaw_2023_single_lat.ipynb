{
 "cells": [
  {
   "cell_type": "markdown",
   "source": [
    "# Shaw 2023\n",
    "This looks at tracking the upper troposphere wind at a single latitude throughout the year."
   ],
   "metadata": {
    "collapsed": false
   }
  },
  {
   "cell_type": "code",
   "execution_count": 1,
   "source": [
    "import copy\n",
    "import sys\n",
    "import os\n",
    "# REMOTE - So can access functions in isca_tools which is in home/Isca directory\n",
    "# sys.path.append(os.path.join(os.environ['HOME'], 'Isca'))\n",
    "# LOCAL - So can access functions in isca_tools which is in StAndrews/Isca\n",
    "sys.path.append(os.environ['PWD'])\n",
    "import isca_tools\n",
    "from isca_tools.convection import lapse_moist, equivalent_potential_temp\n",
    "from isca_tools.utils.moist_physics import moist_static_energy, clausius_clapeyron_factor, sphum_sat\n",
    "from isca_tools.utils.constants import kappa, L_v, c_p, R, radius_earth, rot_earth\n",
    "from isca_tools.utils import area_weighting, annual_mean\n",
    "from isca_tools.papers.byrne_2021 import get_quant_ind\n",
    "from isca_tools.thesis.aquaplanet_theory import get_delta_temp_quant_theory, get_gamma\n",
    "import numpy as np\n",
    "import matplotlib.pyplot as plt\n",
    "import xarray as xr\n",
    "import scipy.optimize\n",
    "from tqdm import tqdm\n",
    "from scipy import integrate\n",
    "import numpy_indexed\n",
    "from scipy.stats import percentileofscore\n",
    "import copy\n",
    "# Use custom matplotlib style for publishing\n",
    "plt.style.use('/Users/joshduffield/Documents/StAndrews/Isca/jobs/tau_sweep/aquaplanet/publish_figures/publish.mplstyle')"
   ],
   "metadata": {
    "collapsed": false,
    "ExecuteTime": {
     "end_time": "2024-01-17T08:54:23.381464Z",
     "start_time": "2024-01-17T08:54:21.393782Z"
    }
   },
   "outputs": []
  },
  {
   "cell_type": "code",
   "execution_count": 2,
   "source": [
    "# Load dataset - one at surface and one in free troposphere\n",
    "var_keep = ['temp', 'ucomp', 'height', 'ucomp']        # only keep variables required to compute relative humidity and MSE\n",
    "# Load dataset\n",
    "tau_lw_ref = 1\n",
    "tau_lw_warm = 1.5\n",
    "exp_dir = 'tau_sweep/aquaplanet/'\n",
    "exp_names = [f\"k={str(tau_lw_ref).replace('.','_')}\", f\"k={str(tau_lw_warm).replace('.','_')}\"]\n",
    "n_exp = len(exp_names)\n",
    "ds = []\n",
    "albedo = []\n",
    "tau_sw = []\n",
    "tau_lw = []\n",
    "for i in range(n_exp):\n",
    "    ds_use = isca_tools.load_dataset(exp_dir + exp_names[i])[var_keep]\n",
    "    ds += [ds_use]      # only keep the surface values\n",
    "    namelist = isca_tools.load_namelist(exp_dir + exp_names[i])  # Need this for albedo_value\n",
    "    albedo += [namelist['mixed_layer_nml']['albedo_value']]\n",
    "    tau_sw += [namelist['two_stream_gray_rad_nml']['atm_abs']]\n",
    "    tau_lw += [namelist['two_stream_gray_rad_nml']['odp']]\n",
    "sigma_levels = np.asarray(namelist['vert_coordinate_nml']['bk'][::-1])         # make first value the surface\n",
    "# Sigma levels are at half pressure levels, so need to convolve to get pressure at full pressure levels.\n",
    "sigma_levels = np.convolve(sigma_levels, np.ones(2)/2, 'valid')"
   ],
   "metadata": {
    "collapsed": false,
    "ExecuteTime": {
     "end_time": "2024-01-17T08:54:27.665458Z",
     "start_time": "2024-01-17T08:54:23.383878Z"
    }
   },
   "outputs": []
  },
  {
   "cell_type": "markdown",
   "source": [
    "## Get datasets\n",
    "Get one surface dataset for summer for each $\\kappa$"
   ],
   "metadata": {
    "collapsed": false
   }
  },
  {
   "cell_type": "code",
   "execution_count": 3,
   "source": [
    "# If true, will save all figures to desktop - option to save specific figures later on.\n",
    "save_fig = False\n",
    "# if publishing figure, use high dpi\n",
    "publish_fig = True\n",
    "\n",
    "ar = 4/3        # aspect ratio (width/height)\n",
    "# Details required for Journal of Climate Figures\n",
    "low_dpi = 100\n",
    "dpi = {'monochrome': 1100, 'combination': 800, 'halftone': 300}\n",
    "width = {'one_col': 3.2, 'two_col': 5.5}        # width in inches \n",
    "save_pad_inches = 0.05\n",
    "\n",
    "# Default parameters\n",
    "default_colors = plt.rcParams['axes.prop_cycle'].by_key()['color']\n",
    "ax_linewidth = plt.rcParams['axes.linewidth']"
   ],
   "metadata": {
    "collapsed": false,
    "ExecuteTime": {
     "end_time": "2024-01-17T08:54:27.668278Z",
     "start_time": "2024-01-17T08:54:27.666319Z"
    }
   },
   "outputs": []
  },
  {
   "cell_type": "code",
   "execution_count": 4,
   "source": [
    "# Load in dataset with surface and free troposphere across all latitudes, for given season\n",
    "pressure_ft = 0           # Desired approximate pressure of free troposphere (hPa)\n",
    "use_time_start = 360*2\n",
    "\n",
    "# Chose whether to only consider summer days or consider all days\n",
    "summer_months = {'nh': [6, 7, 8], 'sh': [12, 1, 2]}   # JJA for NH and DJF for SH\n",
    "season = 'all'\n",
    "# season = 'summer'   # NOTE - if summer, does not give many days corresponding to high percentiles as only 5 years of data used\n",
    "lat_use = 35\n",
    "# Keep 2 latitudes either side of desired so can compute the gradient.\n",
    "n_lat_keep = 2\n",
    "lat_ind_keep = np.arange(int(np.abs(ds[0].lat-lat_use).argmin())-n_lat_keep, int(np.abs(ds[0].lat-lat_use).argmin())+n_lat_keep+1)  \n",
    "ds_all = []\n",
    "with tqdm(total=n_exp, position=0, leave=True) as pbar:\n",
    "    for i in range(n_exp):\n",
    "        # ds_use = ds[i].sel(pfull=[np.inf, pressure_ft], method='nearest').sel(time=slice(use_time_start, np.inf))\n",
    "        # Keep all pressure levels, so can do thermal wind calculation\n",
    "        ds_use = ds[i].sel(pfull=slice(pressure_ft, np.inf)).sel(time=slice(use_time_start, np.inf))    \n",
    "        ds_use = ds_use.isel(pfull=slice(None, None, -1))       # make surface pressure the first index\n",
    "        ds_use = ds_use.isel(lat=lat_ind_keep)  \n",
    "        # if season == 'summer':\n",
    "        #     ds_use = isca_tools.utils.annual_time_slice(ds_use, summer_months['nh' if lat_use>0 else 'sh']).sel(lat=slice(0, 90))  \n",
    "        ds_use = annual_mean(ds_use)        # take annual mean so only have 360 time indices\n",
    "        ds_use = ds_use.transpose('pfull', 'lat', 'lon', 'time')        # make time the last index\n",
    "        ds_all += [ds_use.load()]\n",
    "        pbar.update(1)\n",
    "p_surface = float(ds_all[0].pfull[0]) * 100\n",
    "pressure_ft_actual = float(ds_all[0].pfull[-1]) * 100       # Actual pressure of free troposphere (Pa)\n",
    "sigma_levels_use = sigma_levels[:len(ds_all[0].pfull)]      # Not all sigma levels are kept\n",
    "lat_use_actual = float(ds_all[0].lat[n_lat_keep])"
   ],
   "metadata": {
    "collapsed": false,
    "ExecuteTime": {
     "end_time": "2024-01-17T08:54:51.294204Z",
     "start_time": "2024-01-17T08:54:27.670515Z"
    }
   },
   "outputs": []
  },
  {
   "cell_type": "markdown",
   "source": [
    "## Compare $\\partial T/\\partial x$ vs $\\partial T/\\partial y$\n",
    "Below we want to see which gradients are larger in the free troposphere, zonal or meridional. We also want to see which change the most with warming.\n",
    "\n",
    "In both cases, it seems the answer is meridional: $|\\partial T/ \\partial y| >> |\\partial T/ \\partial x|$, as shown by the different y-axis used.\n",
    "\n",
    "The solid (dotted) lines indicate the $\\kappa=1$ ($\\kappa=1.5$) simulations.\n"
   ],
   "metadata": {
    "collapsed": false
   }
  },
  {
   "cell_type": "code",
   "execution_count": 5,
   "source": [
    "def get_gradient(var, lon, lat):\n",
    "    # Returns d/dx and d/dy\n",
    "    # Axis 0 is pressure, axis 1 is latitude, axis 2 is lon and axis 3 is time\n",
    "    lon = np.asarray(np.deg2rad(lon))\n",
    "    lat = np.asarray(np.deg2rad(lat))\n",
    "    d_var_dx = (1/radius_earth*np.cos(lat)[np.newaxis, :, np.newaxis, np.newaxis]) * np.gradient(var, lon, axis=2)\n",
    "    d_var_dy = (1/radius_earth) * np.gradient(var, lat, axis=1)\n",
    "    return d_var_dx, d_var_dy"
   ],
   "metadata": {
    "collapsed": false,
    "ExecuteTime": {
     "end_time": "2024-01-17T08:54:51.299228Z",
     "start_time": "2024-01-17T08:54:51.295320Z"
    }
   },
   "outputs": []
  },
  {
   "cell_type": "code",
   "execution_count": 6,
   "source": [
    "n_pressure, _, _, n_time = ds_all[0].temp.shape\n",
    "d_temp_dx = np.zeros((n_exp, n_pressure, n_time))\n",
    "d_temp_dy = np.zeros((n_exp, n_pressure, n_time))\n",
    "for i in range(n_exp):\n",
    "    temp_grad_use = get_gradient(ds_all[i].temp, ds_all[i].lon, ds_all[i].lat)\n",
    "    d_temp_dx[i] = np.mean(temp_grad_use[0][:, n_lat_keep], axis=1)     # only take one latitude, and take zonal mean\n",
    "    d_temp_dy[i] = np.mean(temp_grad_use[1][:, n_lat_keep], axis=1)     # only take one latitude, and take zonal mean"
   ],
   "metadata": {
    "collapsed": false,
    "ExecuteTime": {
     "end_time": "2024-01-17T08:54:51.449734Z",
     "start_time": "2024-01-17T08:54:51.300763Z"
    }
   },
   "outputs": []
  },
  {
   "cell_type": "code",
   "execution_count": 7,
   "source": [
    "pressure_ft_plot = ds_all[0].pfull.sel(pfull=[1000, 600, 400, 200], method='nearest')        # choose 3 pressure levels\n",
    "pressure_ft_plot_ind = numpy_indexed.indices(ds_all[0].pfull, pressure_ft_plot)\n",
    "n_pressure_plot = len(pressure_ft_plot_ind)\n",
    "color_seq_pressure = plt.cm.jet(np.linspace(0,1,n_pressure_plot))[::-1]       # make near-surface red\n",
    "\n",
    "time_array = ds_all[0].time-0.5\n",
    "month_ticks = (np.arange(15,12*30+15,30), ['J','F','M','A','M','J','J','A','S','O','N','D'])\n",
    "\n",
    "save_T_grad_fig = False\n",
    "fig, ax = plt.subplots(2,1, figsize=(width['one_col'], 2*width['one_col']/ar), sharex=True)\n",
    "for i in range(n_pressure_plot):\n",
    "    ax[0].plot(time_array, d_temp_dx[0, pressure_ft_plot_ind[i]], color=color_seq_pressure[i], label=int(pressure_ft_plot[i]))\n",
    "    ax[0].plot(time_array, d_temp_dx[1, pressure_ft_plot_ind[i]], color=color_seq_pressure[i], linestyle=':')\n",
    "\n",
    "    ax[1].plot(time_array, d_temp_dy[0, pressure_ft_plot_ind[i]], color=color_seq_pressure[i], label=int(pressure_ft_plot[i]))\n",
    "    ax[1].plot(time_array, d_temp_dy[1, pressure_ft_plot_ind[i]], color=color_seq_pressure[i], linestyle=':')\n",
    "ax[0].hlines(0, -1, n_time, color='k', lw=ax_linewidth)\n",
    "ax[1].hlines(0, -1, n_time, color='k', lw=ax_linewidth)\n",
    "ax[1].legend(fontsize=5, title='Pressure [hPa]', title_fontsize=5)\n",
    "ax[0].set_ylabel('$\\partial T/\\partial x$ [K/m]')\n",
    "ax[1].set_ylabel('$\\partial T/\\partial y$ [K/m]')\n",
    "ax[0].set_xticks(*month_ticks)\n",
    "ax[0].set_xlim(-1, n_time)\n",
    "ax[0].set_title(f'Lat = ${round(lat_use_actual, 1)}\\degree$')\n",
    "plt.tight_layout()\n",
    "\n",
    "if save_fig or save_T_grad_fig:\n",
    "    fig.savefig(f\"/Users/joshduffield/Desktop/T_gradient_time.pdf\",\n",
    "                dpi=dpi['combination'] if publish_fig else low_dpi, bbox_inches='tight', pad_inches=save_pad_inches)"
   ],
   "metadata": {
    "collapsed": false,
    "ExecuteTime": {
     "end_time": "2024-01-17T08:54:51.807996Z",
     "start_time": "2024-01-17T08:54:51.455283Z"
    }
   },
   "outputs": []
  },
  {
   "cell_type": "markdown",
   "source": [
    "## Decompose $\\partial T/\\partial y$\n",
    "As we are satisfied that the temperature gradient in the free troposphere is dominated by the meridional, below I just consider this.\n",
    "\n",
    "I decompose the gradient into a monthly average and a deviation from this.\n",
    "\n",
    "It seems that when we consider changes with warming, the changes to the monthly average dominate changes to the deviation."
   ],
   "metadata": {
    "collapsed": false
   }
  },
  {
   "cell_type": "code",
   "execution_count": 8,
   "source": [
    "def get_monthly_average(var, time_axis=-1, n_month_days=30):\n",
    "    \"\"\"\n",
    "    Replaces the value of var at a given day with the monthy average value\n",
    "    \n",
    "    Args:\n",
    "        var: Variable to average\n",
    "        time_axis: Index of time axis in var\n",
    "        n_month_days: Number of days in each month\n",
    "        \n",
    "    Returns:\n",
    "        Returned variable has same dimensions as var but the monthly average will be \n",
    "        repeated for all days in that month.\n",
    "    \"\"\"\n",
    "    n_months = var.shape[time_axis]/n_month_days\n",
    "    if n_months % 1 != 0:\n",
    "        raise ValueError('There are not an integer number of months in the data set')\n",
    "    n_months = int(n_months)\n",
    "    var = np.moveaxis(var, time_axis, 0)     # make time the first axis\n",
    "    var_av = np.zeros_like(var)\n",
    "    for i in range(n_months):\n",
    "        var_av[i*n_month_days: (i+1)*n_month_days] = np.mean(var[i*n_month_days: (i+1)*n_month_days], axis=0)\n",
    "    return np.moveaxis(var_av, 0, time_axis)"
   ],
   "metadata": {
    "collapsed": false,
    "ExecuteTime": {
     "end_time": "2024-01-17T08:54:51.809527Z",
     "start_time": "2024-01-17T08:54:51.807401Z"
    }
   },
   "outputs": []
  },
  {
   "cell_type": "code",
   "execution_count": 9,
   "source": [
    "# Decompose meridional gradient into monthly average and deviation from this\n",
    "save_T_grad_y_decomp_fig = False\n",
    "\n",
    "d_temp_dy_av = get_monthly_average(d_temp_dy)\n",
    "d_temp_dy_dev = d_temp_dy - d_temp_dy_av\n",
    "fig, ax = plt.subplots(2,1, figsize=(width['one_col'], 2*width['one_col']/ar), sharex=True)\n",
    "for i in range(n_pressure_plot):\n",
    "    ax[0].plot(time_array, d_temp_dy_av[0, pressure_ft_plot_ind[i]], color=color_seq_pressure[i], label=int(pressure_ft_plot[i]))\n",
    "    ax[0].plot(time_array, d_temp_dy_av[1, pressure_ft_plot_ind[i]], color=color_seq_pressure[i], linestyle=':')\n",
    "    \n",
    "    ax[1].plot(time_array, d_temp_dy_dev[0, pressure_ft_plot_ind[i]], color=color_seq_pressure[i], label=int(pressure_ft_plot[i]))\n",
    "    ax[1].plot(time_array, d_temp_dy_dev[1, pressure_ft_plot_ind[i]], color=color_seq_pressure[i], linestyle=':')\n",
    "    \n",
    "ax[0].hlines(0, -1, n_time, color='k', lw=ax_linewidth)\n",
    "ax[1].hlines(0, -1, n_time, color='k', lw=ax_linewidth)\n",
    "ax[0].legend(fontsize=5, title='Pressure [hPa]', title_fontsize=5)\n",
    "ax[0].set_ylabel('monthly average [K/m]')\n",
    "ax[1].set_ylabel('deviation from monthly average [K/m]')\n",
    "ax[0].set_xticks(*month_ticks)\n",
    "ax[0].set_xlim(-1, n_time)\n",
    "ax[0].set_title(f'$\\partial T/\\partial y$ Decomposition (Lat = ${round(lat_use_actual, 1)}\\degree$)')\n",
    "plt.tight_layout()\n",
    "if save_fig or save_T_grad_y_decomp_fig:\n",
    "    fig.savefig(f\"/Users/joshduffield/Desktop/T_gradient_y_decomp_time.pdf\",\n",
    "                dpi=dpi['combination'] if publish_fig else low_dpi, bbox_inches='tight', pad_inches=save_pad_inches)"
   ],
   "metadata": {
    "collapsed": false,
    "ExecuteTime": {
     "end_time": "2024-01-17T08:54:51.992268Z",
     "start_time": "2024-01-17T08:54:51.812982Z"
    }
   },
   "outputs": []
  },
  {
   "cell_type": "code",
   "execution_count": 10,
   "source": [
    "# Decompose changes in meridional gradient into monthly average and deviation from this\n",
    "save_delta_T_grad_y_decomp_fig = False\n",
    "\n",
    "fig, ax = plt.subplots(2,1, figsize=(width['one_col'], 2*width['one_col']/ar), sharex=True, sharey=True)\n",
    "for i in range(n_pressure_plot):\n",
    "    ax[0].plot(time_array, d_temp_dy_av[1, pressure_ft_plot_ind[i]]-d_temp_dy_av[0, pressure_ft_plot_ind[i]], \n",
    "               color=color_seq_pressure[i], label=int(pressure_ft_plot[i]))\n",
    "    \n",
    "    ax[1].plot(time_array, d_temp_dy_dev[1, pressure_ft_plot_ind[i]]-d_temp_dy_dev[0, pressure_ft_plot_ind[i]], \n",
    "               color=color_seq_pressure[i], label=int(pressure_ft_plot[i]))\n",
    "\n",
    "ax[0].hlines(0, -1, n_time, color='k', lw=ax_linewidth)\n",
    "ax[1].hlines(0, -1, n_time, color='k', lw=ax_linewidth)\n",
    "ax[0].legend(fontsize=5, title='Pressure [hPa]', title_fontsize=5)\n",
    "ax[0].set_ylabel('monthly average [K/m]')\n",
    "ax[1].set_ylabel('deviation from monthly average [K/m]')\n",
    "ax[0].set_xticks(*month_ticks)\n",
    "ax[0].set_xlim(-1, n_time)\n",
    "ax[0].set_title(f'$\\delta(\\partial T/\\partial y)$ Decomposition (Lat = ${round(lat_use_actual, 1)}\\degree$)')\n",
    "plt.tight_layout()\n",
    "if save_fig or save_delta_T_grad_y_decomp_fig:\n",
    "    fig.savefig(f\"/Users/joshduffield/Desktop/delta_T_gradient_y_decomp_time.pdf\",\n",
    "                dpi=dpi['combination'] if publish_fig else low_dpi, bbox_inches='tight', pad_inches=save_pad_inches)"
   ],
   "metadata": {
    "collapsed": false,
    "ExecuteTime": {
     "end_time": "2024-01-17T08:54:52.149038Z",
     "start_time": "2024-01-17T08:54:51.992550Z"
    }
   },
   "outputs": []
  },
  {
   "cell_type": "markdown",
   "source": [
    "## Free Troposphere MSE\n",
    "Below, I make similar plots to above but for saturated moist static energy. The idea is to see if there is a connection between the two.\n",
    "\n",
    "It doesn't appear that there is much correlation between the two."
   ],
   "metadata": {
    "collapsed": false
   }
  },
  {
   "cell_type": "code",
   "execution_count": 11,
   "source": [
    "ds_mse = [ds_all[i].mean(dim='lon').isel(pfull=pressure_ft_plot_ind, lat=n_lat_keep) for i in range(n_exp)]\n",
    "mse_sat = np.asarray([moist_static_energy(ds_mse[i].temp, sphum_sat(ds_mse[i].temp, ds_mse[i].pfull*100), ds_mse[i].height) \n",
    "                      for i in range(n_exp)])\n",
    "\n",
    "fig, ax = plt.subplots(2,1, figsize=(width['one_col'], 2*width['one_col']/ar), sharex=True)\n",
    "for i in range(1, n_pressure_plot):\n",
    "    ax[0].plot(time_array, mse_sat[0, i], color=color_seq_pressure[i], label=int(pressure_ft_plot[i]))\n",
    "    ax[0].plot(time_array, mse_sat[1, i], color=color_seq_pressure[i], linestyle=':')\n",
    "\n",
    "    ax[1].plot(time_array, mse_sat[1, i]-mse_sat[0, i], color=color_seq_pressure[i], label=int(pressure_ft_plot[i]))\n",
    "\n",
    "ax[0].legend(fontsize=5, title='Pressure [hPa]', title_fontsize=5)\n",
    "ax[0].set_ylabel('Saturation MSE, $h_{FT}^*$ [kJ/kg]')\n",
    "ax[1].set_ylabel('$\\delta h_{FT}^*$ [kJ/kg]')\n",
    "ax[0].set_xticks(*month_ticks)\n",
    "ax[0].set_xlim(-1, n_time)\n",
    "ax[0].set_title(f'Lat = ${round(lat_use_actual, 1)}\\degree$')\n",
    "plt.tight_layout()"
   ],
   "metadata": {
    "collapsed": false,
    "ExecuteTime": {
     "end_time": "2024-01-17T08:54:52.410779Z",
     "start_time": "2024-01-17T08:54:52.150654Z"
    }
   },
   "outputs": []
  },
  {
   "cell_type": "markdown",
   "source": [
    "Below I show that in the upper troposphere, the variation in saturation MSE is dominated by changes in temperature."
   ],
   "metadata": {
    "collapsed": false
   }
  },
  {
   "cell_type": "code",
   "execution_count": 12,
   "source": [
    "fig, ax = plt.subplots(2,1, figsize=(width['one_col'], 2*width['one_col']/ar), sharex=True)\n",
    "for i in range(n_pressure_plot):\n",
    "    ax[0].plot(time_array, ds_mse[0].temp[i], color=color_seq_pressure[i], label=int(pressure_ft_plot[i]))\n",
    "    ax[0].plot(time_array, ds_mse[1].temp[i], color=color_seq_pressure[i], linestyle=':')\n",
    "\n",
    "    ax[1].plot(time_array, ds_mse[1].temp[i]-ds_mse[0].temp[i], color=color_seq_pressure[i], label=int(pressure_ft_plot[i]))\n",
    "\n",
    "ax[0].legend(fontsize=5, title='Pressure [hPa]', title_fontsize=5)\n",
    "ax[0].set_ylabel('Temperature, T [K]')\n",
    "ax[1].set_ylabel('$\\delta T$ [K]')\n",
    "ax[0].set_xticks(*month_ticks)\n",
    "ax[0].set_xlim(-1, n_time)\n",
    "ax[0].set_title(f'Lat = ${round(lat_use_actual, 1)}\\degree$')\n",
    "plt.tight_layout()"
   ],
   "metadata": {
    "collapsed": false,
    "ExecuteTime": {
     "end_time": "2024-01-17T08:54:52.581284Z",
     "start_time": "2024-01-17T08:54:52.421814Z"
    }
   },
   "outputs": []
  },
  {
   "cell_type": "code",
   "execution_count": 16,
   "source": [
    "ds_all[0].ucomp[:, n_lat_keep].mean(dim='lon').plot()"
   ],
   "metadata": {
    "collapsed": false,
    "ExecuteTime": {
     "end_time": "2024-01-17T10:42:51.336944Z",
     "start_time": "2024-01-17T10:42:51.059785Z"
    }
   },
   "outputs": []
  },
  {
   "cell_type": "markdown",
   "source": [
    "## Compare wind to thermal wind\n",
    "Here I see if the thermal wind calculation matches the actual wind speed at different pressure levels in the atmosphere."
   ],
   "metadata": {
    "collapsed": false
   }
  },
  {
   "cell_type": "code",
   "source": [
    "def get_wind_thermal_cumulative(temp, pressure, lon, lat):\n",
    "    \"\"\"\n",
    "    Equation 1 in the paper. Returns wind using every pressure level as an upper bound.\n",
    "    Args:\n",
    "        temp: [n_pressure x n_lat x n_lon x n_time] in K\n",
    "        pressure: [n_pressure] in Pa\n",
    "            First value is the near-surface pressure\n",
    "        lon: [n_lon] in deg\n",
    "        lat: [n_lat] in deg\n",
    "\n",
    "    Returns:\n",
    "        u_thermal: [n_pressure x n_lat x n_lon x n_time] in m/s\n",
    "        v_thermal: [n_pressure x n_lat x n_lon x n_time] in m/s\n",
    "    \"\"\"\n",
    "    d_temp_dx, d_temp_dy = get_gradient(temp, lon, lat)\n",
    "    n_pressure, n_lat, n_lon, n_time = d_temp_dx.shape\n",
    "    f_coriolis = 2 * rot_earth * np.sin(np.deg2rad(lat).to_numpy()).reshape(1, n_lat, 1, 1)\n",
    "    integrand_v = -d_temp_dx * R / (pressure.to_numpy().reshape(n_pressure, 1, 1, 1) * f_coriolis)\n",
    "    integrand_u = d_temp_dy * R / (pressure.to_numpy().reshape(n_pressure, 1, 1, 1) * f_coriolis)\n",
    "    return (scipy.integrate.cumulative_trapezoid(integrand_u, pressure, axis=0, initial=0), \n",
    "            scipy.integrate.cumulative_trapezoid(integrand_v, pressure, axis=0, initial=0))"
   ],
   "metadata": {
    "collapsed": false,
    "ExecuteTime": {
     "end_time": "2024-01-17T10:51:50.250232Z",
     "start_time": "2024-01-17T10:51:50.221293Z"
    }
   },
   "execution_count": 29,
   "outputs": []
  },
  {
   "cell_type": "code",
   "source": [
    "a, b = get_wind_thermal_cumulative(ds_all[0].temp, ds_all[0].pfull, ds_all[0].lon, ds_all[0].lat)"
   ],
   "metadata": {
    "collapsed": false,
    "ExecuteTime": {
     "end_time": "2024-01-17T10:52:02.120941Z",
     "start_time": "2024-01-17T10:52:01.917090Z"
    }
   },
   "execution_count": 31,
   "outputs": []
  },
  {
   "cell_type": "code",
   "source": [
    "plt.pcolormesh(np.mean(a[:, n_lat_keep], axis=1))"
   ],
   "metadata": {
    "collapsed": false,
    "ExecuteTime": {
     "end_time": "2024-01-17T10:52:35.622560Z",
     "start_time": "2024-01-17T10:52:35.546653Z"
    }
   },
   "execution_count": 35,
   "outputs": []
  },
  {
   "cell_type": "code",
   "source": [
    "plt.pcolormesh(np.mean(b[:, n_lat_keep], axis=1))"
   ],
   "metadata": {
    "collapsed": false,
    "ExecuteTime": {
     "end_time": "2024-01-17T10:52:45.822313Z",
     "start_time": "2024-01-17T10:52:45.743539Z"
    }
   },
   "execution_count": 36,
   "outputs": []
  },
  {
   "cell_type": "code",
   "source": [
    "a, b = get_gradient(ds_all[0].temp, ds_all[0].lon, ds_all[0].lat)\n",
    "f_coriolis = 2 * rot_earth * np.sin(np.deg2rad(ds_all[0].lat).to_numpy()).reshape(1, 5, 1, 1)\n",
    "a/f_coriolis"
   ],
   "metadata": {
    "collapsed": false,
    "ExecuteTime": {
     "end_time": "2024-01-17T10:46:01.740425Z",
     "start_time": "2024-01-17T10:46:01.665966Z"
    }
   },
   "execution_count": 26,
   "outputs": []
  },
  {
   "cell_type": "code",
   "source": [],
   "metadata": {
    "collapsed": false,
    "ExecuteTime": {
     "end_time": "2024-01-18T09:49:16.467238Z",
     "start_time": "2024-01-18T09:49:16.459505Z"
    }
   },
   "execution_count": 36,
   "outputs": []
  },
  {
   "cell_type": "code",
   "source": [],
   "metadata": {
    "collapsed": false
   },
   "execution_count": null,
   "outputs": []
  }
 ],
 "metadata": {
  "kernelspec": {
   "display_name": "Python 3",
   "language": "python",
   "name": "python3"
  },
  "language_info": {
   "codemirror_mode": {
    "name": "ipython",
    "version": 2
   },
   "file_extension": ".py",
   "mimetype": "text/x-python",
   "name": "python",
   "nbconvert_exporter": "python",
   "pygments_lexer": "ipython2",
   "version": "2.7.6"
  }
 },
 "nbformat": 4,
 "nbformat_minor": 0
}
