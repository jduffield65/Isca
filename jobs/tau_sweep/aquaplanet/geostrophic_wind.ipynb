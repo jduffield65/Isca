{
 "cells": [
  {
   "cell_type": "markdown",
   "source": [
    "# Shaw 2023\n",
    "This looks at high percentiles of upper troposphere (200hPa) zonal wind, to see how they vary with warming. Shaw 2023 indicated that the fastest winds increase the most."
   ],
   "metadata": {
    "collapsed": false
   }
  },
  {
   "cell_type": "code",
   "execution_count": 1,
   "outputs": [
    {
     "name": "stderr",
     "output_type": "stream",
     "text": [
      "2024-01-26 08:40:16,259 - isca - WARNING - Environment variable GFDL_SOC not set, but this is only required if using SocratesCodebase. Setting to None\n"
     ]
    }
   ],
   "source": [
    "import copy\n",
    "import sys\n",
    "import os\n",
    "# REMOTE - So can access functions in isca_tools which is in home/Isca directory\n",
    "# sys.path.append(os.path.join(os.environ['HOME'], 'Isca'))\n",
    "# LOCAL - So can access functions in isca_tools which is in StAndrews/Isca\n",
    "sys.path.append(os.environ['PWD'])\n",
    "import isca_tools\n",
    "from isca_tools.convection import lapse_moist, equivalent_potential_temp\n",
    "from isca_tools.utils.moist_physics import moist_static_energy, clausius_clapeyron_factor, sphum_sat\n",
    "from isca_tools.utils.constants import kappa, L_v, c_p, R, radius_earth, rot_earth, g\n",
    "from isca_tools.utils import area_weighting\n",
    "from isca_tools.papers.byrne_2021 import get_quant_ind\n",
    "from isca_tools.utils.calculus import grad_x, grad_y\n",
    "from isca_tools.thesis.aquaplanet_theory import get_delta_temp_quant_theory, get_gamma\n",
    "import numpy as np\n",
    "import matplotlib.pyplot as plt\n",
    "import xarray as xr\n",
    "import scipy.optimize\n",
    "from tqdm import tqdm\n",
    "from scipy import integrate\n",
    "import numpy_indexed\n",
    "from scipy.stats import percentileofscore\n",
    "import copy\n",
    "# Use custom matplotlib style for publishing\n",
    "plt.style.use('/Users/joshduffield/Documents/StAndrews/Isca/jobs/tau_sweep/aquaplanet/publish_figures/publish.mplstyle')"
   ],
   "metadata": {
    "collapsed": false,
    "ExecuteTime": {
     "end_time": "2024-01-26T08:40:18.239256Z",
     "start_time": "2024-01-26T08:40:16.254337Z"
    }
   }
  },
  {
   "cell_type": "code",
   "execution_count": 2,
   "outputs": [],
   "source": [
    "# Load dataset - one at surface and one in free troposphere\n",
    "var_keep = ['temp', 'ucomp', 'height', 'vcomp', 'ps']        # only keep variables required to compute relative humidity and MSE\n",
    "# Load dataset\n",
    "tau_lw_ref = 1\n",
    "tau_lw_warm = 1.5\n",
    "exp_dir = 'tau_sweep/aquaplanet/'\n",
    "exp_names = [f\"k={str(tau_lw_ref).replace('.','_')}\", f\"k={str(tau_lw_warm).replace('.','_')}\"]\n",
    "n_exp = len(exp_names)\n",
    "ds = []\n",
    "albedo = []\n",
    "tau_sw = []\n",
    "tau_lw = []\n",
    "for i in range(n_exp):\n",
    "    ds_use = isca_tools.load_dataset(exp_dir + exp_names[i])[var_keep]\n",
    "    ds += [ds_use]      # only keep the surface values\n",
    "    namelist = isca_tools.load_namelist(exp_dir + exp_names[i])  # Need this for albedo_value\n",
    "    albedo += [namelist['mixed_layer_nml']['albedo_value']]\n",
    "    tau_sw += [namelist['two_stream_gray_rad_nml']['atm_abs']]\n",
    "    tau_lw += [namelist['two_stream_gray_rad_nml']['odp']]\n",
    "sigma_levels = np.asarray(namelist['vert_coordinate_nml']['bk'])         # make first value the surface\n",
    "# Sigma levels are at half pressure levels, so need to convolve to get pressure at full pressure levels.\n",
    "sigma_levels = np.convolve(sigma_levels, np.ones(2)/2, 'valid')"
   ],
   "metadata": {
    "collapsed": false,
    "ExecuteTime": {
     "end_time": "2024-01-26T08:40:22.345138Z",
     "start_time": "2024-01-26T08:40:18.241581Z"
    }
   }
  },
  {
   "cell_type": "markdown",
   "source": [
    "## Get datasets\n",
    "Get one surface dataset for summer for each $\\kappa$, combining all latitudes: `ds_all`."
   ],
   "metadata": {
    "collapsed": false
   }
  },
  {
   "cell_type": "code",
   "execution_count": 3,
   "outputs": [],
   "source": [
    "# If true, will save all figures to desktop - option to save specific figures later on.\n",
    "save_fig = False\n",
    "# if publishing figure, use high dpi\n",
    "publish_fig = True\n",
    "\n",
    "ar = 4/3        # aspect ratio (width/height)\n",
    "# Details required for Journal of Climate Figures\n",
    "low_dpi = 100\n",
    "dpi = {'monochrome': 1100, 'combination': 800, 'halftone': 300}\n",
    "width = {'one_col': 3.2, 'two_col': 5.5}        # width in inches \n",
    "save_pad_inches = 0.05\n",
    "\n",
    "# Default parameters\n",
    "default_colors = plt.rcParams['axes.prop_cycle'].by_key()['color']\n",
    "ax_linewidth = plt.rcParams['axes.linewidth']"
   ],
   "metadata": {
    "collapsed": false,
    "ExecuteTime": {
     "end_time": "2024-01-26T08:40:22.351447Z",
     "start_time": "2024-01-26T08:40:22.345885Z"
    }
   }
  },
  {
   "cell_type": "code",
   "execution_count": 4,
   "outputs": [
    {
     "name": "stderr",
     "output_type": "stream",
     "text": [
      "100%|██████████| 2/2 [00:45<00:00, 22.73s/it]\n"
     ]
    }
   ],
   "source": [
    "# Load in dataset with surface and free troposphere across all latitudes, for given season\n",
    "pressure_ft = 500           # Desired approximate pressure of free troposphere (hPa)\n",
    "pressure_ft_ind = int(np.abs(ds[0].pfull-pressure_ft).argmin())\n",
    "use_time_start = 360*2\n",
    "\n",
    "# Chose whether to only consider summer days or consider all days\n",
    "summer_months = {'nh': [6, 7, 8], 'sh': [12, 1, 2]}   # JJA for NH and DJF for SH\n",
    "# season = 'all'\n",
    "season = 'summer'   # NOTE - if summer, does not give many days corresponding to high percentiles as only 5 years of data used\n",
    "\n",
    "# Use zhang definition of extratropics\n",
    "lat_min = 40\n",
    "lat_max = 65\n",
    "# lat_min = 80\n",
    "# lat_max = 88\n",
    "\n",
    "ds_all = []\n",
    "ds_z_ft = []         # keep 'lon' and 'time' separate for z at ft level so can compute gradient\n",
    "ds_sigma_correction = []        # need pressure levels either side of p_ft to compute gradient wrt pressure\n",
    "with tqdm(total=n_exp, position=0, leave=True) as pbar:\n",
    "    for i in range(n_exp):\n",
    "        # ds_use = ds[i].sel(pfull=[np.inf, pressure_ft], method='nearest').sel(time=slice(use_time_start, np.inf))\n",
    "        # Keep all latitudes, so can do geostrophic wind calc without large gap between hemispheres\n",
    "        ds_use = ds[i].sel(time=slice(use_time_start, np.inf))    \n",
    "        ds_sigma_correction += [ds_use.isel(pfull=[pressure_ft_ind-1, pressure_ft_ind, pressure_ft_ind+1]\n",
    "                                            ).stack(lon_time=(\"lon\",\"time\"), \n",
    "                                                    create_index=False).chunk(dict(lon_time=-1))[['vcomp', 'height', 'temp', 'ucomp']].load()]\n",
    "        ds_use = ds_use.sel(pfull=[pressure_ft, np.inf], method='nearest')\n",
    "        ds_z_ft += [ds_use.height.isel(pfull=0).transpose('lat', 'lon', 'time').load()]     # make time the last index\n",
    "        \n",
    "        ds_use = ds_use.where((np.abs(ds_use.lat) <= lat_max) & (np.abs(ds_use.lat) >= lat_min), drop=True)\n",
    "        if season == 'summer':\n",
    "            ds_nh_summer = isca_tools.utils.annual_time_slice(ds_use, summer_months['nh']).sel(lat=slice(0, 90))  \n",
    "            ds_sh_summer = isca_tools.utils.annual_time_slice(ds_use, summer_months['sh']).sel(lat=slice(-90, 0)) \n",
    "            # Combine hemispheres and average over longitude, time and latitude.\n",
    "            ds_use = xr.concat([ds_sh_summer, ds_nh_summer], dim='lat')\n",
    "        ds_use = ds_use.stack(lon_time=(\"lon\",\"time\"), create_index=False).chunk(dict(lon_time=-1))\n",
    "        ds_all += [ds_use.load()]\n",
    "        pbar.update(1)\n",
    "p_surface = float(ds_all[0].pfull[1]) * 100\n",
    "pressure_ft_actual = float(ds_all[0].pfull[0]) * 100       # Actual pressure of free troposphere (Pa)\n",
    "sigma_level_ft = sigma_levels[pressure_ft_ind]\n",
    "# sigma_levels_use = sigma_levels[:len(ds_all[0].pfull)]      # Not all sigma levels are kept\n",
    "\n",
    "n_lat = ds_all[0].lat.shape[0]\n",
    "lat_weights = np.cos(np.deg2rad(ds_all[0].lat))     # latitude area weighting is just the cosine\n",
    "lat_keep_ind = np.where((np.abs(ds_z_ft[0].lat) <= lat_max) & (np.abs(ds_z_ft[0].lat) >= lat_min))[0]\n",
    "# Only keep used latitudes for sigma correction\n",
    "ds_sigma_correction = [ds_sigma_correction[i].isel(lat=lat_keep_ind) for i in range(n_exp)]"
   ],
   "metadata": {
    "collapsed": false,
    "ExecuteTime": {
     "end_time": "2024-01-26T08:41:08.119096Z",
     "start_time": "2024-01-26T08:40:22.351904Z"
    }
   }
  },
  {
   "cell_type": "markdown",
   "source": [
    "## Check Equation 7 of Zhang 2023\n",
    "In the paper, it suggests we can approximate $z_{500} \\approx \\frac{\\overline{z_{500}}}{\\overline{T_{500}}}T_{500}$. Below I show that this seems reasonable for both $\\kappa=1$ and the $\\kappa=1.5$ simulations."
   ],
   "metadata": {
    "collapsed": false
   }
  },
  {
   "cell_type": "code",
   "outputs": [
    {
     "data": {
      "text/plain": "<Figure size 320x480 with 4 Axes>",
      "image/png": "[encoded data removed]"
     },
     "metadata": {},
     "output_type": "display_data"
    }
   ],
   "source": [
    "z_ft_mean = [float(area_weighting(ds_all[i].height[0]).mean()) for i in range(n_exp)]\n",
    "temp_ft_mean = [float(area_weighting(ds_all[i].temp[0]).mean()) for i in range(n_exp)]\n",
    "\n",
    "temp_bins = np.linspace(ds_all[0].temp[0].min(), ds_all[1].temp[0].max(), 30)\n",
    "z_bins = np.linspace(ds_all[0].height[0].min(), ds_all[1].height[0].max(), 30)\n",
    "z_hist = [np.histogram2d(ds_all[i].temp[0].to_numpy().flatten(), ds_all[i].height[0].to_numpy().flatten(), \n",
    "                         bins=[temp_bins, z_bins])[0] for i in range(n_exp)]\n",
    "# Check that z_ft vs temp_ft relationship is approximately valid\n",
    "temp_ft_array = np.arange(200, 300)\n",
    "\n",
    "save_z_t_hist_fig = False\n",
    "fig, ax = plt.subplots(2,1, figsize=(width['one_col'], 2 * width['one_col']/ar), sharex=True, sharey=True)\n",
    "for i in range(n_exp):\n",
    "    im = ax[i].imshow(z_hist[i].T/z_hist[i].sum(), origin='lower', aspect='auto', \n",
    "                      extent=[temp_bins[0], temp_bins[-1], z_bins[0], z_bins[-1]], vmin=0, vmax=0.05)\n",
    "    ax[i].plot(temp_ft_array, (z_ft_mean[i]/temp_ft_mean[i] * temp_ft_array), color='w', linestyle=':',\n",
    "            label='$\\\\frac{\\overline{z_{500}}}{\\overline{T_{500}}} T_{500}$')\n",
    "    ax[i].set_title(f'$\\kappa={tau_lw[i]}$')\n",
    "    fig.colorbar(im)\n",
    "fig.supylabel(f\"$z_{'{'+str(pressure_ft)+'}'}$ / m\", fontsize=7)\n",
    "ax[-1].set_xlabel(f\"$T_{'{'+str(pressure_ft)+'}'}$ / K\")\n",
    "ax[0].legend(labelcolor='w')\n",
    "ax[0].set_xlim(temp_bins[0], temp_bins[-1])\n",
    "ax[0].set_ylim(z_bins[0], z_bins[-1])\n",
    "plt.tight_layout()\n",
    "\n",
    "if save_fig or save_z_t_hist_fig:\n",
    "    fig.savefig(f\"/Users/joshduffield/Desktop/z_t_hist.pdf\",\n",
    "                dpi=dpi['combination'] if publish_fig else low_dpi, bbox_inches='tight', pad_inches=save_pad_inches)"
   ],
   "metadata": {
    "collapsed": false,
    "ExecuteTime": {
     "end_time": "2024-01-26T08:41:08.826238Z",
     "start_time": "2024-01-26T08:41:08.110768Z"
    }
   },
   "execution_count": 5
  },
  {
   "cell_type": "markdown",
   "source": [
    "Below, I look at the difference between the simulations to see if $\\delta z_{500} \\approx \\frac{\\delta \\overline{z_{500}}}{\\delta \\overline{T_{500}}}\\delta T_{500}$."
   ],
   "metadata": {
    "collapsed": false
   }
  },
  {
   "cell_type": "code",
   "outputs": [
    {
     "data": {
      "text/plain": "<Figure size 320x240 with 2 Axes>",
      "image/png": "[encoded data removed]"
     },
     "metadata": {},
     "output_type": "display_data"
    }
   ],
   "source": [
    "z_ft_diff_mean = float(area_weighting(ds_all[1].height[0]-ds_all[0].height[0]).mean())\n",
    "temp_ft_diff_mean = float(area_weighting(ds_all[1].temp[0]-ds_all[0].temp[0]).mean())\n",
    "\n",
    "temp_diff_bins = np.linspace((ds_all[1].temp[0] - ds_all[0].temp[0]).min(), (ds_all[1].temp[0] - ds_all[0].temp[0]).max(), 30)\n",
    "z_diff_bins = np.linspace((ds_all[1].height[0] - ds_all[0].height[0]).min(), (ds_all[1].height[0] - ds_all[0].height[0]).max(), 30)\n",
    "\n",
    "z_diff_hist = np.histogram2d((ds_all[1].temp[0] - ds_all[0].temp[0]).to_numpy().flatten(), \n",
    "                             (ds_all[1].height[0] - ds_all[0].height[0]).to_numpy().flatten(), bins=[temp_diff_bins, z_diff_bins])[0]\n",
    "temp_ft_diff_array = np.arange(-50, 50)\n",
    "\n",
    "save_z_t_diff_hist_fig = False\n",
    "fig, ax = plt.subplots(1,1, figsize=(width['one_col'], width['one_col']/ar))\n",
    "im = ax.imshow(z_diff_hist.T/z_diff_hist.sum(), origin='lower', aspect='auto', \n",
    "               extent=[temp_diff_bins[0], temp_diff_bins[-1], z_diff_bins[0], z_diff_bins[-1]], vmin=0, vmax=0.06)\n",
    "ax.plot(temp_ft_diff_array, (z_ft_diff_mean/temp_ft_diff_mean * temp_ft_diff_array), color='w', linestyle=':',\n",
    "            label='$\\\\frac{\\delta \\overline{z_{500}}}{\\delta \\overline{T_{500}}} \\delta T_{500}$')\n",
    "ax.set_xlim(temp_diff_bins[0], temp_diff_bins[-1])\n",
    "ax.set_ylim(z_diff_bins[0], z_diff_bins[-1])\n",
    "ax.legend(labelcolor='w')\n",
    "ax.set_ylabel(f\"$\\delta z_{'{'+str(pressure_ft)+'}'}$ / m\", fontsize=7)\n",
    "ax.set_xlabel(f\"$\\delta T_{'{'+str(pressure_ft)+'}'}$ / K\")\n",
    "ax.set_title(f'$(\\kappa={tau_lw[1]}) - (\\kappa={tau_lw[0]})$')\n",
    "fig.colorbar(im)\n",
    "plt.tight_layout()\n",
    "\n",
    "if save_fig or save_z_t_diff_hist_fig:\n",
    "    fig.savefig(f\"/Users/joshduffield/Desktop/z_t_diff_hist.pdf\",\n",
    "                dpi=dpi['combination'] if publish_fig else low_dpi, bbox_inches='tight', pad_inches=save_pad_inches)"
   ],
   "metadata": {
    "collapsed": false,
    "ExecuteTime": {
     "end_time": "2024-01-26T08:41:09.164640Z",
     "start_time": "2024-01-26T08:41:08.828499Z"
    }
   },
   "execution_count": 6
  },
  {
   "cell_type": "markdown",
   "source": [
    "### Check as function of percentile\n",
    "Below I check the relationship between $\\delta z_{500}(x)$ vs $\\delta T_{500}(x)$ where $x$ is near-surface temperature percentile. The approximation seems to do a decent job at predicting the magnitude of $\\delta z_{500}(x)$ but not the trend with $x$."
   ],
   "metadata": {
    "collapsed": false
   }
  },
  {
   "cell_type": "code",
   "outputs": [
    {
     "ename": "ValueError",
     "evalue": "operands could not be broadcast together with shapes (18,230400) (18,114560) ",
     "output_type": "error",
     "traceback": [
      "\u001B[0;31m---------------------------------------------------------------------------\u001B[0m",
      "\u001B[0;31mValueError\u001B[0m                                Traceback (most recent call last)",
      "Cell \u001B[0;32mIn [12], line 2\u001B[0m\n\u001B[1;32m      1\u001B[0m \u001B[38;5;66;03m# Sanity check that way of reshaping ds_z_ft is consitent with lon_time coordinate\u001B[39;00m\n\u001B[0;32m----> 2\u001B[0m \u001B[38;5;28mfloat\u001B[39m(np\u001B[38;5;241m.\u001B[39mabs(\u001B[43mds_z_ft\u001B[49m\u001B[43m[\u001B[49m\u001B[38;5;241;43m0\u001B[39;49m\u001B[43m]\u001B[49m\u001B[38;5;241;43m.\u001B[39;49m\u001B[43misel\u001B[49m\u001B[43m(\u001B[49m\u001B[43mlat\u001B[49m\u001B[38;5;241;43m=\u001B[39;49m\u001B[43mlat_keep_ind\u001B[49m\u001B[43m)\u001B[49m\u001B[38;5;241;43m.\u001B[39;49m\u001B[43mto_numpy\u001B[49m\u001B[43m(\u001B[49m\u001B[43m)\u001B[49m\u001B[38;5;241;43m.\u001B[39;49m\u001B[43mreshape\u001B[49m\u001B[43m(\u001B[49m\u001B[43mn_lat\u001B[49m\u001B[43m,\u001B[49m\u001B[43m \u001B[49m\u001B[38;5;241;43m-\u001B[39;49m\u001B[38;5;241;43m1\u001B[39;49m\u001B[43m)\u001B[49m\u001B[43m \u001B[49m\u001B[38;5;241;43m-\u001B[39;49m\u001B[43m \u001B[49m\u001B[43mds_all\u001B[49m\u001B[43m[\u001B[49m\u001B[38;5;241;43m0\u001B[39;49m\u001B[43m]\u001B[49m\u001B[38;5;241;43m.\u001B[39;49m\u001B[43mheight\u001B[49m\u001B[43m[\u001B[49m\u001B[38;5;241;43m0\u001B[39;49m\u001B[43m]\u001B[49m)\u001B[38;5;241m.\u001B[39mmax())\n",
      "File \u001B[0;32m~/miniforge3/envs/Isca/lib/python3.9/site-packages/xarray/core/arithmetic.py:82\u001B[0m, in \u001B[0;36mSupportsArithmetic.__array_ufunc__\u001B[0;34m(self, ufunc, method, *inputs, **kwargs)\u001B[0m\n\u001B[1;32m     73\u001B[0m     \u001B[38;5;28;01mraise\u001B[39;00m \u001B[38;5;167;01mNotImplementedError\u001B[39;00m(\n\u001B[1;32m     74\u001B[0m         \u001B[38;5;124m\"\u001B[39m\u001B[38;5;124mxarray objects are not yet supported in the `out` argument \u001B[39m\u001B[38;5;124m\"\u001B[39m\n\u001B[1;32m     75\u001B[0m         \u001B[38;5;124m\"\u001B[39m\u001B[38;5;124mfor ufuncs. As an alternative, consider explicitly \u001B[39m\u001B[38;5;124m\"\u001B[39m\n\u001B[1;32m     76\u001B[0m         \u001B[38;5;124m\"\u001B[39m\u001B[38;5;124mconverting xarray objects to NumPy arrays (e.g., with \u001B[39m\u001B[38;5;124m\"\u001B[39m\n\u001B[1;32m     77\u001B[0m         \u001B[38;5;124m\"\u001B[39m\u001B[38;5;124m`.values`).\u001B[39m\u001B[38;5;124m\"\u001B[39m\n\u001B[1;32m     78\u001B[0m     )\n\u001B[1;32m     80\u001B[0m join \u001B[38;5;241m=\u001B[39m dataset_join \u001B[38;5;241m=\u001B[39m OPTIONS[\u001B[38;5;124m\"\u001B[39m\u001B[38;5;124marithmetic_join\u001B[39m\u001B[38;5;124m\"\u001B[39m]\n\u001B[0;32m---> 82\u001B[0m \u001B[38;5;28;01mreturn\u001B[39;00m \u001B[43mapply_ufunc\u001B[49m\u001B[43m(\u001B[49m\n\u001B[1;32m     83\u001B[0m \u001B[43m    \u001B[49m\u001B[43mufunc\u001B[49m\u001B[43m,\u001B[49m\n\u001B[1;32m     84\u001B[0m \u001B[43m    \u001B[49m\u001B[38;5;241;43m*\u001B[39;49m\u001B[43minputs\u001B[49m\u001B[43m,\u001B[49m\n\u001B[1;32m     85\u001B[0m \u001B[43m    \u001B[49m\u001B[43minput_core_dims\u001B[49m\u001B[38;5;241;43m=\u001B[39;49m\u001B[43m(\u001B[49m\u001B[43m(\u001B[49m\u001B[43m)\u001B[49m\u001B[43m,\u001B[49m\u001B[43m)\u001B[49m\u001B[43m \u001B[49m\u001B[38;5;241;43m*\u001B[39;49m\u001B[43m \u001B[49m\u001B[43mufunc\u001B[49m\u001B[38;5;241;43m.\u001B[39;49m\u001B[43mnin\u001B[49m\u001B[43m,\u001B[49m\n\u001B[1;32m     86\u001B[0m \u001B[43m    \u001B[49m\u001B[43moutput_core_dims\u001B[49m\u001B[38;5;241;43m=\u001B[39;49m\u001B[43m(\u001B[49m\u001B[43m(\u001B[49m\u001B[43m)\u001B[49m\u001B[43m,\u001B[49m\u001B[43m)\u001B[49m\u001B[43m \u001B[49m\u001B[38;5;241;43m*\u001B[39;49m\u001B[43m \u001B[49m\u001B[43mufunc\u001B[49m\u001B[38;5;241;43m.\u001B[39;49m\u001B[43mnout\u001B[49m\u001B[43m,\u001B[49m\n\u001B[1;32m     87\u001B[0m \u001B[43m    \u001B[49m\u001B[43mjoin\u001B[49m\u001B[38;5;241;43m=\u001B[39;49m\u001B[43mjoin\u001B[49m\u001B[43m,\u001B[49m\n\u001B[1;32m     88\u001B[0m \u001B[43m    \u001B[49m\u001B[43mdataset_join\u001B[49m\u001B[38;5;241;43m=\u001B[39;49m\u001B[43mdataset_join\u001B[49m\u001B[43m,\u001B[49m\n\u001B[1;32m     89\u001B[0m \u001B[43m    \u001B[49m\u001B[43mdataset_fill_value\u001B[49m\u001B[38;5;241;43m=\u001B[39;49m\u001B[43mnp\u001B[49m\u001B[38;5;241;43m.\u001B[39;49m\u001B[43mnan\u001B[49m\u001B[43m,\u001B[49m\n\u001B[1;32m     90\u001B[0m \u001B[43m    \u001B[49m\u001B[43mkwargs\u001B[49m\u001B[38;5;241;43m=\u001B[39;49m\u001B[43mkwargs\u001B[49m\u001B[43m,\u001B[49m\n\u001B[1;32m     91\u001B[0m \u001B[43m    \u001B[49m\u001B[43mdask\u001B[49m\u001B[38;5;241;43m=\u001B[39;49m\u001B[38;5;124;43m\"\u001B[39;49m\u001B[38;5;124;43mallowed\u001B[39;49m\u001B[38;5;124;43m\"\u001B[39;49m\u001B[43m,\u001B[49m\n\u001B[1;32m     92\u001B[0m \u001B[43m    \u001B[49m\u001B[43mkeep_attrs\u001B[49m\u001B[38;5;241;43m=\u001B[39;49m\u001B[43m_get_keep_attrs\u001B[49m\u001B[43m(\u001B[49m\u001B[43mdefault\u001B[49m\u001B[38;5;241;43m=\u001B[39;49m\u001B[38;5;28;43;01mTrue\u001B[39;49;00m\u001B[43m)\u001B[49m\u001B[43m,\u001B[49m\n\u001B[1;32m     93\u001B[0m \u001B[43m\u001B[49m\u001B[43m)\u001B[49m\n",
      "File \u001B[0;32m~/miniforge3/envs/Isca/lib/python3.9/site-packages/xarray/core/computation.py:1204\u001B[0m, in \u001B[0;36mapply_ufunc\u001B[0;34m(func, input_core_dims, output_core_dims, exclude_dims, vectorize, join, dataset_join, dataset_fill_value, keep_attrs, kwargs, dask, output_dtypes, output_sizes, meta, dask_gufunc_kwargs, *args)\u001B[0m\n\u001B[1;32m   1202\u001B[0m \u001B[38;5;66;03m# feed DataArray apply_variable_ufunc through apply_dataarray_vfunc\u001B[39;00m\n\u001B[1;32m   1203\u001B[0m \u001B[38;5;28;01melif\u001B[39;00m \u001B[38;5;28many\u001B[39m(\u001B[38;5;28misinstance\u001B[39m(a, DataArray) \u001B[38;5;28;01mfor\u001B[39;00m a \u001B[38;5;129;01min\u001B[39;00m args):\n\u001B[0;32m-> 1204\u001B[0m     \u001B[38;5;28;01mreturn\u001B[39;00m \u001B[43mapply_dataarray_vfunc\u001B[49m\u001B[43m(\u001B[49m\n\u001B[1;32m   1205\u001B[0m \u001B[43m        \u001B[49m\u001B[43mvariables_vfunc\u001B[49m\u001B[43m,\u001B[49m\n\u001B[1;32m   1206\u001B[0m \u001B[43m        \u001B[49m\u001B[38;5;241;43m*\u001B[39;49m\u001B[43margs\u001B[49m\u001B[43m,\u001B[49m\n\u001B[1;32m   1207\u001B[0m \u001B[43m        \u001B[49m\u001B[43msignature\u001B[49m\u001B[38;5;241;43m=\u001B[39;49m\u001B[43msignature\u001B[49m\u001B[43m,\u001B[49m\n\u001B[1;32m   1208\u001B[0m \u001B[43m        \u001B[49m\u001B[43mjoin\u001B[49m\u001B[38;5;241;43m=\u001B[39;49m\u001B[43mjoin\u001B[49m\u001B[43m,\u001B[49m\n\u001B[1;32m   1209\u001B[0m \u001B[43m        \u001B[49m\u001B[43mexclude_dims\u001B[49m\u001B[38;5;241;43m=\u001B[39;49m\u001B[43mexclude_dims\u001B[49m\u001B[43m,\u001B[49m\n\u001B[1;32m   1210\u001B[0m \u001B[43m        \u001B[49m\u001B[43mkeep_attrs\u001B[49m\u001B[38;5;241;43m=\u001B[39;49m\u001B[43mkeep_attrs\u001B[49m\u001B[43m,\u001B[49m\n\u001B[1;32m   1211\u001B[0m \u001B[43m    \u001B[49m\u001B[43m)\u001B[49m\n\u001B[1;32m   1212\u001B[0m \u001B[38;5;66;03m# feed Variables directly through apply_variable_ufunc\u001B[39;00m\n\u001B[1;32m   1213\u001B[0m \u001B[38;5;28;01melif\u001B[39;00m \u001B[38;5;28many\u001B[39m(\u001B[38;5;28misinstance\u001B[39m(a, Variable) \u001B[38;5;28;01mfor\u001B[39;00m a \u001B[38;5;129;01min\u001B[39;00m args):\n",
      "File \u001B[0;32m~/miniforge3/envs/Isca/lib/python3.9/site-packages/xarray/core/computation.py:315\u001B[0m, in \u001B[0;36mapply_dataarray_vfunc\u001B[0;34m(func, signature, join, exclude_dims, keep_attrs, *args)\u001B[0m\n\u001B[1;32m    310\u001B[0m result_coords, result_indexes \u001B[38;5;241m=\u001B[39m build_output_coords_and_indexes(\n\u001B[1;32m    311\u001B[0m     args, signature, exclude_dims, combine_attrs\u001B[38;5;241m=\u001B[39mkeep_attrs\n\u001B[1;32m    312\u001B[0m )\n\u001B[1;32m    314\u001B[0m data_vars \u001B[38;5;241m=\u001B[39m [\u001B[38;5;28mgetattr\u001B[39m(a, \u001B[38;5;124m\"\u001B[39m\u001B[38;5;124mvariable\u001B[39m\u001B[38;5;124m\"\u001B[39m, a) \u001B[38;5;28;01mfor\u001B[39;00m a \u001B[38;5;129;01min\u001B[39;00m args]\n\u001B[0;32m--> 315\u001B[0m result_var \u001B[38;5;241m=\u001B[39m \u001B[43mfunc\u001B[49m\u001B[43m(\u001B[49m\u001B[38;5;241;43m*\u001B[39;49m\u001B[43mdata_vars\u001B[49m\u001B[43m)\u001B[49m\n\u001B[1;32m    317\u001B[0m out: \u001B[38;5;28mtuple\u001B[39m[DataArray, \u001B[38;5;241m.\u001B[39m\u001B[38;5;241m.\u001B[39m\u001B[38;5;241m.\u001B[39m] \u001B[38;5;241m|\u001B[39m DataArray\n\u001B[1;32m    318\u001B[0m \u001B[38;5;28;01mif\u001B[39;00m signature\u001B[38;5;241m.\u001B[39mnum_outputs \u001B[38;5;241m>\u001B[39m \u001B[38;5;241m1\u001B[39m:\n",
      "File \u001B[0;32m~/miniforge3/envs/Isca/lib/python3.9/site-packages/xarray/core/computation.py:771\u001B[0m, in \u001B[0;36mapply_variable_ufunc\u001B[0;34m(func, signature, exclude_dims, dask, output_dtypes, vectorize, keep_attrs, dask_gufunc_kwargs, *args)\u001B[0m\n\u001B[1;32m    766\u001B[0m     \u001B[38;5;28;01mif\u001B[39;00m vectorize:\n\u001B[1;32m    767\u001B[0m         func \u001B[38;5;241m=\u001B[39m _vectorize(\n\u001B[1;32m    768\u001B[0m             func, signature, output_dtypes\u001B[38;5;241m=\u001B[39moutput_dtypes, exclude_dims\u001B[38;5;241m=\u001B[39mexclude_dims\n\u001B[1;32m    769\u001B[0m         )\n\u001B[0;32m--> 771\u001B[0m result_data \u001B[38;5;241m=\u001B[39m \u001B[43mfunc\u001B[49m\u001B[43m(\u001B[49m\u001B[38;5;241;43m*\u001B[39;49m\u001B[43minput_data\u001B[49m\u001B[43m)\u001B[49m\n\u001B[1;32m    773\u001B[0m \u001B[38;5;28;01mif\u001B[39;00m signature\u001B[38;5;241m.\u001B[39mnum_outputs \u001B[38;5;241m==\u001B[39m \u001B[38;5;241m1\u001B[39m:\n\u001B[1;32m    774\u001B[0m     result_data \u001B[38;5;241m=\u001B[39m (result_data,)\n",
      "\u001B[0;31mValueError\u001B[0m: operands could not be broadcast together with shapes (18,230400) (18,114560) "
     ]
    }
   ],
   "source": [
    "# Sanity check that way of reshaping ds_z_ft is consitent with lon_time coordinate\n",
    "float(np.abs(ds_z_ft[0].isel(lat=lat_keep_ind).to_numpy().reshape(n_lat, -1) - ds_all[0].height[0]).max())"
   ],
   "metadata": {
    "collapsed": false,
    "ExecuteTime": {
     "end_time": "2024-01-26T08:44:59.186756Z",
     "start_time": "2024-01-26T08:44:59.136213Z"
    }
   },
   "execution_count": 12
  },
  {
   "cell_type": "code",
   "outputs": [],
   "source": [
    "def get_geostrophic_wind(z_height, lat, lon, lat_axis=-2, lon_axis=-1):\n",
    "    \"\"\"\n",
    "    Returns the geostrophic approximation for the zonal and meridional wind at \n",
    "    a given sigma level in the atmosphere.\n",
    "    \n",
    "    Args:\n",
    "        z_height: [n_lat x n_lon x n_time]\n",
    "            Geopotential height in m at a given sigma level.\n",
    "        lat: [n_lat] in deg\n",
    "        lon: [n_lon] in deg\n",
    "\n",
    "    Returns:\n",
    "        u_geo: [n_lat x n_lon x n_time]\n",
    "        v_geo: [n_lat x n_lon x n_time]\n",
    "    \"\"\"\n",
    "    z_shape = np.ones(len(z_height.shape), dtype=int)\n",
    "    z_shape[lat_axis] = len(lat)\n",
    "    f_coriolis = 2 * rot_earth * np.sin(np.deg2rad(lat).to_numpy()).reshape(z_shape)\n",
    "    return -(g/f_coriolis) * grad_y(z_height, lat, lat_axis), (g/f_coriolis) * grad_x(z_height, lat, lon, lat_axis, lon_axis), "
   ],
   "metadata": {
    "collapsed": false,
    "ExecuteTime": {
     "end_time": "2024-01-26T08:43:38.401427Z",
     "start_time": "2024-01-26T08:43:38.387772Z"
    }
   },
   "execution_count": 8
  },
  {
   "cell_type": "code",
   "execution_count": 9,
   "outputs": [
    {
     "name": "stderr",
     "output_type": "stream",
     "text": [
      "100%|██████████| 3564/3564 [00:16<00:00, 212.35it/s]\n"
     ]
    }
   ],
   "source": [
    "# Get all data needed to compute theoretical temp change and to plot actual temp change for each quantile of temperature\n",
    "quant_plot = np.arange(1, 100)     # avoid 0 quantile as it gives weird results\n",
    "n_quant = len(quant_plot)\n",
    "\n",
    "take_abs_v = True       # whether to consider speed or velocity of winds\n",
    "if take_abs_v:\n",
    "    v_func = lambda x: np.abs(x) \n",
    "else:\n",
    "    v_func = lambda x: x\n",
    "    \n",
    "take_abs_u = True       # whether to consider speed or velocity of winds\n",
    "if take_abs_u:\n",
    "    u_func = lambda x: np.abs(x) \n",
    "else:\n",
    "    u_func = lambda x: x\n",
    "\n",
    "temp_mean = np.zeros((n_exp, 2, n_lat))         # second index: 0 is free trop, 1 is surface\n",
    "z_mean = np.zeros((n_exp, n_lat))\n",
    "\n",
    "# quant2 is the actual quantile value rather than the average above a given quantile\n",
    "temp_quant3 = np.zeros((n_exp, 2, n_lat, n_quant))\n",
    "# upper troposphere geopotential height as function of T percentile\n",
    "z_quant3 = np.zeros((n_exp, n_lat, n_quant))\n",
    "z_quant3_diff = np.zeros((n_exp, n_lat, n_quant))       # difference between quant3 and mean at that latitude.\n",
    "# upper troposphere zonal wind as function of temperature percentile\n",
    "# u_quant3 = np.zeros((n_exp, n_lat, n_quant))\n",
    "# upper troposphere meridional wind as function of temperature percentile\n",
    "v_quant3 = np.zeros((n_exp, n_lat, n_quant))\n",
    "# FT geostrophic wind\n",
    "v_geo_quant3 = np.zeros((n_exp, n_lat, n_quant))\n",
    "# upper troposphere zonal wind as function of temperature percentile\n",
    "u_quant3 = np.zeros((n_exp, n_lat, n_quant))\n",
    "# FT geostrophic wind\n",
    "u_geo_quant3 = np.zeros((n_exp, n_lat, n_quant))\n",
    "# Surface pressure\n",
    "p_surface_quant3 = np.zeros((n_exp, n_lat, n_quant))\n",
    "\n",
    "with tqdm(total=n_exp*n_quant*n_lat, position=0, leave=True) as pbar:\n",
    "    for i in range(n_exp):\n",
    "        temp_mean[i] = ds_all[i].temp.mean(dim='lon_time')       # surface temp at both pressure levels\n",
    "        z_mean[i] = ds_all[i].height[0].mean(dim='lon_time')      \n",
    "        u_geo_use, v_geo_use = get_geostrophic_wind(ds_z_ft[i], ds_z_ft[i].lat, ds_z_ft[i].lon, lat_axis=0, lon_axis=1)\n",
    "        # Reshape so can take average on day corresponding to given quantile\n",
    "        u_geo_use = u_geo_use[lat_keep_ind].reshape(n_lat, -1)\n",
    "        v_geo_use = v_geo_use[lat_keep_ind].reshape(n_lat, -1)\n",
    "        for k in range(n_lat):\n",
    "            for j, quant in enumerate(quant_plot):\n",
    "                use_ind = get_quant_ind(ds_all[i].temp[1, k], quant, 0.5, 0.5)\n",
    "                temp_quant3[i, :, k, j] = ds_all[i].temp[:, k, use_ind].mean(dim='lon_time', skipna=True)  \n",
    "                z_quant3[i, k, j] = ds_all[i].height[0, k, use_ind].mean(skipna=True)      \n",
    "                z_quant3_diff[i, k, j] = v_func(ds_all[i].height[0, k, use_ind]-z_mean[i,k]).mean(skipna=True)\n",
    "                v_quant3[i, k, j] = v_func(ds_all[i].vcomp[0, k, use_ind]).mean(skipna=True)    \n",
    "                v_geo_quant3[i, k, j] = v_func(v_geo_use[k, use_ind]).mean()\n",
    "                u_quant3[i, k, j] = u_func(ds_all[i].ucomp[0, k, use_ind]).mean(skipna=True)    \n",
    "                u_geo_quant3[i, k, j] = u_func(u_geo_use[k, use_ind]).mean()\n",
    "                p_surface_quant3[i, k, j] = ds_all[i].ps[k, use_ind].mean(skipna=True)      \n",
    "                pbar.update(1)"
   ],
   "metadata": {
    "collapsed": false,
    "ExecuteTime": {
     "end_time": "2024-01-26T08:43:56.516849Z",
     "start_time": "2024-01-26T08:43:39.716601Z"
    }
   }
  },
  {
   "cell_type": "markdown",
   "source": [
    "### Checking at pressure levels as well as sigma.\n",
    "Isca outputs data at $\\sigma = p/p_s$ levels. Here, I account for the variation of surface pressure, $p_s$, by obtaining the variables on a given pressure level.\n",
    "\n",
    "To find a variable, $\\Phi$, at pressure $p$ from the value at $\\sigma$, I use:\n",
    "$\\Phi(p) = \\Phi(\\sigma) + (p - \\sigma p_s)\\frac{\\partial \\Phi}{\\partial p}(\\sigma)$\n",
    "\n",
    "It doesn't appear to make much difference though."
   ],
   "metadata": {
    "collapsed": false
   }
  },
  {
   "cell_type": "code",
   "execution_count": 10,
   "outputs": [
    {
     "name": "stderr",
     "output_type": "stream",
     "text": [
      "  0%|          | 0/3564 [00:00<?, ?it/s]\n"
     ]
    },
    {
     "ename": "ValueError",
     "evalue": "operands could not be broadcast together with shapes (18,114560) (18,230400) ",
     "output_type": "error",
     "traceback": [
      "\u001B[0;31m---------------------------------------------------------------------------\u001B[0m",
      "\u001B[0;31mValueError\u001B[0m                                Traceback (most recent call last)",
      "Cell \u001B[0;32mIn [10], line 19\u001B[0m\n\u001B[1;32m     17\u001B[0m \u001B[38;5;28;01mfor\u001B[39;00m i \u001B[38;5;129;01min\u001B[39;00m \u001B[38;5;28mrange\u001B[39m(n_exp):\n\u001B[1;32m     18\u001B[0m     p_diff \u001B[38;5;241m=\u001B[39m pressure_ft_actual \u001B[38;5;241m-\u001B[39m sigma_level_ft \u001B[38;5;241m*\u001B[39m ds_all[i]\u001B[38;5;241m.\u001B[39mps     \u001B[38;5;66;03m# difference sigma level pressure and a given pressure\u001B[39;00m\n\u001B[0;32m---> 19\u001B[0m     temp_grad \u001B[38;5;241m=\u001B[39m \u001B[43mp_diff\u001B[49m\u001B[43m \u001B[49m\u001B[38;5;241;43m*\u001B[39;49m\u001B[43m \u001B[49m\u001B[43mnp\u001B[49m\u001B[38;5;241;43m.\u001B[39;49m\u001B[43mgradient\u001B[49m\u001B[43m(\u001B[49m\u001B[43mds_sigma_correction\u001B[49m\u001B[43m[\u001B[49m\u001B[43mi\u001B[49m\u001B[43m]\u001B[49m\u001B[38;5;241;43m.\u001B[39;49m\u001B[43mtemp\u001B[49m\u001B[43m,\u001B[49m\u001B[43m \u001B[49m\u001B[43mds_sigma_correction\u001B[49m\u001B[43m[\u001B[49m\u001B[43mi\u001B[49m\u001B[43m]\u001B[49m\u001B[38;5;241;43m.\u001B[39;49m\u001B[43mpfull\u001B[49m\u001B[38;5;241;43m*\u001B[39;49m\u001B[38;5;241;43m100\u001B[39;49m\u001B[43m,\u001B[49m\u001B[43m \u001B[49m\u001B[43maxis\u001B[49m\u001B[38;5;241;43m=\u001B[39;49m\u001B[38;5;241;43m0\u001B[39;49m\u001B[43m)\u001B[49m\u001B[43m[\u001B[49m\u001B[38;5;241;43m1\u001B[39;49m\u001B[43m]\u001B[49m\n\u001B[1;32m     20\u001B[0m     z_grad \u001B[38;5;241m=\u001B[39m p_diff \u001B[38;5;241m*\u001B[39m np\u001B[38;5;241m.\u001B[39mgradient(ds_sigma_correction[i]\u001B[38;5;241m.\u001B[39mheight, ds_sigma_correction[i]\u001B[38;5;241m.\u001B[39mpfull\u001B[38;5;241m*\u001B[39m\u001B[38;5;241m100\u001B[39m, axis\u001B[38;5;241m=\u001B[39m\u001B[38;5;241m0\u001B[39m)[\u001B[38;5;241m1\u001B[39m]\n\u001B[1;32m     21\u001B[0m     v_grad \u001B[38;5;241m=\u001B[39m p_diff \u001B[38;5;241m*\u001B[39m np\u001B[38;5;241m.\u001B[39mgradient(ds_sigma_correction[i]\u001B[38;5;241m.\u001B[39mvcomp, ds_sigma_correction[i]\u001B[38;5;241m.\u001B[39mpfull\u001B[38;5;241m*\u001B[39m\u001B[38;5;241m100\u001B[39m, axis\u001B[38;5;241m=\u001B[39m\u001B[38;5;241m0\u001B[39m)[\u001B[38;5;241m1\u001B[39m]\n",
      "File \u001B[0;32m~/miniforge3/envs/Isca/lib/python3.9/site-packages/xarray/core/_typed_ops.py:212\u001B[0m, in \u001B[0;36mDataArrayOpsMixin.__mul__\u001B[0;34m(self, other)\u001B[0m\n\u001B[1;32m    211\u001B[0m \u001B[38;5;28;01mdef\u001B[39;00m \u001B[38;5;21m__mul__\u001B[39m(\u001B[38;5;28mself\u001B[39m, other):\n\u001B[0;32m--> 212\u001B[0m     \u001B[38;5;28;01mreturn\u001B[39;00m \u001B[38;5;28;43mself\u001B[39;49m\u001B[38;5;241;43m.\u001B[39;49m\u001B[43m_binary_op\u001B[49m\u001B[43m(\u001B[49m\u001B[43mother\u001B[49m\u001B[43m,\u001B[49m\u001B[43m \u001B[49m\u001B[43moperator\u001B[49m\u001B[38;5;241;43m.\u001B[39;49m\u001B[43mmul\u001B[49m\u001B[43m)\u001B[49m\n",
      "File \u001B[0;32m~/miniforge3/envs/Isca/lib/python3.9/site-packages/xarray/core/dataarray.py:4358\u001B[0m, in \u001B[0;36mDataArray._binary_op\u001B[0;34m(self, other, f, reflexive)\u001B[0m\n\u001B[1;32m   4354\u001B[0m other_variable \u001B[38;5;241m=\u001B[39m \u001B[38;5;28mgetattr\u001B[39m(other, \u001B[38;5;124m\"\u001B[39m\u001B[38;5;124mvariable\u001B[39m\u001B[38;5;124m\"\u001B[39m, other)\n\u001B[1;32m   4355\u001B[0m other_coords \u001B[38;5;241m=\u001B[39m \u001B[38;5;28mgetattr\u001B[39m(other, \u001B[38;5;124m\"\u001B[39m\u001B[38;5;124mcoords\u001B[39m\u001B[38;5;124m\"\u001B[39m, \u001B[38;5;28;01mNone\u001B[39;00m)\n\u001B[1;32m   4357\u001B[0m variable \u001B[38;5;241m=\u001B[39m (\n\u001B[0;32m-> 4358\u001B[0m     \u001B[43mf\u001B[49m\u001B[43m(\u001B[49m\u001B[38;5;28;43mself\u001B[39;49m\u001B[38;5;241;43m.\u001B[39;49m\u001B[43mvariable\u001B[49m\u001B[43m,\u001B[49m\u001B[43m \u001B[49m\u001B[43mother_variable\u001B[49m\u001B[43m)\u001B[49m\n\u001B[1;32m   4359\u001B[0m     \u001B[38;5;28;01mif\u001B[39;00m \u001B[38;5;129;01mnot\u001B[39;00m reflexive\n\u001B[1;32m   4360\u001B[0m     \u001B[38;5;28;01melse\u001B[39;00m f(other_variable, \u001B[38;5;28mself\u001B[39m\u001B[38;5;241m.\u001B[39mvariable)\n\u001B[1;32m   4361\u001B[0m )\n\u001B[1;32m   4362\u001B[0m coords, indexes \u001B[38;5;241m=\u001B[39m \u001B[38;5;28mself\u001B[39m\u001B[38;5;241m.\u001B[39mcoords\u001B[38;5;241m.\u001B[39m_merge_raw(other_coords, reflexive)\n\u001B[1;32m   4363\u001B[0m name \u001B[38;5;241m=\u001B[39m \u001B[38;5;28mself\u001B[39m\u001B[38;5;241m.\u001B[39m_result_name(other)\n",
      "File \u001B[0;32m~/miniforge3/envs/Isca/lib/python3.9/site-packages/xarray/core/_typed_ops.py:402\u001B[0m, in \u001B[0;36mVariableOpsMixin.__mul__\u001B[0;34m(self, other)\u001B[0m\n\u001B[1;32m    401\u001B[0m \u001B[38;5;28;01mdef\u001B[39;00m \u001B[38;5;21m__mul__\u001B[39m(\u001B[38;5;28mself\u001B[39m, other):\n\u001B[0;32m--> 402\u001B[0m     \u001B[38;5;28;01mreturn\u001B[39;00m \u001B[38;5;28;43mself\u001B[39;49m\u001B[38;5;241;43m.\u001B[39;49m\u001B[43m_binary_op\u001B[49m\u001B[43m(\u001B[49m\u001B[43mother\u001B[49m\u001B[43m,\u001B[49m\u001B[43m \u001B[49m\u001B[43moperator\u001B[49m\u001B[38;5;241;43m.\u001B[39;49m\u001B[43mmul\u001B[49m\u001B[43m)\u001B[49m\n",
      "File \u001B[0;32m~/miniforge3/envs/Isca/lib/python3.9/site-packages/xarray/core/variable.py:2639\u001B[0m, in \u001B[0;36mVariable._binary_op\u001B[0;34m(self, other, f, reflexive)\u001B[0m\n\u001B[1;32m   2636\u001B[0m attrs \u001B[38;5;241m=\u001B[39m \u001B[38;5;28mself\u001B[39m\u001B[38;5;241m.\u001B[39m_attrs \u001B[38;5;28;01mif\u001B[39;00m keep_attrs \u001B[38;5;28;01melse\u001B[39;00m \u001B[38;5;28;01mNone\u001B[39;00m\n\u001B[1;32m   2637\u001B[0m \u001B[38;5;28;01mwith\u001B[39;00m np\u001B[38;5;241m.\u001B[39merrstate(\u001B[38;5;28mall\u001B[39m\u001B[38;5;241m=\u001B[39m\u001B[38;5;124m\"\u001B[39m\u001B[38;5;124mignore\u001B[39m\u001B[38;5;124m\"\u001B[39m):\n\u001B[1;32m   2638\u001B[0m     new_data \u001B[38;5;241m=\u001B[39m (\n\u001B[0;32m-> 2639\u001B[0m         \u001B[43mf\u001B[49m\u001B[43m(\u001B[49m\u001B[43mself_data\u001B[49m\u001B[43m,\u001B[49m\u001B[43m \u001B[49m\u001B[43mother_data\u001B[49m\u001B[43m)\u001B[49m \u001B[38;5;28;01mif\u001B[39;00m \u001B[38;5;129;01mnot\u001B[39;00m reflexive \u001B[38;5;28;01melse\u001B[39;00m f(other_data, self_data)\n\u001B[1;32m   2640\u001B[0m     )\n\u001B[1;32m   2641\u001B[0m result \u001B[38;5;241m=\u001B[39m Variable(dims, new_data, attrs\u001B[38;5;241m=\u001B[39mattrs)\n\u001B[1;32m   2642\u001B[0m \u001B[38;5;28;01mreturn\u001B[39;00m result\n",
      "\u001B[0;31mValueError\u001B[0m: operands could not be broadcast together with shapes (18,114560) (18,230400) "
     ]
    }
   ],
   "source": [
    "# Obtain quantile data but at pressure_ft_actual, rather than at a sigma level\n",
    "\n",
    "# quant2 is the actual quantile value rather than the average above a given quantile\n",
    "temp_p_quant3 = np.zeros((n_exp, n_lat, n_quant))\n",
    "# upper troposphere geopotential height as function of T percentile\n",
    "z_p_quant3 = np.zeros((n_exp, n_lat, n_quant))\n",
    "# upper troposphere zonal wind as function of temperature percentile\n",
    "# u_quant3 = np.zeros((n_exp, n_lat, n_quant))\n",
    "# upper troposphere meridional wind as function of temperature percentile\n",
    "v_p_quant3 = np.zeros((n_exp, n_lat, n_quant))\n",
    "u_p_quant3 = np.zeros((n_exp, n_lat, n_quant))\n",
    "\n",
    "temp_p_mean = np.zeros((n_exp, n_lat)) \n",
    "z_p_mean = np.zeros((n_exp, n_lat))\n",
    "\n",
    "with tqdm(total=n_exp*n_quant*n_lat, position=0, leave=True) as pbar:\n",
    "    for i in range(n_exp):\n",
    "        p_diff = pressure_ft_actual - sigma_level_ft * ds_all[i].ps     # difference sigma level pressure and a given pressure\n",
    "        temp_grad = p_diff * np.gradient(ds_sigma_correction[i].temp, ds_sigma_correction[i].pfull*100, axis=0)[1]\n",
    "        z_grad = p_diff * np.gradient(ds_sigma_correction[i].height, ds_sigma_correction[i].pfull*100, axis=0)[1]\n",
    "        v_grad = p_diff * np.gradient(ds_sigma_correction[i].vcomp, ds_sigma_correction[i].pfull*100, axis=0)[1]\n",
    "        u_grad = p_diff * np.gradient(ds_sigma_correction[i].ucomp, ds_sigma_correction[i].pfull*100, axis=0)[1]\n",
    "        \n",
    "        temp_p_mean[i] = (ds_all[i].temp[0]+temp_grad).mean(dim='lon_time')       # surface temp at both pressure levels\n",
    "        z_p_mean[i] = (ds_all[i].height[0]+z_grad).mean(dim='lon_time')      \n",
    "        for k in range(n_lat):\n",
    "            for j, quant in enumerate(quant_plot):\n",
    "                use_ind = get_quant_ind(ds_all[i].temp[1, k], quant, 0.5, 0.5)\n",
    "                temp_p_quant3[i, k, j] = (ds_all[i].temp[0] + temp_grad)[k, use_ind].mean(dim='lon_time', skipna=True)  \n",
    "                z_p_quant3[i, k, j] = (ds_all[i].height[0] + z_grad)[k, use_ind].mean(skipna=True)      \n",
    "                v_p_quant3[i, k, j] = v_func((ds_all[i].vcomp[0] + v_grad)[k, use_ind]).mean(skipna=True)       \n",
    "                u_p_quant3[i, k, j] = u_func((ds_all[i].ucomp[0] + u_grad)[k, use_ind]).mean(skipna=True)   \n",
    "                pbar.update(1)"
   ],
   "metadata": {
    "collapsed": false,
    "ExecuteTime": {
     "end_time": "2024-01-26T08:44:00.209139Z",
     "start_time": "2024-01-26T08:43:59.517484Z"
    }
   }
  },
  {
   "cell_type": "code",
   "outputs": [
    {
     "data": {
      "text/plain": "<Figure size 320x480 with 2 Axes>",
      "image/png": "[encoded data removed]"
     },
     "metadata": {},
     "output_type": "display_data"
    }
   ],
   "source": [
    "save_z_quant_fig = False\n",
    "plot_include_p = False\n",
    "fig, ax = plt.subplots(2,1, figsize=(width['one_col'], 2 * width['one_col']/ar), sharex=True)\n",
    "for i in range(n_exp):\n",
    "    ax[0].plot(quant_plot, np.average(z_quant3[i], axis=0, weights=lat_weights), color=default_colors[i], label=f'$\\kappa={tau_lw[i]}$')\n",
    "    ax[0].plot(quant_plot, np.average(np.expand_dims(z_mean[i]/temp_mean[i, 0], axis=-1) * temp_quant3[i, 0], axis=0, weights=lat_weights), \n",
    "            color=default_colors[i], linestyle=':')\n",
    "    if plot_include_p:\n",
    "        ax[0].plot(quant_plot, np.average(z_p_quant3[i], axis=0, weights=lat_weights), color='green', alpha=0.4)\n",
    "        ax[0].plot(quant_plot, np.average(np.expand_dims(z_p_mean[i]/temp_p_mean[i], axis=-1) * temp_p_quant3[i], axis=0, weights=lat_weights), \n",
    "                color='green', linestyle=':', alpha=0.4)\n",
    "ax[1].plot(quant_plot, np.average(z_quant3[1]-z_quant3[0], axis=0, weights=lat_weights), color='k', label='Simulated')\n",
    "ax[1].plot(quant_plot, np.average(np.expand_dims((z_mean[1]-z_mean[0])/(temp_mean[1, 0]-temp_mean[0, 0]), axis=-1) * \n",
    "                                  (temp_quant3[1, 0] - temp_quant3[0, 0]), axis=0, weights=lat_weights), \n",
    "           color='k', linestyle=':', label='Approximation')\n",
    "if plot_include_p:\n",
    "    ax[1].plot(quant_plot, np.average(z_p_quant3[1]-z_p_quant3[0], axis=0, weights=lat_weights), color='green', alpha=0.4)\n",
    "    ax[1].plot(quant_plot, np.average(np.expand_dims((z_p_mean[1]-z_p_mean[0])/(temp_p_mean[1]-temp_p_mean[0]), axis=-1) * \n",
    "                                      (temp_p_quant3[1] - temp_p_quant3[0]), axis=0, weights=lat_weights), \n",
    "               color='green', linestyle=':', alpha=0.4)\n",
    "ax[0].legend()\n",
    "ax[1].legend()\n",
    "ax[0].set_xlim(0, 100)\n",
    "ax[0].set_ylabel('$z$')\n",
    "ax[1].set_ylabel('$\\delta z$')\n",
    "ax[1].set_xlabel('Near surface temperature percentile, $x$')\n",
    "plt.tight_layout()\n",
    "\n",
    "if save_fig or save_z_quant_fig:\n",
    "    fig.savefig(f\"/Users/joshduffield/Desktop/z_quant.pdf\",\n",
    "                dpi=dpi['combination'] if publish_fig else low_dpi, bbox_inches='tight', pad_inches=save_pad_inches)"
   ],
   "metadata": {
    "collapsed": false,
    "ExecuteTime": {
     "end_time": "2024-01-26T08:44:02.265012Z",
     "start_time": "2024-01-26T08:44:02.127778Z"
    }
   },
   "execution_count": 11
  },
  {
   "cell_type": "code",
   "outputs": [],
   "source": [
    "save_v_geo_fig = False\n",
    "fig, ax = plt.subplots(1,1, figsize=(width['one_col'], width['one_col']/ar))\n",
    "for i in range(n_exp):\n",
    "    ax.plot(quant_plot, np.average(v_quant3[i], axis=0, weights=lat_weights), color=default_colors[i], label=f'$\\kappa={tau_lw[i]}$')\n",
    "    ax.plot(quant_plot, np.average(v_geo_quant3[i], axis=0, weights=lat_weights), color=default_colors[i], linestyle=':')\n",
    "    if plot_include_p:\n",
    "        ax.plot(quant_plot, np.average(v_p_quant3[i], axis=0, weights=lat_weights), color=default_colors[i], alpha=0.4, linestyle='--')\n",
    "ax.set_xlim(0, 100)\n",
    "ax.legend()\n",
    "ax.set_ylabel('$|v|$ [m/s]' if take_abs_v else '$v$ [m/s]')\n",
    "ax.set_xlabel('Near surface temperature percentile, $x$')\n",
    "plt.tight_layout()\n",
    "\n",
    "if save_fig or save_v_geo_fig:\n",
    "    fig.savefig(f\"/Users/joshduffield/Desktop/v_geo.pdf\",\n",
    "                dpi=dpi['combination'] if publish_fig else low_dpi, bbox_inches='tight', pad_inches=save_pad_inches)"
   ],
   "metadata": {
    "collapsed": false,
    "ExecuteTime": {
     "start_time": "2024-01-26T08:41:09.627446Z"
    }
   },
   "execution_count": null
  },
  {
   "cell_type": "code",
   "outputs": [],
   "source": [
    "save_u_geo_fig = False\n",
    "fig, ax = plt.subplots(1,1, figsize=(width['one_col'], width['one_col']/ar))\n",
    "for i in range(n_exp):\n",
    "    ax.plot(quant_plot, np.average(u_quant3[i], axis=0, weights=lat_weights), color=default_colors[i], label=f'$\\kappa={tau_lw[i]}$')\n",
    "    ax.plot(quant_plot, np.average(u_geo_quant3[i], axis=0, weights=lat_weights), color=default_colors[i], linestyle=':')\n",
    "    if plot_include_p:\n",
    "        ax.plot(quant_plot, np.average(u_p_quant3[i], axis=0, weights=lat_weights), color=default_colors[i], alpha=0.4, linestyle='--')\n",
    "ax.set_xlim(0, 100)\n",
    "ax.legend()\n",
    "ax.set_ylabel('$|u|$ [m/s]' if take_abs_u else '$u$ [m/s]')\n",
    "ax.set_xlabel('Near surface temperature percentile, $x$')\n",
    "plt.tight_layout()\n",
    "\n",
    "if save_fig or save_u_geo_fig:\n",
    "    fig.savefig(f\"/Users/joshduffield/Desktop/u_geo.pdf\",\n",
    "                dpi=dpi['combination'] if publish_fig else low_dpi, bbox_inches='tight', pad_inches=save_pad_inches)"
   ],
   "metadata": {
    "collapsed": false,
    "ExecuteTime": {
     "end_time": "2024-01-26T08:41:09.658186Z",
     "start_time": "2024-01-26T08:41:09.628522Z"
    }
   },
   "execution_count": null
  },
  {
   "cell_type": "markdown",
   "source": [
    "## Consider a single time, to see if geostrophic approximation is valid"
   ],
   "metadata": {
    "collapsed": false
   }
  },
  {
   "cell_type": "code",
   "outputs": [],
   "source": [
    "tau_ind_st = 0\n",
    "time_ind_st = 1150\n",
    "# time_ind_st = 1060\n",
    "# pressure_ft_ind = int(np.abs(ds[0].pfull-300).argmin())\n",
    "pressure_ft_ind_gradient_calc = [pressure_ft_ind-1, pressure_ft_ind, pressure_ft_ind+1]\n",
    "ds_st = {}\n",
    "ds_st['low'] = ds[tau_ind_st].isel(pfull=pressure_ft_ind_gradient_calc\n",
    "                                   ).sel(time=time_ind_st, method='nearest')[['height', 'vcomp', 'ucomp', 'ps']].load()\n",
    "ds_st['high'] = isca_tools.load_dataset('aquaplanet/high_res/').isel(pfull=pressure_ft_ind_gradient_calc\n",
    "                                   ).sel(time=time_ind_st, method='nearest')[['height', 'vcomp', 'ucomp', 'ps']].load()\n",
    "wind_sigma_adjustment = {}\n",
    "for key in ds_st:\n",
    "    wind_sigma_adjustment[key] = np.gradient(ds_st[key].height, sigma_levels[pressure_ft_ind_gradient_calc], axis=0)[1,:,:]\n",
    "    ds_st[key] = ds_st[key].isel(pfull=1)       # only keep the one pressure level after computing gradient with sigma\n",
    "    wind_sigma_adjustment[key] = wind_sigma_adjustment[key] * sigma_level_ft * grad_x(\n",
    "        np.log(ds_st[key].ps), ds_st[key].lat, ds_st[key].lon, -2, -1)\n",
    "wind_plot_spacing = {'low': 1, 'high': 2}"
   ],
   "metadata": {
    "collapsed": false,
    "ExecuteTime": {
     "start_time": "2024-01-26T08:41:09.629693Z"
    }
   },
   "execution_count": null
  },
  {
   "cell_type": "code",
   "outputs": [],
   "source": [
    "for key in ds_st:\n",
    "    u_geo_st, v_geo_st = get_geostrophic_wind(ds_st[key].height, ds_st[key].lat, ds_st[key].lon)\n",
    "    # v_geo_st2 = get_geostrophic_v(ds_st.height.to_numpy()[:, :, np.newaxis], ds_st.lon, ds_st.lat, 'forward').squeeze()\n",
    "    # fig, ax = plt.subplots(1,1, figsize=(width['one_col'], width['one_col']/ar))\n",
    "    fig, ax = plt.subplots(1,1, figsize=(7, 5))\n",
    "    im = ax.pcolormesh(ds_st[key].lon, ds_st[key].lat, ds_st[key].height)\n",
    "    pu, pv = (ds_st[key].ucomp[::wind_plot_spacing[key],::wind_plot_spacing[key]], \n",
    "              ds_st[key].vcomp[::wind_plot_spacing[key],::wind_plot_spacing[key]])\n",
    "    ax.quiver(ds_st[key].lon[::wind_plot_spacing[key]], ds_st[key].lat[::wind_plot_spacing[key]], pu, pv, alpha=0.5, scale=800)\n",
    "    pu, pv = u_geo_st[::wind_plot_spacing[key],::wind_plot_spacing[key]], v_geo_st[::wind_plot_spacing[key],::wind_plot_spacing[key]]\n",
    "    ax.quiver(ds_st[key].lon[::wind_plot_spacing[key]], ds_st[key].lat[::wind_plot_spacing[key]], pu, pv, alpha=0.5, scale=800, color='r')\n",
    "    plt.colorbar(im, ax=ax, label='$z$ [m]')\n",
    "    ax.set_ylim(25, 70)\n",
    "    ax.set_xlim(40, 110)\n",
    "    # ax.set_ylim(10, 50)\n",
    "    # ax.set_xlim(150, 250)\n",
    "    ax.set_xlabel('Lon [deg]')\n",
    "    ax.set_ylabel('Lat [deg]')\n",
    "    ax.set_title(\"{} resolution: $\\kappa={:.1f}$; time={:.0f} days; p={:.0f}hPa\".format(key, tau_lw[tau_ind_st], \n",
    "                                                                                        ds_st[key].time-0.5, ds_st[key].pfull))\n",
    "    plt.tight_layout()"
   ],
   "metadata": {
    "collapsed": false,
    "ExecuteTime": {
     "start_time": "2024-01-26T08:41:09.630134Z"
    }
   },
   "execution_count": null
  },
  {
   "cell_type": "markdown",
   "source": [
    "## Is there a relationship between $z(x) - [\\overline{z}]$ and $v(x)$?\n",
    "If the wind where in geostrophic balance, then at a single latitude: $v_g(x) \\propto \\partial z / \\partial x$. If we also have $\\partial z / \\partial x \\propto z(x) - [\\overline{z}]$, then we have $v_g(x) \\propto z(x) - [\\overline{z}]$, where the overline is an average over longitude, anmd the square brackets indicate an average over time.\n",
    "\n",
    "Below, I consider a single latitude to test this.\n",
    "\n",
    "There doesn't seem to be that clear a relationship between $v_g(x)$ and $z(x) - [\\overline{z}]$, except that hotter days appear to have a smaller standard deviation in $v_g$.\n",
    "\n",
    "So I don't think we can use $z(x) - [\\overline{z}]$ to predict $v_g$."
   ],
   "metadata": {
    "collapsed": false
   }
  },
  {
   "cell_type": "code",
   "outputs": [],
   "source": [
    "tau_ind_scatter = 0\n",
    "lat_ind_scatter = -4\n",
    "ds_use = ds_all[tau_ind_scatter].isel(lat = lat_ind_scatter)\n",
    "z_grad_x_use = grad_x(ds_z_ft[tau_ind_scatter], ds_z_ft[tau_ind_scatter].lat,\n",
    "                      ds_z_ft[tau_ind_scatter].lon, lat_axis=0, lon_axis=1)[lat_keep_ind[lat_ind_scatter]].flatten()\n",
    "z_diff_zonal_mean = (ds_z_ft[tau_ind_scatter][lat_keep_ind[lat_ind_scatter]] - ds_z_ft[tau_ind_scatter][lat_keep_ind[lat_ind_scatter]].mean(dim='lon')).to_numpy().flatten()\n",
    "u_geo_scatter, v_geo_scatter = get_geostrophic_wind(ds_z_ft[tau_ind_scatter], ds_z_ft[tau_ind_scatter].lat,\n",
    "                                                    ds_z_ft[tau_ind_scatter].lon, lat_axis=0, lon_axis=1)\n",
    "u_geo_scatter = u_geo_scatter[lat_keep_ind[lat_ind_scatter]].flatten()\n",
    "v_geo_scatter = v_geo_scatter[lat_keep_ind[lat_ind_scatter]].flatten()"
   ],
   "metadata": {
    "collapsed": false,
    "ExecuteTime": {
     "start_time": "2024-01-26T08:41:09.630854Z"
    }
   },
   "execution_count": null
  },
  {
   "cell_type": "code",
   "outputs": [],
   "source": [
    "# fig, ax = plt.subplots(2,1, figsize=(width['one_col'], 2*width['one_col']/ar))\n",
    "fig, ax = plt.subplots(2,1, figsize=(7, 8), sharey=True, sharex=True)\n",
    "ax[0].scatter(v_geo_scatter, (ds_use.height[0] - ds_use.height[0].mean()).to_numpy().flatten(), c=ds_use.temp[1], alpha=0.1)\n",
    "im = ax[1].scatter(ds_use.vcomp[0], (ds_use.height[0] - ds_use.height[0].mean()).to_numpy().flatten(), c=ds_use.temp[1], alpha=0.1)\n",
    "ax[0].set_xlabel('$v_g$ [m/s]')\n",
    "ax[1].set_xlabel('$v$ [m/s]')\n",
    "fig.supylabel('$z - [\\\\bar{z}]$ [m]', fontsize=7)\n",
    "ax[0].set_title(f'$\\kappa = {tau_lw[tau_ind_scatter]}$; Lat={round(float(ds_use.lat),1)}$\\degree$')\n",
    "plt.tight_layout()\n",
    "cbar_ax = fig.add_axes([0.99, 0.12, 0.01, 0.7])     # add axes for colorbar\n",
    "fig.colorbar(im, cax=cbar_ax, label='$T$ [K]', aspect=100, pad=0.01, fraction=0.01);"
   ],
   "metadata": {
    "collapsed": false,
    "ExecuteTime": {
     "start_time": "2024-01-26T08:41:09.631908Z"
    }
   },
   "execution_count": null
  },
  {
   "cell_type": "markdown",
   "source": [
    "### Geostrophic Approximation\n",
    "Below I check whether the geostrophic approximation is reasonable at this latitude i.e. whether $v \\approx v_{g}$.\n",
    "\n",
    "There is a clear trend, so if we can predict $v_g$, we can say a lot about $v$."
   ],
   "metadata": {
    "collapsed": false
   }
  },
  {
   "cell_type": "code",
   "outputs": [],
   "source": [
    "# fig, ax = plt.subplots(2,1, figsize=(width['one_col'], 2*width['one_col']/ar))\n",
    "fig, ax = plt.subplots(2,1, figsize=(7, 8))\n",
    "ax[0].scatter(ds_use.ucomp[0], u_geo_scatter, c=ds_use.temp[1], alpha=0.1)\n",
    "im = ax[1].scatter(ds_use.vcomp[0], v_geo_scatter, c=ds_use.temp[1], alpha=0.1)\n",
    "ax[0].set_xlabel('$u$ [m/s]')\n",
    "ax[0].set_ylabel('$u_g$ [m/s]')\n",
    "ax[1].set_xlabel('$v$ [m/s]')\n",
    "ax[1].set_ylabel('$v_g$ [m/s]')\n",
    "ax[0].set_title(f'$\\kappa = {tau_lw[tau_ind_scatter]}$; Lat={round(float(ds_use.lat),1)}$\\degree$')\n",
    "for i in range(2):\n",
    "    ax[i].plot(np.arange(-100, 100), np.arange(-100, 100), color='r')\n",
    "    ax[i].hlines(0, -100, 100, color='k', lw=ax_linewidth)\n",
    "    ax[i].vlines(0, -100, 100, color='k', lw=ax_linewidth)\n",
    "ax[0].set_xlim(-np.abs(ds_use.ucomp[0]).max(), np.abs(ds_use.ucomp[0]).max())\n",
    "ax[0].set_ylim(-np.abs(ds_use.ucomp[0]).max(), np.abs(ds_use.ucomp[0]).max())\n",
    "ax[1].set_xlim(-np.abs(ds_use.vcomp[0]).max(), np.abs(ds_use.vcomp[0]).max())\n",
    "ax[1].set_ylim(-np.abs(ds_use.vcomp[0]).max(), np.abs(ds_use.vcomp[0]).max())\n",
    "plt.tight_layout()\n",
    "cbar_ax = fig.add_axes([0.99, 0.12, 0.01, 0.7])     # add axes for colorbar\n",
    "fig.colorbar(im, cax=cbar_ax, label='$T$ [K]', aspect=100, pad=0.01, fraction=0.01);"
   ],
   "metadata": {
    "collapsed": false,
    "ExecuteTime": {
     "start_time": "2024-01-26T08:41:09.632276Z"
    }
   },
   "execution_count": null
  },
  {
   "cell_type": "markdown",
   "source": [
    "### Using just zonal mean, $\\overline{z}$\n",
    "\n",
    "Here I see if there is a relationship between $z-\\overline{z}$ and $v_g$ and $v$. There seems to be a clear circular relationship here: $v_g^2 + (z-\\overline{z})^2 = C(T)$, with the constant $C$ increasing as near-surface temperature, $T$, decreases.\n",
    "\n",
    "This makes sense because on a given day, when $z$ is a maxima or minima, $v_g \\propto \\partial z / \\partial x = 0$. I.e. large $|z-\\overline{z}|$ must go with a small $|v_g|$.\n",
    " \n",
    "Equally, when $z=\\overline{z}$, $\\partial z / \\partial x$ is going to be large because at longitudes either side, $z$ will not equal the mean value. I.e. small $|z-\\overline{z}|$ must go with a large $|v_g|$.\n",
    "\n",
    "$C(T)$ increases with decreasing near-surface temperature because there are stronger weather systems on the cold days, so a larger range in $z-\\overline{z}$."
   ],
   "metadata": {
    "collapsed": false
   }
  },
  {
   "cell_type": "code",
   "outputs": [],
   "source": [
    "# fig, ax = plt.subplots(2,1, figsize=(width['one_col'], 2*width['one_col']/ar))\n",
    "fig, ax = plt.subplots(2,1, figsize=(7, 8), sharey=True, sharex=True)\n",
    "ax[0].scatter(v_geo_scatter, z_diff_zonal_mean, c=ds_use.temp[1], alpha=0.1)\n",
    "im = ax[1].scatter(ds_use.vcomp[0], z_diff_zonal_mean, c=ds_use.temp[1], alpha=0.1)\n",
    "ax[0].set_xlabel('$v_g$ [m/s]')\n",
    "ax[1].set_xlabel('$v$ [m/s]')\n",
    "fig.supylabel('$z - \\overline{z}$ [m]', fontsize=7)\n",
    "ax[0].set_title(f'$\\kappa = {tau_lw[tau_ind_scatter]}$; Lat={round(float(ds_use.lat),1)}$\\degree$')\n",
    "for i in range(2):\n",
    "    ax_lim = [ax[i].get_xlim(), ax[i].get_ylim()]\n",
    "    ax[i].hlines(0, ax_lim[0][0], ax_lim[0][1], color='k', lw=ax_linewidth)\n",
    "    ax[i].vlines(0, ax_lim[1][0], ax_lim[1][1], color='k', lw=ax_linewidth)\n",
    "    ax[i].set_xlim(ax_lim[0])\n",
    "    ax[i].set_ylim(ax_lim[1])\n",
    "plt.tight_layout()\n",
    "cbar_ax = fig.add_axes([0.99, 0.12, 0.01, 0.7])     # add axes for colorbar\n",
    "fig.colorbar(im, cax=cbar_ax, label='$T$ [K]', aspect=100, pad=0.01, fraction=0.01);"
   ],
   "metadata": {
    "collapsed": false,
    "ExecuteTime": {
     "start_time": "2024-01-26T08:41:09.632842Z"
    }
   },
   "execution_count": null
  },
  {
   "cell_type": "markdown",
   "source": [
    "### Relationship between $z(x) - [\\overline{z}]$ and $z(x) - \\overline{z}$\n",
    "Below, I see if we can somehow relate $z(x) - [\\overline{z}]$ and $z(x) - \\overline{z}$. It doesn't seem particularly obvious."
   ],
   "metadata": {
    "collapsed": false
   }
  },
  {
   "cell_type": "code",
   "outputs": [],
   "source": [
    "fig, ax = plt.subplots(1,1, figsize=(7, 5))\n",
    "im = ax.scatter(z_diff_zonal_mean, (ds_use.height[0] - ds_use.height[0].mean()).to_numpy().flatten(), c=ds_use.temp[1], alpha=0.1)\n",
    "ax.set_ylabel('$z - [\\\\bar{z}]$ [m]')\n",
    "ax.set_xlabel('$z - \\overline{z}$ [m]')\n",
    "ax.set_title(f'$\\kappa = {tau_lw[tau_ind_scatter]}$; Lat={round(float(ds_use.lat),1)}$\\degree$')\n",
    "plt.tight_layout()\n",
    "cbar_ax = fig.add_axes([0.99, 0.12, 0.01, 0.7])     # add axes for colorbar\n",
    "fig.colorbar(im, cax=cbar_ax, label='$T$ [K]', aspect=100, pad=0.01, fraction=0.01);"
   ],
   "metadata": {
    "collapsed": false,
    "ExecuteTime": {
     "start_time": "2024-01-26T08:41:09.633423Z"
    }
   },
   "execution_count": null
  },
  {
   "cell_type": "code",
   "outputs": [],
   "source": [],
   "metadata": {
    "collapsed": false,
    "ExecuteTime": {
     "start_time": "2024-01-26T08:41:09.634026Z"
    }
   },
   "execution_count": null
  }
 ],
 "metadata": {
  "kernelspec": {
   "display_name": "Python 3",
   "language": "python",
   "name": "python3"
  },
  "language_info": {
   "codemirror_mode": {
    "name": "ipython",
    "version": 2
   },
   "file_extension": ".py",
   "mimetype": "text/x-python",
   "name": "python",
   "nbconvert_exporter": "python",
   "pygments_lexer": "ipython2",
   "version": "2.7.6"
  }
 },
 "nbformat": 4,
 "nbformat_minor": 0
}
