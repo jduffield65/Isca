{
 "cells": [
  {
   "cell_type": "markdown",
   "source": [
    "# Investigating the $R_1$ and $R_2$ numbers introduced in Miyawaki 2022\n"
   ],
   "metadata": {
    "collapsed": false
   }
  },
  {
   "cell_type": "code",
   "execution_count": 1,
   "source": [
    "import sys\n",
    "import os\n",
    "# REMOTE - So can access functions in isca_tools which is in home/Isca directory\n",
    "# sys.path.append(os.path.join(os.environ['HOME'], 'Isca'))\n",
    "# LOCAL - So can access functions in isca_tools which is in StAndrews/Isca\n",
    "sys.path.append(os.environ['PWD'])\n",
    "import isca_tools\n",
    "from isca_tools.convection import lcl_temp, moist_profile, lapse_moist, dry_profile_temp\n",
    "from isca_tools.utils.moist_physics import saturation_vapor_pressure, mixing_ratio_from_partial_pressure, moist_static_energy\n",
    "from isca_tools.utils.radiation import frierson_net_toa_sw_dwn, frierson_sw_optical_depth, frierson_atmospheric_heating\n",
    "from isca_tools.utils.constants import kappa, epsilon, L_v, c_p, g, R_v, radius_earth\n",
    "from isca_tools.utils import area_weight_mean_lat, area_weighting, annual_mean, annual_time_slice\n",
    "from isca_tools.papers.miyawaki_2022 import get_dmse_dt, get_dvmse_dy, get_r1\n",
    "import numpy as np\n",
    "import matplotlib.pyplot as plt\n",
    "import xarray as xr\n",
    "import scipy.optimize\n",
    "from tqdm import tqdm\n",
    "from scipy import integrate\n",
    "from scipy.interpolate import UnivariateSpline"
   ],
   "metadata": {
    "collapsed": false,
    "ExecuteTime": {
     "end_time": "2023-12-04T10:37:18.587936Z",
     "start_time": "2023-12-04T10:37:16.991324Z"
    }
   },
   "outputs": []
  },
  {
   "cell_type": "code",
   "execution_count": 2,
   "source": [
    "exp_dir = 'tau_sweep/aquaplanet/'\n",
    "var_keep = ['temp', 'sphum', 'height', 'vcomp', 'olr', 'swdn_toa', 'swdn_sfc', 'lwdn_sfc', 'lwup_sfc', 'flux_t', 'flux_lhe', 'ps',\n",
    "            'omega', 'ucomp']\n",
    "tau_lw = 1\n",
    "exp_dir = 'tau_sweep/aquaplanet/'\n",
    "exp_name = f\"k={str(tau_lw).replace('.','_')}\"\n",
    "ds = isca_tools.load_dataset(exp_dir + exp_name)[var_keep]\n",
    "namelist = isca_tools.load_namelist(exp_dir + exp_name)  # Need this for albedo_value\n",
    "albedo = namelist['mixed_layer_nml']['albedo_value']\n",
    "tau_sw = namelist['two_stream_gray_rad_nml']['atm_abs']"
   ],
   "metadata": {
    "collapsed": false,
    "ExecuteTime": {
     "end_time": "2023-12-04T10:37:20.592051Z",
     "start_time": "2023-12-04T10:37:18.572020Z"
    }
   },
   "outputs": []
  },
  {
   "cell_type": "code",
   "execution_count": 3,
   "source": [
    "# Plot spin up time\n",
    "fig, ax = plt.subplots(1,1, figsize=(14, 5))\n",
    "isca_tools.plot.plot_spin_up(ds.olr, frierson_net_toa_sw_dwn(ds.swdn_toa, ds.ps, albedo, tau_sw),\n",
    "                             ds.sel(pfull=np.inf, method=\"nearest\").temp, ax)\n",
    "plt.title(f'$\\kappa = {tau_lw}$ Spin Up');"
   ],
   "metadata": {
    "collapsed": false,
    "ExecuteTime": {
     "end_time": "2023-12-04T10:37:23.828703Z",
     "start_time": "2023-12-04T10:37:20.593254Z"
    }
   },
   "outputs": []
  },
  {
   "cell_type": "markdown",
   "source": [
    "## Test Equation 1 first in the annual zonal mean\n",
    "Do this so there is no $\\partial_t m$ term."
   ],
   "metadata": {
    "collapsed": false
   }
  },
  {
   "cell_type": "code",
   "execution_count": 4,
   "source": [
    "# Use all data after 2 years, as clearly converged from the above spin up plot\n",
    "use_time_start = 360*2\n",
    "ds_use = ds.sel(time=slice(use_time_start, np.inf))"
   ],
   "metadata": {
    "collapsed": false,
    "ExecuteTime": {
     "end_time": "2023-12-04T10:37:23.828784Z",
     "start_time": "2023-12-04T10:37:23.767403Z"
    }
   },
   "outputs": []
  },
  {
   "cell_type": "code",
   "execution_count": 5,
   "source": [
    "vm = (moist_static_energy(ds_use.temp, ds_use.sphum, ds_use.height)*1000 * ds_use.vcomp).mean(dim=['time', 'lon']).load()"
   ],
   "metadata": {
    "collapsed": false,
    "ExecuteTime": {
     "end_time": "2023-12-04T10:37:35.826361Z",
     "start_time": "2023-12-04T10:37:23.773844Z"
    }
   },
   "outputs": []
  },
  {
   "cell_type": "markdown",
   "source": [
    "The plot below shows what we expect i.e. MSE is transferred from the tropics to the poles, this then helps flatten out the temperature gradient."
   ],
   "metadata": {
    "collapsed": false
   }
  },
  {
   "cell_type": "code",
   "execution_count": 6,
   "source": [
    "vm_integ = np.asarray([integrate.simpson(vm[:,i]/g, ds.pfull*100) for i in range(ds.lat.size)])\n",
    "# Fit a spline to work out the differential\n",
    "cos_lat = np.asarray(np.cos(np.deg2rad(ds_use.lat)))\n",
    "spl = UnivariateSpline(np.deg2rad(ds.lat), vm_integ/np.mean(np.abs(vm_integ)), s=0.2)\n",
    "vm_integ_spline = spl(np.deg2rad(ds.lat)) * np.mean(np.abs(vm_integ))\n",
    "vm_integ_div_spline = spl.derivative()(np.deg2rad(ds.lat)) * cos_lat/ (radius_earth * cos_lat) * np.mean(np.abs(vm_integ))\n",
    "vm_integ_div = np.gradient(vm_integ * cos_lat, np.deg2rad(ds.lat))/ (radius_earth * cos_lat)"
   ],
   "metadata": {
    "collapsed": false,
    "ExecuteTime": {
     "end_time": "2023-12-04T10:37:35.849608Z",
     "start_time": "2023-12-04T10:37:35.839784Z"
    }
   },
   "outputs": []
  },
  {
   "cell_type": "code",
   "execution_count": 7,
   "source": [
    "fig, ax = plt.subplots(2,1, figsize=(10, 6), sharex=True)\n",
    "ax[0].plot(ds.lat, vm_integ, label='Simulated')\n",
    "ax[0].plot(ds.lat, vm_integ_spline, label='Spline')\n",
    "ax[1].plot(ds.lat, vm_integ_div, label='Gradient using np.grad')\n",
    "ax[1].plot(ds.lat, vm_integ_div_spline, label='Gradient from Spline')\n",
    "ax[1].set_xlabel('Latitude')\n",
    "ax[0].set_ylabel('$<[\\overline{vm}]>$ [$W$]')\n",
    "ax[1].set_ylabel('$<\\\\partial_y [\\overline{vm}]>$ [$W$]')\n",
    "ax[0].legend()\n",
    "ax[1].legend();"
   ],
   "metadata": {
    "collapsed": false,
    "ExecuteTime": {
     "end_time": "2023-12-04T10:37:35.999880Z",
     "start_time": "2023-12-04T10:37:35.849733Z"
    }
   },
   "outputs": []
  },
  {
   "cell_type": "markdown",
   "source": [
    "The meridional transport of MSE below, looks a bit strange. We would expect convergence of MSE at the surface - $vm>0$ for $\\phi < 0$,\n",
    "and then divergence at the top of the Hadley cell, $vm<0$ for $\\phi < 0$, taking net energy away from the tropics.\n",
    "\n",
    "We see the latter, but not so much the surface behaviour, and there seems to be something weird going on at around 600 hPa."
   ],
   "metadata": {
    "collapsed": false
   }
  },
  {
   "cell_type": "code",
   "execution_count": 8,
   "source": [
    "fig, ax = plt.subplots(1,1, figsize=(10, 7))\n",
    "im = ax.pcolormesh(vm.lat, vm.pfull, vm, cmap='RdBu')\n",
    "ax.invert_yaxis()\n",
    "plt.colorbar(im, ax=ax, label='$[vm]$ / $W$')\n",
    "ax.set_xlabel('Latitude')\n",
    "ax.set_ylabel('Pressure / $hPa$');"
   ],
   "metadata": {
    "collapsed": false,
    "ExecuteTime": {
     "end_time": "2023-12-04T10:37:36.112368Z",
     "start_time": "2023-12-04T10:37:36.005635Z"
    }
   },
   "outputs": []
  },
  {
   "cell_type": "code",
   "execution_count": 9,
   "source": [
    "vcomp = ds_use.vcomp.mean(dim=['time', 'lon']).load()\n",
    "ucomp = ds_use.ucomp.mean(dim=['time', 'lon']).load()\n",
    "omega = ds_use.omega.mean(dim=['time', 'lon']).load()\n",
    "pfull = ds_use.pfull.load() * 100"
   ],
   "metadata": {
    "collapsed": false,
    "ExecuteTime": {
     "end_time": "2023-12-04T10:37:44.682268Z",
     "start_time": "2023-12-04T10:37:36.122339Z"
    }
   },
   "outputs": []
  },
  {
   "cell_type": "code",
   "execution_count": 10,
   "source": [
    "stream = np.zeros((pfull.size, vcomp.lat.size))\n",
    "for i in tqdm(range(pfull.size)):\n",
    "    stream[i] = integrate.simpson(vcomp[:i+1], pfull[:i+1] * 100, axis=0)\n",
    "stream = 2 * np.pi * radius_earth * cos_lat[np.newaxis] / g * stream"
   ],
   "metadata": {
    "collapsed": false,
    "ExecuteTime": {
     "end_time": "2023-12-04T10:37:44.713857Z",
     "start_time": "2023-12-04T10:37:44.681368Z"
    }
   },
   "outputs": []
  },
  {
   "cell_type": "code",
   "execution_count": 11,
   "source": [
    "fig, ax = plt.subplots(2,2, figsize=(14, 7), sharex=True, sharey=True)\n",
    "im = ax[0,0].pcolormesh(vcomp.lat, vcomp.pfull, vcomp, cmap='bwr', shading='gouraud', vmin=-np.abs(vcomp).max(),\n",
    "                        vmax=np.abs(vcomp).max())\n",
    "plt.colorbar(im, ax=ax[0,0], label='$[v]$ / $ms^{-1}$')\n",
    "im = ax[0,1].pcolormesh(ucomp.lat, vcomp.pfull, ucomp, cmap='bwr', shading='gouraud', vmin=-np.abs(ucomp).max(),\n",
    "                        vmax=np.abs(ucomp).max())\n",
    "plt.colorbar(im, ax=ax[0,1], label='$[u]$ / $ms^{-1}$')\n",
    "im = ax[1,0].pcolormesh(omega.lat, vcomp.pfull, omega, cmap='bwr_r', shading='gouraud', vmin=-np.abs(omega).max(),\n",
    "                        vmax=np.abs(omega).max())\n",
    "plt.colorbar(im, ax=ax[1,0], label='$[\\omega]$ / $Pas^{-1}$')\n",
    "im = ax[1,1].pcolormesh(omega.lat, vcomp.pfull, stream/10**10, cmap='bwr', shading='gouraud', vmin=-np.abs(stream).max()/10**10,\n",
    "                        vmax=np.abs(stream).max()/10**10)\n",
    "plt.colorbar(im, ax=ax[1,1], label='$[\\psi]$ / $10^{10} kgs^{-1}$')\n",
    "ax[0,0].invert_yaxis()\n",
    "fig.supxlabel('Latitude')\n",
    "fig.supylabel('Pressure / $hPa$')\n",
    "plt.tight_layout();"
   ],
   "metadata": {
    "collapsed": false,
    "ExecuteTime": {
     "end_time": "2023-12-04T10:37:45.298407Z",
     "start_time": "2023-12-04T10:37:44.738964Z"
    }
   },
   "outputs": []
  },
  {
   "cell_type": "code",
   "execution_count": 12,
   "source": [
    "R_a_time_mean = frierson_atmospheric_heating(ds_use, albedo)\n",
    "R_a_time_mean = R_a_time_mean.mean(dim=['lon', 'time'])"
   ],
   "metadata": {
    "collapsed": false,
    "ExecuteTime": {
     "end_time": "2023-12-04T10:37:45.310002Z",
     "start_time": "2023-12-04T10:37:45.306654Z"
    }
   },
   "outputs": []
  },
  {
   "cell_type": "code",
   "execution_count": 13,
   "source": [
    "fig, ax = plt.subplots(1,1, figsize=(8, 5), sharex=True)\n",
    "ax.plot(ds.lat, R_a_time_mean, label='$R_a$', color='k', linestyle=':')\n",
    "ax.plot(ds.lat, ds_use.flux_t.mean(dim=['lon', 'time']), label='SH', color='k', linestyle='--')\n",
    "ax.plot(ds.lat, ds_use.flux_lhe.mean(dim=['lon', 'time']), label='LH', color='k', linestyle='-.')\n",
    "ax.plot(ds.lat, R_a_time_mean + ds_use.flux_t.mean(dim=['lon', 'time']) + ds_use.flux_lhe.mean(dim=['lon', 'time']),\n",
    "        color='k', label='$R_a + SH + LH$')\n",
    "ax.plot(ds.lat, vm_integ_div, label='$<\\\\partial_y [\\overline{vm}]>$')\n",
    "ax.plot(ds.lat, vm_integ_div_spline, label='$<\\\\partial_y [\\overline{vm}]>$ - Spline')\n",
    "ax.legend()\n",
    "ax.set_xlabel('Latitude')\n",
    "ax.set_ylabel('Energy Flux $Wm^{-2}$');"
   ],
   "metadata": {
    "collapsed": false,
    "ExecuteTime": {
     "end_time": "2023-12-04T10:37:46.518027Z",
     "start_time": "2023-12-04T10:37:45.308523Z"
    }
   },
   "outputs": []
  },
  {
   "cell_type": "markdown",
   "source": [
    "From the above plot, we see that the equation $<\\partial_y [\\overline{vm}]> = R_a + SH + LH$ is not exactly satisfied, but with the spline it does a pretty decent job.\n",
    "\n",
    "This may be something to do how I integrated or differentiated e.g. not taking the correct pressure limits in the vertical integral. I think we expect convergence at bottom of atmosphere and divergence of MSE at top, so this may cause issues, if these don't cancel.\n",
    "\n",
    "The blue line being bad at high latitudes is probably because you are dividing by $\\cos(\\phi)$ which is very small.\n",
    "\n",
    "For actually getting the $R_1$ and $R_2$ values from now on, we infer $\\partial_y(vm)$ from the residual as is done in the paper so equation 2 is always exactly satisfied."
   ],
   "metadata": {
    "collapsed": false
   }
  },
  {
   "cell_type": "markdown",
   "source": [
    "### Sanity check of what `swdn_sfc` is\n",
    "The plot below just shows that `swdn_sfc` is equal to the incident flux at the surface, ($e^{-\\tau_{sw}} \\times$ `swdn_toa`), which is equal to the flux incident at top of the atmosphere (`swdn_toa`) multiplied by the transmittance of the atmosphere ($e^{-\\tau_{sw}}$).\n",
    "The amount reflected by the surface ($\\alpha \\times$ incident flux) is then subtracted from this to give `swdn_sfc` = $(1-\\alpha) e^{-\\tau_{sw}} \\times $ `swdn_toa`."
   ],
   "metadata": {
    "collapsed": false
   }
  },
  {
   "cell_type": "code",
   "execution_count": 14,
   "source": [
    "# Sanity check that swdn_sfc includes the albedo term\n",
    "lat_plot = 10\n",
    "fig, ax = plt.subplots(1,1, figsize=(7, 5))\n",
    "ax.plot(ds_use.time, ds_use.sel(lat=10, method='nearest').swdn_sfc.mean(dim='lon'), label='swdn_sfc')\n",
    "ax.plot(ds_use.time, (1-albedo)*ds_use.sel(lat=lat_plot, method='nearest').swdn_toa.mean(dim='lon'), label='$(1-\\\\alpha) \\\\times$ swdn_toa')\n",
    "ax.plot(ds_use.time, (1-albedo)*ds_use.sel(lat=lat_plot, method='nearest').swdn_toa.mean(dim='lon')*\n",
    "        np.exp(-frierson_sw_optical_depth(ds_use.sel(lat=lat_plot, method='nearest').mean(dim='lon').ps, tau_sw)),\n",
    "        label='$(1-\\\\alpha) e^{-\\\\tau_{sw}} \\\\times $ swdn_toa', linestyle=':', color='k')\n",
    "ax.set_ylabel('Radiation Flux [$Wm^{-2}$]')\n",
    "ax.set_xlabel('Time [days]')\n",
    "ax.set_title(f'swdn_sfc breakdown at $\\phi={lat_plot}$')\n",
    "ax.legend();"
   ],
   "metadata": {
    "collapsed": false,
    "ExecuteTime": {
     "end_time": "2023-12-04T10:34:45.658785Z",
     "start_time": "2023-12-04T10:34:45.189179Z"
    }
   },
   "outputs": []
  },
  {
   "cell_type": "code",
   "execution_count": 15,
   "source": [
    "# Get rid of vcomp and ps as don't need anymore and save memory\n",
    "ds_use = ds_use[[var for var in var_keep if var not in ['ps', 'vcomp']]]"
   ],
   "metadata": {
    "collapsed": false,
    "ExecuteTime": {
     "end_time": "2023-12-04T10:34:45.662491Z",
     "start_time": "2023-12-04T10:34:45.658286Z"
    }
   },
   "outputs": []
  },
  {
   "cell_type": "markdown",
   "source": [
    "## Northern Mid-Latitudes and Northern High Latitudes Seasonal variation of $R_1$\n",
    "Now we take the annual mean for two different latitude regions to see the variation of $R_1$ in each."
   ],
   "metadata": {
    "collapsed": false
   }
  },
  {
   "cell_type": "code",
   "execution_count": 16,
   "source": [
    "lat_min = [0, 40, 70]\n",
    "lat_max = [20, 65, 90]\n",
    "regions = ['NH Tropics', 'NH Midlatitudes', 'NH High Latitudes']\n",
    "n_regions = len(lat_min)\n",
    "ds_region = []\n",
    "with tqdm(total=n_regions, position=0, leave=True) as pbar:\n",
    "    for i in range(n_regions):\n",
    "        ds_region += [ds_use.where((ds_use.lat <= lat_max[i]) & (ds_use.lat >= lat_min[i]), drop=True)]\n",
    "        ds_region[i] = area_weight_mean_lat(ds_region[i])\n",
    "        ds_region[i] = annual_mean(ds_region[i]).load()\n",
    "        pbar.update(1)"
   ],
   "metadata": {
    "collapsed": false,
    "ExecuteTime": {
     "end_time": "2023-12-04T10:36:10.755936Z",
     "start_time": "2023-12-04T10:34:45.661964Z"
    }
   },
   "outputs": []
  },
  {
   "cell_type": "markdown",
   "source": [
    "### $<[\\partial_t m]>$ Computation\n",
    "To compute $R_1$, we need to compute $<[\\partial_t m]>$ first - we see how using a spline smooths this out below."
   ],
   "metadata": {
    "collapsed": false
   }
  },
  {
   "cell_type": "code",
   "execution_count": 17,
   "source": [
    "# zonal mean, vertically integrated MSE and its derivative\n",
    "dt = 24 * 60**2\n",
    "mse_integ = {'simulated': [0]*n_regions, 'spline': [0]*n_regions}\n",
    "dm_dt = {'simulated': [0]*n_regions, 'spline': [0]*n_regions}\n",
    "for i in range(n_regions):\n",
    "    mse_integ['simulated'][i], dm_dt['simulated'][i] = get_dmse_dt(ds_region[i].temp, ds_region[i].sphum,\n",
    "                                                                   ds_region[i].height, ds_region[i].pfull*100,ds_region[i].time*dt)\n",
    "    mse_integ['spline'][i], dm_dt['spline'][i] = get_dmse_dt(ds_region[i].temp, ds_region[i].sphum, ds_region[i].height,\n",
    "                                                             ds_region[i].pfull*100,ds_region[i].time*dt, spline_smoothing_factor=0.001)"
   ],
   "metadata": {
    "collapsed": false,
    "ExecuteTime": {
     "end_time": "2023-12-04T10:36:10.872308Z",
     "start_time": "2023-12-04T10:36:10.757318Z"
    }
   },
   "outputs": []
  },
  {
   "cell_type": "code",
   "execution_count": 18,
   "source": [
    "month_ticks = (np.arange(15,12*30+15,30), ['J','F','M','A','M','J','J','A','S','O','N','D'])\n",
    "\n",
    "fig, ax = plt.subplots(2,n_regions, figsize=(14, 7), sharex=True, sharey='row')\n",
    "for i in range(n_regions):\n",
    "    ax[0,i].plot(ds_region[i].time, mse_integ['simulated'][i], label='Simulated')\n",
    "    ax[0,i].plot(ds_region[i].time, mse_integ['spline'][i], label='Spline')\n",
    "    ax[1,i].plot(ds_region[i].time, dm_dt['simulated'][i], label='Simulated')\n",
    "    ax[1,i].plot(ds_region[i].time, dm_dt['spline'][i], label='Spline')\n",
    "    ax[1, i].set_xticks(*month_ticks)\n",
    "    ax[0, i].set_title(regions[i])\n",
    "ax[0, 0].set_ylabel('$<[m]>$ [$Jm^{-2}$]')\n",
    "ax[0, 0].legend()\n",
    "ax[1, 0].set_ylabel('$<\\\\partial_t [m]>$ [$Wm^{-2}$]')\n",
    "ax[0, 0].set_xlim(0,360)\n",
    "plt.tight_layout();"
   ],
   "metadata": {
    "collapsed": false,
    "ExecuteTime": {
     "end_time": "2023-12-04T10:36:11.245755Z",
     "start_time": "2023-12-04T10:36:10.911571Z"
    }
   },
   "outputs": []
  },
  {
   "cell_type": "markdown",
   "source": [
    "### Figure 5b\n",
    "Below we replicate figure 5b in the paper, to show the seasonality of the MSE budget in the different regions."
   ],
   "metadata": {
    "collapsed": false
   }
  },
  {
   "cell_type": "code",
   "execution_count": 19,
   "source": [
    "lh = [ds_region[i].flux_lhe.mean(dim=['lon']) for i in range(n_regions)]\n",
    "sh = [ds_region[i].flux_t.mean(dim=['lon']) for i in range(n_regions)]\n",
    "R_a = [frierson_atmospheric_heating(ds_region[i], albedo).mean(dim=['lon']) for i in range(n_regions)]\n",
    "dvm_dy = [get_dvmse_dy(R_a[i], lh[i], sh[i], dm_dt['spline'][i]) for i in range(n_regions)]"
   ],
   "metadata": {
    "collapsed": false,
    "ExecuteTime": {
     "end_time": "2023-12-04T10:36:11.259133Z",
     "start_time": "2023-12-04T10:36:11.246486Z"
    }
   },
   "outputs": []
  },
  {
   "cell_type": "code",
   "execution_count": 20,
   "source": [
    "fig, ax = plt.subplots(1,n_regions, figsize=(14, 5), sharey=True, sharex=True)\n",
    "for i in range(n_regions):\n",
    "    ax[i].plot(ds_region[i].time, R_a[i], color='k', label='$R_a$')\n",
    "    ax[i].plot(ds_region[i].time, dvm_dy[i], color='r', label='$\\partial_y(vm)$')\n",
    "    ax[i].plot(ds_region[i].time, lh[i], color='b', label='$LH$')\n",
    "    ax[i].plot(ds_region[i].time, sh[i], color='orange', label='$SH$')\n",
    "    ax[i].plot(ds_region[i].time, dm_dt['spline'][i], color='r', linestyle='--', label='$\\partial_t m$')\n",
    "    ax[i].set_title(regions[i])\n",
    "ax[0].legend()\n",
    "ax[0].set_xticks(*month_ticks)\n",
    "ax[0].set_ylabel('Energy Flux / $Wm^{-2}$')\n",
    "ax[0].set_xlim(0,360)\n",
    "plt.tight_layout();"
   ],
   "metadata": {
    "collapsed": false,
    "ExecuteTime": {
     "end_time": "2023-12-04T10:36:11.527231Z",
     "start_time": "2023-12-04T10:36:11.273707Z"
    }
   },
   "outputs": []
  },
  {
   "cell_type": "markdown",
   "source": [
    "### Figure 4\n",
    "Now we show the seasonal variation of $R_1$ and the lapse rate in each region.\n",
    "\n",
    "The first plot below is just to check if the fit found by the spline is reasonable.\n",
    "\n",
    "The plot for the high latitude should be compared to the blue line in figures 9a and 9b in the paper, as both are for aquaplanets with a 5m mixed layer depth. My plots match very well to these which is promising.\n"
   ],
   "metadata": {
    "collapsed": false
   }
  },
  {
   "cell_type": "code",
   "execution_count": 21,
   "source": [
    "r1 = {'simulated': [get_r1(R_a[i], dm_dt['spline'][i], dvm_dy[i]) for i in range(n_regions)],\n",
    "      'spline': [get_r1(R_a[i], dm_dt['spline'][i], dvm_dy[i], ds_region[i].time, 0.2) for i in range(n_regions)]}\n",
    "r1_no_storage = {'simulated': [get_r1(R_a[i], dm_dt['spline'][i]*0, dvm_dy[i]) for i in range(n_regions)],\n",
    "                 'spline': [get_r1(R_a[i], dm_dt['spline'][i]*0, dvm_dy[i], ds_region[i].time, 0.2) for i in range(n_regions)]}\n",
    "\n",
    "fig, ax = plt.subplots(1,n_regions, figsize=(14, 5), sharey=True, sharex=True)\n",
    "for i in range(n_regions):\n",
    "    ax[i].plot(ds_region[i].time, r1['simulated'][i], color='r', label='$\\\\frac{\\partial_t m + \\partial_y(vm)}{R_a}$ - Simulated')\n",
    "    ax[i].plot(ds_region[i].time, r1['spline'][i], color='k', label='$\\\\frac{\\partial_t m + \\partial_y(vm)}{R_a}$ - Spline')\n",
    "    ax[i].plot(ds_region[i].time, r1_no_storage['simulated'][i], color='r', linestyle=':',\n",
    "               label='$\\\\frac{\\partial_y(vm)}{R_a}$ - Simulated')\n",
    "    ax[i].plot(ds_region[i].time, r1_no_storage['spline'][i], color='k', linestyle=':', alpha=0.5,\n",
    "               label='$\\\\frac{\\partial_y(vm)}{R_a}$ - Spline')\n",
    "    ax[i].set_title(regions[i])\n",
    "ax[0].legend()\n",
    "ax[0].set_xticks(*month_ticks)\n",
    "ax[0].set_ylabel('$R_1$')\n",
    "ax[0].set_xlim(0,360)\n",
    "plt.tight_layout();"
   ],
   "metadata": {
    "collapsed": false,
    "ExecuteTime": {
     "end_time": "2023-12-04T10:36:11.816843Z",
     "start_time": "2023-12-04T10:36:11.524434Z"
    }
   },
   "outputs": []
  },
  {
   "cell_type": "code",
   "execution_count": 22,
   "source": [
    "# Compute lapse rate deviation from moist adiabat averaged over specific sigma levels\n",
    "sigma = ds.pfull/ds.pfull[-1]\n",
    "# only use sigma levels specified in the paper - different for each region\n",
    "sigma_min = [0.3, 0.3, 0.9]\n",
    "sigma_max = [0.7, 0.7, 1]\n",
    "use_sigma = [np.logical_and(sigma>=sigma_min[i], sigma<=sigma_max[i]).to_numpy() for i in range(n_regions)]\n",
    "# Compute lapse rate in pressure coordinates i.e. dT/dp as can do using single line using np.gradient because pfull is the same for all\n",
    "# times and longitudes.\n",
    "lapse_actual_array = [np.gradient(ds_region[i].temp, ds_region[i].pfull*100, axis=1)[:, use_sigma[i]]\n",
    "                      for i in range(n_regions)]\n",
    "lapse_moist_array = [lapse_moist(ds_region[i].temp, ds_region[i].pfull*100, pressure_coords=True)[:, use_sigma[i]]\n",
    "                     for i in range(n_regions)]\n",
    "lapse_dev = [100*(lapse_moist_array[i] - lapse_actual_array[i])/lapse_moist_array[i] for i in range(n_regions)]\n",
    "\n",
    "# #Proper way to compute lapse rate but takes longer as have to iterate over time and longitudes\n",
    "# lapse_moist_array2 = [lapse_moist(ds_region[i].temp, ds_region[i].pfull*100)[:, use_sigma[i]]\n",
    "#                      for i in range(n_regions)]\n",
    "# lapse_actual_array2 = [np.zeros(lapse_moist_array[i].shape) for i in range(n_regions)]\n",
    "# with tqdm(total=n_regions*lapse_actual_array[0].shape[0]*lapse_actual_array[0].shape[2], position=0, leave=True) as pbar:\n",
    "#     for k in range(n_regions):\n",
    "#         for i in range(lapse_actual_array[0].shape[0]):\n",
    "#             for j in range(lapse_actual_array[0].shape[2]):\n",
    "#                 lapse_actual_array2[k][i, :, j] = -np.gradient(ds_region[k].temp[i,:,j], ds_region[k].height[i,:,j])[use_sigma[k]]\n",
    "#                 pbar.update(1)\n",
    "# lapse_dev2 = [100*(lapse_moist_array2[i] - lapse_actual_array2[i])/lapse_moist_array2[i] for i in range(n_regions)]"
   ],
   "metadata": {
    "collapsed": false,
    "ExecuteTime": {
     "end_time": "2023-12-04T10:36:11.956291Z",
     "start_time": "2023-12-04T10:36:11.820625Z"
    }
   },
   "outputs": []
  },
  {
   "cell_type": "code",
   "execution_count": 23,
   "source": [
    "fig, ax = plt.subplots(1,n_regions, figsize=(14, 5), sharey=True, sharex=True)\n",
    "lapse_colors = ['orange', 'orange', 'blue']\n",
    "lapse_labels = ['$\\langle(\\Gamma_m - \\Gamma)/\\Gamma_m\\\\rangle_{0.7-0.3}$ (%)',\n",
    "                '$\\langle(\\Gamma_m - \\Gamma)/\\Gamma_m \\\\rangle_{1.0-0.9}$ (%)']\n",
    "for i in range(n_regions):\n",
    "    ax[i].plot(ds_region[i].time, r1['spline'][i], color='k', label='$\\\\frac{\\partial_t m + \\partial_y(vm)}{R_a}$')\n",
    "    ax[i].plot(ds_region[i].time, r1_no_storage['spline'][i], color='k', linestyle=':',\n",
    "               label='$\\\\frac{\\partial_y(vm)}{R_a}$')\n",
    "    ax2 = ax[i].twinx()\n",
    "    ax2.plot(ds_region[i].time, lapse_dev[i].mean(axis=(1,2)), color=lapse_colors[i])\n",
    "    if i < 2:\n",
    "        ax2.set_ylabel(lapse_labels[0], color=lapse_colors[i])\n",
    "    else:\n",
    "        ax2.set_ylabel(lapse_labels[1], color=lapse_colors[i])\n",
    "    ax2.tick_params(axis='y', colors=lapse_colors[i])\n",
    "    ax[i].set_title(regions[i])\n",
    "ax[0].legend()\n",
    "ax[0].set_xticks(*month_ticks)\n",
    "ax[0].set_ylabel('$R_1$')\n",
    "ax[0].set_xlim(0,360);"
   ],
   "metadata": {
    "collapsed": false,
    "ExecuteTime": {
     "end_time": "2023-12-04T10:36:12.269619Z",
     "start_time": "2023-12-04T10:36:11.975263Z"
    }
   },
   "outputs": []
  },
  {
   "cell_type": "markdown",
   "source": [
    "## Variation as a function of latitude\n",
    "Next, we compute $R_1$ at each latitude and see how the time average value of $R_1$ varies with latitude, as in Figure 2.\n",
    "\n",
    "We also replicate Figure 3 which shows the seasonal variation of $R_1$ at each latitude. In both plots, we also include the deviation of the lapse rate from the moist adiabatic value."
   ],
   "metadata": {
    "collapsed": false
   }
  },
  {
   "cell_type": "code",
   "execution_count": 24,
   "source": [
    "ds_all_lat = annual_mean(ds_use).mean(dim='lon').load()  # take zonal mean straight away"
   ],
   "metadata": {
    "collapsed": false,
    "ExecuteTime": {
     "end_time": "2023-12-04T10:36:41.070734Z",
     "start_time": "2023-12-04T10:36:13.480618Z"
    }
   },
   "outputs": []
  },
  {
   "cell_type": "code",
   "execution_count": 25,
   "source": [
    "# Compute the r1 variable at each latitude for all times in a year\n",
    "dm_dt_all_lat = np.zeros((ds_all_lat.time.size, ds_all_lat.lat.size))\n",
    "for i in tqdm(range(ds_all_lat.lat.size)):\n",
    "    dm_dt_all_lat[:, i] = get_dmse_dt(ds_all_lat.temp[:,:,i], ds_all_lat.sphum[:,:,i], ds_all_lat.height[:,:,i],\n",
    "                                      ds_all_lat.pfull*100,ds_all_lat.time*dt)[1]\n",
    "R_a_all_lat = frierson_atmospheric_heating(ds_all_lat, albedo)\n",
    "dvm_dy_all_lat = get_dvmse_dy(R_a_all_lat, ds_all_lat.flux_lhe, ds_all_lat.flux_t, dm_dt_all_lat)\n",
    "r1_all_lat = get_r1(R_a_all_lat, dm_dt_all_lat, dvm_dy_all_lat)"
   ],
   "metadata": {
    "collapsed": false,
    "ExecuteTime": {
     "end_time": "2023-12-04T10:36:41.171570Z",
     "start_time": "2023-12-04T10:36:41.071813Z"
    }
   },
   "outputs": []
  },
  {
   "cell_type": "code",
   "execution_count": 26,
   "source": [
    "sigma_min_all_lat = [0.3, 0.9]\n",
    "sigma_max_all_lat = [0.7, 1]\n",
    "use_sigma_all_lat = [np.logical_and(sigma>=sigma_min_all_lat[i], sigma<=sigma_max_all_lat[i]).to_numpy()\n",
    "                     for i in range(len(sigma_max_all_lat))]\n",
    "\n",
    "lapse_actual_array_all_lat = np.gradient(ds_all_lat.temp, ds_all_lat.pfull*100, axis=1)\n",
    "lapse_moist_array_all_lat = lapse_moist(ds_all_lat.temp, ds_all_lat.pfull*100, pressure_coords=True)\n",
    "lapse_dev_all_lat = 100*(lapse_moist_array_all_lat - lapse_actual_array_all_lat)/lapse_moist_array_all_lat\n",
    "lapse_dev_all_lat = [lapse_dev_all_lat[:, use_sigma_all_lat[i]].mean(dim='pfull') for i in range(len(sigma_max_all_lat))]"
   ],
   "metadata": {
    "collapsed": false,
    "ExecuteTime": {
     "end_time": "2023-12-04T10:36:41.201149Z",
     "start_time": "2023-12-04T10:36:41.173445Z"
    }
   },
   "outputs": []
  },
  {
   "cell_type": "markdown",
   "source": [
    "### Figure 2\n",
    "The version of Figure 2 below shows that we never enter the region of radiative-advective equilibrium ($R_1 > 0.9$ in blue), even at high latitudes, in contrast to what is shown in the paper.\n",
    "\n",
    "However, the latitude range that we are in radiative-convective equilibrium ($R_1 < 0.1$, shown in orange), does match that shown in the paper.\n",
    "\n",
    "The lapse rate deviation in the top plot matches pretty well what is shown in the paper. In the second plot, it matches well except at high latitudes, where it is not positive enough. But it does match the trend in $R_1$ very well, so this may be just because advection does not seem to be so important in these aquaplanet simulations."
   ],
   "metadata": {
    "collapsed": false
   }
  },
  {
   "cell_type": "code",
   "execution_count": 27,
   "source": [
    "month_options = {'NH Summer': [7, 8, 9], 'SH Summer': [1, 2, 3], 'All': np.arange(12)}\n",
    "use_month = 'All'\n",
    "use_month = 'NH Summer'\n",
    "fig, ax = plt.subplots(1,1, figsize=(10, 4), sharey=True, sharex=True)\n",
    "ax = [ax]\n",
    "ax[0].plot(ds_all_lat.lat, annual_time_slice(r1_all_lat, include_months=month_options[use_month]).mean(dim='time'), color='k')\n",
    "ax2 = ax[0].twinx()\n",
    "ax2.plot(ds_all_lat.lat, annual_time_slice(lapse_dev_all_lat[0], include_months=month_options[use_month]).mean(dim='time'), color='orange')\n",
    "ax2.set_ylabel('$\\langle(\\Gamma_m - \\Gamma)/\\Gamma_m\\\\rangle_{0.7-0.3}$ (%)', color='orange')\n",
    "ax2.tick_params(axis='y', colors='orange')\n",
    "# ax[1].plot(ds_all_lat.lat, annual_time_slice(r1_all_lat, include_months=month_options[use_month]).mean(dim='time'), color='k')\n",
    "# ax2 = ax[1].twinx()\n",
    "# ax2.plot(ds_all_lat.lat, annual_time_slice(lapse_dev_all_lat[1], include_months=month_options[use_month]).mean(dim='time'), color='b')\n",
    "# ax2.set_ylabel('$\\langle(\\Gamma_m - \\Gamma)/\\Gamma_m \\\\rangle_{1.0-0.9}$ (%)', color='b')\n",
    "# ax2.tick_params(axis='y', colors='b')\n",
    "# ax2.set_ylim(-160,160)\n",
    "# fig.supylabel('$R_1$')\n",
    "ax[0].set_ylabel('$R_1$')\n",
    "ax[-1].set_xlabel('Latitude (deg)')\n",
    "for i in range(len(ax)):\n",
    "    ax[i].fill_between([-90, 90], [-1,-1], [0.1, 0.1], color='orange', alpha=0.1)\n",
    "    ax[i].fill_between([-90, 90], [0.9,0.9], [2, 2], color='blue', alpha=0.1)\n",
    "    ax[0].set_xlim(-90,90)\n",
    "ax[0].set_ylim(-0.5, 1.5)\n",
    "ax[0].set_title(f'{use_month} Months')\n",
    "plt.tight_layout()\n",
    "# fig.savefig(f\"/Users/joshduffield/Desktop/r1_lapse_{use_month.lower()}\",dpi=300)"
   ],
   "metadata": {
    "collapsed": false,
    "ExecuteTime": {
     "end_time": "2023-12-04T10:36:41.362163Z",
     "start_time": "2023-12-04T10:36:41.204608Z"
    }
   },
   "outputs": []
  },
  {
   "cell_type": "markdown",
   "source": [
    "### Figure 3\n",
    "The plot below shows a greater seasonal cycle in all three plots than that shown in the paper. This is not too suprisingly when we look at Figure 7b in the paper which shows that the seasonality increases as the mixed layer depth decreases. This simulation has a mixed layer depth of 5m, which has a large seasonal cycle in that plot (green line)."
   ],
   "metadata": {
    "collapsed": false
   }
  },
  {
   "cell_type": "code",
   "execution_count": 28,
   "source": [
    "fig, ax = plt.subplots(3,1, figsize=(10, 9), sharey=True, sharex=True)\n",
    "im = ax[0].pcolormesh(ds_all_lat.time, ds_all_lat.lat, r1_all_lat.transpose(), cmap='RdBu', vmin=-1, vmax=1)\n",
    "ax[0].contour(ds_all_lat.time, ds_all_lat.lat, r1_all_lat.transpose(), [0.1,0.9], colors=['orange', 'cyan'],\n",
    "              linewidths=2.5)\n",
    "plt.colorbar(im, ax=ax[0], label='$R_1$')\n",
    "im = ax[1].pcolormesh(ds_all_lat.time, ds_all_lat.lat, lapse_dev_all_lat[0].transpose(), cmap='RdBu', vmin=-50, vmax=50)\n",
    "plt.colorbar(im, ax=ax[1], label='$\\langle(\\Gamma_m - \\Gamma)/\\Gamma_m\\\\rangle_{0.7-0.3}$ (%)')\n",
    "im = ax[2].pcolormesh(ds_all_lat.time, ds_all_lat.lat, lapse_dev_all_lat[1].transpose(), cmap='RdBu', vmin=-100, vmax=100)\n",
    "plt.colorbar(im, ax=ax[2], label='$\\langle(\\Gamma_m - \\Gamma)/\\Gamma_m\\\\rangle_{1.0-0.9}$ (%)')\n",
    "\n",
    "ax[0].set_xticks(*month_ticks)\n",
    "fig.supylabel('Latitude (deg)')\n",
    "plt.tight_layout();"
   ],
   "metadata": {
    "collapsed": false,
    "ExecuteTime": {
     "end_time": "2023-12-04T10:36:41.945365Z",
     "start_time": "2023-12-04T10:36:41.378354Z"
    }
   },
   "outputs": []
  },
  {
   "cell_type": "markdown",
   "source": [
    "## Surface vs Free Troposphere MSE for hot days\n",
    "Below, for each latitude region, I plot the surface MSE, $h$, against the free troposphere saturated MSE, $h_{FT}^*$ averaged over the hottest 5% of days. I colour this by the $R_1$ value averaged over the same days.\n",
    "\n",
    "I compute $R_1$ for each time, at each latitude and longitude, and then average only over days, latitude, longitude corresponding to these hottest days in the same region."
   ],
   "metadata": {
    "collapsed": false
   }
  },
  {
   "cell_type": "code",
   "execution_count": 29,
   "source": [
    "def get_r1_from_ds(dataset):\n",
    "    # Compute the r1 variable at each latitude and longitude for all times in a year\n",
    "    dm_dt = np.zeros([dataset.sizes[d] for d in dataset.sizes.keys() if d != 'pfull'])\n",
    "    with tqdm(total=dataset.lat.size, position=0, leave=True) as pbar:\n",
    "        for i in range(dataset.lat.size):\n",
    "                dm_dt[:, i, :] = get_dmse_dt(dataset.temp[:,:,i], dataset.sphum[:,:,i], dataset.height[:,:,i],\n",
    "                                             dataset.pfull*100, dataset.time*dt, zonal_mean=False)[1]\n",
    "                pbar.update()\n",
    "    R_a = frierson_atmospheric_heating(dataset, albedo)\n",
    "    dvm_dy = get_dvmse_dy(R_a, dataset.flux_lhe, dataset.flux_t, dm_dt)\n",
    "    return get_r1(R_a, dm_dt, dvm_dy)"
   ],
   "metadata": {
    "collapsed": false,
    "ExecuteTime": {
     "end_time": "2023-12-04T10:36:41.945454Z",
     "start_time": "2023-12-04T10:36:41.943282Z"
    }
   },
   "outputs": []
  },
  {
   "cell_type": "code",
   "execution_count": 30,
   "source": [
    "ds_use = ds_use.load()   # need to load in dataset otherwise very slow"
   ],
   "metadata": {
    "collapsed": false,
    "ExecuteTime": {
     "end_time": "2023-12-04T10:37:11.672397Z",
     "start_time": "2023-12-04T10:36:41.943393Z"
    }
   },
   "outputs": []
  },
  {
   "cell_type": "code",
   "execution_count": null,
   "source": [
    "r1_all = get_r1_from_ds(ds_use)         # r1 for each time, latitude and longitude coordinate"
   ],
   "metadata": {
    "collapsed": false,
    "ExecuteTime": {
     "start_time": "2023-12-04T10:37:11.672188Z"
    }
   },
   "outputs": []
  },
  {
   "cell_type": "code",
   "execution_count": null,
   "source": [
    "pressure_ft = 500 # free troposphere pressure level in hPa\n",
    "ft_ind = np.argmin(np.abs(ds_use.pfull.to_numpy()-pressure_ft))\n",
    "\n",
    "def get_quant_ind(dataset, percentile):\n",
    "    # Function to find indices in dataset corresponding to surface temperature above a given quantile\n",
    "    quantile_thresh = dataset.temp[-1].quantile(percentile/100, dim='lon_lat_time', keep_attrs=True)\n",
    "    quant_ind = np.where(dataset.temp[-1] > quantile_thresh)[0]\n",
    "    return quant_ind\n",
    "\n",
    "def sphum_sat(temp, pressure):\n",
    "    # Saturation specific humidity\n",
    "    w_sat = mixing_ratio_from_partial_pressure(saturation_vapor_pressure(temp), pressure)\n",
    "    q_sat = w_sat / (1+w_sat)\n",
    "    return q_sat\n",
    "\n",
    "def get_mse_sat_ft(temp, height):\n",
    "    return moist_static_energy(temp, sphum_sat(temp, pressure_ft*100), height)\n"
   ],
   "metadata": {
    "collapsed": false,
    "ExecuteTime": {
     "end_time": "2023-12-04T10:37:11.678729Z",
     "start_time": "2023-12-04T10:37:11.674815Z"
    }
   },
   "outputs": []
  },
  {
   "cell_type": "code",
   "execution_count": null,
   "source": [
    "quantile_use = 95\n",
    "lat_width = 10\n",
    "lat_min = np.arange(0, 90, lat_width)\n",
    "lat_max = lat_min + lat_width\n",
    "lat_centre = lat_min + lat_width/2  # Central absolute latitude for given latitude bin\n",
    "n_lat = len(lat_min)\n",
    "\n",
    "mse_quant = np.zeros(n_lat)\n",
    "mse_ft_quant = np.zeros(n_lat)\n",
    "r1_quant = np.zeros(n_lat)\n",
    "\n",
    "for i in tqdm(range(n_lat)):\n",
    "    # Only latitude region\n",
    "    ds_use2 = ds_use.where((np.abs(ds_use.lat) <= lat_max[i]) & (np.abs(ds_use.lat) >= lat_min[i]), drop=True)\n",
    "    r1_all_use = r1_all.where((np.abs(ds_use.lat) <= lat_max[i]) & (np.abs(ds_use.lat) >= lat_min[i]), drop=True)\n",
    "    # Collapse to single coordinate and then take quantile over it\n",
    "    ds_use2 = ds_use2.stack(lon_lat_time=(\"lat\",\"lon\",\"time\"), create_index=False).chunk(dict(lon_lat_time=-1))\n",
    "    r1_all_use = r1_all_use.stack(lon_lat_time=(\"lat\",\"lon\",\"time\"), create_index=False).chunk(dict(lon_lat_time=-1))\n",
    "    # Only above given quantile in temperature\n",
    "    quantile_thresh = ds_use2.temp[-1].quantile(quantile_use/100, dim='lon_lat_time', keep_attrs=True)\n",
    "    # Average each variable in data over days where near surface temperature exceeds this quantile\n",
    "    ds_use2 = ds_use2.where(ds_use2.temp[-1]>=quantile_thresh)\n",
    "    mse_quant[i] = moist_static_energy(ds_use2.temp[-1], ds_use2.sphum[-1], ds_use2.height[-1]).mean()  # surface MSE\n",
    "    mse_ft_quant[i] = get_mse_sat_ft(ds_use2.temp[ft_ind], ds_use2.height[ft_ind]).mean()\n",
    "    r1_quant[i] = r1_all_use.where(ds_use2.temp[-1]>=quantile_thresh).mean(dim='lon_lat_time', skipna=True)\n",
    "del ds_use2"
   ],
   "metadata": {
    "collapsed": false,
    "ExecuteTime": {
     "start_time": "2023-12-04T10:37:11.676764Z"
    }
   },
   "outputs": []
  },
  {
   "cell_type": "code",
   "execution_count": null,
   "source": [
    "fig, ax = plt.subplots(1,1, figsize=(7, 5))\n",
    "im = ax.scatter(mse_ft_quant, mse_quant, c=r1_quant, cmap='RdBu', vmin=-1, vmax=1)\n",
    "ax.set_ylim(np.min([mse_ft_quant.min(), mse_quant.min()])-1, np.max([mse_ft_quant.max(), mse_quant.max()])+1)\n",
    "ax.set_xlim(np.min([mse_ft_quant.min(), mse_quant.min()])-1, np.max([mse_ft_quant.max(), mse_quant.max()])+1)\n",
    "ax.plot([0,1],[0,1], transform=ax.transAxes, color='k', alpha=0.7, linewidth=0.4)\n",
    "ax.set_ylabel('Surface MSE, $h$ [$kJ/kg$]')\n",
    "ax.set_xlabel('Free Troposphere Saturated MSE, $h_{FT}^*$ [$kJ/kg$]')\n",
    "fig.colorbar(im, label='$R_1$')\n",
    "plt.tight_layout();"
   ],
   "metadata": {
    "collapsed": false,
    "ExecuteTime": {
     "end_time": "2023-12-04T10:37:11.680496Z",
     "start_time": "2023-12-04T10:37:11.678847Z"
    }
   },
   "outputs": []
  },
  {
   "cell_type": "markdown",
   "source": [
    "In the plot above, the value of $R_1$ increases as latitude does i.e. the most negative $R_1$ is the tropics, while the most positive is the polar region.\n",
    "\n",
    "We see that in general, as $R_1$ increases, $h - h_{FT}^*$ also increases."
   ],
   "metadata": {
    "collapsed": false
   }
  },
  {
   "cell_type": "code",
   "execution_count": null,
   "source": [],
   "metadata": {
    "collapsed": false,
    "ExecuteTime": {
     "start_time": "2023-12-04T10:37:11.679887Z"
    }
   },
   "outputs": []
  }
 ],
 "metadata": {
  "kernelspec": {
   "display_name": "Python 3",
   "language": "python",
   "name": "python3"
  },
  "language_info": {
   "codemirror_mode": {
    "name": "ipython",
    "version": 2
   },
   "file_extension": ".py",
   "mimetype": "text/x-python",
   "name": "python",
   "nbconvert_exporter": "python",
   "pygments_lexer": "ipython2",
   "version": "2.7.6"
  }
 },
 "nbformat": 4,
 "nbformat_minor": 0
}
