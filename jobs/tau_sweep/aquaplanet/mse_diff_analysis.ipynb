{
 "cells": [
  {
   "cell_type": "markdown",
   "source": [
    "# Moist Static Energy Difference Analysis\n",
    "This notebook evaluates whether the assumption that the difference between the surface and free troposphere MSE, $\\epsilon = h - h_{FT}$ varies as the climate warms in the same way for the mean summer day as the temperature percentile $x$ day.\n",
    "\n",
    "I.e. it evaluates to what extent the assumption of $\\delta \\epsilon_x = \\delta \\overline{\\epsilon}$ is valid."
   ],
   "metadata": {
    "collapsed": false
   }
  },
  {
   "cell_type": "code",
   "execution_count": 1,
   "outputs": [
    {
     "name": "stderr",
     "output_type": "stream",
     "text": [
      "2023-02-02 16:25:23,266 - isca - WARNING - Environment variable GFDL_SOC not set, but this is only required if using SocratesCodebase. Setting to None\n"
     ]
    }
   ],
   "source": [
    "import sys\n",
    "import os\n",
    "# REMOTE - So can access functions in isca_tools which is in home/Isca directory\n",
    "# sys.path.append(os.path.join(os.environ['HOME'], 'Isca'))\n",
    "# LOCAL - So can access functions in isca_tools which is in StAndrews/Isca\n",
    "sys.path.append(os.environ['PWD'])\n",
    "import isca_tools\n",
    "from isca_tools.utils.moist_physics import lcl_temp, rh_from_sphum, saturation_vapor_pressure, mixing_ratio_from_sphum, dry_profile, moist_profile, mixing_ratio_from_partial_pressure, moist_static_energy, convection_neutral_profile\n",
    "from isca_tools.utils.radiation import frierson_net_toa_sw_dwn\n",
    "from isca_tools.utils.constants import kappa, epsilon, L_v, c_p, g, R_v\n",
    "from isca_tools.utils import area_weight_mean_lat, area_weighting\n",
    "import numpy as np\n",
    "import matplotlib.pyplot as plt\n",
    "import xarray as xr\n",
    "import scipy.optimize\n",
    "from tqdm import tqdm"
   ],
   "metadata": {
    "collapsed": false
   }
  },
  {
   "cell_type": "code",
   "execution_count": 2,
   "outputs": [],
   "source": [
    "# Load dataset\n",
    "exp_dir = 'tau_sweep/aquaplanet/'\n",
    "exp_names = [dir for dir in os.listdir(os.path.join(os.environ['GFDL_DATA'],exp_dir)) if dir[0]=='k']\n",
    "exp_names.sort()\n",
    "n_exp = len(exp_names)\n",
    "ds = []\n",
    "albedo = []\n",
    "tau_sw = []\n",
    "tau_lw = []\n",
    "for i in range(n_exp):\n",
    "    ds += [isca_tools.load_dataset(exp_dir + exp_names[i])]\n",
    "    namelist = isca_tools.load_namelist(exp_dir + exp_names[i])  # Need this for albedo_value\n",
    "    albedo += [namelist['mixed_layer_nml']['albedo_value']]\n",
    "    tau_sw += [namelist['two_stream_gray_rad_nml']['atm_abs']]\n",
    "    tau_lw += [namelist['two_stream_gray_rad_nml']['odp']]"
   ],
   "metadata": {
    "collapsed": false
   }
  },
  {
   "cell_type": "markdown",
   "source": [
    "## Get datasets\n",
    "Get one dataset, `ds_quant`, for tropics averaged over all days exceeding a given percentile in near surface air temperature.\n",
    "\n",
    "Get another dataset, `ds_summer`, which is averaged over the summer."
   ],
   "metadata": {
    "collapsed": false
   }
  },
  {
   "cell_type": "code",
   "execution_count": 57,
   "outputs": [
    {
     "name": "stderr",
     "output_type": "stream",
     "text": [
      "100%|██████████| 7/7 [00:00<00:00,  7.71it/s]\n"
     ]
    }
   ],
   "source": [
    "# Get data set averaged over all summer days in extratropics.\n",
    "# Do this for each optical depth value\n",
    "use_time_start = 360*2\n",
    "lat_min = 30\n",
    "lat_max = 60\n",
    "\n",
    "ds_summer = []\n",
    "for i in tqdm(range(n_exp)):\n",
    "    ds_use = ds[i].sel(time=slice(use_time_start, np.inf))     # Only use after converged\n",
    "    ds_nh_summer = isca_tools.utils.annual_time_slice(ds_use, [6, 7, 8]).sel(lat=slice(lat_min, lat_max))    # NH summer is JJA\n",
    "    ds_sh_summer = isca_tools.utils.annual_time_slice(ds_use, [12, 1, 2]).sel(lat=slice(-lat_max, -lat_min))    # SH summer is DJF\n",
    "    # Combine hemispheres and average over longitude, time and latitude.\n",
    "    ds_use = xr.concat([ds_nh_summer.mean(dim=('lon', 'time')), ds_sh_summer.mean(dim=('lon', 'time'))], dim='lat').mean(dim='lat')\n",
    "    ds_summer += [ds_use]\n",
    "    # ds_summer[i].load()     # Load in averaged dataset so later computation and conversion to numpy is much quicker"
   ],
   "metadata": {
    "collapsed": false
   }
  },
  {
   "cell_type": "code",
   "execution_count": 58,
   "outputs": [
    {
     "name": "stderr",
     "output_type": "stream",
     "text": [
      "100%|██████████| 7/7 [00:02<00:00,  3.21it/s]\n"
     ]
    }
   ],
   "source": [
    "# Get data set averaged over all days exceeding given quantile of near surface temperature in extratropics.\n",
    "# Do this for each optical depth value\n",
    "quantiles_use = [90, 95, 99]\n",
    "n_quant = len(quantiles_use)\n",
    "temp_quant_av = np.zeros(n_exp)\n",
    "ds_quant = [[] for _ in range(n_exp)]\n",
    "for i in tqdm(range(n_exp)):\n",
    "    ds_use = ds[i].sel(time=slice(use_time_start, np.inf))     # Only use after converged\n",
    "    ds_use = ds_use.where((np.abs(ds_use.lat) <= lat_max) & (np.abs(ds_use.lat) >= lat_min), drop=True)    # Only latitude region\n",
    "    # Collapse to single coordinate and then take quantile over it\n",
    "    ds_use = ds_use.stack(lon_lat_time=(\"lat\",\"lon\",\"time\"), create_index=False).chunk(dict(lon_lat_time=-1))\n",
    "    # quantile_thresh = np.quantile(ds_use.temp[-1].to_numpy(), quantile/100)\n",
    "    for j in range(n_quant):\n",
    "        quantile_thresh = ds_use.temp[-1].quantile(quantiles_use[j]/100, dim='lon_lat_time', keep_attrs=True)\n",
    "        # Average each variable in data over days where near surface temperature exceeds this quantile\n",
    "        ds_use2 = ds_use.where(ds_use.temp[-1]>=quantile_thresh).mean(dim='lon_lat_time', skipna=True)\n",
    "        ds_quant[i] += [ds_use2]\n",
    "        #ds_quant[i].load()  # Load in averaged dataset so later computation and conversion to numpy is much quicker\n"
   ],
   "metadata": {
    "collapsed": false
   }
  },
  {
   "cell_type": "code",
   "execution_count": 59,
   "outputs": [
    {
     "name": "stderr",
     "output_type": "stream",
     "text": [
      "100%|██████████| 7/7 [00:52<00:00,  7.54s/it]\n"
     ]
    }
   ],
   "source": [
    "# Compute the surface and saturation free troposphere MSE for the mean day\n",
    "pressure_ft = 700\n",
    "def mse_ft(dataset):\n",
    "    # Calculate free troposphere saturated MSE for a given dataset in kJ/kg\n",
    "    ds_use = dataset.sel(pfull=pressure_ft, method='nearest')\n",
    "    pressure_ft_actual = ds_use.pfull * 100     # This is the pressure level closest to pressure_ft\n",
    "    mix_ratio_sat = mixing_ratio_from_partial_pressure(saturation_vapor_pressure(ds_use.temp), pressure_ft_actual)\n",
    "    sphum_sat = mix_ratio_sat/(1+mix_ratio_sat)\n",
    "    return moist_static_energy(ds_use.temp, sphum_sat, ds_use.height)\n",
    "\n",
    "def mse_surface(dataset):\n",
    "    return moist_static_energy(dataset.temp[-1], dataset.sphum[-1], dataset.height[-1])\n",
    "\n",
    "temp_mean = np.zeros(n_exp)\n",
    "mse_mean = np.zeros(n_exp)\n",
    "mse_ft_mean = np.zeros(n_exp)\n",
    "\n",
    "for i in tqdm(range(n_exp)):\n",
    "    temp_mean[i] = ds_summer[i].temp[-1]\n",
    "    mse_mean[i] = mse_surface(ds_summer[i])\n",
    "    mse_ft_mean[i] = mse_ft(ds_summer[i])"
   ],
   "metadata": {
    "collapsed": false
   }
  },
  {
   "cell_type": "code",
   "execution_count": 60,
   "outputs": [
    {
     "name": "stderr",
     "output_type": "stream",
     "text": [
      "100%|██████████| 7/7 [06:55<00:00, 59.36s/it]\n"
     ]
    }
   ],
   "source": [
    "# Compute the surface and saturation free troposphere MSE for the quantile days\n",
    "temp_quant = np.zeros((n_exp, n_quant))\n",
    "mse_quant = np.zeros((n_exp, n_quant))\n",
    "mse_ft_quant = np.zeros((n_exp, n_quant))\n",
    "for i in tqdm(range(n_exp)):\n",
    "    for j in range(n_quant):\n",
    "        temp_quant[i, j] = ds_quant[i][j].temp[-1]\n",
    "        mse_quant[i, j] = mse_surface(ds_quant[i][j])\n",
    "        mse_ft_quant[i, j] = mse_ft(ds_quant[i][j])"
   ],
   "metadata": {
    "collapsed": false
   }
  },
  {
   "cell_type": "code",
   "execution_count": 64,
   "outputs": [
    {
     "data": {
      "text/plain": "<Figure size 1200x600 with 1 Axes>",
      "image/png": "[encoded data removed]"
     },
     "metadata": {},
     "output_type": "display_data"
    }
   ],
   "source": [
    "# Compute epsilon values indicating the difference between the surface MSE and free trop MSE\n",
    "epsilon_mean = mse_mean - mse_ft_mean\n",
    "epsilon_quant = mse_quant - mse_ft_quant\n",
    "delta_epsilon_quant = np.zeros((n_exp-1, n_quant))\n",
    "for j in range(n_quant):\n",
    "    delta_epsilon_quant[:, j] = np.ediff1d(epsilon_quant[:, j])\n",
    "delta_epsilon_mean = np.ediff1d(epsilon_mean)\n",
    "\n",
    "fig, ax = plt.subplots(1,1, figsize=(12, 6))\n",
    "ax.scatter(temp_mean[:-1], delta_epsilon_mean, label='$\\delta \\overline{\\epsilon}$')\n",
    "for j in range(n_quant):\n",
    "    ax.scatter(temp_quant[:-1, j], delta_epsilon_quant[:, j], label=f'$\\delta \\epsilon_x(x={quantiles_use[j]})$')\n",
    "for i in range(n_exp-1):\n",
    "    ax.text(np.mean([temp_quant[i, 0], temp_quant[i, -1]]), 8, f'$\\kappa = {tau_lw[i]}$', ha='center', va='center')\n",
    "ax.legend()\n",
    "ax.set_xlabel('Temperature of Reference Climate / K')\n",
    "ax.set_ylabel('$\\delta \\epsilon$ / $kJ/kg$');"
   ],
   "metadata": {
    "collapsed": false
   }
  },
  {
   "cell_type": "markdown",
   "source": [
    "### Tropics - $0 < |\\phi| < 20$\n",
    "From this plot, it seems that the assumption of $\\delta \\epsilon_x = \\delta \\overline{\\epsilon}$ is approximately valid for the reference climate closest to Earth ($\\kappa=1$) but not for any other climate.\n",
    "\n",
    "Also, for the $\\kappa=0.2, 0.3, 2, 3.5$ climates, there is a clear trend that $\\delta \\epsilon_x$ is larger than $\\delta \\overline{\\epsilon}$ and increases with $x$.\n",
    "\n",
    "### Extratropics - $30 < |\\phi| < 60$\n",
    "In the extratropics, it seems that $\\delta \\epsilon_x = \\delta \\overline{\\epsilon}$ is approximately valid for the reference climate closest to Earth ($\\kappa=1$).\n",
    "\n",
    "For colder climates ($\\kappa < 1$), it seems that $\\delta \\overline{\\epsilon}$ is greater than $\\delta \\epsilon_x$ with the latter staying fairly constant as $x$ varies.\n",
    "\n",
    "For warmer climates ($\\kappa > 1$), it seems that $\\delta \\epsilon_x$ is larger than $\\delta \\overline{\\epsilon}$ and increases with $x$."
   ],
   "metadata": {
    "collapsed": false
   }
  },
  {
   "cell_type": "code",
   "execution_count": 143,
   "outputs": [],
   "source": [],
   "metadata": {
    "collapsed": false
   }
  },
  {
   "cell_type": "code",
   "execution_count": 143,
   "outputs": [],
   "source": [],
   "metadata": {
    "collapsed": false
   }
  },
  {
   "cell_type": "code",
   "execution_count": null,
   "outputs": [],
   "source": [],
   "metadata": {
    "collapsed": false
   }
  }
 ],
 "metadata": {
  "kernelspec": {
   "display_name": "Python 3",
   "language": "python",
   "name": "python3"
  },
  "language_info": {
   "codemirror_mode": {
    "name": "ipython",
    "version": 2
   },
   "file_extension": ".py",
   "mimetype": "text/x-python",
   "name": "python",
   "nbconvert_exporter": "python",
   "pygments_lexer": "ipython2",
   "version": "2.7.6"
  }
 },
 "nbformat": 4,
 "nbformat_minor": 0
}
