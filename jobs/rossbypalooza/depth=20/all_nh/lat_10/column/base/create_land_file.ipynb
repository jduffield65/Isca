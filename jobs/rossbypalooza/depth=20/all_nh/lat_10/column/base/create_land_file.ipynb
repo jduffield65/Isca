{
 "cells": [
  {
   "cell_type": "code",
   "id": "0c2da671",
   "metadata": {
    "ExecuteTime": {
     "end_time": "2025-02-28T15:56:13.864288Z",
     "start_time": "2025-02-28T15:56:12.880505Z"
    }
   },
   "source": [
    "import sys\n",
    "import os\n",
    "\n",
    "import scipy.ndimage\n",
    "import xarray as xr\n",
    "import matplotlib.pyplot as plt\n",
    "sys.path.append(os.path.join(os.environ['HOME'], 'Isca'))    # So can access functions in isca_tools which is in home/Isca directory\n",
    "import isca_tools\n",
    "import numpy as np\n",
    "from isca_tools.utils.land import get_ocean_coords, get_land_coords\n",
    "from isca_tools.utils import area_weighting, lat_lon_slice\n",
    "from isca_tools.land import write_land"
   ],
   "outputs": [],
   "execution_count": 1
  },
  {
   "metadata": {},
   "cell_type": "markdown",
   "source": [
    "## Create land\n",
    "Create zonal strip of land in mid latitude to keep peak temperature near this region as vary rotation rate."
   ],
   "id": "931ee33d49c891c4"
  },
  {
   "cell_type": "code",
   "source": [
    "isca_path = '/Users/joshduffield/Documents/StAndrews/Isca/jobs/'\n",
    "exp_dir = 'rossbypalooza/depth=20/all_nh/lat_10/column/base/'\n",
    "\n",
    "lat_min = 10\n",
    "lat_max = 90\n",
    "write_land(isca_path+exp_dir+'land', isca_path+exp_dir+'namelist.nml', 'square', [lat_min, lat_max, 0-10, 360+10])"
   ],
   "metadata": {
    "collapsed": false,
    "ExecuteTime": {
     "end_time": "2025-02-28T15:56:15.057640Z",
     "start_time": "2025-02-28T15:56:15.046724Z"
    }
   },
   "id": "d0cea0c7f9bdb6c6",
   "outputs": [
    {
     "name": "stdout",
     "output_type": "stream",
     "text": [
      "Output written to: /Users/joshduffield/Documents/StAndrews/Isca/jobs/rossbypalooza/depth=20/all_nh/lat_10/column/base/land.nc\n"
     ]
    }
   ],
   "execution_count": 2
  },
  {
   "metadata": {
    "ExecuteTime": {
     "end_time": "2025-02-28T15:56:17.081726Z",
     "start_time": "2025-02-28T15:56:17.074086Z"
    }
   },
   "cell_type": "code",
   "source": "np.arange(2) * 360 / float(2)",
   "id": "75c347a670ae5c39",
   "outputs": [
    {
     "data": {
      "text/plain": [
       "array([  0., 180.])"
      ]
     },
     "execution_count": 3,
     "metadata": {},
     "output_type": "execute_result"
    }
   ],
   "execution_count": 3
  },
  {
   "metadata": {
    "ExecuteTime": {
     "end_time": "2025-02-28T15:56:44.229325Z",
     "start_time": "2025-02-28T15:56:44.162369Z"
    }
   },
   "cell_type": "code",
   "source": [
    "job_dir = os.path.join(os.path.dirname(os.environ['GFDL_DATA']), 'jobs')\n",
    "land_file_name = os.path.join(job_dir, exp_dir, 'land.nc')\n",
    "xr.load_dataset(land_file_name).land_mask.plot()"
   ],
   "id": "579fb0139a9d7fd1",
   "outputs": [
    {
     "data": {
      "text/plain": [
       "[<matplotlib.lines.Line2D at 0x16a5fb070>]"
      ]
     },
     "execution_count": 6,
     "metadata": {},
     "output_type": "execute_result"
    },
    {
     "data": {
      "text/plain": [
       "<Figure size 640x480 with 1 Axes>"
      ],
      "image/png": "[encoded data removed]"
     },
     "metadata": {},
     "output_type": "display_data"
    }
   ],
   "execution_count": 6
  },
  {
   "metadata": {},
   "cell_type": "code",
   "outputs": [],
   "execution_count": null,
   "source": "",
   "id": "60769af18696e3c9"
  }
 ],
 "metadata": {
  "kernelspec": {
   "name": "python3",
   "language": "python",
   "display_name": "Python 3 (ipykernel)"
  },
  "language_info": {
   "codemirror_mode": {
    "name": "ipython",
    "version": 3
   },
   "file_extension": ".py",
   "mimetype": "text/x-python",
   "name": "python",
   "nbconvert_exporter": "python",
   "pygments_lexer": "ipython3",
   "version": "3.9.13"
  }
 },
 "nbformat": 4,
 "nbformat_minor": 5
}
