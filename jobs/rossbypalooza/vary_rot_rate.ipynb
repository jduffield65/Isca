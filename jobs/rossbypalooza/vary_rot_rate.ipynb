{
 "cells": [
  {
   "cell_type": "markdown",
   "metadata": {},
   "source": [
    "# Heat Stress\n",
    "This breaks down each contribution to the theoretical scaling factor."
   ]
  },
  {
   "cell_type": "code",
   "metadata": {
    "ExecuteTime": {
     "end_time": "2024-07-29T20:48:57.237346Z",
     "start_time": "2024-07-29T20:48:56.048697Z"
    }
   },
   "source": [
    "import copy\n",
    "import sys\n",
    "import os\n",
    "# REMOTE - So can access functions in isca_tools which is in home/Isca directory\n",
    "# sys.path.append(os.path.join(os.environ['HOME'], 'Isca'))\n",
    "# LOCAL - So can access functions in isca_tools which is in StAndrews/Isca\n",
    "sys.path.append(os.environ['PWD'])\n",
    "import numpy as np\n",
    "import matplotlib.pyplot as plt\n",
    "import xarray as xr\n",
    "import scipy.optimize\n",
    "from tqdm import tqdm\n",
    "from scipy import integrate\n",
    "# Use custom matplotlib style for publishing\n",
    "plt.style.use(os.environ['PWD']+'/jobs/tau_sweep/aquaplanet/publish_figures/publish.mplstyle')\n",
    "import matplotlib\n",
    "# matplotlib.rcParams['lines.linewidth'] = 1.2          # make lines bigger for presentation"
   ],
   "outputs": [],
   "execution_count": 1
  },
  {
   "metadata": {
    "ExecuteTime": {
     "end_time": "2024-07-29T20:48:57.607745Z",
     "start_time": "2024-07-29T20:48:57.238357Z"
    }
   },
   "cell_type": "code",
   "source": [
    "import isca_tools\n",
    "from isca_tools.utils.moist_physics import moist_static_energy, sphum_sat\n",
    "from isca_tools.utils.constants import g, R, radius_earth\n",
    "from isca_tools.utils import area_weighting, annual_time_slice\n",
    "from isca_tools.utils.ds_slicing import annual_mean"
   ],
   "outputs": [
    {
     "name": "stderr",
     "output_type": "stream",
     "text": [
      "2024-07-29 15:48:57,241 - isca - WARNING - Environment variable GFDL_SOC not set, but this is only required if using SocratesCodebase. Setting to None\n"
     ]
    }
   ],
   "execution_count": 2
  },
  {
   "cell_type": "code",
   "metadata": {
    "ExecuteTime": {
     "end_time": "2024-07-29T20:50:06.820326Z",
     "start_time": "2024-07-29T20:48:57.608426Z"
    }
   },
   "source": [
    "# Load dataset - at surface and in free troposphere\n",
    "use_time_start = 360*2\n",
    "pressure_ft = 500               # Desired approximate pressure of free troposphere (hPa)\n",
    "\n",
    "# Load dataset\n",
    "exp_dir = 'rossbypalooza/lat_20/'\n",
    "rot_rate = [0.25, 0.5, 1, 2, 4]\n",
    "# exp_dir = 'rossbypalooza/lat_0/'\n",
    "# rot_rate = [1]\n",
    "# exp_dir = 'tau_sweep/aquaplanet/depth=1/'\n",
    "# exp_dir = 'tau_sweep/aquaplanet/depth=1/ras_conv/'\n",
    "\n",
    "# only keep variables required to compute relative humidity and MSE\n",
    "var_keep = ['temp', 'sphum', 'height', 'klzbs', 'convflag', 'swdn_toa', 'olr', 't_surf', 'precipitation', 'ucomp', 'omega']\n",
    "\n",
    "# exp_names = ['Aquaplanet', 'Constant conductivity', 'Bucket', 'Bucket - $C_V$']\n",
    "# exp_dir = ['tau_sweep/aquaplanet/', 'tau_sweep/land/meridional_band/evap/', 'tau_sweep/land/meridional_band/bucket/',\n",
    "#            'tau_sweep/land/meridional_band/bucket_evap/evap=0_1/']\n",
    "# color_seq_exp = ['b', 'g', 'orange', 'r']\n",
    "# rot_rate = [1, 2]\n",
    "n_exp = len(rot_rate)\n",
    "exp_names = [f'{rot_rate[i]}'.replace('.', '_') for i in range(len(rot_rate))]\n",
    "ds = []\n",
    "albedo = []\n",
    "tau_sw = []\n",
    "tau_lw = []\n",
    "omega = []\n",
    "# time_ind_start = 0  \n",
    "time_ind_start = 100\n",
    "# time_ind_final = 1467       # so both experiments are of same length\n",
    "time_ind_final = 9999999999999999\n",
    "with tqdm(total=n_exp, position=0, leave=True) as pbar:\n",
    "    for j in range(n_exp):\n",
    "        ds_use = isca_tools.load_dataset(exp_dir + exp_names[j]).isel(time=slice(time_ind_start, time_ind_final))\n",
    "        \n",
    "        ds += [ds_use.sel(pfull=[np.inf, pressure_ft], method='nearest')[var_keep].load()]  # only keep the surface and free troposphere values\n",
    "        namelist = isca_tools.load_namelist(exp_dir + exp_names[j])  # Need this for albedo_value\n",
    "        albedo += [namelist['mixed_layer_nml']['albedo_value']]\n",
    "        tau_sw += [namelist['two_stream_gray_rad_nml']['atm_abs']]\n",
    "        tau_lw += [namelist['two_stream_gray_rad_nml']['odp']]\n",
    "        omega += [namelist['constants_nml']['omega']]\n",
    "        pbar.update(1)\n",
    "omega = np.asarray(omega)        \n",
    "pfull = ds_use.pfull\n",
    "ind_surf = 0\n",
    "ind_ft = 1\n",
    "p_surface = float(ds[0].pfull[ind_surf]) * 100\n",
    "pressure_ft_actual = float(ds[0].pfull[ind_ft]) * 100       # Actual pressure of free troposphere (Pa)\n",
    "n_pressure = ds[0].pfull.size"
   ],
   "outputs": [
    {
     "name": "stderr",
     "output_type": "stream",
     "text": [
      "100%|██████████| 5/5 [01:09<00:00, 13.84s/it]\n"
     ]
    }
   ],
   "execution_count": 3
  },
  {
   "cell_type": "code",
   "metadata": {
    "ExecuteTime": {
     "end_time": "2024-07-29T20:50:06.825051Z",
     "start_time": "2024-07-29T20:50:06.821810Z"
    }
   },
   "source": [
    "pressure_from_level_func = scipy.interpolate.interp1d(np.arange(len(pfull)), pfull)\n",
    "def lzb(k, interp_func=pressure_from_level_func):\n",
    "    # Offset by -1 because fortran starts with 1, but python starts with 0\n",
    "    # ds.t_ref will match exactly ds.temp if -2 used as offset, but this is not the LNB.\n",
    "    if np.size(k) == 1:\n",
    "        return float(interp_func(k-1))\n",
    "    else:\n",
    "        return interp_func(k-1)"
   ],
   "outputs": [],
   "execution_count": 4
  },
  {
   "cell_type": "markdown",
   "metadata": {},
   "source": [
    "## Get datasets\n",
    "Get one dataset for summer for each $\\kappa$, combining all latitudes: `ds_all`. This combines the all or just tbe summer months in each hemisphere, e.g. negative latitudes will only correspond to times in December, January or February."
   ]
  },
  {
   "cell_type": "code",
   "metadata": {
    "ExecuteTime": {
     "end_time": "2024-07-29T20:50:06.828561Z",
     "start_time": "2024-07-29T20:50:06.825846Z"
    }
   },
   "source": [
    "# If true, will save all figures to desktop - option to save specific figures later on.\n",
    "save_fig = False\n",
    "# if publishing figure, use high dpi\n",
    "publish_fig = True\n",
    "\n",
    "ar = 4/3        # aspect ratio (width/height)\n",
    "# Details required for Journal of Climate Figures\n",
    "low_dpi = 100\n",
    "dpi = {'monochrome': 1100, 'combination': 800, 'halftone': 300}\n",
    "width = {'one_col': 3.2, 'two_col': 5.5}        # width in inches \n",
    "save_pad_inches = 0.05\n",
    "\n",
    "# Default parameters\n",
    "default_colors = plt.rcParams['axes.prop_cycle'].by_key()['color']\n",
    "ax_linewidth = plt.rcParams['axes.linewidth']\n",
    "\n",
    "def moving_average(x, w):\n",
    "    return np.convolve(x, np.ones(w), 'valid') / w"
   ],
   "outputs": [],
   "execution_count": 5
  },
  {
   "cell_type": "code",
   "metadata": {
    "ExecuteTime": {
     "end_time": "2024-07-29T20:50:07.381908Z",
     "start_time": "2024-07-29T20:50:06.829384Z"
    }
   },
   "source": [
    "# Plot evolution of net flux and temperature to see how long it takes to spin up\n",
    "def plot_spinup(ds_array, ax, albedo, tau, ds_name):\n",
    "    for i, ds_use in enumerate(ds_array):\n",
    "        # Need to do area weighting so higher latitudes contribute less to reflect their area\n",
    "        olr_sum = area_weighting(ds_use.olr).sum(dim = ['lon', 'lat'])\n",
    "        short_wave_sum = area_weighting(ds_use.swdn_toa).sum(dim = ['lon', 'lat'])\n",
    "        # Include surface albedo which reflects all SW radiation reaching it\n",
    "        # SW radiation reaching it has been reduced by that absorbed in the atmosphere - non zero short wave optical depth.\n",
    "        # There is no absorption on return trip from surface to space though hence just the one factor.\n",
    "        net_flux = olr_sum - short_wave_sum*(1-albedo*np.exp(-tau))\n",
    "        # net_flux = olr_sum - short_wave_sum\n",
    "        ax.plot(ds_use.time, net_flux)\n",
    "    ax.set_ylabel('TOA Net Outgoing FLux / $Wm^{-2}$\\nOLR - (1-$\\\\alpha e^{-\\\\tau})SW$')\n",
    "    ax.legend()\n",
    "\n",
    "fig, ax = plt.subplots(1,1, figsize=(width['one_col'], width['one_col']/ar))\n",
    "plot_spinup(ds, ax, albedo[0], tau_sw[0], rot_rate)"
   ],
   "outputs": [
    {
     "name": "stderr",
     "output_type": "stream",
     "text": [
      "No artists with labels found to put in legend.  Note that artists whose label start with an underscore are ignored when legend() is called with no argument.\n"
     ]
    },
    {
     "data": {
      "text/plain": [
       "<Figure size 320x240 with 1 Axes>"
      ],
      "image/png": "[encoded data removed]"
     },
     "metadata": {},
     "output_type": "display_data"
    }
   ],
   "execution_count": 6
  },
  {
   "cell_type": "code",
   "metadata": {
    "ExecuteTime": {
     "end_time": "2024-07-29T20:50:07.531185Z",
     "start_time": "2024-07-29T20:50:07.382814Z"
    }
   },
   "source": [
    "# Show where the land is\n",
    "save_land_fig = False\n",
    "\n",
    "job_dir = os.path.join(os.path.dirname(os.environ['GFDL_DATA']), 'jobs')\n",
    "land_file_name = os.path.join(job_dir, exp_dir, exp_names[0], 'land.nc')\n",
    "is_land_data = os.path.exists(land_file_name)\n",
    "if is_land_data:\n",
    "    fig, ax = plt.subplots(1,1, figsize=(width['one_col'], width['one_col']/ar))\n",
    "    isca_tools.plot.show_land(land_file_name, fig=fig, ax=ax)\n",
    "    lat_land = isca_tools.utils.land.get_land_coords(land_file=land_file_name)[0]       # get the longitude coordinates of land\n",
    "    lat_land_min = float(lat_land.min())\n",
    "    lat_land_max = float(lat_land.max())\n",
    "    if save_fig or save_land_fig:\n",
    "        fig.savefig(f\"/Users/joshduffield/Desktop/land_coords.pdf\",\n",
    "                    dpi=dpi['combination'] if publish_fig else low_dpi, bbox_inches='tight', pad_inches=save_pad_inches)"
   ],
   "outputs": [
    {
     "data": {
      "text/plain": [
       "<Figure size 320x240 with 1 Axes>"
      ],
      "image/png": "[encoded data removed]"
     },
     "metadata": {},
     "output_type": "display_data"
    }
   ],
   "execution_count": 7
  },
  {
   "metadata": {
    "ExecuteTime": {
     "end_time": "2024-07-29T20:50:08.000319Z",
     "start_time": "2024-07-29T20:50:07.531864Z"
    }
   },
   "cell_type": "code",
   "source": [
    "for i in range(n_exp):\n",
    "    moist_static_energy(ds[i].temp.isel(pfull=ind_surf), ds[i].sphum.isel(pfull=ind_surf), ds[i].height.isel(pfull=ind_surf)\n",
    "                        ).mean(dim='lon').sel(lat=slice(30, 45)).mean(dim='lat').plot(color=color_seq_rot[i])"
   ],
   "outputs": [
    {
     "ename": "NameError",
     "evalue": "name 'color_seq_rot' is not defined",
     "output_type": "error",
     "traceback": [
      "\u001B[0;31m---------------------------------------------------------------------------\u001B[0m",
      "\u001B[0;31mNameError\u001B[0m                                 Traceback (most recent call last)",
      "Cell \u001B[0;32mIn [8], line 3\u001B[0m\n\u001B[1;32m      1\u001B[0m \u001B[38;5;28;01mfor\u001B[39;00m i \u001B[38;5;129;01min\u001B[39;00m \u001B[38;5;28mrange\u001B[39m(n_exp):\n\u001B[1;32m      2\u001B[0m     moist_static_energy(ds[i]\u001B[38;5;241m.\u001B[39mtemp\u001B[38;5;241m.\u001B[39misel(pfull\u001B[38;5;241m=\u001B[39mind_surf), ds[i]\u001B[38;5;241m.\u001B[39msphum\u001B[38;5;241m.\u001B[39misel(pfull\u001B[38;5;241m=\u001B[39mind_surf), ds[i]\u001B[38;5;241m.\u001B[39mheight\u001B[38;5;241m.\u001B[39misel(pfull\u001B[38;5;241m=\u001B[39mind_surf)\n\u001B[0;32m----> 3\u001B[0m                         )\u001B[38;5;241m.\u001B[39mmean(dim\u001B[38;5;241m=\u001B[39m\u001B[38;5;124m'\u001B[39m\u001B[38;5;124mlon\u001B[39m\u001B[38;5;124m'\u001B[39m)\u001B[38;5;241m.\u001B[39msel(lat\u001B[38;5;241m=\u001B[39m\u001B[38;5;28mslice\u001B[39m(\u001B[38;5;241m30\u001B[39m, \u001B[38;5;241m45\u001B[39m))\u001B[38;5;241m.\u001B[39mmean(dim\u001B[38;5;241m=\u001B[39m\u001B[38;5;124m'\u001B[39m\u001B[38;5;124mlat\u001B[39m\u001B[38;5;124m'\u001B[39m)\u001B[38;5;241m.\u001B[39mplot(color\u001B[38;5;241m=\u001B[39m\u001B[43mcolor_seq_rot\u001B[49m[i])\n",
      "\u001B[0;31mNameError\u001B[0m: name 'color_seq_rot' is not defined"
     ]
    }
   ],
   "execution_count": 8
  },
  {
   "metadata": {},
   "cell_type": "code",
   "source": [
    "fig, ax = plt.subplots(1,1, figsize=(3*width['two_col'], width['two_col']/ar))\n",
    "for i in range(n_exp):\n",
    "    moist_static_energy(ds[i].temp.isel(pfull=ind_surf), ds[i].sphum.isel(pfull=ind_surf), ds[i].height.isel(pfull=ind_surf)\n",
    "                        ).mean(dim='lon').sel(lat=slice(25, 35)).mean(dim='lat').plot(color=color_seq_rot[i], ax=ax)"
   ],
   "outputs": [],
   "execution_count": null
  },
  {
   "metadata": {},
   "cell_type": "code",
   "source": [
    "fig, ax = plt.subplots(1,1, figsize=(3*width['two_col'], width['two_col']/ar))\n",
    "for i in range(n_exp):\n",
    "    ds[i].omega.isel(pfull=ind_ft).sel(lat=slice(25, 35)).mean(dim=['lat', 'lon']).plot(color=color_seq_rot[i], ax=ax)"
   ],
   "outputs": [],
   "execution_count": null
  },
  {
   "metadata": {},
   "cell_type": "code",
   "source": [
    "fig, ax = plt.subplots(1,1, figsize=(3*width['two_col'], width['two_col']/ar))\n",
    "for i in range(n_exp):\n",
    "    ds[i].precipitation.sel(lat=slice(25, 35)).mean(dim=['lat', 'lon']).plot(color=color_seq_rot[i], ax=ax)"
   ],
   "outputs": [],
   "execution_count": null
  },
  {
   "cell_type": "code",
   "metadata": {},
   "source": [
    "ds[0].t_surf.mean(dim='lon').plot(x='time', vmin=250, vmax=310)"
   ],
   "outputs": [],
   "execution_count": null
  },
  {
   "cell_type": "code",
   "metadata": {},
   "source": [
    "# (ds[1].temp.isel(pfull=ind_ft).mean(dim='lon') - ds[0].temp.isel(pfull=ind_ft).mean(dim='lon')).plot(x='time')"
   ],
   "outputs": [],
   "execution_count": null
  },
  {
   "cell_type": "code",
   "metadata": {},
   "source": [
    "# ds[1].temp.isel(pfull=ind_ft).mean(dim='lon').plot(x='time')\n",
    "# plt.xlim()"
   ],
   "outputs": [],
   "execution_count": null
  },
  {
   "cell_type": "code",
   "metadata": {},
   "source": [
    "# ds[0].temp.isel(pfull=ind_ft).mean(dim='lon').sel(time=560, method='nearest').plot()\n",
    "# ds[1].temp.isel(pfull=ind_ft).mean(dim='lon').sel(time=560, method='nearest').plot()\n",
    "# plt.xlim(-10, 50)"
   ],
   "outputs": [],
   "execution_count": null
  },
  {
   "cell_type": "code",
   "metadata": {},
   "source": [
    "mse = [moist_static_energy(ds[i].temp.isel(pfull=ind_surf), ds[i].sphum.isel(pfull=ind_surf), 0).mean(dim='lon') for i in range(n_exp)]"
   ],
   "outputs": [],
   "execution_count": null
  },
  {
   "cell_type": "code",
   "metadata": {},
   "source": [
    "for i in range(n_exp):\n",
    "    mse[i].sel(time=560, method='nearest').plot()\n",
    "plt.xlim(-10, 50)"
   ],
   "outputs": [],
   "execution_count": null
  },
  {
   "cell_type": "code",
   "metadata": {},
   "source": [
    "annual_mean(ds[0].precipitation).mean(dim='lon').plot(x='time')\n",
    "plt.axhline(lat_land_min, color='r')\n",
    "plt.ylim(-10, 60)"
   ],
   "outputs": [],
   "execution_count": null
  },
  {
   "cell_type": "code",
   "metadata": {},
   "source": [
    "annual_mean(ds[0].convflag).mean(dim='lon').plot(x='time')\n",
    "plt.axhline(lat_land_min, color='r')\n",
    "plt.ylim(-10, 60)"
   ],
   "outputs": [],
   "execution_count": null
  },
  {
   "cell_type": "code",
   "metadata": {},
   "source": [
    "annual_mean(ds[0].klzbs).mean(dim='lon').plot(x='time')\n",
    "plt.axhline(lat_land_min, color='r')\n",
    "plt.ylim(-10, 60)"
   ],
   "outputs": [],
   "execution_count": null
  },
  {
   "cell_type": "code",
   "metadata": {},
   "source": [
    "im = plt.pcolormesh(annual_mean(ds[0]).time, ds[0].lat, lzb(annual_mean(ds[0].klzbs).mean(dim='lon')).transpose())\n",
    "plt.axhline(lat_land_min, color='r')\n",
    "plt.ylim(-10, 60)\n",
    "plt.colorbar(im)"
   ],
   "outputs": [],
   "execution_count": null
  },
  {
   "cell_type": "markdown",
   "metadata": {},
   "source": [
    "### MSE as function of rotation rate\n",
    "In summer (JJA), expect near-surface MSE to be peaked off-equator, and size of peak relative to equator to increase with rotation rate. We show that we do see this below."
   ]
  },
  {
   "metadata": {},
   "cell_type": "code",
   "source": [
    "ds_av_summer = [annual_time_slice(ds[i], include_months=[6,7,8]).mean(dim=['time', 'lon']) for i in range(n_exp)]\n",
    "mse_av_summer = [moist_static_energy(ds_av_summer[i].temp.isel(pfull=ind_surf), ds_av_summer[i].sphum.isel(pfull=ind_surf), \n",
    "                                     ds_av_summer[i].height.isel(pfull=ind_surf)) for i in range(n_exp)]\n",
    "mse_ft_av_summer = [moist_static_energy(ds_av_summer[i].temp.isel(pfull=ind_ft), \n",
    "                                        sphum_sat(ds_av_summer[i].temp.isel(pfull=ind_ft), pressure_ft_actual), \n",
    "                                        ds_av_summer[i].height.isel(pfull=ind_ft)) for i in range(n_exp)]"
   ],
   "outputs": [],
   "execution_count": null
  },
  {
   "cell_type": "code",
   "metadata": {},
   "source": [
    "# Need to average over subtropics and over equator, specify these regions here\n",
    "lat_subtrop_min = 25\n",
    "lat_subtrop_max = 40\n",
    "\n",
    "lat_equator_min = -10\n",
    "lat_equator_max = 10"
   ],
   "outputs": [],
   "execution_count": null
  },
  {
   "cell_type": "code",
   "metadata": {},
   "source": [
    "color_seq_rot = plt.cm.jet(np.linspace(0,1,n_exp))\n",
    "fig, ax = plt.subplots(1,1, figsize=(width['one_col'], width['one_col']/ar))\n",
    "for i in range(n_exp):\n",
    "    ax.plot(ds[0].lat, mse_av_summer[i], color=color_seq_rot[i], label=rot_rate[i])\n",
    "ax.set_xlim(-10, 50)\n",
    "ax.set_ylim(315, 350)\n",
    "ax.axvline(lat_subtrop_min, color='k', linestyle=':')\n",
    "ax.axvline(lat_subtrop_max, color='k', linestyle=':')\n",
    "ax.legend(title='$\\Omega$')\n",
    "ax.set_xlabel('Latitude [deg]')\n",
    "ax.set_ylabel('Near-surface MSE [kJ/kg]')"
   ],
   "outputs": [],
   "execution_count": null
  },
  {
   "metadata": {},
   "cell_type": "code",
   "source": [
    "color_seq_rot = plt.cm.jet(np.linspace(0,1,n_exp))\n",
    "fig, ax = plt.subplots(1,1, figsize=(width['one_col'], width['one_col']/ar))\n",
    "for i in range(n_exp):\n",
    "    ax.plot(ds[0].lat, mse_av_summer[i] - mse_ft_av_summer[i], color=color_seq_rot[i], label=rot_rate[i])\n",
    "ax.set_xlim(-10, 50)\n",
    "ax.set_ylim(-5, 5)\n",
    "ax.axvline(lat_subtrop_min, color='k', linestyle=':')\n",
    "ax.axvline(lat_subtrop_max, color='k', linestyle=':')\n",
    "ax.axhline(0, color='k', linestyle=':')\n",
    "ax.legend(title='$\\Omega$')\n",
    "ax.set_xlabel('Latitude [deg]')\n",
    "ax.set_ylabel('$h_s - h_{FT}^*$ [kJ/kg]')"
   ],
   "outputs": [],
   "execution_count": null
  },
  {
   "metadata": {},
   "cell_type": "code",
   "source": "",
   "outputs": [],
   "execution_count": null
  },
  {
   "cell_type": "code",
   "metadata": {},
   "source": [
    "# MSE_diff is difference between subtropics and equatorial MSE\n",
    "mse_diff = np.asarray([float(mse_av_summer[i].sel(lat=slice(lat_subtrop_min, lat_subtrop_max)).mean() - \n",
    "            mse_av_summer[i].sel(lat=slice(lat_equator_min, lat_equator_max)).mean()) for i in range(n_exp)])\n",
    "mse_lat_peak = np.asarray([float(ds[0].lat[mse_av_summer[i].argmax()]) for i in range(n_exp)])\n",
    "\n",
    "temp_ft_diff = np.asarray([float(ds_av_summer[i].temp.isel(pfull=ind_ft).sel(lat=slice(lat_subtrop_min, lat_subtrop_max)).mean() - \n",
    "            ds_av_summer[i].temp.isel(pfull=ind_ft).sel(lat=slice(lat_equator_min, lat_equator_max)).mean()) for i in range(n_exp)])"
   ],
   "outputs": [],
   "execution_count": null
  },
  {
   "cell_type": "code",
   "metadata": {},
   "source": [
    "def omega_power_scaling(omega, power, m, c):\n",
    "    return m * omega**power\n",
    "\n",
    "mse_fit_params = scipy.optimize.curve_fit(omega_power_scaling, omega, mse_diff, p0=[0.5, 1557.93018518, 0])[0]\n",
    "omega_array = np.linspace(0, 0.0003, 30)\n",
    "\n",
    "fig, ax = plt.subplots(1,1, figsize=(width['one_col'], width['one_col']/ar))\n",
    "ax.plot(omega, mse_diff, marker='o')\n",
    "ax.plot(omega_array, omega_power_scaling(omega_array, *mse_fit_params), color='k', linestyle=':')\n",
    "# ax.plot(np.log10(omega), temp_ft_diff, marker='o')\n",
    "ax.set_ylabel('$\\Delta$ MSE [kJ/kg]')\n",
    "ax.set_xlabel('$\\Omega$ [s$^{-1}$]')\n",
    "ax.set_xlim(0, 0.0003)\n",
    "ax.set_ylim(0, 25)\n",
    "print('Fit results: Power = {:.2f}, Gradient = {:.0f}, Intercept = {:.2f}'.format(mse_fit_params[0], mse_fit_params[1], mse_fit_params[2]))"
   ],
   "outputs": [],
   "execution_count": null
  },
  {
   "cell_type": "code",
   "metadata": {},
   "source": [
    "fig, ax = plt.subplots(1,1, figsize=(width['one_col'], width['one_col']/ar))\n",
    "ax.plot(omega**mse_fit_params[0], mse_diff, marker='o')\n",
    "ax.plot(omega_array**mse_fit_params[0], mse_fit_params[1]*omega_array**mse_fit_params[0]+mse_fit_params[2], color='k', linestyle=':')\n",
    "ax.set_ylim(0, 25)\n",
    "ax.set_xlim(0, 0.0003**mse_fit_params[0])\n",
    "ax.set_ylabel('$\\Delta$ MSE [kJ/kg]')\n",
    "ax.set_xlabel('$\\Omega**{:.2f}$'.format(mse_fit_params[0]))"
   ],
   "outputs": [],
   "execution_count": null
  },
  {
   "cell_type": "markdown",
   "metadata": {},
   "source": [
    "### $T_{FT}$ Deviation\n",
    "We expect near-surface MSE to be related to $T_{FT}$, so we plot $T_{FT}$ vs $\\Omega$ here."
   ]
  },
  {
   "cell_type": "code",
   "metadata": {},
   "source": [
    "temp_ft_fit_params = scipy.optimize.curve_fit(omega_power_scaling, omega, temp_ft_diff, p0=[0.25, 150, 0])[0]\n",
    "\n",
    "fig, ax = plt.subplots(1,1, figsize=(width['one_col'], width['one_col']/ar))\n",
    "ax.plot(omega, temp_ft_diff, marker='o')\n",
    "ax.plot(omega_array, omega_power_scaling(omega_array, *temp_ft_fit_params), color='k', linestyle=':')\n",
    "# ax.plot(np.log10(omega), temp_ft_diff, marker='o')\n",
    "ax.set_ylabel('$\\Delta T_{FT}$ [K]')\n",
    "ax.set_xlabel('$\\Omega$ [s$^{-1}$]')\n",
    "ax.set_xlim(0, 0.0003)\n",
    "ax.set_ylim(0, 12.5)\n",
    "print('Fit results: Power = {:.2f}, Gradient = {:.0f}, Intercept = {:.2f}'.format(temp_ft_fit_params[0], temp_ft_fit_params[1],\n",
    "                                                                                  temp_ft_fit_params[2]))"
   ],
   "outputs": [],
   "execution_count": null
  },
  {
   "cell_type": "code",
   "metadata": {},
   "source": [
    "fig, ax = plt.subplots(1,1, figsize=(width['one_col'], width['one_col']/ar))\n",
    "ax.plot(np.log(omega), np.log(mse_diff+2.2783), marker='o')\n",
    "# ax.plot(np.log10(omega), temp_ft_diff, marker='o')\n",
    "ax.set_ylabel('$\\Delta$ MSE [kJ/kg]')\n",
    "ax.set_xlabel('$\\sqrt{\\Omega}$ [s$^{-1}$]')"
   ],
   "outputs": [],
   "execution_count": null
  },
  {
   "cell_type": "code",
   "metadata": {},
   "source": [
    "fig, ax = plt.subplots(1,1, figsize=(width['one_col'], width['one_col']/ar))\n",
    "ax.plot(omega, mse_lat_peak, marker='o')\n",
    "ax.set_xlabel('$\\Omega$ [s$^{-1}$]')\n",
    "ax.set_ylabel('MSE peak Latitude [deg]')"
   ],
   "outputs": [],
   "execution_count": null
  },
  {
   "cell_type": "markdown",
   "metadata": {},
   "source": [
    "## Circulation Analysis"
   ]
  },
  {
   "cell_type": "code",
   "metadata": {},
   "source": [
    "for i in range(n_exp):\n",
    "    plt.plot(ds[0].lat, ds_av_summer[i].ucomp.isel(pfull=ind_ft), color=color_seq_rot[i])\n",
    "plt.xlim(-90, 90)\n",
    "plt.xlabel('Latitude [deg]')\n",
    "plt.ylabel('$u$ [m/s]')"
   ],
   "outputs": [],
   "execution_count": null
  },
  {
   "cell_type": "code",
   "metadata": {},
   "source": [
    "ds_circulation = []\n",
    "for i in range(n_exp):  \n",
    "    ds_use = isca_tools.load_dataset(exp_dir + exp_names[i]).isel(time=slice(time_ind_start, time_ind_final))[['ucomp', 'vcomp', 'omega', 'temp']].load()\n",
    "    # ds_use = annual_time_slice(ds_use, include_months=[12,1,2]).mean(dim=['time', 'lon'])\n",
    "    ds_use = annual_time_slice(ds_use, include_months=[6,7,8]).mean(dim=['time', 'lon'])\n",
    "    ds_circulation += [ds_use]"
   ],
   "outputs": [],
   "execution_count": null
  },
  {
   "cell_type": "code",
   "metadata": {},
   "source": [
    "p_upper_cell = 300\n",
    "for i in range(n_exp):\n",
    "    plt.plot(ds[0].lat, ds_circulation[i].ucomp.sel(pfull=p_upper_cell, method='nearest'), color=color_seq_rot[i])\n",
    "    plt.plot(ds[0].lat, -1000*ds_circulation[i].omega.sel(pfull=500, method='nearest'), color=color_seq_rot[i], linestyle=':')\n",
    "# ds_use.sel(pfull=200, method='nearest').plot()\n",
    "# ds_use.sel(pfull=500, method='nearest').plot()\n",
    "# ds_use.sel(pfull=300, method='nearest').plot()\n",
    "plt.axhline(0, color='k', linestyle=':')\n",
    "plt.xlim(-50, 50)"
   ],
   "outputs": [],
   "execution_count": null
  },
  {
   "cell_type": "code",
   "metadata": {},
   "source": [
    "n_p = ds_circulation[0].pfull.size\n",
    "n_lat = ds_circulation[0].lat.size\n",
    "stream = np.zeros((n_exp, n_p, n_lat))\n",
    "cos_lat = np.asarray(np.cos(np.deg2rad(ds[0].lat)))\n",
    "for k in range(n_exp):\n",
    "    for i in range(n_p):\n",
    "        stream[k, i] = integrate.simpson(ds_circulation[k].vcomp[:i+1], ds_circulation[k].pfull[:i+1] * 100, axis=0)\n",
    "        stream[k, i] = 2 * np.pi * radius_earth * cos_lat[np.newaxis] / g * stream[k, i]  # get into correct units of kg/s"
   ],
   "outputs": [],
   "execution_count": null
  },
  {
   "cell_type": "code",
   "metadata": {},
   "source": [
    "vmax = np.abs(stream).max()\n",
    "fig, ax = plt.subplots(1, n_exp, figsize=(n_exp*width['one_col'], width['one_col']/ar), sharex=True, sharey=True)\n",
    "if n_exp == 1:\n",
    "    ax = [ax]\n",
    "for i in range(n_exp):\n",
    "    im = ax[i].pcolormesh(ds_circulation[0].lat, ds_circulation[0].pfull, stream[i], \n",
    "                          cmap='bwr', shading='gouraud', vmin=-vmax, vmax=vmax)\n",
    "    ax[i].axvline(lat_land_min, color='k', linestyle=':')\n",
    "    ax[i].axvline(lat_land_max, color='k', linestyle=':')\n",
    "    ax[i].axvline(0, color='k', lw=ax_linewidth)\n",
    "ax[0].invert_yaxis()\n",
    "ax[0].set_xlim(-20, 50)"
   ],
   "outputs": [],
   "execution_count": null
  },
  {
   "cell_type": "code",
   "metadata": {},
   "source": [
    "vmax = np.max([np.abs(ds_circulation[i].omega).max() for i in range(n_exp)])\n",
    "fig, ax = plt.subplots(1, n_exp, figsize=(n_exp*width['one_col'], width['one_col']/ar), sharex=True, sharey=True)\n",
    "if n_exp == 1:\n",
    "    ax = [ax]\n",
    "for i in range(n_exp):\n",
    "    im = ax[i].pcolormesh(ds_circulation[0].lat, ds_circulation[0].pfull, ds_circulation[i].omega, \n",
    "                          cmap='bwr_r', shading='gouraud', vmin=-vmax, vmax=vmax)\n",
    "    ax[i].axvline(lat_land_min, color='k', linestyle=':')\n",
    "    ax[i].axvline(lat_land_max, color='k', linestyle=':')\n",
    "    ax[i].axvline(0, color='k', lw=ax_linewidth)\n",
    "ax[0].invert_yaxis()\n",
    "ax[0].set_xlim(-20, 50)"
   ],
   "outputs": [],
   "execution_count": null
  },
  {
   "cell_type": "code",
   "metadata": {},
   "source": [
    "n_year_days = 360\n",
    "wind_pressure_ft = np.zeros((n_exp, n_year_days, ds[0].coords['lat'].size))\n",
    "precipitation_annual_mean = np.zeros((n_exp, n_year_days, ds[0].coords['lat'].size))\n",
    "convflag_annual_mean = np.zeros((n_exp, n_year_days, ds[0].coords['lat'].size))\n",
    "klzbs_annual_mean = np.zeros((n_exp, n_year_days, ds[0].coords['lat'].size))\n",
    "for i in tqdm(range(n_exp)):\n",
    "    ds_use = isca_tools.load_dataset(exp_dir + exp_names[i])[['omega', 'precipitation', 'convflag', 'klzbs']]\n",
    "    ds_use = ds_use.sel(pfull=pressure_ft, method='nearest')       # just keep free troposphere pressure\n",
    "    # Take zonal and time mean\n",
    "    ds_use = ds_use.sel(time=slice(use_time_start, np.inf)).mean(dim='lon')\n",
    "    ds_use = annual_mean(ds_use).load()\n",
    "    wind_pressure_ft[i] = ds_use.omega.to_numpy()\n",
    "    precipitation_annual_mean[i] = ds_use.precipitation.to_numpy()\n",
    "    convflag_annual_mean[i] = ds_use.convflag.to_numpy()\n",
    "    klzbs_annual_mean[i] = ds_use.klzbs.to_numpy()"
   ],
   "outputs": [],
   "execution_count": null
  },
  {
   "cell_type": "code",
   "metadata": {},
   "source": [
    "month_ticks = (np.arange(15,12*30+15,30), ['J','F','M','A','M','J','J','A','S','O','N','D'])\n",
    "\n",
    "fig, ax = plt.subplots(1,n_exp, figsize=(n_exp*width['one_col'], width['one_col']/ar), sharex=True, sharey=True)\n",
    "if n_exp == 1:\n",
    "    ax = [ax]\n",
    "for i in range(n_exp):\n",
    "    im = ax[i].pcolormesh(np.arange(n_year_days)+0.5, ds[0].lat, np.transpose(wind_pressure_ft[i]), cmap='bwr_r', vmin=-0.2, vmax=0.2)\n",
    "    ax[i].axhline(0, color='k', lw=ax_linewidth)\n",
    "    ax[i].axhline(lat_land_min, color='k', linestyle=':')\n",
    "    ax[i].axhline(lat_land_max, color='k', linestyle=':')\n",
    "plt.colorbar(im, ax=ax, label='$[\\omega]$ / $Pas^{-1}$')\n",
    "ax[0].set_xticks(*month_ticks)\n",
    "ax[0].set_ylabel('Latitude')\n",
    "ax[0].set_title(f'Vertical velocity at $p={pressure_ft}hPa$');"
   ],
   "outputs": [],
   "execution_count": null
  },
  {
   "cell_type": "code",
   "metadata": {},
   "source": [
    "vmax = np.max(precipitation_annual_mean)\n",
    "fig, ax = plt.subplots(1,n_exp, figsize=(n_exp*width['one_col'], width['one_col']/ar), sharex=True, sharey=True)\n",
    "if n_exp == 1:\n",
    "    ax = [ax]\n",
    "for i in range(n_exp):\n",
    "    im = ax[i].pcolormesh(np.arange(n_year_days)+0.5, ds[0].lat, np.transpose(precipitation_annual_mean[i]), vmin=0, vmax=vmax)\n",
    "    ax[i].axhline(0, color='k', lw=ax_linewidth)\n",
    "    ax[i].axhline(lat_land_min, color='r', linestyle=':')\n",
    "    ax[i].axhline(lat_land_max, color='r', linestyle=':')\n",
    "plt.colorbar(im, ax=ax, label='Precipitation [kgm$^{-2}$s$^{-1}$]')\n",
    "ax[0].set_xticks(*month_ticks)\n",
    "ax[0].set_ylabel('Latitude');"
   ],
   "outputs": [],
   "execution_count": null
  },
  {
   "metadata": {},
   "cell_type": "code",
   "source": [
    "fig, ax = plt.subplots(1,n_exp, figsize=(n_exp*width['one_col'], width['one_col']/ar), sharex=True, sharey=True)\n",
    "if n_exp == 1:\n",
    "    ax = [ax]\n",
    "for i in range(n_exp):\n",
    "    im = ax[i].pcolormesh(np.arange(n_year_days)+0.5, ds[0].lat, np.transpose(convflag_annual_mean[i]), vmin=0, vmax=2, cmap='bwr')\n",
    "    ax[i].axhline(0, color='k', lw=ax_linewidth)\n",
    "    ax[i].axhline(lat_land_min, color='r', linestyle=':')\n",
    "    ax[i].axhline(lat_land_max, color='r', linestyle=':')\n",
    "plt.colorbar(im, ax=ax, label='Convflag')\n",
    "ax[0].set_xticks(*month_ticks)\n",
    "ax[0].set_ylabel('Latitude');"
   ],
   "outputs": [],
   "execution_count": null
  },
  {
   "metadata": {},
   "cell_type": "code",
   "source": [
    "fig, ax = plt.subplots(1,n_exp, figsize=(n_exp*width['one_col'], width['one_col']/ar), sharex=True, sharey=True)\n",
    "if n_exp == 1:\n",
    "    ax = [ax]\n",
    "for i in range(n_exp):\n",
    "    im = ax[i].pcolormesh(np.arange(n_year_days)+0.5, ds[0].lat, np.transpose(lzb(klzbs_annual_mean[i])), vmin=200, vmax=800, cmap='bwr_r')\n",
    "    ax[i].axhline(0, color='k', lw=ax_linewidth)\n",
    "    ax[i].axhline(lat_land_min, color='r', linestyle=':')\n",
    "    ax[i].axhline(lat_land_max, color='r', linestyle=':')\n",
    "plt.colorbar(im, ax=ax, label='LNB [hPa]')\n",
    "ax[0].set_xticks(*month_ticks)\n",
    "ax[0].set_ylabel('Latitude');"
   ],
   "outputs": [],
   "execution_count": null
  },
  {
   "cell_type": "markdown",
   "metadata": {},
   "source": [
    "### Angular Momentum\n",
    "The zonal wind contribution (dotted line) to the mean summer angular momentum is very small. The angular momentum at the top of the cell (300hPa) is thus clearly not constant with latitude."
   ]
  },
  {
   "cell_type": "code",
   "metadata": {},
   "source": [
    "ang_mom_ucomp = np.zeros((n_exp, n_lat))\n",
    "ang_mom_omega_comp = np.zeros((n_exp, n_lat))\n",
    "for i in range(n_exp):\n",
    "    ang_mom_ucomp[i] = ds_circulation[i].ucomp.sel(pfull=p_upper_cell, method='nearest') * cos_lat * radius_earth\n",
    "    ang_mom_omega_comp[i] = omega[i] * cos_lat * radius_earth * cos_lat * radius_earth"
   ],
   "outputs": [],
   "execution_count": null
  },
  {
   "cell_type": "code",
   "metadata": {},
   "source": [
    "ind_equator = int(np.abs(ds[0].lat).argmin())"
   ],
   "outputs": [],
   "execution_count": null
  },
  {
   "cell_type": "code",
   "metadata": {},
   "source": [
    "for i in range(n_exp):\n",
    "    plt.plot(ds[0].lat, (ang_mom_ucomp[i]+ang_mom_omega_comp[i])/(ang_mom_ucomp[i]+ang_mom_omega_comp[i])[ind_equator], color=color_seq_rot[i])\n",
    "    # plt.plot(ds[0].lat, ang_mom_ucomp[i]+ang_mom_omega_comp[i], color=color_seq_rot[i], linestyle=':')\n",
    "    # plt.plot(ds[0].lat, ang_mom_omega_comp[i], color=color_seq_rot[i], linestyle='-')\n",
    "plt.plot(ds[0].lat, (ang_mom_omega_comp[i])/(ang_mom_omega_comp[i])[ind_equator], color='k', lw=5, alpha=0.2)\n",
    "# ds_use.sel(pfull=200, method='nearest').plot()\n",
    "# ds_use.sel(pfull=500, method='nearest').plot()\n",
    "# ds_use.sel(pfull=300, method='nearest').plot()\n",
    "# plt.axhline(0, color='k', linestyle='-', lw=ax_linewidth)\n",
    "plt.xlim(-10, 60)\n",
    "plt.ylim(0.2, 1.05)\n",
    "plt.axvline(0, color='k', lw=ax_linewidth)\n",
    "plt.axvline(lat_land_min, color='k', linestyle=':')\n",
    "plt.xlabel('Latitude [deg]')\n",
    "plt.ylabel(f'Angular Momentum ({p_upper_cell}hPa)');\n",
    "# plt.ylim(-0.1e10, 1.25e10)"
   ],
   "outputs": [],
   "execution_count": null
  },
  {
   "cell_type": "code",
   "metadata": {},
   "source": [
    "def get_u_thermal(ds, rot_rate):\n",
    "    # Axis 0 is pressure, axis 1 is latitude and axis 2 is lon_time or not included\n",
    "    # Equation 1 in the paper\n",
    "    pressure = ds.pfull.to_numpy() * 100\n",
    "    if 'lon' in ds:\n",
    "        integrand = np.gradient(ds.temp, np.deg2rad(ds.lat), axis=1)/pressure[:, np.newaxis, np.newaxis]\n",
    "        f_coriolis = 2 * rot_rate * np.sin(np.deg2rad(ds.lat).to_numpy())[:, np.newaxis]\n",
    "    else:\n",
    "        integrand = np.gradient(ds.temp, np.deg2rad(ds.lat), axis=1)/pressure[:, np.newaxis]\n",
    "        f_coriolis = 2 * rot_rate * np.sin(np.deg2rad(ds.lat).to_numpy())\n",
    "    return scipy.integrate.simpson(integrand, pressure, axis=0) * R/(radius_earth * f_coriolis)\n",
    "\n",
    "u_thermal = np.zeros((n_exp, n_lat))\n",
    "u_ang_mom_cons = np.zeros((n_exp, n_lat))\n",
    "for i in range(n_exp):\n",
    "    u_thermal[i] = get_u_thermal(ds_circulation[i].sel(pfull=slice(p_upper_cell, np.inf)).isel(pfull=slice(None, None, -1)), omega[i])\n",
    "    u_ang_mom_cons[i] = omega[i] * radius_earth * (np.cos(np.deg2rad(20))-cos_lat**2)/cos_lat"
   ],
   "outputs": [],
   "execution_count": null
  },
  {
   "cell_type": "code",
   "metadata": {},
   "source": [
    "fig, ax = plt.subplots(1,1, figsize=(width['one_col']*2, width['one_col']*2/ar))\n",
    "for i in range(n_exp):\n",
    "    ax.plot(ds_circulation[i].lat, ds_circulation[i].sel(pfull=p_upper_cell, method='nearest').ucomp, color=color_seq_rot[i], lw=1)\n",
    "    ax.plot(ds_circulation[i].lat, u_thermal[i], color=color_seq_rot[i], linestyle='--', lw=1)\n",
    "    ax.plot(ds_circulation[i].lat, u_ang_mom_cons[i], color=color_seq_rot[i], linestyle=':', lw=1)\n",
    "ax.set_xlim(-10, 60)\n",
    "ax.set_ylim(-30, 50)\n",
    "ax.set_xlabel('Latitude [deg]')\n",
    "ax.set_ylabel(f'$u$ ({p_upper_cell}hPa) [m/s]')\n",
    "ax.axhline(0, color='k', lw=ax_linewidth)\n",
    "ax.axvline(0, color='k', lw=ax_linewidth)\n",
    "ax.axvline(lat_land_min, color='k', linestyle=':')"
   ],
   "outputs": [],
   "execution_count": null
  },
  {
   "cell_type": "code",
   "metadata": {},
   "source": "",
   "outputs": [],
   "execution_count": null
  }
 ],
 "metadata": {
  "kernelspec": {
   "display_name": "Python 3 (ipykernel)",
   "language": "python",
   "name": "python3"
  },
  "language_info": {
   "codemirror_mode": {
    "name": "ipython",
    "version": 3
   },
   "file_extension": ".py",
   "mimetype": "text/x-python",
   "name": "python",
   "nbconvert_exporter": "python",
   "pygments_lexer": "ipython3",
   "version": "3.9.13"
  }
 },
 "nbformat": 4,
 "nbformat_minor": 1
}
