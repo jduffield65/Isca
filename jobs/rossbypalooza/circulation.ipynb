{
 "cells": [
  {
   "cell_type": "markdown",
   "metadata": {},
   "source": [
    "# Circulation\n",
    "This plots the stream function when monsoon is occuring in summer, and just prior to this at the equinox."
   ]
  },
  {
   "cell_type": "code",
   "metadata": {
    "ExecuteTime": {
     "end_time": "2024-09-13T13:47:31.618893Z",
     "start_time": "2024-09-13T13:47:30.443574Z"
    }
   },
   "source": [
    "import copy\n",
    "import sys\n",
    "import os\n",
    "# REMOTE - So can access functions in isca_tools which is in home/Isca directory\n",
    "# sys.path.append(os.path.join(os.environ['HOME'], 'Isca'))\n",
    "# LOCAL - So can access functions in isca_tools which is in StAndrews/Isca\n",
    "sys.path.append(os.environ['PWD'])\n",
    "import numpy as np\n",
    "import matplotlib.pyplot as plt\n",
    "import xarray as xr\n",
    "import scipy.optimize\n",
    "from tqdm import tqdm\n",
    "from scipy import integrate\n",
    "# Use custom matplotlib style for publishing\n",
    "plt.style.use(os.environ['PWD']+'/jobs/tau_sweep/aquaplanet/publish_figures/publish.mplstyle')\n",
    "import matplotlib\n",
    "import matplotlib.animation\n",
    "from matplotlib.animation import FuncAnimation\n",
    "from IPython.display import HTML\n",
    "# matplotlib.rcParams['lines.linewidth'] = 1.2          # make lines bigger for presentation"
   ],
   "outputs": [],
   "execution_count": 1
  },
  {
   "metadata": {
    "ExecuteTime": {
     "end_time": "2024-09-13T13:47:32.001686Z",
     "start_time": "2024-09-13T13:47:31.626073Z"
    }
   },
   "cell_type": "code",
   "source": [
    "import isca_tools\n",
    "from isca_tools.utils.moist_physics import moist_static_energy, sphum_sat\n",
    "from isca_tools.utils.constants import g, R, radius_earth, c_p\n",
    "from isca_tools.utils import area_weighting, annual_time_slice\n",
    "from isca_tools.utils.ds_slicing import annual_mean\n",
    "from isca_tools.utils.circulation import get_stream"
   ],
   "outputs": [
    {
     "name": "stderr",
     "output_type": "stream",
     "text": [
      "2024-09-13 14:47:31,634 - isca - WARNING - Environment variable GFDL_SOC not set, but this is only required if using SocratesCodebase. Setting to None\n"
     ]
    }
   ],
   "execution_count": 2
  },
  {
   "cell_type": "code",
   "metadata": {
    "ExecuteTime": {
     "end_time": "2024-09-13T13:47:34.604234Z",
     "start_time": "2024-09-13T13:47:32.002504Z"
    }
   },
   "source": [
    "# Load dataset - at surface and in free troposphere\n",
    "pressure_ft = 500               # Desired approximate pressure of free troposphere (hPa)\n",
    "\n",
    "# Load dataset\n",
    "# exp_dir = 'rossbypalooza/lat_20/1'                # land with fixed SST\n",
    "# time_start = 100\n",
    "exp_dir = 'rossbypalooza/depth=20/lat_10/base'                # land with fixed SST\n",
    "time_start = 0\n",
    "# exp_dir = 'tau_sweep/aquaplanet/depth=1/k=1'       # aquaplanet\n",
    "# time_start = 360*2                                  # skip first 2 years for aquaplanet when allow to spin up\n",
    "\n",
    "# only keep variables required to compute relative humidity and MSE\n",
    "var_keep = ['ucomp', 'vcomp', 'omega', 'temp', 'height', 'precipitation', 'sphum', 't_surf']\n",
    "# time_ind_start = 0  \n",
    "\n",
    "# time_ind_final = 1467       # so both experiments are of same length\n",
    "time_final = np.inf\n",
    "\n",
    "ds_use = isca_tools.load_dataset(exp_dir).sel(time=slice(time_start, time_final))[var_keep]\n",
    "# ds_use = annual_time_slice(ds_use, include_months=[12,1,2]).mean(dim=['time', 'lon'])\n",
    "ds = {}\n",
    "days_pre = np.arange(81, 101)+34\n",
    "days_monsoon = np.arange(161, 181)+34\n",
    "# days_pre = np.concatenate((np.arange(30), np.arange(330, 360)))\n",
    "# days_pre = np.arange(330, 360)\n",
    "# days_monsoon = np.arange(5*30, 6*30)\n",
    "with tqdm(total=2, position=0, leave=True) as pbar:\n",
    "    # ds['ONDJFM'] =  annual_time_slice(ds_use, include_months=[10,11,12,1,2,3]).mean(dim=['time', 'lon']).load()\n",
    "    ds['prior'] =  annual_time_slice(ds_use, include_days=days_pre).mean(dim=['time', 'lon']).load()\n",
    "    pbar.update(1)\n",
    "    # ds['JJA'] = annual_time_slice(ds_use, include_months=[6,7,8]).mean(dim=['time', 'lon']).load()\n",
    "    ds['monsoon'] =  annual_time_slice(ds_use, include_days=days_monsoon).mean(dim=['time', 'lon']).load()\n",
    "    pbar.update(1)\n",
    "\n",
    "namelist = isca_tools.load_namelist(exp_dir)  # Need this for albedo_value\n",
    "albedo = namelist['mixed_layer_nml']['albedo_value']\n",
    "tau_sw = namelist['two_stream_gray_rad_nml']['atm_abs']\n",
    "tau_lw = namelist['two_stream_gray_rad_nml']['odp']\n",
    "try:\n",
    "    omega = namelist['constants_nml']['omega']\n",
    "except KeyError:\n",
    "    omega = 7.2921150e-05  # default earth value\n",
    "     \n",
    "pfull = ds_use.pfull\n",
    "n_pressure = len(pfull)"
   ],
   "outputs": [
    {
     "name": "stderr",
     "output_type": "stream",
     "text": [
      "/Users/joshduffield/Documents/StAndrews/Isca/isca_tools/utils/load.py:52: UserWarning: First month saved is 121 not 1.\n",
      "  warnings.warn(f'First month saved is {first_month} not 1.')\n",
      "  0%|          | 0/2 [00:00<?, ?it/s]\n",
      "\n",
      "KeyboardInterrupt\n",
      "\n"
     ]
    }
   ],
   "execution_count": 3
  },
  {
   "cell_type": "code",
   "metadata": {},
   "source": [
    "pressure_from_level_func = scipy.interpolate.interp1d(np.arange(len(pfull)), pfull)\n",
    "def lzb(k, interp_func=pressure_from_level_func):\n",
    "    # Offset by -1 because fortran starts with 1, but python starts with 0\n",
    "    # ds.t_ref will match exactly ds.temp if -2 used as offset, but this is not the LNB.\n",
    "    if np.size(k) == 1:\n",
    "        return float(interp_func(k-1))\n",
    "    else:\n",
    "        return interp_func(k-1)"
   ],
   "outputs": [],
   "execution_count": null
  },
  {
   "cell_type": "markdown",
   "metadata": {},
   "source": [
    "## Get datasets\n",
    "Get one dataset for summer for each $\\kappa$, combining all latitudes: `ds_all`. This combines the all or just tbe summer months in each hemisphere, e.g. negative latitudes will only correspond to times in December, January or February."
   ]
  },
  {
   "cell_type": "code",
   "metadata": {},
   "source": [
    "# If true, will save all figures to desktop - option to save specific figures later on.\n",
    "save_fig = False\n",
    "# if publishing figure, use high dpi\n",
    "publish_fig = True\n",
    "\n",
    "ar = 4/3        # aspect ratio (width/height)\n",
    "# Details required for Journal of Climate Figures\n",
    "low_dpi = 100\n",
    "dpi = {'monochrome': 1100, 'combination': 800, 'halftone': 300}\n",
    "width = {'one_col': 3.2, 'two_col': 5.5}        # width in inches \n",
    "save_pad_inches = 0.05\n",
    "\n",
    "# Default parameters\n",
    "default_colors = plt.rcParams['axes.prop_cycle'].by_key()['color']\n",
    "keys_season = list(ds.keys())\n",
    "colors_season = {keys_season[i]: default_colors[i] for i in range(len(keys_season))}\n",
    "ax_linewidth = plt.rcParams['axes.linewidth']\n",
    "\n",
    "def moving_average(x, w):\n",
    "    return np.convolve(x, np.ones(w), 'valid') / w"
   ],
   "outputs": [],
   "execution_count": null
  },
  {
   "metadata": {},
   "cell_type": "code",
   "source": [
    "p_upper_cell = 300\n",
    "ind_upper_cell = int(np.abs(pfull - p_upper_cell).argmin())\n",
    "ind_surf = int(np.abs(pfull - 999999999999).argmin())\n",
    "color_land = 'g'\n",
    "lw_land = 4\n",
    "\n",
    "lat_lims_plot = [-45, 45]"
   ],
   "outputs": [],
   "execution_count": null
  },
  {
   "metadata": {},
   "cell_type": "code",
   "source": [
    "# Show where the land is\n",
    "save_land_fig = False\n",
    "\n",
    "job_dir = os.path.join(os.path.dirname(os.environ['GFDL_DATA']), 'jobs')\n",
    "land_file_name = os.path.join(job_dir, exp_dir, 'land.nc')\n",
    "is_land_data = os.path.exists(land_file_name)\n",
    "if is_land_data:\n",
    "    fig, ax = plt.subplots(1,1, figsize=(width['one_col'], width['one_col']/ar))\n",
    "    isca_tools.plot.show_land(land_file_name, fig=fig, ax=ax)\n",
    "    lat_land = isca_tools.utils.land.get_land_coords(land_file=land_file_name)[0]       # get the longitude coordinates of land\n",
    "    lat_land_min = float(lat_land.min())\n",
    "    lat_land_max = float(lat_land.max())\n",
    "    if save_fig or save_land_fig:\n",
    "        fig.savefig(f\"/Users/joshduffield/Desktop/land_coords.pdf\",\n",
    "                    dpi=dpi['combination'] if publish_fig else low_dpi, bbox_inches='tight', pad_inches=save_pad_inches)\n",
    "else:\n",
    "    lat_land_min = None\n",
    "    lat_land_max = None\n",
    "    \n",
    "def show_land(ax, lat_land_min=lat_land_min, lat_land_max=lat_land_max, lat_ax='x', color_land='g', lw_land=4):\n",
    "    if is_land_data:\n",
    "        if not isinstance(ax, (list, np.ndarray)):\n",
    "            raise ValueError(f'ax should be a list or numpy array, but given is {type(ax)}')\n",
    "        for i in range(len(ax)):\n",
    "            if lat_ax == 'x':\n",
    "                var = ax[i].get_ylim()[0]\n",
    "                xlim = ax[i].get_xlim()\n",
    "                ax[i].hlines(var, lat_land_min, lat_land_max, color=color_land, lw=lw_land)\n",
    "                ax[i].set_ylim(var, ax[i].get_ylim()[1])\n",
    "                ax[i].set_xlim(xlim)\n",
    "            elif lat_ax == 'y':\n",
    "                var = ax[i].get_xlim()[0]\n",
    "                ylim = ax[i].get_ylim()\n",
    "                ax[i].vlines(var, lat_land_min, lat_land_max, color=color_land, lw=lw_land)\n",
    "                ax[i].set_xlim(var, ax[i].get_xlim()[1])\n",
    "                ax[i].set_ylim(ylim)\n",
    "            else:\n",
    "                raise ValueError(f'lat_ax must be either x or y, but {lat_ax} was given.')"
   ],
   "outputs": [],
   "execution_count": null
  },
  {
   "metadata": {},
   "cell_type": "code",
   "source": [
    "fig, ax = plt.subplots(1,1, figsize=(width['one_col'], width['one_col']/ar))\n",
    "for key in ds:\n",
    "    ds[key].temp.sel(lat=slice(lat_lims_plot[0]-5, lat_lims_plot[1]+5)).isel(pfull=ind_surf).plot(ax=ax, label=key)\n",
    "show_land([ax])\n",
    "ax.axvline(0, color='k', lw=ax_linewidth)\n",
    "ax.set_ylabel('Near-surface temperature [K]')\n",
    "ax.set_title(None)\n",
    "ax.set_xlabel('Latitude [deg]')\n",
    "ax.set_xlim(lat_lims_plot)\n",
    "ax.legend();"
   ],
   "outputs": [],
   "execution_count": null
  },
  {
   "cell_type": "markdown",
   "metadata": {},
   "source": "## Wind Reversal"
  },
  {
   "cell_type": "code",
   "metadata": {},
   "source": [
    "fig, ax = plt.subplots(2,1, figsize=(width['one_col'], 2*width['one_col']/ar), sharex=True)\n",
    "for key in ds:\n",
    "    ax[0].plot(ds[key].lat, ds[key].ucomp.isel(pfull=ind_upper_cell), color=colors_season[key], label=key)\n",
    "    ax[0].plot(ds[key].lat, ds[key].ucomp.isel(pfull=ind_surf), color=colors_season[key], linestyle=':')\n",
    "    ax[1].plot(ds[key].lat, ds[key].vcomp.isel(pfull=ind_upper_cell), color=colors_season[key], \n",
    "               label=f'{p_upper_cell}hPa' if key==list(ds.keys())[0] else None)\n",
    "    ax[1].plot(ds[key].lat, ds[key].vcomp.isel(pfull=ind_surf), color=colors_season[key], linestyle=':', \n",
    "               label='Surface' if key==list(ds.keys())[0] else None)\n",
    "for i in range(len(ax)):\n",
    "    ax[i].axhline(0, color='k', lw=ax_linewidth)\n",
    "    ax[i].axvline(0, color='k', lw=ax_linewidth)\n",
    "show_land(ax)\n",
    "ax[0].legend()\n",
    "ax[1].legend()\n",
    "ax[0].set_xlim(lat_lims_plot)\n",
    "ax[1].set_xlabel('Latitude [deg]')\n",
    "ax[0].set_ylabel('$u$ [m/s]')\n",
    "ax[1].set_ylabel('$v$ [m/s]')"
   ],
   "outputs": [],
   "execution_count": null
  },
  {
   "metadata": {},
   "cell_type": "code",
   "source": [
    "fig, ax = plt.subplots(2,1, figsize=(width['one_col'], 2*width['one_col']/ar), sharey=True)\n",
    "for i, key in enumerate(ds):\n",
    "    ds_use = ds[key].isel(pfull=ind_surf).sel(lat=slice(lat_lims_plot[0]-5, lat_lims_plot[1]+5))\n",
    "    # im = ax[i].pcolormesh(ds_use.lon, ds_use.lat, ds_use.temp)\n",
    "    \n",
    "    pu, pv = (ds_use.ucomp)[::2], (ds_use.vcomp)[::2]\n",
    "    ax[0].quiver(ds_use.temp[::2], ds_use.lat[::2], pu, pv, alpha=0.4, color=colors_season[key], label=key)\n",
    "\n",
    "    ds_use = ds[key].isel(pfull=ind_upper_cell)\n",
    "    pu, pv = (ds_use.ucomp)[::2], (ds_use.vcomp)[::2]\n",
    "    ax[1].quiver(ds_use.temp[::2], ds_use.lat[::2], pu, pv, alpha=0.4, color=colors_season[key])\n",
    "\n",
    "ax[0].set_title('Surface')\n",
    "ax[1].set_title(f'{p_upper_cell}hPa')\n",
    "for i in range(len(ax)):\n",
    "    ax[i].axhline(0, color='k', lw=ax_linewidth)\n",
    "show_land(ax, lat_ax='y')\n",
    "ax[0].legend()\n",
    "ax[1].set_ylim(lat_lims_plot)\n",
    "ax[1].set_xlabel('Near-surface temperature [K]')\n",
    "ax[0].set_ylabel('Latitude [deg]')\n",
    "ax[1].set_ylabel('Latitude [deg]')"
   ],
   "outputs": [],
   "execution_count": null
  },
  {
   "metadata": {},
   "cell_type": "markdown",
   "source": "## Streamfunction\n"
  },
  {
   "metadata": {},
   "cell_type": "code",
   "source": [
    "n_lat = ds[keys_season[0]].lat.size\n",
    "stream = {key: np.zeros((n_pressure, n_lat)) for key in ds}\n",
    "cos_lat = np.asarray(np.cos(np.deg2rad(ds[keys_season[0]].lat)))\n",
    "ang_mom = {key: np.asarray((ds[key].ucomp + omega * radius_earth * cos_lat) * radius_earth * cos_lat) for key in ds}\n",
    "for key in ds:\n",
    "    for i in range(n_pressure):\n",
    "        # integrate from surface each time, hence weird indexing\n",
    "        stream[key][ind_surf-i] = integrate.simpson(ds[key].vcomp[ind_surf-i:ind_surf+1], ds[key].pfull[ind_surf-i:ind_surf+1] * 100, axis=0)\n",
    "        stream[key][ind_surf-i] = 2 * np.pi * radius_earth * cos_lat[np.newaxis] / g * stream[key][ind_surf-i]  # get into correct units of kg/s"
   ],
   "outputs": [],
   "execution_count": null
  },
  {
   "metadata": {},
   "cell_type": "code",
   "source": [
    "fig, ax = plt.subplots(1,2, figsize=(2*width['one_col'], width['one_col']/ar), sharey=True, sharex=True)\n",
    "# if n_exp == 1:\n",
    "#     ax = [ax]\n",
    "# for i in range(n_exp):\n",
    "step_level = omega * radius_earth**2 / 10\n",
    "levels_ang_mom = np.arange(np.min([ang_mom[key].min() for key in ang_mom]), np.max([ang_mom[key].max() for key in ang_mom]) + step_level, \n",
    "                           step_level)\n",
    "step_level = 50e9/2\n",
    "levels_stream = np.arange(-np.max([np.abs(stream[key]).max() for key in ang_mom]), \n",
    "                          np.max([np.abs(stream[key]).max() for key in ang_mom]) + step_level, step_level)\n",
    "for i, key in enumerate(ds):\n",
    "    ax[i].contour(ds[key].lat, ds[key].pfull, stream[key], colors='k', levels = levels_stream)\n",
    "    ax[i].contour(ds[key].lat, ds[key].pfull, ang_mom[key], colors='r', levels = levels_ang_mom)\n",
    "    ax[i].set_title(key)\n",
    "ax[0].invert_yaxis()\n",
    "show_land(ax)\n",
    "# ax[0].invert_yaxis()\n",
    "ax[0].set_xlim(lat_lims_plot)\n",
    "ax[0].set_xlabel('Latitude [deg]')\n",
    "ax[1].set_xlabel('Latitude [deg]')\n",
    "ax[0].set_ylabel('Pressure [hPa]')"
   ],
   "outputs": [],
   "execution_count": null
  },
  {
   "metadata": {},
   "cell_type": "code",
   "source": "ds_annual_mean = annual_mean(isca_tools.load_dataset(exp_dir).sel(time=slice(time_start, time_final))[var_keep].mean(dim='lon')).load()",
   "outputs": [],
   "execution_count": null
  },
  {
   "metadata": {
    "ExecuteTime": {
     "end_time": "2024-10-07T08:27:15.394634Z",
     "start_time": "2024-10-07T08:27:15.142675Z"
    }
   },
   "cell_type": "code",
   "source": [
    "month_names = ['January','February','March','April','May','June','July','August','September','October','November','December']\n",
    "\n",
    "fig, ax = plt.subplots(3,4, figsize=(4*width['one_col'], 3*width['one_col']/ar), sharex=True, sharey=True)\n",
    "ax = ax.flatten()\n",
    "for i in tqdm(range(len(month_names))):\n",
    "    # ds['ONDJFM'] =  annual_time_slice(ds_use, include_months=[10,11,12,1,2,3]).mean(dim=['time', 'lon']).load()\n",
    "    ds_plot =  annual_time_slice(ds_annual_mean, include_months=[i+1]).mean(dim=['time']).load()\n",
    "    ang_mom_plot = np.asarray((ds_plot.ucomp + omega * radius_earth * cos_lat) * radius_earth * cos_lat)\n",
    "    stream_plot = np.zeros((n_pressure, n_lat))\n",
    "    for j in range(n_pressure):\n",
    "        # integrate from surface each time, hence weird indexing\n",
    "        stream_plot[ind_surf-j] = get_stream(ds_plot.vcomp.isel(pfull=np.arange(ind_surf, ind_surf-j-1, -1)), \n",
    "                                    ds_plot.vcomp.isel(pfull=np.arange(ind_surf, ind_surf-j-1, -1)).pfull*100, ds_plot.lat)\n",
    "        # stream_plot[ind_surf-j] = integrate.simpson(ds_plot.vcomp[ind_surf-j:ind_surf+1], ds_plot.pfull[ind_surf-j:ind_surf+1] * 100, axis=0)\n",
    "        # stream_plot[ind_surf-j] = 2 * np.pi * radius_earth * cos_lat / g * stream_plot[ind_surf-j]  # get into correct units of kg/s\n",
    "    ax[i].contour(ds_plot.lat, ds_plot.pfull, stream_plot, colors='k', levels = levels_stream)\n",
    "    ax[i].contour(ds_plot.lat, ds_plot.pfull, ang_mom_plot, colors='r', levels = levels_ang_mom)\n",
    "    ax[i].set_title(month_names[i])\n",
    "fig.supxlabel('Latitude [deg]', fontsize=7, y=0.06)\n",
    "fig.supylabel('Pressure [hPa]', fontsize=7, x=0.09)\n",
    "ax[0].invert_yaxis()\n",
    "ax[0].set_xlim(lat_lims_plot)\n",
    "show_land(ax)"
   ],
   "outputs": [
    {
     "ename": "NameError",
     "evalue": "name 'plt' is not defined",
     "output_type": "error",
     "traceback": [
      "\u001B[0;31m---------------------------------------------------------------------------\u001B[0m",
      "\u001B[0;31mNameError\u001B[0m                                 Traceback (most recent call last)",
      "Cell \u001B[0;32mIn [1], line 3\u001B[0m\n\u001B[1;32m      1\u001B[0m month_names \u001B[38;5;241m=\u001B[39m [\u001B[38;5;124m'\u001B[39m\u001B[38;5;124mJanuary\u001B[39m\u001B[38;5;124m'\u001B[39m,\u001B[38;5;124m'\u001B[39m\u001B[38;5;124mFebruary\u001B[39m\u001B[38;5;124m'\u001B[39m,\u001B[38;5;124m'\u001B[39m\u001B[38;5;124mMarch\u001B[39m\u001B[38;5;124m'\u001B[39m,\u001B[38;5;124m'\u001B[39m\u001B[38;5;124mApril\u001B[39m\u001B[38;5;124m'\u001B[39m,\u001B[38;5;124m'\u001B[39m\u001B[38;5;124mMay\u001B[39m\u001B[38;5;124m'\u001B[39m,\u001B[38;5;124m'\u001B[39m\u001B[38;5;124mJune\u001B[39m\u001B[38;5;124m'\u001B[39m,\u001B[38;5;124m'\u001B[39m\u001B[38;5;124mJuly\u001B[39m\u001B[38;5;124m'\u001B[39m,\u001B[38;5;124m'\u001B[39m\u001B[38;5;124mAugust\u001B[39m\u001B[38;5;124m'\u001B[39m,\u001B[38;5;124m'\u001B[39m\u001B[38;5;124mSeptember\u001B[39m\u001B[38;5;124m'\u001B[39m,\u001B[38;5;124m'\u001B[39m\u001B[38;5;124mOctober\u001B[39m\u001B[38;5;124m'\u001B[39m,\u001B[38;5;124m'\u001B[39m\u001B[38;5;124mNovember\u001B[39m\u001B[38;5;124m'\u001B[39m,\u001B[38;5;124m'\u001B[39m\u001B[38;5;124mDecember\u001B[39m\u001B[38;5;124m'\u001B[39m]\n\u001B[0;32m----> 3\u001B[0m fig, ax \u001B[38;5;241m=\u001B[39m \u001B[43mplt\u001B[49m\u001B[38;5;241m.\u001B[39msubplots(\u001B[38;5;241m3\u001B[39m,\u001B[38;5;241m4\u001B[39m, figsize\u001B[38;5;241m=\u001B[39m(\u001B[38;5;241m4\u001B[39m\u001B[38;5;241m*\u001B[39mwidth[\u001B[38;5;124m'\u001B[39m\u001B[38;5;124mone_col\u001B[39m\u001B[38;5;124m'\u001B[39m], \u001B[38;5;241m3\u001B[39m\u001B[38;5;241m*\u001B[39mwidth[\u001B[38;5;124m'\u001B[39m\u001B[38;5;124mone_col\u001B[39m\u001B[38;5;124m'\u001B[39m]\u001B[38;5;241m/\u001B[39mar), sharex\u001B[38;5;241m=\u001B[39m\u001B[38;5;28;01mTrue\u001B[39;00m, sharey\u001B[38;5;241m=\u001B[39m\u001B[38;5;28;01mTrue\u001B[39;00m)\n\u001B[1;32m      4\u001B[0m ax \u001B[38;5;241m=\u001B[39m ax\u001B[38;5;241m.\u001B[39mflatten()\n\u001B[1;32m      5\u001B[0m \u001B[38;5;28;01mfor\u001B[39;00m i \u001B[38;5;129;01min\u001B[39;00m tqdm(\u001B[38;5;28mrange\u001B[39m(\u001B[38;5;28mlen\u001B[39m(month_names))):\n\u001B[1;32m      6\u001B[0m     \u001B[38;5;66;03m# ds['ONDJFM'] =  annual_time_slice(ds_use, include_months=[10,11,12,1,2,3]).mean(dim=['time', 'lon']).load()\u001B[39;00m\n",
      "\u001B[0;31mNameError\u001B[0m: name 'plt' is not defined"
     ]
    }
   ],
   "execution_count": 1
  },
  {
   "metadata": {},
   "cell_type": "code",
   "source": [
    "n_day_av = 10\n",
    "days_plot = np.arange(1, 361)\n",
    "n_year_days = 360\n",
    "n_frames = len(days_plot)\n",
    "gif_info = {'stream': np.zeros((n_frames, n_pressure, n_lat)), 'omega': np.zeros((n_frames, n_pressure, n_lat)), \n",
    "            'precipitation': np.zeros((n_frames, n_lat)), 'mse': np.zeros((n_frames, n_lat)), 't_surf': np.zeros((n_frames, n_lat))}\n",
    "gif_ax_lims = {key: np.zeros(2) for key in gif_info}\n",
    "for i in tqdm(range(n_frames)):\n",
    "    days_use = np.arange(days_plot[i]-n_day_av, days_plot[i]+n_day_av+1) % n_year_days\n",
    "    days_use[days_use==0] = n_year_days\n",
    "    ds_plot = annual_time_slice(ds_annual_mean, include_days=days_use).mean(dim='time')\n",
    "    for j in range(n_pressure):\n",
    "        # integrate from surface each time, hence weird indexing\n",
    "        gif_info['stream'][i, ind_surf-j] = get_stream(ds_plot.vcomp.isel(pfull=np.arange(ind_surf, ind_surf-j-1, -1)), \n",
    "                                                       ds_plot.vcomp.isel(pfull=np.arange(ind_surf, ind_surf-j-1, -1)).pfull*100, ds_plot.lat)\n",
    "    gif_info['omega'][i] = ds_plot.omega\n",
    "    ds_plot = ds_plot.isel(pfull=ind_surf)\n",
    "    gif_info['precipitation'][i] = ds_plot.precipitation\n",
    "    gif_info['mse'][i] = moist_static_energy(ds_plot.temp, ds_plot.sphum, ds_plot.height)*1000/c_p\n",
    "    gif_info['t_surf'][i] = ds_plot.t_surf\n",
    "for key in gif_info:\n",
    "    if key in ['stream', 'omega']:\n",
    "        gif_ax_lims[key][0] = -np.abs(gif_info[key]).max()\n",
    "        gif_ax_lims[key][1] = -gif_ax_lims[key][0]\n",
    "    elif key=='precipitation':\n",
    "        gif_ax_lims[key][0] = 0\n",
    "        gif_ax_lims[key][1] = np.abs(gif_info[key]).max()\n",
    "    else:\n",
    "        gif_ax_lims[key][0] = gif_info[key].min()\n",
    "        gif_ax_lims[key][1] = gif_info[key].max()\n",
    "step_level = 50e9/2\n",
    "levels_stream = np.arange(gif_ax_lims['stream'][0],\n",
    "                          gif_ax_lims['stream'][1]  + step_level, step_level)"
   ],
   "outputs": [],
   "execution_count": null
  },
  {
   "metadata": {},
   "cell_type": "code",
   "source": [
    "fig, ax = plt.subplots(2, 1, figsize=(6, 6), sharex=True, height_ratios=[3, 1])\n",
    "stream_step = 50e9/2\n",
    "ax2 = ax[1].twinx()\n",
    "ax2.spines.right.set_visible(True)\n",
    "ax2.spines.right.set_color(default_colors[0])\n",
    "ax2.spines.left.set_visible(False)\n",
    "ax2.spines.bottom.set_visible(False)\n",
    "ax2.tick_params(axis='y', colors=default_colors[0])\n",
    "ax[1].spines.left.set_color(default_colors[3])\n",
    "ax[1].tick_params(axis='y', colors=default_colors[3])\n",
    "ax = np.append(ax, ax2)\n",
    "cbar_ax = fig.add_axes([0.9, 0.36, 0.01, 0.5])     # add axes for colorbar\n",
    "\n",
    "def animate(n, fig, var_info, var_ax_lims, stream_step, lat, pfull):\n",
    "    levels_stream = np.arange(var_ax_lims['stream'][0], var_ax_lims['stream'][1]  + stream_step, stream_step)\n",
    "    ax = fig.axes\n",
    "    ax[0].clear() \n",
    "    im = ax[0].pcolormesh(lat, pfull, var_info['omega'][n], \n",
    "                          cmap='bwr', shading='gouraud', vmin=var_ax_lims['omega'][0], vmax=var_ax_lims['omega'][1], alpha=0.8)\n",
    "    if n==0:\n",
    "        fig.colorbar(im, cax=cbar_ax, label='$\\omega$ [Pa/s]', aspect=100, pad=0.01, fraction=0.01)\n",
    "    ax[0].contour(lat, pfull, var_info['stream'][n], colors='k', levels=levels_stream, alpha=0.4)\n",
    "    ax[0].invert_yaxis()\n",
    "    \n",
    "    ax[1].clear() \n",
    "    ax[1].plot(lat, var_info['mse'][n], color=default_colors[3], label='MSE')\n",
    "    ax[1].plot(lat, var_info['t_surf'][n], color=default_colors[3], linestyle=':', label='$T_s$')\n",
    "    ax[1].set_ylim(var_ax_lims['mse'][0], var_ax_lims['mse'][1])\n",
    "    ax[1].legend(loc='upper left')\n",
    "    show_land(ax)\n",
    "    ax[2].clear()\n",
    "    ax[2].plot(lat, var_info['precipitation'][n]*1000)\n",
    "    ax[2].set_ylim(var_ax_lims['precipitation'][0]*1000, var_ax_lims['precipitation'][1]*1000)\n",
    "    \n",
    "    # Axis labels\n",
    "    ax[0].set_ylabel('Pressure [hPa]')\n",
    "    ax[1].set_xlabel('Latitude [deg]')\n",
    "    ax[1].set_ylabel('MSE / Temperature [K]', color=default_colors[3])\n",
    "    ax[2].set_ylabel('Precipitation [gm$^{-2}$s$^{-1}$]', color=default_colors[0])\n",
    "    ax[0].set_title(f'{month_names[int(np.floor(n/30))]} {n%30+1}')\n",
    "\n",
    "anim = FuncAnimation(fig, animate, frames=n_frames, interval=100,\n",
    "                     blit=False, repeat_delay=200, fargs=(fig, gif_info, gif_ax_lims, stream_step, ds_plot.lat, pfull))\n",
    "# plt.close()\n",
    "HTML(anim.to_jshtml())\n"
   ],
   "outputs": [],
   "execution_count": null
  },
  {
   "metadata": {},
   "cell_type": "code",
   "source": [
    "# Save animation\n",
    "writervideo = matplotlib.animation.PillowWriter(fps=6) \n",
    "anim.save(f'/Users/joshduffield/Desktop/stream.gif' , writer=writervideo)"
   ],
   "outputs": [],
   "execution_count": null
  },
  {
   "metadata": {},
   "cell_type": "code",
   "source": "",
   "outputs": [],
   "execution_count": null
  }
 ],
 "metadata": {
  "kernelspec": {
   "display_name": "Python 3 (ipykernel)",
   "language": "python",
   "name": "python3"
  },
  "language_info": {
   "codemirror_mode": {
    "name": "ipython",
    "version": 3
   },
   "file_extension": ".py",
   "mimetype": "text/x-python",
   "name": "python",
   "nbconvert_exporter": "python",
   "pygments_lexer": "ipython3",
   "version": "3.9.13"
  }
 },
 "nbformat": 4,
 "nbformat_minor": 1
}
